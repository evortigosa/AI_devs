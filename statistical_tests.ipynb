{
  "nbformat": 4,
  "nbformat_minor": 0,
  "metadata": {
    "colab": {
      "provenance": [],
      "toc_visible": true
    },
    "kernelspec": {
      "name": "python3",
      "display_name": "Python 3"
    },
    "language_info": {
      "name": "python"
    }
  },
  "cells": [
    {
      "cell_type": "code",
      "source": [
        "\"\"\"\n",
        "Statistical tests always have an important place in data science to make inferences about data.\n",
        "These tests help determine if observed patterns are significant or occurred by chance.\n",
        "\"\"\"\n",
        "\n",
        "import numpy as np\n",
        "import pandas as pd\n",
        "import matplotlib.pyplot as plt"
      ],
      "metadata": {
        "id": "QPZMm6MAYURT"
      },
      "execution_count": null,
      "outputs": []
    },
    {
      "cell_type": "markdown",
      "source": [
        "# Parametric Statistical Tests\n",
        "\n",
        "When to Use Parametric Tests:\n",
        "\n",
        "Parametric tests are appropriate when the data meet specific assumptions, such as the normality\n",
        "of the data distribution and the homogeneity of variances. They are powerful for detecting\n",
        "relationships and differences in data when these assumptions are met.\n",
        "Here are some general guidelines:\n",
        "\n",
        "- Normality: Use parametric tests when the data approximate a normal distribution.\n",
        "- Continuous Data: Parametric tests are suitable for continuous data or when data can be\n",
        "transformed to approximate normality.\n",
        "- Large Sample Size: Parametric tests become robust with larger sample sizes, though specific\n",
        "rules (like n > 30 for the T-test) apply.\n",
        "\n",
        "These tests form the backbone of statistical analysis in many fields, providing tools to make\n",
        "data-driven decisions, test hypotheses, and understand relationships between variables in a\n",
        "structured and rigorous manner."
      ],
      "metadata": {
        "id": "iiseirTjZAdl"
      }
    },
    {
      "cell_type": "code",
      "source": [
        "# Regression Tests\n",
        "\n",
        "\"\"\"\n",
        "Parametric tests are used to make assumptions about the parameters (like mean, and variance) of the\n",
        "population distribution from which the sample is drawn. They are generally more powerful and\n",
        "reliable when their assumptions are met.\n",
        "\"\"\"\n",
        "\n",
        "import statsmodels.api as sm\n",
        "from sklearn.datasets import fetch_california_housing\n",
        "\n",
        "california= fetch_california_housing()\n",
        "X= pd.DataFrame(california.data, columns=california.feature_names)\n",
        "y= california.target\n",
        "X= sm.add_constant(X)\n",
        "\n",
        "# fit the model - ordinary least squares regression\n",
        "model= sm.OLS(y, X).fit()\n",
        "\n",
        "print(model.summary())"
      ],
      "metadata": {
        "colab": {
          "base_uri": "https://localhost:8080/"
        },
        "id": "zRjbCpxSYUUl",
        "outputId": "0583a128-7aa9-4703-fcfb-c13eec72c519"
      },
      "execution_count": null,
      "outputs": [
        {
          "output_type": "stream",
          "name": "stdout",
          "text": [
            "                            OLS Regression Results                            \n",
            "==============================================================================\n",
            "Dep. Variable:                      y   R-squared:                       0.606\n",
            "Model:                            OLS   Adj. R-squared:                  0.606\n",
            "Method:                 Least Squares   F-statistic:                     3970.\n",
            "Date:                Sun, 22 Sep 2024   Prob (F-statistic):               0.00\n",
            "Time:                        15:46:47   Log-Likelihood:                -22624.\n",
            "No. Observations:               20640   AIC:                         4.527e+04\n",
            "Df Residuals:                   20631   BIC:                         4.534e+04\n",
            "Df Model:                           8                                         \n",
            "Covariance Type:            nonrobust                                         \n",
            "==============================================================================\n",
            "                 coef    std err          t      P>|t|      [0.025      0.975]\n",
            "------------------------------------------------------------------------------\n",
            "const        -36.9419      0.659    -56.067      0.000     -38.233     -35.650\n",
            "MedInc         0.4367      0.004    104.054      0.000       0.428       0.445\n",
            "HouseAge       0.0094      0.000     21.143      0.000       0.009       0.010\n",
            "AveRooms      -0.1073      0.006    -18.235      0.000      -0.119      -0.096\n",
            "AveBedrms      0.6451      0.028     22.928      0.000       0.590       0.700\n",
            "Population -3.976e-06   4.75e-06     -0.837      0.402   -1.33e-05    5.33e-06\n",
            "AveOccup      -0.0038      0.000     -7.769      0.000      -0.005      -0.003\n",
            "Latitude      -0.4213      0.007    -58.541      0.000      -0.435      -0.407\n",
            "Longitude     -0.4345      0.008    -57.682      0.000      -0.449      -0.420\n",
            "==============================================================================\n",
            "Omnibus:                     4393.650   Durbin-Watson:                   0.885\n",
            "Prob(Omnibus):                  0.000   Jarque-Bera (JB):            14087.596\n",
            "Skew:                           1.082   Prob(JB):                         0.00\n",
            "Kurtosis:                       6.420   Cond. No.                     2.38e+05\n",
            "==============================================================================\n",
            "\n",
            "Notes:\n",
            "[1] Standard Errors assume that the covariance matrix of the errors is correctly specified.\n",
            "[2] The condition number is large, 2.38e+05. This might indicate that there are\n",
            "strong multicollinearity or other numerical problems.\n"
          ]
        }
      ]
    },
    {
      "cell_type": "markdown",
      "source": [
        "The model explains about 60.6% of the variability in housing prices, as indicated by the R-squared\n",
        "value. Key predictors such as Median Income, Housing Age, Average Number of Rooms, Average Number\n",
        "of Bedrooms, Average Occupancy, Latitude, and Longitude are all statistically significant, with\n",
        "p-values well below the 0.05 threshold. Median Income, for instance, has a positive coefficient\n",
        "of 0.4367, suggesting that an increase in median income is associated with an increase in housing\n",
        "prices. Conversely, the Average Number of Rooms has a negative coefficient, indicating that more\n",
        "rooms are associated with lower housing prices, likely due to other compounding factors in the\n",
        "dataset.\n",
        "\n",
        "The model's F-statistic is 3970 with a p-value of 0.00, underscoring the overall significance of\n",
        "the regression model. Additionally, the high condition number (2.38e+05) suggests potential\n",
        "multicollinearity among the predictors.\n",
        "\n",
        "Other Regression Tests\n",
        "- Multiple Linear Regression: This extends linear regression to model the relationship between a\n",
        "dependent variable and multiple independent variables\n",
        "- Logistic Regression: Models the probability of a binary outcome based on one or more predictor\n",
        "variables using a logistic function"
      ],
      "metadata": {
        "id": "H6l0fNNYmAFP"
      }
    },
    {
      "cell_type": "code",
      "source": [
        "# Comparison Tests\n",
        "\n",
        "\"\"\"\n",
        "The T-test is used to compare the means of two groups to determine if they are significantly\n",
        "different from each other. There are several types of T-tests, each suited for different scenarios.\n",
        "\"\"\"\n",
        "\n",
        "# Independent T-test: Used to compare the means of two independent groups\n",
        "from scipy.stats import ttest_ind\n",
        "\n",
        "group1= np.random.normal(10,2,30)\n",
        "group2= np.random.normal(12,2,30)\n",
        "\n",
        "# perform the independent t-test\n",
        "t_stat, p_value= ttest_ind(group1, group2)\n",
        "\n",
        "print(f't-statistic: {t_stat}, p-value: {p_value}')"
      ],
      "metadata": {
        "colab": {
          "base_uri": "https://localhost:8080/"
        },
        "id": "l42pZgJvYUcr",
        "outputId": "42376947-91a3-4470-e522-d29c62a1a09a"
      },
      "execution_count": null,
      "outputs": [
        {
          "output_type": "stream",
          "name": "stdout",
          "text": [
            "t-statistic: -4.645255605036813, p-value: 1.9970732555673982e-05\n"
          ]
        }
      ]
    },
    {
      "cell_type": "markdown",
      "source": [
        "Here, ttest_ind computes the t-statistic and the p-value, which helps us determine if there is a\n",
        "significant difference between the two groups.\n",
        "\n",
        "The t-statistic of -4.64 indicates a significant difference between the means of group1 and group2,\n",
        "with a corresponding p-value of approximately 0.0000199, suggesting that this difference is highly\n",
        "unlikely to be due to random chance alone."
      ],
      "metadata": {
        "id": "RRubY4eFmIdo"
      }
    },
    {
      "cell_type": "code",
      "source": [
        "# Paired T-test: Used to compare the means of two related groups. This is applicable in scenarios\n",
        "# like before-and-after studies.\n",
        "from scipy.stats import ttest_rel\n",
        "\n",
        "before= np.random.normal(10,2,30)\n",
        "after = before + np.random.normal(1,1,30)\n",
        "\n",
        "# perform the paired t-test\n",
        "t_stat, p_value= ttest_rel(before, after)\n",
        "\n",
        "print(f't-statistic: {t_stat}, p-value: {p_value}')"
      ],
      "metadata": {
        "colab": {
          "base_uri": "https://localhost:8080/"
        },
        "id": "2QttxTZXYUi2",
        "outputId": "64f621a6-7ae3-4116-975e-0c342726eeb3"
      },
      "execution_count": null,
      "outputs": [
        {
          "output_type": "stream",
          "name": "stdout",
          "text": [
            "t-statistic: -5.252001219836367, p-value: 1.259134552229505e-05\n"
          ]
        }
      ]
    },
    {
      "cell_type": "markdown",
      "source": [
        "In this example, ttest_rel is used to assess the significance of the difference in means for the\n",
        "paired data.\n",
        "\n",
        "The t-statistic of -5.2520 and the p-value of approximately 1.25e-05 obtained from the paired\n",
        "t-test indicate a significant difference between the paired observations (before and after),\n",
        "suggesting that the observed change is unlikely to be due to random variation."
      ],
      "metadata": {
        "id": "inBDhVQsmNe7"
      }
    },
    {
      "cell_type": "code",
      "source": [
        "# One Sample T-test: Used to compare the mean of a single group to a known value.\n",
        "# It tests whether the mean of a single sample is significantly different from a known value.\n",
        "\n",
        "from scipy.stats import ttest_1samp\n",
        "\n",
        "# example data\n",
        "data= np.random.normal(10,2,30)\n",
        "\n",
        "# perform the one-sample-t-test\n",
        "t_stat, p_value= ttest_1samp(data, 10)\n",
        "\n",
        "print(f't-statistic: {t_stat}, p-value: {p_value}')"
      ],
      "metadata": {
        "colab": {
          "base_uri": "https://localhost:8080/"
        },
        "id": "QdeT3sI3YUnU",
        "outputId": "28e9c3c3-6879-4b2f-d09b-93e314ff41da"
      },
      "execution_count": null,
      "outputs": [
        {
          "output_type": "stream",
          "name": "stdout",
          "text": [
            "t-statistic: 0.5721672659818833, p-value: 0.5716178624094004\n"
          ]
        }
      ]
    },
    {
      "cell_type": "markdown",
      "source": [
        "Here, ttest_1samp helps us determine if the sample mean differs significantly from the known value.\n",
        "The t-statistic of 0.5721 and the p-value of 0.5716 obtained from the one-sample t-test indicate\n",
        "that there is no significant difference between the mean of the sample data and the population\n",
        "mean of 10"
      ],
      "metadata": {
        "id": "qxteehvmmQqO"
      }
    },
    {
      "cell_type": "code",
      "source": [
        "# ANOVA (Analysis of Variance) is used to compare the means of three or more groups. It helps to\n",
        "# determine if at least one of the group means is significantly different from the others.\n",
        "\n",
        "from scipy.stats import f_oneway\n",
        "\n",
        "# example data\n",
        "group1= np.random.normal(10,2,30)\n",
        "group2= np.random.normal(12,2,30)\n",
        "group3= np.random.normal(11,2,30)\n",
        "\n",
        "# perform the ANOVA test\n",
        "f_stat, p_value= f_oneway(group1, group2, group3)\n",
        "\n",
        "print(f'F-statistic: {f_stat}, p-value: {p_value}')"
      ],
      "metadata": {
        "colab": {
          "base_uri": "https://localhost:8080/"
        },
        "id": "j6bkJr7YYUtq",
        "outputId": "773b4fa9-3ef2-4aac-bf78-d1fcf88ca6b3"
      },
      "execution_count": null,
      "outputs": [
        {
          "output_type": "stream",
          "name": "stdout",
          "text": [
            "F-statistic: 7.283306632997532, p-value: 0.0011896528333366068\n"
          ]
        }
      ]
    },
    {
      "cell_type": "markdown",
      "source": [
        "In this example, f_oneway performs the ANOVA test, and the F-statistic and p-value help us\n",
        "determine if there are significant differences among the groups. The F-statistic tests whether\n",
        "there are significant differences between the means of three or more groups. In this case,\n",
        "\n",
        "- The F-statistic of 7.283 indicates that there is some evidence of a difference in means between\n",
        "the groups\n",
        "- The p-value of 0.00119 is less than the typical significance level of 0.05, indicating strong\n",
        "evidence against the null hypothesis (that all group means are equal)"
      ],
      "metadata": {
        "id": "XKc4vsa6mUhK"
      }
    },
    {
      "cell_type": "code",
      "source": [
        "# Z-test - used to compare the mean of a sample to a known population mean when the sample size is\n",
        "# large (n > 30). It's similar to the t-test but is used when the sample size is sufficiently large\n",
        "# for the Central Limit Theorem to apply.\n",
        "\n",
        "import statsmodels.api as sm\n",
        "\n",
        "# example data\n",
        "data= np.random.normal(10,2,100)\n",
        "\n",
        "# perform the one-sample z-test\n",
        "z_stat, p_value= sm.stats.ztest(data, value=10)\n",
        "\n",
        "print(f'z-statistic: {z_stat}, p-value: {p_value}')"
      ],
      "metadata": {
        "colab": {
          "base_uri": "https://localhost:8080/"
        },
        "id": "Rb0ktqeCYU0A",
        "outputId": "aa1b89c9-cb79-4ece-b328-f412832809a4"
      },
      "execution_count": null,
      "outputs": [
        {
          "output_type": "stream",
          "name": "stdout",
          "text": [
            "z-statistic: 0.20197764922380826, p-value: 0.839934197410085\n"
          ]
        }
      ]
    },
    {
      "cell_type": "markdown",
      "source": [
        "Here, sm.stats.ztest performs the Z-test, providing the z-statistic and p-value to determine the\n",
        "significance of the difference. The z-statistic of 0.2019 and the p-value of 0.8399 obtained from\n",
        "the z-test suggest that there is no significant difference between the sample mean and the\n",
        "population mean. This indicates that the observed result is likely due to random chance and does\n",
        "not provide sufficient evidence to reject the null hypothesis."
      ],
      "metadata": {
        "id": "Y4W60b3jmYKK"
      }
    },
    {
      "cell_type": "code",
      "source": [
        "# Correlation Tests\n",
        "\n",
        "# Pearson Correlation Coefficient - measures the linear relationship between two variables. It\n",
        "# ranges from -1 to 1, where 1 means a perfect positive linear relationship, -1 means a perfect\n",
        "# negative linear relationship, and 0 means no linear relationship.\n",
        "\n",
        "from scipy.stats import pearsonr\n",
        "\n",
        "# example data\n",
        "x= np.random.normal(10,2,30)\n",
        "y= x + np.random.normal(1,1,30)\n",
        "\n",
        "# calculate the pearson correlation coefficient\n",
        "corr, p_value= pearsonr(x, y)\n",
        "\n",
        "print(f'Pearson: {corr}, p_value: {p_value}')"
      ],
      "metadata": {
        "colab": {
          "base_uri": "https://localhost:8080/"
        },
        "id": "7Rb70V2LkRa1",
        "outputId": "c1a5ba74-ec49-4c47-9b3c-5901dd65a896"
      },
      "execution_count": null,
      "outputs": [
        {
          "output_type": "stream",
          "name": "stdout",
          "text": [
            "Pearson: 0.9172774039058988, p_value: 1.031860290501634e-12\n"
          ]
        }
      ]
    },
    {
      "cell_type": "markdown",
      "source": [
        "In this example, pearsonr calculates the correlation coefficient and the p-value, indicating the\n",
        "strength and significance of the linear relationship between the two variables.\n",
        "\n",
        "- The Pearson correlation coefficient (r) of 0.9172 suggests a strong positive correlation. As the\n",
        "coefficient approaches +1, it indicates that as one variable increases, the other variable tends\n",
        "to also increase.\n",
        "- The very small p-value (1.03e-12) indicates strong evidence against the null hypothesis,\n",
        "suggesting that the observed correlation is unlikely to be due to random chance."
      ],
      "metadata": {
        "id": "_j_U6ZoamfGv"
      }
    },
    {
      "cell_type": "markdown",
      "source": [
        "# Non-parametric Statistical Tests"
      ],
      "metadata": {
        "id": "Fhrv-eMnsyo9"
      }
    },
    {
      "cell_type": "markdown",
      "source": [
        "When to Use Non-Parametric Tests:\n",
        "\n",
        "- Data Distribution: When the data are not normally distributed.\n",
        "- Ordinal Data: When dealing with ranked or ordered data.\n",
        "- Small Sample Sizes: When sample sizes are small and assumptions for parametric tests are not met.\n",
        "- Robustness: When robustness to outliers is desired.\n",
        "\n",
        "These tests provide alternatives to parametric tests and are valuable in various fields, including\n",
        "medicine, biology, social sciences, and finance, where data often deviate from normality or\n",
        "assumptions of parametric tests cannot be met.\n",
        "\n",
        "Non-parametric tests do not assume a specific distribution for the data and are useful when\n",
        "parametric test assumptions are not met. These tests are more flexible but generally less powerful\n",
        "than parametric tests."
      ],
      "metadata": {
        "id": "QxCz84XQmmPP"
      }
    },
    {
      "cell_type": "code",
      "source": [
        "# Chi-square Test - used to examine the association between two categorical variables.\n",
        "# It's often used in contingency tables to test the independence of variables.\n",
        "\n",
        "from scipy.stats import chi2_contingency\n",
        "\n",
        "# example data\n",
        "data= pd.DataFrame({\n",
        "    'A': [10,20,30],\n",
        "    'B': [6,9,17]\n",
        "})\n",
        "\n",
        "# create a contingency table\n",
        "contingency_table= pd.crosstab(index=data['A'], columns=data['B'])\n",
        "\n",
        "# perform the chi-square test\n",
        "chi2, p, dof, expected= chi2_contingency(contingency_table)\n",
        "\n",
        "print(f'Chi--square statistic: {chi2}, p_value: {p}')"
      ],
      "metadata": {
        "colab": {
          "base_uri": "https://localhost:8080/"
        },
        "id": "fTGT28DTkRhn",
        "outputId": "3eb6fd32-73d5-4680-97e5-3ff0a9b3f43f"
      },
      "execution_count": null,
      "outputs": [
        {
          "output_type": "stream",
          "name": "stdout",
          "text": [
            "Chi--square statistic: 6.000000000000001, p_value: 0.19914827347145564\n"
          ]
        }
      ]
    },
    {
      "cell_type": "markdown",
      "source": [
        "- The Chi-square statistic tests the independence between categorical variables. In this case, a\n",
        "Chi-square statistic of 6.0000 suggests some degree of association between the variables, but it\n",
        "is not strong enough to reject the null hypothesis\n",
        "- The p-value of 0.1991 is greater than the typical significance level of 0.05. This indicates\n",
        "that we do not have sufficient evidence to reject the null hypothesis of independence between the\n",
        "variables.\n",
        "\n",
        "Other commonly used Non-parametric Tests\n",
        "- Mann-Whitney-Wilcoxon Test: Another name for the Mann-Whitney U Test.\n",
        "- Friedman Test: Non-parametric alternative to repeated measures ANOVA tests whether there are\n",
        "differences between groups across multiple measurements.\n",
        "- Kolmogorov-Smirnov Test: Tests whether a sample comes from a specific distribution\n",
        "(e.g., a normal distribution)."
      ],
      "metadata": {
        "id": "qomkTLBnmyDq"
      }
    },
    {
      "cell_type": "markdown",
      "source": [
        "Also, consider below while choosing a test:\n",
        "\n",
        "- Use t-tests and ANOVA for continuous data.\n",
        "- Use Chi-square tests for categorical data.\n",
        "\n",
        "Number of Groups: Determine the number of groups you're comparing.\n",
        "- Use a one-sample t-test to compare a sample mean to a known value.\n",
        "- Use an independent t-test to compare the means of two independent groups.\n",
        "- Use a paired t-test to compare the means of two related groups.\n",
        "- Use ANOVA to compare the means of three or more groups.\n",
        "\n",
        "Assumptions: Check the assumptions required for each test.\n",
        "- Parametric tests like t-tests and ANOVA assume a normal distribution and homogeneity of variances.\n",
        "- Non-parametric tests like Chi-square tests do not assume a specific distribution and are suitable\n",
        "for categorical data.\n",
        "\n",
        "Sample Size: Consider the sample size.\n",
        "- Use Z-tests for large sample sizes (n > 30).\n",
        "- Use t-tests for smaller sample sizes (n < 30)."
      ],
      "metadata": {
        "id": "bePE9gcnm1NY"
      }
    },
    {
      "cell_type": "code",
      "source": [],
      "metadata": {
        "id": "_bRvOoaFkSD-"
      },
      "execution_count": null,
      "outputs": []
    },
    {
      "cell_type": "code",
      "execution_count": null,
      "metadata": {
        "id": "wdynMeH6XNwA"
      },
      "outputs": [],
      "source": [
        "# https://medium.com/tech-tensorflow/essential-statistical-tests-every-data-scientist-should-know-d3ce651cf62f"
      ]
    },
    {
      "cell_type": "code",
      "source": [],
      "metadata": {
        "id": "AcDMAaZAm6Qv"
      },
      "execution_count": null,
      "outputs": []
    },
    {
      "cell_type": "markdown",
      "source": [
        "**Continuous Probability Distribution (PDF and CDF)** is the distribution of probability density for continuous random variables. There are an infinite number of possible values in the continuous random variable. It provides the probability of an interval. Unlike the probability mass function, the probability of a specific value or point of continuous probability is always zero because there are an infinite number of values.\n",
        "\n",
        "- PDF gives the probability density value close to a specified value, not the exact probability. All the normal distributions can be scaled to a standard normal distribution.\n",
        "- If we want to calculate the probability, we have to set an interval and calculate the integral value within the range to find out the probability (CDF).\n",
        "\n",
        "In brief, we can calculate the probability of discrete values with probability mass function (PMF), and cumulative probability can be found by summing up the individual outcomes.\n",
        "\n",
        "For continuous values, if we apply integration to the probability density function (PDF), we will get the cumulative density function (CDF). The probability density function (PDF) can be derived by differentiating the cumulative density function (CDF). Moreover, continuous probability can be calculated within an interval, and theoretically probability of a specific value is zero, but the probability density is not zero. Though we have demonstrated it with normal distribution, it is applicable to all other continuous distributions as well."
      ],
      "metadata": {
        "id": "EtJVfifJm6mZ"
      }
    },
    {
      "cell_type": "code",
      "source": [
        "# https://towardsdatascience.com/3-key-concepts-of-probability-distribution-every-data-scientist-must-know-bfb429c61cc6"
      ],
      "metadata": {
        "id": "WFbGBzh5pY5A"
      },
      "execution_count": null,
      "outputs": []
    }
  ]
}