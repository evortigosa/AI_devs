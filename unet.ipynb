{
  "nbformat": 4,
  "nbformat_minor": 0,
  "metadata": {
    "colab": {
      "provenance": [],
      "gpuType": "T4",
      "toc_visible": true
    },
    "kernelspec": {
      "name": "python3",
      "display_name": "Python 3"
    },
    "language_info": {
      "name": "python"
    },
    "accelerator": "GPU"
  },
  "cells": [
    {
      "cell_type": "markdown",
      "source": [
        "# U-Net from scratch in PyTorch\n",
        "\n",
        "Image segmentation is the process of dividing an image into multiple segments or regions to simplify its representation and make it easier to analyze. Segmentation provides context and meaning to individual pixels, transforming raw images into structured data that machines can interpret. By segmenting images, we can identify and extract specific objects, delineate boundaries, and even classify regions based on their content. Creating models that excel at segmentation is not just about accurate delineation; it is about enabling machines to understand and interpret visual data with precision and efficiency.\n",
        "\n",
        "U-Net stands out as a state-of-the-art solution that has revolutionized the field of image segmentation.\n",
        "\n",
        "https://arxiv.org/abs/1505.04597"
      ],
      "metadata": {
        "id": "TIkMRP7qC5Ns"
      }
    },
    {
      "cell_type": "code",
      "execution_count": null,
      "metadata": {
        "id": "JeBpAmMzCyVY"
      },
      "outputs": [],
      "source": [
        "import os\n",
        "import time\n",
        "import math\n",
        "import random\n",
        "import numpy as np\n",
        "import matplotlib.pyplot as plt\n",
        "import inspect\n",
        "import torch\n",
        "import torch.nn as nn\n",
        "import torch.nn.functional as F\n",
        "from torch.optim.lr_scheduler import ReduceLROnPlateau"
      ]
    },
    {
      "cell_type": "code",
      "source": [
        "device= 'cuda' if torch.cuda.is_available() else 'cpu'"
      ],
      "metadata": {
        "id": "TpYl6Ll2DFAX"
      },
      "execution_count": null,
      "outputs": []
    },
    {
      "cell_type": "code",
      "source": [
        "# count how many trainable weights the model has\n",
        "def count_parameters(model) -> None:\n",
        "    total_params= sum(p.numel() for p in model.parameters() if p.requires_grad)\n",
        "    print(f'Number of parameters: {total_params}')"
      ],
      "metadata": {
        "id": "Jnh3TP_4DFDK"
      },
      "execution_count": null,
      "outputs": []
    },
    {
      "cell_type": "markdown",
      "source": [
        "# Architecture Implementation\n",
        "\n",
        "The U-Net architecture is characterized by its U-shaped structure, which gives it its name. It consists of an encoding path, a bottleneck, and a decoding path.\n",
        "\n",
        "The basic block of a U-Net is the **Double Convolutional Block**, which consists of two convolutions of 3x3 followed by ReLU activation. We use BatchNorm to maintain training stability (although the original paper didn't mention it, modern versions often incorporate it)."
      ],
      "metadata": {
        "id": "l6JRC5hrDdbD"
      }
    },
    {
      "cell_type": "code",
      "source": [
        "class ConvBlock(nn.Module):\n",
        "    \"\"\"\n",
        "    Implements two customizable CNN layers as a block.\n",
        "    U-Net-style: Input -> Conv2d -> BatchNorm2d -> ReLU -> Conv2d -> BatchNorm2d -> ReLU -> Output\n",
        "    \"\"\"\n",
        "\n",
        "    def __init__(self, in_channels, out_channels, bias=False, activation=None) -> None:\n",
        "        super(ConvBlock, self).__init__()\n",
        "        # first convolutional layer\n",
        "        self.conv1= nn.Conv2d(\n",
        "            in_channels, out_channels, kernel_size=3, stride=1, padding=1, bias=bias\n",
        "        )\n",
        "        # Batch Normalization to stabilize training\n",
        "        self.norm1= nn.BatchNorm2d(out_channels)\n",
        "        # Activation function -- ReLU is the default in U-Net\n",
        "        self.activation1= nn.ReLU() if activation is None else activation\n",
        "\n",
        "        # second convolutional layer\n",
        "        self.conv2= nn.Conv2d(\n",
        "            out_channels, out_channels, kernel_size=3, stride=1, padding=1, bias=bias\n",
        "        )\n",
        "        # Batch Normalization to stabilize training\n",
        "        self.norm2= nn.BatchNorm2d(out_channels)\n",
        "        # Activation function -- ReLU is the default in U-Net\n",
        "        self.activation2= nn.ReLU() if activation is None else activation\n",
        "\n",
        "\n",
        "    def forward(self, x):\n",
        "        x= self.conv1(x)\n",
        "        x= self.norm1(x)\n",
        "        x= self.activation1(x)\n",
        "\n",
        "        x= self.conv2(x)\n",
        "        x= self.norm2(x)\n",
        "        x= self.activation2(x)\n",
        "\n",
        "        return x\n"
      ],
      "metadata": {
        "id": "LhSBrWWtDFGh"
      },
      "execution_count": null,
      "outputs": []
    },
    {
      "cell_type": "markdown",
      "source": [
        "**Encoding Path:** Captures the context of the input image by using a series of convolutional and max-pooling layers to downsample the spatial dimensions. It \"contracs\" the original images, but channels grow (feature learning).\n",
        "\n",
        "Each stage in the contracting path consists of ConvBlock followed by a 2x2 max pooling operation with a stride of 2 for downsampling. Before doing the max pooling, we save the convolutioned tensor. That convolutioned tensor is later used as skip connections and concatenated with an upsampled tensor."
      ],
      "metadata": {
        "id": "uBx3Dm4ESaaU"
      }
    },
    {
      "cell_type": "code",
      "source": [
        "class EncoderBlock(nn.Module):\n",
        "    \"\"\"\n",
        "    Implements an encoder block of the U-Net architecture.\n",
        "    \"\"\"\n",
        "\n",
        "    def __init__(self, in_channels, out_channels, bias=False, activation=None) -> None:\n",
        "        super(EncoderBlock, self).__init__()\n",
        "        # learn features\n",
        "        self.conv= ConvBlock(in_channels, out_channels, bias=bias, activation=activation)\n",
        "        # reduce size by half\n",
        "        self.pool= nn.MaxPool2d(kernel_size=2, stride=2)\n",
        "\n",
        "\n",
        "    def forward(self, x):\n",
        "        skip= self.conv(x)     # feature map (also used for skip connection)\n",
        "        map = self.pool(skip)  # downsampled map\n",
        "\n",
        "        return skip, map\n"
      ],
      "metadata": {
        "id": "uvc2J6rQDFIm"
      },
      "execution_count": null,
      "outputs": []
    },
    {
      "cell_type": "markdown",
      "source": [
        "**Decoding Path:** Uses upsampling and convolutional layers to produce a segmentation map that has the same spatial dimensions as the input image. It \"expands\" the contracted images (reconstruction).\n",
        "\n",
        "The Upsampling is done with a deconvolution (ConvTranspose2d) followed by a ConvBlock. We double the height and width of the image, then we concatenate the upsampled map with the matching encoder output (skip connection), and finally clean it up with a ConvBlock."
      ],
      "metadata": {
        "id": "PutE1zkSSf1t"
      }
    },
    {
      "cell_type": "code",
      "source": [
        "class DecoderBlock(nn.Module):\n",
        "    \"\"\"\n",
        "    Implements a decoder block of the U-Net architecture.\n",
        "    \"\"\"\n",
        "\n",
        "    def __init__(self, in_channels, out_channels, bias=False, activation=None) -> None:\n",
        "        super(DecoderBlock, self).__init__()\n",
        "        # upsampling -> doubles height and width\n",
        "        self.up_conv= nn.ConvTranspose2d(\n",
        "            in_channels, out_channels, kernel_size=2, stride=2, bias=bias\n",
        "        )\n",
        "        # ConvBlock gets upsampled + skip features\n",
        "        self.conv= ConvBlock(\n",
        "            out_channels + out_channels, out_channels, bias=bias, activation=activation\n",
        "        )\n",
        "\n",
        "\n",
        "    def forward(self, x, skip):\n",
        "        x= self.up_conv(x)              # upsample the inputs\n",
        "        x= torch.cat((x, skip), dim=1)  # concat with the skip connection\n",
        "        x= self.conv(x)                 # learn details\n",
        "\n",
        "        return x\n"
      ],
      "metadata": {
        "id": "lOYkIP9gDFLW"
      },
      "execution_count": null,
      "outputs": []
    },
    {
      "cell_type": "markdown",
      "source": [
        "# Building the U-Net network\n",
        "\n",
        "U-Net's strength in segmentation comes from its use of **skip connections**, which connect the encoding and decoding paths by fusing low-level and high-level features. This helps retain spatial details lost during downsampling, preserving the image's local and global context. By maintaining this spatial information, U-Net achieves more accurate segmentation masks. The skip connections assist the network in grasping the relationships between image parts, leading to improved segmentation results.\n",
        "\n",
        "The Bottleneck is the deepest compressed representation."
      ],
      "metadata": {
        "id": "RPMvx_PfDkDi"
      }
    },
    {
      "cell_type": "code",
      "source": [
        "class UNet(nn.Module):\n",
        "    \"\"\"\n",
        "    The U-Net architecture implementation.\n",
        "    \"\"\"\n",
        "\n",
        "    def __init__(self, in_channels, num_classes=1, segmentation=True, dropout=0.1, bias=False,\n",
        "                 activation=None) -> None:\n",
        "        super(UNet, self).__init__()\n",
        "        # Activation function -- ReLU is the default in U-Net\n",
        "        activation= nn.ReLU() if activation is None else activation\n",
        "\n",
        "        # Encoder -> shrinking image, increasing channels\n",
        "        self.e1= EncoderBlock(in_channels, 64, bias=bias, activation=activation)\n",
        "        self.e2= EncoderBlock(64, 128, bias=bias, activation=activation)\n",
        "        self.e3= EncoderBlock(128, 256, bias=bias, activation=activation)\n",
        "        self.e4= EncoderBlock(256, 512, bias=bias, activation=activation)\n",
        "\n",
        "        # Bottleneck -> middle of the U\n",
        "        self.bottleneck= ConvBlock(512, 1024, bias=bias, activation=activation)\n",
        "\n",
        "        # Decoder -> expanding image, using skip connections\n",
        "        self.d1= DecoderBlock(1024, 512, bias=bias, activation=activation)\n",
        "        self.d2= DecoderBlock(512, 256, bias=bias, activation=activation)\n",
        "        self.d3= DecoderBlock(256, 128, bias=bias, activation=activation)\n",
        "        self.d4= DecoderBlock(128, 64, bias=bias, activation=activation)\n",
        "\n",
        "        self.dropout= nn.Dropout(p=dropout)\n",
        "        if segmentation:\n",
        "            # Output layer -> 1 output channel for binary segmentation\n",
        "            self.output= nn.Conv2d(64, num_classes, kernel_size=1, stride=1, padding=0, bias=bias)\n",
        "        else:\n",
        "            # U-Net was not designed as a classifier, but why not?\n",
        "            self.output= nn.Sequential(\n",
        "                nn.AdaptiveAvgPool2d(output_size=1),\n",
        "                nn.Flatten(start_dim=1),\n",
        "                nn.Linear(64, num_classes),\n",
        "            )\n",
        "\n",
        "        # initialize parameters with Xavier initialization\n",
        "        for m in self.modules():\n",
        "            if isinstance(m, (nn.Conv2d, nn.ConvTranspose2d, nn.Linear)):\n",
        "                nn.init.xavier_uniform_(m.weight)\n",
        "                if m.bias is not None: nn.init.zeros_(m.bias)\n",
        "            elif isinstance(m, nn.BatchNorm2d):\n",
        "                nn.init.constant_(m.weight, 1.0)\n",
        "                nn.init.constant_(m.bias, 0.0)\n",
        "\n",
        "\n",
        "    def forward(self, x):\n",
        "        # Encoder\n",
        "        skip1, map1= self.e1(x)\n",
        "        skip2, map2= self.e2(map1)\n",
        "        skip3, map3= self.e3(map2)\n",
        "        skip4, map4= self.e4(map3)\n",
        "        # Bottleneck\n",
        "        b= self.bottleneck(map4)\n",
        "        # Decoder\n",
        "        d1= self.d1(b,  skip4)\n",
        "        d2= self.d2(d1, skip3)\n",
        "        d3= self.d3(d2, skip2)\n",
        "        d4= self.d4(d3, skip1)\n",
        "        # Output\n",
        "        out= self.output(d4)\n",
        "\n",
        "        return out\n"
      ],
      "metadata": {
        "id": "VEl8dKQPDFRC"
      },
      "execution_count": null,
      "outputs": []
    },
    {
      "cell_type": "code",
      "source": [
        "img= torch.randn(1, 3, 224, 224).to(device)  # a single image batch\n",
        "model= UNet(in_channels=3, num_classes=1).to(device)\n",
        "count_parameters(model)\n",
        "print(model(img).shape)\n",
        "\n",
        "model"
      ],
      "metadata": {
        "id": "WAg2ktjxDFTa",
        "colab": {
          "base_uri": "https://localhost:8080/"
        },
        "outputId": "00c05ae3-bef1-41eb-c618-35a3dba6c543"
      },
      "execution_count": 15,
      "outputs": [
        {
          "output_type": "stream",
          "name": "stdout",
          "text": [
            "Number of parameters: 31036672\n",
            "torch.Size([1, 1, 224, 224])\n"
          ]
        },
        {
          "output_type": "execute_result",
          "data": {
            "text/plain": [
              "UNet(\n",
              "  (e1): EncoderBlock(\n",
              "    (conv): ConvBlock(\n",
              "      (conv1): Conv2d(3, 64, kernel_size=(3, 3), stride=(1, 1), padding=(1, 1), bias=False)\n",
              "      (norm1): BatchNorm2d(64, eps=1e-05, momentum=0.1, affine=True, track_running_stats=True)\n",
              "      (activation1): ReLU()\n",
              "      (conv2): Conv2d(64, 64, kernel_size=(3, 3), stride=(1, 1), padding=(1, 1), bias=False)\n",
              "      (norm2): BatchNorm2d(64, eps=1e-05, momentum=0.1, affine=True, track_running_stats=True)\n",
              "      (activation2): ReLU()\n",
              "    )\n",
              "    (pool): MaxPool2d(kernel_size=2, stride=2, padding=0, dilation=1, ceil_mode=False)\n",
              "  )\n",
              "  (e2): EncoderBlock(\n",
              "    (conv): ConvBlock(\n",
              "      (conv1): Conv2d(64, 128, kernel_size=(3, 3), stride=(1, 1), padding=(1, 1), bias=False)\n",
              "      (norm1): BatchNorm2d(128, eps=1e-05, momentum=0.1, affine=True, track_running_stats=True)\n",
              "      (activation1): ReLU()\n",
              "      (conv2): Conv2d(128, 128, kernel_size=(3, 3), stride=(1, 1), padding=(1, 1), bias=False)\n",
              "      (norm2): BatchNorm2d(128, eps=1e-05, momentum=0.1, affine=True, track_running_stats=True)\n",
              "      (activation2): ReLU()\n",
              "    )\n",
              "    (pool): MaxPool2d(kernel_size=2, stride=2, padding=0, dilation=1, ceil_mode=False)\n",
              "  )\n",
              "  (e3): EncoderBlock(\n",
              "    (conv): ConvBlock(\n",
              "      (conv1): Conv2d(128, 256, kernel_size=(3, 3), stride=(1, 1), padding=(1, 1), bias=False)\n",
              "      (norm1): BatchNorm2d(256, eps=1e-05, momentum=0.1, affine=True, track_running_stats=True)\n",
              "      (activation1): ReLU()\n",
              "      (conv2): Conv2d(256, 256, kernel_size=(3, 3), stride=(1, 1), padding=(1, 1), bias=False)\n",
              "      (norm2): BatchNorm2d(256, eps=1e-05, momentum=0.1, affine=True, track_running_stats=True)\n",
              "      (activation2): ReLU()\n",
              "    )\n",
              "    (pool): MaxPool2d(kernel_size=2, stride=2, padding=0, dilation=1, ceil_mode=False)\n",
              "  )\n",
              "  (e4): EncoderBlock(\n",
              "    (conv): ConvBlock(\n",
              "      (conv1): Conv2d(256, 512, kernel_size=(3, 3), stride=(1, 1), padding=(1, 1), bias=False)\n",
              "      (norm1): BatchNorm2d(512, eps=1e-05, momentum=0.1, affine=True, track_running_stats=True)\n",
              "      (activation1): ReLU()\n",
              "      (conv2): Conv2d(512, 512, kernel_size=(3, 3), stride=(1, 1), padding=(1, 1), bias=False)\n",
              "      (norm2): BatchNorm2d(512, eps=1e-05, momentum=0.1, affine=True, track_running_stats=True)\n",
              "      (activation2): ReLU()\n",
              "    )\n",
              "    (pool): MaxPool2d(kernel_size=2, stride=2, padding=0, dilation=1, ceil_mode=False)\n",
              "  )\n",
              "  (bottleneck): ConvBlock(\n",
              "    (conv1): Conv2d(512, 1024, kernel_size=(3, 3), stride=(1, 1), padding=(1, 1), bias=False)\n",
              "    (norm1): BatchNorm2d(1024, eps=1e-05, momentum=0.1, affine=True, track_running_stats=True)\n",
              "    (activation1): ReLU()\n",
              "    (conv2): Conv2d(1024, 1024, kernel_size=(3, 3), stride=(1, 1), padding=(1, 1), bias=False)\n",
              "    (norm2): BatchNorm2d(1024, eps=1e-05, momentum=0.1, affine=True, track_running_stats=True)\n",
              "    (activation2): ReLU()\n",
              "  )\n",
              "  (d1): DecoderBlock(\n",
              "    (up_conv): ConvTranspose2d(1024, 512, kernel_size=(2, 2), stride=(2, 2), bias=False)\n",
              "    (conv): ConvBlock(\n",
              "      (conv1): Conv2d(1024, 512, kernel_size=(3, 3), stride=(1, 1), padding=(1, 1), bias=False)\n",
              "      (norm1): BatchNorm2d(512, eps=1e-05, momentum=0.1, affine=True, track_running_stats=True)\n",
              "      (activation1): ReLU()\n",
              "      (conv2): Conv2d(512, 512, kernel_size=(3, 3), stride=(1, 1), padding=(1, 1), bias=False)\n",
              "      (norm2): BatchNorm2d(512, eps=1e-05, momentum=0.1, affine=True, track_running_stats=True)\n",
              "      (activation2): ReLU()\n",
              "    )\n",
              "  )\n",
              "  (d2): DecoderBlock(\n",
              "    (up_conv): ConvTranspose2d(512, 256, kernel_size=(2, 2), stride=(2, 2), bias=False)\n",
              "    (conv): ConvBlock(\n",
              "      (conv1): Conv2d(512, 256, kernel_size=(3, 3), stride=(1, 1), padding=(1, 1), bias=False)\n",
              "      (norm1): BatchNorm2d(256, eps=1e-05, momentum=0.1, affine=True, track_running_stats=True)\n",
              "      (activation1): ReLU()\n",
              "      (conv2): Conv2d(256, 256, kernel_size=(3, 3), stride=(1, 1), padding=(1, 1), bias=False)\n",
              "      (norm2): BatchNorm2d(256, eps=1e-05, momentum=0.1, affine=True, track_running_stats=True)\n",
              "      (activation2): ReLU()\n",
              "    )\n",
              "  )\n",
              "  (d3): DecoderBlock(\n",
              "    (up_conv): ConvTranspose2d(256, 128, kernel_size=(2, 2), stride=(2, 2), bias=False)\n",
              "    (conv): ConvBlock(\n",
              "      (conv1): Conv2d(256, 128, kernel_size=(3, 3), stride=(1, 1), padding=(1, 1), bias=False)\n",
              "      (norm1): BatchNorm2d(128, eps=1e-05, momentum=0.1, affine=True, track_running_stats=True)\n",
              "      (activation1): ReLU()\n",
              "      (conv2): Conv2d(128, 128, kernel_size=(3, 3), stride=(1, 1), padding=(1, 1), bias=False)\n",
              "      (norm2): BatchNorm2d(128, eps=1e-05, momentum=0.1, affine=True, track_running_stats=True)\n",
              "      (activation2): ReLU()\n",
              "    )\n",
              "  )\n",
              "  (d4): DecoderBlock(\n",
              "    (up_conv): ConvTranspose2d(128, 64, kernel_size=(2, 2), stride=(2, 2), bias=False)\n",
              "    (conv): ConvBlock(\n",
              "      (conv1): Conv2d(128, 64, kernel_size=(3, 3), stride=(1, 1), padding=(1, 1), bias=False)\n",
              "      (norm1): BatchNorm2d(64, eps=1e-05, momentum=0.1, affine=True, track_running_stats=True)\n",
              "      (activation1): ReLU()\n",
              "      (conv2): Conv2d(64, 64, kernel_size=(3, 3), stride=(1, 1), padding=(1, 1), bias=False)\n",
              "      (norm2): BatchNorm2d(64, eps=1e-05, momentum=0.1, affine=True, track_running_stats=True)\n",
              "      (activation2): ReLU()\n",
              "    )\n",
              "  )\n",
              "  (dropout): Dropout(p=0.1, inplace=False)\n",
              "  (output): Conv2d(64, 1, kernel_size=(1, 1), stride=(1, 1), bias=False)\n",
              ")"
            ]
          },
          "metadata": {},
          "execution_count": 15
        }
      ]
    },
    {
      "cell_type": "markdown",
      "source": [
        "# Trainer Function\n",
        "\n",
        "TODO\n",
        "- Strong data augmentation for training.\n",
        "- Play with different learning rate values.\n",
        "- More training epochs.\n",
        "- Larger batch sizes.\n",
        "- Checkpointing."
      ],
      "metadata": {
        "id": "yl3DIXyeD4cr"
      }
    },
    {
      "cell_type": "code",
      "source": [
        "def trainer(model, train_loader, val_loader, optimizer, criterion, scheduler, epochs,\n",
        "            device, eval_interval=1, dice_coef=None, verbose=False):\n",
        "\n",
        "    tr_loss_hist= []\n",
        "    tr_dcs_hist = []\n",
        "    vl_loss_hist= []\n",
        "    vl_dcs_hist = []\n",
        "\n",
        "    # --- training loop ---\n",
        "    for epoch in range(epochs):\n",
        "        model.train()\n",
        "        batch_loss= []\n",
        "        batch_dcs = []\n",
        "        start= time.time()\n",
        "\n",
        "        # --- training steps ---\n",
        "        # iterating over all batches\n",
        "        for step, (images, labels) in enumerate(train_loader):\n",
        "            optimizer.zero_grad()\n",
        "\n",
        "            # --- minibatch construction ---\n",
        "            images= images.float().to(device)\n",
        "            labels= labels.float().to(device)\n",
        "\n",
        "            # --- forward pass and get loss ---\n",
        "            logits= model(images)\n",
        "\n",
        "            if dice_coef is not None:\n",
        "                dcs= dice_coef(logits, labels)\n",
        "                batch_dcs.append(dcs.item())\n",
        "            loss= criterion(logits, labels)\n",
        "            batch_loss.append(loss.item())\n",
        "\n",
        "\n",
        "            # --- backward pass to calculate the gradients ---\n",
        "            loss.backward()\n",
        "\n",
        "            # --- update the parameters using the gradient ---\n",
        "            optimizer.step()\n",
        "\n",
        "        # --- evaluation and track stats ---\n",
        "        tr_loss_hist.append(np.mean(batch_loss))\n",
        "        if dice_coef is not None:\n",
        "            tr_dcs_hist.append(np.mean(batch_dcs))\n",
        "\n",
        "        if epoch% eval_interval== 0 or epoch== epochs-1:\n",
        "            model.eval()\n",
        "            val_loss= []\n",
        "            val_dcs = []\n",
        "            with torch.no_grad():\n",
        "                for images, labels in val_loader:\n",
        "                    images, labels= images.float().to(device), labels.float().to(device)\n",
        "                    logits= model(images)\n",
        "\n",
        "                    if dice_coef is not None:\n",
        "                        dcs_v= dice_coef(logits, labels)\n",
        "                        val_dcs.append(dcs_v.item())\n",
        "                    loss_v= criterion(logits, labels)\n",
        "                    val_loss.append(loss_v.item())\n",
        "\n",
        "            if dice_coef is not None:\n",
        "                val_dcs= np.mean(val_dcs)\n",
        "            val_loss= np.mean(val_loss)\n",
        "\n",
        "            end= time.time()\n",
        "            dt= end - start\n",
        "\n",
        "            if verbose:\n",
        "                print(f\"Epoch: {epoch} | Train Loss: {tr_loss_hist[-1]:.4f} | \"\n",
        "                      f\"Val Loss: {val_loss:.4f} | dt/epoch: {dt*1000:.2f}ms\")\n",
        "                if dice_coef is not None:\n",
        "                    print(f\"Train DICE: {tr_dcs_hist[-1]:.4f} | Val DICE: {val_dcs:.4f}\")\n",
        "\n",
        "            # for decreasing learning rate -- the ReduceLROnPlateau is designed to be used per epoch\n",
        "            if scheduler is not None:\n",
        "                scheduler.step(val_loss)\n",
        "\n",
        "        if dice_coef is not None:\n",
        "            vl_dcs_hist.append(val_dcs)\n",
        "        vl_loss_hist.append(val_loss)\n",
        "\n",
        "    if dice_coef is not None:\n",
        "        return tr_loss_hist, vl_loss_hist, tr_dcs_hist, vl_dcs_hist\n",
        "\n",
        "    return tr_loss_hist, vl_loss_hist\n"
      ],
      "metadata": {
        "id": "Xr83uT_OD52c"
      },
      "execution_count": null,
      "outputs": []
    },
    {
      "cell_type": "code",
      "source": [
        "def evaluate_model(model, test_loader, device, criterion=None, dice_coef=None, verbose=False):\n",
        "    model.eval()\n",
        "    correct= 0\n",
        "    total= 0\n",
        "    batch_loss= 0\n",
        "    batch_dcs= 0\n",
        "\n",
        "    with torch.no_grad():\n",
        "        for images, labels in test_loader:\n",
        "            images, labels= images.float().to(device), labels.float().to(device)\n",
        "            logits= model(images)\n",
        "\n",
        "            if dice_coef is not None:\n",
        "                loss= criterion(logits, labels)\n",
        "                dcs = dice_coef(logits, labels)\n",
        "\n",
        "                batch_loss+= loss.item()\n",
        "                batch_dcs += dcs.item()\n",
        "            else:\n",
        "                y_pred= torch.argmax(logits, dim=1)\n",
        "                correct += (y_pred == labels).sum().item()\n",
        "            total += labels.size(0)\n",
        "\n",
        "    if dice_coef is not None:\n",
        "        eval_loss= batch_loss / len(test_loader)\n",
        "        eval_dcs= batch_dcs / len(test_loader)\n",
        "    else:\n",
        "        acc= correct / total\n",
        "\n",
        "    if verbose:\n",
        "        if dice_coef is not None:\n",
        "            print(f\"Loss: {eval_loss:.4f} | DICE: {eval_dcs:.4f}\")\n",
        "        else:\n",
        "            print(f\"Accuracy: {(acc * 100):.2f}%\")\n",
        "\n",
        "    if dice_coef is not None:\n",
        "        return eval_loss, eval_dcs\n",
        "\n",
        "    return acc\n"
      ],
      "metadata": {
        "id": "7P6T3RbwDFmv"
      },
      "execution_count": null,
      "outputs": []
    },
    {
      "cell_type": "code",
      "source": [
        "def plot_losses(train_loss, valid_loss, train_dice=None, valid_dice=None):\n",
        "    # plot training and validation losses\n",
        "    epochs= list(range(1, len(train_loss) + 1))\n",
        "\n",
        "    if train_dice is not None:\n",
        "        plt.figure(figsize=(12, 5))\n",
        "        plt.subplot(1, 2, 1)\n",
        "\n",
        "    plt.plot(epochs, train_loss, label='Train Loss')\n",
        "    plt.plot(epochs, valid_loss, label='Validation Loss')\n",
        "    plt.xticks(ticks=list(range(1, len(train_loss) + 1 + 1, 1)))\n",
        "    plt.title('Losses over epochs')\n",
        "    plt.xlabel('Epochs')\n",
        "    plt.ylabel('Loss')\n",
        "    plt.grid()\n",
        "    plt.legend()\n",
        "    plt.tight_layout()\n",
        "\n",
        "    if train_dice is not None:\n",
        "        plt.subplot(1, 2, 2)\n",
        "        plt.plot(epochs, train_dice, label='Training DICE')\n",
        "        plt.plot(epochs, valid_dice, label='Validation DICE')\n",
        "        plt.xticks(ticks=list(range(1, len(train_dice) + 1 + 1, 1)))\n",
        "        plt.title('DICE Coefficient over epochs')\n",
        "        plt.xlabel('Epochs')\n",
        "        plt.ylabel('DICE')\n",
        "        plt.grid()\n",
        "        plt.legend()\n",
        "        plt.tight_layout()\n",
        "\n",
        "    plt.show()"
      ],
      "metadata": {
        "id": "ugOXpMjtEAv7"
      },
      "execution_count": null,
      "outputs": []
    },
    {
      "cell_type": "markdown",
      "source": [
        "# Segmentation -- Loading the Carvana Dataset\n",
        "\n",
        "https://www.kaggle.com/c/carvana-image-masking-challenge"
      ],
      "metadata": {
        "id": "HKNr-V9fKVpF"
      }
    },
    {
      "cell_type": "code",
      "source": [
        "import zipfile\n",
        "from torch.utils.data import DataLoader, random_split\n",
        "from torch.utils.data.dataset import Dataset\n",
        "from torchvision import datasets, transforms\n",
        "from PIL import Image"
      ],
      "metadata": {
        "id": "9EWLA0_pDFZK"
      },
      "execution_count": null,
      "outputs": []
    },
    {
      "cell_type": "code",
      "source": [
        "class CarvanaDataset(Dataset):\n",
        "\n",
        "    def __init__(self, root_path, limit=None):\n",
        "        self.root_path= root_path\n",
        "        self.limit = limit\n",
        "        self.images= sorted([root_path + '/train/' + i for i in os.listdir(root_path + '/train/')])[:self.limit]\n",
        "        self.masks = sorted([root_path + '/train_masks/' + i for i in os.listdir(root_path + '/train_masks/')])[:self.limit]\n",
        "\n",
        "        self.transform= transforms.Compose([\n",
        "            transforms.Resize((512, 512)),\n",
        "            transforms.ToTensor(),\n",
        "        ])\n",
        "\n",
        "        if self.limit is None:\n",
        "            self.limit= len(self.images)\n",
        "\n",
        "\n",
        "    def __getitem__(self, index):\n",
        "        img = Image.open(self.images[index]).convert('RGB')\n",
        "        mask= Image.open(self.masks[index]).convert('L')\n",
        "\n",
        "        img = self.transform(img)\n",
        "        mask= self.transform(mask)\n",
        "\n",
        "        return img, mask\n",
        "\n",
        "\n",
        "    def __len__(self):\n",
        "        return min(len(self.images), self.limit)\n"
      ],
      "metadata": {
        "id": "uYFdf1AeDFWK"
      },
      "execution_count": null,
      "outputs": []
    },
    {
      "cell_type": "code",
      "source": [
        "DATASET_DIR= 'carvana/'\n",
        "WORKING_DIR= 'working/'\n",
        "\n",
        "if len(os.listdir(WORKING_DIR)) <= 1:\n",
        "\n",
        "    with zipfile.ZipFile(DATASET_DIR + 'train.zip', 'r') as zip_file:\n",
        "        zip_file.extractall(WORKING_DIR)\n",
        "\n",
        "    with zipfile.ZipFile(DATASET_DIR + 'train_masks.zip', 'r') as zip_file:\n",
        "        zip_file.extractall(WORKING_DIR)\n",
        "\n",
        "    print(\n",
        "        len(os.listdir(WORKING_DIR + 'train')),\n",
        "        len(os.listdir(WORKING_DIR + 'train_masks'))\n",
        "    )\n",
        "\n",
        "train_dataset= CarvanaDataset(WORKING_DIR)\n",
        "generator= torch.Generator().manual_seed(25)\n",
        "\n",
        "train_dataset, test_dataset= random_split(train_dataset, [0.8, 0.2], generator=generator)\n",
        "test_dataset, val_dataset  = random_split(test_dataset,  [0.5, 0.5], generator=generator)\n",
        "\n",
        "batch_size= 8\n",
        "\n",
        "train_loader= DataLoader(train_dataset, batch_size=batch_size, shuffle=True)\n",
        "val_loader  = DataLoader(val_dataset, batch_size=batch_size, shuffle=False)\n",
        "test_loader = DataLoader(test_dataset, batch_size=batch_size, shuffle=False)"
      ],
      "metadata": {
        "id": "5iwwKdkbeAiY"
      },
      "execution_count": null,
      "outputs": []
    },
    {
      "cell_type": "code",
      "source": [
        "len(train_loader), len(val_loader)"
      ],
      "metadata": {
        "id": "JdKFdWRkVgoI"
      },
      "execution_count": null,
      "outputs": []
    },
    {
      "cell_type": "markdown",
      "source": [
        "# Evaluating Segmentation Performance with the DICE Metric\n",
        "\n",
        "The DICE metric provides a measure of the similarity between two sets, in this case, the predicted segmentation and the ground truth segmentation. It calculates the overlap between the two sets, taking into account both the false positives and false negatives.\n",
        "\n",
        "$$\\text{DICE score} = \\frac{2 * (\\text{number of common elements})}{(\\text{number of elements in set }A + \\text{number of elements in set }B)}$$\n",
        "\n",
        "The DICE coefficient ranges from 0 to 1, where a value closer to 1 indicates a higher degree of overlap and thus better segmentation performance. A DICE score of 1 would mean a perfect overlap between the predicted and ground truth segmentations, while a score of 0 would indicate no overlap at all."
      ],
      "metadata": {
        "id": "1lGfUXSsBNit"
      }
    },
    {
      "cell_type": "code",
      "source": [
        "class DICE:\n",
        "\n",
        "    def __init__(self, eps=1e-7):\n",
        "        self.eps= eps\n",
        "\n",
        "    def __call__(self, y_pred, y_true):\n",
        "        y_pred_copy= y_pred.clone()\n",
        "\n",
        "        y_pred_copy[y_pred_copy < 0.]= 0\n",
        "        y_pred_copy[y_pred_copy > 0.]= 1\n",
        "\n",
        "        intersection= abs(torch.sum(y_pred_copy * y_true))\n",
        "        union= abs(torch.sum(y_pred_copy) + torch.sum(y_true))\n",
        "        dice= (2.0 * intersection + self.eps) / (union + self.eps)\n",
        "\n",
        "        return dice\n"
      ],
      "metadata": {
        "id": "GjvxgLIkCuTv"
      },
      "execution_count": null,
      "outputs": []
    },
    {
      "cell_type": "markdown",
      "source": [
        "# Training setup using TF32 and Fused AdamW"
      ],
      "metadata": {
        "id": "hFPpG74UGgje"
      }
    },
    {
      "cell_type": "code",
      "source": [
        "use_fused= False\n",
        "\n",
        "if device== 'cuda': # TF32 computationally more efficient (slightly the same precision of FP32)\n",
        "    torch.set_float32_matmul_precision('high')\n",
        "    # create AdamW optimizer and use the fused version of it is available\n",
        "    fused_available= 'fused' in inspect.signature(torch.optim.AdamW).parameters\n",
        "    # fused is a lot faster when it is available and when running on cuda\n",
        "    use_fused= fused_available\n",
        "\n",
        "\n",
        "# --- U-Net ---\n",
        "in_channels= 3\n",
        "num_classes= 1\n",
        "segmentation= True\n",
        "dropout= 0.1\n",
        "\n",
        "model= UNet(in_channels, num_classes, segmentation, dropout).to(device)\n",
        "count_parameters(model)\n",
        "\n",
        "\n",
        "# train_loader has size 509, so 10 epochs have 5,090 steps\n",
        "epochs= 10\n",
        "learning_rate= 3e-4\n",
        "\n",
        "optimizer= torch.optim.AdamW(\n",
        "    model.parameters(), lr=learning_rate, betas=(0.9, 0.999), weight_decay=1e-4,\n",
        "    fused=use_fused\n",
        ")\n",
        "print(f\"Using fused AdamW: {use_fused}\")\n",
        "\n",
        "criterion= nn.BCEWithLogitsLoss()\n",
        "dice_coefficient= DICE()\n",
        "\n",
        "scheduler= None"
      ],
      "metadata": {
        "id": "NUYBkW_AGgjf"
      },
      "execution_count": null,
      "outputs": []
    },
    {
      "cell_type": "code",
      "source": [
        "tr_loss, vl_loss, tr_dice, vl_dice= trainer(model, train_loader, val_loader, optimizer, criterion,\n",
        "                                            scheduler, epochs, device, dice_coef=dice_coefficient,\n",
        "                                            verbose=True)"
      ],
      "metadata": {
        "id": "aQNgK6oJGgjg"
      },
      "execution_count": null,
      "outputs": []
    },
    {
      "cell_type": "code",
      "source": [
        "# plot\n",
        "plot_losses(tr_loss, vl_loss, tr_dice, vl_dice)"
      ],
      "metadata": {
        "id": "5XxA0xJUGgjh"
      },
      "execution_count": null,
      "outputs": []
    },
    {
      "cell_type": "code",
      "source": [
        "eval_loss, eval_dcs= evaluate_model(model, test_loader, device, criterion,\n",
        "                                    dice_coef=dice_coefficient, verbose=True)"
      ],
      "metadata": {
        "id": "gJSOdFUBGgjh"
      },
      "execution_count": null,
      "outputs": []
    },
    {
      "cell_type": "markdown",
      "source": [
        "# Visualize Results"
      ],
      "metadata": {
        "id": "yrrsmzjzagJM"
      }
    },
    {
      "cell_type": "code",
      "source": [
        "def random_images_inference(model, image_tensors, mask_tensors, device):\n",
        "    transform= transforms.Compose([\n",
        "        transforms.Resize((512, 512))\n",
        "    ])\n",
        "\n",
        "    # Iterate for the images, masks and paths\n",
        "    for image_pth, mask_pth in zip(image_tensors, mask_tensors):\n",
        "        # Load the image\n",
        "        img= transform(image_pth)\n",
        "\n",
        "        # Predict the imagen with the model\n",
        "        pred_mask= model(img.unsqueeze(0))\n",
        "        pred_mask= pred_mask.squeeze(0).permute(1, 2, 0)\n",
        "\n",
        "        # Load the mask to compare\n",
        "        mask= transform(mask_pth).permute(1, 2, 0).to(device)\n",
        "\n",
        "        print(f\"DICE coefficient: {round(float(dice_coefficient(pred_mask, mask)), 5)}\")\n",
        "\n",
        "        # Show the images\n",
        "        img= img.detach().cpu().permute(1, 2, 0)\n",
        "        pred_mask= pred_mask.detach().cpu()\n",
        "        pred_mask[pred_mask < 0]= 0\n",
        "        pred_mask[pred_mask > 0]= 1\n",
        "\n",
        "        plt.figure(figsize=(15, 16))\n",
        "        plt.subplot(131), plt.imshow(img), plt.title(\"original\")\n",
        "        plt.subplot(132), plt.imshow(pred_mask, cmap=\"gray\"), plt.title(\"predicted\")\n",
        "        plt.subplot(133), plt.imshow(mask, cmap=\"gray\"), plt.title(\"mask\")\n",
        "        plt.show()\n"
      ],
      "metadata": {
        "id": "E9BvaUYcZ2kZ"
      },
      "execution_count": null,
      "outputs": []
    },
    {
      "cell_type": "code",
      "source": [
        "n= 10\n",
        "\n",
        "image_tensors= []\n",
        "mask_tensors = []\n",
        "\n",
        "for _ in range(n):\n",
        "    random_index = random.randint(0, len(test_loader.dataset) - 1)\n",
        "    random_sample= test_loader.dataset[random_index]\n",
        "\n",
        "    image_tensors.append(random_sample[0])\n",
        "    mask_tensors.append(random_sample[1])\n",
        "\n",
        "random_images_inference(model, image_tensors, mask_tensors, device=\"cpu\")"
      ],
      "metadata": {
        "id": "1CUVBeGFaM3v"
      },
      "execution_count": null,
      "outputs": []
    },
    {
      "cell_type": "code",
      "source": [
        "from google.colab import runtime\n",
        "runtime.unassign()"
      ],
      "metadata": {
        "id": "mpchzGLER0NZ"
      },
      "execution_count": null,
      "outputs": []
    },
    {
      "cell_type": "markdown",
      "source": [
        "# Classification -- Loading the CIFAR10 Dataset"
      ],
      "metadata": {
        "id": "l1a_G8-ODsF2"
      }
    },
    {
      "cell_type": "code",
      "source": [
        "# data preparation -- define transformations for the dataset\n",
        "transform= transforms.Compose([\n",
        "    transforms.Resize((224, 224)),\n",
        "    transforms.RandomHorizontalFlip(),\n",
        "    transforms.ToTensor(),\n",
        "    transforms.Normalize(mean=[0.4914, 0.4822, 0.4465],\n",
        "                         std= [0.2023, 0.1994, 0.2010]), # CIFAR-10 stats\n",
        "])\n",
        "\n",
        "# load the CIFAR-10 dataset\n",
        "train_dataset= datasets.CIFAR10(root='./data', train=True, download=True, transform=transform)\n",
        "test_dataset = datasets.CIFAR10(root='./data', train=False,download=True, transform=transform)\n",
        "\n",
        "# create data loaders\n",
        "train_size= int(0.9 * len(train_dataset))\n",
        "val_size  = len(train_dataset) - train_size\n",
        "train_dataset, val_dataset= random_split(train_dataset, [train_size, val_size])\n",
        "\n",
        "batch_size= 128\n",
        "train_loader= DataLoader(train_dataset,batch_size=batch_size, shuffle=True)\n",
        "val_loader  = DataLoader(val_dataset,  batch_size=batch_size, shuffle=False)\n",
        "test_loader = DataLoader(test_dataset, batch_size=batch_size, shuffle=False)"
      ],
      "metadata": {
        "id": "ICNPkKbMDFeX",
        "colab": {
          "base_uri": "https://localhost:8080/"
        },
        "outputId": "2f8f04cb-5171-468d-ca2c-78a7cfd4f7bf"
      },
      "execution_count": null,
      "outputs": [
        {
          "output_type": "stream",
          "name": "stderr",
          "text": [
            "100%|██████████| 170M/170M [00:05<00:00, 30.0MB/s]\n"
          ]
        }
      ]
    },
    {
      "cell_type": "code",
      "source": [
        "len(train_loader), len(val_loader)"
      ],
      "metadata": {
        "id": "PADFIyXpDFiI",
        "colab": {
          "base_uri": "https://localhost:8080/"
        },
        "outputId": "42163e6c-d806-44a8-af81-594e38499841"
      },
      "execution_count": null,
      "outputs": [
        {
          "output_type": "execute_result",
          "data": {
            "text/plain": [
              "(352, 40)"
            ]
          },
          "metadata": {},
          "execution_count": 13
        }
      ]
    },
    {
      "cell_type": "markdown",
      "source": [
        "# Training setup using TF32, Fused AdamW, and Label Smoothing"
      ],
      "metadata": {
        "id": "WiutcMgtGtS4"
      }
    },
    {
      "cell_type": "code",
      "source": [
        "use_fused= False\n",
        "\n",
        "if device== 'cuda': # TF32 computationally more efficient (slightly the same precision of FP32)\n",
        "    torch.set_float32_matmul_precision('high')\n",
        "    # create AdamW optimizer and use the fused version of it is available\n",
        "    fused_available= 'fused' in inspect.signature(torch.optim.AdamW).parameters\n",
        "    # fused is a lot faster when it is available and when running on cuda\n",
        "    use_fused= fused_available\n",
        "\n",
        "\n",
        "# --- U-Net ---\n",
        "in_channels= 3\n",
        "num_classes= 10\n",
        "segmentation= False\n",
        "dropout= 0.1\n",
        "\n",
        "model= UNet(in_channels, num_classes, segmentation, dropout).to(device)\n",
        "count_parameters(model)\n",
        "\n",
        "\n",
        "# train_loader has size 352, so 20 epochs have 7,040 steps\n",
        "epochs= 20\n",
        "learning_rate= 5e-4\n",
        "\n",
        "optimizer= torch.optim.AdamW(\n",
        "    model.parameters(), lr=learning_rate, betas=(0.9, 0.999), weight_decay=1e-4,\n",
        "    fused=use_fused\n",
        ")\n",
        "print(f\"Using fused AdamW: {use_fused}\")\n",
        "criterion= nn.CrossEntropyLoss(label_smoothing=0.1)\n",
        "# for decreasing learning rate -- the ReduceLROnPlateau is designed to be used per epoch\n",
        "scheduler= ReduceLROnPlateau(optimizer, mode='min', factor=0.1, patience=3, min_lr=1e-6)"
      ],
      "metadata": {
        "colab": {
          "base_uri": "https://localhost:8080/"
        },
        "outputId": "42c1ca3f-6b2e-4fb2-b610-40fae49a5c4f",
        "id": "uWDrvo-kGtS6"
      },
      "execution_count": null,
      "outputs": [
        {
          "output_type": "stream",
          "name": "stdout",
          "text": [
            "Number of parameters: 31037258\n",
            "Using fused AdamW: True\n"
          ]
        }
      ]
    },
    {
      "cell_type": "code",
      "source": [
        "tr_loss, vl_loss= trainer(model, train_loader, val_loader, optimizer, criterion, scheduler,\n",
        "                          epochs, device, verbose=True)"
      ],
      "metadata": {
        "colab": {
          "base_uri": "https://localhost:8080/"
        },
        "outputId": "5034754a-7b6f-4027-e5eb-bc313dea9ca9",
        "id": "5nxcVjgiGtS7"
      },
      "execution_count": null,
      "outputs": [
        {
          "output_type": "stream",
          "name": "stdout",
          "text": [
            "Epoch: 0 | Train Loss: 1.8373 | Val Loss: 1.7031 | dt/epoch: 255497.07ms\n",
            "Epoch: 1 | Train Loss: 1.5375 | Val Loss: 1.5657 | dt/epoch: 253427.10ms\n",
            "Epoch: 2 | Train Loss: 1.3497 | Val Loss: 1.3960 | dt/epoch: 253368.25ms\n",
            "Epoch: 3 | Train Loss: 1.2287 | Val Loss: 1.2213 | dt/epoch: 253465.64ms\n",
            "Epoch: 4 | Train Loss: 1.1429 | Val Loss: 1.4235 | dt/epoch: 253571.41ms\n",
            "Epoch: 5 | Train Loss: 1.0830 | Val Loss: 1.2278 | dt/epoch: 254166.69ms\n",
            "Epoch: 6 | Train Loss: 1.0283 | Val Loss: 1.0704 | dt/epoch: 254149.52ms\n",
            "Epoch: 7 | Train Loss: 0.9830 | Val Loss: 1.1291 | dt/epoch: 253595.28ms\n",
            "Epoch: 8 | Train Loss: 0.9395 | Val Loss: 1.1003 | dt/epoch: 253830.82ms\n",
            "Epoch: 9 | Train Loss: 0.9068 | Val Loss: 1.0836 | dt/epoch: 253341.20ms\n",
            "Epoch: 10 | Train Loss: 0.8764 | Val Loss: 1.0564 | dt/epoch: 254003.40ms\n",
            "Epoch: 11 | Train Loss: 0.8460 | Val Loss: 1.0018 | dt/epoch: 253733.68ms\n",
            "Epoch: 12 | Train Loss: 0.8239 | Val Loss: 0.9474 | dt/epoch: 254026.07ms\n",
            "Epoch: 13 | Train Loss: 0.7993 | Val Loss: 0.9702 | dt/epoch: 253331.51ms\n",
            "Epoch: 14 | Train Loss: 0.7766 | Val Loss: 0.9101 | dt/epoch: 254111.13ms\n",
            "Epoch: 15 | Train Loss: 0.7562 | Val Loss: 0.9705 | dt/epoch: 253623.75ms\n",
            "Epoch: 16 | Train Loss: 0.7411 | Val Loss: 0.9624 | dt/epoch: 254004.13ms\n",
            "Epoch: 17 | Train Loss: 0.7186 | Val Loss: 0.9859 | dt/epoch: 253792.34ms\n",
            "Epoch: 18 | Train Loss: 0.7035 | Val Loss: 0.9636 | dt/epoch: 254041.15ms\n",
            "Epoch: 19 | Train Loss: 0.6336 | Val Loss: 0.7902 | dt/epoch: 253924.96ms\n"
          ]
        }
      ]
    },
    {
      "cell_type": "code",
      "source": [
        "# plot\n",
        "plot_losses(tr_loss, vl_loss)"
      ],
      "metadata": {
        "colab": {
          "base_uri": "https://localhost:8080/",
          "height": 472
        },
        "outputId": "a0bf19b0-7593-4ed9-8b19-24b32f9fa075",
        "id": "DVQN5L3qGtS8"
      },
      "execution_count": null,
      "outputs": [
        {
          "output_type": "display_data",
          "data": {
            "text/plain": [
              "<Figure size 640x480 with 1 Axes>"
            ],
            "image/png": "[encoded data removed]"
          },
          "metadata": {}
        }
      ]
    },
    {
      "cell_type": "code",
      "source": [
        "unet_acc= evaluate_model(model, test_loader, device, verbose=True)"
      ],
      "metadata": {
        "colab": {
          "base_uri": "https://localhost:8080/"
        },
        "outputId": "3f112ca5-645b-4f73-c526-690d3d434e74",
        "id": "IajZcrYUGtS9"
      },
      "execution_count": null,
      "outputs": [
        {
          "output_type": "stream",
          "name": "stdout",
          "text": [
            "Accuracy: 88.54%\n"
          ]
        }
      ]
    },
    {
      "cell_type": "code",
      "source": [
        "# https://medium.com/@alejandro.itoaramendia/decoding-the-u-net-a-complete-guide-810b1c6d56d8\n",
        "# https://medium.com/@fernandopalominocobo/mastering-u-net-a-step-by-step-guide-to-segmentation-from-scratch-with-pytorch-6a17c5916114\n",
        "# https://medium.com/@AIchemizt/u-net-architecture-explained-a-simple-guide-with-pytorch-code-fc33619f2b75"
      ],
      "metadata": {
        "id": "IGkS40SjEr0r"
      },
      "execution_count": null,
      "outputs": []
    }
  ]
}