{
  "nbformat": 4,
  "nbformat_minor": 0,
  "metadata": {
    "colab": {
      "provenance": [],
      "toc_visible": true,
      "gpuType": "A100",
      "machine_shape": "hm"
    },
    "kernelspec": {
      "name": "python3",
      "display_name": "Python 3"
    },
    "language_info": {
      "name": "python"
    },
    "accelerator": "GPU"
  },
  "cells": [
    {
      "cell_type": "markdown",
      "source": [
        "# ConvNeXt from Scratch in PyTorch\n",
        "\n",
        "The authors of ConvNeXt did their best to revive ResNet by improving it following new practices and discoveries made in the last decade to perform better and to be more similar to a transformer, without actually turning it into a transformer or adding attention into the mix. The authors focused on Swin-Transformer and follows closely its design choices.\n",
        "\n",
        "https://arxiv.org/abs/2201.03545"
      ],
      "metadata": {
        "id": "Yqc4ZHaR4PpQ"
      }
    },
    {
      "cell_type": "code",
      "execution_count": 1,
      "metadata": {
        "id": "KTttaB-A4O_Y"
      },
      "outputs": [],
      "source": [
        "import time\n",
        "import math\n",
        "import numpy as np\n",
        "import matplotlib.pyplot as plt\n",
        "import inspect\n",
        "import torch\n",
        "import torch.nn as nn\n",
        "import torch.nn.functional as F\n",
        "from torch.optim.lr_scheduler import ReduceLROnPlateau"
      ]
    },
    {
      "cell_type": "code",
      "source": [
        "device= 'cuda' if torch.cuda.is_available() else 'cpu'"
      ],
      "metadata": {
        "id": "3unqYKnd4Rgu"
      },
      "execution_count": 2,
      "outputs": []
    },
    {
      "cell_type": "code",
      "source": [
        "# count how many trainable weights the model has\n",
        "def count_parameters(model) -> None:\n",
        "    total_params= sum(p.numel() for p in model.parameters() if p.requires_grad)\n",
        "    print(f'Number of parameters: {total_params}')"
      ],
      "metadata": {
        "id": "IJiEokwa4Rke"
      },
      "execution_count": 3,
      "outputs": []
    },
    {
      "cell_type": "markdown",
      "source": [
        "# Define configs for different ConvNeXt versions\n",
        "\n",
        "ResNet-50 has four stages, where stages one and four have three blocks, stage two has four blocks and stage three has six blocks (3, 4, 6, 3). Swin-T also consists of four stages with a ratio of 1:1:3:1 Swin-Transformer Blocks in each stage. Therefore, ConvNeXt adjusts ResNet-50 stages to be more similar to that of the Swin-Transformer, i.e., (3, 3, 9, 3)."
      ],
      "metadata": {
        "id": "LRUyDqvQ4evJ"
      }
    },
    {
      "cell_type": "code",
      "source": [
        "# convnext_= dims (channels), depths (number of blocks at each stage)\n",
        "model_hparameters= {}\n",
        "model_hparameters['convnext_tiny']  = ([ 96,192, 384, 768], [3,3, 9,3])  # similar size to resnet50\n",
        "model_hparameters['convnext_small'] = ([ 96,192, 384, 768], [3,3,27,3])\n",
        "model_hparameters['convnext_base']  = ([128,256, 512,1024], [3,3,27,3])\n",
        "model_hparameters['convnext_large'] = ([192,384, 768,1536], [3,3,27,3])\n",
        "model_hparameters['convnext_xlarge']= ([256,512,1024,2048], [3,3,27,3])"
      ],
      "metadata": {
        "id": "NBK4VF_C4Rn-"
      },
      "execution_count": 4,
      "outputs": []
    },
    {
      "cell_type": "markdown",
      "source": [
        "# Architecture Implementation\n",
        "\n",
        "Starting by the fundamental building block of a CNN, represented by a convolutional layer. ConvNeXt replaces all the Rectified Linear Units (ReLU) in the activation layers with Gaussian Error Linear Units (GELU) as they are smoother and used by Swin Transformers, and replace Batch Normalisation (BN) with Layer Normalisation (LN).\n",
        "\n",
        "Groups is specified to control how convolution is applied to input. If group=1, then a kernel is applied to all input channels and if group=in_channel (depthwise convolution), then a single convolutional kernel is applied for each input channel."
      ],
      "metadata": {
        "id": "1rA4qMZP4kOX"
      }
    },
    {
      "cell_type": "code",
      "source": [
        "class ConvLayer(nn.Module):\n",
        "    \"\"\"\n",
        "    Implements one customizable CNN layer.\n",
        "    ConvNeXt-style: Input -> (pre Norm) -> Conv2d -> (pos Norm) -> Activation -> Output\n",
        "    - pre_norm only when downsampling (so that the LN sees \"old\" activations),\n",
        "    - post_norm -- GroupNorm(1, C, eps) -- everywhere else.\n",
        "    \"\"\"\n",
        "\n",
        "    def __init__(self, in_channels, out_channels, kernel_size, stride, padding=0, groups=1,\n",
        "                 bias=False, pre_norm=False, post_norm=True, activation=None, eps=1e-6) -> None:\n",
        "        super(ConvLayer, self).__init__()\n",
        "        # Pre normalization for the downsample layers (LayerNorm over channels)\n",
        "        self.pre_norm= nn.GroupNorm(\n",
        "            num_groups=1, num_channels=in_channels, eps=eps\n",
        "        ) if pre_norm else None\n",
        "        # Convolutional module\n",
        "        self.conv= nn.Conv2d(\n",
        "            in_channels, out_channels, kernel_size, stride, padding, groups=groups, bias=bias\n",
        "        )\n",
        "        # GroupNorm with num_groups=1 is the same as LayerNorm but works for 2D data\n",
        "        self.post_norm= nn.GroupNorm(\n",
        "            num_groups=1, num_channels=out_channels, eps=eps\n",
        "        ) if post_norm else None\n",
        "        # Activation function -- GELU is the default in ConvNeXt\n",
        "        self.activation= activation\n",
        "\n",
        "\n",
        "    def forward(self, x):\n",
        "        if self.pre_norm is not None:\n",
        "            x= self.pre_norm(x)\n",
        "        x= self.conv(x)\n",
        "        if self.post_norm is not None:\n",
        "            x= self.post_norm(x)\n",
        "        if self.activation is not None:\n",
        "            x= self.activation(x)\n",
        "\n",
        "        return x\n"
      ],
      "metadata": {
        "id": "U_0FaR0i4RrE"
      },
      "execution_count": 5,
      "outputs": []
    },
    {
      "cell_type": "markdown",
      "source": [
        "nn.LayerNorm by default expects inputs of shape $[*, D]$ (or more generally it normalizes over the last len(normalized_shape) dimensions). When we do nn.LayerNorm(normalized_shape=$D$) on a tensor of shape $[B, D]$ it computes mean/var over each vector of length $D$. LayerNorm2d (as used in torchvision's ConvNeXt) is really just a version of LayerNorm that works on 4D tensors $[B,C,H,W]$, normalizing across the $C \\times H \\times W$ dimensions per sample. Under the hood it is implemented using a GroupNorm with G=1 that computes mean/var over all channels and spatial positions — exactly matches what we want for a \"2D LayerNorm.\"\n",
        "\n",
        "Therefore, by using GroupNorm(num_groups=1, num_channels=C) in our feature extractor, we are doing exactly the same normalization that torchvision calls \"LayerNorm2d after the stem and before each pointwise 1x1 conv.\""
      ],
      "metadata": {
        "id": "S44Ji7VJ6Bqh"
      }
    },
    {
      "cell_type": "code",
      "source": [
        "class StochasticDepth(nn.Module):\n",
        "    \"\"\"\n",
        "    Implements stochastic depth regularization. See EfficientNet.\n",
        "    During training, randomly drops the output of the block with probability survival_prob\n",
        "    (1 - p_drop) scaling the remaining output to maintain the expected value.\n",
        "    - mode: 'row' to drop per-sample, 'batch' to drop entire batch together.\n",
        "    \"\"\"\n",
        "\n",
        "    def __init__(self, p_drop, mode='row') -> None:\n",
        "        super(StochasticDepth, self).__init__()\n",
        "        assert 0.0 <= p_drop <= 1.0, \"p_drop must be in [0, 1]\"\n",
        "        assert mode in ('row', 'batch'), \"mode must be 'row' or 'batch'\"\n",
        "        self.p_drop= p_drop\n",
        "        self.mode= mode\n",
        "\n",
        "\n",
        "    def extra_repr(self):\n",
        "        return f\"p={self.p_drop}, mode={self.mode}\"\n",
        "\n",
        "\n",
        "    def forward(self, x):\n",
        "        if not self.training or self.p_drop== 0.0:\n",
        "            return x\n",
        "\n",
        "        survival_prob= 1.0 - self.p_drop\n",
        "\n",
        "        if self.mode== 'row':\n",
        "            # Mask with the same batch size and shape (broadcasted over spatial dimensions)\n",
        "            mask_shape= [x.shape[0]] + [1] * (x.ndim - 1)\n",
        "        else:  # 'batch'\n",
        "            # Mask for the whole batch\n",
        "            mask_shape= [1] * x.ndim\n",
        "\n",
        "        mask= torch.empty(mask_shape, dtype=x.dtype, device=x.device)\n",
        "        mask= mask.bernoulli_(survival_prob)\n",
        "        # Scale the output to maintain expected value and apply the mask\n",
        "        if survival_prob > 0.0:\n",
        "            mask.div_(survival_prob)\n",
        "\n",
        "        return x * mask\n"
      ],
      "metadata": {
        "id": "glbh157386kG"
      },
      "execution_count": 6,
      "outputs": []
    },
    {
      "cell_type": "markdown",
      "source": [
        "ConvNext uses depthwise convolutions (like in MobileNet and later in EfficientNet). This operation reduces FLOPS and is similar to taking the weighted sum in self-attention, which mixes information only in the spatial dimension.\n",
        "\n",
        "One important design in every Transformer block is that it creates an **inverted bottleneck**, i.e., the hidden dimension of the FFN block is four times wider than the input dimension. Interestingly, this Transformer design is connected to the inverted bottleneck design with an expansion ratio of 4 used in 1x1 convs. So we go from **wide -> narrow -> wide** to **narrow -> wide -> narrow**. The idea was popularized by MobileNetV2 (InvertedBottleneckBlock), and has subsequently gained traction in several advanced CNN architectures.\n",
        "\n",
        "However, the depthwise convolutional layer was moved from the center to the first layer in the block, and its kernel size was increased to 7x7.\n",
        "\n",
        "In Transformer blocks, there is only one activation function, the one inside the MLP block. ConvNeXt reduces the number of activation functions and keeps only the one after the middle conv layer of the inverted bottleneck. Similar to activations, the authors reduced the number of normalization layers, keeping only the one before the middle conv."
      ],
      "metadata": {
        "id": "3AynWUrckX8B"
      }
    },
    {
      "cell_type": "code",
      "source": [
        "class CNBlock(nn.Module):\n",
        "    \"\"\"\n",
        "    Implements the ConvNeXt Inverted Bottleneck Block with layer scale and stochastic depth.\n",
        "    \"\"\"\n",
        "\n",
        "    def __init__(self, channels, expansion_ratio=4, bias=True, activation=None, drop_path=0.0,\n",
        "                 layer_scale_init=1e-6) -> None:\n",
        "        super(CNBlock, self).__init__()\n",
        "        # Activation function -- GELU is the default in ConvNeXt\n",
        "        activation= nn.GELU() if activation is None else activation\n",
        "\n",
        "        # The inverted bottleneck block\n",
        "        self.bottleneck= nn.Sequential(\n",
        "            # narrow -> wide (with depthwise conv and bigger kernel)\n",
        "            ConvLayer(\n",
        "                channels, channels, kernel_size=7, stride=1, padding=3, groups=channels,\n",
        "                bias=bias, pre_norm=False, post_norm=True, activation=None\n",
        "            ),\n",
        "            # wide -> wide (pointwise -- 1x1 conv)\n",
        "            ConvLayer(\n",
        "                channels, channels * expansion_ratio, kernel_size=1, stride=1, padding=0,\n",
        "                bias=bias, pre_norm=False, post_norm=False, activation=activation\n",
        "            ),\n",
        "            # wide -> narrow (projection phase -- 1x1 conv to restore channels)\n",
        "            ConvLayer(\n",
        "                channels * expansion_ratio, channels, kernel_size=1, stride=1, padding=0,\n",
        "                bias=bias, pre_norm=False, post_norm=False, activation=None\n",
        "            )\n",
        "        )\n",
        "        # (optional) layer‐scale (one learnable parameter per channel)\n",
        "        if layer_scale_init > 0.0:\n",
        "            self.layer_scaler= nn.Parameter(\n",
        "                layer_scale_init * torch.ones((channels)), requires_grad=True\n",
        "            )\n",
        "        else:\n",
        "            self.layer_scaler= None\n",
        "        # For stochastic depth\n",
        "        self.drop_path= StochasticDepth(drop_path) if drop_path > 0.0 else nn.Identity()\n",
        "\n",
        "\n",
        "    def forward(self, x):\n",
        "        # Save the original input for the residual connection\n",
        "        identity= x\n",
        "        # Compute the inverted bottleneck block convolutions\n",
        "        out= self.bottleneck(x)\n",
        "\n",
        "        if self.layer_scaler is not None:\n",
        "            # Reshape to [1, C, 1, 1] for broadcasting\n",
        "            out= self.layer_scaler[None, :, None, None] * out\n",
        "\n",
        "        out= identity + self.drop_path(out)\n",
        "\n",
        "        return out\n"
      ],
      "metadata": {
        "id": "g7YxhqPJ4Rt_"
      },
      "execution_count": 7,
      "outputs": []
    },
    {
      "cell_type": "markdown",
      "source": [
        "# Building the ConvNeXt\n",
        "\n",
        "ResNet **stem** uses a very aggressive 7x7 conv and a maxpool to heavily downsample the input images. But the Swin-Transformer uses non-overlapping patches with a 4x4 kernel size. Therefore, the **ConvNeXt** stem is now a 4x4 convolutional layer with a stride of four, so that the patches don't overlap.\n",
        "\n",
        "In ResNet, downsampling is done using stride=2 convs in the Bottleneck Blocks. Transformers have separate downsampling blocks. Therefore, ConvNeXt removes the stride=2 convs from Bottlenecks and adds **separate downsampling layers between stages** that consist of a layer normalization and a 2x2 conv layer with stride=2.\n",
        "\n",
        "Finally, ConvNeXt adds a layer normalisation after the average pooling after the fourth stage (before the classification head)."
      ],
      "metadata": {
        "id": "foshnQh84muo"
      }
    },
    {
      "cell_type": "code",
      "source": [
        "class ConvNeXt(nn.Module):\n",
        "    \"\"\"\n",
        "    Implements the ConvNeXt architecture.\n",
        "    \"\"\"\n",
        "\n",
        "    def __init__(self, configs, in_channels, num_classes=None, bias=True, activation=None,\n",
        "                 drop_path=0.1, layer_scale_init=1e-6) -> None:\n",
        "        super(ConvNeXt, self).__init__()\n",
        "        # dims (channels) and depths (number of blocks at each stage)\n",
        "        dims=   configs[0]\n",
        "        depths= configs[1]\n",
        "        # Activation function -- GELU is the default in ConvNeXt\n",
        "        activation= nn.GELU() if activation is None else activation\n",
        "\n",
        "        # Stem + 3 downsampling layers\n",
        "        downsample_layers= nn.ModuleList()\n",
        "        # Stem\n",
        "        downsample_layers.append(ConvLayer(\n",
        "            in_channels, dims[0], kernel_size=4, stride=4, padding=0, bias=bias,\n",
        "            pre_norm=False, post_norm=True, activation=None\n",
        "        ))\n",
        "        # and 3 intermediate downsampling ConvLayers\n",
        "        for i in range(3):\n",
        "            downsample_layers.append(ConvLayer(\n",
        "                dims[i], dims[i+1], kernel_size=2, stride=2, padding=0, bias=bias,\n",
        "                pre_norm=True, post_norm=False, activation=None\n",
        "            ))\n",
        "\n",
        "        # 4 feature resolution stages, each consisting of multiple Bottleneck (CN)Blocks\n",
        "        stages= nn.ModuleList()\n",
        "        # Create drop path probabilities (one for each stage)\n",
        "        total_blocks= sum(depths)\n",
        "        drop_rates= [x.item() for x in torch.linspace(0, drop_path, total_blocks)]\n",
        "        cur= 0  # current stage (to track how many blocks we've already assigned a drop‑path prob)\n",
        "\n",
        "        for i in range(4):\n",
        "            residual_blocks= nn.Sequential(\n",
        "                *[CNBlock(\n",
        "                    dims[i], expansion_ratio=4, bias=bias, activation=activation,\n",
        "                    drop_path=drop_rates[cur + j], layer_scale_init=layer_scale_init\n",
        "                ) for j in range(depths[i])]\n",
        "            )\n",
        "            stages.append(residual_blocks)\n",
        "            cur += depths[i]  # advance the offset by the number of blocks in this stage\n",
        "\n",
        "        # The feature extractor is a sequence of downsample_layers and resolution stages\n",
        "        features= nn.ModuleList()\n",
        "        for i in range(4):\n",
        "            features.append(downsample_layers[i])\n",
        "            features.append(stages[i])\n",
        "\n",
        "        self.features= nn.Sequential(*features)\n",
        "\n",
        "        # Pooling and classification head to produce the class logits\n",
        "        self.average_pool= nn.AdaptiveAvgPool2d(output_size=1)\n",
        "        self.fc_out= nn.Sequential(\n",
        "            nn.Flatten(start_dim=1),\n",
        "            nn.LayerNorm(dims[-1], eps=1e-6),\n",
        "            nn.Dropout(p=drop_path),\n",
        "            nn.Linear(dims[-1], num_classes)\n",
        "        ) if num_classes is not None else None\n",
        "\n",
        "        # initialize parameters with Xavier\n",
        "        for m in self.modules():\n",
        "            if isinstance(m, (nn.Conv2d, nn.Linear)):\n",
        "                nn.init.xavier_uniform_(m.weight)\n",
        "                if m.bias is not None: nn.init.zeros_(m.bias)\n",
        "            if isinstance(m, (nn.GroupNorm, nn.LayerNorm)):\n",
        "                nn.init.constant_(m.weight, 1.0)\n",
        "                nn.init.constant_(m.bias, 0.0)\n",
        "\n",
        "\n",
        "    def forward(self, x):\n",
        "        x= self.features(x)\n",
        "        x= self.average_pool(x)\n",
        "        if self.fc_out is not None:\n",
        "            x= self.fc_out(x)\n",
        "\n",
        "        return x\n"
      ],
      "metadata": {
        "id": "o60drr3L4R4U"
      },
      "execution_count": 8,
      "outputs": []
    },
    {
      "cell_type": "code",
      "source": [
        "from torchvision import models\n",
        "from torchvision.models import (\n",
        "    convnext_tiny,   ConvNeXt_Tiny_Weights,\n",
        "    convnext_small,  ConvNeXt_Small_Weights,\n",
        "    convnext_base,   ConvNeXt_Base_Weights,\n",
        "    convnext_large,  ConvNeXt_Large_Weights,\n",
        ")\n",
        "\n",
        "tvis_model= convnext_tiny(weights=ConvNeXt_Tiny_Weights.IMAGENET1K_V1).to(device)\n",
        "count_parameters(tvis_model)"
      ],
      "metadata": {
        "colab": {
          "base_uri": "https://localhost:8080/"
        },
        "id": "m4trv_gYhz5q",
        "outputId": "be376649-9d60-48e9-c5c4-f1bdabf15cbd"
      },
      "execution_count": null,
      "outputs": [
        {
          "output_type": "stream",
          "name": "stderr",
          "text": [
            "Downloading: \"https://download.pytorch.org/models/convnext_tiny-983f1562.pth\" to /root/.cache/torch/hub/checkpoints/convnext_tiny-983f1562.pth\n",
            "100%|██████████| 109M/109M [00:00<00:00, 140MB/s]\n"
          ]
        },
        {
          "output_type": "stream",
          "name": "stdout",
          "text": [
            "Number of parameters: 28589128\n"
          ]
        }
      ]
    },
    {
      "cell_type": "code",
      "source": [
        "img= torch.randn(1, 3, 224, 224).to(device)\n",
        "model= ConvNeXt(model_hparameters['convnext_tiny'], in_channels=3, num_classes=1000).to(device)\n",
        "count_parameters(model)\n",
        "print(model(img).shape)\n",
        "\n",
        "model"
      ],
      "metadata": {
        "colab": {
          "base_uri": "https://localhost:8080/"
        },
        "id": "yVt4Sh716Usg",
        "outputId": "104e7881-49da-4e92-a50b-915b6c733637"
      },
      "execution_count": null,
      "outputs": [
        {
          "output_type": "stream",
          "name": "stdout",
          "text": [
            "Number of parameters: 28589128\n",
            "torch.Size([1, 1000])\n"
          ]
        },
        {
          "output_type": "execute_result",
          "data": {
            "text/plain": [
              "ConvNeXt(\n",
              "  (features): Sequential(\n",
              "    (0): ConvLayer(\n",
              "      (conv): Conv2d(3, 96, kernel_size=(4, 4), stride=(4, 4))\n",
              "      (post_norm): GroupNorm(1, 96, eps=1e-06, affine=True)\n",
              "    )\n",
              "    (1): Sequential(\n",
              "      (0): CNBlock(\n",
              "        (bottleneck): Sequential(\n",
              "          (0): ConvLayer(\n",
              "            (conv): Conv2d(96, 96, kernel_size=(7, 7), stride=(1, 1), padding=(3, 3), groups=96)\n",
              "            (post_norm): GroupNorm(1, 96, eps=1e-06, affine=True)\n",
              "          )\n",
              "          (1): ConvLayer(\n",
              "            (conv): Conv2d(96, 384, kernel_size=(1, 1), stride=(1, 1))\n",
              "            (activation): GELU(approximate='none')\n",
              "          )\n",
              "          (2): ConvLayer(\n",
              "            (conv): Conv2d(384, 96, kernel_size=(1, 1), stride=(1, 1))\n",
              "          )\n",
              "        )\n",
              "        (drop_path): Identity()\n",
              "      )\n",
              "      (1): CNBlock(\n",
              "        (bottleneck): Sequential(\n",
              "          (0): ConvLayer(\n",
              "            (conv): Conv2d(96, 96, kernel_size=(7, 7), stride=(1, 1), padding=(3, 3), groups=96)\n",
              "            (post_norm): GroupNorm(1, 96, eps=1e-06, affine=True)\n",
              "          )\n",
              "          (1): ConvLayer(\n",
              "            (conv): Conv2d(96, 384, kernel_size=(1, 1), stride=(1, 1))\n",
              "            (activation): GELU(approximate='none')\n",
              "          )\n",
              "          (2): ConvLayer(\n",
              "            (conv): Conv2d(384, 96, kernel_size=(1, 1), stride=(1, 1))\n",
              "          )\n",
              "        )\n",
              "        (drop_path): StochasticDepth(p=0.0058823530562222, mode=row)\n",
              "      )\n",
              "      (2): CNBlock(\n",
              "        (bottleneck): Sequential(\n",
              "          (0): ConvLayer(\n",
              "            (conv): Conv2d(96, 96, kernel_size=(7, 7), stride=(1, 1), padding=(3, 3), groups=96)\n",
              "            (post_norm): GroupNorm(1, 96, eps=1e-06, affine=True)\n",
              "          )\n",
              "          (1): ConvLayer(\n",
              "            (conv): Conv2d(96, 384, kernel_size=(1, 1), stride=(1, 1))\n",
              "            (activation): GELU(approximate='none')\n",
              "          )\n",
              "          (2): ConvLayer(\n",
              "            (conv): Conv2d(384, 96, kernel_size=(1, 1), stride=(1, 1))\n",
              "          )\n",
              "        )\n",
              "        (drop_path): StochasticDepth(p=0.0117647061124444, mode=row)\n",
              "      )\n",
              "    )\n",
              "    (2): ConvLayer(\n",
              "      (pre_norm): GroupNorm(1, 96, eps=1e-06, affine=True)\n",
              "      (conv): Conv2d(96, 192, kernel_size=(2, 2), stride=(2, 2))\n",
              "    )\n",
              "    (3): Sequential(\n",
              "      (0): CNBlock(\n",
              "        (bottleneck): Sequential(\n",
              "          (0): ConvLayer(\n",
              "            (conv): Conv2d(192, 192, kernel_size=(7, 7), stride=(1, 1), padding=(3, 3), groups=192)\n",
              "            (post_norm): GroupNorm(1, 192, eps=1e-06, affine=True)\n",
              "          )\n",
              "          (1): ConvLayer(\n",
              "            (conv): Conv2d(192, 768, kernel_size=(1, 1), stride=(1, 1))\n",
              "            (activation): GELU(approximate='none')\n",
              "          )\n",
              "          (2): ConvLayer(\n",
              "            (conv): Conv2d(768, 192, kernel_size=(1, 1), stride=(1, 1))\n",
              "          )\n",
              "        )\n",
              "        (drop_path): StochasticDepth(p=0.01764705963432789, mode=row)\n",
              "      )\n",
              "      (1): CNBlock(\n",
              "        (bottleneck): Sequential(\n",
              "          (0): ConvLayer(\n",
              "            (conv): Conv2d(192, 192, kernel_size=(7, 7), stride=(1, 1), padding=(3, 3), groups=192)\n",
              "            (post_norm): GroupNorm(1, 192, eps=1e-06, affine=True)\n",
              "          )\n",
              "          (1): ConvLayer(\n",
              "            (conv): Conv2d(192, 768, kernel_size=(1, 1), stride=(1, 1))\n",
              "            (activation): GELU(approximate='none')\n",
              "          )\n",
              "          (2): ConvLayer(\n",
              "            (conv): Conv2d(768, 192, kernel_size=(1, 1), stride=(1, 1))\n",
              "          )\n",
              "        )\n",
              "        (drop_path): StochasticDepth(p=0.0235294122248888, mode=row)\n",
              "      )\n",
              "      (2): CNBlock(\n",
              "        (bottleneck): Sequential(\n",
              "          (0): ConvLayer(\n",
              "            (conv): Conv2d(192, 192, kernel_size=(7, 7), stride=(1, 1), padding=(3, 3), groups=192)\n",
              "            (post_norm): GroupNorm(1, 192, eps=1e-06, affine=True)\n",
              "          )\n",
              "          (1): ConvLayer(\n",
              "            (conv): Conv2d(192, 768, kernel_size=(1, 1), stride=(1, 1))\n",
              "            (activation): GELU(approximate='none')\n",
              "          )\n",
              "          (2): ConvLayer(\n",
              "            (conv): Conv2d(768, 192, kernel_size=(1, 1), stride=(1, 1))\n",
              "          )\n",
              "        )\n",
              "        (drop_path): StochasticDepth(p=0.029411764815449715, mode=row)\n",
              "      )\n",
              "    )\n",
              "    (4): ConvLayer(\n",
              "      (pre_norm): GroupNorm(1, 192, eps=1e-06, affine=True)\n",
              "      (conv): Conv2d(192, 384, kernel_size=(2, 2), stride=(2, 2))\n",
              "    )\n",
              "    (5): Sequential(\n",
              "      (0): CNBlock(\n",
              "        (bottleneck): Sequential(\n",
              "          (0): ConvLayer(\n",
              "            (conv): Conv2d(384, 384, kernel_size=(7, 7), stride=(1, 1), padding=(3, 3), groups=384)\n",
              "            (post_norm): GroupNorm(1, 384, eps=1e-06, affine=True)\n",
              "          )\n",
              "          (1): ConvLayer(\n",
              "            (conv): Conv2d(384, 1536, kernel_size=(1, 1), stride=(1, 1))\n",
              "            (activation): GELU(approximate='none')\n",
              "          )\n",
              "          (2): ConvLayer(\n",
              "            (conv): Conv2d(1536, 384, kernel_size=(1, 1), stride=(1, 1))\n",
              "          )\n",
              "        )\n",
              "        (drop_path): StochasticDepth(p=0.03529411926865578, mode=row)\n",
              "      )\n",
              "      (1): CNBlock(\n",
              "        (bottleneck): Sequential(\n",
              "          (0): ConvLayer(\n",
              "            (conv): Conv2d(384, 384, kernel_size=(7, 7), stride=(1, 1), padding=(3, 3), groups=384)\n",
              "            (post_norm): GroupNorm(1, 384, eps=1e-06, affine=True)\n",
              "          )\n",
              "          (1): ConvLayer(\n",
              "            (conv): Conv2d(384, 1536, kernel_size=(1, 1), stride=(1, 1))\n",
              "            (activation): GELU(approximate='none')\n",
              "          )\n",
              "          (2): ConvLayer(\n",
              "            (conv): Conv2d(1536, 384, kernel_size=(1, 1), stride=(1, 1))\n",
              "          )\n",
              "        )\n",
              "        (drop_path): StochasticDepth(p=0.04117647185921669, mode=row)\n",
              "      )\n",
              "      (2): CNBlock(\n",
              "        (bottleneck): Sequential(\n",
              "          (0): ConvLayer(\n",
              "            (conv): Conv2d(384, 384, kernel_size=(7, 7), stride=(1, 1), padding=(3, 3), groups=384)\n",
              "            (post_norm): GroupNorm(1, 384, eps=1e-06, affine=True)\n",
              "          )\n",
              "          (1): ConvLayer(\n",
              "            (conv): Conv2d(384, 1536, kernel_size=(1, 1), stride=(1, 1))\n",
              "            (activation): GELU(approximate='none')\n",
              "          )\n",
              "          (2): ConvLayer(\n",
              "            (conv): Conv2d(1536, 384, kernel_size=(1, 1), stride=(1, 1))\n",
              "          )\n",
              "        )\n",
              "        (drop_path): StochasticDepth(p=0.0470588244497776, mode=row)\n",
              "      )\n",
              "      (3): CNBlock(\n",
              "        (bottleneck): Sequential(\n",
              "          (0): ConvLayer(\n",
              "            (conv): Conv2d(384, 384, kernel_size=(7, 7), stride=(1, 1), padding=(3, 3), groups=384)\n",
              "            (post_norm): GroupNorm(1, 384, eps=1e-06, affine=True)\n",
              "          )\n",
              "          (1): ConvLayer(\n",
              "            (conv): Conv2d(384, 1536, kernel_size=(1, 1), stride=(1, 1))\n",
              "            (activation): GELU(approximate='none')\n",
              "          )\n",
              "          (2): ConvLayer(\n",
              "            (conv): Conv2d(1536, 384, kernel_size=(1, 1), stride=(1, 1))\n",
              "          )\n",
              "        )\n",
              "        (drop_path): StochasticDepth(p=0.052941177040338516, mode=row)\n",
              "      )\n",
              "      (4): CNBlock(\n",
              "        (bottleneck): Sequential(\n",
              "          (0): ConvLayer(\n",
              "            (conv): Conv2d(384, 384, kernel_size=(7, 7), stride=(1, 1), padding=(3, 3), groups=384)\n",
              "            (post_norm): GroupNorm(1, 384, eps=1e-06, affine=True)\n",
              "          )\n",
              "          (1): ConvLayer(\n",
              "            (conv): Conv2d(384, 1536, kernel_size=(1, 1), stride=(1, 1))\n",
              "            (activation): GELU(approximate='none')\n",
              "          )\n",
              "          (2): ConvLayer(\n",
              "            (conv): Conv2d(1536, 384, kernel_size=(1, 1), stride=(1, 1))\n",
              "          )\n",
              "        )\n",
              "        (drop_path): StochasticDepth(p=0.05882352963089943, mode=row)\n",
              "      )\n",
              "      (5): CNBlock(\n",
              "        (bottleneck): Sequential(\n",
              "          (0): ConvLayer(\n",
              "            (conv): Conv2d(384, 384, kernel_size=(7, 7), stride=(1, 1), padding=(3, 3), groups=384)\n",
              "            (post_norm): GroupNorm(1, 384, eps=1e-06, affine=True)\n",
              "          )\n",
              "          (1): ConvLayer(\n",
              "            (conv): Conv2d(384, 1536, kernel_size=(1, 1), stride=(1, 1))\n",
              "            (activation): GELU(approximate='none')\n",
              "          )\n",
              "          (2): ConvLayer(\n",
              "            (conv): Conv2d(1536, 384, kernel_size=(1, 1), stride=(1, 1))\n",
              "          )\n",
              "        )\n",
              "        (drop_path): StochasticDepth(p=0.06470588594675064, mode=row)\n",
              "      )\n",
              "      (6): CNBlock(\n",
              "        (bottleneck): Sequential(\n",
              "          (0): ConvLayer(\n",
              "            (conv): Conv2d(384, 384, kernel_size=(7, 7), stride=(1, 1), padding=(3, 3), groups=384)\n",
              "            (post_norm): GroupNorm(1, 384, eps=1e-06, affine=True)\n",
              "          )\n",
              "          (1): ConvLayer(\n",
              "            (conv): Conv2d(384, 1536, kernel_size=(1, 1), stride=(1, 1))\n",
              "            (activation): GELU(approximate='none')\n",
              "          )\n",
              "          (2): ConvLayer(\n",
              "            (conv): Conv2d(1536, 384, kernel_size=(1, 1), stride=(1, 1))\n",
              "          )\n",
              "        )\n",
              "        (drop_path): StochasticDepth(p=0.07058823853731155, mode=row)\n",
              "      )\n",
              "      (7): CNBlock(\n",
              "        (bottleneck): Sequential(\n",
              "          (0): ConvLayer(\n",
              "            (conv): Conv2d(384, 384, kernel_size=(7, 7), stride=(1, 1), padding=(3, 3), groups=384)\n",
              "            (post_norm): GroupNorm(1, 384, eps=1e-06, affine=True)\n",
              "          )\n",
              "          (1): ConvLayer(\n",
              "            (conv): Conv2d(384, 1536, kernel_size=(1, 1), stride=(1, 1))\n",
              "            (activation): GELU(approximate='none')\n",
              "          )\n",
              "          (2): ConvLayer(\n",
              "            (conv): Conv2d(1536, 384, kernel_size=(1, 1), stride=(1, 1))\n",
              "          )\n",
              "        )\n",
              "        (drop_path): StochasticDepth(p=0.07647059112787247, mode=row)\n",
              "      )\n",
              "      (8): CNBlock(\n",
              "        (bottleneck): Sequential(\n",
              "          (0): ConvLayer(\n",
              "            (conv): Conv2d(384, 384, kernel_size=(7, 7), stride=(1, 1), padding=(3, 3), groups=384)\n",
              "            (post_norm): GroupNorm(1, 384, eps=1e-06, affine=True)\n",
              "          )\n",
              "          (1): ConvLayer(\n",
              "            (conv): Conv2d(384, 1536, kernel_size=(1, 1), stride=(1, 1))\n",
              "            (activation): GELU(approximate='none')\n",
              "          )\n",
              "          (2): ConvLayer(\n",
              "            (conv): Conv2d(1536, 384, kernel_size=(1, 1), stride=(1, 1))\n",
              "          )\n",
              "        )\n",
              "        (drop_path): StochasticDepth(p=0.08235294371843338, mode=row)\n",
              "      )\n",
              "    )\n",
              "    (6): ConvLayer(\n",
              "      (pre_norm): GroupNorm(1, 384, eps=1e-06, affine=True)\n",
              "      (conv): Conv2d(384, 768, kernel_size=(2, 2), stride=(2, 2))\n",
              "    )\n",
              "    (7): Sequential(\n",
              "      (0): CNBlock(\n",
              "        (bottleneck): Sequential(\n",
              "          (0): ConvLayer(\n",
              "            (conv): Conv2d(768, 768, kernel_size=(7, 7), stride=(1, 1), padding=(3, 3), groups=768)\n",
              "            (post_norm): GroupNorm(1, 768, eps=1e-06, affine=True)\n",
              "          )\n",
              "          (1): ConvLayer(\n",
              "            (conv): Conv2d(768, 3072, kernel_size=(1, 1), stride=(1, 1))\n",
              "            (activation): GELU(approximate='none')\n",
              "          )\n",
              "          (2): ConvLayer(\n",
              "            (conv): Conv2d(3072, 768, kernel_size=(1, 1), stride=(1, 1))\n",
              "          )\n",
              "        )\n",
              "        (drop_path): StochasticDepth(p=0.0882352963089943, mode=row)\n",
              "      )\n",
              "      (1): CNBlock(\n",
              "        (bottleneck): Sequential(\n",
              "          (0): ConvLayer(\n",
              "            (conv): Conv2d(768, 768, kernel_size=(7, 7), stride=(1, 1), padding=(3, 3), groups=768)\n",
              "            (post_norm): GroupNorm(1, 768, eps=1e-06, affine=True)\n",
              "          )\n",
              "          (1): ConvLayer(\n",
              "            (conv): Conv2d(768, 3072, kernel_size=(1, 1), stride=(1, 1))\n",
              "            (activation): GELU(approximate='none')\n",
              "          )\n",
              "          (2): ConvLayer(\n",
              "            (conv): Conv2d(3072, 768, kernel_size=(1, 1), stride=(1, 1))\n",
              "          )\n",
              "        )\n",
              "        (drop_path): StochasticDepth(p=0.0941176488995552, mode=row)\n",
              "      )\n",
              "      (2): CNBlock(\n",
              "        (bottleneck): Sequential(\n",
              "          (0): ConvLayer(\n",
              "            (conv): Conv2d(768, 768, kernel_size=(7, 7), stride=(1, 1), padding=(3, 3), groups=768)\n",
              "            (post_norm): GroupNorm(1, 768, eps=1e-06, affine=True)\n",
              "          )\n",
              "          (1): ConvLayer(\n",
              "            (conv): Conv2d(768, 3072, kernel_size=(1, 1), stride=(1, 1))\n",
              "            (activation): GELU(approximate='none')\n",
              "          )\n",
              "          (2): ConvLayer(\n",
              "            (conv): Conv2d(3072, 768, kernel_size=(1, 1), stride=(1, 1))\n",
              "          )\n",
              "        )\n",
              "        (drop_path): StochasticDepth(p=0.10000000149011612, mode=row)\n",
              "      )\n",
              "    )\n",
              "  )\n",
              "  (average_pool): AdaptiveAvgPool2d(output_size=1)\n",
              "  (fc_out): Sequential(\n",
              "    (0): Flatten(start_dim=1, end_dim=-1)\n",
              "    (1): LayerNorm((768,), eps=1e-06, elementwise_affine=True)\n",
              "    (2): Dropout(p=0.1, inplace=False)\n",
              "    (3): Linear(in_features=768, out_features=1000, bias=True)\n",
              "  )\n",
              ")"
            ]
          },
          "metadata": {},
          "execution_count": 9
        }
      ]
    },
    {
      "cell_type": "code",
      "source": [
        "tvis_model= convnext_small(weights=ConvNeXt_Small_Weights.IMAGENET1K_V1).to(device)\n",
        "count_parameters(tvis_model)"
      ],
      "metadata": {
        "colab": {
          "base_uri": "https://localhost:8080/"
        },
        "id": "JCLgxwxoLAzY",
        "outputId": "6286b638-2287-4a3e-edeb-b6b774a04122"
      },
      "execution_count": null,
      "outputs": [
        {
          "output_type": "stream",
          "name": "stderr",
          "text": [
            "Downloading: \"https://download.pytorch.org/models/convnext_small-0c510722.pth\" to /root/.cache/torch/hub/checkpoints/convnext_small-0c510722.pth\n",
            "100%|██████████| 192M/192M [00:00<00:00, 237MB/s]\n"
          ]
        },
        {
          "output_type": "stream",
          "name": "stdout",
          "text": [
            "Number of parameters: 50223688\n"
          ]
        }
      ]
    },
    {
      "cell_type": "code",
      "source": [
        "model= ConvNeXt(model_hparameters['convnext_small'], in_channels=3, num_classes=1000).to(device)\n",
        "count_parameters(model)\n",
        "print(model(img).shape)"
      ],
      "metadata": {
        "colab": {
          "base_uri": "https://localhost:8080/"
        },
        "id": "oQ5cv9TmLZkM",
        "outputId": "0b55533e-4dff-4b0c-bafb-688adf0bf5cd"
      },
      "execution_count": null,
      "outputs": [
        {
          "output_type": "stream",
          "name": "stdout",
          "text": [
            "Number of parameters: 50223688\n",
            "torch.Size([1, 1000])\n"
          ]
        }
      ]
    },
    {
      "cell_type": "code",
      "source": [
        "tvis_model= convnext_base(weights=ConvNeXt_Base_Weights.IMAGENET1K_V1).to(device)\n",
        "count_parameters(tvis_model)"
      ],
      "metadata": {
        "colab": {
          "base_uri": "https://localhost:8080/"
        },
        "id": "ut7epmCQLBEf",
        "outputId": "3814bf77-9967-41d1-b285-a8a88d8dbd82"
      },
      "execution_count": null,
      "outputs": [
        {
          "output_type": "stream",
          "name": "stderr",
          "text": [
            "Downloading: \"https://download.pytorch.org/models/convnext_base-6075fbad.pth\" to /root/.cache/torch/hub/checkpoints/convnext_base-6075fbad.pth\n",
            "100%|██████████| 338M/338M [00:01<00:00, 235MB/s]\n"
          ]
        },
        {
          "output_type": "stream",
          "name": "stdout",
          "text": [
            "Number of parameters: 88591464\n"
          ]
        }
      ]
    },
    {
      "cell_type": "code",
      "source": [
        "model= ConvNeXt(model_hparameters['convnext_base'], in_channels=3, num_classes=1000).to(device)\n",
        "count_parameters(model)\n",
        "print(model(img).shape)"
      ],
      "metadata": {
        "colab": {
          "base_uri": "https://localhost:8080/"
        },
        "id": "HwkcRzycLaVJ",
        "outputId": "a55a5fdc-eda4-481a-8325-dff63571fa11"
      },
      "execution_count": null,
      "outputs": [
        {
          "output_type": "stream",
          "name": "stdout",
          "text": [
            "Number of parameters: 88591464\n",
            "torch.Size([1, 1000])\n"
          ]
        }
      ]
    },
    {
      "cell_type": "code",
      "source": [
        "tvis_model= convnext_large(weights=ConvNeXt_Large_Weights.IMAGENET1K_V1).to(device)\n",
        "count_parameters(tvis_model)"
      ],
      "metadata": {
        "colab": {
          "base_uri": "https://localhost:8080/"
        },
        "id": "ufUiglQpLBUN",
        "outputId": "d3e4f39e-4c1d-49cf-9839-2e8c08a59d82"
      },
      "execution_count": null,
      "outputs": [
        {
          "output_type": "stream",
          "name": "stderr",
          "text": [
            "Downloading: \"https://download.pytorch.org/models/convnext_large-ea097f82.pth\" to /root/.cache/torch/hub/checkpoints/convnext_large-ea097f82.pth\n",
            "100%|██████████| 755M/755M [00:03<00:00, 234MB/s]\n"
          ]
        },
        {
          "output_type": "stream",
          "name": "stdout",
          "text": [
            "Number of parameters: 197767336\n"
          ]
        }
      ]
    },
    {
      "cell_type": "code",
      "source": [
        "model= ConvNeXt(model_hparameters['convnext_large'], in_channels=3, num_classes=1000).to(device)\n",
        "count_parameters(model)\n",
        "print(model(img).shape)"
      ],
      "metadata": {
        "colab": {
          "base_uri": "https://localhost:8080/"
        },
        "id": "U1E4symsLbHw",
        "outputId": "470a218f-aff6-4e8e-9be3-1d7ee9b1f6cb"
      },
      "execution_count": null,
      "outputs": [
        {
          "output_type": "stream",
          "name": "stdout",
          "text": [
            "Number of parameters: 197767336\n",
            "torch.Size([1, 1000])\n"
          ]
        }
      ]
    },
    {
      "cell_type": "markdown",
      "source": [
        "# Training a ConvNeXt model from scratch"
      ],
      "metadata": {
        "id": "lAkIhlzt4u2x"
      }
    },
    {
      "cell_type": "code",
      "source": [
        "from torch.utils.data import DataLoader, random_split\n",
        "from torchvision import datasets, transforms"
      ],
      "metadata": {
        "id": "Jacl19u24SB1"
      },
      "execution_count": 9,
      "outputs": []
    },
    {
      "cell_type": "code",
      "source": [
        "# data preparation -- define transformations for the dataset\n",
        "transform= transforms.Compose([\n",
        "    transforms.Resize((224, 224)),\n",
        "    transforms.ToTensor(),\n",
        "    transforms.RandomHorizontalFlip(),\n",
        "    transforms.Normalize(mean=[0.4914, 0.4822, 0.4465],\n",
        "                         std= [0.2023, 0.1994, 0.2010]), # CIFAR-10 stats\n",
        "])\n",
        "\n",
        "# load the CIFAR-10 dataset\n",
        "train_dataset= datasets.CIFAR10(root='./data', train=True, download=True, transform=transform)\n",
        "test_dataset = datasets.CIFAR10(root='./data', train=False,download=True, transform=transform)\n",
        "\n",
        "# create data loaders\n",
        "train_size= int(0.9 * len(train_dataset))\n",
        "val_size  = len(train_dataset) - train_size\n",
        "train_dataset, val_dataset= random_split(train_dataset, [train_size, val_size])\n",
        "\n",
        "batch_size= 128\n",
        "train_loader= DataLoader(train_dataset,batch_size=batch_size, shuffle=True)\n",
        "val_loader  = DataLoader(val_dataset,  batch_size=batch_size, shuffle=False)\n",
        "test_loader = DataLoader(test_dataset, batch_size=batch_size, shuffle=False)"
      ],
      "metadata": {
        "id": "PDkm8nig4SFE",
        "colab": {
          "base_uri": "https://localhost:8080/"
        },
        "outputId": "3aa5d026-8146-4038-afaa-0b58e196bc0e"
      },
      "execution_count": 10,
      "outputs": [
        {
          "output_type": "stream",
          "name": "stderr",
          "text": [
            "100%|██████████| 170M/170M [00:05<00:00, 30.8MB/s]\n"
          ]
        }
      ]
    },
    {
      "cell_type": "code",
      "source": [
        "len(train_loader), len(val_loader)"
      ],
      "metadata": {
        "id": "N4ac5px24SJr",
        "colab": {
          "base_uri": "https://localhost:8080/"
        },
        "outputId": "149e18ef-71f8-4a5d-fa9c-2f1c02c536e4"
      },
      "execution_count": 11,
      "outputs": [
        {
          "output_type": "execute_result",
          "data": {
            "text/plain": [
              "(352, 40)"
            ]
          },
          "metadata": {},
          "execution_count": 11
        }
      ]
    },
    {
      "cell_type": "markdown",
      "source": [
        "# Trainer Function\n",
        "\n",
        "TODO:\n",
        "\n",
        "- Strong data augmentation for training.\n",
        "- Early Stopping: based on validation loss to prevent overfitting.\n",
        "- Play with different learning rate values.\n",
        "- More training epochs.\n",
        "- Larger batch sizes.\n",
        "- Use label smoothing."
      ],
      "metadata": {
        "id": "a8XPm86h45b3"
      }
    },
    {
      "cell_type": "code",
      "source": [
        "class CosineLRDecay:\n",
        "    \"\"\"\n",
        "    Modulates learning rate (LR) based on the iteration (step) number which LR there should be.\n",
        "    \"\"\"\n",
        "\n",
        "    def __init__(self, optimizer, min_lr, max_lr=3e-4, warmup_steps=10, max_steps=50) -> None:\n",
        "        assert warmup_steps < max_steps, \"warmup_steps must be less than max_steps\"\n",
        "        self.optimizer= optimizer\n",
        "        self.min_lr= min_lr\n",
        "        self.max_lr= max_lr\n",
        "        self.warmup_steps= warmup_steps\n",
        "        self.max_steps= max_steps\n",
        "        self.last_step= 0\n",
        "        self.last_lr= None\n",
        "\n",
        "\n",
        "    def get_last_lr(self):\n",
        "        \"\"\" Returns the last computed learning rate. \"\"\"\n",
        "        return self.last_lr\n",
        "\n",
        "\n",
        "    def get_lr(self, it):\n",
        "        \"\"\" Computes the learning rate at a given iteration 'step'. \"\"\"\n",
        "        # 1) linear warmup for warmup_iters steps iterations\n",
        "        if it< self.warmup_steps:\n",
        "            return self.max_lr * (it + 1) / self.warmup_steps\n",
        "        # 2) beyond max_steps, use the minimum learning rate\n",
        "        if it>= self.max_steps:\n",
        "            return self.min_lr\n",
        "        # 3) in between, use cosine decay down to min learning rate\n",
        "        decay_ratio= (it - self.warmup_steps) / (self.max_steps - self.warmup_steps)\n",
        "        assert 0 <= decay_ratio <= 1\n",
        "        # coeff starts at 1 and goes to 0\n",
        "        coeff= 0.5 * (1.0 + math.cos(math.pi * decay_ratio))\n",
        "\n",
        "        return self.min_lr + coeff * (self.max_lr - self.min_lr)\n",
        "\n",
        "\n",
        "    def step(self):\n",
        "        \"\"\" Updates the learning rate for all parameter groups in the optimizer. \"\"\"\n",
        "        self.last_lr= self.get_lr(self.last_step)\n",
        "        for param_group in self.optimizer.param_groups:\n",
        "            param_group['lr']= self.last_lr\n",
        "\n",
        "        self.last_step += 1\n"
      ],
      "metadata": {
        "id": "jDORjbXeg8uH"
      },
      "execution_count": 12,
      "outputs": []
    },
    {
      "cell_type": "code",
      "source": [
        "def trainer(model, train_loader, val_loader, optimizer, criterion, scheduler, epochs,\n",
        "            device, eval_interval=1, verbose=False):\n",
        "\n",
        "    tr_loss_hist= []\n",
        "    vl_loss_hist= []\n",
        "\n",
        "    # --- training loop ---\n",
        "    for epoch in range(epochs):\n",
        "        model.train()\n",
        "        batch_loss= []\n",
        "        start= time.time()\n",
        "\n",
        "        # --- training steps ---\n",
        "        # iterating over all batches\n",
        "        for step, (images, labels) in enumerate(train_loader):\n",
        "            optimizer.zero_grad()\n",
        "\n",
        "            # --- minibatch construction ---\n",
        "            images= images.to(device, non_blocking=True)\n",
        "            labels= labels.to(device, non_blocking=True)\n",
        "\n",
        "            # --- forward pass and get loss ---\n",
        "            logits= model(images)\n",
        "            loss= criterion(logits, labels)\n",
        "            batch_loss.append(loss.item())\n",
        "\n",
        "            # --- backward pass to calculate the gradients ---\n",
        "            loss.backward()\n",
        "\n",
        "            # --- update the parameters using the gradient ---\n",
        "            optimizer.step()\n",
        "            # for decreasing learning rate -- CosineLRDecay is designed to be used per step\n",
        "            scheduler.step()\n",
        "\n",
        "        # --- evaluation and track stats ---\n",
        "        tr_loss_hist.append(np.mean(batch_loss))\n",
        "\n",
        "        if epoch% eval_interval== 0 or epoch== epochs-1:\n",
        "            model.eval()\n",
        "            val_loss= []\n",
        "            with torch.no_grad():\n",
        "                for images, labels in val_loader:\n",
        "                    images, labels= images.to(device), labels.to(device)\n",
        "                    logits= model(images)\n",
        "                    loss_v= criterion(logits, labels)\n",
        "                    val_loss.append(loss_v.item())\n",
        "\n",
        "            val_loss= np.mean(val_loss)\n",
        "            end= time.time()\n",
        "            dt= end - start\n",
        "\n",
        "            if verbose:\n",
        "                print(f\"Epoch: {epoch} | Train Loss: {tr_loss_hist[-1]:.4f} | \"\n",
        "                      f\"Val Loss: {val_loss:.4f} | dt/epoch: {dt*1000:.2f}ms\")\n",
        "\n",
        "        vl_loss_hist.append(val_loss)\n",
        "\n",
        "    return tr_loss_hist, vl_loss_hist\n"
      ],
      "metadata": {
        "id": "PO2vdiyg4SNQ"
      },
      "execution_count": 13,
      "outputs": []
    },
    {
      "cell_type": "code",
      "source": [
        "def evaluate_model(model, test_loader, device, verbose=False):\n",
        "    model.eval()\n",
        "    correct= 0\n",
        "    total= 0\n",
        "\n",
        "    with torch.no_grad():\n",
        "        for images, labels in test_loader:\n",
        "            images, labels= images.to(device), labels.to(device)\n",
        "            logits= model(images)\n",
        "            y_pred= torch.argmax(logits, dim=1)\n",
        "            correct += (y_pred == labels).sum().item()\n",
        "            total += labels.size(0)\n",
        "\n",
        "    acc= correct / total\n",
        "    if verbose:\n",
        "        print(f\"Accuracy: {(acc * 100):.2f}%\")\n",
        "\n",
        "    return acc\n"
      ],
      "metadata": {
        "id": "hwjGaJWl4SQM"
      },
      "execution_count": 14,
      "outputs": []
    },
    {
      "cell_type": "code",
      "source": [
        "def plot_losses(train_loss, valid_loss):\n",
        "    # plot training and validation losses\n",
        "    plt.plot(train_loss, label='Train Loss')\n",
        "    plt.plot(valid_loss, label='Validation Loss')\n",
        "    plt.title('Losses')\n",
        "    plt.xlabel('Epochs')\n",
        "    plt.ylabel('Loss')\n",
        "    plt.legend()\n",
        "    plt.grid()"
      ],
      "metadata": {
        "id": "iFU08T9o4STV"
      },
      "execution_count": 15,
      "outputs": []
    },
    {
      "cell_type": "markdown",
      "source": [
        "# Training setup using TF32 and Fused AdamW"
      ],
      "metadata": {
        "id": "E4Icu2rJ5FfL"
      }
    },
    {
      "cell_type": "code",
      "source": [
        "use_fused= False\n",
        "\n",
        "if device== 'cuda': # TF32 computationally more efficient (slightly the same precision of FP32)\n",
        "    torch.set_float32_matmul_precision('high')\n",
        "    # create AdamW optimizer and use the fused version of it is available\n",
        "    fused_available= 'fused' in inspect.signature(torch.optim.AdamW).parameters\n",
        "    # fused is a lot faster when it is available and when running on cuda\n",
        "    use_fused= fused_available\n",
        "\n",
        "# --- ConvNeXt-T ---\n",
        "in_channels= 3\n",
        "num_classes= 10\n",
        "\n",
        "model= ConvNeXt(model_hparameters['convnext_tiny'], in_channels, num_classes, drop_path=0.2).to(device)\n",
        "count_parameters(model)\n",
        "\n",
        "\n",
        "# train_loader has size 352, so 20 epochs have 7,040 steps\n",
        "epochs= 20\n",
        "steps= len(train_loader) * epochs\n",
        "learning_rate= 4e-3\n",
        "\n",
        "max_lr= learning_rate\n",
        "min_lr= 1e-4\n",
        "warmup_steps= 704  # 2 epochs of warmup\n",
        "max_steps= steps\n",
        "\n",
        "optimizer= torch.optim.AdamW(\n",
        "    model.parameters(), lr=learning_rate, betas=(0.9, 0.999), weight_decay=0.05,\n",
        "    fused=use_fused\n",
        ")\n",
        "print(f\"Using fused AdamW: {use_fused}\")\n",
        "criterion= nn.CrossEntropyLoss()\n",
        "\n",
        "# for decreasing learning rate -- the ReduceLROnPlateau is designed to be used per epoch\n",
        "scheduler= CosineLRDecay(optimizer, min_lr, max_lr, warmup_steps, max_steps)\n"
      ],
      "metadata": {
        "id": "pLyhrxg-4SWr",
        "colab": {
          "base_uri": "https://localhost:8080/"
        },
        "outputId": "bce1c350-a15f-4cad-b619-94c9334b8f36"
      },
      "execution_count": 16,
      "outputs": [
        {
          "output_type": "stream",
          "name": "stdout",
          "text": [
            "Number of parameters: 27827818\n",
            "Using fused AdamW: True\n"
          ]
        }
      ]
    },
    {
      "cell_type": "code",
      "source": [
        "tr_loss, vl_loss= trainer(model, train_loader, val_loader, optimizer, criterion, scheduler,\n",
        "                          epochs, device, verbose=True)"
      ],
      "metadata": {
        "id": "I-hInO_r4Sbc",
        "colab": {
          "base_uri": "https://localhost:8080/"
        },
        "outputId": "41313b43-e73e-4a93-d5d2-e2d16338c98a"
      },
      "execution_count": 17,
      "outputs": [
        {
          "output_type": "stream",
          "name": "stdout",
          "text": [
            "Epoch: 0 | Train Loss: 2.6670 | Val Loss: 1.7060 | dt/epoch: 99973.04ms\n",
            "Epoch: 1 | Train Loss: 1.6041 | Val Loss: 1.4762 | dt/epoch: 95233.14ms\n",
            "Epoch: 2 | Train Loss: 1.3932 | Val Loss: 1.2590 | dt/epoch: 96372.35ms\n",
            "Epoch: 3 | Train Loss: 1.1742 | Val Loss: 0.9917 | dt/epoch: 96832.80ms\n",
            "Epoch: 4 | Train Loss: 0.9900 | Val Loss: 0.9192 | dt/epoch: 96172.30ms\n",
            "Epoch: 5 | Train Loss: 0.8588 | Val Loss: 0.8508 | dt/epoch: 96320.74ms\n",
            "Epoch: 6 | Train Loss: 0.7425 | Val Loss: 0.6792 | dt/epoch: 97819.45ms\n",
            "Epoch: 7 | Train Loss: 0.6527 | Val Loss: 0.6201 | dt/epoch: 96391.72ms\n",
            "Epoch: 8 | Train Loss: 0.5752 | Val Loss: 0.5609 | dt/epoch: 94311.21ms\n",
            "Epoch: 9 | Train Loss: 0.5036 | Val Loss: 0.5288 | dt/epoch: 94579.55ms\n",
            "Epoch: 10 | Train Loss: 0.4266 | Val Loss: 0.4866 | dt/epoch: 96962.14ms\n",
            "Epoch: 11 | Train Loss: 0.3632 | Val Loss: 0.4504 | dt/epoch: 95634.13ms\n",
            "Epoch: 12 | Train Loss: 0.2943 | Val Loss: 0.4655 | dt/epoch: 98213.44ms\n",
            "Epoch: 13 | Train Loss: 0.2302 | Val Loss: 0.4276 | dt/epoch: 95878.33ms\n",
            "Epoch: 14 | Train Loss: 0.1722 | Val Loss: 0.4535 | dt/epoch: 95216.03ms\n",
            "Epoch: 15 | Train Loss: 0.1205 | Val Loss: 0.4751 | dt/epoch: 94951.64ms\n",
            "Epoch: 16 | Train Loss: 0.0862 | Val Loss: 0.4594 | dt/epoch: 94796.18ms\n",
            "Epoch: 17 | Train Loss: 0.0638 | Val Loss: 0.4962 | dt/epoch: 94589.98ms\n",
            "Epoch: 18 | Train Loss: 0.0490 | Val Loss: 0.5027 | dt/epoch: 94778.91ms\n",
            "Epoch: 19 | Train Loss: 0.0417 | Val Loss: 0.4978 | dt/epoch: 94787.12ms\n"
          ]
        }
      ]
    },
    {
      "cell_type": "code",
      "source": [
        "# plot\n",
        "plot_losses(tr_loss, vl_loss)"
      ],
      "metadata": {
        "id": "EGqvHC8a4Se7",
        "colab": {
          "base_uri": "https://localhost:8080/",
          "height": 472
        },
        "outputId": "24178a02-6460-419b-ffe3-17c8b9518cb1"
      },
      "execution_count": 18,
      "outputs": [
        {
          "output_type": "display_data",
          "data": {
            "text/plain": [
              "<Figure size 640x480 with 1 Axes>"
            ],
            "image/png": "[encoded data removed]"
          },
          "metadata": {}
        }
      ]
    },
    {
      "cell_type": "code",
      "source": [
        "convnext_acc= evaluate_model(model, test_loader, device, verbose=True)"
      ],
      "metadata": {
        "id": "ZfyWlzdZ4ShK",
        "colab": {
          "base_uri": "https://localhost:8080/"
        },
        "outputId": "fd2ff025-1631-4fd9-d176-0ea65834175f"
      },
      "execution_count": 19,
      "outputs": [
        {
          "output_type": "stream",
          "name": "stdout",
          "text": [
            "Accuracy: 87.64%\n"
          ]
        }
      ]
    },
    {
      "cell_type": "code",
      "source": [],
      "metadata": {
        "id": "tmZmX-ZEnnAu"
      },
      "execution_count": null,
      "outputs": []
    },
    {
      "cell_type": "code",
      "source": [
        "# --- ConvNeXt-B ---\n",
        "in_channels= 3\n",
        "num_classes= 10\n",
        "\n",
        "model= ConvNeXt(model_hparameters['convnext_base'], in_channels, num_classes, drop_path=0.2).to(device)\n",
        "count_parameters(model)\n",
        "\n",
        "\n",
        "# train_loader has size 352, so 20 epochs have 7,040 steps\n",
        "epochs= 20\n",
        "steps= len(train_loader) * epochs\n",
        "learning_rate= 4e-3\n",
        "\n",
        "max_lr= learning_rate\n",
        "min_lr= 1e-4\n",
        "warmup_steps= 704  # 2 epochs of warmup\n",
        "max_steps= steps\n",
        "\n",
        "optimizer= torch.optim.AdamW(\n",
        "    model.parameters(), lr=learning_rate, betas=(0.9, 0.999), weight_decay=0.05,\n",
        "    fused=use_fused\n",
        ")\n",
        "print(f\"Using fused AdamW: {use_fused}\")\n",
        "criterion= nn.CrossEntropyLoss()\n",
        "\n",
        "# for decreasing learning rate -- the ReduceLROnPlateau is designed to be used per epoch\n",
        "scheduler= CosineLRDecay(optimizer, min_lr, max_lr, warmup_steps, max_steps)\n"
      ],
      "metadata": {
        "colab": {
          "base_uri": "https://localhost:8080/"
        },
        "outputId": "7e9840cb-9e6e-4053-f46b-3d65bd5d1fda",
        "id": "p_o8Vv7QnoDD"
      },
      "execution_count": 20,
      "outputs": [
        {
          "output_type": "stream",
          "name": "stdout",
          "text": [
            "Number of parameters: 87576714\n",
            "Using fused AdamW: True\n"
          ]
        }
      ]
    },
    {
      "cell_type": "code",
      "source": [
        "tr_loss, vl_loss= trainer(model, train_loader, val_loader, optimizer, criterion, scheduler,\n",
        "                          epochs, device, verbose=True)"
      ],
      "metadata": {
        "colab": {
          "base_uri": "https://localhost:8080/"
        },
        "outputId": "e7d450fd-1f74-4c4b-b531-1610439c48fb",
        "id": "bELlJqNdnoDE"
      },
      "execution_count": 21,
      "outputs": [
        {
          "output_type": "stream",
          "name": "stdout",
          "text": [
            "Epoch: 0 | Train Loss: 2.6826 | Val Loss: 1.7442 | dt/epoch: 182281.61ms\n",
            "Epoch: 1 | Train Loss: 1.6327 | Val Loss: 1.5261 | dt/epoch: 182160.80ms\n",
            "Epoch: 2 | Train Loss: 1.4161 | Val Loss: 1.3291 | dt/epoch: 182123.27ms\n",
            "Epoch: 3 | Train Loss: 1.1879 | Val Loss: 1.0186 | dt/epoch: 182042.89ms\n",
            "Epoch: 4 | Train Loss: 0.9706 | Val Loss: 0.8528 | dt/epoch: 182031.09ms\n",
            "Epoch: 5 | Train Loss: 0.8365 | Val Loss: 0.8073 | dt/epoch: 182090.23ms\n",
            "Epoch: 6 | Train Loss: 0.7304 | Val Loss: 0.6594 | dt/epoch: 182079.00ms\n",
            "Epoch: 7 | Train Loss: 0.6378 | Val Loss: 0.5854 | dt/epoch: 182121.49ms\n",
            "Epoch: 8 | Train Loss: 0.5518 | Val Loss: 0.5650 | dt/epoch: 182150.06ms\n",
            "Epoch: 9 | Train Loss: 0.4759 | Val Loss: 0.5289 | dt/epoch: 182091.08ms\n",
            "Epoch: 10 | Train Loss: 0.4027 | Val Loss: 0.4467 | dt/epoch: 182073.94ms\n",
            "Epoch: 11 | Train Loss: 0.3309 | Val Loss: 0.4847 | dt/epoch: 182090.79ms\n",
            "Epoch: 12 | Train Loss: 0.2662 | Val Loss: 0.4596 | dt/epoch: 182101.65ms\n",
            "Epoch: 13 | Train Loss: 0.2010 | Val Loss: 0.4273 | dt/epoch: 182137.78ms\n",
            "Epoch: 14 | Train Loss: 0.1436 | Val Loss: 0.4532 | dt/epoch: 182191.94ms\n",
            "Epoch: 15 | Train Loss: 0.0955 | Val Loss: 0.4606 | dt/epoch: 182084.14ms\n",
            "Epoch: 16 | Train Loss: 0.0617 | Val Loss: 0.4772 | dt/epoch: 182111.19ms\n",
            "Epoch: 17 | Train Loss: 0.0415 | Val Loss: 0.4942 | dt/epoch: 182210.32ms\n",
            "Epoch: 18 | Train Loss: 0.0310 | Val Loss: 0.5335 | dt/epoch: 182039.43ms\n",
            "Epoch: 19 | Train Loss: 0.0238 | Val Loss: 0.5293 | dt/epoch: 182162.63ms\n"
          ]
        }
      ]
    },
    {
      "cell_type": "code",
      "source": [
        "# plot\n",
        "plot_losses(tr_loss, vl_loss)"
      ],
      "metadata": {
        "colab": {
          "base_uri": "https://localhost:8080/",
          "height": 472
        },
        "outputId": "8d09a5a2-1df0-412d-eed1-2940541f230d",
        "id": "pXaVgS1UnoDF"
      },
      "execution_count": 22,
      "outputs": [
        {
          "output_type": "display_data",
          "data": {
            "text/plain": [
              "<Figure size 640x480 with 1 Axes>"
            ],
            "image/png": "[encoded data removed]"
          },
          "metadata": {}
        }
      ]
    },
    {
      "cell_type": "code",
      "source": [
        "convnext_acc= evaluate_model(model, test_loader, device, verbose=True)"
      ],
      "metadata": {
        "colab": {
          "base_uri": "https://localhost:8080/"
        },
        "outputId": "9a72511b-91c2-452c-aec3-e0183dbd4b37",
        "id": "MIisD9PEnoDG"
      },
      "execution_count": 23,
      "outputs": [
        {
          "output_type": "stream",
          "name": "stdout",
          "text": [
            "Accuracy: 88.10%\n"
          ]
        }
      ]
    },
    {
      "cell_type": "markdown",
      "source": [
        "ConvNeXt needs a \"modern\" training recipe — strong augmentations, big cosine schedules, carefully adjusted stems and norms — whereas ResNet-50 is more forgiving on a small dataset. The design of ConvNeXt was tuned for large-scale ImageNet-style training. On very small, low-res data, a classic ResNet with the tried-and-true CIFAR tweaks can still competitive.\n",
        "\n"
      ],
      "metadata": {
        "id": "NHyFfuQvGGze"
      }
    },
    {
      "cell_type": "code",
      "source": [
        "# https://github.com/facebookresearch/ConvNeXt\n",
        "# https://github.com/FrancescoSaverioZuppichini/ConvNext\n",
        "# https://medium.com/towards-data-science/implementing-convnext-in-pytorch-7e37a67abba6\n",
        "# https://tech.bertelsmann.com/en/blog/articles/convnext?source=post_page325607a08c46\n",
        "# https://medium.com/@atakanerdogan305/convnext-next-generation-of-convolutional-networks-325607a08c46\n",
        "# https://medium.com/data-science/residual-bottleneck-inverted-residual-linear-bottleneck-mbconv-explained-89d7b7e7c6bc"
      ],
      "metadata": {
        "id": "R710JzWh5XS7"
      },
      "execution_count": null,
      "outputs": []
    }
  ]
}