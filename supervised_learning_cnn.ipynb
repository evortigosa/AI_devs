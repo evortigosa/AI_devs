{
  "nbformat": 4,
  "nbformat_minor": 0,
  "metadata": {
    "colab": {
      "provenance": [],
      "toc_visible": true
    },
    "kernelspec": {
      "name": "python3",
      "display_name": "Python 3"
    },
    "language_info": {
      "name": "python"
    }
  },
  "cells": [
    {
      "cell_type": "markdown",
      "source": [
        "# MNIST and CNN architecture"
      ],
      "metadata": {
        "id": "ZhXxRqwHU_Wj"
      }
    },
    {
      "cell_type": "code",
      "source": [
        "import numpy as np\n",
        "import pandas as pd\n",
        "import matplotlib.pyplot as plt\n",
        "import torch\n",
        "import torch.nn as nn\n",
        "import torch.nn.functional as F\n",
        "from tqdm import tqdm"
      ],
      "metadata": {
        "id": "VWIFRhp0U97T"
      },
      "execution_count": null,
      "outputs": []
    },
    {
      "cell_type": "code",
      "source": [
        "# calling the dataset\n",
        "from tensorflow.keras.datasets import mnist\n",
        "\n",
        "# access the training and test data\n",
        "(Xtr_raw, Ytr_raw), (Xte_raw, Yte_raw)= mnist.load_data()\n",
        "\n",
        "(Xtr_raw.shape, Ytr_raw.shape), (Xte_raw.shape, Yte_raw.shape)"
      ],
      "metadata": {
        "id": "ibGJjXEMU9_e",
        "colab": {
          "base_uri": "https://localhost:8080/"
        },
        "outputId": "c3e6a37f-a5e4-43f3-e3a3-90a27b2577ef"
      },
      "execution_count": null,
      "outputs": [
        {
          "output_type": "stream",
          "name": "stdout",
          "text": [
            "Downloading data from https://storage.googleapis.com/tensorflow/tf-keras-datasets/mnist.npz\n",
            "\u001b[1m11490434/11490434\u001b[0m \u001b[32m━━━━━━━━━━━━━━━━━━━━\u001b[0m\u001b[37m\u001b[0m \u001b[1m0s\u001b[0m 0us/step\n"
          ]
        },
        {
          "output_type": "execute_result",
          "data": {
            "text/plain": [
              "(((60000, 28, 28), (60000,)), ((10000, 28, 28), (10000,)))"
            ]
          },
          "metadata": {},
          "execution_count": 2
        }
      ]
    },
    {
      "cell_type": "markdown",
      "source": [
        "The reshape function changes the dimensions of the data to prepare it for input into the neural network. It reshapes the images into 4D dimensions with the size of (number of samples, image height, image width, number of channels). In MNIST, the dimensions of the images are (60000, 28, 28), which are reshaped to (60000, 1, 28, 28). This is necessary to match the input size of the neural network layers."
      ],
      "metadata": {
        "id": "cvQ-tNzkJKmi"
      }
    },
    {
      "cell_type": "code",
      "source": [
        "# data reformating - adding a channel dimension\n",
        "Xtr_raw= np.expand_dims(Xtr_raw, 1) # Grayscale images have 1 channel\n",
        "Xte_raw= np.expand_dims(Xte_raw, 1)\n",
        "\n",
        "Xtr_raw.shape"
      ],
      "metadata": {
        "colab": {
          "base_uri": "https://localhost:8080/"
        },
        "id": "hkXjMYfWJK0B",
        "outputId": "2824e136-dc4d-4841-fd93-4ea2f742f989"
      },
      "execution_count": null,
      "outputs": [
        {
          "output_type": "execute_result",
          "data": {
            "text/plain": [
              "(60000, 1, 28, 28)"
            ]
          },
          "metadata": {},
          "execution_count": 3
        }
      ]
    },
    {
      "cell_type": "markdown",
      "source": [
        "# Data processing\n",
        "\n",
        "Some datasets, like MNIST, require minimal processing, but real-world data is not always so straightforward.\n",
        "\n",
        "If normalization is not performed, one of the issues that arises is convergence problems, which may result in the model converging slowly or not converging at all. There are various methods of normalization. These include Pixel-wise normalization (where each pixel of the image is normalized based on the mean and variance of similar pixels in the dataset), Local Contrast normalization (useful for images with local brightness variations, where each region of the image is normalized relative to similar regions in all data), Robust Scaling (which uses the median and interquartile range of the data for scaling, making it robust against outliers), and Unit Vector Scaling (where each row of the data is normalized in such a way that the sum of squares of its values equals one).\n",
        "\n",
        "The Min-Max Scaling method is more suitable for data with a normal distribution or similar. When the data have a non-normal distribution, such as MNIST, the Z-score method is usually more useful because it normalizes the data based on the mean and variance."
      ],
      "metadata": {
        "id": "fUxkDamNH57B"
      }
    },
    {
      "cell_type": "code",
      "source": [
        "# For the MNIST dataset, normalization may be useful but often not necessary.\n",
        "# We will just subtract the mean image for centering (e.g., AlexNet)\n",
        "# see https://www.youtube.com/watch?v=gYpoJMlgyXA\n",
        "\n",
        "# convert data to float32\n",
        "Xtr_raw= Xtr_raw.astype(np.float32)\n",
        "Xte_raw= Xte_raw.astype(np.float32)\n",
        "\n",
        "# calculate the mean of the training data\n",
        "Xmean= np.mean(Xtr_raw)\n",
        "\n",
        "# apply the centering to the training data\n",
        "Xtr_raw -= Xmean\n",
        "\n",
        "# apply the centering to the test data using the mean of the training data\n",
        "Xte_raw -= Xmean"
      ],
      "metadata": {
        "id": "lfRHOWZjU-C4"
      },
      "execution_count": null,
      "outputs": []
    },
    {
      "cell_type": "code",
      "source": [
        "# rendering one example\n",
        "plt.imshow(Xtr_raw[0][0], cmap='gray')\n",
        "plt.colorbar()\n",
        "plt.title(f'Label: {Ytr_raw[0]}')\n",
        "plt.show()"
      ],
      "metadata": {
        "id": "qTblqCkvU-GG",
        "colab": {
          "base_uri": "https://localhost:8080/",
          "height": 452
        },
        "outputId": "365bab50-455d-44f0-9cc7-eed760ff5a2c"
      },
      "execution_count": null,
      "outputs": [
        {
          "output_type": "display_data",
          "data": {
            "text/plain": [
              "<Figure size 640x480 with 2 Axes>"
            ],
            "image/png": "[encoded data removed]"
          },
          "metadata": {}
        }
      ]
    },
    {
      "cell_type": "code",
      "source": [
        "# setting the device\n",
        "device= 'cuda' if torch.cuda.is_available() else 'cpu'\n",
        "\n",
        "# converting data to pytorch type\n",
        "Xtr= torch.tensor(Xtr_raw, requires_grad=True).to(device)\n",
        "Ytr= torch.tensor(Ytr_raw).to(device)\n",
        "Xte= torch.tensor(Xte_raw, requires_grad=True).to(device)\n",
        "Yte= torch.tensor(Yte_raw).to(device)\n",
        "\n",
        "# transforming labels from numbers to one-hot vectors of length 10\n",
        "Ytr= F.one_hot(Ytr.type(torch.int64), num_classes=10).type(torch.float32)\n",
        "Yte= F.one_hot(Yte.type(torch.int64), num_classes=10).type(torch.float32)\n",
        "\n",
        "# creating a dev dataset from training data\n",
        "tr_size= int(0.8*Xtr.shape[0])\n",
        "\n",
        "Xdev= Xtr[tr_size:]\n",
        "Ydev= Ytr[tr_size:]\n",
        "\n",
        "Xtr= Xtr[:tr_size]\n",
        "Ytr= Ytr[:tr_size]\n",
        "\n",
        "print(f'Shape of training: Xtr - {Xtr.shape}, Ytr - {Ytr.shape}')\n",
        "print(f'Shape of dev data: Xdev - {Xdev.shape}, Ydev - {Ydev.shape}')\n",
        "print(f'Shape of test data: Xte - {Xte.shape}, Yte - {Yte.shape}')"
      ],
      "metadata": {
        "id": "uZ-9hDEHU-JF",
        "colab": {
          "base_uri": "https://localhost:8080/"
        },
        "outputId": "efcc9984-0906-44fa-87fc-dcf7e8044990"
      },
      "execution_count": null,
      "outputs": [
        {
          "output_type": "stream",
          "name": "stdout",
          "text": [
            "Shape of training: Xtr - torch.Size([48000, 1, 28, 28]), Ytr - torch.Size([48000, 10])\n",
            "Shape of dev data: Xdev - torch.Size([12000, 1, 28, 28]), Ydev - torch.Size([12000, 10])\n",
            "Shape of test data: Xte - torch.Size([10000, 1, 28, 28]), Yte - torch.Size([10000, 10])\n"
          ]
        }
      ]
    },
    {
      "cell_type": "markdown",
      "source": [
        "# Architecture Design (Model Building)\n",
        "\n",
        "Using PyTorch to create a modified, smaller version of AlexNet. This model has two general parts: the convolutional backbone and the densely connected head.\n",
        "\n",
        "CNNs operate over volumes; all of the layers in between are going to take volumes of activations and are going to produce volumes of activations, so the intermediates are not as vectors lake NNs, but they have spatial dimensions (width, height, and depth -- or channels) that will maintain the computations.\n",
        "\n",
        "https://www.youtube.com/watch?v=LxfUGhug-iQ"
      ],
      "metadata": {
        "id": "OPEvtuwaVglu"
      }
    },
    {
      "cell_type": "code",
      "source": [
        "class Activation(nn.Module):\n",
        "    \"\"\"\n",
        "    Activation functions implemented: relu, tanh.\n",
        "    \"\"\"\n",
        "\n",
        "    def __init__(self, activation='relu') -> None:\n",
        "        super(Activation, self).__init__()\n",
        "        if 'relu' in activation:\n",
        "            self.activ= nn.ReLU()\n",
        "        else:\n",
        "            self.activ= nn.Tanh()\n",
        "\n",
        "\n",
        "    def forward(self, x):\n",
        "\n",
        "        return self.activ(x)\n"
      ],
      "metadata": {
        "id": "iSre5okGU-L9"
      },
      "execution_count": null,
      "outputs": []
    },
    {
      "cell_type": "markdown",
      "source": [
        "For deep convolutional networks, it is necessary to define padding values; otherwise, the convolutional operation will always decrease the input size (spatial downsampling), and this is not we might want necessarily because if we collapse the size of our representation too quickly, then the total amount of convolutional layers (depth) is limited. For 3x3 kernels, paddings of 1 keep the input space (with stride=1). The spatial downsampling procedure is managed by applying pooling layers (preserving the volume of the convolution).\n",
        "\n",
        "AlexNet (8 layers, 60M parameters) - Input image: 227x227x3\n",
        "- 1st layer (conv) 96 11x11 filters, stride 4. Output volume: 55x55x96. Parameters (11x11x3)x96 = 35K\n",
        "- 2nd layer (pool) 3x3 filters, stride 2. Output volume: 27x27x96 ((55-3)/2+1 = 27). Pool layers have zero parameters.\n",
        "- 3rd layer - normalization\n",
        "- 4st layer (conv) ...\n",
        "- Output volume at the end of the Backbone module: 6x6x256\n",
        "- Head - two FC layers with 4096 neurons each\n",
        "- Output (class scores) 1000 neurons\n",
        "\n",
        "AlexNet details: ReLU, dropout 0.5, batch size 128, SGD Momentum 0.9, learning rate 1e-2 manually reduced by 10, L2 weight decay 5e-4.\n",
        "\n",
        "VGGNet (19 layers): only 3x3 conv with stride 1 and pad 1, and Max Pool stride 2. Spacially decreases the input but the volumes of convs get more depth (output volume of backbone is 7x7x512).\n",
        "\n",
        "ResNet: Xavier/2 init, batch norm after every conv layer, no dropout, batch size 256, SGD Momentum 0.9, learning rate 0.1 reduced by 10 when validation error plateaus, weight decay 1e-5. Very deep architecture (152 layers) introduces residual (skip) connections (the input flows in, but instead of computing how to transform the input, ResNet computes what to add to the input). In the backward pass, skip connections allow the gradient to skip right through the layers, preventing it vanishes.\n",
        "\n",
        "https://www.youtube.com/watch?v=LxfUGhug-iQ"
      ],
      "metadata": {
        "id": "VDn6QHZRoDJF"
      }
    },
    {
      "cell_type": "code",
      "source": [
        "class CNN_Layer(nn.Module):\n",
        "    \"\"\"\n",
        "    Implements one CNN layer.\n",
        "    \"\"\"\n",
        "\n",
        "    def __init__(self, in_chs, out_chs, kernel, conv_stride, padding,\n",
        "                 max_pool, pool_stride, norm, activation, dropout) -> None:\n",
        "        super(CNN_Layer, self).__init__()\n",
        "        self.conv= nn.Conv2d(in_chs, out_chs, kernel, conv_stride, padding)\n",
        "        self.max_pool= None\n",
        "        if max_pool> 0.0:\n",
        "            self.max_pool= nn.MaxPool2d(max_pool, pool_stride) # Max pooling layer\n",
        "        self.norm= None\n",
        "        if norm:\n",
        "            self.norm= nn.BatchNorm2d(out_chs)                 # Adding Batch Normalization layer\n",
        "        self.activ= Activation(activation)\n",
        "        self.dropout= None\n",
        "        if dropout> 0.0:\n",
        "            self.dropout= nn.Dropout(p=dropout)                # Dropout layer for regularization\n",
        "\n",
        "\n",
        "    def forward(self, x):\n",
        "        x= self.conv(x)\n",
        "        if self.max_pool is not None:\n",
        "            x= self.max_pool(x)\n",
        "        if self.norm is not None:\n",
        "            x= self.norm(x)\n",
        "        x= self.activ(x)\n",
        "        if self.dropout is not None:\n",
        "            x= self.dropout(x)\n",
        "\n",
        "        return x\n",
        "\n",
        "\n",
        "\n",
        "class Backbone(nn.Module):\n",
        "    \"\"\"\n",
        "    Defining the CNN backbone.\n",
        "    \"\"\"\n",
        "\n",
        "    def __init__(self, input_chs, output_chs, hidden_chs=[16,], kernels=3, conv_strides=1, paddings=0,\n",
        "                 max_pool=2, pool_strides=2,\n",
        "                 norm=False, activation='relu', dropout=0.0) -> None:\n",
        "        super(Backbone, self).__init__()\n",
        "        if isinstance(hidden_chs, int):\n",
        "            if hidden_chs== 0:\n",
        "                raise Exception('hidden_chs cannot be zero')\n",
        "            hidden_chs= [hidden_chs]\n",
        "        n_hidden_layers= len(hidden_chs)\n",
        "\n",
        "        if n_hidden_layers== 0:\n",
        "            raise Exception('hidden_chs cannot be an empty list')\n",
        "\n",
        "        def check_hparams(hparam):\n",
        "            if isinstance(hparam, int):\n",
        "                hparam= [hparam for _ in range(n_hidden_layers+1)]\n",
        "            elif len(hparam)< n_hidden_layers+1:\n",
        "                hparam_name= [name for name, value in globals().items() if value is hparam][0]\n",
        "                raise Exception(hparam_name + ' list should be defined for each conv layer')\n",
        "            return hparam\n",
        "\n",
        "        kernels= check_hparams(kernels)\n",
        "        conv_strides= check_hparams(conv_strides)\n",
        "        paddings= check_hparams(paddings)\n",
        "        max_pool= check_hparams(max_pool)\n",
        "        pool_strides= check_hparams(pool_strides)\n",
        "\n",
        "        self.conv_in= CNN_Layer(input_chs, hidden_chs[0], kernels[0], conv_strides[0], paddings[0],\n",
        "                                max_pool[0], pool_strides[0], norm, activation, dropout)\n",
        "\n",
        "        if n_hidden_layers> 1:\n",
        "            self.conv_hn= nn.Sequential(*[\n",
        "                CNN_Layer(ch, hidden_chs[i+1], k, cs, p, m, ps, norm, activation, dropout)\n",
        "                for i, (ch, k, cs, p, m, ps) in enumerate(zip(hidden_chs[:-1],\n",
        "                                                 kernels[1:-1], conv_strides[1:-1], paddings[1:-1],\n",
        "                                                 max_pool[1:-1], pool_strides[1:-1]))\n",
        "            ])\n",
        "        else: self.conv_hn= None\n",
        "\n",
        "        self.conv_out= CNN_Layer(hidden_chs[-1], output_chs, kernels[-1], conv_strides[-1], paddings[-1],\n",
        "                                 max_pool[-1], pool_strides[-1], norm, activation, dropout)\n",
        "\n",
        "\n",
        "    def forward(self, x):\n",
        "        x= self.conv_in(x)\n",
        "        if self.conv_hn is not None:\n",
        "            x= self.conv_hn(x)\n",
        "        x= self.conv_out(x)\n",
        "\n",
        "        return torch.flatten(x, 1) # Flatten last layer to convert 2D matrix to a vector\n"
      ],
      "metadata": {
        "id": "V7RJuaUDU-PH"
      },
      "execution_count": null,
      "outputs": []
    },
    {
      "cell_type": "code",
      "source": [
        "class MLP_Layer(nn.Module):\n",
        "    \"\"\"\n",
        "    Implements one MLP hidden layer.\n",
        "    \"\"\"\n",
        "\n",
        "    def __init__(self, in_dim, out_dim, norm, activation, dropout) -> None:\n",
        "        super(MLP_Layer, self).__init__()\n",
        "        self.fc= nn.Linear(in_dim, out_dim)     # Fully connected layers\n",
        "        self.norm= None\n",
        "        if norm:\n",
        "            self.norm= nn.LayerNorm(out_dim)    # Adding Layer Normalization\n",
        "        self.activ= Activation(activation)\n",
        "        self.dropout= None\n",
        "        if dropout> 0.0:\n",
        "            self.dropout= nn.Dropout(p=dropout) # Dropout layer for regularization\n",
        "\n",
        "\n",
        "    def forward(self, x):\n",
        "        x= self.fc(x)\n",
        "        if self.norm is not None:\n",
        "            x= self.norm(x)\n",
        "        x= self.activ(x)\n",
        "        if self.dropout is not None:\n",
        "            x= self.dropout(x)\n",
        "\n",
        "        return x\n",
        "\n",
        "\n",
        "\n",
        "class Head(nn.Module):\n",
        "    \"\"\"\n",
        "    Defining the MLP Projection Head (for data classification).\n",
        "    \"\"\"\n",
        "\n",
        "    def __init__(self, input_dim, n_classes=1, hidden_dim=[16,], norm=False,\n",
        "                 activation='relu', dropout=0.0) -> None:\n",
        "        super(Head, self).__init__()\n",
        "        if isinstance(hidden_dim, int):\n",
        "            if hidden_dim== 0:\n",
        "                raise Exception('hidden_dim cannot be zero')\n",
        "            hidden_dim= [hidden_dim]\n",
        "        n_hidden_layers= len(hidden_dim)\n",
        "\n",
        "        if n_hidden_layers== 0:\n",
        "            raise Exception('hidden_dim cannot be an empty list')\n",
        "\n",
        "        self.fc_in= MLP_Layer(input_dim, hidden_dim[0], norm, activation, dropout)\n",
        "\n",
        "        if n_hidden_layers> 1:\n",
        "            self.fc_hn= nn.Sequential(*[\n",
        "                MLP_Layer(d, hidden_dim[i+1], norm, activation, dropout)\n",
        "                for i, d in enumerate(hidden_dim[:-1])\n",
        "            ])\n",
        "        else: self.fc_hn= None\n",
        "\n",
        "        self.fc_out= nn.Linear(hidden_dim[-1], n_classes)\n",
        "\n",
        "\n",
        "    def forward(self, x):\n",
        "        x= self.fc_in(x)\n",
        "        if self.fc_hn is not None:\n",
        "            x= self.fc_hn(x)\n",
        "        x= self.fc_out(x)\n",
        "\n",
        "        return F.log_softmax(x, dim=1) # Output layer with softmax activation for classification\n"
      ],
      "metadata": {
        "id": "0oQ88IP5nZA_"
      },
      "execution_count": null,
      "outputs": []
    },
    {
      "cell_type": "code",
      "source": [
        "class CNN_Model(nn.Module):\n",
        "    \"\"\"\n",
        "    Defining the full model - Feature extractor backbone + classification (projection) head.\n",
        "    \"\"\"\n",
        "\n",
        "    def __init__(self, input_chs, output_chs, hidden_chs=[16,], kernels=3, conv_strides=1, paddings=0,\n",
        "                 max_pool=2, pool_strides=2,                          # CNN\n",
        "                 input_dim=1, n_classes=1, hidden_dim=[16,],          # MLP\n",
        "                 norm=False, activation='relu', dropout=0.0) -> None:\n",
        "        super(CNN_Model, self).__init__()\n",
        "        self.backbone= Backbone(\n",
        "            input_chs, output_chs, hidden_chs, kernels, conv_strides, paddings,\n",
        "            max_pool, pool_strides, norm, activation, dropout\n",
        "        )\n",
        "        self.head= Head(\n",
        "            input_dim, n_classes, hidden_dim, norm, activation, dropout\n",
        "        )\n",
        "        # Initialize parameters with Glorot et al., 2010 / fan_avg\n",
        "        for p in self.parameters():\n",
        "            if p.dim()> 1:\n",
        "                nn.init.xavier_uniform_(p)\n",
        "\n",
        "\n",
        "    def forward(self, x):\n",
        "        x= self.backbone(x)\n",
        "        x= self.head(x)\n",
        "\n",
        "        return x\n"
      ],
      "metadata": {
        "id": "s76RhRIOuJEe"
      },
      "execution_count": null,
      "outputs": []
    },
    {
      "cell_type": "markdown",
      "source": [
        "BatchNorm normalizes each feature within a batch of samples, while LayerNorm normalizes all features within each sample. Let's assume we have a two-dimensional input matrix, where the rows represent the batch and the columns represent the sample features. The target of Batch Normalization is a batch of samples (horizontal), and the target of Layer Normalization is a single sample (vertical).\n",
        "\n",
        "For the field of computer vision, features depend on the statistical parameters between different samples, and **BatchNorm** is more effective. This is because it eliminates the size relationship between different features while preserving the size relationship between different samples.\n",
        "\n",
        "In the field of NLP, **LayerNorm** is more appropriate. This is because the different features of a single sample are actually the variations in words over time, and the feature relationships within the sample are very close.\n",
        "\n",
        "Typical architectures look like: [(Conv-ReLU)xN-Pool?]xM-(FC-ReLU)xK,Softmax\n",
        "- where N is usually up to ~5, M is large, 0<= K <=2.\n",
        "- but advances such as ResNet/GoogLeNet challenge this paradigm.\n",
        "\n",
        "https://www.youtube.com/watch?v=LxfUGhug-iQ"
      ],
      "metadata": {
        "id": "lKRaG8X4m-LG"
      }
    },
    {
      "cell_type": "code",
      "source": [
        "# ----- Backbone defs -----\n",
        "input_chs= Xtr.shape[1] # the data is single-channel (grayscale)\n",
        "hidden_chs=[32,64,]     # represents the number of filters used in each convolutional layer\n",
        "output_chs= 64          # number of channels in the output\n",
        "kernels=3               # represents the dimensions of the kernel or filter, which collects information from the images\n",
        "conv_stride=1           # controls the stride for the cross-correlation, default is 1\n",
        "paddings=1              # controls the amount of padding applied to each conv layer\n",
        "max_pool=2              # performs pooling operations on the images\n",
        "pool_stride=max_pool    # the stride of the window. Default value is pool_size\n",
        "# ----- Head defs -----\n",
        "input_dim= 576\n",
        "hidden_dim=[64,32,]     # dense (fully connected) layers\n",
        "n_classes=10            # digits from 0 to 9\n",
        "# ----- general defs -----\n",
        "norm=True\n",
        "activation='relu'\n",
        "dropout=0.1\n",
        "\n",
        "\n",
        "model= CNN_Model(input_chs, output_chs, hidden_chs, kernels, conv_stride, paddings,\n",
        "                 max_pool, pool_stride,\n",
        "                 input_dim, n_classes, hidden_dim, norm, activation, dropout).to(device)\n",
        "\n",
        "total_params= sum(p.numel() for p in model.parameters() if p.requires_grad)\n",
        "print(f'Number of parameters: {total_params}')\n",
        "\n",
        "model"
      ],
      "metadata": {
        "id": "_mum3QMlU-RP",
        "colab": {
          "base_uri": "https://localhost:8080/"
        },
        "outputId": "def9ef97-5a18-4d66-db60-c8244f5b27f1"
      },
      "execution_count": null,
      "outputs": [
        {
          "output_type": "stream",
          "name": "stdout",
          "text": [
            "Number of parameters: 95594\n"
          ]
        },
        {
          "output_type": "execute_result",
          "data": {
            "text/plain": [
              "CNN_Model(\n",
              "  (backbone): Backbone(\n",
              "    (conv_in): CNN_Layer(\n",
              "      (conv): Conv2d(1, 32, kernel_size=(3, 3), stride=(1, 1), padding=(1, 1))\n",
              "      (max_pool): MaxPool2d(kernel_size=2, stride=2, padding=0, dilation=1, ceil_mode=False)\n",
              "      (norm): BatchNorm2d(32, eps=1e-05, momentum=0.1, affine=True, track_running_stats=True)\n",
              "      (activ): Activation(\n",
              "        (activ): ReLU()\n",
              "      )\n",
              "      (dropout): Dropout(p=0.1, inplace=False)\n",
              "    )\n",
              "    (conv_hn): Sequential(\n",
              "      (0): CNN_Layer(\n",
              "        (conv): Conv2d(32, 64, kernel_size=(3, 3), stride=(1, 1), padding=(1, 1))\n",
              "        (max_pool): MaxPool2d(kernel_size=2, stride=2, padding=0, dilation=1, ceil_mode=False)\n",
              "        (norm): BatchNorm2d(64, eps=1e-05, momentum=0.1, affine=True, track_running_stats=True)\n",
              "        (activ): Activation(\n",
              "          (activ): ReLU()\n",
              "        )\n",
              "        (dropout): Dropout(p=0.1, inplace=False)\n",
              "      )\n",
              "    )\n",
              "    (conv_out): CNN_Layer(\n",
              "      (conv): Conv2d(64, 64, kernel_size=(3, 3), stride=(1, 1), padding=(1, 1))\n",
              "      (max_pool): MaxPool2d(kernel_size=2, stride=2, padding=0, dilation=1, ceil_mode=False)\n",
              "      (norm): BatchNorm2d(64, eps=1e-05, momentum=0.1, affine=True, track_running_stats=True)\n",
              "      (activ): Activation(\n",
              "        (activ): ReLU()\n",
              "      )\n",
              "      (dropout): Dropout(p=0.1, inplace=False)\n",
              "    )\n",
              "  )\n",
              "  (head): Head(\n",
              "    (fc_in): MLP_Layer(\n",
              "      (fc): Linear(in_features=576, out_features=64, bias=True)\n",
              "      (norm): LayerNorm((64,), eps=1e-05, elementwise_affine=True)\n",
              "      (activ): Activation(\n",
              "        (activ): ReLU()\n",
              "      )\n",
              "      (dropout): Dropout(p=0.1, inplace=False)\n",
              "    )\n",
              "    (fc_hn): Sequential(\n",
              "      (0): MLP_Layer(\n",
              "        (fc): Linear(in_features=64, out_features=32, bias=True)\n",
              "        (norm): LayerNorm((32,), eps=1e-05, elementwise_affine=True)\n",
              "        (activ): Activation(\n",
              "          (activ): ReLU()\n",
              "        )\n",
              "        (dropout): Dropout(p=0.1, inplace=False)\n",
              "      )\n",
              "    )\n",
              "    (fc_out): Linear(in_features=32, out_features=10, bias=True)\n",
              "  )\n",
              ")"
            ]
          },
          "metadata": {},
          "execution_count": 27
        }
      ]
    },
    {
      "cell_type": "markdown",
      "source": [
        "# Training Phase\n",
        "\n",
        "After constructing the model and its layers with the CNN architecture, the next step is to set the loss function, optimizer, and select evaluation metrics. In machine learning, the loss function represents the difference between the model's output and the actual values. In all tasks, whether in the real world or for solving deep learning problems, one of the most important tasks is to minimize the error.\n",
        "\n",
        "The optimizer is responsible for optimizing and updating the model's weights (W), adjusting them in a way that minimizes the loss function. Optimizers come in various types such as Adam, SGD, and RMSprop, and selecting the right one for your specific task can help improve the model's performance.\n",
        "\n",
        "The learning rate determines how small the training steps should be to reach the optimal point. Selecting an appropriate learning rate is crucial in training a model.\n",
        "\n",
        "Typically, when fitting the model, the first thing we do is specify the number of epochs. In each epoch, the model sees the entire training dataset once to learn complex patterns in the data. Naturally, the higher the number of epochs, the better the model learns because it can see more data, but if it's too high, it may lead to overfitting. In other words, because the model overly converges to the training data, it fails to generalize to new data. In other words, the model simply memorizes the data.\n",
        "\n",
        "Determining the batch size specifies how many data samples are shown to the model in each epoch. Finding the optimal batch size has a significant impact on the speed and quality of model training. Naturally, a larger batch size is preferable for better performance. However, due to memory constraints, especially in large-scale projects, this may not always be feasible. In diverse datasets, a larger batch size may lead to a loss of model adaptation to the data, resulting in overfitting or underfitting. To prevent this, we can find the best batch size through trial and error or by employing systematic and principled methods such as Grid Search or Validation Data-based approaches."
      ],
      "metadata": {
        "id": "DC4ZSihkDsnp"
      }
    },
    {
      "cell_type": "code",
      "source": [
        "def supervised_training(model, learning_rate=1e-3, epochs=500, eval_interval=5, batches=True,\n",
        "                        batch_size=64, early_stop:bool=True, patience=5, cutoff=1e-9):\n",
        "\n",
        "    # defining key hyperparamaters explicitly (instead of hyperparamater search)\n",
        "    if batches:\n",
        "        epoch_size= round(Xtr.shape[0]/ batch_size)-1\n",
        "    else:\n",
        "        batch_size= Xtr.shape[0]\n",
        "        epoch_size= 1\n",
        "\n",
        "    weight_decay=5e-4\n",
        "\n",
        "    # create a PyTorch optimizer\n",
        "    optimizer= torch.optim.Adam(model.parameters(), lr=learning_rate, weight_decay=weight_decay)\n",
        "\n",
        "    # loss function\n",
        "    loss_fn= nn.CrossEntropyLoss().to(device)\n",
        "\n",
        "    # for early stoping\n",
        "    patience_count= 0\n",
        "    previous_loss= 1e10\n",
        "\n",
        "    # tracking statistics\n",
        "    train_hist= []\n",
        "    batch_loss= []\n",
        "    dev_hist= []\n",
        "\n",
        "    # --- training loop ---\n",
        "    for epoch in tqdm(range(epochs)):\n",
        "        # iterating over all batches\n",
        "        for i in range(epoch_size):\n",
        "\n",
        "            # --- minibatch construction ---\n",
        "            Xmb= Xtr[(i * batch_size) : ((i+1) * batch_size)]\n",
        "            Ymb= Ytr[(i * batch_size) : ((i+1) * batch_size)]\n",
        "\n",
        "            # --- forward pass and get loss ---\n",
        "            model.train(True)\n",
        "            y_pred= model(Xmb)\n",
        "            loss_tr= loss_fn(y_pred, Ymb)\n",
        "            batch_loss.append(loss_tr.item())\n",
        "\n",
        "            # --- backward pass to calculate the gradients ---\n",
        "            optimizer.zero_grad()\n",
        "            loss_tr.backward()\n",
        "\n",
        "            # --- update the parameters using the gradient ---\n",
        "            optimizer.step()\n",
        "\n",
        "\n",
        "        # --- evaluation and track stats ---\n",
        "        train_hist.append(np.mean(batch_loss))\n",
        "        batch_loss= []\n",
        "\n",
        "        if epoch% eval_interval== 0:\n",
        "            model.train(False)\n",
        "            with torch.no_grad():\n",
        "                y_pred= model(Xdev)\n",
        "                loss_dev= loss_fn(y_pred, Ydev)\n",
        "\n",
        "        dev_hist.append(loss_dev.item())\n",
        "\n",
        "\n",
        "        # --- early stopping -- calculating loss change ---\n",
        "        loss_change= np.abs(previous_loss - train_hist[-1])\n",
        "        # deciding to stop if loss is not decreasing fast enough\n",
        "        if (early_stop and loss_change< cutoff):\n",
        "            patience_count += 1\n",
        "\n",
        "            if patience_count> patience:\n",
        "                print('\\nEarly stopping at epoch {}'.format(epoch))\n",
        "                model.train(False)\n",
        "                break\n",
        "        else:\n",
        "            patience_count= 0\n",
        "        # setting current train loss as previous loss\n",
        "        previous_loss= train_hist[-1]\n",
        "\n",
        "\n",
        "    # --- final evaluation on the test set ---\n",
        "    model.train(False)\n",
        "    with torch.no_grad():\n",
        "        y_pred= model(Xte)\n",
        "        #loss_test= loss_fn(y_pred, Yte)\n",
        "        test_acc= (y_pred.argmax(dim=1)== Yte.argmax(dim=1)).sum().item()/ Yte.shape[0]\n",
        "\n",
        "\n",
        "    return train_hist, dev_hist, test_acc\n"
      ],
      "metadata": {
        "id": "0kLhXZelU-Wq"
      },
      "execution_count": null,
      "outputs": []
    },
    {
      "cell_type": "markdown",
      "source": [
        "Adam note: momentum is keeping track of the first order moment of your gradient; it's summing up the raw gradients and it's keeping an exponential sum. Adagrad is keeping track of the second moment of the gradient and it's exponential sum and what we end up with is Adam. Adam basically take the RMSProp momentum, keeps track of the velocity in a decaying way and that's the step, but then we're also scaling down exponentially adding up a leaky counter of square gradients and so we end up with both Momentum and RMSProp in the same formula. Adam needs some time to \"warm up.\" The experiments show that Adam adapts well to almost any type of neural network architecture taking the advantages of both Momentum and RMSProp.\n",
        "\n",
        "Dropout: samples smaller versions of the model (similar to the idea of ensembles), making it harder to overfit by forcing the model to be redundant.\n",
        "\n",
        "https://www.youtube.com/watch?v=hd_KFJ5ktUc"
      ],
      "metadata": {
        "id": "rBK1oeakj-Zj"
      }
    },
    {
      "cell_type": "code",
      "source": [
        "# https://towardsdatascience.com/understanding-deep-learning-optimizers-momentum-adagrad-rmsprop-adam-e311e377e9c2"
      ],
      "metadata": {
        "id": "AIqvcsmwM45r"
      },
      "execution_count": null,
      "outputs": []
    },
    {
      "cell_type": "code",
      "source": [
        "train_hist, dev_hist, test_acc= supervised_training(model, learning_rate=1e-3, epochs=10,\n",
        "                                                    eval_interval=2, cutoff=1e-6)"
      ],
      "metadata": {
        "colab": {
          "base_uri": "https://localhost:8080/"
        },
        "id": "nJk8tP-oUSPR",
        "outputId": "e963186c-409e-4e36-dbab-97dab47d47de"
      },
      "execution_count": null,
      "outputs": [
        {
          "output_type": "stream",
          "name": "stderr",
          "text": [
            "100%|██████████| 10/10 [24:13<00:00, 145.40s/it]\n"
          ]
        }
      ]
    },
    {
      "cell_type": "code",
      "source": [
        "# ploting\n",
        "plt.plot(train_hist, label='train loss')\n",
        "plt.plot(dev_hist, label='dev loss')\n",
        "plt.legend()\n",
        "plt.show()\n",
        "\n",
        "print('Test accuracy: {}'.format(test_acc))"
      ],
      "metadata": {
        "colab": {
          "base_uri": "https://localhost:8080/",
          "height": 448
        },
        "id": "qTv8TstGUSS3",
        "outputId": "b73a9231-7cb2-4a2d-fb08-5145cbdb74ba"
      },
      "execution_count": null,
      "outputs": [
        {
          "output_type": "display_data",
          "data": {
            "text/plain": [
              "<Figure size 640x480 with 1 Axes>"
            ],
            "image/png": "[encoded data removed]"
          },
          "metadata": {}
        },
        {
          "output_type": "stream",
          "name": "stdout",
          "text": [
            "Test accuracy: 0.991\n"
          ]
        }
      ]
    },
    {
      "cell_type": "markdown",
      "source": [
        "If there isn't much difference between the training accuracy and validation accuracy, meaning they are closer to each other, it indicates that the model hasn't overfit. However, if there is a significant difference, or if the validation accuracy starts decreasing while the training accuracy increases, it's suspicious for overfitting. The accuracy lines should be smoother with fewer fluctuations. The presence of more fluctuations indicates instability in the model's performance, which could be a sign of overfitting.\n",
        "\n",
        "If the Training Accuracy is continuously decreasing while the Validation Accuracy starts to increase or remains stable, this indicates overfitting. Conversely, if both training and validation accuracies consistently decrease or remain stable at similar levels, it indicates that the model has effectively learned. Ideally, we aim to steadily increase both Training and Validation accuracies or stabilize them at similar levels."
      ],
      "metadata": {
        "id": "EbiaEBixMHu8"
      }
    },
    {
      "cell_type": "code",
      "source": [
        "# Small version\n",
        "\n",
        "# ----- Backbone defs -----\n",
        "input_chs= Xtr.shape[1] # the data is single-channel (grayscale)\n",
        "hidden_chs=[16,16,]     # represents the number of filters used in each convolutional layer\n",
        "output_chs= 32          # number of channels in the output\n",
        "kernels=3               # represents the dimensions of the kernel or filter, which collects information from the images\n",
        "conv_stride=1           # controls the stride for the cross-correlation, default is 1\n",
        "paddings=1              # controls the amount of padding applied to each conv layer\n",
        "max_pool=2              # performs pooling operations on the images\n",
        "pool_stride=max_pool    # the stride of the window. Default value is pool_size\n",
        "# ----- Head defs -----\n",
        "input_dim= 288\n",
        "hidden_dim=[32,16,]     # dense (fully connected) layers\n",
        "n_classes=10            # digits from 0 to 9\n",
        "# ----- general defs -----\n",
        "norm=True\n",
        "activation='relu'\n",
        "dropout=0.1\n",
        "\n",
        "\n",
        "model2= CNN_Model(input_chs, output_chs, hidden_chs, kernels, conv_stride, paddings,\n",
        "                  max_pool, pool_stride,\n",
        "                  input_dim, n_classes, hidden_dim, norm, activation, dropout).to(device)\n",
        "\n",
        "total_params= sum(p.numel() for p in model2.parameters() if p.requires_grad)\n",
        "print(f'Number of parameters: {total_params}')\n",
        "\n",
        "model2"
      ],
      "metadata": {
        "colab": {
          "base_uri": "https://localhost:8080/"
        },
        "id": "KpnW2OwUHPHy",
        "outputId": "8da52ff5-45cf-41f1-9d5b-a983edd46605"
      },
      "execution_count": null,
      "outputs": [
        {
          "output_type": "stream",
          "name": "stdout",
          "text": [
            "Number of parameters: 17290\n"
          ]
        },
        {
          "output_type": "execute_result",
          "data": {
            "text/plain": [
              "CNN_Model(\n",
              "  (backbone): Backbone(\n",
              "    (conv_in): CNN_Layer(\n",
              "      (conv): Conv2d(1, 16, kernel_size=(3, 3), stride=(1, 1), padding=(1, 1))\n",
              "      (max_pool): MaxPool2d(kernel_size=2, stride=2, padding=0, dilation=1, ceil_mode=False)\n",
              "      (norm): BatchNorm2d(16, eps=1e-05, momentum=0.1, affine=True, track_running_stats=True)\n",
              "      (activ): Activation(\n",
              "        (activ): ReLU()\n",
              "      )\n",
              "      (dropout): Dropout(p=0.1, inplace=False)\n",
              "    )\n",
              "    (conv_hn): Sequential(\n",
              "      (0): CNN_Layer(\n",
              "        (conv): Conv2d(16, 16, kernel_size=(3, 3), stride=(1, 1), padding=(1, 1))\n",
              "        (max_pool): MaxPool2d(kernel_size=2, stride=2, padding=0, dilation=1, ceil_mode=False)\n",
              "        (norm): BatchNorm2d(16, eps=1e-05, momentum=0.1, affine=True, track_running_stats=True)\n",
              "        (activ): Activation(\n",
              "          (activ): ReLU()\n",
              "        )\n",
              "        (dropout): Dropout(p=0.1, inplace=False)\n",
              "      )\n",
              "    )\n",
              "    (conv_out): CNN_Layer(\n",
              "      (conv): Conv2d(16, 32, kernel_size=(3, 3), stride=(1, 1), padding=(1, 1))\n",
              "      (max_pool): MaxPool2d(kernel_size=2, stride=2, padding=0, dilation=1, ceil_mode=False)\n",
              "      (norm): BatchNorm2d(32, eps=1e-05, momentum=0.1, affine=True, track_running_stats=True)\n",
              "      (activ): Activation(\n",
              "        (activ): ReLU()\n",
              "      )\n",
              "      (dropout): Dropout(p=0.1, inplace=False)\n",
              "    )\n",
              "  )\n",
              "  (head): Head(\n",
              "    (fc_in): MLP_Layer(\n",
              "      (fc): Linear(in_features=288, out_features=32, bias=True)\n",
              "      (norm): LayerNorm((32,), eps=1e-05, elementwise_affine=True)\n",
              "      (activ): Activation(\n",
              "        (activ): ReLU()\n",
              "      )\n",
              "      (dropout): Dropout(p=0.1, inplace=False)\n",
              "    )\n",
              "    (fc_hn): Sequential(\n",
              "      (0): MLP_Layer(\n",
              "        (fc): Linear(in_features=32, out_features=16, bias=True)\n",
              "        (norm): LayerNorm((16,), eps=1e-05, elementwise_affine=True)\n",
              "        (activ): Activation(\n",
              "          (activ): ReLU()\n",
              "        )\n",
              "        (dropout): Dropout(p=0.1, inplace=False)\n",
              "      )\n",
              "    )\n",
              "    (fc_out): Linear(in_features=16, out_features=10, bias=True)\n",
              "  )\n",
              ")"
            ]
          },
          "metadata": {},
          "execution_count": 28
        }
      ]
    },
    {
      "cell_type": "code",
      "source": [
        "train_hist, dev_hist, test_acc= supervised_training(model2, learning_rate=1e-3, epochs=10,\n",
        "                                                    eval_interval=2, cutoff=1e-6)"
      ],
      "metadata": {
        "colab": {
          "base_uri": "https://localhost:8080/"
        },
        "id": "UEruoUZieqLZ",
        "outputId": "5ce53308-ed54-486a-fa93-6a6694e52ad6"
      },
      "execution_count": null,
      "outputs": [
        {
          "output_type": "stream",
          "name": "stderr",
          "text": [
            "100%|██████████| 10/10 [24:17<00:00, 145.76s/it]\n"
          ]
        }
      ]
    },
    {
      "cell_type": "code",
      "source": [
        "# ploting\n",
        "plt.plot(train_hist, label='train loss')\n",
        "plt.plot(dev_hist, label='dev loss')\n",
        "plt.legend()\n",
        "plt.show()\n",
        "\n",
        "print('Test accuracy: {}'.format(test_acc))"
      ],
      "metadata": {
        "colab": {
          "base_uri": "https://localhost:8080/",
          "height": 447
        },
        "id": "RUYT-g4qaTx2",
        "outputId": "33ae9d16-d61e-4554-d54b-10b3dd16b07d"
      },
      "execution_count": null,
      "outputs": [
        {
          "output_type": "display_data",
          "data": {
            "text/plain": [
              "<Figure size 640x480 with 1 Axes>"
            ],
            "image/png": "[encoded data removed]"
          },
          "metadata": {}
        },
        {
          "output_type": "stream",
          "name": "stdout",
          "text": [
            "Test accuracy: 0.9913\n"
          ]
        }
      ]
    },
    {
      "cell_type": "code",
      "source": [],
      "metadata": {
        "id": "TpbFkTL0jHRD"
      },
      "execution_count": null,
      "outputs": []
    },
    {
      "cell_type": "markdown",
      "source": [
        "Small version trained using a large batch_size value -- improvement in the training time without significantly degrading test accuracy.\n",
        "\n",
        "Errors start larger than previously and quickly reduce."
      ],
      "metadata": {
        "id": "sQJwX0E-iZ4Q"
      }
    },
    {
      "cell_type": "code",
      "source": [
        "# ----- reseting the model -----\n",
        "model2= CNN_Model(input_chs, output_chs, hidden_chs, kernels, paddings, max_pool,\n",
        "                  input_dim, n_classes, hidden_dim, norm, activation, dropout).to(device)\n",
        "\n",
        "train_hist, dev_hist, test_acc= supervised_training(model2, learning_rate=1e-3, epochs=10,\n",
        "                                                    batch_size=256, eval_interval=2, cutoff=1e-6)"
      ],
      "metadata": {
        "colab": {
          "base_uri": "https://localhost:8080/"
        },
        "id": "dkED90uhgT3E",
        "outputId": "883b060f-9fb2-4cd4-de1e-716486bda917"
      },
      "execution_count": null,
      "outputs": [
        {
          "output_type": "stream",
          "name": "stderr",
          "text": [
            "100%|██████████| 10/10 [06:10<00:00, 37.07s/it]\n"
          ]
        }
      ]
    },
    {
      "cell_type": "code",
      "source": [
        "# ploting\n",
        "plt.plot(train_hist, label='train loss')\n",
        "plt.plot(dev_hist, label='dev loss')\n",
        "plt.legend()\n",
        "plt.show()\n",
        "\n",
        "print('Test accuracy: {}'.format(test_acc))"
      ],
      "metadata": {
        "colab": {
          "base_uri": "https://localhost:8080/",
          "height": 447
        },
        "id": "TOn81QPrhuvd",
        "outputId": "0ebb2a4c-410b-41ce-f73b-9a1d885cf58c"
      },
      "execution_count": null,
      "outputs": [
        {
          "output_type": "display_data",
          "data": {
            "text/plain": [
              "<Figure size 640x480 with 1 Axes>"
            ],
            "image/png": "[encoded data removed]"
          },
          "metadata": {}
        },
        {
          "output_type": "stream",
          "name": "stdout",
          "text": [
            "Test accuracy: 0.9909\n"
          ]
        }
      ]
    },
    {
      "cell_type": "code",
      "source": [],
      "metadata": {
        "id": "0lM7_cHei0_r"
      },
      "execution_count": null,
      "outputs": []
    },
    {
      "cell_type": "code",
      "source": [
        "# https://ai.gopubby.com/step-by-step-guide-to-building-an-artificial-neural-network-and-observing-how-overfitting-occurs-84961f96c7e8"
      ],
      "metadata": {
        "id": "f_SqXd9ui1UW"
      },
      "execution_count": null,
      "outputs": []
    },
    {
      "cell_type": "markdown",
      "source": [
        "# AlexNet\n",
        "\n",
        "Just building the model and testing with a dummy sample."
      ],
      "metadata": {
        "id": "nOuIMM95T7lM"
      }
    },
    {
      "cell_type": "code",
      "source": [
        "# ----- Backbone defs -----\n",
        "input_chs= 3                 # the data is single-channel (grayscale)\n",
        "hidden_chs=[96,256,384,384,] # represents the number of filters used in each convolutional layer\n",
        "output_chs= 256              # number of channels in the output\n",
        "kernels=[11,5,3,3,3,]        # represents the dimensions of the kernel or filter, which collects information from the images\n",
        "conv_stride=[4,1,1,1,1,]\n",
        "paddings=[0,2,1,1,1,]        # controls the amount of padding applied to each conv layer\n",
        "max_pool=[3,3,0,0,3,]        # performs pooling operations on the images\n",
        "pool_stride=[2,2,0,0,2,]\n",
        "# ----- Head defs -----\n",
        "input_dim= 9216\n",
        "hidden_dim=[4096,4096,]      # dense (fully connected) layers\n",
        "n_classes=1000               # digits from 0 to 9\n",
        "# ----- general defs -----\n",
        "norm=True                    # note: the original AlexNet has norms only in conv layers 1 and 2\n",
        "activation='relu'\n",
        "dropout=0.1\n",
        "\n",
        "\n",
        "AlexNet= CNN_Model(input_chs, output_chs, hidden_chs, kernels, conv_stride, paddings,\n",
        "                   max_pool, pool_stride,\n",
        "                   input_dim, n_classes, hidden_dim, norm, activation, dropout).to(device)\n",
        "\n",
        "total_params= sum(p.numel() for p in AlexNet.parameters() if p.requires_grad)\n",
        "print(f'Number of parameters: {total_params}')\n",
        "\n",
        "AlexNet"
      ],
      "metadata": {
        "colab": {
          "base_uri": "https://localhost:8080/"
        },
        "id": "TEYDsJ-nwjHH",
        "outputId": "5583f439-466f-456b-c3d5-0e6720dcb8db"
      },
      "execution_count": null,
      "outputs": [
        {
          "output_type": "stream",
          "name": "stdout",
          "text": [
            "Number of parameters: 62397480\n"
          ]
        },
        {
          "output_type": "execute_result",
          "data": {
            "text/plain": [
              "CNN_Model(\n",
              "  (backbone): Backbone(\n",
              "    (conv_in): CNN_Layer(\n",
              "      (conv): Conv2d(3, 96, kernel_size=(11, 11), stride=(4, 4))\n",
              "      (max_pool): MaxPool2d(kernel_size=3, stride=2, padding=0, dilation=1, ceil_mode=False)\n",
              "      (norm): BatchNorm2d(96, eps=1e-05, momentum=0.1, affine=True, track_running_stats=True)\n",
              "      (activ): Activation(\n",
              "        (activ): ReLU()\n",
              "      )\n",
              "      (dropout): Dropout(p=0.1, inplace=False)\n",
              "    )\n",
              "    (conv_hn): Sequential(\n",
              "      (0): CNN_Layer(\n",
              "        (conv): Conv2d(96, 256, kernel_size=(5, 5), stride=(1, 1), padding=(2, 2))\n",
              "        (max_pool): MaxPool2d(kernel_size=3, stride=2, padding=0, dilation=1, ceil_mode=False)\n",
              "        (norm): BatchNorm2d(256, eps=1e-05, momentum=0.1, affine=True, track_running_stats=True)\n",
              "        (activ): Activation(\n",
              "          (activ): ReLU()\n",
              "        )\n",
              "        (dropout): Dropout(p=0.1, inplace=False)\n",
              "      )\n",
              "      (1): CNN_Layer(\n",
              "        (conv): Conv2d(256, 384, kernel_size=(3, 3), stride=(1, 1), padding=(1, 1))\n",
              "        (norm): BatchNorm2d(384, eps=1e-05, momentum=0.1, affine=True, track_running_stats=True)\n",
              "        (activ): Activation(\n",
              "          (activ): ReLU()\n",
              "        )\n",
              "        (dropout): Dropout(p=0.1, inplace=False)\n",
              "      )\n",
              "      (2): CNN_Layer(\n",
              "        (conv): Conv2d(384, 384, kernel_size=(3, 3), stride=(1, 1), padding=(1, 1))\n",
              "        (norm): BatchNorm2d(384, eps=1e-05, momentum=0.1, affine=True, track_running_stats=True)\n",
              "        (activ): Activation(\n",
              "          (activ): ReLU()\n",
              "        )\n",
              "        (dropout): Dropout(p=0.1, inplace=False)\n",
              "      )\n",
              "    )\n",
              "    (conv_out): CNN_Layer(\n",
              "      (conv): Conv2d(384, 256, kernel_size=(3, 3), stride=(1, 1), padding=(1, 1))\n",
              "      (max_pool): MaxPool2d(kernel_size=3, stride=2, padding=0, dilation=1, ceil_mode=False)\n",
              "      (norm): BatchNorm2d(256, eps=1e-05, momentum=0.1, affine=True, track_running_stats=True)\n",
              "      (activ): Activation(\n",
              "        (activ): ReLU()\n",
              "      )\n",
              "      (dropout): Dropout(p=0.1, inplace=False)\n",
              "    )\n",
              "  )\n",
              "  (head): Head(\n",
              "    (fc_in): MLP_Layer(\n",
              "      (fc): Linear(in_features=9216, out_features=4096, bias=True)\n",
              "      (norm): LayerNorm((4096,), eps=1e-05, elementwise_affine=True)\n",
              "      (activ): Activation(\n",
              "        (activ): ReLU()\n",
              "      )\n",
              "      (dropout): Dropout(p=0.1, inplace=False)\n",
              "    )\n",
              "    (fc_hn): Sequential(\n",
              "      (0): MLP_Layer(\n",
              "        (fc): Linear(in_features=4096, out_features=4096, bias=True)\n",
              "        (norm): LayerNorm((4096,), eps=1e-05, elementwise_affine=True)\n",
              "        (activ): Activation(\n",
              "          (activ): ReLU()\n",
              "        )\n",
              "        (dropout): Dropout(p=0.1, inplace=False)\n",
              "      )\n",
              "    )\n",
              "    (fc_out): Linear(in_features=4096, out_features=1000, bias=True)\n",
              "  )\n",
              ")"
            ]
          },
          "metadata": {},
          "execution_count": 21
        }
      ]
    },
    {
      "cell_type": "code",
      "source": [
        "# test sample\n",
        "Xtr_imageNet= torch.randint(low=0, high=255, size=(1,3,227,227)).type(torch.float32).to(device)\n",
        "Xtr_imageNet.shape"
      ],
      "metadata": {
        "colab": {
          "base_uri": "https://localhost:8080/"
        },
        "id": "ikWi7Icl2y7c",
        "outputId": "b483bbe6-453a-4f8c-c5c7-8ad293c3cdce"
      },
      "execution_count": null,
      "outputs": [
        {
          "output_type": "execute_result",
          "data": {
            "text/plain": [
              "torch.Size([1, 3, 227, 227])"
            ]
          },
          "metadata": {},
          "execution_count": 19
        }
      ]
    },
    {
      "cell_type": "code",
      "source": [
        "# testing the model - it works!\n",
        "AlexNet(Xtr_imageNet).shape"
      ],
      "metadata": {
        "colab": {
          "base_uri": "https://localhost:8080/"
        },
        "id": "YaBX68-dPu1D",
        "outputId": "ea65f549-cc1f-43ed-eb11-9811842d3c8a"
      },
      "execution_count": null,
      "outputs": [
        {
          "output_type": "execute_result",
          "data": {
            "text/plain": [
              "torch.Size([1, 1000])"
            ]
          },
          "metadata": {},
          "execution_count": 23
        }
      ]
    },
    {
      "cell_type": "code",
      "source": [],
      "metadata": {
        "id": "ktqj3L2NS-Bp"
      },
      "execution_count": null,
      "outputs": []
    }
  ]
}