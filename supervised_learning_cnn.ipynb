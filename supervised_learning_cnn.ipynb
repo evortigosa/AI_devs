{
  "nbformat": 4,
  "nbformat_minor": 0,
  "metadata": {
    "colab": {
      "provenance": [],
      "toc_visible": true
    },
    "kernelspec": {
      "name": "python3",
      "display_name": "Python 3"
    },
    "language_info": {
      "name": "python"
    }
  },
  "cells": [
    {
      "cell_type": "markdown",
      "source": [
        "# MNIST and CNN architecture"
      ],
      "metadata": {
        "id": "ZhXxRqwHU_Wj"
      }
    },
    {
      "cell_type": "code",
      "source": [
        "import math\n",
        "import numpy as np\n",
        "import pandas as pd\n",
        "import matplotlib.pyplot as plt\n",
        "import torch\n",
        "import torch.nn as nn\n",
        "import torch.nn.functional as F\n",
        "from torch.utils.data import DataLoader\n",
        "from tqdm import tqdm"
      ],
      "metadata": {
        "id": "VWIFRhp0U97T"
      },
      "execution_count": null,
      "outputs": []
    },
    {
      "cell_type": "code",
      "source": [
        "# setting the device\n",
        "device= 'cuda' if torch.cuda.is_available() else 'cpu'"
      ],
      "metadata": {
        "id": "zlL69nT1VJw3"
      },
      "execution_count": null,
      "outputs": []
    },
    {
      "cell_type": "code",
      "source": [
        "# calling the dataset\n",
        "from tensorflow.keras.datasets import mnist\n",
        "\n",
        "# access the training and test data\n",
        "(Xtr_raw, Ytr_raw), (Xte_raw, Yte_raw)= mnist.load_data()\n",
        "\n",
        "(Xtr_raw.shape, Ytr_raw.shape), (Xte_raw.shape, Yte_raw.shape)"
      ],
      "metadata": {
        "id": "ibGJjXEMU9_e",
        "colab": {
          "base_uri": "https://localhost:8080/"
        },
        "outputId": "7bd0a783-53c5-4d42-f9c8-33148d6bc166"
      },
      "execution_count": null,
      "outputs": [
        {
          "output_type": "stream",
          "name": "stdout",
          "text": [
            "Downloading data from https://storage.googleapis.com/tensorflow/tf-keras-datasets/mnist.npz\n",
            "\u001b[1m11490434/11490434\u001b[0m \u001b[32m━━━━━━━━━━━━━━━━━━━━\u001b[0m\u001b[37m\u001b[0m \u001b[1m1s\u001b[0m 0us/step\n"
          ]
        },
        {
          "output_type": "execute_result",
          "data": {
            "text/plain": [
              "(((60000, 28, 28), (60000,)), ((10000, 28, 28), (10000,)))"
            ]
          },
          "metadata": {},
          "execution_count": 3
        }
      ]
    },
    {
      "cell_type": "markdown",
      "source": [
        "The reshape function changes the dimensions of the data to prepare it for input into the neural network. It reshapes the images into 4D dimensions with the size of (number of samples, image height, image width, number of channels). In MNIST, the dimensions of the images are (60000, 28, 28), which are reshaped to (60000, 1, 28, 28). This is necessary to match the input size of the neural network layers."
      ],
      "metadata": {
        "id": "cvQ-tNzkJKmi"
      }
    },
    {
      "cell_type": "code",
      "source": [
        "# data reformating - adding a channel dimension\n",
        "Xtr_raw= np.expand_dims(Xtr_raw, 1) # Grayscale images have 1 channel\n",
        "Xte_raw= np.expand_dims(Xte_raw, 1)\n",
        "\n",
        "# (instances, channels, x, y)\n",
        "Xtr_raw.shape"
      ],
      "metadata": {
        "colab": {
          "base_uri": "https://localhost:8080/"
        },
        "id": "hkXjMYfWJK0B",
        "outputId": "ae915c65-68b4-47d5-f663-ebc38b31a47e"
      },
      "execution_count": null,
      "outputs": [
        {
          "output_type": "execute_result",
          "data": {
            "text/plain": [
              "(60000, 1, 28, 28)"
            ]
          },
          "metadata": {},
          "execution_count": 3
        }
      ]
    },
    {
      "cell_type": "markdown",
      "source": [
        "# Data processing\n",
        "\n",
        "Some datasets, like MNIST, require minimal processing, but real-world data is not always so straightforward.\n",
        "\n",
        "If normalization is not performed, one of the issues that arises is convergence problems, which may result in the model converging slowly or not converging at all. There are various methods of normalization. These include Pixel-wise normalization (where each pixel of the image is normalized based on the mean and variance of similar pixels in the dataset), Local Contrast normalization (useful for images with local brightness variations, where each region of the image is normalized relative to similar regions in all data), Robust Scaling (which uses the median and interquartile range of the data for scaling, making it robust against outliers), and Unit Vector Scaling (where each row of the data is normalized in such a way that the sum of squares of its values equals one).\n",
        "\n",
        "The Min-Max Scaling method is more suitable for data with a normal distribution or similar. When the data have a non-normal distribution, such as MNIST, the Z-score method is usually more useful because it normalizes the data based on the mean and variance."
      ],
      "metadata": {
        "id": "fUxkDamNH57B"
      }
    },
    {
      "cell_type": "code",
      "source": [
        "# For the MNIST dataset, normalization may be useful but often not necessary.\n",
        "# We will just subtract the mean image for centering (e.g., AlexNet)\n",
        "# see https://www.youtube.com/watch?v=gYpoJMlgyXA\n",
        "\n",
        "# convert data to float32\n",
        "Xtr_raw= Xtr_raw.astype(np.float32)\n",
        "Xte_raw= Xte_raw.astype(np.float32)\n",
        "\n",
        "# calculate the mean of the training data\n",
        "Xmean= np.mean(Xtr_raw)\n",
        "\n",
        "# apply the centering to the training data\n",
        "Xtr_raw -= Xmean\n",
        "\n",
        "# apply the centering to the test data using the mean of the training data\n",
        "Xte_raw -= Xmean"
      ],
      "metadata": {
        "id": "lfRHOWZjU-C4"
      },
      "execution_count": null,
      "outputs": []
    },
    {
      "cell_type": "code",
      "source": [
        "# rendering one example\n",
        "plt.imshow(Xtr_raw[0][0], cmap='gray')\n",
        "plt.colorbar()\n",
        "plt.title(f'Label: {Ytr_raw[0]}')\n",
        "plt.show()"
      ],
      "metadata": {
        "id": "qTblqCkvU-GG",
        "colab": {
          "base_uri": "https://localhost:8080/",
          "height": 452
        },
        "outputId": "300a4924-6948-44fb-e4ce-d4f6f02d2196"
      },
      "execution_count": null,
      "outputs": [
        {
          "output_type": "display_data",
          "data": {
            "text/plain": [
              "<Figure size 640x480 with 2 Axes>"
            ],
            "image/png": "[encoded data removed]"
          },
          "metadata": {}
        }
      ]
    },
    {
      "cell_type": "code",
      "source": [
        "# converting data to pytorch type\n",
        "Xtr= torch.tensor(Xtr_raw, requires_grad=True).to(device)\n",
        "Ytr= torch.tensor(Ytr_raw).to(device)\n",
        "Xte= torch.tensor(Xte_raw, requires_grad=True).to(device)\n",
        "Yte= torch.tensor(Yte_raw).to(device)\n",
        "\n",
        "# transforming labels from numbers to one-hot vectors of length 10\n",
        "Ytr= F.one_hot(Ytr.type(torch.int64), num_classes=10).type(torch.float32)\n",
        "Yte= F.one_hot(Yte.type(torch.int64), num_classes=10).type(torch.float32)\n",
        "\n",
        "# creating a dev dataset from training data\n",
        "tr_size= int(0.8*Xtr.shape[0])\n",
        "\n",
        "Xdev= Xtr[tr_size:]\n",
        "Ydev= Ytr[tr_size:]\n",
        "\n",
        "Xtr= Xtr[:tr_size]\n",
        "Ytr= Ytr[:tr_size]\n",
        "\n",
        "print(f'Shape of training: Xtr - {Xtr.shape}, Ytr - {Ytr.shape}')\n",
        "print(f'Shape of dev data: Xdev - {Xdev.shape}, Ydev - {Ydev.shape}')\n",
        "print(f'Shape of test data: Xte - {Xte.shape}, Yte - {Yte.shape}')"
      ],
      "metadata": {
        "id": "uZ-9hDEHU-JF",
        "colab": {
          "base_uri": "https://localhost:8080/"
        },
        "outputId": "fd2599f6-8057-463a-87af-8a03cd3cb061"
      },
      "execution_count": null,
      "outputs": [
        {
          "output_type": "stream",
          "name": "stdout",
          "text": [
            "Shape of training: Xtr - torch.Size([48000, 1, 28, 28]), Ytr - torch.Size([48000, 10])\n",
            "Shape of dev data: Xdev - torch.Size([12000, 1, 28, 28]), Ydev - torch.Size([12000, 10])\n",
            "Shape of test data: Xte - torch.Size([10000, 1, 28, 28]), Yte - torch.Size([10000, 10])\n"
          ]
        }
      ]
    },
    {
      "cell_type": "markdown",
      "source": [
        "# Architecture Design (Model Building)\n",
        "\n",
        "Using PyTorch to create a customizable version of AlexNet. This model has two general parts: the convolutional backbone and the densely connected head.\n",
        "\n",
        "CNNs operate over volumes; all of the layers in between are going to take volumes of activations and are going to produce volumes of activations, so the intermediates are not as vectors lake NNs, but they have spatial dimensions (width, height, and depth -- or channels) that will maintain the computations.\n",
        "\n",
        "https://www.youtube.com/watch?v=LxfUGhug-iQ\n",
        "\n",
        "**NOTE:** ReLU is historically used in AlexNet and performs well. However, alternatives like GELU or Swish may improve performance, especially in deeper or more modern networks."
      ],
      "metadata": {
        "id": "OPEvtuwaVglu"
      }
    },
    {
      "cell_type": "code",
      "source": [
        "class Activation(nn.Module):\n",
        "    \"\"\"\n",
        "    Activation functions. ReLU is the default in AlexNet.\n",
        "    The inplace=True helps to save memory by modifying the input directly.\n",
        "    \"\"\"\n",
        "\n",
        "    def __init__(self, activation='relu') -> None:\n",
        "        super(Activation, self).__init__()\n",
        "        if 'relu' in activation:\n",
        "            self.activ= nn.ReLU(inplace=True)\n",
        "        elif 'gelu' in activation:\n",
        "            self.activ= nn.GELU()\n",
        "        elif 'swish' in activation:\n",
        "            self.activ= nn.SiLU()\n",
        "        else:\n",
        "            self.activ= nn.Tanh()\n",
        "\n",
        "\n",
        "    def forward(self, x):\n",
        "\n",
        "        return self.activ(x)\n"
      ],
      "metadata": {
        "id": "iSre5okGU-L9"
      },
      "execution_count": null,
      "outputs": []
    },
    {
      "cell_type": "markdown",
      "source": [
        "For deep convolutional networks, it is necessary to define padding values; otherwise, the convolutional operation will always decrease the input size (spatial downsampling), and this is not we might want necessarily because if we collapse the size of our representation too quickly, then the total amount of convolutional layers (depth) is limited. For 3x3 kernels, paddings of 1 keep the input space (with stride=1). The spatial downsampling procedure is managed by applying pooling layers (preserving the volume of the convolution).\n",
        "\n",
        "AlexNet (8 layers, 60M parameters) - Input image: 227x227x3\n",
        "- 1st layer (conv) 96 11x11 filters, stride 4. Output volume: 55x55x96. Parameters (11x11x3)x96 = 35K\n",
        "- 2nd layer - normalization\n",
        "- 3rd layer (pool) 3x3 filters, stride 2. Output volume: 27x27x96 ((55-3)/2+1 = 27). Pool layers have zero parameters.\n",
        "- 4st layer (conv) ...\n",
        "- Output volume at the end of the Backbone module: 6x6x256\n",
        "- Head - two FC layers with 4096 neurons each\n",
        "- Output (class scores) 1000 neurons\n",
        "\n",
        "AlexNet details: ReLU, dropout 0.5, batch size 128, SGD Momentum 0.9, learning rate 1e-2 manually reduced by 10, L2 weight decay 5e-4.\n",
        "\n",
        "VGGNet (19 layers): only 3x3 conv with stride 1 and pad 1, and Max Pool stride 2. Spacially decreases the input but the volumes of convs get more depth (output volume of backbone is 7x7x512).\n",
        "\n",
        "ResNet: Xavier/2 init, batch norm after every conv layer, no dropout, batch size 256, SGD Momentum 0.9, learning rate 0.1 reduced by 10 when validation error plateaus, weight decay 1e-5. Very deep architecture (152 layers) introduces residual (skip) connections (the input flows in, but instead of computing how to transform the input, ResNet computes what to add to the input). In the backward pass, skip connections allow the gradient to skip right through the layers, preventing it vanishes.\n",
        "\n",
        "https://www.youtube.com/watch?v=LxfUGhug-iQ"
      ],
      "metadata": {
        "id": "VDn6QHZRoDJF"
      }
    },
    {
      "cell_type": "code",
      "source": [
        "class Initializer:\n",
        "    \"\"\"\n",
        "    Validades hyperparameters for the CNN model and initializes the weights.\n",
        "    \"\"\"\n",
        "\n",
        "    def __init__(self, activation='relu') -> None:\n",
        "        self.activation= activation\n",
        "        self.n_hidden= 0\n",
        "\n",
        "\n",
        "    def check_dims(self, dim, is_hidden=False):\n",
        "        if not is_hidden:\n",
        "            assert isinstance(dim, int), 'Input/output dimension must be an integer'\n",
        "            assert dim> 0, 'Input/output dimension cannot be zero'\n",
        "        else:\n",
        "            if isinstance(dim, int):\n",
        "                assert dim> 0, 'hidden dimension cannot be zero'\n",
        "                dim= [dim]\n",
        "            assert all(isinstance(x, int) for x in dim), 'hidden must be a list of integers'\n",
        "            n_hidden_layers= len(dim)\n",
        "\n",
        "            self.n_hidden= n_hidden_layers\n",
        "\n",
        "        return dim\n",
        "\n",
        "\n",
        "    def check_hparams(self, hparam, name):\n",
        "        assert self.n_hidden> 0, 'hidden_chs cannot be an empty list'\n",
        "\n",
        "        if isinstance(hparam, (int, float)):\n",
        "            hparam= [hparam] * (self.n_hidden + 1)\n",
        "        if len(hparam)< (self.n_hidden + 1):\n",
        "            raise ValueError(f\"{name} must be defined for all {self.n_hidden+1} layers\")\n",
        "        if name!= 'dropout':\n",
        "            assert all(isinstance(x, int) for x in hparam), f'{name} must be a list of integers'\n",
        "\n",
        "        return hparam\n",
        "\n",
        "\n",
        "    def weights(self, modules, method='random') -> None:\n",
        "        for m in modules:\n",
        "            if isinstance(m, nn.BatchNorm2d):\n",
        "                nn.init.constant_(m.weight, 1.0)\n",
        "                nn.init.constant_(m.bias, 0.0)\n",
        "            else:\n",
        "                # nn.Conv2d and nn.Linear modules\n",
        "                if hasattr(m, 'weight') and isinstance(m.weight, torch.Tensor):\n",
        "                    if method== 'random':\n",
        "                        nn.init.normal_(m.weight)\n",
        "                    elif method== 'uniform':\n",
        "                        nn.init.uniform_(m.weight)\n",
        "                    elif method== 'xavier':\n",
        "                        nn.init.xavier_normal_(m.weight)\n",
        "                    elif method== 'xavier_uniform':\n",
        "                        nn.init.xavier_uniform_(m.weight)\n",
        "                    elif method== 'he':\n",
        "                        nn.init.kaiming_normal_(m.weight, nonlinearity=self.activation)\n",
        "                    elif method== 'he_uniform':\n",
        "                        nn.init.kaiming_uniform_(m.weight, nonlinearity=self.activation)\n",
        "                    else:\n",
        "                        raise ValueError(f'Unknown initialization method: {method}')\n",
        "\n",
        "                if hasattr(m, 'bias') and isinstance(m.bias, torch.Tensor):\n",
        "                    nn.init.zeros_(m.bias)\n"
      ],
      "metadata": {
        "id": "9X6woCb7RiQU"
      },
      "execution_count": null,
      "outputs": []
    },
    {
      "cell_type": "markdown",
      "source": [
        "**Xavier initialization** draws the weights of one layer in the network from uniform distribution. However, Xavier initialization is designed for tanh or sigmoid activation, and may lead to a reduction of gradients during back propagation due to the vanishing gradient problem caused by tanh or sigmoid. Therefore, Xavier initialization may not be suitable for a deep neural network using ReLU activation.\n",
        "\n",
        "**He's initialization**, specifically designed for deep neural network with the ReLU activation that helps to reduce the vanishing gradient problem, allows the network to learn deeper representations. He's initialization draws the weights of one layer in the network from Gaussian distribution.\n",
        "\n",
        "https://medium.com/@freshtechyy/weight-initialization-for-deep-neural-network-e0302b6f5bf3\n",
        "\n",
        "# CNN Backbone"
      ],
      "metadata": {
        "id": "kgOfET1wbTb6"
      }
    },
    {
      "cell_type": "code",
      "source": [
        "class ConvLayer(nn.Module):\n",
        "    \"\"\"\n",
        "    Implements one customizable CNN layer.\n",
        "    AlexNet-style: Input -> Conv2d -> ReLU -> MaxPool2d -> Output\n",
        "    \"\"\"\n",
        "\n",
        "    def __init__(self, in_chs, out_chs, kernel, stride, padding,\n",
        "                 max_pool, pool_stride, norm, activation, dropout=0.0) -> None:\n",
        "        super(ConvLayer, self).__init__()\n",
        "        self.conv= nn.Conv2d(in_chs, out_chs, kernel, stride, padding)\n",
        "        # Batch Normalization  -- not introduced when AlexNet came out\n",
        "        self.norm= nn.BatchNorm2d(out_chs) if norm else None\n",
        "        # Activation function -- ReLU is the default in AlexNet\n",
        "        self.activ= Activation(activation)\n",
        "        # Max pooling layer -- halves the feature maps each time\n",
        "        self.max_pool= nn.MaxPool2d(max_pool, pool_stride) if max_pool> 0.0 else None\n",
        "        # Dropout layer for regularization -- typically applied after max pooling\n",
        "        self.dropout= nn.Dropout2d(p=dropout) if dropout> 0.0 else None\n",
        "\n",
        "\n",
        "    def forward(self, x):\n",
        "        x= self.conv(x)\n",
        "        if self.norm is not None:\n",
        "            x= self.norm(x)\n",
        "        x= self.activ(x)\n",
        "        if self.max_pool is not None:\n",
        "            x= self.max_pool(x)\n",
        "        if self.dropout is not None:\n",
        "            x= self.dropout(x)\n",
        "\n",
        "        return x\n",
        "\n",
        "\n",
        "\n",
        "class Backbone(nn.Module):\n",
        "    \"\"\"\n",
        "    Defines the CNN backbone.\n",
        "    Modular setup, so you can easily experiment with different configurations.\n",
        "    \"\"\"\n",
        "\n",
        "    def __init__(self, input_chs, output_chs, hidden_chs=[16,], kernels=3, conv_strides=1, paddings=0,\n",
        "                 max_pool=2, pool_strides=2,\n",
        "                 norm=1, activation='relu', dropout=0.0, initializer='he') -> None:\n",
        "        super(Backbone, self).__init__()\n",
        "        # Hyperparameter Validation\n",
        "        init= Initializer(activation)\n",
        "\n",
        "        input_chs = init.check_dims(input_chs)\n",
        "        hidden_chs= init.check_dims(hidden_chs, is_hidden=True)\n",
        "        output_chs= init.check_dims(output_chs)\n",
        "\n",
        "        kernels= init.check_hparams(kernels, 'kernels')\n",
        "        conv_strides= init.check_hparams(conv_strides, 'conv_strides')\n",
        "        paddings= init.check_hparams(paddings, 'paddings')\n",
        "        max_pool= init.check_hparams(max_pool, 'max_pool')\n",
        "        pool_strides= init.check_hparams(pool_strides, 'pool_strides')\n",
        "        norm= init.check_hparams(norm, 'norm')\n",
        "        dropout= (init.check_hparams(dropout, 'dropout'))[:init.n_hidden]\n",
        "\n",
        "        # Defines the CNN backbone architecture\n",
        "        self.conv_in= ConvLayer(input_chs, hidden_chs[0], kernels[0], conv_strides[0], paddings[0],\n",
        "                                max_pool[0], pool_strides[0], norm[0], activation, dropout[0])\n",
        "\n",
        "        if init.n_hidden> 1:\n",
        "            self.conv_hiddens= nn.Sequential(*[\n",
        "                ConvLayer(ch, hidden_chs[i+1], k, cs, p, m, ps, n, activation, d)\n",
        "                for i, (ch, k, cs, p, m, ps, n, d) in enumerate(zip(\n",
        "                    hidden_chs[:-1], kernels[1:-1], conv_strides[1:-1], paddings[1:-1],\n",
        "                    max_pool[1:-1], pool_strides[1:-1], norm[1:-1], dropout[1:]\n",
        "                ))\n",
        "            ])\n",
        "        else: self.conv_hiddens= None\n",
        "        # No dropout in the last ConvLayer\n",
        "        self.conv_out= ConvLayer(hidden_chs[-1], output_chs, kernels[-1], conv_strides[-1], paddings[-1],\n",
        "                                 max_pool[-1], pool_strides[-1], norm[-1], activation)\n",
        "\n",
        "        init.weights(self.modules(), initializer)\n",
        "\n",
        "\n",
        "    def forward(self, x):\n",
        "        x= self.conv_in(x)\n",
        "        if self.conv_hiddens is not None:\n",
        "            x= self.conv_hiddens(x)\n",
        "        x= self.conv_out(x)\n",
        "\n",
        "        return x\n"
      ],
      "metadata": {
        "id": "V7RJuaUDU-PH"
      },
      "execution_count": null,
      "outputs": []
    },
    {
      "cell_type": "markdown",
      "source": [
        "# MLP Classification Head"
      ],
      "metadata": {
        "id": "R-lMUGDhUtoC"
      }
    },
    {
      "cell_type": "code",
      "source": [
        "class MLPLayer(nn.Module):\n",
        "    \"\"\"\n",
        "    Implements one customizable MLP layer.\n",
        "    AlexNet-style: Dropout is placed before the FC layer.\n",
        "    \"\"\"\n",
        "\n",
        "    def __init__(self, in_dim, out_dim, activation=None, dropout=0.0) -> None:\n",
        "        super(MLPLayer, self).__init__()\n",
        "        # Dropout layer for regularization\n",
        "        self.dropout= nn.Dropout(p=dropout) if dropout> 0.0 else None\n",
        "        # Fully connected (FC) layer\n",
        "        self.fc= nn.Linear(in_dim, out_dim)\n",
        "        # Activation function -- ReLU is the default in AlexNet\n",
        "        # For the final layer: activation=None\n",
        "        self.activ= Activation(activation) if activation is not None else None\n",
        "\n",
        "\n",
        "    def forward(self, x):\n",
        "        if self.dropout is not None:\n",
        "            x= self.dropout(x)\n",
        "        x= self.fc(x)\n",
        "        if self.activ is not None:\n",
        "            x= self.activ(x)\n",
        "\n",
        "        return x\n",
        "\n",
        "\n",
        "\n",
        "class Head(nn.Module):\n",
        "    \"\"\"\n",
        "    Defines the MLP Projection Head (for data classification).\n",
        "    \"\"\"\n",
        "\n",
        "    def __init__(self, input_dim, n_classes=1, hidden_dim=[16,],\n",
        "                 activation='relu', dropout=0.0, initializer='he') -> None:\n",
        "        super(Head, self).__init__()\n",
        "        # Hyperparameter Validation\n",
        "        init= Initializer(activation)\n",
        "\n",
        "        input_dim = init.check_dims(input_dim)\n",
        "        hidden_dim= init.check_dims(hidden_dim, is_hidden=True)\n",
        "        n_classes = init.check_dims(n_classes)\n",
        "\n",
        "        dropout= (init.check_hparams(dropout, 'dropout'))[-(init.n_hidden+1):]\n",
        "\n",
        "        # Defines the classification head architecture\n",
        "        self.fc_in= MLPLayer(input_dim, hidden_dim[0], activation, dropout[0])\n",
        "\n",
        "        if init.n_hidden> 1:\n",
        "            self.fc_hiddens= nn.Sequential(*[\n",
        "                MLPLayer(hd, hidden_dim[i+1], activation, d)\n",
        "                for i, (hd, d) in enumerate(zip(hidden_dim[:-1], dropout[1:-1]))\n",
        "            ])\n",
        "        else: self.fc_hiddens= None\n",
        "        # No activation nor dropout in the last MLPLayer\n",
        "        self.fc_out= MLPLayer(hidden_dim[-1], n_classes, dropout=0.0)\n",
        "\n",
        "        init.weights(self.parameters(), initializer)\n",
        "\n",
        "\n",
        "    def forward(self, x):\n",
        "        x= self.fc_in(x)\n",
        "        if self.fc_hiddens is not None:\n",
        "            x= self.fc_hiddens(x)\n",
        "\n",
        "        return self.fc_out(x)   # output layer -- logits\n"
      ],
      "metadata": {
        "id": "0oQ88IP5nZA_"
      },
      "execution_count": null,
      "outputs": []
    },
    {
      "cell_type": "markdown",
      "source": [
        "# Building the final CNN model"
      ],
      "metadata": {
        "id": "_WkQyEpsUzip"
      }
    },
    {
      "cell_type": "code",
      "source": [
        "class CNN_Model(nn.Module):\n",
        "    \"\"\"\n",
        "    Defines the AlexNet-based CNN model - Feature extractor Conv backbone + classification FC head.\n",
        "    \"\"\"\n",
        "\n",
        "    def __init__(self, input_chs, output_chs, hidden_chs=[16,], kernels=3, conv_strides=1, paddings=0,\n",
        "                 max_pool=2, pool_strides=2, norm=1,                  # Conv\n",
        "                 input_dim=1, n_classes=1, hidden_dim=[16,],          # MLP\n",
        "                 activation='relu', dropout=0.0, initializer='he') -> None:\n",
        "        super(CNN_Model, self).__init__()\n",
        "        # Processes the input through the convolutional layers for initial feature extraction\n",
        "        self.backbone= Backbone(\n",
        "            input_chs, output_chs, hidden_chs, kernels, conv_strides, paddings,\n",
        "            max_pool, pool_strides, norm, activation, dropout, initializer\n",
        "        )\n",
        "\n",
        "        # Average Pooling Layer (spatial global pooling)\n",
        "        pool_size= int(math.sqrt(input_dim/output_chs))\n",
        "        self.avg_pool= nn.AdaptiveAvgPool2d((pool_size, pool_size))\n",
        "        # Flatten backbone output to transform the 2D feature maps into 1D feature vectors\n",
        "        self.flatten= nn.Flatten(start_dim=1)\n",
        "\n",
        "        # Runs the feature vector through the classifier to generate predictions for each class\n",
        "        self.head= Head(\n",
        "            input_dim, n_classes, hidden_dim, activation, dropout, initializer\n",
        "        )\n",
        "\n",
        "\n",
        "    def forward(self, x):                 # (batch_size, input_chs, x_height, x_width)\n",
        "        x= self.backbone(x)               # (batch_size, output_chs, map_d1, map_d2)\n",
        "        x= self.flatten(self.avg_pool(x)) # (batch_size, input_dim)\n",
        "        x= self.head(x)                   # (batch_size, n_classes)\n",
        "\n",
        "        return F.log_softmax(x, dim=1) # softmax activation on logits for classification\n"
      ],
      "metadata": {
        "id": "s76RhRIOuJEe"
      },
      "execution_count": null,
      "outputs": []
    },
    {
      "cell_type": "markdown",
      "source": [
        "BatchNorm normalizes each feature within a batch of samples, while LayerNorm normalizes all features within each sample. Let's assume we have a two-dimensional input matrix, where the rows represent the batch and the columns represent the sample features. The target of Batch Normalization is a batch of samples (horizontal), and the target of Layer Normalization is a single sample (vertical).\n",
        "\n",
        "For the field of computer vision, features depend on the statistical parameters between different samples, and **BatchNorm** is more effective. This is because it eliminates the size relationship between different features while preserving the size relationship between different samples.\n",
        "\n",
        "In the field of NLP, **LayerNorm** is more appropriate. This is because the different features of a single sample are actually the variations in words over time, and the feature relationships within the sample are very close.\n",
        "\n",
        "Typical architectures look like: [(Conv-ReLU)xN-Pool?]xM-(FC-ReLU)xK,Softmax\n",
        "- where N is usually up to ~5, M is large, 0<= K <=2.\n",
        "- but advances such as ResNet/GoogLeNet challenge this paradigm.\n",
        "\n",
        "https://www.youtube.com/watch?v=LxfUGhug-iQ"
      ],
      "metadata": {
        "id": "lKRaG8X4m-LG"
      }
    },
    {
      "cell_type": "code",
      "source": [
        "# ----- Backbone defs -----\n",
        "input_chs=Xtr.shape[1] # the data is single-channel (grayscale)\n",
        "hidden_chs=[32,64,]    # number of filters used in each convolutional layer\n",
        "output_chs= 64         # number of channels in the output\n",
        "kernels=3              # dimensions of the kernel or filter, which collects information from the images\n",
        "conv_stride=1          # controls the stride for the cross-correlation, default is 1\n",
        "paddings=1             # controls the amount of padding applied to each conv layer\n",
        "max_pool=2             # performs pooling operations on the images\n",
        "pool_stride=max_pool   # the stride of the pool window. Default value is pool_size\n",
        "norm=1                 # BatchNorm in CNN layers\n",
        "# ----- Head defs -----\n",
        "input_dim=576\n",
        "hidden_dim=[64,32,]    # dense (fully connected) layers\n",
        "n_classes=10           # digits from 0 to 9\n",
        "# ----- general defs -----\n",
        "activation='relu'\n",
        "dropout=0.1\n",
        "\n",
        "\n",
        "model1= CNN_Model(input_chs, output_chs, hidden_chs, kernels, conv_stride, paddings,\n",
        "                  max_pool, pool_stride, norm,\n",
        "                  input_dim, n_classes, hidden_dim, activation, dropout).to(device)\n",
        "\n",
        "total_params= sum(p.numel() for p in model1.parameters() if p.requires_grad)\n",
        "print(f'Number of parameters: {total_params}')\n",
        "\n",
        "model1"
      ],
      "metadata": {
        "id": "_mum3QMlU-RP",
        "colab": {
          "base_uri": "https://localhost:8080/"
        },
        "outputId": "b5f32076-b258-47f4-b291-3f6e2b692d93"
      },
      "execution_count": null,
      "outputs": [
        {
          "output_type": "stream",
          "name": "stdout",
          "text": [
            "Number of parameters: 95402\n"
          ]
        },
        {
          "output_type": "execute_result",
          "data": {
            "text/plain": [
              "CNN_Model(\n",
              "  (backbone): Backbone(\n",
              "    (conv_in): ConvLayer(\n",
              "      (conv): Conv2d(1, 32, kernel_size=(3, 3), stride=(1, 1), padding=(1, 1))\n",
              "      (norm): BatchNorm2d(32, eps=1e-05, momentum=0.1, affine=True, track_running_stats=True)\n",
              "      (activ): Activation(\n",
              "        (activ): ReLU(inplace=True)\n",
              "      )\n",
              "      (max_pool): MaxPool2d(kernel_size=2, stride=2, padding=0, dilation=1, ceil_mode=False)\n",
              "      (dropout): Dropout2d(p=0.1, inplace=False)\n",
              "    )\n",
              "    (conv_hiddens): Sequential(\n",
              "      (0): ConvLayer(\n",
              "        (conv): Conv2d(32, 64, kernel_size=(3, 3), stride=(1, 1), padding=(1, 1))\n",
              "        (norm): BatchNorm2d(64, eps=1e-05, momentum=0.1, affine=True, track_running_stats=True)\n",
              "        (activ): Activation(\n",
              "          (activ): ReLU(inplace=True)\n",
              "        )\n",
              "        (max_pool): MaxPool2d(kernel_size=2, stride=2, padding=0, dilation=1, ceil_mode=False)\n",
              "        (dropout): Dropout2d(p=0.1, inplace=False)\n",
              "      )\n",
              "    )\n",
              "    (conv_out): ConvLayer(\n",
              "      (conv): Conv2d(64, 64, kernel_size=(3, 3), stride=(1, 1), padding=(1, 1))\n",
              "      (norm): BatchNorm2d(64, eps=1e-05, momentum=0.1, affine=True, track_running_stats=True)\n",
              "      (activ): Activation(\n",
              "        (activ): ReLU(inplace=True)\n",
              "      )\n",
              "      (max_pool): MaxPool2d(kernel_size=2, stride=2, padding=0, dilation=1, ceil_mode=False)\n",
              "    )\n",
              "  )\n",
              "  (avg_pool): AdaptiveAvgPool2d(output_size=(3, 3))\n",
              "  (flatten): Flatten(start_dim=1, end_dim=-1)\n",
              "  (head): Head(\n",
              "    (fc_in): MLPLayer(\n",
              "      (dropout): Dropout(p=0.1, inplace=False)\n",
              "      (fc): Linear(in_features=576, out_features=64, bias=True)\n",
              "      (activ): Activation(\n",
              "        (activ): ReLU(inplace=True)\n",
              "      )\n",
              "    )\n",
              "    (fc_hiddens): Sequential(\n",
              "      (0): MLPLayer(\n",
              "        (dropout): Dropout(p=0.1, inplace=False)\n",
              "        (fc): Linear(in_features=64, out_features=32, bias=True)\n",
              "        (activ): Activation(\n",
              "          (activ): ReLU(inplace=True)\n",
              "        )\n",
              "      )\n",
              "    )\n",
              "    (fc_out): MLPLayer(\n",
              "      (dropout): Dropout(p=0.1, inplace=False)\n",
              "      (fc): Linear(in_features=32, out_features=10, bias=True)\n",
              "    )\n",
              "  )\n",
              ")"
            ]
          },
          "metadata": {},
          "execution_count": 9
        }
      ]
    },
    {
      "cell_type": "markdown",
      "source": [
        "# Training Phase\n",
        "\n",
        "After constructing the model and its layers with the CNN architecture, the next step is to set the loss function, optimizer, and select evaluation metrics. In machine learning, the loss function represents the difference between the model's output and the actual values. In all tasks, whether in the real world or for solving deep learning problems, one of the most important tasks is to minimize the error.\n",
        "\n",
        "The optimizer is responsible for optimizing and updating the model's weights (W), adjusting them in a way that minimizes the loss function. Optimizers come in various types such as Adam, SGD, and RMSprop, and selecting the right one for your specific task can help improve the model's performance.\n",
        "\n",
        "The learning rate determines how small the training steps should be to reach the optimal point. Selecting an appropriate learning rate is crucial in training a model.\n",
        "\n",
        "Typically, when fitting the model, the first thing we do is specify the number of epochs. In each epoch, the model sees the entire training dataset once to learn complex patterns in the data. Naturally, the higher the number of epochs, the better the model learns because it can see more data, but if it's too high, it may lead to overfitting. In other words, because the model overly converges to the training data, it fails to generalize to new data. In other words, the model simply memorizes the data.\n",
        "\n",
        "Determining the batch size specifies how many data samples are shown to the model in each epoch. Finding the optimal batch size has a significant impact on the speed and quality of model training. Naturally, a larger batch size is preferable for better performance. However, due to memory constraints, especially in large-scale projects, this may not always be feasible. In diverse datasets, a larger batch size may lead to a loss of model adaptation to the data, resulting in overfitting or underfitting. To prevent this, we can find the best batch size through trial and error or by employing systematic and principled methods such as Grid Search or Validation Data-based approaches."
      ],
      "metadata": {
        "id": "DC4ZSihkDsnp"
      }
    },
    {
      "cell_type": "markdown",
      "source": [
        "# Supervised Learning"
      ],
      "metadata": {
        "id": "CjxKUxOmtvPy"
      }
    },
    {
      "cell_type": "code",
      "source": [
        "# https://blog.stackademic.com/pytorch-a-beginners-tutorial-fa410821d75d"
      ],
      "metadata": {
        "id": "oshLoFHtrwB4"
      },
      "execution_count": null,
      "outputs": []
    },
    {
      "cell_type": "markdown",
      "source": [
        "The Dataset constructor retrieves our dataset's features and labels one sample at a time. While training a model, we want to pass samples in \"minibatches\", reshuffle the data at every epoch to reduce model overfitting, and use Python's multiprocessing to speed up data retrieval. You should almost always use shuffle=True so every time you load the data, the samples are shuffled. When you proceed from one epoch to another, as DataLoader knows you depleted all the batches, it will re-shuffle so you get a new combination of samples.\n",
        "\n",
        "Train with larger batch sizes and more rapid iteration times helps combat overfitting. The network experiences a more diverse set of data in a shorter amount of time, which enhances its ability to generalize from the training data to unseen data. While larger batches provide a clearer signal for each update by reducing noise in the gradient calculations, they also require more computational resources and may sometimes generalize less effectively from training data to new situations.\n",
        "\n",
        "Weight decay acts as a regularization term that penalizes large weights by adding a portion of the weight values to the loss function. By penalizing the magnitude of the weights, weight decay ensures that the model does not rely too heavily on a small number of high-weight features, promoting a more generalized model."
      ],
      "metadata": {
        "id": "zr5rWhjwsaxx"
      }
    },
    {
      "cell_type": "code",
      "source": [
        "def supervised_training(model, learning_rate=1e-3, epochs=500, eval_interval=5, batches:bool=True,\n",
        "                        batch_size=64, shuffle:bool=True, early_stop:bool=True, patience=5, cutoff=1e-9):\n",
        "\n",
        "    # defining key hyperparamaters explicitly (instead of hyperparamater search)\n",
        "    if batches:\n",
        "        epoch_size= math.floor(Xtr.shape[0]/ batch_size)\n",
        "    else:\n",
        "        batch_size= Xtr.shape[0]\n",
        "        epoch_size= 1\n",
        "\n",
        "    weight_decay=5e-4\n",
        "\n",
        "    # create a PyTorch optimizer\n",
        "    optimizer= torch.optim.Adam(model.parameters(), lr=learning_rate, weight_decay=weight_decay)\n",
        "\n",
        "    # loss function\n",
        "    loss_fn= nn.CrossEntropyLoss().to(device)\n",
        "\n",
        "    # for early stoping\n",
        "    patience_count= 0\n",
        "    previous_loss= 1e10\n",
        "\n",
        "    # tracking statistics\n",
        "    train_hist= []\n",
        "    dev_hist= []\n",
        "\n",
        "    # training data indexes\n",
        "    ix= torch.arange(0, Xtr.shape[0])\n",
        "\n",
        "    # --- training loop ---\n",
        "    for epoch in tqdm(range(epochs)):\n",
        "\n",
        "        batch_loss= []\n",
        "\n",
        "        # iterating over all batches\n",
        "        if shuffle:\n",
        "            ix= torch.randperm(Xtr.shape[0])[:Xtr.shape[0]]\n",
        "\n",
        "        for i in range(epoch_size):\n",
        "            # --- minibatch construction ---\n",
        "            Xmb= Xtr[ix[(i * batch_size) : ((i+1) * batch_size)]]\n",
        "            Ymb= Ytr[ix[(i * batch_size) : ((i+1) * batch_size)]]\n",
        "\n",
        "            # --- forward pass and get loss ---\n",
        "            model.train(True)\n",
        "            y_pred= model(Xmb)\n",
        "            loss_tr= loss_fn(y_pred, Ymb)\n",
        "            batch_loss.append(loss_tr.item())\n",
        "\n",
        "            # --- backward pass to calculate the gradients ---\n",
        "            optimizer.zero_grad()\n",
        "            loss_tr.backward()\n",
        "\n",
        "            # --- update the parameters using the gradient ---\n",
        "            optimizer.step()\n",
        "\n",
        "\n",
        "        # --- evaluation and track stats ---\n",
        "        train_hist.append(np.mean(batch_loss))\n",
        "\n",
        "        if epoch% eval_interval== 0:\n",
        "            model.train(False)\n",
        "            with torch.no_grad():\n",
        "                y_pred= model(Xdev)\n",
        "                loss_dev= loss_fn(y_pred, Ydev)\n",
        "\n",
        "        dev_hist.append(loss_dev.item())\n",
        "\n",
        "\n",
        "        # --- early stopping -- calculating loss change ---\n",
        "        loss_change= np.abs(previous_loss - train_hist[-1])\n",
        "        # deciding to stop if loss is not decreasing fast enough\n",
        "        if (early_stop and loss_change< cutoff):\n",
        "            patience_count += 1\n",
        "\n",
        "            if patience_count> patience:\n",
        "                print('\\nEarly stopping at epoch {}'.format(epoch))\n",
        "                model.train(False)\n",
        "                break\n",
        "        else:\n",
        "            patience_count= 0\n",
        "        # setting current train loss as previous loss\n",
        "        previous_loss= train_hist[-1]\n",
        "\n",
        "\n",
        "    # --- final evaluation on the test set ---\n",
        "    model.train(False)\n",
        "    with torch.no_grad():\n",
        "        y_pred= model(Xte)\n",
        "        #loss_test= loss_fn(y_pred, Yte)\n",
        "        test_acc= (y_pred.argmax(dim=1)== Yte.argmax(dim=1)).sum().item()/ Yte.shape[0]\n",
        "\n",
        "\n",
        "    return train_hist, dev_hist, test_acc\n"
      ],
      "metadata": {
        "id": "0kLhXZelU-Wq"
      },
      "execution_count": null,
      "outputs": []
    },
    {
      "cell_type": "markdown",
      "source": [
        "Evaluating the model with torch.no_grad() ensures that no gradients are computed during test mode, also serves to reduce unnecessary gradient computations and memory usage for tensors with requires_grad=True.\n",
        "\n",
        "Adam note: momentum is keeping track of the first order moment of your gradient; it's summing up the raw gradients and it's keeping an exponential sum. Adagrad is keeping track of the second moment of the gradient and it's exponential sum and what we end up with is Adam. Adam basically take the RMSProp momentum, keeps track of the velocity in a decaying way and that's the step, but then we're also scaling down exponentially adding up a leaky counter of square gradients and so we end up with both Momentum and RMSProp in the same formula. Adam needs some time to \"warm up.\" The experiments show that Adam adapts well to almost any type of neural network architecture taking the advantages of both Momentum and RMSProp.\n",
        "\n",
        "Dropout: samples smaller versions of the model (similar to the idea of ensembles), making it harder to overfit by forcing the model to be redundant.\n",
        "\n",
        "https://www.youtube.com/watch?v=hd_KFJ5ktUc"
      ],
      "metadata": {
        "id": "rBK1oeakj-Zj"
      }
    },
    {
      "cell_type": "code",
      "source": [
        "# https://towardsdatascience.com/understanding-deep-learning-optimizers-momentum-adagrad-rmsprop-adam-e311e377e9c2"
      ],
      "metadata": {
        "id": "AIqvcsmwM45r"
      },
      "execution_count": null,
      "outputs": []
    },
    {
      "cell_type": "code",
      "source": [
        "train_hist, dev_hist, test_acc= supervised_training(model1, learning_rate=1e-3, epochs=10,\n",
        "                                                    eval_interval=2, cutoff=1e-6)"
      ],
      "metadata": {
        "colab": {
          "base_uri": "https://localhost:8080/"
        },
        "id": "nJk8tP-oUSPR",
        "outputId": "e963186c-409e-4e36-dbab-97dab47d47de"
      },
      "execution_count": null,
      "outputs": [
        {
          "output_type": "stream",
          "name": "stderr",
          "text": [
            "100%|██████████| 10/10 [24:13<00:00, 145.40s/it]\n"
          ]
        }
      ]
    },
    {
      "cell_type": "code",
      "source": [
        "# ploting\n",
        "plt.plot(train_hist, label='train loss')\n",
        "plt.plot(dev_hist, label='dev loss')\n",
        "plt.legend()\n",
        "plt.show()\n",
        "\n",
        "print('Test accuracy: {}'.format(test_acc))"
      ],
      "metadata": {
        "colab": {
          "base_uri": "https://localhost:8080/",
          "height": 448
        },
        "id": "qTv8TstGUSS3",
        "outputId": "b73a9231-7cb2-4a2d-fb08-5145cbdb74ba"
      },
      "execution_count": null,
      "outputs": [
        {
          "output_type": "display_data",
          "data": {
            "text/plain": [
              "<Figure size 640x480 with 1 Axes>"
            ],
            "image/png": "[encoded data removed]"
          },
          "metadata": {}
        },
        {
          "output_type": "stream",
          "name": "stdout",
          "text": [
            "Test accuracy: 0.991\n"
          ]
        }
      ]
    },
    {
      "cell_type": "markdown",
      "source": [
        "If there isn't much difference between the training accuracy and validation accuracy, meaning they are closer to each other, it indicates that the model hasn't overfit. However, if there is a significant difference, or if the validation accuracy starts decreasing while the training accuracy increases, it's suspicious for overfitting. The accuracy lines should be smoother with fewer fluctuations. The presence of more fluctuations indicates instability in the model's performance, which could be a sign of overfitting.\n",
        "\n",
        "If the Training Accuracy is continuously decreasing while the Validation Accuracy starts to increase or remains stable, this indicates overfitting. Conversely, if both training and validation accuracies consistently decrease or remain stable at similar levels, it indicates that the model has effectively learned. Ideally, we aim to steadily increase both Training and Validation accuracies or stabilize them at similar levels."
      ],
      "metadata": {
        "id": "EbiaEBixMHu8"
      }
    },
    {
      "cell_type": "code",
      "source": [
        "# Small version\n",
        "\n",
        "# ----- Backbone defs -----\n",
        "input_chs=Xtr.shape[1] # the data is single-channel (grayscale)\n",
        "hidden_chs=[16,16,]    # number of filters used in each convolutional layer\n",
        "output_chs= 32         # number of channels in the output\n",
        "kernels=3              # dimensions of the kernel or filter, which collects information from the images\n",
        "conv_stride=1          # controls the stride for the cross-correlation, default is 1\n",
        "paddings=1             # controls the amount of padding applied to each conv layer\n",
        "max_pool=2             # performs pooling operations on the images\n",
        "pool_stride=max_pool   # the stride of the pool window. Default value is pool_size\n",
        "norm=1                 # BatchNorm in CNN layers\n",
        "# ----- Head defs -----\n",
        "input_dim=288\n",
        "hidden_dim=[32,16,]    # dense (fully connected) layers\n",
        "n_classes=10           # digits from 0 to 9\n",
        "# ----- general defs -----\n",
        "activation='relu'\n",
        "dropout=0.1\n",
        "\n",
        "\n",
        "model2= CNN_Model(input_chs, output_chs, hidden_chs, kernels, conv_stride, paddings,\n",
        "                  max_pool, pool_stride, norm,\n",
        "                  input_dim, n_classes, hidden_dim, activation, dropout).to(device)\n",
        "\n",
        "total_params= sum(p.numel() for p in model2.parameters() if p.requires_grad)\n",
        "print(f'Number of parameters: {total_params}')\n",
        "\n",
        "model2"
      ],
      "metadata": {
        "colab": {
          "base_uri": "https://localhost:8080/"
        },
        "id": "KpnW2OwUHPHy",
        "outputId": "93ee1b29-d664-4583-8d5b-f6d9d8a1e1b0"
      },
      "execution_count": null,
      "outputs": [
        {
          "output_type": "stream",
          "name": "stdout",
          "text": [
            "Number of parameters: 17194\n"
          ]
        },
        {
          "output_type": "execute_result",
          "data": {
            "text/plain": [
              "CNN_Model(\n",
              "  (backbone): Backbone(\n",
              "    (conv_in): ConvLayer(\n",
              "      (conv): Conv2d(1, 16, kernel_size=(3, 3), stride=(1, 1), padding=(1, 1))\n",
              "      (norm): BatchNorm2d(16, eps=1e-05, momentum=0.1, affine=True, track_running_stats=True)\n",
              "      (activ): Activation(\n",
              "        (activ): ReLU(inplace=True)\n",
              "      )\n",
              "      (max_pool): MaxPool2d(kernel_size=2, stride=2, padding=0, dilation=1, ceil_mode=False)\n",
              "      (dropout): Dropout2d(p=0.1, inplace=False)\n",
              "    )\n",
              "    (conv_hiddens): Sequential(\n",
              "      (0): ConvLayer(\n",
              "        (conv): Conv2d(16, 16, kernel_size=(3, 3), stride=(1, 1), padding=(1, 1))\n",
              "        (norm): BatchNorm2d(16, eps=1e-05, momentum=0.1, affine=True, track_running_stats=True)\n",
              "        (activ): Activation(\n",
              "          (activ): ReLU(inplace=True)\n",
              "        )\n",
              "        (max_pool): MaxPool2d(kernel_size=2, stride=2, padding=0, dilation=1, ceil_mode=False)\n",
              "        (dropout): Dropout2d(p=0.1, inplace=False)\n",
              "      )\n",
              "    )\n",
              "    (conv_out): ConvLayer(\n",
              "      (conv): Conv2d(16, 32, kernel_size=(3, 3), stride=(1, 1), padding=(1, 1))\n",
              "      (norm): BatchNorm2d(32, eps=1e-05, momentum=0.1, affine=True, track_running_stats=True)\n",
              "      (activ): Activation(\n",
              "        (activ): ReLU(inplace=True)\n",
              "      )\n",
              "      (max_pool): MaxPool2d(kernel_size=2, stride=2, padding=0, dilation=1, ceil_mode=False)\n",
              "    )\n",
              "  )\n",
              "  (avg_pool): AdaptiveAvgPool2d(output_size=(3, 3))\n",
              "  (flatten): Flatten(start_dim=1, end_dim=-1)\n",
              "  (head): Head(\n",
              "    (fc_in): MLPLayer(\n",
              "      (dropout): Dropout(p=0.1, inplace=False)\n",
              "      (fc): Linear(in_features=288, out_features=32, bias=True)\n",
              "      (activ): Activation(\n",
              "        (activ): ReLU(inplace=True)\n",
              "      )\n",
              "    )\n",
              "    (fc_hiddens): Sequential(\n",
              "      (0): MLPLayer(\n",
              "        (dropout): Dropout(p=0.1, inplace=False)\n",
              "        (fc): Linear(in_features=32, out_features=16, bias=True)\n",
              "        (activ): Activation(\n",
              "          (activ): ReLU(inplace=True)\n",
              "        )\n",
              "      )\n",
              "    )\n",
              "    (fc_out): MLPLayer(\n",
              "      (dropout): Dropout(p=0.1, inplace=False)\n",
              "      (fc): Linear(in_features=16, out_features=10, bias=True)\n",
              "    )\n",
              "  )\n",
              ")"
            ]
          },
          "metadata": {},
          "execution_count": 10
        }
      ]
    },
    {
      "cell_type": "code",
      "source": [
        "train_hist, dev_hist, test_acc= supervised_training(model2, learning_rate=1e-3, epochs=10,\n",
        "                                                    eval_interval=2, cutoff=1e-6)"
      ],
      "metadata": {
        "colab": {
          "base_uri": "https://localhost:8080/"
        },
        "id": "UEruoUZieqLZ",
        "outputId": "5ce53308-ed54-486a-fa93-6a6694e52ad6"
      },
      "execution_count": null,
      "outputs": [
        {
          "output_type": "stream",
          "name": "stderr",
          "text": [
            "100%|██████████| 10/10 [24:17<00:00, 145.76s/it]\n"
          ]
        }
      ]
    },
    {
      "cell_type": "code",
      "source": [
        "# ploting\n",
        "plt.plot(train_hist, label='train loss')\n",
        "plt.plot(dev_hist, label='dev loss')\n",
        "plt.legend()\n",
        "plt.show()\n",
        "\n",
        "print('Test accuracy: {}'.format(test_acc))"
      ],
      "metadata": {
        "colab": {
          "base_uri": "https://localhost:8080/",
          "height": 447
        },
        "id": "RUYT-g4qaTx2",
        "outputId": "33ae9d16-d61e-4554-d54b-10b3dd16b07d"
      },
      "execution_count": null,
      "outputs": [
        {
          "output_type": "display_data",
          "data": {
            "text/plain": [
              "<Figure size 640x480 with 1 Axes>"
            ],
            "image/png": "[encoded data removed]"
          },
          "metadata": {}
        },
        {
          "output_type": "stream",
          "name": "stdout",
          "text": [
            "Test accuracy: 0.9913\n"
          ]
        }
      ]
    },
    {
      "cell_type": "markdown",
      "source": [
        "Small version trained using a large batch_size value -- improvement in the training time without significantly degrading test accuracy.\n",
        "\n",
        "Errors start larger than previously and quickly reduce."
      ],
      "metadata": {
        "id": "sQJwX0E-iZ4Q"
      }
    },
    {
      "cell_type": "code",
      "source": [
        "# ----- reseting the small model -----\n",
        "model2= CNN_Model(input_chs, output_chs, hidden_chs, kernels, conv_stride, paddings,\n",
        "                  max_pool, pool_stride, norm,\n",
        "                  input_dim, n_classes, hidden_dim, activation, dropout).to(device)\n",
        "\n",
        "train_hist, dev_hist, test_acc= supervised_training(model2, learning_rate=1e-3, epochs=10,\n",
        "                                                    batch_size=256, eval_interval=2, cutoff=1e-6)"
      ],
      "metadata": {
        "colab": {
          "base_uri": "https://localhost:8080/"
        },
        "id": "dkED90uhgT3E",
        "outputId": "883b060f-9fb2-4cd4-de1e-716486bda917"
      },
      "execution_count": null,
      "outputs": [
        {
          "output_type": "stream",
          "name": "stderr",
          "text": [
            "100%|██████████| 10/10 [06:10<00:00, 37.07s/it]\n"
          ]
        }
      ]
    },
    {
      "cell_type": "code",
      "source": [
        "# ploting\n",
        "plt.plot(train_hist, label='train loss')\n",
        "plt.plot(dev_hist, label='dev loss')\n",
        "plt.legend()\n",
        "plt.show()\n",
        "\n",
        "print('Test accuracy: {}'.format(test_acc))"
      ],
      "metadata": {
        "colab": {
          "base_uri": "https://localhost:8080/",
          "height": 447
        },
        "id": "TOn81QPrhuvd",
        "outputId": "0ebb2a4c-410b-41ce-f73b-9a1d885cf58c"
      },
      "execution_count": null,
      "outputs": [
        {
          "output_type": "display_data",
          "data": {
            "text/plain": [
              "<Figure size 640x480 with 1 Axes>"
            ],
            "image/png": "[encoded data removed]"
          },
          "metadata": {}
        },
        {
          "output_type": "stream",
          "name": "stdout",
          "text": [
            "Test accuracy: 0.9909\n"
          ]
        }
      ]
    },
    {
      "cell_type": "code",
      "source": [
        "# https://medium.com/thedeephub/convolutional-neural-networks-for-computer-vision-a913e77c60ff\n",
        "# https://ai.gopubby.com/step-by-step-guide-to-building-an-artificial-neural-network-and-observing-how-overfitting-occurs-84961f96c7e8"
      ],
      "metadata": {
        "id": "f_SqXd9ui1UW"
      },
      "execution_count": null,
      "outputs": []
    },
    {
      "cell_type": "markdown",
      "source": [
        "# Self-Supervised Learning\n",
        "\n",
        "Using stochastic data augmentation, contrastive loss, and projection heads. The supervised_training function is reused for fine-tuning.\n",
        "\n",
        "See self_supervised_learning.ipynb"
      ],
      "metadata": {
        "id": "Jf3KLx-fuEFy"
      }
    },
    {
      "cell_type": "code",
      "source": [
        "\"\"\"\n",
        "Creating an unlabeled dataset.\n",
        "\n",
        "We will discard all but 500 of the training labels. That means we will have a set of 500 labeled images\n",
        "to train from, and 59,500 unlabeled images to train from. This modification reflects the types of\n",
        "applications in which self supervision is most useful: Datasets with a lot of data, but which are expensive\n",
        "to label.\n",
        "\"\"\"\n",
        "\n",
        "# converting data to pytorch type\n",
        "Xtr= torch.tensor(Xtr_raw, requires_grad=True).to(device)\n",
        "Ytr= torch.tensor(Ytr_raw).to(device)\n",
        "\n",
        "# transforming labels from numbers to one-hot vectors of length 10\n",
        "Ytr= F.one_hot(Ytr.type(torch.int64), num_classes=10).type(torch.float32)\n",
        "\n",
        "\n",
        "# defining the size of our labeled data\n",
        "partition_index= 500\n",
        "\n",
        "# creating a dev dataset with 20% of the labeled data size (100 validation samples)\n",
        "tr_size= int(0.8*partition_index)\n",
        "\n",
        "\n",
        "Xdev= Xtr[tr_size:partition_index]\n",
        "Ydev= Ytr[tr_size:partition_index]\n",
        "\n",
        "Xtr_unlabeled= Xtr[partition_index:]\n",
        "\n",
        "Xtr= Xtr[:tr_size] # 400 samples for training\n",
        "Ytr= Ytr[:tr_size] # discarding all but partition_index of the training labels\n",
        "\n",
        "\n",
        "print(f'Shape of labeled training: Xtr - {Xtr.shape}, Ytr - {Ytr.shape}')\n",
        "print(f'Shape of dev labeled data: Xdev - {Xdev.shape}, Ydev - {Ydev.shape}')\n",
        "print(f'Shape of unlabeled training data: {Xtr_unlabeled.shape}')\n",
        "print(f'Shape of test data: Xte - {Xte.shape}, Yte - {Yte.shape}')"
      ],
      "metadata": {
        "colab": {
          "base_uri": "https://localhost:8080/"
        },
        "id": "0n5Oi2LouyTc",
        "outputId": "d0eb3102-c262-473d-ad61-c56e9fd59c76"
      },
      "execution_count": null,
      "outputs": [
        {
          "output_type": "stream",
          "name": "stdout",
          "text": [
            "Shape of labeled training: Xtr - torch.Size([400, 1, 28, 28]), Ytr - torch.Size([400, 10])\n",
            "Shape of dev labeled data: Xdev - torch.Size([100, 1, 28, 28]), Ydev - torch.Size([100, 10])\n",
            "Shape of unlabeled training data: torch.Size([59500, 1, 28, 28])\n",
            "Shape of test data: Xte - torch.Size([10000, 1, 28, 28]), Yte - torch.Size([10000, 10])\n"
          ]
        }
      ]
    },
    {
      "cell_type": "markdown",
      "source": [
        "# Data augmentation"
      ],
      "metadata": {
        "id": "3PB3pVjwMAun"
      }
    },
    {
      "cell_type": "code",
      "source": [
        "import torchvision.transforms as T\n",
        "\n",
        "class Augment:\n",
        "    \"\"\"\n",
        "    A stochastic data augmentation module transforms any given data example randomly resulting in a\n",
        "    correlated view of the same example, denoted x'i, which we consider as a positive pair.\n",
        "    \"\"\"\n",
        "\n",
        "    def __init__(self):\n",
        "        blur= T.GaussianBlur((3, 3), (0.1, 2.0))\n",
        "\n",
        "        self.data_transform= torch.nn.Sequential(\n",
        "            T.RandomAffine(degrees=(-50, 50), translate=(0.1, 0.1), scale=(0.5, 1.5), shear=0.2),\n",
        "            T.RandomPerspective(0.4, 0.5),\n",
        "            T.RandomPerspective(0.2, 0.5),\n",
        "            T.RandomPerspective(0.2, 0.5),\n",
        "            T.RandomApply([blur], p=0.25),\n",
        "            T.RandomApply([blur], p=0.25)\n",
        "        )\n",
        "\n",
        "    def __call__(self, x):\n",
        "\n",
        "        return self.data_transform(x)\n",
        "\n",
        "\n",
        "# generating test augmentation\n",
        "a= Augment()\n",
        "aug= a(Xtr_unlabeled[0:2])\n",
        "\n",
        "f, axarr= plt.subplots(2, 2)\n",
        "\n",
        "# original image - positive pair\n",
        "axarr[0, 0].imshow(Xtr_unlabeled[0][0].cpu().detach().numpy(), cmap='gray')\n",
        "axarr[0, 1].imshow(aug[0][0].detach().cpu().numpy(), cmap='gray')\n",
        "\n",
        "# original image - positive pair\n",
        "axarr[1, 0].imshow(Xtr_unlabeled[1][0].cpu().detach().numpy(), cmap='gray')\n",
        "axarr[1, 1].imshow(aug[1][0].detach().cpu().numpy(), cmap='gray')\n",
        "plt.show()"
      ],
      "metadata": {
        "colab": {
          "base_uri": "https://localhost:8080/",
          "height": 432
        },
        "id": "caQ07u6PuyeP",
        "outputId": "f97d5be5-db1a-498c-d6f6-0bf636e0000f"
      },
      "execution_count": null,
      "outputs": [
        {
          "output_type": "display_data",
          "data": {
            "text/plain": [
              "<Figure size 640x480 with 4 Axes>"
            ],
            "image/png": "[encoded data removed]"
          },
          "metadata": {}
        }
      ]
    },
    {
      "cell_type": "markdown",
      "source": [
        "# Contrastive loss function\n",
        "\n",
        "**Contrastive loss** is the loss function used to entice positive pairs to be positioned closely in an embedding space, and negative pairs to be positioned further apart.\n",
        "\n",
        "For more information see https://theaisummer.com/simclr/"
      ],
      "metadata": {
        "id": "uNhhpWfs0Gy-"
      }
    },
    {
      "cell_type": "code",
      "source": [
        "# Vanilla Contrastive loss, also called InfoNCELoss as in SimCLR paper\n",
        "\n",
        "class ContrastiveLoss(nn.Module):\n",
        "\n",
        "    def __init__(self, batch_size, temperature=0.5):\n",
        "        \"\"\"\n",
        "        Defining certain constants used between calculations. The mask is important\n",
        "        in understanding which are positive and negative examples.\n",
        "        \"\"\"\n",
        "        super().__init__()\n",
        "        self.batch_size= batch_size\n",
        "        self.temperature= temperature\n",
        "        self.mask= (~torch.eye(batch_size * 2, batch_size * 2, dtype=bool)).float().to(device)\n",
        "\n",
        "\n",
        "    def calc_similarity_batch(self, a, b):\n",
        "        \"\"\"\n",
        "        Defines the cosin similarity between one example, and all other examples.\n",
        "        \"\"\"\n",
        "        representations= torch.cat([a, b], dim=0)\n",
        "\n",
        "        return F.cosine_similarity(representations.unsqueeze(1), representations.unsqueeze(0), dim=2)\n",
        "\n",
        "\n",
        "    def forward(self, proj_1, proj_2):\n",
        "        \"\"\"\n",
        "        The actual loss function, where proj_1 and proj_2 are embeddings from the projection head.\n",
        "        This function calculates the cosin similarity between all vectors, and rewards closeness\n",
        "        between examples which come from the same example, and farness for examples which do not.\n",
        "        \"\"\"\n",
        "        batch_size= proj_1.shape[0]\n",
        "        z_i= F.normalize(proj_1, p=2, dim=1)\n",
        "        z_j= F.normalize(proj_2, p=2, dim=1)\n",
        "\n",
        "        similarity_matrix= self.calc_similarity_batch(z_i, z_j)\n",
        "\n",
        "        sim_ij= torch.diag(similarity_matrix, batch_size)\n",
        "        sim_ji= torch.diag(similarity_matrix, -batch_size)\n",
        "\n",
        "        positives= torch.cat([sim_ij, sim_ji], dim=0)\n",
        "\n",
        "        nominator= torch.exp(positives / self.temperature)\n",
        "\n",
        "        denominator= self.mask * torch.exp(similarity_matrix / self.temperature)\n",
        "\n",
        "        all_losses= -torch.log(nominator / torch.sum(denominator, dim=1))\n",
        "        loss= torch.sum(all_losses) / (2 * self.batch_size)\n",
        "\n",
        "        return loss\n"
      ],
      "metadata": {
        "id": "SedBXp-5uyiZ"
      },
      "execution_count": null,
      "outputs": []
    },
    {
      "cell_type": "markdown",
      "source": [
        "# Self-Supervised Training procedure\n",
        "\n",
        "Training the model to understand image similarity and difference via self-supervision and contrastive loss. Because this is an intermediary step, it's difficult to create clear and intuitive performance indicators.\n",
        "\n",
        "Here, we are using the contrastive loss objective between original samples and augmented samples assumed to be positive pairs."
      ],
      "metadata": {
        "id": "EEMXRe2N0Wed"
      }
    },
    {
      "cell_type": "code",
      "source": [
        "# ExponentialLR can be used for both batch-based and step-based updates\n",
        "from torch.optim.lr_scheduler import ExponentialLR\n",
        "\n",
        "def self_supervised_training(model, learning_rate=1e-3, epochs=500, batches:bool=True, batch_size=64,\n",
        "                             shuffle:bool=True, early_stop:bool=True, patience=5, cutoff=1e-9):\n",
        "\n",
        "    # defining key hyperparamaters explicitly (instead of hyperparamater search)\n",
        "    if batches:\n",
        "        epoch_size= math.floor(Xtr_unlabeled.shape[0]/ batch_size)\n",
        "    else:\n",
        "        batch_size= Xtr_unlabeled.shape[0]\n",
        "        epoch_size= 1\n",
        "\n",
        "    weight_decay=5e-4\n",
        "\n",
        "    # create a PyTorch optimizer\n",
        "    optimizer= torch.optim.Adam(model.parameters(), lr=learning_rate)\n",
        "\n",
        "    # loss function\n",
        "    loss_fn= ContrastiveLoss(batch_size).forward\n",
        "\n",
        "    # for exponentially decreasing learning rate\n",
        "    scheduler= ExponentialLR(optimizer, gamma=0.95)\n",
        "\n",
        "    # data augmentation function\n",
        "    augment_fn= Augment()\n",
        "\n",
        "    # for early stoping\n",
        "    patience_count= 0\n",
        "    previous_loss= 1e10\n",
        "\n",
        "    # tracking statistics\n",
        "    train_hist= []\n",
        "    improvement_hist= []\n",
        "    schedule_hist= []\n",
        "\n",
        "    # training data indexes\n",
        "    ix= torch.arange(0, Xtr_unlabeled.shape[0])\n",
        "\n",
        "    # --- training loop ---\n",
        "    for epoch in tqdm(range(epochs)):\n",
        "\n",
        "        batch_loss= []\n",
        "        batch_schedule= []\n",
        "        batch_loss_change= []\n",
        "\n",
        "        # iterating over all batches\n",
        "        if shuffle:\n",
        "            ix= torch.randperm(Xtr_unlabeled.shape[0])[:Xtr_unlabeled.shape[0]]\n",
        "\n",
        "        for i in range(epoch_size):\n",
        "            # --- minibatch construction ---\n",
        "            Xmb= Xtr_unlabeled[ix[(i * batch_size) : ((i+1) * batch_size)]]\n",
        "            # creating a pair of augmented batches\n",
        "            Xmb_aug= augment_fn(Xmb)\n",
        "\n",
        "            # --- forward pass and get loss ---\n",
        "            model.train(True)\n",
        "            y_pred= model(Xmb)\n",
        "            y_xaug= model(Xmb_aug)\n",
        "            loss_tr= loss_fn(y_pred, y_xaug)\n",
        "            batch_loss.append(loss_tr.item())\n",
        "\n",
        "            # --- backward pass to calculate the gradients ---\n",
        "            optimizer.zero_grad()\n",
        "            loss_tr.backward()\n",
        "\n",
        "            # --- update the parameters using the gradient ---\n",
        "            optimizer.step()\n",
        "\n",
        "\n",
        "            # --- evaluation ---\n",
        "            # checking if backpropagation resulted in a reduction of the loss\n",
        "            model.train(False)\n",
        "            with torch.no_grad():\n",
        "                # passing through the model, now that parameters have been updated\n",
        "                y_pred= model(Xmb)\n",
        "                y_xaug= model(Xmb_aug)\n",
        "                # calculating new loss value\n",
        "                loss_new= loss_fn(y_pred, y_xaug)\n",
        "                batch_loss_change.append((loss_new.item() - loss_tr.item()))\n",
        "\n",
        "            batch_schedule.append(scheduler.get_last_lr())\n",
        "\n",
        "        scheduler.step() # step learning rate scheduler\n",
        "\n",
        "\n",
        "        # --- track stats ---\n",
        "        train_hist.append(np.mean(batch_loss))\n",
        "        schedule_hist.append(np.mean(batch_schedule))\n",
        "        improvement_hist.append(np.mean(batch_loss_change))\n",
        "\n",
        "\n",
        "        # --- early stopping -- calculating loss change ---\n",
        "        per_loss_change= (previous_loss - train_hist[-1]) / previous_loss\n",
        "        # deciding to stop if loss is not decreasing fast enough\n",
        "        if (early_stop and per_loss_change< cutoff):\n",
        "            patience_count += 1\n",
        "\n",
        "            if patience_count> patience:\n",
        "                print('\\nEarly stopping at epoch {}'.format(epoch))\n",
        "                model.train(False)\n",
        "                break\n",
        "        else:\n",
        "            patience_count= 0\n",
        "        # setting current train loss as previous loss\n",
        "        previous_loss= train_hist[-1]\n",
        "\n",
        "\n",
        "    # --- final evaluation on the test set ---\n",
        "    # it does not match with with the SSL training objective, only for curiosity\n",
        "    model.train(False)\n",
        "    with torch.no_grad():\n",
        "        y_pred= model(Xte)\n",
        "        test_acc= (y_pred.argmax(dim=1)== Yte.argmax(dim=1)).sum().item()/ Yte.shape[0]\n",
        "\n",
        "\n",
        "    return train_hist, schedule_hist, test_acc\n"
      ],
      "metadata": {
        "id": "XaOQVQkauyoT"
      },
      "execution_count": null,
      "outputs": []
    },
    {
      "cell_type": "markdown",
      "source": [
        "Running and comparing a Supervised learninig procedure with limited labeled data and a Self-Supervised learning procedure with quite more unlabeled data.\n",
        "\n",
        "**NOTE:** a best practice is to keep batch_size as a power of two because it is computationally more efficient."
      ],
      "metadata": {
        "id": "naOfAYlZA2KP"
      }
    },
    {
      "cell_type": "code",
      "source": [
        "\"\"\"\n",
        "Reseting the small model (17K params) to evaluate its performance after a Supervised Training\n",
        "using only 400 labeled training samples (100 for val).\n",
        "\"\"\"\n",
        "\n",
        "model2= CNN_Model(input_chs, output_chs, hidden_chs, kernels, conv_stride, paddings,\n",
        "                  max_pool, pool_stride, norm,\n",
        "                  input_dim, n_classes, hidden_dim, activation, dropout).to(device)\n",
        "\n",
        "# once Xtr is now relatively small (400 samples) we use batch_size=100, i.e.,\n",
        "# we will split Xtr in four batches at each epoch\n",
        "train_hist, dev_hist, supe_acc= supervised_training(model2, learning_rate=1e-3, epochs=1000,\n",
        "                                                    batch_size=100, eval_interval=20, cutoff=1e-6)"
      ],
      "metadata": {
        "colab": {
          "base_uri": "https://localhost:8080/"
        },
        "id": "pOjaGhM78hZU",
        "outputId": "856fbaeb-395a-4758-ba48-ea027e13e5b3"
      },
      "execution_count": null,
      "outputs": [
        {
          "output_type": "stream",
          "name": "stderr",
          "text": [
            "100%|██████████| 1000/1000 [06:18<00:00,  2.64it/s]\n"
          ]
        }
      ]
    },
    {
      "cell_type": "code",
      "source": [
        "# training data is small and dev dataset is very small - we have more jitter here\n",
        "\n",
        "plt.plot(train_hist, label='train loss')\n",
        "plt.plot(dev_hist, label='dev loss')\n",
        "plt.legend()\n",
        "plt.show()\n",
        "\n",
        "print('Test accuracy: {}'.format(supe_acc))"
      ],
      "metadata": {
        "colab": {
          "base_uri": "https://localhost:8080/",
          "height": 447
        },
        "id": "XeyjxYSZM9Gn",
        "outputId": "c4e272e2-2b1f-4a76-bbf5-b838bbe7d517"
      },
      "execution_count": null,
      "outputs": [
        {
          "output_type": "display_data",
          "data": {
            "text/plain": [
              "<Figure size 640x480 with 1 Axes>"
            ],
            "image/png": "[encoded data removed]"
          },
          "metadata": {}
        },
        {
          "output_type": "stream",
          "name": "stdout",
          "text": [
            "Test accuracy: 0.9202\n"
          ]
        }
      ]
    },
    {
      "cell_type": "markdown",
      "source": [
        "Model accuracy is much lower when compared to this model's performance trained on the full labeled training data (> 0.99)."
      ],
      "metadata": {
        "id": "tSK4pNXPWsOW"
      }
    },
    {
      "cell_type": "code",
      "source": [
        "\"\"\"\n",
        "Reseting the small model (17K params) to perform a Self-Supervised Training procedure using\n",
        "59,500 unlabeled training samples.\n",
        "\"\"\"\n",
        "\n",
        "model2= CNN_Model(input_chs, output_chs, hidden_chs, kernels, conv_stride, paddings,\n",
        "                  max_pool, pool_stride, norm,\n",
        "                  input_dim, n_classes, hidden_dim, activation, dropout).to(device)\n",
        "\n",
        "train_hist, sched_hist, ssl_acc= self_supervised_training(model2, learning_rate=1e-2, epochs=50,\n",
        "                                                          batch_size=256, cutoff=1e-7)\n",
        "\n",
        "# it does not match with with the SSL training objective, only for curiosity\n",
        "print('Test accuracy: {}'.format(ssl_acc))"
      ],
      "metadata": {
        "colab": {
          "base_uri": "https://localhost:8080/"
        },
        "id": "hbjTKUprzlmi",
        "outputId": "b6142d6e-6756-4b70-a30b-162bd2200043"
      },
      "execution_count": null,
      "outputs": [
        {
          "output_type": "stream",
          "name": "stderr",
          "text": [
            "100%|██████████| 50/50 [41:38<00:00, 49.97s/it]"
          ]
        },
        {
          "output_type": "stream",
          "name": "stdout",
          "text": [
            "Test accuracy: 0.069\n"
          ]
        },
        {
          "output_type": "stream",
          "name": "stderr",
          "text": [
            "\n"
          ]
        }
      ]
    },
    {
      "cell_type": "code",
      "source": [
        "print('Self-Supervised Training Progress')\n",
        "\n",
        "plt.plot(sched_hist, label='learning rate')\n",
        "plt.legend()\n",
        "plt.title('Exponentially Decreasing LR')\n",
        "plt.show()\n",
        "\n",
        "print('\\n')\n",
        "plt.plot(train_hist, label='train loss')\n",
        "plt.legend()\n",
        "plt.title('Training Loss')\n",
        "plt.show()"
      ],
      "metadata": {
        "colab": {
          "base_uri": "https://localhost:8080/",
          "height": 939
        },
        "id": "BehGpme8zlaL",
        "outputId": "98262fb8-e2ab-4dc8-9344-bec5f6c0c9c5"
      },
      "execution_count": null,
      "outputs": [
        {
          "output_type": "stream",
          "name": "stdout",
          "text": [
            "Self-Supervised Training Progress\n"
          ]
        },
        {
          "output_type": "display_data",
          "data": {
            "text/plain": [
              "<Figure size 640x480 with 1 Axes>"
            ],
            "image/png": "[encoded data removed]"
          },
          "metadata": {}
        },
        {
          "output_type": "stream",
          "name": "stdout",
          "text": [
            "\n",
            "\n"
          ]
        },
        {
          "output_type": "display_data",
          "data": {
            "text/plain": [
              "<Figure size 640x480 with 1 Axes>"
            ],
            "image/png": "[encoded data removed]"
          },
          "metadata": {}
        }
      ]
    },
    {
      "cell_type": "markdown",
      "source": [
        "# Fine-Tuning the Self-Supervised Model with Supervised Learning"
      ],
      "metadata": {
        "id": "iVZchwslBEv8"
      }
    },
    {
      "cell_type": "code",
      "source": [
        "import copy\n",
        "\n",
        "# creating duplicate models for fine-tuning\n",
        "model_same_head= copy.deepcopy(model2)\n",
        "model_new_head = copy.deepcopy(model2)\n",
        "\n",
        "# replacing the projection head with a randomly initialized head for one of the previous models\n",
        "model_new_head.head= Head(input_dim, n_classes, hidden_dim, norm, activation, dropout).to(device)\n",
        "\n",
        "# training models for Fine-Tuning - batch_size is a quarter of Xtr size (400/4= 100)\n",
        "print('Training results with the original head')\n",
        "train_hist, dev_hist, same_head_acc= supervised_training(model_same_head, learning_rate=1e-3,\n",
        "                                                         epochs=1000, batch_size=100,\n",
        "                                                         eval_interval=20, cutoff=1e-6)\n",
        "\n",
        "plt.plot(train_hist, label='train loss')\n",
        "plt.plot(dev_hist, label='dev loss')\n",
        "plt.legend()\n",
        "plt.title(f'Same Head model - Test accuracy: {same_head_acc}')\n",
        "plt.show()\n",
        "\n",
        "\n",
        "print('\\n\\nTraining results with a randomly initialized head')\n",
        "train_hist, dev_hist, new_head_acc= supervised_training(model_new_head, learning_rate=1e-3,\n",
        "                                                        epochs=1000, batch_size=100,\n",
        "                                                        eval_interval=20, cutoff=1e-6)\n",
        "\n",
        "plt.plot(train_hist, label='train loss')\n",
        "plt.plot(dev_hist, label='dev loss')\n",
        "plt.legend()\n",
        "plt.title(f'New Head model - Test accuracy: {new_head_acc}')\n",
        "plt.show()"
      ],
      "metadata": {
        "colab": {
          "base_uri": "https://localhost:8080/",
          "height": 991
        },
        "id": "n9grF18_uyri",
        "outputId": "f3ff86c4-ca3b-4d78-ad27-bb98a83eb7b0"
      },
      "execution_count": null,
      "outputs": [
        {
          "output_type": "stream",
          "name": "stdout",
          "text": [
            "Training results with the original head\n"
          ]
        },
        {
          "output_type": "stream",
          "name": "stderr",
          "text": [
            "100%|██████████| 1000/1000 [09:26<00:00,  1.76it/s]\n"
          ]
        },
        {
          "output_type": "display_data",
          "data": {
            "text/plain": [
              "<Figure size 640x480 with 1 Axes>"
            ],
            "image/png": "[encoded data removed]"
          },
          "metadata": {}
        },
        {
          "output_type": "stream",
          "name": "stdout",
          "text": [
            "\n",
            "\n",
            "Training results with a randomly initialized head\n"
          ]
        },
        {
          "output_type": "stream",
          "name": "stderr",
          "text": [
            "100%|██████████| 1000/1000 [09:28<00:00,  1.76it/s]\n"
          ]
        },
        {
          "output_type": "display_data",
          "data": {
            "text/plain": [
              "<Figure size 640x480 with 1 Axes>"
            ],
            "image/png": "[encoded data removed]"
          },
          "metadata": {}
        }
      ]
    },
    {
      "cell_type": "markdown",
      "source": [
        "A more sophisticated alternative for SSL would be creating positive and negative pairs and masking, such as in bert.ipynb."
      ],
      "metadata": {
        "id": "1Mad-Ge01hrA"
      }
    },
    {
      "cell_type": "code",
      "source": [
        "# https://towardsdatascience.com/self-supervised-learning-using-projection-heads-b77af3911d33"
      ],
      "metadata": {
        "id": "82bytR4gCyM_"
      },
      "execution_count": null,
      "outputs": []
    },
    {
      "cell_type": "markdown",
      "source": [
        "# AlexNet\n",
        "\n",
        "Just building the model and testing with a dummy sample.\n",
        "\n",
        "TODO:\n",
        "- Training\n",
        "- Experimenting with applying BatchNorm throughout the network.\n",
        "- Performance comparison using different activations."
      ],
      "metadata": {
        "id": "nOuIMM95T7lM"
      }
    },
    {
      "cell_type": "code",
      "source": [
        "# ----- Backbone defs -----\n",
        "input_chs= 3                 # ImageNet data is 3-channel images (RGB)\n",
        "hidden_chs=[96,256,384,384,] # number of filters used in each convolutional layer\n",
        "output_chs= 256              # number of channels in the output\n",
        "kernels=[11,5,3,3,3,]        # dimensions of the kernel or filter, which collects information from the images\n",
        "conv_stride=[4,1,1,1,1,]     # controls the stride for the cross-correlation\n",
        "paddings=[0,2,1,1,1,]        # controls the amount of padding applied to each conv layer\n",
        "max_pool=[3,3,0,0,3,]        # performs pooling operations on the images\n",
        "pool_stride=[2,2,0,0,2,]     # the stride of the pool window\n",
        "norm=[1,1,0,0,0,]            # modern AlexNets have BatchNorms in conv layers 1 and 2\n",
        "# ----- Head defs -----\n",
        "input_dim= 9216\n",
        "hidden_dim=[4096,4096,]      # dense (fully connected) layers\n",
        "n_classes=1000               # 1000 - full ImageNet classes\n",
        "# ----- general defs -----\n",
        "activation='relu'\n",
        "dropout=[0,0,0,0,0.5,0.5,0]  # the original AlexNet has 0.5 dropout only in layers 1 and 2 of the Head\n",
        "\n",
        "\n",
        "AlexNet= CNN_Model(input_chs, output_chs, hidden_chs, kernels, conv_stride, paddings,\n",
        "                   max_pool, pool_stride, norm,\n",
        "                   input_dim, n_classes, hidden_dim, activation, dropout).to(device)\n",
        "\n",
        "total_params= sum(p.numel() for p in AlexNet.parameters() if p.requires_grad)\n",
        "print(f'Number of parameters: {total_params}')\n",
        "\n",
        "AlexNet"
      ],
      "metadata": {
        "colab": {
          "base_uri": "https://localhost:8080/"
        },
        "id": "TEYDsJ-nwjHH",
        "outputId": "751f3573-bada-4128-98ca-9e1c1643abff"
      },
      "execution_count": null,
      "outputs": [
        {
          "output_type": "stream",
          "name": "stdout",
          "text": [
            "Number of parameters: 62379048\n"
          ]
        },
        {
          "output_type": "execute_result",
          "data": {
            "text/plain": [
              "CNN_Model(\n",
              "  (backbone): Backbone(\n",
              "    (conv_in): ConvLayer(\n",
              "      (conv): Conv2d(3, 96, kernel_size=(11, 11), stride=(4, 4))\n",
              "      (norm): BatchNorm2d(96, eps=1e-05, momentum=0.1, affine=True, track_running_stats=True)\n",
              "      (activ): Activation(\n",
              "        (activ): ReLU(inplace=True)\n",
              "      )\n",
              "      (max_pool): MaxPool2d(kernel_size=3, stride=2, padding=0, dilation=1, ceil_mode=False)\n",
              "    )\n",
              "    (conv_hiddens): Sequential(\n",
              "      (0): ConvLayer(\n",
              "        (conv): Conv2d(96, 256, kernel_size=(5, 5), stride=(1, 1), padding=(2, 2))\n",
              "        (norm): BatchNorm2d(256, eps=1e-05, momentum=0.1, affine=True, track_running_stats=True)\n",
              "        (activ): Activation(\n",
              "          (activ): ReLU(inplace=True)\n",
              "        )\n",
              "        (max_pool): MaxPool2d(kernel_size=3, stride=2, padding=0, dilation=1, ceil_mode=False)\n",
              "      )\n",
              "      (1): ConvLayer(\n",
              "        (conv): Conv2d(256, 384, kernel_size=(3, 3), stride=(1, 1), padding=(1, 1))\n",
              "        (activ): Activation(\n",
              "          (activ): ReLU(inplace=True)\n",
              "        )\n",
              "      )\n",
              "      (2): ConvLayer(\n",
              "        (conv): Conv2d(384, 384, kernel_size=(3, 3), stride=(1, 1), padding=(1, 1))\n",
              "        (activ): Activation(\n",
              "          (activ): ReLU(inplace=True)\n",
              "        )\n",
              "      )\n",
              "    )\n",
              "    (conv_out): ConvLayer(\n",
              "      (conv): Conv2d(384, 256, kernel_size=(3, 3), stride=(1, 1), padding=(1, 1))\n",
              "      (activ): Activation(\n",
              "        (activ): ReLU(inplace=True)\n",
              "      )\n",
              "      (max_pool): MaxPool2d(kernel_size=3, stride=2, padding=0, dilation=1, ceil_mode=False)\n",
              "    )\n",
              "  )\n",
              "  (avg_pool): AdaptiveAvgPool2d(output_size=(6, 6))\n",
              "  (flatten): Flatten(start_dim=1, end_dim=-1)\n",
              "  (head): Head(\n",
              "    (fc_in): MLPLayer(\n",
              "      (dropout): Dropout(p=0.5, inplace=False)\n",
              "      (fc): Linear(in_features=9216, out_features=4096, bias=True)\n",
              "      (activ): Activation(\n",
              "        (activ): ReLU(inplace=True)\n",
              "      )\n",
              "    )\n",
              "    (fc_hiddens): Sequential(\n",
              "      (0): MLPLayer(\n",
              "        (dropout): Dropout(p=0.5, inplace=False)\n",
              "        (fc): Linear(in_features=4096, out_features=4096, bias=True)\n",
              "        (activ): Activation(\n",
              "          (activ): ReLU(inplace=True)\n",
              "        )\n",
              "      )\n",
              "    )\n",
              "    (fc_out): MLPLayer(\n",
              "      (fc): Linear(in_features=4096, out_features=1000, bias=True)\n",
              "    )\n",
              "  )\n",
              ")"
            ]
          },
          "metadata": {},
          "execution_count": 11
        }
      ]
    },
    {
      "cell_type": "code",
      "source": [
        "# test sample\n",
        "Xtr_imageNet= torch.randint(low=0, high=255, size=(1,3,227,227)).type(torch.float32).to(device)\n",
        "Xtr_imageNet.shape"
      ],
      "metadata": {
        "colab": {
          "base_uri": "https://localhost:8080/"
        },
        "id": "ikWi7Icl2y7c",
        "outputId": "d701634a-cfbf-4f5a-d0c6-47e97b1ec838"
      },
      "execution_count": null,
      "outputs": [
        {
          "output_type": "execute_result",
          "data": {
            "text/plain": [
              "torch.Size([1, 3, 227, 227])"
            ]
          },
          "metadata": {},
          "execution_count": 12
        }
      ]
    },
    {
      "cell_type": "code",
      "source": [
        "# testing the model - it works!\n",
        "AlexNet(Xtr_imageNet).shape"
      ],
      "metadata": {
        "colab": {
          "base_uri": "https://localhost:8080/"
        },
        "id": "YaBX68-dPu1D",
        "outputId": "c25f475f-f140-46f5-f7f9-421011ff7355"
      },
      "execution_count": null,
      "outputs": [
        {
          "output_type": "execute_result",
          "data": {
            "text/plain": [
              "torch.Size([1, 1000])"
            ]
          },
          "metadata": {},
          "execution_count": 13
        }
      ]
    },
    {
      "cell_type": "code",
      "source": [
        "# https://towardsdatascience.com/the-math-behind-deep-cnn-alexnet-738d858e5a2f"
      ],
      "metadata": {
        "id": "uu35sGKQvddb"
      },
      "execution_count": null,
      "outputs": []
    },
    {
      "cell_type": "markdown",
      "source": [
        "# Trainer Class\n",
        "\n",
        "The Trainer class incorporates the entire training workflow, which includes iterating over epochs, managing the training loop, handling backpropagation, and implementing early stopping protocols to optimize training efficiency and efficacy."
      ],
      "metadata": {
        "id": "GuSqwosBbMyQ"
      }
    },
    {
      "cell_type": "code",
      "source": [
        "class EarlyStopping:\n",
        "    \"\"\"\n",
        "    Early stopping to stop the training when the loss does not improve after\n",
        "    Args:\n",
        "        patience (int): Number of epochs to wait before stopping the training.\n",
        "        delta (float): Minimum change in the monitored quantity to qualify as an improvement.\n",
        "        verbose (bool): If True, prints a message for each epoch where the loss does not improve.\n",
        "    \"\"\"\n",
        "\n",
        "    def __init__(self, patience=7, cutoff=1e-9, verbose=False):\n",
        "        self.patience= patience\n",
        "        self.cutoff= cutoff\n",
        "        self.verbose= verbose\n",
        "        self.counter= 0\n",
        "        self.last_loss= None\n",
        "        self.early_stop= False\n",
        "\n",
        "\n",
        "    def __call__(self, current_loss, epoch):\n",
        "        \"\"\"\n",
        "        Args:\n",
        "            val_loss (float): The validation loss to check if the model performance improved.\n",
        "        Returns:\n",
        "            bool: True if the loss did not improve, False if it improved.\n",
        "        \"\"\"\n",
        "        if self.last_loss is None:\n",
        "            self.last_loss= current_loss\n",
        "        else:\n",
        "            loss_change= np.abs(self.last_loss - current_loss)\n",
        "\n",
        "            # deciding to stop if loss is not decreasing fast enough\n",
        "            if loss_change< self.cutoff:\n",
        "                self.counter += 1\n",
        "\n",
        "                if self.counter> self.patience:\n",
        "                    self.early_stop= True\n",
        "                    if self.verbose:\n",
        "                        print('\\nEarly stopping at epoch {}'.format(epoch))\n",
        "            else:\n",
        "                self.counter= 0\n",
        "            # setting current loss as previous loss\n",
        "            self.last_loss= current_loss\n"
      ],
      "metadata": {
        "id": "ysL9FfGLd9_o"
      },
      "execution_count": null,
      "outputs": []
    },
    {
      "cell_type": "code",
      "source": [
        "# ReduceLROnPlateau for adjusting the learning rate\n",
        "from torch.optim.lr_scheduler import ReduceLROnPlateau\n",
        "\n",
        "class Trainer:\n",
        "    \"\"\"\n",
        "    Trainer class to train the model.\n",
        "    Args:\n",
        "        model (nn.Module): Neural network model.\n",
        "        criterion (torch.nn.modules.loss): Loss function.\n",
        "        optimizer (torch.optim): Optimizer.\n",
        "        early_stop (bool): Wheter or not having early stopping.\n",
        "        patience (int): Number of epochs to wait before stopping the training.\n",
        "        cutoff (float): cutoff threshold of loss improvement for early stopping.\n",
        "        verbose (bool): If True, prints status messages for each epoch.\n",
        "    \"\"\"\n",
        "\n",
        "    def __init__(self, model, criterion, optimizer, early_stop=True, patience=7, cutoff=1e-9,\n",
        "                 verbose=False):\n",
        "        self.model= model\n",
        "        self.criterion= criterion\n",
        "        self.optimizer= optimizer\n",
        "        self.early_stopping= None\n",
        "        if early_stop:\n",
        "            self.early_stopping= EarlyStopping(patience=patience, cutoff=cutoff, verbose=verbose)\n",
        "        self.verbose= verbose\n",
        "        # for decreasing learning rate -- the ReduceLROnPlateau is designed to be used per epoch\n",
        "        self.scheduler= ReduceLROnPlateau(\n",
        "            self.optimizer, mode='min', patience=5, factor=0.1, min_lr=1e-6\n",
        "        )\n",
        "        self.train_losses= []\n",
        "        self.eval_losses= []\n",
        "        self.lr_hist= []\n",
        "\n",
        "\n",
        "    def accuracy(self, test_data):\n",
        "        \"\"\"\n",
        "        Calculate the accuracy of the model on the test dataset.\n",
        "        Args:\n",
        "            test_data (torch.tensor tuple): Datasets (Xte, Yte) for testing.\n",
        "        Returns:\n",
        "            float: Accuracy of the model on the test dataset.\n",
        "        \"\"\"\n",
        "        Xte, Yte= test_data\n",
        "        correct= 0\n",
        "\n",
        "        self.model.train(False)\n",
        "        with torch.no_grad():\n",
        "            for i in range(Xte.shape[0]):\n",
        "                data = Xte[i:i+1]\n",
        "                label= Yte[i:i+1]\n",
        "\n",
        "                y_pred= self.model(data)\n",
        "                if (y_pred.argmax(dim=1)== label.argmax(dim=1)):\n",
        "                    correct += 1\n",
        "\n",
        "        return correct / Xte.shape[0]\n",
        "\n",
        "\n",
        "    def evaluate(self, eval_data):\n",
        "        \"\"\"\n",
        "        Evaluate the model on the test dataset.\n",
        "        Args:\n",
        "            eval_data (torch.tensor tuple): Datasets (Xdev, Ydev) for validation.\n",
        "        Returns:\n",
        "            float: Average loss on the dev/evaluation dataset.\n",
        "        \"\"\"\n",
        "        Xdev, Ydev= eval_data\n",
        "        total_loss= 0\n",
        "\n",
        "        self.model.train(False)\n",
        "        with torch.no_grad():\n",
        "            for i in range(Xdev.shape[0]):\n",
        "                data = Xdev[i:i+1]\n",
        "                label= Ydev[i:i+1]\n",
        "\n",
        "                y_pred= self.model(data)\n",
        "                loss= self.criterion(y_pred, label)\n",
        "                total_loss += loss.item()\n",
        "\n",
        "        return total_loss / Xdev.shape[0]\n",
        "\n",
        "\n",
        "    def supervised_training(self, train_data, eval_data, epochs=500, eval_interval=5,\n",
        "                            batches:bool=True, batch_size=64, shuffle:bool=True):\n",
        "        \"\"\"\n",
        "        Train the model.\n",
        "        Args:\n",
        "            train_data (torch.tensor tuple): Datasets (Xtr, Ytr) for training.\n",
        "            eval_data (torch.tensor tuple): Datasets (Xdev, Ydev) for validation.\n",
        "            epochs (int): Number of epochs to train the model.\n",
        "            eval_interval (int): Interval of epochs to evaluate the model.\n",
        "            batches (bool): If true, split the training data into minibatches.\n",
        "            batch_size (int): Size of data minibatches.\n",
        "            shuffle (bool): If true, shufles training data at each epoch.\n",
        "        \"\"\"\n",
        "        Xtr, Ytr= train_data\n",
        "\n",
        "        if batches:\n",
        "            epoch_size= math.floor(Xtr.shape[0]/ batch_size)\n",
        "        else:\n",
        "            batch_size= Xtr.shape[0]\n",
        "            epoch_size= 1\n",
        "\n",
        "        # training data indexes\n",
        "        ix= torch.arange(0, Xtr.shape[0])\n",
        "\n",
        "        # --- training loop ---\n",
        "        for epoch in range(epochs):\n",
        "\n",
        "            batch_loss= []\n",
        "\n",
        "            if shuffle:\n",
        "                ix= torch.randperm(Xtr.shape[0])[:Xtr.shape[0]]\n",
        "\n",
        "            # iterating over all batches\n",
        "            for i in range(epoch_size):\n",
        "                # --- minibatch construction ---\n",
        "                Xmb= Xtr[ix[(i * batch_size) : ((i+1) * batch_size)]]\n",
        "                Ymb= Ytr[ix[(i * batch_size) : ((i+1) * batch_size)]]\n",
        "\n",
        "                # --- forward pass and get loss ---\n",
        "                self.model.train(True)\n",
        "                y_pred= self.model(Xmb)\n",
        "                loss_tr= self.criterion(y_pred, Ymb)\n",
        "                batch_loss.append(loss_tr.item())\n",
        "\n",
        "                # --- backward pass to calculate the gradients ---\n",
        "                self.optimizer.zero_grad()\n",
        "                loss_tr.backward()\n",
        "\n",
        "                # --- update the parameters using the gradient ---\n",
        "                self.optimizer.step()\n",
        "\n",
        "            # --- evaluation and track stats ---\n",
        "            self.train_losses.append(np.mean(batch_loss))\n",
        "            self.lr_hist.append(self.scheduler.get_last_lr())\n",
        "            # best practice when using ReduceLROnPlateau is step on validation loss, but ok\n",
        "            self.scheduler.step(self.train_losses[-1])\n",
        "\n",
        "            if epoch% eval_interval== 0:\n",
        "                loss_eval= self.evaluate(eval_data)\n",
        "\n",
        "                if self.verbose:  # log the training and validation loss\n",
        "                    print(f'Epoch {epoch}, Training Loss: {self.train_losses[-1]:.4f}, Validation Loss: {loss_eval:.4f}')\n",
        "\n",
        "                # --- early stopping -- calculating loss change ---\n",
        "                if self.early_stopping is not None:\n",
        "                    self.early_stopping(current_loss=loss_eval, epoch=epoch)\n",
        "\n",
        "                    if self.early_stopping.early_stop:\n",
        "                        self.eval_losses.append(loss_eval)\n",
        "                        self.model.train(False)\n",
        "                        break\n",
        "\n",
        "            self.eval_losses.append(loss_eval)\n",
        "\n",
        "\n",
        "    def plot_losses(self):\n",
        "        # Plot\n",
        "        plt.plot(self.train_losses, label='Train Loss')\n",
        "        plt.plot(self.eval_losses, label='Validation Loss')\n",
        "        plt.title('Losses')\n",
        "        plt.xlabel('Epochs')\n",
        "        plt.ylabel('Loss')\n",
        "        plt.legend()\n",
        "        plt.grid()\n"
      ],
      "metadata": {
        "id": "9juO99-NbcaY"
      },
      "execution_count": null,
      "outputs": []
    },
    {
      "cell_type": "markdown",
      "source": [
        "Running the Trainer class using the 17k parameters CNN model (supervised training only)."
      ],
      "metadata": {
        "id": "W-mNtBf9l0xf"
      }
    },
    {
      "cell_type": "code",
      "source": [
        "# ----- Backbone defs -----\n",
        "input_chs= Xtr.shape[1] # the data is single-channel (grayscale)\n",
        "hidden_chs=[16,16,]     # number of filters used in each convolutional layer\n",
        "output_chs= 32          # number of channels in the output\n",
        "kernels=3               # dimensions of the kernel or filter, which collects information from the images\n",
        "conv_stride=1           # controls the stride for the cross-correlation, default is 1\n",
        "paddings=1              # controls the amount of padding applied to each conv layer\n",
        "max_pool=2              # performs pooling operations on the images\n",
        "pool_stride=max_pool    # the stride of the pool window. Default value is pool_size\n",
        "norm=1                  # BatchNorm in CNN layers\n",
        "# ----- Head defs -----\n",
        "input_dim= 288\n",
        "hidden_dim=[32,16,]     # dense (fully connected) layers\n",
        "n_classes=10            # digits from 0 to 9\n",
        "# ----- general defs -----\n",
        "activation='relu'\n",
        "dropout=0.1\n",
        "init='he'\n",
        "\n",
        "# ----- reseting the model -----\n",
        "model= CNN_Model(input_chs, output_chs, hidden_chs, kernels, conv_stride, paddings,\n",
        "                 max_pool, pool_stride, norm,\n",
        "                 input_dim, n_classes, hidden_dim, activation, dropout, init).to(device)\n",
        "\n",
        "# training setup\n",
        "criterion= nn.CrossEntropyLoss()\n",
        "optimizer= torch.optim.Adam(model.parameters(), lr=1e-3, weight_decay=5e-4)\n",
        "early_stop=True\n",
        "patience=5\n",
        "cutoff=1e-6\n",
        "verbose=True\n",
        "\n",
        "trainer= Trainer(model, criterion, optimizer, early_stop, patience, cutoff, verbose)\n",
        "trainer.supervised_training(train_data=(Xtr, Ytr), eval_data=(Xdev, Ydev),\n",
        "                            epochs=10, eval_interval=1, batch_size=256)\n"
      ],
      "metadata": {
        "colab": {
          "base_uri": "https://localhost:8080/"
        },
        "id": "-srybQwAbchu",
        "outputId": "2fb969b8-bca7-4fbd-de79-7775af5bb3a4"
      },
      "execution_count": null,
      "outputs": [
        {
          "output_type": "stream",
          "name": "stdout",
          "text": [
            "Epoch 1, Training Loss: 1.2561, Validation Loss: 0.4230\n",
            "Epoch 2, Training Loss: 0.3680, Validation Loss: 0.1132\n",
            "Epoch 3, Training Loss: 0.1991, Validation Loss: 0.0735\n",
            "Epoch 4, Training Loss: 0.1503, Validation Loss: 0.0538\n",
            "Epoch 5, Training Loss: 0.1254, Validation Loss: 0.0496\n",
            "Epoch 6, Training Loss: 0.1085, Validation Loss: 0.0466\n",
            "Epoch 7, Training Loss: 0.1002, Validation Loss: 0.0407\n",
            "Epoch 8, Training Loss: 0.0947, Validation Loss: 0.0412\n",
            "Epoch 9, Training Loss: 0.0882, Validation Loss: 0.0386\n",
            "Epoch 10, Training Loss: 0.0803, Validation Loss: 0.0365\n"
          ]
        }
      ]
    },
    {
      "cell_type": "code",
      "source": [
        "accuracy= trainer.accuracy(test_data=(Xte, Yte))\n",
        "print(f'Test Accuracy: {accuracy:.2%}')\n",
        "\n",
        "trainer.plot_losses()"
      ],
      "metadata": {
        "colab": {
          "base_uri": "https://localhost:8080/",
          "height": 469
        },
        "id": "X_D6Up7Nbcl5",
        "outputId": "8196895b-c533-441b-c365-8586f7e63ba6"
      },
      "execution_count": null,
      "outputs": [
        {
          "output_type": "stream",
          "name": "stdout",
          "text": [
            "Test Accuracy: 99.14%\n"
          ]
        },
        {
          "output_type": "display_data",
          "data": {
            "text/plain": [
              "<Figure size 640x480 with 1 Axes>"
            ],
            "image/png": "[encoded data removed]"
          },
          "metadata": {}
        }
      ]
    },
    {
      "cell_type": "code",
      "source": [
        "# https://towardsdatascience.com/the-math-behind-deep-cnn-alexnet-738d858e5a2f\n",
        "# https://towardsdatascience.com/the-math-behind-fine-tuning-deep-neural-networks-8138d548da69"
      ],
      "metadata": {
        "id": "9aQw1GXZSfaQ"
      },
      "execution_count": null,
      "outputs": []
    }
  ]
}