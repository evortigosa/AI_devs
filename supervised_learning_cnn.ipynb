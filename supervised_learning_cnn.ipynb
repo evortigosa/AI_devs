{
  "nbformat": 4,
  "nbformat_minor": 0,
  "metadata": {
    "colab": {
      "provenance": [],
      "toc_visible": true
    },
    "kernelspec": {
      "name": "python3",
      "display_name": "Python 3"
    },
    "language_info": {
      "name": "python"
    }
  },
  "cells": [
    {
      "cell_type": "markdown",
      "source": [
        "# MNIST and CNN architecture"
      ],
      "metadata": {
        "id": "ZhXxRqwHU_Wj"
      }
    },
    {
      "cell_type": "code",
      "source": [
        "import numpy as np\n",
        "import pandas as pd\n",
        "import matplotlib.pyplot as plt\n",
        "import torch\n",
        "import torch.nn as nn\n",
        "import torch.nn.functional as F\n",
        "from tqdm import tqdm"
      ],
      "metadata": {
        "id": "VWIFRhp0U97T"
      },
      "execution_count": 1,
      "outputs": []
    },
    {
      "cell_type": "code",
      "source": [
        "# calling the dataset\n",
        "from tensorflow.keras.datasets import mnist\n",
        "\n",
        "# access the training and test data\n",
        "(Xtr_raw, Ytr_raw), (Xte_raw, Yte_raw)= mnist.load_data()\n",
        "\n",
        "(Xtr_raw.shape, Ytr_raw.shape), (Xte_raw.shape, Yte_raw.shape)"
      ],
      "metadata": {
        "id": "ibGJjXEMU9_e",
        "colab": {
          "base_uri": "https://localhost:8080/"
        },
        "outputId": "e006c7e1-e592-4612-d3f2-3993a00a70ab"
      },
      "execution_count": 2,
      "outputs": [
        {
          "output_type": "stream",
          "name": "stdout",
          "text": [
            "Downloading data from https://storage.googleapis.com/tensorflow/tf-keras-datasets/mnist.npz\n",
            "\u001b[1m11490434/11490434\u001b[0m \u001b[32m━━━━━━━━━━━━━━━━━━━━\u001b[0m\u001b[37m\u001b[0m \u001b[1m2s\u001b[0m 0us/step\n"
          ]
        },
        {
          "output_type": "execute_result",
          "data": {
            "text/plain": [
              "(((60000, 28, 28), (60000,)), ((10000, 28, 28), (10000,)))"
            ]
          },
          "metadata": {},
          "execution_count": 2
        }
      ]
    },
    {
      "cell_type": "markdown",
      "source": [
        "The reshape function changes the dimensions of the data to prepare it for input into the neural network. It reshapes the images into 4D dimensions with the size of (number of samples, image height, image width, number of channels). In MNIST, the dimensions of the images are (60000, 28, 28), which are reshaped to (60000, 1, 28, 28). This is necessary to match the input size of the neural network layers."
      ],
      "metadata": {
        "id": "cvQ-tNzkJKmi"
      }
    },
    {
      "cell_type": "code",
      "source": [
        "# data reformating - adding a channel dimension\n",
        "Xtr_raw= np.expand_dims(Xtr_raw, 1) # Grayscale images have 1 channel\n",
        "Xte_raw= np.expand_dims(Xte_raw, 1)\n",
        "\n",
        "Xtr_raw.shape"
      ],
      "metadata": {
        "colab": {
          "base_uri": "https://localhost:8080/"
        },
        "id": "hkXjMYfWJK0B",
        "outputId": "92dba234-dbac-439a-d9ee-3e83e0a12a2f"
      },
      "execution_count": 3,
      "outputs": [
        {
          "output_type": "execute_result",
          "data": {
            "text/plain": [
              "(60000, 1, 28, 28)"
            ]
          },
          "metadata": {},
          "execution_count": 3
        }
      ]
    },
    {
      "cell_type": "markdown",
      "source": [
        "# Data processing\n",
        "\n",
        "Some datasets, like MNIST, require minimal processing, but real-world data is not always so straightforward.\n",
        "\n",
        "If normalization is not performed, one of the issues that arises is convergence problems, which may result in the model converging slowly or not converging at all. There are various methods of normalization. These include Pixel-wise normalization (where each pixel of the image is normalized based on the mean and variance of similar pixels in the dataset), Local Contrast normalization (useful for images with local brightness variations, where each region of the image is normalized relative to similar regions in all data), Robust Scaling (which uses the median and interquartile range of the data for scaling, making it robust against outliers), and Unit Vector Scaling (where each row of the data is normalized in such a way that the sum of squares of its values equals one).\n",
        "\n",
        "The Min-Max Scaling method is more suitable for data with a normal distribution or similar. When the data have a non-normal distribution, such as MNIST, the Z-score method is usually more useful because it normalizes the data based on the mean and variance."
      ],
      "metadata": {
        "id": "fUxkDamNH57B"
      }
    },
    {
      "cell_type": "code",
      "source": [
        "# For the MNIST dataset, normalization may be useful but often not necessary.\n",
        "# We will just subtract the mean image for centering (e.g., AlexNet)\n",
        "# see https://www.youtube.com/watch?v=gYpoJMlgyXA\n",
        "\n",
        "# convert data to float32\n",
        "Xtr_raw= Xtr_raw.astype(np.float32)\n",
        "Xte_raw= Xte_raw.astype(np.float32)\n",
        "\n",
        "# calculate the mean of the training data\n",
        "Xmean= np.mean(Xtr_raw)\n",
        "\n",
        "# apply the centering to the training data\n",
        "Xtr_raw -= Xmean\n",
        "\n",
        "# apply the centering to the test data using the mean of the training data\n",
        "Xte_raw -= Xmean"
      ],
      "metadata": {
        "id": "lfRHOWZjU-C4"
      },
      "execution_count": 4,
      "outputs": []
    },
    {
      "cell_type": "code",
      "source": [
        "# rendering one example\n",
        "plt.imshow(Xtr_raw[0][0], cmap='gray')\n",
        "plt.colorbar()\n",
        "plt.title(f'Label: {Ytr_raw[0]}')\n",
        "plt.show()"
      ],
      "metadata": {
        "id": "qTblqCkvU-GG",
        "colab": {
          "base_uri": "https://localhost:8080/",
          "height": 452
        },
        "outputId": "ffbb2ea8-3d8f-4414-d7af-055e7f8aa6b4"
      },
      "execution_count": 5,
      "outputs": [
        {
          "output_type": "display_data",
          "data": {
            "text/plain": [
              "<Figure size 640x480 with 2 Axes>"
            ],
            "image/png": "[encoded data removed]"
          },
          "metadata": {}
        }
      ]
    },
    {
      "cell_type": "code",
      "source": [
        "# setting the device\n",
        "device= 'cuda' if torch.cuda.is_available() else 'cpu'\n",
        "\n",
        "# converting data to pytorch type\n",
        "Xtr= torch.tensor(Xtr_raw, requires_grad=True).to(device)\n",
        "Ytr= torch.tensor(Ytr_raw).to(device)\n",
        "Xte= torch.tensor(Xte_raw, requires_grad=True).to(device)\n",
        "Yte= torch.tensor(Yte_raw).to(device)\n",
        "\n",
        "# transforming labels from numbers to one-hot vectors of length 10\n",
        "Ytr= F.one_hot(Ytr.to(torch.int64), num_classes=10).to(torch.float32)\n",
        "Yte= F.one_hot(Yte.to(torch.int64), num_classes=10).to(torch.float32)\n",
        "\n",
        "# creating a dev dataset from training data\n",
        "tr_size= int(0.8*Xtr.shape[0])\n",
        "\n",
        "Xdev= Xtr[tr_size:]\n",
        "Ydev= Ytr[tr_size:]\n",
        "\n",
        "Xtr= Xtr[:tr_size]\n",
        "Ytr= Ytr[:tr_size]\n",
        "\n",
        "print(f'Shape of training: Xtr - {Xtr.shape}, Ytr - {Ytr.shape}')\n",
        "print(f'Shape of dev data: Xdev - {Xdev.shape}, Ydev - {Ydev.shape}')\n",
        "print(f'Shape of test data: Xte - {Xte.shape}, Yte - {Yte.shape}')"
      ],
      "metadata": {
        "id": "uZ-9hDEHU-JF",
        "colab": {
          "base_uri": "https://localhost:8080/"
        },
        "outputId": "f9edc9bc-2ffe-4616-e2a7-bb7f4a64ac6e"
      },
      "execution_count": 6,
      "outputs": [
        {
          "output_type": "stream",
          "name": "stdout",
          "text": [
            "Shape of training: Xtr - torch.Size([48000, 1, 28, 28]), Ytr - torch.Size([48000, 10])\n",
            "Shape of dev data: Xdev - torch.Size([12000, 1, 28, 28]), Ydev - torch.Size([12000, 10])\n",
            "Shape of test data: Xte - torch.Size([10000, 1, 28, 28]), Yte - torch.Size([10000, 10])\n"
          ]
        }
      ]
    },
    {
      "cell_type": "markdown",
      "source": [
        "# Architecture Design (Model Building)\n",
        "\n",
        "Using PyTorch to create a modified, smaller version of AlexNet. This model has two general parts: the convolutional backbone and the densely connected head."
      ],
      "metadata": {
        "id": "OPEvtuwaVglu"
      }
    },
    {
      "cell_type": "code",
      "source": [
        "class Activation(nn.Module):\n",
        "    \"\"\"\n",
        "    Activation functions implemented: relu, tanh.\n",
        "    \"\"\"\n",
        "\n",
        "    def __init__(self, activation='relu') -> None:\n",
        "        super(Activation, self).__init__()\n",
        "        if 'relu' in activation:\n",
        "            self.activ= nn.ReLU()\n",
        "        else:\n",
        "            self.activ= nn.Tanh()\n",
        "\n",
        "\n",
        "    def forward(self, x):\n",
        "\n",
        "        return self.activ(x)\n"
      ],
      "metadata": {
        "id": "iSre5okGU-L9"
      },
      "execution_count": 7,
      "outputs": []
    },
    {
      "cell_type": "code",
      "source": [
        "class CNN_Hidden(nn.Module):\n",
        "    \"\"\"\n",
        "    Implements one CNN hidden layer.\n",
        "    \"\"\"\n",
        "\n",
        "    def __init__(self, in_chs, out_chs, kernels, max_pool, norm, activation, dropout) -> None:\n",
        "        super(CNN_Hidden, self).__init__()\n",
        "        self.conv_hn= nn.Conv2d(in_chs, out_chs, kernels) # Convolutional layer\n",
        "        self.max_pool= nn.MaxPool2d(kernel_size=max_pool) # Max pooling layer\n",
        "        self.norm= None\n",
        "        if norm:\n",
        "            self.norm= nn.BatchNorm2d(out_chs)            # Adding Batch Normalization layer\n",
        "        self.activ= Activation(activation)\n",
        "        self.dropout= None\n",
        "        if dropout> 0.0:\n",
        "            self.dropout= nn.Dropout(p=dropout)           # Dropout layer for regularization\n",
        "\n",
        "\n",
        "    def forward(self, x):\n",
        "        x= self.conv_hn(x)\n",
        "        x= self.max_pool(x)\n",
        "        if self.norm is not None:\n",
        "            x= self.norm(x)\n",
        "        x= self.activ(x)\n",
        "        if self.dropout is not None:\n",
        "            x= self.dropout(x)\n",
        "\n",
        "        return x\n",
        "\n",
        "\n",
        "\n",
        "class Backbone(nn.Module):\n",
        "    \"\"\"\n",
        "    Defining the CNN backbone.\n",
        "    \"\"\"\n",
        "\n",
        "    def __init__(self, input_chs, output_chs, hidden_chs=[16,], kernels=3, max_pool=2,\n",
        "                 norm=False, activation='relu', dropout=0.0) -> None:\n",
        "        super(Backbone, self).__init__()\n",
        "        if isinstance(hidden_chs, int):\n",
        "            if hidden_chs== 0:\n",
        "                raise Exception('hidden_chs cannot be zero')\n",
        "            hidden_chs= [hidden_chs]\n",
        "        n_hidden_layers= len(hidden_chs)\n",
        "\n",
        "        if n_hidden_layers== 0:\n",
        "            raise Exception('hidden_chs cannot be an empty list')\n",
        "\n",
        "        self.conv_in= CNN_Hidden(input_chs, hidden_chs[0], kernels, max_pool, norm,\n",
        "                                activation, dropout)\n",
        "\n",
        "        if n_hidden_layers> 1:\n",
        "            self.conv_hn= nn.Sequential(*[\n",
        "                CNN_Hidden(d, hidden_chs[i+1], kernels, max_pool, norm, activation, dropout)\n",
        "                for i, d in enumerate(hidden_chs[:-1])\n",
        "            ])\n",
        "        else: self.conv_hn= None\n",
        "\n",
        "        self.conv_out= nn.Conv2d(hidden_chs[-1], output_chs, kernels)\n",
        "\n",
        "\n",
        "    def forward(self, x):\n",
        "        x= self.conv_in(x)\n",
        "        if self.conv_hn is not None:\n",
        "            x= self.conv_hn(x)\n",
        "        x= self.conv_out(x)\n",
        "\n",
        "        return torch.flatten(x, 1) # Flatten last layer to convert 2D matrix to a vector\n"
      ],
      "metadata": {
        "id": "V7RJuaUDU-PH"
      },
      "execution_count": 8,
      "outputs": []
    },
    {
      "cell_type": "code",
      "source": [
        "class MLP_Hidden(nn.Module):\n",
        "    \"\"\"\n",
        "    Implements one MLP hidden layer.\n",
        "    \"\"\"\n",
        "\n",
        "    def __init__(self, in_dim, out_dim, norm, activation, dropout) -> None:\n",
        "        super(MLP_Hidden, self).__init__()\n",
        "        self.fc_hn= nn.Linear(in_dim, out_dim)  # Fully connected layers\n",
        "        self.norm= None\n",
        "        if norm:\n",
        "            self.norm= nn.LayerNorm(out_dim)    # Adding Layer Normalization\n",
        "        self.activ= Activation(activation)\n",
        "        self.dropout= None\n",
        "        if dropout> 0.0:\n",
        "            self.dropout= nn.Dropout(p=dropout) # Dropout layer for regularization\n",
        "\n",
        "\n",
        "    def forward(self, x):\n",
        "        x= self.fc_hn(x)\n",
        "        if self.norm is not None:\n",
        "            x= self.norm(x)\n",
        "        x= self.activ(x)\n",
        "        if self.dropout is not None:\n",
        "            x= self.dropout(x)\n",
        "\n",
        "        return x\n",
        "\n",
        "\n",
        "\n",
        "class Head(nn.Module):\n",
        "    \"\"\"\n",
        "    Defining the MLP Projection Head (for data classification).\n",
        "    \"\"\"\n",
        "\n",
        "    def __init__(self, input_dim, n_classes=1, hidden_dim=[16,], norm=False,\n",
        "                 activation='relu', dropout=0.0) -> None:\n",
        "        super(Head, self).__init__()\n",
        "        if isinstance(hidden_dim, int):\n",
        "            if hidden_dim== 0:\n",
        "                raise Exception('hidden_dim cannot be zero')\n",
        "            hidden_dim= [hidden_dim]\n",
        "        n_hidden_layers= len(hidden_dim)\n",
        "\n",
        "        if n_hidden_layers== 0:\n",
        "            raise Exception('hidden_dim cannot be an empty list')\n",
        "\n",
        "        self.fc_in= MLP_Hidden(input_dim, hidden_dim[0], norm, activation, dropout)\n",
        "\n",
        "        if n_hidden_layers> 1:\n",
        "            self.fc_hn= nn.Sequential(*[\n",
        "                MLP_Hidden(d, hidden_dim[i+1], norm, activation, dropout)\n",
        "                for i, d in enumerate(hidden_dim[:-1])\n",
        "            ])\n",
        "        else: self.fc_hn= None\n",
        "\n",
        "        self.fc_out= nn.Linear(hidden_dim[-1], n_classes)\n",
        "\n",
        "\n",
        "    def forward(self, x):\n",
        "        x= self.fc_in(x)\n",
        "        if self.fc_hn is not None:\n",
        "            x= self.fc_hn(x)\n",
        "        x= self.fc_out(x)\n",
        "\n",
        "        return F.log_softmax(x, dim=1) # Output layer with softmax activation for classification\n"
      ],
      "metadata": {
        "id": "0oQ88IP5nZA_"
      },
      "execution_count": 9,
      "outputs": []
    },
    {
      "cell_type": "code",
      "source": [
        "class CNN_Model(nn.Module):\n",
        "    \"\"\"\n",
        "    Defining the full model - Feature extractor backbone + classification (projection) head.\n",
        "    \"\"\"\n",
        "\n",
        "    def __init__(self, input_chs, output_chs, hidden_chs=[16,], kernels=3, max_pool=2, # CNN\n",
        "                       input_dim=1, n_classes=1, hidden_dim=[16,],                     # MLP\n",
        "                       norm=False, activation='relu', dropout=0.0) -> None:\n",
        "        super(CNN_Model, self).__init__()\n",
        "        self.backbone= Backbone(\n",
        "            input_chs, output_chs, hidden_chs, kernels, max_pool, norm, activation, dropout\n",
        "        )\n",
        "        self.head= Head(\n",
        "            input_dim, n_classes, hidden_dim, norm, activation, dropout\n",
        "        )\n",
        "\n",
        "\n",
        "    def forward(self, x):\n",
        "        x= self.backbone(x)\n",
        "        x= self.head(x)\n",
        "\n",
        "        return x\n"
      ],
      "metadata": {
        "id": "s76RhRIOuJEe"
      },
      "execution_count": 10,
      "outputs": []
    },
    {
      "cell_type": "markdown",
      "source": [
        "BatchNorm normalizes each feature within a batch of samples, while LayerNorm normalizes all features within each sample. Let's assume we have a two-dimensional input matrix, where the rows represent the batch and the columns represent the sample features. The target of Batch Normalization is a batch of samples (horizontal), and the target of Layer Normalization is a single sample (vertical).\n",
        "\n",
        "For the field of computer vision, features depend on the statistical parameters between different samples, and **BatchNorm** is more effective. This is because it eliminates the size relationship between different features while preserving the size relationship between different samples.\n",
        "\n",
        "In the field of NLP, **LayerNorm** is more appropriate. This is because the different features of a single sample are actually the variations in words over time, and the feature relationships within the sample are very close."
      ],
      "metadata": {
        "id": "lKRaG8X4m-LG"
      }
    },
    {
      "cell_type": "code",
      "source": [
        "# ----- Backbone defs -----\n",
        "input_chs= Xtr.shape[1] # the data is single-channel (grayscale)\n",
        "hidden_chs=[32,64,]     # represents the number of filters used in each convolutional layer\n",
        "output_chs= 64          # number of channels in the output\n",
        "kernels=3               # represents the dimensions of the kernel or filter, which collects information from the images\n",
        "max_pool=2              # performs pooling operations on the images\n",
        "# ----- Head defs -----\n",
        "input_dim= 576\n",
        "hidden_dim=[64,32,]     # dense (fully connected) layers\n",
        "n_classes=10            # digits from 0 to 9\n",
        "# ----- general defs -----\n",
        "norm=True\n",
        "activation='relu'\n",
        "dropout=0.1\n",
        "\n",
        "\n",
        "model= CNN_Model(input_chs, output_chs, hidden_chs, kernels, max_pool,\n",
        "                 input_dim, n_classes, hidden_dim, norm, activation, dropout).to(device)\n",
        "\n",
        "total_params= sum(p.numel() for p in model.parameters() if p.requires_grad)\n",
        "print(f'Number of parameters: {total_params}')\n",
        "\n",
        "model"
      ],
      "metadata": {
        "id": "_mum3QMlU-RP",
        "colab": {
          "base_uri": "https://localhost:8080/"
        },
        "outputId": "ba14997f-0357-4618-e512-69aeaf429de4"
      },
      "execution_count": 12,
      "outputs": [
        {
          "output_type": "stream",
          "name": "stdout",
          "text": [
            "Number of parameters: 95466\n"
          ]
        },
        {
          "output_type": "execute_result",
          "data": {
            "text/plain": [
              "CNN_Model(\n",
              "  (backbone): Backbone(\n",
              "    (conv_in): CNN_Hidden(\n",
              "      (conv_hn): Conv2d(1, 32, kernel_size=(3, 3), stride=(1, 1))\n",
              "      (max_pool): MaxPool2d(kernel_size=2, stride=2, padding=0, dilation=1, ceil_mode=False)\n",
              "      (norm): BatchNorm2d(32, eps=1e-05, momentum=0.1, affine=True, track_running_stats=True)\n",
              "      (activ): Activation(\n",
              "        (activ): ReLU()\n",
              "      )\n",
              "      (dropout): Dropout(p=0.1, inplace=False)\n",
              "    )\n",
              "    (conv_hn): Sequential(\n",
              "      (0): CNN_Hidden(\n",
              "        (conv_hn): Conv2d(32, 64, kernel_size=(3, 3), stride=(1, 1))\n",
              "        (max_pool): MaxPool2d(kernel_size=2, stride=2, padding=0, dilation=1, ceil_mode=False)\n",
              "        (norm): BatchNorm2d(64, eps=1e-05, momentum=0.1, affine=True, track_running_stats=True)\n",
              "        (activ): Activation(\n",
              "          (activ): ReLU()\n",
              "        )\n",
              "        (dropout): Dropout(p=0.1, inplace=False)\n",
              "      )\n",
              "    )\n",
              "    (conv_out): Conv2d(64, 64, kernel_size=(3, 3), stride=(1, 1))\n",
              "  )\n",
              "  (head): Head(\n",
              "    (fc_in): MLP_Hidden(\n",
              "      (fc_hn): Linear(in_features=576, out_features=64, bias=True)\n",
              "      (norm): LayerNorm((64,), eps=1e-05, elementwise_affine=True)\n",
              "      (activ): Activation(\n",
              "        (activ): ReLU()\n",
              "      )\n",
              "      (dropout): Dropout(p=0.1, inplace=False)\n",
              "    )\n",
              "    (fc_hn): Sequential(\n",
              "      (0): MLP_Hidden(\n",
              "        (fc_hn): Linear(in_features=64, out_features=32, bias=True)\n",
              "        (norm): LayerNorm((32,), eps=1e-05, elementwise_affine=True)\n",
              "        (activ): Activation(\n",
              "          (activ): ReLU()\n",
              "        )\n",
              "        (dropout): Dropout(p=0.1, inplace=False)\n",
              "      )\n",
              "    )\n",
              "    (fc_out): Linear(in_features=32, out_features=10, bias=True)\n",
              "  )\n",
              ")"
            ]
          },
          "metadata": {},
          "execution_count": 12
        }
      ]
    },
    {
      "cell_type": "markdown",
      "source": [
        "# Training Phase\n",
        "\n",
        "After constructing the model and its layers with the CNN architecture, the next step is to set the loss function, optimizer, and select evaluation metrics. In machine learning, the loss function represents the difference between the model's output and the actual values. In all tasks, whether in the real world or for solving deep learning problems, one of the most important tasks is to minimize the error.\n",
        "\n",
        "The optimizer is responsible for optimizing and updating the model's weights (W), adjusting them in a way that minimizes the loss function. Optimizers come in various types such as Adam, SGD, and RMSprop, and selecting the right one for your specific task can help improve the model's performance.\n",
        "\n",
        "The learning rate determines how small the training steps should be to reach the optimal point. Selecting an appropriate learning rate is crucial in training a model.\n",
        "\n",
        "Typically, when fitting the model, the first thing we do is specify the number of epochs. In each epoch, the model sees the entire training dataset once to learn complex patterns in the data. Naturally, the higher the number of epochs, the better the model learns because it can see more data, but if it's too high, it may lead to overfitting. In other words, because the model overly converges to the training data, it fails to generalize to new data. In other words, the model simply memorizes the data.\n",
        "\n",
        "Determining the batch size specifies how many data samples are shown to the model in each epoch. Finding the optimal batch size has a significant impact on the speed and quality of model training. Naturally, a larger batch size is preferable for better performance. However, due to memory constraints, especially in large-scale projects, this may not always be feasible. In diverse datasets, a larger batch size may lead to a loss of model adaptation to the data, resulting in overfitting or underfitting. To prevent this, we can find the best batch size through trial and error or by employing systematic and principled methods such as Grid Search or Validation Data-based approaches."
      ],
      "metadata": {
        "id": "DC4ZSihkDsnp"
      }
    },
    {
      "cell_type": "code",
      "source": [
        "def supervised_training(model, learning_rate=1e-3, epochs=500, eval_interval=5, batches=True,\n",
        "                        early_stop:bool=False, cutoff=1e-9, verbose:bool=False):\n",
        "\n",
        "    # defining key hyperparamaters explicitly (instead of hyperparamater search)\n",
        "    if batches:\n",
        "        batch_size= 64\n",
        "        epoch_size= round(Xtr.shape[0]/ batch_size)-1\n",
        "    else:\n",
        "        batch_size= Xtr.shape[0]\n",
        "        epoch_size= 1\n",
        "\n",
        "    weight_decay=5e-4\n",
        "\n",
        "    # create a PyTorch optimizer\n",
        "    optimizer= torch.optim.Adam(model.parameters(), lr=learning_rate, weight_decay=weight_decay)\n",
        "\n",
        "    # loss function\n",
        "    loss_fn= nn.CrossEntropyLoss().to(device)\n",
        "\n",
        "    # for early stoping\n",
        "    cutoff_ratio= cutoff\n",
        "    patience= 5\n",
        "    patience_count= 0\n",
        "    previous_loss= 1e10\n",
        "\n",
        "    # tracking data\n",
        "    train_hist= []\n",
        "    batch_loss= []\n",
        "    dev_hist= []\n",
        "\n",
        "    # training loop\n",
        "    for epoch in tqdm(range(epochs)):\n",
        "        # iterating over all batches\n",
        "        for i in range(epoch_size):\n",
        "\n",
        "            # --- minibatch construction ---\n",
        "            Xmb= Xtr[(i * batch_size) : ((i+1) * batch_size)]\n",
        "            Ymb= Ytr[(i * batch_size) : ((i+1) * batch_size)]\n",
        "\n",
        "            # --- forward pass and loss ---\n",
        "            model.train(True)\n",
        "            y_pred= model(Xmb)\n",
        "            loss_tr= loss_fn(y_pred, Ymb)\n",
        "            batch_loss.append(loss_tr.item())\n",
        "\n",
        "            # --- backward pass ---\n",
        "            optimizer.zero_grad()\n",
        "            loss_tr.backward()\n",
        "\n",
        "            # --- update ---\n",
        "            optimizer.step()\n",
        "\n",
        "\n",
        "        # --- evaluation and track stats ---\n",
        "        train_hist.append(np.mean(batch_loss))\n",
        "        batch_loss= []\n",
        "\n",
        "        if epoch% eval_interval== 0:\n",
        "            model.train(False)\n",
        "            with torch.no_grad():\n",
        "                y_pred= model(Xdev)\n",
        "                loss_dev= loss_fn(y_pred, Ydev)\n",
        "\n",
        "        dev_hist.append(loss_dev.item())\n",
        "\n",
        "\n",
        "        # --- early stopping -- calculating loss change ---\n",
        "        loss_change= np.abs(previous_loss - train_hist[-1])\n",
        "        # deciding to stop if loss is not decreasing fast enough\n",
        "        if (early_stop and loss_change< cutoff_ratio):\n",
        "            patience_count += 1\n",
        "\n",
        "            if patience_count> patience:\n",
        "                print('\\nEarly stopping at epoch {}'.format(epoch))\n",
        "                model.train(False)\n",
        "                break\n",
        "        else:\n",
        "            patience_count= 0\n",
        "        # setting current train loss as previous loss\n",
        "        previous_loss= train_hist[-1]\n",
        "\n",
        "\n",
        "    # final evaluation on the test set\n",
        "    model.train(False)\n",
        "    with torch.no_grad():\n",
        "        y_pred= model(Xte)\n",
        "        #loss_test= loss_fn(y_pred, Yte)\n",
        "        test_acc= (y_pred.argmax(dim=1)== Yte.argmax(dim=1)).sum().item()/ Yte.shape[0]\n",
        "\n",
        "\n",
        "    return train_hist, dev_hist, test_acc\n"
      ],
      "metadata": {
        "id": "0kLhXZelU-Wq"
      },
      "execution_count": 11,
      "outputs": []
    },
    {
      "cell_type": "code",
      "source": [
        "train_hist, dev_hist, test_acc= supervised_training(model, learning_rate=1e-3, epochs=10,\n",
        "                                                    eval_interval=2, batches=True,\n",
        "                                                    early_stop=True, cutoff=1e-6)"
      ],
      "metadata": {
        "id": "kTZXA6-oU-Zd",
        "colab": {
          "base_uri": "https://localhost:8080/"
        },
        "outputId": "e4bf06b5-9ee6-4c97-a0ab-cb229a2f2291"
      },
      "execution_count": 13,
      "outputs": [
        {
          "output_type": "stream",
          "name": "stderr",
          "text": [
            "100%|██████████| 10/10 [26:38<00:00, 159.88s/it]\n"
          ]
        }
      ]
    },
    {
      "cell_type": "markdown",
      "source": [
        "If there isn't much difference between the training accuracy and validation accuracy, meaning they are closer to each other, it indicates that the model hasn't overfit. However, if there is a significant difference, or if the validation accuracy starts decreasing while the training accuracy increases, it's suspicious for overfitting. The accuracy lines should be smoother with fewer fluctuations. The presence of more fluctuations indicates instability in the model's performance, which could be a sign of overfitting.\n",
        "\n",
        "If the Training Accuracy is continuously decreasing while the Validation Accuracy starts to increase or remains stable, this indicates overfitting. Conversely, if both training and validation accuracies consistently decrease or remain stable at similar levels, it indicates that the model has effectively learned. Ideally, we aim to steadily increase both Training and Validation accuracies or stabilize them at similar levels."
      ],
      "metadata": {
        "id": "EbiaEBixMHu8"
      }
    },
    {
      "cell_type": "code",
      "source": [
        "# ploting\n",
        "plt.plot(train_hist, label='train loss')\n",
        "plt.plot(dev_hist, label='dev loss')\n",
        "plt.legend()\n",
        "plt.show()\n",
        "\n",
        "print('Test accuracy: {}'.format(test_acc))"
      ],
      "metadata": {
        "colab": {
          "base_uri": "https://localhost:8080/",
          "height": 447
        },
        "id": "MxpEVP2jVuWM",
        "outputId": "8c9d72dd-1e5b-4e7a-dd3a-f7a51433a199"
      },
      "execution_count": 14,
      "outputs": [
        {
          "output_type": "display_data",
          "data": {
            "text/plain": [
              "<Figure size 640x480 with 1 Axes>"
            ],
            "image/png": "[encoded data removed]"
          },
          "metadata": {}
        },
        {
          "output_type": "stream",
          "name": "stdout",
          "text": [
            "Test accuracy: 0.9884\n"
          ]
        }
      ]
    },
    {
      "cell_type": "code",
      "source": [
        "# Small version\n",
        "\n",
        "# ----- Backbone defs -----\n",
        "input_chs= Xtr.shape[1] # the data is single-channel (grayscale)\n",
        "hidden_chs=[16,16,]     # represents the number of filters used in each convolutional layer\n",
        "output_chs= 32          # number of channels in the output\n",
        "kernels=3               # represents the dimensions of the kernel or filter, which collects information from the images\n",
        "max_pool=2              # performs pooling operations on the images\n",
        "# ----- Head defs -----\n",
        "input_dim= 288\n",
        "hidden_dim=[32,16,]     # dense (fully connected) layers\n",
        "n_classes=10            # digits from 0 to 9\n",
        "# ----- general defs -----\n",
        "norm=True\n",
        "activation='relu'\n",
        "dropout=0.1\n",
        "\n",
        "\n",
        "model2= CNN_Model(input_chs, output_chs, hidden_chs, kernels, max_pool,\n",
        "                  input_dim, n_classes, hidden_dim, norm, activation, dropout).to(device)\n",
        "\n",
        "total_params= sum(p.numel() for p in model2.parameters() if p.requires_grad)\n",
        "print(f'Number of parameters: {total_params}')\n",
        "\n",
        "model2"
      ],
      "metadata": {
        "colab": {
          "base_uri": "https://localhost:8080/"
        },
        "id": "KpnW2OwUHPHy",
        "outputId": "490f5153-7420-4a38-b717-2eaefd5e0771"
      },
      "execution_count": 15,
      "outputs": [
        {
          "output_type": "stream",
          "name": "stdout",
          "text": [
            "Number of parameters: 17226\n"
          ]
        },
        {
          "output_type": "execute_result",
          "data": {
            "text/plain": [
              "CNN_Model(\n",
              "  (backbone): Backbone(\n",
              "    (conv_in): CNN_Hidden(\n",
              "      (conv_hn): Conv2d(1, 16, kernel_size=(3, 3), stride=(1, 1))\n",
              "      (max_pool): MaxPool2d(kernel_size=2, stride=2, padding=0, dilation=1, ceil_mode=False)\n",
              "      (norm): BatchNorm2d(16, eps=1e-05, momentum=0.1, affine=True, track_running_stats=True)\n",
              "      (activ): Activation(\n",
              "        (activ): ReLU()\n",
              "      )\n",
              "      (dropout): Dropout(p=0.1, inplace=False)\n",
              "    )\n",
              "    (conv_hn): Sequential(\n",
              "      (0): CNN_Hidden(\n",
              "        (conv_hn): Conv2d(16, 16, kernel_size=(3, 3), stride=(1, 1))\n",
              "        (max_pool): MaxPool2d(kernel_size=2, stride=2, padding=0, dilation=1, ceil_mode=False)\n",
              "        (norm): BatchNorm2d(16, eps=1e-05, momentum=0.1, affine=True, track_running_stats=True)\n",
              "        (activ): Activation(\n",
              "          (activ): ReLU()\n",
              "        )\n",
              "        (dropout): Dropout(p=0.1, inplace=False)\n",
              "      )\n",
              "    )\n",
              "    (conv_out): Conv2d(16, 32, kernel_size=(3, 3), stride=(1, 1))\n",
              "  )\n",
              "  (head): Head(\n",
              "    (fc_in): MLP_Hidden(\n",
              "      (fc_hn): Linear(in_features=288, out_features=32, bias=True)\n",
              "      (norm): LayerNorm((32,), eps=1e-05, elementwise_affine=True)\n",
              "      (activ): Activation(\n",
              "        (activ): ReLU()\n",
              "      )\n",
              "      (dropout): Dropout(p=0.1, inplace=False)\n",
              "    )\n",
              "    (fc_hn): Sequential(\n",
              "      (0): MLP_Hidden(\n",
              "        (fc_hn): Linear(in_features=32, out_features=16, bias=True)\n",
              "        (norm): LayerNorm((16,), eps=1e-05, elementwise_affine=True)\n",
              "        (activ): Activation(\n",
              "          (activ): ReLU()\n",
              "        )\n",
              "        (dropout): Dropout(p=0.1, inplace=False)\n",
              "      )\n",
              "    )\n",
              "    (fc_out): Linear(in_features=16, out_features=10, bias=True)\n",
              "  )\n",
              ")"
            ]
          },
          "metadata": {},
          "execution_count": 15
        }
      ]
    },
    {
      "cell_type": "code",
      "source": [
        "train_hist, dev_hist, test_acc= supervised_training(model2, learning_rate=1e-3, epochs=10,\n",
        "                                                    eval_interval=2, batches=True,\n",
        "                                                    early_stop=True, cutoff=1e-6)"
      ],
      "metadata": {
        "colab": {
          "base_uri": "https://localhost:8080/"
        },
        "id": "UEruoUZieqLZ",
        "outputId": "6e7ed62a-3c69-456d-8c93-f054bdcfc54a"
      },
      "execution_count": 16,
      "outputs": [
        {
          "output_type": "stream",
          "name": "stderr",
          "text": [
            "100%|██████████| 10/10 [26:01<00:00, 156.17s/it]\n"
          ]
        }
      ]
    },
    {
      "cell_type": "code",
      "source": [
        "# ploting\n",
        "plt.plot(train_hist, label='train loss')\n",
        "plt.plot(dev_hist, label='dev loss')\n",
        "plt.legend()\n",
        "plt.show()\n",
        "\n",
        "print('Test accuracy: {}'.format(test_acc))"
      ],
      "metadata": {
        "colab": {
          "base_uri": "https://localhost:8080/",
          "height": 447
        },
        "id": "4_Qb8n2YeqPR",
        "outputId": "db9c4687-cfcd-42d1-8844-7240f060bd9d"
      },
      "execution_count": 17,
      "outputs": [
        {
          "output_type": "display_data",
          "data": {
            "text/plain": [
              "<Figure size 640x480 with 1 Axes>"
            ],
            "image/png": "[encoded data removed]"
          },
          "metadata": {}
        },
        {
          "output_type": "stream",
          "name": "stdout",
          "text": [
            "Test accuracy: 0.9884\n"
          ]
        }
      ]
    },
    {
      "cell_type": "code",
      "source": [],
      "metadata": {
        "id": "O6iLSj0oeqd5"
      },
      "execution_count": null,
      "outputs": []
    },
    {
      "cell_type": "code",
      "source": [
        "# https://ai.gopubby.com/step-by-step-guide-to-building-an-artificial-neural-network-and-observing-how-overfitting-occurs-84961f96c7e8"
      ],
      "metadata": {
        "id": "gzWmUtp5Vucu"
      },
      "execution_count": null,
      "outputs": []
    }
  ]
}