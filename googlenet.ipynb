{
  "nbformat": 4,
  "nbformat_minor": 0,
  "metadata": {
    "colab": {
      "provenance": [],
      "toc_visible": true,
      "machine_shape": "hm",
      "gpuType": "A100"
    },
    "kernelspec": {
      "name": "python3",
      "display_name": "Python 3"
    },
    "language_info": {
      "name": "python"
    },
    "accelerator": "GPU"
  },
  "cells": [
    {
      "cell_type": "markdown",
      "source": [
        "# GoogLeNet from scratch in PyTorch\n",
        "\n",
        "Although designed in 2014, the Inception models (GoogLeNet) are still some of the most successful neural networks for image classification and detection. Their original article is a classic among machine learning research papers.\n",
        "\n",
        "https://arxiv.org/abs/1409.4842"
      ],
      "metadata": {
        "id": "vDE0bd3-3cSp"
      }
    },
    {
      "cell_type": "code",
      "execution_count": null,
      "metadata": {
        "id": "725dlIKT3Z-a"
      },
      "outputs": [],
      "source": [
        "import time\n",
        "import math\n",
        "import numpy as np\n",
        "import matplotlib.pyplot as plt\n",
        "import inspect\n",
        "import torch\n",
        "import torch.nn as nn\n",
        "import torch.nn.functional as F\n",
        "from torch.optim.lr_scheduler import ReduceLROnPlateau"
      ]
    },
    {
      "cell_type": "code",
      "source": [
        "device= 'cuda' if torch.cuda.is_available() else 'cpu'"
      ],
      "metadata": {
        "id": "lO1EqkSq3esu"
      },
      "execution_count": null,
      "outputs": []
    },
    {
      "cell_type": "code",
      "source": [
        "# count how many trainable weights the model has\n",
        "def count_parameters(model) -> None:\n",
        "    total_params= sum(p.numel() for p in model.parameters() if p.requires_grad)\n",
        "    print(f'Number of parameters: {total_params}')"
      ],
      "metadata": {
        "id": "XUavisSN3ewG"
      },
      "execution_count": null,
      "outputs": []
    },
    {
      "cell_type": "markdown",
      "source": [
        "# Architecture Implementation\n",
        "\n",
        "Starting by the fundamental building block of a CNN, represented by a convolutional layer. Notably, Batch Normalization was not introduced when GoogleNet (Inception) came out but modern implementations include it. Inception v2 (https://arxiv.org/abs/1502.03167) apply Batch Normalization after every convolution (including the 1x1 bottlenecks), which speeds convergence and stabilizes training."
      ],
      "metadata": {
        "id": "Uevxi4Vh3xLG"
      }
    },
    {
      "cell_type": "code",
      "source": [
        "class ConvLayer(nn.Module):\n",
        "    \"\"\"\n",
        "    Implements one customizable CNN layer.\n",
        "    GoogLeNet-style: Input -> Conv2d -> BatchNorm2d -> ReLU -> Output\n",
        "    \"\"\"\n",
        "\n",
        "    def __init__(self, in_channels, out_channels, kernel_size, stride=1, padding=0, bias=False,\n",
        "                 norm=True, activation=None) -> None:\n",
        "        super(ConvLayer, self).__init__()\n",
        "        self.conv= nn.Conv2d(in_channels, out_channels, kernel_size, stride, padding, bias=bias)\n",
        "        # Batch Normalization to stabilize training\n",
        "        self.norm= nn.BatchNorm2d(out_channels) if norm else None\n",
        "        # Activation function -- ReLU is the default in GoogLeNet\n",
        "        self.activation= nn.ReLU(inplace=True) if activation is None else activation\n",
        "\n",
        "\n",
        "    def forward(self, x):\n",
        "        x= self.conv(x)\n",
        "        if self.norm is not None:\n",
        "            x= self.norm(x)\n",
        "        x= self.activation(x)\n",
        "\n",
        "        return x\n"
      ],
      "metadata": {
        "id": "RFjdwMj03ezq"
      },
      "execution_count": null,
      "outputs": []
    },
    {
      "cell_type": "markdown",
      "source": [
        "The Inception module forwards the input through four parallel branches of filters with different sizes: 1x1, 3x3, and 5x5. Note that even a modest number of 5x5 convolutions can be expensive. This drawback was solved by applying dimension reduction and projections whenever the computational requirements would increase. That is, 1x1 conv is applied before expensive 3x3 and 5x5 convolutions to keep the computational cost maintainable.\n",
        "\n",
        "The input tensor can be downsampled (through max-pooling) to reduce costs; however, we cannot perform downsampling too often; otherwise, information loss accumulates, which we want to avoid. 1x1 convolution solves this problem by pooling not inside a single channel but across the channels (keeps the image size stable while decreasing the number of channels).\n",
        "\n",
        "Therefore, Inception processes visual information at various scales and concatenate the resulting smaller tensors side by side so that the next stage can abstract features from different scales simultaneously."
      ],
      "metadata": {
        "id": "iHLZodTIkJ_V"
      }
    },
    {
      "cell_type": "code",
      "source": [
        "class Inception(nn.Module):\n",
        "    \"\"\"\n",
        "    Implements the Inception module with 4 parallel branches:\n",
        "    - 1x1 convolution\n",
        "    - 1x1 convolution followed by 3x3 convolution\n",
        "    - 1x1 convolution followed by 5x5 convolution\n",
        "    - 3x3 max pooling followed by 1x1 convolution\n",
        "    The output of this module concatenates feature maps from all 4 branches.\n",
        "    \"\"\"\n",
        "\n",
        "    def __init__(self, in_channels, out_ch1x1, in_ch3x3, out_ch3x3, in_ch5x5, out_ch5x5,\n",
        "                 out_1x1_pool_proj, activation) -> None:\n",
        "        super(Inception, self).__init__()\n",
        "        # 1x1 convolution\n",
        "        self.branch1= ConvLayer(in_channels, out_ch1x1, kernel_size=1, activation=activation)\n",
        "        # 1x1 convolution followed by 3x3 convolution\n",
        "        self.branch2= nn.Sequential(\n",
        "            ConvLayer(in_channels, in_ch3x3, kernel_size=1, activation=activation),\n",
        "            ConvLayer(in_ch3x3, out_ch3x3, kernel_size=3, padding=1, activation=activation)\n",
        "        )\n",
        "        # 1x1 convolution followed by 5x5 convolution\n",
        "        self.branch3= nn.Sequential(\n",
        "            ConvLayer(in_channels, in_ch5x5, kernel_size=1, activation=activation),\n",
        "            ConvLayer(in_ch5x5, out_ch5x5, kernel_size=5, padding=2, activation=activation)\n",
        "        )\n",
        "        # 3x3 max pooling followed by 1x1 convolution\n",
        "        self.branch4= nn.Sequential(\n",
        "            nn.MaxPool2d(kernel_size=3, stride=1, padding=1, ceil_mode=True),\n",
        "            ConvLayer(in_channels, out_1x1_pool_proj, kernel_size=1, activation=activation)\n",
        "        )\n",
        "\n",
        "\n",
        "    def forward(self, x):\n",
        "        branch1= self.branch1(x)\n",
        "        branch2= self.branch2(x)\n",
        "        branch3= self.branch3(x)\n",
        "        branch4= self.branch4(x)\n",
        "\n",
        "        return torch.cat([branch1, branch2, branch3, branch4], dim=1)\n"
      ],
      "metadata": {
        "id": "MLSXGdhG3e2R"
      },
      "execution_count": null,
      "outputs": []
    },
    {
      "cell_type": "markdown",
      "source": [
        "Given the relatively large depth of the network, the ability to propagate gradients back through all the layers is a concern. The authors solved this issue by adding auxiliary classifiers connected to some intermediate layers to encourage discrimination in the lower stages in the classifier, increase the gradient signal that gets propagated back, and provide additional regularization.\n",
        "\n",
        "These **auxiliary classifiers** are smaller convolutional networks put on top of the output of the **Inception 4a and 4d modules**. During training, their loss is added to the total loss of the network with a discount weight (the losses of auxiliary classifiers are weighted by 0.3). At inference time, the auxiliary classifiers are discarded."
      ],
      "metadata": {
        "id": "Ho9Qa5bcmLh0"
      }
    },
    {
      "cell_type": "code",
      "source": [
        "class InceptionAux(nn.Module):\n",
        "    \"\"\"\n",
        "    Auxiliary classifiers connected to intermediate layers (Inception 4a and 4d). During training,\n",
        "    their loss gets added to the total loss of the network to increase the gradient signal that\n",
        "    get propagated back and provide additional regularization.\n",
        "    \"\"\"\n",
        "\n",
        "    def __init__(self, in_channels, num_classes, activation, dropout) -> None:\n",
        "        super(InceptionAux, self).__init__()\n",
        "        # Initial pooling\n",
        "        self.pool= nn.AdaptiveAvgPool2d((4, 4))\n",
        "        self.conv= ConvLayer(in_channels, 128, kernel_size=1, activation=activation)\n",
        "        self.fc1= nn.Linear(4 * 4 * 128, 1024)\n",
        "        self.activation= activation\n",
        "        self.dropout= nn.Dropout(p=dropout)\n",
        "        self.fc2= nn.Linear(1024, num_classes)\n",
        "\n",
        "\n",
        "    def forward(self, x):\n",
        "        x= self.pool(x)\n",
        "        x= self.conv(x)\n",
        "        x= torch.flatten(x, 1)\n",
        "        x= self.fc1(x)\n",
        "        x= self.activation(x)\n",
        "        x= self.dropout(x)\n",
        "        x= self.fc2(x)\n",
        "\n",
        "        return x\n"
      ],
      "metadata": {
        "id": "543omlIh3e5b"
      },
      "execution_count": null,
      "outputs": []
    },
    {
      "cell_type": "markdown",
      "source": [
        "# Building the GoogLeNet network\n",
        "\n",
        "The network is 22 layers deep when counting only layers with parameters (or 27 layers if we also count pooling), but the code is organized into 5 convolutional stages (feature extractor) followed by a final classification head.\n",
        "\n",
        "**Inception v2** (https://arxiv.org/abs/1502.03167) reduces the complexity of branch3 by factorizing its 5x5 conv with two sequential 3x3 convs (same receptive field as one 5x5 but with fewer parameters) and ReLU in between, giving more nonlinearity.\n",
        "\n",
        "**Inception v3** (https://arxiv.org/abs/1512.00567) takes the v2 improvements further and adds new factorization ideas:\n",
        "\n",
        "- **Asymmetric Convolutions:** A 3x3 conv can be replaced by a 1x3 followed by a 3x1 (further reducing cost), without loss in expressivity (also 7x7 -> 1x7 + 7x1).\n",
        "- **Grid Size Reduction:** A pooling layer concatenated with a parallel 3x3 conv (both with stride 2).\n",
        "- Simplified side heads.\n",
        "- Label smoothing for training.\n",
        "\n",
        "But the core multi-branch CONCAT idea remains."
      ],
      "metadata": {
        "id": "Jqw_l8oW64c-"
      }
    },
    {
      "cell_type": "code",
      "source": [
        "class GoogLeNet(nn.Module):\n",
        "    \"\"\"\n",
        "    Implements the GoogLeNet architecture.\n",
        "    \"\"\"\n",
        "\n",
        "    def __init__(self, in_channels, num_classes=1000, aux_logits=True, activation=None, dropout=0.2,\n",
        "                 dropout_aux=0.7) -> None:\n",
        "        super(GoogLeNet, self).__init__()\n",
        "        # Activation function -- ReLU is the default in GoogLeNet\n",
        "        activation= nn.ReLU(inplace=True) if activation is None else activation\n",
        "\n",
        "        # Feature extractor -- ConvLayers 1 and 2\n",
        "        self.conv1= ConvLayer(in_channels, 64, kernel_size=7, stride=2, padding=3, activation=activation)\n",
        "        self.pool1= nn.MaxPool2d(kernel_size=3, stride=2, padding=1, ceil_mode=True)\n",
        "        self.conv2= nn.Sequential(\n",
        "            ConvLayer(64, 64, kernel_size=1, activation=activation),\n",
        "            ConvLayer(64, 192, kernel_size=3, padding=1, activation=activation),\n",
        "        )\n",
        "        self.pool2= nn.MaxPool2d(kernel_size=3, stride=2, padding=1, ceil_mode=True)\n",
        "\n",
        "        # Inception modules 3, 4, and 5\n",
        "        # in_channels, out_ch1x1, in_ch3x3, out_ch3x3, in_ch5x5, out_ch5x5, out_1x1_pool_proj\n",
        "        self.inception3= nn.Sequential(\n",
        "            Inception(192,  64,  96, 128, 16, 32, 32, activation),\n",
        "            Inception(256, 128, 128, 192, 32, 96, 64, activation),\n",
        "        )\n",
        "        self.pool3= nn.MaxPool2d(kernel_size=3, stride=2, padding=1, ceil_mode=True)\n",
        "\n",
        "        self.inception4a= Inception(480, 192,  96, 208, 16, 48, 64, activation)\n",
        "        self.inception4b= Inception(512, 160, 112, 224, 24, 64, 64, activation)\n",
        "        self.inception4c= Inception(512, 128, 128, 256, 24, 64, 64, activation)\n",
        "        self.inception4d= Inception(512, 112, 144, 288, 32, 64, 64, activation)\n",
        "        self.inception4e= Inception(528, 256, 160, 320, 32,128,128, activation)\n",
        "        self.pool4= nn.MaxPool2d(kernel_size=3, stride=2, padding=1, ceil_mode=True)\n",
        "\n",
        "        # Auxiliar classifiers connected to Inception 4a and 4d (optional)\n",
        "        if aux_logits:\n",
        "            self.aux1= InceptionAux(512, num_classes, activation, dropout_aux)\n",
        "            self.aux2= InceptionAux(528, num_classes, activation, dropout_aux)\n",
        "        else:\n",
        "            self.aux1= None\n",
        "            self.aux2= None\n",
        "\n",
        "        self.inception5= nn.Sequential(\n",
        "            Inception(832, 256, 160, 320, 32, 128, 128, activation),\n",
        "            Inception(832, 384, 192, 384, 48, 128, 128, activation),\n",
        "        )\n",
        "\n",
        "        # Pooling and classification head to produce the final class logits\n",
        "        self.avgpool= nn.AdaptiveAvgPool2d((1, 1))\n",
        "        self.head= nn.Sequential(\n",
        "            nn.Dropout(p=dropout),\n",
        "            nn.Linear(1024, num_classes),\n",
        "        )\n",
        "\n",
        "        # Initialize parameters with Xavier initialization\n",
        "        for m in self.modules():\n",
        "            if isinstance(m, nn.Conv2d) or isinstance(m, nn.Linear):\n",
        "                nn.init.xavier_uniform_(m.weight)\n",
        "                if m.bias is not None: nn.init.zeros_(m.bias)\n",
        "            elif isinstance(m, nn.BatchNorm2d):\n",
        "                nn.init.constant_(m.weight, 1.0)\n",
        "                nn.init.constant_(m.bias, 0.0)\n",
        "\n",
        "\n",
        "    def forward(self, x):\n",
        "        x= self.pool1(self.conv1(x))\n",
        "        x= self.pool2(self.conv2(x))\n",
        "        x= self.pool3(self.inception3(x))\n",
        "        x= self.inception4a(x)\n",
        "\n",
        "        if self.aux1 is not None and self.training:\n",
        "            aux1= self.aux1(x)\n",
        "        else:\n",
        "            aux1= None\n",
        "\n",
        "        x= self.inception4b(x)\n",
        "        x= self.inception4c(x)\n",
        "        x= self.inception4d(x)\n",
        "\n",
        "        if self.aux2 is not None and self.training:\n",
        "            aux2= self.aux2(x)\n",
        "        else:\n",
        "            aux2= None\n",
        "\n",
        "        x= self.pool4(self.inception4e(x))\n",
        "        x= self.avgpool(self.inception5(x))\n",
        "        x= torch.flatten(x, 1)\n",
        "        x= self.head(x)\n",
        "\n",
        "        return x, aux1, aux2\n"
      ],
      "metadata": {
        "id": "ozZ7R7Lz3e9J"
      },
      "execution_count": null,
      "outputs": []
    },
    {
      "cell_type": "markdown",
      "source": [
        "Using **torchvision** GoogLeNet architecture to get the parameter count, we see that the total parameters comes out to be 6,624,904. It's important to note that this architecture replaces all 5x5 convolutions with 3x3 convolutions (a known bug), resulting in a different parameter count. Ideally, the parameter count should align with the one we created, which is a total of 7,005,832 parameter."
      ],
      "metadata": {
        "id": "A3RpLkLaf1uf"
      }
    },
    {
      "cell_type": "code",
      "source": [
        "import torchvision.models as models\n",
        "from torchvision.models import GoogLeNet_Weights\n",
        "\n",
        "tvis_model= models.googlenet(weights=GoogLeNet_Weights.IMAGENET1K_V1).to(device)\n",
        "count_parameters(tvis_model)"
      ],
      "metadata": {
        "colab": {
          "base_uri": "https://localhost:8080/"
        },
        "id": "Zmv36-P03fA9",
        "outputId": "5af9837d-1189-44d3-bf1c-fab901bb10ee"
      },
      "execution_count": null,
      "outputs": [
        {
          "output_type": "stream",
          "name": "stderr",
          "text": [
            "Downloading: \"https://download.pytorch.org/models/googlenet-1378be20.pth\" to /root/.cache/torch/hub/checkpoints/googlenet-1378be20.pth\n",
            "100%|██████████| 49.7M/49.7M [00:00<00:00, 172MB/s]\n"
          ]
        },
        {
          "output_type": "stream",
          "name": "stdout",
          "text": [
            "Number of parameters: 6624904\n"
          ]
        }
      ]
    },
    {
      "cell_type": "code",
      "source": [
        "img= torch.randn(1, 3, 224, 224).to(device)  # a single image batch\n",
        "model= GoogLeNet(in_channels=3, aux_logits=False).to(device)\n",
        "count_parameters(model)\n",
        "out, _, _= model(img)\n",
        "print(out.shape)\n",
        "\n",
        "model"
      ],
      "metadata": {
        "id": "J1J_4ZLk3fGQ",
        "colab": {
          "base_uri": "https://localhost:8080/"
        },
        "outputId": "8a9e5e6e-fedc-43db-8cdc-c2735ed326b7"
      },
      "execution_count": null,
      "outputs": [
        {
          "output_type": "stream",
          "name": "stdout",
          "text": [
            "Number of parameters: 7005832\n",
            "torch.Size([1, 1000])\n"
          ]
        },
        {
          "output_type": "execute_result",
          "data": {
            "text/plain": [
              "GoogLeNet(\n",
              "  (conv1): ConvLayer(\n",
              "    (conv): Conv2d(3, 64, kernel_size=(7, 7), stride=(2, 2), padding=(3, 3), bias=False)\n",
              "    (norm): BatchNorm2d(64, eps=1e-05, momentum=0.1, affine=True, track_running_stats=True)\n",
              "    (activation): ReLU(inplace=True)\n",
              "  )\n",
              "  (pool1): MaxPool2d(kernel_size=3, stride=2, padding=1, dilation=1, ceil_mode=True)\n",
              "  (conv2): Sequential(\n",
              "    (0): ConvLayer(\n",
              "      (conv): Conv2d(64, 64, kernel_size=(1, 1), stride=(1, 1), bias=False)\n",
              "      (norm): BatchNorm2d(64, eps=1e-05, momentum=0.1, affine=True, track_running_stats=True)\n",
              "      (activation): ReLU(inplace=True)\n",
              "    )\n",
              "    (1): ConvLayer(\n",
              "      (conv): Conv2d(64, 192, kernel_size=(3, 3), stride=(1, 1), padding=(1, 1), bias=False)\n",
              "      (norm): BatchNorm2d(192, eps=1e-05, momentum=0.1, affine=True, track_running_stats=True)\n",
              "      (activation): ReLU(inplace=True)\n",
              "    )\n",
              "  )\n",
              "  (pool2): MaxPool2d(kernel_size=3, stride=2, padding=1, dilation=1, ceil_mode=True)\n",
              "  (inception3): Sequential(\n",
              "    (0): Inception(\n",
              "      (branch1): ConvLayer(\n",
              "        (conv): Conv2d(192, 64, kernel_size=(1, 1), stride=(1, 1), bias=False)\n",
              "        (norm): BatchNorm2d(64, eps=1e-05, momentum=0.1, affine=True, track_running_stats=True)\n",
              "        (activation): ReLU(inplace=True)\n",
              "      )\n",
              "      (branch2): Sequential(\n",
              "        (0): ConvLayer(\n",
              "          (conv): Conv2d(192, 96, kernel_size=(1, 1), stride=(1, 1), bias=False)\n",
              "          (norm): BatchNorm2d(96, eps=1e-05, momentum=0.1, affine=True, track_running_stats=True)\n",
              "          (activation): ReLU(inplace=True)\n",
              "        )\n",
              "        (1): ConvLayer(\n",
              "          (conv): Conv2d(96, 128, kernel_size=(3, 3), stride=(1, 1), padding=(1, 1), bias=False)\n",
              "          (norm): BatchNorm2d(128, eps=1e-05, momentum=0.1, affine=True, track_running_stats=True)\n",
              "          (activation): ReLU(inplace=True)\n",
              "        )\n",
              "      )\n",
              "      (branch3): Sequential(\n",
              "        (0): ConvLayer(\n",
              "          (conv): Conv2d(192, 16, kernel_size=(1, 1), stride=(1, 1), bias=False)\n",
              "          (norm): BatchNorm2d(16, eps=1e-05, momentum=0.1, affine=True, track_running_stats=True)\n",
              "          (activation): ReLU(inplace=True)\n",
              "        )\n",
              "        (1): ConvLayer(\n",
              "          (conv): Conv2d(16, 32, kernel_size=(5, 5), stride=(1, 1), padding=(2, 2), bias=False)\n",
              "          (norm): BatchNorm2d(32, eps=1e-05, momentum=0.1, affine=True, track_running_stats=True)\n",
              "          (activation): ReLU(inplace=True)\n",
              "        )\n",
              "      )\n",
              "      (branch4): Sequential(\n",
              "        (0): MaxPool2d(kernel_size=3, stride=1, padding=1, dilation=1, ceil_mode=True)\n",
              "        (1): ConvLayer(\n",
              "          (conv): Conv2d(192, 32, kernel_size=(1, 1), stride=(1, 1), bias=False)\n",
              "          (norm): BatchNorm2d(32, eps=1e-05, momentum=0.1, affine=True, track_running_stats=True)\n",
              "          (activation): ReLU(inplace=True)\n",
              "        )\n",
              "      )\n",
              "    )\n",
              "    (1): Inception(\n",
              "      (branch1): ConvLayer(\n",
              "        (conv): Conv2d(256, 128, kernel_size=(1, 1), stride=(1, 1), bias=False)\n",
              "        (norm): BatchNorm2d(128, eps=1e-05, momentum=0.1, affine=True, track_running_stats=True)\n",
              "        (activation): ReLU(inplace=True)\n",
              "      )\n",
              "      (branch2): Sequential(\n",
              "        (0): ConvLayer(\n",
              "          (conv): Conv2d(256, 128, kernel_size=(1, 1), stride=(1, 1), bias=False)\n",
              "          (norm): BatchNorm2d(128, eps=1e-05, momentum=0.1, affine=True, track_running_stats=True)\n",
              "          (activation): ReLU(inplace=True)\n",
              "        )\n",
              "        (1): ConvLayer(\n",
              "          (conv): Conv2d(128, 192, kernel_size=(3, 3), stride=(1, 1), padding=(1, 1), bias=False)\n",
              "          (norm): BatchNorm2d(192, eps=1e-05, momentum=0.1, affine=True, track_running_stats=True)\n",
              "          (activation): ReLU(inplace=True)\n",
              "        )\n",
              "      )\n",
              "      (branch3): Sequential(\n",
              "        (0): ConvLayer(\n",
              "          (conv): Conv2d(256, 32, kernel_size=(1, 1), stride=(1, 1), bias=False)\n",
              "          (norm): BatchNorm2d(32, eps=1e-05, momentum=0.1, affine=True, track_running_stats=True)\n",
              "          (activation): ReLU(inplace=True)\n",
              "        )\n",
              "        (1): ConvLayer(\n",
              "          (conv): Conv2d(32, 96, kernel_size=(5, 5), stride=(1, 1), padding=(2, 2), bias=False)\n",
              "          (norm): BatchNorm2d(96, eps=1e-05, momentum=0.1, affine=True, track_running_stats=True)\n",
              "          (activation): ReLU(inplace=True)\n",
              "        )\n",
              "      )\n",
              "      (branch4): Sequential(\n",
              "        (0): MaxPool2d(kernel_size=3, stride=1, padding=1, dilation=1, ceil_mode=True)\n",
              "        (1): ConvLayer(\n",
              "          (conv): Conv2d(256, 64, kernel_size=(1, 1), stride=(1, 1), bias=False)\n",
              "          (norm): BatchNorm2d(64, eps=1e-05, momentum=0.1, affine=True, track_running_stats=True)\n",
              "          (activation): ReLU(inplace=True)\n",
              "        )\n",
              "      )\n",
              "    )\n",
              "  )\n",
              "  (pool3): MaxPool2d(kernel_size=3, stride=2, padding=1, dilation=1, ceil_mode=True)\n",
              "  (inception4a): Inception(\n",
              "    (branch1): ConvLayer(\n",
              "      (conv): Conv2d(480, 192, kernel_size=(1, 1), stride=(1, 1), bias=False)\n",
              "      (norm): BatchNorm2d(192, eps=1e-05, momentum=0.1, affine=True, track_running_stats=True)\n",
              "      (activation): ReLU(inplace=True)\n",
              "    )\n",
              "    (branch2): Sequential(\n",
              "      (0): ConvLayer(\n",
              "        (conv): Conv2d(480, 96, kernel_size=(1, 1), stride=(1, 1), bias=False)\n",
              "        (norm): BatchNorm2d(96, eps=1e-05, momentum=0.1, affine=True, track_running_stats=True)\n",
              "        (activation): ReLU(inplace=True)\n",
              "      )\n",
              "      (1): ConvLayer(\n",
              "        (conv): Conv2d(96, 208, kernel_size=(3, 3), stride=(1, 1), padding=(1, 1), bias=False)\n",
              "        (norm): BatchNorm2d(208, eps=1e-05, momentum=0.1, affine=True, track_running_stats=True)\n",
              "        (activation): ReLU(inplace=True)\n",
              "      )\n",
              "    )\n",
              "    (branch3): Sequential(\n",
              "      (0): ConvLayer(\n",
              "        (conv): Conv2d(480, 16, kernel_size=(1, 1), stride=(1, 1), bias=False)\n",
              "        (norm): BatchNorm2d(16, eps=1e-05, momentum=0.1, affine=True, track_running_stats=True)\n",
              "        (activation): ReLU(inplace=True)\n",
              "      )\n",
              "      (1): ConvLayer(\n",
              "        (conv): Conv2d(16, 48, kernel_size=(5, 5), stride=(1, 1), padding=(2, 2), bias=False)\n",
              "        (norm): BatchNorm2d(48, eps=1e-05, momentum=0.1, affine=True, track_running_stats=True)\n",
              "        (activation): ReLU(inplace=True)\n",
              "      )\n",
              "    )\n",
              "    (branch4): Sequential(\n",
              "      (0): MaxPool2d(kernel_size=3, stride=1, padding=1, dilation=1, ceil_mode=True)\n",
              "      (1): ConvLayer(\n",
              "        (conv): Conv2d(480, 64, kernel_size=(1, 1), stride=(1, 1), bias=False)\n",
              "        (norm): BatchNorm2d(64, eps=1e-05, momentum=0.1, affine=True, track_running_stats=True)\n",
              "        (activation): ReLU(inplace=True)\n",
              "      )\n",
              "    )\n",
              "  )\n",
              "  (inception4b): Inception(\n",
              "    (branch1): ConvLayer(\n",
              "      (conv): Conv2d(512, 160, kernel_size=(1, 1), stride=(1, 1), bias=False)\n",
              "      (norm): BatchNorm2d(160, eps=1e-05, momentum=0.1, affine=True, track_running_stats=True)\n",
              "      (activation): ReLU(inplace=True)\n",
              "    )\n",
              "    (branch2): Sequential(\n",
              "      (0): ConvLayer(\n",
              "        (conv): Conv2d(512, 112, kernel_size=(1, 1), stride=(1, 1), bias=False)\n",
              "        (norm): BatchNorm2d(112, eps=1e-05, momentum=0.1, affine=True, track_running_stats=True)\n",
              "        (activation): ReLU(inplace=True)\n",
              "      )\n",
              "      (1): ConvLayer(\n",
              "        (conv): Conv2d(112, 224, kernel_size=(3, 3), stride=(1, 1), padding=(1, 1), bias=False)\n",
              "        (norm): BatchNorm2d(224, eps=1e-05, momentum=0.1, affine=True, track_running_stats=True)\n",
              "        (activation): ReLU(inplace=True)\n",
              "      )\n",
              "    )\n",
              "    (branch3): Sequential(\n",
              "      (0): ConvLayer(\n",
              "        (conv): Conv2d(512, 24, kernel_size=(1, 1), stride=(1, 1), bias=False)\n",
              "        (norm): BatchNorm2d(24, eps=1e-05, momentum=0.1, affine=True, track_running_stats=True)\n",
              "        (activation): ReLU(inplace=True)\n",
              "      )\n",
              "      (1): ConvLayer(\n",
              "        (conv): Conv2d(24, 64, kernel_size=(5, 5), stride=(1, 1), padding=(2, 2), bias=False)\n",
              "        (norm): BatchNorm2d(64, eps=1e-05, momentum=0.1, affine=True, track_running_stats=True)\n",
              "        (activation): ReLU(inplace=True)\n",
              "      )\n",
              "    )\n",
              "    (branch4): Sequential(\n",
              "      (0): MaxPool2d(kernel_size=3, stride=1, padding=1, dilation=1, ceil_mode=True)\n",
              "      (1): ConvLayer(\n",
              "        (conv): Conv2d(512, 64, kernel_size=(1, 1), stride=(1, 1), bias=False)\n",
              "        (norm): BatchNorm2d(64, eps=1e-05, momentum=0.1, affine=True, track_running_stats=True)\n",
              "        (activation): ReLU(inplace=True)\n",
              "      )\n",
              "    )\n",
              "  )\n",
              "  (inception4c): Inception(\n",
              "    (branch1): ConvLayer(\n",
              "      (conv): Conv2d(512, 128, kernel_size=(1, 1), stride=(1, 1), bias=False)\n",
              "      (norm): BatchNorm2d(128, eps=1e-05, momentum=0.1, affine=True, track_running_stats=True)\n",
              "      (activation): ReLU(inplace=True)\n",
              "    )\n",
              "    (branch2): Sequential(\n",
              "      (0): ConvLayer(\n",
              "        (conv): Conv2d(512, 128, kernel_size=(1, 1), stride=(1, 1), bias=False)\n",
              "        (norm): BatchNorm2d(128, eps=1e-05, momentum=0.1, affine=True, track_running_stats=True)\n",
              "        (activation): ReLU(inplace=True)\n",
              "      )\n",
              "      (1): ConvLayer(\n",
              "        (conv): Conv2d(128, 256, kernel_size=(3, 3), stride=(1, 1), padding=(1, 1), bias=False)\n",
              "        (norm): BatchNorm2d(256, eps=1e-05, momentum=0.1, affine=True, track_running_stats=True)\n",
              "        (activation): ReLU(inplace=True)\n",
              "      )\n",
              "    )\n",
              "    (branch3): Sequential(\n",
              "      (0): ConvLayer(\n",
              "        (conv): Conv2d(512, 24, kernel_size=(1, 1), stride=(1, 1), bias=False)\n",
              "        (norm): BatchNorm2d(24, eps=1e-05, momentum=0.1, affine=True, track_running_stats=True)\n",
              "        (activation): ReLU(inplace=True)\n",
              "      )\n",
              "      (1): ConvLayer(\n",
              "        (conv): Conv2d(24, 64, kernel_size=(5, 5), stride=(1, 1), padding=(2, 2), bias=False)\n",
              "        (norm): BatchNorm2d(64, eps=1e-05, momentum=0.1, affine=True, track_running_stats=True)\n",
              "        (activation): ReLU(inplace=True)\n",
              "      )\n",
              "    )\n",
              "    (branch4): Sequential(\n",
              "      (0): MaxPool2d(kernel_size=3, stride=1, padding=1, dilation=1, ceil_mode=True)\n",
              "      (1): ConvLayer(\n",
              "        (conv): Conv2d(512, 64, kernel_size=(1, 1), stride=(1, 1), bias=False)\n",
              "        (norm): BatchNorm2d(64, eps=1e-05, momentum=0.1, affine=True, track_running_stats=True)\n",
              "        (activation): ReLU(inplace=True)\n",
              "      )\n",
              "    )\n",
              "  )\n",
              "  (inception4d): Inception(\n",
              "    (branch1): ConvLayer(\n",
              "      (conv): Conv2d(512, 112, kernel_size=(1, 1), stride=(1, 1), bias=False)\n",
              "      (norm): BatchNorm2d(112, eps=1e-05, momentum=0.1, affine=True, track_running_stats=True)\n",
              "      (activation): ReLU(inplace=True)\n",
              "    )\n",
              "    (branch2): Sequential(\n",
              "      (0): ConvLayer(\n",
              "        (conv): Conv2d(512, 144, kernel_size=(1, 1), stride=(1, 1), bias=False)\n",
              "        (norm): BatchNorm2d(144, eps=1e-05, momentum=0.1, affine=True, track_running_stats=True)\n",
              "        (activation): ReLU(inplace=True)\n",
              "      )\n",
              "      (1): ConvLayer(\n",
              "        (conv): Conv2d(144, 288, kernel_size=(3, 3), stride=(1, 1), padding=(1, 1), bias=False)\n",
              "        (norm): BatchNorm2d(288, eps=1e-05, momentum=0.1, affine=True, track_running_stats=True)\n",
              "        (activation): ReLU(inplace=True)\n",
              "      )\n",
              "    )\n",
              "    (branch3): Sequential(\n",
              "      (0): ConvLayer(\n",
              "        (conv): Conv2d(512, 32, kernel_size=(1, 1), stride=(1, 1), bias=False)\n",
              "        (norm): BatchNorm2d(32, eps=1e-05, momentum=0.1, affine=True, track_running_stats=True)\n",
              "        (activation): ReLU(inplace=True)\n",
              "      )\n",
              "      (1): ConvLayer(\n",
              "        (conv): Conv2d(32, 64, kernel_size=(5, 5), stride=(1, 1), padding=(2, 2), bias=False)\n",
              "        (norm): BatchNorm2d(64, eps=1e-05, momentum=0.1, affine=True, track_running_stats=True)\n",
              "        (activation): ReLU(inplace=True)\n",
              "      )\n",
              "    )\n",
              "    (branch4): Sequential(\n",
              "      (0): MaxPool2d(kernel_size=3, stride=1, padding=1, dilation=1, ceil_mode=True)\n",
              "      (1): ConvLayer(\n",
              "        (conv): Conv2d(512, 64, kernel_size=(1, 1), stride=(1, 1), bias=False)\n",
              "        (norm): BatchNorm2d(64, eps=1e-05, momentum=0.1, affine=True, track_running_stats=True)\n",
              "        (activation): ReLU(inplace=True)\n",
              "      )\n",
              "    )\n",
              "  )\n",
              "  (inception4e): Inception(\n",
              "    (branch1): ConvLayer(\n",
              "      (conv): Conv2d(528, 256, kernel_size=(1, 1), stride=(1, 1), bias=False)\n",
              "      (norm): BatchNorm2d(256, eps=1e-05, momentum=0.1, affine=True, track_running_stats=True)\n",
              "      (activation): ReLU(inplace=True)\n",
              "    )\n",
              "    (branch2): Sequential(\n",
              "      (0): ConvLayer(\n",
              "        (conv): Conv2d(528, 160, kernel_size=(1, 1), stride=(1, 1), bias=False)\n",
              "        (norm): BatchNorm2d(160, eps=1e-05, momentum=0.1, affine=True, track_running_stats=True)\n",
              "        (activation): ReLU(inplace=True)\n",
              "      )\n",
              "      (1): ConvLayer(\n",
              "        (conv): Conv2d(160, 320, kernel_size=(3, 3), stride=(1, 1), padding=(1, 1), bias=False)\n",
              "        (norm): BatchNorm2d(320, eps=1e-05, momentum=0.1, affine=True, track_running_stats=True)\n",
              "        (activation): ReLU(inplace=True)\n",
              "      )\n",
              "    )\n",
              "    (branch3): Sequential(\n",
              "      (0): ConvLayer(\n",
              "        (conv): Conv2d(528, 32, kernel_size=(1, 1), stride=(1, 1), bias=False)\n",
              "        (norm): BatchNorm2d(32, eps=1e-05, momentum=0.1, affine=True, track_running_stats=True)\n",
              "        (activation): ReLU(inplace=True)\n",
              "      )\n",
              "      (1): ConvLayer(\n",
              "        (conv): Conv2d(32, 128, kernel_size=(5, 5), stride=(1, 1), padding=(2, 2), bias=False)\n",
              "        (norm): BatchNorm2d(128, eps=1e-05, momentum=0.1, affine=True, track_running_stats=True)\n",
              "        (activation): ReLU(inplace=True)\n",
              "      )\n",
              "    )\n",
              "    (branch4): Sequential(\n",
              "      (0): MaxPool2d(kernel_size=3, stride=1, padding=1, dilation=1, ceil_mode=True)\n",
              "      (1): ConvLayer(\n",
              "        (conv): Conv2d(528, 128, kernel_size=(1, 1), stride=(1, 1), bias=False)\n",
              "        (norm): BatchNorm2d(128, eps=1e-05, momentum=0.1, affine=True, track_running_stats=True)\n",
              "        (activation): ReLU(inplace=True)\n",
              "      )\n",
              "    )\n",
              "  )\n",
              "  (pool4): MaxPool2d(kernel_size=3, stride=2, padding=1, dilation=1, ceil_mode=True)\n",
              "  (inception5): Sequential(\n",
              "    (0): Inception(\n",
              "      (branch1): ConvLayer(\n",
              "        (conv): Conv2d(832, 256, kernel_size=(1, 1), stride=(1, 1), bias=False)\n",
              "        (norm): BatchNorm2d(256, eps=1e-05, momentum=0.1, affine=True, track_running_stats=True)\n",
              "        (activation): ReLU(inplace=True)\n",
              "      )\n",
              "      (branch2): Sequential(\n",
              "        (0): ConvLayer(\n",
              "          (conv): Conv2d(832, 160, kernel_size=(1, 1), stride=(1, 1), bias=False)\n",
              "          (norm): BatchNorm2d(160, eps=1e-05, momentum=0.1, affine=True, track_running_stats=True)\n",
              "          (activation): ReLU(inplace=True)\n",
              "        )\n",
              "        (1): ConvLayer(\n",
              "          (conv): Conv2d(160, 320, kernel_size=(3, 3), stride=(1, 1), padding=(1, 1), bias=False)\n",
              "          (norm): BatchNorm2d(320, eps=1e-05, momentum=0.1, affine=True, track_running_stats=True)\n",
              "          (activation): ReLU(inplace=True)\n",
              "        )\n",
              "      )\n",
              "      (branch3): Sequential(\n",
              "        (0): ConvLayer(\n",
              "          (conv): Conv2d(832, 32, kernel_size=(1, 1), stride=(1, 1), bias=False)\n",
              "          (norm): BatchNorm2d(32, eps=1e-05, momentum=0.1, affine=True, track_running_stats=True)\n",
              "          (activation): ReLU(inplace=True)\n",
              "        )\n",
              "        (1): ConvLayer(\n",
              "          (conv): Conv2d(32, 128, kernel_size=(5, 5), stride=(1, 1), padding=(2, 2), bias=False)\n",
              "          (norm): BatchNorm2d(128, eps=1e-05, momentum=0.1, affine=True, track_running_stats=True)\n",
              "          (activation): ReLU(inplace=True)\n",
              "        )\n",
              "      )\n",
              "      (branch4): Sequential(\n",
              "        (0): MaxPool2d(kernel_size=3, stride=1, padding=1, dilation=1, ceil_mode=True)\n",
              "        (1): ConvLayer(\n",
              "          (conv): Conv2d(832, 128, kernel_size=(1, 1), stride=(1, 1), bias=False)\n",
              "          (norm): BatchNorm2d(128, eps=1e-05, momentum=0.1, affine=True, track_running_stats=True)\n",
              "          (activation): ReLU(inplace=True)\n",
              "        )\n",
              "      )\n",
              "    )\n",
              "    (1): Inception(\n",
              "      (branch1): ConvLayer(\n",
              "        (conv): Conv2d(832, 384, kernel_size=(1, 1), stride=(1, 1), bias=False)\n",
              "        (norm): BatchNorm2d(384, eps=1e-05, momentum=0.1, affine=True, track_running_stats=True)\n",
              "        (activation): ReLU(inplace=True)\n",
              "      )\n",
              "      (branch2): Sequential(\n",
              "        (0): ConvLayer(\n",
              "          (conv): Conv2d(832, 192, kernel_size=(1, 1), stride=(1, 1), bias=False)\n",
              "          (norm): BatchNorm2d(192, eps=1e-05, momentum=0.1, affine=True, track_running_stats=True)\n",
              "          (activation): ReLU(inplace=True)\n",
              "        )\n",
              "        (1): ConvLayer(\n",
              "          (conv): Conv2d(192, 384, kernel_size=(3, 3), stride=(1, 1), padding=(1, 1), bias=False)\n",
              "          (norm): BatchNorm2d(384, eps=1e-05, momentum=0.1, affine=True, track_running_stats=True)\n",
              "          (activation): ReLU(inplace=True)\n",
              "        )\n",
              "      )\n",
              "      (branch3): Sequential(\n",
              "        (0): ConvLayer(\n",
              "          (conv): Conv2d(832, 48, kernel_size=(1, 1), stride=(1, 1), bias=False)\n",
              "          (norm): BatchNorm2d(48, eps=1e-05, momentum=0.1, affine=True, track_running_stats=True)\n",
              "          (activation): ReLU(inplace=True)\n",
              "        )\n",
              "        (1): ConvLayer(\n",
              "          (conv): Conv2d(48, 128, kernel_size=(5, 5), stride=(1, 1), padding=(2, 2), bias=False)\n",
              "          (norm): BatchNorm2d(128, eps=1e-05, momentum=0.1, affine=True, track_running_stats=True)\n",
              "          (activation): ReLU(inplace=True)\n",
              "        )\n",
              "      )\n",
              "      (branch4): Sequential(\n",
              "        (0): MaxPool2d(kernel_size=3, stride=1, padding=1, dilation=1, ceil_mode=True)\n",
              "        (1): ConvLayer(\n",
              "          (conv): Conv2d(832, 128, kernel_size=(1, 1), stride=(1, 1), bias=False)\n",
              "          (norm): BatchNorm2d(128, eps=1e-05, momentum=0.1, affine=True, track_running_stats=True)\n",
              "          (activation): ReLU(inplace=True)\n",
              "        )\n",
              "      )\n",
              "    )\n",
              "  )\n",
              "  (avgpool): AdaptiveAvgPool2d(output_size=(1, 1))\n",
              "  (head): Sequential(\n",
              "    (0): Dropout(p=0.2, inplace=False)\n",
              "    (1): Linear(in_features=1024, out_features=1000, bias=True)\n",
              "  )\n",
              ")"
            ]
          },
          "metadata": {},
          "execution_count": 9
        }
      ]
    },
    {
      "cell_type": "markdown",
      "source": [
        "# Training the GoogLeNet model from scratch"
      ],
      "metadata": {
        "id": "eLlzSe1K8UgV"
      }
    },
    {
      "cell_type": "code",
      "source": [
        "from torch.utils.data import DataLoader, random_split\n",
        "from torchvision import datasets, transforms"
      ],
      "metadata": {
        "id": "aM-NHS8-8a7e"
      },
      "execution_count": null,
      "outputs": []
    },
    {
      "cell_type": "code",
      "source": [
        "# data preparation -- define transformations for the dataset\n",
        "transform= transforms.Compose([\n",
        "    transforms.Resize((224, 224)),\n",
        "    transforms.RandomHorizontalFlip(),\n",
        "    transforms.ToTensor(),\n",
        "    transforms.Normalize(mean=[0.4914, 0.4822, 0.4465],\n",
        "                         std= [0.2023, 0.1994, 0.2010]), # CIFAR-10 stats\n",
        "])\n",
        "\n",
        "# load the CIFAR-10 dataset\n",
        "train_dataset= datasets.CIFAR10(root='./data', train=True, download=True, transform=transform)\n",
        "test_dataset = datasets.CIFAR10(root='./data', train=False,download=True, transform=transform)\n",
        "\n",
        "# create data loaders\n",
        "train_size= int(0.9 * len(train_dataset))\n",
        "val_size  = len(train_dataset) - train_size\n",
        "train_dataset, val_dataset= random_split(train_dataset, [train_size, val_size])\n",
        "\n",
        "batch_size= 128\n",
        "train_loader= DataLoader(train_dataset,batch_size=batch_size, shuffle=True)\n",
        "val_loader  = DataLoader(val_dataset,  batch_size=batch_size, shuffle=False)\n",
        "test_loader = DataLoader(test_dataset, batch_size=batch_size, shuffle=False)"
      ],
      "metadata": {
        "id": "KdR9voQy3fJI",
        "colab": {
          "base_uri": "https://localhost:8080/"
        },
        "outputId": "8f4d7e57-ff11-4c7c-e953-47d87d51d5d4"
      },
      "execution_count": null,
      "outputs": [
        {
          "output_type": "stream",
          "name": "stderr",
          "text": [
            "100%|██████████| 170M/170M [00:05<00:00, 32.8MB/s]\n"
          ]
        }
      ]
    },
    {
      "cell_type": "code",
      "source": [
        "len(train_loader), len(val_loader)"
      ],
      "metadata": {
        "id": "0jDRfQSa3fML",
        "colab": {
          "base_uri": "https://localhost:8080/"
        },
        "outputId": "d36ae225-dbf2-4f12-826f-48cb4b4cf174"
      },
      "execution_count": null,
      "outputs": [
        {
          "output_type": "execute_result",
          "data": {
            "text/plain": [
              "(352, 40)"
            ]
          },
          "metadata": {},
          "execution_count": 12
        }
      ]
    },
    {
      "cell_type": "markdown",
      "source": [
        "# Trainer Function\n",
        "\n",
        "In the original GoogleNet paper they compute:\n",
        "\n",
        "$$\n",
        "\\mathcal{L} = \\mathcal{L}_{main} + \\alpha\\mathcal{L}_{aux_1} + \\alpha\\mathcal{L}_{aux_2}\n",
        "$$\n",
        "\n",
        "where each $\\mathcal{L}_{*}$ is the supervised classification loss (cross-entropy). The original paper used $\\alpha = 0.3$ on each aux head.\n",
        "\n",
        "TODO:\n",
        "\n",
        "- Play with different learning rate values.\n",
        "- More training epochs.\n",
        "- Improved LR schedulers, e.g., Cosine decay with warmup."
      ],
      "metadata": {
        "id": "-KCrxVnA8kf7"
      }
    },
    {
      "cell_type": "code",
      "source": [
        "def trainer(model, train_loader, val_loader, optimizer, criterion, scheduler, epochs,\n",
        "            device, discount_loss=0.3, eval_interval=1, verbose=False):\n",
        "\n",
        "    tr_loss_hist= []\n",
        "    vl_loss_hist= []\n",
        "\n",
        "    # --- training loop ---\n",
        "    for epoch in range(epochs):\n",
        "        model.train()\n",
        "        batch_loss= []\n",
        "        start= time.time()\n",
        "\n",
        "        # --- training steps ---\n",
        "        # iterating over all batches\n",
        "        for step, (images, labels) in enumerate(train_loader):\n",
        "            optimizer.zero_grad()\n",
        "\n",
        "            # --- minibatch construction ---\n",
        "            images= images.to(device, non_blocking=True)\n",
        "            labels= labels.to(device, non_blocking=True)\n",
        "\n",
        "            # --- forward pass and get loss ---\n",
        "            logits, logits_aux1, logits_aux2= model(images)\n",
        "            loss= criterion(logits, labels)\n",
        "            if logits_aux1 is not None and logits_aux2 is not None:\n",
        "                loss += (discount_loss * criterion(logits_aux1, labels))\n",
        "                loss += (discount_loss * criterion(logits_aux2, labels))\n",
        "            batch_loss.append(loss.item())\n",
        "\n",
        "            # --- backward pass to calculate the gradients ---\n",
        "            loss.backward()\n",
        "\n",
        "            # --- update the parameters using the gradient ---\n",
        "            optimizer.step()\n",
        "\n",
        "        # --- evaluation and track stats ---\n",
        "        tr_loss_hist.append(np.mean(batch_loss))\n",
        "\n",
        "        if epoch% eval_interval== 0 or epoch== epochs-1:\n",
        "            model.eval()\n",
        "            val_loss= []\n",
        "            with torch.no_grad():\n",
        "                for images, labels in val_loader:\n",
        "                    images, labels= images.to(device), labels.to(device)\n",
        "                    logits, _, _= model(images)\n",
        "                    loss_v= criterion(logits, labels)\n",
        "                    val_loss.append(loss_v.item())\n",
        "\n",
        "            val_loss= np.mean(val_loss)\n",
        "            end= time.time()\n",
        "            dt= end - start\n",
        "\n",
        "            if verbose:\n",
        "                print(f\"Epoch: {epoch} | Train Loss: {tr_loss_hist[-1]:.4f} | \"\n",
        "                      f\"Val Loss: {val_loss:.4f} | dt/epoch: {dt*1000:.2f}ms\")\n",
        "\n",
        "            # for decreasing learning rate -- the ReduceLROnPlateau is designed to be used per epoch\n",
        "            scheduler.step(val_loss)\n",
        "\n",
        "        vl_loss_hist.append(val_loss)\n",
        "\n",
        "    return tr_loss_hist, vl_loss_hist\n"
      ],
      "metadata": {
        "id": "utXaRI803fP6"
      },
      "execution_count": null,
      "outputs": []
    },
    {
      "cell_type": "code",
      "source": [
        "def evaluate_model(model, test_loader, device, verbose=False):\n",
        "    model.eval()\n",
        "    correct= 0\n",
        "    total= 0\n",
        "\n",
        "    with torch.no_grad():\n",
        "        for images, labels in test_loader:\n",
        "            images, labels= images.to(device), labels.to(device)\n",
        "            logits, _, _= model(images)\n",
        "            y_pred= torch.argmax(logits, dim=1)\n",
        "            correct += (y_pred == labels).sum().item()\n",
        "            total += labels.size(0)\n",
        "\n",
        "    acc= correct / total\n",
        "    if verbose:\n",
        "        print(f\"Accuracy: {(acc * 100):.2f}%\")\n",
        "\n",
        "    return acc\n"
      ],
      "metadata": {
        "id": "l2YXfTvJ3fTQ"
      },
      "execution_count": null,
      "outputs": []
    },
    {
      "cell_type": "code",
      "source": [
        "def plot_losses(train_loss, valid_loss):\n",
        "    # plot training and validation losses\n",
        "    plt.plot(train_loss, label='Train Loss')\n",
        "    plt.plot(valid_loss, label='Validation Loss')\n",
        "    plt.title('Losses')\n",
        "    plt.xlabel('Epochs')\n",
        "    plt.ylabel('Loss')\n",
        "    plt.legend()\n",
        "    plt.grid()"
      ],
      "metadata": {
        "id": "IMtV3Pp93fWw"
      },
      "execution_count": null,
      "outputs": []
    },
    {
      "cell_type": "markdown",
      "source": [
        "# Training setup using TF32, Fused AdamW, and Label Smoothing"
      ],
      "metadata": {
        "id": "KllBjAU78w7g"
      }
    },
    {
      "cell_type": "code",
      "source": [
        "use_fused= False\n",
        "\n",
        "if device== 'cuda': # TF32 computationally more efficient (slightly the same precision of FP32)\n",
        "    torch.set_float32_matmul_precision('high')\n",
        "    # create AdamW optimizer and use the fused version of it is available\n",
        "    fused_available= 'fused' in inspect.signature(torch.optim.AdamW).parameters\n",
        "    # fused is a lot faster when it is available and when running on cuda\n",
        "    use_fused= fused_available\n",
        "\n",
        "\n",
        "# --- GoogLeNet ---\n",
        "in_channels= 3\n",
        "num_classes= 10\n",
        "dropout= 0.1\n",
        "dropout_aux= 0.5\n",
        "\n",
        "model= GoogLeNet(in_channels, num_classes, dropout=dropout, dropout_aux=dropout_aux).to(device)\n",
        "count_parameters(model)\n",
        "\n",
        "\n",
        "# train_loader has size 352, so 20 epochs have 7,040 steps\n",
        "epochs= 20\n",
        "learning_rate= 5e-4\n",
        "\n",
        "optimizer= torch.optim.AdamW(\n",
        "    model.parameters(), lr=learning_rate, betas=(0.9, 0.999), weight_decay=1e-4,\n",
        "    fused=use_fused\n",
        ")\n",
        "print(f\"Using fused AdamW: {use_fused}\")\n",
        "criterion= nn.CrossEntropyLoss(label_smoothing=0.1)\n",
        "# for decreasing learning rate -- the ReduceLROnPlateau is designed to be used per epoch\n",
        "scheduler= ReduceLROnPlateau(optimizer, mode='min', factor=0.1, patience=3, min_lr=1e-6)\n"
      ],
      "metadata": {
        "id": "us8zn2YY3fZC",
        "colab": {
          "base_uri": "https://localhost:8080/"
        },
        "outputId": "70712bd4-42c3-42d4-9d12-debef0ca703c"
      },
      "execution_count": null,
      "outputs": [
        {
          "output_type": "stream",
          "name": "stdout",
          "text": [
            "Number of parameters: 10341566\n",
            "Using fused AdamW: True\n"
          ]
        }
      ]
    },
    {
      "cell_type": "code",
      "source": [
        "tr_loss, vl_loss= trainer(model, train_loader, val_loader, optimizer, criterion, scheduler,\n",
        "                          epochs, device, discount_loss=0.3, verbose=True)"
      ],
      "metadata": {
        "colab": {
          "base_uri": "https://localhost:8080/"
        },
        "outputId": "c532c678-24ac-420a-8197-556f660bfbef",
        "id": "ASgRKnSRHUF7"
      },
      "execution_count": null,
      "outputs": [
        {
          "output_type": "stream",
          "name": "stdout",
          "text": [
            "Epoch: 0 | Train Loss: 2.4615 | Val Loss: 1.3832 | dt/epoch: 82703.98ms\n",
            "Epoch: 1 | Train Loss: 1.8515 | Val Loss: 1.1233 | dt/epoch: 81818.11ms\n",
            "Epoch: 2 | Train Loss: 1.6141 | Val Loss: 1.0083 | dt/epoch: 81571.56ms\n",
            "Epoch: 3 | Train Loss: 1.4769 | Val Loss: 0.9938 | dt/epoch: 82008.37ms\n",
            "Epoch: 4 | Train Loss: 1.3897 | Val Loss: 0.9280 | dt/epoch: 81658.56ms\n",
            "Epoch: 5 | Train Loss: 1.3178 | Val Loss: 0.8731 | dt/epoch: 81350.17ms\n",
            "Epoch: 6 | Train Loss: 1.2554 | Val Loss: 0.9882 | dt/epoch: 81932.09ms\n",
            "Epoch: 7 | Train Loss: 1.2034 | Val Loss: 0.8392 | dt/epoch: 81699.19ms\n",
            "Epoch: 8 | Train Loss: 1.1650 | Val Loss: 0.7646 | dt/epoch: 81260.35ms\n",
            "Epoch: 9 | Train Loss: 1.1322 | Val Loss: 0.7921 | dt/epoch: 81910.11ms\n",
            "Epoch: 10 | Train Loss: 1.0959 | Val Loss: 0.8557 | dt/epoch: 82125.29ms\n",
            "Epoch: 11 | Train Loss: 1.0727 | Val Loss: 0.8341 | dt/epoch: 81308.84ms\n",
            "Epoch: 12 | Train Loss: 1.0422 | Val Loss: 0.7846 | dt/epoch: 81329.18ms\n",
            "Epoch: 13 | Train Loss: 0.9477 | Val Loss: 0.6862 | dt/epoch: 81634.99ms\n",
            "Epoch: 14 | Train Loss: 0.9185 | Val Loss: 0.6953 | dt/epoch: 81704.80ms\n",
            "Epoch: 15 | Train Loss: 0.9096 | Val Loss: 0.6875 | dt/epoch: 81502.99ms\n",
            "Epoch: 16 | Train Loss: 0.8993 | Val Loss: 0.6891 | dt/epoch: 81554.73ms\n",
            "Epoch: 17 | Train Loss: 0.8931 | Val Loss: 0.6875 | dt/epoch: 81573.78ms\n",
            "Epoch: 18 | Train Loss: 0.8857 | Val Loss: 0.6859 | dt/epoch: 81448.44ms\n",
            "Epoch: 19 | Train Loss: 0.8840 | Val Loss: 0.6845 | dt/epoch: 81376.61ms\n"
          ]
        }
      ]
    },
    {
      "cell_type": "code",
      "source": [
        "# plot\n",
        "plot_losses(tr_loss, vl_loss)"
      ],
      "metadata": {
        "colab": {
          "base_uri": "https://localhost:8080/",
          "height": 472
        },
        "outputId": "f5f7b7b4-edb9-4da1-c1e8-b72e3cc3b3f8",
        "id": "nStvVHyuHUF9"
      },
      "execution_count": null,
      "outputs": [
        {
          "output_type": "display_data",
          "data": {
            "text/plain": [
              "<Figure size 640x480 with 1 Axes>"
            ],
            "image/png": "[encoded data removed]"
          },
          "metadata": {}
        }
      ]
    },
    {
      "cell_type": "code",
      "source": [
        "effnetv1_acc= evaluate_model(model, test_loader, device, verbose=True)"
      ],
      "metadata": {
        "colab": {
          "base_uri": "https://localhost:8080/"
        },
        "outputId": "cdecbc16-555a-40fd-edf1-9ca4cfcb0b67",
        "id": "ZTW5cQ95HUF-"
      },
      "execution_count": null,
      "outputs": [
        {
          "output_type": "stream",
          "name": "stdout",
          "text": [
            "Accuracy: 91.89%\n"
          ]
        }
      ]
    },
    {
      "cell_type": "code",
      "source": [
        "# https://medium.com/aiguys/going-deeper-with-convolutions-the-inception-paper-explained-841a0c661fd3\n",
        "# https://medium.com/@karuneshu21/implement-inception-v1-in-pytorch-66bdbb3d0005\n",
        "# https://sahiltinky94.medium.com/know-about-googlenet-and-implementation-using-pytorch-92f827d675db\n",
        "# https://medium.com/nerd-for-tech/know-about-inception-v2-and-v3-implementation-using-pytorch-b1d96b2c1aa5"
      ],
      "metadata": {
        "id": "sV_6ONHS9K0w"
      },
      "execution_count": null,
      "outputs": []
    }
  ]
}