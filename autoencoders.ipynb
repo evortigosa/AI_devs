{
  "cells": [
    {
      "cell_type": "markdown",
      "metadata": {
        "id": "ERpmQylMsE1Y"
      },
      "source": [
        "# Autoencoders"
      ]
    },
    {
      "cell_type": "code",
      "execution_count": null,
      "metadata": {
        "id": "hIof4mPPsGaE"
      },
      "outputs": [],
      "source": [
        "import math\n",
        "import numpy as np\n",
        "import pandas as pd\n",
        "import matplotlib.pyplot as plt\n",
        "import torch\n",
        "import torch.nn as nn\n",
        "import torch.nn.functional as F\n",
        "import torchvision.datasets as datasets\n",
        "from tqdm import tqdm"
      ]
    },
    {
      "cell_type": "markdown",
      "metadata": {
        "id": "Lz6AW0aLCl6H"
      },
      "source": [
        "Autoencoders (AEs) are a type of neural network architecture designed to learn efficient data representations, primarily for the purpose of dimensionality reduction or feature learning, making AEs able to find a compressed representation of the input data such as image, video, text, speech, etc. By doing this, the autoencoder learns to extract the most important features of the input data and represent it in a lower-dimensional space. This compressed representation, also known as the \"latent space\", is typically of lower dimensionality than the original input data, which allows for more efficient storage and processing of the data. The goal of an autoencoder is to learn a compressed representation of the input data and use that compressed representation to reconstruct the original input data as closely as possible, while minimizing the reconstruction error.\n",
        "\n",
        "**Architecture of autoencoders:** Autoencoder consists of two main types of networks parts: an encoder and a decoder. The encoder takes in an input data sample and maps it to a lower-dimensional latent representation, also known as a code or bottleneck because it compresses the input data while retaining its important features. The size of the bottleneck, also known as the encoding dimension, is a hyperparameter that is set before the training of the model and it's usually smaller than the size of the original input data. The decoder then takes this lower-dimensional representation and maps it back to the original input data space, reconstructing the input data as closely as possible. However, it is important to note that this reconstruction is lossy, meaning that the reconstructed output may not be an exact copy of the original input. This is because the autoencoder is trained to minimize the reconstruction error, which measures the difference between the original input and the reconstructed output. Therefore, the reconstructed output may have some loss of information compared to the original input."
      ]
    },
    {
      "cell_type": "code",
      "execution_count": null,
      "metadata": {
        "id": "py5oBJpBDW3Y"
      },
      "outputs": [],
      "source": [
        "# setting the device\n",
        "device= 'cuda' if torch.cuda.is_available() else 'cpu'"
      ]
    },
    {
      "cell_type": "markdown",
      "metadata": {
        "id": "sIHnJjnjLoZg"
      },
      "source": [
        "# Data processing\n",
        "\n",
        "The pixel values fall in the range of 0 to 255. As a preprocessing step, these pixel values are normalized to fall from 0 to 1. This is achieved by dividing each pixel value by 255. This normalization helps in faster and more stable convergence during training."
      ]
    },
    {
      "cell_type": "code",
      "execution_count": null,
      "metadata": {
        "colab": {
          "base_uri": "https://localhost:8080/"
        },
        "id": "lZKrAYOO0_QF",
        "outputId": "2d673066-5ff9-4044-c093-1c693cafe83e"
      },
      "outputs": [
        {
          "output_type": "stream",
          "name": "stdout",
          "text": [
            "Downloading data from https://storage.googleapis.com/tensorflow/tf-keras-datasets/mnist.npz\n",
            "\u001b[1m11490434/11490434\u001b[0m \u001b[32m━━━━━━━━━━━━━━━━━━━━\u001b[0m\u001b[37m\u001b[0m \u001b[1m2s\u001b[0m 0us/step\n"
          ]
        }
      ],
      "source": [
        "# calling the dataset\n",
        "from tensorflow.keras.datasets import mnist\n",
        "\n",
        "# access the training and test data\n",
        "(Xtr_raw, Ytr_raw), (Xte_raw, Yte_raw)= mnist.load_data()\n",
        "\n",
        "# data reformating - adding a channel dimension\n",
        "Xtr_raw= np.expand_dims(Xtr_raw, 1) # Grayscale images have 1 channel\n",
        "Xte_raw= np.expand_dims(Xte_raw, 1)\n",
        "\n",
        "# convert data to float32\n",
        "Xtr_raw= Xtr_raw.astype(np.float32)\n",
        "Xte_raw= Xte_raw.astype(np.float32)\n",
        "\n",
        "\n",
        "IMG_MAXVAL= 255.0\n",
        "\n",
        "# normalizing the training data\n",
        "Xtr_raw /= IMG_MAXVAL\n",
        "\n",
        "# normalizing the test data\n",
        "Xte_raw /= IMG_MAXVAL\n"
      ]
    },
    {
      "cell_type": "code",
      "execution_count": null,
      "metadata": {
        "colab": {
          "base_uri": "https://localhost:8080/"
        },
        "id": "ZDFqiHWesGoB",
        "outputId": "276bf78b-8725-4de4-f5ce-625bee870be2"
      },
      "outputs": [
        {
          "output_type": "stream",
          "name": "stdout",
          "text": [
            "Shape of training: Xtr - torch.Size([48000, 1, 28, 28]), Ytr - torch.Size([48000, 10])\n",
            "Shape of dev data: Xdev - torch.Size([12000, 1, 28, 28]), Ydev - torch.Size([12000, 10])\n",
            "Shape of test data: Xte - torch.Size([10000, 1, 28, 28]), Yte - torch.Size([10000, 10])\n"
          ]
        }
      ],
      "source": [
        "# converting data to pytorch type\n",
        "Xtr= torch.tensor(Xtr_raw, requires_grad=True).to(device)\n",
        "Ytr= torch.tensor(Ytr_raw).to(device)\n",
        "Xte= torch.tensor(Xte_raw, requires_grad=True).to(device)\n",
        "Yte= torch.tensor(Yte_raw).to(device)\n",
        "\n",
        "# transforming labels from numbers to one-hot vectors of length 10\n",
        "Ytr= F.one_hot(Ytr.type(torch.int64), num_classes=10).type(torch.float32)\n",
        "Yte= F.one_hot(Yte.type(torch.int64), num_classes=10).type(torch.float32)\n",
        "\n",
        "# creating a dev dataset from training data\n",
        "tr_size= int(0.8*Xtr.shape[0])\n",
        "\n",
        "Xdev= Xtr[tr_size:]\n",
        "Ydev= Ytr[tr_size:]\n",
        "\n",
        "Xtr= Xtr[:tr_size]\n",
        "Ytr= Ytr[:tr_size]\n",
        "\n",
        "print(f'Shape of training: Xtr - {Xtr.shape}, Ytr - {Ytr.shape}')\n",
        "print(f'Shape of dev data: Xdev - {Xdev.shape}, Ydev - {Ydev.shape}')\n",
        "print(f'Shape of test data: Xte - {Xte.shape}, Yte - {Yte.shape}')"
      ]
    },
    {
      "cell_type": "markdown",
      "metadata": {
        "id": "-YVKpJdkjvMe"
      },
      "source": [
        "Unsupervised learning and Autoencoders:\n",
        "\n",
        "https://www.youtube.com/watch?v=ekyBklxwQMU 32:05min\n",
        "\n",
        "**Unsupervised feature learning:** After training the Autoencoder, we can throw away the decoder, refresh the FC network of at the end of the encoder and fine tune it as as classifier (updating the code hear to something like the backbone-head archtecture we implemented for SSL).\n",
        "\n",
        "Therefore, Autoencoders can reconstruct data and can learn features to initialize a supervised model. We can also use them to generate data by learning probability distributions about our data (latent spaces) and how probability distributions can fit together to generate datasets."
      ]
    },
    {
      "cell_type": "markdown",
      "metadata": {
        "id": "20VEZINqMGOb"
      },
      "source": [
        "# Contractive autoencoder\n",
        "\n",
        "It is a type of AE where the regularization term is based on the contractive property. The contractive property refers to the fact that Contractive autoencoders work on the basis that similar inputs should have similar encodings and a similar latent space representation. It means that the latent space should not vary by a huge amount for minor variations in the input. Therefore, a contractive autoencoder (CAE) is designed to learn a compressed representation of the input data that is insensitive to small perturbations. As a result, the encoding layer \"contracts\" the input data into a compressed representation that captures the essential features of the data.\n",
        "\n",
        "https://medium.com/@ompramod9921/autoencoders-explained-a223a5268618"
      ]
    },
    {
      "cell_type": "code",
      "execution_count": null,
      "metadata": {
        "id": "RHmfYCD_zZGN"
      },
      "outputs": [],
      "source": [
        "class Encoder(nn.Module):\n",
        "    \"\"\"\n",
        "    Define the encoder.\n",
        "    \"\"\"\n",
        "\n",
        "    def __init__(self, image_size, input_chs, hidden_chs, output_chs,\n",
        "                 kernels=3, paddings=1, max_pools=2, embedding_dim=1) -> None:\n",
        "        super(Encoder, self).__init__()\n",
        "        # convolutional layers\n",
        "        self.conv_in= nn.Conv2d(input_chs, hidden_chs[0], kernels, padding=paddings)\n",
        "        self.m_pool1= nn.MaxPool2d(max_pools)\n",
        "        self.activ1= nn.ReLU()\n",
        "\n",
        "        self.conv_hn= nn.Conv2d(hidden_chs[0], hidden_chs[1], kernels, padding=paddings)\n",
        "        self.m_pool2= nn.MaxPool2d(max_pools)\n",
        "        self.activ2= nn.ReLU()\n",
        "\n",
        "        self.conv_out= nn.Conv2d(hidden_chs[1], output_chs, kernels, padding=paddings)\n",
        "        self.m_pool3= nn.MaxPool2d(max_pools)\n",
        "        self.activ3= nn.ReLU()\n",
        "\n",
        "        self.flatten= nn.Flatten()\n",
        "        # compute the flattened size after convolutions\n",
        "        self.flat_size= ((image_size//(max_pools**3))**2) * output_chs\n",
        "        # fully connected layer to create embeddings\n",
        "        self.fc_out= nn.Linear(self.flat_size, embedding_dim)\n",
        "\n",
        "        for p in self.parameters():\n",
        "            if p.dim()> 1:\n",
        "                nn.init.kaiming_normal_(p, nonlinearity='relu')\n",
        "\n",
        "\n",
        "    def forward(self, x):\n",
        "        x= self.activ1(self.m_pool1(self.conv_in(x)))\n",
        "        x= self.activ2(self.m_pool2(self.conv_hn(x)))\n",
        "        x= self.activ3(self.m_pool3(self.conv_out(x)))\n",
        "        x= self.fc_out(self.flatten(x))\n",
        "\n",
        "        return x\n"
      ]
    },
    {
      "cell_type": "markdown",
      "metadata": {
        "id": "6loUChPnQvz_"
      },
      "source": [
        "Upsampling and convolution transpose:\n",
        "\n",
        "https://www.youtube.com/watch?v=ByjaPdWXKJ4 17:00min\n"
      ]
    },
    {
      "cell_type": "code",
      "execution_count": null,
      "metadata": {
        "id": "PTZ-cbuIzZJ-"
      },
      "outputs": [],
      "source": [
        "class Decoder(nn.Module):\n",
        "    \"\"\"\n",
        "    Define the decoder.\n",
        "    \"\"\"\n",
        "\n",
        "    def __init__(self, embedding_dim, output_linear,\n",
        "                 input_chs, hidden_chs, output_chs, kernels=3, paddings=1, strides=2) -> None:\n",
        "        super(Decoder, self).__init__()\n",
        "        # fully connected layer to reshape flatten tensor to 2D tensor\n",
        "        self.fc_in= nn.Linear(embedding_dim, output_linear)\n",
        "        unflat_size= int((output_linear // input_chs)**0.5)\n",
        "        unflat_dims= torch.Size([input_chs, unflat_size, unflat_size])\n",
        "        self.make2d= nn.Unflatten(1, unflat_dims)\n",
        "\n",
        "        # convT layers -- in_channels, out_channels, kernel_size, stride, padding, output_padding\n",
        "        self.convT_in= nn.ConvTranspose2d(input_chs, input_chs, kernels, strides, paddings, paddings)\n",
        "        self.activ1= nn.ReLU()\n",
        "        self.convT_hn= nn.ConvTranspose2d(input_chs, hidden_chs[0], kernels, strides, paddings-1, paddings)\n",
        "        self.activ2= nn.ReLU()\n",
        "        self.convT_out= nn.ConvTranspose2d(hidden_chs[0], hidden_chs[1], kernels, strides, paddings, paddings)\n",
        "        self.activ3= nn.ReLU()\n",
        "        # final convolutional layer to generate output image\n",
        "        self.conv_out= nn.Conv2d(hidden_chs[1], output_chs, kernels, padding=paddings)\n",
        "\n",
        "        for p in self.parameters():\n",
        "            if p.dim()> 1:\n",
        "                nn.init.kaiming_normal_(p, nonlinearity='relu')\n",
        "\n",
        "\n",
        "    def forward(self, x):\n",
        "        x= self.make2d(self.fc_in(x))\n",
        "        x= self.activ1(self.convT_in(x))\n",
        "        x= self.activ2(self.convT_hn(x))\n",
        "        x= self.activ3(self.convT_out(x))\n",
        "        x= self.conv_out(x)\n",
        "\n",
        "        return F.sigmoid(x)\n"
      ]
    },
    {
      "cell_type": "code",
      "execution_count": null,
      "metadata": {
        "id": "A4hB4KMnnAeT"
      },
      "outputs": [],
      "source": [
        "# https://pyimagesearch.com/2023/07/17/implementing-a-convolutional-autoencoder-with-pytorch/"
      ]
    },
    {
      "cell_type": "code",
      "execution_count": null,
      "metadata": {
        "id": "QUGuT2mwHHwT"
      },
      "outputs": [],
      "source": [
        "class Autoencoder(nn.Module):\n",
        "    \"\"\"\n",
        "    Define the autoencoder (encoder-decoder) model.\n",
        "    \"\"\"\n",
        "\n",
        "    def __init__(self, image_size, input_chs, hidden_chs, output_chs, embedding_dim,\n",
        "                 kernels=3, paddings=1, max_pools=2) -> None:\n",
        "        super(Autoencoder, self).__init__()\n",
        "        self.encoder= Encoder(\n",
        "            image_size, input_chs, hidden_chs, output_chs, kernels, paddings, max_pools, embedding_dim\n",
        "        )\n",
        "\n",
        "        dec_input_chs= output_chs\n",
        "        dec_hidden_chs= hidden_chs[::-1]\n",
        "        dec_output_chs= input_chs\n",
        "        dec_strides= max_pools\n",
        "\n",
        "        self.decoder= Decoder(\n",
        "            embedding_dim, self.encoder.flat_size, dec_input_chs, dec_hidden_chs, dec_output_chs,\n",
        "            kernels, paddings, dec_strides\n",
        "        )\n",
        "\n",
        "\n",
        "    def encode(self, x):\n",
        "        encoded= self.encoder(x)\n",
        "\n",
        "        return encoded\n",
        "\n",
        "\n",
        "    def decode(self, x):\n",
        "        decoded= self.decoder(x)\n",
        "\n",
        "        return decoded\n",
        "\n",
        "\n",
        "    def forward(self, x):\n",
        "        encoded= self.encode(x)\n",
        "        decoded= self.decode(encoded)\n",
        "\n",
        "        return encoded, decoded\n"
      ]
    },
    {
      "cell_type": "code",
      "execution_count": null,
      "metadata": {
        "colab": {
          "base_uri": "https://localhost:8080/"
        },
        "id": "18cLPd2Ltr26",
        "outputId": "9cd0ef21-d882-4934-d322-0d6dd3c42a7b"
      },
      "outputs": [
        {
          "data": {
            "text/plain": [
              "torch.Size([1, 64])"
            ]
          },
          "execution_count": 8,
          "metadata": {},
          "output_type": "execute_result"
        }
      ],
      "source": [
        "# encoder defs\n",
        "image_size= Xtr.shape[2]\n",
        "input_chs= Xtr.shape[1]\n",
        "hidden_chs= [32,64]\n",
        "output_chs= 128\n",
        "kernels=3\n",
        "paddings=1\n",
        "max_pools=2\n",
        "embedding_dim= 64\n",
        "\n",
        "enc_model= Encoder(image_size, input_chs, hidden_chs, output_chs, kernels, paddings, max_pools,\n",
        "                   embedding_dim).to(device)\n",
        "\n",
        "# Encode a sample image and generate a latent vector\n",
        "y_enc= enc_model(Xtr[:1])\n",
        "y_enc.shape"
      ]
    },
    {
      "cell_type": "code",
      "execution_count": null,
      "metadata": {
        "colab": {
          "base_uri": "https://localhost:8080/"
        },
        "id": "YlOcknnB3cYO",
        "outputId": "dbfc422f-19a0-4b3d-e838-54e6b9c4aa7a"
      },
      "outputs": [
        {
          "data": {
            "text/plain": [
              "torch.Size([1, 1, 28, 28])"
            ]
          },
          "execution_count": 9,
          "metadata": {},
          "output_type": "execute_result"
        }
      ],
      "source": [
        "# decoder defs\n",
        "embedding_dim= y_enc.shape[1]\n",
        "output_linear= enc_model.flat_size\n",
        "input_chs= 128\n",
        "hidden_chs= [64,32]\n",
        "output_chs= Xtr.shape[1]\n",
        "kernels=3\n",
        "paddings=1\n",
        "strides= max_pools\n",
        "\n",
        "dec_model= Decoder(embedding_dim, output_linear,\n",
        "                   input_chs, hidden_chs, output_chs, kernels, paddings, strides).to(device)\n",
        "\n",
        "# Decode a latent vector\n",
        "y_dec= dec_model(y_enc)\n",
        "y_dec.shape"
      ]
    },
    {
      "cell_type": "code",
      "execution_count": null,
      "metadata": {
        "colab": {
          "base_uri": "https://localhost:8080/"
        },
        "id": "FAc7Y9wa-zR2",
        "outputId": "ab6933c9-2ac6-4ebc-c902-11aacc86b332"
      },
      "outputs": [
        {
          "data": {
            "text/plain": [
              "(torch.Size([1, 64]), torch.Size([1, 1, 28, 28]))"
            ]
          },
          "execution_count": 31,
          "metadata": {},
          "output_type": "execute_result"
        }
      ],
      "source": [
        "# autoencoder defs\n",
        "image_size= Xtr.shape[2]\n",
        "input_chs= Xtr.shape[1]\n",
        "hidden_chs= [32,64]\n",
        "output_chs= 128\n",
        "embedding_dim= 64\n",
        "kernels=3\n",
        "paddings=1\n",
        "max_pools=2\n",
        "\n",
        "ae_model= Autoencoder(image_size, input_chs, hidden_chs, output_chs, embedding_dim,\n",
        "                      kernels, paddings, max_pools).to(device)\n",
        "\n",
        "# Encode a sample image and decode its latent vector\n",
        "y_en, y_ae= ae_model(Xtr[:1])\n",
        "y_en.shape, y_ae.shape"
      ]
    },
    {
      "cell_type": "code",
      "execution_count": null,
      "metadata": {
        "colab": {
          "base_uri": "https://localhost:8080/"
        },
        "id": "KEY4FQnnBIqH",
        "outputId": "50ca2960-a6d2-491d-e0f4-11ac7a679025"
      },
      "outputs": [
        {
          "name": "stdout",
          "output_type": "stream",
          "text": [
            "Number of parameters: 481473\n"
          ]
        },
        {
          "data": {
            "text/plain": [
              "Autoencoder(\n",
              "  (encoder): Encoder(\n",
              "    (conv_in): Conv2d(1, 32, kernel_size=(3, 3), stride=(1, 1), padding=(1, 1))\n",
              "    (m_pool1): MaxPool2d(kernel_size=2, stride=2, padding=0, dilation=1, ceil_mode=False)\n",
              "    (activ1): ReLU()\n",
              "    (conv_hn): Conv2d(32, 64, kernel_size=(3, 3), stride=(1, 1), padding=(1, 1))\n",
              "    (m_pool2): MaxPool2d(kernel_size=2, stride=2, padding=0, dilation=1, ceil_mode=False)\n",
              "    (activ2): ReLU()\n",
              "    (conv_out): Conv2d(64, 128, kernel_size=(3, 3), stride=(1, 1), padding=(1, 1))\n",
              "    (m_pool3): MaxPool2d(kernel_size=2, stride=2, padding=0, dilation=1, ceil_mode=False)\n",
              "    (activ3): ReLU()\n",
              "    (flatten): Flatten(start_dim=1, end_dim=-1)\n",
              "    (fc_out): Linear(in_features=1152, out_features=64, bias=True)\n",
              "  )\n",
              "  (decoder): Decoder(\n",
              "    (fc_in): Linear(in_features=64, out_features=1152, bias=True)\n",
              "    (make2d): Unflatten(dim=1, unflattened_size=torch.Size([128, 3, 3]))\n",
              "    (convT_in): ConvTranspose2d(128, 128, kernel_size=(3, 3), stride=(2, 2), padding=(1, 1), output_padding=(1, 1))\n",
              "    (activ1): ReLU()\n",
              "    (convT_hn): ConvTranspose2d(128, 64, kernel_size=(3, 3), stride=(2, 2), output_padding=(1, 1))\n",
              "    (activ2): ReLU()\n",
              "    (convT_out): ConvTranspose2d(64, 32, kernel_size=(3, 3), stride=(2, 2), padding=(1, 1), output_padding=(1, 1))\n",
              "    (activ3): ReLU()\n",
              "    (conv_out): Conv2d(32, 1, kernel_size=(3, 3), stride=(1, 1), padding=(1, 1))\n",
              "  )\n",
              ")"
            ]
          },
          "execution_count": 32,
          "metadata": {},
          "output_type": "execute_result"
        }
      ],
      "source": [
        "total_params= sum(p.numel() for p in ae_model.parameters() if p.requires_grad)\n",
        "print(f'Number of parameters: {total_params}')\n",
        "\n",
        "ae_model"
      ]
    },
    {
      "cell_type": "markdown",
      "metadata": {
        "id": "y5sBCAK-DyJg"
      },
      "source": [
        "# Contractive Loss\n",
        "\n",
        "In the context of machine learning, perturbations refer to small changes or variations made to the input data in order to study the behaviour of a model or to improve its robustness by testing its ability to generalize to slightly different inputs. These perturbations can be intentional or random, and can be applied to different types of data, such as images, text, and numerical data. For example, in the context of image classification, perturbations can be applied to an image by adding small amounts of noise or changing the brightness, contrast, or orientation of the image. By doing so, we can study how the classification model responds to different types of input variations and assess its robustness to different types of noise or image transformations.\n",
        "\n",
        "This is achieved by adding a penalty term to the loss function that measures the sensitivity of the encoding layer to small changes in the input data. The total loss function of a contractive autoencoder is a combination of two terms: the reconstruction loss ($L_{recon}$) and a regularization term ($\\lambda * ||J_f(x)||^2$). The reconstruction loss is the same as in a standard autoencoder and measures the difference between the input and the reconstructed output. The regularization term, on the other hand, penalizes the encoding layer for being too sensitive to small changes in the input data.\n",
        "\n",
        "The squared Frobenius norm of the Jacobian matrix measures the sensitivity of the encoding layer to small changes in the input data. A higher norm value implies that the encoding layer is more sensitive to input perturbations, and a lower norm value implies that the encoding layer is more robust to input variations. Therefore, minimizing the squared Frobenius norm encourages the encoding layer to learn a more robust representation of the input data."
      ]
    },
    {
      "cell_type": "code",
      "execution_count": null,
      "metadata": {
        "id": "KU_zQMGHSc9G"
      },
      "outputs": [],
      "source": [
        "class ContractiveAutoencoderLoss(nn.Module):\n",
        "    \"\"\"\n",
        "    Define the contractive autoencoder loss function.\n",
        "    \"\"\"\n",
        "\n",
        "    def __init__(self, penalty_lambda=1e-4) -> None:\n",
        "        super().__init__()\n",
        "        self.penalty_lambda= penalty_lambda\n",
        "\n",
        "\n",
        "    def forward(self, y_pred_enc, y_pred, y_true):\n",
        "        # calculate the reconstruction loss\n",
        "        reconstruction_loss_fn= nn.MSELoss()\n",
        "        reconstruction_loss= reconstruction_loss_fn(y_pred, y_true)\n",
        "\n",
        "        # calculate the contractive penalty\n",
        "        y_pred_enc.backward(torch.ones(y_pred_enc.size()).to(device), retain_graph=True)\n",
        "        # Frobenius norm - the square root of the sum of the squares of all the Jacobian matrix entries\n",
        "        contractive_penalty= torch.sqrt(torch.sum(torch.pow(y_true.grad, 2)))\n",
        "        y_true.grad.data.zero_()\n",
        "\n",
        "        loss= reconstruction_loss + self.penalty_lambda * contractive_penalty\n",
        "\n",
        "        return loss   # return the total loss\n"
      ]
    },
    {
      "cell_type": "code",
      "execution_count": null,
      "metadata": {
        "id": "NdV6--9ZzZRa"
      },
      "outputs": [],
      "source": [
        "# https://stackoverflow.com/questions/58249160/how-to-implement-contractive-autoencoder-in-pytorch"
      ]
    },
    {
      "cell_type": "markdown",
      "metadata": {
        "id": "O73-HvX5p93i"
      },
      "source": [
        "# Train the Autoencoder"
      ]
    },
    {
      "cell_type": "code",
      "execution_count": null,
      "metadata": {
        "id": "6NSu72yvzZVW"
      },
      "outputs": [],
      "source": [
        "from torch.optim.lr_scheduler import ReduceLROnPlateau\n",
        "\n",
        "def c_autoencoder_training(model, learning_rate=1e-3, epochs=500, eval_interval=5, batches:bool=True,\n",
        "                           batch_size=64, shuffle:bool=True, early_stop:bool=True, patience=5, cutoff=1e-9):\n",
        "\n",
        "    # defining key hyperparamaters explicitly (instead of hyperparamater search)\n",
        "    if batches:\n",
        "        epoch_size= math.floor(Xtr.shape[0]/ batch_size)\n",
        "    else:\n",
        "        batch_size= Xtr.shape[0]\n",
        "        epoch_size= 1\n",
        "\n",
        "    weight_decay=5e-4\n",
        "\n",
        "    # create a PyTorch optimizer\n",
        "    optimizer= torch.optim.Adam(model.parameters(), lr=learning_rate, weight_decay=weight_decay)\n",
        "\n",
        "    # loss function\n",
        "    loss_tr_fn= ContractiveAutoencoderLoss().forward\n",
        "    loss_ev_fn= nn.MSELoss()\n",
        "\n",
        "    # for decreasing learning rate\n",
        "    scheduler= ReduceLROnPlateau(optimizer, mode=\"min\", patience=5, factor=0.1, min_lr=1e-6)\n",
        "\n",
        "    # for early stoping\n",
        "    patience_count= 0\n",
        "    previous_loss= 1e10\n",
        "\n",
        "    # tracking statistics\n",
        "    train_hist= []\n",
        "    dev_hist= []\n",
        "    schedule_hist= []\n",
        "\n",
        "    # training data indexes\n",
        "    ix= torch.arange(0, Xtr.shape[0])\n",
        "\n",
        "    # --- training loop ---\n",
        "    for epoch in tqdm(range(epochs)):\n",
        "\n",
        "        batch_loss= []\n",
        "        batch_schedule= []\n",
        "\n",
        "        # iterating over all batches\n",
        "        if shuffle:\n",
        "            ix= torch.randperm(Xtr.shape[0])[:Xtr.shape[0]]\n",
        "\n",
        "        for i in range(epoch_size):\n",
        "\n",
        "            # --- minibatch construction ---\n",
        "            Xmb= Xtr[ix[(i * batch_size) : ((i+1) * batch_size)]]\n",
        "            Xmb.retain_grad()\n",
        "\n",
        "            # --- forward pass and get loss ---\n",
        "            model.train(True)\n",
        "            y_enc, y_enc_dec= model(Xmb)\n",
        "            loss_tr= loss_tr_fn(y_enc, y_enc_dec, Xmb)\n",
        "            batch_loss.append(loss_tr.item())\n",
        "\n",
        "            # --- backward pass to calculate the gradients ---\n",
        "            optimizer.zero_grad()\n",
        "            loss_tr.backward()\n",
        "\n",
        "            # --- update the parameters using the gradient ---\n",
        "            optimizer.step()\n",
        "\n",
        "\n",
        "        # --- evaluation and track stats ---\n",
        "        train_hist.append(np.mean(batch_loss))\n",
        "\n",
        "        if epoch% eval_interval== 0:\n",
        "            model.train(False)\n",
        "            with torch.no_grad():\n",
        "                _, y_enc_dec= model(Xdev)\n",
        "                loss_dev= loss_ev_fn(y_enc_dec, Xdev)\n",
        "\n",
        "        dev_hist.append(loss_dev.item())\n",
        "        schedule_hist.append(scheduler.get_last_lr())\n",
        "        scheduler.step(train_hist[-1]) # step learning rate scheduler\n",
        "\n",
        "\n",
        "        # --- early stopping -- calculating loss change ---\n",
        "        loss_change= np.abs(previous_loss - train_hist[-1])\n",
        "        # deciding to stop if loss is not decreasing fast enough\n",
        "        if (early_stop and loss_change< cutoff):\n",
        "            patience_count += 1\n",
        "\n",
        "            if patience_count> patience:\n",
        "                print('\\nEarly stopping at epoch {}'.format(epoch))\n",
        "                model.train(False)\n",
        "                break\n",
        "        else:\n",
        "            patience_count= 0\n",
        "        # setting current train loss as previous loss\n",
        "        previous_loss= train_hist[-1]\n",
        "\n",
        "\n",
        "    return train_hist, dev_hist, schedule_hist\n"
      ]
    },
    {
      "cell_type": "code",
      "execution_count": null,
      "metadata": {
        "id": "7Vro6qiGzZZ-"
      },
      "outputs": [],
      "source": [
        "def eval_autoencoder(model, test_data, loss_fn=nn.MSELoss()):\n",
        "\n",
        "    model.train(False)\n",
        "    with torch.no_grad():\n",
        "        _, y_enc_dec= model(test_data)\n",
        "        loss_test= loss_fn(y_enc_dec, test_data)\n",
        "\n",
        "    return loss_test.item()\n"
      ]
    },
    {
      "cell_type": "code",
      "execution_count": null,
      "metadata": {
        "colab": {
          "base_uri": "https://localhost:8080/"
        },
        "id": "SovwrC2qRB0t",
        "outputId": "36845161-4a35-4629-afb1-ee29dddc93c8"
      },
      "outputs": [
        {
          "name": "stderr",
          "output_type": "stream",
          "text": [
            "100%|██████████| 30/30 [38:57<00:00, 77.92s/it]\n"
          ]
        }
      ],
      "source": [
        "\"\"\"\n",
        "Reseting the Autoencoder model for contractive training.\n",
        "\"\"\"\n",
        "\n",
        "ae_model= Autoencoder(image_size, input_chs, hidden_chs, output_chs, embedding_dim,\n",
        "                      kernels, paddings, max_pools).to(device)\n",
        "\n",
        "train_hist, dev_hist, schedule_hist= c_autoencoder_training(ae_model, learning_rate=1e-3, epochs=30,\n",
        "                                                            batch_size=250, eval_interval=2, cutoff=1e-4)\n"
      ]
    },
    {
      "cell_type": "code",
      "execution_count": null,
      "metadata": {
        "colab": {
          "base_uri": "https://localhost:8080/"
        },
        "id": "E8g7YIVWzZcx",
        "outputId": "9d41ef5f-815c-4853-d5af-6c26abfe2097"
      },
      "outputs": [
        {
          "data": {
            "text/plain": [
              "0.010506288148462772"
            ]
          },
          "execution_count": 39,
          "metadata": {},
          "output_type": "execute_result"
        }
      ],
      "source": [
        "eval_autoencoder(ae_model, Xte)"
      ]
    },
    {
      "cell_type": "code",
      "execution_count": null,
      "metadata": {
        "colab": {
          "base_uri": "https://localhost:8080/",
          "height": 430
        },
        "id": "mGuPBSDHSEQp",
        "outputId": "14699f9c-ca70-469d-b128-6e0934201614"
      },
      "outputs": [
        {
          "data": {
            "image/png": "[encoded data removed]",
            "text/plain": [
              "<Figure size 640x480 with 1 Axes>"
            ]
          },
          "metadata": {},
          "output_type": "display_data"
        }
      ],
      "source": [
        "# ploting\n",
        "\n",
        "plt.plot(train_hist, label='train loss')\n",
        "plt.plot(dev_hist, label='dev loss')\n",
        "plt.legend()\n",
        "plt.show()"
      ]
    },
    {
      "cell_type": "code",
      "execution_count": null,
      "metadata": {
        "colab": {
          "base_uri": "https://localhost:8080/",
          "height": 308
        },
        "id": "rz3iofRO-eeq",
        "outputId": "5c427ba7-811b-4b8d-eebe-84c2b1ecbd94"
      },
      "outputs": [
        {
          "data": {
            "image/png": "[encoded data removed]",
            "text/plain": [
              "<Figure size 640x480 with 2 Axes>"
            ]
          },
          "metadata": {},
          "output_type": "display_data"
        }
      ],
      "source": [
        "# Select an image from the test set\n",
        "img_index= 0\n",
        "test_img= Xte[img_index:img_index+1]\n",
        "\n",
        "latent_vector, generated_img= ae_model(test_img)\n",
        "\n",
        "\n",
        "# Plot the original image and the generated image\n",
        "plt.subplot(1, 2, 1)\n",
        "plt.imshow(test_img[0][0].cpu().detach().numpy(), cmap='gray')\n",
        "plt.title('Original Image')\n",
        "\n",
        "plt.subplot(1, 2, 2)\n",
        "plt.imshow(generated_img[0][0].cpu().detach().numpy(), cmap='gray')\n",
        "plt.title('Generated Image')\n",
        "\n",
        "plt.show()"
      ]
    },
    {
      "cell_type": "markdown",
      "metadata": {
        "id": "Hj_3ICbZCgGn"
      },
      "source": [
        "# Denoising Autoencoders\n",
        "\n",
        "In traditional autoencoders, the goal is to learn a compressed representation that preserves the essential information in the data. However, if the input data is noisy or corrupted, the autoencoder may learn to encode and decode the noise as well, resulting in a poor compressed representation. Denoising autoencoders address this problem by learning to denoise the input data during training.\n",
        "\n",
        "One approach to encourage an autoencoder to learn a useful representation of data is to keep the code layer small. This forces the model to learn an intelligent representation of the data rather than simply copying the input to the output. Another approach is to add random noise to the input data and train the autoencoder to recover the original, noise-free data. This way the autoencoder can't simply copy the input to its output because the input also contains random noise. This technique is called a denoising autoencoder and helps ensure that the model is subtracting the noise and learning the underlying meaningful features of the data.\n",
        "\n",
        "The amount and type of noise added can vary depending on the problem being solved. For example, in image denoising tasks, random noise can be added to the pixels of an image to create a noisy version of the image. The noise can be added in various ways, such as Gaussian noise, salt-and-pepper noise, or random pixel dropout. Similarly, in speech denoising tasks, random noise can be added to the audio signal to create a noisy version of the speech."
      ]
    },
    {
      "cell_type": "markdown",
      "metadata": {
        "id": "-nOtHnH_Fq7W"
      },
      "source": [
        "**Data augmentation by adding Gaussian noise**"
      ]
    },
    {
      "cell_type": "code",
      "execution_count": null,
      "metadata": {
        "id": "i_BpnA5RGDer"
      },
      "outputs": [],
      "source": [
        "class NoiseAugment:\n",
        "    \"\"\"\n",
        "    A data augmentation module based on adding Gaussian noise to images.\n",
        "    \"\"\"\n",
        "\n",
        "    def __init__(self, sigma=0.1, norm=False) -> None:\n",
        "        self.sigma= sigma\n",
        "        self.norm = norm\n",
        "\n",
        "\n",
        "    def __call__(self, x):\n",
        "        # Generate Gaussian noise\n",
        "        noise= torch.randn(size=x.shape).to(device)\n",
        "        if self.norm:\n",
        "            noise -= noise.amin(dim=(1,2,3), keepdim=True)\n",
        "            noise /= noise.amax(dim=(1,2,3), keepdim=True)\n",
        "\n",
        "        # Clip the images to be between 0 and 1\n",
        "        return torch.clip((x + (self.sigma * noise)), min=0.0, max=1.0)\n"
      ]
    },
    {
      "cell_type": "code",
      "execution_count": null,
      "metadata": {
        "colab": {
          "base_uri": "https://localhost:8080/",
          "height": 432
        },
        "id": "ZGO2xwpWMUL4",
        "outputId": "22a1a974-6f4e-4391-af87-5b650644f020"
      },
      "outputs": [
        {
          "data": {
            "image/png": "[encoded data removed]",
            "text/plain": [
              "<Figure size 640x480 with 4 Axes>"
            ]
          },
          "metadata": {},
          "output_type": "display_data"
        }
      ],
      "source": [
        "# generating test augmentation\n",
        "a= NoiseAugment(sigma=0.2, norm=False)\n",
        "aug= a(Xtr[0:2])\n",
        "\n",
        "f, axarr= plt.subplots(2, 2)\n",
        "\n",
        "# original image - positive pair\n",
        "axarr[0, 0].imshow(Xtr[0][0].cpu().detach().numpy(), cmap='gray')\n",
        "axarr[0, 1].imshow(aug[0][0].detach().cpu().numpy(), cmap='gray')\n",
        "\n",
        "# original image - positive pair\n",
        "axarr[1, 0].imshow(Xtr[1][0].cpu().detach().numpy(), cmap='gray')\n",
        "axarr[1, 1].imshow(aug[1][0].detach().cpu().numpy(), cmap='gray')\n",
        "plt.show()"
      ]
    },
    {
      "cell_type": "markdown",
      "metadata": {
        "id": "pjCYN6NOFtqj"
      },
      "source": [
        "The noisy image X' can be obtained by adding the noise matrix N to the original image X, i.e., X' = X + N. The amount of noise added can be controlled by adjusting the value of sigma. For example, if sigma=0.1, then the noise added will be small and the resulting image will still be relatively clear. On the other hand, if sigma=1.0, then the noise added will be much larger and the resulting image will be much noisier.\n",
        "\n",
        "After adding the noise, we use these corrupted images as input to the denoising autoencoder and the network is then trained to reconstruct the original, clean data from the noisy input by minimizing the difference between the reconstructed output and the clean input."
      ]
    },
    {
      "cell_type": "markdown",
      "metadata": {
        "id": "VdcY7ZSseOAe"
      },
      "source": [
        "# Train the Denoising Autoencoder"
      ]
    },
    {
      "cell_type": "code",
      "execution_count": null,
      "metadata": {
        "id": "J-NxK2iSHJRt"
      },
      "outputs": [],
      "source": [
        "def d_autoencoder_training(model, learning_rate=1e-3, epochs=500, eval_interval=5, noise_level=0.1,\n",
        "                           batches:bool=True, batch_size=64, shuffle:bool=True,\n",
        "                           early_stop:bool=True, patience=5, cutoff=1e-9):\n",
        "\n",
        "    # defining key hyperparamaters explicitly (instead of hyperparamater search)\n",
        "    if batches:\n",
        "        epoch_size= math.floor(Xtr.shape[0]/ batch_size)\n",
        "    else:\n",
        "        batch_size= Xtr.shape[0]\n",
        "        epoch_size= 1\n",
        "\n",
        "    weight_decay=5e-4\n",
        "\n",
        "    # create a PyTorch optimizer\n",
        "    optimizer= torch.optim.Adam(model.parameters(), lr=learning_rate, weight_decay=weight_decay)\n",
        "\n",
        "    # loss function\n",
        "    loss_fn= nn.BCELoss()\n",
        "\n",
        "    # for decreasing learning rate\n",
        "    scheduler= ReduceLROnPlateau(optimizer, mode=\"min\", patience=5, factor=0.1, min_lr=1e-6)\n",
        "\n",
        "    # data augmentation function\n",
        "    augment_fn= NoiseAugment(sigma=noise_level)\n",
        "\n",
        "    # for early stoping\n",
        "    patience_count= 0\n",
        "    previous_loss= 1e10\n",
        "\n",
        "    # tracking statistics\n",
        "    train_hist= []\n",
        "    dev_hist= []\n",
        "    schedule_hist= []\n",
        "\n",
        "    # training data indexes\n",
        "    ix= torch.arange(0, Xtr.shape[0])\n",
        "\n",
        "    # --- training loop ---\n",
        "    for epoch in tqdm(range(epochs)):\n",
        "\n",
        "        batch_loss= []\n",
        "        batch_schedule= []\n",
        "\n",
        "        # iterating over all batches\n",
        "        if shuffle:\n",
        "            ix= torch.randperm(Xtr.shape[0])[:Xtr.shape[0]]\n",
        "\n",
        "        for i in range(epoch_size):\n",
        "\n",
        "            # --- minibatch construction ---\n",
        "            Xmb= Xtr[ix[(i * batch_size) : ((i+1) * batch_size)]]\n",
        "            # creating noise batches\n",
        "            Xmb_noise= augment_fn(Xmb)\n",
        "\n",
        "            # --- forward pass and get loss ---\n",
        "            model.train(True)\n",
        "            _, y_enc_dec= model(Xmb_noise)\n",
        "            loss_tr= loss_fn(y_enc_dec, Xmb)\n",
        "            batch_loss.append(loss_tr.item())\n",
        "\n",
        "            # --- backward pass to calculate the gradients ---\n",
        "            optimizer.zero_grad()\n",
        "            loss_tr.backward()\n",
        "\n",
        "            # --- update the parameters using the gradient ---\n",
        "            optimizer.step()\n",
        "\n",
        "\n",
        "        # --- evaluation and track stats ---\n",
        "        train_hist.append(np.mean(batch_loss))\n",
        "\n",
        "        if epoch% eval_interval== 0:\n",
        "            model.train(False)\n",
        "            with torch.no_grad():\n",
        "                Xdev_noise= augment_fn(Xdev)\n",
        "                _, y_enc_dec= model(Xdev_noise)\n",
        "                loss_dev= loss_fn(y_enc_dec, Xdev)\n",
        "\n",
        "        dev_hist.append(loss_dev.item())\n",
        "        schedule_hist.append(scheduler.get_last_lr())\n",
        "        scheduler.step(train_hist[-1]) # step learning rate scheduler\n",
        "\n",
        "\n",
        "        # --- early stopping -- calculating loss change ---\n",
        "        loss_change= np.abs(previous_loss - train_hist[-1])\n",
        "        # deciding to stop if loss is not decreasing fast enough\n",
        "        if (early_stop and loss_change< cutoff):\n",
        "            patience_count += 1\n",
        "\n",
        "            if patience_count> patience:\n",
        "                print('\\nEarly stopping at epoch {}'.format(epoch))\n",
        "                model.train(False)\n",
        "                break\n",
        "        else:\n",
        "            patience_count= 0\n",
        "        # setting current train loss as previous loss\n",
        "        previous_loss= train_hist[-1]\n",
        "\n",
        "\n",
        "    return train_hist, dev_hist, schedule_hist\n"
      ]
    },
    {
      "cell_type": "code",
      "execution_count": null,
      "metadata": {
        "colab": {
          "base_uri": "https://localhost:8080/"
        },
        "id": "VDhavZrbHJdo",
        "outputId": "f8be3df2-d61f-4043-b184-f45e308f32dc"
      },
      "outputs": [
        {
          "name": "stderr",
          "output_type": "stream",
          "text": [
            "100%|██████████| 30/30 [20:31<00:00, 41.06s/it]\n"
          ]
        }
      ],
      "source": [
        "\"\"\"\n",
        "Reseting the Autoencoder model for denoising training.\n",
        "\"\"\"\n",
        "\n",
        "dae_model= Autoencoder(image_size, input_chs, hidden_chs, output_chs, embedding_dim,\n",
        "                       kernels, paddings, max_pools).to(device)\n",
        "\n",
        "dtrain_hist, ddev_hist, dschedule_hist= d_autoencoder_training(dae_model, learning_rate=1e-3, epochs=30,\n",
        "                                                               noise_level=0.25, batch_size=250,\n",
        "                                                               eval_interval=2, cutoff=1e-4)"
      ]
    },
    {
      "cell_type": "code",
      "execution_count": null,
      "metadata": {
        "colab": {
          "base_uri": "https://localhost:8080/",
          "height": 447
        },
        "id": "1K_w37VgHJre",
        "outputId": "f9f5d311-1c90-4474-ae5a-9e6692cb1d07"
      },
      "outputs": [
        {
          "name": "stdout",
          "output_type": "stream",
          "text": [
            "0.0832749679684639\n"
          ]
        },
        {
          "data": {
            "image/png": "[encoded data removed]",
            "text/plain": [
              "<Figure size 640x480 with 1 Axes>"
            ]
          },
          "metadata": {},
          "output_type": "display_data"
        }
      ],
      "source": [
        "# ploting\n",
        "print(eval_autoencoder(dae_model, Xte, nn.BCELoss()))\n",
        "\n",
        "plt.plot(dtrain_hist, label='train loss')\n",
        "plt.plot(ddev_hist, label='dev loss')\n",
        "plt.legend()\n",
        "plt.show()"
      ]
    },
    {
      "cell_type": "code",
      "execution_count": null,
      "metadata": {
        "colab": {
          "base_uri": "https://localhost:8080/",
          "height": 228
        },
        "id": "COzKqgbXh5n-",
        "outputId": "f9fe47d7-710e-44e8-bc6b-9c289b3e7684"
      },
      "outputs": [
        {
          "data": {
            "image/png": "[encoded data removed]",
            "text/plain": [
              "<Figure size 640x480 with 3 Axes>"
            ]
          },
          "metadata": {},
          "output_type": "display_data"
        }
      ],
      "source": [
        "# Select an image from the test set\n",
        "img_index= 0\n",
        "test_img= Xte[img_index:img_index+1]\n",
        "\n",
        "a= NoiseAugment(sigma=0.25)\n",
        "noise_img= a(test_img)\n",
        "\n",
        "latent_vector, generated_img= dae_model(test_img)\n",
        "\n",
        "\n",
        "# Plot the original image and the generated image\n",
        "plt.subplot(1, 3, 1)\n",
        "plt.imshow(test_img[0][0].cpu().detach().numpy(), cmap='gray')\n",
        "plt.title('Original Image')\n",
        "\n",
        "plt.subplot(1, 3, 2)\n",
        "plt.imshow(noise_img[0][0].cpu().detach().numpy(), cmap='gray')\n",
        "plt.title('Noise Image')\n",
        "\n",
        "plt.subplot(1, 3, 3)\n",
        "plt.imshow(generated_img[0][0].cpu().detach().numpy(), cmap='gray')\n",
        "plt.title('Generated Image')\n",
        "\n",
        "plt.show()"
      ]
    },
    {
      "cell_type": "code",
      "execution_count": null,
      "metadata": {
        "id": "eSRfBP8TjFl4"
      },
      "outputs": [],
      "source": [
        "# https://medium.com/@ompramod9921/autoencoders-explained-9196c38af6f6\n",
        "# https://pyimagesearch.com/2023/07/17/implementing-a-convolutional-autoencoder-with-pytorch/"
      ]
    },
    {
      "cell_type": "markdown",
      "metadata": {
        "id": "mrRs4DSsi1oS"
      },
      "source": [
        "# Variational Autoencoders\n",
        "\n",
        "Variational Autoencoders (VAEs), which extend the capabilities of the traditional autoencoder framework by incorporating probabilistic elements into the encoding process. VAEs introduce a probabilistic approach where the encoder outputs a distribution over the latent space, typically modeled as a multivariate Gaussian. This allows VAEs to sample from this distribution during the decoding process, leading to the generation of new data instances.\n",
        "\n",
        "VAEs are part of a family of generative models that learn a probability distribution over the input data, allowing them to generate new samples that are similar to the training data. In essence, VAEs learn to model the underlying probability distribution of the input data, which allows them to generate new data points that are similar to the training data.\n",
        "\n",
        "VAEs use a loss function that combines two terms: a reconstruction loss, which measures the ability of the decoder to reconstruct the input from the latent space, and a regularization term, which measures the divergence between the learned distribution and a prior distribution over the latent space. The regularization term is usually implemented using the Kullback-Leibler divergence, which measures the difference between two probability distributions.\n",
        "\n",
        "Therefore, the key innovation of VAEs lies in their ability to generate new, high-quality data by learning a structured, continuous latent space. This is particularly important for generative modeling, where the goal is not just to compress data but to create new data samples that resemble the original dataset."
      ]
    },
    {
      "cell_type": "code",
      "execution_count": null,
      "metadata": {
        "id": "Q7evIcNyi-6B"
      },
      "outputs": [],
      "source": [
        "class VAE(Autoencoder):\n",
        "    \"\"\"\n",
        "    Define the Variational Autoencoder model.\n",
        "    \"\"\"\n",
        "\n",
        "    def __init__(self, image_size, input_chs, hidden_chs, output_chs, embedding_dim,\n",
        "                 kernels=3, paddings=1, max_pools=2) -> None:\n",
        "        super(VAE, self).__init__(image_size, input_chs, hidden_chs, output_chs, embedding_dim,\n",
        "                                  kernels, paddings, max_pools)\n",
        "        # define mu and log(variance) layers for reparameterization\n",
        "        self.embedding_dim= embedding_dim\n",
        "        self.mu= nn.Linear(embedding_dim, embedding_dim)\n",
        "        self.log_var= nn.Linear(embedding_dim, embedding_dim)\n",
        "\n",
        "\n",
        "    def reparameterize(self, mu, log_var):\n",
        "        # compute the standard deviation from the log(variance)\n",
        "        std= torch.exp(0.5 * log_var)\n",
        "        # generate random noise using the same shape as std\n",
        "        gen_noise= torch.randn_like(std)\n",
        "\n",
        "        return mu + std * gen_noise # return the reparameterized sample\n",
        "\n",
        "\n",
        "    def forward(self, x):\n",
        "        encoded= self.encode(x)\n",
        "        mu= self.mu(encoded)                # compute the mean and log(variance) vectors\n",
        "        log_var= self.log_var(encoded)\n",
        "        z= self.reparameterize(mu, log_var) # reparameterize the latent variable\n",
        "        decoded= self.decode(z)\n",
        "\n",
        "        return encoded, decoded, mu, log_var\n"
      ]
    },
    {
      "cell_type": "code",
      "execution_count": null,
      "metadata": {
        "colab": {
          "base_uri": "https://localhost:8080/"
        },
        "id": "KH705sbfi_Bo",
        "outputId": "7f835817-b919-40e7-da83-9911b3ad3b52"
      },
      "outputs": [
        {
          "output_type": "stream",
          "name": "stdout",
          "text": [
            "Number of parameters: 489793\n"
          ]
        },
        {
          "output_type": "execute_result",
          "data": {
            "text/plain": [
              "VAE(\n",
              "  (encoder): Encoder(\n",
              "    (conv_in): Conv2d(1, 32, kernel_size=(3, 3), stride=(1, 1), padding=(1, 1))\n",
              "    (m_pool1): MaxPool2d(kernel_size=2, stride=2, padding=0, dilation=1, ceil_mode=False)\n",
              "    (activ1): ReLU()\n",
              "    (conv_hn): Conv2d(32, 64, kernel_size=(3, 3), stride=(1, 1), padding=(1, 1))\n",
              "    (m_pool2): MaxPool2d(kernel_size=2, stride=2, padding=0, dilation=1, ceil_mode=False)\n",
              "    (activ2): ReLU()\n",
              "    (conv_out): Conv2d(64, 128, kernel_size=(3, 3), stride=(1, 1), padding=(1, 1))\n",
              "    (m_pool3): MaxPool2d(kernel_size=2, stride=2, padding=0, dilation=1, ceil_mode=False)\n",
              "    (activ3): ReLU()\n",
              "    (flatten): Flatten(start_dim=1, end_dim=-1)\n",
              "    (fc_out): Linear(in_features=1152, out_features=64, bias=True)\n",
              "  )\n",
              "  (decoder): Decoder(\n",
              "    (fc_in): Linear(in_features=64, out_features=1152, bias=True)\n",
              "    (make2d): Unflatten(dim=1, unflattened_size=torch.Size([128, 3, 3]))\n",
              "    (convT_in): ConvTranspose2d(128, 128, kernel_size=(3, 3), stride=(2, 2), padding=(1, 1), output_padding=(1, 1))\n",
              "    (activ1): ReLU()\n",
              "    (convT_hn): ConvTranspose2d(128, 64, kernel_size=(3, 3), stride=(2, 2), output_padding=(1, 1))\n",
              "    (activ2): ReLU()\n",
              "    (convT_out): ConvTranspose2d(64, 32, kernel_size=(3, 3), stride=(2, 2), padding=(1, 1), output_padding=(1, 1))\n",
              "    (activ3): ReLU()\n",
              "    (conv_out): Conv2d(32, 1, kernel_size=(3, 3), stride=(1, 1), padding=(1, 1))\n",
              "  )\n",
              "  (mu): Linear(in_features=64, out_features=64, bias=True)\n",
              "  (log_var): Linear(in_features=64, out_features=64, bias=True)\n",
              ")"
            ]
          },
          "metadata": {},
          "execution_count": 9
        }
      ],
      "source": [
        "# autoencoder defs\n",
        "image_size= Xtr.shape[2]\n",
        "input_chs= Xtr.shape[1]\n",
        "hidden_chs= [32,64]\n",
        "output_chs= 128\n",
        "embedding_dim= 64\n",
        "kernels=3\n",
        "paddings=1\n",
        "max_pools=2\n",
        "\n",
        "vae_model= VAE(image_size, input_chs, hidden_chs, output_chs, embedding_dim,\n",
        "               kernels, paddings, max_pools).to(device)\n",
        "\n",
        "total_params= sum(p.numel() for p in vae_model.parameters() if p.requires_grad)\n",
        "print(f'Number of parameters: {total_params}')\n",
        "\n",
        "vae_model"
      ]
    },
    {
      "cell_type": "markdown",
      "metadata": {
        "id": "qeRb52gz5MsA"
      },
      "source": [
        "# Train the VAE"
      ]
    },
    {
      "cell_type": "code",
      "execution_count": null,
      "metadata": {
        "id": "xSyyMhEIi_Fl"
      },
      "outputs": [],
      "source": [
        "class KLD_Loss(nn.Module):\n",
        "    \"\"\"\n",
        "    Reconstruction + KL divergence losses summed over all elements and batch\n",
        "    see Appendix B from VAE paper:\n",
        "    Kingma and Welling. Auto-Encoding Variational Bayes. ICLR, 2014\n",
        "    https://arxiv.org/abs/1312.6114\n",
        "    \"\"\"\n",
        "\n",
        "    def __init__(self, reduction='sum') -> None:\n",
        "        super().__init__()\n",
        "        self.reduction= reduction\n",
        "\n",
        "\n",
        "    def forward(self, recon_x, true_x, mu, log_var):\n",
        "        # BCE loss between the reconstructed output and the input data\n",
        "        BCE= F.binary_cross_entropy(recon_x, true_x, reduction=self.reduction)\n",
        "        # KLD between the learned latent variable distribution and a std Gaussian distribution\n",
        "        KLD= -0.5 * torch.sum(1 + log_var - mu.pow(2) - log_var.exp())\n",
        "\n",
        "        if self.reduction=='mean':\n",
        "            KLD /= true_x.shape[0]\n",
        "\n",
        "        return BCE + KLD  # combine the two losses by adding them together\n"
      ]
    },
    {
      "cell_type": "code",
      "execution_count": null,
      "metadata": {
        "id": "x3saodAQi_IX"
      },
      "outputs": [],
      "source": [
        "def vae_autoencoder_training(model, learning_rate=1e-3, epochs=500, eval_interval=5, batches:bool=True,\n",
        "                             batch_size=64, shuffle:bool=True, early_stop:bool=True, patience=5, cutoff=1e-9):\n",
        "\n",
        "    # defining key hyperparamaters explicitly (instead of hyperparamater search)\n",
        "    if batches:\n",
        "        epoch_size= math.floor(Xtr.shape[0]/ batch_size)\n",
        "    else:\n",
        "        batch_size= Xtr.shape[0]\n",
        "        epoch_size= 1\n",
        "\n",
        "    weight_decay=5e-4\n",
        "\n",
        "    # create a PyTorch optimizer\n",
        "    optimizer= torch.optim.Adam(model.parameters(), lr=learning_rate, weight_decay=weight_decay)\n",
        "\n",
        "    # loss function\n",
        "    loss_fn= KLD_Loss().forward\n",
        "    loss_ev_fn= nn.MSELoss()\n",
        "\n",
        "    # for decreasing learning rate\n",
        "    scheduler= ReduceLROnPlateau(optimizer, mode=\"min\", patience=5, factor=0.1, min_lr=1e-6)\n",
        "\n",
        "    # for early stoping\n",
        "    patience_count= 0\n",
        "    previous_loss= 1e10\n",
        "\n",
        "    # tracking statistics\n",
        "    train_hist= []\n",
        "    dev_hist= []\n",
        "    schedule_hist= []\n",
        "\n",
        "    # training data indexes\n",
        "    ix= torch.arange(0, Xtr.shape[0])\n",
        "\n",
        "    # --- training loop ---\n",
        "    for epoch in tqdm(range(epochs)):\n",
        "\n",
        "        batch_loss= []\n",
        "        batch_schedule= []\n",
        "\n",
        "        # iterating over all batches\n",
        "        if shuffle:\n",
        "            ix= torch.randperm(Xtr.shape[0])[:Xtr.shape[0]]\n",
        "\n",
        "        for i in range(epoch_size):\n",
        "\n",
        "            # --- minibatch construction ---\n",
        "            Xmb= Xtr[ix[(i * batch_size) : ((i+1) * batch_size)]]\n",
        "\n",
        "            # --- forward pass and get loss ---\n",
        "            model.train(True)\n",
        "            _, y_dec, mu, log_var= model(Xmb)\n",
        "            loss_tr= loss_fn(y_dec, Xmb, mu, log_var)\n",
        "            batch_loss.append(loss_tr.item() / Xmb.shape[0]) # KLD_Loss returns a sum by default\n",
        "\n",
        "            # --- backward pass to calculate the gradients ---\n",
        "            optimizer.zero_grad()\n",
        "            loss_tr.backward()\n",
        "\n",
        "            # --- update the parameters using the gradient ---\n",
        "            optimizer.step()\n",
        "\n",
        "\n",
        "        # --- evaluation and track stats ---\n",
        "        train_hist.append(np.mean(batch_loss))\n",
        "\n",
        "        if epoch% eval_interval== 0:\n",
        "            model.train(False)\n",
        "            with torch.no_grad():\n",
        "                _, y_dec, mu, log_var= model(Xdev)\n",
        "                loss_dev= loss_fn(y_dec, Xdev, mu, log_var)\n",
        "\n",
        "        dev_hist.append(loss_dev.item() / Xdev.shape[0])\n",
        "        schedule_hist.append(scheduler.get_last_lr())\n",
        "        scheduler.step(train_hist[-1]) # step learning rate scheduler\n",
        "\n",
        "\n",
        "        # --- early stopping -- calculating loss change ---\n",
        "        loss_change= np.abs(previous_loss - train_hist[-1])\n",
        "        # deciding to stop if loss is not decreasing fast enough\n",
        "        if (early_stop and loss_change< cutoff):\n",
        "            patience_count += 1\n",
        "\n",
        "            if patience_count> patience:\n",
        "                print('\\nEarly stopping at epoch {}'.format(epoch))\n",
        "                model.train(False)\n",
        "                break\n",
        "        else:\n",
        "            patience_count= 0\n",
        "        # setting current train loss as previous loss\n",
        "        previous_loss= train_hist[-1]\n",
        "\n",
        "\n",
        "    return train_hist, dev_hist, schedule_hist\n"
      ]
    },
    {
      "cell_type": "code",
      "execution_count": null,
      "metadata": {
        "colab": {
          "base_uri": "https://localhost:8080/"
        },
        "id": "6OzxTcL45Uqo",
        "outputId": "fd393df4-5a6e-4671-cca7-a18b9dab907d"
      },
      "outputs": [
        {
          "output_type": "stream",
          "name": "stderr",
          "text": [
            "100%|██████████| 30/30 [20:20<00:00, 40.69s/it]\n"
          ]
        }
      ],
      "source": [
        "# autoencoder defs\n",
        "image_size= Xtr.shape[2]\n",
        "input_chs= Xtr.shape[1]\n",
        "hidden_chs= [32,64]\n",
        "output_chs= 128\n",
        "embedding_dim= 64\n",
        "kernels=3\n",
        "paddings=1\n",
        "max_pools=2\n",
        "\n",
        "vae_model= VAE(image_size, input_chs, hidden_chs, output_chs, embedding_dim,\n",
        "               kernels, paddings, max_pools).to(device)\n",
        "\n",
        "vae_train_hist, vae_dev_hist, vae_schedule_hist= vae_autoencoder_training(vae_model,\n",
        "                                                               learning_rate=1e-3, epochs=30,\n",
        "                                                               eval_interval=2, batch_size=250,\n",
        "                                                               cutoff=1e-4)\n"
      ]
    },
    {
      "cell_type": "code",
      "execution_count": null,
      "metadata": {
        "colab": {
          "base_uri": "https://localhost:8080/",
          "height": 431
        },
        "id": "gc40BcmTEmF-",
        "outputId": "acf9cc23-fe24-4978-8044-b646402b0bec"
      },
      "outputs": [
        {
          "output_type": "display_data",
          "data": {
            "text/plain": [
              "<Figure size 640x480 with 1 Axes>"
            ],
            "image/png": "[encoded data removed]"
          },
          "metadata": {}
        }
      ],
      "source": [
        "# ploting\n",
        "\n",
        "plt.plot(vae_train_hist, label='train loss')\n",
        "plt.plot(vae_dev_hist, label='dev loss')\n",
        "plt.legend()\n",
        "plt.show()"
      ]
    },
    {
      "cell_type": "code",
      "execution_count": null,
      "metadata": {
        "id": "auMpe9CfI25v"
      },
      "outputs": [],
      "source": [
        "def gen_samples(model, num_samples):\n",
        "    model.train(False)\n",
        "    with torch.no_grad():\n",
        "        # generate random noise\n",
        "        z= torch.randn(num_samples, model.embedding_dim).to(device)\n",
        "        samples= model.decode(z)\n",
        "\n",
        "    return samples\n"
      ]
    },
    {
      "cell_type": "code",
      "execution_count": null,
      "metadata": {
        "colab": {
          "base_uri": "https://localhost:8080/",
          "height": 150
        },
        "id": "0WIsvLVYImlC",
        "outputId": "bec0c9d6-e2f1-4e06-98e3-ea49c91dcada"
      },
      "outputs": [
        {
          "output_type": "display_data",
          "data": {
            "text/plain": [
              "<Figure size 640x480 with 5 Axes>"
            ],
            "image/png": "[encoded data removed]"
          },
          "metadata": {}
        }
      ],
      "source": [
        "samples= gen_samples(vae_model, 5)\n",
        "\n",
        "f, axarr= plt.subplots(1, 5)\n",
        "\n",
        "# original image - positive pair\n",
        "for i in range(samples.shape[0]):\n",
        "    axarr[i].imshow(samples[i][0].detach().cpu().numpy(), cmap='gray')\n",
        "\n",
        "plt.show()"
      ]
    },
    {
      "cell_type": "markdown",
      "metadata": {
        "id": "08zgvf7NQcyh"
      },
      "source": [
        "Variational Autoencoders (VAEs) have proven to be a groundbreaking advancement in the realm of machine learning and data generation.\n",
        "\n",
        "While simple autoencoders can reconstruct images, they struggle with generating new data. Variational autoencoders (VAEs) offer a more flexible approach by learning parameters of a distribution of the latent space that can be sampled to generate new data. The re-parametrization trick is used to make the sampling operation differentiable. VAEs offer an improvement over simple autoencoders and have many applications, such as generative modelling, anomaly detection, and feature learning."
      ]
    },
    {
      "cell_type": "code",
      "execution_count": null,
      "metadata": {
        "id": "ioJG5kTFi-s7"
      },
      "outputs": [],
      "source": [
        "# https://www.datacamp.com/tutorial/variational-autoencoders\n",
        "# https://medium.com/@sofeikov/implementing-variational-autoencoders-from-scratch-533782d8eb95"
      ]
    }
  ],
  "metadata": {
    "accelerator": "GPU",
    "colab": {
      "gpuType": "T4",
      "toc_visible": true,
      "provenance": []
    },
    "kernelspec": {
      "display_name": "Python 3",
      "name": "python3"
    },
    "language_info": {
      "name": "python"
    }
  },
  "nbformat": 4,
  "nbformat_minor": 0
}