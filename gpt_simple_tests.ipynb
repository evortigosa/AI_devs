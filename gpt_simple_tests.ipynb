{
  "nbformat": 4,
  "nbformat_minor": 0,
  "metadata": {
    "colab": {
      "provenance": [],
      "toc_visible": true
    },
    "kernelspec": {
      "name": "python3",
      "display_name": "Python 3"
    },
    "language_info": {
      "name": "python"
    }
  },
  "cells": [
    {
      "cell_type": "code",
      "source": [
        "import numpy as np\n",
        "import math\n",
        "import torch\n",
        "import torch.nn as nn\n",
        "import torch.nn.functional as F\n",
        "import torch.cuda as cuda\n",
        "from dataclasses import dataclass"
      ],
      "metadata": {
        "id": "c45ZEbZxv-we"
      },
      "execution_count": 1,
      "outputs": []
    },
    {
      "cell_type": "code",
      "source": [
        "\"\"\"\n",
        "gpt2:        n_layer=12, n_head=12, n_embed=768    #  124M params\n",
        "gpt2-medium: n_layer=24, n_head=16, n_embed=1024   #  350M params\n",
        "gpt2-large:  n_layer=36, n_head=20, n_embed=1280   #  774M params\n",
        "gpt2-xl:     n_layer=48, n_head=25, n_embed=1600   # 1558M params\n",
        "\"\"\""
      ],
      "metadata": {
        "id": "CXj55TPtmrAx"
      },
      "execution_count": null,
      "outputs": []
    },
    {
      "cell_type": "markdown",
      "source": [
        "# OpenAI GPT series"
      ],
      "metadata": {
        "id": "VZfl8oEaY89e"
      }
    },
    {
      "cell_type": "code",
      "source": [
        "class CausalSelfAttention(nn.Module):\n",
        "    def __init__(self, config) -> None:\n",
        "        super(CausalSelfAttention, self).__init__()\n",
        "        assert config.n_embed % config.n_head == 0\n",
        "        self.n_head = config.n_head\n",
        "        self.n_embed= config.n_embed\n",
        "\n",
        "        self.c_attn= nn.Linear(config.n_embed, 3 * config.n_embed)\n",
        "        self.c_proj= nn.Linear(config.n_embed, config.n_embed)\n",
        "\n",
        "        self.register_buffer('bias',\n",
        "            torch.tril(torch.ones(config.block_size, config.block_size))\n",
        "            .view(1, 1, config.block_size, config.block_size)\n",
        "        )\n",
        "\n",
        "    def forward(self, x):\n",
        "        B, T, C= x.size()\n",
        "        qkv= self.c_attn(x)\n",
        "        q, k, v= qkv.split(self.n_embed, dim=2)\n",
        "        k= k.view(B, T, self.n_head, C // self.n_head).transpose(1, 2)\n",
        "        q= q.view(B, T, self.n_head, C // self.n_head).transpose(1, 2)\n",
        "        v= v.view(B, T, self.n_head, C // self.n_head).transpose(1, 2)\n",
        "\n",
        "        att= (q @ k.transpose(-2, -1)) * (1.0 / math.sqrt(k.size(-1)))\n",
        "        att= att.masked_fill(self.bias[:,:,:T,:T] == 0, float('-inf'))\n",
        "        att= F.softmax(att, dim=-1)\n",
        "\n",
        "        y= att @ v\n",
        "        y= y.transpose(1, 2).contiguous().view(B, T, C)\n",
        "        y= self.c_proj(y)\n",
        "\n",
        "        return y\n",
        "\n",
        "\n",
        "class MLP(nn.Module):\n",
        "    def __init__(self, config) -> None:\n",
        "        super(MLP, self).__init__()\n",
        "        self.c_fc=   nn.Linear(config.n_embed, 4 * config.n_embed)\n",
        "        self.gelu=   nn.GELU(approximate='tanh')\n",
        "        self.c_proj= nn.Linear(4 * config.n_embed, config.n_embed)\n",
        "\n",
        "    def forward(self, x):\n",
        "        x= self.c_fc(x)\n",
        "        x= self.gelu(x)\n",
        "        x= self.c_proj(x)\n",
        "\n",
        "        return x\n",
        "\n",
        "\n",
        "class DecoderBlock(nn.Module):\n",
        "    def __init__(self, config) -> None:\n",
        "        super(DecoderBlock, self).__init__()\n",
        "        self.ln_1= nn.LayerNorm(config.n_embed)\n",
        "        self.attn= CausalSelfAttention(config)\n",
        "        self.ln_2= nn.LayerNorm(config.n_embed)\n",
        "        self.mlp = MLP(config)\n",
        "\n",
        "    def forward(self, x):\n",
        "        x= x + self.attn(self.ln_1(x))\n",
        "        x= x + self.mlp(self.ln_2(x))\n",
        "\n",
        "        return x\n",
        "\n",
        "\n",
        "class GPT2(nn.Module):\n",
        "    def __init__(self, config) -> None:\n",
        "        super(GPT2, self).__init__()\n",
        "        self.config= config\n",
        "        self.transformer= nn.ModuleDict(dict(\n",
        "            wte= nn.Embedding(config.vocab_size, config.n_embed),\n",
        "            wpe= nn.Embedding(config.block_size, config.n_embed),\n",
        "            h= nn.ModuleList([DecoderBlock(config) for _ in range(config.n_layer)]),\n",
        "            ln_f= nn.LayerNorm(config.n_embed)\n",
        "        ))\n",
        "        self.lm_head= nn.Linear(config.n_embed, config.vocab_size, bias=False)\n",
        "        self.transformer.wte.weight= self.lm_head.weight\n",
        "\n",
        "    def forward(self, idx, targets=None):\n",
        "        B, T= idx.size()\n",
        "        assert T <= self.config.block_size, f'Block size is only {self.config.block_size}'\n",
        "        pos= torch.arange(0, T, dtype=torch.long, device=idx.device)\n",
        "        pos_emb= self.transformer.wpe(pos)\n",
        "        tok_emb= self.transformer.wte(idx)\n",
        "        x= tok_emb + pos_emb\n",
        "\n",
        "        for block in self.transformer.h:\n",
        "            x= block(x)\n",
        "\n",
        "        x= self.transformer.ln_f(x)\n",
        "        logits= self.lm_head(x)\n",
        "\n",
        "        loss= None\n",
        "        if targets is not None:\n",
        "            loss= F.cross_entropy(logits.view(-1, logits.size(-1)), targets.view(-1))\n",
        "\n",
        "        return logits, loss\n",
        ""
      ],
      "metadata": {
        "id": "XCbADo7iv-28"
      },
      "execution_count": 2,
      "outputs": []
    },
    {
      "cell_type": "code",
      "source": [
        "@dataclass\n",
        "class GPTConfig:\n",
        "    block_size:int= 1024  # max sequence length\n",
        "    vocab_size:int= 50257 # number of tokens\n",
        "    n_layer:int= 12       # number of layers\n",
        "    n_head:int= 12        # number of heads\n",
        "    n_embed:int= 768      # embedding dimension\n",
        "\n",
        "\n",
        "model= GPT2(GPTConfig())\n",
        "model"
      ],
      "metadata": {
        "id": "nqRhpAhFawsJ",
        "colab": {
          "base_uri": "https://localhost:8080/"
        },
        "outputId": "060ffcee-0b93-4d8f-9757-a5bc7205d97b"
      },
      "execution_count": 3,
      "outputs": [
        {
          "output_type": "execute_result",
          "data": {
            "text/plain": [
              "GPT2(\n",
              "  (transformer): ModuleDict(\n",
              "    (wte): Embedding(50257, 768)\n",
              "    (wpe): Embedding(1024, 768)\n",
              "    (h): ModuleList(\n",
              "      (0-11): 12 x DecoderBlock(\n",
              "        (ln_1): LayerNorm((768,), eps=1e-05, elementwise_affine=True)\n",
              "        (attn): CausalSelfAttention(\n",
              "          (c_attn): Linear(in_features=768, out_features=2304, bias=True)\n",
              "          (c_proj): Linear(in_features=768, out_features=768, bias=True)\n",
              "        )\n",
              "        (ln_2): LayerNorm((768,), eps=1e-05, elementwise_affine=True)\n",
              "        (mlp): MLP(\n",
              "          (c_fc): Linear(in_features=768, out_features=3072, bias=True)\n",
              "          (gelu): GELU(approximate='tanh')\n",
              "          (c_proj): Linear(in_features=3072, out_features=768, bias=True)\n",
              "        )\n",
              "      )\n",
              "    )\n",
              "    (ln_f): LayerNorm((768,), eps=1e-05, elementwise_affine=True)\n",
              "  )\n",
              "  (lm_head): Linear(in_features=768, out_features=50257, bias=False)\n",
              ")"
            ]
          },
          "metadata": {},
          "execution_count": 3
        }
      ]
    },
    {
      "cell_type": "code",
      "source": [
        "total_params= sum(p.numel() for p in model.parameters() if p.requires_grad)\n",
        "print(f'Number of parameters: {total_params}')"
      ],
      "metadata": {
        "id": "DWO0DIUGa9Uc",
        "colab": {
          "base_uri": "https://localhost:8080/"
        },
        "outputId": "71c7908e-5fa2-46b9-b527-42d9ff667d3a"
      },
      "execution_count": 4,
      "outputs": [
        {
          "output_type": "stream",
          "name": "stdout",
          "text": [
            "Number of parameters: 124439808\n"
          ]
        }
      ]
    },
    {
      "cell_type": "code",
      "source": [
        "B, T= 4, 8 # batch_size, seq_len\n",
        "\n",
        "tokens= torch.randint(0, GPTConfig.vocab_size, (B*T + 1,))\n",
        "\n",
        "x= tokens[:-1].view(B, T)\n",
        "y= tokens[1:].view(B, T)\n",
        "\n",
        "print('input tensor')\n",
        "print(x)\n",
        "print('\\nlabels')\n",
        "print(y)"
      ],
      "metadata": {
        "id": "u-07UAtYbFzH",
        "colab": {
          "base_uri": "https://localhost:8080/"
        },
        "outputId": "58226626-941b-438f-e42c-8731b8e243c7"
      },
      "execution_count": null,
      "outputs": [
        {
          "output_type": "stream",
          "name": "stdout",
          "text": [
            "input tensor\n",
            "tensor([[33747, 40506,  1444, 42488,  4743,  6646, 34375, 32471],\n",
            "        [42000,  7094, 48406, 13895, 14562, 17729, 49490, 46442],\n",
            "        [38413, 48992, 16797,  4454, 19198, 18992, 30842, 41780],\n",
            "        [17527, 28296, 35172, 24626, 14183, 34746, 29481,  5006]])\n",
            "\n",
            "labels\n",
            "tensor([[40506,  1444, 42488,  4743,  6646, 34375, 32471, 42000],\n",
            "        [ 7094, 48406, 13895, 14562, 17729, 49490, 46442, 38413],\n",
            "        [48992, 16797,  4454, 19198, 18992, 30842, 41780, 17527],\n",
            "        [28296, 35172, 24626, 14183, 34746, 29481,  5006,  8352]])\n"
          ]
        }
      ]
    },
    {
      "cell_type": "code",
      "source": [
        "# expected loss -- random init model\n",
        "model.eval()\n",
        "_, loss= model(x, y)\n",
        "\n",
        "print(loss)"
      ],
      "metadata": {
        "id": "bvNmOsFObOOF",
        "colab": {
          "base_uri": "https://localhost:8080/"
        },
        "outputId": "a62afece-f032-4d2d-e619-9c5b6734947a"
      },
      "execution_count": null,
      "outputs": [
        {
          "output_type": "stream",
          "name": "stdout",
          "text": [
            "tensor(10.8264, grad_fn=<NllLossBackward0>)\n"
          ]
        }
      ]
    },
    {
      "cell_type": "code",
      "source": [],
      "metadata": {
        "id": "a1aUTk7JkEnb"
      },
      "execution_count": null,
      "outputs": []
    },
    {
      "cell_type": "markdown",
      "source": [
        "# GPT-2 XL: 1.5B params -- Memory test"
      ],
      "metadata": {
        "id": "iOnpdGVqZSJ2"
      }
    },
    {
      "cell_type": "code",
      "source": [
        "@dataclass  # gpt2-xl: 1558M params\n",
        "class GPTConfig:\n",
        "    block_size:int= 1024  # max sequence length\n",
        "    vocab_size:int= 50257 # number of tokens\n",
        "    n_layer:int= 48       # number of layers\n",
        "    n_head:int= 25        # number of heads\n",
        "    n_embed:int= 1600     # embedding dimension\n",
        "\n",
        "\n",
        "model= GPT2(GPTConfig()).to('cuda')\n",
        "\n",
        "total_params= sum(p.numel() for p in model.parameters() if p.requires_grad)\n",
        "print(f'Number of parameters: {total_params}')"
      ],
      "metadata": {
        "colab": {
          "base_uri": "https://localhost:8080/"
        },
        "id": "WNsGKPbDPWu3",
        "outputId": "d891aa29-badc-4b3e-8287-cd0fb9ba956a"
      },
      "execution_count": 5,
      "outputs": [
        {
          "output_type": "stream",
          "name": "stdout",
          "text": [
            "Number of parameters: 1557611200\n"
          ]
        }
      ]
    },
    {
      "cell_type": "code",
      "source": [
        "B, T= 8, 512 # batch_size, seq_len\n",
        "\n",
        "tokens= torch.randint(0, GPTConfig.vocab_size, (B*T + 1,))\n",
        "\n",
        "x= tokens[:-1].view(B, T).to('cuda')\n",
        "y= tokens[1:].view(B, T).to('cuda')"
      ],
      "metadata": {
        "id": "STYvqCakPLMJ"
      },
      "execution_count": 6,
      "outputs": []
    },
    {
      "cell_type": "code",
      "source": [
        "cuda.reset_peak_memory_stats()\n",
        "# Run the model\n",
        "model.eval()\n",
        "logits, loss= model(x, y)\n",
        "# Measure peak memory usage\n",
        "peak_memory= cuda.max_memory_allocated()\n",
        "\n",
        "del logits, loss\n",
        "cuda.empty_cache()\n",
        "\n",
        "print(f\"Forward Pass Memory: {np.round(peak_memory / 10**6, decimals=2)} MB\")"
      ],
      "metadata": {
        "id": "NJhEljq6kErf",
        "colab": {
          "base_uri": "https://localhost:8080/"
        },
        "outputId": "13060fd9-db0e-4c1e-a02d-4b5b44557153"
      },
      "execution_count": 7,
      "outputs": [
        {
          "output_type": "stream",
          "name": "stdout",
          "text": [
            "Forward Pass Memory: 38625.36 MB\n"
          ]
        }
      ]
    },
    {
      "cell_type": "code",
      "source": [],
      "metadata": {
        "id": "s3s86-nCxXKh"
      },
      "execution_count": null,
      "outputs": []
    },
    {
      "cell_type": "markdown",
      "source": [
        "# GPT-2 -- Simplified training and text generation"
      ],
      "metadata": {
        "id": "XFzc10XaZmR5"
      }
    },
    {
      "cell_type": "code",
      "source": [
        "class SimpleTokenizer:\n",
        "    def __init__(self, text) -> None:\n",
        "        chars= sorted(list(set(text)))\n",
        "        self.vocab_size= len(chars)\n",
        "        self.stoi= {ch:i for i, ch in enumerate(chars)}\n",
        "        self.itos= {i:ch for i, ch in enumerate(chars)}\n",
        "\n",
        "    def encode(self, text):\n",
        "        return [self.stoi[c] for c in text]\n",
        "\n",
        "    def decode(self, tokens):\n",
        "        return ''.join([self.itos[t] for t in tokens])\n",
        ""
      ],
      "metadata": {
        "id": "b7Qn9scj0UJe"
      },
      "execution_count": 8,
      "outputs": []
    },
    {
      "cell_type": "code",
      "source": [
        "!wget https://raw.githubusercontent.com/karpathy/char-rnn/master/data/tinyshakespeare/input.txt\n",
        "\n",
        "with open('input.txt', 'r', encoding='utf-8') as f:\n",
        "    text= f.read()\n",
        "\n",
        "tok= SimpleTokenizer(text)\n",
        "\n",
        "print(f'Training text length: {len(text)}')\n",
        "print(f'Vocab size: {tok.vocab_size}')"
      ],
      "metadata": {
        "colab": {
          "base_uri": "https://localhost:8080/"
        },
        "id": "Kli-hBYaThA7",
        "outputId": "6a41566e-799a-4cca-98a6-e557140726ed"
      },
      "execution_count": 9,
      "outputs": [
        {
          "output_type": "stream",
          "name": "stdout",
          "text": [
            "--2025-01-04 09:15:46--  https://raw.githubusercontent.com/karpathy/char-rnn/master/data/tinyshakespeare/input.txt\n",
            "Resolving raw.githubusercontent.com (raw.githubusercontent.com)... 185.199.108.133, 185.199.109.133, 185.199.110.133, ...\n",
            "Connecting to raw.githubusercontent.com (raw.githubusercontent.com)|185.199.108.133|:443... connected.\n",
            "HTTP request sent, awaiting response... 200 OK\n",
            "Length: 1115394 (1.1M) [text/plain]\n",
            "Saving to: ‘input.txt’\n",
            "\n",
            "\rinput.txt             0%[                    ]       0  --.-KB/s               \rinput.txt           100%[===================>]   1.06M  --.-KB/s    in 0.02s   \n",
            "\n",
            "2025-01-04 09:15:46 (54.9 MB/s) - ‘input.txt’ saved [1115394/1115394]\n",
            "\n",
            "Training text length: 1115394\n",
            "Vocab size: 65\n"
          ]
        }
      ]
    },
    {
      "cell_type": "code",
      "source": [
        "@dataclass\n",
        "class GPTConfig:\n",
        "    block_size:int= 1024  # max sequence length\n",
        "    vocab_size:int= tok.vocab_size # number of tokens\n",
        "    n_layer:int= 12       # number of layers\n",
        "    n_head:int= 12        # number of heads\n",
        "    n_embed:int= 768      # embedding dimension\n",
        "\n",
        "model= GPT2(GPTConfig()).to('cuda')\n",
        "\n",
        "total_params= sum(p.numel() for p in model.parameters() if p.requires_grad)\n",
        "print(f'Number of parameters: {total_params}')"
      ],
      "metadata": {
        "colab": {
          "base_uri": "https://localhost:8080/"
        },
        "id": "RSSJbSq7UoYL",
        "outputId": "c251e5d4-fa59-46f8-9b12-22360fc65103"
      },
      "execution_count": 10,
      "outputs": [
        {
          "output_type": "stream",
          "name": "stdout",
          "text": [
            "Number of parameters: 85892352\n"
          ]
        }
      ]
    },
    {
      "cell_type": "code",
      "source": [
        "def generate(model, idx, max_new_tokens): # top-k sampling approach (HF default)\n",
        "    model.eval()\n",
        "    # idx is (B, T) array of indices in the current context\n",
        "    for _ in range(max_new_tokens):\n",
        "        with torch.no_grad():\n",
        "            logits, _= model(idx)    # (B, T, vocab_size)\n",
        "            logits= logits[:, -1, :] # (B, vocab_size)\n",
        "            probs= F.softmax(logits, dim=-1) # (B, C)\n",
        "            topk_probs, topk_indices= torch.topk(probs, 50, dim=-1)\n",
        "            ix= torch.multinomial(topk_probs, num_samples=1) # (B, 1)\n",
        "            xcol= torch.gather(topk_indices, -1, ix) # (B, 1)\n",
        "            idx= torch.cat((idx, xcol), dim=1) # (B, T+1)\n",
        "\n",
        "    return idx\n"
      ],
      "metadata": {
        "id": "JqqG3PPTzCeX"
      },
      "execution_count": 11,
      "outputs": []
    },
    {
      "cell_type": "code",
      "source": [
        "context= torch.zeros((1, 1), dtype=torch.long, device='cuda')\n",
        "print(tok.decode(generate(model, context, max_new_tokens=500)[0].tolist()))"
      ],
      "metadata": {
        "colab": {
          "base_uri": "https://localhost:8080/"
        },
        "id": "iCi93fg3zwCH",
        "outputId": "7287376b-d84c-4269-cee5-093c948cb559"
      },
      "execution_count": 12,
      "outputs": [
        {
          "output_type": "stream",
          "name": "stdout",
          "text": [
            "\n",
            ":jHkCCwEtsD\n",
            "muqLsMidgHkHrocKMe$FnX!JCRO;u?AF;xPJ$qo&TnWXif oGCq$UoQKPZgGO\n",
            "IIu S,HY'T&Qtc,rbSSL\n",
            "3$Zi3NNV,OF,duz:LtJLI&HbVKGFCZuuN$nuW?QI'IoXXxvhq&\n",
            "Nn nqvvWsxxEqv'dk3WUP.koSZ?sqH\n",
            "RQZudcpE.aPIIyQNy.QYsUmBKE-.yVXS-UFFtjJWqoEbZ;uHY i\n",
            "paPGCAcOfzOA&j;y&xa3as'cxKu3NghdMlytNZFZSXKwd$JsS-fIPt,?,dv$L\n",
            "BRENNNRc'-JYHFVVTShde r R.Tkcwpn$.DTFKCAtAAohIul:3fCLjhi!vAuArpoTE\n",
            "e!y-w;IAJmKx&pafBhWQuj:slnqnOQMNtMZwGacL oK;bpNTiu;BijxT?.bSaih:zsux$.,oqb-\n",
            "a!WxG$WtA&nfNn'!JKyrjHWjJW !bDyyxc\n",
            "h:RZttFdcEerU?TF-$f'?c$$xkb'J-k\n"
          ]
        }
      ]
    },
    {
      "cell_type": "code",
      "source": [
        "torch.manual_seed(1337)\n",
        "\n",
        "def get_batch(data, batch_size, block_size):\n",
        "    # generate a small batch of data of inputs x and target y\n",
        "    ix= torch.randint(len(data) - block_size, (batch_size,))\n",
        "    x= torch.stack([data[i:i+block_size] for i in ix])\n",
        "    y= torch.stack([data[i+1:i+block_size+1] for i in ix])\n",
        "    x, y= x.to('cuda'), y.to('cuda')\n",
        "\n",
        "    return x, y\n"
      ],
      "metadata": {
        "id": "N1-VbBpG2BKj"
      },
      "execution_count": 13,
      "outputs": []
    },
    {
      "cell_type": "code",
      "source": [
        "from tqdm import tqdm\n",
        "\n",
        "def lets_train_it(model, data, batch_size, block_size, optimizer, max_steps):\n",
        "    losses= torch.zeros(max_steps)\n",
        "\n",
        "    # training loop\n",
        "    for step in tqdm(range(max_steps)):\n",
        "        # sample a batch of data\n",
        "        xb, yb= get_batch(data, batch_size, block_size)\n",
        "\n",
        "        # evaluate the loss\n",
        "        _, loss= model(xb, yb)\n",
        "        losses[step]= loss.item()\n",
        "        optimizer.zero_grad()\n",
        "        loss.backward()\n",
        "        optimizer.step()\n",
        "\n",
        "    return losses\n"
      ],
      "metadata": {
        "id": "Gqm6lHvd3Sp5"
      },
      "execution_count": 14,
      "outputs": []
    },
    {
      "cell_type": "code",
      "source": [
        "data= torch.tensor(tok.encode(text))\n",
        "optimizer= torch.optim.AdamW(model.parameters(), lr=1e-4, betas=(0.9, 0.95), eps=1e-8)\n",
        "\n",
        "batch_size= 8\n",
        "block_size= 512\n",
        "\n",
        "losses= lets_train_it(model, data, batch_size, block_size, optimizer, max_steps=2500)"
      ],
      "metadata": {
        "colab": {
          "base_uri": "https://localhost:8080/"
        },
        "id": "EuDoh-XxX1Az",
        "outputId": "272591b5-9aa2-4eb1-f2c0-1d7a69a0a6b5"
      },
      "execution_count": 15,
      "outputs": [
        {
          "output_type": "stream",
          "name": "stderr",
          "text": [
            "100%|██████████| 2500/2500 [07:28<00:00,  5.58it/s]\n"
          ]
        }
      ]
    },
    {
      "cell_type": "code",
      "source": [
        "xb, yb= get_batch(data, 8, 512)\n",
        "\n",
        "cuda.reset_peak_memory_stats()\n",
        "# Run the model\n",
        "model.eval()\n",
        "logits, loss= model(xb, yb)\n",
        "# Measure peak memory usage\n",
        "peak_memory= cuda.max_memory_allocated()\n",
        "\n",
        "del logits, loss\n",
        "cuda.empty_cache()\n",
        "\n",
        "print(f\"Forward Pass Memory: {np.round(peak_memory / 10**6, decimals=2)} MB\")"
      ],
      "metadata": {
        "colab": {
          "base_uri": "https://localhost:8080/"
        },
        "id": "CXZRASROXTOK",
        "outputId": "ebe932f8-6c79-46a5-a430-71592ab192b5"
      },
      "execution_count": 16,
      "outputs": [
        {
          "output_type": "stream",
          "name": "stdout",
          "text": [
            "Forward Pass Memory: 5127.45 MB\n"
          ]
        }
      ]
    },
    {
      "cell_type": "code",
      "source": [
        "import matplotlib.pyplot as plt\n",
        "\n",
        "plt.plot(losses, label='train loss')\n",
        "plt.legend()\n",
        "plt.xlabel('Steps')\n",
        "plt.ylabel('Loss')\n",
        "plt.grid()\n",
        "plt.show()"
      ],
      "metadata": {
        "colab": {
          "base_uri": "https://localhost:8080/",
          "height": 449
        },
        "id": "H2gEHqpl43CI",
        "outputId": "dd79c643-ccac-4ff5-a156-bbd37828bc16"
      },
      "execution_count": 17,
      "outputs": [
        {
          "output_type": "display_data",
          "data": {
            "text/plain": [
              "<Figure size 640x480 with 1 Axes>"
            ],
            "image/png": "[encoded data removed]"
          },
          "metadata": {}
        }
      ]
    },
    {
      "cell_type": "code",
      "source": [
        "context= torch.zeros((1, 1), dtype=torch.long, device='cuda')\n",
        "print(tok.decode(generate(model, context, max_new_tokens=500)[0].tolist()))"
      ],
      "metadata": {
        "colab": {
          "base_uri": "https://localhost:8080/"
        },
        "id": "pA68YDd97isS",
        "outputId": "5e34bcea-d910-4143-9117-62b4436fd63d"
      },
      "execution_count": 18,
      "outputs": [
        {
          "output_type": "stream",
          "name": "stdout",
          "text": [
            "\n",
            "URLMI:\n",
            "To shanc not him.\n",
            "\n",
            "PARTIO:\n",
            "That farmiu, herrk'pely comeace of his tentleve.\n",
            "It:\n",
            "Pook, if ky ling? You bosth; heavirs scoon'\n",
            "I God portine, likd: by thus in the gure.\n",
            "Wo my, un loo akel being a I reerven a heage!\n",
            "The carlight yer a ware mayst of my brakd\n",
            "Fod an dosendy which horch aswide proower,\n",
            "\n",
            "FUERKE:\n",
            "Abll, fo his neart ind me thy wild well non's kine\n",
            "Then a me har berame ust fo but toind.\n",
            "\n",
            "KING RINGREWARDARD:\n",
            "This!\n",
            "\n",
            "PETRTORDYO:\n",
            "Yo Yay thost guse to tilkue his hers uno herts thale,--\n",
            "t\n"
          ]
        }
      ]
    },
    {
      "cell_type": "code",
      "source": [],
      "metadata": {
        "id": "QtSeW1sCos7u"
      },
      "execution_count": null,
      "outputs": []
    }
  ]
}