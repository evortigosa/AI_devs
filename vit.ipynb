{
  "cells": [
    {
      "cell_type": "markdown",
      "metadata": {
        "id": "k16_mZAoLVFe"
      },
      "source": [
        "# Vision Transformer (ViT) from scratch\n",
        "\n",
        "Here, one of the most significant contribution in the field of Computer Vision: the Vision Transformer (ViT).\n",
        "\n",
        "With Self-Attention, each part of the image can \"talk\" to every other part, instantly understanding its relationship to the whole. ViTs treat an image as a collection of \"words\" — not individual pixels, but meaningful chunks, like the different elements in a painting. These chunks are called patches. The magic of Self-Attention lets the model understand the relationships between these patches.\n",
        "\n",
        "CNNs, like detectives, focus on local details, meticulously examining each pixel and its immediate surroundings. They excel at recognizing simple patterns and shapes. ViTs, on the other hand, act like art critics, taking in the whole picture, understanding the relationships between elements, and interpreting the artist's intent. They excel at capturing complex relationships and dependencies across the image.\n",
        "\n",
        "- **Accuracy:** In many cases, ViTs achieve higher accuracy than CNNs, especially on tasks that require understanding complex relationships or recognizing nuanced features.\n",
        "- **Scalability:** ViTs exhibit faster neural scaling laws. This means they become more accurate as the model size increases, while CNNs tend to plateau in performance."
      ]
    },
    {
      "cell_type": "code",
      "execution_count": null,
      "metadata": {
        "id": "rkiYGpqxL6sD"
      },
      "outputs": [],
      "source": [
        "import os\n",
        "import time\n",
        "import math\n",
        "import numpy as np\n",
        "import pandas as pd\n",
        "import matplotlib.pyplot as plt\n",
        "import inspect\n",
        "import torch\n",
        "import torch.nn as nn\n",
        "import torch.nn.functional as F\n",
        "from einops import rearrange, repeat\n",
        "from einops.layers.torch import Rearrange"
      ]
    },
    {
      "cell_type": "code",
      "execution_count": null,
      "metadata": {
        "id": "Ad5RdiaSL-g7"
      },
      "outputs": [],
      "source": [
        "device= 'cuda' if torch.cuda.is_available() else 'cpu'"
      ]
    },
    {
      "cell_type": "code",
      "execution_count": null,
      "metadata": {
        "id": "rruAqz68Nz6F"
      },
      "outputs": [],
      "source": [
        "# count how many trainable weights the model has\n",
        "def count_parameters(model) -> None:\n",
        "    total_params= sum(p.numel() for p in model.parameters() if p.requires_grad)\n",
        "    print(f'Number of parameters: {total_params}')"
      ]
    },
    {
      "cell_type": "markdown",
      "metadata": {
        "id": "jyjmDRK9Lx8C"
      },
      "source": [
        "# The Transformer Encoder"
      ]
    },
    {
      "cell_type": "code",
      "execution_count": null,
      "metadata": {
        "id": "3yhgGeHnLObY"
      },
      "outputs": [],
      "source": [
        "class MultiHeadSelfAttention(nn.Module):\n",
        "    \"\"\"\n",
        "    The Multi-Headed Self-Attention Layer.\n",
        "    \"\"\"\n",
        "\n",
        "    def __init__(self, n_embed, n_head, dropout=0.1) -> None:\n",
        "        super(MultiHeadSelfAttention, self).__init__()\n",
        "        assert n_embed % n_head == 0, \"n_embed must be divisible by n_head\"\n",
        "        self.n_embed= n_embed\n",
        "        self.n_head = n_head\n",
        "        self.d_head = n_embed // n_head\n",
        "        # query, key, value projections in a single batch\n",
        "        self.c_attn= nn.Linear(n_embed, 3 * n_embed)\n",
        "        # regularization\n",
        "        self.dropout= nn.Dropout(p=dropout)\n",
        "        # output projection\n",
        "        self.o_proj= nn.Linear(n_embed, n_embed)\n",
        "\n",
        "\n",
        "    def forward(self, x):\n",
        "        B, T, C= x.size()  # x(batch_size, sequence length, n_embed)\n",
        "        assert C== self.n_embed, \"Input embedding dimension must match model embedding dimension\"\n",
        "        # 1. calculate query, key, values for all heads\n",
        "        qkv= self.c_attn(x)\n",
        "        q, k, v= qkv.split(self.n_embed, dim=2) # q,k,v -> (B, T, C)\n",
        "        # 2. reshape for Multi-Head Attention\n",
        "        q= q.view(B, -1, self.n_head, self.d_head).transpose(1, 2)  # q,k,v view   -> (B, T, nh, dh)\n",
        "        k= k.view(B, -1, self.n_head, self.d_head).transpose(1, 2)  # q,k,v transp -> (B, nh, T, dh)\n",
        "        v= v.view(B, -1, self.n_head, self.d_head).transpose(1, 2)\n",
        "\n",
        "        # 3. Attention - the 'scaled dot product'\n",
        "        attn= (q @ k.transpose(-2, -1)) * (1.0 / math.sqrt(self.d_head))\n",
        "        # normalize Attention scores\n",
        "        attn= F.softmax(attn, dim=-1)\n",
        "        attn= self.dropout(attn)\n",
        "        # 4. compute Attention output\n",
        "        y= attn @ v  # (B, nh, T, dh)\n",
        "\n",
        "        # 5. concatenate multi-head outputs -- re-assembly all head outputs side by side\n",
        "        y= y.transpose(1, 2).contiguous().view(B, T, C)\n",
        "        # 6. output projection\n",
        "        return self.o_proj(y)\n"
      ]
    },
    {
      "cell_type": "code",
      "execution_count": null,
      "metadata": {
        "id": "Yf-v31TtL_1Q"
      },
      "outputs": [],
      "source": [
        "class FeedForward(nn.Module):\n",
        "    \"\"\"\n",
        "    The Feed-Forward Network (FFN).\n",
        "    \"\"\"\n",
        "\n",
        "    def __init__(self, n_embed, d_ff, dropout=0.1) -> None:\n",
        "        super(FeedForward, self).__init__()\n",
        "        self.fc1  = nn.Linear(n_embed, d_ff)\n",
        "        self.activ= nn.GELU()\n",
        "        self.dropout= nn.Dropout(p=dropout)\n",
        "        self.fc2  = nn.Linear(d_ff, n_embed)\n",
        "\n",
        "\n",
        "    def forward(self, x):\n",
        "        x= self.fc1(x)\n",
        "        x= self.activ(x)\n",
        "        x= self.dropout(x)\n",
        "\n",
        "        return self.fc2(x)\n"
      ]
    },
    {
      "cell_type": "code",
      "execution_count": null,
      "metadata": {
        "id": "KBERV_gyL_4T"
      },
      "outputs": [],
      "source": [
        "class EncoderBlock(nn.Module):\n",
        "    \"\"\"\n",
        "    The Ecoder Block (pre-normalization version).\n",
        "    \"\"\"\n",
        "\n",
        "    def __init__(self, n_embed, n_head, d_ff, dropout=0.1) -> None:\n",
        "        super(EncoderBlock, self).__init__()\n",
        "\n",
        "        self.norm1= nn.LayerNorm(n_embed)\n",
        "        self.attn= MultiHeadSelfAttention(n_embed, n_head, dropout)\n",
        "        self.dropout1= nn.Dropout(p=dropout)\n",
        "\n",
        "        self.norm2= nn.LayerNorm(n_embed)\n",
        "        self.ffn= FeedForward(n_embed, d_ff, dropout)\n",
        "        self.dropout2= nn.Dropout(p=dropout)\n",
        "\n",
        "\n",
        "    def forward(self, x):\n",
        "        x_norm= self.norm1(x)\n",
        "        x= x + self.dropout1(self.attn(x_norm))\n",
        "\n",
        "        x_norm= self.norm2(x)\n",
        "        x= x + self.dropout2(self.ffn(x_norm))\n",
        "\n",
        "        return x\n"
      ]
    },
    {
      "cell_type": "markdown",
      "metadata": {
        "id": "riOivS7dUSEq"
      },
      "source": [
        "With the Attention Layer and Feed Forward Network in place, we can assemble a Transformer Encoder. The Transformer Encoder is essentially a stack of N Encoder Blocks. Remember, Transformers are like Legos — the input dimension is the same as the output dimension, so you can stack as many blocks as you want (or as your memory allows)."
      ]
    },
    {
      "cell_type": "code",
      "execution_count": null,
      "metadata": {
        "id": "c5pTN4cwL_7P"
      },
      "outputs": [],
      "source": [
        "class TransformerEncoder(nn.Module):\n",
        "    \"\"\"\n",
        "    The Transformer Encoder is essentially a stack of N Encoder Blocks.\n",
        "    \"\"\"\n",
        "\n",
        "    def __init__(self, n_embed=512, n_layer=6, n_head=8, d_ff=2048, dropout=0.1) -> None:\n",
        "        super(TransformerEncoder, self).__init__()\n",
        "        self.transformer= nn.ModuleList([\n",
        "            EncoderBlock(n_embed, n_head, d_ff, dropout) for _ in range(n_layer)\n",
        "        ])\n",
        "        self.ln_final= nn.LayerNorm(n_embed)\n",
        "\n",
        "\n",
        "    def forward(self, x):\n",
        "        for block in self.transformer:\n",
        "            x= block(x)\n",
        "\n",
        "        return self.ln_final(x)\n"
      ]
    },
    {
      "cell_type": "code",
      "execution_count": null,
      "metadata": {
        "colab": {
          "base_uri": "https://localhost:8080/"
        },
        "id": "P29NIa7JMABN",
        "outputId": "c8bbeea4-abb4-48cd-cab5-34180c651a93"
      },
      "outputs": [
        {
          "data": {
            "text/plain": [
              "torch.Size([16, 128, 512])"
            ]
          },
          "execution_count": 8,
          "metadata": {},
          "output_type": "execute_result"
        }
      ],
      "source": [
        "model= TransformerEncoder().to(device)\n",
        "data= torch.randn(16, 128, 512).to(device)\n",
        "model.eval()\n",
        "model(data).shape"
      ]
    },
    {
      "cell_type": "markdown",
      "metadata": {
        "id": "z32LfnrKVStB"
      },
      "source": [
        "# Images to Patch Embeddings\n",
        "\n",
        "ViTs start by dividing the image into a grid of smaller, rectangular pieces, like individual puzzle pieces. These pieces are the patches. The size of the patch, determined by a parameter called \"patch size,\" decides how much detail each piece captures. A larger patch size means more detail, but fewer pieces overall, like a puzzle with fewer, larger pieces.\n",
        "\n",
        "Once the image is divided into patches, the real magic begins — the patches are embedded into vectors. This process converts each patch, a visual chunk of information, into a mathematical representation, a sequence of numbers. We can think of this as translating the image into a language the model can understand.\n",
        "\n",
        "**NOTE:** The Conv2d-based projection is more efficient. It combines patch extraction and embedding in a single operation, optimized for GPU/TPU hardware."
      ]
    },
    {
      "cell_type": "code",
      "source": [
        "class PatchEmbedding(nn.Module):\n",
        "    \"\"\"\n",
        "    Initializes the Images to Patch Embeddings module.\n",
        "    \"\"\"\n",
        "\n",
        "    def __init__(self, patch_height, patch_width, channels, n_embed, p_type='conv') -> None:\n",
        "        super(PatchEmbedding, self).__init__()\n",
        "        # calculate the dimension of each patch\n",
        "        ph, pw= patch_height, patch_width\n",
        "        patch_dim= channels * ph * pw\n",
        "\n",
        "        # The original ViT uses a linear layer for patch embedding\n",
        "        if p_type== 'linear':\n",
        "            # unfold images of shape (batch_size, channels, image_height, image_width)\n",
        "            # into patches of shape  (batch_size, num_patches, patch_dim)\n",
        "            self.projection= nn.Sequential(\n",
        "                Rearrange('b c (h ph) (w pw) -> b (h w) (ph pw c)', ph=ph, pw=pw),\n",
        "                nn.Linear(patch_dim, n_embed), # project patches to embedding dimension\n",
        "            )  # embedding shape (batch_size, num_patches, n_embed)\n",
        "        else:\n",
        "            # Hugging Face's ViT uses a convolutional layer for patch embedding\n",
        "            # apply Conv2d to split image into patches and project\n",
        "            self.projection= nn.Sequential(    # (batch_size, n_embed, H/ph, W/pw)\n",
        "                nn.Conv2d(channels, n_embed, kernel_size=(ph, pw), stride=(ph, pw)),\n",
        "                nn.Flatten(start_dim=2),       # (batch_size, n_embed, num_patches)\n",
        "                Rearrange('b e p -> b p e'),   # (batch_size, num_patches, n_embed)\n",
        "            )\n",
        "\n",
        "\n",
        "    def forward(self, img):\n",
        "        x= self.projection(img)\n",
        "\n",
        "        return x\n"
      ],
      "metadata": {
        "id": "7Vr4rfNEQxsV"
      },
      "execution_count": null,
      "outputs": []
    },
    {
      "cell_type": "markdown",
      "source": [
        "To preserve the spatial information within the image, the positional encoding comes in. Imagine each patch has a unique address on the image grid. Positional encoding adds a numerical \"address\" to each patch, allowing the model to understand where it is relative to other patches. Now, we have a sequence of \"words\" with their spatial addresses. This sequence is fed into the heart of the ViT model — the Transformer encoder.\n",
        "\n",
        "A special \"classification token\" is added to the beginning of the patch sequence. Think of it as a placeholder for the final answer. This token gathers information from the entire patch sequence, becoming a representation of the whole image, and summarizing the important features and relationships. The classification token is then fed through a final layer, where the model ultimately makes its prediction, be it a category label, an object detection, or any other task.\n",
        "\n",
        "In summary, we mainly need 3 components to build the Input Embedding:\n",
        "\n",
        "- Convert the image into patches, and then vectors.\n",
        "- Add positional encoding.\n",
        "- Add the CLS token."
      ],
      "metadata": {
        "id": "1zHJfc1rTiRu"
      }
    },
    {
      "cell_type": "code",
      "execution_count": null,
      "metadata": {
        "id": "xjjf0XiJqbzf"
      },
      "outputs": [],
      "source": [
        "class Embedding(nn.Module):\n",
        "    \"\"\"\n",
        "    Initializes the Embedding module.\n",
        "    \"\"\"\n",
        "\n",
        "    def __init__(self, image_height, image_width, patch_height, patch_width, channels,\n",
        "                 n_embed, dropout=0.1, p_type='conv') -> None:\n",
        "        super(Embedding, self).__init__()\n",
        "        # calculate the number of patches\n",
        "        num_patches= (image_height // patch_height) * (image_width // patch_width)\n",
        "\n",
        "        # define the patch embedding\n",
        "        self.patch_embed= PatchEmbedding(patch_height, patch_width, channels, n_embed, p_type)\n",
        "        # define CLS token and positional embeddings -- both as learnable parameters\n",
        "        self.cls_token= nn.Parameter(torch.randn(1, 1, n_embed))\n",
        "        self.pos_embed= nn.Parameter(torch.randn(1, num_patches +1, n_embed))\n",
        "\n",
        "        # apply layer normalization and dropout\n",
        "        self.norm= nn.LayerNorm(n_embed)\n",
        "        self.dropout= nn.Dropout(p=dropout)\n",
        "\n",
        "        # initialize CLS token and positional embedding with small normal distributions\n",
        "        nn.init.normal_(self.cls_token, mean=0.0, std=0.02)\n",
        "        nn.init.normal_(self.pos_embed, mean=0.0, std=0.02)\n",
        "\n",
        "\n",
        "    def forward(self, img):\n",
        "        x= self.patch_embed(img)\n",
        "        B, P, C= x.size()  # (batch_size, num_patches, n_embed)\n",
        "        # repeat class token (CLS) for each image in the batch\n",
        "        cls_token= repeat(self.cls_token, '1 1 d -> b 1 d', b=B)\n",
        "        # concatenate class token (CLS) with patch embeddings\n",
        "        x= torch.cat((cls_token, x), dim=1)\n",
        "        # add positional embedding to the input\n",
        "        x += self.pos_embed[:, :(P + 1)]  # (batch_size, num_patches + 1, n_embed)\n",
        "\n",
        "        return self.dropout(self.norm(x))\n"
      ]
    },
    {
      "cell_type": "markdown",
      "metadata": {
        "id": "QH1EeXhAuzwY"
      },
      "source": [
        "We need to check that we are correctly splitting the image into a number of patches that is an integer. In other words, we need to check that **image_height** and **image_width** are divisible by **patch_dimension**. Next step is to convert the patch into embeddings. Remember that here an image has $C = 3$ dimensions. We need to unfold this dimension, and compress each patch of dimension $patch\\_size \\times patch\\_size \\times C$. Then we need to define the **CLS** token and the positional embedding. They are both learned parameters (randomly initialized)."
      ]
    },
    {
      "cell_type": "markdown",
      "metadata": {
        "id": "AXS68FBABMBY"
      },
      "source": [
        "# Building the final ViT\n",
        "\n",
        "Finally, we have to define the Transformer encoder that we have defined before, and add a classification head. The MLP head, also known as the classification head, is the final part of the Vision Transformer (ViT) pipeline. It is responsible for processing the output of the Transformer encoder (particularly the class token) to produce the final predictions for a classification task.\n",
        "\n",
        "- During fine-tuning, the MLP head may be replaced with a single linear layer (no hidden layers). This reduces complexity since the model already has rich feature representations from pretraining."
      ]
    },
    {
      "cell_type": "code",
      "execution_count": null,
      "metadata": {
        "id": "GD_tjCnHAlaZ"
      },
      "outputs": [],
      "source": [
        "class MLPHead(nn.Module):\n",
        "    \"\"\"\n",
        "    The MLP (classification) head.\n",
        "    \"\"\"\n",
        "\n",
        "    def __init__(self, n_embed, d_ff, num_classes, dropout=0.1, fine_tune=False) -> None:\n",
        "        super(MLPHead, self).__init__()\n",
        "        if fine_tune:\n",
        "            self.c_head= nn.Linear(n_embed, num_classes)\n",
        "        else:\n",
        "            self.c_head= nn.Sequential(\n",
        "                nn.Linear(n_embed, d_ff),\n",
        "                nn.GELU(),\n",
        "                nn.Dropout(p=dropout),\n",
        "                nn.Linear(d_ff, num_classes),\n",
        "            )\n",
        "\n",
        "\n",
        "    def forward(self, x):\n",
        "        x= self.c_head(x)\n",
        "\n",
        "        return x\n"
      ]
    },
    {
      "cell_type": "code",
      "execution_count": null,
      "metadata": {
        "id": "NCHgRrjhMAET"
      },
      "outputs": [],
      "source": [
        "class ViT(nn.Module):\n",
        "    \"\"\"\n",
        "    Initializes a Vision Transformer (ViT) model.\n",
        "    \"\"\"\n",
        "\n",
        "    def __init__(self, image_size, patch_size, channels, num_classes, pool='cls',\n",
        "                 n_embed=512, n_layer=6, n_head=8, d_ff=2048, dropout=0.1,\n",
        "                 p_type='conv', fine_tune=False) -> None:\n",
        "        super(ViT, self).__init__()\n",
        "        image_height, image_width= self.pair(image_size)\n",
        "        patch_height, patch_width= self.pair(patch_size)\n",
        "        # ensure that the image dimensions are divisible by the patch sizes\n",
        "        assert image_height % patch_height == 0 and image_width % patch_width == 0, \\\n",
        "            'Image dimensions must be divisible by the patch size.'\n",
        "        # ensure the pooling strategy is valid\n",
        "        assert pool in {'cls', 'mean'}, 'Pool type must be either cls (cls token) or mean (mean pooling).'\n",
        "        # pooling strategy (CLS token or mean of patches)\n",
        "        self.pool= pool\n",
        "\n",
        "        # define the patch, CLS token, and positional embeddings\n",
        "        self.embedding= Embedding(\n",
        "            image_height, image_width, patch_height, patch_width, channels, n_embed, dropout, p_type\n",
        "        )\n",
        "        # define the transformer encoder\n",
        "        self.encoder= TransformerEncoder(n_embed, n_layer, n_head, d_ff, dropout)\n",
        "        # identity layer (no change to the tensor)\n",
        "        self.latent_space= nn.Identity()\n",
        "        # classification head\n",
        "        self.lm_head= MLPHead(n_embed, d_ff, num_classes, dropout, fine_tune)\n",
        "\n",
        "        # initialize Linear and Conv2d modules with Xavier / fan_avg\n",
        "        for m in self.modules():\n",
        "            if isinstance(m, nn.Linear) or isinstance(m, nn.Conv2d):\n",
        "                nn.init.xavier_uniform_(m.weight)\n",
        "                if m.bias is not None: nn.init.zeros_(m.bias)\n",
        "            elif isinstance(m, nn.LayerNorm):\n",
        "                nn.init.constant_(m.weight, 1.0)\n",
        "                nn.init.zeros_(m.bias)\n",
        "\n",
        "\n",
        "    def pair(self, x):\n",
        "        \"\"\"\n",
        "        Utility function: Converts a single value into a tuple of two values.\n",
        "        If x is already a tuple, it is returned as is.\n",
        "        \"\"\"\n",
        "        return x if isinstance(x, tuple) else (x, x)\n",
        "\n",
        "\n",
        "    def forward(self, img):\n",
        "        # img(batch_size, channels, image_height, image_width)\n",
        "        x= self.embedding(img)  # x(batch_size, num_patches + 1, n_embed)\n",
        "        # forward the embedding through the transformer encoder\n",
        "        x= self.encoder(x)\n",
        "\n",
        "        # extract class token and feature map\n",
        "        cls_token= x[:, 0]\n",
        "        feature_map= x[:, 1:]\n",
        "        # apply pooling operation: 'cls' token or mean of patches\n",
        "        pool_output= cls_token if self.pool == 'cls' else feature_map.mean(dim=1)\n",
        "\n",
        "        # apply the identity transformation (no change to the tensor)\n",
        "        pool_output= self.latent_space(pool_output)\n",
        "        # forward the classifier\n",
        "        logits= self.lm_head(pool_output)\n",
        "\n",
        "        # return CLS token, patch embeddings, and classification results\n",
        "        return cls_token, feature_map, logits\n"
      ]
    },
    {
      "cell_type": "markdown",
      "metadata": {
        "id": "ekVSF73glJv8"
      },
      "source": [
        "**Forward pass:** We have initialized all the components of our ViT, now we just have to call them in the right order for the forward pass.\n",
        "\n",
        "- We first convert the input image into patches, and unfold each patch into a vector.\n",
        "- Then we repeat CLS tokens (along the batch dimension), and we concatenate it on the dimension 1, which is the sequence length. Indeed we learn the parameters for one vector, but it needs to be concatenated to each image, this is why we expand one dimension.\n",
        "- Then we add the position embedding to each token.\n",
        "\n",
        "Next we apply the Transformer Encoder. We then mainly use it to build an output containing 3 things:\n",
        "\n",
        "- The CLS Token (a single vector representation of the image).\n",
        "- The Feature Map (A vectorized representation of each patch of the image)\n",
        "- Classification Head Logits (Optional): This is used in the case of classification task. Note that Vision Transformer can be trained with different tasks, but classification is the task that was originally used.\n",
        "\n",
        "The math reveals a fascinating aspect of ViTs: they rely on data-driven learning, unlike CNNs which rely on fixed, pre-defined filters. ViTs learn to \"see\" patterns in images based on the data they're trained on, demonstrating a unique ability to adapt to different visual styles and complexities. This explains why they perform exceptionally well on large datasets, as they can capture more subtle and nuanced relationships."
      ]
    },
    {
      "cell_type": "code",
      "execution_count": null,
      "metadata": {
        "colab": {
          "base_uri": "https://localhost:8080/"
        },
        "id": "uWCBAOGDMAHW",
        "outputId": "c70bcd87-7800-4e8f-88a9-87406e658bfa"
      },
      "outputs": [
        {
          "output_type": "stream",
          "name": "stdout",
          "text": [
            "Number of parameters: 311599080\n"
          ]
        },
        {
          "output_type": "execute_result",
          "data": {
            "text/plain": [
              "ViT(\n",
              "  (embedding): Embedding(\n",
              "    (patch_embed): PatchEmbedding(\n",
              "      (projection): Sequential(\n",
              "        (0): Conv2d(3, 1024, kernel_size=(16, 16), stride=(16, 16))\n",
              "        (1): Flatten(start_dim=2, end_dim=-1)\n",
              "        (2): Rearrange('b e p -> b p e')\n",
              "      )\n",
              "    )\n",
              "    (norm): LayerNorm((1024,), eps=1e-05, elementwise_affine=True)\n",
              "    (dropout): Dropout(p=0.1, inplace=False)\n",
              "  )\n",
              "  (encoder): TransformerEncoder(\n",
              "    (transformer): ModuleList(\n",
              "      (0-23): 24 x EncoderBlock(\n",
              "        (norm1): LayerNorm((1024,), eps=1e-05, elementwise_affine=True)\n",
              "        (attn): MultiHeadSelfAttention(\n",
              "          (c_attn): Linear(in_features=1024, out_features=3072, bias=True)\n",
              "          (dropout): Dropout(p=0.1, inplace=False)\n",
              "          (o_proj): Linear(in_features=1024, out_features=1024, bias=True)\n",
              "        )\n",
              "        (dropout1): Dropout(p=0.1, inplace=False)\n",
              "        (norm2): LayerNorm((1024,), eps=1e-05, elementwise_affine=True)\n",
              "        (ffn): FeedForward(\n",
              "          (fc1): Linear(in_features=1024, out_features=4096, bias=True)\n",
              "          (activ): GELU(approximate='none')\n",
              "          (dropout): Dropout(p=0.1, inplace=False)\n",
              "          (fc2): Linear(in_features=4096, out_features=1024, bias=True)\n",
              "        )\n",
              "        (dropout2): Dropout(p=0.1, inplace=False)\n",
              "      )\n",
              "    )\n",
              "    (ln_final): LayerNorm((1024,), eps=1e-05, elementwise_affine=True)\n",
              "  )\n",
              "  (latent_space): Identity()\n",
              "  (lm_head): MLPHead(\n",
              "    (c_head): Sequential(\n",
              "      (0): Linear(in_features=1024, out_features=4096, bias=True)\n",
              "      (1): GELU(approximate='none')\n",
              "      (2): Dropout(p=0.1, inplace=False)\n",
              "      (3): Linear(in_features=4096, out_features=1000, bias=True)\n",
              "    )\n",
              "  )\n",
              ")"
            ]
          },
          "metadata": {},
          "execution_count": 12
        }
      ],
      "source": [
        "# --- ViT Large hyperparameters config ---\n",
        "img_size= 224\n",
        "pth_size= 16\n",
        "chs= 3\n",
        "n_classes= 1000  # ImageNet has 1000 classes\n",
        "pool_type='cls'\n",
        "n_emb= 1024\n",
        "n_lyr= 24\n",
        "n_hds= 16\n",
        "d_ffd= 4 * n_emb\n",
        "\n",
        "model= ViT(img_size, pth_size, chs, n_classes, pool_type, n_emb, n_lyr,\n",
        "           n_hds, d_ffd).to(device)\n",
        "\n",
        "count_parameters(model)\n",
        "\n",
        "model"
      ]
    },
    {
      "cell_type": "markdown",
      "source": [
        "# Forward Pass Memory Demand"
      ],
      "metadata": {
        "id": "-b_Lg95WhVc9"
      }
    },
    {
      "cell_type": "code",
      "execution_count": null,
      "metadata": {
        "colab": {
          "base_uri": "https://localhost:8080/"
        },
        "id": "aIHUmqOO3SH8",
        "outputId": "5de017de-40a3-4d5a-aae7-854019f32851"
      },
      "outputs": [
        {
          "output_type": "stream",
          "name": "stdout",
          "text": [
            "CLS Token Shape: torch.Size([64, 1024])\n",
            "Feature Map Shape: torch.Size([64, 196, 1024])\n",
            "Classification Head Logits Shape: torch.Size([64, 1000])\n",
            "Forward Pass Memory: 25235.53 MB\n"
          ]
        }
      ],
      "source": [
        "import torch.cuda as cuda\n",
        "\n",
        "img= [np.random.randn(3, 224, 224) for _ in range(64)]\n",
        "img= torch.tensor(np.array(img), dtype=torch.float32).to(device)\n",
        "\n",
        "cuda.reset_peak_memory_stats()\n",
        "# Run the model\n",
        "model.eval()\n",
        "cls_token, feature_map, logits= model(img)\n",
        "# Measure peak memory usage\n",
        "peak_memory= cuda.max_memory_allocated()\n",
        "\n",
        "print(f'CLS Token Shape: {cls_token.shape}')\n",
        "print(f'Feature Map Shape: {feature_map.shape}')\n",
        "print(f'Classification Head Logits Shape: {logits.shape}')\n",
        "print(f\"Forward Pass Memory: {np.round(peak_memory / 10**6, decimals=2)} MB\")\n",
        "\n",
        "del img, cls_token, feature_map, logits"
      ]
    },
    {
      "cell_type": "code",
      "execution_count": null,
      "metadata": {
        "id": "u1_Wj-sY4C1O"
      },
      "outputs": [],
      "source": [
        "# https://medium.com/@cristianleo120/the-math-behind-vision-transformers-95a64a6f0c1a\n",
        "# https://towardsdatascience.com/how-to-train-a-vision-transformer-vit-from-scratch-f26641f26af2\n",
        "# https://medium.com/@dancerworld60/building-vision-transformers-from-scratch-a-comprehensive-guide-dd244abaad15"
      ]
    },
    {
      "cell_type": "markdown",
      "metadata": {
        "id": "2kmHw50E5sYo"
      },
      "source": [
        "# Training the ViT model from scratch\n",
        "\n",
        "torchvision: Provides utilities for handling vision-related tasks, including datasets and transformations.\n",
        "\n",
        "Before feeding images into the Vision Transformer, we need to preprocess them. The model expects images of size 224x224, so we'll resize our CIFAR-10 images and normalize them.\n",
        "\n",
        "- Training using a light data augmentation (Transformers are data hungry and lack of inductive bias compared to CNNs)."
      ]
    },
    {
      "cell_type": "code",
      "execution_count": null,
      "metadata": {
        "id": "Qg7bvUacPwOB"
      },
      "outputs": [],
      "source": [
        "from torch.utils.data import DataLoader, random_split\n",
        "from torchvision import datasets, transforms"
      ]
    },
    {
      "cell_type": "code",
      "execution_count": null,
      "metadata": {
        "colab": {
          "base_uri": "https://localhost:8080/"
        },
        "id": "4bNAYseXPwbL",
        "outputId": "c8dc9be3-ed4b-4c9f-ef80-517afae91aca"
      },
      "outputs": [
        {
          "output_type": "stream",
          "name": "stderr",
          "text": [
            "100%|██████████| 170M/170M [00:13<00:00, 12.4MB/s]\n"
          ]
        }
      ],
      "source": [
        "# data preparation -- define transformations for the dataset\n",
        "transform= transforms.Compose([\n",
        "    transforms.Resize((224, 224)),\n",
        "    transforms.RandomHorizontalFlip(),  # Horizontal flipping\n",
        "    transforms.ToTensor(),\n",
        "    transforms.Normalize(mean=[0.4914, 0.4822, 0.4465],\n",
        "                         std= [0.2023, 0.1994, 0.2010]),\n",
        "])\n",
        "\n",
        "# load the CIFAR-10 dataset\n",
        "train_dataset= datasets.CIFAR10(root='./data', train=True, download=True, transform=transform)\n",
        "test_dataset = datasets.CIFAR10(root='./data', train=False,download=True, transform=transform)\n",
        "\n",
        "# create data loaders\n",
        "train_size= int(0.9 * len(train_dataset))\n",
        "val_size  = len(train_dataset) - train_size\n",
        "train_dataset, val_dataset= random_split(train_dataset, [train_size, val_size])\n",
        "\n",
        "batch_size= 128\n",
        "train_loader= DataLoader(train_dataset,batch_size=batch_size, shuffle=True)\n",
        "val_loader  = DataLoader(val_dataset,  batch_size=batch_size, shuffle=False)\n",
        "test_loader = DataLoader(test_dataset, batch_size=batch_size, shuffle=False)"
      ]
    },
    {
      "cell_type": "code",
      "execution_count": null,
      "metadata": {
        "colab": {
          "base_uri": "https://localhost:8080/"
        },
        "id": "Kgti6QNVDVJv",
        "outputId": "42164b3a-53ac-409f-ca1e-28484e0cab18"
      },
      "outputs": [
        {
          "output_type": "execute_result",
          "data": {
            "text/plain": [
              "(352, 40)"
            ]
          },
          "metadata": {},
          "execution_count": 15
        }
      ],
      "source": [
        "len(train_loader), len(val_loader)"
      ]
    },
    {
      "cell_type": "markdown",
      "metadata": {
        "id": "EZDlKe77CSIR"
      },
      "source": [
        "# Trainer Function and Cosine LR Decay\n",
        "\n",
        "ViTs benefit from longer training with lower LR in later epochs, making Cosine LR decay a good choice.\n",
        "\n",
        "TODO:\n",
        "- Different model variants.\n",
        "- Logging Learning Rate.\n",
        "- Metric Tracking: adding precision or other metrics to monitor training and validation performance.\n",
        "- Early Stopping: based on validation loss to prevent overfitting.\n",
        "- More epochs of training (200-300 epochs with Cosine LR Decay + Warmup is a solid training)."
      ]
    },
    {
      "cell_type": "code",
      "execution_count": null,
      "metadata": {
        "id": "yGjgxh2yqi7U"
      },
      "outputs": [],
      "source": [
        "class CosineLRDecay:\n",
        "    \"\"\"\n",
        "    Modulates learning rate (LR) based on the iteration (step) number which LR there should be.\n",
        "    \"\"\"\n",
        "\n",
        "    def __init__(self, optimizer, min_lr, max_lr=3e-4, warmup_steps=10,\n",
        "                 max_steps=50) -> None:\n",
        "        self.optimizer= optimizer\n",
        "        self.min_lr= min_lr\n",
        "        self.max_lr= max_lr\n",
        "        self.warmup_steps= warmup_steps\n",
        "        self.max_steps= max_steps\n",
        "        self.last_step= 0\n",
        "        self.last_lr= None\n",
        "\n",
        "\n",
        "    def get_last_lr(self):\n",
        "        return self.last_lr\n",
        "\n",
        "\n",
        "    def get_lr(self, it):\n",
        "        # 1) linear warmup for warmup_iters steps\n",
        "        if it< self.warmup_steps:\n",
        "            return self.max_lr * (it+1) / self.warmup_steps\n",
        "        # 2) if it > lr_decay_iters, return min learning rate\n",
        "        if it> self.max_steps:\n",
        "            return self.min_lr\n",
        "        # 3) in between, use cosine decay down to min learning rate\n",
        "        decay_ratio= (it - self.warmup_steps) / (self.max_steps - self.warmup_steps)\n",
        "        assert 0 <= decay_ratio <= 1\n",
        "        # coeff starts at 1 and goes to 0\n",
        "        coeff= 0.5 * (1.0 + math.cos(math.pi * decay_ratio))\n",
        "\n",
        "        return self.min_lr + coeff * (self.max_lr - self.min_lr)\n",
        "\n",
        "\n",
        "    def step(self):\n",
        "        self.last_lr= self.get_lr(self.last_step)\n",
        "        for param_group in self.optimizer.param_groups:\n",
        "            param_group['lr']= self.last_lr\n",
        "\n",
        "        self.last_step += 1\n"
      ]
    },
    {
      "cell_type": "code",
      "execution_count": null,
      "metadata": {
        "id": "hRh_7GlxPwf6"
      },
      "outputs": [],
      "source": [
        "def trainer(model, train_loader, val_loader, optimizer, criterion, scheduler, epochs,\n",
        "            device, eval_interval=10, verbose=False):\n",
        "\n",
        "    tr_loss_hist= []\n",
        "    vl_loss_hist= []\n",
        "\n",
        "    # --- training loop ---\n",
        "    for epoch in range(epochs):\n",
        "        model.train()\n",
        "        batch_loss= []\n",
        "        start= time.time()\n",
        "\n",
        "        # --- training steps ---\n",
        "        # iterating over all batches\n",
        "        for step, (images, labels) in enumerate(train_loader):\n",
        "            optimizer.zero_grad()\n",
        "\n",
        "            # --- minibatch construction ---\n",
        "            images= images.to(device, non_blocking=True)\n",
        "            labels= labels.to(device, non_blocking=True)\n",
        "\n",
        "            # --- forward pass and get loss ---\n",
        "            _, _, logits= model(images)\n",
        "            loss= criterion(logits, labels)\n",
        "            batch_loss.append(loss.item())\n",
        "\n",
        "            # --- backward pass to calculate the gradients ---\n",
        "            loss.backward()\n",
        "            # torch.nn.utils.clip_grad_norm_(model.parameters(), 1.0)\n",
        "\n",
        "            # --- update the parameters using the gradient ---\n",
        "            optimizer.step()\n",
        "            scheduler.step()\n",
        "\n",
        "        # --- evaluation and track stats ---\n",
        "        tr_loss_hist.append(np.mean(batch_loss))\n",
        "\n",
        "        if epoch% eval_interval== 0 or epoch== epochs-1:\n",
        "            model.eval()\n",
        "            val_loss= []\n",
        "            with torch.no_grad():\n",
        "                for images, labels in val_loader:\n",
        "                    images, labels= images.to(device), labels.to(device)\n",
        "                    _, _, logits= model(images)\n",
        "                    loss_v= criterion(logits, labels)\n",
        "                    val_loss.append(loss_v.item())\n",
        "\n",
        "            val_loss= np.mean(val_loss)\n",
        "            end= time.time()\n",
        "            dt= end - start\n",
        "\n",
        "            if verbose:\n",
        "                print(f\"Epoch: {epoch} | Train Loss: {tr_loss_hist[-1]:.4f} | \"\n",
        "                      f\"Val Loss: {val_loss:.4f} | dt/epoch: {dt*1000:.2f}ms\")\n",
        "\n",
        "        vl_loss_hist.append(val_loss)\n",
        "\n",
        "    return tr_loss_hist, vl_loss_hist\n"
      ]
    },
    {
      "cell_type": "code",
      "source": [
        "def evaluate_model(model, test_loader, device, verbose=False):\n",
        "    model.eval()\n",
        "    correct= 0\n",
        "    total= 0\n",
        "\n",
        "    with torch.no_grad():\n",
        "        for images, labels in test_loader:\n",
        "            images, labels= images.to(device), labels.to(device)\n",
        "            _, _, logits= model(images)\n",
        "            y_pred= torch.argmax(logits, dim=1)\n",
        "            correct += (y_pred == labels).sum().item()\n",
        "            total += labels.size(0)\n",
        "\n",
        "    acc= correct / total\n",
        "    if verbose:\n",
        "        print(f\"Accuracy: {(acc * 100):.2f}%\")\n",
        "\n",
        "    return acc\n"
      ],
      "metadata": {
        "id": "d2XfyaznRZ16"
      },
      "execution_count": null,
      "outputs": []
    },
    {
      "cell_type": "code",
      "source": [
        "def plot_losses(train_loss, valid_loss):\n",
        "    # plot training and validation losses\n",
        "    plt.plot(train_loss, label='Train Loss')\n",
        "    plt.plot(valid_loss, label='Validation Loss')\n",
        "    plt.title('Losses')\n",
        "    plt.xlabel('Epochs')\n",
        "    plt.ylabel('Loss')\n",
        "    plt.legend()\n",
        "    plt.grid()"
      ],
      "metadata": {
        "id": "-rPIDxfiV2SO"
      },
      "execution_count": null,
      "outputs": []
    },
    {
      "cell_type": "markdown",
      "metadata": {
        "id": "fgHGvEIaCntB"
      },
      "source": [
        "# Training setup using TF32 and Fused AdamW"
      ]
    },
    {
      "cell_type": "code",
      "source": [
        "use_fused= False\n",
        "\n",
        "if device== 'cuda': # TF32 computationally more efficient (slightly the same precision of FP32)\n",
        "    torch.set_float32_matmul_precision('high')\n",
        "    # create AdamW optimizer and use the fused version of it is available\n",
        "    fused_available= 'fused' in inspect.signature(torch.optim.AdamW).parameters\n",
        "    # fused is a lot faster when it is available and when running on cuda\n",
        "    use_fused= fused_available\n",
        "\n",
        "    # Enable flash attention\n",
        "    torch.backends.cuda.enable_flash_sdp(True)\n"
      ],
      "metadata": {
        "id": "Bo0RyXa7JsDQ"
      },
      "execution_count": null,
      "outputs": []
    },
    {
      "cell_type": "markdown",
      "source": [
        "# ViT Base - Conv2d version of the PatchEmbedding module"
      ],
      "metadata": {
        "id": "KIQZW0J-6cXe"
      }
    },
    {
      "cell_type": "code",
      "execution_count": null,
      "metadata": {
        "colab": {
          "base_uri": "https://localhost:8080/"
        },
        "outputId": "a8c227c1-feaf-4ad1-bd92-6bfbe3345416",
        "id": "OxwQ9YsZ6cXf"
      },
      "outputs": [
        {
          "output_type": "stream",
          "name": "stdout",
          "text": [
            "Number of parameters: 88193290\n",
            "Using fused AdamW: True\n"
          ]
        }
      ],
      "source": [
        "# --- ViT Base hyperparameters config ---\n",
        "img_size= 224\n",
        "pth_size= 16\n",
        "chs= 3\n",
        "n_classes= 10   # CIFAR-10 has 10 classes\n",
        "pool_type='cls'\n",
        "n_emb= 768\n",
        "n_lyr= 12\n",
        "n_hds= 12\n",
        "d_ffd= 4 * n_emb\n",
        "p_type= 'conv'\n",
        "fine_tune= False\n",
        "\n",
        "\n",
        "vit_model= ViT(img_size, pth_size, chs, n_classes, pool_type, n_emb, n_lyr,\n",
        "               n_hds, d_ffd, p_type=p_type, fine_tune=fine_tune).to(device)\n",
        "\n",
        "count_parameters(vit_model)\n",
        "\n",
        "\n",
        "# train_loader has size 352, so 20 epochs have 7,040 steps\n",
        "epochs= 20\n",
        "steps= len(train_loader) * epochs\n",
        "learning_rate= 3e-4\n",
        "\n",
        "max_lr= learning_rate\n",
        "min_lr= 3e-5\n",
        "warmup_steps= 704  # 2 epochs of warmup\n",
        "max_steps= steps\n",
        "\n",
        "optimizer= torch.optim.AdamW(\n",
        "    vit_model.parameters(), lr=learning_rate, betas=(0.9, 0.999), weight_decay=0.1,\n",
        "    fused=use_fused\n",
        ")\n",
        "print(f\"Using fused AdamW: {use_fused}\")\n",
        "criterion= nn.CrossEntropyLoss()\n",
        "scheduler= CosineLRDecay(optimizer, min_lr, max_lr, warmup_steps, max_steps)\n"
      ]
    },
    {
      "cell_type": "code",
      "source": [
        "tr_loss, vl_loss= trainer(vit_model, train_loader, val_loader, optimizer, criterion, scheduler,\n",
        "                          epochs, device, eval_interval=1, verbose=True)"
      ],
      "metadata": {
        "colab": {
          "base_uri": "https://localhost:8080/"
        },
        "outputId": "9f9c10bf-8dfd-4562-db69-70fa8fc13a97",
        "id": "khYNAvGu6cXg"
      },
      "execution_count": null,
      "outputs": [
        {
          "output_type": "stream",
          "name": "stdout",
          "text": [
            "Epoch: 0 | Train Loss: 1.9811 | Val Loss: 1.8140 | dt/epoch: 102963.26ms\n",
            "Epoch: 1 | Train Loss: 1.6333 | Val Loss: 1.5060 | dt/epoch: 101811.44ms\n",
            "Epoch: 2 | Train Loss: 1.4733 | Val Loss: 1.4413 | dt/epoch: 101788.55ms\n",
            "Epoch: 3 | Train Loss: 1.3583 | Val Loss: 1.2549 | dt/epoch: 102215.16ms\n",
            "Epoch: 4 | Train Loss: 1.2709 | Val Loss: 1.2071 | dt/epoch: 101870.81ms\n",
            "Epoch: 5 | Train Loss: 1.2096 | Val Loss: 1.1786 | dt/epoch: 102060.29ms\n",
            "Epoch: 6 | Train Loss: 1.1588 | Val Loss: 1.1666 | dt/epoch: 102134.15ms\n",
            "Epoch: 7 | Train Loss: 1.0931 | Val Loss: 1.0866 | dt/epoch: 101793.54ms\n",
            "Epoch: 8 | Train Loss: 1.0448 | Val Loss: 1.0146 | dt/epoch: 101879.71ms\n",
            "Epoch: 9 | Train Loss: 0.9777 | Val Loss: 1.0429 | dt/epoch: 101923.41ms\n",
            "Epoch: 10 | Train Loss: 0.9194 | Val Loss: 0.9422 | dt/epoch: 102407.73ms\n",
            "Epoch: 11 | Train Loss: 0.8599 | Val Loss: 0.9247 | dt/epoch: 102001.88ms\n",
            "Epoch: 12 | Train Loss: 0.7840 | Val Loss: 0.8560 | dt/epoch: 102070.13ms\n",
            "Epoch: 13 | Train Loss: 0.7159 | Val Loss: 0.8612 | dt/epoch: 102270.80ms\n",
            "Epoch: 14 | Train Loss: 0.6365 | Val Loss: 0.8364 | dt/epoch: 101435.25ms\n",
            "Epoch: 15 | Train Loss: 0.5619 | Val Loss: 0.7901 | dt/epoch: 102529.86ms\n",
            "Epoch: 16 | Train Loss: 0.4830 | Val Loss: 0.8146 | dt/epoch: 102199.70ms\n",
            "Epoch: 17 | Train Loss: 0.4099 | Val Loss: 0.8254 | dt/epoch: 102559.73ms\n",
            "Epoch: 18 | Train Loss: 0.3506 | Val Loss: 0.8340 | dt/epoch: 102377.20ms\n",
            "Epoch: 19 | Train Loss: 0.3012 | Val Loss: 0.8770 | dt/epoch: 104271.96ms\n"
          ]
        }
      ]
    },
    {
      "cell_type": "code",
      "source": [
        "# plot\n",
        "plot_losses(tr_loss, vl_loss)"
      ],
      "metadata": {
        "id": "mf0jYRsu6cXh",
        "colab": {
          "base_uri": "https://localhost:8080/",
          "height": 472
        },
        "outputId": "27de766b-c399-4c19-e7be-e5d7305443e0"
      },
      "execution_count": null,
      "outputs": [
        {
          "output_type": "display_data",
          "data": {
            "text/plain": [
              "<Figure size 640x480 with 1 Axes>"
            ],
            "image/png": "[encoded data removed]"
          },
          "metadata": {}
        }
      ]
    },
    {
      "cell_type": "code",
      "source": [
        "vit_acc= evaluate_model(vit_model, test_loader, device, verbose=True)"
      ],
      "metadata": {
        "id": "YXDbnH9I6cXi",
        "colab": {
          "base_uri": "https://localhost:8080/"
        },
        "outputId": "6f935908-099b-4bd7-cfed-4d8f9e50caa7"
      },
      "execution_count": null,
      "outputs": [
        {
          "output_type": "stream",
          "name": "stdout",
          "text": [
            "Accuracy: 72.45%\n"
          ]
        }
      ]
    },
    {
      "cell_type": "code",
      "source": [
        "del vit_model, optimizer, scheduler\n",
        "torch.cuda.empty_cache()\n",
        "\n",
        "# --- ViT Base hyperparameters config ---\n",
        "p_type= 'conv'\n",
        "fine_tune= True  # --- using the lightweight classification head ---\n",
        "\n",
        "\n",
        "vit_model= ViT(img_size, pth_size, chs, n_classes, pool_type, n_emb, n_lyr,\n",
        "               n_hds, d_ffd, p_type=p_type, fine_tune=fine_tune).to(device)\n",
        "\n",
        "count_parameters(vit_model)\n",
        "\n",
        "\n",
        "# train_loader has size 352, so 20 epochs have 7,040 steps\n",
        "epochs= 20\n",
        "steps= len(train_loader) * epochs\n",
        "learning_rate= 3e-4\n",
        "\n",
        "max_lr= learning_rate\n",
        "min_lr= 3e-5\n",
        "warmup_steps= 704  # 2 epochs of warmup\n",
        "max_steps= steps\n",
        "\n",
        "optimizer= torch.optim.AdamW(\n",
        "    vit_model.parameters(), lr=learning_rate, betas=(0.9, 0.999), weight_decay=0.1,\n",
        "    fused=use_fused\n",
        ")\n",
        "print(f\"Using fused AdamW: {use_fused}\")\n",
        "criterion= nn.CrossEntropyLoss()\n",
        "scheduler= CosineLRDecay(optimizer, min_lr, max_lr, warmup_steps, max_steps)\n"
      ],
      "metadata": {
        "id": "-lA9Ghvu6cXj",
        "colab": {
          "base_uri": "https://localhost:8080/"
        },
        "outputId": "93628425-fd96-426a-ba87-a82c13e6a57e"
      },
      "execution_count": null,
      "outputs": [
        {
          "output_type": "stream",
          "name": "stdout",
          "text": [
            "Number of parameters: 85807882\n",
            "Using fused AdamW: True\n"
          ]
        }
      ]
    },
    {
      "cell_type": "code",
      "source": [
        "tr_loss, vl_loss= trainer(vit_model, train_loader, val_loader, optimizer, criterion, scheduler,\n",
        "                          epochs, device, eval_interval=1, verbose=True)"
      ],
      "metadata": {
        "id": "Rytgb0_I6cXk",
        "colab": {
          "base_uri": "https://localhost:8080/"
        },
        "outputId": "78ac760a-b6bc-4b40-e9db-cfc131dea6fb"
      },
      "execution_count": null,
      "outputs": [
        {
          "output_type": "stream",
          "name": "stdout",
          "text": [
            "Epoch: 0 | Train Loss: 2.3498 | Val Loss: 1.8083 | dt/epoch: 103360.74ms\n",
            "Epoch: 1 | Train Loss: 1.6702 | Val Loss: 1.5724 | dt/epoch: 103369.66ms\n",
            "Epoch: 2 | Train Loss: 1.4640 | Val Loss: 1.3936 | dt/epoch: 103172.42ms\n",
            "Epoch: 3 | Train Loss: 1.3135 | Val Loss: 1.2259 | dt/epoch: 103329.21ms\n",
            "Epoch: 4 | Train Loss: 1.2260 | Val Loss: 1.2254 | dt/epoch: 103564.92ms\n",
            "Epoch: 5 | Train Loss: 1.1500 | Val Loss: 1.2190 | dt/epoch: 103529.26ms\n",
            "Epoch: 6 | Train Loss: 1.0914 | Val Loss: 1.1597 | dt/epoch: 103580.85ms\n",
            "Epoch: 7 | Train Loss: 1.0477 | Val Loss: 1.0061 | dt/epoch: 103745.55ms\n",
            "Epoch: 8 | Train Loss: 0.9901 | Val Loss: 1.0047 | dt/epoch: 103793.52ms\n",
            "Epoch: 9 | Train Loss: 0.9254 | Val Loss: 0.9928 | dt/epoch: 103773.35ms\n",
            "Epoch: 10 | Train Loss: 0.8645 | Val Loss: 0.9056 | dt/epoch: 103625.43ms\n",
            "Epoch: 11 | Train Loss: 0.8134 | Val Loss: 0.8523 | dt/epoch: 103478.65ms\n",
            "Epoch: 12 | Train Loss: 0.7419 | Val Loss: 0.8526 | dt/epoch: 103614.38ms\n",
            "Epoch: 13 | Train Loss: 0.6773 | Val Loss: 0.8262 | dt/epoch: 102820.07ms\n",
            "Epoch: 14 | Train Loss: 0.6037 | Val Loss: 0.8036 | dt/epoch: 102348.59ms\n",
            "Epoch: 15 | Train Loss: 0.5290 | Val Loss: 0.7835 | dt/epoch: 101738.66ms\n",
            "Epoch: 16 | Train Loss: 0.4511 | Val Loss: 0.8256 | dt/epoch: 101823.44ms\n",
            "Epoch: 17 | Train Loss: 0.3794 | Val Loss: 0.8623 | dt/epoch: 101728.59ms\n",
            "Epoch: 18 | Train Loss: 0.3217 | Val Loss: 0.9080 | dt/epoch: 102044.42ms\n",
            "Epoch: 19 | Train Loss: 0.2708 | Val Loss: 1.0188 | dt/epoch: 102213.62ms\n"
          ]
        }
      ]
    },
    {
      "cell_type": "code",
      "source": [
        "# plot\n",
        "plot_losses(tr_loss, vl_loss)"
      ],
      "metadata": {
        "id": "hXywPopI6cXl",
        "colab": {
          "base_uri": "https://localhost:8080/",
          "height": 472
        },
        "outputId": "64dd71b3-74bc-43de-9960-7c34a4dfe561"
      },
      "execution_count": null,
      "outputs": [
        {
          "output_type": "display_data",
          "data": {
            "text/plain": [
              "<Figure size 640x480 with 1 Axes>"
            ],
            "image/png": "[encoded data removed]"
          },
          "metadata": {}
        }
      ]
    },
    {
      "cell_type": "code",
      "source": [
        "vit_acc= evaluate_model(vit_model, test_loader, device, verbose=True)"
      ],
      "metadata": {
        "id": "R1PEOz0U6cXl",
        "colab": {
          "base_uri": "https://localhost:8080/"
        },
        "outputId": "1add4a82-9c1f-4a30-e024-14cf00fabeeb"
      },
      "execution_count": null,
      "outputs": [
        {
          "output_type": "stream",
          "name": "stdout",
          "text": [
            "Accuracy: 73.28%\n"
          ]
        }
      ]
    },
    {
      "cell_type": "markdown",
      "source": [
        "# ViT Base - Linear version of the PatchEmbedding module"
      ],
      "metadata": {
        "id": "tLmB8oFJ6cXm"
      }
    },
    {
      "cell_type": "code",
      "source": [
        "del vit_model, optimizer, scheduler\n",
        "torch.cuda.empty_cache()\n",
        "\n",
        "# --- ViT Base hyperparameters config ---\n",
        "p_type= 'linear'\n",
        "fine_tune= False\n",
        "\n",
        "\n",
        "vit_model= ViT(img_size, pth_size, chs, n_classes, pool_type, n_emb, n_lyr,\n",
        "               n_hds, d_ffd, p_type=p_type, fine_tune=fine_tune).to(device)\n",
        "\n",
        "count_parameters(vit_model)\n",
        "\n",
        "\n",
        "# train_loader has size 352, so 20 epochs have 7,040 steps\n",
        "epochs= 20\n",
        "steps= len(train_loader) * epochs\n",
        "learning_rate= 3e-4\n",
        "\n",
        "max_lr= learning_rate\n",
        "min_lr= 3e-5\n",
        "warmup_steps= 704  # 2 epochs of warmup\n",
        "max_steps= steps\n",
        "\n",
        "optimizer= torch.optim.AdamW(\n",
        "    vit_model.parameters(), lr=learning_rate, betas=(0.9, 0.999), weight_decay=0.1,\n",
        "    fused=use_fused\n",
        ")\n",
        "print(f\"Using fused AdamW: {use_fused}\")\n",
        "criterion= nn.CrossEntropyLoss()\n",
        "scheduler= CosineLRDecay(optimizer, min_lr, max_lr, warmup_steps, max_steps)\n"
      ],
      "metadata": {
        "id": "47Ftplsz6cXn",
        "colab": {
          "base_uri": "https://localhost:8080/"
        },
        "outputId": "e16497b5-5bfb-47d2-e9cc-f6cb54f2a73c"
      },
      "execution_count": null,
      "outputs": [
        {
          "output_type": "stream",
          "name": "stdout",
          "text": [
            "Number of parameters: 88193290\n",
            "Using fused AdamW: True\n"
          ]
        }
      ]
    },
    {
      "cell_type": "code",
      "source": [
        "tr_loss, vl_loss= trainer(vit_model, train_loader, val_loader, optimizer, criterion, scheduler,\n",
        "                          epochs, device, eval_interval=1, verbose=True)"
      ],
      "metadata": {
        "id": "jcgbi9rO6cXo",
        "colab": {
          "base_uri": "https://localhost:8080/"
        },
        "outputId": "dd633446-28bd-4497-99dd-392278d8bdc5"
      },
      "execution_count": null,
      "outputs": [
        {
          "output_type": "stream",
          "name": "stdout",
          "text": [
            "Epoch: 0 | Train Loss: 2.0182 | Val Loss: 1.7873 | dt/epoch: 100497.64ms\n",
            "Epoch: 1 | Train Loss: 1.5529 | Val Loss: 1.4649 | dt/epoch: 100995.49ms\n",
            "Epoch: 2 | Train Loss: 1.4093 | Val Loss: 1.3650 | dt/epoch: 101058.51ms\n",
            "Epoch: 3 | Train Loss: 1.3174 | Val Loss: 1.3905 | dt/epoch: 101417.06ms\n",
            "Epoch: 4 | Train Loss: 1.2452 | Val Loss: 1.2660 | dt/epoch: 101147.52ms\n",
            "Epoch: 5 | Train Loss: 1.1830 | Val Loss: 1.1759 | dt/epoch: 101364.90ms\n",
            "Epoch: 6 | Train Loss: 1.1373 | Val Loss: 1.1713 | dt/epoch: 100681.10ms\n",
            "Epoch: 7 | Train Loss: 1.0909 | Val Loss: 1.0863 | dt/epoch: 100729.12ms\n",
            "Epoch: 8 | Train Loss: 1.0147 | Val Loss: 0.9956 | dt/epoch: 100706.33ms\n",
            "Epoch: 9 | Train Loss: 0.9649 | Val Loss: 0.9871 | dt/epoch: 100562.64ms\n",
            "Epoch: 10 | Train Loss: 0.9018 | Val Loss: 0.9280 | dt/epoch: 101316.25ms\n",
            "Epoch: 11 | Train Loss: 0.8293 | Val Loss: 0.9063 | dt/epoch: 101063.11ms\n",
            "Epoch: 12 | Train Loss: 0.7533 | Val Loss: 0.8832 | dt/epoch: 101320.39ms\n",
            "Epoch: 13 | Train Loss: 0.6868 | Val Loss: 0.8366 | dt/epoch: 101006.97ms\n",
            "Epoch: 14 | Train Loss: 0.6015 | Val Loss: 0.8273 | dt/epoch: 101564.70ms\n",
            "Epoch: 15 | Train Loss: 0.5204 | Val Loss: 0.8021 | dt/epoch: 102267.23ms\n",
            "Epoch: 16 | Train Loss: 0.4407 | Val Loss: 0.8223 | dt/epoch: 102270.21ms\n",
            "Epoch: 17 | Train Loss: 0.3680 | Val Loss: 0.8395 | dt/epoch: 102185.04ms\n",
            "Epoch: 18 | Train Loss: 0.3092 | Val Loss: 0.8867 | dt/epoch: 102196.83ms\n",
            "Epoch: 19 | Train Loss: 0.2658 | Val Loss: 0.9081 | dt/epoch: 102290.72ms\n"
          ]
        }
      ]
    },
    {
      "cell_type": "code",
      "source": [
        "# plot\n",
        "plot_losses(tr_loss, vl_loss)"
      ],
      "metadata": {
        "id": "Ciqup6Yt6cXp",
        "colab": {
          "base_uri": "https://localhost:8080/",
          "height": 472
        },
        "outputId": "3617cabd-8aae-4434-ec6e-71aa47806185"
      },
      "execution_count": null,
      "outputs": [
        {
          "output_type": "display_data",
          "data": {
            "text/plain": [
              "<Figure size 640x480 with 1 Axes>"
            ],
            "image/png": "[encoded data removed]"
          },
          "metadata": {}
        }
      ]
    },
    {
      "cell_type": "code",
      "source": [
        "vit_acc= evaluate_model(vit_model, test_loader, device, verbose=True)"
      ],
      "metadata": {
        "id": "Bmms-BSa6cXq",
        "colab": {
          "base_uri": "https://localhost:8080/"
        },
        "outputId": "8a8ebab4-cfde-45ed-8894-ddcc7ce162c2"
      },
      "execution_count": null,
      "outputs": [
        {
          "output_type": "stream",
          "name": "stdout",
          "text": [
            "Accuracy: 72.22%\n"
          ]
        }
      ]
    },
    {
      "cell_type": "code",
      "source": [
        "del vit_model, optimizer, scheduler\n",
        "torch.cuda.empty_cache()\n",
        "\n",
        "# --- ViT Base hyperparameters config ---\n",
        "p_type= 'linear'\n",
        "fine_tune= True  # --- using the lightweight classification head ---\n",
        "\n",
        "\n",
        "vit_model= ViT(img_size, pth_size, chs, n_classes, pool_type, n_emb, n_lyr,\n",
        "               n_hds, d_ffd, p_type=p_type, fine_tune=fine_tune).to(device)\n",
        "\n",
        "count_parameters(vit_model)\n",
        "\n",
        "\n",
        "# train_loader has size 352, so 20 epochs have 7,040 steps\n",
        "epochs= 20\n",
        "steps= len(train_loader) * epochs\n",
        "learning_rate= 3e-4\n",
        "\n",
        "max_lr= learning_rate\n",
        "min_lr= 3e-5\n",
        "warmup_steps= 704  # 2 epochs of warmup\n",
        "max_steps= steps\n",
        "\n",
        "optimizer= torch.optim.AdamW(\n",
        "    vit_model.parameters(), lr=learning_rate, betas=(0.9, 0.999), weight_decay=0.1,\n",
        "    fused=use_fused\n",
        ")\n",
        "print(f\"Using fused AdamW: {use_fused}\")\n",
        "criterion= nn.CrossEntropyLoss()\n",
        "scheduler= CosineLRDecay(optimizer, min_lr, max_lr, warmup_steps, max_steps)\n"
      ],
      "metadata": {
        "id": "Wk7VbXLs6cXq",
        "colab": {
          "base_uri": "https://localhost:8080/"
        },
        "outputId": "b025aefe-2309-41c3-84c3-e714e047f8a1"
      },
      "execution_count": null,
      "outputs": [
        {
          "output_type": "stream",
          "name": "stdout",
          "text": [
            "Number of parameters: 85807882\n",
            "Using fused AdamW: True\n"
          ]
        }
      ]
    },
    {
      "cell_type": "code",
      "source": [
        "tr_loss, vl_loss= trainer(vit_model, train_loader, val_loader, optimizer, criterion, scheduler,\n",
        "                          epochs, device, eval_interval=1, verbose=True)"
      ],
      "metadata": {
        "id": "53DElT5f6cXr",
        "colab": {
          "base_uri": "https://localhost:8080/"
        },
        "outputId": "1fe346c8-396b-4721-9ef2-46afd2b46987"
      },
      "execution_count": null,
      "outputs": [
        {
          "output_type": "stream",
          "name": "stdout",
          "text": [
            "Epoch: 0 | Train Loss: 2.3613 | Val Loss: 1.7131 | dt/epoch: 102382.95ms\n",
            "Epoch: 1 | Train Loss: 1.5698 | Val Loss: 1.4469 | dt/epoch: 102304.55ms\n",
            "Epoch: 2 | Train Loss: 1.3983 | Val Loss: 1.3410 | dt/epoch: 102232.43ms\n",
            "Epoch: 3 | Train Loss: 1.2831 | Val Loss: 1.2403 | dt/epoch: 102179.79ms\n",
            "Epoch: 4 | Train Loss: 1.2081 | Val Loss: 1.2049 | dt/epoch: 101934.83ms\n",
            "Epoch: 5 | Train Loss: 1.1489 | Val Loss: 1.1640 | dt/epoch: 102474.27ms\n",
            "Epoch: 6 | Train Loss: 1.0804 | Val Loss: 1.0210 | dt/epoch: 102340.11ms\n",
            "Epoch: 7 | Train Loss: 1.0410 | Val Loss: 1.0227 | dt/epoch: 102002.52ms\n",
            "Epoch: 8 | Train Loss: 0.9734 | Val Loss: 0.9837 | dt/epoch: 101807.66ms\n",
            "Epoch: 9 | Train Loss: 0.9335 | Val Loss: 0.9032 | dt/epoch: 102029.65ms\n",
            "Epoch: 10 | Train Loss: 0.8626 | Val Loss: 0.9270 | dt/epoch: 102019.68ms\n",
            "Epoch: 11 | Train Loss: 0.7900 | Val Loss: 0.8862 | dt/epoch: 102151.37ms\n",
            "Epoch: 12 | Train Loss: 0.7341 | Val Loss: 0.8519 | dt/epoch: 102334.40ms\n",
            "Epoch: 13 | Train Loss: 0.6651 | Val Loss: 0.8400 | dt/epoch: 102587.28ms\n",
            "Epoch: 14 | Train Loss: 0.6044 | Val Loss: 0.7956 | dt/epoch: 102369.20ms\n",
            "Epoch: 15 | Train Loss: 0.5231 | Val Loss: 0.7938 | dt/epoch: 102750.97ms\n",
            "Epoch: 16 | Train Loss: 0.4522 | Val Loss: 0.8229 | dt/epoch: 102629.75ms\n",
            "Epoch: 17 | Train Loss: 0.3845 | Val Loss: 0.8721 | dt/epoch: 102082.61ms\n",
            "Epoch: 18 | Train Loss: 0.3280 | Val Loss: 0.8902 | dt/epoch: 102623.67ms\n",
            "Epoch: 19 | Train Loss: 0.2847 | Val Loss: 0.9160 | dt/epoch: 102325.36ms\n"
          ]
        }
      ]
    },
    {
      "cell_type": "code",
      "source": [
        "# plot\n",
        "plot_losses(tr_loss, vl_loss)"
      ],
      "metadata": {
        "id": "Cpj8s8lc6cXs",
        "colab": {
          "base_uri": "https://localhost:8080/",
          "height": 472
        },
        "outputId": "b962b898-eed1-4e9d-f4dc-fdd803ddacf5"
      },
      "execution_count": null,
      "outputs": [
        {
          "output_type": "display_data",
          "data": {
            "text/plain": [
              "<Figure size 640x480 with 1 Axes>"
            ],
            "image/png": "[encoded data removed]"
          },
          "metadata": {}
        }
      ]
    },
    {
      "cell_type": "code",
      "source": [
        "vit_acc= evaluate_model(vit_model, test_loader, device, verbose=True)"
      ],
      "metadata": {
        "id": "wYjQuTjE6cXt",
        "colab": {
          "base_uri": "https://localhost:8080/"
        },
        "outputId": "0beb69aa-671a-407e-de6e-e5dea1ffeed9"
      },
      "execution_count": null,
      "outputs": [
        {
          "output_type": "stream",
          "name": "stdout",
          "text": [
            "Accuracy: 73.73%\n"
          ]
        }
      ]
    },
    {
      "cell_type": "markdown",
      "source": [
        "# Training the ViT Large\n",
        "\n",
        "TODO:\n",
        "- Use a more robust dataset.\n",
        "- Training with heavy data augmentation.\n",
        "- More epochs of training (starting with 200-300 epochs with Cosine LR Decay + Warmup)."
      ],
      "metadata": {
        "id": "_AX4Bh3mlUjR"
      }
    },
    {
      "cell_type": "code",
      "source": [
        "# reducing the batch_size from 128 to 64 to fit the training in a 40 GB memory GPU\n",
        "batch_size= 64\n",
        "train_loader= DataLoader(train_dataset,batch_size=batch_size, shuffle=True)\n",
        "val_loader  = DataLoader(val_dataset,  batch_size=batch_size, shuffle=False)\n",
        "test_loader = DataLoader(test_dataset, batch_size=batch_size, shuffle=False)\n",
        "\n",
        "len(train_loader), len(val_loader)"
      ],
      "metadata": {
        "colab": {
          "base_uri": "https://localhost:8080/"
        },
        "id": "GhMX1vigxjpJ",
        "outputId": "82662e37-3df6-417a-92d8-2392b9a7c0c0"
      },
      "execution_count": null,
      "outputs": [
        {
          "output_type": "execute_result",
          "data": {
            "text/plain": [
              "(704, 79)"
            ]
          },
          "metadata": {},
          "execution_count": 22
        }
      ]
    },
    {
      "cell_type": "code",
      "source": [
        "del vit_model, optimizer, scheduler\n",
        "torch.cuda.empty_cache()\n",
        "\n",
        "# --- ViT Large hyperparameters config ---\n",
        "img_size= 224\n",
        "pth_size= 16\n",
        "chs= 3\n",
        "n_classes= 10   # CIFAR-10 has 10 classes\n",
        "pool_type='cls'\n",
        "n_emb= 1024\n",
        "n_lyr= 24\n",
        "n_hds= 16\n",
        "d_ffd= 4 * n_emb\n",
        "p_type= 'conv'   # Conv2d version\n",
        "fine_tune= True  # --- using the lightweight classification head ---\n",
        "\n",
        "\n",
        "vit_model= ViT(img_size, pth_size, chs, n_classes, pool_type, n_emb, n_lyr,\n",
        "               n_hds, d_ffd, p_type=p_type, fine_tune=fine_tune).to(device)\n",
        "\n",
        "count_parameters(vit_model)\n",
        "\n",
        "\n",
        "# train_loader has size 704, so 10 epochs have 7,040 steps\n",
        "epochs= 10\n",
        "steps= len(train_loader) * epochs\n",
        "learning_rate= 1e-4\n",
        "\n",
        "max_lr= learning_rate\n",
        "min_lr= 1e-5\n",
        "warmup_steps= 704  # 1 epoch of warmup\n",
        "max_steps= steps\n",
        "\n",
        "optimizer= torch.optim.AdamW(\n",
        "    vit_model.parameters(), lr=learning_rate, betas=(0.9, 0.999), weight_decay=0.1,\n",
        "    fused=use_fused\n",
        ")\n",
        "print(f\"Using fused AdamW: {use_fused}\")\n",
        "criterion= nn.CrossEntropyLoss()\n",
        "scheduler= CosineLRDecay(optimizer, min_lr, max_lr, warmup_steps, max_steps)\n"
      ],
      "metadata": {
        "colab": {
          "base_uri": "https://localhost:8080/"
        },
        "id": "hdkvo1bTla7h",
        "outputId": "0f94d1c5-6a01-4483-caff-1ad683dcaf87"
      },
      "execution_count": null,
      "outputs": [
        {
          "output_type": "stream",
          "name": "stdout",
          "text": [
            "Number of parameters: 303313930\n",
            "Using fused AdamW: True\n"
          ]
        }
      ]
    },
    {
      "cell_type": "code",
      "source": [
        "tr_loss, vl_loss= trainer(vit_model, train_loader, val_loader, optimizer, criterion, scheduler,\n",
        "                          epochs, device, eval_interval=1, verbose=True)"
      ],
      "metadata": {
        "colab": {
          "base_uri": "https://localhost:8080/"
        },
        "id": "s-ggdsDDlbKJ",
        "outputId": "fa6e239f-38d5-4117-e927-cada03b1869d"
      },
      "execution_count": null,
      "outputs": [
        {
          "output_type": "stream",
          "name": "stdout",
          "text": [
            "Epoch: 0 | Train Loss: 2.1846 | Val Loss: 1.8953 | dt/epoch: 303540.87ms\n",
            "Epoch: 1 | Train Loss: 1.5772 | Val Loss: 1.6838 | dt/epoch: 303536.20ms\n",
            "Epoch: 2 | Train Loss: 1.3997 | Val Loss: 1.3687 | dt/epoch: 303796.32ms\n",
            "Epoch: 3 | Train Loss: 1.2884 | Val Loss: 1.3685 | dt/epoch: 303729.63ms\n",
            "Epoch: 4 | Train Loss: 1.1907 | Val Loss: 1.2144 | dt/epoch: 304235.34ms\n",
            "Epoch: 5 | Train Loss: 1.0924 | Val Loss: 1.0897 | dt/epoch: 304611.12ms\n",
            "Epoch: 6 | Train Loss: 1.0024 | Val Loss: 1.0732 | dt/epoch: 304052.70ms\n",
            "Epoch: 7 | Train Loss: 0.8983 | Val Loss: 0.9688 | dt/epoch: 303738.27ms\n",
            "Epoch: 8 | Train Loss: 0.8094 | Val Loss: 0.9213 | dt/epoch: 303687.11ms\n",
            "Epoch: 9 | Train Loss: 0.7404 | Val Loss: 0.9398 | dt/epoch: 303838.01ms\n"
          ]
        }
      ]
    },
    {
      "cell_type": "code",
      "source": [
        "# plot\n",
        "plot_losses(tr_loss, vl_loss)"
      ],
      "metadata": {
        "colab": {
          "base_uri": "https://localhost:8080/",
          "height": 472
        },
        "id": "rFDNiatelbVs",
        "outputId": "4e7e5cf5-722c-48e6-d38b-ed112ce4644e"
      },
      "execution_count": null,
      "outputs": [
        {
          "output_type": "display_data",
          "data": {
            "text/plain": [
              "<Figure size 640x480 with 1 Axes>"
            ],
            "image/png": "[encoded data removed]"
          },
          "metadata": {}
        }
      ]
    },
    {
      "cell_type": "code",
      "source": [
        "vit_acc= evaluate_model(vit_model, test_loader, device, verbose=True)"
      ],
      "metadata": {
        "colab": {
          "base_uri": "https://localhost:8080/"
        },
        "id": "Js-bo8gkl8Cf",
        "outputId": "1dac2690-2e4e-4e01-ea9a-c3b8252c31c1"
      },
      "execution_count": null,
      "outputs": [
        {
          "output_type": "stream",
          "name": "stdout",
          "text": [
            "Accuracy: 67.47%\n"
          ]
        }
      ]
    },
    {
      "cell_type": "markdown",
      "metadata": {
        "id": "k-V2b-1vBfJu"
      },
      "source": [
        "ViTs also have some limitations:\n",
        "\n",
        "- **Data Requirements:** ViTs generally need larger datasets than CNNs to reach their full potential, as their data-driven approach requires more examples to learn complex patterns.\n",
        "- **Computational Cost:** For smaller models, ViTs can be more computationally expensive than CNNs, especially for inference, as their global attention mechanism requires more computations.\n",
        "\n",
        "So, when should we use ViTs and when should we stick with CNNs?\n",
        "\n",
        "- **Large Datasets:** If you have a large amount of training data and need to achieve high accuracy, ViTs are a powerful option.\n",
        "- **Complex Relationships:** For tasks requiring the understanding of intricate relationships across the entire image, ViTs are a better choice.\n",
        "- **Scalability:** If you need a model that scales well, meaning its performance improves as its size increases, ViTs are the way to go."
      ]
    },
    {
      "cell_type": "code",
      "execution_count": null,
      "metadata": {
        "id": "GFYkFDeFwdfO"
      },
      "outputs": [],
      "source": [
        "# https://github.com/kyegomez/Vit-RGTS/blob/main/train.py\n",
        "# https://github.com/FrancoisPorcher/vit-pytorch/tree/5a105d7df3b22815c322d7d386494a49e6c08825"
      ]
    }
  ],
  "metadata": {
    "colab": {
      "toc_visible": true,
      "provenance": [],
      "gpuType": "A100"
    },
    "kernelspec": {
      "display_name": "Python 3",
      "name": "python3"
    },
    "language_info": {
      "name": "python"
    },
    "accelerator": "GPU"
  },
  "nbformat": 4,
  "nbformat_minor": 0
}