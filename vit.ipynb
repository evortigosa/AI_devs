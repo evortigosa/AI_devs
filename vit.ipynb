{
  "cells": [
    {
      "cell_type": "markdown",
      "metadata": {
        "id": "k16_mZAoLVFe"
      },
      "source": [
        "# Vision Transformer (ViT) from scratch\n",
        "\n",
        "Here, one of the most significant contribution in the field of Computer Vision: the Vision Transformer (ViT).\n",
        "\n",
        "With Self-Attention, each part of the image can \"talk\" to every other part, instantly understanding its relationship to the whole. ViTs treat an image as a collection of \"words\" — not individual pixels, but meaningful chunks, like the different elements in a painting. These chunks are called patches. The magic of Self-Attention lets the model understand the relationships between these patches.\n",
        "\n",
        "CNNs, like detectives, focus on local details, meticulously examining each pixel and its immediate surroundings. They excel at recognizing simple patterns and shapes. ViTs, on the other hand, act like art critics, taking in the whole picture, understanding the relationships between elements, and interpreting the artist's intent. They excel at capturing complex relationships and dependencies across the image.\n",
        "\n",
        "- **Accuracy:** In many cases, ViTs achieve higher accuracy than CNNs, especially on tasks that require understanding complex relationships or recognizing nuanced features.\n",
        "- **Scalability:** ViTs exhibit faster neural scaling laws. This means they become more accurate as the model size increases, while CNNs tend to plateau in performance."
      ]
    },
    {
      "cell_type": "code",
      "execution_count": 1,
      "metadata": {
        "id": "rkiYGpqxL6sD"
      },
      "outputs": [],
      "source": [
        "import os\n",
        "import time\n",
        "import math\n",
        "import numpy as np\n",
        "import pandas as pd\n",
        "import matplotlib.pyplot as plt\n",
        "import inspect\n",
        "import torch\n",
        "import torch.nn as nn\n",
        "import torch.nn.functional as F\n",
        "from einops import rearrange, repeat\n",
        "from einops.layers.torch import Rearrange"
      ]
    },
    {
      "cell_type": "code",
      "execution_count": 2,
      "metadata": {
        "id": "Ad5RdiaSL-g7"
      },
      "outputs": [],
      "source": [
        "device= 'cuda' if torch.cuda.is_available() else 'cpu'"
      ]
    },
    {
      "cell_type": "code",
      "execution_count": 3,
      "metadata": {
        "id": "rruAqz68Nz6F"
      },
      "outputs": [],
      "source": [
        "# count how many trainable weights the model has\n",
        "def count_parameters(model) -> None:\n",
        "    total_params= sum(p.numel() for p in model.parameters() if p.requires_grad)\n",
        "    print(f'Number of parameters: {total_params}')"
      ]
    },
    {
      "cell_type": "markdown",
      "metadata": {
        "id": "jyjmDRK9Lx8C"
      },
      "source": [
        "# The Transformer Encoder"
      ]
    },
    {
      "cell_type": "code",
      "execution_count": 4,
      "metadata": {
        "id": "3yhgGeHnLObY"
      },
      "outputs": [],
      "source": [
        "class MultiHeadSelfAttention(nn.Module):\n",
        "    \"\"\"\n",
        "    The Attention Layer.\n",
        "    \"\"\"\n",
        "\n",
        "    def __init__(self, n_embed, n_head, dropout=0.1) -> None:\n",
        "        super(MultiHeadSelfAttention, self).__init__()\n",
        "        assert n_embed % n_head == 0, \"n_embed must be divisible by n_head\"\n",
        "        self.n_embed= n_embed\n",
        "        self.n_head = n_head\n",
        "        self.d_head = n_embed // n_head\n",
        "        # query, key, value projections in a single batch\n",
        "        self.c_attn= nn.Linear(n_embed, 3 * n_embed)\n",
        "        # output projection\n",
        "        self.o_proj= nn.Linear(n_embed, n_embed)\n",
        "        # regularization\n",
        "        self.dropout= nn.Dropout(p=dropout)\n",
        "\n",
        "\n",
        "    def forward(self, x):\n",
        "        B, T, C= x.size() # batch_size, seq_length, embedding dim (d_model)\n",
        "        assert C == self.n_embed, \"Input embedding dimension must match model embedding dimension\"\n",
        "        # 1. calculate query, key, values for all heads\n",
        "        qkv= self.c_attn(x)\n",
        "        q, k, v= qkv.split(self.n_embed, dim=2) # q,k,v -> (B, T, C)\n",
        "        # 2. reshape for Multi-Head Attention\n",
        "        q= q.view(B, -1, self.n_head, self.d_head).transpose(1, 2) # q,k,v view   -> (B, T, nh, dh)\n",
        "        k= k.view(B, -1, self.n_head, self.d_head).transpose(1, 2) # q,k,v transp -> (B, nh, T, dh)\n",
        "        v= v.view(B, -1, self.n_head, self.d_head).transpose(1, 2)\n",
        "        # 3. Attention - the 'scaled dot product'\n",
        "        attn= (q @ k.transpose(-2, -1)) * (1.0 / math.sqrt(self.d_head))\n",
        "        # normalize Attention scores\n",
        "        attn= F.softmax(attn, dim=-1)\n",
        "        attn= self.dropout(attn)\n",
        "        # 4. compute Attention output\n",
        "        y= attn @ v # (B, nh, T, dh)\n",
        "        # 5. concatenate multi-head outputs -- re-assembly all head outputs side by side\n",
        "        y= y.transpose(1, 2).contiguous().view(B, T, C)\n",
        "        # 6. output projection\n",
        "        return self.o_proj(y)\n"
      ]
    },
    {
      "cell_type": "code",
      "execution_count": 5,
      "metadata": {
        "id": "Yf-v31TtL_1Q"
      },
      "outputs": [],
      "source": [
        "class FeedForward(nn.Module):\n",
        "    \"\"\"\n",
        "    The Feed Forward Network (FFN).\n",
        "    \"\"\"\n",
        "\n",
        "    def __init__(self, n_embed, d_ff, dropout=0.1) -> None:\n",
        "        super(FeedForward, self).__init__()\n",
        "        self.ffn= nn.Sequential(\n",
        "            nn.Linear(n_embed, d_ff),\n",
        "            nn.GELU(),\n",
        "            nn.Dropout(p=dropout),\n",
        "            nn.Linear(d_ff, n_embed),\n",
        "        )\n",
        "\n",
        "\n",
        "    def forward(self, x):\n",
        "        x= self.ffn(x)\n",
        "\n",
        "        return x\n"
      ]
    },
    {
      "cell_type": "code",
      "execution_count": 6,
      "metadata": {
        "id": "KBERV_gyL_4T"
      },
      "outputs": [],
      "source": [
        "class EncoderBlock(nn.Module):\n",
        "    \"\"\"\n",
        "    The Ecoder Block (pre-normalization version).\n",
        "    \"\"\"\n",
        "\n",
        "    def __init__(self, n_embed, n_head, d_ff, dropout=0.1) -> None:\n",
        "        super(EncoderBlock, self).__init__()\n",
        "        self.ln_1= nn.LayerNorm(n_embed)\n",
        "        self.attn= MultiHeadSelfAttention(n_embed, n_head, dropout)\n",
        "        self.dropout1= nn.Dropout(p=dropout)\n",
        "        self.ln_2= nn.LayerNorm(n_embed)\n",
        "        self.ffn = FeedForward(n_embed, d_ff, dropout)\n",
        "        self.dropout2= nn.Dropout(p=dropout)\n",
        "\n",
        "\n",
        "    def forward(self, x):\n",
        "        x_norm= self.ln_1(x)\n",
        "        x= x + self.dropout1(self.attn(x_norm))\n",
        "        x_norm= self.ln_2(x)\n",
        "        x= x + self.dropout2(self.ffn(x_norm))\n",
        "\n",
        "        return x\n"
      ]
    },
    {
      "cell_type": "markdown",
      "metadata": {
        "id": "riOivS7dUSEq"
      },
      "source": [
        "With the Attention Layer and Feed Forward Network in place, we can assemble a Transformer Encoder. The Transformer Encoder is essentially a stack of N Encoder Blocks. Remember, Transformers are like Legos — the input dimension is the same as the output dimension, so you can stack as many blocks as you want (or as your memory allows)."
      ]
    },
    {
      "cell_type": "code",
      "execution_count": 7,
      "metadata": {
        "id": "c5pTN4cwL_7P"
      },
      "outputs": [],
      "source": [
        "class TransformerEncoder(nn.Module):\n",
        "    \"\"\"\n",
        "    The Transformer Encoder is essentially a stack of N Encoder Blocks.\n",
        "    \"\"\"\n",
        "\n",
        "    def __init__(self, n_embed=512, n_layer=6, n_head=8, d_ff=2048, dropout=0.1) -> None:\n",
        "        super(TransformerEncoder, self).__init__()\n",
        "        self.transformer= nn.ModuleList([\n",
        "            EncoderBlock(n_embed, n_head, d_ff, dropout) for _ in range(n_layer)\n",
        "        ])\n",
        "        self.ln_final= nn.LayerNorm(n_embed)\n",
        "\n",
        "\n",
        "    def forward(self, x):\n",
        "        for block in self.transformer:\n",
        "            x= block(x)\n",
        "\n",
        "        return self.ln_final(x)\n"
      ]
    },
    {
      "cell_type": "code",
      "execution_count": null,
      "metadata": {
        "colab": {
          "base_uri": "https://localhost:8080/"
        },
        "id": "P29NIa7JMABN",
        "outputId": "c8bbeea4-abb4-48cd-cab5-34180c651a93"
      },
      "outputs": [
        {
          "data": {
            "text/plain": [
              "torch.Size([16, 128, 512])"
            ]
          },
          "execution_count": 8,
          "metadata": {},
          "output_type": "execute_result"
        }
      ],
      "source": [
        "model= TransformerEncoder().to(device)\n",
        "data= torch.randn(16, 128, 512).to(device)\n",
        "model.eval()\n",
        "model(data).shape"
      ]
    },
    {
      "cell_type": "markdown",
      "metadata": {
        "id": "z32LfnrKVStB"
      },
      "source": [
        "# Images to Patch Embeddings\n",
        "\n",
        "ViTs start by dividing the image into a grid of smaller, rectangular pieces, like individual puzzle pieces. These pieces are the patches. The size of the patch, determined by a parameter called \"patch size,\" decides how much detail each piece captures. A larger patch size means more detail, but fewer pieces overall, like a puzzle with fewer, larger pieces.\n",
        "\n",
        "Once the image is divided into patches, the real magic begins — the patches are embedded into vectors. This process converts each patch, a visual chunk of information, into a mathematical representation, a sequence of numbers. We can think of this as translating the image into a language the model can understand.\n",
        "\n",
        "**NOTE:** The Conv2d-based projection is more efficient. It combines patch extraction and embedding in a single operation, optimized for GPU/TPU hardware."
      ]
    },
    {
      "cell_type": "code",
      "source": [
        "class PatchEmbedding(nn.Module):\n",
        "    \"\"\"\n",
        "    Initializes the Images to Patch Embeddings module.\n",
        "    \"\"\"\n",
        "\n",
        "    def __init__(self, patch_height, patch_width, channels, n_embed, p_type='conv') -> None:\n",
        "        super(PatchEmbedding, self).__init__()\n",
        "        # calculate the dimension of each patch\n",
        "        ph, pw= patch_height, patch_width\n",
        "        patch_dim= channels * ph * pw\n",
        "\n",
        "        if p_type== 'linear':\n",
        "            # unfold images of shape (batch_size, channels, image_height, image_width)\n",
        "            # into patches of shape  (batch_size, num_patches, patch_dim)\n",
        "            self.projection= nn.Sequential(\n",
        "                Rearrange('b c (h ph) (w pw) -> b (h w) (ph pw c)', ph=ph, pw=pw),\n",
        "                nn.LayerNorm(patch_dim),       # normalize each patch\n",
        "                nn.Linear(patch_dim, n_embed), # project patches to embedding dimension\n",
        "            ) # embedding shape (batch_size, num_patches, n_embed)\n",
        "        else:\n",
        "            # apply Conv2d to split image into patches and project\n",
        "            self.projection= nn.Sequential(   # (batch_size, n_embed, H/ph, W/pw)\n",
        "                nn.Conv2d(channels, n_embed, kernel_size=(ph, pw), stride=(ph, pw)),\n",
        "                nn.Flatten(start_dim=2),      # (batch_size, n_embed, num_patches)\n",
        "                Rearrange('b e p -> b p e'),  # (batch_size, num_patches, n_embed)\n",
        "            )\n",
        "\n",
        "\n",
        "    def forward(self, img):\n",
        "        x= self.projection(img)\n",
        "\n",
        "        return x\n"
      ],
      "metadata": {
        "id": "7Vr4rfNEQxsV"
      },
      "execution_count": 8,
      "outputs": []
    },
    {
      "cell_type": "markdown",
      "source": [
        "To preserve the spatial information within the image, the positional encoding comes in. Imagine each patch has a unique address on the image grid. Positional encoding adds a numerical \"address\" to each patch, allowing the model to understand where it is relative to other patches. Now, we have a sequence of \"words\" with their spatial addresses. This sequence is fed into the heart of the ViT model — the Transformer encoder.\n",
        "\n",
        "A special \"classification token\" is added to the beginning of the patch sequence. Think of it as a placeholder for the final answer. This token gathers information from the entire patch sequence, becoming a representation of the whole image, and summarizing the important features and relationships. The classification token is then fed through a final layer, where the model ultimately makes its prediction, be it a category label, an object detection, or any other task.\n",
        "\n",
        "In summary, we mainly need 3 components to build the Input Embedding:\n",
        "\n",
        "- Convert the image into patches, and then vectors.\n",
        "- Add positional encoding.\n",
        "- Add the CLS token."
      ],
      "metadata": {
        "id": "1zHJfc1rTiRu"
      }
    },
    {
      "cell_type": "code",
      "execution_count": 9,
      "metadata": {
        "id": "xjjf0XiJqbzf"
      },
      "outputs": [],
      "source": [
        "class Embedding(nn.Module):\n",
        "    \"\"\"\n",
        "    Initializes the Embedding module.\n",
        "    \"\"\"\n",
        "\n",
        "    def __init__(self, image_height, image_width, patch_height, patch_width, channels,\n",
        "                 n_embed, dropout=0.1, p_type='conv') -> None:\n",
        "        super(Embedding, self).__init__()\n",
        "        # calculate the number of patches\n",
        "        num_patches= (image_height // patch_height) * (image_width // patch_width)\n",
        "\n",
        "        # define the patch embedding\n",
        "        self.patch_embed= PatchEmbedding(patch_height, patch_width, channels, n_embed, p_type)\n",
        "        # define CLS token and positional embeddings -- both as learnable parameters\n",
        "        self.cls_token= nn.Parameter(torch.zeros(1, 1, n_embed))\n",
        "        self.pos_embed= nn.Parameter(torch.zeros(1, num_patches +1, n_embed))\n",
        "        self.dropout= nn.Dropout(p=dropout)\n",
        "\n",
        "\n",
        "    def forward(self, img):\n",
        "        x= self.patch_embed(img)\n",
        "        B, P, C= x.size()  # (batch_size, num_patches, n_embed)\n",
        "        # repeat class token (CLS) for each image in the batch\n",
        "        cls_token= repeat(self.cls_token, '1 1 d -> b 1 d', b=B)\n",
        "        # concatenate class token (CLS) with patch embeddings\n",
        "        x= torch.cat((cls_token, x), dim=1)\n",
        "        # add positional embedding to the input\n",
        "        x= x + self.pos_embed[:, :(P + 1)]  # (batch_size, num_patches + 1, n_embed)\n",
        "\n",
        "        return self.dropout(x)\n"
      ]
    },
    {
      "cell_type": "markdown",
      "metadata": {
        "id": "QH1EeXhAuzwY"
      },
      "source": [
        "We need to check that we are correctly splitting the image into a number of patches that is an integer. In other words, we need to check that **image_height** and **image_width** are divisible by **patch_dimension**. Next step is to convert the patch into embeddings. Remember that here an image has $C = 3$ dimensions. We need to unfold this dimension, and compress each patch of dimension $patch\\_size \\times patch\\_size \\times C$. Then we need to define the **CLS** token and the positional embedding. They are both learned parameters (randomly initialized)."
      ]
    },
    {
      "cell_type": "markdown",
      "metadata": {
        "id": "AXS68FBABMBY"
      },
      "source": [
        "# Building the final ViT\n",
        "\n",
        "Finally, we have to define the Transformer encoder that we have defined before, and add a classification head. The MLP head, also known as the classification head, is the final part of the Vision Transformer (ViT) pipeline. It is responsible for processing the output of the Transformer encoder (particularly the class token) to produce the final predictions for a classification task.\n",
        "\n",
        "- During fine-tuning, the MLP head may be replaced with a single linear layer (no hidden layers). This reduces complexity since the model already has rich feature representations from pretraining."
      ]
    },
    {
      "cell_type": "code",
      "execution_count": 10,
      "metadata": {
        "id": "GD_tjCnHAlaZ"
      },
      "outputs": [],
      "source": [
        "class MLPHead(nn.Module):\n",
        "    \"\"\"\n",
        "    The MLP (classification) head.\n",
        "    \"\"\"\n",
        "\n",
        "    def __init__(self, n_embed, d_ff, num_classes, dropout=0.1, fine_tune=False) -> None:\n",
        "        super(MLPHead, self).__init__()\n",
        "        if fine_tune:\n",
        "            self.c_head= nn.Linear(n_embed, num_classes)\n",
        "        else:\n",
        "            self.c_head= nn.Sequential(\n",
        "                nn.Linear(n_embed, d_ff),\n",
        "                nn.GELU(),\n",
        "                nn.Dropout(p=dropout),\n",
        "                nn.Linear(d_ff, num_classes),\n",
        "            )\n",
        "\n",
        "\n",
        "    def forward(self, x):\n",
        "        x= self.c_head(x)\n",
        "\n",
        "        return x\n"
      ]
    },
    {
      "cell_type": "code",
      "execution_count": 11,
      "metadata": {
        "id": "NCHgRrjhMAET"
      },
      "outputs": [],
      "source": [
        "class ViT(nn.Module):\n",
        "    \"\"\"\n",
        "    Initializes a Vision Transformer (ViT) model.\n",
        "    \"\"\"\n",
        "\n",
        "    def __init__(self, image_size, patch_size, channels, num_classes, pool='cls',\n",
        "                 n_embed=512, n_layer=6, n_head=8, d_ff=2048, dropout=0.1,\n",
        "                 p_type='conv', fine_tune=False) -> None:\n",
        "        super(ViT, self).__init__()\n",
        "        image_height, image_width= self.pair(image_size)\n",
        "        patch_height, patch_width= self.pair(patch_size)\n",
        "        # ensure that the image dimensions are divisible by the patch sizes\n",
        "        assert image_height % patch_height == 0 and image_width % patch_width == 0, \\\n",
        "            'Image dimensions must be divisible by the patch size.'\n",
        "        # ensure the pooling strategy is valid\n",
        "        assert pool in {'cls', 'mean'}, 'Pool type must be either cls (cls token) or mean (mean pooling).'\n",
        "        # pooling strategy (CLS token or mean of patches)\n",
        "        self.pool= pool\n",
        "\n",
        "        # define the patch, CLS token, and positional embeddings\n",
        "        self.embedding= Embedding(\n",
        "            image_height, image_width, patch_height, patch_width, channels, n_embed, dropout, p_type\n",
        "        )\n",
        "        # define the transformer encoder\n",
        "        self.encoder= TransformerEncoder(n_embed, n_layer, n_head, d_ff, dropout)\n",
        "        # identity layer (no change to the tensor)\n",
        "        self.latent_space= nn.Identity()\n",
        "        # classification head\n",
        "        self.lm_head= MLPHead(n_embed, d_ff, num_classes, dropout, fine_tune)\n",
        "\n",
        "        # initialize parameters with Glorot / fan_avg\n",
        "        for p in self.parameters():\n",
        "            if p.dim()> 1:\n",
        "                nn.init.xavier_uniform_(p)\n",
        "\n",
        "\n",
        "    def pair(self, x):\n",
        "        \"\"\"\n",
        "        Utility function: Converts a single value into a tuple of two values.\n",
        "        If x is already a tuple, it is returned as is.\n",
        "        \"\"\"\n",
        "        return x if isinstance(x, tuple) else (x, x)\n",
        "\n",
        "\n",
        "    def forward(self, img):\n",
        "        # img(batch_size, channels, image_height, image_width)\n",
        "        x= self.embedding(img)  # x(batch_size, num_patches + 1, n_embed)\n",
        "        # forward the the transformer encoder\n",
        "        x= self.encoder(x)\n",
        "\n",
        "        # extract class token and feature map\n",
        "        cls_token= x[:, 0]\n",
        "        feature_map= x[:, 1:]\n",
        "        # apply pooling operation: 'cls' token or mean of patches\n",
        "        pool_output= cls_token if self.pool == 'cls' else feature_map.mean(dim=1)\n",
        "\n",
        "        # apply the identity transformation (no change to the tensor)\n",
        "        pool_output= self.latent_space(pool_output)\n",
        "        # forward the classifier\n",
        "        logits= self.lm_head(pool_output)\n",
        "\n",
        "        # return CLS token, patch embeddings, and classification results\n",
        "        return cls_token, feature_map, logits\n"
      ]
    },
    {
      "cell_type": "markdown",
      "metadata": {
        "id": "ekVSF73glJv8"
      },
      "source": [
        "**Forward pass:** We have initialized all the components of our ViT, now we just have to call them in the right order for the forward pass.\n",
        "\n",
        "- We first convert the input image into patches, and unfold each patch into a vector.\n",
        "- Then we repeat CLS tokens (along the batch dimension), and we concatenate it on the dimension 1, which is the sequence length. Indeed we learn the parameters for one vector, but it needs to be concatenated to each image, this is why we expand one dimension.\n",
        "- Then we add the position embedding to each token.\n",
        "\n",
        "Next we apply the Transformer Encoder. We then mainly use it to build an output containing 3 things:\n",
        "\n",
        "- The CLS Token (a single vector representation of the image).\n",
        "- The Feature Map (A vectorized representation of each patch of the image)\n",
        "- Classification Head Logits (Optional): This is used in the case of classification task. Note that Vision Transformer can be trained with different tasks, but classification is the task that was originally used.\n",
        "\n",
        "The math reveals a fascinating aspect of ViTs: they rely on data-driven learning, unlike CNNs which rely on fixed, pre-defined filters. ViTs learn to \"see\" patterns in images based on the data they're trained on, demonstrating a unique ability to adapt to different visual styles and complexities. This explains why they perform exceptionally well on large datasets, as they can capture more subtle and nuanced relationships."
      ]
    },
    {
      "cell_type": "code",
      "execution_count": 12,
      "metadata": {
        "colab": {
          "base_uri": "https://localhost:8080/"
        },
        "id": "uWCBAOGDMAHW",
        "outputId": "4c016090-b5a1-4384-fb73-fd89d41dddff"
      },
      "outputs": [
        {
          "output_type": "stream",
          "name": "stdout",
          "text": [
            "Number of parameters: 311597032\n"
          ]
        },
        {
          "output_type": "execute_result",
          "data": {
            "text/plain": [
              "ViT(\n",
              "  (embedding): Embedding(\n",
              "    (patch_embed): PatchEmbedding(\n",
              "      (projection): Sequential(\n",
              "        (0): Conv2d(3, 1024, kernel_size=(16, 16), stride=(16, 16))\n",
              "        (1): Flatten(start_dim=2, end_dim=-1)\n",
              "        (2): Rearrange('b e p -> b p e')\n",
              "      )\n",
              "    )\n",
              "    (dropout): Dropout(p=0.1, inplace=False)\n",
              "  )\n",
              "  (encoder): TransformerEncoder(\n",
              "    (transformer): ModuleList(\n",
              "      (0-23): 24 x EncoderBlock(\n",
              "        (ln_1): LayerNorm((1024,), eps=1e-05, elementwise_affine=True)\n",
              "        (attn): MultiHeadSelfAttention(\n",
              "          (c_attn): Linear(in_features=1024, out_features=3072, bias=True)\n",
              "          (o_proj): Linear(in_features=1024, out_features=1024, bias=True)\n",
              "          (dropout): Dropout(p=0.1, inplace=False)\n",
              "        )\n",
              "        (dropout1): Dropout(p=0.1, inplace=False)\n",
              "        (ln_2): LayerNorm((1024,), eps=1e-05, elementwise_affine=True)\n",
              "        (ffn): FeedForward(\n",
              "          (ffn): Sequential(\n",
              "            (0): Linear(in_features=1024, out_features=4096, bias=True)\n",
              "            (1): GELU(approximate='none')\n",
              "            (2): Dropout(p=0.1, inplace=False)\n",
              "            (3): Linear(in_features=4096, out_features=1024, bias=True)\n",
              "          )\n",
              "        )\n",
              "        (dropout2): Dropout(p=0.1, inplace=False)\n",
              "      )\n",
              "    )\n",
              "    (ln_final): LayerNorm((1024,), eps=1e-05, elementwise_affine=True)\n",
              "  )\n",
              "  (latent_space): Identity()\n",
              "  (lm_head): MLPHead(\n",
              "    (c_head): Sequential(\n",
              "      (0): Linear(in_features=1024, out_features=4096, bias=True)\n",
              "      (1): GELU(approximate='none')\n",
              "      (2): Dropout(p=0.1, inplace=False)\n",
              "      (3): Linear(in_features=4096, out_features=1000, bias=True)\n",
              "    )\n",
              "  )\n",
              ")"
            ]
          },
          "metadata": {},
          "execution_count": 12
        }
      ],
      "source": [
        "# --- ViT Large hyperparameters config ---\n",
        "img_size= 224\n",
        "pth_size= 16\n",
        "chs= 3\n",
        "n_classes= 1000  # ImageNet has 1000 classes\n",
        "pool_type='cls'\n",
        "n_emb= 1024\n",
        "n_lyr= 24\n",
        "n_hds= 16\n",
        "d_ffd= 4 * n_emb\n",
        "\n",
        "model= ViT(img_size, pth_size, chs, n_classes, pool_type, n_emb, n_lyr,\n",
        "           n_hds, d_ffd).to(device)\n",
        "\n",
        "count_parameters(model)\n",
        "\n",
        "model"
      ]
    },
    {
      "cell_type": "code",
      "execution_count": null,
      "metadata": {
        "colab": {
          "base_uri": "https://localhost:8080/"
        },
        "id": "aIHUmqOO3SH8",
        "outputId": "5de017de-40a3-4d5a-aae7-854019f32851"
      },
      "outputs": [
        {
          "output_type": "stream",
          "name": "stdout",
          "text": [
            "CLS Token Shape: torch.Size([64, 1024])\n",
            "Feature Map Shape: torch.Size([64, 196, 1024])\n",
            "Classification Head Logits Shape: torch.Size([64, 1000])\n",
            "Forward Pass Memory: 25235.53 MB\n"
          ]
        }
      ],
      "source": [
        "import torch.cuda as cuda\n",
        "\n",
        "img= [np.random.randn(3, 224, 224) for _ in range(64)]\n",
        "img= torch.tensor(np.array(img), dtype=torch.float32).to(device)\n",
        "\n",
        "cuda.reset_peak_memory_stats()\n",
        "# Run the model\n",
        "model.eval()\n",
        "cls_token, feature_map, logits= model(img)\n",
        "# Measure peak memory usage\n",
        "peak_memory= cuda.max_memory_allocated()\n",
        "\n",
        "print(f'CLS Token Shape: {cls_token.shape}')\n",
        "print(f'Feature Map Shape: {feature_map.shape}')\n",
        "print(f'Classification Head Logits Shape: {logits.shape}')\n",
        "print(f\"Forward Pass Memory: {np.round(peak_memory / 10**6, decimals=2)} MB\")\n",
        "\n",
        "del img, cls_token, feature_map, logits"
      ]
    },
    {
      "cell_type": "code",
      "execution_count": null,
      "metadata": {
        "id": "u1_Wj-sY4C1O"
      },
      "outputs": [],
      "source": [
        "# https://medium.com/@cristianleo120/the-math-behind-vision-transformers-95a64a6f0c1a\n",
        "# https://towardsdatascience.com/how-to-train-a-vision-transformer-vit-from-scratch-f26641f26af2\n",
        "# https://medium.com/@dancerworld60/building-vision-transformers-from-scratch-a-comprehensive-guide-dd244abaad15"
      ]
    },
    {
      "cell_type": "markdown",
      "metadata": {
        "id": "2kmHw50E5sYo"
      },
      "source": [
        "# Training the ViT model from scratch\n",
        "\n",
        "torchvision: Provides utilities for handling vision-related tasks, including datasets and transformations.\n",
        "\n",
        "Before feeding images into the Vision Transformer, we need to preprocess them. The model expects images of size 224x224, so we'll resize our CIFAR-10 images and normalize them."
      ]
    },
    {
      "cell_type": "code",
      "execution_count": 13,
      "metadata": {
        "id": "Qg7bvUacPwOB"
      },
      "outputs": [],
      "source": [
        "from torch.utils.data import DataLoader, random_split\n",
        "from torchvision import datasets, transforms"
      ]
    },
    {
      "cell_type": "code",
      "execution_count": 14,
      "metadata": {
        "colab": {
          "base_uri": "https://localhost:8080/"
        },
        "id": "4bNAYseXPwbL",
        "outputId": "9a3ee71c-7b30-49dc-f8eb-b40d2a92cf69"
      },
      "outputs": [
        {
          "output_type": "stream",
          "name": "stdout",
          "text": [
            "Downloading https://www.cs.toronto.edu/~kriz/cifar-10-python.tar.gz to ./data/cifar-10-python.tar.gz\n"
          ]
        },
        {
          "output_type": "stream",
          "name": "stderr",
          "text": [
            "100%|██████████| 170M/170M [00:13<00:00, 13.0MB/s]\n"
          ]
        },
        {
          "output_type": "stream",
          "name": "stdout",
          "text": [
            "Extracting ./data/cifar-10-python.tar.gz to ./data\n",
            "Files already downloaded and verified\n"
          ]
        }
      ],
      "source": [
        "# data preparation -- define transformations for the dataset\n",
        "transform= transforms.Compose([\n",
        "    transforms.Resize((224, 224)),\n",
        "    transforms.ToTensor(),\n",
        "    transforms.Normalize(mean=[0.5, 0.5, 0.5], std=[0.5, 0.5, 0.5])\n",
        "])\n",
        "\n",
        "# load the CIFAR-10 dataset\n",
        "train_dataset= datasets.CIFAR10(root='./data', train=True, download=True, transform=transform)\n",
        "test_dataset = datasets.CIFAR10(root='./data', train=False,download=True, transform=transform)\n",
        "\n",
        "# create data loaders\n",
        "train_size= int(0.9 * len(train_dataset))\n",
        "val_size  = len(train_dataset) - train_size\n",
        "train_dataset, val_dataset= random_split(train_dataset, [train_size, val_size])\n",
        "\n",
        "batch_size= 64\n",
        "train_loader= DataLoader(train_dataset, batch_size=batch_size, shuffle=True)\n",
        "val_loader  = DataLoader(val_dataset, batch_size=batch_size, shuffle=False)\n",
        "test_loader = DataLoader(test_dataset, batch_size=batch_size, shuffle=False)"
      ]
    },
    {
      "cell_type": "code",
      "execution_count": null,
      "metadata": {
        "colab": {
          "base_uri": "https://localhost:8080/"
        },
        "id": "Kgti6QNVDVJv",
        "outputId": "3519ef4b-c106-4206-f08c-4ed0003c1430"
      },
      "outputs": [
        {
          "output_type": "execute_result",
          "data": {
            "text/plain": [
              "(704, 79)"
            ]
          },
          "metadata": {},
          "execution_count": 14
        }
      ],
      "source": [
        "len(train_loader), len(val_loader)"
      ]
    },
    {
      "cell_type": "markdown",
      "metadata": {
        "id": "EZDlKe77CSIR"
      },
      "source": [
        "# Trainer Function and Cosine LR Decay\n",
        "\n",
        "TODO:\n",
        "- Training using data augmentation (Transformers are data hungry).\n",
        "- Logging Learning Rate.\n",
        "- Metric Tracking: adding precision or other metrics to monitor training and validation performance.\n",
        "- Early Stopping: based on validation loss to prevent overfitting.\n",
        "- More epochs of training."
      ]
    },
    {
      "cell_type": "code",
      "execution_count": 15,
      "metadata": {
        "id": "yGjgxh2yqi7U"
      },
      "outputs": [],
      "source": [
        "class CosineLRDecay:\n",
        "    \"\"\"\n",
        "    Modulates learning rate (LR) based on the iteration (step) number which LR there should be.\n",
        "    \"\"\"\n",
        "\n",
        "    def __init__(self, optimizer, min_lr, max_lr=3e-4, warmup_steps=10,\n",
        "                 max_steps=50) -> None:\n",
        "        self.optimizer= optimizer\n",
        "        self.min_lr= min_lr\n",
        "        self.max_lr= max_lr\n",
        "        self.warmup_steps= warmup_steps\n",
        "        self.max_steps= max_steps\n",
        "        self.last_step= 0\n",
        "        self.last_lr= None\n",
        "\n",
        "\n",
        "    def get_last_lr(self):\n",
        "        return self.last_lr\n",
        "\n",
        "\n",
        "    def get_lr(self, it):\n",
        "        # 1) linear warmup for warmup_iters steps\n",
        "        if it< self.warmup_steps:\n",
        "            return self.max_lr * (it+1) / self.warmup_steps\n",
        "        # 2) if it > lr_decay_iters, return min learning rate\n",
        "        if it> self.max_steps:\n",
        "            return self.min_lr\n",
        "        # 3) in between, use cosine decay down to min learning rate\n",
        "        decay_ratio= (it - self.warmup_steps) / (self.max_steps - self.warmup_steps)\n",
        "        assert 0 <= decay_ratio <= 1\n",
        "        # coeff starts at 1 and goes to 0\n",
        "        coeff= 0.5 * (1.0 + math.cos(math.pi * decay_ratio))\n",
        "\n",
        "        return self.min_lr + coeff * (self.max_lr - self.min_lr)\n",
        "\n",
        "\n",
        "    def step(self):\n",
        "        self.last_lr= self.get_lr(self.last_step)\n",
        "        for param_group in self.optimizer.param_groups:\n",
        "            param_group['lr']= self.last_lr\n",
        "\n",
        "        self.last_step += 1\n"
      ]
    },
    {
      "cell_type": "code",
      "execution_count": 16,
      "metadata": {
        "id": "hRh_7GlxPwf6"
      },
      "outputs": [],
      "source": [
        "def trainer(model, train_loader, val_loader, optimizer, criterion, scheduler, epochs,\n",
        "            device, eval_interval=10, verbose=False):\n",
        "\n",
        "    tr_loss_hist= []\n",
        "    vl_loss_hist= []\n",
        "\n",
        "    # --- training loop ---\n",
        "    for epoch in range(epochs):\n",
        "        batch_loss= []\n",
        "        start= time.time()\n",
        "\n",
        "        # --- training steps ---\n",
        "        # iterating over all batches\n",
        "        for step, (images, labels) in enumerate(train_loader):\n",
        "            # --- minibatch construction ---\n",
        "            images= images.to(device, non_blocking=True)\n",
        "            labels= labels.to(device, non_blocking=True)\n",
        "\n",
        "            # --- forward pass and get loss ---\n",
        "            model.train()\n",
        "            _, _, logits= model(images)\n",
        "            loss= criterion(logits, labels)\n",
        "            batch_loss.append(loss.item())\n",
        "\n",
        "            # --- backward pass to calculate the gradients ---\n",
        "            optimizer.zero_grad()\n",
        "            loss.backward()\n",
        "            torch.nn.utils.clip_grad_norm_(model.parameters(), 1.0)\n",
        "\n",
        "            # --- update the parameters using the gradient ---\n",
        "            optimizer.step()\n",
        "            scheduler.step()\n",
        "\n",
        "        # --- evaluation and track stats ---\n",
        "        tr_loss_hist.append(np.mean(batch_loss))\n",
        "\n",
        "        if epoch% eval_interval== 0 or epoch== epochs-1:\n",
        "            model.eval()\n",
        "            val_loss= []\n",
        "            with torch.no_grad():\n",
        "                for images, labels in val_loader:\n",
        "                    images, labels= images.to(device), labels.to(device)\n",
        "                    _, _, logits= model(images)\n",
        "                    loss_v= criterion(logits, labels)\n",
        "                    val_loss.append(loss_v.item())\n",
        "\n",
        "            val_loss= np.mean(val_loss)\n",
        "            end= time.time()\n",
        "            dt= end - start\n",
        "\n",
        "            if verbose:\n",
        "                print(f\"Epoch: {epoch} | Train Loss: {tr_loss_hist[-1]:.4f} | \"\n",
        "                      f\"Val Loss: {val_loss:.4f} | dt/epoch: {dt*1000:.2f}ms\")\n",
        "\n",
        "        vl_loss_hist.append(val_loss)\n",
        "\n",
        "    return tr_loss_hist, vl_loss_hist\n"
      ]
    },
    {
      "cell_type": "code",
      "source": [
        "def evaluate_model(model, test_loader, device, verbose=False):\n",
        "    model.eval()\n",
        "    correct= 0\n",
        "    total= 0\n",
        "\n",
        "    with torch.no_grad():\n",
        "        for images, labels in test_loader:\n",
        "            images, labels= images.to(device), labels.to(device)\n",
        "            _, _, logits= model(images)\n",
        "            y_pred= torch.argmax(logits, dim=1)\n",
        "            correct += (y_pred == labels).sum().item()\n",
        "            total += labels.size(0)\n",
        "\n",
        "    acc= correct / total\n",
        "    if verbose:\n",
        "        print(f\"Accuracy: {(acc * 100):.2f}%\")\n",
        "\n",
        "    return acc\n"
      ],
      "metadata": {
        "id": "d2XfyaznRZ16"
      },
      "execution_count": 17,
      "outputs": []
    },
    {
      "cell_type": "code",
      "source": [
        "def plot_losses(train_loss, valid_loss):\n",
        "    # plot training and validation losses\n",
        "    plt.plot(train_loss, label='Train Loss')\n",
        "    plt.plot(valid_loss, label='Validation Loss')\n",
        "    plt.title('Losses')\n",
        "    plt.xlabel('Steps')\n",
        "    plt.ylabel('Loss')\n",
        "    plt.legend()\n",
        "    plt.grid()"
      ],
      "metadata": {
        "id": "-rPIDxfiV2SO"
      },
      "execution_count": 22,
      "outputs": []
    },
    {
      "cell_type": "markdown",
      "metadata": {
        "id": "fgHGvEIaCntB"
      },
      "source": [
        "# Training setup using TF32 and Fused AdamW"
      ]
    },
    {
      "cell_type": "code",
      "execution_count": 18,
      "metadata": {
        "colab": {
          "base_uri": "https://localhost:8080/"
        },
        "id": "s1usqKj0ExsO",
        "outputId": "20c1d47f-0395-4c27-9e4c-1e3e3d4d53b2"
      },
      "outputs": [
        {
          "output_type": "stream",
          "name": "stdout",
          "text": [
            "Number of parameters: 88191754\n",
            "Using fused AdamW: True\n"
          ]
        }
      ],
      "source": [
        "use_fused= False\n",
        "\n",
        "if device== 'cuda': # TF32 computationally more efficient (slightly the same precision of FP32)\n",
        "    torch.set_float32_matmul_precision('high')\n",
        "    # create AdamW optimizer and use the fused version of it is available\n",
        "    fused_available= 'fused' in inspect.signature(torch.optim.AdamW).parameters\n",
        "    # fused is a lot faster when it is available and when running on cuda\n",
        "    use_fused= fused_available\n",
        "\n",
        "# --- ViT Base hyperparameters config ---\n",
        "img_size= 224\n",
        "pth_size= 16\n",
        "chs= 3\n",
        "n_classes= 10   # CIFAR-10 has 10 classes\n",
        "pool_type='cls'\n",
        "n_emb= 768\n",
        "n_lyr= 12\n",
        "n_hds= 12\n",
        "d_ffd= 4 * n_emb\n",
        "\n",
        "vit_model= ViT(img_size, pth_size, chs, n_classes, pool_type, n_emb, n_lyr,\n",
        "               n_hds, d_ffd).to(device)\n",
        "\n",
        "count_parameters(vit_model)\n",
        "\n",
        "\n",
        "epochs= 10\n",
        "# train_loader has size 704, so 10 epochs have 7,040 steps\n",
        "steps= len(train_loader) * epochs\n",
        "learning_rate= 1e-4\n",
        "\n",
        "max_lr= learning_rate\n",
        "min_lr= 5e-5\n",
        "warmup_steps= 400\n",
        "max_steps= steps\n",
        "\n",
        "optimizer= torch.optim.AdamW(\n",
        "    vit_model.parameters(), lr=learning_rate, betas=(0.9, 0.999), weight_decay=0.01,\n",
        "    fused=use_fused\n",
        ")\n",
        "print(f\"Using fused AdamW: {use_fused}\")\n",
        "criterion= nn.CrossEntropyLoss()\n",
        "scheduler= CosineLRDecay(optimizer, min_lr, max_lr, warmup_steps, max_steps)\n"
      ]
    },
    {
      "cell_type": "markdown",
      "source": [
        "# Conv2d version of the PatchEmbeddings module\n",
        "\n",
        "- Slightly better performance."
      ],
      "metadata": {
        "id": "kJOl7b7jUZhp"
      }
    },
    {
      "cell_type": "code",
      "source": [
        "tr_loss, vl_loss= trainer(vit_model, train_loader, val_loader, optimizer, criterion, scheduler,\n",
        "                          epochs, device, eval_interval=1, verbose=True)"
      ],
      "metadata": {
        "colab": {
          "base_uri": "https://localhost:8080/"
        },
        "id": "TBR51OBmUePV",
        "outputId": "d27c55c0-cccb-4015-843a-d353fc169da1"
      },
      "execution_count": 19,
      "outputs": [
        {
          "output_type": "stream",
          "name": "stdout",
          "text": [
            "Epoch: 0 | Train Loss: 1.8897 | Val Loss: 1.6913 | dt/epoch: 115770.06ms\n",
            "Epoch: 1 | Train Loss: 1.5156 | Val Loss: 1.4233 | dt/epoch: 114861.13ms\n",
            "Epoch: 2 | Train Loss: 1.3394 | Val Loss: 1.3188 | dt/epoch: 113700.60ms\n",
            "Epoch: 3 | Train Loss: 1.2155 | Val Loss: 1.2225 | dt/epoch: 115575.87ms\n",
            "Epoch: 4 | Train Loss: 1.1246 | Val Loss: 1.1710 | dt/epoch: 116346.00ms\n",
            "Epoch: 5 | Train Loss: 1.0338 | Val Loss: 1.1034 | dt/epoch: 116907.45ms\n",
            "Epoch: 6 | Train Loss: 0.9706 | Val Loss: 0.9874 | dt/epoch: 116289.49ms\n",
            "Epoch: 7 | Train Loss: 0.8978 | Val Loss: 0.9929 | dt/epoch: 115604.12ms\n",
            "Epoch: 8 | Train Loss: 0.8387 | Val Loss: 0.9797 | dt/epoch: 115990.52ms\n",
            "Epoch: 9 | Train Loss: 0.7861 | Val Loss: 0.9555 | dt/epoch: 116103.12ms\n"
          ]
        }
      ]
    },
    {
      "cell_type": "code",
      "source": [
        "# plot\n",
        "plot_losses(tr_loss, vl_loss)"
      ],
      "metadata": {
        "colab": {
          "base_uri": "https://localhost:8080/",
          "height": 472
        },
        "id": "nSb_48ooUeYc",
        "outputId": "28435805-030c-4a69-a724-ce544897e512"
      },
      "execution_count": 23,
      "outputs": [
        {
          "output_type": "display_data",
          "data": {
            "text/plain": [
              "<Figure size 640x480 with 1 Axes>"
            ],
            "image/png": "[encoded data removed]"
          },
          "metadata": {}
        }
      ]
    },
    {
      "cell_type": "code",
      "source": [
        "vit_acc= evaluate_model(vit_model, test_loader, device, verbose=True)"
      ],
      "metadata": {
        "colab": {
          "base_uri": "https://localhost:8080/"
        },
        "id": "bSIfs2ElUiQ4",
        "outputId": "e955721e-657b-411e-910d-1de78f383721"
      },
      "execution_count": 21,
      "outputs": [
        {
          "output_type": "stream",
          "name": "stdout",
          "text": [
            "Accuracy: 66.36%\n"
          ]
        }
      ]
    },
    {
      "cell_type": "markdown",
      "source": [
        "# Linear version of the PatchEmbeddings module"
      ],
      "metadata": {
        "id": "kMBNhVRwUHcs"
      }
    },
    {
      "cell_type": "code",
      "source": [
        "tr_loss, vl_loss= trainer(vit_model, train_loader, val_loader, optimizer, criterion, scheduler,\n",
        "                          epochs, device, eval_interval=1, verbose=True)"
      ],
      "metadata": {
        "colab": {
          "base_uri": "https://localhost:8080/"
        },
        "id": "g17bBiLydZ86",
        "outputId": "5f91fc51-c98f-45a4-b2f7-a0573d43a303"
      },
      "execution_count": null,
      "outputs": [
        {
          "output_type": "stream",
          "name": "stdout",
          "text": [
            "Epoch: 0 | Train Loss: 1.7988 | Val Loss: 1.6816 | dt/epoch: 116103.33ms\n",
            "Epoch: 1 | Train Loss: 1.4559 | Val Loss: 1.3620 | dt/epoch: 115888.64ms\n",
            "Epoch: 2 | Train Loss: 1.3060 | Val Loss: 1.3676 | dt/epoch: 115825.14ms\n",
            "Epoch: 3 | Train Loss: 1.1999 | Val Loss: 1.1766 | dt/epoch: 115784.35ms\n",
            "Epoch: 4 | Train Loss: 1.0951 | Val Loss: 1.1654 | dt/epoch: 115565.79ms\n",
            "Epoch: 5 | Train Loss: 1.0075 | Val Loss: 1.1288 | dt/epoch: 115502.80ms\n",
            "Epoch: 6 | Train Loss: 0.9090 | Val Loss: 1.0910 | dt/epoch: 115716.98ms\n",
            "Epoch: 7 | Train Loss: 0.8070 | Val Loss: 1.0584 | dt/epoch: 115650.64ms\n",
            "Epoch: 8 | Train Loss: 0.7086 | Val Loss: 1.0989 | dt/epoch: 115530.33ms\n",
            "Epoch: 9 | Train Loss: 0.6206 | Val Loss: 1.1396 | dt/epoch: 115805.50ms\n"
          ]
        }
      ]
    },
    {
      "cell_type": "code",
      "source": [
        "# plot\n",
        "plot_losses(tr_loss, vl_loss)"
      ],
      "metadata": {
        "colab": {
          "base_uri": "https://localhost:8080/",
          "height": 472
        },
        "id": "mbYnSiBgdaGh",
        "outputId": "4fd46bee-1d66-48cc-d791-04f885254dab"
      },
      "execution_count": null,
      "outputs": [
        {
          "output_type": "display_data",
          "data": {
            "text/plain": [
              "<Figure size 640x480 with 1 Axes>"
            ],
            "image/png": "[encoded data removed]"
          },
          "metadata": {}
        }
      ]
    },
    {
      "cell_type": "code",
      "source": [
        "vit_acc= evaluate_model(vit_model, test_loader, device, verbose=True)"
      ],
      "metadata": {
        "colab": {
          "base_uri": "https://localhost:8080/"
        },
        "id": "H11bfZmrdaO1",
        "outputId": "5d7a63b2-5163-4ce4-d363-158d2385d054"
      },
      "execution_count": null,
      "outputs": [
        {
          "output_type": "stream",
          "name": "stdout",
          "text": [
            "Accuracy: 63.30%\n"
          ]
        }
      ]
    },
    {
      "cell_type": "markdown",
      "metadata": {
        "id": "k-V2b-1vBfJu"
      },
      "source": [
        "ViTs also have some limitations:\n",
        "\n",
        "- **Data Requirements:** ViTs generally need larger datasets than CNNs to reach their full potential, as their data-driven approach requires more examples to learn complex patterns.\n",
        "- **Computational Cost:** For smaller models, ViTs can be more computationally expensive than CNNs, especially for inference, as their global attention mechanism requires more computations.\n",
        "\n",
        "So, when should we use ViTs and when should we stick with CNNs?\n",
        "\n",
        "- **Large Datasets:** If you have a large amount of training data and need to achieve high accuracy, ViTs are a powerful option.\n",
        "- **Complex Relationships:** For tasks requiring the understanding of intricate relationships across the entire image, ViTs are a better choice.\n",
        "- **Scalability:** If you need a model that scales well, meaning its performance improves as its size increases, ViTs are the way to go."
      ]
    },
    {
      "cell_type": "code",
      "execution_count": null,
      "metadata": {
        "id": "GFYkFDeFwdfO"
      },
      "outputs": [],
      "source": [
        "# https://github.com/kyegomez/Vit-RGTS/blob/main/train.py\n",
        "# https://github.com/FrancoisPorcher/vit-pytorch/tree/5a105d7df3b22815c322d7d386494a49e6c08825"
      ]
    }
  ],
  "metadata": {
    "colab": {
      "toc_visible": true,
      "provenance": [],
      "machine_shape": "hm",
      "gpuType": "A100"
    },
    "kernelspec": {
      "display_name": "Python 3",
      "name": "python3"
    },
    "language_info": {
      "name": "python"
    },
    "accelerator": "GPU"
  },
  "nbformat": 4,
  "nbformat_minor": 0
}