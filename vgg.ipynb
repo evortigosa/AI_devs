{
  "nbformat": 4,
  "nbformat_minor": 0,
  "metadata": {
    "colab": {
      "provenance": [],
      "toc_visible": true,
      "gpuType": "A100"
    },
    "kernelspec": {
      "name": "python3",
      "display_name": "Python 3"
    },
    "language_info": {
      "name": "python"
    },
    "accelerator": "GPU"
  },
  "cells": [
    {
      "cell_type": "markdown",
      "source": [
        "# VGG Network from Scratch in PyTorch\n",
        "\n",
        "Building on the work of AlexNet, VGG focuses on another crucial aspect of Convolutional Neural Networks (CNNs), depth. VGG stands for the Vision Geometry Group from the University of Oxford. The VGG net is a Deep Learning model based on Convolutional Neural Networks (CNN) and defined in the paper \"Very Deep Convolutional Networks for Large-Scale Image Recognition\" (https://arxiv.org/abs/1409.1556).\n",
        "\n",
        "In the paper, the authors introduced not one but six different network configurations for the VGG neural network models. Each of them has a different neural network architecture. The VGG-16 has 13 convolutional and 3 fully-connected layers, carrying with them the ReLU tradition from AlexNet. This network stacks more layers onto AlexNet, and use smaller size filters ($3 \\times 3$ in conv modules and $2 \\times 2$ in pooling modules). It consists of 138M parameters and takes up about 500MB of storage space. There is also a deeper variant, VGG-19, and the simplest of all the configurations, VGG-11."
      ],
      "metadata": {
        "id": "JEp4yctuhvPs"
      }
    },
    {
      "cell_type": "code",
      "execution_count": 1,
      "metadata": {
        "id": "CrJUjh6Zhs7U"
      },
      "outputs": [],
      "source": [
        "import time\n",
        "import math\n",
        "import numpy as np\n",
        "import matplotlib.pyplot as plt\n",
        "import inspect\n",
        "import torch\n",
        "import torch.nn as nn\n",
        "import torch.nn.functional as F\n",
        "from torch.optim.lr_scheduler import ReduceLROnPlateau"
      ]
    },
    {
      "cell_type": "code",
      "source": [
        "device= 'cuda' if torch.cuda.is_available() else 'cpu'"
      ],
      "metadata": {
        "id": "AmW_2isVi6nh"
      },
      "execution_count": 2,
      "outputs": []
    },
    {
      "cell_type": "code",
      "source": [
        "# count how many trainable weights the model has\n",
        "def count_parameters(model) -> None:\n",
        "    total_params= sum(p.numel() for p in model.parameters() if p.requires_grad)\n",
        "    print(f'Number of parameters: {total_params}')"
      ],
      "metadata": {
        "id": "Mm7RGyXRi6qs"
      },
      "execution_count": 3,
      "outputs": []
    },
    {
      "cell_type": "markdown",
      "source": [
        "# Define configs for different VGG versions"
      ],
      "metadata": {
        "id": "Mvn6sto6yRxW"
      }
    },
    {
      "cell_type": "code",
      "source": [
        "# vgg_= (number of conv channels, norm presence, pool presence)\n",
        "model_hparameters= {}\n",
        "model_hparameters['vgg11']= (\n",
        "    [64,128,256,256,512,512,512,512],  # Channels\n",
        "    [1,1,1,1,1,1,1,1],                 # BatchNorm presence  (1 for yes, 0 for no)\n",
        "    [1,1,0,1,0,1,0,1]                  # MaxPooling presence (1 for yes, 0 for no)\n",
        ")\n",
        "model_hparameters['vgg13']= (\n",
        "    [64,64,128,128,256,256,512,512,512,512],\n",
        "    [1]*10,\n",
        "    [0,1,0,1,0,1,0,1,0,1]\n",
        ")\n",
        "model_hparameters['vgg16']= (\n",
        "    [64,64,128,128,256,256,256,512,512,512,512,512,512],\n",
        "    [1]*13,\n",
        "    [0,1,0,1,0,0,1,0,0,1,0,0,1]\n",
        ")\n",
        "model_hparameters['vgg19']= (\n",
        "    [64,64,128,128,256,256,256,256,512,512,512,512,512,512,512,512],\n",
        "    [1]*16,\n",
        "    [0,1,0,1,0,0,0,1,0,0,0,1,0,0,0,1]\n",
        ")"
      ],
      "metadata": {
        "id": "D12UdMM8v21O"
      },
      "execution_count": 4,
      "outputs": []
    },
    {
      "cell_type": "markdown",
      "source": [
        "# Define the Convolutional and Fully Connected Layers\n",
        "\n",
        "- The convolutional layers will have a $3 \\times 3$ kernel size with a stride of 1 and padding of 1.\n",
        "- 2D max pooling in between the weight layers as explained in the paper. Not all the convolutional layers are followed by max-pooling layers."
      ],
      "metadata": {
        "id": "SuDM13gKzSQL"
      }
    },
    {
      "cell_type": "code",
      "source": [
        "class ConvLayer(nn.Module):\n",
        "    \"\"\"\n",
        "    Implements one customizable CNN layer.\n",
        "    VGG-style: Input -> Conv2d -> BatchNorm2d -> ReLU -> MaxPool2d -> Output\n",
        "    \"\"\"\n",
        "\n",
        "    def __init__(self, in_channels, out_channels, norm=True, activation=None, pool=True) -> None:\n",
        "        super(ConvLayer, self).__init__()\n",
        "        self.conv= nn.Conv2d(in_channels, out_channels, kernel_size=3, stride=1, padding=1)\n",
        "        # Batch Normalization -- not introduced when VGG models came out\n",
        "        self.norm= nn.BatchNorm2d(out_channels) if norm else None\n",
        "        # Activation function -- ReLU is the default in VGG\n",
        "        self.activation= nn.ReLU(inplace=True) if activation is None else activation\n",
        "        # Max pooling layer -- halves the feature maps each time\n",
        "        self.pool= nn.MaxPool2d(kernel_size=2, stride=2) if pool else None\n",
        "\n",
        "\n",
        "    def forward(self, x):\n",
        "        x= self.conv(x)\n",
        "        if self.norm is not None:\n",
        "            x= self.norm(x)\n",
        "        x= self.activation(x)\n",
        "        if self.pool is not None:\n",
        "            x= self.pool(x)\n",
        "\n",
        "        return x\n"
      ],
      "metadata": {
        "id": "kl_tY9MFi6uG"
      },
      "execution_count": 5,
      "outputs": []
    },
    {
      "cell_type": "code",
      "source": [
        "class MLPLayer(nn.Module):\n",
        "    \"\"\"\n",
        "    Implements one customizable MLP layer.\n",
        "    AlexNet/VGG-style: Input -> Dropout -> Linear -> ReLU -> Output\n",
        "    Dropout is placed before the FC layer\n",
        "    \"\"\"\n",
        "\n",
        "    def __init__(self, in_dim, out_dim, activation=None, dropout=0.0) -> None:\n",
        "        super(MLPLayer, self).__init__()\n",
        "        # Dropout layer for regularization\n",
        "        self.dropout= nn.Dropout(p=dropout) if dropout> 0.0 else None\n",
        "        # Fully connected (FC) layer\n",
        "        self.fc= nn.Linear(in_dim, out_dim)\n",
        "        # Activation function -- ReLU is the default in VGG\n",
        "        self.activation= activation  # for the final layer: activation=None\n",
        "\n",
        "\n",
        "    def forward(self, x):\n",
        "        if self.dropout is not None:\n",
        "            x= self.dropout(x)\n",
        "        x= self.fc(x)\n",
        "        if self.activation is not None:\n",
        "            x= self.activation(x)\n",
        "\n",
        "        return x\n"
      ],
      "metadata": {
        "id": "ig9E3q6FBVav"
      },
      "execution_count": 6,
      "outputs": []
    },
    {
      "cell_type": "markdown",
      "source": [
        "# Building the VGG\n",
        "\n",
        "The in_channels and num_classes hyperparameters are the number of color channels for the image and the number of output classes for the dataset. We have to pass the number of channels while initializing the VGG model depending upon the type of images that we are using. It is going to be 3 for RGB images and 1 for grayscale images. And as the original VGG models were benchmarked on the ImageNet dataset with 1000 classes, therefore, num_classes is 1000 as well.\n",
        "\n",
        "- Each convolutional layer is followed by an activation but the max-pooling layers are not defined after each convolution. The max-pooling layers to going to halve the feature maps each time. And we have 5 such max-pooling layers with a stride of 2. This is going to be important when we will be implementing the fully connected layers.\n",
        "\n",
        "- The fully connected blocks are the same for all the VGG architectures. They contain three fully connected layers. The first linear layer has $512*7*7$ input features. But how did we reach here? Note that VGG takes an input size of 224 $\\times 224$ (height $\\times$ width) for images. And we have 5 max-pool layers with a stride of 2 which are going to halve the features maps each time. Also, the final convolutional layer has 512 output channels. To get the number of input features for the first Linear() layer, we just need to calculate it using the following formula: $224 / (2^5) = 7$. And because the final convolutional layer has 512 output channels, the first linear layer has $512*7*7$ input features."
      ],
      "metadata": {
        "id": "40hCmlkyz1el"
      }
    },
    {
      "cell_type": "code",
      "source": [
        "class VGG(nn.Module):\n",
        "    \"\"\"\n",
        "    VGG architecture that builds the feature extractor based on the provided variant.\n",
        "    \"\"\"\n",
        "\n",
        "    def __init__(self, vgg_type, in_channels, num_classes, activation=None, dropout=0.1) -> None:\n",
        "        super(VGG, self).__init__()\n",
        "        # Channels along with BatchNorm2d and MaxPool2d presence for each ConvLayer\n",
        "        channels= vgg_type[0]\n",
        "        norms   = vgg_type[1]\n",
        "        maxpools= vgg_type[2]\n",
        "        # Define the activation function -- ReLU is the default in VGG\n",
        "        activation= nn.ReLU(inplace=True) if activation is None else activation\n",
        "\n",
        "        # The convolutional feature extractor\n",
        "        self.conv_layers= nn.ModuleList([\n",
        "            ConvLayer(in_channels, channels[0], norms[0], activation, maxpools[0])\n",
        "        ])\n",
        "        for i in range(1, len(channels)):\n",
        "            self.conv_layers.append(\n",
        "                ConvLayer(channels[i-1], channels[i], norms[i], activation, maxpools[i])\n",
        "            )\n",
        "        # Flatten the 2D feature maps into 1D feature vectors\n",
        "        self.flatten= nn.Flatten(start_dim=1)\n",
        "\n",
        "        # The classification head -- FC linear layers\n",
        "        self.fc = MLPLayer(7*7*512, 4096, activation, dropout)\n",
        "        self.fc1= MLPLayer(4096, 4096, activation, dropout)\n",
        "        self.fc2= MLPLayer(4096, num_classes, activation=None, dropout=0.0)\n",
        "\n",
        "        # initialize parameters with Xavier initialization\n",
        "        for m in self.modules():\n",
        "            if isinstance(m, nn.Conv2d) or isinstance(m, nn.Linear):\n",
        "                nn.init.xavier_uniform_(m.weight)\n",
        "                if m.bias is not None: nn.init.zeros_(m.bias)\n",
        "            elif isinstance(m, nn.BatchNorm2d):\n",
        "                nn.init.constant_(m.weight, 1.0)\n",
        "                nn.init.constant_(m.bias, 0.0)\n",
        "\n",
        "\n",
        "    def forward(self, x):\n",
        "        # Processes the input through the convolutional layers\n",
        "        for layer in self.conv_layers:\n",
        "            x= layer(x)\n",
        "        x= self.flatten(x)\n",
        "        # Runs the feature vector through the classification head to generate predictions\n",
        "        x= self.fc(x)\n",
        "        x= self.fc1(x)\n",
        "\n",
        "        return self.fc2(x)\n"
      ],
      "metadata": {
        "id": "GYhAblBjkVrZ"
      },
      "execution_count": 7,
      "outputs": []
    },
    {
      "cell_type": "code",
      "source": [
        "img= torch.randn(1, 3, 224, 224).to(device)  # a single image batch\n",
        "model= VGG(model_hparameters['vgg16'], in_channels=3, num_classes=1000, dropout=0.1).to(device)\n",
        "count_parameters(model)\n",
        "print(model(img).shape)\n",
        "\n",
        "model"
      ],
      "metadata": {
        "id": "EZQSL-9lkVvL",
        "colab": {
          "base_uri": "https://localhost:8080/"
        },
        "outputId": "3a61b8ba-52d1-4041-faf3-fc24788c3dd5"
      },
      "execution_count": 8,
      "outputs": [
        {
          "output_type": "stream",
          "name": "stdout",
          "text": [
            "Number of parameters: 138365992\n",
            "torch.Size([1, 1000])\n"
          ]
        },
        {
          "output_type": "execute_result",
          "data": {
            "text/plain": [
              "VGG(\n",
              "  (conv_layers): ModuleList(\n",
              "    (0): ConvLayer(\n",
              "      (conv): Conv2d(3, 64, kernel_size=(3, 3), stride=(1, 1), padding=(1, 1))\n",
              "      (norm): BatchNorm2d(64, eps=1e-05, momentum=0.1, affine=True, track_running_stats=True)\n",
              "      (activation): ReLU(inplace=True)\n",
              "    )\n",
              "    (1): ConvLayer(\n",
              "      (conv): Conv2d(64, 64, kernel_size=(3, 3), stride=(1, 1), padding=(1, 1))\n",
              "      (norm): BatchNorm2d(64, eps=1e-05, momentum=0.1, affine=True, track_running_stats=True)\n",
              "      (activation): ReLU(inplace=True)\n",
              "      (pool): MaxPool2d(kernel_size=2, stride=2, padding=0, dilation=1, ceil_mode=False)\n",
              "    )\n",
              "    (2): ConvLayer(\n",
              "      (conv): Conv2d(64, 128, kernel_size=(3, 3), stride=(1, 1), padding=(1, 1))\n",
              "      (norm): BatchNorm2d(128, eps=1e-05, momentum=0.1, affine=True, track_running_stats=True)\n",
              "      (activation): ReLU(inplace=True)\n",
              "    )\n",
              "    (3): ConvLayer(\n",
              "      (conv): Conv2d(128, 128, kernel_size=(3, 3), stride=(1, 1), padding=(1, 1))\n",
              "      (norm): BatchNorm2d(128, eps=1e-05, momentum=0.1, affine=True, track_running_stats=True)\n",
              "      (activation): ReLU(inplace=True)\n",
              "      (pool): MaxPool2d(kernel_size=2, stride=2, padding=0, dilation=1, ceil_mode=False)\n",
              "    )\n",
              "    (4): ConvLayer(\n",
              "      (conv): Conv2d(128, 256, kernel_size=(3, 3), stride=(1, 1), padding=(1, 1))\n",
              "      (norm): BatchNorm2d(256, eps=1e-05, momentum=0.1, affine=True, track_running_stats=True)\n",
              "      (activation): ReLU(inplace=True)\n",
              "    )\n",
              "    (5): ConvLayer(\n",
              "      (conv): Conv2d(256, 256, kernel_size=(3, 3), stride=(1, 1), padding=(1, 1))\n",
              "      (norm): BatchNorm2d(256, eps=1e-05, momentum=0.1, affine=True, track_running_stats=True)\n",
              "      (activation): ReLU(inplace=True)\n",
              "    )\n",
              "    (6): ConvLayer(\n",
              "      (conv): Conv2d(256, 256, kernel_size=(3, 3), stride=(1, 1), padding=(1, 1))\n",
              "      (norm): BatchNorm2d(256, eps=1e-05, momentum=0.1, affine=True, track_running_stats=True)\n",
              "      (activation): ReLU(inplace=True)\n",
              "      (pool): MaxPool2d(kernel_size=2, stride=2, padding=0, dilation=1, ceil_mode=False)\n",
              "    )\n",
              "    (7): ConvLayer(\n",
              "      (conv): Conv2d(256, 512, kernel_size=(3, 3), stride=(1, 1), padding=(1, 1))\n",
              "      (norm): BatchNorm2d(512, eps=1e-05, momentum=0.1, affine=True, track_running_stats=True)\n",
              "      (activation): ReLU(inplace=True)\n",
              "    )\n",
              "    (8): ConvLayer(\n",
              "      (conv): Conv2d(512, 512, kernel_size=(3, 3), stride=(1, 1), padding=(1, 1))\n",
              "      (norm): BatchNorm2d(512, eps=1e-05, momentum=0.1, affine=True, track_running_stats=True)\n",
              "      (activation): ReLU(inplace=True)\n",
              "    )\n",
              "    (9): ConvLayer(\n",
              "      (conv): Conv2d(512, 512, kernel_size=(3, 3), stride=(1, 1), padding=(1, 1))\n",
              "      (norm): BatchNorm2d(512, eps=1e-05, momentum=0.1, affine=True, track_running_stats=True)\n",
              "      (activation): ReLU(inplace=True)\n",
              "      (pool): MaxPool2d(kernel_size=2, stride=2, padding=0, dilation=1, ceil_mode=False)\n",
              "    )\n",
              "    (10-11): 2 x ConvLayer(\n",
              "      (conv): Conv2d(512, 512, kernel_size=(3, 3), stride=(1, 1), padding=(1, 1))\n",
              "      (norm): BatchNorm2d(512, eps=1e-05, momentum=0.1, affine=True, track_running_stats=True)\n",
              "      (activation): ReLU(inplace=True)\n",
              "    )\n",
              "    (12): ConvLayer(\n",
              "      (conv): Conv2d(512, 512, kernel_size=(3, 3), stride=(1, 1), padding=(1, 1))\n",
              "      (norm): BatchNorm2d(512, eps=1e-05, momentum=0.1, affine=True, track_running_stats=True)\n",
              "      (activation): ReLU(inplace=True)\n",
              "      (pool): MaxPool2d(kernel_size=2, stride=2, padding=0, dilation=1, ceil_mode=False)\n",
              "    )\n",
              "  )\n",
              "  (flatten): Flatten(start_dim=1, end_dim=-1)\n",
              "  (fc): MLPLayer(\n",
              "    (dropout): Dropout(p=0.1, inplace=False)\n",
              "    (fc): Linear(in_features=25088, out_features=4096, bias=True)\n",
              "    (activation): ReLU(inplace=True)\n",
              "  )\n",
              "  (fc1): MLPLayer(\n",
              "    (dropout): Dropout(p=0.1, inplace=False)\n",
              "    (fc): Linear(in_features=4096, out_features=4096, bias=True)\n",
              "    (activation): ReLU(inplace=True)\n",
              "  )\n",
              "  (fc2): MLPLayer(\n",
              "    (fc): Linear(in_features=4096, out_features=1000, bias=True)\n",
              "  )\n",
              ")"
            ]
          },
          "metadata": {},
          "execution_count": 8
        }
      ]
    },
    {
      "cell_type": "markdown",
      "source": [
        "# Training a VGG model from scratch"
      ],
      "metadata": {
        "id": "dngqJXdZz9uQ"
      }
    },
    {
      "cell_type": "code",
      "source": [
        "from torch.utils.data import DataLoader, random_split\n",
        "from torchvision import datasets, transforms"
      ],
      "metadata": {
        "id": "dpbBNFFKvnuE"
      },
      "execution_count": 9,
      "outputs": []
    },
    {
      "cell_type": "code",
      "source": [
        "# data preparation -- define transformations for the dataset\n",
        "transform= transforms.Compose([\n",
        "    transforms.Resize((224, 224)),\n",
        "    transforms.RandomHorizontalFlip(),\n",
        "    transforms.ToTensor(),\n",
        "    transforms.Normalize(mean=[0.4914, 0.4822, 0.4465],\n",
        "                         std= [0.2023, 0.1994, 0.2010]), # CIFAR-10 stats\n",
        "])\n",
        "\n",
        "# load the CIFAR-10 dataset\n",
        "train_dataset= datasets.CIFAR10(root='./data', train=True, download=True, transform=transform)\n",
        "test_dataset = datasets.CIFAR10(root='./data', train=False,download=True, transform=transform)\n",
        "\n",
        "# create data loaders\n",
        "train_size= int(0.9 * len(train_dataset))\n",
        "val_size  = len(train_dataset) - train_size\n",
        "train_dataset, val_dataset= random_split(train_dataset, [train_size, val_size])\n",
        "\n",
        "batch_size= 128\n",
        "train_loader= DataLoader(train_dataset,batch_size=batch_size, shuffle=True)\n",
        "val_loader  = DataLoader(val_dataset,  batch_size=batch_size, shuffle=False)\n",
        "test_loader = DataLoader(test_dataset, batch_size=batch_size, shuffle=False)"
      ],
      "metadata": {
        "colab": {
          "base_uri": "https://localhost:8080/"
        },
        "id": "NTT3FTw3wt9b",
        "outputId": "00bed371-72a5-4304-fbc7-925368ba0356"
      },
      "execution_count": 10,
      "outputs": [
        {
          "output_type": "stream",
          "name": "stdout",
          "text": [
            "Downloading https://www.cs.toronto.edu/~kriz/cifar-10-python.tar.gz to ./data/cifar-10-python.tar.gz\n"
          ]
        },
        {
          "output_type": "stream",
          "name": "stderr",
          "text": [
            "100%|██████████| 170M/170M [00:14<00:00, 11.9MB/s]\n"
          ]
        },
        {
          "output_type": "stream",
          "name": "stdout",
          "text": [
            "Extracting ./data/cifar-10-python.tar.gz to ./data\n",
            "Files already downloaded and verified\n"
          ]
        }
      ]
    },
    {
      "cell_type": "code",
      "source": [
        "len(train_loader), len(val_loader)"
      ],
      "metadata": {
        "colab": {
          "base_uri": "https://localhost:8080/"
        },
        "id": "ZyYBUsnSwuG9",
        "outputId": "2bca8498-3c4d-4f76-f4af-c90bee174a52"
      },
      "execution_count": 11,
      "outputs": [
        {
          "output_type": "execute_result",
          "data": {
            "text/plain": [
              "(352, 40)"
            ]
          },
          "metadata": {},
          "execution_count": 11
        }
      ]
    },
    {
      "cell_type": "markdown",
      "source": [
        "# Trainer Function\n",
        "\n",
        "TODO:\n",
        "\n",
        "- Data augmentation for training.\n",
        "- Logging Learning Rate.\n",
        "- Early Stopping: based on validation loss to prevent overfitting."
      ],
      "metadata": {
        "id": "SuLmu1fx0DhM"
      }
    },
    {
      "cell_type": "code",
      "source": [
        "def trainer(model, train_loader, val_loader, optimizer, criterion, scheduler, epochs,\n",
        "            device, eval_interval=1, verbose=False):\n",
        "\n",
        "    tr_loss_hist= []\n",
        "    vl_loss_hist= []\n",
        "\n",
        "    # --- training loop ---\n",
        "    for epoch in range(epochs):\n",
        "        model.train()\n",
        "        batch_loss= []\n",
        "        start= time.time()\n",
        "\n",
        "        # --- training steps ---\n",
        "        # iterating over all batches\n",
        "        for step, (images, labels) in enumerate(train_loader):\n",
        "            # --- minibatch construction ---\n",
        "            images= images.to(device, non_blocking=True)\n",
        "            labels= labels.to(device, non_blocking=True)\n",
        "\n",
        "            # --- forward pass and get loss ---\n",
        "            logits= model(images)\n",
        "            loss= criterion(logits, labels)\n",
        "            batch_loss.append(loss.item())\n",
        "\n",
        "            # --- backward pass to calculate the gradients ---\n",
        "            optimizer.zero_grad()\n",
        "            loss.backward()\n",
        "\n",
        "            # --- update the parameters using the gradient ---\n",
        "            optimizer.step()\n",
        "\n",
        "        # --- evaluation and track stats ---\n",
        "        tr_loss_hist.append(np.mean(batch_loss))\n",
        "\n",
        "        if epoch% eval_interval== 0 or epoch== epochs-1:\n",
        "            model.eval()\n",
        "            val_loss= []\n",
        "            with torch.no_grad():\n",
        "                for images, labels in val_loader:\n",
        "                    images, labels= images.to(device), labels.to(device)\n",
        "                    logits= model(images)\n",
        "                    loss_v= criterion(logits, labels)\n",
        "                    val_loss.append(loss_v.item())\n",
        "\n",
        "            val_loss= np.mean(val_loss)\n",
        "            end= time.time()\n",
        "            dt= end - start\n",
        "\n",
        "            if verbose:\n",
        "                print(f\"Epoch: {epoch} | Train Loss: {tr_loss_hist[-1]:.4f} | \"\n",
        "                      f\"Val Loss: {val_loss:.4f} | dt/epoch: {dt*1000:.2f}ms\")\n",
        "\n",
        "            # for decreasing learning rate -- the ReduceLROnPlateau is designed to be used per epoch\n",
        "            scheduler.step(val_loss)\n",
        "\n",
        "        vl_loss_hist.append(val_loss)\n",
        "\n",
        "    return tr_loss_hist, vl_loss_hist\n",
        ""
      ],
      "metadata": {
        "id": "n2kDQQg6i6xY"
      },
      "execution_count": 12,
      "outputs": []
    },
    {
      "cell_type": "code",
      "source": [
        "def evaluate_model(model, test_loader, device, verbose=False):\n",
        "    model.eval()\n",
        "    correct= 0\n",
        "    total= 0\n",
        "\n",
        "    with torch.no_grad():\n",
        "        for images, labels in test_loader:\n",
        "            images, labels= images.to(device), labels.to(device)\n",
        "            logits= model(images)\n",
        "            y_pred= torch.argmax(logits, dim=1)\n",
        "            correct += (y_pred == labels).sum().item()\n",
        "            total += labels.size(0)\n",
        "\n",
        "    acc= correct / total\n",
        "    if verbose:\n",
        "        print(f\"Accuracy: {(acc * 100):.2f}%\")\n",
        "\n",
        "    return acc\n",
        ""
      ],
      "metadata": {
        "id": "vK7_HC5rx07f"
      },
      "execution_count": 13,
      "outputs": []
    },
    {
      "cell_type": "code",
      "source": [
        "def plot_losses(train_loss, valid_loss):\n",
        "    # plot training and validation losses\n",
        "    plt.plot(train_loss, label='Train Loss')\n",
        "    plt.plot(valid_loss, label='Validation Loss')\n",
        "    plt.title('Losses')\n",
        "    plt.xlabel('Epochs')\n",
        "    plt.ylabel('Loss')\n",
        "    plt.legend()\n",
        "    plt.grid()"
      ],
      "metadata": {
        "id": "qZOko3gxx5Yi"
      },
      "execution_count": 14,
      "outputs": []
    },
    {
      "cell_type": "markdown",
      "source": [
        "# Training setup using TF32 and Fused AdamW"
      ],
      "metadata": {
        "id": "VT0AOS6m0JDu"
      }
    },
    {
      "cell_type": "code",
      "source": [
        "use_fused= False\n",
        "\n",
        "if device== 'cuda': # TF32 computationally more efficient (slightly the same precision of FP32)\n",
        "    torch.set_float32_matmul_precision('high')\n",
        "    # create AdamW optimizer and use the fused version of it is available\n",
        "    fused_available= 'fused' in inspect.signature(torch.optim.AdamW).parameters\n",
        "    # fused is a lot faster when it is available and when running on cuda\n",
        "    use_fused= fused_available\n",
        "\n",
        "# --- VGG16 ---\n",
        "in_channels= 3\n",
        "num_classes= 10\n",
        "\n",
        "model= VGG(model_hparameters['vgg16'], in_channels, num_classes, dropout=0.1).to(device)\n",
        "count_parameters(model)\n",
        "\n",
        "\n",
        "# train_loader has size 352, so 20 epochs have 7,040 steps\n",
        "epochs= 20\n",
        "learning_rate= 1e-3\n",
        "\n",
        "optimizer= torch.optim.AdamW(\n",
        "    model.parameters(), lr=learning_rate, betas=(0.9, 0.999), weight_decay=1e-4,\n",
        "    fused=use_fused\n",
        ")\n",
        "print(f\"Using fused AdamW: {use_fused}\")\n",
        "criterion= nn.CrossEntropyLoss()\n",
        "# for decreasing learning rate -- the ReduceLROnPlateau is designed to be used per epoch\n",
        "scheduler= ReduceLROnPlateau(optimizer, mode='min', factor=0.1, patience=5, min_lr=1e-6)"
      ],
      "metadata": {
        "id": "mQwj1z0Ti61X",
        "colab": {
          "base_uri": "https://localhost:8080/"
        },
        "outputId": "a534a4ff-f933-42e5-ee8f-4307f1b8d414"
      },
      "execution_count": 15,
      "outputs": [
        {
          "output_type": "stream",
          "name": "stdout",
          "text": [
            "Number of parameters: 134309962\n",
            "Using fused AdamW: True\n"
          ]
        }
      ]
    },
    {
      "cell_type": "code",
      "source": [
        "tr_loss, vl_loss= trainer(model, train_loader, val_loader, optimizer, criterion, scheduler,\n",
        "                          epochs, device, verbose=True)"
      ],
      "metadata": {
        "id": "ssrsb68fi67J",
        "colab": {
          "base_uri": "https://localhost:8080/"
        },
        "outputId": "4fd2f11a-d850-480f-926f-aec496daa0bb"
      },
      "execution_count": 16,
      "outputs": [
        {
          "output_type": "stream",
          "name": "stdout",
          "text": [
            "Epoch: 0 | Train Loss: 3.5384 | Val Loss: 1.7945 | dt/epoch: 113592.17ms\n",
            "Epoch: 1 | Train Loss: 1.7617 | Val Loss: 1.6133 | dt/epoch: 113076.92ms\n",
            "Epoch: 2 | Train Loss: 1.6090 | Val Loss: 1.4614 | dt/epoch: 113070.77ms\n",
            "Epoch: 3 | Train Loss: 1.4942 | Val Loss: 1.3378 | dt/epoch: 112968.97ms\n",
            "Epoch: 4 | Train Loss: 1.3244 | Val Loss: 1.1782 | dt/epoch: 113077.20ms\n",
            "Epoch: 5 | Train Loss: 1.1878 | Val Loss: 1.1805 | dt/epoch: 112910.53ms\n",
            "Epoch: 6 | Train Loss: 1.0905 | Val Loss: 1.0183 | dt/epoch: 113096.68ms\n",
            "Epoch: 7 | Train Loss: 0.9880 | Val Loss: 0.9506 | dt/epoch: 113186.84ms\n",
            "Epoch: 8 | Train Loss: 0.8832 | Val Loss: 0.8524 | dt/epoch: 113098.28ms\n",
            "Epoch: 9 | Train Loss: 0.8060 | Val Loss: 0.9087 | dt/epoch: 113202.71ms\n",
            "Epoch: 10 | Train Loss: 0.7912 | Val Loss: 0.7952 | dt/epoch: 113098.78ms\n",
            "Epoch: 11 | Train Loss: 0.7876 | Val Loss: 0.8645 | dt/epoch: 113210.40ms\n",
            "Epoch: 12 | Train Loss: 0.6910 | Val Loss: 0.6350 | dt/epoch: 113040.39ms\n",
            "Epoch: 13 | Train Loss: 0.6119 | Val Loss: 0.9128 | dt/epoch: 113047.73ms\n",
            "Epoch: 14 | Train Loss: 0.6347 | Val Loss: 0.5654 | dt/epoch: 112949.53ms\n",
            "Epoch: 15 | Train Loss: 0.6000 | Val Loss: 0.6484 | dt/epoch: 113080.35ms\n",
            "Epoch: 16 | Train Loss: 0.5106 | Val Loss: 0.4785 | dt/epoch: 113077.76ms\n",
            "Epoch: 17 | Train Loss: 0.4590 | Val Loss: 0.4897 | dt/epoch: 112978.27ms\n",
            "Epoch: 18 | Train Loss: 0.4308 | Val Loss: 0.4486 | dt/epoch: 113046.13ms\n",
            "Epoch: 19 | Train Loss: 0.3998 | Val Loss: 0.4587 | dt/epoch: 113023.86ms\n"
          ]
        }
      ]
    },
    {
      "cell_type": "code",
      "source": [
        "# plot\n",
        "plot_losses(tr_loss, vl_loss)"
      ],
      "metadata": {
        "id": "1pWCyWZki6_P",
        "colab": {
          "base_uri": "https://localhost:8080/",
          "height": 472
        },
        "outputId": "1224099f-4406-4153-81d4-b40dec04b2eb"
      },
      "execution_count": 17,
      "outputs": [
        {
          "output_type": "display_data",
          "data": {
            "text/plain": [
              "<Figure size 640x480 with 1 Axes>"
            ],
            "image/png": "[encoded data removed]"
          },
          "metadata": {}
        }
      ]
    },
    {
      "cell_type": "code",
      "source": [
        "vgg_acc= evaluate_model(model, test_loader, device, verbose=True)"
      ],
      "metadata": {
        "colab": {
          "base_uri": "https://localhost:8080/"
        },
        "id": "plNhEQIvybEg",
        "outputId": "44f2e7d7-3291-4c5b-aa2a-7ea593847fca"
      },
      "execution_count": 18,
      "outputs": [
        {
          "output_type": "stream",
          "name": "stdout",
          "text": [
            "Accuracy: 83.20%\n"
          ]
        }
      ]
    },
    {
      "cell_type": "code",
      "source": [
        "# https://medium.com/@ilaslanduzgun/create-vgg-from-scratch-in-pytorch-aa194c269b55\n",
        "# https://www.digitalocean.com/community/tutorials/vgg-from-scratch-pytorch\n",
        "# https://debuggercafe.com/implementing-vgg11-from-scratch-using-pytorch/"
      ],
      "metadata": {
        "id": "v_0dNRbyi7CL"
      },
      "execution_count": null,
      "outputs": []
    }
  ]
}