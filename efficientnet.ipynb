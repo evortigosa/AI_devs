{
  "nbformat": 4,
  "nbformat_minor": 0,
  "metadata": {
    "colab": {
      "provenance": [],
      "toc_visible": true
    },
    "kernelspec": {
      "name": "python3",
      "display_name": "Python 3"
    },
    "language_info": {
      "name": "python"
    }
  },
  "cells": [
    {
      "cell_type": "markdown",
      "source": [
        "# EfficientNet - Implementation from scratch in PyTorch\n",
        "\n",
        "EfficientNet is a family of convolutional neural networks that were introduced to achieve high accuracy with significantly fewer parameters and lower computational cost.\n",
        "\n",
        "https://arxiv.org/abs/1905.11946\n",
        "\n",
        "The authors demonstrated the effect of scaling on the ResNet and MobileNet and they also discovered a whole family of networks called EfficientNet through neural architecture search."
      ],
      "metadata": {
        "id": "SANbdWXTGcow"
      }
    },
    {
      "cell_type": "code",
      "execution_count": null,
      "metadata": {
        "id": "K4WrSniUGCqM"
      },
      "outputs": [],
      "source": [
        "import time\n",
        "import math\n",
        "import numpy as np\n",
        "import matplotlib.pyplot as plt\n",
        "import inspect\n",
        "import torch\n",
        "import torch.nn as nn\n",
        "import torch.nn.functional as F\n",
        "from torch.optim.lr_scheduler import ReduceLROnPlateau"
      ]
    },
    {
      "cell_type": "code",
      "source": [
        "device= 'cuda' if torch.cuda.is_available() else 'cpu'"
      ],
      "metadata": {
        "id": "bBnrVnkhGnVt"
      },
      "execution_count": null,
      "outputs": []
    },
    {
      "cell_type": "code",
      "source": [
        "# count how many trainable weights the model has\n",
        "def count_parameters(model) -> None:\n",
        "    total_params= sum(p.numel() for p in model.parameters() if p.requires_grad)\n",
        "    print(f'Number of parameters: {total_params}')"
      ],
      "metadata": {
        "id": "5Mezx6HsGnZA"
      },
      "execution_count": null,
      "outputs": []
    },
    {
      "cell_type": "markdown",
      "source": [
        "# Architecture Implementation\n",
        "\n",
        "Starting by the fundamental building block of a CNN, represented by a convolutional layer. Notably, the SiLU activation is consistently utilized throughout the entire architecture as mentioned in the original paper.\n",
        "\n",
        "Groups is specified to control how convolution is applied to input. If group=1, then a kernel is applied to all input channels and if group=in_channel (depthwise convolution), then a single convolutional kernel is applied for each input channel."
      ],
      "metadata": {
        "id": "KbDsc3epHrT2"
      }
    },
    {
      "cell_type": "code",
      "source": [
        "class ConvLayer(nn.Module):\n",
        "    \"\"\"\n",
        "    Implements one customizable CNN layer.\n",
        "    EfficientNet-style: Input -> Conv2d -> BatchNorm2d -> SiLU -> Output\n",
        "    \"\"\"\n",
        "\n",
        "    def __init__(self, in_channels, out_channels, kernel_size, stride, padding, groups=1,\n",
        "                 bias=False, activation=None) -> None:\n",
        "        super(ConvLayer, self).__init__()\n",
        "        self.conv= nn.Conv2d(\n",
        "            in_channels, out_channels, kernel_size, stride, padding, groups=groups, bias=bias\n",
        "        )\n",
        "        # Batch Normalization to stabilize training\n",
        "        self.norm= nn.BatchNorm2d(out_channels)\n",
        "        # Activation function -- SiLU is the default in EfficientNet\n",
        "        self.activation= nn.SiLU() if activation is None else activation\n",
        "\n",
        "\n",
        "    def forward(self, x):\n",
        "        x= self.conv(x)\n",
        "        x= self.norm(x)\n",
        "        x= self.activation(x)\n",
        "\n",
        "        return x\n"
      ],
      "metadata": {
        "id": "meSgQrUdHfX3"
      },
      "execution_count": null,
      "outputs": []
    },
    {
      "cell_type": "markdown",
      "source": [
        "The Squeeze-and-Excitation module recalibrates channel-wise feature responses by learning global dependencies. It \"squeezes\" global spatial information into a channel descriptor using global average pooling (GAP) and then excites (reweights) each channel through a lightweight network. The primary goal is to enhance feature representation by selectively amplifying important channels.\n",
        "\n",
        "The mechanism applies GAP to condense spatial information into a single descriptor per channel, creating a compact representation of global spatial information. These pooled features are passed to a CNN bottleneck structure and a sigmoid activation is applied on the output features, providing attention weights. The computed attention weights are applied to the original feature maps via channel-wise multiplication, dynamically emphasizing essential channels."
      ],
      "metadata": {
        "id": "VxI74-uEv1HC"
      }
    },
    {
      "cell_type": "code",
      "source": [
        "class SqueezeExcitation(nn.Module):\n",
        "    \"\"\"\n",
        "    Implements a Squeeze-and-Excitation module.\n",
        "    It squeezes global spatial information into a channel descriptor and re-scales the channels.\n",
        "    \"\"\"\n",
        "\n",
        "    def __init__(self, in_channels, squeezed_dim, activation=None) -> None:\n",
        "        super(SqueezeExcitation, self).__init__()\n",
        "        # Global average pooling: C x H x W -> C x 1 x 1\n",
        "        self.average_pool= nn.AdaptiveAvgPool2d(output_size=(1, 1))\n",
        "        # 1x1 convolution reduces the channel dimension\n",
        "        self.conv1= nn.Conv2d(in_channels, squeezed_dim, kernel_size=1)\n",
        "        # Activation function -- SiLU is the default in EfficientNet\n",
        "        self.activation= nn.SiLU() if activation is None else activation\n",
        "        # 1x1 convolution restores the channel dimension\n",
        "        self.conv2= nn.Conv2d(squeezed_dim, in_channels, kernel_size=1)\n",
        "        # Sigmoid activation to obtain channel-wise weights between 0 and 1\n",
        "        self.sigmoid= nn.Sigmoid()\n",
        "\n",
        "\n",
        "    def forward(self, x):\n",
        "        se= self.average_pool(x)\n",
        "        se= self.activation(self.conv1(se))\n",
        "        se= self.sigmoid(self.conv2(se))\n",
        "\n",
        "        return x * se\n"
      ],
      "metadata": {
        "id": "Uk-Ul6e-HffJ"
      },
      "execution_count": null,
      "outputs": []
    },
    {
      "cell_type": "markdown",
      "source": [
        "The MBConv consists of inverted residual connections and depthwise separable convolutions, which improve computational efficiency while maintaining high representational power.\n",
        "\n",
        "The MBConv block includes:\n",
        "\n",
        "- Expansion Convolution: Expands the input channels using a pointwise (1x1) convolution.\n",
        "- Depthwise Separable Convolution: A depthwise convolution (operates per channel) followed by a pointwise (1x1) convolution, reducing computational cost.\n",
        "- Squeeze-and-Excitation: This component applies GAP followed by a lightweight network to generate channel-wise attention weights, which are then applied to the feature maps.\n",
        "- Stochastic Depth Regularization: Used to improve generalization and training efficiency. It randomly drops entire residual blocks during training, reducing computational load and acting as regularization to prevent overfitting.\n",
        "- Residual Connection (if input/output dimensions match): Helps with gradient flow and prevents information loss."
      ],
      "metadata": {
        "id": "Sh4_MogV0puR"
      }
    },
    {
      "cell_type": "code",
      "source": [
        "class MBConv(nn.Module):\n",
        "    \"\"\"\n",
        "    Implements a Mobile Inverted Residual Block (inspired by MobileNetV2).\n",
        "    Residual (skip) connection is used if stride==1 and input/output channels match.\n",
        "    \"\"\"\n",
        "\n",
        "    def __init__(self, in_channels, out_channels, kernel_size, stride, padding, expand_ratio,\n",
        "                 reduction=4, survival_prob=0.8, bias=False, activation=None) -> None:\n",
        "        super(MBConv, self).__init__()\n",
        "        # Activation function -- SiLU is the default in EfficientNet\n",
        "        activation= nn.SiLU() if activation is None else activation\n",
        "        hidden_dim= in_channels * expand_ratio\n",
        "        # For squeeze and excitation module\n",
        "        reduced_dim= in_channels // reduction\n",
        "\n",
        "        self.use_residual= (in_channels == out_channels) and (stride == 1)\n",
        "        # Determine if expansion is needed\n",
        "        self.expand= (in_channels != hidden_dim)\n",
        "        # For stochastic depth\n",
        "        self.survival_prob= survival_prob\n",
        "\n",
        "        if self.expand:\n",
        "            # Optional expansion phase (1x1 conv + BN + Activation)\n",
        "            self.expand_conv= ConvLayer(\n",
        "                in_channels, hidden_dim, kernel_size=1, stride=1, padding=0, bias=bias,\n",
        "                activation=activation\n",
        "            )\n",
        "\n",
        "        self.conv= nn.Sequential(\n",
        "            # Depthwise convolution\n",
        "            ConvLayer(\n",
        "                hidden_dim, hidden_dim, kernel_size, stride, padding, groups=hidden_dim,\n",
        "                bias=bias, activation=activation\n",
        "            ),\n",
        "            # Squeeze-and-Excitation\n",
        "            SqueezeExcitation(hidden_dim, reduced_dim, activation=activation),\n",
        "            # Projection phase (1x1 conv + BN) -- reduce channels to out_channels\n",
        "            nn.Conv2d(hidden_dim, out_channels, kernel_size=1, bias=bias),\n",
        "            nn.BatchNorm2d(out_channels),\n",
        "        )\n",
        "\n",
        "\n",
        "    def stochastic_depth(self, x):\n",
        "        \"\"\"\n",
        "        Implements stochastic depth regularization.\n",
        "        During training, randomly drops the output of the block with probability\n",
        "        (1 - survival_prob) scaling the remaining output to maintain the expected value.\n",
        "        \"\"\"\n",
        "        if not self.training:\n",
        "            return x\n",
        "        # Binary mask with the same batch size and shape (broadcasted over spatial dimensions)\n",
        "        binary_tensor= torch.rand(\n",
        "            x.shape[0], 1, 1, 1, device=x.device, dtype=x.dtype\n",
        "        ) < self.survival_prob\n",
        "        # Scale the output to maintain expected value and apply the mask\n",
        "        return torch.div(x, self.survival_prob) * binary_tensor\n",
        "\n",
        "\n",
        "    def forward(self, x):\n",
        "        # Save the original input for the residual connection -- avoid in-place operations\n",
        "        identity= x\n",
        "        if self.expand:\n",
        "            x= self.expand_conv(x)\n",
        "        # Compute the main branch convolutions\n",
        "        x= self.conv(x)\n",
        "        if self.use_residual:\n",
        "            return identity + self.stochastic_depth(x)\n",
        "\n",
        "        return x\n"
      ],
      "metadata": {
        "id": "2RRnDqy6HfcP"
      },
      "execution_count": null,
      "outputs": []
    },
    {
      "cell_type": "markdown",
      "source": [
        "# Define configs for different EfficientNet versions\n",
        "\n",
        "The motivation behind introducing $\\phi$ lies in the understanding that increasing the depth of the model linearly impacts the FLOPS, while changing the width or resolution has a quadratic impact. These constants were derived through neural architecture search, drawing inspiration from MnasNet."
      ],
      "metadata": {
        "id": "oQoPH7TdHgXP"
      }
    },
    {
      "cell_type": "code",
      "source": [
        "base_model= [\n",
        "    # expand_ratio, channels, repeats, stride, kernel_size\n",
        "    [1, 16, 1, 1, 3],\n",
        "    [6, 24, 2, 2, 3],\n",
        "    [6, 40, 2, 2, 5],\n",
        "    [6, 80, 3, 2, 3],\n",
        "    [6, 112, 3, 1, 5],\n",
        "    [6, 192, 4, 2, 5],\n",
        "    [6, 320, 1, 1, 3],\n",
        "]\n",
        "\n",
        "phi_values= {\n",
        "    # model_version: (phi_value, resolution, dropout)\n",
        "    \"b0\": (0, 224, 0.2),\n",
        "    \"b1\": (0.5, 240, 0.2),\n",
        "    \"b2\": (1, 260, 0.3),\n",
        "    \"b3\": (2, 300, 0.3),\n",
        "    \"b4\": (3, 380, 0.4),\n",
        "    \"b5\": (4, 456, 0.4),\n",
        "    \"b6\": (5, 528, 0.5),\n",
        "    \"b7\": (6, 600, 0.5),\n",
        "}"
      ],
      "metadata": {
        "id": "ZDdk1tsxHfUN"
      },
      "execution_count": null,
      "outputs": []
    },
    {
      "cell_type": "markdown",
      "source": [
        "# Building the EfficientNet\n",
        "\n",
        "**Stem and Head**\n",
        "\n",
        "- Stem: The network begins with a standard convolutional layer (with stride 2) to reduce spatial resolution.\n",
        "- Head: After the MBConv blocks, a final 1x1 convolution, GAP, and a fully connected layer (classifier) are applied to produce the final predictions.\n",
        "\n",
        "**Compound Scaling**: One of the major contributions of EfficientNet is its compound scaling method. Instead of scaling only one dimension (e.g., depth or width), EfficientNet scales all three dimensions (depth, width, and resolution) in a principled manner using a compound coefficient $\\phi$.\n",
        "\n",
        "- Depth Scaling: Increases the number of layers (blocks) in the network.\n",
        "- Width Scaling: Increases the number of channels (filters) in each layer.\n",
        "- Resolution Scaling: Increases the input image size."
      ],
      "metadata": {
        "id": "6Zc2Zm66HWWP"
      }
    },
    {
      "cell_type": "code",
      "source": [
        "class EfficientNet(nn.Module):\n",
        "    \"\"\"\n",
        "    EfficientNet implementation using MBConv blocks with compound scaling.\n",
        "    The scaling factors (width and depth) are computed based on the provided model_version.\n",
        "    \"\"\"\n",
        "\n",
        "    def __init__(self, model_version, in_channels, num_classes, bias=False, activation=None,\n",
        "                 reduction=4, survival_prob=0.8, alpha=1.2, beta=1.1) -> None:\n",
        "        super(EfficientNet, self).__init__()\n",
        "        # Activation function -- SiLU is the default in EfficientNet\n",
        "        activation= nn.SiLU() if activation is None else activation\n",
        "        # Get scaling factors from the provided model_version\n",
        "        width_factor, depth_factor, resolution, dropout= self.model_factors(\n",
        "            model_version, alpha, beta\n",
        "        )\n",
        "        # Base channels scaled by width_factor.\n",
        "        stem_channels= int(32 * width_factor)\n",
        "        # Final channel dimension, scaled and rounded up to a multiple of the reduction factor\n",
        "        last_channels= math.ceil(1280 * width_factor)\n",
        "\n",
        "        # Build the backbone feature extractor\n",
        "        self.backbone= nn.ModuleList([\n",
        "            # Stem: Initial 3x3 conv with stride 2\n",
        "            ConvLayer(\n",
        "                in_channels, stem_channels, kernel_size=3, stride=2, padding=1,\n",
        "                bias=bias, activation=activation\n",
        "            )\n",
        "        ])\n",
        "        # Update in_channels for subsequent layers\n",
        "        in_channels= stem_channels\n",
        "\n",
        "        # MBConv layers\n",
        "        # For each layer in the base_model, scale the number of channels and number of repeats\n",
        "        for expand_ratio, channels, repeats, stride, kernel_size in base_model:\n",
        "            # Scale the out_channels using width_factor and round up to a multiple of the reduction\n",
        "            out_channels = reduction * math.ceil(int(channels * width_factor) / reduction)\n",
        "            layer_repeats= math.ceil(repeats * depth_factor)\n",
        "\n",
        "            for layer in range(layer_repeats):\n",
        "                # The first layer in a block uses the specified stride; for others, use stride 1\n",
        "                stride= stride if layer== 0 else 1\n",
        "                # Calculate padding to maintain spatial dimensions\n",
        "                padding= kernel_size // 2\n",
        "\n",
        "                self.backbone.append(\n",
        "                    MBConv(\n",
        "                        in_channels, out_channels, kernel_size, stride, padding, expand_ratio,\n",
        "                        reduction, survival_prob, bias=bias, activation=activation\n",
        "                    )\n",
        "                )\n",
        "                # Update in_channels for subsequent layers\n",
        "                in_channels= out_channels\n",
        "\n",
        "        self.backbone.append(\n",
        "            # Head: Final 1x1 conv to adjust channel dimension before classification\n",
        "            ConvLayer(\n",
        "                in_channels, last_channels, kernel_size=1, stride=1, padding=0,\n",
        "                bias=bias, activation=activation\n",
        "            )\n",
        "        )\n",
        "\n",
        "        # Pooling and classification head to produce the class logits\n",
        "        self.pool= nn.AdaptiveAvgPool2d(output_size=(1, 1))\n",
        "        self.head= nn.Sequential(\n",
        "            nn.Dropout(p=dropout),\n",
        "            nn.Linear(last_channels, num_classes),\n",
        "        )\n",
        "\n",
        "        # initialize parameters with Xavier initialization\n",
        "        for m in self.modules():\n",
        "            if isinstance(m, nn.Conv2d) or isinstance(m, nn.Linear):\n",
        "                nn.init.xavier_uniform_(m.weight)\n",
        "                if m.bias is not None: nn.init.zeros_(m.bias)\n",
        "            elif isinstance(m, nn.BatchNorm2d):\n",
        "                nn.init.constant_(m.weight, 1.0)\n",
        "                nn.init.constant_(m.bias, 0.0)\n",
        "\n",
        "\n",
        "    def model_factors(self, model_version, alpha, beta):\n",
        "        \"\"\"\n",
        "        Computes scaling factors for width and depth based on the EfficientNet compound scaling\n",
        "        method.\n",
        "        \"\"\"\n",
        "        phi, resolution, dropout= phi_values[model_version]\n",
        "        depth_factor= alpha ** phi\n",
        "        width_factor= beta ** phi\n",
        "\n",
        "        return width_factor, depth_factor, resolution, dropout\n",
        "\n",
        "\n",
        "    def forward(self, x):\n",
        "        for layer in self.backbone:\n",
        "            x= layer(x)\n",
        "        x= self.pool(x)\n",
        "        x= torch.flatten(x, start_dim=1)\n",
        "        x= self.head(x)\n",
        "\n",
        "        return x\n"
      ],
      "metadata": {
        "id": "ZwzrxsDYGncE"
      },
      "execution_count": null,
      "outputs": []
    },
    {
      "cell_type": "code",
      "source": [
        "img= torch.randn(1, 3, 224, 224).to(device)  # a single image batch\n",
        "model= EfficientNet(model_version='b0', in_channels=3, num_classes=1000).to(device)\n",
        "count_parameters(model)\n",
        "print(model(img).shape)\n",
        "\n",
        "model"
      ],
      "metadata": {
        "id": "eeJ2eiH9IMk_",
        "colab": {
          "base_uri": "https://localhost:8080/"
        },
        "outputId": "c5cf7bef-60ae-4fa5-9152-e229c89648ac"
      },
      "execution_count": null,
      "outputs": [
        {
          "output_type": "stream",
          "name": "stdout",
          "text": [
            "Number of parameters: 5288548\n",
            "torch.Size([1, 1000])\n"
          ]
        },
        {
          "output_type": "execute_result",
          "data": {
            "text/plain": [
              "EfficientNet(\n",
              "  (backbone): ModuleList(\n",
              "    (0): ConvLayer(\n",
              "      (conv): Conv2d(3, 32, kernel_size=(3, 3), stride=(2, 2), padding=(1, 1), bias=False)\n",
              "      (norm): BatchNorm2d(32, eps=1e-05, momentum=0.1, affine=True, track_running_stats=True)\n",
              "      (activation): SiLU()\n",
              "    )\n",
              "    (1): MBConv(\n",
              "      (conv): Sequential(\n",
              "        (0): ConvLayer(\n",
              "          (conv): Conv2d(32, 32, kernel_size=(3, 3), stride=(1, 1), padding=(1, 1), groups=32, bias=False)\n",
              "          (norm): BatchNorm2d(32, eps=1e-05, momentum=0.1, affine=True, track_running_stats=True)\n",
              "          (activation): SiLU()\n",
              "        )\n",
              "        (1): SqueezeExcitation(\n",
              "          (average_pool): AdaptiveAvgPool2d(output_size=(1, 1))\n",
              "          (conv1): Conv2d(32, 8, kernel_size=(1, 1), stride=(1, 1))\n",
              "          (activation): SiLU()\n",
              "          (conv2): Conv2d(8, 32, kernel_size=(1, 1), stride=(1, 1))\n",
              "          (sigmoid): Sigmoid()\n",
              "        )\n",
              "        (2): Conv2d(32, 16, kernel_size=(1, 1), stride=(1, 1), bias=False)\n",
              "        (3): BatchNorm2d(16, eps=1e-05, momentum=0.1, affine=True, track_running_stats=True)\n",
              "      )\n",
              "    )\n",
              "    (2): MBConv(\n",
              "      (expand_conv): ConvLayer(\n",
              "        (conv): Conv2d(16, 96, kernel_size=(1, 1), stride=(1, 1), bias=False)\n",
              "        (norm): BatchNorm2d(96, eps=1e-05, momentum=0.1, affine=True, track_running_stats=True)\n",
              "        (activation): SiLU()\n",
              "      )\n",
              "      (conv): Sequential(\n",
              "        (0): ConvLayer(\n",
              "          (conv): Conv2d(96, 96, kernel_size=(3, 3), stride=(2, 2), padding=(1, 1), groups=96, bias=False)\n",
              "          (norm): BatchNorm2d(96, eps=1e-05, momentum=0.1, affine=True, track_running_stats=True)\n",
              "          (activation): SiLU()\n",
              "        )\n",
              "        (1): SqueezeExcitation(\n",
              "          (average_pool): AdaptiveAvgPool2d(output_size=(1, 1))\n",
              "          (conv1): Conv2d(96, 4, kernel_size=(1, 1), stride=(1, 1))\n",
              "          (activation): SiLU()\n",
              "          (conv2): Conv2d(4, 96, kernel_size=(1, 1), stride=(1, 1))\n",
              "          (sigmoid): Sigmoid()\n",
              "        )\n",
              "        (2): Conv2d(96, 24, kernel_size=(1, 1), stride=(1, 1), bias=False)\n",
              "        (3): BatchNorm2d(24, eps=1e-05, momentum=0.1, affine=True, track_running_stats=True)\n",
              "      )\n",
              "    )\n",
              "    (3): MBConv(\n",
              "      (expand_conv): ConvLayer(\n",
              "        (conv): Conv2d(24, 144, kernel_size=(1, 1), stride=(1, 1), bias=False)\n",
              "        (norm): BatchNorm2d(144, eps=1e-05, momentum=0.1, affine=True, track_running_stats=True)\n",
              "        (activation): SiLU()\n",
              "      )\n",
              "      (conv): Sequential(\n",
              "        (0): ConvLayer(\n",
              "          (conv): Conv2d(144, 144, kernel_size=(3, 3), stride=(1, 1), padding=(1, 1), groups=144, bias=False)\n",
              "          (norm): BatchNorm2d(144, eps=1e-05, momentum=0.1, affine=True, track_running_stats=True)\n",
              "          (activation): SiLU()\n",
              "        )\n",
              "        (1): SqueezeExcitation(\n",
              "          (average_pool): AdaptiveAvgPool2d(output_size=(1, 1))\n",
              "          (conv1): Conv2d(144, 6, kernel_size=(1, 1), stride=(1, 1))\n",
              "          (activation): SiLU()\n",
              "          (conv2): Conv2d(6, 144, kernel_size=(1, 1), stride=(1, 1))\n",
              "          (sigmoid): Sigmoid()\n",
              "        )\n",
              "        (2): Conv2d(144, 24, kernel_size=(1, 1), stride=(1, 1), bias=False)\n",
              "        (3): BatchNorm2d(24, eps=1e-05, momentum=0.1, affine=True, track_running_stats=True)\n",
              "      )\n",
              "    )\n",
              "    (4): MBConv(\n",
              "      (expand_conv): ConvLayer(\n",
              "        (conv): Conv2d(24, 144, kernel_size=(1, 1), stride=(1, 1), bias=False)\n",
              "        (norm): BatchNorm2d(144, eps=1e-05, momentum=0.1, affine=True, track_running_stats=True)\n",
              "        (activation): SiLU()\n",
              "      )\n",
              "      (conv): Sequential(\n",
              "        (0): ConvLayer(\n",
              "          (conv): Conv2d(144, 144, kernel_size=(5, 5), stride=(2, 2), padding=(2, 2), groups=144, bias=False)\n",
              "          (norm): BatchNorm2d(144, eps=1e-05, momentum=0.1, affine=True, track_running_stats=True)\n",
              "          (activation): SiLU()\n",
              "        )\n",
              "        (1): SqueezeExcitation(\n",
              "          (average_pool): AdaptiveAvgPool2d(output_size=(1, 1))\n",
              "          (conv1): Conv2d(144, 6, kernel_size=(1, 1), stride=(1, 1))\n",
              "          (activation): SiLU()\n",
              "          (conv2): Conv2d(6, 144, kernel_size=(1, 1), stride=(1, 1))\n",
              "          (sigmoid): Sigmoid()\n",
              "        )\n",
              "        (2): Conv2d(144, 40, kernel_size=(1, 1), stride=(1, 1), bias=False)\n",
              "        (3): BatchNorm2d(40, eps=1e-05, momentum=0.1, affine=True, track_running_stats=True)\n",
              "      )\n",
              "    )\n",
              "    (5): MBConv(\n",
              "      (expand_conv): ConvLayer(\n",
              "        (conv): Conv2d(40, 240, kernel_size=(1, 1), stride=(1, 1), bias=False)\n",
              "        (norm): BatchNorm2d(240, eps=1e-05, momentum=0.1, affine=True, track_running_stats=True)\n",
              "        (activation): SiLU()\n",
              "      )\n",
              "      (conv): Sequential(\n",
              "        (0): ConvLayer(\n",
              "          (conv): Conv2d(240, 240, kernel_size=(5, 5), stride=(1, 1), padding=(2, 2), groups=240, bias=False)\n",
              "          (norm): BatchNorm2d(240, eps=1e-05, momentum=0.1, affine=True, track_running_stats=True)\n",
              "          (activation): SiLU()\n",
              "        )\n",
              "        (1): SqueezeExcitation(\n",
              "          (average_pool): AdaptiveAvgPool2d(output_size=(1, 1))\n",
              "          (conv1): Conv2d(240, 10, kernel_size=(1, 1), stride=(1, 1))\n",
              "          (activation): SiLU()\n",
              "          (conv2): Conv2d(10, 240, kernel_size=(1, 1), stride=(1, 1))\n",
              "          (sigmoid): Sigmoid()\n",
              "        )\n",
              "        (2): Conv2d(240, 40, kernel_size=(1, 1), stride=(1, 1), bias=False)\n",
              "        (3): BatchNorm2d(40, eps=1e-05, momentum=0.1, affine=True, track_running_stats=True)\n",
              "      )\n",
              "    )\n",
              "    (6): MBConv(\n",
              "      (expand_conv): ConvLayer(\n",
              "        (conv): Conv2d(40, 240, kernel_size=(1, 1), stride=(1, 1), bias=False)\n",
              "        (norm): BatchNorm2d(240, eps=1e-05, momentum=0.1, affine=True, track_running_stats=True)\n",
              "        (activation): SiLU()\n",
              "      )\n",
              "      (conv): Sequential(\n",
              "        (0): ConvLayer(\n",
              "          (conv): Conv2d(240, 240, kernel_size=(3, 3), stride=(2, 2), padding=(1, 1), groups=240, bias=False)\n",
              "          (norm): BatchNorm2d(240, eps=1e-05, momentum=0.1, affine=True, track_running_stats=True)\n",
              "          (activation): SiLU()\n",
              "        )\n",
              "        (1): SqueezeExcitation(\n",
              "          (average_pool): AdaptiveAvgPool2d(output_size=(1, 1))\n",
              "          (conv1): Conv2d(240, 10, kernel_size=(1, 1), stride=(1, 1))\n",
              "          (activation): SiLU()\n",
              "          (conv2): Conv2d(10, 240, kernel_size=(1, 1), stride=(1, 1))\n",
              "          (sigmoid): Sigmoid()\n",
              "        )\n",
              "        (2): Conv2d(240, 80, kernel_size=(1, 1), stride=(1, 1), bias=False)\n",
              "        (3): BatchNorm2d(80, eps=1e-05, momentum=0.1, affine=True, track_running_stats=True)\n",
              "      )\n",
              "    )\n",
              "    (7-8): 2 x MBConv(\n",
              "      (expand_conv): ConvLayer(\n",
              "        (conv): Conv2d(80, 480, kernel_size=(1, 1), stride=(1, 1), bias=False)\n",
              "        (norm): BatchNorm2d(480, eps=1e-05, momentum=0.1, affine=True, track_running_stats=True)\n",
              "        (activation): SiLU()\n",
              "      )\n",
              "      (conv): Sequential(\n",
              "        (0): ConvLayer(\n",
              "          (conv): Conv2d(480, 480, kernel_size=(3, 3), stride=(1, 1), padding=(1, 1), groups=480, bias=False)\n",
              "          (norm): BatchNorm2d(480, eps=1e-05, momentum=0.1, affine=True, track_running_stats=True)\n",
              "          (activation): SiLU()\n",
              "        )\n",
              "        (1): SqueezeExcitation(\n",
              "          (average_pool): AdaptiveAvgPool2d(output_size=(1, 1))\n",
              "          (conv1): Conv2d(480, 20, kernel_size=(1, 1), stride=(1, 1))\n",
              "          (activation): SiLU()\n",
              "          (conv2): Conv2d(20, 480, kernel_size=(1, 1), stride=(1, 1))\n",
              "          (sigmoid): Sigmoid()\n",
              "        )\n",
              "        (2): Conv2d(480, 80, kernel_size=(1, 1), stride=(1, 1), bias=False)\n",
              "        (3): BatchNorm2d(80, eps=1e-05, momentum=0.1, affine=True, track_running_stats=True)\n",
              "      )\n",
              "    )\n",
              "    (9): MBConv(\n",
              "      (expand_conv): ConvLayer(\n",
              "        (conv): Conv2d(80, 480, kernel_size=(1, 1), stride=(1, 1), bias=False)\n",
              "        (norm): BatchNorm2d(480, eps=1e-05, momentum=0.1, affine=True, track_running_stats=True)\n",
              "        (activation): SiLU()\n",
              "      )\n",
              "      (conv): Sequential(\n",
              "        (0): ConvLayer(\n",
              "          (conv): Conv2d(480, 480, kernel_size=(5, 5), stride=(1, 1), padding=(2, 2), groups=480, bias=False)\n",
              "          (norm): BatchNorm2d(480, eps=1e-05, momentum=0.1, affine=True, track_running_stats=True)\n",
              "          (activation): SiLU()\n",
              "        )\n",
              "        (1): SqueezeExcitation(\n",
              "          (average_pool): AdaptiveAvgPool2d(output_size=(1, 1))\n",
              "          (conv1): Conv2d(480, 20, kernel_size=(1, 1), stride=(1, 1))\n",
              "          (activation): SiLU()\n",
              "          (conv2): Conv2d(20, 480, kernel_size=(1, 1), stride=(1, 1))\n",
              "          (sigmoid): Sigmoid()\n",
              "        )\n",
              "        (2): Conv2d(480, 112, kernel_size=(1, 1), stride=(1, 1), bias=False)\n",
              "        (3): BatchNorm2d(112, eps=1e-05, momentum=0.1, affine=True, track_running_stats=True)\n",
              "      )\n",
              "    )\n",
              "    (10-11): 2 x MBConv(\n",
              "      (expand_conv): ConvLayer(\n",
              "        (conv): Conv2d(112, 672, kernel_size=(1, 1), stride=(1, 1), bias=False)\n",
              "        (norm): BatchNorm2d(672, eps=1e-05, momentum=0.1, affine=True, track_running_stats=True)\n",
              "        (activation): SiLU()\n",
              "      )\n",
              "      (conv): Sequential(\n",
              "        (0): ConvLayer(\n",
              "          (conv): Conv2d(672, 672, kernel_size=(5, 5), stride=(1, 1), padding=(2, 2), groups=672, bias=False)\n",
              "          (norm): BatchNorm2d(672, eps=1e-05, momentum=0.1, affine=True, track_running_stats=True)\n",
              "          (activation): SiLU()\n",
              "        )\n",
              "        (1): SqueezeExcitation(\n",
              "          (average_pool): AdaptiveAvgPool2d(output_size=(1, 1))\n",
              "          (conv1): Conv2d(672, 28, kernel_size=(1, 1), stride=(1, 1))\n",
              "          (activation): SiLU()\n",
              "          (conv2): Conv2d(28, 672, kernel_size=(1, 1), stride=(1, 1))\n",
              "          (sigmoid): Sigmoid()\n",
              "        )\n",
              "        (2): Conv2d(672, 112, kernel_size=(1, 1), stride=(1, 1), bias=False)\n",
              "        (3): BatchNorm2d(112, eps=1e-05, momentum=0.1, affine=True, track_running_stats=True)\n",
              "      )\n",
              "    )\n",
              "    (12): MBConv(\n",
              "      (expand_conv): ConvLayer(\n",
              "        (conv): Conv2d(112, 672, kernel_size=(1, 1), stride=(1, 1), bias=False)\n",
              "        (norm): BatchNorm2d(672, eps=1e-05, momentum=0.1, affine=True, track_running_stats=True)\n",
              "        (activation): SiLU()\n",
              "      )\n",
              "      (conv): Sequential(\n",
              "        (0): ConvLayer(\n",
              "          (conv): Conv2d(672, 672, kernel_size=(5, 5), stride=(2, 2), padding=(2, 2), groups=672, bias=False)\n",
              "          (norm): BatchNorm2d(672, eps=1e-05, momentum=0.1, affine=True, track_running_stats=True)\n",
              "          (activation): SiLU()\n",
              "        )\n",
              "        (1): SqueezeExcitation(\n",
              "          (average_pool): AdaptiveAvgPool2d(output_size=(1, 1))\n",
              "          (conv1): Conv2d(672, 28, kernel_size=(1, 1), stride=(1, 1))\n",
              "          (activation): SiLU()\n",
              "          (conv2): Conv2d(28, 672, kernel_size=(1, 1), stride=(1, 1))\n",
              "          (sigmoid): Sigmoid()\n",
              "        )\n",
              "        (2): Conv2d(672, 192, kernel_size=(1, 1), stride=(1, 1), bias=False)\n",
              "        (3): BatchNorm2d(192, eps=1e-05, momentum=0.1, affine=True, track_running_stats=True)\n",
              "      )\n",
              "    )\n",
              "    (13-15): 3 x MBConv(\n",
              "      (expand_conv): ConvLayer(\n",
              "        (conv): Conv2d(192, 1152, kernel_size=(1, 1), stride=(1, 1), bias=False)\n",
              "        (norm): BatchNorm2d(1152, eps=1e-05, momentum=0.1, affine=True, track_running_stats=True)\n",
              "        (activation): SiLU()\n",
              "      )\n",
              "      (conv): Sequential(\n",
              "        (0): ConvLayer(\n",
              "          (conv): Conv2d(1152, 1152, kernel_size=(5, 5), stride=(1, 1), padding=(2, 2), groups=1152, bias=False)\n",
              "          (norm): BatchNorm2d(1152, eps=1e-05, momentum=0.1, affine=True, track_running_stats=True)\n",
              "          (activation): SiLU()\n",
              "        )\n",
              "        (1): SqueezeExcitation(\n",
              "          (average_pool): AdaptiveAvgPool2d(output_size=(1, 1))\n",
              "          (conv1): Conv2d(1152, 48, kernel_size=(1, 1), stride=(1, 1))\n",
              "          (activation): SiLU()\n",
              "          (conv2): Conv2d(48, 1152, kernel_size=(1, 1), stride=(1, 1))\n",
              "          (sigmoid): Sigmoid()\n",
              "        )\n",
              "        (2): Conv2d(1152, 192, kernel_size=(1, 1), stride=(1, 1), bias=False)\n",
              "        (3): BatchNorm2d(192, eps=1e-05, momentum=0.1, affine=True, track_running_stats=True)\n",
              "      )\n",
              "    )\n",
              "    (16): MBConv(\n",
              "      (expand_conv): ConvLayer(\n",
              "        (conv): Conv2d(192, 1152, kernel_size=(1, 1), stride=(1, 1), bias=False)\n",
              "        (norm): BatchNorm2d(1152, eps=1e-05, momentum=0.1, affine=True, track_running_stats=True)\n",
              "        (activation): SiLU()\n",
              "      )\n",
              "      (conv): Sequential(\n",
              "        (0): ConvLayer(\n",
              "          (conv): Conv2d(1152, 1152, kernel_size=(3, 3), stride=(1, 1), padding=(1, 1), groups=1152, bias=False)\n",
              "          (norm): BatchNorm2d(1152, eps=1e-05, momentum=0.1, affine=True, track_running_stats=True)\n",
              "          (activation): SiLU()\n",
              "        )\n",
              "        (1): SqueezeExcitation(\n",
              "          (average_pool): AdaptiveAvgPool2d(output_size=(1, 1))\n",
              "          (conv1): Conv2d(1152, 48, kernel_size=(1, 1), stride=(1, 1))\n",
              "          (activation): SiLU()\n",
              "          (conv2): Conv2d(48, 1152, kernel_size=(1, 1), stride=(1, 1))\n",
              "          (sigmoid): Sigmoid()\n",
              "        )\n",
              "        (2): Conv2d(1152, 320, kernel_size=(1, 1), stride=(1, 1), bias=False)\n",
              "        (3): BatchNorm2d(320, eps=1e-05, momentum=0.1, affine=True, track_running_stats=True)\n",
              "      )\n",
              "    )\n",
              "    (17): ConvLayer(\n",
              "      (conv): Conv2d(320, 1280, kernel_size=(1, 1), stride=(1, 1), bias=False)\n",
              "      (norm): BatchNorm2d(1280, eps=1e-05, momentum=0.1, affine=True, track_running_stats=True)\n",
              "      (activation): SiLU()\n",
              "    )\n",
              "  )\n",
              "  (pool): AdaptiveAvgPool2d(output_size=(1, 1))\n",
              "  (head): Sequential(\n",
              "    (0): Dropout(p=0.2, inplace=False)\n",
              "    (1): Linear(in_features=1280, out_features=1000, bias=True)\n",
              "  )\n",
              ")"
            ]
          },
          "metadata": {},
          "execution_count": 9
        }
      ]
    },
    {
      "cell_type": "markdown",
      "source": [
        "# Training a EfficientNet model from scratch"
      ],
      "metadata": {
        "id": "vLd8fcA4HRDg"
      }
    },
    {
      "cell_type": "code",
      "source": [
        "from torch.utils.data import DataLoader, random_split\n",
        "from torchvision import datasets, transforms"
      ],
      "metadata": {
        "id": "6xZhJyB-Gnfz"
      },
      "execution_count": null,
      "outputs": []
    },
    {
      "cell_type": "code",
      "source": [
        "# data preparation -- define transformations for the dataset\n",
        "transform= transforms.Compose([\n",
        "    transforms.Resize((224, 224)),\n",
        "    transforms.RandomHorizontalFlip(),\n",
        "    transforms.ToTensor(),\n",
        "    transforms.Normalize(mean=[0.4914, 0.4822, 0.4465],\n",
        "                         std= [0.2023, 0.1994, 0.2010]), # CIFAR-10 stats\n",
        "])\n",
        "\n",
        "# load the CIFAR-10 dataset\n",
        "train_dataset= datasets.CIFAR10(root='./data', train=True, download=True, transform=transform)\n",
        "test_dataset = datasets.CIFAR10(root='./data', train=False,download=True, transform=transform)\n",
        "\n",
        "# create data loaders\n",
        "train_size= int(0.9 * len(train_dataset))\n",
        "val_size  = len(train_dataset) - train_size\n",
        "train_dataset, val_dataset= random_split(train_dataset, [train_size, val_size])\n",
        "\n",
        "batch_size= 128\n",
        "train_loader= DataLoader(train_dataset,batch_size=batch_size, shuffle=True)\n",
        "val_loader  = DataLoader(val_dataset,  batch_size=batch_size, shuffle=False)\n",
        "test_loader = DataLoader(test_dataset, batch_size=batch_size, shuffle=False)"
      ],
      "metadata": {
        "id": "lhiMtAjRIVRR",
        "colab": {
          "base_uri": "https://localhost:8080/"
        },
        "outputId": "26a04ef4-6ab5-416a-977c-39645f8046df"
      },
      "execution_count": null,
      "outputs": [
        {
          "output_type": "stream",
          "name": "stdout",
          "text": [
            "Downloading https://www.cs.toronto.edu/~kriz/cifar-10-python.tar.gz to ./data/cifar-10-python.tar.gz\n"
          ]
        },
        {
          "output_type": "stream",
          "name": "stderr",
          "text": [
            "100%|██████████| 170M/170M [00:02<00:00, 80.1MB/s]\n"
          ]
        },
        {
          "output_type": "stream",
          "name": "stdout",
          "text": [
            "Extracting ./data/cifar-10-python.tar.gz to ./data\n",
            "Files already downloaded and verified\n"
          ]
        }
      ]
    },
    {
      "cell_type": "code",
      "source": [
        "len(train_loader), len(val_loader)"
      ],
      "metadata": {
        "id": "x2upZwRFIVU_",
        "colab": {
          "base_uri": "https://localhost:8080/"
        },
        "outputId": "335b2e8e-4543-47a9-84fb-ae7782a46594"
      },
      "execution_count": null,
      "outputs": [
        {
          "output_type": "execute_result",
          "data": {
            "text/plain": [
              "(352, 40)"
            ]
          },
          "metadata": {},
          "execution_count": 12
        }
      ]
    },
    {
      "cell_type": "markdown",
      "source": [
        "# Trainer Function\n",
        "\n",
        "TODO:\n",
        "\n",
        "- Data augmentation for training.\n",
        "- Play with different learning rate values."
      ],
      "metadata": {
        "id": "QR0fYm-gHNuW"
      }
    },
    {
      "cell_type": "code",
      "source": [
        "def trainer(model, train_loader, val_loader, optimizer, criterion, scheduler, epochs,\n",
        "            device, eval_interval=1, verbose=False):\n",
        "\n",
        "    tr_loss_hist= []\n",
        "    vl_loss_hist= []\n",
        "\n",
        "    # --- training loop ---\n",
        "    for epoch in range(epochs):\n",
        "        model.train()\n",
        "        batch_loss= []\n",
        "        start= time.time()\n",
        "\n",
        "        # --- training steps ---\n",
        "        # iterating over all batches\n",
        "        for step, (images, labels) in enumerate(train_loader):\n",
        "            # --- minibatch construction ---\n",
        "            images= images.to(device, non_blocking=True)\n",
        "            labels= labels.to(device, non_blocking=True)\n",
        "\n",
        "            # --- forward pass and get loss ---\n",
        "            logits= model(images)\n",
        "            loss= criterion(logits, labels)\n",
        "            batch_loss.append(loss.item())\n",
        "\n",
        "            # --- backward pass to calculate the gradients ---\n",
        "            optimizer.zero_grad()\n",
        "            loss.backward()\n",
        "\n",
        "            # --- update the parameters using the gradient ---\n",
        "            optimizer.step()\n",
        "\n",
        "        # --- evaluation and track stats ---\n",
        "        tr_loss_hist.append(np.mean(batch_loss))\n",
        "\n",
        "        if epoch% eval_interval== 0 or epoch== epochs-1:\n",
        "            model.eval()\n",
        "            val_loss= []\n",
        "            with torch.no_grad():\n",
        "                for images, labels in val_loader:\n",
        "                    images, labels= images.to(device), labels.to(device)\n",
        "                    logits= model(images)\n",
        "                    loss_v= criterion(logits, labels)\n",
        "                    val_loss.append(loss_v.item())\n",
        "\n",
        "            val_loss= np.mean(val_loss)\n",
        "            end= time.time()\n",
        "            dt= end - start\n",
        "\n",
        "            if verbose:\n",
        "                print(f\"Epoch: {epoch} | Train Loss: {tr_loss_hist[-1]:.4f} | \"\n",
        "                      f\"Val Loss: {val_loss:.4f} | dt/epoch: {dt*1000:.2f}ms\")\n",
        "\n",
        "            # for decreasing learning rate -- the ReduceLROnPlateau is designed to be used per epoch\n",
        "            scheduler.step(val_loss)\n",
        "\n",
        "        vl_loss_hist.append(val_loss)\n",
        "\n",
        "    return tr_loss_hist, vl_loss_hist\n"
      ],
      "metadata": {
        "id": "qntwlcedGnjt"
      },
      "execution_count": null,
      "outputs": []
    },
    {
      "cell_type": "code",
      "source": [
        "def evaluate_model(model, test_loader, device, verbose=False):\n",
        "    model.eval()\n",
        "    correct= 0\n",
        "    total= 0\n",
        "\n",
        "    with torch.no_grad():\n",
        "        for images, labels in test_loader:\n",
        "            images, labels= images.to(device), labels.to(device)\n",
        "            logits= model(images)\n",
        "            y_pred= torch.argmax(logits, dim=1)\n",
        "            correct += (y_pred == labels).sum().item()\n",
        "            total += labels.size(0)\n",
        "\n",
        "    acc= correct / total\n",
        "    if verbose:\n",
        "        print(f\"Accuracy: {(acc * 100):.2f}%\")\n",
        "\n",
        "    return acc\n"
      ],
      "metadata": {
        "id": "IbrOlZeFH8NZ"
      },
      "execution_count": null,
      "outputs": []
    },
    {
      "cell_type": "code",
      "source": [
        "def plot_losses(train_loss, valid_loss):\n",
        "    # plot training and validation losses\n",
        "    plt.plot(train_loss, label='Train Loss')\n",
        "    plt.plot(valid_loss, label='Validation Loss')\n",
        "    plt.title('Losses')\n",
        "    plt.xlabel('Epochs')\n",
        "    plt.ylabel('Loss')\n",
        "    plt.legend()\n",
        "    plt.grid()"
      ],
      "metadata": {
        "id": "Rxm606euH8RX"
      },
      "execution_count": null,
      "outputs": []
    },
    {
      "cell_type": "markdown",
      "source": [
        "# Training setup using TF32 and Fused AdamW"
      ],
      "metadata": {
        "id": "nXVDS6aEHJ74"
      }
    },
    {
      "cell_type": "code",
      "source": [
        "use_fused= False\n",
        "\n",
        "if device== 'cuda': # TF32 computationally more efficient (slightly the same precision of FP32)\n",
        "    torch.set_float32_matmul_precision('high')\n",
        "    # create AdamW optimizer and use the fused version of it is available\n",
        "    fused_available= 'fused' in inspect.signature(torch.optim.AdamW).parameters\n",
        "    # fused is a lot faster when it is available and when running on cuda\n",
        "    use_fused= fused_available\n",
        "\n",
        "# --- EfficientNet-B0 ---\n",
        "version= 'b0'\n",
        "in_channels= 3\n",
        "num_classes= 10\n",
        "\n",
        "model= EfficientNet(version, in_channels, num_classes).to(device)\n",
        "count_parameters(model)\n",
        "\n",
        "\n",
        "# train_loader has size 352, so 20 epochs have 7,040 steps\n",
        "epochs= 20\n",
        "learning_rate= 5e-4\n",
        "\n",
        "optimizer= torch.optim.AdamW(\n",
        "    model.parameters(), lr=learning_rate, betas=(0.9, 0.999), weight_decay=1e-4,\n",
        "    fused=use_fused\n",
        ")\n",
        "print(f\"Using fused AdamW: {use_fused}\")\n",
        "criterion= nn.CrossEntropyLoss()\n",
        "# for decreasing learning rate -- the ReduceLROnPlateau is designed to be used per epoch\n",
        "scheduler= ReduceLROnPlateau(optimizer, mode='min', factor=0.1, patience=5, min_lr=1e-6)"
      ],
      "metadata": {
        "id": "8Kh7NAWPGnn4",
        "colab": {
          "base_uri": "https://localhost:8080/"
        },
        "outputId": "afe47e65-ffec-4cda-c31b-680c5c474f94"
      },
      "execution_count": null,
      "outputs": [
        {
          "output_type": "stream",
          "name": "stdout",
          "text": [
            "Number of parameters: 4020358\n",
            "Using fused AdamW: True\n"
          ]
        }
      ]
    },
    {
      "cell_type": "code",
      "source": [
        "tr_loss, vl_loss= trainer(model, train_loader, val_loader, optimizer, criterion, scheduler,\n",
        "                          epochs, device, verbose=True)"
      ],
      "metadata": {
        "id": "Ez85I5piH87u",
        "colab": {
          "base_uri": "https://localhost:8080/"
        },
        "outputId": "d389af78-cf04-4a14-9415-4ecbd9a9cdce"
      },
      "execution_count": null,
      "outputs": [
        {
          "output_type": "stream",
          "name": "stdout",
          "text": [
            "Epoch: 0 | Train Loss: 1.6824 | Val Loss: 1.2501 | dt/epoch: 90036.27ms\n",
            "Epoch: 1 | Train Loss: 1.1130 | Val Loss: 0.9281 | dt/epoch: 89734.73ms\n",
            "Epoch: 2 | Train Loss: 0.8305 | Val Loss: 0.6867 | dt/epoch: 89706.46ms\n",
            "Epoch: 3 | Train Loss: 0.6528 | Val Loss: 0.5763 | dt/epoch: 89796.05ms\n",
            "Epoch: 4 | Train Loss: 0.5467 | Val Loss: 0.5430 | dt/epoch: 89424.69ms\n",
            "Epoch: 5 | Train Loss: 0.4646 | Val Loss: 0.4712 | dt/epoch: 89698.81ms\n",
            "Epoch: 6 | Train Loss: 0.4063 | Val Loss: 0.4271 | dt/epoch: 89509.06ms\n",
            "Epoch: 7 | Train Loss: 0.3557 | Val Loss: 0.4251 | dt/epoch: 89388.36ms\n",
            "Epoch: 8 | Train Loss: 0.3214 | Val Loss: 0.3921 | dt/epoch: 89438.52ms\n",
            "Epoch: 9 | Train Loss: 0.2803 | Val Loss: 0.3833 | dt/epoch: 89850.75ms\n",
            "Epoch: 10 | Train Loss: 0.2542 | Val Loss: 0.3962 | dt/epoch: 89291.72ms\n",
            "Epoch: 11 | Train Loss: 0.2227 | Val Loss: 0.3756 | dt/epoch: 89563.09ms\n",
            "Epoch: 12 | Train Loss: 0.1977 | Val Loss: 0.4002 | dt/epoch: 89699.89ms\n",
            "Epoch: 13 | Train Loss: 0.1728 | Val Loss: 0.4038 | dt/epoch: 89495.81ms\n",
            "Epoch: 14 | Train Loss: 0.1617 | Val Loss: 0.3630 | dt/epoch: 89387.38ms\n",
            "Epoch: 15 | Train Loss: 0.1462 | Val Loss: 0.3849 | dt/epoch: 89664.04ms\n",
            "Epoch: 16 | Train Loss: 0.1309 | Val Loss: 0.4814 | dt/epoch: 89730.25ms\n",
            "Epoch: 17 | Train Loss: 0.1196 | Val Loss: 0.3951 | dt/epoch: 89690.25ms\n",
            "Epoch: 18 | Train Loss: 0.1111 | Val Loss: 0.4064 | dt/epoch: 90226.95ms\n",
            "Epoch: 19 | Train Loss: 0.1048 | Val Loss: 0.4197 | dt/epoch: 89473.41ms\n"
          ]
        }
      ]
    },
    {
      "cell_type": "code",
      "source": [
        "# plot\n",
        "plot_losses(tr_loss, vl_loss)"
      ],
      "metadata": {
        "id": "k-FVthQ0H8_z",
        "colab": {
          "base_uri": "https://localhost:8080/",
          "height": 472
        },
        "outputId": "3677992d-8bd8-41e9-9af6-b03eae05059c"
      },
      "execution_count": null,
      "outputs": [
        {
          "output_type": "display_data",
          "data": {
            "text/plain": [
              "<Figure size 640x480 with 1 Axes>"
            ],
            "image/png": "[encoded data removed]"
          },
          "metadata": {}
        }
      ]
    },
    {
      "cell_type": "code",
      "source": [
        "effnet_acc= evaluate_model(model, test_loader, device, verbose=True)"
      ],
      "metadata": {
        "id": "99AS9CzTIYN-",
        "colab": {
          "base_uri": "https://localhost:8080/"
        },
        "outputId": "202b48b8-40e7-4566-d031-d896bd4e13a5"
      },
      "execution_count": null,
      "outputs": [
        {
          "output_type": "stream",
          "name": "stdout",
          "text": [
            "Accuracy: 87.76%\n"
          ]
        }
      ]
    },
    {
      "cell_type": "code",
      "source": [
        "# https://medium.com/@aniketthomas27/efficientnet-implementation-from-scratch-in-pytorch-a-step-by-step-guide-a7bb96f2bdaa\n",
        "# https://amaarora.github.io/posts/2020-08-13-efficientnet.html\n",
        "# https://github.com/aladdinpersson/Machine-Learning-Collection/blob/master/ML/Pytorch/CNN_architectures/pytorch_efficientnet.py\n",
        "# https://medium.com/technological-singularity/efficientnet-revolutionizing-deep-learning-through-model-efficiency-0ed5485f9a6f"
      ],
      "metadata": {
        "id": "--FLwsEqGnrC"
      },
      "execution_count": null,
      "outputs": []
    }
  ]
}