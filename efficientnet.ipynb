{
  "nbformat": 4,
  "nbformat_minor": 0,
  "metadata": {
    "colab": {
      "provenance": [],
      "toc_visible": true,
      "gpuType": "A100",
      "machine_shape": "hm"
    },
    "kernelspec": {
      "name": "python3",
      "display_name": "Python 3"
    },
    "language_info": {
      "name": "python"
    },
    "accelerator": "GPU"
  },
  "cells": [
    {
      "cell_type": "markdown",
      "source": [
        "# EfficientNet - Implementation from scratch in PyTorch (V1 and V2)\n",
        "\n",
        "EfficientNet is a family of convolutional neural networks that were introduced to achieve high accuracy with significantly fewer parameters and lower computational cost. The authors demonstrated the effect of scaling on the ResNet and MobileNet and they also discovered a whole family of networks called EfficientNet through neural architecture search.\n",
        "\n",
        "https://arxiv.org/abs/1905.11946\n",
        "\n",
        "https://arxiv.org/abs/2104.00298"
      ],
      "metadata": {
        "id": "SANbdWXTGcow"
      }
    },
    {
      "cell_type": "code",
      "execution_count": 1,
      "metadata": {
        "id": "K4WrSniUGCqM"
      },
      "outputs": [],
      "source": [
        "import time\n",
        "import math\n",
        "import numpy as np\n",
        "import matplotlib.pyplot as plt\n",
        "import inspect\n",
        "import torch\n",
        "import torch.nn as nn\n",
        "import torch.nn.functional as F\n",
        "from torch.optim.lr_scheduler import ReduceLROnPlateau"
      ]
    },
    {
      "cell_type": "code",
      "source": [
        "device= 'cuda' if torch.cuda.is_available() else 'cpu'"
      ],
      "metadata": {
        "id": "bBnrVnkhGnVt"
      },
      "execution_count": 2,
      "outputs": []
    },
    {
      "cell_type": "code",
      "source": [
        "# count how many trainable weights the model has\n",
        "def count_parameters(model) -> None:\n",
        "    total_params= sum(p.numel() for p in model.parameters() if p.requires_grad)\n",
        "    print(f'Number of parameters: {total_params}')"
      ],
      "metadata": {
        "id": "5Mezx6HsGnZA"
      },
      "execution_count": 3,
      "outputs": []
    },
    {
      "cell_type": "code",
      "source": [
        "def round_channels(channels, width_mult, divisor=8, min_value=None):\n",
        "    \"\"\"\n",
        "    Round number of channels based on width multiplier (beta).\n",
        "    Ensure that all layers have a channel number that is divisible by 'divisor'.\n",
        "    - This helps with efficient hardware utilization. See MobileNets.\n",
        "    \"\"\"\n",
        "    if min_value is None:\n",
        "        min_value= divisor\n",
        "\n",
        "    new_channels= channels * width_mult\n",
        "    new_channels= max(min_value, int(new_channels + divisor / 2) // divisor * divisor)\n",
        "    # Prevent rounding down by more than 10%\n",
        "    if new_channels < 0.9 * channels:\n",
        "        new_channels += divisor\n",
        "\n",
        "    return int(new_channels)\n"
      ],
      "metadata": {
        "id": "jsLKPFNXr5Li"
      },
      "execution_count": 4,
      "outputs": []
    },
    {
      "cell_type": "markdown",
      "source": [
        "# Architecture Implementation\n",
        "\n",
        "Starting by the fundamental building block of a CNN, represented by a convolutional layer. Notably, the SiLU activation is consistently utilized throughout the entire architecture as mentioned in the original paper.\n",
        "\n",
        "Groups is specified to control how convolution is applied to input. If group=1, then a kernel is applied to all input channels and if group=in_channel (depthwise convolution), then a single convolutional kernel is applied for each input channel."
      ],
      "metadata": {
        "id": "KbDsc3epHrT2"
      }
    },
    {
      "cell_type": "code",
      "source": [
        "class ConvLayer(nn.Module):\n",
        "    \"\"\"\n",
        "    Implements one customizable CNN layer.\n",
        "    EfficientNet-style: Input -> Conv2d -> BatchNorm2d -> SiLU -> Output\n",
        "    \"\"\"\n",
        "\n",
        "    def __init__(self, in_channels, out_channels, kernel_size, stride, padding, groups=1,\n",
        "                 bias=False, norm=True, activation=None) -> None:\n",
        "        super(ConvLayer, self).__init__()\n",
        "        self.conv= nn.Conv2d(\n",
        "            in_channels, out_channels, kernel_size, stride, padding, groups=groups, bias=bias\n",
        "        )\n",
        "        # Batch Normalization to stabilize training\n",
        "        self.norm= nn.BatchNorm2d(out_channels) if norm else None\n",
        "        # Activation function -- SiLU is the default in EfficientNet\n",
        "        self.activation= activation\n",
        "\n",
        "\n",
        "    def forward(self, x):\n",
        "        x= self.conv(x)\n",
        "        if self.norm is not None:\n",
        "            x= self.norm(x)\n",
        "        if self.activation is not None:\n",
        "            x= self.activation(x)\n",
        "\n",
        "        return x\n"
      ],
      "metadata": {
        "id": "meSgQrUdHfX3"
      },
      "execution_count": 5,
      "outputs": []
    },
    {
      "cell_type": "markdown",
      "source": [
        "The Squeeze-and-Excitation module recalibrates channel-wise feature responses by learning global dependencies. It \"squeezes\" global spatial information into a channel descriptor using global average pooling (GAP) and then excites (reweights) each channel through a lightweight network. The primary goal is to enhance feature representation by selectively amplifying important channels.\n",
        "\n",
        "The mechanism applies GAP to condense spatial information into a single descriptor per channel, creating a compact representation of global spatial information. These pooled features are passed to a CNN bottleneck structure and a sigmoid activation is applied on the output features, providing attention weights. The computed attention weights are applied to the original feature maps via channel-wise multiplication, dynamically emphasizing essential channels."
      ],
      "metadata": {
        "id": "VxI74-uEv1HC"
      }
    },
    {
      "cell_type": "code",
      "source": [
        "class SqueezeExcitation(nn.Module):\n",
        "    \"\"\"\n",
        "    Implements a Squeeze-and-Excitation module.\n",
        "    It squeezes global spatial information into a channel descriptor and re-scales the channels.\n",
        "    \"\"\"\n",
        "\n",
        "    def __init__(self, in_channels, squeezed_dim, activation=None) -> None:\n",
        "        super(SqueezeExcitation, self).__init__()\n",
        "        # Activation function -- SiLU is the default in EfficientNet\n",
        "        activation= nn.SiLU(inplace=True) if activation is None else activation\n",
        "\n",
        "        # Global average pooling: C x H x W -> C x 1 x 1\n",
        "        self.average_pool= nn.AdaptiveAvgPool2d(output_size=(1, 1))\n",
        "        # 1x1 convolution reduces the channel dimension\n",
        "        self.conv1= ConvLayer(\n",
        "            in_channels, squeezed_dim, kernel_size=1, stride=1, padding=0,\n",
        "            bias=True, norm=False, activation=activation\n",
        "        )\n",
        "        # 1x1 convolution restores the channel dimension\n",
        "        # Sigmoid activation to obtain channel-wise weights between 0 and 1\n",
        "        self.conv2= ConvLayer(\n",
        "            squeezed_dim, in_channels, kernel_size=1, stride=1, padding=0,\n",
        "            bias=True, norm=False, activation=nn.Sigmoid()\n",
        "        )\n",
        "\n",
        "\n",
        "    def forward(self, x):\n",
        "        se= self.average_pool(x)\n",
        "        se= self.conv1(se)\n",
        "        se= self.conv2(se)\n",
        "\n",
        "        return x * se\n"
      ],
      "metadata": {
        "id": "Uk-Ul6e-HffJ"
      },
      "execution_count": 6,
      "outputs": []
    },
    {
      "cell_type": "markdown",
      "source": [
        "The MBConv consists of inverted residual connections and depthwise separable convolutions, which improve computational efficiency while maintaining high representational power.\n",
        "\n",
        "The MBConv block includes:\n",
        "\n",
        "- Expansion Convolution: Expands the input channels using a pointwise (1x1) convolution.\n",
        "- Depthwise Separable Convolution: A depthwise convolution (operates per channel) followed by a pointwise (1x1) convolution, reducing computational cost.\n",
        "- Squeeze-and-Excitation: This component applies GAP followed by a lightweight network to generate channel-wise attention weights, which are then applied to the feature maps.\n",
        "- Stochastic Depth Regularization: Used to improve generalization and training efficiency. It randomly drops entire residual blocks during training, reducing computational load and acting as regularization to prevent overfitting.\n",
        "- Residual Connection (if input/output dimensions match): Helps with gradient flow and prevents information loss.\n",
        "\n",
        "**NOTE:** The inverted bottleneck as in MBConv does the reverse as in ResNets -- instead of reducing the number of channels, the first 1x1 conv layer increases the number of channels to 3 times the initial."
      ],
      "metadata": {
        "id": "Sh4_MogV0puR"
      }
    },
    {
      "cell_type": "code",
      "source": [
        "class StochasticDepth(nn.Module):\n",
        "    \"\"\"\n",
        "    Implements stochastic depth regularization.\n",
        "    During training, randomly drops the output of the block with probability survival_prob\n",
        "    (1 - p_drop) scaling the remaining output to maintain the expected value.\n",
        "    - mode: 'row' to drop per-sample, 'batch' to drop entire batch together.\n",
        "    \"\"\"\n",
        "\n",
        "    def __init__(self, p_drop, mode='row') -> None:\n",
        "        super(StochasticDepth, self).__init__()\n",
        "        assert 0.0 <= p_drop <= 1.0, \"p_drop must be in [0, 1]\"\n",
        "        assert mode in ('row', 'batch'), \"mode must be 'row' or 'batch'\"\n",
        "        self.p_drop= p_drop\n",
        "        self.mode= mode\n",
        "\n",
        "\n",
        "    def extra_repr(self):\n",
        "        return f\"p={self.p_drop}, mode={self.mode}\"\n",
        "\n",
        "\n",
        "    def forward(self, x):\n",
        "        if not self.training or self.p_drop== 0.0:\n",
        "            return x\n",
        "\n",
        "        survival_prob= 1.0 - self.p_drop\n",
        "\n",
        "        if self.mode== 'row':\n",
        "            # Mask with the same batch size and shape (broadcasted over spatial dimensions)\n",
        "            mask_shape= [x.shape[0]] + [1] * (x.ndim - 1)\n",
        "        else:  # 'batch'\n",
        "            # Mask for the whole batch\n",
        "            mask_shape= [1] * x.ndim\n",
        "\n",
        "        mask= torch.empty(mask_shape, dtype=x.dtype, device=x.device)\n",
        "        mask= mask.bernoulli_(survival_prob)\n",
        "        # Scale the output to maintain expected value and apply the mask\n",
        "        if survival_prob > 0.0:\n",
        "            mask.div_(survival_prob)\n",
        "\n",
        "        return x * mask\n"
      ],
      "metadata": {
        "id": "4eZ0xifhJlcg"
      },
      "execution_count": 7,
      "outputs": []
    },
    {
      "cell_type": "code",
      "source": [
        "class MBConv(nn.Module):\n",
        "    \"\"\"\n",
        "    Implements a Mobile Inverted Residual Block (inspired by MobileNetV3).\n",
        "    Residual (skip) connection is used if stride==1 and input/output channels match.\n",
        "    \"\"\"\n",
        "\n",
        "    def __init__(self, in_channels, out_channels, kernel_size, stride, expand_ratio, reduction=4,\n",
        "                 drop_path=0.1, bias=False, activation=None) -> None:\n",
        "        super(MBConv, self).__init__()\n",
        "        assert stride in [1, 2], \"Stride must be 1 or 2.\"\n",
        "        # Activation function -- SiLU is the default in EfficientNet\n",
        "        activation= nn.SiLU(inplace=True) if activation is None else activation\n",
        "        # Define dimensions for intermediate layers\n",
        "        hidden_dim= round_channels(in_channels, expand_ratio)\n",
        "        # For squeeze and excitation module\n",
        "        reduced_dim= max(1, in_channels // reduction)\n",
        "        # Calculate padding to maintain spatial dimensions\n",
        "        padding= kernel_size // 2\n",
        "\n",
        "        # The inverted bottleneck block\n",
        "        self.mb_conv= nn.Sequential(\n",
        "            # Optional expansion phase (1x1 conv + BN + Activation)\n",
        "            ConvLayer(\n",
        "                in_channels, hidden_dim, kernel_size=1, stride=1, padding=0,\n",
        "                bias=bias, activation=activation\n",
        "            ) if (in_channels != hidden_dim) else nn.Identity(),\n",
        "            # Depthwise convolution\n",
        "            ConvLayer(\n",
        "                hidden_dim, hidden_dim, kernel_size, stride, padding, groups=hidden_dim,\n",
        "                bias=bias, activation=activation\n",
        "            ),\n",
        "            # Squeeze-and-Excitation\n",
        "            SqueezeExcitation(hidden_dim, reduced_dim, activation=activation),\n",
        "            # Projection phase (1x1 conv + BN) -- reduce channels to out_channels\n",
        "            ConvLayer(\n",
        "                hidden_dim, out_channels, kernel_size=1, stride=1, padding=0,\n",
        "                bias=bias, activation=None\n",
        "            )\n",
        "        )\n",
        "        # When dim(x) == dim(F) and no spatial downsampling is applied -> use residual connection\n",
        "        self.use_residual= (in_channels == out_channels and stride == 1)\n",
        "        # For stochastic depth\n",
        "        self.drop_path= StochasticDepth(drop_path) if drop_path > 0.0 else nn.Identity()\n",
        "\n",
        "\n",
        "    def forward(self, x):\n",
        "        # Save the original input for the residual connection\n",
        "        identity= x\n",
        "        # Compute the inverted bottleneck block convolutions\n",
        "        out= self.mb_conv(x)\n",
        "        if self.use_residual:\n",
        "            out= identity + self.drop_path(out)\n",
        "\n",
        "        return out\n"
      ],
      "metadata": {
        "id": "2RRnDqy6HfcP"
      },
      "execution_count": 8,
      "outputs": []
    },
    {
      "cell_type": "markdown",
      "source": [
        "- Stochastic depth drops entire paths (like shortcut + block output). It is usually applied to deep residual blocks (globally).\n",
        "- Dropout drops individual activations within a layer. It is usually applied to fully connected layers or inside convolutions (locally).\n",
        "\n",
        "Thus, they regularize different levels of the model. But using both inside the same convolutional blocks might cause over-regularization, especially if survival probability is low and dropout rate is high.\n",
        "\n",
        "**EfficientNetV2** introduced the **FusedMBConv** block where early layers have small channel counts and low expansion — here, fusing 3x3 depthwise + 1x1 pointwise into a single 3x3 regular convolution is faster on GPUs. Fused blocks in V2 don't have an SE module."
      ],
      "metadata": {
        "id": "6k4TdQjonn_1"
      }
    },
    {
      "cell_type": "code",
      "source": [
        "class FusedMBConv(nn.Module):\n",
        "    \"\"\"\n",
        "    Implements a FusedMBConv Block (introduced by EfficientNetV2).\n",
        "    Residual (skip) connection is used if stride==1 and input/output channels match.\n",
        "    https://arxiv.org/abs/2104.00298\n",
        "    \"\"\"\n",
        "\n",
        "    def __init__(self, in_channels, out_channels, kernel_size, stride, expand_ratio,\n",
        "                 drop_path=0.1, bias=False, activation=None) -> None:\n",
        "        super(FusedMBConv, self).__init__()\n",
        "        assert stride in [1, 2], \"Stride must be 1 or 2.\"\n",
        "        # Activation function -- SiLU is the default in EfficientNet\n",
        "        activation= nn.SiLU(inplace=True) if activation is None else activation\n",
        "        # Define dimensions for intermediate layers\n",
        "        hidden_dim= round_channels(in_channels, expand_ratio)\n",
        "        # Calculate padding to maintain spatial dimensions\n",
        "        padding= kernel_size // 2\n",
        "\n",
        "        layers= nn.ModuleList()\n",
        "        if hidden_dim != in_channels:\n",
        "            # Fused expansion (3x3 conv + BN + Activation)\n",
        "            layers.append(\n",
        "                ConvLayer(\n",
        "                    in_channels, hidden_dim, kernel_size, stride, padding,\n",
        "                    bias=bias, activation=activation\n",
        "                )\n",
        "            )\n",
        "            # Project (1x1 conv + BN) -- reduce channels to out_channels\n",
        "            layers.append(\n",
        "                ConvLayer(\n",
        "                    hidden_dim, out_channels, kernel_size=1, stride=1, padding=0,\n",
        "                    bias=bias, activation=None\n",
        "                )\n",
        "            )\n",
        "        else:\n",
        "            layers.append(\n",
        "                ConvLayer(\n",
        "                    in_channels, out_channels, kernel_size, stride, padding,\n",
        "                    bias=bias, activation=activation\n",
        "                )\n",
        "            )\n",
        "        # The Fused bottleneck block\n",
        "        self.fused_mb_conv= nn.Sequential(*layers)\n",
        "        # When dim(x) == dim(F) and no spatial downsampling is applied -> use residual connection\n",
        "        self.use_residual= (in_channels == out_channels and stride == 1)\n",
        "        # For stochastic depth\n",
        "        self.drop_path= StochasticDepth(drop_path) if drop_path > 0.0 else nn.Identity()\n",
        "\n",
        "\n",
        "    def forward(self, x):\n",
        "        # Save the original input for the residual connection\n",
        "        identity= x\n",
        "        # Compute the fused bottleneck block convolutions\n",
        "        out= self.fused_mb_conv(x)\n",
        "        if self.use_residual:\n",
        "            out= identity + self.drop_path(out)\n",
        "\n",
        "        return out\n"
      ],
      "metadata": {
        "id": "nNgmklKEnkOn"
      },
      "execution_count": 9,
      "outputs": []
    },
    {
      "cell_type": "markdown",
      "source": [
        "# Define configs for different EfficientNet versions\n",
        "\n",
        "The motivation behind introducing $\\phi$ lies in the understanding that increasing the depth of the model linearly impacts the FLOPS, while changing the width or resolution has a quadratic impact. These constants were derived through neural architecture search, drawing inspiration from MnasNet."
      ],
      "metadata": {
        "id": "oQoPH7TdHgXP"
      }
    },
    {
      "cell_type": "code",
      "source": [
        "base_model_v1= [\n",
        "    # expand_ratio, kernel_size, stride, in_channels, out_channels, block repeats\n",
        "    [1, 3, 1,  32,  16, 1],\n",
        "    [6, 3, 2,  16,  24, 2],\n",
        "    [6, 5, 2,  24,  40, 2],\n",
        "    [6, 3, 2,  40,  80, 3],\n",
        "    [6, 5, 1,  80, 112, 3],\n",
        "    [6, 5, 2, 112, 192, 4],\n",
        "    [6, 3, 1, 192, 320, 1],\n",
        "]\n",
        "base_model_v2_s= [\n",
        "    [1, 3, 1,  24,  24,  2],\n",
        "    [4, 3, 2,  24,  48,  4],\n",
        "    [4, 3, 2,  48,  64,  4],\n",
        "    [4, 3, 2,  64, 128,  6],\n",
        "    [6, 3, 1, 128, 160,  9],\n",
        "    [6, 3, 2, 160, 256, 15],\n",
        "]\n",
        "base_model_v2_m= [\n",
        "    [1, 3, 1,  24,  24,  3],\n",
        "    [4, 3, 2,  24,  48,  5],\n",
        "    [4, 3, 2,  48,  80,  5],\n",
        "    [4, 3, 2,  80, 160,  7],\n",
        "    [6, 3, 1, 160, 176, 14],\n",
        "    [6, 3, 2, 176, 304, 18],\n",
        "    [6, 3, 1, 304, 512,  5],\n",
        "]\n",
        "base_model_v2_l= [\n",
        "    [1, 3, 1,  32,  32,  4],\n",
        "    [4, 3, 2,  32,  64,  7],\n",
        "    [4, 3, 2,  64,  96,  7],\n",
        "    [4, 3, 2,  96, 192, 10],\n",
        "    [6, 3, 1, 192, 224, 19],\n",
        "    [6, 3, 2, 224, 384, 25],\n",
        "    [6, 3, 1, 384, 640,  7],\n",
        "]\n",
        "\n",
        "model_hparameters= {}                # base_model, alpha, beta, resolution, dropout, version\n",
        "model_hparameters['efficientnet_b0']= (base_model_v1, 1.0, 1.0, 224, 0.2, 'v1')\n",
        "model_hparameters['efficientnet_b1']= (base_model_v1, 1.1, 1.0, 240, 0.2, 'v1')\n",
        "model_hparameters['efficientnet_b2']= (base_model_v1, 1.2, 1.1, 260, 0.3, 'v1')\n",
        "model_hparameters['efficientnet_b3']= (base_model_v1, 1.4, 1.2, 300, 0.3, 'v1')\n",
        "model_hparameters['efficientnet_b4']= (base_model_v1, 1.8, 1.4, 380, 0.4, 'v1')\n",
        "model_hparameters['efficientnet_b5']= (base_model_v1, 2.2, 1.6, 456, 0.4, 'v1')\n",
        "model_hparameters['efficientnet_b6']= (base_model_v1, 2.6, 1.8, 528, 0.5, 'v1')\n",
        "model_hparameters['efficientnet_b7']= (base_model_v1, 3.1, 2.0, 600, 0.5, 'v1')\n",
        "model_hparameters['efficientnet_v2_s']= (base_model_v2_s, 1.0, 1.0, 224, 0.2, 'v2')\n",
        "model_hparameters['efficientnet_v2_m']= (base_model_v2_m, 1.0, 1.0, 380, 0.3, 'v2')\n",
        "model_hparameters['efficientnet_v2_l']= (base_model_v2_l, 1.0, 1.0, 480, 0.4, 'v2')"
      ],
      "metadata": {
        "id": "ZDdk1tsxHfUN"
      },
      "execution_count": 10,
      "outputs": []
    },
    {
      "cell_type": "markdown",
      "source": [
        "# Building the EfficientNet\n",
        "\n",
        "**Stem and Head**\n",
        "\n",
        "- Stem: The network begins with a standard convolutional layer (with stride 2) to reduce spatial resolution.\n",
        "- Head: After the MBConv blocks, a final 1x1 convolution, GAP, and a fully connected layer (classifier) are applied to produce the final predictions.\n",
        "\n",
        "Scaling up any dimension of network width, depth, or resolution improves accuracy, but the accuracy gain diminishes for bigger models. In order to pursue better accuracy and efficiency, it is critical to balance all dimensions of network width, depth, and resolution during ConvNet scaling.\n",
        "\n",
        "- Depth Scaling: Increases the number of layers (blocks) in the network.\n",
        "- Width Scaling: Increases the number of channels (filters) in each layer.\n",
        "- Resolution Scaling: Increases the input image size.\n",
        "\n",
        "**Compound Scaling**: One of the major contributions of EfficientNet is its compound scaling method. Instead of scaling only one dimension (e.g., depth or width), EfficientNet scales all three dimensions (depth, width, and resolution) in a principled manner using a compound coefficient $\\phi$."
      ],
      "metadata": {
        "id": "6Zc2Zm66HWWP"
      }
    },
    {
      "cell_type": "code",
      "source": [
        "class EfficientNet(nn.Module):\n",
        "    \"\"\"\n",
        "    EfficientNet implementation using MBConv blocks with compound scaling.\n",
        "    The compound scaling coefficients (alpha and beta) are based on the configs.\n",
        "    - V1: uniform MBConv blocks\n",
        "    - V2: FusedMBConv in low‑channel early layers + MBConv blocks in high‑channel later layers\n",
        "    \"\"\"\n",
        "\n",
        "    def __init__(self, configs, in_channels, num_classes, last_channels=None, reduction=4,\n",
        "                 bias=False, activation=None) -> None:\n",
        "        super(EfficientNet, self).__init__()\n",
        "        # Model configs\n",
        "        base_model, alpha, beta, resolution, drop_path, version= configs\n",
        "        # Base channels scaled by width_factor\n",
        "        stem_channels= round_channels(base_model[0][3], beta)\n",
        "        # Final channel dimension fixed for EfficientNetV2\n",
        "        last_channels= 1280 if version== \"v2\" else last_channels\n",
        "        # Activation function -- SiLU is the default in EfficientNet\n",
        "        activation= nn.SiLU(inplace=True) if activation is None else activation\n",
        "\n",
        "        # Build the backbone feature extractor\n",
        "        self.backbone= nn.ModuleList([\n",
        "            # Stem: Initial 3x3 conv with stride 2\n",
        "            ConvLayer(\n",
        "                in_channels, stem_channels, kernel_size=3, stride=2, padding=1,\n",
        "                bias=bias, activation=activation\n",
        "            )\n",
        "        ])\n",
        "        # MBConv layers\n",
        "        # For each layer in the base_model, scale the number of channels and number of repeats\n",
        "        total_blocks= sum(self.adjust_depth(base_model[i][5], alpha) for i in range(len(base_model)))\n",
        "        block_id= 0\n",
        "        stage_id= 0\n",
        "        for expand_ratio, kernel_size, stride, in_chs, out_chs, repeats in base_model:\n",
        "            # Scale channels using width_factor\n",
        "            in_channels = round_channels(in_chs,  beta)\n",
        "            out_channels= round_channels(out_chs, beta)\n",
        "            layer_repeats= self.adjust_depth(repeats, alpha)\n",
        "\n",
        "            for layer in range(layer_repeats):\n",
        "                # The first layer in a block uses the specified stride; for others, use stride 1\n",
        "                stride= stride if layer== 0 else 1\n",
        "                # Stochastic depth probability based on the depth of the layer\n",
        "                drop_rate= drop_path * float(block_id) / total_blocks\n",
        "\n",
        "                if version== \"v2\" and stage_id< 3:\n",
        "                    block_type= FusedMBConv(\n",
        "                        in_channels, out_channels, kernel_size, stride, expand_ratio,\n",
        "                        drop_rate, bias, activation\n",
        "                    )\n",
        "                else:\n",
        "                    block_type= MBConv(\n",
        "                        in_channels, out_channels, kernel_size, stride, expand_ratio, reduction,\n",
        "                        drop_rate, bias, activation\n",
        "                    )\n",
        "                self.backbone.append(block_type)\n",
        "                # Update in_channels for subsequent layers\n",
        "                in_channels= out_channels\n",
        "                block_id += 1\n",
        "            stage_id += 1\n",
        "\n",
        "        # Final channel dimension, scaled up to a multiple of the reduction factor\n",
        "        last_channels= last_channels if last_channels is not None else reduction * in_channels\n",
        "\n",
        "        self.backbone.append(\n",
        "            # Final 1x1 conv to adjust channel dimension before classification\n",
        "            ConvLayer(\n",
        "                in_channels, last_channels, kernel_size=1, stride=1, padding=0,\n",
        "                bias=bias, activation=activation\n",
        "            )\n",
        "        )\n",
        "\n",
        "        # Pooling and classification head to produce the class logits\n",
        "        self.pool= nn.AdaptiveAvgPool2d(output_size=1)\n",
        "        self.head= nn.Sequential(\n",
        "            nn.Dropout(p=drop_path),\n",
        "            nn.Linear(last_channels, num_classes),\n",
        "        )\n",
        "\n",
        "        # initialize parameters with Xavier initialization\n",
        "        for m in self.modules():\n",
        "            if isinstance(m, nn.Conv2d) or isinstance(m, nn.Linear):\n",
        "                nn.init.xavier_uniform_(m.weight)\n",
        "                if m.bias is not None: nn.init.zeros_(m.bias)\n",
        "            elif isinstance(m, nn.BatchNorm2d):\n",
        "                nn.init.constant_(m.weight, 1.0)\n",
        "                nn.init.constant_(m.bias, 0.0)\n",
        "\n",
        "\n",
        "    def adjust_depth(self, num_layers, depth_mult):\n",
        "        \"\"\"\n",
        "        Adjust the number of layers based on depth multiplier (alpha).\n",
        "        \"\"\"\n",
        "        return int(math.ceil(num_layers * depth_mult))\n",
        "\n",
        "\n",
        "    def forward(self, x):\n",
        "        for layer in self.backbone:\n",
        "            x= layer(x)\n",
        "        x= self.pool(x)\n",
        "        x= torch.flatten(x, 1)\n",
        "        x= self.head(x)\n",
        "\n",
        "        return x\n"
      ],
      "metadata": {
        "id": "ZwzrxsDYGncE"
      },
      "execution_count": 11,
      "outputs": []
    },
    {
      "cell_type": "code",
      "source": [
        "import torchvision.models as models\n",
        "from torchvision.models import EfficientNet_B0_Weights\n",
        "\n",
        "tvis_model= models.efficientnet_b0(weights=EfficientNet_B0_Weights.IMAGENET1K_V1).to(device)\n",
        "count_parameters(tvis_model)"
      ],
      "metadata": {
        "colab": {
          "base_uri": "https://localhost:8080/"
        },
        "id": "7iCXZVBNw10q",
        "outputId": "37fcb80e-f4c7-4abf-a592-7154ec735e4f"
      },
      "execution_count": null,
      "outputs": [
        {
          "output_type": "stream",
          "name": "stderr",
          "text": [
            "Downloading: \"https://download.pytorch.org/models/efficientnet_b0_rwightman-7f5810bc.pth\" to /root/.cache/torch/hub/checkpoints/efficientnet_b0_rwightman-7f5810bc.pth\n",
            "100%|██████████| 20.5M/20.5M [00:00<00:00, 132MB/s] \n"
          ]
        },
        {
          "output_type": "stream",
          "name": "stdout",
          "text": [
            "Number of parameters: 5288548\n"
          ]
        }
      ]
    },
    {
      "cell_type": "code",
      "source": [
        "img= torch.randn(1, 3, 224, 224).to(device)  # a single image batch\n",
        "model= EfficientNet(model_hparameters['efficientnet_b0'], in_channels=3, num_classes=1000).to(device)\n",
        "count_parameters(model)\n",
        "print(model(img).shape)\n",
        "\n",
        "model"
      ],
      "metadata": {
        "id": "eeJ2eiH9IMk_",
        "colab": {
          "base_uri": "https://localhost:8080/"
        },
        "outputId": "28ab1577-75db-4761-c74a-112cc25a5ce2"
      },
      "execution_count": null,
      "outputs": [
        {
          "output_type": "stream",
          "name": "stdout",
          "text": [
            "Number of parameters: 5288548\n",
            "torch.Size([1, 1000])\n"
          ]
        },
        {
          "output_type": "execute_result",
          "data": {
            "text/plain": [
              "EfficientNet(\n",
              "  (backbone): ModuleList(\n",
              "    (0): ConvLayer(\n",
              "      (conv): Conv2d(3, 32, kernel_size=(3, 3), stride=(2, 2), padding=(1, 1), bias=False)\n",
              "      (norm): BatchNorm2d(32, eps=1e-05, momentum=0.1, affine=True, track_running_stats=True)\n",
              "      (activation): SiLU(inplace=True)\n",
              "    )\n",
              "    (1): MBConv(\n",
              "      (mb_conv): Sequential(\n",
              "        (0): Identity()\n",
              "        (1): ConvLayer(\n",
              "          (conv): Conv2d(32, 32, kernel_size=(3, 3), stride=(1, 1), padding=(1, 1), groups=32, bias=False)\n",
              "          (norm): BatchNorm2d(32, eps=1e-05, momentum=0.1, affine=True, track_running_stats=True)\n",
              "          (activation): SiLU(inplace=True)\n",
              "        )\n",
              "        (2): SqueezeExcitation(\n",
              "          (average_pool): AdaptiveAvgPool2d(output_size=(1, 1))\n",
              "          (conv1): ConvLayer(\n",
              "            (conv): Conv2d(32, 8, kernel_size=(1, 1), stride=(1, 1))\n",
              "            (activation): SiLU(inplace=True)\n",
              "          )\n",
              "          (conv2): ConvLayer(\n",
              "            (conv): Conv2d(8, 32, kernel_size=(1, 1), stride=(1, 1))\n",
              "            (activation): Sigmoid()\n",
              "          )\n",
              "        )\n",
              "        (3): ConvLayer(\n",
              "          (conv): Conv2d(32, 16, kernel_size=(1, 1), stride=(1, 1), bias=False)\n",
              "          (norm): BatchNorm2d(16, eps=1e-05, momentum=0.1, affine=True, track_running_stats=True)\n",
              "        )\n",
              "      )\n",
              "      (drop_path): Identity()\n",
              "    )\n",
              "    (2): MBConv(\n",
              "      (mb_conv): Sequential(\n",
              "        (0): ConvLayer(\n",
              "          (conv): Conv2d(16, 96, kernel_size=(1, 1), stride=(1, 1), bias=False)\n",
              "          (norm): BatchNorm2d(96, eps=1e-05, momentum=0.1, affine=True, track_running_stats=True)\n",
              "          (activation): SiLU(inplace=True)\n",
              "        )\n",
              "        (1): ConvLayer(\n",
              "          (conv): Conv2d(96, 96, kernel_size=(3, 3), stride=(2, 2), padding=(1, 1), groups=96, bias=False)\n",
              "          (norm): BatchNorm2d(96, eps=1e-05, momentum=0.1, affine=True, track_running_stats=True)\n",
              "          (activation): SiLU(inplace=True)\n",
              "        )\n",
              "        (2): SqueezeExcitation(\n",
              "          (average_pool): AdaptiveAvgPool2d(output_size=(1, 1))\n",
              "          (conv1): ConvLayer(\n",
              "            (conv): Conv2d(96, 4, kernel_size=(1, 1), stride=(1, 1))\n",
              "            (activation): SiLU(inplace=True)\n",
              "          )\n",
              "          (conv2): ConvLayer(\n",
              "            (conv): Conv2d(4, 96, kernel_size=(1, 1), stride=(1, 1))\n",
              "            (activation): Sigmoid()\n",
              "          )\n",
              "        )\n",
              "        (3): ConvLayer(\n",
              "          (conv): Conv2d(96, 24, kernel_size=(1, 1), stride=(1, 1), bias=False)\n",
              "          (norm): BatchNorm2d(24, eps=1e-05, momentum=0.1, affine=True, track_running_stats=True)\n",
              "        )\n",
              "      )\n",
              "      (drop_path): StochasticDepth(p=0.0125, mode=row)\n",
              "    )\n",
              "    (3): MBConv(\n",
              "      (mb_conv): Sequential(\n",
              "        (0): ConvLayer(\n",
              "          (conv): Conv2d(24, 144, kernel_size=(1, 1), stride=(1, 1), bias=False)\n",
              "          (norm): BatchNorm2d(144, eps=1e-05, momentum=0.1, affine=True, track_running_stats=True)\n",
              "          (activation): SiLU(inplace=True)\n",
              "        )\n",
              "        (1): ConvLayer(\n",
              "          (conv): Conv2d(144, 144, kernel_size=(3, 3), stride=(1, 1), padding=(1, 1), groups=144, bias=False)\n",
              "          (norm): BatchNorm2d(144, eps=1e-05, momentum=0.1, affine=True, track_running_stats=True)\n",
              "          (activation): SiLU(inplace=True)\n",
              "        )\n",
              "        (2): SqueezeExcitation(\n",
              "          (average_pool): AdaptiveAvgPool2d(output_size=(1, 1))\n",
              "          (conv1): ConvLayer(\n",
              "            (conv): Conv2d(144, 6, kernel_size=(1, 1), stride=(1, 1))\n",
              "            (activation): SiLU(inplace=True)\n",
              "          )\n",
              "          (conv2): ConvLayer(\n",
              "            (conv): Conv2d(6, 144, kernel_size=(1, 1), stride=(1, 1))\n",
              "            (activation): Sigmoid()\n",
              "          )\n",
              "        )\n",
              "        (3): ConvLayer(\n",
              "          (conv): Conv2d(144, 24, kernel_size=(1, 1), stride=(1, 1), bias=False)\n",
              "          (norm): BatchNorm2d(24, eps=1e-05, momentum=0.1, affine=True, track_running_stats=True)\n",
              "        )\n",
              "      )\n",
              "      (drop_path): StochasticDepth(p=0.025, mode=row)\n",
              "    )\n",
              "    (4): MBConv(\n",
              "      (mb_conv): Sequential(\n",
              "        (0): ConvLayer(\n",
              "          (conv): Conv2d(24, 144, kernel_size=(1, 1), stride=(1, 1), bias=False)\n",
              "          (norm): BatchNorm2d(144, eps=1e-05, momentum=0.1, affine=True, track_running_stats=True)\n",
              "          (activation): SiLU(inplace=True)\n",
              "        )\n",
              "        (1): ConvLayer(\n",
              "          (conv): Conv2d(144, 144, kernel_size=(5, 5), stride=(2, 2), padding=(2, 2), groups=144, bias=False)\n",
              "          (norm): BatchNorm2d(144, eps=1e-05, momentum=0.1, affine=True, track_running_stats=True)\n",
              "          (activation): SiLU(inplace=True)\n",
              "        )\n",
              "        (2): SqueezeExcitation(\n",
              "          (average_pool): AdaptiveAvgPool2d(output_size=(1, 1))\n",
              "          (conv1): ConvLayer(\n",
              "            (conv): Conv2d(144, 6, kernel_size=(1, 1), stride=(1, 1))\n",
              "            (activation): SiLU(inplace=True)\n",
              "          )\n",
              "          (conv2): ConvLayer(\n",
              "            (conv): Conv2d(6, 144, kernel_size=(1, 1), stride=(1, 1))\n",
              "            (activation): Sigmoid()\n",
              "          )\n",
              "        )\n",
              "        (3): ConvLayer(\n",
              "          (conv): Conv2d(144, 40, kernel_size=(1, 1), stride=(1, 1), bias=False)\n",
              "          (norm): BatchNorm2d(40, eps=1e-05, momentum=0.1, affine=True, track_running_stats=True)\n",
              "        )\n",
              "      )\n",
              "      (drop_path): StochasticDepth(p=0.037500000000000006, mode=row)\n",
              "    )\n",
              "    (5): MBConv(\n",
              "      (mb_conv): Sequential(\n",
              "        (0): ConvLayer(\n",
              "          (conv): Conv2d(40, 240, kernel_size=(1, 1), stride=(1, 1), bias=False)\n",
              "          (norm): BatchNorm2d(240, eps=1e-05, momentum=0.1, affine=True, track_running_stats=True)\n",
              "          (activation): SiLU(inplace=True)\n",
              "        )\n",
              "        (1): ConvLayer(\n",
              "          (conv): Conv2d(240, 240, kernel_size=(5, 5), stride=(1, 1), padding=(2, 2), groups=240, bias=False)\n",
              "          (norm): BatchNorm2d(240, eps=1e-05, momentum=0.1, affine=True, track_running_stats=True)\n",
              "          (activation): SiLU(inplace=True)\n",
              "        )\n",
              "        (2): SqueezeExcitation(\n",
              "          (average_pool): AdaptiveAvgPool2d(output_size=(1, 1))\n",
              "          (conv1): ConvLayer(\n",
              "            (conv): Conv2d(240, 10, kernel_size=(1, 1), stride=(1, 1))\n",
              "            (activation): SiLU(inplace=True)\n",
              "          )\n",
              "          (conv2): ConvLayer(\n",
              "            (conv): Conv2d(10, 240, kernel_size=(1, 1), stride=(1, 1))\n",
              "            (activation): Sigmoid()\n",
              "          )\n",
              "        )\n",
              "        (3): ConvLayer(\n",
              "          (conv): Conv2d(240, 40, kernel_size=(1, 1), stride=(1, 1), bias=False)\n",
              "          (norm): BatchNorm2d(40, eps=1e-05, momentum=0.1, affine=True, track_running_stats=True)\n",
              "        )\n",
              "      )\n",
              "      (drop_path): StochasticDepth(p=0.05, mode=row)\n",
              "    )\n",
              "    (6): MBConv(\n",
              "      (mb_conv): Sequential(\n",
              "        (0): ConvLayer(\n",
              "          (conv): Conv2d(40, 240, kernel_size=(1, 1), stride=(1, 1), bias=False)\n",
              "          (norm): BatchNorm2d(240, eps=1e-05, momentum=0.1, affine=True, track_running_stats=True)\n",
              "          (activation): SiLU(inplace=True)\n",
              "        )\n",
              "        (1): ConvLayer(\n",
              "          (conv): Conv2d(240, 240, kernel_size=(3, 3), stride=(2, 2), padding=(1, 1), groups=240, bias=False)\n",
              "          (norm): BatchNorm2d(240, eps=1e-05, momentum=0.1, affine=True, track_running_stats=True)\n",
              "          (activation): SiLU(inplace=True)\n",
              "        )\n",
              "        (2): SqueezeExcitation(\n",
              "          (average_pool): AdaptiveAvgPool2d(output_size=(1, 1))\n",
              "          (conv1): ConvLayer(\n",
              "            (conv): Conv2d(240, 10, kernel_size=(1, 1), stride=(1, 1))\n",
              "            (activation): SiLU(inplace=True)\n",
              "          )\n",
              "          (conv2): ConvLayer(\n",
              "            (conv): Conv2d(10, 240, kernel_size=(1, 1), stride=(1, 1))\n",
              "            (activation): Sigmoid()\n",
              "          )\n",
              "        )\n",
              "        (3): ConvLayer(\n",
              "          (conv): Conv2d(240, 80, kernel_size=(1, 1), stride=(1, 1), bias=False)\n",
              "          (norm): BatchNorm2d(80, eps=1e-05, momentum=0.1, affine=True, track_running_stats=True)\n",
              "        )\n",
              "      )\n",
              "      (drop_path): StochasticDepth(p=0.0625, mode=row)\n",
              "    )\n",
              "    (7): MBConv(\n",
              "      (mb_conv): Sequential(\n",
              "        (0): ConvLayer(\n",
              "          (conv): Conv2d(80, 480, kernel_size=(1, 1), stride=(1, 1), bias=False)\n",
              "          (norm): BatchNorm2d(480, eps=1e-05, momentum=0.1, affine=True, track_running_stats=True)\n",
              "          (activation): SiLU(inplace=True)\n",
              "        )\n",
              "        (1): ConvLayer(\n",
              "          (conv): Conv2d(480, 480, kernel_size=(3, 3), stride=(1, 1), padding=(1, 1), groups=480, bias=False)\n",
              "          (norm): BatchNorm2d(480, eps=1e-05, momentum=0.1, affine=True, track_running_stats=True)\n",
              "          (activation): SiLU(inplace=True)\n",
              "        )\n",
              "        (2): SqueezeExcitation(\n",
              "          (average_pool): AdaptiveAvgPool2d(output_size=(1, 1))\n",
              "          (conv1): ConvLayer(\n",
              "            (conv): Conv2d(480, 20, kernel_size=(1, 1), stride=(1, 1))\n",
              "            (activation): SiLU(inplace=True)\n",
              "          )\n",
              "          (conv2): ConvLayer(\n",
              "            (conv): Conv2d(20, 480, kernel_size=(1, 1), stride=(1, 1))\n",
              "            (activation): Sigmoid()\n",
              "          )\n",
              "        )\n",
              "        (3): ConvLayer(\n",
              "          (conv): Conv2d(480, 80, kernel_size=(1, 1), stride=(1, 1), bias=False)\n",
              "          (norm): BatchNorm2d(80, eps=1e-05, momentum=0.1, affine=True, track_running_stats=True)\n",
              "        )\n",
              "      )\n",
              "      (drop_path): StochasticDepth(p=0.07500000000000001, mode=row)\n",
              "    )\n",
              "    (8): MBConv(\n",
              "      (mb_conv): Sequential(\n",
              "        (0): ConvLayer(\n",
              "          (conv): Conv2d(80, 480, kernel_size=(1, 1), stride=(1, 1), bias=False)\n",
              "          (norm): BatchNorm2d(480, eps=1e-05, momentum=0.1, affine=True, track_running_stats=True)\n",
              "          (activation): SiLU(inplace=True)\n",
              "        )\n",
              "        (1): ConvLayer(\n",
              "          (conv): Conv2d(480, 480, kernel_size=(3, 3), stride=(1, 1), padding=(1, 1), groups=480, bias=False)\n",
              "          (norm): BatchNorm2d(480, eps=1e-05, momentum=0.1, affine=True, track_running_stats=True)\n",
              "          (activation): SiLU(inplace=True)\n",
              "        )\n",
              "        (2): SqueezeExcitation(\n",
              "          (average_pool): AdaptiveAvgPool2d(output_size=(1, 1))\n",
              "          (conv1): ConvLayer(\n",
              "            (conv): Conv2d(480, 20, kernel_size=(1, 1), stride=(1, 1))\n",
              "            (activation): SiLU(inplace=True)\n",
              "          )\n",
              "          (conv2): ConvLayer(\n",
              "            (conv): Conv2d(20, 480, kernel_size=(1, 1), stride=(1, 1))\n",
              "            (activation): Sigmoid()\n",
              "          )\n",
              "        )\n",
              "        (3): ConvLayer(\n",
              "          (conv): Conv2d(480, 80, kernel_size=(1, 1), stride=(1, 1), bias=False)\n",
              "          (norm): BatchNorm2d(80, eps=1e-05, momentum=0.1, affine=True, track_running_stats=True)\n",
              "        )\n",
              "      )\n",
              "      (drop_path): StochasticDepth(p=0.08750000000000001, mode=row)\n",
              "    )\n",
              "    (9): MBConv(\n",
              "      (mb_conv): Sequential(\n",
              "        (0): ConvLayer(\n",
              "          (conv): Conv2d(80, 480, kernel_size=(1, 1), stride=(1, 1), bias=False)\n",
              "          (norm): BatchNorm2d(480, eps=1e-05, momentum=0.1, affine=True, track_running_stats=True)\n",
              "          (activation): SiLU(inplace=True)\n",
              "        )\n",
              "        (1): ConvLayer(\n",
              "          (conv): Conv2d(480, 480, kernel_size=(5, 5), stride=(1, 1), padding=(2, 2), groups=480, bias=False)\n",
              "          (norm): BatchNorm2d(480, eps=1e-05, momentum=0.1, affine=True, track_running_stats=True)\n",
              "          (activation): SiLU(inplace=True)\n",
              "        )\n",
              "        (2): SqueezeExcitation(\n",
              "          (average_pool): AdaptiveAvgPool2d(output_size=(1, 1))\n",
              "          (conv1): ConvLayer(\n",
              "            (conv): Conv2d(480, 20, kernel_size=(1, 1), stride=(1, 1))\n",
              "            (activation): SiLU(inplace=True)\n",
              "          )\n",
              "          (conv2): ConvLayer(\n",
              "            (conv): Conv2d(20, 480, kernel_size=(1, 1), stride=(1, 1))\n",
              "            (activation): Sigmoid()\n",
              "          )\n",
              "        )\n",
              "        (3): ConvLayer(\n",
              "          (conv): Conv2d(480, 112, kernel_size=(1, 1), stride=(1, 1), bias=False)\n",
              "          (norm): BatchNorm2d(112, eps=1e-05, momentum=0.1, affine=True, track_running_stats=True)\n",
              "        )\n",
              "      )\n",
              "      (drop_path): StochasticDepth(p=0.1, mode=row)\n",
              "    )\n",
              "    (10): MBConv(\n",
              "      (mb_conv): Sequential(\n",
              "        (0): ConvLayer(\n",
              "          (conv): Conv2d(112, 672, kernel_size=(1, 1), stride=(1, 1), bias=False)\n",
              "          (norm): BatchNorm2d(672, eps=1e-05, momentum=0.1, affine=True, track_running_stats=True)\n",
              "          (activation): SiLU(inplace=True)\n",
              "        )\n",
              "        (1): ConvLayer(\n",
              "          (conv): Conv2d(672, 672, kernel_size=(5, 5), stride=(1, 1), padding=(2, 2), groups=672, bias=False)\n",
              "          (norm): BatchNorm2d(672, eps=1e-05, momentum=0.1, affine=True, track_running_stats=True)\n",
              "          (activation): SiLU(inplace=True)\n",
              "        )\n",
              "        (2): SqueezeExcitation(\n",
              "          (average_pool): AdaptiveAvgPool2d(output_size=(1, 1))\n",
              "          (conv1): ConvLayer(\n",
              "            (conv): Conv2d(672, 28, kernel_size=(1, 1), stride=(1, 1))\n",
              "            (activation): SiLU(inplace=True)\n",
              "          )\n",
              "          (conv2): ConvLayer(\n",
              "            (conv): Conv2d(28, 672, kernel_size=(1, 1), stride=(1, 1))\n",
              "            (activation): Sigmoid()\n",
              "          )\n",
              "        )\n",
              "        (3): ConvLayer(\n",
              "          (conv): Conv2d(672, 112, kernel_size=(1, 1), stride=(1, 1), bias=False)\n",
              "          (norm): BatchNorm2d(112, eps=1e-05, momentum=0.1, affine=True, track_running_stats=True)\n",
              "        )\n",
              "      )\n",
              "      (drop_path): StochasticDepth(p=0.1125, mode=row)\n",
              "    )\n",
              "    (11): MBConv(\n",
              "      (mb_conv): Sequential(\n",
              "        (0): ConvLayer(\n",
              "          (conv): Conv2d(112, 672, kernel_size=(1, 1), stride=(1, 1), bias=False)\n",
              "          (norm): BatchNorm2d(672, eps=1e-05, momentum=0.1, affine=True, track_running_stats=True)\n",
              "          (activation): SiLU(inplace=True)\n",
              "        )\n",
              "        (1): ConvLayer(\n",
              "          (conv): Conv2d(672, 672, kernel_size=(5, 5), stride=(1, 1), padding=(2, 2), groups=672, bias=False)\n",
              "          (norm): BatchNorm2d(672, eps=1e-05, momentum=0.1, affine=True, track_running_stats=True)\n",
              "          (activation): SiLU(inplace=True)\n",
              "        )\n",
              "        (2): SqueezeExcitation(\n",
              "          (average_pool): AdaptiveAvgPool2d(output_size=(1, 1))\n",
              "          (conv1): ConvLayer(\n",
              "            (conv): Conv2d(672, 28, kernel_size=(1, 1), stride=(1, 1))\n",
              "            (activation): SiLU(inplace=True)\n",
              "          )\n",
              "          (conv2): ConvLayer(\n",
              "            (conv): Conv2d(28, 672, kernel_size=(1, 1), stride=(1, 1))\n",
              "            (activation): Sigmoid()\n",
              "          )\n",
              "        )\n",
              "        (3): ConvLayer(\n",
              "          (conv): Conv2d(672, 112, kernel_size=(1, 1), stride=(1, 1), bias=False)\n",
              "          (norm): BatchNorm2d(112, eps=1e-05, momentum=0.1, affine=True, track_running_stats=True)\n",
              "        )\n",
              "      )\n",
              "      (drop_path): StochasticDepth(p=0.125, mode=row)\n",
              "    )\n",
              "    (12): MBConv(\n",
              "      (mb_conv): Sequential(\n",
              "        (0): ConvLayer(\n",
              "          (conv): Conv2d(112, 672, kernel_size=(1, 1), stride=(1, 1), bias=False)\n",
              "          (norm): BatchNorm2d(672, eps=1e-05, momentum=0.1, affine=True, track_running_stats=True)\n",
              "          (activation): SiLU(inplace=True)\n",
              "        )\n",
              "        (1): ConvLayer(\n",
              "          (conv): Conv2d(672, 672, kernel_size=(5, 5), stride=(2, 2), padding=(2, 2), groups=672, bias=False)\n",
              "          (norm): BatchNorm2d(672, eps=1e-05, momentum=0.1, affine=True, track_running_stats=True)\n",
              "          (activation): SiLU(inplace=True)\n",
              "        )\n",
              "        (2): SqueezeExcitation(\n",
              "          (average_pool): AdaptiveAvgPool2d(output_size=(1, 1))\n",
              "          (conv1): ConvLayer(\n",
              "            (conv): Conv2d(672, 28, kernel_size=(1, 1), stride=(1, 1))\n",
              "            (activation): SiLU(inplace=True)\n",
              "          )\n",
              "          (conv2): ConvLayer(\n",
              "            (conv): Conv2d(28, 672, kernel_size=(1, 1), stride=(1, 1))\n",
              "            (activation): Sigmoid()\n",
              "          )\n",
              "        )\n",
              "        (3): ConvLayer(\n",
              "          (conv): Conv2d(672, 192, kernel_size=(1, 1), stride=(1, 1), bias=False)\n",
              "          (norm): BatchNorm2d(192, eps=1e-05, momentum=0.1, affine=True, track_running_stats=True)\n",
              "        )\n",
              "      )\n",
              "      (drop_path): StochasticDepth(p=0.1375, mode=row)\n",
              "    )\n",
              "    (13): MBConv(\n",
              "      (mb_conv): Sequential(\n",
              "        (0): ConvLayer(\n",
              "          (conv): Conv2d(192, 1152, kernel_size=(1, 1), stride=(1, 1), bias=False)\n",
              "          (norm): BatchNorm2d(1152, eps=1e-05, momentum=0.1, affine=True, track_running_stats=True)\n",
              "          (activation): SiLU(inplace=True)\n",
              "        )\n",
              "        (1): ConvLayer(\n",
              "          (conv): Conv2d(1152, 1152, kernel_size=(5, 5), stride=(1, 1), padding=(2, 2), groups=1152, bias=False)\n",
              "          (norm): BatchNorm2d(1152, eps=1e-05, momentum=0.1, affine=True, track_running_stats=True)\n",
              "          (activation): SiLU(inplace=True)\n",
              "        )\n",
              "        (2): SqueezeExcitation(\n",
              "          (average_pool): AdaptiveAvgPool2d(output_size=(1, 1))\n",
              "          (conv1): ConvLayer(\n",
              "            (conv): Conv2d(1152, 48, kernel_size=(1, 1), stride=(1, 1))\n",
              "            (activation): SiLU(inplace=True)\n",
              "          )\n",
              "          (conv2): ConvLayer(\n",
              "            (conv): Conv2d(48, 1152, kernel_size=(1, 1), stride=(1, 1))\n",
              "            (activation): Sigmoid()\n",
              "          )\n",
              "        )\n",
              "        (3): ConvLayer(\n",
              "          (conv): Conv2d(1152, 192, kernel_size=(1, 1), stride=(1, 1), bias=False)\n",
              "          (norm): BatchNorm2d(192, eps=1e-05, momentum=0.1, affine=True, track_running_stats=True)\n",
              "        )\n",
              "      )\n",
              "      (drop_path): StochasticDepth(p=0.15000000000000002, mode=row)\n",
              "    )\n",
              "    (14): MBConv(\n",
              "      (mb_conv): Sequential(\n",
              "        (0): ConvLayer(\n",
              "          (conv): Conv2d(192, 1152, kernel_size=(1, 1), stride=(1, 1), bias=False)\n",
              "          (norm): BatchNorm2d(1152, eps=1e-05, momentum=0.1, affine=True, track_running_stats=True)\n",
              "          (activation): SiLU(inplace=True)\n",
              "        )\n",
              "        (1): ConvLayer(\n",
              "          (conv): Conv2d(1152, 1152, kernel_size=(5, 5), stride=(1, 1), padding=(2, 2), groups=1152, bias=False)\n",
              "          (norm): BatchNorm2d(1152, eps=1e-05, momentum=0.1, affine=True, track_running_stats=True)\n",
              "          (activation): SiLU(inplace=True)\n",
              "        )\n",
              "        (2): SqueezeExcitation(\n",
              "          (average_pool): AdaptiveAvgPool2d(output_size=(1, 1))\n",
              "          (conv1): ConvLayer(\n",
              "            (conv): Conv2d(1152, 48, kernel_size=(1, 1), stride=(1, 1))\n",
              "            (activation): SiLU(inplace=True)\n",
              "          )\n",
              "          (conv2): ConvLayer(\n",
              "            (conv): Conv2d(48, 1152, kernel_size=(1, 1), stride=(1, 1))\n",
              "            (activation): Sigmoid()\n",
              "          )\n",
              "        )\n",
              "        (3): ConvLayer(\n",
              "          (conv): Conv2d(1152, 192, kernel_size=(1, 1), stride=(1, 1), bias=False)\n",
              "          (norm): BatchNorm2d(192, eps=1e-05, momentum=0.1, affine=True, track_running_stats=True)\n",
              "        )\n",
              "      )\n",
              "      (drop_path): StochasticDepth(p=0.1625, mode=row)\n",
              "    )\n",
              "    (15): MBConv(\n",
              "      (mb_conv): Sequential(\n",
              "        (0): ConvLayer(\n",
              "          (conv): Conv2d(192, 1152, kernel_size=(1, 1), stride=(1, 1), bias=False)\n",
              "          (norm): BatchNorm2d(1152, eps=1e-05, momentum=0.1, affine=True, track_running_stats=True)\n",
              "          (activation): SiLU(inplace=True)\n",
              "        )\n",
              "        (1): ConvLayer(\n",
              "          (conv): Conv2d(1152, 1152, kernel_size=(5, 5), stride=(1, 1), padding=(2, 2), groups=1152, bias=False)\n",
              "          (norm): BatchNorm2d(1152, eps=1e-05, momentum=0.1, affine=True, track_running_stats=True)\n",
              "          (activation): SiLU(inplace=True)\n",
              "        )\n",
              "        (2): SqueezeExcitation(\n",
              "          (average_pool): AdaptiveAvgPool2d(output_size=(1, 1))\n",
              "          (conv1): ConvLayer(\n",
              "            (conv): Conv2d(1152, 48, kernel_size=(1, 1), stride=(1, 1))\n",
              "            (activation): SiLU(inplace=True)\n",
              "          )\n",
              "          (conv2): ConvLayer(\n",
              "            (conv): Conv2d(48, 1152, kernel_size=(1, 1), stride=(1, 1))\n",
              "            (activation): Sigmoid()\n",
              "          )\n",
              "        )\n",
              "        (3): ConvLayer(\n",
              "          (conv): Conv2d(1152, 192, kernel_size=(1, 1), stride=(1, 1), bias=False)\n",
              "          (norm): BatchNorm2d(192, eps=1e-05, momentum=0.1, affine=True, track_running_stats=True)\n",
              "        )\n",
              "      )\n",
              "      (drop_path): StochasticDepth(p=0.17500000000000002, mode=row)\n",
              "    )\n",
              "    (16): MBConv(\n",
              "      (mb_conv): Sequential(\n",
              "        (0): ConvLayer(\n",
              "          (conv): Conv2d(192, 1152, kernel_size=(1, 1), stride=(1, 1), bias=False)\n",
              "          (norm): BatchNorm2d(1152, eps=1e-05, momentum=0.1, affine=True, track_running_stats=True)\n",
              "          (activation): SiLU(inplace=True)\n",
              "        )\n",
              "        (1): ConvLayer(\n",
              "          (conv): Conv2d(1152, 1152, kernel_size=(3, 3), stride=(1, 1), padding=(1, 1), groups=1152, bias=False)\n",
              "          (norm): BatchNorm2d(1152, eps=1e-05, momentum=0.1, affine=True, track_running_stats=True)\n",
              "          (activation): SiLU(inplace=True)\n",
              "        )\n",
              "        (2): SqueezeExcitation(\n",
              "          (average_pool): AdaptiveAvgPool2d(output_size=(1, 1))\n",
              "          (conv1): ConvLayer(\n",
              "            (conv): Conv2d(1152, 48, kernel_size=(1, 1), stride=(1, 1))\n",
              "            (activation): SiLU(inplace=True)\n",
              "          )\n",
              "          (conv2): ConvLayer(\n",
              "            (conv): Conv2d(48, 1152, kernel_size=(1, 1), stride=(1, 1))\n",
              "            (activation): Sigmoid()\n",
              "          )\n",
              "        )\n",
              "        (3): ConvLayer(\n",
              "          (conv): Conv2d(1152, 320, kernel_size=(1, 1), stride=(1, 1), bias=False)\n",
              "          (norm): BatchNorm2d(320, eps=1e-05, momentum=0.1, affine=True, track_running_stats=True)\n",
              "        )\n",
              "      )\n",
              "      (drop_path): StochasticDepth(p=0.1875, mode=row)\n",
              "    )\n",
              "    (17): ConvLayer(\n",
              "      (conv): Conv2d(320, 1280, kernel_size=(1, 1), stride=(1, 1), bias=False)\n",
              "      (norm): BatchNorm2d(1280, eps=1e-05, momentum=0.1, affine=True, track_running_stats=True)\n",
              "      (activation): SiLU(inplace=True)\n",
              "    )\n",
              "  )\n",
              "  (pool): AdaptiveAvgPool2d(output_size=1)\n",
              "  (head): Sequential(\n",
              "    (0): Flatten(start_dim=1, end_dim=-1)\n",
              "    (1): Dropout(p=0.2, inplace=False)\n",
              "    (2): Linear(in_features=1280, out_features=1000, bias=True)\n",
              "  )\n",
              ")"
            ]
          },
          "metadata": {},
          "execution_count": 13
        }
      ]
    },
    {
      "cell_type": "code",
      "source": [
        "from torchvision.models import EfficientNet_B1_Weights\n",
        "\n",
        "tvis_model= models.efficientnet_b1(weights=EfficientNet_B1_Weights.IMAGENET1K_V1).to(device)\n",
        "count_parameters(tvis_model)"
      ],
      "metadata": {
        "colab": {
          "base_uri": "https://localhost:8080/"
        },
        "id": "MYW9xlutHXjl",
        "outputId": "a9b4700b-68cf-40af-d3e3-7939d5c9c49a"
      },
      "execution_count": null,
      "outputs": [
        {
          "output_type": "stream",
          "name": "stderr",
          "text": [
            "Downloading: \"https://download.pytorch.org/models/efficientnet_b1_rwightman-bac287d4.pth\" to /root/.cache/torch/hub/checkpoints/efficientnet_b1_rwightman-bac287d4.pth\n",
            "100%|██████████| 30.1M/30.1M [00:00<00:00, 153MB/s]"
          ]
        },
        {
          "output_type": "stream",
          "name": "stdout",
          "text": [
            "Number of parameters: 7794184\n"
          ]
        },
        {
          "output_type": "stream",
          "name": "stderr",
          "text": [
            "\n"
          ]
        }
      ]
    },
    {
      "cell_type": "code",
      "source": [
        "model= EfficientNet(model_hparameters['efficientnet_b1'], in_channels=3, num_classes=1000).to(device)\n",
        "count_parameters(model)\n",
        "print(model(img).shape)"
      ],
      "metadata": {
        "colab": {
          "base_uri": "https://localhost:8080/"
        },
        "id": "rHVhwDJvHXnC",
        "outputId": "8e87eabd-a83b-454e-8593-91b78d90249b"
      },
      "execution_count": null,
      "outputs": [
        {
          "output_type": "stream",
          "name": "stdout",
          "text": [
            "Number of parameters: 7794184\n",
            "torch.Size([1, 1000])\n"
          ]
        }
      ]
    },
    {
      "cell_type": "code",
      "source": [
        "from torchvision.models import EfficientNet_B2_Weights\n",
        "\n",
        "tvis_model= models.efficientnet_b2(weights=EfficientNet_B2_Weights.IMAGENET1K_V1).to(device)\n",
        "count_parameters(tvis_model)"
      ],
      "metadata": {
        "colab": {
          "base_uri": "https://localhost:8080/"
        },
        "id": "5IsBIKioHXri",
        "outputId": "45bdff04-7610-4b3f-dc5a-54d7bca812dd"
      },
      "execution_count": null,
      "outputs": [
        {
          "output_type": "stream",
          "name": "stderr",
          "text": [
            "Downloading: \"https://download.pytorch.org/models/efficientnet_b2_rwightman-c35c1473.pth\" to /root/.cache/torch/hub/checkpoints/efficientnet_b2_rwightman-c35c1473.pth\n",
            "100%|██████████| 35.2M/35.2M [00:00<00:00, 167MB/s]"
          ]
        },
        {
          "output_type": "stream",
          "name": "stdout",
          "text": [
            "Number of parameters: 9109994\n"
          ]
        },
        {
          "output_type": "stream",
          "name": "stderr",
          "text": [
            "\n"
          ]
        }
      ]
    },
    {
      "cell_type": "code",
      "source": [
        "model= EfficientNet(model_hparameters['efficientnet_b2'], in_channels=3, num_classes=1000).to(device)\n",
        "count_parameters(model)\n",
        "print(model(img).shape)"
      ],
      "metadata": {
        "colab": {
          "base_uri": "https://localhost:8080/"
        },
        "id": "pNzV_aa7HXwE",
        "outputId": "b8ce0bba-5b43-432b-c8d4-f58df3ba5e60"
      },
      "execution_count": null,
      "outputs": [
        {
          "output_type": "stream",
          "name": "stdout",
          "text": [
            "Number of parameters: 9109994\n",
            "torch.Size([1, 1000])\n"
          ]
        }
      ]
    },
    {
      "cell_type": "code",
      "source": [
        "from torchvision.models import EfficientNet_B3_Weights\n",
        "\n",
        "tvis_model= models.efficientnet_b3(weights=EfficientNet_B3_Weights.IMAGENET1K_V1).to(device)\n",
        "count_parameters(tvis_model)"
      ],
      "metadata": {
        "colab": {
          "base_uri": "https://localhost:8080/"
        },
        "id": "xvbQEf3HHXz0",
        "outputId": "346d1b2b-7613-43e6-b870-900f6b97961f"
      },
      "execution_count": null,
      "outputs": [
        {
          "output_type": "stream",
          "name": "stderr",
          "text": [
            "Downloading: \"https://download.pytorch.org/models/efficientnet_b3_rwightman-b3899882.pth\" to /root/.cache/torch/hub/checkpoints/efficientnet_b3_rwightman-b3899882.pth\n",
            "100%|██████████| 47.2M/47.2M [00:00<00:00, 181MB/s]\n"
          ]
        },
        {
          "output_type": "stream",
          "name": "stdout",
          "text": [
            "Number of parameters: 12233232\n"
          ]
        }
      ]
    },
    {
      "cell_type": "code",
      "source": [
        "model= EfficientNet(model_hparameters['efficientnet_b3'], in_channels=3, num_classes=1000).to(device)\n",
        "count_parameters(model)\n",
        "print(model(img).shape)"
      ],
      "metadata": {
        "colab": {
          "base_uri": "https://localhost:8080/"
        },
        "id": "tg7ApxRuHX4A",
        "outputId": "0652cc2e-fc5b-4802-fca6-538e4a4a22de"
      },
      "execution_count": null,
      "outputs": [
        {
          "output_type": "stream",
          "name": "stdout",
          "text": [
            "Number of parameters: 12227212\n",
            "torch.Size([1, 1000])\n"
          ]
        }
      ]
    },
    {
      "cell_type": "code",
      "source": [
        "from torchvision.models import EfficientNet_B4_Weights\n",
        "\n",
        "tvis_model= models.efficientnet_b4(weights=EfficientNet_B4_Weights.IMAGENET1K_V1).to(device)\n",
        "count_parameters(tvis_model)"
      ],
      "metadata": {
        "colab": {
          "base_uri": "https://localhost:8080/"
        },
        "id": "aOmJyY6NHX6l",
        "outputId": "97c1baa6-67b5-4e8f-c40b-d8364660ab65"
      },
      "execution_count": null,
      "outputs": [
        {
          "output_type": "stream",
          "name": "stderr",
          "text": [
            "Downloading: \"https://download.pytorch.org/models/efficientnet_b4_rwightman-23ab8bcd.pth\" to /root/.cache/torch/hub/checkpoints/efficientnet_b4_rwightman-23ab8bcd.pth\n",
            "100%|██████████| 74.5M/74.5M [00:00<00:00, 197MB/s]\n"
          ]
        },
        {
          "output_type": "stream",
          "name": "stdout",
          "text": [
            "Number of parameters: 19341616\n"
          ]
        }
      ]
    },
    {
      "cell_type": "code",
      "source": [
        "model= EfficientNet(model_hparameters['efficientnet_b4'], in_channels=3, num_classes=1000).to(device)\n",
        "count_parameters(model)\n",
        "print(model(img).shape)"
      ],
      "metadata": {
        "colab": {
          "base_uri": "https://localhost:8080/"
        },
        "id": "zRoHWGqWHf-9",
        "outputId": "4e87f98b-af5a-4f89-8c97-fec15bfc4fb3"
      },
      "execution_count": null,
      "outputs": [
        {
          "output_type": "stream",
          "name": "stdout",
          "text": [
            "Number of parameters: 19341616\n",
            "torch.Size([1, 1000])\n"
          ]
        }
      ]
    },
    {
      "cell_type": "code",
      "source": [
        "from torchvision.models import EfficientNet_B5_Weights\n",
        "\n",
        "tvis_model= models.efficientnet_b5(weights=EfficientNet_B5_Weights.IMAGENET1K_V1).to(device)\n",
        "count_parameters(tvis_model)"
      ],
      "metadata": {
        "colab": {
          "base_uri": "https://localhost:8080/"
        },
        "id": "WQ0Ssmw-HgCY",
        "outputId": "2a8b70f9-623c-448d-93e3-307d58976fcb"
      },
      "execution_count": null,
      "outputs": [
        {
          "output_type": "stream",
          "name": "stderr",
          "text": [
            "Downloading: \"https://download.pytorch.org/models/efficientnet_b5_lukemelas-1a07897c.pth\" to /root/.cache/torch/hub/checkpoints/efficientnet_b5_lukemelas-1a07897c.pth\n",
            "100%|██████████| 117M/117M [00:00<00:00, 189MB/s]\n"
          ]
        },
        {
          "output_type": "stream",
          "name": "stdout",
          "text": [
            "Number of parameters: 30389784\n"
          ]
        }
      ]
    },
    {
      "cell_type": "code",
      "source": [
        "model= EfficientNet(model_hparameters['efficientnet_b5'], in_channels=3, num_classes=1000).to(device)\n",
        "count_parameters(model)\n",
        "print(model(img).shape)"
      ],
      "metadata": {
        "colab": {
          "base_uri": "https://localhost:8080/"
        },
        "id": "mvnGVQ3WHgFg",
        "outputId": "a8aad0a8-5352-406c-f05a-cec3cc90500c"
      },
      "execution_count": null,
      "outputs": [
        {
          "output_type": "stream",
          "name": "stdout",
          "text": [
            "Number of parameters: 30389784\n",
            "torch.Size([1, 1000])\n"
          ]
        }
      ]
    },
    {
      "cell_type": "code",
      "source": [
        "from torchvision.models import EfficientNet_B6_Weights\n",
        "\n",
        "tvis_model= models.efficientnet_b6(weights=EfficientNet_B6_Weights.IMAGENET1K_V1).to(device)\n",
        "count_parameters(tvis_model)"
      ],
      "metadata": {
        "colab": {
          "base_uri": "https://localhost:8080/"
        },
        "id": "e-7pylOWHgJT",
        "outputId": "b5a5c42f-c694-41e3-8ec5-86cf523d4f5c"
      },
      "execution_count": null,
      "outputs": [
        {
          "output_type": "stream",
          "name": "stderr",
          "text": [
            "Downloading: \"https://download.pytorch.org/models/efficientnet_b6_lukemelas-24a108a5.pth\" to /root/.cache/torch/hub/checkpoints/efficientnet_b6_lukemelas-24a108a5.pth\n",
            "100%|██████████| 165M/165M [00:00<00:00, 218MB/s]\n"
          ]
        },
        {
          "output_type": "stream",
          "name": "stdout",
          "text": [
            "Number of parameters: 43040704\n"
          ]
        }
      ]
    },
    {
      "cell_type": "code",
      "source": [
        "model= EfficientNet(model_hparameters['efficientnet_b6'], in_channels=3, num_classes=1000).to(device)\n",
        "count_parameters(model)\n",
        "print(model(img).shape)"
      ],
      "metadata": {
        "colab": {
          "base_uri": "https://localhost:8080/"
        },
        "id": "q2eRFKukHqvN",
        "outputId": "9ed5da3c-17de-489b-c3d0-7743d1f9db39"
      },
      "execution_count": null,
      "outputs": [
        {
          "output_type": "stream",
          "name": "stdout",
          "text": [
            "Number of parameters: 43040704\n",
            "torch.Size([1, 1000])\n"
          ]
        }
      ]
    },
    {
      "cell_type": "code",
      "source": [
        "from torchvision.models import EfficientNet_B7_Weights\n",
        "\n",
        "tvis_model= models.efficientnet_b7(weights=EfficientNet_B7_Weights.IMAGENET1K_V1).to(device)\n",
        "count_parameters(tvis_model)"
      ],
      "metadata": {
        "colab": {
          "base_uri": "https://localhost:8080/"
        },
        "id": "wz14slTJHqzL",
        "outputId": "a6793b6f-bc9e-4893-86c7-86a955f938cc"
      },
      "execution_count": null,
      "outputs": [
        {
          "output_type": "stream",
          "name": "stderr",
          "text": [
            "Downloading: \"https://download.pytorch.org/models/efficientnet_b7_lukemelas-c5b4e57e.pth\" to /root/.cache/torch/hub/checkpoints/efficientnet_b7_lukemelas-c5b4e57e.pth\n",
            "100%|██████████| 255M/255M [00:01<00:00, 223MB/s]\n"
          ]
        },
        {
          "output_type": "stream",
          "name": "stdout",
          "text": [
            "Number of parameters: 66347960\n"
          ]
        }
      ]
    },
    {
      "cell_type": "code",
      "source": [
        "model= EfficientNet(model_hparameters['efficientnet_b7'], in_channels=3, num_classes=1000).to(device)\n",
        "count_parameters(model)\n",
        "print(model(img).shape)"
      ],
      "metadata": {
        "colab": {
          "base_uri": "https://localhost:8080/"
        },
        "id": "JzGxQoqBH5wS",
        "outputId": "1f1912f4-1f5b-415e-c5dd-0950d54ae947"
      },
      "execution_count": null,
      "outputs": [
        {
          "output_type": "stream",
          "name": "stdout",
          "text": [
            "Number of parameters: 66347960\n",
            "torch.Size([1, 1000])\n"
          ]
        }
      ]
    },
    {
      "cell_type": "code",
      "source": [
        "from torchvision.models import EfficientNet_V2_S_Weights\n",
        "\n",
        "tvis_model= models.efficientnet_v2_s(weights=EfficientNet_V2_S_Weights.IMAGENET1K_V1).to(device)\n",
        "count_parameters(tvis_model)"
      ],
      "metadata": {
        "colab": {
          "base_uri": "https://localhost:8080/"
        },
        "id": "pYIXHD0DIUwW",
        "outputId": "aa37a6b3-46d2-42ee-df79-ac11845411ac"
      },
      "execution_count": null,
      "outputs": [
        {
          "output_type": "stream",
          "name": "stderr",
          "text": [
            "Downloading: \"https://download.pytorch.org/models/efficientnet_v2_s-dd5fe13b.pth\" to /root/.cache/torch/hub/checkpoints/efficientnet_v2_s-dd5fe13b.pth\n",
            "100%|██████████| 82.7M/82.7M [00:00<00:00, 170MB/s]\n"
          ]
        },
        {
          "output_type": "stream",
          "name": "stdout",
          "text": [
            "Number of parameters: 21458488\n"
          ]
        }
      ]
    },
    {
      "cell_type": "code",
      "source": [
        "model= EfficientNet(model_hparameters['efficientnet_v2_s'], in_channels=3, num_classes=1000).to(device)\n",
        "count_parameters(model)\n",
        "print(model(img).shape)"
      ],
      "metadata": {
        "colab": {
          "base_uri": "https://localhost:8080/"
        },
        "id": "gU_oiymSIyGS",
        "outputId": "e3b91dd9-294b-4bf6-917a-1941110d5e02"
      },
      "execution_count": null,
      "outputs": [
        {
          "output_type": "stream",
          "name": "stdout",
          "text": [
            "Number of parameters: 21458488\n",
            "torch.Size([1, 1000])\n"
          ]
        }
      ]
    },
    {
      "cell_type": "code",
      "source": [
        "from torchvision.models import EfficientNet_V2_M_Weights\n",
        "\n",
        "tvis_model= models.efficientnet_v2_m(weights=EfficientNet_V2_M_Weights.IMAGENET1K_V1).to(device)\n",
        "count_parameters(tvis_model)"
      ],
      "metadata": {
        "colab": {
          "base_uri": "https://localhost:8080/"
        },
        "id": "PGXIRlkuIVHO",
        "outputId": "3d5dca56-d837-42c2-97d9-1a0220891a6f"
      },
      "execution_count": null,
      "outputs": [
        {
          "output_type": "stream",
          "name": "stderr",
          "text": [
            "Downloading: \"https://download.pytorch.org/models/efficientnet_v2_m-dc08266a.pth\" to /root/.cache/torch/hub/checkpoints/efficientnet_v2_m-dc08266a.pth\n",
            "100%|██████████| 208M/208M [00:01<00:00, 205MB/s]\n"
          ]
        },
        {
          "output_type": "stream",
          "name": "stdout",
          "text": [
            "Number of parameters: 54139356\n"
          ]
        }
      ]
    },
    {
      "cell_type": "code",
      "source": [
        "model= EfficientNet(model_hparameters['efficientnet_v2_m'], in_channels=3, num_classes=1000).to(device)\n",
        "count_parameters(model)\n",
        "print(model(img).shape)"
      ],
      "metadata": {
        "colab": {
          "base_uri": "https://localhost:8080/"
        },
        "id": "GmefOrB2IVVc",
        "outputId": "fcd79978-526c-46a8-8636-6d93c581ac05"
      },
      "execution_count": null,
      "outputs": [
        {
          "output_type": "stream",
          "name": "stdout",
          "text": [
            "Number of parameters: 54139356\n",
            "torch.Size([1, 1000])\n"
          ]
        }
      ]
    },
    {
      "cell_type": "code",
      "source": [
        "from torchvision.models import EfficientNet_V2_L_Weights\n",
        "\n",
        "tvis_model= models.efficientnet_v2_l(weights=EfficientNet_V2_L_Weights.IMAGENET1K_V1).to(device)\n",
        "count_parameters(tvis_model)"
      ],
      "metadata": {
        "colab": {
          "base_uri": "https://localhost:8080/"
        },
        "id": "cbgql3MvIVhu",
        "outputId": "f02f12cf-3a83-4936-d55f-0c79cb82081f"
      },
      "execution_count": null,
      "outputs": [
        {
          "output_type": "stream",
          "name": "stderr",
          "text": [
            "Downloading: \"https://download.pytorch.org/models/efficientnet_v2_l-59c71312.pth\" to /root/.cache/torch/hub/checkpoints/efficientnet_v2_l-59c71312.pth\n",
            "100%|██████████| 455M/455M [00:02<00:00, 179MB/s]\n"
          ]
        },
        {
          "output_type": "stream",
          "name": "stdout",
          "text": [
            "Number of parameters: 118515272\n"
          ]
        }
      ]
    },
    {
      "cell_type": "code",
      "source": [
        "model= EfficientNet(model_hparameters['efficientnet_v2_l'], in_channels=3, num_classes=1000).to(device)\n",
        "count_parameters(model)\n",
        "print(model(img).shape)"
      ],
      "metadata": {
        "colab": {
          "base_uri": "https://localhost:8080/"
        },
        "id": "x9lqGa1yIVtE",
        "outputId": "c8b71ad7-bbfd-49c3-9fa7-95a1a232137c"
      },
      "execution_count": null,
      "outputs": [
        {
          "output_type": "stream",
          "name": "stdout",
          "text": [
            "Number of parameters: 118515272\n",
            "torch.Size([1, 1000])\n"
          ]
        }
      ]
    },
    {
      "cell_type": "markdown",
      "source": [
        "# Training a EfficientNet models from scratch"
      ],
      "metadata": {
        "id": "vLd8fcA4HRDg"
      }
    },
    {
      "cell_type": "code",
      "source": [
        "from torch.utils.data import DataLoader, random_split\n",
        "from torchvision import datasets, transforms"
      ],
      "metadata": {
        "id": "6xZhJyB-Gnfz"
      },
      "execution_count": 12,
      "outputs": []
    },
    {
      "cell_type": "code",
      "source": [
        "# data preparation -- define transformations for the dataset\n",
        "transform= transforms.Compose([\n",
        "    transforms.Resize((224, 224)),\n",
        "    transforms.RandomHorizontalFlip(),\n",
        "    transforms.ToTensor(),\n",
        "    transforms.Normalize(mean=[0.4914, 0.4822, 0.4465],\n",
        "                         std= [0.2023, 0.1994, 0.2010]), # CIFAR-10 stats\n",
        "])\n",
        "\n",
        "# load the CIFAR-10 dataset\n",
        "train_dataset= datasets.CIFAR10(root='./data', train=True, download=True, transform=transform)\n",
        "test_dataset = datasets.CIFAR10(root='./data', train=False,download=True, transform=transform)\n",
        "\n",
        "# create data loaders\n",
        "train_size= int(0.9 * len(train_dataset))\n",
        "val_size  = len(train_dataset) - train_size\n",
        "train_dataset, val_dataset= random_split(train_dataset, [train_size, val_size])\n",
        "\n",
        "batch_size= 128\n",
        "train_loader= DataLoader(train_dataset,batch_size=batch_size, shuffle=True)\n",
        "val_loader  = DataLoader(val_dataset,  batch_size=batch_size, shuffle=False)\n",
        "test_loader = DataLoader(test_dataset, batch_size=batch_size, shuffle=False)"
      ],
      "metadata": {
        "id": "lhiMtAjRIVRR",
        "colab": {
          "base_uri": "https://localhost:8080/"
        },
        "outputId": "0959c554-09b5-4e09-9020-3df4921c3c21"
      },
      "execution_count": 13,
      "outputs": [
        {
          "output_type": "stream",
          "name": "stderr",
          "text": [
            "100%|██████████| 170M/170M [00:02<00:00, 79.9MB/s]\n"
          ]
        }
      ]
    },
    {
      "cell_type": "code",
      "source": [
        "len(train_loader), len(val_loader)"
      ],
      "metadata": {
        "id": "x2upZwRFIVU_",
        "colab": {
          "base_uri": "https://localhost:8080/"
        },
        "outputId": "758f46ad-2ab6-4d8c-8e44-a619f4604c55"
      },
      "execution_count": 14,
      "outputs": [
        {
          "output_type": "execute_result",
          "data": {
            "text/plain": [
              "(352, 40)"
            ]
          },
          "metadata": {},
          "execution_count": 14
        }
      ]
    },
    {
      "cell_type": "markdown",
      "source": [
        "# Trainer Function\n",
        "\n",
        "TODO:\n",
        "\n",
        "- Data augmentation for training.\n",
        "- Play with different learning rate values.\n",
        "- Play with other EfficientNet versions."
      ],
      "metadata": {
        "id": "QR0fYm-gHNuW"
      }
    },
    {
      "cell_type": "code",
      "source": [
        "def trainer(model, train_loader, val_loader, optimizer, criterion, scheduler, epochs,\n",
        "            device, eval_interval=1, verbose=False):\n",
        "\n",
        "    tr_loss_hist= []\n",
        "    vl_loss_hist= []\n",
        "\n",
        "    # --- training loop ---\n",
        "    for epoch in range(epochs):\n",
        "        model.train()\n",
        "        batch_loss= []\n",
        "        start= time.time()\n",
        "\n",
        "        # --- training steps ---\n",
        "        # iterating over all batches\n",
        "        for step, (images, labels) in enumerate(train_loader):\n",
        "            optimizer.zero_grad()\n",
        "\n",
        "            # --- minibatch construction ---\n",
        "            images= images.to(device, non_blocking=True)\n",
        "            labels= labels.to(device, non_blocking=True)\n",
        "\n",
        "            # --- forward pass and get loss ---\n",
        "            logits= model(images)\n",
        "            loss= criterion(logits, labels)\n",
        "            batch_loss.append(loss.item())\n",
        "\n",
        "            # --- backward pass to calculate the gradients ---\n",
        "            loss.backward()\n",
        "\n",
        "            # --- update the parameters using the gradient ---\n",
        "            optimizer.step()\n",
        "\n",
        "        # --- evaluation and track stats ---\n",
        "        tr_loss_hist.append(np.mean(batch_loss))\n",
        "\n",
        "        if epoch% eval_interval== 0 or epoch== epochs-1:\n",
        "            model.eval()\n",
        "            val_loss= []\n",
        "            with torch.no_grad():\n",
        "                for images, labels in val_loader:\n",
        "                    images, labels= images.to(device), labels.to(device)\n",
        "                    logits= model(images)\n",
        "                    loss_v= criterion(logits, labels)\n",
        "                    val_loss.append(loss_v.item())\n",
        "\n",
        "            val_loss= np.mean(val_loss)\n",
        "            end= time.time()\n",
        "            dt= end - start\n",
        "\n",
        "            if verbose:\n",
        "                print(f\"Epoch: {epoch} | Train Loss: {tr_loss_hist[-1]:.4f} | \"\n",
        "                      f\"Val Loss: {val_loss:.4f} | dt/epoch: {dt*1000:.2f}ms\")\n",
        "\n",
        "            # for decreasing learning rate -- the ReduceLROnPlateau is designed to be used per epoch\n",
        "            scheduler.step(val_loss)\n",
        "\n",
        "        vl_loss_hist.append(val_loss)\n",
        "\n",
        "    return tr_loss_hist, vl_loss_hist\n"
      ],
      "metadata": {
        "id": "qntwlcedGnjt"
      },
      "execution_count": 15,
      "outputs": []
    },
    {
      "cell_type": "code",
      "source": [
        "def evaluate_model(model, test_loader, device, verbose=False):\n",
        "    model.eval()\n",
        "    correct= 0\n",
        "    total= 0\n",
        "\n",
        "    with torch.no_grad():\n",
        "        for images, labels in test_loader:\n",
        "            images, labels= images.to(device), labels.to(device)\n",
        "            logits= model(images)\n",
        "            y_pred= torch.argmax(logits, dim=1)\n",
        "            correct += (y_pred == labels).sum().item()\n",
        "            total += labels.size(0)\n",
        "\n",
        "    acc= correct / total\n",
        "    if verbose:\n",
        "        print(f\"Accuracy: {(acc * 100):.2f}%\")\n",
        "\n",
        "    return acc\n"
      ],
      "metadata": {
        "id": "IbrOlZeFH8NZ"
      },
      "execution_count": 16,
      "outputs": []
    },
    {
      "cell_type": "code",
      "source": [
        "def plot_losses(train_loss, valid_loss):\n",
        "    # plot training and validation losses\n",
        "    plt.plot(train_loss, label='Train Loss')\n",
        "    plt.plot(valid_loss, label='Validation Loss')\n",
        "    plt.title('Losses')\n",
        "    plt.xlabel('Epochs')\n",
        "    plt.ylabel('Loss')\n",
        "    plt.legend()\n",
        "    plt.grid()"
      ],
      "metadata": {
        "id": "Rxm606euH8RX"
      },
      "execution_count": 17,
      "outputs": []
    },
    {
      "cell_type": "markdown",
      "source": [
        "# Training setup using TF32 and Fused AdamW"
      ],
      "metadata": {
        "id": "nXVDS6aEHJ74"
      }
    },
    {
      "cell_type": "code",
      "source": [
        "use_fused= False\n",
        "\n",
        "if device== 'cuda': # TF32 computationally more efficient (slightly the same precision of FP32)\n",
        "    torch.set_float32_matmul_precision('high')\n",
        "    # create AdamW optimizer and use the fused version of it is available\n",
        "    fused_available= 'fused' in inspect.signature(torch.optim.AdamW).parameters\n",
        "    # fused is a lot faster when it is available and when running on cuda\n",
        "    use_fused= fused_available\n",
        "\n",
        "print(f\"Using fused AdamW: {use_fused}\")"
      ],
      "metadata": {
        "id": "Fx9JYvkbP-VZ",
        "colab": {
          "base_uri": "https://localhost:8080/"
        },
        "outputId": "d1dbd845-d51e-4265-b393-4e80031f3142"
      },
      "execution_count": 18,
      "outputs": [
        {
          "output_type": "stream",
          "name": "stdout",
          "text": [
            "Using fused AdamW: True\n"
          ]
        }
      ]
    },
    {
      "cell_type": "code",
      "source": [
        "# --- EfficientNet-B0 ---\n",
        "in_channels= 3\n",
        "num_classes= 10\n",
        "\n",
        "modelv1= EfficientNet(model_hparameters['efficientnet_b0'], in_channels, num_classes).to(device)\n",
        "count_parameters(modelv1)\n",
        "\n",
        "\n",
        "# train_loader has size 352, so 20 epochs have 7,040 steps\n",
        "epochs= 20\n",
        "learning_rate= 5e-4\n",
        "\n",
        "optimizer= torch.optim.AdamW(\n",
        "    modelv1.parameters(), lr=learning_rate, betas=(0.9, 0.999), weight_decay=1e-4,\n",
        "    fused=use_fused\n",
        ")\n",
        "\n",
        "criterion= nn.CrossEntropyLoss()\n",
        "# for decreasing learning rate -- the ReduceLROnPlateau is designed to be used per epoch\n",
        "scheduler= ReduceLROnPlateau(optimizer, mode='min', factor=0.1, patience=3, min_lr=1e-6)"
      ],
      "metadata": {
        "colab": {
          "base_uri": "https://localhost:8080/"
        },
        "outputId": "820e1b20-a965-4fbd-c0db-dcf2a272c606",
        "id": "AuXBjm0wOvcr"
      },
      "execution_count": 19,
      "outputs": [
        {
          "output_type": "stream",
          "name": "stdout",
          "text": [
            "Number of parameters: 4020358\n"
          ]
        }
      ]
    },
    {
      "cell_type": "code",
      "source": [
        "tr_loss, vl_loss= trainer(modelv1, train_loader, val_loader, optimizer, criterion, scheduler,\n",
        "                          epochs, device, verbose=True)"
      ],
      "metadata": {
        "id": "lelzLL8TOvcs",
        "colab": {
          "base_uri": "https://localhost:8080/"
        },
        "outputId": "76356d19-88c8-4225-b875-e12d754daaf4"
      },
      "execution_count": 20,
      "outputs": [
        {
          "output_type": "stream",
          "name": "stdout",
          "text": [
            "Epoch: 0 | Train Loss: 1.5115 | Val Loss: 1.1383 | dt/epoch: 87124.00ms\n",
            "Epoch: 1 | Train Loss: 0.9470 | Val Loss: 0.7501 | dt/epoch: 85408.51ms\n",
            "Epoch: 2 | Train Loss: 0.6999 | Val Loss: 0.6153 | dt/epoch: 85025.23ms\n",
            "Epoch: 3 | Train Loss: 0.5554 | Val Loss: 0.5396 | dt/epoch: 85197.60ms\n",
            "Epoch: 4 | Train Loss: 0.4690 | Val Loss: 0.4467 | dt/epoch: 85232.59ms\n",
            "Epoch: 5 | Train Loss: 0.4064 | Val Loss: 0.4403 | dt/epoch: 85375.96ms\n",
            "Epoch: 6 | Train Loss: 0.3550 | Val Loss: 0.4226 | dt/epoch: 85270.46ms\n",
            "Epoch: 7 | Train Loss: 0.3175 | Val Loss: 0.3834 | dt/epoch: 85300.26ms\n",
            "Epoch: 8 | Train Loss: 0.2769 | Val Loss: 0.4153 | dt/epoch: 85129.91ms\n",
            "Epoch: 9 | Train Loss: 0.2525 | Val Loss: 0.3646 | dt/epoch: 85500.00ms\n",
            "Epoch: 10 | Train Loss: 0.2254 | Val Loss: 0.3806 | dt/epoch: 85124.27ms\n",
            "Epoch: 11 | Train Loss: 0.2030 | Val Loss: 0.3943 | dt/epoch: 85167.19ms\n",
            "Epoch: 12 | Train Loss: 0.1814 | Val Loss: 0.3625 | dt/epoch: 85162.19ms\n",
            "Epoch: 13 | Train Loss: 0.1640 | Val Loss: 0.3756 | dt/epoch: 85241.89ms\n",
            "Epoch: 14 | Train Loss: 0.1454 | Val Loss: 0.3745 | dt/epoch: 85010.45ms\n",
            "Epoch: 15 | Train Loss: 0.1375 | Val Loss: 0.3785 | dt/epoch: 85164.73ms\n",
            "Epoch: 16 | Train Loss: 0.1240 | Val Loss: 0.3951 | dt/epoch: 84900.09ms\n",
            "Epoch: 17 | Train Loss: 0.0655 | Val Loss: 0.2941 | dt/epoch: 85039.49ms\n",
            "Epoch: 18 | Train Loss: 0.0407 | Val Loss: 0.3060 | dt/epoch: 85206.24ms\n",
            "Epoch: 19 | Train Loss: 0.0297 | Val Loss: 0.3087 | dt/epoch: 85201.67ms\n"
          ]
        }
      ]
    },
    {
      "cell_type": "code",
      "source": [
        "# plot\n",
        "plot_losses(tr_loss, vl_loss)"
      ],
      "metadata": {
        "id": "Ft6y75nVOvct",
        "colab": {
          "base_uri": "https://localhost:8080/",
          "height": 472
        },
        "outputId": "ba913452-65d9-49f9-a376-d540b609d1ee"
      },
      "execution_count": 21,
      "outputs": [
        {
          "output_type": "display_data",
          "data": {
            "text/plain": [
              "<Figure size 640x480 with 1 Axes>"
            ],
            "image/png": "[encoded data removed]"
          },
          "metadata": {}
        }
      ]
    },
    {
      "cell_type": "code",
      "source": [
        "effnetv1_acc= evaluate_model(modelv1, test_loader, device, verbose=True)"
      ],
      "metadata": {
        "id": "ln0Ky6swOvct",
        "colab": {
          "base_uri": "https://localhost:8080/"
        },
        "outputId": "47e78f4c-1f56-4c14-f3af-be4edea19f0a"
      },
      "execution_count": 22,
      "outputs": [
        {
          "output_type": "stream",
          "name": "stdout",
          "text": [
            "Accuracy: 90.77%\n"
          ]
        }
      ]
    },
    {
      "cell_type": "code",
      "source": [],
      "metadata": {
        "id": "diHwSrmSOw19"
      },
      "execution_count": null,
      "outputs": []
    },
    {
      "cell_type": "code",
      "source": [
        "# --- EfficientNetV2-S ---\n",
        "# --- V2 Training uses progressive image resizing and new optimizer choices (skipped here)\n",
        "in_channels= 3\n",
        "num_classes= 10\n",
        "\n",
        "modelv2= EfficientNet(model_hparameters['efficientnet_v2_s'], in_channels, num_classes).to(device)\n",
        "count_parameters(modelv2)\n",
        "\n",
        "\n",
        "# train_loader has size 352, so 20 epochs have 7,040 steps\n",
        "epochs= 20\n",
        "learning_rate= 5e-4\n",
        "\n",
        "optimizer= torch.optim.AdamW(\n",
        "    modelv2.parameters(), lr=learning_rate, betas=(0.9, 0.999), weight_decay=1e-4,\n",
        "    fused=use_fused\n",
        ")\n",
        "\n",
        "criterion= nn.CrossEntropyLoss()\n",
        "# for decreasing learning rate -- the ReduceLROnPlateau is designed to be used per epoch\n",
        "scheduler= ReduceLROnPlateau(optimizer, mode='min', factor=0.1, patience=3, min_lr=1e-6)"
      ],
      "metadata": {
        "id": "AKqwZGqHOyAF",
        "colab": {
          "base_uri": "https://localhost:8080/"
        },
        "outputId": "77b4a85e-e106-41af-acc1-976d4a88d529"
      },
      "execution_count": 23,
      "outputs": [
        {
          "output_type": "stream",
          "name": "stdout",
          "text": [
            "Number of parameters: 20190298\n"
          ]
        }
      ]
    },
    {
      "cell_type": "code",
      "source": [
        "tr_loss, vl_loss= trainer(modelv2, train_loader, val_loader, optimizer, criterion, scheduler,\n",
        "                          epochs, device, verbose=True)"
      ],
      "metadata": {
        "id": "yvEHq_VCOyAF",
        "colab": {
          "base_uri": "https://localhost:8080/"
        },
        "outputId": "7c54e37b-85cf-4b44-97af-b91a6376495d"
      },
      "execution_count": 24,
      "outputs": [
        {
          "output_type": "stream",
          "name": "stdout",
          "text": [
            "Epoch: 0 | Train Loss: 1.6140 | Val Loss: 1.2998 | dt/epoch: 104282.83ms\n",
            "Epoch: 1 | Train Loss: 1.0436 | Val Loss: 0.8279 | dt/epoch: 103902.94ms\n",
            "Epoch: 2 | Train Loss: 0.7770 | Val Loss: 0.6547 | dt/epoch: 104434.62ms\n",
            "Epoch: 3 | Train Loss: 0.6230 | Val Loss: 0.5934 | dt/epoch: 105041.90ms\n",
            "Epoch: 4 | Train Loss: 0.5280 | Val Loss: 0.5101 | dt/epoch: 105225.77ms\n",
            "Epoch: 5 | Train Loss: 0.4660 | Val Loss: 0.4384 | dt/epoch: 104855.36ms\n",
            "Epoch: 6 | Train Loss: 0.4075 | Val Loss: 0.4243 | dt/epoch: 104833.27ms\n",
            "Epoch: 7 | Train Loss: 0.3652 | Val Loss: 0.3864 | dt/epoch: 105886.09ms\n",
            "Epoch: 8 | Train Loss: 0.3260 | Val Loss: 0.4008 | dt/epoch: 105437.89ms\n",
            "Epoch: 9 | Train Loss: 0.2944 | Val Loss: 0.3963 | dt/epoch: 105231.98ms\n",
            "Epoch: 10 | Train Loss: 0.2687 | Val Loss: 0.3693 | dt/epoch: 104966.07ms\n",
            "Epoch: 11 | Train Loss: 0.2460 | Val Loss: 0.4248 | dt/epoch: 104767.35ms\n",
            "Epoch: 12 | Train Loss: 0.2241 | Val Loss: 0.3734 | dt/epoch: 105392.42ms\n",
            "Epoch: 13 | Train Loss: 0.2014 | Val Loss: 0.3485 | dt/epoch: 105025.41ms\n",
            "Epoch: 14 | Train Loss: 0.1808 | Val Loss: 0.3607 | dt/epoch: 105374.64ms\n",
            "Epoch: 15 | Train Loss: 0.1703 | Val Loss: 0.3980 | dt/epoch: 104769.35ms\n",
            "Epoch: 16 | Train Loss: 0.1539 | Val Loss: 0.3526 | dt/epoch: 104909.10ms\n",
            "Epoch: 17 | Train Loss: 0.1430 | Val Loss: 0.3556 | dt/epoch: 104466.80ms\n",
            "Epoch: 18 | Train Loss: 0.0712 | Val Loss: 0.2857 | dt/epoch: 104502.76ms\n",
            "Epoch: 19 | Train Loss: 0.0442 | Val Loss: 0.2900 | dt/epoch: 104552.44ms\n"
          ]
        }
      ]
    },
    {
      "cell_type": "code",
      "source": [
        "# plot\n",
        "plot_losses(tr_loss, vl_loss)"
      ],
      "metadata": {
        "id": "Eu-yo4_iOyAG",
        "colab": {
          "base_uri": "https://localhost:8080/",
          "height": 472
        },
        "outputId": "40503053-cd16-4118-decc-d1e65e663230"
      },
      "execution_count": 25,
      "outputs": [
        {
          "output_type": "display_data",
          "data": {
            "text/plain": [
              "<Figure size 640x480 with 1 Axes>"
            ],
            "image/png": "[encoded data removed]"
          },
          "metadata": {}
        }
      ]
    },
    {
      "cell_type": "code",
      "source": [
        "effnetv2_acc= evaluate_model(modelv2, test_loader, device, verbose=True)"
      ],
      "metadata": {
        "id": "UbX-aGToOyAG",
        "colab": {
          "base_uri": "https://localhost:8080/"
        },
        "outputId": "6e2b9dd9-32cc-4ea5-c288-9937d6b98ff7"
      },
      "execution_count": 26,
      "outputs": [
        {
          "output_type": "stream",
          "name": "stdout",
          "text": [
            "Accuracy: 91.09%\n"
          ]
        }
      ]
    },
    {
      "cell_type": "code",
      "source": [
        "# https://medium.com/@aniketthomas27/efficientnet-implementation-from-scratch-in-pytorch-a-step-by-step-guide-a7bb96f2bdaa\n",
        "# https://amaarora.github.io/posts/2020-08-13-efficientnet.html\n",
        "# https://github.com/aladdinpersson/Machine-Learning-Collection/blob/master/ML/Pytorch/CNN_architectures/pytorch_efficientnet.py\n",
        "# https://medium.com/technological-singularity/efficientnet-revolutionizing-deep-learning-through-model-efficiency-0ed5485f9a6f"
      ],
      "metadata": {
        "id": "--FLwsEqGnrC"
      },
      "execution_count": null,
      "outputs": []
    }
  ]
}