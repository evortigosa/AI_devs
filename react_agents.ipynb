{
  "nbformat": 4,
  "nbformat_minor": 0,
  "metadata": {
    "colab": {
      "provenance": [],
      "toc_visible": true
    },
    "kernelspec": {
      "name": "python3",
      "display_name": "Python 3"
    },
    "language_info": {
      "name": "python"
    }
  },
  "cells": [
    {
      "cell_type": "markdown",
      "source": [
        "# ReAct Agents for LLMs"
      ],
      "metadata": {
        "id": "7gPz7wwIvdZY"
      }
    },
    {
      "cell_type": "code",
      "source": [
        "import numpy as np\n",
        "import pandas as pd\n",
        "import matplotlib.pyplot as plt"
      ],
      "metadata": {
        "id": "FCzBGuMovmYJ"
      },
      "execution_count": 1,
      "outputs": []
    },
    {
      "cell_type": "code",
      "source": [
        "\"\"\"\n",
        "In this example we'll use LangChain to build an agent that can read Wikipedia articles, handle\n",
        "context, parsing, and tool execution\n",
        "\"\"\"\n",
        "\n",
        "!pip install langchain-community langchain-core\n",
        "!pip -q install langchain huggingface_hub openai google-search-results tiktoken wikipedia"
      ],
      "metadata": {
        "id": "xBO7XbmNzwdL"
      },
      "execution_count": null,
      "outputs": []
    },
    {
      "cell_type": "code",
      "source": [
        "# importing dependencies necessary\n",
        "\n",
        "# for using OpenAI's GPT models\n",
        "from langchain import OpenAI\n",
        "\n",
        "# for allowing langchain to query Wikepedia articles\n",
        "from langchain import Wikipedia\n",
        "\n",
        "# for setting up na environment in which a ReAct agent can run autonomously\n",
        "from langchain.agents import initialize_agent\n",
        "\n",
        "# for defining tools to give a language models\n",
        "from langchain.agents import Tool\n",
        "\n",
        "# for defining the type of agent - there is not a lot of great documentation about agents in\n",
        "# the LangChain docs. I think this sets the context used to inform the model how to behave\n",
        "from langchain.agents import AgentType\n",
        "\n",
        "# this abstracts text documents into a \"search\" and \"lookup\" function\n",
        "from langchain.agents.react.base import DocstoreExplorer"
      ],
      "metadata": {
        "id": "pz2LUu-HvmbS"
      },
      "execution_count": 3,
      "outputs": []
    },
    {
      "cell_type": "code",
      "source": [
        "# defining a docstore and telling the docstore to use LangChains hook for Wikipedia\n",
        "docstore= DocstoreExplorer(Wikipedia())\n",
        "\n",
        "# then we can search for an article\n",
        "docstore.search('Dune (novel)')"
      ],
      "metadata": {
        "colab": {
          "base_uri": "https://localhost:8080/",
          "height": 174
        },
        "id": "12Yr6P0jzPlx",
        "outputId": "2daa39a7-705c-4d25-add3-b3a46ab2f6f2"
      },
      "execution_count": 4,
      "outputs": [
        {
          "output_type": "stream",
          "name": "stderr",
          "text": [
            "<ipython-input-4-c37317a4882d>:2: LangChainDeprecationWarning: The class `DocstoreExplorer` was deprecated in LangChain 0.1.0 and will be removed in 1.0\n",
            "  docstore= DocstoreExplorer(Wikipedia())\n"
          ]
        },
        {
          "output_type": "execute_result",
          "data": {
            "text/plain": [
              "'Dune is a 1965 epic science fiction novel by American author Frank Herbert, originally published as two separate serials (1963–64 novel Dune World and 1965 novel Prophet of Dune) in Analog magazine. It tied with Roger Zelazny\\'s This Immortal for the Hugo Award for Best Novel and won the inaugural Nebula Award for Best Novel in 1966. It is the first installment of the Dune Chronicles. It is one of the world\\'s best-selling science fiction novels.\\nDune is set in the distant future in a feudal interstellar society, descended from terrestrial humans, in which various noble houses control planetary fiefs.  It tells the story of young Paul Atreides, whose family accepts the stewardship of the planet Arrakis. While the planet is an inhospitable and sparsely populated desert wasteland, it is the only source of melange, or \"spice\", a drug that extends life and enhances mental abilities. Melange is also necessary for space navigation, which requires a kind of multidimensional awareness and foresight that only the drug provides. As melange can only be produced on Arrakis, control of the planet is a coveted and dangerous undertaking. The story explores the multilayered interactions of politics, religion, ecology, technology, and human emotion as the factions of the empire confront each other in a struggle for the control of Arrakis and its spice.\\nHerbert wrote five sequels: Dune Messiah, Children of Dune, God Emperor of Dune, Heretics of Dune, and Chapterhouse: Dune. Following Herbert\\'s death in 1986, his son Brian Herbert and author Kevin J. Anderson continued the series in over a dozen additional novels since 1999.\\nAdaptations of the novel to cinema have been notoriously difficult and complicated. In the 1970s, cult filmmaker Alejandro Jodorowsky attempted to make a film based on the novel. After three years of development, the project was canceled due to a constantly growing budget. In 1984, a film adaptation directed by David Lynch was released to mostly negative responses from critics and failure at the box office, although it later developed a cult following. The book was also adapted into the 2000 Sci-Fi Channel miniseries Frank Herbert\\'s Dune and its 2003 sequel, Frank Herbert\\'s Children of Dune (the latter of which combines the events of Dune Messiah and Children of Dune). A second film adaptation, directed by Denis Villeneuve, was released on October 21, 2021, to positive reviews. It grossed $434 million worldwide and went on to be nominated for ten Academy Awards, including Best Picture, ultimately winning six. Villeneuve\\'s film covers roughly the first half of the original novel; a sequel, which covers the second half of the story, was released on March 1, 2024, to critical acclaim and has grossed $711 million worldwide.\\nThe series has also been used as the basis for several board, role-playing, and video games.\\nSince 2009, the names of planets from the Dune novels have been adopted for the real-life nomenclature of plains and other features on Saturn\\'s moon Titan.'"
            ],
            "application/vnd.google.colaboratory.intrinsic+json": {
              "type": "string"
            }
          },
          "metadata": {},
          "execution_count": 4
        }
      ]
    },
    {
      "cell_type": "code",
      "source": [
        "# looking up sections of the article which contain the word 'Lawrence'\n",
        "docstore.lookup('Lawrence')"
      ],
      "metadata": {
        "colab": {
          "base_uri": "https://localhost:8080/",
          "height": 140
        },
        "id": "lb_KALz2vme0",
        "outputId": "7d22497b-fc25-4c5b-f554-40be9c02ec38"
      },
      "execution_count": 5,
      "outputs": [
        {
          "output_type": "execute_result",
          "data": {
            "text/plain": [
              "'(Result 1/2) After his novel The Dragon in the Sea was published in 1957, Herbert traveled to Florence, Oregon, at the north end of the Oregon Dunes. Here, the United States Department of Agriculture was attempting to use poverty grasses to stabilize the sand dunes. Herbert claimed in a letter to his literary agent, Lurton Blassingame, that the moving dunes could \"swallow whole cities, lakes, rivers, highways.\" Herbert\\'s article on the dunes, \"They Stopped the Moving Sands\", was never completed (and only published decades later in The Road to Dune), but its research sparked Herbert\\'s interest in ecology and deserts.\\nHerbert further drew inspiration from Native American mentors like \"Indian Henry\" (as Herbert referred to the man to his son; likely a Henry Martin of the Hoh tribe) and Howard Hansen. Both Martin and Hansen grew up on the Quileute reservation near Herbert\\'s hometown. According to historian Daniel Immerwahr, Hansen regularly shared his writing with Herbert. \"White men are eating the earth,\" Hansen told Herbert in 1958, after sharing a piece on the effect of logging on the Quileute reservation. \"They\\'re gonna turn this whole planet into a wasteland, just like North Africa.\" The world could become a \"big dune,\" Herbert responded in agreement.\\nHerbert was also interested in the idea of the superhero mystique and messiahs. He believed that feudalism was a natural condition humans fell into, where some led and others gave up the responsibility of making decisions and just followed orders. He found that desert environments have historically given birth to several major religions with messianic impulses. He decided to join his interests together so he could play religious and ecological ideas against each other. In addition, he was influenced by the story of T. E. Lawrence and the \"messianic overtones\" in Lawrence\\'s involvement in the Arab Revolt during World War I. In an early version of Dune, the hero was actually very similar to Lawrence of Arabia, but Herbert decided the plot was too straightforward and added more layers to his story.\\nHerbert drew heavy inspiration also from Lesley Blanch\\'s The Sabres of Paradise (1960), a narrative history recounting a mid-19th century conflict in the Caucasus between rugged caucasian Muslim tribes and the expanding Russian Empire. Language used on both sides of that conflict become terms in Herbert\\'s world—chakobsa, a Caucasian hunting language, becomes a battle language of humans spread across the galaxy; kanly, a word for blood feud in the 19th century Caucasus, represents a feud between Dune\\'s noble Houses; sietch and tabir are both words for camp borrowed from Ukrainian Cossacks (of the Pontic–Caspian steppe).\\nHerbert also borrowed some lines which Blanch stated were Caucasian proverbs. \"To kill with the point lacked artistry\", used by Blanch to describe the Caucasus peoples\\' love of swordsmanship, becomes in Dune \"Killing with the tip lacks artistry\", a piece of advice given to a young Paul during his training. \"Polish comes from the city, wisdom from the hills\", a Caucasian aphorism, turns into a desert expression: \"Polish comes from the cities, wisdom from the desert\".'"
            ],
            "application/vnd.google.colaboratory.intrinsic+json": {
              "type": "string"
            }
          },
          "metadata": {},
          "execution_count": 5
        }
      ]
    },
    {
      "cell_type": "code",
      "source": [
        "# searching for the article 'Dune'  which failes even though there is an article named 'Dune'\n",
        "docstore.search('Dune')"
      ],
      "metadata": {
        "colab": {
          "base_uri": "https://localhost:8080/",
          "height": 53
        },
        "id": "c1wmxMQfvmhu",
        "outputId": "9d55cc22-8256-4967-fc2a-137171e2e887"
      },
      "execution_count": 6,
      "outputs": [
        {
          "output_type": "execute_result",
          "data": {
            "text/plain": [
              "\"Could not find [Dune]. Similar: ['Dune', 'Dune: Part Two', 'List of Dune characters', 'Dune (novel)', 'Dune (2021 film)', 'Dune (franchise)', 'Dune Messiah', 'Dune (disambiguation)', 'Dune: Prophecy', 'Sandworm (Dune)']\""
            ],
            "application/vnd.google.colaboratory.intrinsic+json": {
              "type": "string"
            }
          },
          "metadata": {},
          "execution_count": 6
        }
      ]
    },
    {
      "cell_type": "code",
      "source": [
        "# searching for 'Sand Dune' results in the article 'Dune'\n",
        "docstore.search('Sand Dune')"
      ],
      "metadata": {
        "colab": {
          "base_uri": "https://localhost:8080/",
          "height": 140
        },
        "id": "jDQlbVNZvmlb",
        "outputId": "1779bc93-5b88-4d24-a067-66da7c6c13d1"
      },
      "execution_count": 7,
      "outputs": [
        {
          "output_type": "execute_result",
          "data": {
            "text/plain": [
              "'A dune is a landform composed of wind- or water-driven sand. It typically takes the form of a mound, ridge, or hill. An area with dunes is called a dune system or a dune complex.  A large dune complex is called a dune field, while broad, flat regions covered with wind-swept sand or dunes, with little or no vegetation, are called ergs or sand seas. Dunes occur in different shapes and sizes, but most kinds of dunes are longer on the stoss (upflow) side, where the sand is pushed up the dune, and have a shorter slip face in the lee side. The valley or trough between dunes is called a dune slack.\\nDunes are most common in desert environments, where the lack of moisture hinders the growth of vegetation that would otherwise interfere with the development of dunes. However, sand deposits are not restricted to deserts, and dunes are also found along sea shores, along streams in semiarid climates, in areas of glacial outwash, and in other areas where poorly cemented sandstone bedrock disintegrates to produce an ample supply of loose sand.  Subaqueous dunes can form from the action of water flow (fluvial processes) on sand or gravel beds of rivers, estuaries, and the sea-bed.\\nSome coastal areas have one or more sets of dunes running parallel to the shoreline directly inland from the beach. In most cases, the dunes are important in protecting the land against potential ravages by storm waves from the sea. Artificial dunes are sometimes constructed to protect coastal areas.  The dynamic action of wind and water can sometimes cause dunes to drift, which can have serious consequences. For example, the town of Eucla, Western Australia, had to be relocated in the 1890s because of dune drift.'"
            ],
            "application/vnd.google.colaboratory.intrinsic+json": {
              "type": "string"
            }
          },
          "metadata": {},
          "execution_count": 7
        }
      ]
    },
    {
      "cell_type": "code",
      "source": [
        "\"\"\"\n",
        "We have a docstore where we can search for documents and lookup sections within those documents\n",
        "based on a keyword or phrase. Now we'll expose these as LangChain \"Tools\"\n",
        "\"\"\"\n",
        "\n",
        "tools= [\n",
        "    Tool(\n",
        "        name='Search',\n",
        "        func=docstore.search,\n",
        "        description='useful for when you need to ask with search'\n",
        "    ),\n",
        "    Tool(\n",
        "        name='Lookup',\n",
        "        func=docstore.lookup,\n",
        "        description='useful for when you need to ask with lookup'\n",
        "    )\n",
        "]"
      ],
      "metadata": {
        "id": "HtcwHUHa288w"
      },
      "execution_count": 8,
      "outputs": []
    },
    {
      "cell_type": "markdown",
      "source": [
        "# Defining a ReAct Agent"
      ],
      "metadata": {
        "id": "ByUlehAF5mWt"
      }
    },
    {
      "cell_type": "code",
      "source": [
        "import os\n",
        "from google.colab import userdata\n",
        "\n",
        "os.environ['OPENAI_API_KEY']=userdata.get('OPENAI_API_KEY')\n",
        "client= OpenAI()\n",
        "\n",
        "\"\"\"\n",
        "The language model understands our tools because, when initializing an agent, a context is\n",
        "automatically created which shows the model several examples of tool usage\n",
        "\"\"\"\n",
        "\n",
        "llm= OpenAI(temperature=0, model_name='gpt-3.5-turbo-instruct')\n",
        "react_agent= initialize_agent(tools, llm, agent=AgentType.REACT_DOCSTORE, verbose=True)"
      ],
      "metadata": {
        "colab": {
          "base_uri": "https://localhost:8080/"
        },
        "id": "doQ9NcmU28_-",
        "outputId": "58c6bc14-b7c1-4bf2-d5cb-975c42f9ccd2"
      },
      "execution_count": 10,
      "outputs": [
        {
          "output_type": "stream",
          "name": "stderr",
          "text": [
            "<ipython-input-10-67a367ebd245>:8: LangChainDeprecationWarning: The function `initialize_agent` was deprecated in LangChain 0.1.0 and will be removed in 1.0. Use :meth:`~Use new agent constructor methods like create_react_agent, create_json_agent, create_structured_chat_agent, etc.` instead.\n",
            "  react_agent= initialize_agent(tools, llm, agent=AgentType.REACT_DOCSTORE, verbose=True)\n"
          ]
        }
      ]
    },
    {
      "cell_type": "code",
      "source": [
        "\"\"\"\n",
        "The context allows the language model to understand the general structure of ReAct, and will\n",
        "entice it to follow the \"Thought\", \"Action\", and \"Observation\" format\n",
        "\"\"\"\n",
        "\n",
        "react_agent.agent.llm_chain.prompt.template"
      ],
      "metadata": {
        "colab": {
          "base_uri": "https://localhost:8080/",
          "height": 140
        },
        "id": "W8_LgkmM29Dr",
        "outputId": "bec0015d-26c8-4e83-8ea2-dbf00075e51b"
      },
      "execution_count": 11,
      "outputs": [
        {
          "output_type": "execute_result",
          "data": {
            "text/plain": [
              "'\\n\\nQuestion: What is the elevation range for the area that the eastern sector of the Colorado orogeny extends into?\\nThought: I need to search Colorado orogeny, find the area that the eastern sector of the Colorado orogeny extends into, then find the elevation range of the area.\\nAction: Search[Colorado orogeny]\\nObservation: The Colorado orogeny was an episode of mountain building (an orogeny) in Colorado and surrounding areas.\\nThought: It does not mention the eastern sector. So I need to look up eastern sector.\\nAction: Lookup[eastern sector]\\nObservation: (Result 1 / 1) The eastern sector extends into the High Plains and is called the Central Plains orogeny.\\nThought: The eastern sector of Colorado orogeny extends into the High Plains. So I need to search High Plains and find its elevation range.\\nAction: Search[High Plains]\\nObservation: High Plains refers to one of two distinct land regions\\nThought: I need to instead search High Plains (United States).\\nAction: Search[High Plains (United States)]\\nObservation: The High Plains are a subregion of the Great Plains. From east to west, the High Plains rise in elevation from around 1,800 to 7,000 ft (550 to 2,130 m).[3]\\nThought: High Plains rise in elevation from around 1,800 to 7,000 ft, so the answer is 1,800 to 7,000 ft.\\nAction: Finish[1,800 to 7,000 ft]\\n\\nQuestion: Musician and satirist Allie Goertz wrote a song about the \"The Simpsons\" character Milhouse, who Matt Groening named after who?\\nThought: The question simplifies to \"The Simpsons\" character Milhouse is named after who. I only need to search Milhouse and find who it is named after.\\nAction: Search[Milhouse]\\nObservation: Milhouse Mussolini Van Houten is a recurring character in the Fox animated television series The Simpsons voiced by Pamela Hayden and created by Matt Groening.\\nThought: The paragraph does not tell who Milhouse is named after, maybe I can look up \"named after\".\\nAction: Lookup[named after]\\nObservation: (Result 1 / 1) Milhouse was named after U.S. president Richard Nixon, whose middle name was Milhous.\\nThought: Milhouse was named after U.S. president Richard Nixon, so the answer is Richard Nixon.\\nAction: Finish[Richard Nixon]\\n\\nQuestion: Which documentary is about Finnish rock groups, Adam Clayton Powell or The Saimaa Gesture?\\nThought: I need to search Adam Clayton Powell and The Saimaa Gesture, and find which documentary is about Finnish rock groups.\\nAction: Search[Adam Clayton Powell]\\nObservation: Could not find [Adam Clayton Powell]. Similar: [’Adam Clayton Powell III’, ’Seventh Avenue (Manhattan)’, ’Adam Clayton Powell Jr. State Office Building’, ’Isabel Washington Powell’, ’Adam Powell’, ’Adam Clayton Powell (film)’, ’Giancarlo Esposito’].\\nThought: To find the documentary, I can search Adam Clayton Powell (film).\\nAction: Search[Adam Clayton Powell (film)]\\nObservation: Adam Clayton Powell is a 1989 American documentary film directed by Richard Kilberg. The film is about the rise and fall of influential African-American politician Adam Clayton Powell Jr.[3][4] It was later aired as part of the PBS series The American Experience.\\nThought: Adam Clayton Powell (film) is a documentary about an African-American politician, not Finnish rock groups. So the documentary about Finnish rock groups must instead be The Saimaa Gesture.\\nAction: Finish[The Saimaa Gesture]\\n\\nQuestion: What profession does Nicholas Ray and Elia Kazan have in common?\\nThought: I need to search Nicholas Ray and Elia Kazan, find their professions, then find the profession they have in common.\\nAction: Search[Nicholas Ray]\\nObservation: Nicholas Ray (born Raymond Nicholas Kienzle Jr., August 7, 1911 - June 16, 1979) was an American film director, screenwriter, and actor best known for the 1955 film Rebel Without a Cause.\\nThought: Professions of Nicholas Ray are director, screenwriter, and actor. I need to search Elia Kazan next and find his professions.\\nAction: Search[Elia Kazan]\\nObservation: Elia Kazan was an American film and theatre director, producer, screenwriter and actor.\\nThought: Professions of Elia Kazan are director, producer, screenwriter, and actor. So profession Nicholas Ray and Elia Kazan have in common is director, screenwriter, and actor.\\nAction: Finish[director, screenwriter, actor]\\n\\nQuestion: Which magazine was started first Arthur’s Magazine or First for Women?\\nThought: I need to search Arthur’s Magazine and First for Women, and find which was started first.\\nAction: Search[Arthur’s Magazine]\\nObservation: Arthur’s Magazine (1844-1846) was an American literary periodical published in Philadelphia in the 19th century.\\nThought: Arthur’s Magazine was started in 1844. I need to search First for Women next.\\nAction: Search[First for Women]\\nObservation: First for Women is a woman’s magazine published by Bauer Media Group in the USA.[1] The magazine was started in 1989.\\nThought: First for Women was started in 1989. 1844 (Arthur’s Magazine) < 1989 (First for Women), so Arthur’s Magazine was started first.\\nAction: Finish[Arthur’s Magazine]\\n\\nQuestion: Were Pavel Urysohn and Leonid Levin known for the same type of work?\\nThought: I need to search Pavel Urysohn and Leonid Levin, find their types of work, then find if they are the same.\\nAction: Search[Pavel Urysohn]\\nObservation: Pavel Samuilovich Urysohn (February 3, 1898 - August 17, 1924) was a Soviet mathematician who is best known for his contributions in dimension theory.\\nThought: Pavel Urysohn is a mathematician. I need to search Leonid Levin next and find its type of work.\\nAction: Search[Leonid Levin]\\nObservation: Leonid Anatolievich Levin is a Soviet-American mathematician and computer scientist.\\nThought: Leonid Levin is a mathematician and computer scientist. So Pavel Urysohn and Leonid Levin have the same type of work.\\nAction: Finish[yes]\\n\\n\\nQuestion: {input}\\n{agent_scratchpad}'"
            ],
            "application/vnd.google.colaboratory.intrinsic+json": {
              "type": "string"
            }
          },
          "metadata": {},
          "execution_count": 11
        }
      ]
    },
    {
      "cell_type": "markdown",
      "source": [
        "# Executing our ReAct Agent"
      ],
      "metadata": {
        "id": "iCnhUoN-8V_G"
      }
    },
    {
      "cell_type": "code",
      "source": [
        "prompt= 'What is the age of the president of the United States? The current date is Sep 21 2024.'\n",
        "react_agent.run(prompt)"
      ],
      "metadata": {
        "id": "-07-YNPg29HC"
      },
      "execution_count": null,
      "outputs": []
    },
    {
      "cell_type": "code",
      "source": [],
      "metadata": {
        "id": "mSSUYyHR29Ki"
      },
      "execution_count": null,
      "outputs": []
    },
    {
      "cell_type": "markdown",
      "source": [
        "# ReAct in Python from Scratch"
      ],
      "metadata": {
        "id": "YpS4ut_c_E2k"
      }
    },
    {
      "cell_type": "code",
      "source": [
        "\"\"\"\n",
        "LangChain does have a nice wrapper around BingSearch, so we'll be using LangChain to help us with\n",
        "that, but we'll do all the ReAct stuff ourselves\n",
        "\"\"\"\n",
        "\n",
        "# testing out bing search\n",
        "os.environ[\"BING_SUBSCRIPTION_KEY\"]= userdata.get('BING_SUBSCRIPTION_KEY')\n",
        "os.environ[\"BING_SEARCH_URL\"]= \"https://api.bing.microsoft.com/v7.0/search\"\n",
        "\n",
        "from langchain.utilities import BingSearchAPIWrapper\n",
        "\n",
        "def BSearch(input):\n",
        "    # expects an arbitrary text\n",
        "    search= BingSearchAPIWrapper()\n",
        "\n",
        "    return (search.run(input))\n",
        "\n",
        "\n",
        "BSearch('How many regions are there in Italy?')"
      ],
      "metadata": {
        "id": "s_slUgzw_DbX"
      },
      "execution_count": null,
      "outputs": []
    },
    {
      "cell_type": "code",
      "source": [],
      "metadata": {
        "id": "QdM5uO3zvm2J"
      },
      "execution_count": null,
      "outputs": []
    },
    {
      "cell_type": "code",
      "source": [
        "# https://towardsdatascience.com/llm-agents-intuitively-and-exhaustively-explained-8905858e18e2"
      ],
      "metadata": {
        "id": "F_59P9Vsvm5i"
      },
      "execution_count": null,
      "outputs": []
    }
  ]
}