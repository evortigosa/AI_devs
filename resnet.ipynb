{
  "nbformat": 4,
  "nbformat_minor": 0,
  "metadata": {
    "colab": {
      "provenance": [],
      "toc_visible": true
    },
    "kernelspec": {
      "name": "python3",
      "display_name": "Python 3"
    },
    "language_info": {
      "name": "python"
    }
  },
  "cells": [
    {
      "cell_type": "markdown",
      "source": [
        "# Residual Network (ResNet)\n",
        "\n",
        "Adding more layers to a deep learning model should intuitively improve its performance but the practical observations are not aligned to this notion. One of the issues with deeper models can be Vanishing/exploding gradients which hampers the convergence. This can be addressed by normalized initialisation and intermediate normalization layers (BatchNorm) which enables the network to start converging for SGD with backprop. Even with using normalization, the increase in network depth leads to saturation of accuracy which eventually degrades rapidly. Unexpectedly this is not due to overfitting.\n",
        "\n",
        "This is referred to as degradation problem. The authors solve this problem using deep residual learning framework. With skip connections, weights of multiple non-linear layers can be driven to zero to approach identity mappings.\n",
        "\n",
        "https://openaccess.thecvf.com/content_cvpr_2016/html/He_Deep_Residual_Learning_CVPR_2016_paper.html"
      ],
      "metadata": {
        "id": "b2vK1An5ohR8"
      }
    },
    {
      "cell_type": "code",
      "execution_count": 1,
      "metadata": {
        "id": "AZw2qKEwoeeC"
      },
      "outputs": [],
      "source": [
        "import time\n",
        "import math\n",
        "import numpy as np\n",
        "import pandas as pd\n",
        "import matplotlib.pyplot as plt\n",
        "import inspect\n",
        "import torch\n",
        "import torch.nn as nn\n",
        "import torch.nn.functional as F\n",
        "from torch.optim.lr_scheduler import ReduceLROnPlateau"
      ]
    },
    {
      "cell_type": "code",
      "source": [
        "device= 'cuda' if torch.cuda.is_available() else 'cpu'"
      ],
      "metadata": {
        "id": "nk-VFXJFo106"
      },
      "execution_count": 2,
      "outputs": []
    },
    {
      "cell_type": "code",
      "source": [
        "# count how many trainable weights the model has\n",
        "def count_parameters(model) -> None:\n",
        "    total_params= sum(p.numel() for p in model.parameters() if p.requires_grad)\n",
        "    print(f'Number of parameters: {total_params}')"
      ],
      "metadata": {
        "id": "sENSxtG2o13x"
      },
      "execution_count": 3,
      "outputs": []
    },
    {
      "cell_type": "markdown",
      "source": [
        "# Define configs for different ResNet versions\n",
        "\n",
        "Here, model_hparameters['resnet50'] = ([64,128,256,512], [3,4,6,3], 4, True) represents the hyperparameters for building a ResNet-50, where\n",
        "- [64,128,256,512] -> channels in each intermediate block\n",
        "- [3,4,6,3] -> number of repetition for Bottlenecks in each block\n",
        "- 4 -> expansion_factor. Note that 64 turns to 256, 128 to 512. All the ResNet layers use the same expansion factor\n",
        "- True -> create Bottleneck layer status. True only for ResNet-50+"
      ],
      "metadata": {
        "id": "W_w0y3XWFHjG"
      }
    },
    {
      "cell_type": "code",
      "source": [
        "# resnet_= (num channels, repetition, bottleneck expansion, bottleneck layer)\n",
        "model_hparameters= {}\n",
        "model_hparameters['resnet18'] = ([64,128,256,512], [2,2,2,2], 1, False)\n",
        "model_hparameters['resnet34'] = ([64,128,256,512], [3,4,6,3], 1, False)\n",
        "model_hparameters['resnet50'] = ([64,128,256,512], [3,4,6,3], 4, True)\n",
        "model_hparameters['resnet101']= ([64,128,256,512], [3,4,23,3],4, True)\n",
        "model_hparameters['resnet152']= ([64,128,256,512], [3,8,36,3],4, True)"
      ],
      "metadata": {
        "id": "jjseXo3Uo16T"
      },
      "execution_count": 4,
      "outputs": []
    },
    {
      "cell_type": "markdown",
      "source": [
        "# Define Bottleneck and Basic Blocks\n",
        "\n",
        "Bottlenecks are the bulding units of ResNet architecture. A bottleneck layer is a layer that contains few nodes compared to the previous layers. It can be used to obtain a representation of the input with reduced dimensionality.\n",
        "\n",
        "- A bottleneck consists of (conv1x1->BN->activation) -> (conv3x3->BN->activation) -> (conv1x1->BN) -> activation. Bottleneck is used to reduce the computation cost while increasing depth for layers-50, 101, and 152.\n",
        "- For ResNet-18/34, Basic blocks are used instead of bottlenecks. Basic blocks are simple and effective for shallower networks but become inefficient as network depth increases.\n",
        "\n",
        "**NOTE:** The original ResNet uses ReLU as activation function, I replaced by GELU as it is a more modern approach and suitable to avoid dead neurons (but the activation function of the network can be defined in the hyperparameters)."
      ],
      "metadata": {
        "id": "XCQ1mEvyHa6k"
      }
    },
    {
      "cell_type": "code",
      "source": [
        "class BottleneckBlock(nn.Module):\n",
        "    \"\"\"\n",
        "    Creates a bottleneck layer for ResNet. It uses 1x1 convolution before the 3x3 convolution\n",
        "    (i.e., reduces the number of channels before applying the 3x3 convolution). The final 1x1\n",
        "    convolution restores the original dimensions.\n",
        "    \"\"\"\n",
        "\n",
        "    def __init__(self, in_channels, mid_channels, expansion, stride=1, activation=None) -> None:\n",
        "        super(BottleneckBlock, self).__init__()\n",
        "        # define the activation function -- ReLU is default in the original ResNet\n",
        "        activation= nn.GELU() if activation is None else activation\n",
        "        # for all ResNet-50+\n",
        "        self.bottleneck= nn.Sequential(\n",
        "            # conv1x1 -> BN -> activation (dimensionality reduction)\n",
        "            nn.Conv2d(in_channels, mid_channels, kernel_size=1, stride=1, padding=0, bias=False),\n",
        "            nn.BatchNorm2d(mid_channels),\n",
        "            activation,\n",
        "            # conv3x3 -> BN -> activation (feature extraction)\n",
        "            nn.Conv2d(mid_channels, mid_channels, kernel_size=3, stride=stride, padding=1, bias=False),\n",
        "            nn.BatchNorm2d(mid_channels),\n",
        "            activation,\n",
        "            # conv1x1 -> BN (restoring dimensions)\n",
        "            nn.Conv2d(mid_channels, mid_channels*expansion, kernel_size=1, stride=1, padding=0, bias=False),\n",
        "            nn.BatchNorm2d(mid_channels*expansion),\n",
        "        )\n",
        "\n",
        "\n",
        "    def forward(self, x):\n",
        "        x= self.bottleneck(x)\n",
        "\n",
        "        return x\n"
      ],
      "metadata": {
        "id": "Z2BFe_2XFCIS"
      },
      "execution_count": 5,
      "outputs": []
    },
    {
      "cell_type": "code",
      "source": [
        "class BasicBlock(nn.Module):\n",
        "    \"\"\"\n",
        "    Creates a basic block layer for ResNet. It uses 3x3 convolutions in both layers (maintains the\n",
        "    same number of channels throughout the block).\n",
        "    \"\"\"\n",
        "\n",
        "    def __init__(self, in_channels, mid_channels, stride=1, activation=None) -> None:\n",
        "        super(BasicBlock, self).__init__()\n",
        "        # define the activation function -- ReLU is default in the original ResNet\n",
        "        activation= nn.GELU() if activation is None else activation\n",
        "        # for ResNet-18/34 (no dimensionality reduction)\n",
        "        self.basic_block= nn.Sequential(\n",
        "            # conv3x3 -> BN -> activation\n",
        "            nn.Conv2d(in_channels, mid_channels, kernel_size=3, stride=stride, padding=1, bias=False),\n",
        "            nn.BatchNorm2d(mid_channels),\n",
        "            activation,\n",
        "            # conv3x3 -> BN\n",
        "            nn.Conv2d(mid_channels, mid_channels, kernel_size=3, stride=1, padding=1, bias=False),\n",
        "            nn.BatchNorm2d(mid_channels),\n",
        "        )\n",
        "\n",
        "\n",
        "    def forward(self, x):\n",
        "        x= self.basic_block(x)\n",
        "\n",
        "        return x\n"
      ],
      "metadata": {
        "id": "WsqjIJDr0neV"
      },
      "execution_count": 6,
      "outputs": []
    },
    {
      "cell_type": "markdown",
      "source": [
        "# Identity vs Downsample mapping\n",
        "\n",
        "Skip connections, which are housed in residual blocks, allow you to take the activation value from an earlier layer and pass it to a deeper layer in a network. Skip connections enable deep networks to learn the identity function. Learning the identity function allows a deeper layer to perform as well as an earlier layer, or at the very least it won't perform any worse. The result is smoother gradient flow, ensuring important features are preserved in the training process.\n",
        "\n",
        "If **x** and the feature map size (including the number of channels) are the same, **x** can add to the feature map directly. If **x** and the feature map do not match, we apply downsample mapping (aka shortcut connection) using 1x1 convolutions where **x** and the feature map are projected to the required dimensions.\n",
        "\n",
        "Increasing the number of filters in the ResidualBlock by a factor of 2 also comes with reducing the feature map dimensions to half. Decreasing the feature map dimensions occurs with stride=2 instead of maxpool in conv3x3 of the ResidualBlock."
      ],
      "metadata": {
        "id": "lRJEx4UQ1Ksc"
      }
    },
    {
      "cell_type": "code",
      "source": [
        "class ResidualBlock(nn.Module):\n",
        "    \"\"\"\n",
        "    Creates a residual layer for ResNet.\n",
        "    \"\"\"\n",
        "\n",
        "    def __init__(self, in_channels, mid_channels, expansion=4, is_bottleneck=True, stride=1,\n",
        "                 activation=None, dropout=0.1) -> None:\n",
        "        super(ResidualBlock, self).__init__()\n",
        "        # is_bottleneck=True for all ResNet-50+\n",
        "        if is_bottleneck:\n",
        "            self.block= BottleneckBlock(in_channels, mid_channels, expansion, stride, activation)\n",
        "        else:\n",
        "            self.block= BasicBlock(in_channels, mid_channels, stride, activation)\n",
        "        # dropout layer for regularization\n",
        "        self.dropout= nn.Dropout2d(p=dropout) if dropout> 0.0 else None\n",
        "        # if dim(x)== dim(F) -> Identity function\n",
        "        if in_channels== mid_channels * expansion:\n",
        "            self.identity= True\n",
        "        else:\n",
        "            self.identity= False\n",
        "            self.downsample= nn.Sequential(\n",
        "                # only conv -> BN and no activation (aka shortcut connection)\n",
        "                nn.Conv2d(\n",
        "                    in_channels, mid_channels*expansion,\n",
        "                    kernel_size=1, stride=stride, padding=0, bias=False\n",
        "                ),\n",
        "                nn.BatchNorm2d(mid_channels*expansion),\n",
        "            )\n",
        "        # define the activation function -- ReLU is default in the original ResNet\n",
        "        self.activation= nn.GELU() if activation is None else activation\n",
        "\n",
        "\n",
        "    def forward(self, x):\n",
        "        out= self.block(x)\n",
        "        if self.dropout is not None:\n",
        "            out= self.dropout(out)\n",
        "        # skip connection -- identity or projected map\n",
        "        if self.identity:\n",
        "            x= x + out\n",
        "        else:\n",
        "            x= self.downsample(x) + out\n",
        "\n",
        "        return self.activation(x)\n"
      ],
      "metadata": {
        "id": "K47_Z3wM1s25"
      },
      "execution_count": 7,
      "outputs": []
    },
    {
      "cell_type": "markdown",
      "source": [
        "Instead of the previous layers output being passed directly onto the next block, a copy of that output is made, then that copy is passed through a residual block. This residual block will process the copied output matrix, **x** — with a 3x3 convolution, followed by BatchNorm and activation to yield a matrix **out**.\n",
        "\n",
        "Then, **x** and **out** would be added together, element by element, to yield the output to the next layer/block. Doing this helps us ensure that any added layers in a neural network are useful for learning."
      ],
      "metadata": {
        "id": "KjuAERGldn1_"
      }
    },
    {
      "cell_type": "code",
      "source": [
        "img= torch.randn(1, 64, 112, 112).to(device)\n",
        "model= ResidualBlock(64, 64, 4, True, 2).to(device)\n",
        "count_parameters(model)\n",
        "print(model(img).shape)"
      ],
      "metadata": {
        "colab": {
          "base_uri": "https://localhost:8080/"
        },
        "id": "L6o4hhvTFCLJ",
        "outputId": "8276277a-71ec-488d-c1c5-26582164a511"
      },
      "execution_count": 8,
      "outputs": [
        {
          "output_type": "stream",
          "name": "stdout",
          "text": [
            "Number of parameters: 75008\n",
            "torch.Size([1, 256, 56, 56])\n"
          ]
        }
      ]
    },
    {
      "cell_type": "markdown",
      "source": [
        "# Building the ResNet\n",
        "\n",
        "The input RGB image is passed through a 7x7 Conv2d with stride=2, number of filters=64, and padding=3, followed by max pooling to reduce the feature map size by half. In the remaining architecture, only 3x3 filters are used with stride=2 in cases of reducing feature map size. Max pooling is not used.\n",
        "\n",
        "According to the ResNet variant, create 4 Sequential ResidualBlocks, either BottleneckBlocks or BasicBlocks. All the four blocks have feature map size reduction using stride=2 except for block 1, where stride=1. This exception is because the 56x56 input remains the same throughout block 1.\n",
        "\n",
        "After the four blocks, Average Pooling reduces the feature map to 1x1, followed by a Fully Connected Layer connecting the flattened feature map with the output classes."
      ],
      "metadata": {
        "id": "uhru6tIzeSOg"
      }
    },
    {
      "cell_type": "code",
      "source": [
        "class ResNet(nn.Module):\n",
        "    \"\"\"\n",
        "    Initializes the ResNet architecture based on the provided variant.\n",
        "    \"\"\"\n",
        "\n",
        "    def __init__(self, resnet_type, in_channels, num_classes, activation=None, dropout=0.1) -> None:\n",
        "        super(ResNet, self).__init__()\n",
        "        # define the channels and repeatition lists along with expansion factor and stride\n",
        "        channels= resnet_type[0]\n",
        "        repetitions= resnet_type[1]\n",
        "        expansion= resnet_type[2]\n",
        "        is_bottleneck= resnet_type[3]\n",
        "        # define the activation function -- ReLU is default in the original ResNet\n",
        "        activation= nn.GELU() if activation is None else activation\n",
        "\n",
        "        self.conv_in= nn.Sequential(\n",
        "            nn.Conv2d(in_channels, out_channels=64, kernel_size=7, stride=2, padding=3, bias=False),\n",
        "            nn.BatchNorm2d(64),\n",
        "            activation,\n",
        "            nn.MaxPool2d(kernel_size=3, stride=2, padding=1),\n",
        "        )\n",
        "        self.block1= self.residual_stack(\n",
        "            64, channels[0], repetitions[0], expansion, is_bottleneck, stride=1,\n",
        "            activation=activation, dropout=dropout\n",
        "        )\n",
        "        self.block2= self.residual_stack(\n",
        "            channels[0]*expansion, channels[1], repetitions[1], expansion, is_bottleneck, stride=2,\n",
        "            activation=activation, dropout=dropout\n",
        "        )\n",
        "        self.block3= self.residual_stack(\n",
        "            channels[1]*expansion, channels[2], repetitions[2], expansion, is_bottleneck, stride=2,\n",
        "            activation=activation, dropout=dropout\n",
        "        )\n",
        "        self.block4= self.residual_stack(\n",
        "            channels[2]*expansion, channels[3], repetitions[3], expansion, is_bottleneck, stride=2,\n",
        "            activation=activation, dropout=dropout\n",
        "        )\n",
        "        self.average_pool= nn.AdaptiveAvgPool2d(output_size=(1, 1))\n",
        "        self.fc_out= nn.Linear(channels[3]*expansion, num_classes)\n",
        "\n",
        "        # initialize parameters -- Xavier is more suitable for GELU\n",
        "        for m in self.modules():\n",
        "            if isinstance(m, nn.Conv2d) or isinstance(m, nn.Linear):\n",
        "                nn.init.xavier_uniform_(m.weight)\n",
        "                if m.bias is not None: nn.init.zeros_(m.bias)\n",
        "            elif isinstance(m, nn.BatchNorm2d):\n",
        "                nn.init.constant_(m.weight, 1.0)\n",
        "                nn.init.constant_(m.bias, 0.0)\n",
        "\n",
        "\n",
        "    def residual_stack(\n",
        "        self, in_channels, mid_channels, repetitions, expansion, is_bottleneck, stride,\n",
        "        activation, dropout\n",
        "    ):\n",
        "        \"\"\"\n",
        "        Create a sequential stack of residual blocks.\n",
        "        \"\"\"\n",
        "        layers= nn.Sequential(\n",
        "            ResidualBlock(\n",
        "                in_channels, mid_channels, expansion, is_bottleneck, stride, activation, dropout\n",
        "            ),\n",
        "            *[ResidualBlock(\n",
        "                mid_channels*expansion, mid_channels, expansion, is_bottleneck, stride=1,\n",
        "                activation=activation, dropout=dropout\n",
        "            ) for _ in range(1, repetitions)],\n",
        "        )\n",
        "        return layers\n",
        "\n",
        "\n",
        "    def forward(self, x):\n",
        "        x= self.conv_in(x)\n",
        "        x= self.block1(x)\n",
        "        x= self.block2(x)\n",
        "        x= self.block3(x)\n",
        "        x= self.block4(x)\n",
        "        x= torch.flatten(self.average_pool(x), start_dim=1)\n",
        "\n",
        "        # softmax (if needed) is applied externally\n",
        "        return self.fc_out(x)\n"
      ],
      "metadata": {
        "id": "o6z_oBsfFCN6"
      },
      "execution_count": 9,
      "outputs": []
    },
    {
      "cell_type": "markdown",
      "source": [
        "**ResNet with GELU Recommendation:** Use nn.init.xavier_uniform_. Uniform initialization often provides more stable training in practice, especially for networks with batch normalization like ResNet. Uniform initialization avoids rare large values that may occur with normal initialization and provides consistent variance across layers."
      ],
      "metadata": {
        "id": "DHDNsGx7Hv9j"
      }
    },
    {
      "cell_type": "code",
      "source": [
        "img= torch.randn(1, 3, 224, 224).to(device)\n",
        "model= ResNet(model_hparameters['resnet50'], in_channels=3, num_classes=1000, dropout=0.1).to(device)\n",
        "count_parameters(model)\n",
        "print(model(img).shape)\n",
        "\n",
        "model"
      ],
      "metadata": {
        "id": "crtMCTXdFCQz",
        "colab": {
          "base_uri": "https://localhost:8080/"
        },
        "outputId": "258cae84-4a15-4f8e-b5dd-8ea52c4ed1c2"
      },
      "execution_count": 10,
      "outputs": [
        {
          "output_type": "stream",
          "name": "stdout",
          "text": [
            "Number of parameters: 25557032\n",
            "torch.Size([1, 1000])\n"
          ]
        },
        {
          "output_type": "execute_result",
          "data": {
            "text/plain": [
              "ResNet(\n",
              "  (conv_in): Sequential(\n",
              "    (0): Conv2d(3, 64, kernel_size=(7, 7), stride=(2, 2), padding=(3, 3), bias=False)\n",
              "    (1): BatchNorm2d(64, eps=1e-05, momentum=0.1, affine=True, track_running_stats=True)\n",
              "    (2): GELU(approximate='none')\n",
              "    (3): MaxPool2d(kernel_size=3, stride=2, padding=1, dilation=1, ceil_mode=False)\n",
              "  )\n",
              "  (block1): Sequential(\n",
              "    (0): ResidualBlock(\n",
              "      (block): BottleneckBlock(\n",
              "        (bottleneck): Sequential(\n",
              "          (0): Conv2d(64, 64, kernel_size=(1, 1), stride=(1, 1), bias=False)\n",
              "          (1): BatchNorm2d(64, eps=1e-05, momentum=0.1, affine=True, track_running_stats=True)\n",
              "          (2): GELU(approximate='none')\n",
              "          (3): Conv2d(64, 64, kernel_size=(3, 3), stride=(1, 1), padding=(1, 1), bias=False)\n",
              "          (4): BatchNorm2d(64, eps=1e-05, momentum=0.1, affine=True, track_running_stats=True)\n",
              "          (5): GELU(approximate='none')\n",
              "          (6): Conv2d(64, 256, kernel_size=(1, 1), stride=(1, 1), bias=False)\n",
              "          (7): BatchNorm2d(256, eps=1e-05, momentum=0.1, affine=True, track_running_stats=True)\n",
              "        )\n",
              "      )\n",
              "      (dropout): Dropout2d(p=0.1, inplace=False)\n",
              "      (downsample): Sequential(\n",
              "        (0): Conv2d(64, 256, kernel_size=(1, 1), stride=(1, 1), bias=False)\n",
              "        (1): BatchNorm2d(256, eps=1e-05, momentum=0.1, affine=True, track_running_stats=True)\n",
              "      )\n",
              "      (activation): GELU(approximate='none')\n",
              "    )\n",
              "    (1): ResidualBlock(\n",
              "      (block): BottleneckBlock(\n",
              "        (bottleneck): Sequential(\n",
              "          (0): Conv2d(256, 64, kernel_size=(1, 1), stride=(1, 1), bias=False)\n",
              "          (1): BatchNorm2d(64, eps=1e-05, momentum=0.1, affine=True, track_running_stats=True)\n",
              "          (2): GELU(approximate='none')\n",
              "          (3): Conv2d(64, 64, kernel_size=(3, 3), stride=(1, 1), padding=(1, 1), bias=False)\n",
              "          (4): BatchNorm2d(64, eps=1e-05, momentum=0.1, affine=True, track_running_stats=True)\n",
              "          (5): GELU(approximate='none')\n",
              "          (6): Conv2d(64, 256, kernel_size=(1, 1), stride=(1, 1), bias=False)\n",
              "          (7): BatchNorm2d(256, eps=1e-05, momentum=0.1, affine=True, track_running_stats=True)\n",
              "        )\n",
              "      )\n",
              "      (dropout): Dropout2d(p=0.1, inplace=False)\n",
              "      (activation): GELU(approximate='none')\n",
              "    )\n",
              "    (2): ResidualBlock(\n",
              "      (block): BottleneckBlock(\n",
              "        (bottleneck): Sequential(\n",
              "          (0): Conv2d(256, 64, kernel_size=(1, 1), stride=(1, 1), bias=False)\n",
              "          (1): BatchNorm2d(64, eps=1e-05, momentum=0.1, affine=True, track_running_stats=True)\n",
              "          (2): GELU(approximate='none')\n",
              "          (3): Conv2d(64, 64, kernel_size=(3, 3), stride=(1, 1), padding=(1, 1), bias=False)\n",
              "          (4): BatchNorm2d(64, eps=1e-05, momentum=0.1, affine=True, track_running_stats=True)\n",
              "          (5): GELU(approximate='none')\n",
              "          (6): Conv2d(64, 256, kernel_size=(1, 1), stride=(1, 1), bias=False)\n",
              "          (7): BatchNorm2d(256, eps=1e-05, momentum=0.1, affine=True, track_running_stats=True)\n",
              "        )\n",
              "      )\n",
              "      (dropout): Dropout2d(p=0.1, inplace=False)\n",
              "      (activation): GELU(approximate='none')\n",
              "    )\n",
              "  )\n",
              "  (block2): Sequential(\n",
              "    (0): ResidualBlock(\n",
              "      (block): BottleneckBlock(\n",
              "        (bottleneck): Sequential(\n",
              "          (0): Conv2d(256, 128, kernel_size=(1, 1), stride=(1, 1), bias=False)\n",
              "          (1): BatchNorm2d(128, eps=1e-05, momentum=0.1, affine=True, track_running_stats=True)\n",
              "          (2): GELU(approximate='none')\n",
              "          (3): Conv2d(128, 128, kernel_size=(3, 3), stride=(2, 2), padding=(1, 1), bias=False)\n",
              "          (4): BatchNorm2d(128, eps=1e-05, momentum=0.1, affine=True, track_running_stats=True)\n",
              "          (5): GELU(approximate='none')\n",
              "          (6): Conv2d(128, 512, kernel_size=(1, 1), stride=(1, 1), bias=False)\n",
              "          (7): BatchNorm2d(512, eps=1e-05, momentum=0.1, affine=True, track_running_stats=True)\n",
              "        )\n",
              "      )\n",
              "      (dropout): Dropout2d(p=0.1, inplace=False)\n",
              "      (downsample): Sequential(\n",
              "        (0): Conv2d(256, 512, kernel_size=(1, 1), stride=(2, 2), bias=False)\n",
              "        (1): BatchNorm2d(512, eps=1e-05, momentum=0.1, affine=True, track_running_stats=True)\n",
              "      )\n",
              "      (activation): GELU(approximate='none')\n",
              "    )\n",
              "    (1): ResidualBlock(\n",
              "      (block): BottleneckBlock(\n",
              "        (bottleneck): Sequential(\n",
              "          (0): Conv2d(512, 128, kernel_size=(1, 1), stride=(1, 1), bias=False)\n",
              "          (1): BatchNorm2d(128, eps=1e-05, momentum=0.1, affine=True, track_running_stats=True)\n",
              "          (2): GELU(approximate='none')\n",
              "          (3): Conv2d(128, 128, kernel_size=(3, 3), stride=(1, 1), padding=(1, 1), bias=False)\n",
              "          (4): BatchNorm2d(128, eps=1e-05, momentum=0.1, affine=True, track_running_stats=True)\n",
              "          (5): GELU(approximate='none')\n",
              "          (6): Conv2d(128, 512, kernel_size=(1, 1), stride=(1, 1), bias=False)\n",
              "          (7): BatchNorm2d(512, eps=1e-05, momentum=0.1, affine=True, track_running_stats=True)\n",
              "        )\n",
              "      )\n",
              "      (dropout): Dropout2d(p=0.1, inplace=False)\n",
              "      (activation): GELU(approximate='none')\n",
              "    )\n",
              "    (2): ResidualBlock(\n",
              "      (block): BottleneckBlock(\n",
              "        (bottleneck): Sequential(\n",
              "          (0): Conv2d(512, 128, kernel_size=(1, 1), stride=(1, 1), bias=False)\n",
              "          (1): BatchNorm2d(128, eps=1e-05, momentum=0.1, affine=True, track_running_stats=True)\n",
              "          (2): GELU(approximate='none')\n",
              "          (3): Conv2d(128, 128, kernel_size=(3, 3), stride=(1, 1), padding=(1, 1), bias=False)\n",
              "          (4): BatchNorm2d(128, eps=1e-05, momentum=0.1, affine=True, track_running_stats=True)\n",
              "          (5): GELU(approximate='none')\n",
              "          (6): Conv2d(128, 512, kernel_size=(1, 1), stride=(1, 1), bias=False)\n",
              "          (7): BatchNorm2d(512, eps=1e-05, momentum=0.1, affine=True, track_running_stats=True)\n",
              "        )\n",
              "      )\n",
              "      (dropout): Dropout2d(p=0.1, inplace=False)\n",
              "      (activation): GELU(approximate='none')\n",
              "    )\n",
              "    (3): ResidualBlock(\n",
              "      (block): BottleneckBlock(\n",
              "        (bottleneck): Sequential(\n",
              "          (0): Conv2d(512, 128, kernel_size=(1, 1), stride=(1, 1), bias=False)\n",
              "          (1): BatchNorm2d(128, eps=1e-05, momentum=0.1, affine=True, track_running_stats=True)\n",
              "          (2): GELU(approximate='none')\n",
              "          (3): Conv2d(128, 128, kernel_size=(3, 3), stride=(1, 1), padding=(1, 1), bias=False)\n",
              "          (4): BatchNorm2d(128, eps=1e-05, momentum=0.1, affine=True, track_running_stats=True)\n",
              "          (5): GELU(approximate='none')\n",
              "          (6): Conv2d(128, 512, kernel_size=(1, 1), stride=(1, 1), bias=False)\n",
              "          (7): BatchNorm2d(512, eps=1e-05, momentum=0.1, affine=True, track_running_stats=True)\n",
              "        )\n",
              "      )\n",
              "      (dropout): Dropout2d(p=0.1, inplace=False)\n",
              "      (activation): GELU(approximate='none')\n",
              "    )\n",
              "  )\n",
              "  (block3): Sequential(\n",
              "    (0): ResidualBlock(\n",
              "      (block): BottleneckBlock(\n",
              "        (bottleneck): Sequential(\n",
              "          (0): Conv2d(512, 256, kernel_size=(1, 1), stride=(1, 1), bias=False)\n",
              "          (1): BatchNorm2d(256, eps=1e-05, momentum=0.1, affine=True, track_running_stats=True)\n",
              "          (2): GELU(approximate='none')\n",
              "          (3): Conv2d(256, 256, kernel_size=(3, 3), stride=(2, 2), padding=(1, 1), bias=False)\n",
              "          (4): BatchNorm2d(256, eps=1e-05, momentum=0.1, affine=True, track_running_stats=True)\n",
              "          (5): GELU(approximate='none')\n",
              "          (6): Conv2d(256, 1024, kernel_size=(1, 1), stride=(1, 1), bias=False)\n",
              "          (7): BatchNorm2d(1024, eps=1e-05, momentum=0.1, affine=True, track_running_stats=True)\n",
              "        )\n",
              "      )\n",
              "      (dropout): Dropout2d(p=0.1, inplace=False)\n",
              "      (downsample): Sequential(\n",
              "        (0): Conv2d(512, 1024, kernel_size=(1, 1), stride=(2, 2), bias=False)\n",
              "        (1): BatchNorm2d(1024, eps=1e-05, momentum=0.1, affine=True, track_running_stats=True)\n",
              "      )\n",
              "      (activation): GELU(approximate='none')\n",
              "    )\n",
              "    (1): ResidualBlock(\n",
              "      (block): BottleneckBlock(\n",
              "        (bottleneck): Sequential(\n",
              "          (0): Conv2d(1024, 256, kernel_size=(1, 1), stride=(1, 1), bias=False)\n",
              "          (1): BatchNorm2d(256, eps=1e-05, momentum=0.1, affine=True, track_running_stats=True)\n",
              "          (2): GELU(approximate='none')\n",
              "          (3): Conv2d(256, 256, kernel_size=(3, 3), stride=(1, 1), padding=(1, 1), bias=False)\n",
              "          (4): BatchNorm2d(256, eps=1e-05, momentum=0.1, affine=True, track_running_stats=True)\n",
              "          (5): GELU(approximate='none')\n",
              "          (6): Conv2d(256, 1024, kernel_size=(1, 1), stride=(1, 1), bias=False)\n",
              "          (7): BatchNorm2d(1024, eps=1e-05, momentum=0.1, affine=True, track_running_stats=True)\n",
              "        )\n",
              "      )\n",
              "      (dropout): Dropout2d(p=0.1, inplace=False)\n",
              "      (activation): GELU(approximate='none')\n",
              "    )\n",
              "    (2): ResidualBlock(\n",
              "      (block): BottleneckBlock(\n",
              "        (bottleneck): Sequential(\n",
              "          (0): Conv2d(1024, 256, kernel_size=(1, 1), stride=(1, 1), bias=False)\n",
              "          (1): BatchNorm2d(256, eps=1e-05, momentum=0.1, affine=True, track_running_stats=True)\n",
              "          (2): GELU(approximate='none')\n",
              "          (3): Conv2d(256, 256, kernel_size=(3, 3), stride=(1, 1), padding=(1, 1), bias=False)\n",
              "          (4): BatchNorm2d(256, eps=1e-05, momentum=0.1, affine=True, track_running_stats=True)\n",
              "          (5): GELU(approximate='none')\n",
              "          (6): Conv2d(256, 1024, kernel_size=(1, 1), stride=(1, 1), bias=False)\n",
              "          (7): BatchNorm2d(1024, eps=1e-05, momentum=0.1, affine=True, track_running_stats=True)\n",
              "        )\n",
              "      )\n",
              "      (dropout): Dropout2d(p=0.1, inplace=False)\n",
              "      (activation): GELU(approximate='none')\n",
              "    )\n",
              "    (3): ResidualBlock(\n",
              "      (block): BottleneckBlock(\n",
              "        (bottleneck): Sequential(\n",
              "          (0): Conv2d(1024, 256, kernel_size=(1, 1), stride=(1, 1), bias=False)\n",
              "          (1): BatchNorm2d(256, eps=1e-05, momentum=0.1, affine=True, track_running_stats=True)\n",
              "          (2): GELU(approximate='none')\n",
              "          (3): Conv2d(256, 256, kernel_size=(3, 3), stride=(1, 1), padding=(1, 1), bias=False)\n",
              "          (4): BatchNorm2d(256, eps=1e-05, momentum=0.1, affine=True, track_running_stats=True)\n",
              "          (5): GELU(approximate='none')\n",
              "          (6): Conv2d(256, 1024, kernel_size=(1, 1), stride=(1, 1), bias=False)\n",
              "          (7): BatchNorm2d(1024, eps=1e-05, momentum=0.1, affine=True, track_running_stats=True)\n",
              "        )\n",
              "      )\n",
              "      (dropout): Dropout2d(p=0.1, inplace=False)\n",
              "      (activation): GELU(approximate='none')\n",
              "    )\n",
              "    (4): ResidualBlock(\n",
              "      (block): BottleneckBlock(\n",
              "        (bottleneck): Sequential(\n",
              "          (0): Conv2d(1024, 256, kernel_size=(1, 1), stride=(1, 1), bias=False)\n",
              "          (1): BatchNorm2d(256, eps=1e-05, momentum=0.1, affine=True, track_running_stats=True)\n",
              "          (2): GELU(approximate='none')\n",
              "          (3): Conv2d(256, 256, kernel_size=(3, 3), stride=(1, 1), padding=(1, 1), bias=False)\n",
              "          (4): BatchNorm2d(256, eps=1e-05, momentum=0.1, affine=True, track_running_stats=True)\n",
              "          (5): GELU(approximate='none')\n",
              "          (6): Conv2d(256, 1024, kernel_size=(1, 1), stride=(1, 1), bias=False)\n",
              "          (7): BatchNorm2d(1024, eps=1e-05, momentum=0.1, affine=True, track_running_stats=True)\n",
              "        )\n",
              "      )\n",
              "      (dropout): Dropout2d(p=0.1, inplace=False)\n",
              "      (activation): GELU(approximate='none')\n",
              "    )\n",
              "    (5): ResidualBlock(\n",
              "      (block): BottleneckBlock(\n",
              "        (bottleneck): Sequential(\n",
              "          (0): Conv2d(1024, 256, kernel_size=(1, 1), stride=(1, 1), bias=False)\n",
              "          (1): BatchNorm2d(256, eps=1e-05, momentum=0.1, affine=True, track_running_stats=True)\n",
              "          (2): GELU(approximate='none')\n",
              "          (3): Conv2d(256, 256, kernel_size=(3, 3), stride=(1, 1), padding=(1, 1), bias=False)\n",
              "          (4): BatchNorm2d(256, eps=1e-05, momentum=0.1, affine=True, track_running_stats=True)\n",
              "          (5): GELU(approximate='none')\n",
              "          (6): Conv2d(256, 1024, kernel_size=(1, 1), stride=(1, 1), bias=False)\n",
              "          (7): BatchNorm2d(1024, eps=1e-05, momentum=0.1, affine=True, track_running_stats=True)\n",
              "        )\n",
              "      )\n",
              "      (dropout): Dropout2d(p=0.1, inplace=False)\n",
              "      (activation): GELU(approximate='none')\n",
              "    )\n",
              "  )\n",
              "  (block4): Sequential(\n",
              "    (0): ResidualBlock(\n",
              "      (block): BottleneckBlock(\n",
              "        (bottleneck): Sequential(\n",
              "          (0): Conv2d(1024, 512, kernel_size=(1, 1), stride=(1, 1), bias=False)\n",
              "          (1): BatchNorm2d(512, eps=1e-05, momentum=0.1, affine=True, track_running_stats=True)\n",
              "          (2): GELU(approximate='none')\n",
              "          (3): Conv2d(512, 512, kernel_size=(3, 3), stride=(2, 2), padding=(1, 1), bias=False)\n",
              "          (4): BatchNorm2d(512, eps=1e-05, momentum=0.1, affine=True, track_running_stats=True)\n",
              "          (5): GELU(approximate='none')\n",
              "          (6): Conv2d(512, 2048, kernel_size=(1, 1), stride=(1, 1), bias=False)\n",
              "          (7): BatchNorm2d(2048, eps=1e-05, momentum=0.1, affine=True, track_running_stats=True)\n",
              "        )\n",
              "      )\n",
              "      (dropout): Dropout2d(p=0.1, inplace=False)\n",
              "      (downsample): Sequential(\n",
              "        (0): Conv2d(1024, 2048, kernel_size=(1, 1), stride=(2, 2), bias=False)\n",
              "        (1): BatchNorm2d(2048, eps=1e-05, momentum=0.1, affine=True, track_running_stats=True)\n",
              "      )\n",
              "      (activation): GELU(approximate='none')\n",
              "    )\n",
              "    (1): ResidualBlock(\n",
              "      (block): BottleneckBlock(\n",
              "        (bottleneck): Sequential(\n",
              "          (0): Conv2d(2048, 512, kernel_size=(1, 1), stride=(1, 1), bias=False)\n",
              "          (1): BatchNorm2d(512, eps=1e-05, momentum=0.1, affine=True, track_running_stats=True)\n",
              "          (2): GELU(approximate='none')\n",
              "          (3): Conv2d(512, 512, kernel_size=(3, 3), stride=(1, 1), padding=(1, 1), bias=False)\n",
              "          (4): BatchNorm2d(512, eps=1e-05, momentum=0.1, affine=True, track_running_stats=True)\n",
              "          (5): GELU(approximate='none')\n",
              "          (6): Conv2d(512, 2048, kernel_size=(1, 1), stride=(1, 1), bias=False)\n",
              "          (7): BatchNorm2d(2048, eps=1e-05, momentum=0.1, affine=True, track_running_stats=True)\n",
              "        )\n",
              "      )\n",
              "      (dropout): Dropout2d(p=0.1, inplace=False)\n",
              "      (activation): GELU(approximate='none')\n",
              "    )\n",
              "    (2): ResidualBlock(\n",
              "      (block): BottleneckBlock(\n",
              "        (bottleneck): Sequential(\n",
              "          (0): Conv2d(2048, 512, kernel_size=(1, 1), stride=(1, 1), bias=False)\n",
              "          (1): BatchNorm2d(512, eps=1e-05, momentum=0.1, affine=True, track_running_stats=True)\n",
              "          (2): GELU(approximate='none')\n",
              "          (3): Conv2d(512, 512, kernel_size=(3, 3), stride=(1, 1), padding=(1, 1), bias=False)\n",
              "          (4): BatchNorm2d(512, eps=1e-05, momentum=0.1, affine=True, track_running_stats=True)\n",
              "          (5): GELU(approximate='none')\n",
              "          (6): Conv2d(512, 2048, kernel_size=(1, 1), stride=(1, 1), bias=False)\n",
              "          (7): BatchNorm2d(2048, eps=1e-05, momentum=0.1, affine=True, track_running_stats=True)\n",
              "        )\n",
              "      )\n",
              "      (dropout): Dropout2d(p=0.1, inplace=False)\n",
              "      (activation): GELU(approximate='none')\n",
              "    )\n",
              "  )\n",
              "  (average_pool): AdaptiveAvgPool2d(output_size=(1, 1))\n",
              "  (fc_out): Linear(in_features=2048, out_features=1000, bias=True)\n",
              ")"
            ]
          },
          "metadata": {},
          "execution_count": 10
        }
      ]
    },
    {
      "cell_type": "code",
      "source": [
        "import torchvision.models as models\n",
        "from torchvision.models import ResNet50_Weights\n",
        "\n",
        "tvis_model= models.resnet50(weights=ResNet50_Weights.IMAGENET1K_V1).to(device)\n",
        "count_parameters(tvis_model)\n",
        "img= torch.randn(1, 3, 224, 224).to(device)\n",
        "print(tvis_model(img).shape)"
      ],
      "metadata": {
        "id": "e987wP0AFCag",
        "colab": {
          "base_uri": "https://localhost:8080/"
        },
        "outputId": "ef344a47-3d6d-43f4-9864-5310a7aa9c6a"
      },
      "execution_count": null,
      "outputs": [
        {
          "output_type": "stream",
          "name": "stderr",
          "text": [
            "Downloading: \"https://download.pytorch.org/models/resnet50-0676ba61.pth\" to /root/.cache/torch/hub/checkpoints/resnet50-0676ba61.pth\n",
            "100%|██████████| 97.8M/97.8M [00:00<00:00, 143MB/s]\n"
          ]
        },
        {
          "output_type": "stream",
          "name": "stdout",
          "text": [
            "Number of parameters: 25557032\n",
            "torch.Size([1, 1000])\n"
          ]
        }
      ]
    },
    {
      "cell_type": "markdown",
      "source": [
        "# Training the ResNet model from scratch"
      ],
      "metadata": {
        "id": "Gczu4NsrMHtL"
      }
    },
    {
      "cell_type": "code",
      "source": [
        "from torch.utils.data import DataLoader, random_split\n",
        "from torchvision import datasets, transforms"
      ],
      "metadata": {
        "id": "uPMWaTEMFCeB"
      },
      "execution_count": null,
      "outputs": []
    },
    {
      "cell_type": "code",
      "source": [
        "# data preparation -- define transformations for the dataset\n",
        "transform= transforms.Compose([\n",
        "    transforms.Resize((224, 224)),\n",
        "    transforms.RandomHorizontalFlip(),\n",
        "    transforms.ToTensor(),\n",
        "    transforms.Normalize(mean=[0.4914, 0.4822, 0.4465], std=[0.2023, 0.1994, 0.2010]), # CIFAR-10 stats\n",
        "])\n",
        "\n",
        "# load the CIFAR-10 dataset\n",
        "train_dataset= datasets.CIFAR10(root='./data', train=True, download=True, transform=transform)\n",
        "test_dataset = datasets.CIFAR10(root='./data', train=False,download=True, transform=transform)\n",
        "\n",
        "# create data loaders\n",
        "train_size= int(0.9 * len(train_dataset))\n",
        "val_size  = len(train_dataset) - train_size\n",
        "train_dataset, val_dataset= random_split(train_dataset, [train_size, val_size])\n",
        "\n",
        "batch_size= 128\n",
        "train_loader= DataLoader(train_dataset,batch_size=batch_size, shuffle=True)\n",
        "val_loader  = DataLoader(val_dataset,  batch_size=batch_size, shuffle=False)\n",
        "test_loader = DataLoader(test_dataset, batch_size=batch_size, shuffle=False)"
      ],
      "metadata": {
        "colab": {
          "base_uri": "https://localhost:8080/"
        },
        "id": "rNpAGo2oRBsV",
        "outputId": "f0b64140-ff32-4a39-a335-7d96a03c5c0f"
      },
      "execution_count": null,
      "outputs": [
        {
          "output_type": "stream",
          "name": "stdout",
          "text": [
            "Downloading https://www.cs.toronto.edu/~kriz/cifar-10-python.tar.gz to ./data/cifar-10-python.tar.gz\n"
          ]
        },
        {
          "output_type": "stream",
          "name": "stderr",
          "text": [
            "100%|██████████| 170M/170M [00:01<00:00, 104MB/s]\n"
          ]
        },
        {
          "output_type": "stream",
          "name": "stdout",
          "text": [
            "Extracting ./data/cifar-10-python.tar.gz to ./data\n",
            "Files already downloaded and verified\n"
          ]
        }
      ]
    },
    {
      "cell_type": "code",
      "source": [
        "len(train_loader), len(val_loader)"
      ],
      "metadata": {
        "colab": {
          "base_uri": "https://localhost:8080/"
        },
        "id": "6lHNeKmxRvKB",
        "outputId": "9010fd31-5bd1-4cbc-9885-740a23046977"
      },
      "execution_count": null,
      "outputs": [
        {
          "output_type": "execute_result",
          "data": {
            "text/plain": [
              "(352, 40)"
            ]
          },
          "metadata": {},
          "execution_count": 11
        }
      ]
    },
    {
      "cell_type": "markdown",
      "source": [
        "# Trainer Function\n",
        "\n",
        "TODO:\n",
        "- Data augmentation for training.\n",
        "- Logging Learning Rate.\n",
        "- Early Stopping: based on validation loss to prevent overfitting."
      ],
      "metadata": {
        "id": "ixLNlWLqNAQz"
      }
    },
    {
      "cell_type": "code",
      "source": [
        "def trainer(model, train_loader, val_loader, optimizer, criterion, scheduler, epochs,\n",
        "            device, eval_interval=1, verbose=False):\n",
        "\n",
        "    tr_loss_hist= []\n",
        "    vl_loss_hist= []\n",
        "\n",
        "    # --- training loop ---\n",
        "    for epoch in range(epochs):\n",
        "        model.train()\n",
        "        batch_loss= []\n",
        "        start= time.time()\n",
        "\n",
        "        # --- training steps ---\n",
        "        # iterating over all batches\n",
        "        for step, (images, labels) in enumerate(train_loader):\n",
        "            # --- minibatch construction ---\n",
        "            images= images.to(device, non_blocking=True)\n",
        "            labels= labels.to(device, non_blocking=True)\n",
        "\n",
        "            # --- forward pass and get loss ---\n",
        "            logits= model(images)\n",
        "            loss= criterion(logits, labels)\n",
        "            batch_loss.append(loss.item())\n",
        "\n",
        "            # --- backward pass to calculate the gradients ---\n",
        "            optimizer.zero_grad()\n",
        "            loss.backward()\n",
        "\n",
        "            # --- update the parameters using the gradient ---\n",
        "            optimizer.step()\n",
        "\n",
        "        # --- evaluation and track stats ---\n",
        "        tr_loss_hist.append(np.mean(batch_loss))\n",
        "\n",
        "        if epoch% eval_interval== 0 or epoch== epochs-1:\n",
        "            model.eval()\n",
        "            val_loss= []\n",
        "            with torch.no_grad():\n",
        "                for images, labels in val_loader:\n",
        "                    images, labels= images.to(device), labels.to(device)\n",
        "                    logits= model(images)\n",
        "                    loss_v= criterion(logits, labels)\n",
        "                    val_loss.append(loss_v.item())\n",
        "\n",
        "            val_loss= np.mean(val_loss)\n",
        "            end= time.time()\n",
        "            dt= end - start\n",
        "\n",
        "            if verbose:\n",
        "                print(f\"Epoch: {epoch} | Train Loss: {tr_loss_hist[-1]:.4f} | \"\n",
        "                      f\"Val Loss: {val_loss:.4f} | dt/epoch: {dt*1000:.2f}ms\")\n",
        "\n",
        "            # for decreasing learning rate -- the ReduceLROnPlateau is designed to be used per epoch\n",
        "            scheduler.step(val_loss)\n",
        "\n",
        "        vl_loss_hist.append(val_loss)\n",
        "\n",
        "    return tr_loss_hist, vl_loss_hist\n"
      ],
      "metadata": {
        "id": "IzvJS9_io1-C"
      },
      "execution_count": null,
      "outputs": []
    },
    {
      "cell_type": "code",
      "source": [
        "def evaluate_model(model, test_loader, device, verbose=False):\n",
        "    model.eval()\n",
        "    correct= 0\n",
        "    total= 0\n",
        "\n",
        "    with torch.no_grad():\n",
        "        for images, labels in test_loader:\n",
        "            images, labels= images.to(device), labels.to(device)\n",
        "            logits= model(images)\n",
        "            y_pred= torch.argmax(logits, dim=1)\n",
        "            correct += (y_pred == labels).sum().item()\n",
        "            total += labels.size(0)\n",
        "\n",
        "    acc= correct / total\n",
        "    if verbose:\n",
        "        print(f\"Accuracy: {(acc * 100):.2f}%\")\n",
        "\n",
        "    return acc\n"
      ],
      "metadata": {
        "id": "tCT5MRyB4E25"
      },
      "execution_count": null,
      "outputs": []
    },
    {
      "cell_type": "code",
      "source": [
        "def plot_losses(train_loss, valid_loss):\n",
        "    # plot training and validation losses\n",
        "    plt.plot(train_loss, label='Train Loss')\n",
        "    plt.plot(valid_loss, label='Validation Loss')\n",
        "    plt.title('Losses')\n",
        "    plt.xlabel('Epochs')\n",
        "    plt.ylabel('Loss')\n",
        "    plt.legend()\n",
        "    plt.grid()"
      ],
      "metadata": {
        "id": "GxsLtu7G4E5e"
      },
      "execution_count": null,
      "outputs": []
    },
    {
      "cell_type": "markdown",
      "source": [
        "# Training setup using TF32 and Fused AdamW"
      ],
      "metadata": {
        "id": "rFZj54hgNvp_"
      }
    },
    {
      "cell_type": "code",
      "source": [
        "use_fused= False\n",
        "\n",
        "if device== 'cuda': # TF32 computationally more efficient (slightly the same precision of FP32)\n",
        "    torch.set_float32_matmul_precision('high')\n",
        "    # create AdamW optimizer and use the fused version of it is available\n",
        "    fused_available= 'fused' in inspect.signature(torch.optim.AdamW).parameters\n",
        "    # fused is a lot faster when it is available and when running on cuda\n",
        "    use_fused= fused_available\n",
        "\n",
        "# --- ResNet-50 ---\n",
        "in_channels= 3\n",
        "num_classes= 10\n",
        "\n",
        "model= ResNet(model_hparameters['resnet50'], in_channels, num_classes, dropout=0.1).to(device)\n",
        "count_parameters(model)\n",
        "\n",
        "\n",
        "# train_loader has size 352, so 20 epochs have 7,040 steps\n",
        "epochs= 20\n",
        "learning_rate= 1e-3\n",
        "\n",
        "optimizer= torch.optim.AdamW(\n",
        "    model.parameters(), lr=learning_rate, betas=(0.9, 0.999), weight_decay=1e-4,\n",
        "    fused=use_fused\n",
        ")\n",
        "print(f\"Using fused AdamW: {use_fused}\")\n",
        "criterion= nn.CrossEntropyLoss()\n",
        "# for decreasing learning rate -- the ReduceLROnPlateau is designed to be used per epoch\n",
        "scheduler= ReduceLROnPlateau(optimizer, mode='min', factor=0.1, patience=5, min_lr=1e-6)"
      ],
      "metadata": {
        "id": "lZR31h_54E73",
        "colab": {
          "base_uri": "https://localhost:8080/"
        },
        "outputId": "27645082-9a07-4a56-d4b5-4f196177179e"
      },
      "execution_count": null,
      "outputs": [
        {
          "output_type": "stream",
          "name": "stdout",
          "text": [
            "Number of parameters: 23528522\n",
            "Using fused AdamW: True\n"
          ]
        }
      ]
    },
    {
      "cell_type": "code",
      "source": [
        "tr_loss, vl_loss= trainer(model, train_loader, val_loader, optimizer, criterion, scheduler,\n",
        "                          epochs, device, verbose=True)"
      ],
      "metadata": {
        "colab": {
          "base_uri": "https://localhost:8080/"
        },
        "id": "MNz4R8TMQhb6",
        "outputId": "f2f7055e-a951-4149-b70e-3c220b2fab8f"
      },
      "execution_count": null,
      "outputs": [
        {
          "output_type": "stream",
          "name": "stdout",
          "text": [
            "Epoch: 0 | Train Loss: 1.6132 | Val Loss: 1.6342 | dt/epoch: 90975.75ms\n",
            "Epoch: 1 | Train Loss: 1.1005 | Val Loss: 1.2328 | dt/epoch: 91044.69ms\n",
            "Epoch: 2 | Train Loss: 0.8910 | Val Loss: 1.2778 | dt/epoch: 90954.17ms\n",
            "Epoch: 3 | Train Loss: 0.7475 | Val Loss: 0.8094 | dt/epoch: 90959.45ms\n",
            "Epoch: 4 | Train Loss: 0.6300 | Val Loss: 0.7262 | dt/epoch: 91404.87ms\n",
            "Epoch: 5 | Train Loss: 0.5440 | Val Loss: 0.6547 | dt/epoch: 90927.57ms\n",
            "Epoch: 6 | Train Loss: 0.4887 | Val Loss: 0.7015 | dt/epoch: 91108.82ms\n",
            "Epoch: 7 | Train Loss: 0.4459 | Val Loss: 0.5306 | dt/epoch: 91176.32ms\n",
            "Epoch: 8 | Train Loss: 0.3914 | Val Loss: 0.5016 | dt/epoch: 91467.60ms\n",
            "Epoch: 9 | Train Loss: 0.3507 | Val Loss: 0.4961 | dt/epoch: 91552.12ms\n",
            "Epoch: 10 | Train Loss: 0.3101 | Val Loss: 0.5003 | dt/epoch: 91378.08ms\n",
            "Epoch: 11 | Train Loss: 0.2891 | Val Loss: 0.4955 | dt/epoch: 90732.95ms\n",
            "Epoch: 12 | Train Loss: 0.2589 | Val Loss: 0.4757 | dt/epoch: 90976.78ms\n",
            "Epoch: 13 | Train Loss: 0.2261 | Val Loss: 0.4714 | dt/epoch: 91262.70ms\n",
            "Epoch: 14 | Train Loss: 0.2079 | Val Loss: 0.5560 | dt/epoch: 91372.59ms\n",
            "Epoch: 15 | Train Loss: 0.1889 | Val Loss: 0.5795 | dt/epoch: 90873.51ms\n",
            "Epoch: 16 | Train Loss: 0.1657 | Val Loss: 0.5057 | dt/epoch: 90892.64ms\n",
            "Epoch: 17 | Train Loss: 0.1480 | Val Loss: 0.4988 | dt/epoch: 91267.59ms\n",
            "Epoch: 18 | Train Loss: 0.1403 | Val Loss: 0.4971 | dt/epoch: 91248.28ms\n",
            "Epoch: 19 | Train Loss: 0.1217 | Val Loss: 0.5473 | dt/epoch: 91198.19ms\n"
          ]
        }
      ]
    },
    {
      "cell_type": "code",
      "source": [
        "# plot\n",
        "plot_losses(tr_loss, vl_loss)"
      ],
      "metadata": {
        "colab": {
          "base_uri": "https://localhost:8080/",
          "height": 472
        },
        "id": "P3aESMaLN8DN",
        "outputId": "39aa7e61-f7e1-4c64-82a1-785bf4c38d5c"
      },
      "execution_count": null,
      "outputs": [
        {
          "output_type": "display_data",
          "data": {
            "text/plain": [
              "<Figure size 640x480 with 1 Axes>"
            ],
            "image/png": "[encoded data removed]"
          },
          "metadata": {}
        }
      ]
    },
    {
      "cell_type": "markdown",
      "source": [
        "**NOTE:** In this case, the x-axis accounts for epochs, not steps."
      ],
      "metadata": {
        "id": "N_nOLfDKkBuB"
      }
    },
    {
      "cell_type": "code",
      "source": [
        "vit_acc= evaluate_model(model, test_loader, device, verbose=True)"
      ],
      "metadata": {
        "colab": {
          "base_uri": "https://localhost:8080/"
        },
        "id": "799CVXoMZjyb",
        "outputId": "3a6a529d-6dbf-4474-cc5e-1140d1bf6c66"
      },
      "execution_count": null,
      "outputs": [
        {
          "output_type": "stream",
          "name": "stdout",
          "text": [
            "Accuracy: 85.00%\n"
          ]
        }
      ]
    },
    {
      "cell_type": "code",
      "source": [
        "# https://heartbeat.comet.ml/resnet-how-one-paper-changed-deep-learning-forever-2256cf09fa9a\n",
        "# https://medium.com/@karuneshu21/resnet-paper-walkthrough-b7f3bdba55f0\n",
        "# https://medium.com/@karuneshu21/how-to-resnet-in-pytorch-9acb01f36cf5"
      ],
      "metadata": {
        "id": "sksBDAPjo2AX"
      },
      "execution_count": null,
      "outputs": []
    }
  ]
}