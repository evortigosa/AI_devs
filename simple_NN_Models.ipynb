{
 "cells": [
  {
   "cell_type": "code",
   "execution_count": 1,
   "id": "5612775b",
   "metadata": {},
   "outputs": [],
   "source": [
    "import numpy as np\n",
    "import pandas as pd\n",
    "\n",
    "import torch\n",
    "import torch.nn as nn"
   ]
  },
  {
   "cell_type": "code",
   "execution_count": 19,
   "id": "74b6c9b4",
   "metadata": {},
   "outputs": [],
   "source": [
    "# define our simple NN model\n",
    "\n",
    "class my_NN_Model(nn.Module):\n",
    "    # implementation of our model\n",
    "    \n",
    "    def __init__(self, input_size, hidden_size, output_size): \n",
    "        super(my_NN_Model, self).__init__()\n",
    "        self.fc1= nn.Linear(input_size, hidden_size)   # fully connected layers\n",
    "        self.fc2= nn.Linear(hidden_size, output_size)\n",
    "        \n",
    "    def forward(self, x):\n",
    "        x= self.fc1(x)\n",
    "        x= self.fc2(x)\n",
    "            \n",
    "        return x"
   ]
  },
  {
   "cell_type": "code",
   "execution_count": 20,
   "id": "5365a8c2",
   "metadata": {},
   "outputs": [],
   "source": [
    "model= my_NN_Model(3,4,2)"
   ]
  },
  {
   "cell_type": "code",
   "execution_count": 21,
   "id": "2c670d6a",
   "metadata": {},
   "outputs": [
    {
     "data": {
      "text/plain": [
       "tensor([0.1964, 0.7188], grad_fn=<AddBackward0>)"
      ]
     },
     "execution_count": 21,
     "metadata": {},
     "output_type": "execute_result"
    }
   ],
   "source": [
    "data_point= torch.tensor([1, 2, 3], dtype=torch.float32)\n",
    "\n",
    "model(data_point)"
   ]
  },
  {
   "cell_type": "code",
   "execution_count": null,
   "id": "809ea8c2",
   "metadata": {},
   "outputs": [],
   "source": []
  },
  {
   "cell_type": "code",
   "execution_count": null,
   "id": "51bb208f",
   "metadata": {},
   "outputs": [],
   "source": [
    "# downloading the MNIST training and testing data\n",
    "from torchvision import datasets\n",
    "from torchvision.transforms import ToTensor\n",
    "\n",
    "train_data= datasets.MNIST(\n",
    "    root= 'data',\n",
    "    train= True,\n",
    "    transform= ToTensor(),\n",
    "    download= True,\n",
    ")\n",
    "\n",
    "test_data= datasets.MNIST(\n",
    "    root= 'data',\n",
    "    train= False,\n",
    "    transform= ToTensor(),\n",
    ")"
   ]
  },
  {
   "cell_type": "code",
   "execution_count": 24,
   "id": "3e2ef82a",
   "metadata": {},
   "outputs": [
    {
     "name": "stdout",
     "output_type": "stream",
     "text": [
      "torch.Size([60000, 28, 28])\n",
      "torch.Size([60000])\n"
     ]
    }
   ],
   "source": [
    "# print the shape of the data\n",
    "print(train_data.data.shape)\n",
    "print(train_data.targets.shape)"
   ]
  },
  {
   "cell_type": "code",
   "execution_count": 26,
   "id": "d77fad8c",
   "metadata": {},
   "outputs": [
    {
     "name": "stdout",
     "output_type": "stream",
     "text": [
      "tensor(3)\n"
     ]
    },
    {
     "data": {
      "image/png": "[encoded data removed]",
      "text/plain": [
       "<Figure size 432x288 with 1 Axes>"
      ]
     },
     "metadata": {
      "needs_background": "light"
     },
     "output_type": "display_data"
    }
   ],
   "source": [
    "# rendering a particular example\n",
    "import matplotlib.pyplot as plt\n",
    "\n",
    "i= 10\n",
    "print(train_data.targets[i])\n",
    "plt.imshow(train_data.data[i], cmap= 'gray')\n",
    "plt.show()"
   ]
  },
  {
   "cell_type": "code",
   "execution_count": 40,
   "id": "1fce7d25",
   "metadata": {},
   "outputs": [],
   "source": [
    "# define a NN model for the MNIST dataset\n",
    "\n",
    "class my_NN_MNIST(nn.Module):\n",
    "    def __init__(self):\n",
    "        super(my_NN_MNIST, self).__init__()\n",
    "        self.fc1= nn.Linear(784, 128)\n",
    "        self.activation1= nn.ReLU()\n",
    "        self.fc2= nn.Linear(128, 64)\n",
    "        self.activation2= nn.ReLU()\n",
    "        self.fc3= nn.Linear(64,10)\n",
    "        \n",
    "    def forward(self, x):\n",
    "        x= torch.flatten(x)\n",
    "        x= self.fc1(x)\n",
    "        x= self.activation1(x)\n",
    "        x= self.fc2(x)\n",
    "        x= self.activation2(x)\n",
    "        x= self.fc3(x)\n",
    "        \n",
    "        return x"
   ]
  },
  {
   "cell_type": "code",
   "execution_count": 69,
   "id": "5f8c1f14",
   "metadata": {},
   "outputs": [],
   "source": [
    "# training the model\n",
    "\n",
    "import torch.nn.functional as F\n",
    "import torch.optim as optim\n",
    "\n",
    "# defining important stuff\n",
    "model= my_NN_MNIST()\n",
    "loss_fn= nn.CrossEntropyLoss() # used to calculate how wrong a particular prediction is\n",
    "optimizer= torch.optim.SGD(model.parameters(), lr=1e-4)\n",
    "\n",
    "losses= []\n",
    "\n",
    "for (x, y) in zip(train_data.data, train_data.targets):\n",
    "    # changing data type\n",
    "    x= x.type(torch.float32)\n",
    "    \n",
    "    # asking the model to make a prediction\n",
    "    y_pred= model.forward(x)\n",
    "    \n",
    "    # formating the target to e.g. [1,0,0,0,0,0,0,0,0,0]\n",
    "    #y= F.one_hot(y, 10).type(torch.float32)\n",
    "    \n",
    "    loss= loss_fn(y_pred, y)\n",
    "    \n",
    "    # backward pass (updating model based on gradients)\n",
    "    optimizer.zero_grad()\n",
    "    loss.backward()\n",
    "    optimizer.step()\n",
    "    \n",
    "    # keeping trach of loss\n",
    "    losses.append(float(loss))"
   ]
  },
  {
   "cell_type": "code",
   "execution_count": 72,
   "id": "53540d36",
   "metadata": {},
   "outputs": [
    {
     "data": {
      "image/png": "[encoded data removed]",
      "text/plain": [
       "<Figure size 432x288 with 1 Axes>"
      ]
     },
     "metadata": {
      "needs_background": "light"
     },
     "output_type": "display_data"
    }
   ],
   "source": [
    "# ploting the loss of individual samples \n",
    "\n",
    "# this smooths out the trend of our loss data\n",
    "def moving_avg(x, n):\n",
    "    cumsum= np.cumsum(np.insert(x, 0, 0))\n",
    "    return (cumsum[n:] - cumsum[:-n]) / float(n)\n",
    "\n",
    "# ploting the loss over the training examples\n",
    "plt.plot(moving_avg(losses, 1000))\n",
    "plt.xlabel('Training iteration')\n",
    "plt.ylabel('loss')\n",
    "plt.show()"
   ]
  },
  {
   "cell_type": "code",
   "execution_count": 73,
   "id": "8973f19d",
   "metadata": {},
   "outputs": [
    {
     "name": "stdout",
     "output_type": "stream",
     "text": [
      "Accuracy %:\n",
      "94.56\n"
     ]
    }
   ],
   "source": [
    "# testing the model\n",
    "\n",
    "num_true= 0\n",
    "test_quant= 0\n",
    "\n",
    "for (x_test, y_test) in zip(test_data.data, test_data.targets):\n",
    "    # running a test example\n",
    "    y_pred_test= model(x_test.type(torch.float32))\n",
    "    \n",
    "    # getting predicted value\n",
    "    y_pred_test= torch.argmax(y_pred_test)\n",
    "    \n",
    "    # checking to see if the right value was predicted\n",
    "    if bool(y_pred_test == y_test):\n",
    "        num_true += 1\n",
    "    \n",
    "    test_quant += 1\n",
    "    \n",
    "print(f'Accuracy %:')\n",
    "print((num_true/test_quant)*100)"
   ]
  },
  {
   "cell_type": "code",
   "execution_count": null,
   "id": "3425a481",
   "metadata": {},
   "outputs": [],
   "source": []
  },
  {
   "cell_type": "code",
   "execution_count": null,
   "id": "befb3d1a",
   "metadata": {},
   "outputs": [],
   "source": [
    "# https://towardsdatascience.com/ai-for-the-absolute-novice-intuitively-and-exhaustively-explained-7b353a31e6d7"
   ]
  }
 ],
 "metadata": {
  "kernelspec": {
   "display_name": "Python 3",
   "language": "python",
   "name": "python3"
  },
  "language_info": {
   "codemirror_mode": {
    "name": "ipython",
    "version": 3
   },
   "file_extension": ".py",
   "mimetype": "text/x-python",
   "name": "python",
   "nbconvert_exporter": "python",
   "pygments_lexer": "ipython3",
   "version": "3.8.8"
  }
 },
 "nbformat": 4,
 "nbformat_minor": 5
}
