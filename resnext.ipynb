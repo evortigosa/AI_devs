{
  "nbformat": 4,
  "nbformat_minor": 0,
  "metadata": {
    "colab": {
      "provenance": [],
      "toc_visible": true,
      "gpuType": "A100"
    },
    "kernelspec": {
      "name": "python3",
      "display_name": "Python 3"
    },
    "language_info": {
      "name": "python"
    },
    "accelerator": "GPU"
  },
  "cells": [
    {
      "cell_type": "markdown",
      "source": [
        "# ResNeXt from Scratch in PyTorch\n",
        "\n",
        "ResNeXt stands for \"Residual Networks Next\" (https://arxiv.org/abs/1611.05431), indicating its position as an evolution of the ResNet architecture.\n",
        "\n",
        "WIP"
      ],
      "metadata": {
        "id": "nx5HPpvr02E9"
      }
    },
    {
      "cell_type": "code",
      "execution_count": null,
      "metadata": {
        "id": "Fkhe4Zo50ZU5"
      },
      "outputs": [],
      "source": [
        "import time\n",
        "import math\n",
        "import numpy as np\n",
        "import matplotlib.pyplot as plt\n",
        "import inspect\n",
        "import torch\n",
        "import torch.nn as nn\n",
        "import torch.nn.functional as F\n",
        "from torch.optim.lr_scheduler import ReduceLROnPlateau"
      ]
    },
    {
      "cell_type": "code",
      "source": [
        "device= 'cuda' if torch.cuda.is_available() else 'cpu'"
      ],
      "metadata": {
        "id": "XopQTFPl04Bz"
      },
      "execution_count": null,
      "outputs": []
    },
    {
      "cell_type": "code",
      "source": [
        "# count how many trainable weights the model has\n",
        "def count_parameters(model) -> None:\n",
        "    total_params= sum(p.numel() for p in model.parameters() if p.requires_grad)\n",
        "    print(f'Number of parameters: {total_params}')"
      ],
      "metadata": {
        "id": "xWHkShyb04FS"
      },
      "execution_count": null,
      "outputs": []
    },
    {
      "cell_type": "markdown",
      "source": [
        "# Define configs for different ResNeXt versions"
      ],
      "metadata": {
        "id": "6SHwcmEi1GvC"
      }
    },
    {
      "cell_type": "code",
      "source": [
        "# resnext_= (num channels, repetition, cardinality, bottleneck_width)\n",
        "model_hparameters= {}\n",
        "model_hparameters['resnext50_32x4d'] = ([64,128,256,512], [3,4,6,3],  32, 4)\n",
        "model_hparameters['resnext101_32x8d']= ([64,128,256,512], [3,4,23,3], 32, 8)\n",
        "model_hparameters['resnext101_64x4d']= ([64,128,256,512], [3,4,23,3], 64, 4)\n",
        "model_hparameters['resnext152_32x4d']= ([64,128,256,512], [3,8,36,3], 32, 4)\n",
        "model_hparameters[\"resnext152_32x8d\"]= ([64,128,256,512], [3,8,36,3], 32, 8)"
      ],
      "metadata": {
        "id": "VgkE-cN004JD"
      },
      "execution_count": null,
      "outputs": []
    },
    {
      "cell_type": "markdown",
      "source": [
        "# Architecture Implementation"
      ],
      "metadata": {
        "id": "s3t5wEOH1MlA"
      }
    },
    {
      "cell_type": "code",
      "source": [
        "class ConvLayer(nn.Module):\n",
        "    \"\"\"\n",
        "    Implements one customizable CNN layer.\n",
        "    ResNeXt-style: Input -> Conv2d -> BatchNorm2d -> ReLU -> Output\n",
        "    \"\"\"\n",
        "\n",
        "    def __init__(self, in_channels, out_channels, kernel_size, stride, padding, groups=1,\n",
        "                 bias=False, activation=None) -> None:\n",
        "        super(ConvLayer, self).__init__()\n",
        "        self.conv= nn.Conv2d(\n",
        "            in_channels, out_channels, kernel_size, stride, padding, groups=groups, bias=bias\n",
        "        )\n",
        "        # Batch Normalization to stabilize training\n",
        "        self.norm= nn.BatchNorm2d(out_channels)\n",
        "        # Activation function -- ReLU is the default in ResNeXt\n",
        "        self.activation= activation\n",
        "\n",
        "\n",
        "    def forward(self, x):\n",
        "        x= self.conv(x)\n",
        "        x= self.norm(x)\n",
        "        if self.activation is not None:\n",
        "            x= self.activation(x)\n",
        "\n",
        "        return x\n"
      ],
      "metadata": {
        "id": "lQyISIb_04Mb"
      },
      "execution_count": null,
      "outputs": []
    },
    {
      "cell_type": "code",
      "source": [
        "class BottleneckBlock(nn.Module):\n",
        "    \"\"\"\n",
        "    Creates a ResNeXt Bottleneck Block. It uses 1x1 convolution before the 3x3 module with\n",
        "    grouped convolutions. The final 1x1 convolution restores the original dimensions.\n",
        "    \"\"\"\n",
        "\n",
        "    def __init__(self, in_channels, out_channels, cardinality, base_width, expansion=4, stride=1,\n",
        "                 activation=None, dropout=0.1) -> None:\n",
        "        super(BottleneckBlock, self).__init__()\n",
        "        # Activation function -- ReLU is the default in ResNeXt\n",
        "        activation= nn.GELU() if activation is None else activation\n",
        "        # Define dimensions for intermediate layers\n",
        "        dim= int(out_channels * (base_width / 64)) * cardinality\n",
        "\n",
        "        # For all ResNeXt-50+\n",
        "        self.bottleneck= nn.Sequential(\n",
        "            # Conv1x1 -> BN -> Activation (dimensionality reduction)\n",
        "            ConvLayer(\n",
        "                in_channels, dim, kernel_size=1, stride=1, padding=0, bias=False,\n",
        "                activation=activation\n",
        "            ),\n",
        "            # Conv3x3 grouped convolution -> BN -> Activation (feature extraction)\n",
        "            ConvLayer(\n",
        "                dim, dim, kernel_size=3, stride=stride, padding=1, groups=cardinality, bias=False,\n",
        "                activation=activation\n",
        "            ),\n",
        "            # Conv1x1 -> BN (restoring dimensions)\n",
        "            ConvLayer(\n",
        "                dim, out_channels*expansion, kernel_size=1, stride=1, padding=0, bias=False,\n",
        "                activation=None\n",
        "            ),\n",
        "        )\n",
        "        # Dropout module for regularization\n",
        "        self.dropout= nn.Dropout2d(p=dropout) if dropout> 0.0 else None\n",
        "        # When dim(x) == dim(F) -> Identity function\n",
        "        if stride != 1 or in_channels != out_channels*expansion:\n",
        "            # Only one conv -> BN and no activation (aka shortcut connection)\n",
        "            self.downsample= ConvLayer(\n",
        "                in_channels, out_channels*expansion, kernel_size=1, stride=stride, padding=0,\n",
        "                bias=False, activation=None\n",
        "            )\n",
        "        else:\n",
        "            self.downsample= None\n",
        "\n",
        "        self.activation= activation\n",
        "\n",
        "\n",
        "    def forward(self, x):\n",
        "        identity= x\n",
        "\n",
        "        out= self.bottleneck(x)\n",
        "        if self.dropout is not None:\n",
        "            out= self.dropout(out)\n",
        "        if self.downsample is not None:\n",
        "            identity= self.downsample(identity)\n",
        "        # skip connection -- identity or projected map\n",
        "        out += identity\n",
        "\n",
        "        return self.activation(out)\n"
      ],
      "metadata": {
        "id": "RqAwAUUdQT8v"
      },
      "execution_count": null,
      "outputs": []
    },
    {
      "cell_type": "markdown",
      "source": [
        "# Building the ResNeXt"
      ],
      "metadata": {
        "id": "GDD_50E81SAm"
      }
    },
    {
      "cell_type": "code",
      "source": [
        "class ResNeXt(nn.Module):\n",
        "    \"\"\"\n",
        "    Implements a ResNeXt model.\n",
        "    \"\"\"\n",
        "\n",
        "    def __init__(self, model_type, in_channels, num_classes, activation=None, dropout=0.1) -> None:\n",
        "        super(ResNeXt, self).__init__()\n",
        "        # block expansion factor (same value as ResNet-50+)\n",
        "        expansion= 4\n",
        "        # channels and repeatition lists along with group cardinality and bottleneck width\n",
        "        channels=    model_type[0]\n",
        "        repetitions= model_type[1]\n",
        "        cardinality= model_type[2]\n",
        "        base_width=  model_type[3]\n",
        "        # Activation function -- ReLU is the default in ResNeXt\n",
        "        activation= nn.GELU() if activation is None else activation\n",
        "\n",
        "        # Initial convolution\n",
        "        self.conv_in= nn.Sequential(\n",
        "            ConvLayer(\n",
        "                in_channels, out_channels=64, kernel_size=7, stride=2, padding=3,\n",
        "                bias=False, activation=activation\n",
        "            ),\n",
        "            nn.MaxPool2d(kernel_size=3, stride=2, padding=1),\n",
        "        )\n",
        "        self.in_channels= 64\n",
        "        # ResNeXt blocks\n",
        "        self.block1= self.make_block(\n",
        "            channels[0], repetitions[0], cardinality, base_width, expansion, stride=1,\n",
        "            activation=activation, dropout=dropout\n",
        "        )\n",
        "        self.block2= self.make_block(\n",
        "            channels[1], repetitions[1], cardinality, base_width, expansion, stride=2,\n",
        "            activation=activation, dropout=dropout\n",
        "        )\n",
        "        self.block3= self.make_block(\n",
        "            channels[2], repetitions[2], cardinality, base_width, expansion, stride=2,\n",
        "            activation=activation, dropout=dropout\n",
        "        )\n",
        "        self.block4= self.make_block(\n",
        "            channels[3], repetitions[3], cardinality, base_width, expansion, stride=2,\n",
        "            activation=activation, dropout=dropout\n",
        "        )\n",
        "\n",
        "        # Pooling and classification head to produce the class logits\n",
        "        self.average_pool= nn.AdaptiveAvgPool2d(output_size=(1, 1))\n",
        "        self.fc_out= nn.Linear(channels[3]*expansion, num_classes)\n",
        "\n",
        "        # initialize parameters -- Xavier is suitable for GELU\n",
        "        for m in self.modules():\n",
        "            if isinstance(m, nn.Conv2d) or isinstance(m, nn.Linear):\n",
        "                nn.init.xavier_uniform_(m.weight)\n",
        "                if m.bias is not None: nn.init.zeros_(m.bias)\n",
        "            elif isinstance(m, nn.BatchNorm2d):\n",
        "                nn.init.constant_(m.weight, 1.0)\n",
        "                nn.init.constant_(m.bias, 0.0)\n",
        "\n",
        "\n",
        "    def make_block(self, out_channels, repetitions, cardinality, base_width, expansion,\n",
        "                   stride, activation, dropout):\n",
        "        \"\"\"\n",
        "        Create a ResNeXt block with multiple bottleneck blocks.\n",
        "        \"\"\"\n",
        "        blocks= [BottleneckBlock(\n",
        "            self.in_channels, out_channels, cardinality, base_width, expansion, stride,\n",
        "            activation, dropout\n",
        "        )]\n",
        "        self.in_channels= out_channels*expansion\n",
        "\n",
        "        for _ in range(1, repetitions):\n",
        "            blocks.append(BottleneckBlock(\n",
        "                self.in_channels, out_channels, cardinality, base_width, expansion, stride=1,\n",
        "                activation=activation, dropout=dropout\n",
        "            ))\n",
        "\n",
        "        return nn.Sequential(*blocks)\n",
        "\n",
        "\n",
        "    def forward(self, x):\n",
        "        x= self.conv_in(x)\n",
        "        x= self.block1(x)\n",
        "        x= self.block2(x)\n",
        "        x= self.block3(x)\n",
        "        x= self.block4(x)\n",
        "        x= torch.flatten(self.average_pool(x), start_dim=1)\n",
        "\n",
        "        return self.fc_out(x)\n"
      ],
      "metadata": {
        "id": "r404zJ3904SU"
      },
      "execution_count": null,
      "outputs": []
    },
    {
      "cell_type": "code",
      "source": [
        "import torchvision.models as models\n",
        "from torchvision.models import ResNeXt50_32X4D_Weights\n",
        "\n",
        "img= torch.randn(1, 3, 224, 224).to(device)\n",
        "\n",
        "tvis_model= models.resnext50_32x4d(weights=ResNeXt50_32X4D_Weights.IMAGENET1K_V1).to(device)\n",
        "count_parameters(tvis_model)\n",
        "print(tvis_model(img).shape)"
      ],
      "metadata": {
        "colab": {
          "base_uri": "https://localhost:8080/"
        },
        "id": "KVcsw3LnSUPc",
        "outputId": "083d50cd-1862-41cf-f48b-e896b61a289f"
      },
      "execution_count": null,
      "outputs": [
        {
          "output_type": "stream",
          "name": "stderr",
          "text": [
            "Downloading: \"https://download.pytorch.org/models/resnext50_32x4d-7cdf4587.pth\" to /root/.cache/torch/hub/checkpoints/resnext50_32x4d-7cdf4587.pth\n",
            "100%|██████████| 95.8M/95.8M [00:00<00:00, 162MB/s]\n"
          ]
        },
        {
          "output_type": "stream",
          "name": "stdout",
          "text": [
            "Number of parameters: 25028904\n",
            "torch.Size([1, 1000])\n"
          ]
        }
      ]
    },
    {
      "cell_type": "code",
      "source": [
        "model= ResNeXt(model_hparameters['resnext50_32x4d'], in_channels=3, num_classes=1000).to(device)\n",
        "count_parameters(model)\n",
        "print(model(img).shape)\n",
        "model"
      ],
      "metadata": {
        "id": "hz-HGTmr04XX",
        "colab": {
          "base_uri": "https://localhost:8080/"
        },
        "outputId": "db67fdb7-b9bb-46f2-d406-265aa4926e8f"
      },
      "execution_count": null,
      "outputs": [
        {
          "output_type": "stream",
          "name": "stdout",
          "text": [
            "Number of parameters: 25028904\n",
            "torch.Size([1, 1000])\n"
          ]
        },
        {
          "output_type": "execute_result",
          "data": {
            "text/plain": [
              "ResNeXt(\n",
              "  (conv_in): Sequential(\n",
              "    (0): ConvLayer(\n",
              "      (conv): Conv2d(3, 64, kernel_size=(7, 7), stride=(2, 2), padding=(3, 3), bias=False)\n",
              "      (norm): BatchNorm2d(64, eps=1e-05, momentum=0.1, affine=True, track_running_stats=True)\n",
              "      (activation): GELU(approximate='none')\n",
              "    )\n",
              "    (1): MaxPool2d(kernel_size=3, stride=2, padding=1, dilation=1, ceil_mode=False)\n",
              "  )\n",
              "  (block1): Sequential(\n",
              "    (0): BottleneckBlock(\n",
              "      (bottleneck): Sequential(\n",
              "        (0): ConvLayer(\n",
              "          (conv): Conv2d(64, 128, kernel_size=(1, 1), stride=(1, 1), bias=False)\n",
              "          (norm): BatchNorm2d(128, eps=1e-05, momentum=0.1, affine=True, track_running_stats=True)\n",
              "          (activation): GELU(approximate='none')\n",
              "        )\n",
              "        (1): ConvLayer(\n",
              "          (conv): Conv2d(128, 128, kernel_size=(3, 3), stride=(1, 1), padding=(1, 1), groups=32, bias=False)\n",
              "          (norm): BatchNorm2d(128, eps=1e-05, momentum=0.1, affine=True, track_running_stats=True)\n",
              "          (activation): GELU(approximate='none')\n",
              "        )\n",
              "        (2): ConvLayer(\n",
              "          (conv): Conv2d(128, 256, kernel_size=(1, 1), stride=(1, 1), bias=False)\n",
              "          (norm): BatchNorm2d(256, eps=1e-05, momentum=0.1, affine=True, track_running_stats=True)\n",
              "        )\n",
              "      )\n",
              "      (dropout): Dropout2d(p=0.1, inplace=False)\n",
              "      (downsample): ConvLayer(\n",
              "        (conv): Conv2d(64, 256, kernel_size=(1, 1), stride=(1, 1), bias=False)\n",
              "        (norm): BatchNorm2d(256, eps=1e-05, momentum=0.1, affine=True, track_running_stats=True)\n",
              "      )\n",
              "      (activation): GELU(approximate='none')\n",
              "    )\n",
              "    (1): BottleneckBlock(\n",
              "      (bottleneck): Sequential(\n",
              "        (0): ConvLayer(\n",
              "          (conv): Conv2d(256, 128, kernel_size=(1, 1), stride=(1, 1), bias=False)\n",
              "          (norm): BatchNorm2d(128, eps=1e-05, momentum=0.1, affine=True, track_running_stats=True)\n",
              "          (activation): GELU(approximate='none')\n",
              "        )\n",
              "        (1): ConvLayer(\n",
              "          (conv): Conv2d(128, 128, kernel_size=(3, 3), stride=(1, 1), padding=(1, 1), groups=32, bias=False)\n",
              "          (norm): BatchNorm2d(128, eps=1e-05, momentum=0.1, affine=True, track_running_stats=True)\n",
              "          (activation): GELU(approximate='none')\n",
              "        )\n",
              "        (2): ConvLayer(\n",
              "          (conv): Conv2d(128, 256, kernel_size=(1, 1), stride=(1, 1), bias=False)\n",
              "          (norm): BatchNorm2d(256, eps=1e-05, momentum=0.1, affine=True, track_running_stats=True)\n",
              "        )\n",
              "      )\n",
              "      (dropout): Dropout2d(p=0.1, inplace=False)\n",
              "      (activation): GELU(approximate='none')\n",
              "    )\n",
              "    (2): BottleneckBlock(\n",
              "      (bottleneck): Sequential(\n",
              "        (0): ConvLayer(\n",
              "          (conv): Conv2d(256, 128, kernel_size=(1, 1), stride=(1, 1), bias=False)\n",
              "          (norm): BatchNorm2d(128, eps=1e-05, momentum=0.1, affine=True, track_running_stats=True)\n",
              "          (activation): GELU(approximate='none')\n",
              "        )\n",
              "        (1): ConvLayer(\n",
              "          (conv): Conv2d(128, 128, kernel_size=(3, 3), stride=(1, 1), padding=(1, 1), groups=32, bias=False)\n",
              "          (norm): BatchNorm2d(128, eps=1e-05, momentum=0.1, affine=True, track_running_stats=True)\n",
              "          (activation): GELU(approximate='none')\n",
              "        )\n",
              "        (2): ConvLayer(\n",
              "          (conv): Conv2d(128, 256, kernel_size=(1, 1), stride=(1, 1), bias=False)\n",
              "          (norm): BatchNorm2d(256, eps=1e-05, momentum=0.1, affine=True, track_running_stats=True)\n",
              "        )\n",
              "      )\n",
              "      (dropout): Dropout2d(p=0.1, inplace=False)\n",
              "      (activation): GELU(approximate='none')\n",
              "    )\n",
              "  )\n",
              "  (block2): Sequential(\n",
              "    (0): BottleneckBlock(\n",
              "      (bottleneck): Sequential(\n",
              "        (0): ConvLayer(\n",
              "          (conv): Conv2d(256, 256, kernel_size=(1, 1), stride=(1, 1), bias=False)\n",
              "          (norm): BatchNorm2d(256, eps=1e-05, momentum=0.1, affine=True, track_running_stats=True)\n",
              "          (activation): GELU(approximate='none')\n",
              "        )\n",
              "        (1): ConvLayer(\n",
              "          (conv): Conv2d(256, 256, kernel_size=(3, 3), stride=(2, 2), padding=(1, 1), groups=32, bias=False)\n",
              "          (norm): BatchNorm2d(256, eps=1e-05, momentum=0.1, affine=True, track_running_stats=True)\n",
              "          (activation): GELU(approximate='none')\n",
              "        )\n",
              "        (2): ConvLayer(\n",
              "          (conv): Conv2d(256, 512, kernel_size=(1, 1), stride=(1, 1), bias=False)\n",
              "          (norm): BatchNorm2d(512, eps=1e-05, momentum=0.1, affine=True, track_running_stats=True)\n",
              "        )\n",
              "      )\n",
              "      (dropout): Dropout2d(p=0.1, inplace=False)\n",
              "      (downsample): ConvLayer(\n",
              "        (conv): Conv2d(256, 512, kernel_size=(1, 1), stride=(2, 2), bias=False)\n",
              "        (norm): BatchNorm2d(512, eps=1e-05, momentum=0.1, affine=True, track_running_stats=True)\n",
              "      )\n",
              "      (activation): GELU(approximate='none')\n",
              "    )\n",
              "    (1): BottleneckBlock(\n",
              "      (bottleneck): Sequential(\n",
              "        (0): ConvLayer(\n",
              "          (conv): Conv2d(512, 256, kernel_size=(1, 1), stride=(1, 1), bias=False)\n",
              "          (norm): BatchNorm2d(256, eps=1e-05, momentum=0.1, affine=True, track_running_stats=True)\n",
              "          (activation): GELU(approximate='none')\n",
              "        )\n",
              "        (1): ConvLayer(\n",
              "          (conv): Conv2d(256, 256, kernel_size=(3, 3), stride=(1, 1), padding=(1, 1), groups=32, bias=False)\n",
              "          (norm): BatchNorm2d(256, eps=1e-05, momentum=0.1, affine=True, track_running_stats=True)\n",
              "          (activation): GELU(approximate='none')\n",
              "        )\n",
              "        (2): ConvLayer(\n",
              "          (conv): Conv2d(256, 512, kernel_size=(1, 1), stride=(1, 1), bias=False)\n",
              "          (norm): BatchNorm2d(512, eps=1e-05, momentum=0.1, affine=True, track_running_stats=True)\n",
              "        )\n",
              "      )\n",
              "      (dropout): Dropout2d(p=0.1, inplace=False)\n",
              "      (activation): GELU(approximate='none')\n",
              "    )\n",
              "    (2): BottleneckBlock(\n",
              "      (bottleneck): Sequential(\n",
              "        (0): ConvLayer(\n",
              "          (conv): Conv2d(512, 256, kernel_size=(1, 1), stride=(1, 1), bias=False)\n",
              "          (norm): BatchNorm2d(256, eps=1e-05, momentum=0.1, affine=True, track_running_stats=True)\n",
              "          (activation): GELU(approximate='none')\n",
              "        )\n",
              "        (1): ConvLayer(\n",
              "          (conv): Conv2d(256, 256, kernel_size=(3, 3), stride=(1, 1), padding=(1, 1), groups=32, bias=False)\n",
              "          (norm): BatchNorm2d(256, eps=1e-05, momentum=0.1, affine=True, track_running_stats=True)\n",
              "          (activation): GELU(approximate='none')\n",
              "        )\n",
              "        (2): ConvLayer(\n",
              "          (conv): Conv2d(256, 512, kernel_size=(1, 1), stride=(1, 1), bias=False)\n",
              "          (norm): BatchNorm2d(512, eps=1e-05, momentum=0.1, affine=True, track_running_stats=True)\n",
              "        )\n",
              "      )\n",
              "      (dropout): Dropout2d(p=0.1, inplace=False)\n",
              "      (activation): GELU(approximate='none')\n",
              "    )\n",
              "    (3): BottleneckBlock(\n",
              "      (bottleneck): Sequential(\n",
              "        (0): ConvLayer(\n",
              "          (conv): Conv2d(512, 256, kernel_size=(1, 1), stride=(1, 1), bias=False)\n",
              "          (norm): BatchNorm2d(256, eps=1e-05, momentum=0.1, affine=True, track_running_stats=True)\n",
              "          (activation): GELU(approximate='none')\n",
              "        )\n",
              "        (1): ConvLayer(\n",
              "          (conv): Conv2d(256, 256, kernel_size=(3, 3), stride=(1, 1), padding=(1, 1), groups=32, bias=False)\n",
              "          (norm): BatchNorm2d(256, eps=1e-05, momentum=0.1, affine=True, track_running_stats=True)\n",
              "          (activation): GELU(approximate='none')\n",
              "        )\n",
              "        (2): ConvLayer(\n",
              "          (conv): Conv2d(256, 512, kernel_size=(1, 1), stride=(1, 1), bias=False)\n",
              "          (norm): BatchNorm2d(512, eps=1e-05, momentum=0.1, affine=True, track_running_stats=True)\n",
              "        )\n",
              "      )\n",
              "      (dropout): Dropout2d(p=0.1, inplace=False)\n",
              "      (activation): GELU(approximate='none')\n",
              "    )\n",
              "  )\n",
              "  (block3): Sequential(\n",
              "    (0): BottleneckBlock(\n",
              "      (bottleneck): Sequential(\n",
              "        (0): ConvLayer(\n",
              "          (conv): Conv2d(512, 512, kernel_size=(1, 1), stride=(1, 1), bias=False)\n",
              "          (norm): BatchNorm2d(512, eps=1e-05, momentum=0.1, affine=True, track_running_stats=True)\n",
              "          (activation): GELU(approximate='none')\n",
              "        )\n",
              "        (1): ConvLayer(\n",
              "          (conv): Conv2d(512, 512, kernel_size=(3, 3), stride=(2, 2), padding=(1, 1), groups=32, bias=False)\n",
              "          (norm): BatchNorm2d(512, eps=1e-05, momentum=0.1, affine=True, track_running_stats=True)\n",
              "          (activation): GELU(approximate='none')\n",
              "        )\n",
              "        (2): ConvLayer(\n",
              "          (conv): Conv2d(512, 1024, kernel_size=(1, 1), stride=(1, 1), bias=False)\n",
              "          (norm): BatchNorm2d(1024, eps=1e-05, momentum=0.1, affine=True, track_running_stats=True)\n",
              "        )\n",
              "      )\n",
              "      (dropout): Dropout2d(p=0.1, inplace=False)\n",
              "      (downsample): ConvLayer(\n",
              "        (conv): Conv2d(512, 1024, kernel_size=(1, 1), stride=(2, 2), bias=False)\n",
              "        (norm): BatchNorm2d(1024, eps=1e-05, momentum=0.1, affine=True, track_running_stats=True)\n",
              "      )\n",
              "      (activation): GELU(approximate='none')\n",
              "    )\n",
              "    (1): BottleneckBlock(\n",
              "      (bottleneck): Sequential(\n",
              "        (0): ConvLayer(\n",
              "          (conv): Conv2d(1024, 512, kernel_size=(1, 1), stride=(1, 1), bias=False)\n",
              "          (norm): BatchNorm2d(512, eps=1e-05, momentum=0.1, affine=True, track_running_stats=True)\n",
              "          (activation): GELU(approximate='none')\n",
              "        )\n",
              "        (1): ConvLayer(\n",
              "          (conv): Conv2d(512, 512, kernel_size=(3, 3), stride=(1, 1), padding=(1, 1), groups=32, bias=False)\n",
              "          (norm): BatchNorm2d(512, eps=1e-05, momentum=0.1, affine=True, track_running_stats=True)\n",
              "          (activation): GELU(approximate='none')\n",
              "        )\n",
              "        (2): ConvLayer(\n",
              "          (conv): Conv2d(512, 1024, kernel_size=(1, 1), stride=(1, 1), bias=False)\n",
              "          (norm): BatchNorm2d(1024, eps=1e-05, momentum=0.1, affine=True, track_running_stats=True)\n",
              "        )\n",
              "      )\n",
              "      (dropout): Dropout2d(p=0.1, inplace=False)\n",
              "      (activation): GELU(approximate='none')\n",
              "    )\n",
              "    (2): BottleneckBlock(\n",
              "      (bottleneck): Sequential(\n",
              "        (0): ConvLayer(\n",
              "          (conv): Conv2d(1024, 512, kernel_size=(1, 1), stride=(1, 1), bias=False)\n",
              "          (norm): BatchNorm2d(512, eps=1e-05, momentum=0.1, affine=True, track_running_stats=True)\n",
              "          (activation): GELU(approximate='none')\n",
              "        )\n",
              "        (1): ConvLayer(\n",
              "          (conv): Conv2d(512, 512, kernel_size=(3, 3), stride=(1, 1), padding=(1, 1), groups=32, bias=False)\n",
              "          (norm): BatchNorm2d(512, eps=1e-05, momentum=0.1, affine=True, track_running_stats=True)\n",
              "          (activation): GELU(approximate='none')\n",
              "        )\n",
              "        (2): ConvLayer(\n",
              "          (conv): Conv2d(512, 1024, kernel_size=(1, 1), stride=(1, 1), bias=False)\n",
              "          (norm): BatchNorm2d(1024, eps=1e-05, momentum=0.1, affine=True, track_running_stats=True)\n",
              "        )\n",
              "      )\n",
              "      (dropout): Dropout2d(p=0.1, inplace=False)\n",
              "      (activation): GELU(approximate='none')\n",
              "    )\n",
              "    (3): BottleneckBlock(\n",
              "      (bottleneck): Sequential(\n",
              "        (0): ConvLayer(\n",
              "          (conv): Conv2d(1024, 512, kernel_size=(1, 1), stride=(1, 1), bias=False)\n",
              "          (norm): BatchNorm2d(512, eps=1e-05, momentum=0.1, affine=True, track_running_stats=True)\n",
              "          (activation): GELU(approximate='none')\n",
              "        )\n",
              "        (1): ConvLayer(\n",
              "          (conv): Conv2d(512, 512, kernel_size=(3, 3), stride=(1, 1), padding=(1, 1), groups=32, bias=False)\n",
              "          (norm): BatchNorm2d(512, eps=1e-05, momentum=0.1, affine=True, track_running_stats=True)\n",
              "          (activation): GELU(approximate='none')\n",
              "        )\n",
              "        (2): ConvLayer(\n",
              "          (conv): Conv2d(512, 1024, kernel_size=(1, 1), stride=(1, 1), bias=False)\n",
              "          (norm): BatchNorm2d(1024, eps=1e-05, momentum=0.1, affine=True, track_running_stats=True)\n",
              "        )\n",
              "      )\n",
              "      (dropout): Dropout2d(p=0.1, inplace=False)\n",
              "      (activation): GELU(approximate='none')\n",
              "    )\n",
              "    (4): BottleneckBlock(\n",
              "      (bottleneck): Sequential(\n",
              "        (0): ConvLayer(\n",
              "          (conv): Conv2d(1024, 512, kernel_size=(1, 1), stride=(1, 1), bias=False)\n",
              "          (norm): BatchNorm2d(512, eps=1e-05, momentum=0.1, affine=True, track_running_stats=True)\n",
              "          (activation): GELU(approximate='none')\n",
              "        )\n",
              "        (1): ConvLayer(\n",
              "          (conv): Conv2d(512, 512, kernel_size=(3, 3), stride=(1, 1), padding=(1, 1), groups=32, bias=False)\n",
              "          (norm): BatchNorm2d(512, eps=1e-05, momentum=0.1, affine=True, track_running_stats=True)\n",
              "          (activation): GELU(approximate='none')\n",
              "        )\n",
              "        (2): ConvLayer(\n",
              "          (conv): Conv2d(512, 1024, kernel_size=(1, 1), stride=(1, 1), bias=False)\n",
              "          (norm): BatchNorm2d(1024, eps=1e-05, momentum=0.1, affine=True, track_running_stats=True)\n",
              "        )\n",
              "      )\n",
              "      (dropout): Dropout2d(p=0.1, inplace=False)\n",
              "      (activation): GELU(approximate='none')\n",
              "    )\n",
              "    (5): BottleneckBlock(\n",
              "      (bottleneck): Sequential(\n",
              "        (0): ConvLayer(\n",
              "          (conv): Conv2d(1024, 512, kernel_size=(1, 1), stride=(1, 1), bias=False)\n",
              "          (norm): BatchNorm2d(512, eps=1e-05, momentum=0.1, affine=True, track_running_stats=True)\n",
              "          (activation): GELU(approximate='none')\n",
              "        )\n",
              "        (1): ConvLayer(\n",
              "          (conv): Conv2d(512, 512, kernel_size=(3, 3), stride=(1, 1), padding=(1, 1), groups=32, bias=False)\n",
              "          (norm): BatchNorm2d(512, eps=1e-05, momentum=0.1, affine=True, track_running_stats=True)\n",
              "          (activation): GELU(approximate='none')\n",
              "        )\n",
              "        (2): ConvLayer(\n",
              "          (conv): Conv2d(512, 1024, kernel_size=(1, 1), stride=(1, 1), bias=False)\n",
              "          (norm): BatchNorm2d(1024, eps=1e-05, momentum=0.1, affine=True, track_running_stats=True)\n",
              "        )\n",
              "      )\n",
              "      (dropout): Dropout2d(p=0.1, inplace=False)\n",
              "      (activation): GELU(approximate='none')\n",
              "    )\n",
              "  )\n",
              "  (block4): Sequential(\n",
              "    (0): BottleneckBlock(\n",
              "      (bottleneck): Sequential(\n",
              "        (0): ConvLayer(\n",
              "          (conv): Conv2d(1024, 1024, kernel_size=(1, 1), stride=(1, 1), bias=False)\n",
              "          (norm): BatchNorm2d(1024, eps=1e-05, momentum=0.1, affine=True, track_running_stats=True)\n",
              "          (activation): GELU(approximate='none')\n",
              "        )\n",
              "        (1): ConvLayer(\n",
              "          (conv): Conv2d(1024, 1024, kernel_size=(3, 3), stride=(2, 2), padding=(1, 1), groups=32, bias=False)\n",
              "          (norm): BatchNorm2d(1024, eps=1e-05, momentum=0.1, affine=True, track_running_stats=True)\n",
              "          (activation): GELU(approximate='none')\n",
              "        )\n",
              "        (2): ConvLayer(\n",
              "          (conv): Conv2d(1024, 2048, kernel_size=(1, 1), stride=(1, 1), bias=False)\n",
              "          (norm): BatchNorm2d(2048, eps=1e-05, momentum=0.1, affine=True, track_running_stats=True)\n",
              "        )\n",
              "      )\n",
              "      (dropout): Dropout2d(p=0.1, inplace=False)\n",
              "      (downsample): ConvLayer(\n",
              "        (conv): Conv2d(1024, 2048, kernel_size=(1, 1), stride=(2, 2), bias=False)\n",
              "        (norm): BatchNorm2d(2048, eps=1e-05, momentum=0.1, affine=True, track_running_stats=True)\n",
              "      )\n",
              "      (activation): GELU(approximate='none')\n",
              "    )\n",
              "    (1): BottleneckBlock(\n",
              "      (bottleneck): Sequential(\n",
              "        (0): ConvLayer(\n",
              "          (conv): Conv2d(2048, 1024, kernel_size=(1, 1), stride=(1, 1), bias=False)\n",
              "          (norm): BatchNorm2d(1024, eps=1e-05, momentum=0.1, affine=True, track_running_stats=True)\n",
              "          (activation): GELU(approximate='none')\n",
              "        )\n",
              "        (1): ConvLayer(\n",
              "          (conv): Conv2d(1024, 1024, kernel_size=(3, 3), stride=(1, 1), padding=(1, 1), groups=32, bias=False)\n",
              "          (norm): BatchNorm2d(1024, eps=1e-05, momentum=0.1, affine=True, track_running_stats=True)\n",
              "          (activation): GELU(approximate='none')\n",
              "        )\n",
              "        (2): ConvLayer(\n",
              "          (conv): Conv2d(1024, 2048, kernel_size=(1, 1), stride=(1, 1), bias=False)\n",
              "          (norm): BatchNorm2d(2048, eps=1e-05, momentum=0.1, affine=True, track_running_stats=True)\n",
              "        )\n",
              "      )\n",
              "      (dropout): Dropout2d(p=0.1, inplace=False)\n",
              "      (activation): GELU(approximate='none')\n",
              "    )\n",
              "    (2): BottleneckBlock(\n",
              "      (bottleneck): Sequential(\n",
              "        (0): ConvLayer(\n",
              "          (conv): Conv2d(2048, 1024, kernel_size=(1, 1), stride=(1, 1), bias=False)\n",
              "          (norm): BatchNorm2d(1024, eps=1e-05, momentum=0.1, affine=True, track_running_stats=True)\n",
              "          (activation): GELU(approximate='none')\n",
              "        )\n",
              "        (1): ConvLayer(\n",
              "          (conv): Conv2d(1024, 1024, kernel_size=(3, 3), stride=(1, 1), padding=(1, 1), groups=32, bias=False)\n",
              "          (norm): BatchNorm2d(1024, eps=1e-05, momentum=0.1, affine=True, track_running_stats=True)\n",
              "          (activation): GELU(approximate='none')\n",
              "        )\n",
              "        (2): ConvLayer(\n",
              "          (conv): Conv2d(1024, 2048, kernel_size=(1, 1), stride=(1, 1), bias=False)\n",
              "          (norm): BatchNorm2d(2048, eps=1e-05, momentum=0.1, affine=True, track_running_stats=True)\n",
              "        )\n",
              "      )\n",
              "      (dropout): Dropout2d(p=0.1, inplace=False)\n",
              "      (activation): GELU(approximate='none')\n",
              "    )\n",
              "  )\n",
              "  (average_pool): AdaptiveAvgPool2d(output_size=(1, 1))\n",
              "  (fc_out): Linear(in_features=2048, out_features=1000, bias=True)\n",
              ")"
            ]
          },
          "metadata": {},
          "execution_count": 9
        }
      ]
    },
    {
      "cell_type": "code",
      "source": [
        "from torchvision.models import ResNeXt101_32X8D_Weights\n",
        "\n",
        "tvis_model= models.resnext101_32x8d(weights=ResNeXt101_32X8D_Weights.IMAGENET1K_V1).to(device)\n",
        "count_parameters(tvis_model)\n",
        "print(tvis_model(img).shape)"
      ],
      "metadata": {
        "colab": {
          "base_uri": "https://localhost:8080/"
        },
        "id": "ICn1xuTijRKr",
        "outputId": "4a05ad39-4eb7-48a3-f09d-a94473f5d912"
      },
      "execution_count": null,
      "outputs": [
        {
          "output_type": "stream",
          "name": "stderr",
          "text": [
            "Downloading: \"https://download.pytorch.org/models/resnext101_32x8d-8ba56ff5.pth\" to /root/.cache/torch/hub/checkpoints/resnext101_32x8d-8ba56ff5.pth\n",
            "100%|██████████| 340M/340M [00:01<00:00, 214MB/s]\n"
          ]
        },
        {
          "output_type": "stream",
          "name": "stdout",
          "text": [
            "Number of parameters: 88791336\n",
            "torch.Size([1, 1000])\n"
          ]
        }
      ]
    },
    {
      "cell_type": "code",
      "source": [
        "model= ResNeXt(model_hparameters['resnext101_32x8d'], in_channels=3, num_classes=1000).to(device)\n",
        "count_parameters(model)\n",
        "print(model(img).shape)"
      ],
      "metadata": {
        "colab": {
          "base_uri": "https://localhost:8080/"
        },
        "id": "XCjnmb5Cjk9O",
        "outputId": "2fcca5f8-45b5-4175-dbd0-c56ed2aab52a"
      },
      "execution_count": null,
      "outputs": [
        {
          "output_type": "stream",
          "name": "stdout",
          "text": [
            "Number of parameters: 88791336\n",
            "torch.Size([1, 1000])\n"
          ]
        }
      ]
    },
    {
      "cell_type": "code",
      "source": [
        "from torchvision.models import ResNeXt101_64X4D_Weights\n",
        "\n",
        "tvis_model= models.resnext101_64x4d(weights=ResNeXt101_64X4D_Weights.IMAGENET1K_V1).to(device)\n",
        "count_parameters(tvis_model)\n",
        "print(tvis_model(img).shape)"
      ],
      "metadata": {
        "colab": {
          "base_uri": "https://localhost:8080/"
        },
        "id": "tZLSwhRGtWTB",
        "outputId": "b6965691-11a7-4397-cc6d-cba0c65990b3"
      },
      "execution_count": null,
      "outputs": [
        {
          "output_type": "stream",
          "name": "stderr",
          "text": [
            "Downloading: \"https://download.pytorch.org/models/resnext101_64x4d-173b62eb.pth\" to /root/.cache/torch/hub/checkpoints/resnext101_64x4d-173b62eb.pth\n",
            "100%|██████████| 319M/319M [00:01<00:00, 172MB/s]\n"
          ]
        },
        {
          "output_type": "stream",
          "name": "stdout",
          "text": [
            "Number of parameters: 83455272\n",
            "torch.Size([1, 1000])\n"
          ]
        }
      ]
    },
    {
      "cell_type": "code",
      "source": [
        "model= ResNeXt(model_hparameters['resnext101_64x4d'], in_channels=3, num_classes=1000).to(device)\n",
        "count_parameters(model)\n",
        "print(model(img).shape)"
      ],
      "metadata": {
        "colab": {
          "base_uri": "https://localhost:8080/"
        },
        "id": "BeWsjY-FjlrP",
        "outputId": "700dac7b-b20e-4112-dabb-84bdc5ca4145"
      },
      "execution_count": null,
      "outputs": [
        {
          "output_type": "stream",
          "name": "stdout",
          "text": [
            "Number of parameters: 83455272\n",
            "torch.Size([1, 1000])\n"
          ]
        }
      ]
    },
    {
      "cell_type": "markdown",
      "source": [
        "# Training a ResNeXt model from scratch"
      ],
      "metadata": {
        "id": "OQoeWmR-1ZgB"
      }
    },
    {
      "cell_type": "code",
      "source": [
        "from torch.utils.data import DataLoader, random_split\n",
        "from torchvision import datasets, transforms"
      ],
      "metadata": {
        "id": "uW33o5SV04hs"
      },
      "execution_count": null,
      "outputs": []
    },
    {
      "cell_type": "code",
      "source": [
        "# data preparation -- define transformations for the dataset\n",
        "transform= transforms.Compose([\n",
        "    transforms.Resize((224, 224)),\n",
        "    transforms.ToTensor(),\n",
        "    transforms.RandomHorizontalFlip(),\n",
        "    transforms.Normalize(mean=[0.4914, 0.4822, 0.4465],\n",
        "                         std= [0.2023, 0.1994, 0.2010]), # CIFAR-10 stats\n",
        "])\n",
        "\n",
        "# load the CIFAR-10 dataset\n",
        "train_dataset= datasets.CIFAR10(root='./data', train=True, download=True, transform=transform)\n",
        "test_dataset = datasets.CIFAR10(root='./data', train=False,download=True, transform=transform)\n",
        "\n",
        "# create data loaders\n",
        "train_size= int(0.9 * len(train_dataset))\n",
        "val_size  = len(train_dataset) - train_size\n",
        "train_dataset, val_dataset= random_split(train_dataset, [train_size, val_size])\n",
        "\n",
        "batch_size= 128\n",
        "train_loader= DataLoader(train_dataset,batch_size=batch_size, shuffle=True)\n",
        "val_loader  = DataLoader(val_dataset,  batch_size=batch_size, shuffle=False)\n",
        "test_loader = DataLoader(test_dataset, batch_size=batch_size, shuffle=False)"
      ],
      "metadata": {
        "id": "pvsOjgsa04lK",
        "colab": {
          "base_uri": "https://localhost:8080/"
        },
        "outputId": "65ad428b-a1eb-4d94-debf-119a2deee67b"
      },
      "execution_count": null,
      "outputs": [
        {
          "output_type": "stream",
          "name": "stderr",
          "text": [
            "100%|██████████| 170M/170M [00:02<00:00, 83.2MB/s]\n"
          ]
        }
      ]
    },
    {
      "cell_type": "code",
      "source": [
        "len(train_loader), len(val_loader)"
      ],
      "metadata": {
        "id": "tBqNkI6s04pQ",
        "colab": {
          "base_uri": "https://localhost:8080/"
        },
        "outputId": "83b07eca-1d65-4362-889d-0dba1add2425"
      },
      "execution_count": null,
      "outputs": [
        {
          "output_type": "execute_result",
          "data": {
            "text/plain": [
              "(352, 40)"
            ]
          },
          "metadata": {},
          "execution_count": 16
        }
      ]
    },
    {
      "cell_type": "markdown",
      "source": [
        "# Trainer Function\n",
        "\n",
        "TODO:\n",
        "\n",
        "- Data augmentation for training.\n",
        "- Early Stopping: based on validation loss to prevent overfitting.\n",
        "- Play with different activation functions.\n",
        "- Play with different learning rate values."
      ],
      "metadata": {
        "id": "UGCx_ZzU1i5h"
      }
    },
    {
      "cell_type": "code",
      "source": [
        "def trainer(model, train_loader, val_loader, optimizer, criterion, scheduler, epochs,\n",
        "            device, eval_interval=1, verbose=False):\n",
        "\n",
        "    tr_loss_hist= []\n",
        "    vl_loss_hist= []\n",
        "\n",
        "    # --- training loop ---\n",
        "    for epoch in range(epochs):\n",
        "        model.train()\n",
        "        batch_loss= []\n",
        "        start= time.time()\n",
        "\n",
        "        # --- training steps ---\n",
        "        # iterating over all batches\n",
        "        for step, (images, labels) in enumerate(train_loader):\n",
        "            # --- minibatch construction ---\n",
        "            images= images.to(device, non_blocking=True)\n",
        "            labels= labels.to(device, non_blocking=True)\n",
        "\n",
        "            # --- forward pass and get loss ---\n",
        "            logits= model(images)\n",
        "            loss= criterion(logits, labels)\n",
        "            batch_loss.append(loss.item())\n",
        "\n",
        "            # --- backward pass to calculate the gradients ---\n",
        "            optimizer.zero_grad()\n",
        "            loss.backward()\n",
        "\n",
        "            # --- update the parameters using the gradient ---\n",
        "            optimizer.step()\n",
        "\n",
        "        # --- evaluation and track stats ---\n",
        "        tr_loss_hist.append(np.mean(batch_loss))\n",
        "\n",
        "        if epoch% eval_interval== 0 or epoch== epochs-1:\n",
        "            model.eval()\n",
        "            val_loss= []\n",
        "            with torch.no_grad():\n",
        "                for images, labels in val_loader:\n",
        "                    images, labels= images.to(device), labels.to(device)\n",
        "                    logits= model(images)\n",
        "                    loss_v= criterion(logits, labels)\n",
        "                    val_loss.append(loss_v.item())\n",
        "\n",
        "            val_loss= np.mean(val_loss)\n",
        "            end= time.time()\n",
        "            dt= end - start\n",
        "\n",
        "            if verbose:\n",
        "                print(f\"Epoch: {epoch} | Train Loss: {tr_loss_hist[-1]:.4f} | \"\n",
        "                      f\"Val Loss: {val_loss:.4f} | dt/epoch: {dt*1000:.2f}ms\")\n",
        "\n",
        "            # for decreasing learning rate -- the ReduceLROnPlateau is designed to be used per epoch\n",
        "            scheduler.step(val_loss)\n",
        "\n",
        "        vl_loss_hist.append(val_loss)\n",
        "\n",
        "    return tr_loss_hist, vl_loss_hist\n"
      ],
      "metadata": {
        "id": "CTO-jPfS04ts"
      },
      "execution_count": null,
      "outputs": []
    },
    {
      "cell_type": "code",
      "source": [
        "def evaluate_model(model, test_loader, device, verbose=False):\n",
        "    model.eval()\n",
        "    correct= 0\n",
        "    total= 0\n",
        "\n",
        "    with torch.no_grad():\n",
        "        for images, labels in test_loader:\n",
        "            images, labels= images.to(device), labels.to(device)\n",
        "            logits= model(images)\n",
        "            y_pred= torch.argmax(logits, dim=1)\n",
        "            correct += (y_pred == labels).sum().item()\n",
        "            total += labels.size(0)\n",
        "\n",
        "    acc= correct / total\n",
        "    if verbose:\n",
        "        print(f\"Accuracy: {(acc * 100):.2f}%\")\n",
        "\n",
        "    return acc\n"
      ],
      "metadata": {
        "id": "S-kPxp1D04wl"
      },
      "execution_count": null,
      "outputs": []
    },
    {
      "cell_type": "code",
      "source": [
        "def plot_losses(train_loss, valid_loss):\n",
        "    # plot training and validation losses\n",
        "    plt.plot(train_loss, label='Train Loss')\n",
        "    plt.plot(valid_loss, label='Validation Loss')\n",
        "    plt.title('Losses')\n",
        "    plt.xlabel('Epochs')\n",
        "    plt.ylabel('Loss')\n",
        "    plt.legend()\n",
        "    plt.grid()"
      ],
      "metadata": {
        "id": "ezUYpOR904zV"
      },
      "execution_count": null,
      "outputs": []
    },
    {
      "cell_type": "markdown",
      "source": [
        "# Training setup using TF32 and Fused AdamW"
      ],
      "metadata": {
        "id": "XjHuiHSy1y-J"
      }
    },
    {
      "cell_type": "code",
      "source": [
        "use_fused= False\n",
        "\n",
        "if device== 'cuda': # TF32 computationally more efficient (slightly the same precision of FP32)\n",
        "    torch.set_float32_matmul_precision('high')\n",
        "    # create AdamW optimizer and use the fused version of it is available\n",
        "    fused_available= 'fused' in inspect.signature(torch.optim.AdamW).parameters\n",
        "    # fused is a lot faster when it is available and when running on cuda\n",
        "    use_fused= fused_available\n",
        "\n",
        "# --- ResNeXt ---\n",
        "in_channels= 3\n",
        "num_classes= 10\n",
        "\n",
        "model= ResNeXt(\n",
        "    model_hparameters['resnext50_32x4d'], in_channels, num_classes, dropout=0.1\n",
        ").to(device)\n",
        "\n",
        "count_parameters(model)\n",
        "\n",
        "\n",
        "# train_loader has size 352, so 20 epochs have 7,040 steps\n",
        "epochs= 20\n",
        "learning_rate= 5e-4\n",
        "\n",
        "optimizer= torch.optim.AdamW(\n",
        "    model.parameters(), lr=learning_rate, betas=(0.9, 0.999), weight_decay=1e-4,\n",
        "    fused=use_fused\n",
        ")\n",
        "print(f\"Using fused AdamW: {use_fused}\")\n",
        "criterion= nn.CrossEntropyLoss()\n",
        "\n",
        "# for decreasing learning rate -- the ReduceLROnPlateau is designed to be used per epoch\n",
        "scheduler= ReduceLROnPlateau(optimizer, mode='min', factor=0.1, patience=5, min_lr=1e-6)"
      ],
      "metadata": {
        "id": "uIrygnc-041X",
        "colab": {
          "base_uri": "https://localhost:8080/"
        },
        "outputId": "dd9708d5-5023-4342-9801-f11b6d770f14"
      },
      "execution_count": null,
      "outputs": [
        {
          "output_type": "stream",
          "name": "stdout",
          "text": [
            "Number of parameters: 23000394\n",
            "Using fused AdamW: True\n"
          ]
        }
      ]
    },
    {
      "cell_type": "code",
      "source": [
        "tr_loss, vl_loss= trainer(model, train_loader, val_loader, optimizer, criterion, scheduler,\n",
        "                          epochs, device, verbose=True)"
      ],
      "metadata": {
        "id": "AHIZXI-B044U",
        "colab": {
          "base_uri": "https://localhost:8080/"
        },
        "outputId": "14349648-1677-47ce-e5fd-4337ae20695c"
      },
      "execution_count": null,
      "outputs": [
        {
          "output_type": "stream",
          "name": "stdout",
          "text": [
            "Epoch: 0 | Train Loss: 1.6754 | Val Loss: 1.4763 | dt/epoch: 98667.81ms\n",
            "Epoch: 1 | Train Loss: 1.0517 | Val Loss: 0.9628 | dt/epoch: 97813.50ms\n",
            "Epoch: 2 | Train Loss: 0.7850 | Val Loss: 0.7932 | dt/epoch: 97531.24ms\n",
            "Epoch: 3 | Train Loss: 0.6198 | Val Loss: 0.6656 | dt/epoch: 97818.35ms\n",
            "Epoch: 4 | Train Loss: 0.4988 | Val Loss: 0.6113 | dt/epoch: 97603.17ms\n",
            "Epoch: 5 | Train Loss: 0.4259 | Val Loss: 0.5686 | dt/epoch: 97839.90ms\n",
            "Epoch: 6 | Train Loss: 0.3573 | Val Loss: 0.4243 | dt/epoch: 97803.33ms\n",
            "Epoch: 7 | Train Loss: 0.3116 | Val Loss: 0.4346 | dt/epoch: 98082.04ms\n",
            "Epoch: 8 | Train Loss: 0.2702 | Val Loss: 0.4676 | dt/epoch: 98260.43ms\n",
            "Epoch: 9 | Train Loss: 0.2348 | Val Loss: 0.4056 | dt/epoch: 97817.59ms\n",
            "Epoch: 10 | Train Loss: 0.2034 | Val Loss: 0.4682 | dt/epoch: 97590.69ms\n",
            "Epoch: 11 | Train Loss: 0.1722 | Val Loss: 0.4837 | dt/epoch: 97759.53ms\n",
            "Epoch: 12 | Train Loss: 0.1516 | Val Loss: 0.3956 | dt/epoch: 97520.16ms\n",
            "Epoch: 13 | Train Loss: 0.1351 | Val Loss: 0.4828 | dt/epoch: 97953.09ms\n",
            "Epoch: 14 | Train Loss: 0.1178 | Val Loss: 0.4308 | dt/epoch: 97693.30ms\n",
            "Epoch: 15 | Train Loss: 0.1050 | Val Loss: 0.4873 | dt/epoch: 98136.81ms\n",
            "Epoch: 16 | Train Loss: 0.0966 | Val Loss: 0.4281 | dt/epoch: 98262.57ms\n",
            "Epoch: 17 | Train Loss: 0.0907 | Val Loss: 0.5000 | dt/epoch: 97858.17ms\n",
            "Epoch: 18 | Train Loss: 0.0817 | Val Loss: 0.4350 | dt/epoch: 97757.34ms\n",
            "Epoch: 19 | Train Loss: 0.0319 | Val Loss: 0.3623 | dt/epoch: 97604.61ms\n"
          ]
        }
      ]
    },
    {
      "cell_type": "code",
      "source": [
        "# plot\n",
        "plot_losses(tr_loss, vl_loss)"
      ],
      "metadata": {
        "id": "jFVX0Ecd047d",
        "colab": {
          "base_uri": "https://localhost:8080/",
          "height": 472
        },
        "outputId": "627c36b4-4832-49e8-facd-3b8b9968c112"
      },
      "execution_count": null,
      "outputs": [
        {
          "output_type": "display_data",
          "data": {
            "text/plain": [
              "<Figure size 640x480 with 1 Axes>"
            ],
            "image/png": "[encoded data removed]"
          },
          "metadata": {}
        }
      ]
    },
    {
      "cell_type": "code",
      "source": [
        "resnext_acc= evaluate_model(model, test_loader, device, verbose=True)"
      ],
      "metadata": {
        "id": "RYHetqx42CGO",
        "colab": {
          "base_uri": "https://localhost:8080/"
        },
        "outputId": "f95167c4-04f2-4c38-8b47-7250e24ffce0"
      },
      "execution_count": null,
      "outputs": [
        {
          "output_type": "stream",
          "name": "stdout",
          "text": [
            "Accuracy: 90.57%\n"
          ]
        }
      ]
    },
    {
      "cell_type": "code",
      "source": [
        "# https://github.com/facebookresearch/ResNeXt/blob/master/models/resnext.lua\n",
        "# https://github.com/pytorch/vision/blob/main/torchvision/models/resnet.py\n",
        "# https://www.geeksforgeeks.org/resnext-architecture-in-computer-vision/\n",
        "# https://towardsai.net/p/computer-vision/resnext-from-scratch\n",
        "# https://medium.com/@atakanerdogan305/resnext-a-new-paradigm-in-image-processing-ee40425aea1f\n",
        "# https://medium.com/the-modern-scientist/resnext-revolutionizing-deep-learning-with-wide-residual-networks-f403f843234b\n",
        "# https://github.com/titu1994/Keras-ResNeXt"
      ],
      "metadata": {
        "id": "ohmfVE-B2CJd"
      },
      "execution_count": null,
      "outputs": []
    }
  ]
}