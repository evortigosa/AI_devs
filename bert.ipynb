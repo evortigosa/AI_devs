{
  "cells": [
    {
      "cell_type": "markdown",
      "metadata": {
        "id": "ASiPzmfQ5YYs"
      },
      "source": [
        "# Bidirectional Encoder Representations from Transformers (BERT)\n",
        "\n",
        "While BERT shares some architectural similarities with autoregressive models like GPT, its primary objective is text understanding rather than generation. This focus makes BERT particularly effective for tasks such as sentiment analysis — evaluating the positivity of a product review — or determining whether an answer to a question is correct.\n",
        "\n",
        "In transformer architectures, the encoder transforms the input sequence into a dense, abstract representation that captures its semantic content. In generation models, a projection head then converts this representation back into text. In contrast, an encoder-only model like BERT is designed to produce a rich and meaningful representation of the input, which can then be used directly for various downstream tasks without requiring text generation.\n",
        "\n",
        "https://arxiv.org/abs/1810.04805"
      ]
    },
    {
      "cell_type": "code",
      "execution_count": 1,
      "metadata": {
        "id": "E1PBzbmw43zA"
      },
      "outputs": [],
      "source": [
        "import math\n",
        "import numpy as np\n",
        "import pandas as pd\n",
        "import matplotlib.pyplot as plt\n",
        "import inspect\n",
        "import torch\n",
        "import torch.nn as nn\n",
        "import torch.nn.functional as F\n",
        "from tqdm import tqdm"
      ]
    },
    {
      "cell_type": "code",
      "source": [
        "# defining the device the data ends up living\n",
        "device= torch.device('cuda' if torch.cuda.is_available() else 'cpu')"
      ],
      "metadata": {
        "id": "BOl8rBKlCPl0"
      },
      "execution_count": 2,
      "outputs": []
    },
    {
      "cell_type": "code",
      "source": [
        "# count how many trainable weights the model has\n",
        "def count_parameters(model) -> None:\n",
        "    total_params= sum(p.numel() for p in model.parameters() if p.requires_grad)\n",
        "    print(f'Number of parameters: {total_params}')"
      ],
      "metadata": {
        "id": "RipiqrmzCPv5"
      },
      "execution_count": 3,
      "outputs": []
    },
    {
      "cell_type": "markdown",
      "metadata": {
        "id": "ayk65bwD3HIY"
      },
      "source": [
        "# Defining the Model\n",
        "\n",
        "A BERT-style model, as a variant of the Transformer architecture, represents each token as a high-dimensional vector. These vectors encode semantic and syntactic information, enabling the model to reason about words and capture a rich understanding of the input text. Therefore, it is essential to convert raw tokens (integers) into these dense vector representations through a learned embedding process."
      ]
    },
    {
      "cell_type": "markdown",
      "source": [
        "# Embedding\n",
        "\n",
        "The embedding module is responsible for converting tokens into vector representations while incorporating positional information. This is achieved through learned lookup tables for three types of embeddings:\n",
        "\n",
        "- **Token embeddings:** Each token in the vocabulary is mapped to a unique vector representation.\n",
        "- **Positional embeddings:** Each position in the input sequence is assigned a distinct vector, enabling the model to capture word order.\n",
        "- **Segment embeddings:** Distinct vectors are assigned to differentiate between segments in tasks involving multiple sentences.\n",
        "\n",
        "Initially, these embeddings are randomly initialized, meaning they do not carry meaningful information. However, since they are learnable parameters, the model gradually refines them through training, optimizing representations for both token identities and positional encoding."
      ],
      "metadata": {
        "id": "VIUBYQ1C8-Ff"
      }
    },
    {
      "cell_type": "code",
      "source": [
        "class Embedding(nn.Module):\n",
        "    \"\"\"\n",
        "    This is the first component of the model which converts tokens into vectors. These vectors\n",
        "    are learned throughout the training process, where there's esssentially a lookup table for\n",
        "    each word.\n",
        "    \"\"\"\n",
        "\n",
        "    def __init__(self, d_model, vocab_size, input_length, n_segments, dropout=0.1) -> None:\n",
        "        super(Embedding, self).__init__()\n",
        "        # token embedding\n",
        "        self.tok_embed= nn.Embedding(vocab_size, d_model)\n",
        "        # position embedding\n",
        "        self.pos_embed= nn.Embedding(input_length, d_model)\n",
        "        # segment (token type) embedding\n",
        "        self.seg_embed= nn.Embedding(n_segments, d_model)\n",
        "\n",
        "        # apply layer normalization and dropout\n",
        "        self.norm= nn.LayerNorm(d_model)\n",
        "        self.dropout= nn.Dropout(p=dropout)\n",
        "\n",
        "\n",
        "    def forward(self, x, seg_location):\n",
        "        batch_size, seq_len= x.shape\n",
        "        pos= torch.arange(0, seq_len, dtype=torch.long, device=x.device)  # [seq_len, ]\n",
        "        pos= pos.unsqueeze(0).expand(batch_size, seq_len)  # [batch_size, seq_len]\n",
        "        # get embeddings\n",
        "        tok_emb= self.tok_embed(x)  # [batch_size, seq_len, d_model]\n",
        "        pos_emb= self.pos_embed(pos)\n",
        "        seg_emb= self.seg_embed(seg_location.long())\n",
        "        # combine embeddings\n",
        "        embedding= tok_emb + pos_emb + seg_emb\n",
        "\n",
        "        return self.dropout(self.norm(embedding))\n"
      ],
      "metadata": {
        "id": "9M8hbVHoemk1"
      },
      "execution_count": 4,
      "outputs": []
    },
    {
      "cell_type": "markdown",
      "source": [
        "# Multi-Headed Self-Attention\n",
        "\n",
        "BERT follows a transformer-based architecture, where Multi-Head Self-Attention (MHSA) is a fundamental component.\n",
        "\n",
        "In our implementation, a batch of input sequences is first projected into Query, Key, and Value representations. These representations are then split into multiple attention heads, introducing an additional dimension for parallelization. Since PyTorch inherently parallelizes computations along the batch dimension (0th axis), we leverage this behavior by merging the batch and head dimensions, enabling efficient parallel computation across both.\n",
        "\n",
        "Key hyperparameters in our implementation include:\n",
        "\n",
        "- **n_heads** specifies the number of attention heads in each MHSA block.\n",
        "- **query_key_dim** specifies the dimensionality of the Query and Key vectors.\n",
        "- **value_dim** specifies the dimensionality of the Value vectors.\n",
        "\n",
        "These hyperparameters influence the model's ability to capture diverse feature interactions while maintaining computational efficiency."
      ],
      "metadata": {
        "id": "LFyEhpzd9djo"
      }
    },
    {
      "cell_type": "code",
      "source": [
        "class MultiHeadSelfAttention(nn.Module):\n",
        "    \"\"\"\n",
        "    MHSA has four sets of parameters -- all dense linear modules. Three of them turn the model's\n",
        "    input tensors into inputs for MHSA, and the other turns the output of MHSA back into the\n",
        "    shape needed for modeling (d_model).\n",
        "    \"\"\"\n",
        "\n",
        "    def __init__(self, d_model, query_key_dim, value_dim, n_heads, dropout=0.1) -> None:\n",
        "        super(MultiHeadSelfAttention, self).__init__()\n",
        "        assert d_model % n_heads == 0, \"d_model must be divisible by n_heads\"\n",
        "        self.query_key_dim= query_key_dim\n",
        "        self.value_dim= value_dim\n",
        "        self.n_heads= n_heads\n",
        "        # defining the linear layers that construct the Query, Key, and Value\n",
        "        self.W_Q= nn.Linear(d_model, n_heads * query_key_dim)\n",
        "        self.W_K= nn.Linear(d_model, n_heads * query_key_dim)\n",
        "        self.W_V= nn.Linear(d_model, n_heads * value_dim)\n",
        "        # dropout module for regularization\n",
        "        self.dropout= nn.Dropout(p=dropout)\n",
        "        # projects final output of MHSA back into model dimension\n",
        "        self.o_proj= nn.Linear(n_heads * value_dim, d_model)\n",
        "\n",
        "\n",
        "    def forward(self, x):\n",
        "        batch_size, seq_len, _= x.size()\n",
        "        # passing x (embedding) through dense networks\n",
        "        q= self.W_Q(x) # [batch_size, seq_len, (n_heads * query_key_dim)]\n",
        "        k= self.W_K(x) # [batch_size, seq_len, (n_heads * query_key_dim)]\n",
        "        v= self.W_V(x) # [batch_size, seq_len, (n_heads * value_dim)]\n",
        "\n",
        "        # dividing out heads -- [batch_size, seq_len, n_heads, qk/v_dim]\n",
        "        q= q.view(batch_size, -1, self.n_heads, self.query_key_dim).transpose(1, 2)\n",
        "        k= k.view(batch_size, -1, self.n_heads, self.query_key_dim).transpose(1, 2)\n",
        "        v= v.view(batch_size, -1, self.n_heads, self.value_dim).transpose(1, 2)\n",
        "        # and then moving the head dimension next to the batch dimension\n",
        "        # [batch_size, n_heads, seq_len, qk/v_dim]\n",
        "\n",
        "        # passing batches/heads through the 'scaled dot product'\n",
        "        attn= (q @ k.transpose(-2, -1)) * (1.0 / math.sqrt(k.size(-1)))\n",
        "        # normalize Attention scores\n",
        "        attn= F.softmax(attn, dim=-1)\n",
        "        attn= self.dropout(attn)\n",
        "        # compute Attention output\n",
        "        context= attn @ v  # [batch, head, seq_len, head_dim]\n",
        "\n",
        "        # permuting back between head and seq_len dimensions\n",
        "        context= context.transpose(1, 2)  # [batch_size, seq_len, n_heads, value_dim]\n",
        "        # combining the last dim to effectively concatenate the result of the heads\n",
        "        # [batch_size, seq_len, (n_heads * value_dim)]\n",
        "        context= context.contiguous().view(batch_size, seq_len, -1)\n",
        "\n",
        "        # projecting result of head back into model dimension\n",
        "        return self.o_proj(context)\n"
      ],
      "metadata": {
        "id": "83K8HM3ilcp9"
      },
      "execution_count": 5,
      "outputs": []
    },
    {
      "cell_type": "markdown",
      "metadata": {
        "id": "paGnuiOkr0vR"
      },
      "source": [
        "# Pointwise Feed-Forward Network\n",
        "\n",
        "This module corresponds to the Feed-Forward Network (FFN) in BERT, which is applied independently to each word vector. The FFN consists of a multi-layer perceptron (MLP) that first expands the dimensionality of the input representation, allowing the model to capture a broader range of features. This expanded representation undergoes nonlinear transformations, enabling the network to model complex dependencies and interactions. Finally, the output is projected back to the original embedding dimension, ensuring compatibility with the residual connection while preserving the enriched feature representations."
      ]
    },
    {
      "cell_type": "code",
      "source": [
        "class PointwiseFeedForwardNet(nn.Module):\n",
        "    \"\"\"\n",
        "    In this implementation we are expanding the input tensors to four times their size (default\n",
        "    is d_ff= 4 * d_model), applying a non-linear activation function, then compressing that data\n",
        "    back into the original model dimension length (d_model).\n",
        "    \"\"\"\n",
        "\n",
        "    def __init__(self, d_model, d_ff, dropout=0.1) -> None:\n",
        "        super(PointwiseFeedForwardNet, self).__init__()\n",
        "        self.fc1 = nn.Linear(d_model, d_ff)\n",
        "        self.gelu= nn.GELU()\n",
        "        self.dropout= nn.Dropout(p=dropout)\n",
        "        self.fc2 = nn.Linear(d_ff, d_model)\n",
        "\n",
        "\n",
        "    def forward(self, x):\n",
        "        x= self.fc1(x)  # [batch_size, seq_len, d_model] -> [batch_size, seq_len, d_ff]\n",
        "        x= self.gelu(x)\n",
        "        x= self.dropout(x)\n",
        "        x= self.fc2(x)  # [batch_size, seq_len, d_ff] -> [batch_size, seq_len, d_model]\n",
        "\n",
        "        return x\n"
      ],
      "metadata": {
        "id": "OwwxHzX8l23a"
      },
      "execution_count": 6,
      "outputs": []
    },
    {
      "cell_type": "code",
      "source": [
        "# example usage\n",
        "d_model= 256\n",
        "d_ff= 4 * d_model\n",
        "\n",
        "sample= PointwiseFeedForwardNet(d_model=d_model, d_ff=d_ff).to(device)\n",
        "sample_embeddings= torch.tensor([[[1.1] * d_model] * 64] * 128).to(device)\n",
        "sample(sample_embeddings).shape"
      ],
      "metadata": {
        "colab": {
          "base_uri": "https://localhost:8080/"
        },
        "id": "-A_cPmZcSYOg",
        "outputId": "0c415789-02fb-451d-c668-4c960297e8cf"
      },
      "execution_count": null,
      "outputs": [
        {
          "output_type": "execute_result",
          "data": {
            "text/plain": [
              "torch.Size([128, 64, 256])"
            ]
          },
          "metadata": {},
          "execution_count": 7
        }
      ]
    },
    {
      "cell_type": "markdown",
      "source": [
        "# The Transformer Encoder Block\n",
        "\n",
        "With the Multi-Head Self-Attention (MHSA) and Feed-Forward Network (FFN) components defined, we can now construct a single encoder block. The encoder block follows these steps:\n",
        "\n",
        "- The input is processed by the MHSA module.\n",
        "- A residual connection is applied by adding the original input to the MHSA output, followed by layer normalization.\n",
        "- The result is passed through the FFN.\n",
        "- Another residual connection is applied by adding the FFN output to the previous result, followed by a second layer normalization.\n",
        "\n",
        "These residual connections facilitate gradient flow during training, mitigating the vanishing gradient problem and allowing the model to integrate both low-level and high-level representations effectively.\n",
        "\n",
        "**NOTE:** Very few details about the Transformer architecture have changed in the last five years, but there is something slightly departs from the original paper. You see that Add and Norm is applied **after** (Post-LN) the transformation (Multi-Headed Self-Attention). But now it is more common to apply LayerNorm **before** (Pre-LN) the transformation, so there is a reshuffling of the Layer Norm. This is called **pre-norm formulation** and that is the one we are going to implement as well."
      ],
      "metadata": {
        "id": "JBnx334y9ykJ"
      }
    },
    {
      "cell_type": "code",
      "source": [
        "class EncoderBlock(nn.Module):\n",
        "    \"\"\"\n",
        "    The Encoder block connects Self-Attention and FeedForward Network through LayerNorms and\n",
        "    residual connections.\n",
        "    Pre-normalization: LayerNorms are before the application of Attention and FeedForward\n",
        "    in order to keep a clean residual stream all the way down to the input tokens.\n",
        "    \"\"\"\n",
        "\n",
        "    def __init__(self, d_model, d_ff, query_key_dim, value_dim, n_heads, dropout=0.1) -> None:\n",
        "        super(EncoderBlock, self).__init__()\n",
        "\n",
        "        self.norm1= nn.LayerNorm(d_model)\n",
        "        self.mhsa= MultiHeadSelfAttention(d_model, query_key_dim, value_dim, n_heads, dropout)\n",
        "        self.dropout1= nn.Dropout(p=dropout)\n",
        "\n",
        "        self.norm2= nn.LayerNorm(d_model)\n",
        "        self.pffn= PointwiseFeedForwardNet(d_model, d_ff, dropout)\n",
        "        self.dropout2= nn.Dropout(p=dropout)\n",
        "\n",
        "\n",
        "    def forward(self, x):\n",
        "        # apply residual connection to Attention\n",
        "        x_norm= self.norm1(x)\n",
        "        x= x + self.dropout1(self.mhsa(x_norm))\n",
        "        # apply residual connection to FFN\n",
        "        x_norm= self.norm2(x)\n",
        "        x= x + self.dropout2(self.pffn(x_norm))\n",
        "\n",
        "        return x\n"
      ],
      "metadata": {
        "id": "ZU05t8sEmYDh"
      },
      "execution_count": 7,
      "outputs": []
    },
    {
      "cell_type": "code",
      "source": [
        "# example usage\n",
        "sample= EncoderBlock(d_model, d_ff, query_key_dim=64, value_dim=64, n_heads=4).to(device)\n",
        "sample_embeddings= torch.tensor([[[1.1] * d_model] * 64] * 128).to(device)\n",
        "sample(sample_embeddings).shape"
      ],
      "metadata": {
        "colab": {
          "base_uri": "https://localhost:8080/"
        },
        "id": "sGzVYnBNSnij",
        "outputId": "e04b74aa-a2a9-48b5-b5e4-9b575a3418b9"
      },
      "execution_count": null,
      "outputs": [
        {
          "output_type": "execute_result",
          "data": {
            "text/plain": [
              "torch.Size([128, 64, 256])"
            ]
          },
          "metadata": {},
          "execution_count": 10
        }
      ]
    },
    {
      "cell_type": "markdown",
      "source": [
        "# The Encoder Module\n",
        "\n",
        "The encoder is composed of a stack of identical EncoderBlocks (or layers)."
      ],
      "metadata": {
        "id": "RkSxmq46WHUl"
      }
    },
    {
      "cell_type": "code",
      "source": [
        "class TransformerEncoder(nn.Module):\n",
        "    \"\"\"\n",
        "    The Transformer Encoder is essentially a stack of N Encoder Blocks.\n",
        "    \"\"\"\n",
        "\n",
        "    def __init__(self, n_layers=12, d_model=768, d_ff=3072, n_heads=12, query_key_dim=64,\n",
        "                 value_dim=64, dropout=0.1) -> None:\n",
        "        super(TransformerEncoder, self).__init__()\n",
        "\n",
        "        self.transformer= nn.ModuleList([\n",
        "            EncoderBlock(d_model, d_ff, query_key_dim, value_dim, n_heads, dropout)\n",
        "            for _ in range(n_layers)\n",
        "        ])\n",
        "        # final LayerNorm after the transformer\n",
        "        self.ln_final= nn.LayerNorm(d_model, eps=1e-12)\n",
        "\n",
        "\n",
        "    def forward(self, x):\n",
        "        for block in self.transformer:\n",
        "            x= block(x)\n",
        "\n",
        "        return self.ln_final(x)\n"
      ],
      "metadata": {
        "id": "ALps3rK1WHhh"
      },
      "execution_count": 8,
      "outputs": []
    },
    {
      "cell_type": "markdown",
      "source": [
        "# Output Heads\n",
        "\n",
        "The encoder output of the final encoder block will feed into output heads:\n",
        "\n",
        "- A dense network for MLM (masked language mode) task, projecting word vectors into probabilities.\n",
        "- A dense network for NSP (Next Sentence Prediction) task, classifying if sequences are a positive pair."
      ],
      "metadata": {
        "id": "VgINesyyy_DN"
      }
    },
    {
      "cell_type": "code",
      "source": [
        "class ProjectionHead(nn.Module):\n",
        "    \"\"\"\n",
        "    The MLP projection head for MLM task.\n",
        "    Standard BERT has dropout before the final projection.\n",
        "    \"\"\"\n",
        "\n",
        "    def __init__(self, d_model, vocab_size, bias=False, dropout=0.1) -> None:\n",
        "        super(ProjectionHead, self).__init__()\n",
        "        self.p_head= nn.Sequential(\n",
        "            nn.Dropout(p=dropout),\n",
        "            nn.Linear(d_model, vocab_size, bias=bias),\n",
        "        )\n",
        "\n",
        "\n",
        "    def forward(self, x):\n",
        "\n",
        "        return self.p_head(x)\n"
      ],
      "metadata": {
        "id": "uyOamf6MnNyC"
      },
      "execution_count": 9,
      "outputs": []
    },
    {
      "cell_type": "code",
      "source": [
        "class ClassifierHead(nn.Module):\n",
        "    \"\"\"\n",
        "    The MLP classification head for NSP task.\n",
        "    Standard BERT applies a non-linearity before classification.\n",
        "    \"\"\"\n",
        "\n",
        "    def __init__(self, d_model, num_classes, bias=True, dropout=0.1, fine_tune=False) -> None:\n",
        "        super(ClassifierHead, self).__init__()\n",
        "        if fine_tune:\n",
        "            self.c_head= nn.Linear(d_model, num_classes, bias=bias)\n",
        "        else:\n",
        "            self.c_head= nn.Sequential(\n",
        "                nn.Linear(d_model, d_model, bias=bias),\n",
        "                nn.GELU(),\n",
        "                nn.Dropout(p=dropout),\n",
        "                nn.Linear(d_model, num_classes, bias=bias),\n",
        "            )\n",
        "\n",
        "\n",
        "    def forward(self, x):\n",
        "\n",
        "        return self.c_head(x)\n"
      ],
      "metadata": {
        "id": "ofYBsBIqnNko"
      },
      "execution_count": 10,
      "outputs": []
    },
    {
      "cell_type": "markdown",
      "source": [
        "# Building BERT\n",
        "\n",
        "BERT follows a straightforward structure when we understand the key components we have already created:\n",
        "\n",
        "- **Embedding Module:** Converts token IDs into dense vector representations, incorporating token, positional, and segment embeddings.\n",
        "- **Stacked Transformer Encoder Blocks:** Sequentially process the input, leveraging Multi-Head Self-Attention (MHSA) and Feed-Forward Networks (FFN) to refine contextual representations.\n",
        "- **Projection Head:** Maps the output representations to token prediction probabilities for masked language modeling.\n",
        "- **Classifier:** Uses the representation of the special [CLS] token to predict whether the input sequences form a coherent pair.\n",
        "\n",
        "In summary, a complete BERT model consists of multiple stacked Transformer encoder blocks, enabling it to capture complex contextual relationships across input sequences."
      ],
      "metadata": {
        "id": "EeXI6JrO-Oiu"
      }
    },
    {
      "cell_type": "code",
      "execution_count": 11,
      "metadata": {
        "id": "MffOY81A0VDK"
      },
      "outputs": [],
      "source": [
        "class BERT(nn.Module):\n",
        "    \"\"\"\n",
        "    BERT consists of the following:\n",
        "    - An embedding module\n",
        "    - A list of transformer encoder blocks\n",
        "    - A dense network for projecting word vectors into probabilities (MLM)\n",
        "    - A dense network for classifying if sequences are a positive pair (NSP)\n",
        "    \"\"\"\n",
        "\n",
        "    def __init__(self, vocab_size, input_length, n_segments, n_layers=12, d_model=768, d_ff=3072,\n",
        "                 n_heads=12, query_key_dim=64, value_dim=64, dropout=0.1, fine_tune=False) -> None:\n",
        "        super(BERT, self).__init__()\n",
        "        self.input_length= input_length\n",
        "\n",
        "        # for converting tokens into vector embeddings\n",
        "        self.embedding= Embedding(d_model, vocab_size, input_length, n_segments, dropout)\n",
        "        # transformer encoder blocks stacked on top of each other\n",
        "        self.encoder_blocks= TransformerEncoder(\n",
        "            n_layers, d_model, d_ff, n_heads, query_key_dim, value_dim, dropout\n",
        "        )\n",
        "        # for projecting a word vector (or tensor of them) into token predictions\n",
        "        self.proj_head= ProjectionHead(d_model, vocab_size, bias=False, dropout=dropout)\n",
        "        # for converting the first output token into a binary classification\n",
        "        self.classifier= ClassifierHead(d_model, 1, bias=True, dropout=dropout, fine_tune=fine_tune)\n",
        "\n",
        "        # initialize Linear modules with Glorot / fan_avg\n",
        "        # let LayerNorm and Embedding modules use default initializations\n",
        "        for m in self.modules():\n",
        "            if isinstance(m, nn.Linear):\n",
        "                nn.init.xavier_uniform_(m.weight)\n",
        "                if m.bias is not None: nn.init.zeros_(m.bias)\n",
        "            elif isinstance(m, nn.Embedding):  # 0.02 is close of that used in xavier init\n",
        "                nn.init.normal_(m.weight, mean=0.0, std=0.02)\n",
        "\n",
        "\n",
        "    def forward(self, x, seg_location, masked_token_locations=None):\n",
        "        # x is our token indices of shape [batch_size x seq_len]\n",
        "        batch_size, seq_len= x.size()\n",
        "        assert seq_len <= self.input_length, \\\n",
        "            f\"Cannot forward sequence of length {seq_len}, block size is only {self.input_length}\"\n",
        "\n",
        "        embeddings= self.embedding(x, seg_location)\n",
        "        x= embeddings  # x of shape [batch x seq_len x model_dim]\n",
        "\n",
        "        x= self.encoder_blocks(x)\n",
        "\n",
        "        # for every example in the batch, this takes the first vector and passes it to the\n",
        "        # classifier linear network for prediction\n",
        "        clsf_logits= self.classifier(x[:, 0, :])\n",
        "\n",
        "        token_logits= None\n",
        "        if masked_token_locations is not None:\n",
        "            # passing masked tokens through the projection head\n",
        "            masked_token_embeddings= embeddings[masked_token_locations.bool()]\n",
        "            token_logits= self.proj_head(masked_token_embeddings)\n",
        "\n",
        "        return clsf_logits, token_logits\n"
      ]
    },
    {
      "cell_type": "markdown",
      "source": [
        "The classifier is implemented as a linear module with a single output unit, as it performs a binary classification task. Predictions greater than 0.5 are interpreted as *true*, while values below 0.5 are considered *false*.\n",
        "\n",
        "The projection head operates similarly but focuses on masked tokens. Instead of making a binary decision, it predicts the most likely token for each masked position. Consequently, its output dimension matches **vocab_size** (from a tokenizer vocabulary), allowing the model to select the correct token from the entire vocabulary."
      ],
      "metadata": {
        "id": "A2EChRWr-gO3"
      }
    },
    {
      "cell_type": "code",
      "execution_count": 12,
      "metadata": {
        "colab": {
          "base_uri": "https://localhost:8080/"
        },
        "id": "YUPK_WUH0VIX",
        "outputId": "2f6a370d-b216-41af-f095-199478da4913"
      },
      "outputs": [
        {
          "output_type": "stream",
          "name": "stdout",
          "text": [
            "Number of parameters: 366399489\n"
          ]
        },
        {
          "output_type": "execute_result",
          "data": {
            "text/plain": [
              "BERT(\n",
              "  (embedding): Embedding(\n",
              "    (tok_embed): Embedding(30522, 1024)\n",
              "    (pos_embed): Embedding(512, 1024)\n",
              "    (seg_embed): Embedding(2, 1024)\n",
              "    (norm): LayerNorm((1024,), eps=1e-05, elementwise_affine=True)\n",
              "    (dropout): Dropout(p=0.1, inplace=False)\n",
              "  )\n",
              "  (encoder_blocks): TransformerEncoder(\n",
              "    (transformer): ModuleList(\n",
              "      (0-23): 24 x EncoderBlock(\n",
              "        (norm1): LayerNorm((1024,), eps=1e-05, elementwise_affine=True)\n",
              "        (mhsa): MultiHeadSelfAttention(\n",
              "          (W_Q): Linear(in_features=1024, out_features=1024, bias=True)\n",
              "          (W_K): Linear(in_features=1024, out_features=1024, bias=True)\n",
              "          (W_V): Linear(in_features=1024, out_features=1024, bias=True)\n",
              "          (dropout): Dropout(p=0.1, inplace=False)\n",
              "          (o_proj): Linear(in_features=1024, out_features=1024, bias=True)\n",
              "        )\n",
              "        (dropout1): Dropout(p=0.1, inplace=False)\n",
              "        (norm2): LayerNorm((1024,), eps=1e-05, elementwise_affine=True)\n",
              "        (pffn): PointwiseFeedForwardNet(\n",
              "          (fc1): Linear(in_features=1024, out_features=4096, bias=True)\n",
              "          (gelu): GELU(approximate='none')\n",
              "          (dropout): Dropout(p=0.1, inplace=False)\n",
              "          (fc2): Linear(in_features=4096, out_features=1024, bias=True)\n",
              "        )\n",
              "        (dropout2): Dropout(p=0.1, inplace=False)\n",
              "      )\n",
              "    )\n",
              "    (ln_final): LayerNorm((1024,), eps=1e-12, elementwise_affine=True)\n",
              "  )\n",
              "  (proj_head): ProjectionHead(\n",
              "    (p_head): Sequential(\n",
              "      (0): Dropout(p=0.1, inplace=False)\n",
              "      (1): Linear(in_features=1024, out_features=30522, bias=False)\n",
              "    )\n",
              "  )\n",
              "  (classifier): ClassifierHead(\n",
              "    (c_head): Sequential(\n",
              "      (0): Linear(in_features=1024, out_features=1024, bias=True)\n",
              "      (1): GELU(approximate='none')\n",
              "      (2): Dropout(p=0.1, inplace=False)\n",
              "      (3): Linear(in_features=1024, out_features=1, bias=True)\n",
              "    )\n",
              "  )\n",
              ")"
            ]
          },
          "metadata": {},
          "execution_count": 12
        }
      ],
      "source": [
        "# --- BERT LARGE hyperparameters config ---\n",
        "vocab_size= 30522\n",
        "input_length= 512\n",
        "n_segments= 2\n",
        "N= 24\n",
        "d_model= 1024\n",
        "d_ff= 4 * d_model\n",
        "h= 16\n",
        "dk= 64\n",
        "dv= 64\n",
        "dropout= 0.1\n",
        "\n",
        "model= BERT(vocab_size, input_length, n_segments, N, d_model, d_ff, h, dk, dv, dropout).to(device)\n",
        "\n",
        "count_parameters(model)\n",
        "model"
      ]
    },
    {
      "cell_type": "markdown",
      "source": [
        "# Training the BERT model from scratch"
      ],
      "metadata": {
        "id": "dxz5TxHZTJZ_"
      }
    },
    {
      "cell_type": "code",
      "source": [
        "!pip install nltk\n",
        "!pip install datasets\n",
        "\n",
        "import random\n",
        "import nltk\n",
        "import itertools\n",
        "from datasets import load_dataset\n",
        "from multiprocessing import Pool, cpu_count\n",
        "from torch.optim.lr_scheduler import ReduceLROnPlateau"
      ],
      "metadata": {
        "id": "rbYlBq9IgGPu"
      },
      "execution_count": null,
      "outputs": []
    },
    {
      "cell_type": "code",
      "source": [
        "# a sentence tokenizer we will be using to extract sentences from articles\n",
        "nltk.download('punkt_tab')\n",
        "\n",
        "# the dataset is big, to make things easier we are going to be streaming a subset\n",
        "dataset= load_dataset('wikipedia', '20220301.en', trust_remote_code= True, streaming=True)"
      ],
      "metadata": {
        "colab": {
          "base_uri": "https://localhost:8080/",
          "height": 116,
          "referenced_widgets": [
            "180b2336463d4cd193b5083205e2fe48",
            "78ad81dfa21a4c2c896f63c8ecc00b01",
            "a3ea5a1aff8e425a9709814a18467d2a",
            "a8344a7aaf03494e8439a62592873f8b",
            "6208975aef274f0fa5e3888df1723b73",
            "34102c5e98b043baa5ef2347607467e7",
            "3934e983e9b94ca1b83438868429650d",
            "fe8cdc04d72946b6b5655e40fd2bf9d2",
            "374882aeec97488eb88f751259ef44f8",
            "934cd82c096e43ae9b6747ebb964e612",
            "0a9e5b5e06d14dc396074f75337e881e",
            "cf728c8e41364242a79a831dd8c3f0c6",
            "438b50b3473a489aaa34d52182193b34",
            "86102b6f971c430ca9a2e5baab3dfb61",
            "35dbf9666794492eacc8c5d8f4b6a3c6",
            "f011061653354113963a031081f5db00",
            "bf0f7e4257e54a08bdd27f904b8dcf35",
            "82ac30a607244979bd53e0b70ba8af9f",
            "9020d6dbcbcb4a0ca2edb6657f678267",
            "f55b3fc5d8ca494b9e8a63702d99fb5f",
            "bd705910174c4125ac1eb71daf1dd547",
            "85d245966d144d52ab5ba96101855eff"
          ]
        },
        "id": "nv1773-YunzZ",
        "outputId": "c1d4681a-0827-4581-98a6-7d49f87728d7"
      },
      "execution_count": null,
      "outputs": [
        {
          "output_type": "stream",
          "name": "stderr",
          "text": [
            "[nltk_data] Downloading package punkt_tab to /root/nltk_data...\n",
            "[nltk_data]   Unzipping tokenizers/punkt_tab.zip.\n"
          ]
        },
        {
          "output_type": "display_data",
          "data": {
            "text/plain": [
              "README.md:   0%|          | 0.00/16.0k [00:00<?, ?B/s]"
            ],
            "application/vnd.jupyter.widget-view+json": {
              "version_major": 2,
              "version_minor": 0,
              "model_id": "180b2336463d4cd193b5083205e2fe48"
            }
          },
          "metadata": {}
        },
        {
          "output_type": "display_data",
          "data": {
            "text/plain": [
              "wikipedia.py:   0%|          | 0.00/36.7k [00:00<?, ?B/s]"
            ],
            "application/vnd.jupyter.widget-view+json": {
              "version_major": 2,
              "version_minor": 0,
              "model_id": "cf728c8e41364242a79a831dd8c3f0c6"
            }
          },
          "metadata": {}
        }
      ]
    },
    {
      "cell_type": "code",
      "execution_count": null,
      "metadata": {
        "id": "G7_KjRAJ49xa"
      },
      "outputs": [],
      "source": [
        "# breaking wikipedia articles into sentences and paragraphs\n",
        "num_articles= 10000\n",
        "\n",
        "# geting n articles\n",
        "dataset_iter= iter(dataset['train'])\n",
        "articles= list(itertools.islice(dataset_iter, num_articles))\n",
        "\n",
        "# getting paragraphs\n",
        "paragraphs= []\n",
        "for article in articles:\n",
        "    paragraphs.extend(article['text'].splitlines())\n",
        "\n",
        "# filtering paragraphs so they are hopefully actually paragraphs\n",
        "paragraphs= [p for p in paragraphs if len(p) > 50]\n",
        "\n",
        "# dividing paragraphs into sentences\n",
        "divided_paragraphs= [nltk.sent_tokenize(p) for p in paragraphs]\n",
        "\n",
        "# only using paragraphs with 3 or more sentences\n",
        "divided_paragraphs= [pls for pls in divided_paragraphs if len(pls) >= 3]\n"
      ]
    },
    {
      "cell_type": "code",
      "execution_count": null,
      "metadata": {
        "id": "RGTo4zc6491b"
      },
      "outputs": [],
      "source": [
        "# using the paragraph data to construct paris of following sentences and pairs\n",
        "# of random sentences\n",
        "positive_pairs= []\n",
        "negative_pairs= []\n",
        "num_paragraphs= len(divided_paragraphs)\n",
        "\n",
        "for i, paragraph in enumerate(divided_paragraphs):\n",
        "    for j in range(len(paragraph) - 1):\n",
        "        positive_pairs.append((paragraph[j], paragraph[j+1]))\n",
        "        rand_par= i\n",
        "\n",
        "        # avoiding to take a sentence from the same paragraph\n",
        "        while rand_par == i or len(divided_paragraphs[rand_par]) < 1:\n",
        "            rand_par= random.randint(0, num_paragraphs-1)\n",
        "\n",
        "        rand_sent= random.randint(0, len(divided_paragraphs[rand_par])-1)\n",
        "        negative_pairs.append((paragraph[j], divided_paragraphs[rand_par][rand_sent]))\n"
      ]
    },
    {
      "cell_type": "markdown",
      "source": [
        "# Tokenization\n",
        "\n",
        "In order to feed data into our model we need to somehow turn our sentences into vectors. We can use that to break up text into individual tokens."
      ],
      "metadata": {
        "id": "8-fKBfQZAHjJ"
      }
    },
    {
      "cell_type": "code",
      "source": [
        "from transformers.models.bert.tokenization_bert_fast import BertTokenizerFast\n",
        "\n",
        "tokenizer= BertTokenizerFast.from_pretrained('google-bert/bert-base-uncased')"
      ],
      "metadata": {
        "colab": {
          "base_uri": "https://localhost:8080/",
          "height": 145,
          "referenced_widgets": [
            "c2c8ad5fef7149b982d33b70cd5650fb",
            "c363789e29a04a999bfb5d5122634264",
            "8f0fa2be18ae4bf6b50c7cf288c059b5",
            "d683a3cf9a5e424d933bc0b62ae88d50",
            "c31b8d2d2ade457f93decec020ced6ba",
            "c17de3e644ff46c2809b432e9f293eac",
            "4fc594b348cb4086a56a37119f77abe2",
            "85dbcd545a914f60bac2a54241707380",
            "2198e222ed4b4772bb4e4830da6e7b67",
            "b35bd06221d3492597d3c51679039f87",
            "f758a6cf37104630a419bdbc2155e754",
            "61e4bec95e054f98a66f393eb3d3364d",
            "6cc86a3dbdb2467c9607dd3dbbce9262",
            "3bafdcedd4644fa9b159aa9248525d34",
            "a6c6290ddb7d4a3d8c899dd2fb21e0b2",
            "e0d25e07d32246a891a6040e65c3ae26",
            "2a515d8c428c4e798044e00703722f09",
            "e71f8f999b8c4494840effe6d25091f9",
            "80ca5e6a9a0248a1a7e6ea5475f835fa",
            "656b1ebb4ae34d51a6d94363ee612ad6",
            "d8f3531b3c9a4932be316bee3d83f6a9",
            "1e63dd1669a24f3585a4e690f2273cdc",
            "5c618c78033c4e14b404d2d4cbec7fdc",
            "bceb9024f7ea49159fb50df1e8db9e65",
            "912c5d7f554b4dd3b800a7de950ed67a",
            "37f76fe3f7c54c41b3a06cb9151949d0",
            "e29c4b9cafb74fcb81a3ebd10acbea22",
            "e5b7735af5b146d8b8d70a3a1393bb90",
            "d4372f7bfd034f25b64c7f6cf2d3169d",
            "3ce0fc13eb60415a9eb25ac053e8f063",
            "ff32b323151c4864bc0cc5c4cb61ae82",
            "d8f0ea85e222452f8bfe148cca591de3",
            "1765d45a317040e9a5319876a80950ad",
            "9046207ce96540f69ccc770bdd61003e",
            "23abeaea135e44e685e9e0b56d72b516",
            "ec4fb8c74fc4480799e9cade04484767",
            "e1921900c68c42d88789a2e3699d55e3",
            "3d66078d4b1643629d1a7ad2fcf4dd55",
            "48b3844cdb7a405a85b59ff632b14152",
            "1240e6e9b64f48ffad490a22e676eda0",
            "ca3a6402e4964022a3e42fd14209de2a",
            "15a6dc29c702465cb2ffb21d6161c3ec",
            "284742e646d743fa8319847f8e5455b0",
            "3ed6407c04f748989fb3e6ffc747b300"
          ]
        },
        "id": "xEfbBO_l05MP",
        "outputId": "656a29e2-bbd4-4371-f45b-65799a7525be"
      },
      "execution_count": null,
      "outputs": [
        {
          "output_type": "display_data",
          "data": {
            "text/plain": [
              "tokenizer_config.json:   0%|          | 0.00/48.0 [00:00<?, ?B/s]"
            ],
            "application/vnd.jupyter.widget-view+json": {
              "version_major": 2,
              "version_minor": 0,
              "model_id": "c2c8ad5fef7149b982d33b70cd5650fb"
            }
          },
          "metadata": {}
        },
        {
          "output_type": "display_data",
          "data": {
            "text/plain": [
              "vocab.txt:   0%|          | 0.00/232k [00:00<?, ?B/s]"
            ],
            "application/vnd.jupyter.widget-view+json": {
              "version_major": 2,
              "version_minor": 0,
              "model_id": "61e4bec95e054f98a66f393eb3d3364d"
            }
          },
          "metadata": {}
        },
        {
          "output_type": "display_data",
          "data": {
            "text/plain": [
              "tokenizer.json:   0%|          | 0.00/466k [00:00<?, ?B/s]"
            ],
            "application/vnd.jupyter.widget-view+json": {
              "version_major": 2,
              "version_minor": 0,
              "model_id": "5c618c78033c4e14b404d2d4cbec7fdc"
            }
          },
          "metadata": {}
        },
        {
          "output_type": "display_data",
          "data": {
            "text/plain": [
              "config.json:   0%|          | 0.00/570 [00:00<?, ?B/s]"
            ],
            "application/vnd.jupyter.widget-view+json": {
              "version_major": 2,
              "version_minor": 0,
              "model_id": "9046207ce96540f69ccc770bdd61003e"
            }
          },
          "metadata": {}
        }
      ]
    },
    {
      "cell_type": "code",
      "source": [
        "# playing arround with tokenizer\n",
        "sentence= \"Here's a weird word: Withoutadoubticus.\"\n",
        "print(f'Original sentence: \"{sentence}\"')\n",
        "\n",
        "demo_tokens= tokenizer([sentence])\n",
        "print(f\"Token IDs: {demo_tokens['input_ids']}\")\n",
        "\n",
        "tokens= tokenizer.convert_ids_to_tokens(demo_tokens['input_ids'][0])\n",
        "print(f'Token values: {tokens}')"
      ],
      "metadata": {
        "colab": {
          "base_uri": "https://localhost:8080/"
        },
        "id": "SHiXHAht1Bx6",
        "outputId": "b31ddfc8-e017-485e-e3d9-d57d13f5a81c"
      },
      "execution_count": null,
      "outputs": [
        {
          "output_type": "stream",
          "name": "stdout",
          "text": [
            "Original sentence: \"Here's a weird word: Withoutadoubticus.\"\n",
            "Token IDs: [[101, 2182, 1005, 1055, 1037, 6881, 2773, 1024, 2302, 9365, 12083, 29587, 1012, 102]]\n",
            "Token values: ['[CLS]', 'here', \"'\", 's', 'a', 'weird', 'word', ':', 'without', '##ado', '##ub', '##ticus', '.', '[SEP]']\n"
          ]
        }
      ]
    },
    {
      "cell_type": "markdown",
      "source": [
        "The tokenizer broke our sentence up into individual components which may have included dividing individual words into more than one component. This is called sub-word tokenization, meaning the tokenizer has both words and word components in its vocabulary. This is important because it allows the tokenizer to express complicated words as a series of tokens."
      ],
      "metadata": {
        "id": "xiLthTXhARr7"
      }
    },
    {
      "cell_type": "code",
      "execution_count": null,
      "metadata": {
        "colab": {
          "base_uri": "https://localhost:8080/"
        },
        "id": "LkUi2ffn497x",
        "outputId": "fdc22bd1-0974-455b-9242-18677c680e93"
      },
      "outputs": [
        {
          "output_type": "execute_result",
          "data": {
            "text/plain": [
              "BertTokenizerFast(name_or_path='google-bert/bert-base-uncased', vocab_size=30522, model_max_length=512, is_fast=True, padding_side='right', truncation_side='right', special_tokens={'unk_token': '[UNK]', 'sep_token': '[SEP]', 'pad_token': '[PAD]', 'cls_token': '[CLS]', 'mask_token': '[MASK]'}, clean_up_tokenization_spaces=False, added_tokens_decoder={\n",
              "\t0: AddedToken(\"[PAD]\", rstrip=False, lstrip=False, single_word=False, normalized=False, special=True),\n",
              "\t100: AddedToken(\"[UNK]\", rstrip=False, lstrip=False, single_word=False, normalized=False, special=True),\n",
              "\t101: AddedToken(\"[CLS]\", rstrip=False, lstrip=False, single_word=False, normalized=False, special=True),\n",
              "\t102: AddedToken(\"[SEP]\", rstrip=False, lstrip=False, single_word=False, normalized=False, special=True),\n",
              "\t103: AddedToken(\"[MASK]\", rstrip=False, lstrip=False, single_word=False, normalized=False, special=True),\n",
              "}\n",
              ")"
            ]
          },
          "metadata": {},
          "execution_count": 20
        }
      ],
      "source": [
        "# special tokens\n",
        "tokenizer"
      ]
    },
    {
      "cell_type": "markdown",
      "source": [
        "# Defining Training Batches\n",
        "\n",
        "Each batch will contain 128 individual sentence pair examples, 64 of which are positive pairs and 64 of which are negative pairs. To keep our model fairly small, to speed up training, we'll make the context window for our model equal to 64 tokens. So, at the end of this process, we'll get a tensor which is [number_of_batches x 64(batch_size) x 64(sequence_length)]"
      ],
      "metadata": {
        "id": "cPV03tUA8S8J"
      }
    },
    {
      "cell_type": "code",
      "source": [
        "# number of examples in the batch -- should be divisible by 2\n",
        "batch_size= 128\n",
        "# sequence length of model\n",
        "max_input_length= 64\n",
        "\n",
        "# defining parallelizable function for processing batches\n",
        "def process_batch(batch_index):\n",
        "    \"\"\"\n",
        "    Processes a batch of sentence pairs (both positive and negative examples),\n",
        "    tokenizes them, applies truncation and padding, and returns tensors\n",
        "    for training a BERT-based model.\n",
        "    \"\"\"\n",
        "    # establishing bounds of the batch\n",
        "    start_index= batch_index * batch_size\n",
        "    end_index= min(start_index + batch_size, len(positive_pairs), len(negative_pairs))\n",
        "\n",
        "    # Ensure we don't return an incomplete batch\n",
        "    actual_batch_size= end_index - start_index\n",
        "    if actual_batch_size < batch_size // 2:\n",
        "        return None, None, None\n",
        "\n",
        "    # getting the sentence pairs of the batch, and if they are pos or neg\n",
        "    sentence_pairs= (\n",
        "        positive_pairs[start_index:start_index + batch_size // 2] +\n",
        "        negative_pairs[start_index:start_index + batch_size // 2]\n",
        "    )\n",
        "    is_positives= [1] * (batch_size // 2) + [0] * (batch_size // 2)\n",
        "\n",
        "    # defining outputs\n",
        "    # at the end of the day we need to know three things:\n",
        "    # - the tokens for the sequences in a batch\n",
        "    # - which sentence the tokens belong to, for positional encoding\n",
        "    # - if the examples in the batch are positive or negative\n",
        "    # these keep track of the first two\n",
        "    batch_sentence_location_tokens= []\n",
        "    batch_sequence_tokens= []\n",
        "\n",
        "    # tokenizing pairs\n",
        "    for sentence_pair in sentence_pairs:\n",
        "        sentence1= sentence_pair[0]\n",
        "        sentence2= sentence_pair[1]\n",
        "\n",
        "        # tokenizing both sentences\n",
        "        tokens= tokenizer([sentence1, sentence2], truncation=True, padding=False,\n",
        "                          max_length=max_input_length)\n",
        "        sentence1_tokens= tokens['input_ids'][0]\n",
        "        sentence2_tokens= tokens['input_ids'][1]\n",
        "\n",
        "        # trimming down tokens\n",
        "        if len(sentence1_tokens) + len(sentence2_tokens) > max_input_length:\n",
        "            max_half= max_input_length // 2  # leaving space for [CLS] and [SEP]\n",
        "            \"\"\"\n",
        "            If the sentences are too long, preserves the end of the first sentence and the\n",
        "            beginning of the second sentence. This should still allow long inputs to be\n",
        "            reasonably interpretable by the model.\n",
        "            \"\"\"\n",
        "            sentence1_tokens= [101] + sentence1_tokens[-(max_half -1):]\n",
        "            sentence2_tokens= sentence2_tokens[:(max_half -1)] + [102]\n",
        "\n",
        "        # creating sentence tokens - a vector which has zeros in the length of the first sentence,\n",
        "        # and ones for the length of the second sentence. We'll use this vector to help us with\n",
        "        # positional encoding when we go to build the model.\n",
        "        sentence_tokens= [0] * len(sentence1_tokens) + [1] * len(sentence2_tokens)\n",
        "\n",
        "        # combining and padding\n",
        "        pad_num= max_input_length - (len(sentence1_tokens) + len(sentence2_tokens))\n",
        "        sequence_tokens= sentence1_tokens + sentence2_tokens + [0] * pad_num\n",
        "        sentence_location_tokens= sentence_tokens + [1] * pad_num\n",
        "        \"\"\"\n",
        "        We combine our sentence tokens together, and if the combined length is less than the model\n",
        "        length we add a bunch of pad tokens. If we do add pad tokens, we say the pad tokens belong\n",
        "        to the second sentence for convenience sake.\n",
        "        \"\"\"\n",
        "        # adding to batch\n",
        "        batch_sequence_tokens.append(sequence_tokens)\n",
        "        batch_sentence_location_tokens.append(sentence_location_tokens)\n",
        "\n",
        "    return (\n",
        "        torch.tensor(batch_sentence_location_tokens, dtype=torch.long),\n",
        "        torch.tensor(batch_sequence_tokens, dtype=torch.long),\n",
        "        torch.tensor(is_positives, dtype=torch.long)\n",
        "    )\n"
      ],
      "metadata": {
        "id": "Jo-AzNSsshxv"
      },
      "execution_count": null,
      "outputs": []
    },
    {
      "cell_type": "code",
      "source": [
        "# determine the number of batches\n",
        "num_batches= len(positive_pairs) // batch_size\n",
        "\n",
        "# use a pool of workers equal to the number of CPU cores\n",
        "with Pool(processes=cpu_count()) as pool:\n",
        "    results= list(tqdm(pool.imap(process_batch, range(num_batches)), total=num_batches))\n",
        "\n",
        "# filter out None results from the process_batch function\n",
        "results= [result for result in results if result[0] is not None]\n",
        "\n",
        "# unpack results into batches\n",
        "sentence_location_batches, sequence_tokens_batches, is_positives_batches= zip(*results)\n",
        "\n",
        "# stack tensors into final batches and move to device\n",
        "sentence_location_batches= torch.stack(sentence_location_batches).to(device)\n",
        "sequence_tokens_batches= torch.stack(sequence_tokens_batches).to(device)\n",
        "is_positives_batches= torch.stack(is_positives_batches).to(device)"
      ],
      "metadata": {
        "colab": {
          "base_uri": "https://localhost:8080/"
        },
        "id": "aRAhhvVv1Wp5",
        "outputId": "e0cb9442-6bab-4a93-9829-62160fac9007"
      },
      "execution_count": null,
      "outputs": [
        {
          "output_type": "stream",
          "name": "stderr",
          "text": [
            "100%|██████████| 7311/7311 [04:01<00:00, 30.28it/s]\n"
          ]
        }
      ]
    },
    {
      "cell_type": "code",
      "source": [
        "sentence_location_batches.shape"
      ],
      "metadata": {
        "colab": {
          "base_uri": "https://localhost:8080/"
        },
        "id": "4xuypFal3ZQe",
        "outputId": "8a516741-82c1-4f7a-f299-32f356d1c091"
      },
      "execution_count": null,
      "outputs": [
        {
          "output_type": "execute_result",
          "data": {
            "text/plain": [
              "torch.Size([7311, 128, 64])"
            ]
          },
          "metadata": {},
          "execution_count": 23
        }
      ]
    },
    {
      "cell_type": "markdown",
      "source": [
        "# Creating a Masking Function\n",
        "\n",
        "As we build our masking function we don't want to inadvertently mask out special tokens like [CLS], [SEP], and [PAD]. We only want to mask out tokens which correspond to the sentences themselves.\n",
        "\n",
        "After we train our model, the [MASK] token will never be seen when the model is actually being used and making inferences. If we only train our model on the [MASK] token, it might learn to disregard other words that might be important in understanding the sequence generally. So, when we decide a random token should be masked we usually replace it with the [MASK] token, but we also sometimes preserve the original token value, and sometimes replace the masked token with a\n",
        "completely random token.\n",
        "\n",
        "In the original BERT paper they decided to mask 15% of words within the input. Of that 15%, 80% are replaced with [MASK], while 10% are replaced with a random word and 10% are not replaced at all."
      ],
      "metadata": {
        "id": "0ZMsabm78qA9"
      }
    },
    {
      "cell_type": "code",
      "source": [
        "# listing out vocab for random token masking\n",
        "vocab= tokenizer.get_vocab()\n",
        "valid_token_ids= torch.tensor(list(vocab.values()), device=device)\n",
        "\n",
        "def mask_batch(batch_tokens, clone=True):\n",
        "    if clone:\n",
        "        batch_tokens= torch.clone(batch_tokens)\n",
        "\n",
        "    # define the percentage of tokens to potentially mask\n",
        "    replace_percentage= 0.15\n",
        "    # define tokens that should not be replaced\n",
        "    excluded_tokens= {0, 100, 101, 102, 103}\n",
        "\n",
        "    # create a mask to identify tokens that are eligible for replacement\n",
        "    eligible_mask= ~torch.tensor(\n",
        "        [t.item() in excluded_tokens for t in batch_tokens.flatten()]\n",
        "    ).reshape(batch_tokens.shape)\n",
        "\n",
        "    # count the number of eligible tokens\n",
        "    num_eligible_tokens= eligible_mask.sum().item()\n",
        "\n",
        "    # calculate the number of tokens to potentially mask\n",
        "    num_tokens_to_mask= int(num_eligible_tokens * replace_percentage)\n",
        "\n",
        "    if num_tokens_to_mask == 0:\n",
        "        return batch_tokens, torch.zeros_like(batch_tokens, dtype=torch.int32)  # No masking needed\n",
        "\n",
        "    # get eligible token indices\n",
        "    eligible_indices= torch.nonzero(eligible_mask, as_tuple=False)\n",
        "    # randomly select indices to mask\n",
        "    mask_indices= eligible_indices[torch.randperm(num_eligible_tokens)[:num_tokens_to_mask]]\n",
        "\n",
        "    # define replacement choices: [MASK] (80%), Random Token (10%), No Change (10%)\n",
        "    replacement_probs= torch.tensor([0.8, 0.1, 0.1], device=device)\n",
        "    replacement_choices= torch.multinomial(replacement_probs, num_tokens_to_mask, replacement=True)\n",
        "\n",
        "    # vector to store if a token was masked (0: not masked, 1: masked)\n",
        "    masked_indicator= torch.zeros_like(batch_tokens, dtype=torch.int32)\n",
        "\n",
        "    # apply replacements based on sampled choices\n",
        "    \"\"\"\n",
        "    for i, idx in enumerate(mask_indices):\n",
        "        row= eligible_indices[0][idx]\n",
        "        col= eligible_indices[1][idx]\n",
        "\n",
        "        # replacing with mask\n",
        "        if replacement_choices[i]== 0:\n",
        "            batch_tokens[row, col]= 103\n",
        "            masked_indicator[row, col]= 1\n",
        "\n",
        "        # replacing with random tokens\n",
        "        elif replacement_choices[i]== 1:\n",
        "            batch_tokens[row, col]= random.choice(valid_token_ids)\n",
        "            masked_indicator[row, col]= 1\n",
        "\n",
        "        # not replacing at all\n",
        "        elif replacement_choices[i]== 2:\n",
        "            masked_indicator[row, col]= 1\n",
        "    \"\"\"\n",
        "    mask_token= 103\n",
        "    random_tokens= valid_token_ids[\n",
        "        torch.randint(len(valid_token_ids), (num_tokens_to_mask,), device=device)\n",
        "    ]\n",
        "\n",
        "    batch_tokens[mask_indices[:, 0], mask_indices[:, 1]]= torch.where(\n",
        "        replacement_choices == 0, mask_token,  # Replace with [MASK]\n",
        "        torch.where(\n",
        "            replacement_choices == 1,\n",
        "            random_tokens, batch_tokens[mask_indices[:, 0], mask_indices[:, 1]]\n",
        "        )  # Random token or no change\n",
        "    )\n",
        "    masked_indicator[mask_indices[:, 0], mask_indices[:, 1]] = 1\n",
        "\n",
        "    return batch_tokens, masked_indicator\n"
      ],
      "metadata": {
        "id": "QGMAdkSKsocC"
      },
      "execution_count": null,
      "outputs": []
    },
    {
      "cell_type": "markdown",
      "source": [
        "# Checking the modules"
      ],
      "metadata": {
        "id": "xbqVR1PgQwaa"
      }
    },
    {
      "cell_type": "code",
      "source": [
        "batch_tokens, masked_indicator= mask_batch(sequence_tokens_batches[0])\n",
        "batch_tokens"
      ],
      "metadata": {
        "colab": {
          "base_uri": "https://localhost:8080/"
        },
        "id": "101tSq3X5027",
        "outputId": "91380915-b239-442a-b779-f7c01ba75b06"
      },
      "execution_count": null,
      "outputs": [
        {
          "output_type": "execute_result",
          "data": {
            "text/plain": [
              "tensor([[ 101, 9617,  103,  ...,    0,    0,    0],\n",
              "        [ 101,  101, 9617,  ...,    0,    0,    0],\n",
              "        [ 101, 4286, 2973,  ...,    0,    0,    0],\n",
              "        ...,\n",
              "        [ 101, 1037, 2146,  ...,    0,    0,    0],\n",
              "        [ 101, 1999, 3433,  ...,    0,    0,    0],\n",
              "        [ 101, 2012, 1996,  ..., 2401,  103,  102]], device='cuda:0')"
            ]
          },
          "metadata": {},
          "execution_count": 25
        }
      ]
    },
    {
      "cell_type": "code",
      "execution_count": null,
      "metadata": {
        "colab": {
          "base_uri": "https://localhost:8080/"
        },
        "id": "xVwjeZJ6P0W7",
        "outputId": "1f247d93-c6be-4729-81ed-f7ecdd6c04dd"
      },
      "outputs": [
        {
          "output_type": "execute_result",
          "data": {
            "text/plain": [
              "Embedding(\n",
              "  (tok_embed): Embedding(30522, 256)\n",
              "  (pos_embed): Embedding(64, 256)\n",
              "  (seg_embed): Embedding(2, 256)\n",
              "  (norm): LayerNorm((256,), eps=1e-05, elementwise_affine=True)\n",
              "  (dropout): Dropout(p=0.1, inplace=False)\n",
              ")"
            ]
          },
          "metadata": {},
          "execution_count": 12
        }
      ],
      "source": [
        "e= Embedding(\n",
        "    d_model=256, vocab_size=tokenizer.vocab_size, input_length=max_input_length, n_segments=2\n",
        ")\n",
        "e.to(device)"
      ]
    },
    {
      "cell_type": "code",
      "execution_count": null,
      "metadata": {
        "colab": {
          "base_uri": "https://localhost:8080/"
        },
        "id": "xi9-JxBeP0aQ",
        "outputId": "c832a838-a3ff-46bd-b767-61e0e4e5dfcd"
      },
      "outputs": [
        {
          "output_type": "stream",
          "name": "stdout",
          "text": [
            "torch.Size([128, 64, 256])\n"
          ]
        }
      ],
      "source": [
        "# we can pass in a batch of data through this module and see what we get.\n",
        "dummy_embedding= e(sequence_tokens_batches[0], sentence_location_batches[0])\n",
        "\n",
        "print(dummy_embedding.shape)"
      ]
    },
    {
      "cell_type": "code",
      "execution_count": null,
      "metadata": {
        "colab": {
          "base_uri": "https://localhost:8080/"
        },
        "id": "ma4u6R_fP0iZ",
        "outputId": "eb9c1781-5fdd-428b-d7cf-437d99999257"
      },
      "outputs": [
        {
          "output_type": "stream",
          "name": "stdout",
          "text": [
            "Sample embeddings shape: torch.Size([128, 64, 256])\n",
            "Output shape of MHSA: torch.Size([128, 64, 256])\n"
          ]
        }
      ],
      "source": [
        "# example usage\n",
        "d_model= 256\n",
        "sample_embeddings= torch.tensor([[[1.1] * d_model] * max_input_length] * batch_size).to(device)\n",
        "print(\"Sample embeddings shape:\", sample_embeddings.shape)\n",
        "\n",
        "attn= MultiHeadSelfAttention(d_model=d_model, query_key_dim=64, value_dim=64, n_heads=3).to(device)\n",
        "output= attn(dummy_embedding)\n",
        "print('Output shape of MHSA:', output.shape)\n",
        "# the output should be the same size as the input"
      ]
    },
    {
      "cell_type": "markdown",
      "source": [
        "# Pre-Training BERT\n",
        "\n",
        "Self Supervised Training for pre training the model\n",
        "\n",
        "- BERT uses a pre training step which is designed to encourage the model to understand language generally, then allows for fine tuning to allow the model to learn specific tasks.\n",
        "\n",
        "- BERT is pre-trained on two objectives simultaneously: \"masked language modeling\", which is like fill in the blank, and \"next sentence prediction\" which is essentially asking the model to predict of two sentences make sense with one another."
      ],
      "metadata": {
        "id": "Zc1H__Ki-sqI"
      }
    },
    {
      "cell_type": "code",
      "source": [
        "class CosineLRDecay:\n",
        "    \"\"\"\n",
        "    Modulates learning rate (LR) based on the iteration (step) number which LR there should be.\n",
        "    \"\"\"\n",
        "\n",
        "    def __init__(self, optimizer, min_lr, max_lr=3e-4, warmup_steps=10,\n",
        "                 max_steps=50) -> None:\n",
        "        self.optimizer= optimizer\n",
        "        self.min_lr= min_lr\n",
        "        self.max_lr= max_lr\n",
        "        self.warmup_steps= warmup_steps\n",
        "        self.max_steps= max_steps\n",
        "        self.last_step= 0\n",
        "        self.last_lr= None\n",
        "\n",
        "\n",
        "    def get_last_lr(self):\n",
        "        return self.last_lr\n",
        "\n",
        "\n",
        "    def get_lr(self, it):\n",
        "        # 1) linear warmup for warmup_iters steps\n",
        "        if it< self.warmup_steps:\n",
        "            return self.max_lr * (it+1) / self.warmup_steps\n",
        "        # 2) if it > lr_decay_iters, return min learning rate\n",
        "        if it> self.max_steps:\n",
        "            return self.min_lr\n",
        "        # 3) in between, use cosine decay down to min learning rate\n",
        "        decay_ratio= (it - self.warmup_steps) / (self.max_steps - self.warmup_steps)\n",
        "        assert 0 <= decay_ratio <= 1\n",
        "        # coeff starts at 1 and goes to 0\n",
        "        coeff= 0.5 * (1.0 + math.cos(math.pi * decay_ratio))\n",
        "\n",
        "        return self.min_lr + coeff * (self.max_lr - self.min_lr)\n",
        "\n",
        "\n",
        "    def step(self):\n",
        "        self.last_lr= self.get_lr(self.last_step)\n",
        "        for param_group in self.optimizer.param_groups:\n",
        "            param_group['lr']= self.last_lr\n",
        "\n",
        "        self.last_step += 1\n"
      ],
      "metadata": {
        "id": "Kwrxn4NxHuXK"
      },
      "execution_count": null,
      "outputs": []
    },
    {
      "cell_type": "code",
      "source": [
        "def self_supervised_train(model, sen_loc_batches, seq_tkn_batches, labels_batches, mask_batch,\n",
        "                          optimizer, scheduler, epochs=50, verbose:bool=True):\n",
        "\n",
        "    # expect indices, not one-hot vectors\n",
        "    token_criterion= nn.CrossEntropyLoss()\n",
        "    # for logits directly\n",
        "    classification_criterion= nn.BCEWithLogitsLoss()\n",
        "\n",
        "    # keeping track of the losses across all epochs\n",
        "    losses= []\n",
        "    lr_history= []\n",
        "\n",
        "    # --- training loop ---\n",
        "    for epoch in range(epochs):\n",
        "        model.train()\n",
        "        epoch_losses= []\n",
        "        epoch_lr_history= []\n",
        "\n",
        "        # --- training steps ---\n",
        "        for location_batch, sequence_batch, classtarg_batch in tqdm(zip(sen_loc_batches,\n",
        "                                                                        seq_tkn_batches,\n",
        "                                                                        labels_batches)):\n",
        "            # zeroing out gradients from last iteration\n",
        "            optimizer.zero_grad()\n",
        "            # masking the tokens in the input sequence\n",
        "            masked_tokens, masked_token_locations= mask_batch(sequence_batch)\n",
        "\n",
        "            # --- forward pass --- generating class and masked token predictions\n",
        "            clsf_logits, token_logits= model(masked_tokens, location_batch, masked_token_locations)\n",
        "\n",
        "            # --- get losses --- setting up target for masked token prediction\n",
        "            masked_token_targets= sequence_batch[masked_token_locations.bool()]\n",
        "            # calculating loss for masked language modeling (MLM)\n",
        "            loss_mlm= token_criterion(token_logits, masked_token_targets)\n",
        "            # calculating loss for next sentence prediction (NSP)\n",
        "            loss_nsp= classification_criterion(clsf_logits.squeeze(), classtarg_batch.float())\n",
        "            # combining losses\n",
        "            loss= loss_mlm + loss_nsp\n",
        "\n",
        "            # --- backward pass and update the parameters using the gradient\n",
        "            loss.backward()\n",
        "            optimizer.step()\n",
        "            scheduler.step()\n",
        "\n",
        "            # keeping track of loss across the current epoch\n",
        "            epoch_losses.append(float(loss))\n",
        "            epoch_lr_history.append(scheduler.get_last_lr())\n",
        "\n",
        "        # store epoch loss\n",
        "        losses.append(np.mean(epoch_losses))\n",
        "        lr_history.append(np.mean(epoch_lr_history))\n",
        "\n",
        "        if verbose:\n",
        "            print(f'======= Epoch {epoch+1} Completed =======')\n",
        "            print(f'Average loss in this epoch: {losses[-1]:.6f}')\n",
        "\n",
        "    return losses, lr_history\n"
      ],
      "metadata": {
        "id": "zW3VEdatqoYI"
      },
      "execution_count": null,
      "outputs": []
    },
    {
      "cell_type": "code",
      "source": [
        "def plot_loss_hist(train_loss):\n",
        "    # plot training losses\n",
        "    plt.plot(train_loss, label='Train Loss')\n",
        "    plt.title('Loss')\n",
        "    plt.xlabel('Epochs')\n",
        "    plt.ylabel('Loss')\n",
        "    plt.legend()\n",
        "    plt.grid()\n",
        "    plt.show()\n",
        "\n",
        "\n",
        "def plot_lr_hist(lr_hist):\n",
        "    # plot Learning Rate history\n",
        "    plt.plot(lr_hist, label='Learning Rate')\n",
        "    plt.title('Learning Rate')\n",
        "    plt.xlabel('Epochs')\n",
        "    plt.ylabel('Learning Rate')\n",
        "    plt.legend()\n",
        "    plt.grid()\n",
        "    plt.show()"
      ],
      "metadata": {
        "id": "FrU9e4XZDM-y"
      },
      "execution_count": null,
      "outputs": []
    },
    {
      "cell_type": "code",
      "source": [
        "use_fused= False\n",
        "\n",
        "if device== torch.device('cuda'):\n",
        "    # TF32 computationally more efficient (slightly the same precision of FP32)\n",
        "    torch.set_float32_matmul_precision('high')\n",
        "    # create AdamW optimizer and use the fused version of it is available\n",
        "    fused_available= 'fused' in inspect.signature(torch.optim.AdamW).parameters\n",
        "    # fused is a lot faster when it is available and when running on cuda\n",
        "    use_fused= fused_available\n",
        "\n",
        "print(f\"Using fused AdamW: {use_fused}\")\n",
        "\n",
        "\n",
        "# --- BERT NANO (17M params) hyperparameters config ---\n",
        "vocab_size= tokenizer.vocab_size\n",
        "input_length= max_input_length\n",
        "n_segments= 2\n",
        "N= 2\n",
        "d_model= 256\n",
        "d_ff= 4 * d_model\n",
        "h= 4\n",
        "dk= 64\n",
        "dv= 64\n",
        "dropout= 0.1\n",
        "\n",
        "model= BERT(vocab_size, input_length, n_segments, N, d_model, d_ff, h, dk, dv, dropout).to(device)\n",
        "count_parameters(model)\n",
        "\n",
        "\n",
        "# train data has size 7311, so 20 epochs have 146220 steps\n",
        "epochs= 20\n",
        "learning_rate= 1e-3\n",
        "\n",
        "max_lr= learning_rate\n",
        "min_lr= 1e-5\n",
        "warmup_steps= 7311 * 1  # 1 epochs of warmup\n",
        "max_steps= 7311 * epochs\n",
        "\n",
        "optimizer= torch.optim.AdamW(model.parameters(), lr=learning_rate, betas=(0.9, 0.999),\n",
        "                             weight_decay=0.01, fused=use_fused)\n",
        "\n",
        "scheduler= CosineLRDecay(optimizer, min_lr, max_lr, warmup_steps, max_steps)\n"
      ],
      "metadata": {
        "colab": {
          "base_uri": "https://localhost:8080/"
        },
        "id": "p0_Vf24K8U6E",
        "outputId": "84565bca-341b-4061-d27f-f16eb9cb7099"
      },
      "execution_count": null,
      "outputs": [
        {
          "output_type": "stream",
          "name": "stdout",
          "text": [
            "Using fused AdamW: True\n",
            "Number of parameters: 17290753\n"
          ]
        }
      ]
    },
    {
      "cell_type": "code",
      "source": [
        "losses_hist_ssl, lr_hist_ssl= self_supervised_train(\n",
        "    model, sentence_location_batches, sequence_tokens_batches, is_positives_batches, mask_batch,\n",
        "    optimizer, scheduler, epochs\n",
        ")"
      ],
      "metadata": {
        "colab": {
          "base_uri": "https://localhost:8080/"
        },
        "id": "6Zmn-sfb8Zxq",
        "outputId": "59d1d47d-6aa9-435b-804c-89bbe87de3f9"
      },
      "execution_count": null,
      "outputs": [
        {
          "output_type": "stream",
          "name": "stderr",
          "text": [
            "7311it [18:01,  6.76it/s]\n"
          ]
        },
        {
          "output_type": "stream",
          "name": "stdout",
          "text": [
            "======= Epoch 1 Completed =======\n",
            "Average loss in this epoch: 7.855174\n"
          ]
        },
        {
          "output_type": "stream",
          "name": "stderr",
          "text": [
            "7311it [17:15,  7.06it/s]\n"
          ]
        },
        {
          "output_type": "stream",
          "name": "stdout",
          "text": [
            "======= Epoch 2 Completed =======\n",
            "Average loss in this epoch: 7.443460\n"
          ]
        },
        {
          "output_type": "stream",
          "name": "stderr",
          "text": [
            "7311it [17:07,  7.12it/s]\n"
          ]
        },
        {
          "output_type": "stream",
          "name": "stdout",
          "text": [
            "======= Epoch 3 Completed =======\n",
            "Average loss in this epoch: 7.402410\n"
          ]
        },
        {
          "output_type": "stream",
          "name": "stderr",
          "text": [
            "7311it [17:08,  7.11it/s]\n"
          ]
        },
        {
          "output_type": "stream",
          "name": "stdout",
          "text": [
            "======= Epoch 4 Completed =======\n",
            "Average loss in this epoch: 7.382101\n"
          ]
        },
        {
          "output_type": "stream",
          "name": "stderr",
          "text": [
            "7311it [17:20,  7.02it/s]\n"
          ]
        },
        {
          "output_type": "stream",
          "name": "stdout",
          "text": [
            "======= Epoch 5 Completed =======\n",
            "Average loss in this epoch: 7.379001\n"
          ]
        },
        {
          "output_type": "stream",
          "name": "stderr",
          "text": [
            "7311it [17:14,  7.07it/s]\n"
          ]
        },
        {
          "output_type": "stream",
          "name": "stdout",
          "text": [
            "======= Epoch 6 Completed =======\n",
            "Average loss in this epoch: 7.372905\n"
          ]
        },
        {
          "output_type": "stream",
          "name": "stderr",
          "text": [
            "7311it [17:13,  7.08it/s]\n"
          ]
        },
        {
          "output_type": "stream",
          "name": "stdout",
          "text": [
            "======= Epoch 7 Completed =======\n",
            "Average loss in this epoch: 7.361724\n"
          ]
        },
        {
          "output_type": "stream",
          "name": "stderr",
          "text": [
            "7311it [17:17,  7.05it/s]\n"
          ]
        },
        {
          "output_type": "stream",
          "name": "stdout",
          "text": [
            "======= Epoch 8 Completed =======\n",
            "Average loss in this epoch: 7.357427\n"
          ]
        },
        {
          "output_type": "stream",
          "name": "stderr",
          "text": [
            "7311it [17:18,  7.04it/s]\n"
          ]
        },
        {
          "output_type": "stream",
          "name": "stdout",
          "text": [
            "======= Epoch 9 Completed =======\n",
            "Average loss in this epoch: 7.353502\n"
          ]
        },
        {
          "output_type": "stream",
          "name": "stderr",
          "text": [
            "7311it [17:15,  7.06it/s]\n"
          ]
        },
        {
          "output_type": "stream",
          "name": "stdout",
          "text": [
            "======= Epoch 10 Completed =======\n",
            "Average loss in this epoch: 7.344525\n"
          ]
        },
        {
          "output_type": "stream",
          "name": "stderr",
          "text": [
            "7311it [17:29,  6.96it/s]\n"
          ]
        },
        {
          "output_type": "stream",
          "name": "stdout",
          "text": [
            "======= Epoch 11 Completed =======\n",
            "Average loss in this epoch: 7.336493\n"
          ]
        },
        {
          "output_type": "stream",
          "name": "stderr",
          "text": [
            "7311it [17:15,  7.06it/s]\n"
          ]
        },
        {
          "output_type": "stream",
          "name": "stdout",
          "text": [
            "======= Epoch 12 Completed =======\n",
            "Average loss in this epoch: 7.326596\n"
          ]
        },
        {
          "output_type": "stream",
          "name": "stderr",
          "text": [
            "7311it [17:12,  7.08it/s]\n"
          ]
        },
        {
          "output_type": "stream",
          "name": "stdout",
          "text": [
            "======= Epoch 13 Completed =======\n",
            "Average loss in this epoch: 7.316803\n"
          ]
        },
        {
          "output_type": "stream",
          "name": "stderr",
          "text": [
            "7311it [17:12,  7.08it/s]\n"
          ]
        },
        {
          "output_type": "stream",
          "name": "stdout",
          "text": [
            "======= Epoch 14 Completed =======\n",
            "Average loss in this epoch: 7.312211\n"
          ]
        },
        {
          "output_type": "stream",
          "name": "stderr",
          "text": [
            "7311it [17:05,  7.13it/s]\n"
          ]
        },
        {
          "output_type": "stream",
          "name": "stdout",
          "text": [
            "======= Epoch 15 Completed =======\n",
            "Average loss in this epoch: 7.303387\n"
          ]
        },
        {
          "output_type": "stream",
          "name": "stderr",
          "text": [
            "7311it [17:07,  7.12it/s]\n"
          ]
        },
        {
          "output_type": "stream",
          "name": "stdout",
          "text": [
            "======= Epoch 16 Completed =======\n",
            "Average loss in this epoch: 7.297813\n"
          ]
        },
        {
          "output_type": "stream",
          "name": "stderr",
          "text": [
            "7311it [17:19,  7.03it/s]\n"
          ]
        },
        {
          "output_type": "stream",
          "name": "stdout",
          "text": [
            "======= Epoch 17 Completed =======\n",
            "Average loss in this epoch: 7.290928\n"
          ]
        },
        {
          "output_type": "stream",
          "name": "stderr",
          "text": [
            "7311it [17:13,  7.07it/s]\n"
          ]
        },
        {
          "output_type": "stream",
          "name": "stdout",
          "text": [
            "======= Epoch 18 Completed =======\n",
            "Average loss in this epoch: 7.289019\n"
          ]
        },
        {
          "output_type": "stream",
          "name": "stderr",
          "text": [
            "7311it [17:08,  7.11it/s]\n"
          ]
        },
        {
          "output_type": "stream",
          "name": "stdout",
          "text": [
            "======= Epoch 19 Completed =======\n",
            "Average loss in this epoch: 7.287026\n"
          ]
        },
        {
          "output_type": "stream",
          "name": "stderr",
          "text": [
            "7311it [17:08,  7.11it/s]"
          ]
        },
        {
          "output_type": "stream",
          "name": "stdout",
          "text": [
            "======= Epoch 20 Completed =======\n",
            "Average loss in this epoch: 7.285457\n"
          ]
        },
        {
          "output_type": "stream",
          "name": "stderr",
          "text": [
            "\n"
          ]
        }
      ]
    },
    {
      "cell_type": "code",
      "source": [
        "plot_loss_hist(losses_hist_ssl)"
      ],
      "metadata": {
        "colab": {
          "base_uri": "https://localhost:8080/",
          "height": 472
        },
        "id": "LNclc75lO-fc",
        "outputId": "4c72ca03-12a9-4672-8666-4d37f5401743"
      },
      "execution_count": null,
      "outputs": [
        {
          "output_type": "display_data",
          "data": {
            "text/plain": [
              "<Figure size 640x480 with 1 Axes>"
            ],
            "image/png": "[encoded data removed]"
          },
          "metadata": {}
        }
      ]
    },
    {
      "cell_type": "markdown",
      "source": [
        "Working through some highlights:\n",
        "- We define our model, and put it on the device (a CPU or GPU)\n",
        "- We define \"criteria\", these are the functions which will calculate the loss (how wrong the model was) from masked language modeling and next sentence prediction\n",
        "- We define an optimizer, which will look at how large the loss was and update the model accordingly\n",
        "- We go over all the data over n epochs\n",
        "- We iterate over all batches of the data\n",
        "- We mask our batch randomly with the masking function we defined previously\n",
        "- We run the masked tokens, along with location information and where the masked tokens are, through the model. We get back predictions for next sentence prediction and predictions as to what the model thinks each masked token should be\n",
        "- We pass our predictions through each respective criterion, with what the outputs should have been, to calculate loss\n",
        "- We call loss.backward() to calculate how the model should change to be less wrong at this particular example\n",
        "- We allow the optimizer to update the model based on the model's performance on this batch"
      ],
      "metadata": {
        "id": "IPxomptS-2mf"
      }
    },
    {
      "cell_type": "markdown",
      "metadata": {
        "id": "HV3lwQVI9LXQ"
      },
      "source": [
        "# Fine Tuning BERT\n",
        "\n",
        "The exact process of fine tuning depends on the type of data you're trying to fine tune against. Let's use sentiment analysis as an example.\n",
        "\n",
        "Now have a BERT model that has some understanding of text. Let's use it to do something. The amazon_polarity dataset is an open dataset from amazon that contains information about whether a review is positive or negative. It consists of a big batch of review titles, review content, and labels saying if the review is positive or negative."
      ]
    },
    {
      "cell_type": "code",
      "execution_count": null,
      "metadata": {
        "colab": {
          "base_uri": "https://localhost:8080/",
          "height": 310,
          "referenced_widgets": [
            "566e966d712841b997ed1f8224aca55a",
            "bd161c58bfc346a1b1a1209e9919ebd9",
            "80ffea5883e148bcb0620bdb8086bcdc",
            "aa87cb5036954e19b99da69f866e991e",
            "f93001abd80c4293955df3d13e8b6ca3",
            "c9109161270f45b0926cacf5755e6043",
            "1f20878bac2b4ce49f4173624205b542",
            "9311ce89389d4787aa91f009fabd834c",
            "eaecc7086972407786fe8e76e6deef33",
            "5f310cd412fd4d319fd1b7457c48cc15",
            "c9cda3da2324468cafd4d2e751b371cb",
            "46a7380e57ce4c32bd7685014ac55160",
            "9fc98ddf37ac45adbc168d85734e506e",
            "0692506a27a348d1aec20558a05e9550",
            "da6f260195df47a4bd88581eb0bf4a88",
            "b347da9268ca4cea9b7f8cc0c54e02d5",
            "534dd053e85f4121a9d29037b8f3357f",
            "7132d9fb70854f7885fba71b6628c0ea",
            "5813b1125dbc43d683eec1d13be8c7d7",
            "d460f718bdf24cb191646a7e6746bffc",
            "085109c18cc04e4d9d3594e62b76815d",
            "faf569e0e06b45a79921343f6c7834ff",
            "f6a81dbd9fce42e28df2a9aec7ea8b8a",
            "28537adad6474b3a9b7cd1a257083e77",
            "fe75d9f893f14ccca657391671b3ea1f",
            "dc88e2f06c2c43209c36f162fe75c3f1",
            "84080e9fd474484fbab248b2a7e72674",
            "da5add54dc8c4e588d1544f5fdc9a075",
            "0227befe847247a59313e85e24511568",
            "5cedf5c35c29463fbe59cf6772833282",
            "fb5a72bfc7d0484284866566e4d9e174",
            "8356f6cad978443d8f875c1ae63a5183",
            "39ea8cccc3dd4819a1ba36ad2c86844d",
            "8cd0413cd5f544538a875f0af7fb3dbd",
            "93785724359647a794de2031cce3cb31",
            "babb339359db46008c51698335cd6df8",
            "2e67881c6c6441a6abcf99898870b476",
            "d01370996ae143a495d8f511783acdb7",
            "b83efa5b2759457ebff499ea732f1e46",
            "e0194023497c40f1ac481b2a69903115",
            "129c719f6e1143c580efe349bfad4aca",
            "6d17c861b6b04d7dbb14483034346e32",
            "2711e51c88174bf28dfa4d6c8b6ced6c",
            "a9db2ed1741e4a159597aef5d558f565",
            "a401607bf6b943e593b28f6e1134f309",
            "541735f977bd4506b9167eefbf1c2be4",
            "c46b8ccd9f4342bda334a37847bc5e13",
            "346e811f5dc9488facbb0b1c493859a3",
            "23715633151e48cfbaa153b9af16c3e1",
            "946ff1b9e5d44d32b7cd8c242e65a2bd",
            "d99859fa11eb4107bba09db46c6f57c7",
            "99babb87e0aa48ffb415ffecac26af19",
            "65fe462eb1bc44258a1731858ac3890c",
            "cda8b6e59c18496f852f65a100af4b78",
            "2923fdafabba4204a32e9fd1073410f9",
            "3eee703a56a14a6fb646ec30632c7af8",
            "3e90d08cf1ef4b389629053a1a56d142",
            "ce08d995cc5f4405a8ed37f35b40c284",
            "a09bbf495a534ad797a014bc1d10b33b",
            "b32920b3bd464cf39da0d57039cbaaf5",
            "0ed301dd4e7444b7a304169aea450503",
            "9fe0669a267f4a2da1a1be1bddbd4b08",
            "2668c8f5084d4b27a62c7bcd42399565",
            "5d495a7de2e34c93b625ec6293cc0e8c",
            "41704c50e70d4d2f996a71a85e0f057c",
            "4f1d51346b9249d2b3a3411adad9e771",
            "55b34f8b8be44974bd1a5553fabdb010",
            "220e6188d387452d86ce21aad1af961d",
            "372b07f9875146e9863743679c2b83b2",
            "13d783b59fde481e9fc25d77efa7c799",
            "f74d26d00d514f21bc0b0faf051236cf",
            "30856d8d522947198d9de3df1e70ecc1",
            "2fd4559214554a63bbb85dfe03094d1c",
            "48940b4b90d64496bfc477cdb155d84d",
            "e0a05e923cf84c9091de0a4759e0f476",
            "620eb7cdc16c4dbd9de18afbc1165a54",
            "238ee18512f74b0eac545a9fe25d258f",
            "2a42b1af997e4e408fd614415ac11d3e",
            "3ceaf4c2d0eb4cde9595b3afabc2f998",
            "d8900eda9dbb40d5bfec7e8e68a98a95",
            "287cbc6edfa5467f944cfb2f753fc835",
            "66015a11ed114db183bff5e89dac6216",
            "f1b769bdb18044dc970eee729a096576",
            "c7cffab296cc491f9c906780b60445e3",
            "ff0d813d5330430b8f809c77f5726df1",
            "fa15ca429aae479d8f891955c04eec7d",
            "765b0339f1c3475db0e5217c7f761ec5",
            "7b1063dc8f2d42d18af8ccf47ec371f2"
          ]
        },
        "id": "mG1e_iO74-X3",
        "outputId": "ddb1f338-9f29-4cb0-931b-746cbdcbbd2c"
      },
      "outputs": [
        {
          "output_type": "display_data",
          "data": {
            "text/plain": [
              "README.md:   0%|          | 0.00/6.81k [00:00<?, ?B/s]"
            ],
            "application/vnd.jupyter.widget-view+json": {
              "version_major": 2,
              "version_minor": 0,
              "model_id": "566e966d712841b997ed1f8224aca55a"
            }
          },
          "metadata": {}
        },
        {
          "output_type": "display_data",
          "data": {
            "text/plain": [
              "train-00000-of-00004.parquet:   0%|          | 0.00/260M [00:00<?, ?B/s]"
            ],
            "application/vnd.jupyter.widget-view+json": {
              "version_major": 2,
              "version_minor": 0,
              "model_id": "46a7380e57ce4c32bd7685014ac55160"
            }
          },
          "metadata": {}
        },
        {
          "output_type": "display_data",
          "data": {
            "text/plain": [
              "train-00001-of-00004.parquet:   0%|          | 0.00/258M [00:00<?, ?B/s]"
            ],
            "application/vnd.jupyter.widget-view+json": {
              "version_major": 2,
              "version_minor": 0,
              "model_id": "f6a81dbd9fce42e28df2a9aec7ea8b8a"
            }
          },
          "metadata": {}
        },
        {
          "output_type": "display_data",
          "data": {
            "text/plain": [
              "train-00002-of-00004.parquet:   0%|          | 0.00/255M [00:00<?, ?B/s]"
            ],
            "application/vnd.jupyter.widget-view+json": {
              "version_major": 2,
              "version_minor": 0,
              "model_id": "8cd0413cd5f544538a875f0af7fb3dbd"
            }
          },
          "metadata": {}
        },
        {
          "output_type": "display_data",
          "data": {
            "text/plain": [
              "train-00003-of-00004.parquet:   0%|          | 0.00/254M [00:00<?, ?B/s]"
            ],
            "application/vnd.jupyter.widget-view+json": {
              "version_major": 2,
              "version_minor": 0,
              "model_id": "a401607bf6b943e593b28f6e1134f309"
            }
          },
          "metadata": {}
        },
        {
          "output_type": "display_data",
          "data": {
            "text/plain": [
              "test-00000-of-00001.parquet:   0%|          | 0.00/117M [00:00<?, ?B/s]"
            ],
            "application/vnd.jupyter.widget-view+json": {
              "version_major": 2,
              "version_minor": 0,
              "model_id": "3eee703a56a14a6fb646ec30632c7af8"
            }
          },
          "metadata": {}
        },
        {
          "output_type": "display_data",
          "data": {
            "text/plain": [
              "Generating train split:   0%|          | 0/3600000 [00:00<?, ? examples/s]"
            ],
            "application/vnd.jupyter.widget-view+json": {
              "version_major": 2,
              "version_minor": 0,
              "model_id": "55b34f8b8be44974bd1a5553fabdb010"
            }
          },
          "metadata": {}
        },
        {
          "output_type": "display_data",
          "data": {
            "text/plain": [
              "Generating test split:   0%|          | 0/400000 [00:00<?, ? examples/s]"
            ],
            "application/vnd.jupyter.widget-view+json": {
              "version_major": 2,
              "version_minor": 0,
              "model_id": "2a42b1af997e4e408fd614415ac11d3e"
            }
          },
          "metadata": {}
        },
        {
          "output_type": "stream",
          "name": "stdout",
          "text": [
            "{'label': 1, 'title': 'Stuning even for the non-gamer', 'content': 'This sound track was beautiful! It paints the senery in your mind so well I would recomend it even to people who hate vid. game music! I have played the game Chrono Cross but out of all of the games I have ever played it has the best music! It backs away from crude keyboarding and takes a fresher step with grate guitars and soulful orchestras. It would impress anyone who cares to listen! ^_^'}\n"
          ]
        }
      ],
      "source": [
        "fine_tune_ds= load_dataset('fancyzhx/amazon_polarity')\n",
        "\n",
        "for elem in fine_tune_ds['train']:\n",
        "    print(elem)\n",
        "    break"
      ]
    },
    {
      "cell_type": "markdown",
      "source": [
        "We are going to use this data to fine tune our BERT model to predict if the review is positive or negative.\n",
        "\n",
        "First we need to turn this data into data that makes sense in a BERT model. The exact approach for this process can vary from task to task. Luckily for us this dataset consists of pairs of sentences (the title and content) so we can format the fine-tuned data just like we formatted the pre-training data previously."
      ],
      "metadata": {
        "id": "3nJ2TopS_QY7"
      }
    },
    {
      "cell_type": "code",
      "source": [
        "def preprocess_ft_data(data, max_input_length, max_num=100000):\n",
        "\n",
        "    data_tokens= []\n",
        "    data_positional= []\n",
        "    data_targets= []\n",
        "\n",
        "    # unpacking data\n",
        "    for i, elem in enumerate(data):\n",
        "\n",
        "        # tokenizing the title and content\n",
        "        sentence1= elem['title']\n",
        "        sentence2= elem['content']\n",
        "        tokens= tokenizer([sentence1, sentence2], truncation=True, padding=False,\n",
        "                          max_length=max_input_length)\n",
        "        sentence1_tokens= tokens['input_ids'][0]\n",
        "        sentence2_tokens= tokens['input_ids'][1]\n",
        "\n",
        "        # trimming down tokens\n",
        "        if len(sentence1_tokens) + len(sentence2_tokens) > max_input_length:\n",
        "            max_half= max_input_length // 2  # leaving space for [CLS] and [SEP]\n",
        "\n",
        "            sentence1_tokens= [101] + sentence1_tokens[-(max_half -1):]\n",
        "            sentence2_tokens= sentence2_tokens[:(max_half -1)] + [102]\n",
        "\n",
        "        # creating sentence tokens\n",
        "        sentence_tokens= [0] * len(sentence1_tokens) + [1] * len(sentence2_tokens)\n",
        "\n",
        "        # combining and padding\n",
        "        pad_num= max_input_length - (len(sentence1_tokens) + len(sentence2_tokens))\n",
        "        sequence_tokens= sentence1_tokens + sentence2_tokens + [0] * pad_num\n",
        "        sentence_location_tokens= sentence_tokens + [1] * pad_num\n",
        "\n",
        "        data_tokens.append(sequence_tokens)\n",
        "        data_positional.append(sentence_location_tokens)\n",
        "        data_targets.append(elem['label'])\n",
        "\n",
        "        if i>= max_num:\n",
        "            break\n",
        "\n",
        "    return torch.tensor(data_positional), torch.tensor(data_tokens), torch.tensor(data_targets)\n"
      ],
      "metadata": {
        "id": "-kQi6L9UrMOe"
      },
      "execution_count": null,
      "outputs": []
    },
    {
      "cell_type": "code",
      "execution_count": null,
      "metadata": {
        "id": "vAXZO1BW4-as"
      },
      "outputs": [],
      "source": [
        "# processing data into modeling data\n",
        "train_pos, train_tok, train_targ= preprocess_ft_data(fine_tune_ds['train'], max_input_length)\n",
        "test_pos, test_tok, test_targ= preprocess_ft_data(fine_tune_ds['test'], max_input_length)\n",
        "\n",
        "# moving training to device\n",
        "train_pos= train_pos.to(device)\n",
        "train_tok= train_tok.to(device)\n",
        "train_targ= train_targ.to(device)\n",
        "\n",
        "# moving testing to device\n",
        "test_pos= test_pos.to(device)\n",
        "test_tok= test_tok.to(device)\n",
        "test_targ= test_targ.to(device)"
      ]
    },
    {
      "cell_type": "code",
      "source": [
        "train_pos.shape, train_tok.shape, train_targ.shape"
      ],
      "metadata": {
        "colab": {
          "base_uri": "https://localhost:8080/"
        },
        "id": "6i47hNIdHloT",
        "outputId": "d830f8b8-90c9-4ea6-8532-43add4545569"
      },
      "execution_count": null,
      "outputs": [
        {
          "output_type": "execute_result",
          "data": {
            "text/plain": [
              "(torch.Size([100001, 64]), torch.Size([100001, 64]), torch.Size([100001]))"
            ]
          },
          "metadata": {},
          "execution_count": 43
        }
      ]
    },
    {
      "cell_type": "code",
      "source": [
        "train_pos.shape[0] // batch_size"
      ],
      "metadata": {
        "colab": {
          "base_uri": "https://localhost:8080/"
        },
        "id": "EL1aFZmcJOuj",
        "outputId": "a0f959fd-b0ea-4631-9296-ac1a575fda2c"
      },
      "execution_count": null,
      "outputs": [
        {
          "output_type": "execute_result",
          "data": {
            "text/plain": [
              "781"
            ]
          },
          "metadata": {},
          "execution_count": 44
        }
      ]
    },
    {
      "cell_type": "markdown",
      "source": [
        "Supervised Training for fine tuning the model We can run the same pre training code as before, except on the fine tuned dataset and with the pre-trained model with a new classification head. Here we don't care about the masked language\n",
        "modeling objective, so we are passing the original tokens into the model rather than the masked ones. If you wanted to do this properly you would artificially create a mask of all zeros.\n",
        "\n",
        "Actually, when I ran this model I forgot to change any of this code, so I was still optimizing on masked language modeling as well as optimizing on the the classification of positive or negative reviews. I'm sure you could experiment with that strategy, there might be some merit to getting the model to better understand the type of text used in reviews specifically."
      ],
      "metadata": {
        "id": "IaproXls_fVv"
      }
    },
    {
      "cell_type": "code",
      "source": [
        "def supervised_train(model, train_loc_batches, train_tkn_batches, train_lbl_batches, mask_batch,\n",
        "                     batch_size, optimizer, scheduler, epochs=50, verbose:bool=True):\n",
        "\n",
        "    # for logits directly\n",
        "    classification_criterion= nn.BCEWithLogitsLoss()\n",
        "\n",
        "    # keeping track of the losses across all epochs\n",
        "    ft_losses= []\n",
        "    lr_history= []\n",
        "\n",
        "    # --- training loop ---\n",
        "    for epoch in range(epochs):\n",
        "        model.train()\n",
        "        epoch_losses = []\n",
        "        epoch_lr_history= []\n",
        "\n",
        "        # --- training steps ---\n",
        "        for i in tqdm(range(0, train_loc_batches.shape[0], batch_size),\n",
        "                      total=len(train_loc_batches) // batch_size):\n",
        "\n",
        "            if i+batch_size>= train_loc_batches.shape[0]:\n",
        "                break\n",
        "\n",
        "            # getting batch\n",
        "            train_pos_batch = train_loc_batches[i : i+batch_size]\n",
        "            train_tok_batch = train_tkn_batches[i : i+batch_size]\n",
        "            train_targ_batch= train_lbl_batches[i : i+batch_size]\n",
        "\n",
        "            # zeroing out gradients from last iteration\n",
        "            optimizer.zero_grad()\n",
        "            # masking the tokens in the input sequence --- we do not use masked_tokens in the\n",
        "            # fine tuning process since after we train our model, the [MASK] token will never be\n",
        "            # seen when the model is actually being used and making inferences\n",
        "            # masked_tokens, masked_token_locations= mask_batch(train_tok_batch)\n",
        "\n",
        "            # --- forward pass and get loss --- generating class\n",
        "            clsf_logits, _= model(train_tok_batch, train_pos_batch)\n",
        "            # calculating loss for next sentence classification\n",
        "            # we are not optimizing the masked language modeling objective\n",
        "            loss= classification_criterion(clsf_logits.squeeze(), train_targ_batch.float())\n",
        "\n",
        "            # --- backward pass and update the parameters using the gradient\n",
        "            loss.backward()\n",
        "            optimizer.step()\n",
        "            scheduler.step()\n",
        "\n",
        "            # keeping track of loss across the current epoch\n",
        "            epoch_losses.append(float(loss))\n",
        "            epoch_lr_history.append(scheduler.get_last_lr())\n",
        "\n",
        "        # store loss per epoch\n",
        "        ft_losses.append(np.mean(epoch_losses))\n",
        "        lr_history.append(np.mean(epoch_lr_history))\n",
        "\n",
        "        if verbose:\n",
        "            print(f'======= Epoch {epoch+1} Completed =======')\n",
        "            print(f'Average loss in this epoch: {ft_losses[-1]:.6f}')\n",
        "\n",
        "    return ft_losses, lr_history\n"
      ],
      "metadata": {
        "id": "CKYsoXvprPty"
      },
      "execution_count": null,
      "outputs": []
    },
    {
      "cell_type": "markdown",
      "source": [
        "Before we fine tune let's replace the classifier with a randomly initialized model. This allows us to preserve BERT's general language understanding, but start fresh in terms of the part of the model that's doing the classification, which is good to do because we are classifying something completely different."
      ],
      "metadata": {
        "id": "Apf62_SE_Y2b"
      }
    },
    {
      "cell_type": "code",
      "source": [
        "# the new training objective is still binary classification, except these parameters will be used\n",
        "# to decide if a review was positive or negative\n",
        "model.classifier= ClassifierHead(d_model, 1, bias=True, fine_tune=True).to(device)\n",
        "\n",
        "\n",
        "# train data has size 781, so 20 epochs have 15620 steps\n",
        "epochs= 20\n",
        "learning_rate= 5e-4\n",
        "\n",
        "max_lr= learning_rate\n",
        "min_lr= 1e-5\n",
        "warmup_steps= 781 * 1  # 1 epoch of warmup\n",
        "max_steps= 781 * epochs\n",
        "\n",
        "# resetting the optimizer to have access to the parameters of the new head\n",
        "optimizer= torch.optim.AdamW(model.parameters(), lr=learning_rate, betas=(0.9, 0.999),\n",
        "                             weight_decay=0.01, fused=use_fused)\n",
        "\n",
        "scheduler= CosineLRDecay(optimizer, min_lr, max_lr, warmup_steps, max_steps)\n",
        "\n",
        "losses_hist_ft, lr_hist_ft= supervised_train(model, train_pos, train_tok, train_targ, mask_batch,\n",
        "                                             batch_size, optimizer, scheduler, epochs)\n"
      ],
      "metadata": {
        "colab": {
          "base_uri": "https://localhost:8080/"
        },
        "id": "sFk18y129k2q",
        "outputId": "15820125-15df-48ae-bfc5-f4595a6fefca"
      },
      "execution_count": null,
      "outputs": [
        {
          "output_type": "stream",
          "name": "stderr",
          "text": [
            "100%|██████████| 781/781 [01:44<00:00,  7.45it/s]\n"
          ]
        },
        {
          "output_type": "stream",
          "name": "stdout",
          "text": [
            "======= Epoch 1 Completed =======\n",
            "Average loss in this epoch: 0.683546\n"
          ]
        },
        {
          "output_type": "stream",
          "name": "stderr",
          "text": [
            "100%|██████████| 781/781 [01:44<00:00,  7.51it/s]\n"
          ]
        },
        {
          "output_type": "stream",
          "name": "stdout",
          "text": [
            "======= Epoch 2 Completed =======\n",
            "Average loss in this epoch: 0.514449\n"
          ]
        },
        {
          "output_type": "stream",
          "name": "stderr",
          "text": [
            "100%|██████████| 781/781 [01:43<00:00,  7.52it/s]\n"
          ]
        },
        {
          "output_type": "stream",
          "name": "stdout",
          "text": [
            "======= Epoch 3 Completed =======\n",
            "Average loss in this epoch: 0.391017\n"
          ]
        },
        {
          "output_type": "stream",
          "name": "stderr",
          "text": [
            "100%|██████████| 781/781 [01:45<00:00,  7.39it/s]\n"
          ]
        },
        {
          "output_type": "stream",
          "name": "stdout",
          "text": [
            "======= Epoch 4 Completed =======\n",
            "Average loss in this epoch: 0.347043\n"
          ]
        },
        {
          "output_type": "stream",
          "name": "stderr",
          "text": [
            "100%|██████████| 781/781 [01:44<00:00,  7.51it/s]\n"
          ]
        },
        {
          "output_type": "stream",
          "name": "stdout",
          "text": [
            "======= Epoch 5 Completed =======\n",
            "Average loss in this epoch: 0.321731\n"
          ]
        },
        {
          "output_type": "stream",
          "name": "stderr",
          "text": [
            "100%|██████████| 781/781 [01:44<00:00,  7.50it/s]\n"
          ]
        },
        {
          "output_type": "stream",
          "name": "stdout",
          "text": [
            "======= Epoch 6 Completed =======\n",
            "Average loss in this epoch: 0.302915\n"
          ]
        },
        {
          "output_type": "stream",
          "name": "stderr",
          "text": [
            "100%|██████████| 781/781 [01:44<00:00,  7.50it/s]\n"
          ]
        },
        {
          "output_type": "stream",
          "name": "stdout",
          "text": [
            "======= Epoch 7 Completed =======\n",
            "Average loss in this epoch: 0.290109\n"
          ]
        },
        {
          "output_type": "stream",
          "name": "stderr",
          "text": [
            "100%|██████████| 781/781 [01:43<00:00,  7.55it/s]\n"
          ]
        },
        {
          "output_type": "stream",
          "name": "stdout",
          "text": [
            "======= Epoch 8 Completed =======\n",
            "Average loss in this epoch: 0.275791\n"
          ]
        },
        {
          "output_type": "stream",
          "name": "stderr",
          "text": [
            "100%|██████████| 781/781 [01:44<00:00,  7.48it/s]\n"
          ]
        },
        {
          "output_type": "stream",
          "name": "stdout",
          "text": [
            "======= Epoch 9 Completed =======\n",
            "Average loss in this epoch: 0.264214\n"
          ]
        },
        {
          "output_type": "stream",
          "name": "stderr",
          "text": [
            "100%|██████████| 781/781 [01:43<00:00,  7.52it/s]\n"
          ]
        },
        {
          "output_type": "stream",
          "name": "stdout",
          "text": [
            "======= Epoch 10 Completed =======\n",
            "Average loss in this epoch: 0.254482\n"
          ]
        },
        {
          "output_type": "stream",
          "name": "stderr",
          "text": [
            "100%|██████████| 781/781 [01:44<00:00,  7.44it/s]\n"
          ]
        },
        {
          "output_type": "stream",
          "name": "stdout",
          "text": [
            "======= Epoch 11 Completed =======\n",
            "Average loss in this epoch: 0.245947\n"
          ]
        },
        {
          "output_type": "stream",
          "name": "stderr",
          "text": [
            "100%|██████████| 781/781 [01:44<00:00,  7.51it/s]\n"
          ]
        },
        {
          "output_type": "stream",
          "name": "stdout",
          "text": [
            "======= Epoch 12 Completed =======\n",
            "Average loss in this epoch: 0.237454\n"
          ]
        },
        {
          "output_type": "stream",
          "name": "stderr",
          "text": [
            "100%|██████████| 781/781 [01:43<00:00,  7.52it/s]\n"
          ]
        },
        {
          "output_type": "stream",
          "name": "stdout",
          "text": [
            "======= Epoch 13 Completed =======\n",
            "Average loss in this epoch: 0.229663\n"
          ]
        },
        {
          "output_type": "stream",
          "name": "stderr",
          "text": [
            "100%|██████████| 781/781 [01:44<00:00,  7.50it/s]\n"
          ]
        },
        {
          "output_type": "stream",
          "name": "stdout",
          "text": [
            "======= Epoch 14 Completed =======\n",
            "Average loss in this epoch: 0.223136\n"
          ]
        },
        {
          "output_type": "stream",
          "name": "stderr",
          "text": [
            "100%|██████████| 781/781 [01:43<00:00,  7.52it/s]\n"
          ]
        },
        {
          "output_type": "stream",
          "name": "stdout",
          "text": [
            "======= Epoch 15 Completed =======\n",
            "Average loss in this epoch: 0.218710\n"
          ]
        },
        {
          "output_type": "stream",
          "name": "stderr",
          "text": [
            "100%|██████████| 781/781 [01:44<00:00,  7.51it/s]\n"
          ]
        },
        {
          "output_type": "stream",
          "name": "stdout",
          "text": [
            "======= Epoch 16 Completed =======\n",
            "Average loss in this epoch: 0.213428\n"
          ]
        },
        {
          "output_type": "stream",
          "name": "stderr",
          "text": [
            "100%|██████████| 781/781 [01:43<00:00,  7.53it/s]\n"
          ]
        },
        {
          "output_type": "stream",
          "name": "stdout",
          "text": [
            "======= Epoch 17 Completed =======\n",
            "Average loss in this epoch: 0.211334\n"
          ]
        },
        {
          "output_type": "stream",
          "name": "stderr",
          "text": [
            "100%|██████████| 781/781 [01:43<00:00,  7.53it/s]\n"
          ]
        },
        {
          "output_type": "stream",
          "name": "stdout",
          "text": [
            "======= Epoch 18 Completed =======\n",
            "Average loss in this epoch: 0.208949\n"
          ]
        },
        {
          "output_type": "stream",
          "name": "stderr",
          "text": [
            "100%|██████████| 781/781 [01:45<00:00,  7.41it/s]\n"
          ]
        },
        {
          "output_type": "stream",
          "name": "stdout",
          "text": [
            "======= Epoch 19 Completed =======\n",
            "Average loss in this epoch: 0.207470\n"
          ]
        },
        {
          "output_type": "stream",
          "name": "stderr",
          "text": [
            "100%|██████████| 781/781 [01:45<00:00,  7.41it/s]"
          ]
        },
        {
          "output_type": "stream",
          "name": "stdout",
          "text": [
            "======= Epoch 20 Completed =======\n",
            "Average loss in this epoch: 0.206986\n"
          ]
        },
        {
          "output_type": "stream",
          "name": "stderr",
          "text": [
            "\n"
          ]
        }
      ]
    },
    {
      "cell_type": "code",
      "source": [
        "plot_loss_hist(losses_hist_ft)\n",
        "print(\"\\n\")\n",
        "plot_lr_hist(lr_hist_ft)"
      ],
      "metadata": {
        "colab": {
          "base_uri": "https://localhost:8080/",
          "height": 962
        },
        "id": "SlmALjHcPZOQ",
        "outputId": "bd872a2f-ab5a-4ca6-8e94-e280ae9c7c75"
      },
      "execution_count": null,
      "outputs": [
        {
          "output_type": "display_data",
          "data": {
            "text/plain": [
              "<Figure size 640x480 with 1 Axes>"
            ],
            "image/png": "[encoded data removed]"
          },
          "metadata": {}
        },
        {
          "output_type": "stream",
          "name": "stdout",
          "text": [
            "\n",
            "\n"
          ]
        },
        {
          "output_type": "display_data",
          "data": {
            "text/plain": [
              "<Figure size 640x480 with 1 Axes>"
            ],
            "image/png": "[encoded data removed]"
          },
          "metadata": {}
        }
      ]
    },
    {
      "cell_type": "markdown",
      "source": [
        "# Inferring BERT\n",
        "\n",
        "This dataset has a test set, so we can apply this fine tuned BERT model to see how good it is at classifying reviews it's never seen before."
      ],
      "metadata": {
        "id": "l_d2eG7trcuY"
      }
    },
    {
      "cell_type": "code",
      "source": [
        "def test_accuracy(model, test_loc_batches, test_tkn_batches, test_lbl_batches, batch_size):\n",
        "\n",
        "    is_correct= []\n",
        "    predicted_class= []\n",
        "    original_class= []\n",
        "\n",
        "    model.eval()\n",
        "\n",
        "    with torch.no_grad():\n",
        "        for i in tqdm(range(0, test_loc_batches.shape[0], batch_size)):\n",
        "\n",
        "            if i+batch_size>= test_loc_batches.shape[0]:\n",
        "                break\n",
        "\n",
        "            # getting batch\n",
        "            test_pos_batch = test_loc_batches[i : i+batch_size]\n",
        "            test_tok_batch = test_tkn_batches[i : i+batch_size]\n",
        "            test_targ_batch= test_lbl_batches[i : i+batch_size]\n",
        "\n",
        "            # making prediction, not masking anything\n",
        "            clsf_logits, _= model(test_tok_batch, test_pos_batch)\n",
        "\n",
        "            # converting logits to probabilities then rounding to classifications\n",
        "            res= torch.sigmoid(clsf_logits).round().squeeze(dim=-1)\n",
        "\n",
        "            # keeping track of the original class (positive or negative) and if the model was correct\n",
        "            original_class.extend(test_targ_batch.cpu().tolist())\n",
        "            is_correct.extend((res == test_targ_batch).cpu().tolist())\n",
        "            predicted_class.extend(res.detach().cpu().tolist())\n",
        "\n",
        "    # accuracy rate, original_class, and predicted_class\n",
        "    return (sum(list(is_correct)) / len(is_correct)), original_class, predicted_class\n"
      ],
      "metadata": {
        "id": "uI8_RjsSC76S"
      },
      "execution_count": null,
      "outputs": []
    },
    {
      "cell_type": "code",
      "execution_count": null,
      "metadata": {
        "id": "IJxikJVBGtRT",
        "colab": {
          "base_uri": "https://localhost:8080/"
        },
        "outputId": "c7fb7f34-cbe8-4eeb-a279-f56bdf332b92"
      },
      "outputs": [
        {
          "output_type": "stream",
          "name": "stderr",
          "text": [
            "100%|█████████▉| 781/782 [00:08<00:00, 89.53it/s]"
          ]
        },
        {
          "output_type": "stream",
          "name": "stdout",
          "text": [
            "\n",
            "BERT-based model accuracy: 84.78%\n"
          ]
        },
        {
          "output_type": "stream",
          "name": "stderr",
          "text": [
            "\n"
          ]
        }
      ],
      "source": [
        "acc, original_class, predicted_class= test_accuracy(model, test_pos, test_tok, test_targ, batch_size)\n",
        "print(f'\\nBERT-based model accuracy: {(acc * 100):02.2f}%')"
      ]
    },
    {
      "cell_type": "code",
      "execution_count": null,
      "metadata": {
        "id": "nNpMG5YjGtgp",
        "colab": {
          "base_uri": "https://localhost:8080/"
        },
        "outputId": "18af8671-b52a-4b2b-bbb7-94526e6ebd71"
      },
      "outputs": [
        {
          "output_type": "stream",
          "name": "stdout",
          "text": [
            "              precision    recall  f1-score   support\n",
            "\n",
            "           0       0.85      0.85      0.85     49405\n",
            "           1       0.85      0.85      0.85     50563\n",
            "\n",
            "    accuracy                           0.85     99968\n",
            "   macro avg       0.85      0.85      0.85     99968\n",
            "weighted avg       0.85      0.85      0.85     99968\n",
            "\n"
          ]
        }
      ],
      "source": [
        "from sklearn.metrics import confusion_matrix, classification_report\n",
        "\n",
        "print(classification_report(original_class, predicted_class))"
      ]
    },
    {
      "cell_type": "markdown",
      "source": [
        "We got a model that could classify if a review was positive or negative with a **84.78% accuracy**. That might not sound that impressive, but the BERT model used in this example is virtually microscopic. If you used more encoder blocks, a larger model dimension, and played around with a few other model parameters I think you could easily pass 90%.\n",
        "\n",
        "We actually created a BERT style model. We explored tokenization, data processing, embedding, multi-headed self-attention, pointwise feed forward, pre-training, and fine tuning. By the end of that process we had created a BERT style model, trained it on Wiki articles to understand text, then fine-tuned it to classify if product reviews were positive or negative."
      ],
      "metadata": {
        "id": "_WMpu_jS_sp0"
      }
    },
    {
      "cell_type": "code",
      "execution_count": null,
      "metadata": {
        "id": "m7RToiqY4-eQ"
      },
      "outputs": [],
      "source": [
        "# https://towardsdatascience.com/bert-intuitively-and-exhaustively-explained-48a24ecc1c8a\n",
        "# https://github.com/DanielWarfield1/MLWritingAndResearch/blob/main/BERTFromScratch.ipynb"
      ]
    }
  ],
  "metadata": {
    "accelerator": "GPU",
    "colab": {
      "gpuType": "T4",
      "toc_visible": true,
      "provenance": []
    },
    "kernelspec": {
      "display_name": "Python 3",
      "name": "python3"
    },
    "language_info": {
      "name": "python"
    },
    "widgets": {
      "application/vnd.jupyter.widget-state+json": {
        "180b2336463d4cd193b5083205e2fe48": {
          "model_module": "@jupyter-widgets/controls",
          "model_name": "HBoxModel",
          "model_module_version": "1.5.0",
          "state": {
            "_dom_classes": [],
            "_model_module": "@jupyter-widgets/controls",
            "_model_module_version": "1.5.0",
            "_model_name": "HBoxModel",
            "_view_count": null,
            "_view_module": "@jupyter-widgets/controls",
            "_view_module_version": "1.5.0",
            "_view_name": "HBoxView",
            "box_style": "",
            "children": [
              "IPY_MODEL_78ad81dfa21a4c2c896f63c8ecc00b01",
              "IPY_MODEL_a3ea5a1aff8e425a9709814a18467d2a",
              "IPY_MODEL_a8344a7aaf03494e8439a62592873f8b"
            ],
            "layout": "IPY_MODEL_6208975aef274f0fa5e3888df1723b73"
          }
        },
        "78ad81dfa21a4c2c896f63c8ecc00b01": {
          "model_module": "@jupyter-widgets/controls",
          "model_name": "HTMLModel",
          "model_module_version": "1.5.0",
          "state": {
            "_dom_classes": [],
            "_model_module": "@jupyter-widgets/controls",
            "_model_module_version": "1.5.0",
            "_model_name": "HTMLModel",
            "_view_count": null,
            "_view_module": "@jupyter-widgets/controls",
            "_view_module_version": "1.5.0",
            "_view_name": "HTMLView",
            "description": "",
            "description_tooltip": null,
            "layout": "IPY_MODEL_34102c5e98b043baa5ef2347607467e7",
            "placeholder": "​",
            "style": "IPY_MODEL_3934e983e9b94ca1b83438868429650d",
            "value": "README.md: 100%"
          }
        },
        "a3ea5a1aff8e425a9709814a18467d2a": {
          "model_module": "@jupyter-widgets/controls",
          "model_name": "FloatProgressModel",
          "model_module_version": "1.5.0",
          "state": {
            "_dom_classes": [],
            "_model_module": "@jupyter-widgets/controls",
            "_model_module_version": "1.5.0",
            "_model_name": "FloatProgressModel",
            "_view_count": null,
            "_view_module": "@jupyter-widgets/controls",
            "_view_module_version": "1.5.0",
            "_view_name": "ProgressView",
            "bar_style": "success",
            "description": "",
            "description_tooltip": null,
            "layout": "IPY_MODEL_fe8cdc04d72946b6b5655e40fd2bf9d2",
            "max": 16046,
            "min": 0,
            "orientation": "horizontal",
            "style": "IPY_MODEL_374882aeec97488eb88f751259ef44f8",
            "value": 16046
          }
        },
        "a8344a7aaf03494e8439a62592873f8b": {
          "model_module": "@jupyter-widgets/controls",
          "model_name": "HTMLModel",
          "model_module_version": "1.5.0",
          "state": {
            "_dom_classes": [],
            "_model_module": "@jupyter-widgets/controls",
            "_model_module_version": "1.5.0",
            "_model_name": "HTMLModel",
            "_view_count": null,
            "_view_module": "@jupyter-widgets/controls",
            "_view_module_version": "1.5.0",
            "_view_name": "HTMLView",
            "description": "",
            "description_tooltip": null,
            "layout": "IPY_MODEL_934cd82c096e43ae9b6747ebb964e612",
            "placeholder": "​",
            "style": "IPY_MODEL_0a9e5b5e06d14dc396074f75337e881e",
            "value": " 16.0k/16.0k [00:00&lt;00:00, 989kB/s]"
          }
        },
        "6208975aef274f0fa5e3888df1723b73": {
          "model_module": "@jupyter-widgets/base",
          "model_name": "LayoutModel",
          "model_module_version": "1.2.0",
          "state": {
            "_model_module": "@jupyter-widgets/base",
            "_model_module_version": "1.2.0",
            "_model_name": "LayoutModel",
            "_view_count": null,
            "_view_module": "@jupyter-widgets/base",
            "_view_module_version": "1.2.0",
            "_view_name": "LayoutView",
            "align_content": null,
            "align_items": null,
            "align_self": null,
            "border": null,
            "bottom": null,
            "display": null,
            "flex": null,
            "flex_flow": null,
            "grid_area": null,
            "grid_auto_columns": null,
            "grid_auto_flow": null,
            "grid_auto_rows": null,
            "grid_column": null,
            "grid_gap": null,
            "grid_row": null,
            "grid_template_areas": null,
            "grid_template_columns": null,
            "grid_template_rows": null,
            "height": null,
            "justify_content": null,
            "justify_items": null,
            "left": null,
            "margin": null,
            "max_height": null,
            "max_width": null,
            "min_height": null,
            "min_width": null,
            "object_fit": null,
            "object_position": null,
            "order": null,
            "overflow": null,
            "overflow_x": null,
            "overflow_y": null,
            "padding": null,
            "right": null,
            "top": null,
            "visibility": null,
            "width": null
          }
        },
        "34102c5e98b043baa5ef2347607467e7": {
          "model_module": "@jupyter-widgets/base",
          "model_name": "LayoutModel",
          "model_module_version": "1.2.0",
          "state": {
            "_model_module": "@jupyter-widgets/base",
            "_model_module_version": "1.2.0",
            "_model_name": "LayoutModel",
            "_view_count": null,
            "_view_module": "@jupyter-widgets/base",
            "_view_module_version": "1.2.0",
            "_view_name": "LayoutView",
            "align_content": null,
            "align_items": null,
            "align_self": null,
            "border": null,
            "bottom": null,
            "display": null,
            "flex": null,
            "flex_flow": null,
            "grid_area": null,
            "grid_auto_columns": null,
            "grid_auto_flow": null,
            "grid_auto_rows": null,
            "grid_column": null,
            "grid_gap": null,
            "grid_row": null,
            "grid_template_areas": null,
            "grid_template_columns": null,
            "grid_template_rows": null,
            "height": null,
            "justify_content": null,
            "justify_items": null,
            "left": null,
            "margin": null,
            "max_height": null,
            "max_width": null,
            "min_height": null,
            "min_width": null,
            "object_fit": null,
            "object_position": null,
            "order": null,
            "overflow": null,
            "overflow_x": null,
            "overflow_y": null,
            "padding": null,
            "right": null,
            "top": null,
            "visibility": null,
            "width": null
          }
        },
        "3934e983e9b94ca1b83438868429650d": {
          "model_module": "@jupyter-widgets/controls",
          "model_name": "DescriptionStyleModel",
          "model_module_version": "1.5.0",
          "state": {
            "_model_module": "@jupyter-widgets/controls",
            "_model_module_version": "1.5.0",
            "_model_name": "DescriptionStyleModel",
            "_view_count": null,
            "_view_module": "@jupyter-widgets/base",
            "_view_module_version": "1.2.0",
            "_view_name": "StyleView",
            "description_width": ""
          }
        },
        "fe8cdc04d72946b6b5655e40fd2bf9d2": {
          "model_module": "@jupyter-widgets/base",
          "model_name": "LayoutModel",
          "model_module_version": "1.2.0",
          "state": {
            "_model_module": "@jupyter-widgets/base",
            "_model_module_version": "1.2.0",
            "_model_name": "LayoutModel",
            "_view_count": null,
            "_view_module": "@jupyter-widgets/base",
            "_view_module_version": "1.2.0",
            "_view_name": "LayoutView",
            "align_content": null,
            "align_items": null,
            "align_self": null,
            "border": null,
            "bottom": null,
            "display": null,
            "flex": null,
            "flex_flow": null,
            "grid_area": null,
            "grid_auto_columns": null,
            "grid_auto_flow": null,
            "grid_auto_rows": null,
            "grid_column": null,
            "grid_gap": null,
            "grid_row": null,
            "grid_template_areas": null,
            "grid_template_columns": null,
            "grid_template_rows": null,
            "height": null,
            "justify_content": null,
            "justify_items": null,
            "left": null,
            "margin": null,
            "max_height": null,
            "max_width": null,
            "min_height": null,
            "min_width": null,
            "object_fit": null,
            "object_position": null,
            "order": null,
            "overflow": null,
            "overflow_x": null,
            "overflow_y": null,
            "padding": null,
            "right": null,
            "top": null,
            "visibility": null,
            "width": null
          }
        },
        "374882aeec97488eb88f751259ef44f8": {
          "model_module": "@jupyter-widgets/controls",
          "model_name": "ProgressStyleModel",
          "model_module_version": "1.5.0",
          "state": {
            "_model_module": "@jupyter-widgets/controls",
            "_model_module_version": "1.5.0",
            "_model_name": "ProgressStyleModel",
            "_view_count": null,
            "_view_module": "@jupyter-widgets/base",
            "_view_module_version": "1.2.0",
            "_view_name": "StyleView",
            "bar_color": null,
            "description_width": ""
          }
        },
        "934cd82c096e43ae9b6747ebb964e612": {
          "model_module": "@jupyter-widgets/base",
          "model_name": "LayoutModel",
          "model_module_version": "1.2.0",
          "state": {
            "_model_module": "@jupyter-widgets/base",
            "_model_module_version": "1.2.0",
            "_model_name": "LayoutModel",
            "_view_count": null,
            "_view_module": "@jupyter-widgets/base",
            "_view_module_version": "1.2.0",
            "_view_name": "LayoutView",
            "align_content": null,
            "align_items": null,
            "align_self": null,
            "border": null,
            "bottom": null,
            "display": null,
            "flex": null,
            "flex_flow": null,
            "grid_area": null,
            "grid_auto_columns": null,
            "grid_auto_flow": null,
            "grid_auto_rows": null,
            "grid_column": null,
            "grid_gap": null,
            "grid_row": null,
            "grid_template_areas": null,
            "grid_template_columns": null,
            "grid_template_rows": null,
            "height": null,
            "justify_content": null,
            "justify_items": null,
            "left": null,
            "margin": null,
            "max_height": null,
            "max_width": null,
            "min_height": null,
            "min_width": null,
            "object_fit": null,
            "object_position": null,
            "order": null,
            "overflow": null,
            "overflow_x": null,
            "overflow_y": null,
            "padding": null,
            "right": null,
            "top": null,
            "visibility": null,
            "width": null
          }
        },
        "0a9e5b5e06d14dc396074f75337e881e": {
          "model_module": "@jupyter-widgets/controls",
          "model_name": "DescriptionStyleModel",
          "model_module_version": "1.5.0",
          "state": {
            "_model_module": "@jupyter-widgets/controls",
            "_model_module_version": "1.5.0",
            "_model_name": "DescriptionStyleModel",
            "_view_count": null,
            "_view_module": "@jupyter-widgets/base",
            "_view_module_version": "1.2.0",
            "_view_name": "StyleView",
            "description_width": ""
          }
        },
        "cf728c8e41364242a79a831dd8c3f0c6": {
          "model_module": "@jupyter-widgets/controls",
          "model_name": "HBoxModel",
          "model_module_version": "1.5.0",
          "state": {
            "_dom_classes": [],
            "_model_module": "@jupyter-widgets/controls",
            "_model_module_version": "1.5.0",
            "_model_name": "HBoxModel",
            "_view_count": null,
            "_view_module": "@jupyter-widgets/controls",
            "_view_module_version": "1.5.0",
            "_view_name": "HBoxView",
            "box_style": "",
            "children": [
              "IPY_MODEL_438b50b3473a489aaa34d52182193b34",
              "IPY_MODEL_86102b6f971c430ca9a2e5baab3dfb61",
              "IPY_MODEL_35dbf9666794492eacc8c5d8f4b6a3c6"
            ],
            "layout": "IPY_MODEL_f011061653354113963a031081f5db00"
          }
        },
        "438b50b3473a489aaa34d52182193b34": {
          "model_module": "@jupyter-widgets/controls",
          "model_name": "HTMLModel",
          "model_module_version": "1.5.0",
          "state": {
            "_dom_classes": [],
            "_model_module": "@jupyter-widgets/controls",
            "_model_module_version": "1.5.0",
            "_model_name": "HTMLModel",
            "_view_count": null,
            "_view_module": "@jupyter-widgets/controls",
            "_view_module_version": "1.5.0",
            "_view_name": "HTMLView",
            "description": "",
            "description_tooltip": null,
            "layout": "IPY_MODEL_bf0f7e4257e54a08bdd27f904b8dcf35",
            "placeholder": "​",
            "style": "IPY_MODEL_82ac30a607244979bd53e0b70ba8af9f",
            "value": "wikipedia.py: 100%"
          }
        },
        "86102b6f971c430ca9a2e5baab3dfb61": {
          "model_module": "@jupyter-widgets/controls",
          "model_name": "FloatProgressModel",
          "model_module_version": "1.5.0",
          "state": {
            "_dom_classes": [],
            "_model_module": "@jupyter-widgets/controls",
            "_model_module_version": "1.5.0",
            "_model_name": "FloatProgressModel",
            "_view_count": null,
            "_view_module": "@jupyter-widgets/controls",
            "_view_module_version": "1.5.0",
            "_view_name": "ProgressView",
            "bar_style": "success",
            "description": "",
            "description_tooltip": null,
            "layout": "IPY_MODEL_9020d6dbcbcb4a0ca2edb6657f678267",
            "max": 36699,
            "min": 0,
            "orientation": "horizontal",
            "style": "IPY_MODEL_f55b3fc5d8ca494b9e8a63702d99fb5f",
            "value": 36699
          }
        },
        "35dbf9666794492eacc8c5d8f4b6a3c6": {
          "model_module": "@jupyter-widgets/controls",
          "model_name": "HTMLModel",
          "model_module_version": "1.5.0",
          "state": {
            "_dom_classes": [],
            "_model_module": "@jupyter-widgets/controls",
            "_model_module_version": "1.5.0",
            "_model_name": "HTMLModel",
            "_view_count": null,
            "_view_module": "@jupyter-widgets/controls",
            "_view_module_version": "1.5.0",
            "_view_name": "HTMLView",
            "description": "",
            "description_tooltip": null,
            "layout": "IPY_MODEL_bd705910174c4125ac1eb71daf1dd547",
            "placeholder": "​",
            "style": "IPY_MODEL_85d245966d144d52ab5ba96101855eff",
            "value": " 36.7k/36.7k [00:00&lt;00:00, 2.26MB/s]"
          }
        },
        "f011061653354113963a031081f5db00": {
          "model_module": "@jupyter-widgets/base",
          "model_name": "LayoutModel",
          "model_module_version": "1.2.0",
          "state": {
            "_model_module": "@jupyter-widgets/base",
            "_model_module_version": "1.2.0",
            "_model_name": "LayoutModel",
            "_view_count": null,
            "_view_module": "@jupyter-widgets/base",
            "_view_module_version": "1.2.0",
            "_view_name": "LayoutView",
            "align_content": null,
            "align_items": null,
            "align_self": null,
            "border": null,
            "bottom": null,
            "display": null,
            "flex": null,
            "flex_flow": null,
            "grid_area": null,
            "grid_auto_columns": null,
            "grid_auto_flow": null,
            "grid_auto_rows": null,
            "grid_column": null,
            "grid_gap": null,
            "grid_row": null,
            "grid_template_areas": null,
            "grid_template_columns": null,
            "grid_template_rows": null,
            "height": null,
            "justify_content": null,
            "justify_items": null,
            "left": null,
            "margin": null,
            "max_height": null,
            "max_width": null,
            "min_height": null,
            "min_width": null,
            "object_fit": null,
            "object_position": null,
            "order": null,
            "overflow": null,
            "overflow_x": null,
            "overflow_y": null,
            "padding": null,
            "right": null,
            "top": null,
            "visibility": null,
            "width": null
          }
        },
        "bf0f7e4257e54a08bdd27f904b8dcf35": {
          "model_module": "@jupyter-widgets/base",
          "model_name": "LayoutModel",
          "model_module_version": "1.2.0",
          "state": {
            "_model_module": "@jupyter-widgets/base",
            "_model_module_version": "1.2.0",
            "_model_name": "LayoutModel",
            "_view_count": null,
            "_view_module": "@jupyter-widgets/base",
            "_view_module_version": "1.2.0",
            "_view_name": "LayoutView",
            "align_content": null,
            "align_items": null,
            "align_self": null,
            "border": null,
            "bottom": null,
            "display": null,
            "flex": null,
            "flex_flow": null,
            "grid_area": null,
            "grid_auto_columns": null,
            "grid_auto_flow": null,
            "grid_auto_rows": null,
            "grid_column": null,
            "grid_gap": null,
            "grid_row": null,
            "grid_template_areas": null,
            "grid_template_columns": null,
            "grid_template_rows": null,
            "height": null,
            "justify_content": null,
            "justify_items": null,
            "left": null,
            "margin": null,
            "max_height": null,
            "max_width": null,
            "min_height": null,
            "min_width": null,
            "object_fit": null,
            "object_position": null,
            "order": null,
            "overflow": null,
            "overflow_x": null,
            "overflow_y": null,
            "padding": null,
            "right": null,
            "top": null,
            "visibility": null,
            "width": null
          }
        },
        "82ac30a607244979bd53e0b70ba8af9f": {
          "model_module": "@jupyter-widgets/controls",
          "model_name": "DescriptionStyleModel",
          "model_module_version": "1.5.0",
          "state": {
            "_model_module": "@jupyter-widgets/controls",
            "_model_module_version": "1.5.0",
            "_model_name": "DescriptionStyleModel",
            "_view_count": null,
            "_view_module": "@jupyter-widgets/base",
            "_view_module_version": "1.2.0",
            "_view_name": "StyleView",
            "description_width": ""
          }
        },
        "9020d6dbcbcb4a0ca2edb6657f678267": {
          "model_module": "@jupyter-widgets/base",
          "model_name": "LayoutModel",
          "model_module_version": "1.2.0",
          "state": {
            "_model_module": "@jupyter-widgets/base",
            "_model_module_version": "1.2.0",
            "_model_name": "LayoutModel",
            "_view_count": null,
            "_view_module": "@jupyter-widgets/base",
            "_view_module_version": "1.2.0",
            "_view_name": "LayoutView",
            "align_content": null,
            "align_items": null,
            "align_self": null,
            "border": null,
            "bottom": null,
            "display": null,
            "flex": null,
            "flex_flow": null,
            "grid_area": null,
            "grid_auto_columns": null,
            "grid_auto_flow": null,
            "grid_auto_rows": null,
            "grid_column": null,
            "grid_gap": null,
            "grid_row": null,
            "grid_template_areas": null,
            "grid_template_columns": null,
            "grid_template_rows": null,
            "height": null,
            "justify_content": null,
            "justify_items": null,
            "left": null,
            "margin": null,
            "max_height": null,
            "max_width": null,
            "min_height": null,
            "min_width": null,
            "object_fit": null,
            "object_position": null,
            "order": null,
            "overflow": null,
            "overflow_x": null,
            "overflow_y": null,
            "padding": null,
            "right": null,
            "top": null,
            "visibility": null,
            "width": null
          }
        },
        "f55b3fc5d8ca494b9e8a63702d99fb5f": {
          "model_module": "@jupyter-widgets/controls",
          "model_name": "ProgressStyleModel",
          "model_module_version": "1.5.0",
          "state": {
            "_model_module": "@jupyter-widgets/controls",
            "_model_module_version": "1.5.0",
            "_model_name": "ProgressStyleModel",
            "_view_count": null,
            "_view_module": "@jupyter-widgets/base",
            "_view_module_version": "1.2.0",
            "_view_name": "StyleView",
            "bar_color": null,
            "description_width": ""
          }
        },
        "bd705910174c4125ac1eb71daf1dd547": {
          "model_module": "@jupyter-widgets/base",
          "model_name": "LayoutModel",
          "model_module_version": "1.2.0",
          "state": {
            "_model_module": "@jupyter-widgets/base",
            "_model_module_version": "1.2.0",
            "_model_name": "LayoutModel",
            "_view_count": null,
            "_view_module": "@jupyter-widgets/base",
            "_view_module_version": "1.2.0",
            "_view_name": "LayoutView",
            "align_content": null,
            "align_items": null,
            "align_self": null,
            "border": null,
            "bottom": null,
            "display": null,
            "flex": null,
            "flex_flow": null,
            "grid_area": null,
            "grid_auto_columns": null,
            "grid_auto_flow": null,
            "grid_auto_rows": null,
            "grid_column": null,
            "grid_gap": null,
            "grid_row": null,
            "grid_template_areas": null,
            "grid_template_columns": null,
            "grid_template_rows": null,
            "height": null,
            "justify_content": null,
            "justify_items": null,
            "left": null,
            "margin": null,
            "max_height": null,
            "max_width": null,
            "min_height": null,
            "min_width": null,
            "object_fit": null,
            "object_position": null,
            "order": null,
            "overflow": null,
            "overflow_x": null,
            "overflow_y": null,
            "padding": null,
            "right": null,
            "top": null,
            "visibility": null,
            "width": null
          }
        },
        "85d245966d144d52ab5ba96101855eff": {
          "model_module": "@jupyter-widgets/controls",
          "model_name": "DescriptionStyleModel",
          "model_module_version": "1.5.0",
          "state": {
            "_model_module": "@jupyter-widgets/controls",
            "_model_module_version": "1.5.0",
            "_model_name": "DescriptionStyleModel",
            "_view_count": null,
            "_view_module": "@jupyter-widgets/base",
            "_view_module_version": "1.2.0",
            "_view_name": "StyleView",
            "description_width": ""
          }
        },
        "c2c8ad5fef7149b982d33b70cd5650fb": {
          "model_module": "@jupyter-widgets/controls",
          "model_name": "HBoxModel",
          "model_module_version": "1.5.0",
          "state": {
            "_dom_classes": [],
            "_model_module": "@jupyter-widgets/controls",
            "_model_module_version": "1.5.0",
            "_model_name": "HBoxModel",
            "_view_count": null,
            "_view_module": "@jupyter-widgets/controls",
            "_view_module_version": "1.5.0",
            "_view_name": "HBoxView",
            "box_style": "",
            "children": [
              "IPY_MODEL_c363789e29a04a999bfb5d5122634264",
              "IPY_MODEL_8f0fa2be18ae4bf6b50c7cf288c059b5",
              "IPY_MODEL_d683a3cf9a5e424d933bc0b62ae88d50"
            ],
            "layout": "IPY_MODEL_c31b8d2d2ade457f93decec020ced6ba"
          }
        },
        "c363789e29a04a999bfb5d5122634264": {
          "model_module": "@jupyter-widgets/controls",
          "model_name": "HTMLModel",
          "model_module_version": "1.5.0",
          "state": {
            "_dom_classes": [],
            "_model_module": "@jupyter-widgets/controls",
            "_model_module_version": "1.5.0",
            "_model_name": "HTMLModel",
            "_view_count": null,
            "_view_module": "@jupyter-widgets/controls",
            "_view_module_version": "1.5.0",
            "_view_name": "HTMLView",
            "description": "",
            "description_tooltip": null,
            "layout": "IPY_MODEL_c17de3e644ff46c2809b432e9f293eac",
            "placeholder": "​",
            "style": "IPY_MODEL_4fc594b348cb4086a56a37119f77abe2",
            "value": "tokenizer_config.json: 100%"
          }
        },
        "8f0fa2be18ae4bf6b50c7cf288c059b5": {
          "model_module": "@jupyter-widgets/controls",
          "model_name": "FloatProgressModel",
          "model_module_version": "1.5.0",
          "state": {
            "_dom_classes": [],
            "_model_module": "@jupyter-widgets/controls",
            "_model_module_version": "1.5.0",
            "_model_name": "FloatProgressModel",
            "_view_count": null,
            "_view_module": "@jupyter-widgets/controls",
            "_view_module_version": "1.5.0",
            "_view_name": "ProgressView",
            "bar_style": "success",
            "description": "",
            "description_tooltip": null,
            "layout": "IPY_MODEL_85dbcd545a914f60bac2a54241707380",
            "max": 48,
            "min": 0,
            "orientation": "horizontal",
            "style": "IPY_MODEL_2198e222ed4b4772bb4e4830da6e7b67",
            "value": 48
          }
        },
        "d683a3cf9a5e424d933bc0b62ae88d50": {
          "model_module": "@jupyter-widgets/controls",
          "model_name": "HTMLModel",
          "model_module_version": "1.5.0",
          "state": {
            "_dom_classes": [],
            "_model_module": "@jupyter-widgets/controls",
            "_model_module_version": "1.5.0",
            "_model_name": "HTMLModel",
            "_view_count": null,
            "_view_module": "@jupyter-widgets/controls",
            "_view_module_version": "1.5.0",
            "_view_name": "HTMLView",
            "description": "",
            "description_tooltip": null,
            "layout": "IPY_MODEL_b35bd06221d3492597d3c51679039f87",
            "placeholder": "​",
            "style": "IPY_MODEL_f758a6cf37104630a419bdbc2155e754",
            "value": " 48.0/48.0 [00:00&lt;00:00, 2.26kB/s]"
          }
        },
        "c31b8d2d2ade457f93decec020ced6ba": {
          "model_module": "@jupyter-widgets/base",
          "model_name": "LayoutModel",
          "model_module_version": "1.2.0",
          "state": {
            "_model_module": "@jupyter-widgets/base",
            "_model_module_version": "1.2.0",
            "_model_name": "LayoutModel",
            "_view_count": null,
            "_view_module": "@jupyter-widgets/base",
            "_view_module_version": "1.2.0",
            "_view_name": "LayoutView",
            "align_content": null,
            "align_items": null,
            "align_self": null,
            "border": null,
            "bottom": null,
            "display": null,
            "flex": null,
            "flex_flow": null,
            "grid_area": null,
            "grid_auto_columns": null,
            "grid_auto_flow": null,
            "grid_auto_rows": null,
            "grid_column": null,
            "grid_gap": null,
            "grid_row": null,
            "grid_template_areas": null,
            "grid_template_columns": null,
            "grid_template_rows": null,
            "height": null,
            "justify_content": null,
            "justify_items": null,
            "left": null,
            "margin": null,
            "max_height": null,
            "max_width": null,
            "min_height": null,
            "min_width": null,
            "object_fit": null,
            "object_position": null,
            "order": null,
            "overflow": null,
            "overflow_x": null,
            "overflow_y": null,
            "padding": null,
            "right": null,
            "top": null,
            "visibility": null,
            "width": null
          }
        },
        "c17de3e644ff46c2809b432e9f293eac": {
          "model_module": "@jupyter-widgets/base",
          "model_name": "LayoutModel",
          "model_module_version": "1.2.0",
          "state": {
            "_model_module": "@jupyter-widgets/base",
            "_model_module_version": "1.2.0",
            "_model_name": "LayoutModel",
            "_view_count": null,
            "_view_module": "@jupyter-widgets/base",
            "_view_module_version": "1.2.0",
            "_view_name": "LayoutView",
            "align_content": null,
            "align_items": null,
            "align_self": null,
            "border": null,
            "bottom": null,
            "display": null,
            "flex": null,
            "flex_flow": null,
            "grid_area": null,
            "grid_auto_columns": null,
            "grid_auto_flow": null,
            "grid_auto_rows": null,
            "grid_column": null,
            "grid_gap": null,
            "grid_row": null,
            "grid_template_areas": null,
            "grid_template_columns": null,
            "grid_template_rows": null,
            "height": null,
            "justify_content": null,
            "justify_items": null,
            "left": null,
            "margin": null,
            "max_height": null,
            "max_width": null,
            "min_height": null,
            "min_width": null,
            "object_fit": null,
            "object_position": null,
            "order": null,
            "overflow": null,
            "overflow_x": null,
            "overflow_y": null,
            "padding": null,
            "right": null,
            "top": null,
            "visibility": null,
            "width": null
          }
        },
        "4fc594b348cb4086a56a37119f77abe2": {
          "model_module": "@jupyter-widgets/controls",
          "model_name": "DescriptionStyleModel",
          "model_module_version": "1.5.0",
          "state": {
            "_model_module": "@jupyter-widgets/controls",
            "_model_module_version": "1.5.0",
            "_model_name": "DescriptionStyleModel",
            "_view_count": null,
            "_view_module": "@jupyter-widgets/base",
            "_view_module_version": "1.2.0",
            "_view_name": "StyleView",
            "description_width": ""
          }
        },
        "85dbcd545a914f60bac2a54241707380": {
          "model_module": "@jupyter-widgets/base",
          "model_name": "LayoutModel",
          "model_module_version": "1.2.0",
          "state": {
            "_model_module": "@jupyter-widgets/base",
            "_model_module_version": "1.2.0",
            "_model_name": "LayoutModel",
            "_view_count": null,
            "_view_module": "@jupyter-widgets/base",
            "_view_module_version": "1.2.0",
            "_view_name": "LayoutView",
            "align_content": null,
            "align_items": null,
            "align_self": null,
            "border": null,
            "bottom": null,
            "display": null,
            "flex": null,
            "flex_flow": null,
            "grid_area": null,
            "grid_auto_columns": null,
            "grid_auto_flow": null,
            "grid_auto_rows": null,
            "grid_column": null,
            "grid_gap": null,
            "grid_row": null,
            "grid_template_areas": null,
            "grid_template_columns": null,
            "grid_template_rows": null,
            "height": null,
            "justify_content": null,
            "justify_items": null,
            "left": null,
            "margin": null,
            "max_height": null,
            "max_width": null,
            "min_height": null,
            "min_width": null,
            "object_fit": null,
            "object_position": null,
            "order": null,
            "overflow": null,
            "overflow_x": null,
            "overflow_y": null,
            "padding": null,
            "right": null,
            "top": null,
            "visibility": null,
            "width": null
          }
        },
        "2198e222ed4b4772bb4e4830da6e7b67": {
          "model_module": "@jupyter-widgets/controls",
          "model_name": "ProgressStyleModel",
          "model_module_version": "1.5.0",
          "state": {
            "_model_module": "@jupyter-widgets/controls",
            "_model_module_version": "1.5.0",
            "_model_name": "ProgressStyleModel",
            "_view_count": null,
            "_view_module": "@jupyter-widgets/base",
            "_view_module_version": "1.2.0",
            "_view_name": "StyleView",
            "bar_color": null,
            "description_width": ""
          }
        },
        "b35bd06221d3492597d3c51679039f87": {
          "model_module": "@jupyter-widgets/base",
          "model_name": "LayoutModel",
          "model_module_version": "1.2.0",
          "state": {
            "_model_module": "@jupyter-widgets/base",
            "_model_module_version": "1.2.0",
            "_model_name": "LayoutModel",
            "_view_count": null,
            "_view_module": "@jupyter-widgets/base",
            "_view_module_version": "1.2.0",
            "_view_name": "LayoutView",
            "align_content": null,
            "align_items": null,
            "align_self": null,
            "border": null,
            "bottom": null,
            "display": null,
            "flex": null,
            "flex_flow": null,
            "grid_area": null,
            "grid_auto_columns": null,
            "grid_auto_flow": null,
            "grid_auto_rows": null,
            "grid_column": null,
            "grid_gap": null,
            "grid_row": null,
            "grid_template_areas": null,
            "grid_template_columns": null,
            "grid_template_rows": null,
            "height": null,
            "justify_content": null,
            "justify_items": null,
            "left": null,
            "margin": null,
            "max_height": null,
            "max_width": null,
            "min_height": null,
            "min_width": null,
            "object_fit": null,
            "object_position": null,
            "order": null,
            "overflow": null,
            "overflow_x": null,
            "overflow_y": null,
            "padding": null,
            "right": null,
            "top": null,
            "visibility": null,
            "width": null
          }
        },
        "f758a6cf37104630a419bdbc2155e754": {
          "model_module": "@jupyter-widgets/controls",
          "model_name": "DescriptionStyleModel",
          "model_module_version": "1.5.0",
          "state": {
            "_model_module": "@jupyter-widgets/controls",
            "_model_module_version": "1.5.0",
            "_model_name": "DescriptionStyleModel",
            "_view_count": null,
            "_view_module": "@jupyter-widgets/base",
            "_view_module_version": "1.2.0",
            "_view_name": "StyleView",
            "description_width": ""
          }
        },
        "61e4bec95e054f98a66f393eb3d3364d": {
          "model_module": "@jupyter-widgets/controls",
          "model_name": "HBoxModel",
          "model_module_version": "1.5.0",
          "state": {
            "_dom_classes": [],
            "_model_module": "@jupyter-widgets/controls",
            "_model_module_version": "1.5.0",
            "_model_name": "HBoxModel",
            "_view_count": null,
            "_view_module": "@jupyter-widgets/controls",
            "_view_module_version": "1.5.0",
            "_view_name": "HBoxView",
            "box_style": "",
            "children": [
              "IPY_MODEL_6cc86a3dbdb2467c9607dd3dbbce9262",
              "IPY_MODEL_3bafdcedd4644fa9b159aa9248525d34",
              "IPY_MODEL_a6c6290ddb7d4a3d8c899dd2fb21e0b2"
            ],
            "layout": "IPY_MODEL_e0d25e07d32246a891a6040e65c3ae26"
          }
        },
        "6cc86a3dbdb2467c9607dd3dbbce9262": {
          "model_module": "@jupyter-widgets/controls",
          "model_name": "HTMLModel",
          "model_module_version": "1.5.0",
          "state": {
            "_dom_classes": [],
            "_model_module": "@jupyter-widgets/controls",
            "_model_module_version": "1.5.0",
            "_model_name": "HTMLModel",
            "_view_count": null,
            "_view_module": "@jupyter-widgets/controls",
            "_view_module_version": "1.5.0",
            "_view_name": "HTMLView",
            "description": "",
            "description_tooltip": null,
            "layout": "IPY_MODEL_2a515d8c428c4e798044e00703722f09",
            "placeholder": "​",
            "style": "IPY_MODEL_e71f8f999b8c4494840effe6d25091f9",
            "value": "vocab.txt: 100%"
          }
        },
        "3bafdcedd4644fa9b159aa9248525d34": {
          "model_module": "@jupyter-widgets/controls",
          "model_name": "FloatProgressModel",
          "model_module_version": "1.5.0",
          "state": {
            "_dom_classes": [],
            "_model_module": "@jupyter-widgets/controls",
            "_model_module_version": "1.5.0",
            "_model_name": "FloatProgressModel",
            "_view_count": null,
            "_view_module": "@jupyter-widgets/controls",
            "_view_module_version": "1.5.0",
            "_view_name": "ProgressView",
            "bar_style": "success",
            "description": "",
            "description_tooltip": null,
            "layout": "IPY_MODEL_80ca5e6a9a0248a1a7e6ea5475f835fa",
            "max": 231508,
            "min": 0,
            "orientation": "horizontal",
            "style": "IPY_MODEL_656b1ebb4ae34d51a6d94363ee612ad6",
            "value": 231508
          }
        },
        "a6c6290ddb7d4a3d8c899dd2fb21e0b2": {
          "model_module": "@jupyter-widgets/controls",
          "model_name": "HTMLModel",
          "model_module_version": "1.5.0",
          "state": {
            "_dom_classes": [],
            "_model_module": "@jupyter-widgets/controls",
            "_model_module_version": "1.5.0",
            "_model_name": "HTMLModel",
            "_view_count": null,
            "_view_module": "@jupyter-widgets/controls",
            "_view_module_version": "1.5.0",
            "_view_name": "HTMLView",
            "description": "",
            "description_tooltip": null,
            "layout": "IPY_MODEL_d8f3531b3c9a4932be316bee3d83f6a9",
            "placeholder": "​",
            "style": "IPY_MODEL_1e63dd1669a24f3585a4e690f2273cdc",
            "value": " 232k/232k [00:00&lt;00:00, 10.7MB/s]"
          }
        },
        "e0d25e07d32246a891a6040e65c3ae26": {
          "model_module": "@jupyter-widgets/base",
          "model_name": "LayoutModel",
          "model_module_version": "1.2.0",
          "state": {
            "_model_module": "@jupyter-widgets/base",
            "_model_module_version": "1.2.0",
            "_model_name": "LayoutModel",
            "_view_count": null,
            "_view_module": "@jupyter-widgets/base",
            "_view_module_version": "1.2.0",
            "_view_name": "LayoutView",
            "align_content": null,
            "align_items": null,
            "align_self": null,
            "border": null,
            "bottom": null,
            "display": null,
            "flex": null,
            "flex_flow": null,
            "grid_area": null,
            "grid_auto_columns": null,
            "grid_auto_flow": null,
            "grid_auto_rows": null,
            "grid_column": null,
            "grid_gap": null,
            "grid_row": null,
            "grid_template_areas": null,
            "grid_template_columns": null,
            "grid_template_rows": null,
            "height": null,
            "justify_content": null,
            "justify_items": null,
            "left": null,
            "margin": null,
            "max_height": null,
            "max_width": null,
            "min_height": null,
            "min_width": null,
            "object_fit": null,
            "object_position": null,
            "order": null,
            "overflow": null,
            "overflow_x": null,
            "overflow_y": null,
            "padding": null,
            "right": null,
            "top": null,
            "visibility": null,
            "width": null
          }
        },
        "2a515d8c428c4e798044e00703722f09": {
          "model_module": "@jupyter-widgets/base",
          "model_name": "LayoutModel",
          "model_module_version": "1.2.0",
          "state": {
            "_model_module": "@jupyter-widgets/base",
            "_model_module_version": "1.2.0",
            "_model_name": "LayoutModel",
            "_view_count": null,
            "_view_module": "@jupyter-widgets/base",
            "_view_module_version": "1.2.0",
            "_view_name": "LayoutView",
            "align_content": null,
            "align_items": null,
            "align_self": null,
            "border": null,
            "bottom": null,
            "display": null,
            "flex": null,
            "flex_flow": null,
            "grid_area": null,
            "grid_auto_columns": null,
            "grid_auto_flow": null,
            "grid_auto_rows": null,
            "grid_column": null,
            "grid_gap": null,
            "grid_row": null,
            "grid_template_areas": null,
            "grid_template_columns": null,
            "grid_template_rows": null,
            "height": null,
            "justify_content": null,
            "justify_items": null,
            "left": null,
            "margin": null,
            "max_height": null,
            "max_width": null,
            "min_height": null,
            "min_width": null,
            "object_fit": null,
            "object_position": null,
            "order": null,
            "overflow": null,
            "overflow_x": null,
            "overflow_y": null,
            "padding": null,
            "right": null,
            "top": null,
            "visibility": null,
            "width": null
          }
        },
        "e71f8f999b8c4494840effe6d25091f9": {
          "model_module": "@jupyter-widgets/controls",
          "model_name": "DescriptionStyleModel",
          "model_module_version": "1.5.0",
          "state": {
            "_model_module": "@jupyter-widgets/controls",
            "_model_module_version": "1.5.0",
            "_model_name": "DescriptionStyleModel",
            "_view_count": null,
            "_view_module": "@jupyter-widgets/base",
            "_view_module_version": "1.2.0",
            "_view_name": "StyleView",
            "description_width": ""
          }
        },
        "80ca5e6a9a0248a1a7e6ea5475f835fa": {
          "model_module": "@jupyter-widgets/base",
          "model_name": "LayoutModel",
          "model_module_version": "1.2.0",
          "state": {
            "_model_module": "@jupyter-widgets/base",
            "_model_module_version": "1.2.0",
            "_model_name": "LayoutModel",
            "_view_count": null,
            "_view_module": "@jupyter-widgets/base",
            "_view_module_version": "1.2.0",
            "_view_name": "LayoutView",
            "align_content": null,
            "align_items": null,
            "align_self": null,
            "border": null,
            "bottom": null,
            "display": null,
            "flex": null,
            "flex_flow": null,
            "grid_area": null,
            "grid_auto_columns": null,
            "grid_auto_flow": null,
            "grid_auto_rows": null,
            "grid_column": null,
            "grid_gap": null,
            "grid_row": null,
            "grid_template_areas": null,
            "grid_template_columns": null,
            "grid_template_rows": null,
            "height": null,
            "justify_content": null,
            "justify_items": null,
            "left": null,
            "margin": null,
            "max_height": null,
            "max_width": null,
            "min_height": null,
            "min_width": null,
            "object_fit": null,
            "object_position": null,
            "order": null,
            "overflow": null,
            "overflow_x": null,
            "overflow_y": null,
            "padding": null,
            "right": null,
            "top": null,
            "visibility": null,
            "width": null
          }
        },
        "656b1ebb4ae34d51a6d94363ee612ad6": {
          "model_module": "@jupyter-widgets/controls",
          "model_name": "ProgressStyleModel",
          "model_module_version": "1.5.0",
          "state": {
            "_model_module": "@jupyter-widgets/controls",
            "_model_module_version": "1.5.0",
            "_model_name": "ProgressStyleModel",
            "_view_count": null,
            "_view_module": "@jupyter-widgets/base",
            "_view_module_version": "1.2.0",
            "_view_name": "StyleView",
            "bar_color": null,
            "description_width": ""
          }
        },
        "d8f3531b3c9a4932be316bee3d83f6a9": {
          "model_module": "@jupyter-widgets/base",
          "model_name": "LayoutModel",
          "model_module_version": "1.2.0",
          "state": {
            "_model_module": "@jupyter-widgets/base",
            "_model_module_version": "1.2.0",
            "_model_name": "LayoutModel",
            "_view_count": null,
            "_view_module": "@jupyter-widgets/base",
            "_view_module_version": "1.2.0",
            "_view_name": "LayoutView",
            "align_content": null,
            "align_items": null,
            "align_self": null,
            "border": null,
            "bottom": null,
            "display": null,
            "flex": null,
            "flex_flow": null,
            "grid_area": null,
            "grid_auto_columns": null,
            "grid_auto_flow": null,
            "grid_auto_rows": null,
            "grid_column": null,
            "grid_gap": null,
            "grid_row": null,
            "grid_template_areas": null,
            "grid_template_columns": null,
            "grid_template_rows": null,
            "height": null,
            "justify_content": null,
            "justify_items": null,
            "left": null,
            "margin": null,
            "max_height": null,
            "max_width": null,
            "min_height": null,
            "min_width": null,
            "object_fit": null,
            "object_position": null,
            "order": null,
            "overflow": null,
            "overflow_x": null,
            "overflow_y": null,
            "padding": null,
            "right": null,
            "top": null,
            "visibility": null,
            "width": null
          }
        },
        "1e63dd1669a24f3585a4e690f2273cdc": {
          "model_module": "@jupyter-widgets/controls",
          "model_name": "DescriptionStyleModel",
          "model_module_version": "1.5.0",
          "state": {
            "_model_module": "@jupyter-widgets/controls",
            "_model_module_version": "1.5.0",
            "_model_name": "DescriptionStyleModel",
            "_view_count": null,
            "_view_module": "@jupyter-widgets/base",
            "_view_module_version": "1.2.0",
            "_view_name": "StyleView",
            "description_width": ""
          }
        },
        "5c618c78033c4e14b404d2d4cbec7fdc": {
          "model_module": "@jupyter-widgets/controls",
          "model_name": "HBoxModel",
          "model_module_version": "1.5.0",
          "state": {
            "_dom_classes": [],
            "_model_module": "@jupyter-widgets/controls",
            "_model_module_version": "1.5.0",
            "_model_name": "HBoxModel",
            "_view_count": null,
            "_view_module": "@jupyter-widgets/controls",
            "_view_module_version": "1.5.0",
            "_view_name": "HBoxView",
            "box_style": "",
            "children": [
              "IPY_MODEL_bceb9024f7ea49159fb50df1e8db9e65",
              "IPY_MODEL_912c5d7f554b4dd3b800a7de950ed67a",
              "IPY_MODEL_37f76fe3f7c54c41b3a06cb9151949d0"
            ],
            "layout": "IPY_MODEL_e29c4b9cafb74fcb81a3ebd10acbea22"
          }
        },
        "bceb9024f7ea49159fb50df1e8db9e65": {
          "model_module": "@jupyter-widgets/controls",
          "model_name": "HTMLModel",
          "model_module_version": "1.5.0",
          "state": {
            "_dom_classes": [],
            "_model_module": "@jupyter-widgets/controls",
            "_model_module_version": "1.5.0",
            "_model_name": "HTMLModel",
            "_view_count": null,
            "_view_module": "@jupyter-widgets/controls",
            "_view_module_version": "1.5.0",
            "_view_name": "HTMLView",
            "description": "",
            "description_tooltip": null,
            "layout": "IPY_MODEL_e5b7735af5b146d8b8d70a3a1393bb90",
            "placeholder": "​",
            "style": "IPY_MODEL_d4372f7bfd034f25b64c7f6cf2d3169d",
            "value": "tokenizer.json: 100%"
          }
        },
        "912c5d7f554b4dd3b800a7de950ed67a": {
          "model_module": "@jupyter-widgets/controls",
          "model_name": "FloatProgressModel",
          "model_module_version": "1.5.0",
          "state": {
            "_dom_classes": [],
            "_model_module": "@jupyter-widgets/controls",
            "_model_module_version": "1.5.0",
            "_model_name": "FloatProgressModel",
            "_view_count": null,
            "_view_module": "@jupyter-widgets/controls",
            "_view_module_version": "1.5.0",
            "_view_name": "ProgressView",
            "bar_style": "success",
            "description": "",
            "description_tooltip": null,
            "layout": "IPY_MODEL_3ce0fc13eb60415a9eb25ac053e8f063",
            "max": 466062,
            "min": 0,
            "orientation": "horizontal",
            "style": "IPY_MODEL_ff32b323151c4864bc0cc5c4cb61ae82",
            "value": 466062
          }
        },
        "37f76fe3f7c54c41b3a06cb9151949d0": {
          "model_module": "@jupyter-widgets/controls",
          "model_name": "HTMLModel",
          "model_module_version": "1.5.0",
          "state": {
            "_dom_classes": [],
            "_model_module": "@jupyter-widgets/controls",
            "_model_module_version": "1.5.0",
            "_model_name": "HTMLModel",
            "_view_count": null,
            "_view_module": "@jupyter-widgets/controls",
            "_view_module_version": "1.5.0",
            "_view_name": "HTMLView",
            "description": "",
            "description_tooltip": null,
            "layout": "IPY_MODEL_d8f0ea85e222452f8bfe148cca591de3",
            "placeholder": "​",
            "style": "IPY_MODEL_1765d45a317040e9a5319876a80950ad",
            "value": " 466k/466k [00:00&lt;00:00, 31.5MB/s]"
          }
        },
        "e29c4b9cafb74fcb81a3ebd10acbea22": {
          "model_module": "@jupyter-widgets/base",
          "model_name": "LayoutModel",
          "model_module_version": "1.2.0",
          "state": {
            "_model_module": "@jupyter-widgets/base",
            "_model_module_version": "1.2.0",
            "_model_name": "LayoutModel",
            "_view_count": null,
            "_view_module": "@jupyter-widgets/base",
            "_view_module_version": "1.2.0",
            "_view_name": "LayoutView",
            "align_content": null,
            "align_items": null,
            "align_self": null,
            "border": null,
            "bottom": null,
            "display": null,
            "flex": null,
            "flex_flow": null,
            "grid_area": null,
            "grid_auto_columns": null,
            "grid_auto_flow": null,
            "grid_auto_rows": null,
            "grid_column": null,
            "grid_gap": null,
            "grid_row": null,
            "grid_template_areas": null,
            "grid_template_columns": null,
            "grid_template_rows": null,
            "height": null,
            "justify_content": null,
            "justify_items": null,
            "left": null,
            "margin": null,
            "max_height": null,
            "max_width": null,
            "min_height": null,
            "min_width": null,
            "object_fit": null,
            "object_position": null,
            "order": null,
            "overflow": null,
            "overflow_x": null,
            "overflow_y": null,
            "padding": null,
            "right": null,
            "top": null,
            "visibility": null,
            "width": null
          }
        },
        "e5b7735af5b146d8b8d70a3a1393bb90": {
          "model_module": "@jupyter-widgets/base",
          "model_name": "LayoutModel",
          "model_module_version": "1.2.0",
          "state": {
            "_model_module": "@jupyter-widgets/base",
            "_model_module_version": "1.2.0",
            "_model_name": "LayoutModel",
            "_view_count": null,
            "_view_module": "@jupyter-widgets/base",
            "_view_module_version": "1.2.0",
            "_view_name": "LayoutView",
            "align_content": null,
            "align_items": null,
            "align_self": null,
            "border": null,
            "bottom": null,
            "display": null,
            "flex": null,
            "flex_flow": null,
            "grid_area": null,
            "grid_auto_columns": null,
            "grid_auto_flow": null,
            "grid_auto_rows": null,
            "grid_column": null,
            "grid_gap": null,
            "grid_row": null,
            "grid_template_areas": null,
            "grid_template_columns": null,
            "grid_template_rows": null,
            "height": null,
            "justify_content": null,
            "justify_items": null,
            "left": null,
            "margin": null,
            "max_height": null,
            "max_width": null,
            "min_height": null,
            "min_width": null,
            "object_fit": null,
            "object_position": null,
            "order": null,
            "overflow": null,
            "overflow_x": null,
            "overflow_y": null,
            "padding": null,
            "right": null,
            "top": null,
            "visibility": null,
            "width": null
          }
        },
        "d4372f7bfd034f25b64c7f6cf2d3169d": {
          "model_module": "@jupyter-widgets/controls",
          "model_name": "DescriptionStyleModel",
          "model_module_version": "1.5.0",
          "state": {
            "_model_module": "@jupyter-widgets/controls",
            "_model_module_version": "1.5.0",
            "_model_name": "DescriptionStyleModel",
            "_view_count": null,
            "_view_module": "@jupyter-widgets/base",
            "_view_module_version": "1.2.0",
            "_view_name": "StyleView",
            "description_width": ""
          }
        },
        "3ce0fc13eb60415a9eb25ac053e8f063": {
          "model_module": "@jupyter-widgets/base",
          "model_name": "LayoutModel",
          "model_module_version": "1.2.0",
          "state": {
            "_model_module": "@jupyter-widgets/base",
            "_model_module_version": "1.2.0",
            "_model_name": "LayoutModel",
            "_view_count": null,
            "_view_module": "@jupyter-widgets/base",
            "_view_module_version": "1.2.0",
            "_view_name": "LayoutView",
            "align_content": null,
            "align_items": null,
            "align_self": null,
            "border": null,
            "bottom": null,
            "display": null,
            "flex": null,
            "flex_flow": null,
            "grid_area": null,
            "grid_auto_columns": null,
            "grid_auto_flow": null,
            "grid_auto_rows": null,
            "grid_column": null,
            "grid_gap": null,
            "grid_row": null,
            "grid_template_areas": null,
            "grid_template_columns": null,
            "grid_template_rows": null,
            "height": null,
            "justify_content": null,
            "justify_items": null,
            "left": null,
            "margin": null,
            "max_height": null,
            "max_width": null,
            "min_height": null,
            "min_width": null,
            "object_fit": null,
            "object_position": null,
            "order": null,
            "overflow": null,
            "overflow_x": null,
            "overflow_y": null,
            "padding": null,
            "right": null,
            "top": null,
            "visibility": null,
            "width": null
          }
        },
        "ff32b323151c4864bc0cc5c4cb61ae82": {
          "model_module": "@jupyter-widgets/controls",
          "model_name": "ProgressStyleModel",
          "model_module_version": "1.5.0",
          "state": {
            "_model_module": "@jupyter-widgets/controls",
            "_model_module_version": "1.5.0",
            "_model_name": "ProgressStyleModel",
            "_view_count": null,
            "_view_module": "@jupyter-widgets/base",
            "_view_module_version": "1.2.0",
            "_view_name": "StyleView",
            "bar_color": null,
            "description_width": ""
          }
        },
        "d8f0ea85e222452f8bfe148cca591de3": {
          "model_module": "@jupyter-widgets/base",
          "model_name": "LayoutModel",
          "model_module_version": "1.2.0",
          "state": {
            "_model_module": "@jupyter-widgets/base",
            "_model_module_version": "1.2.0",
            "_model_name": "LayoutModel",
            "_view_count": null,
            "_view_module": "@jupyter-widgets/base",
            "_view_module_version": "1.2.0",
            "_view_name": "LayoutView",
            "align_content": null,
            "align_items": null,
            "align_self": null,
            "border": null,
            "bottom": null,
            "display": null,
            "flex": null,
            "flex_flow": null,
            "grid_area": null,
            "grid_auto_columns": null,
            "grid_auto_flow": null,
            "grid_auto_rows": null,
            "grid_column": null,
            "grid_gap": null,
            "grid_row": null,
            "grid_template_areas": null,
            "grid_template_columns": null,
            "grid_template_rows": null,
            "height": null,
            "justify_content": null,
            "justify_items": null,
            "left": null,
            "margin": null,
            "max_height": null,
            "max_width": null,
            "min_height": null,
            "min_width": null,
            "object_fit": null,
            "object_position": null,
            "order": null,
            "overflow": null,
            "overflow_x": null,
            "overflow_y": null,
            "padding": null,
            "right": null,
            "top": null,
            "visibility": null,
            "width": null
          }
        },
        "1765d45a317040e9a5319876a80950ad": {
          "model_module": "@jupyter-widgets/controls",
          "model_name": "DescriptionStyleModel",
          "model_module_version": "1.5.0",
          "state": {
            "_model_module": "@jupyter-widgets/controls",
            "_model_module_version": "1.5.0",
            "_model_name": "DescriptionStyleModel",
            "_view_count": null,
            "_view_module": "@jupyter-widgets/base",
            "_view_module_version": "1.2.0",
            "_view_name": "StyleView",
            "description_width": ""
          }
        },
        "9046207ce96540f69ccc770bdd61003e": {
          "model_module": "@jupyter-widgets/controls",
          "model_name": "HBoxModel",
          "model_module_version": "1.5.0",
          "state": {
            "_dom_classes": [],
            "_model_module": "@jupyter-widgets/controls",
            "_model_module_version": "1.5.0",
            "_model_name": "HBoxModel",
            "_view_count": null,
            "_view_module": "@jupyter-widgets/controls",
            "_view_module_version": "1.5.0",
            "_view_name": "HBoxView",
            "box_style": "",
            "children": [
              "IPY_MODEL_23abeaea135e44e685e9e0b56d72b516",
              "IPY_MODEL_ec4fb8c74fc4480799e9cade04484767",
              "IPY_MODEL_e1921900c68c42d88789a2e3699d55e3"
            ],
            "layout": "IPY_MODEL_3d66078d4b1643629d1a7ad2fcf4dd55"
          }
        },
        "23abeaea135e44e685e9e0b56d72b516": {
          "model_module": "@jupyter-widgets/controls",
          "model_name": "HTMLModel",
          "model_module_version": "1.5.0",
          "state": {
            "_dom_classes": [],
            "_model_module": "@jupyter-widgets/controls",
            "_model_module_version": "1.5.0",
            "_model_name": "HTMLModel",
            "_view_count": null,
            "_view_module": "@jupyter-widgets/controls",
            "_view_module_version": "1.5.0",
            "_view_name": "HTMLView",
            "description": "",
            "description_tooltip": null,
            "layout": "IPY_MODEL_48b3844cdb7a405a85b59ff632b14152",
            "placeholder": "​",
            "style": "IPY_MODEL_1240e6e9b64f48ffad490a22e676eda0",
            "value": "config.json: 100%"
          }
        },
        "ec4fb8c74fc4480799e9cade04484767": {
          "model_module": "@jupyter-widgets/controls",
          "model_name": "FloatProgressModel",
          "model_module_version": "1.5.0",
          "state": {
            "_dom_classes": [],
            "_model_module": "@jupyter-widgets/controls",
            "_model_module_version": "1.5.0",
            "_model_name": "FloatProgressModel",
            "_view_count": null,
            "_view_module": "@jupyter-widgets/controls",
            "_view_module_version": "1.5.0",
            "_view_name": "ProgressView",
            "bar_style": "success",
            "description": "",
            "description_tooltip": null,
            "layout": "IPY_MODEL_ca3a6402e4964022a3e42fd14209de2a",
            "max": 570,
            "min": 0,
            "orientation": "horizontal",
            "style": "IPY_MODEL_15a6dc29c702465cb2ffb21d6161c3ec",
            "value": 570
          }
        },
        "e1921900c68c42d88789a2e3699d55e3": {
          "model_module": "@jupyter-widgets/controls",
          "model_name": "HTMLModel",
          "model_module_version": "1.5.0",
          "state": {
            "_dom_classes": [],
            "_model_module": "@jupyter-widgets/controls",
            "_model_module_version": "1.5.0",
            "_model_name": "HTMLModel",
            "_view_count": null,
            "_view_module": "@jupyter-widgets/controls",
            "_view_module_version": "1.5.0",
            "_view_name": "HTMLView",
            "description": "",
            "description_tooltip": null,
            "layout": "IPY_MODEL_284742e646d743fa8319847f8e5455b0",
            "placeholder": "​",
            "style": "IPY_MODEL_3ed6407c04f748989fb3e6ffc747b300",
            "value": " 570/570 [00:00&lt;00:00, 51.0kB/s]"
          }
        },
        "3d66078d4b1643629d1a7ad2fcf4dd55": {
          "model_module": "@jupyter-widgets/base",
          "model_name": "LayoutModel",
          "model_module_version": "1.2.0",
          "state": {
            "_model_module": "@jupyter-widgets/base",
            "_model_module_version": "1.2.0",
            "_model_name": "LayoutModel",
            "_view_count": null,
            "_view_module": "@jupyter-widgets/base",
            "_view_module_version": "1.2.0",
            "_view_name": "LayoutView",
            "align_content": null,
            "align_items": null,
            "align_self": null,
            "border": null,
            "bottom": null,
            "display": null,
            "flex": null,
            "flex_flow": null,
            "grid_area": null,
            "grid_auto_columns": null,
            "grid_auto_flow": null,
            "grid_auto_rows": null,
            "grid_column": null,
            "grid_gap": null,
            "grid_row": null,
            "grid_template_areas": null,
            "grid_template_columns": null,
            "grid_template_rows": null,
            "height": null,
            "justify_content": null,
            "justify_items": null,
            "left": null,
            "margin": null,
            "max_height": null,
            "max_width": null,
            "min_height": null,
            "min_width": null,
            "object_fit": null,
            "object_position": null,
            "order": null,
            "overflow": null,
            "overflow_x": null,
            "overflow_y": null,
            "padding": null,
            "right": null,
            "top": null,
            "visibility": null,
            "width": null
          }
        },
        "48b3844cdb7a405a85b59ff632b14152": {
          "model_module": "@jupyter-widgets/base",
          "model_name": "LayoutModel",
          "model_module_version": "1.2.0",
          "state": {
            "_model_module": "@jupyter-widgets/base",
            "_model_module_version": "1.2.0",
            "_model_name": "LayoutModel",
            "_view_count": null,
            "_view_module": "@jupyter-widgets/base",
            "_view_module_version": "1.2.0",
            "_view_name": "LayoutView",
            "align_content": null,
            "align_items": null,
            "align_self": null,
            "border": null,
            "bottom": null,
            "display": null,
            "flex": null,
            "flex_flow": null,
            "grid_area": null,
            "grid_auto_columns": null,
            "grid_auto_flow": null,
            "grid_auto_rows": null,
            "grid_column": null,
            "grid_gap": null,
            "grid_row": null,
            "grid_template_areas": null,
            "grid_template_columns": null,
            "grid_template_rows": null,
            "height": null,
            "justify_content": null,
            "justify_items": null,
            "left": null,
            "margin": null,
            "max_height": null,
            "max_width": null,
            "min_height": null,
            "min_width": null,
            "object_fit": null,
            "object_position": null,
            "order": null,
            "overflow": null,
            "overflow_x": null,
            "overflow_y": null,
            "padding": null,
            "right": null,
            "top": null,
            "visibility": null,
            "width": null
          }
        },
        "1240e6e9b64f48ffad490a22e676eda0": {
          "model_module": "@jupyter-widgets/controls",
          "model_name": "DescriptionStyleModel",
          "model_module_version": "1.5.0",
          "state": {
            "_model_module": "@jupyter-widgets/controls",
            "_model_module_version": "1.5.0",
            "_model_name": "DescriptionStyleModel",
            "_view_count": null,
            "_view_module": "@jupyter-widgets/base",
            "_view_module_version": "1.2.0",
            "_view_name": "StyleView",
            "description_width": ""
          }
        },
        "ca3a6402e4964022a3e42fd14209de2a": {
          "model_module": "@jupyter-widgets/base",
          "model_name": "LayoutModel",
          "model_module_version": "1.2.0",
          "state": {
            "_model_module": "@jupyter-widgets/base",
            "_model_module_version": "1.2.0",
            "_model_name": "LayoutModel",
            "_view_count": null,
            "_view_module": "@jupyter-widgets/base",
            "_view_module_version": "1.2.0",
            "_view_name": "LayoutView",
            "align_content": null,
            "align_items": null,
            "align_self": null,
            "border": null,
            "bottom": null,
            "display": null,
            "flex": null,
            "flex_flow": null,
            "grid_area": null,
            "grid_auto_columns": null,
            "grid_auto_flow": null,
            "grid_auto_rows": null,
            "grid_column": null,
            "grid_gap": null,
            "grid_row": null,
            "grid_template_areas": null,
            "grid_template_columns": null,
            "grid_template_rows": null,
            "height": null,
            "justify_content": null,
            "justify_items": null,
            "left": null,
            "margin": null,
            "max_height": null,
            "max_width": null,
            "min_height": null,
            "min_width": null,
            "object_fit": null,
            "object_position": null,
            "order": null,
            "overflow": null,
            "overflow_x": null,
            "overflow_y": null,
            "padding": null,
            "right": null,
            "top": null,
            "visibility": null,
            "width": null
          }
        },
        "15a6dc29c702465cb2ffb21d6161c3ec": {
          "model_module": "@jupyter-widgets/controls",
          "model_name": "ProgressStyleModel",
          "model_module_version": "1.5.0",
          "state": {
            "_model_module": "@jupyter-widgets/controls",
            "_model_module_version": "1.5.0",
            "_model_name": "ProgressStyleModel",
            "_view_count": null,
            "_view_module": "@jupyter-widgets/base",
            "_view_module_version": "1.2.0",
            "_view_name": "StyleView",
            "bar_color": null,
            "description_width": ""
          }
        },
        "284742e646d743fa8319847f8e5455b0": {
          "model_module": "@jupyter-widgets/base",
          "model_name": "LayoutModel",
          "model_module_version": "1.2.0",
          "state": {
            "_model_module": "@jupyter-widgets/base",
            "_model_module_version": "1.2.0",
            "_model_name": "LayoutModel",
            "_view_count": null,
            "_view_module": "@jupyter-widgets/base",
            "_view_module_version": "1.2.0",
            "_view_name": "LayoutView",
            "align_content": null,
            "align_items": null,
            "align_self": null,
            "border": null,
            "bottom": null,
            "display": null,
            "flex": null,
            "flex_flow": null,
            "grid_area": null,
            "grid_auto_columns": null,
            "grid_auto_flow": null,
            "grid_auto_rows": null,
            "grid_column": null,
            "grid_gap": null,
            "grid_row": null,
            "grid_template_areas": null,
            "grid_template_columns": null,
            "grid_template_rows": null,
            "height": null,
            "justify_content": null,
            "justify_items": null,
            "left": null,
            "margin": null,
            "max_height": null,
            "max_width": null,
            "min_height": null,
            "min_width": null,
            "object_fit": null,
            "object_position": null,
            "order": null,
            "overflow": null,
            "overflow_x": null,
            "overflow_y": null,
            "padding": null,
            "right": null,
            "top": null,
            "visibility": null,
            "width": null
          }
        },
        "3ed6407c04f748989fb3e6ffc747b300": {
          "model_module": "@jupyter-widgets/controls",
          "model_name": "DescriptionStyleModel",
          "model_module_version": "1.5.0",
          "state": {
            "_model_module": "@jupyter-widgets/controls",
            "_model_module_version": "1.5.0",
            "_model_name": "DescriptionStyleModel",
            "_view_count": null,
            "_view_module": "@jupyter-widgets/base",
            "_view_module_version": "1.2.0",
            "_view_name": "StyleView",
            "description_width": ""
          }
        },
        "566e966d712841b997ed1f8224aca55a": {
          "model_module": "@jupyter-widgets/controls",
          "model_name": "HBoxModel",
          "model_module_version": "1.5.0",
          "state": {
            "_dom_classes": [],
            "_model_module": "@jupyter-widgets/controls",
            "_model_module_version": "1.5.0",
            "_model_name": "HBoxModel",
            "_view_count": null,
            "_view_module": "@jupyter-widgets/controls",
            "_view_module_version": "1.5.0",
            "_view_name": "HBoxView",
            "box_style": "",
            "children": [
              "IPY_MODEL_bd161c58bfc346a1b1a1209e9919ebd9",
              "IPY_MODEL_80ffea5883e148bcb0620bdb8086bcdc",
              "IPY_MODEL_aa87cb5036954e19b99da69f866e991e"
            ],
            "layout": "IPY_MODEL_f93001abd80c4293955df3d13e8b6ca3"
          }
        },
        "bd161c58bfc346a1b1a1209e9919ebd9": {
          "model_module": "@jupyter-widgets/controls",
          "model_name": "HTMLModel",
          "model_module_version": "1.5.0",
          "state": {
            "_dom_classes": [],
            "_model_module": "@jupyter-widgets/controls",
            "_model_module_version": "1.5.0",
            "_model_name": "HTMLModel",
            "_view_count": null,
            "_view_module": "@jupyter-widgets/controls",
            "_view_module_version": "1.5.0",
            "_view_name": "HTMLView",
            "description": "",
            "description_tooltip": null,
            "layout": "IPY_MODEL_c9109161270f45b0926cacf5755e6043",
            "placeholder": "​",
            "style": "IPY_MODEL_1f20878bac2b4ce49f4173624205b542",
            "value": "README.md: 100%"
          }
        },
        "80ffea5883e148bcb0620bdb8086bcdc": {
          "model_module": "@jupyter-widgets/controls",
          "model_name": "FloatProgressModel",
          "model_module_version": "1.5.0",
          "state": {
            "_dom_classes": [],
            "_model_module": "@jupyter-widgets/controls",
            "_model_module_version": "1.5.0",
            "_model_name": "FloatProgressModel",
            "_view_count": null,
            "_view_module": "@jupyter-widgets/controls",
            "_view_module_version": "1.5.0",
            "_view_name": "ProgressView",
            "bar_style": "success",
            "description": "",
            "description_tooltip": null,
            "layout": "IPY_MODEL_9311ce89389d4787aa91f009fabd834c",
            "max": 6812,
            "min": 0,
            "orientation": "horizontal",
            "style": "IPY_MODEL_eaecc7086972407786fe8e76e6deef33",
            "value": 6812
          }
        },
        "aa87cb5036954e19b99da69f866e991e": {
          "model_module": "@jupyter-widgets/controls",
          "model_name": "HTMLModel",
          "model_module_version": "1.5.0",
          "state": {
            "_dom_classes": [],
            "_model_module": "@jupyter-widgets/controls",
            "_model_module_version": "1.5.0",
            "_model_name": "HTMLModel",
            "_view_count": null,
            "_view_module": "@jupyter-widgets/controls",
            "_view_module_version": "1.5.0",
            "_view_name": "HTMLView",
            "description": "",
            "description_tooltip": null,
            "layout": "IPY_MODEL_5f310cd412fd4d319fd1b7457c48cc15",
            "placeholder": "​",
            "style": "IPY_MODEL_c9cda3da2324468cafd4d2e751b371cb",
            "value": " 6.81k/6.81k [00:00&lt;00:00, 397kB/s]"
          }
        },
        "f93001abd80c4293955df3d13e8b6ca3": {
          "model_module": "@jupyter-widgets/base",
          "model_name": "LayoutModel",
          "model_module_version": "1.2.0",
          "state": {
            "_model_module": "@jupyter-widgets/base",
            "_model_module_version": "1.2.0",
            "_model_name": "LayoutModel",
            "_view_count": null,
            "_view_module": "@jupyter-widgets/base",
            "_view_module_version": "1.2.0",
            "_view_name": "LayoutView",
            "align_content": null,
            "align_items": null,
            "align_self": null,
            "border": null,
            "bottom": null,
            "display": null,
            "flex": null,
            "flex_flow": null,
            "grid_area": null,
            "grid_auto_columns": null,
            "grid_auto_flow": null,
            "grid_auto_rows": null,
            "grid_column": null,
            "grid_gap": null,
            "grid_row": null,
            "grid_template_areas": null,
            "grid_template_columns": null,
            "grid_template_rows": null,
            "height": null,
            "justify_content": null,
            "justify_items": null,
            "left": null,
            "margin": null,
            "max_height": null,
            "max_width": null,
            "min_height": null,
            "min_width": null,
            "object_fit": null,
            "object_position": null,
            "order": null,
            "overflow": null,
            "overflow_x": null,
            "overflow_y": null,
            "padding": null,
            "right": null,
            "top": null,
            "visibility": null,
            "width": null
          }
        },
        "c9109161270f45b0926cacf5755e6043": {
          "model_module": "@jupyter-widgets/base",
          "model_name": "LayoutModel",
          "model_module_version": "1.2.0",
          "state": {
            "_model_module": "@jupyter-widgets/base",
            "_model_module_version": "1.2.0",
            "_model_name": "LayoutModel",
            "_view_count": null,
            "_view_module": "@jupyter-widgets/base",
            "_view_module_version": "1.2.0",
            "_view_name": "LayoutView",
            "align_content": null,
            "align_items": null,
            "align_self": null,
            "border": null,
            "bottom": null,
            "display": null,
            "flex": null,
            "flex_flow": null,
            "grid_area": null,
            "grid_auto_columns": null,
            "grid_auto_flow": null,
            "grid_auto_rows": null,
            "grid_column": null,
            "grid_gap": null,
            "grid_row": null,
            "grid_template_areas": null,
            "grid_template_columns": null,
            "grid_template_rows": null,
            "height": null,
            "justify_content": null,
            "justify_items": null,
            "left": null,
            "margin": null,
            "max_height": null,
            "max_width": null,
            "min_height": null,
            "min_width": null,
            "object_fit": null,
            "object_position": null,
            "order": null,
            "overflow": null,
            "overflow_x": null,
            "overflow_y": null,
            "padding": null,
            "right": null,
            "top": null,
            "visibility": null,
            "width": null
          }
        },
        "1f20878bac2b4ce49f4173624205b542": {
          "model_module": "@jupyter-widgets/controls",
          "model_name": "DescriptionStyleModel",
          "model_module_version": "1.5.0",
          "state": {
            "_model_module": "@jupyter-widgets/controls",
            "_model_module_version": "1.5.0",
            "_model_name": "DescriptionStyleModel",
            "_view_count": null,
            "_view_module": "@jupyter-widgets/base",
            "_view_module_version": "1.2.0",
            "_view_name": "StyleView",
            "description_width": ""
          }
        },
        "9311ce89389d4787aa91f009fabd834c": {
          "model_module": "@jupyter-widgets/base",
          "model_name": "LayoutModel",
          "model_module_version": "1.2.0",
          "state": {
            "_model_module": "@jupyter-widgets/base",
            "_model_module_version": "1.2.0",
            "_model_name": "LayoutModel",
            "_view_count": null,
            "_view_module": "@jupyter-widgets/base",
            "_view_module_version": "1.2.0",
            "_view_name": "LayoutView",
            "align_content": null,
            "align_items": null,
            "align_self": null,
            "border": null,
            "bottom": null,
            "display": null,
            "flex": null,
            "flex_flow": null,
            "grid_area": null,
            "grid_auto_columns": null,
            "grid_auto_flow": null,
            "grid_auto_rows": null,
            "grid_column": null,
            "grid_gap": null,
            "grid_row": null,
            "grid_template_areas": null,
            "grid_template_columns": null,
            "grid_template_rows": null,
            "height": null,
            "justify_content": null,
            "justify_items": null,
            "left": null,
            "margin": null,
            "max_height": null,
            "max_width": null,
            "min_height": null,
            "min_width": null,
            "object_fit": null,
            "object_position": null,
            "order": null,
            "overflow": null,
            "overflow_x": null,
            "overflow_y": null,
            "padding": null,
            "right": null,
            "top": null,
            "visibility": null,
            "width": null
          }
        },
        "eaecc7086972407786fe8e76e6deef33": {
          "model_module": "@jupyter-widgets/controls",
          "model_name": "ProgressStyleModel",
          "model_module_version": "1.5.0",
          "state": {
            "_model_module": "@jupyter-widgets/controls",
            "_model_module_version": "1.5.0",
            "_model_name": "ProgressStyleModel",
            "_view_count": null,
            "_view_module": "@jupyter-widgets/base",
            "_view_module_version": "1.2.0",
            "_view_name": "StyleView",
            "bar_color": null,
            "description_width": ""
          }
        },
        "5f310cd412fd4d319fd1b7457c48cc15": {
          "model_module": "@jupyter-widgets/base",
          "model_name": "LayoutModel",
          "model_module_version": "1.2.0",
          "state": {
            "_model_module": "@jupyter-widgets/base",
            "_model_module_version": "1.2.0",
            "_model_name": "LayoutModel",
            "_view_count": null,
            "_view_module": "@jupyter-widgets/base",
            "_view_module_version": "1.2.0",
            "_view_name": "LayoutView",
            "align_content": null,
            "align_items": null,
            "align_self": null,
            "border": null,
            "bottom": null,
            "display": null,
            "flex": null,
            "flex_flow": null,
            "grid_area": null,
            "grid_auto_columns": null,
            "grid_auto_flow": null,
            "grid_auto_rows": null,
            "grid_column": null,
            "grid_gap": null,
            "grid_row": null,
            "grid_template_areas": null,
            "grid_template_columns": null,
            "grid_template_rows": null,
            "height": null,
            "justify_content": null,
            "justify_items": null,
            "left": null,
            "margin": null,
            "max_height": null,
            "max_width": null,
            "min_height": null,
            "min_width": null,
            "object_fit": null,
            "object_position": null,
            "order": null,
            "overflow": null,
            "overflow_x": null,
            "overflow_y": null,
            "padding": null,
            "right": null,
            "top": null,
            "visibility": null,
            "width": null
          }
        },
        "c9cda3da2324468cafd4d2e751b371cb": {
          "model_module": "@jupyter-widgets/controls",
          "model_name": "DescriptionStyleModel",
          "model_module_version": "1.5.0",
          "state": {
            "_model_module": "@jupyter-widgets/controls",
            "_model_module_version": "1.5.0",
            "_model_name": "DescriptionStyleModel",
            "_view_count": null,
            "_view_module": "@jupyter-widgets/base",
            "_view_module_version": "1.2.0",
            "_view_name": "StyleView",
            "description_width": ""
          }
        },
        "46a7380e57ce4c32bd7685014ac55160": {
          "model_module": "@jupyter-widgets/controls",
          "model_name": "HBoxModel",
          "model_module_version": "1.5.0",
          "state": {
            "_dom_classes": [],
            "_model_module": "@jupyter-widgets/controls",
            "_model_module_version": "1.5.0",
            "_model_name": "HBoxModel",
            "_view_count": null,
            "_view_module": "@jupyter-widgets/controls",
            "_view_module_version": "1.5.0",
            "_view_name": "HBoxView",
            "box_style": "",
            "children": [
              "IPY_MODEL_9fc98ddf37ac45adbc168d85734e506e",
              "IPY_MODEL_0692506a27a348d1aec20558a05e9550",
              "IPY_MODEL_da6f260195df47a4bd88581eb0bf4a88"
            ],
            "layout": "IPY_MODEL_b347da9268ca4cea9b7f8cc0c54e02d5"
          }
        },
        "9fc98ddf37ac45adbc168d85734e506e": {
          "model_module": "@jupyter-widgets/controls",
          "model_name": "HTMLModel",
          "model_module_version": "1.5.0",
          "state": {
            "_dom_classes": [],
            "_model_module": "@jupyter-widgets/controls",
            "_model_module_version": "1.5.0",
            "_model_name": "HTMLModel",
            "_view_count": null,
            "_view_module": "@jupyter-widgets/controls",
            "_view_module_version": "1.5.0",
            "_view_name": "HTMLView",
            "description": "",
            "description_tooltip": null,
            "layout": "IPY_MODEL_534dd053e85f4121a9d29037b8f3357f",
            "placeholder": "​",
            "style": "IPY_MODEL_7132d9fb70854f7885fba71b6628c0ea",
            "value": "train-00000-of-00004.parquet: 100%"
          }
        },
        "0692506a27a348d1aec20558a05e9550": {
          "model_module": "@jupyter-widgets/controls",
          "model_name": "FloatProgressModel",
          "model_module_version": "1.5.0",
          "state": {
            "_dom_classes": [],
            "_model_module": "@jupyter-widgets/controls",
            "_model_module_version": "1.5.0",
            "_model_name": "FloatProgressModel",
            "_view_count": null,
            "_view_module": "@jupyter-widgets/controls",
            "_view_module_version": "1.5.0",
            "_view_name": "ProgressView",
            "bar_style": "success",
            "description": "",
            "description_tooltip": null,
            "layout": "IPY_MODEL_5813b1125dbc43d683eec1d13be8c7d7",
            "max": 259761770,
            "min": 0,
            "orientation": "horizontal",
            "style": "IPY_MODEL_d460f718bdf24cb191646a7e6746bffc",
            "value": 259761770
          }
        },
        "da6f260195df47a4bd88581eb0bf4a88": {
          "model_module": "@jupyter-widgets/controls",
          "model_name": "HTMLModel",
          "model_module_version": "1.5.0",
          "state": {
            "_dom_classes": [],
            "_model_module": "@jupyter-widgets/controls",
            "_model_module_version": "1.5.0",
            "_model_name": "HTMLModel",
            "_view_count": null,
            "_view_module": "@jupyter-widgets/controls",
            "_view_module_version": "1.5.0",
            "_view_name": "HTMLView",
            "description": "",
            "description_tooltip": null,
            "layout": "IPY_MODEL_085109c18cc04e4d9d3594e62b76815d",
            "placeholder": "​",
            "style": "IPY_MODEL_faf569e0e06b45a79921343f6c7834ff",
            "value": " 260M/260M [00:01&lt;00:00, 230MB/s]"
          }
        },
        "b347da9268ca4cea9b7f8cc0c54e02d5": {
          "model_module": "@jupyter-widgets/base",
          "model_name": "LayoutModel",
          "model_module_version": "1.2.0",
          "state": {
            "_model_module": "@jupyter-widgets/base",
            "_model_module_version": "1.2.0",
            "_model_name": "LayoutModel",
            "_view_count": null,
            "_view_module": "@jupyter-widgets/base",
            "_view_module_version": "1.2.0",
            "_view_name": "LayoutView",
            "align_content": null,
            "align_items": null,
            "align_self": null,
            "border": null,
            "bottom": null,
            "display": null,
            "flex": null,
            "flex_flow": null,
            "grid_area": null,
            "grid_auto_columns": null,
            "grid_auto_flow": null,
            "grid_auto_rows": null,
            "grid_column": null,
            "grid_gap": null,
            "grid_row": null,
            "grid_template_areas": null,
            "grid_template_columns": null,
            "grid_template_rows": null,
            "height": null,
            "justify_content": null,
            "justify_items": null,
            "left": null,
            "margin": null,
            "max_height": null,
            "max_width": null,
            "min_height": null,
            "min_width": null,
            "object_fit": null,
            "object_position": null,
            "order": null,
            "overflow": null,
            "overflow_x": null,
            "overflow_y": null,
            "padding": null,
            "right": null,
            "top": null,
            "visibility": null,
            "width": null
          }
        },
        "534dd053e85f4121a9d29037b8f3357f": {
          "model_module": "@jupyter-widgets/base",
          "model_name": "LayoutModel",
          "model_module_version": "1.2.0",
          "state": {
            "_model_module": "@jupyter-widgets/base",
            "_model_module_version": "1.2.0",
            "_model_name": "LayoutModel",
            "_view_count": null,
            "_view_module": "@jupyter-widgets/base",
            "_view_module_version": "1.2.0",
            "_view_name": "LayoutView",
            "align_content": null,
            "align_items": null,
            "align_self": null,
            "border": null,
            "bottom": null,
            "display": null,
            "flex": null,
            "flex_flow": null,
            "grid_area": null,
            "grid_auto_columns": null,
            "grid_auto_flow": null,
            "grid_auto_rows": null,
            "grid_column": null,
            "grid_gap": null,
            "grid_row": null,
            "grid_template_areas": null,
            "grid_template_columns": null,
            "grid_template_rows": null,
            "height": null,
            "justify_content": null,
            "justify_items": null,
            "left": null,
            "margin": null,
            "max_height": null,
            "max_width": null,
            "min_height": null,
            "min_width": null,
            "object_fit": null,
            "object_position": null,
            "order": null,
            "overflow": null,
            "overflow_x": null,
            "overflow_y": null,
            "padding": null,
            "right": null,
            "top": null,
            "visibility": null,
            "width": null
          }
        },
        "7132d9fb70854f7885fba71b6628c0ea": {
          "model_module": "@jupyter-widgets/controls",
          "model_name": "DescriptionStyleModel",
          "model_module_version": "1.5.0",
          "state": {
            "_model_module": "@jupyter-widgets/controls",
            "_model_module_version": "1.5.0",
            "_model_name": "DescriptionStyleModel",
            "_view_count": null,
            "_view_module": "@jupyter-widgets/base",
            "_view_module_version": "1.2.0",
            "_view_name": "StyleView",
            "description_width": ""
          }
        },
        "5813b1125dbc43d683eec1d13be8c7d7": {
          "model_module": "@jupyter-widgets/base",
          "model_name": "LayoutModel",
          "model_module_version": "1.2.0",
          "state": {
            "_model_module": "@jupyter-widgets/base",
            "_model_module_version": "1.2.0",
            "_model_name": "LayoutModel",
            "_view_count": null,
            "_view_module": "@jupyter-widgets/base",
            "_view_module_version": "1.2.0",
            "_view_name": "LayoutView",
            "align_content": null,
            "align_items": null,
            "align_self": null,
            "border": null,
            "bottom": null,
            "display": null,
            "flex": null,
            "flex_flow": null,
            "grid_area": null,
            "grid_auto_columns": null,
            "grid_auto_flow": null,
            "grid_auto_rows": null,
            "grid_column": null,
            "grid_gap": null,
            "grid_row": null,
            "grid_template_areas": null,
            "grid_template_columns": null,
            "grid_template_rows": null,
            "height": null,
            "justify_content": null,
            "justify_items": null,
            "left": null,
            "margin": null,
            "max_height": null,
            "max_width": null,
            "min_height": null,
            "min_width": null,
            "object_fit": null,
            "object_position": null,
            "order": null,
            "overflow": null,
            "overflow_x": null,
            "overflow_y": null,
            "padding": null,
            "right": null,
            "top": null,
            "visibility": null,
            "width": null
          }
        },
        "d460f718bdf24cb191646a7e6746bffc": {
          "model_module": "@jupyter-widgets/controls",
          "model_name": "ProgressStyleModel",
          "model_module_version": "1.5.0",
          "state": {
            "_model_module": "@jupyter-widgets/controls",
            "_model_module_version": "1.5.0",
            "_model_name": "ProgressStyleModel",
            "_view_count": null,
            "_view_module": "@jupyter-widgets/base",
            "_view_module_version": "1.2.0",
            "_view_name": "StyleView",
            "bar_color": null,
            "description_width": ""
          }
        },
        "085109c18cc04e4d9d3594e62b76815d": {
          "model_module": "@jupyter-widgets/base",
          "model_name": "LayoutModel",
          "model_module_version": "1.2.0",
          "state": {
            "_model_module": "@jupyter-widgets/base",
            "_model_module_version": "1.2.0",
            "_model_name": "LayoutModel",
            "_view_count": null,
            "_view_module": "@jupyter-widgets/base",
            "_view_module_version": "1.2.0",
            "_view_name": "LayoutView",
            "align_content": null,
            "align_items": null,
            "align_self": null,
            "border": null,
            "bottom": null,
            "display": null,
            "flex": null,
            "flex_flow": null,
            "grid_area": null,
            "grid_auto_columns": null,
            "grid_auto_flow": null,
            "grid_auto_rows": null,
            "grid_column": null,
            "grid_gap": null,
            "grid_row": null,
            "grid_template_areas": null,
            "grid_template_columns": null,
            "grid_template_rows": null,
            "height": null,
            "justify_content": null,
            "justify_items": null,
            "left": null,
            "margin": null,
            "max_height": null,
            "max_width": null,
            "min_height": null,
            "min_width": null,
            "object_fit": null,
            "object_position": null,
            "order": null,
            "overflow": null,
            "overflow_x": null,
            "overflow_y": null,
            "padding": null,
            "right": null,
            "top": null,
            "visibility": null,
            "width": null
          }
        },
        "faf569e0e06b45a79921343f6c7834ff": {
          "model_module": "@jupyter-widgets/controls",
          "model_name": "DescriptionStyleModel",
          "model_module_version": "1.5.0",
          "state": {
            "_model_module": "@jupyter-widgets/controls",
            "_model_module_version": "1.5.0",
            "_model_name": "DescriptionStyleModel",
            "_view_count": null,
            "_view_module": "@jupyter-widgets/base",
            "_view_module_version": "1.2.0",
            "_view_name": "StyleView",
            "description_width": ""
          }
        },
        "f6a81dbd9fce42e28df2a9aec7ea8b8a": {
          "model_module": "@jupyter-widgets/controls",
          "model_name": "HBoxModel",
          "model_module_version": "1.5.0",
          "state": {
            "_dom_classes": [],
            "_model_module": "@jupyter-widgets/controls",
            "_model_module_version": "1.5.0",
            "_model_name": "HBoxModel",
            "_view_count": null,
            "_view_module": "@jupyter-widgets/controls",
            "_view_module_version": "1.5.0",
            "_view_name": "HBoxView",
            "box_style": "",
            "children": [
              "IPY_MODEL_28537adad6474b3a9b7cd1a257083e77",
              "IPY_MODEL_fe75d9f893f14ccca657391671b3ea1f",
              "IPY_MODEL_dc88e2f06c2c43209c36f162fe75c3f1"
            ],
            "layout": "IPY_MODEL_84080e9fd474484fbab248b2a7e72674"
          }
        },
        "28537adad6474b3a9b7cd1a257083e77": {
          "model_module": "@jupyter-widgets/controls",
          "model_name": "HTMLModel",
          "model_module_version": "1.5.0",
          "state": {
            "_dom_classes": [],
            "_model_module": "@jupyter-widgets/controls",
            "_model_module_version": "1.5.0",
            "_model_name": "HTMLModel",
            "_view_count": null,
            "_view_module": "@jupyter-widgets/controls",
            "_view_module_version": "1.5.0",
            "_view_name": "HTMLView",
            "description": "",
            "description_tooltip": null,
            "layout": "IPY_MODEL_da5add54dc8c4e588d1544f5fdc9a075",
            "placeholder": "​",
            "style": "IPY_MODEL_0227befe847247a59313e85e24511568",
            "value": "train-00001-of-00004.parquet: 100%"
          }
        },
        "fe75d9f893f14ccca657391671b3ea1f": {
          "model_module": "@jupyter-widgets/controls",
          "model_name": "FloatProgressModel",
          "model_module_version": "1.5.0",
          "state": {
            "_dom_classes": [],
            "_model_module": "@jupyter-widgets/controls",
            "_model_module_version": "1.5.0",
            "_model_name": "FloatProgressModel",
            "_view_count": null,
            "_view_module": "@jupyter-widgets/controls",
            "_view_module_version": "1.5.0",
            "_view_name": "ProgressView",
            "bar_style": "success",
            "description": "",
            "description_tooltip": null,
            "layout": "IPY_MODEL_5cedf5c35c29463fbe59cf6772833282",
            "max": 258363554,
            "min": 0,
            "orientation": "horizontal",
            "style": "IPY_MODEL_fb5a72bfc7d0484284866566e4d9e174",
            "value": 258363554
          }
        },
        "dc88e2f06c2c43209c36f162fe75c3f1": {
          "model_module": "@jupyter-widgets/controls",
          "model_name": "HTMLModel",
          "model_module_version": "1.5.0",
          "state": {
            "_dom_classes": [],
            "_model_module": "@jupyter-widgets/controls",
            "_model_module_version": "1.5.0",
            "_model_name": "HTMLModel",
            "_view_count": null,
            "_view_module": "@jupyter-widgets/controls",
            "_view_module_version": "1.5.0",
            "_view_name": "HTMLView",
            "description": "",
            "description_tooltip": null,
            "layout": "IPY_MODEL_8356f6cad978443d8f875c1ae63a5183",
            "placeholder": "​",
            "style": "IPY_MODEL_39ea8cccc3dd4819a1ba36ad2c86844d",
            "value": " 258M/258M [00:02&lt;00:00, 177MB/s]"
          }
        },
        "84080e9fd474484fbab248b2a7e72674": {
          "model_module": "@jupyter-widgets/base",
          "model_name": "LayoutModel",
          "model_module_version": "1.2.0",
          "state": {
            "_model_module": "@jupyter-widgets/base",
            "_model_module_version": "1.2.0",
            "_model_name": "LayoutModel",
            "_view_count": null,
            "_view_module": "@jupyter-widgets/base",
            "_view_module_version": "1.2.0",
            "_view_name": "LayoutView",
            "align_content": null,
            "align_items": null,
            "align_self": null,
            "border": null,
            "bottom": null,
            "display": null,
            "flex": null,
            "flex_flow": null,
            "grid_area": null,
            "grid_auto_columns": null,
            "grid_auto_flow": null,
            "grid_auto_rows": null,
            "grid_column": null,
            "grid_gap": null,
            "grid_row": null,
            "grid_template_areas": null,
            "grid_template_columns": null,
            "grid_template_rows": null,
            "height": null,
            "justify_content": null,
            "justify_items": null,
            "left": null,
            "margin": null,
            "max_height": null,
            "max_width": null,
            "min_height": null,
            "min_width": null,
            "object_fit": null,
            "object_position": null,
            "order": null,
            "overflow": null,
            "overflow_x": null,
            "overflow_y": null,
            "padding": null,
            "right": null,
            "top": null,
            "visibility": null,
            "width": null
          }
        },
        "da5add54dc8c4e588d1544f5fdc9a075": {
          "model_module": "@jupyter-widgets/base",
          "model_name": "LayoutModel",
          "model_module_version": "1.2.0",
          "state": {
            "_model_module": "@jupyter-widgets/base",
            "_model_module_version": "1.2.0",
            "_model_name": "LayoutModel",
            "_view_count": null,
            "_view_module": "@jupyter-widgets/base",
            "_view_module_version": "1.2.0",
            "_view_name": "LayoutView",
            "align_content": null,
            "align_items": null,
            "align_self": null,
            "border": null,
            "bottom": null,
            "display": null,
            "flex": null,
            "flex_flow": null,
            "grid_area": null,
            "grid_auto_columns": null,
            "grid_auto_flow": null,
            "grid_auto_rows": null,
            "grid_column": null,
            "grid_gap": null,
            "grid_row": null,
            "grid_template_areas": null,
            "grid_template_columns": null,
            "grid_template_rows": null,
            "height": null,
            "justify_content": null,
            "justify_items": null,
            "left": null,
            "margin": null,
            "max_height": null,
            "max_width": null,
            "min_height": null,
            "min_width": null,
            "object_fit": null,
            "object_position": null,
            "order": null,
            "overflow": null,
            "overflow_x": null,
            "overflow_y": null,
            "padding": null,
            "right": null,
            "top": null,
            "visibility": null,
            "width": null
          }
        },
        "0227befe847247a59313e85e24511568": {
          "model_module": "@jupyter-widgets/controls",
          "model_name": "DescriptionStyleModel",
          "model_module_version": "1.5.0",
          "state": {
            "_model_module": "@jupyter-widgets/controls",
            "_model_module_version": "1.5.0",
            "_model_name": "DescriptionStyleModel",
            "_view_count": null,
            "_view_module": "@jupyter-widgets/base",
            "_view_module_version": "1.2.0",
            "_view_name": "StyleView",
            "description_width": ""
          }
        },
        "5cedf5c35c29463fbe59cf6772833282": {
          "model_module": "@jupyter-widgets/base",
          "model_name": "LayoutModel",
          "model_module_version": "1.2.0",
          "state": {
            "_model_module": "@jupyter-widgets/base",
            "_model_module_version": "1.2.0",
            "_model_name": "LayoutModel",
            "_view_count": null,
            "_view_module": "@jupyter-widgets/base",
            "_view_module_version": "1.2.0",
            "_view_name": "LayoutView",
            "align_content": null,
            "align_items": null,
            "align_self": null,
            "border": null,
            "bottom": null,
            "display": null,
            "flex": null,
            "flex_flow": null,
            "grid_area": null,
            "grid_auto_columns": null,
            "grid_auto_flow": null,
            "grid_auto_rows": null,
            "grid_column": null,
            "grid_gap": null,
            "grid_row": null,
            "grid_template_areas": null,
            "grid_template_columns": null,
            "grid_template_rows": null,
            "height": null,
            "justify_content": null,
            "justify_items": null,
            "left": null,
            "margin": null,
            "max_height": null,
            "max_width": null,
            "min_height": null,
            "min_width": null,
            "object_fit": null,
            "object_position": null,
            "order": null,
            "overflow": null,
            "overflow_x": null,
            "overflow_y": null,
            "padding": null,
            "right": null,
            "top": null,
            "visibility": null,
            "width": null
          }
        },
        "fb5a72bfc7d0484284866566e4d9e174": {
          "model_module": "@jupyter-widgets/controls",
          "model_name": "ProgressStyleModel",
          "model_module_version": "1.5.0",
          "state": {
            "_model_module": "@jupyter-widgets/controls",
            "_model_module_version": "1.5.0",
            "_model_name": "ProgressStyleModel",
            "_view_count": null,
            "_view_module": "@jupyter-widgets/base",
            "_view_module_version": "1.2.0",
            "_view_name": "StyleView",
            "bar_color": null,
            "description_width": ""
          }
        },
        "8356f6cad978443d8f875c1ae63a5183": {
          "model_module": "@jupyter-widgets/base",
          "model_name": "LayoutModel",
          "model_module_version": "1.2.0",
          "state": {
            "_model_module": "@jupyter-widgets/base",
            "_model_module_version": "1.2.0",
            "_model_name": "LayoutModel",
            "_view_count": null,
            "_view_module": "@jupyter-widgets/base",
            "_view_module_version": "1.2.0",
            "_view_name": "LayoutView",
            "align_content": null,
            "align_items": null,
            "align_self": null,
            "border": null,
            "bottom": null,
            "display": null,
            "flex": null,
            "flex_flow": null,
            "grid_area": null,
            "grid_auto_columns": null,
            "grid_auto_flow": null,
            "grid_auto_rows": null,
            "grid_column": null,
            "grid_gap": null,
            "grid_row": null,
            "grid_template_areas": null,
            "grid_template_columns": null,
            "grid_template_rows": null,
            "height": null,
            "justify_content": null,
            "justify_items": null,
            "left": null,
            "margin": null,
            "max_height": null,
            "max_width": null,
            "min_height": null,
            "min_width": null,
            "object_fit": null,
            "object_position": null,
            "order": null,
            "overflow": null,
            "overflow_x": null,
            "overflow_y": null,
            "padding": null,
            "right": null,
            "top": null,
            "visibility": null,
            "width": null
          }
        },
        "39ea8cccc3dd4819a1ba36ad2c86844d": {
          "model_module": "@jupyter-widgets/controls",
          "model_name": "DescriptionStyleModel",
          "model_module_version": "1.5.0",
          "state": {
            "_model_module": "@jupyter-widgets/controls",
            "_model_module_version": "1.5.0",
            "_model_name": "DescriptionStyleModel",
            "_view_count": null,
            "_view_module": "@jupyter-widgets/base",
            "_view_module_version": "1.2.0",
            "_view_name": "StyleView",
            "description_width": ""
          }
        },
        "8cd0413cd5f544538a875f0af7fb3dbd": {
          "model_module": "@jupyter-widgets/controls",
          "model_name": "HBoxModel",
          "model_module_version": "1.5.0",
          "state": {
            "_dom_classes": [],
            "_model_module": "@jupyter-widgets/controls",
            "_model_module_version": "1.5.0",
            "_model_name": "HBoxModel",
            "_view_count": null,
            "_view_module": "@jupyter-widgets/controls",
            "_view_module_version": "1.5.0",
            "_view_name": "HBoxView",
            "box_style": "",
            "children": [
              "IPY_MODEL_93785724359647a794de2031cce3cb31",
              "IPY_MODEL_babb339359db46008c51698335cd6df8",
              "IPY_MODEL_2e67881c6c6441a6abcf99898870b476"
            ],
            "layout": "IPY_MODEL_d01370996ae143a495d8f511783acdb7"
          }
        },
        "93785724359647a794de2031cce3cb31": {
          "model_module": "@jupyter-widgets/controls",
          "model_name": "HTMLModel",
          "model_module_version": "1.5.0",
          "state": {
            "_dom_classes": [],
            "_model_module": "@jupyter-widgets/controls",
            "_model_module_version": "1.5.0",
            "_model_name": "HTMLModel",
            "_view_count": null,
            "_view_module": "@jupyter-widgets/controls",
            "_view_module_version": "1.5.0",
            "_view_name": "HTMLView",
            "description": "",
            "description_tooltip": null,
            "layout": "IPY_MODEL_b83efa5b2759457ebff499ea732f1e46",
            "placeholder": "​",
            "style": "IPY_MODEL_e0194023497c40f1ac481b2a69903115",
            "value": "train-00002-of-00004.parquet: 100%"
          }
        },
        "babb339359db46008c51698335cd6df8": {
          "model_module": "@jupyter-widgets/controls",
          "model_name": "FloatProgressModel",
          "model_module_version": "1.5.0",
          "state": {
            "_dom_classes": [],
            "_model_module": "@jupyter-widgets/controls",
            "_model_module_version": "1.5.0",
            "_model_name": "FloatProgressModel",
            "_view_count": null,
            "_view_module": "@jupyter-widgets/controls",
            "_view_module_version": "1.5.0",
            "_view_name": "ProgressView",
            "bar_style": "success",
            "description": "",
            "description_tooltip": null,
            "layout": "IPY_MODEL_129c719f6e1143c580efe349bfad4aca",
            "max": 255471883,
            "min": 0,
            "orientation": "horizontal",
            "style": "IPY_MODEL_6d17c861b6b04d7dbb14483034346e32",
            "value": 255471883
          }
        },
        "2e67881c6c6441a6abcf99898870b476": {
          "model_module": "@jupyter-widgets/controls",
          "model_name": "HTMLModel",
          "model_module_version": "1.5.0",
          "state": {
            "_dom_classes": [],
            "_model_module": "@jupyter-widgets/controls",
            "_model_module_version": "1.5.0",
            "_model_name": "HTMLModel",
            "_view_count": null,
            "_view_module": "@jupyter-widgets/controls",
            "_view_module_version": "1.5.0",
            "_view_name": "HTMLView",
            "description": "",
            "description_tooltip": null,
            "layout": "IPY_MODEL_2711e51c88174bf28dfa4d6c8b6ced6c",
            "placeholder": "​",
            "style": "IPY_MODEL_a9db2ed1741e4a159597aef5d558f565",
            "value": " 255M/255M [00:03&lt;00:00, 58.6MB/s]"
          }
        },
        "d01370996ae143a495d8f511783acdb7": {
          "model_module": "@jupyter-widgets/base",
          "model_name": "LayoutModel",
          "model_module_version": "1.2.0",
          "state": {
            "_model_module": "@jupyter-widgets/base",
            "_model_module_version": "1.2.0",
            "_model_name": "LayoutModel",
            "_view_count": null,
            "_view_module": "@jupyter-widgets/base",
            "_view_module_version": "1.2.0",
            "_view_name": "LayoutView",
            "align_content": null,
            "align_items": null,
            "align_self": null,
            "border": null,
            "bottom": null,
            "display": null,
            "flex": null,
            "flex_flow": null,
            "grid_area": null,
            "grid_auto_columns": null,
            "grid_auto_flow": null,
            "grid_auto_rows": null,
            "grid_column": null,
            "grid_gap": null,
            "grid_row": null,
            "grid_template_areas": null,
            "grid_template_columns": null,
            "grid_template_rows": null,
            "height": null,
            "justify_content": null,
            "justify_items": null,
            "left": null,
            "margin": null,
            "max_height": null,
            "max_width": null,
            "min_height": null,
            "min_width": null,
            "object_fit": null,
            "object_position": null,
            "order": null,
            "overflow": null,
            "overflow_x": null,
            "overflow_y": null,
            "padding": null,
            "right": null,
            "top": null,
            "visibility": null,
            "width": null
          }
        },
        "b83efa5b2759457ebff499ea732f1e46": {
          "model_module": "@jupyter-widgets/base",
          "model_name": "LayoutModel",
          "model_module_version": "1.2.0",
          "state": {
            "_model_module": "@jupyter-widgets/base",
            "_model_module_version": "1.2.0",
            "_model_name": "LayoutModel",
            "_view_count": null,
            "_view_module": "@jupyter-widgets/base",
            "_view_module_version": "1.2.0",
            "_view_name": "LayoutView",
            "align_content": null,
            "align_items": null,
            "align_self": null,
            "border": null,
            "bottom": null,
            "display": null,
            "flex": null,
            "flex_flow": null,
            "grid_area": null,
            "grid_auto_columns": null,
            "grid_auto_flow": null,
            "grid_auto_rows": null,
            "grid_column": null,
            "grid_gap": null,
            "grid_row": null,
            "grid_template_areas": null,
            "grid_template_columns": null,
            "grid_template_rows": null,
            "height": null,
            "justify_content": null,
            "justify_items": null,
            "left": null,
            "margin": null,
            "max_height": null,
            "max_width": null,
            "min_height": null,
            "min_width": null,
            "object_fit": null,
            "object_position": null,
            "order": null,
            "overflow": null,
            "overflow_x": null,
            "overflow_y": null,
            "padding": null,
            "right": null,
            "top": null,
            "visibility": null,
            "width": null
          }
        },
        "e0194023497c40f1ac481b2a69903115": {
          "model_module": "@jupyter-widgets/controls",
          "model_name": "DescriptionStyleModel",
          "model_module_version": "1.5.0",
          "state": {
            "_model_module": "@jupyter-widgets/controls",
            "_model_module_version": "1.5.0",
            "_model_name": "DescriptionStyleModel",
            "_view_count": null,
            "_view_module": "@jupyter-widgets/base",
            "_view_module_version": "1.2.0",
            "_view_name": "StyleView",
            "description_width": ""
          }
        },
        "129c719f6e1143c580efe349bfad4aca": {
          "model_module": "@jupyter-widgets/base",
          "model_name": "LayoutModel",
          "model_module_version": "1.2.0",
          "state": {
            "_model_module": "@jupyter-widgets/base",
            "_model_module_version": "1.2.0",
            "_model_name": "LayoutModel",
            "_view_count": null,
            "_view_module": "@jupyter-widgets/base",
            "_view_module_version": "1.2.0",
            "_view_name": "LayoutView",
            "align_content": null,
            "align_items": null,
            "align_self": null,
            "border": null,
            "bottom": null,
            "display": null,
            "flex": null,
            "flex_flow": null,
            "grid_area": null,
            "grid_auto_columns": null,
            "grid_auto_flow": null,
            "grid_auto_rows": null,
            "grid_column": null,
            "grid_gap": null,
            "grid_row": null,
            "grid_template_areas": null,
            "grid_template_columns": null,
            "grid_template_rows": null,
            "height": null,
            "justify_content": null,
            "justify_items": null,
            "left": null,
            "margin": null,
            "max_height": null,
            "max_width": null,
            "min_height": null,
            "min_width": null,
            "object_fit": null,
            "object_position": null,
            "order": null,
            "overflow": null,
            "overflow_x": null,
            "overflow_y": null,
            "padding": null,
            "right": null,
            "top": null,
            "visibility": null,
            "width": null
          }
        },
        "6d17c861b6b04d7dbb14483034346e32": {
          "model_module": "@jupyter-widgets/controls",
          "model_name": "ProgressStyleModel",
          "model_module_version": "1.5.0",
          "state": {
            "_model_module": "@jupyter-widgets/controls",
            "_model_module_version": "1.5.0",
            "_model_name": "ProgressStyleModel",
            "_view_count": null,
            "_view_module": "@jupyter-widgets/base",
            "_view_module_version": "1.2.0",
            "_view_name": "StyleView",
            "bar_color": null,
            "description_width": ""
          }
        },
        "2711e51c88174bf28dfa4d6c8b6ced6c": {
          "model_module": "@jupyter-widgets/base",
          "model_name": "LayoutModel",
          "model_module_version": "1.2.0",
          "state": {
            "_model_module": "@jupyter-widgets/base",
            "_model_module_version": "1.2.0",
            "_model_name": "LayoutModel",
            "_view_count": null,
            "_view_module": "@jupyter-widgets/base",
            "_view_module_version": "1.2.0",
            "_view_name": "LayoutView",
            "align_content": null,
            "align_items": null,
            "align_self": null,
            "border": null,
            "bottom": null,
            "display": null,
            "flex": null,
            "flex_flow": null,
            "grid_area": null,
            "grid_auto_columns": null,
            "grid_auto_flow": null,
            "grid_auto_rows": null,
            "grid_column": null,
            "grid_gap": null,
            "grid_row": null,
            "grid_template_areas": null,
            "grid_template_columns": null,
            "grid_template_rows": null,
            "height": null,
            "justify_content": null,
            "justify_items": null,
            "left": null,
            "margin": null,
            "max_height": null,
            "max_width": null,
            "min_height": null,
            "min_width": null,
            "object_fit": null,
            "object_position": null,
            "order": null,
            "overflow": null,
            "overflow_x": null,
            "overflow_y": null,
            "padding": null,
            "right": null,
            "top": null,
            "visibility": null,
            "width": null
          }
        },
        "a9db2ed1741e4a159597aef5d558f565": {
          "model_module": "@jupyter-widgets/controls",
          "model_name": "DescriptionStyleModel",
          "model_module_version": "1.5.0",
          "state": {
            "_model_module": "@jupyter-widgets/controls",
            "_model_module_version": "1.5.0",
            "_model_name": "DescriptionStyleModel",
            "_view_count": null,
            "_view_module": "@jupyter-widgets/base",
            "_view_module_version": "1.2.0",
            "_view_name": "StyleView",
            "description_width": ""
          }
        },
        "a401607bf6b943e593b28f6e1134f309": {
          "model_module": "@jupyter-widgets/controls",
          "model_name": "HBoxModel",
          "model_module_version": "1.5.0",
          "state": {
            "_dom_classes": [],
            "_model_module": "@jupyter-widgets/controls",
            "_model_module_version": "1.5.0",
            "_model_name": "HBoxModel",
            "_view_count": null,
            "_view_module": "@jupyter-widgets/controls",
            "_view_module_version": "1.5.0",
            "_view_name": "HBoxView",
            "box_style": "",
            "children": [
              "IPY_MODEL_541735f977bd4506b9167eefbf1c2be4",
              "IPY_MODEL_c46b8ccd9f4342bda334a37847bc5e13",
              "IPY_MODEL_346e811f5dc9488facbb0b1c493859a3"
            ],
            "layout": "IPY_MODEL_23715633151e48cfbaa153b9af16c3e1"
          }
        },
        "541735f977bd4506b9167eefbf1c2be4": {
          "model_module": "@jupyter-widgets/controls",
          "model_name": "HTMLModel",
          "model_module_version": "1.5.0",
          "state": {
            "_dom_classes": [],
            "_model_module": "@jupyter-widgets/controls",
            "_model_module_version": "1.5.0",
            "_model_name": "HTMLModel",
            "_view_count": null,
            "_view_module": "@jupyter-widgets/controls",
            "_view_module_version": "1.5.0",
            "_view_name": "HTMLView",
            "description": "",
            "description_tooltip": null,
            "layout": "IPY_MODEL_946ff1b9e5d44d32b7cd8c242e65a2bd",
            "placeholder": "​",
            "style": "IPY_MODEL_d99859fa11eb4107bba09db46c6f57c7",
            "value": "train-00003-of-00004.parquet: 100%"
          }
        },
        "c46b8ccd9f4342bda334a37847bc5e13": {
          "model_module": "@jupyter-widgets/controls",
          "model_name": "FloatProgressModel",
          "model_module_version": "1.5.0",
          "state": {
            "_dom_classes": [],
            "_model_module": "@jupyter-widgets/controls",
            "_model_module_version": "1.5.0",
            "_model_name": "FloatProgressModel",
            "_view_count": null,
            "_view_module": "@jupyter-widgets/controls",
            "_view_module_version": "1.5.0",
            "_view_name": "ProgressView",
            "bar_style": "success",
            "description": "",
            "description_tooltip": null,
            "layout": "IPY_MODEL_99babb87e0aa48ffb415ffecac26af19",
            "max": 254410930,
            "min": 0,
            "orientation": "horizontal",
            "style": "IPY_MODEL_65fe462eb1bc44258a1731858ac3890c",
            "value": 254410930
          }
        },
        "346e811f5dc9488facbb0b1c493859a3": {
          "model_module": "@jupyter-widgets/controls",
          "model_name": "HTMLModel",
          "model_module_version": "1.5.0",
          "state": {
            "_dom_classes": [],
            "_model_module": "@jupyter-widgets/controls",
            "_model_module_version": "1.5.0",
            "_model_name": "HTMLModel",
            "_view_count": null,
            "_view_module": "@jupyter-widgets/controls",
            "_view_module_version": "1.5.0",
            "_view_name": "HTMLView",
            "description": "",
            "description_tooltip": null,
            "layout": "IPY_MODEL_cda8b6e59c18496f852f65a100af4b78",
            "placeholder": "​",
            "style": "IPY_MODEL_2923fdafabba4204a32e9fd1073410f9",
            "value": " 254M/254M [00:01&lt;00:00, 243MB/s]"
          }
        },
        "23715633151e48cfbaa153b9af16c3e1": {
          "model_module": "@jupyter-widgets/base",
          "model_name": "LayoutModel",
          "model_module_version": "1.2.0",
          "state": {
            "_model_module": "@jupyter-widgets/base",
            "_model_module_version": "1.2.0",
            "_model_name": "LayoutModel",
            "_view_count": null,
            "_view_module": "@jupyter-widgets/base",
            "_view_module_version": "1.2.0",
            "_view_name": "LayoutView",
            "align_content": null,
            "align_items": null,
            "align_self": null,
            "border": null,
            "bottom": null,
            "display": null,
            "flex": null,
            "flex_flow": null,
            "grid_area": null,
            "grid_auto_columns": null,
            "grid_auto_flow": null,
            "grid_auto_rows": null,
            "grid_column": null,
            "grid_gap": null,
            "grid_row": null,
            "grid_template_areas": null,
            "grid_template_columns": null,
            "grid_template_rows": null,
            "height": null,
            "justify_content": null,
            "justify_items": null,
            "left": null,
            "margin": null,
            "max_height": null,
            "max_width": null,
            "min_height": null,
            "min_width": null,
            "object_fit": null,
            "object_position": null,
            "order": null,
            "overflow": null,
            "overflow_x": null,
            "overflow_y": null,
            "padding": null,
            "right": null,
            "top": null,
            "visibility": null,
            "width": null
          }
        },
        "946ff1b9e5d44d32b7cd8c242e65a2bd": {
          "model_module": "@jupyter-widgets/base",
          "model_name": "LayoutModel",
          "model_module_version": "1.2.0",
          "state": {
            "_model_module": "@jupyter-widgets/base",
            "_model_module_version": "1.2.0",
            "_model_name": "LayoutModel",
            "_view_count": null,
            "_view_module": "@jupyter-widgets/base",
            "_view_module_version": "1.2.0",
            "_view_name": "LayoutView",
            "align_content": null,
            "align_items": null,
            "align_self": null,
            "border": null,
            "bottom": null,
            "display": null,
            "flex": null,
            "flex_flow": null,
            "grid_area": null,
            "grid_auto_columns": null,
            "grid_auto_flow": null,
            "grid_auto_rows": null,
            "grid_column": null,
            "grid_gap": null,
            "grid_row": null,
            "grid_template_areas": null,
            "grid_template_columns": null,
            "grid_template_rows": null,
            "height": null,
            "justify_content": null,
            "justify_items": null,
            "left": null,
            "margin": null,
            "max_height": null,
            "max_width": null,
            "min_height": null,
            "min_width": null,
            "object_fit": null,
            "object_position": null,
            "order": null,
            "overflow": null,
            "overflow_x": null,
            "overflow_y": null,
            "padding": null,
            "right": null,
            "top": null,
            "visibility": null,
            "width": null
          }
        },
        "d99859fa11eb4107bba09db46c6f57c7": {
          "model_module": "@jupyter-widgets/controls",
          "model_name": "DescriptionStyleModel",
          "model_module_version": "1.5.0",
          "state": {
            "_model_module": "@jupyter-widgets/controls",
            "_model_module_version": "1.5.0",
            "_model_name": "DescriptionStyleModel",
            "_view_count": null,
            "_view_module": "@jupyter-widgets/base",
            "_view_module_version": "1.2.0",
            "_view_name": "StyleView",
            "description_width": ""
          }
        },
        "99babb87e0aa48ffb415ffecac26af19": {
          "model_module": "@jupyter-widgets/base",
          "model_name": "LayoutModel",
          "model_module_version": "1.2.0",
          "state": {
            "_model_module": "@jupyter-widgets/base",
            "_model_module_version": "1.2.0",
            "_model_name": "LayoutModel",
            "_view_count": null,
            "_view_module": "@jupyter-widgets/base",
            "_view_module_version": "1.2.0",
            "_view_name": "LayoutView",
            "align_content": null,
            "align_items": null,
            "align_self": null,
            "border": null,
            "bottom": null,
            "display": null,
            "flex": null,
            "flex_flow": null,
            "grid_area": null,
            "grid_auto_columns": null,
            "grid_auto_flow": null,
            "grid_auto_rows": null,
            "grid_column": null,
            "grid_gap": null,
            "grid_row": null,
            "grid_template_areas": null,
            "grid_template_columns": null,
            "grid_template_rows": null,
            "height": null,
            "justify_content": null,
            "justify_items": null,
            "left": null,
            "margin": null,
            "max_height": null,
            "max_width": null,
            "min_height": null,
            "min_width": null,
            "object_fit": null,
            "object_position": null,
            "order": null,
            "overflow": null,
            "overflow_x": null,
            "overflow_y": null,
            "padding": null,
            "right": null,
            "top": null,
            "visibility": null,
            "width": null
          }
        },
        "65fe462eb1bc44258a1731858ac3890c": {
          "model_module": "@jupyter-widgets/controls",
          "model_name": "ProgressStyleModel",
          "model_module_version": "1.5.0",
          "state": {
            "_model_module": "@jupyter-widgets/controls",
            "_model_module_version": "1.5.0",
            "_model_name": "ProgressStyleModel",
            "_view_count": null,
            "_view_module": "@jupyter-widgets/base",
            "_view_module_version": "1.2.0",
            "_view_name": "StyleView",
            "bar_color": null,
            "description_width": ""
          }
        },
        "cda8b6e59c18496f852f65a100af4b78": {
          "model_module": "@jupyter-widgets/base",
          "model_name": "LayoutModel",
          "model_module_version": "1.2.0",
          "state": {
            "_model_module": "@jupyter-widgets/base",
            "_model_module_version": "1.2.0",
            "_model_name": "LayoutModel",
            "_view_count": null,
            "_view_module": "@jupyter-widgets/base",
            "_view_module_version": "1.2.0",
            "_view_name": "LayoutView",
            "align_content": null,
            "align_items": null,
            "align_self": null,
            "border": null,
            "bottom": null,
            "display": null,
            "flex": null,
            "flex_flow": null,
            "grid_area": null,
            "grid_auto_columns": null,
            "grid_auto_flow": null,
            "grid_auto_rows": null,
            "grid_column": null,
            "grid_gap": null,
            "grid_row": null,
            "grid_template_areas": null,
            "grid_template_columns": null,
            "grid_template_rows": null,
            "height": null,
            "justify_content": null,
            "justify_items": null,
            "left": null,
            "margin": null,
            "max_height": null,
            "max_width": null,
            "min_height": null,
            "min_width": null,
            "object_fit": null,
            "object_position": null,
            "order": null,
            "overflow": null,
            "overflow_x": null,
            "overflow_y": null,
            "padding": null,
            "right": null,
            "top": null,
            "visibility": null,
            "width": null
          }
        },
        "2923fdafabba4204a32e9fd1073410f9": {
          "model_module": "@jupyter-widgets/controls",
          "model_name": "DescriptionStyleModel",
          "model_module_version": "1.5.0",
          "state": {
            "_model_module": "@jupyter-widgets/controls",
            "_model_module_version": "1.5.0",
            "_model_name": "DescriptionStyleModel",
            "_view_count": null,
            "_view_module": "@jupyter-widgets/base",
            "_view_module_version": "1.2.0",
            "_view_name": "StyleView",
            "description_width": ""
          }
        },
        "3eee703a56a14a6fb646ec30632c7af8": {
          "model_module": "@jupyter-widgets/controls",
          "model_name": "HBoxModel",
          "model_module_version": "1.5.0",
          "state": {
            "_dom_classes": [],
            "_model_module": "@jupyter-widgets/controls",
            "_model_module_version": "1.5.0",
            "_model_name": "HBoxModel",
            "_view_count": null,
            "_view_module": "@jupyter-widgets/controls",
            "_view_module_version": "1.5.0",
            "_view_name": "HBoxView",
            "box_style": "",
            "children": [
              "IPY_MODEL_3e90d08cf1ef4b389629053a1a56d142",
              "IPY_MODEL_ce08d995cc5f4405a8ed37f35b40c284",
              "IPY_MODEL_a09bbf495a534ad797a014bc1d10b33b"
            ],
            "layout": "IPY_MODEL_b32920b3bd464cf39da0d57039cbaaf5"
          }
        },
        "3e90d08cf1ef4b389629053a1a56d142": {
          "model_module": "@jupyter-widgets/controls",
          "model_name": "HTMLModel",
          "model_module_version": "1.5.0",
          "state": {
            "_dom_classes": [],
            "_model_module": "@jupyter-widgets/controls",
            "_model_module_version": "1.5.0",
            "_model_name": "HTMLModel",
            "_view_count": null,
            "_view_module": "@jupyter-widgets/controls",
            "_view_module_version": "1.5.0",
            "_view_name": "HTMLView",
            "description": "",
            "description_tooltip": null,
            "layout": "IPY_MODEL_0ed301dd4e7444b7a304169aea450503",
            "placeholder": "​",
            "style": "IPY_MODEL_9fe0669a267f4a2da1a1be1bddbd4b08",
            "value": "test-00000-of-00001.parquet: 100%"
          }
        },
        "ce08d995cc5f4405a8ed37f35b40c284": {
          "model_module": "@jupyter-widgets/controls",
          "model_name": "FloatProgressModel",
          "model_module_version": "1.5.0",
          "state": {
            "_dom_classes": [],
            "_model_module": "@jupyter-widgets/controls",
            "_model_module_version": "1.5.0",
            "_model_name": "FloatProgressModel",
            "_view_count": null,
            "_view_module": "@jupyter-widgets/controls",
            "_view_module_version": "1.5.0",
            "_view_name": "ProgressView",
            "bar_style": "success",
            "description": "",
            "description_tooltip": null,
            "layout": "IPY_MODEL_2668c8f5084d4b27a62c7bcd42399565",
            "max": 117422360,
            "min": 0,
            "orientation": "horizontal",
            "style": "IPY_MODEL_5d495a7de2e34c93b625ec6293cc0e8c",
            "value": 117422360
          }
        },
        "a09bbf495a534ad797a014bc1d10b33b": {
          "model_module": "@jupyter-widgets/controls",
          "model_name": "HTMLModel",
          "model_module_version": "1.5.0",
          "state": {
            "_dom_classes": [],
            "_model_module": "@jupyter-widgets/controls",
            "_model_module_version": "1.5.0",
            "_model_name": "HTMLModel",
            "_view_count": null,
            "_view_module": "@jupyter-widgets/controls",
            "_view_module_version": "1.5.0",
            "_view_name": "HTMLView",
            "description": "",
            "description_tooltip": null,
            "layout": "IPY_MODEL_41704c50e70d4d2f996a71a85e0f057c",
            "placeholder": "​",
            "style": "IPY_MODEL_4f1d51346b9249d2b3a3411adad9e771",
            "value": " 117M/117M [00:02&lt;00:00, 93.2MB/s]"
          }
        },
        "b32920b3bd464cf39da0d57039cbaaf5": {
          "model_module": "@jupyter-widgets/base",
          "model_name": "LayoutModel",
          "model_module_version": "1.2.0",
          "state": {
            "_model_module": "@jupyter-widgets/base",
            "_model_module_version": "1.2.0",
            "_model_name": "LayoutModel",
            "_view_count": null,
            "_view_module": "@jupyter-widgets/base",
            "_view_module_version": "1.2.0",
            "_view_name": "LayoutView",
            "align_content": null,
            "align_items": null,
            "align_self": null,
            "border": null,
            "bottom": null,
            "display": null,
            "flex": null,
            "flex_flow": null,
            "grid_area": null,
            "grid_auto_columns": null,
            "grid_auto_flow": null,
            "grid_auto_rows": null,
            "grid_column": null,
            "grid_gap": null,
            "grid_row": null,
            "grid_template_areas": null,
            "grid_template_columns": null,
            "grid_template_rows": null,
            "height": null,
            "justify_content": null,
            "justify_items": null,
            "left": null,
            "margin": null,
            "max_height": null,
            "max_width": null,
            "min_height": null,
            "min_width": null,
            "object_fit": null,
            "object_position": null,
            "order": null,
            "overflow": null,
            "overflow_x": null,
            "overflow_y": null,
            "padding": null,
            "right": null,
            "top": null,
            "visibility": null,
            "width": null
          }
        },
        "0ed301dd4e7444b7a304169aea450503": {
          "model_module": "@jupyter-widgets/base",
          "model_name": "LayoutModel",
          "model_module_version": "1.2.0",
          "state": {
            "_model_module": "@jupyter-widgets/base",
            "_model_module_version": "1.2.0",
            "_model_name": "LayoutModel",
            "_view_count": null,
            "_view_module": "@jupyter-widgets/base",
            "_view_module_version": "1.2.0",
            "_view_name": "LayoutView",
            "align_content": null,
            "align_items": null,
            "align_self": null,
            "border": null,
            "bottom": null,
            "display": null,
            "flex": null,
            "flex_flow": null,
            "grid_area": null,
            "grid_auto_columns": null,
            "grid_auto_flow": null,
            "grid_auto_rows": null,
            "grid_column": null,
            "grid_gap": null,
            "grid_row": null,
            "grid_template_areas": null,
            "grid_template_columns": null,
            "grid_template_rows": null,
            "height": null,
            "justify_content": null,
            "justify_items": null,
            "left": null,
            "margin": null,
            "max_height": null,
            "max_width": null,
            "min_height": null,
            "min_width": null,
            "object_fit": null,
            "object_position": null,
            "order": null,
            "overflow": null,
            "overflow_x": null,
            "overflow_y": null,
            "padding": null,
            "right": null,
            "top": null,
            "visibility": null,
            "width": null
          }
        },
        "9fe0669a267f4a2da1a1be1bddbd4b08": {
          "model_module": "@jupyter-widgets/controls",
          "model_name": "DescriptionStyleModel",
          "model_module_version": "1.5.0",
          "state": {
            "_model_module": "@jupyter-widgets/controls",
            "_model_module_version": "1.5.0",
            "_model_name": "DescriptionStyleModel",
            "_view_count": null,
            "_view_module": "@jupyter-widgets/base",
            "_view_module_version": "1.2.0",
            "_view_name": "StyleView",
            "description_width": ""
          }
        },
        "2668c8f5084d4b27a62c7bcd42399565": {
          "model_module": "@jupyter-widgets/base",
          "model_name": "LayoutModel",
          "model_module_version": "1.2.0",
          "state": {
            "_model_module": "@jupyter-widgets/base",
            "_model_module_version": "1.2.0",
            "_model_name": "LayoutModel",
            "_view_count": null,
            "_view_module": "@jupyter-widgets/base",
            "_view_module_version": "1.2.0",
            "_view_name": "LayoutView",
            "align_content": null,
            "align_items": null,
            "align_self": null,
            "border": null,
            "bottom": null,
            "display": null,
            "flex": null,
            "flex_flow": null,
            "grid_area": null,
            "grid_auto_columns": null,
            "grid_auto_flow": null,
            "grid_auto_rows": null,
            "grid_column": null,
            "grid_gap": null,
            "grid_row": null,
            "grid_template_areas": null,
            "grid_template_columns": null,
            "grid_template_rows": null,
            "height": null,
            "justify_content": null,
            "justify_items": null,
            "left": null,
            "margin": null,
            "max_height": null,
            "max_width": null,
            "min_height": null,
            "min_width": null,
            "object_fit": null,
            "object_position": null,
            "order": null,
            "overflow": null,
            "overflow_x": null,
            "overflow_y": null,
            "padding": null,
            "right": null,
            "top": null,
            "visibility": null,
            "width": null
          }
        },
        "5d495a7de2e34c93b625ec6293cc0e8c": {
          "model_module": "@jupyter-widgets/controls",
          "model_name": "ProgressStyleModel",
          "model_module_version": "1.5.0",
          "state": {
            "_model_module": "@jupyter-widgets/controls",
            "_model_module_version": "1.5.0",
            "_model_name": "ProgressStyleModel",
            "_view_count": null,
            "_view_module": "@jupyter-widgets/base",
            "_view_module_version": "1.2.0",
            "_view_name": "StyleView",
            "bar_color": null,
            "description_width": ""
          }
        },
        "41704c50e70d4d2f996a71a85e0f057c": {
          "model_module": "@jupyter-widgets/base",
          "model_name": "LayoutModel",
          "model_module_version": "1.2.0",
          "state": {
            "_model_module": "@jupyter-widgets/base",
            "_model_module_version": "1.2.0",
            "_model_name": "LayoutModel",
            "_view_count": null,
            "_view_module": "@jupyter-widgets/base",
            "_view_module_version": "1.2.0",
            "_view_name": "LayoutView",
            "align_content": null,
            "align_items": null,
            "align_self": null,
            "border": null,
            "bottom": null,
            "display": null,
            "flex": null,
            "flex_flow": null,
            "grid_area": null,
            "grid_auto_columns": null,
            "grid_auto_flow": null,
            "grid_auto_rows": null,
            "grid_column": null,
            "grid_gap": null,
            "grid_row": null,
            "grid_template_areas": null,
            "grid_template_columns": null,
            "grid_template_rows": null,
            "height": null,
            "justify_content": null,
            "justify_items": null,
            "left": null,
            "margin": null,
            "max_height": null,
            "max_width": null,
            "min_height": null,
            "min_width": null,
            "object_fit": null,
            "object_position": null,
            "order": null,
            "overflow": null,
            "overflow_x": null,
            "overflow_y": null,
            "padding": null,
            "right": null,
            "top": null,
            "visibility": null,
            "width": null
          }
        },
        "4f1d51346b9249d2b3a3411adad9e771": {
          "model_module": "@jupyter-widgets/controls",
          "model_name": "DescriptionStyleModel",
          "model_module_version": "1.5.0",
          "state": {
            "_model_module": "@jupyter-widgets/controls",
            "_model_module_version": "1.5.0",
            "_model_name": "DescriptionStyleModel",
            "_view_count": null,
            "_view_module": "@jupyter-widgets/base",
            "_view_module_version": "1.2.0",
            "_view_name": "StyleView",
            "description_width": ""
          }
        },
        "55b34f8b8be44974bd1a5553fabdb010": {
          "model_module": "@jupyter-widgets/controls",
          "model_name": "HBoxModel",
          "model_module_version": "1.5.0",
          "state": {
            "_dom_classes": [],
            "_model_module": "@jupyter-widgets/controls",
            "_model_module_version": "1.5.0",
            "_model_name": "HBoxModel",
            "_view_count": null,
            "_view_module": "@jupyter-widgets/controls",
            "_view_module_version": "1.5.0",
            "_view_name": "HBoxView",
            "box_style": "",
            "children": [
              "IPY_MODEL_220e6188d387452d86ce21aad1af961d",
              "IPY_MODEL_372b07f9875146e9863743679c2b83b2",
              "IPY_MODEL_13d783b59fde481e9fc25d77efa7c799"
            ],
            "layout": "IPY_MODEL_f74d26d00d514f21bc0b0faf051236cf"
          }
        },
        "220e6188d387452d86ce21aad1af961d": {
          "model_module": "@jupyter-widgets/controls",
          "model_name": "HTMLModel",
          "model_module_version": "1.5.0",
          "state": {
            "_dom_classes": [],
            "_model_module": "@jupyter-widgets/controls",
            "_model_module_version": "1.5.0",
            "_model_name": "HTMLModel",
            "_view_count": null,
            "_view_module": "@jupyter-widgets/controls",
            "_view_module_version": "1.5.0",
            "_view_name": "HTMLView",
            "description": "",
            "description_tooltip": null,
            "layout": "IPY_MODEL_30856d8d522947198d9de3df1e70ecc1",
            "placeholder": "​",
            "style": "IPY_MODEL_2fd4559214554a63bbb85dfe03094d1c",
            "value": "Generating train split: 100%"
          }
        },
        "372b07f9875146e9863743679c2b83b2": {
          "model_module": "@jupyter-widgets/controls",
          "model_name": "FloatProgressModel",
          "model_module_version": "1.5.0",
          "state": {
            "_dom_classes": [],
            "_model_module": "@jupyter-widgets/controls",
            "_model_module_version": "1.5.0",
            "_model_name": "FloatProgressModel",
            "_view_count": null,
            "_view_module": "@jupyter-widgets/controls",
            "_view_module_version": "1.5.0",
            "_view_name": "ProgressView",
            "bar_style": "success",
            "description": "",
            "description_tooltip": null,
            "layout": "IPY_MODEL_48940b4b90d64496bfc477cdb155d84d",
            "max": 3600000,
            "min": 0,
            "orientation": "horizontal",
            "style": "IPY_MODEL_e0a05e923cf84c9091de0a4759e0f476",
            "value": 3600000
          }
        },
        "13d783b59fde481e9fc25d77efa7c799": {
          "model_module": "@jupyter-widgets/controls",
          "model_name": "HTMLModel",
          "model_module_version": "1.5.0",
          "state": {
            "_dom_classes": [],
            "_model_module": "@jupyter-widgets/controls",
            "_model_module_version": "1.5.0",
            "_model_name": "HTMLModel",
            "_view_count": null,
            "_view_module": "@jupyter-widgets/controls",
            "_view_module_version": "1.5.0",
            "_view_name": "HTMLView",
            "description": "",
            "description_tooltip": null,
            "layout": "IPY_MODEL_620eb7cdc16c4dbd9de18afbc1165a54",
            "placeholder": "​",
            "style": "IPY_MODEL_238ee18512f74b0eac545a9fe25d258f",
            "value": " 3600000/3600000 [00:13&lt;00:00, 414830.11 examples/s]"
          }
        },
        "f74d26d00d514f21bc0b0faf051236cf": {
          "model_module": "@jupyter-widgets/base",
          "model_name": "LayoutModel",
          "model_module_version": "1.2.0",
          "state": {
            "_model_module": "@jupyter-widgets/base",
            "_model_module_version": "1.2.0",
            "_model_name": "LayoutModel",
            "_view_count": null,
            "_view_module": "@jupyter-widgets/base",
            "_view_module_version": "1.2.0",
            "_view_name": "LayoutView",
            "align_content": null,
            "align_items": null,
            "align_self": null,
            "border": null,
            "bottom": null,
            "display": null,
            "flex": null,
            "flex_flow": null,
            "grid_area": null,
            "grid_auto_columns": null,
            "grid_auto_flow": null,
            "grid_auto_rows": null,
            "grid_column": null,
            "grid_gap": null,
            "grid_row": null,
            "grid_template_areas": null,
            "grid_template_columns": null,
            "grid_template_rows": null,
            "height": null,
            "justify_content": null,
            "justify_items": null,
            "left": null,
            "margin": null,
            "max_height": null,
            "max_width": null,
            "min_height": null,
            "min_width": null,
            "object_fit": null,
            "object_position": null,
            "order": null,
            "overflow": null,
            "overflow_x": null,
            "overflow_y": null,
            "padding": null,
            "right": null,
            "top": null,
            "visibility": null,
            "width": null
          }
        },
        "30856d8d522947198d9de3df1e70ecc1": {
          "model_module": "@jupyter-widgets/base",
          "model_name": "LayoutModel",
          "model_module_version": "1.2.0",
          "state": {
            "_model_module": "@jupyter-widgets/base",
            "_model_module_version": "1.2.0",
            "_model_name": "LayoutModel",
            "_view_count": null,
            "_view_module": "@jupyter-widgets/base",
            "_view_module_version": "1.2.0",
            "_view_name": "LayoutView",
            "align_content": null,
            "align_items": null,
            "align_self": null,
            "border": null,
            "bottom": null,
            "display": null,
            "flex": null,
            "flex_flow": null,
            "grid_area": null,
            "grid_auto_columns": null,
            "grid_auto_flow": null,
            "grid_auto_rows": null,
            "grid_column": null,
            "grid_gap": null,
            "grid_row": null,
            "grid_template_areas": null,
            "grid_template_columns": null,
            "grid_template_rows": null,
            "height": null,
            "justify_content": null,
            "justify_items": null,
            "left": null,
            "margin": null,
            "max_height": null,
            "max_width": null,
            "min_height": null,
            "min_width": null,
            "object_fit": null,
            "object_position": null,
            "order": null,
            "overflow": null,
            "overflow_x": null,
            "overflow_y": null,
            "padding": null,
            "right": null,
            "top": null,
            "visibility": null,
            "width": null
          }
        },
        "2fd4559214554a63bbb85dfe03094d1c": {
          "model_module": "@jupyter-widgets/controls",
          "model_name": "DescriptionStyleModel",
          "model_module_version": "1.5.0",
          "state": {
            "_model_module": "@jupyter-widgets/controls",
            "_model_module_version": "1.5.0",
            "_model_name": "DescriptionStyleModel",
            "_view_count": null,
            "_view_module": "@jupyter-widgets/base",
            "_view_module_version": "1.2.0",
            "_view_name": "StyleView",
            "description_width": ""
          }
        },
        "48940b4b90d64496bfc477cdb155d84d": {
          "model_module": "@jupyter-widgets/base",
          "model_name": "LayoutModel",
          "model_module_version": "1.2.0",
          "state": {
            "_model_module": "@jupyter-widgets/base",
            "_model_module_version": "1.2.0",
            "_model_name": "LayoutModel",
            "_view_count": null,
            "_view_module": "@jupyter-widgets/base",
            "_view_module_version": "1.2.0",
            "_view_name": "LayoutView",
            "align_content": null,
            "align_items": null,
            "align_self": null,
            "border": null,
            "bottom": null,
            "display": null,
            "flex": null,
            "flex_flow": null,
            "grid_area": null,
            "grid_auto_columns": null,
            "grid_auto_flow": null,
            "grid_auto_rows": null,
            "grid_column": null,
            "grid_gap": null,
            "grid_row": null,
            "grid_template_areas": null,
            "grid_template_columns": null,
            "grid_template_rows": null,
            "height": null,
            "justify_content": null,
            "justify_items": null,
            "left": null,
            "margin": null,
            "max_height": null,
            "max_width": null,
            "min_height": null,
            "min_width": null,
            "object_fit": null,
            "object_position": null,
            "order": null,
            "overflow": null,
            "overflow_x": null,
            "overflow_y": null,
            "padding": null,
            "right": null,
            "top": null,
            "visibility": null,
            "width": null
          }
        },
        "e0a05e923cf84c9091de0a4759e0f476": {
          "model_module": "@jupyter-widgets/controls",
          "model_name": "ProgressStyleModel",
          "model_module_version": "1.5.0",
          "state": {
            "_model_module": "@jupyter-widgets/controls",
            "_model_module_version": "1.5.0",
            "_model_name": "ProgressStyleModel",
            "_view_count": null,
            "_view_module": "@jupyter-widgets/base",
            "_view_module_version": "1.2.0",
            "_view_name": "StyleView",
            "bar_color": null,
            "description_width": ""
          }
        },
        "620eb7cdc16c4dbd9de18afbc1165a54": {
          "model_module": "@jupyter-widgets/base",
          "model_name": "LayoutModel",
          "model_module_version": "1.2.0",
          "state": {
            "_model_module": "@jupyter-widgets/base",
            "_model_module_version": "1.2.0",
            "_model_name": "LayoutModel",
            "_view_count": null,
            "_view_module": "@jupyter-widgets/base",
            "_view_module_version": "1.2.0",
            "_view_name": "LayoutView",
            "align_content": null,
            "align_items": null,
            "align_self": null,
            "border": null,
            "bottom": null,
            "display": null,
            "flex": null,
            "flex_flow": null,
            "grid_area": null,
            "grid_auto_columns": null,
            "grid_auto_flow": null,
            "grid_auto_rows": null,
            "grid_column": null,
            "grid_gap": null,
            "grid_row": null,
            "grid_template_areas": null,
            "grid_template_columns": null,
            "grid_template_rows": null,
            "height": null,
            "justify_content": null,
            "justify_items": null,
            "left": null,
            "margin": null,
            "max_height": null,
            "max_width": null,
            "min_height": null,
            "min_width": null,
            "object_fit": null,
            "object_position": null,
            "order": null,
            "overflow": null,
            "overflow_x": null,
            "overflow_y": null,
            "padding": null,
            "right": null,
            "top": null,
            "visibility": null,
            "width": null
          }
        },
        "238ee18512f74b0eac545a9fe25d258f": {
          "model_module": "@jupyter-widgets/controls",
          "model_name": "DescriptionStyleModel",
          "model_module_version": "1.5.0",
          "state": {
            "_model_module": "@jupyter-widgets/controls",
            "_model_module_version": "1.5.0",
            "_model_name": "DescriptionStyleModel",
            "_view_count": null,
            "_view_module": "@jupyter-widgets/base",
            "_view_module_version": "1.2.0",
            "_view_name": "StyleView",
            "description_width": ""
          }
        },
        "2a42b1af997e4e408fd614415ac11d3e": {
          "model_module": "@jupyter-widgets/controls",
          "model_name": "HBoxModel",
          "model_module_version": "1.5.0",
          "state": {
            "_dom_classes": [],
            "_model_module": "@jupyter-widgets/controls",
            "_model_module_version": "1.5.0",
            "_model_name": "HBoxModel",
            "_view_count": null,
            "_view_module": "@jupyter-widgets/controls",
            "_view_module_version": "1.5.0",
            "_view_name": "HBoxView",
            "box_style": "",
            "children": [
              "IPY_MODEL_3ceaf4c2d0eb4cde9595b3afabc2f998",
              "IPY_MODEL_d8900eda9dbb40d5bfec7e8e68a98a95",
              "IPY_MODEL_287cbc6edfa5467f944cfb2f753fc835"
            ],
            "layout": "IPY_MODEL_66015a11ed114db183bff5e89dac6216"
          }
        },
        "3ceaf4c2d0eb4cde9595b3afabc2f998": {
          "model_module": "@jupyter-widgets/controls",
          "model_name": "HTMLModel",
          "model_module_version": "1.5.0",
          "state": {
            "_dom_classes": [],
            "_model_module": "@jupyter-widgets/controls",
            "_model_module_version": "1.5.0",
            "_model_name": "HTMLModel",
            "_view_count": null,
            "_view_module": "@jupyter-widgets/controls",
            "_view_module_version": "1.5.0",
            "_view_name": "HTMLView",
            "description": "",
            "description_tooltip": null,
            "layout": "IPY_MODEL_f1b769bdb18044dc970eee729a096576",
            "placeholder": "​",
            "style": "IPY_MODEL_c7cffab296cc491f9c906780b60445e3",
            "value": "Generating test split: 100%"
          }
        },
        "d8900eda9dbb40d5bfec7e8e68a98a95": {
          "model_module": "@jupyter-widgets/controls",
          "model_name": "FloatProgressModel",
          "model_module_version": "1.5.0",
          "state": {
            "_dom_classes": [],
            "_model_module": "@jupyter-widgets/controls",
            "_model_module_version": "1.5.0",
            "_model_name": "FloatProgressModel",
            "_view_count": null,
            "_view_module": "@jupyter-widgets/controls",
            "_view_module_version": "1.5.0",
            "_view_name": "ProgressView",
            "bar_style": "success",
            "description": "",
            "description_tooltip": null,
            "layout": "IPY_MODEL_ff0d813d5330430b8f809c77f5726df1",
            "max": 400000,
            "min": 0,
            "orientation": "horizontal",
            "style": "IPY_MODEL_fa15ca429aae479d8f891955c04eec7d",
            "value": 400000
          }
        },
        "287cbc6edfa5467f944cfb2f753fc835": {
          "model_module": "@jupyter-widgets/controls",
          "model_name": "HTMLModel",
          "model_module_version": "1.5.0",
          "state": {
            "_dom_classes": [],
            "_model_module": "@jupyter-widgets/controls",
            "_model_module_version": "1.5.0",
            "_model_name": "HTMLModel",
            "_view_count": null,
            "_view_module": "@jupyter-widgets/controls",
            "_view_module_version": "1.5.0",
            "_view_name": "HTMLView",
            "description": "",
            "description_tooltip": null,
            "layout": "IPY_MODEL_765b0339f1c3475db0e5217c7f761ec5",
            "placeholder": "​",
            "style": "IPY_MODEL_7b1063dc8f2d42d18af8ccf47ec371f2",
            "value": " 400000/400000 [00:00&lt;00:00, 425542.39 examples/s]"
          }
        },
        "66015a11ed114db183bff5e89dac6216": {
          "model_module": "@jupyter-widgets/base",
          "model_name": "LayoutModel",
          "model_module_version": "1.2.0",
          "state": {
            "_model_module": "@jupyter-widgets/base",
            "_model_module_version": "1.2.0",
            "_model_name": "LayoutModel",
            "_view_count": null,
            "_view_module": "@jupyter-widgets/base",
            "_view_module_version": "1.2.0",
            "_view_name": "LayoutView",
            "align_content": null,
            "align_items": null,
            "align_self": null,
            "border": null,
            "bottom": null,
            "display": null,
            "flex": null,
            "flex_flow": null,
            "grid_area": null,
            "grid_auto_columns": null,
            "grid_auto_flow": null,
            "grid_auto_rows": null,
            "grid_column": null,
            "grid_gap": null,
            "grid_row": null,
            "grid_template_areas": null,
            "grid_template_columns": null,
            "grid_template_rows": null,
            "height": null,
            "justify_content": null,
            "justify_items": null,
            "left": null,
            "margin": null,
            "max_height": null,
            "max_width": null,
            "min_height": null,
            "min_width": null,
            "object_fit": null,
            "object_position": null,
            "order": null,
            "overflow": null,
            "overflow_x": null,
            "overflow_y": null,
            "padding": null,
            "right": null,
            "top": null,
            "visibility": null,
            "width": null
          }
        },
        "f1b769bdb18044dc970eee729a096576": {
          "model_module": "@jupyter-widgets/base",
          "model_name": "LayoutModel",
          "model_module_version": "1.2.0",
          "state": {
            "_model_module": "@jupyter-widgets/base",
            "_model_module_version": "1.2.0",
            "_model_name": "LayoutModel",
            "_view_count": null,
            "_view_module": "@jupyter-widgets/base",
            "_view_module_version": "1.2.0",
            "_view_name": "LayoutView",
            "align_content": null,
            "align_items": null,
            "align_self": null,
            "border": null,
            "bottom": null,
            "display": null,
            "flex": null,
            "flex_flow": null,
            "grid_area": null,
            "grid_auto_columns": null,
            "grid_auto_flow": null,
            "grid_auto_rows": null,
            "grid_column": null,
            "grid_gap": null,
            "grid_row": null,
            "grid_template_areas": null,
            "grid_template_columns": null,
            "grid_template_rows": null,
            "height": null,
            "justify_content": null,
            "justify_items": null,
            "left": null,
            "margin": null,
            "max_height": null,
            "max_width": null,
            "min_height": null,
            "min_width": null,
            "object_fit": null,
            "object_position": null,
            "order": null,
            "overflow": null,
            "overflow_x": null,
            "overflow_y": null,
            "padding": null,
            "right": null,
            "top": null,
            "visibility": null,
            "width": null
          }
        },
        "c7cffab296cc491f9c906780b60445e3": {
          "model_module": "@jupyter-widgets/controls",
          "model_name": "DescriptionStyleModel",
          "model_module_version": "1.5.0",
          "state": {
            "_model_module": "@jupyter-widgets/controls",
            "_model_module_version": "1.5.0",
            "_model_name": "DescriptionStyleModel",
            "_view_count": null,
            "_view_module": "@jupyter-widgets/base",
            "_view_module_version": "1.2.0",
            "_view_name": "StyleView",
            "description_width": ""
          }
        },
        "ff0d813d5330430b8f809c77f5726df1": {
          "model_module": "@jupyter-widgets/base",
          "model_name": "LayoutModel",
          "model_module_version": "1.2.0",
          "state": {
            "_model_module": "@jupyter-widgets/base",
            "_model_module_version": "1.2.0",
            "_model_name": "LayoutModel",
            "_view_count": null,
            "_view_module": "@jupyter-widgets/base",
            "_view_module_version": "1.2.0",
            "_view_name": "LayoutView",
            "align_content": null,
            "align_items": null,
            "align_self": null,
            "border": null,
            "bottom": null,
            "display": null,
            "flex": null,
            "flex_flow": null,
            "grid_area": null,
            "grid_auto_columns": null,
            "grid_auto_flow": null,
            "grid_auto_rows": null,
            "grid_column": null,
            "grid_gap": null,
            "grid_row": null,
            "grid_template_areas": null,
            "grid_template_columns": null,
            "grid_template_rows": null,
            "height": null,
            "justify_content": null,
            "justify_items": null,
            "left": null,
            "margin": null,
            "max_height": null,
            "max_width": null,
            "min_height": null,
            "min_width": null,
            "object_fit": null,
            "object_position": null,
            "order": null,
            "overflow": null,
            "overflow_x": null,
            "overflow_y": null,
            "padding": null,
            "right": null,
            "top": null,
            "visibility": null,
            "width": null
          }
        },
        "fa15ca429aae479d8f891955c04eec7d": {
          "model_module": "@jupyter-widgets/controls",
          "model_name": "ProgressStyleModel",
          "model_module_version": "1.5.0",
          "state": {
            "_model_module": "@jupyter-widgets/controls",
            "_model_module_version": "1.5.0",
            "_model_name": "ProgressStyleModel",
            "_view_count": null,
            "_view_module": "@jupyter-widgets/base",
            "_view_module_version": "1.2.0",
            "_view_name": "StyleView",
            "bar_color": null,
            "description_width": ""
          }
        },
        "765b0339f1c3475db0e5217c7f761ec5": {
          "model_module": "@jupyter-widgets/base",
          "model_name": "LayoutModel",
          "model_module_version": "1.2.0",
          "state": {
            "_model_module": "@jupyter-widgets/base",
            "_model_module_version": "1.2.0",
            "_model_name": "LayoutModel",
            "_view_count": null,
            "_view_module": "@jupyter-widgets/base",
            "_view_module_version": "1.2.0",
            "_view_name": "LayoutView",
            "align_content": null,
            "align_items": null,
            "align_self": null,
            "border": null,
            "bottom": null,
            "display": null,
            "flex": null,
            "flex_flow": null,
            "grid_area": null,
            "grid_auto_columns": null,
            "grid_auto_flow": null,
            "grid_auto_rows": null,
            "grid_column": null,
            "grid_gap": null,
            "grid_row": null,
            "grid_template_areas": null,
            "grid_template_columns": null,
            "grid_template_rows": null,
            "height": null,
            "justify_content": null,
            "justify_items": null,
            "left": null,
            "margin": null,
            "max_height": null,
            "max_width": null,
            "min_height": null,
            "min_width": null,
            "object_fit": null,
            "object_position": null,
            "order": null,
            "overflow": null,
            "overflow_x": null,
            "overflow_y": null,
            "padding": null,
            "right": null,
            "top": null,
            "visibility": null,
            "width": null
          }
        },
        "7b1063dc8f2d42d18af8ccf47ec371f2": {
          "model_module": "@jupyter-widgets/controls",
          "model_name": "DescriptionStyleModel",
          "model_module_version": "1.5.0",
          "state": {
            "_model_module": "@jupyter-widgets/controls",
            "_model_module_version": "1.5.0",
            "_model_name": "DescriptionStyleModel",
            "_view_count": null,
            "_view_module": "@jupyter-widgets/base",
            "_view_module_version": "1.2.0",
            "_view_name": "StyleView",
            "description_width": ""
          }
        }
      }
    }
  },
  "nbformat": 4,
  "nbformat_minor": 0
}