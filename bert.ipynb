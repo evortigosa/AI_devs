{
  "cells": [
    {
      "cell_type": "markdown",
      "metadata": {
        "id": "ASiPzmfQ5YYs"
      },
      "source": [
        "# Bidirectional Encoder Representations from Transformers (BERT)"
      ]
    },
    {
      "cell_type": "markdown",
      "source": [
        "While BERT is similar to models like GPT, the focus of BERT is to understand text rather than generate it. This is useful in a variety of tasks like ranking how positive a review of a product is, or predicting if an answer to a question is correct.\n",
        "\n",
        "Transformers general idea: the encoder summarizes an input into an abstract and meaning rich representation, and the decoder generates text.\n",
        "\n",
        "The point of an \"encoder only\" transformer like BERT is to summarize some input sequence into an abstract, dense, and meaning rich representation."
      ],
      "metadata": {
        "id": "Ntb2Rh3l8C0a"
      }
    },
    {
      "cell_type": "code",
      "execution_count": null,
      "metadata": {
        "id": "E1PBzbmw43zA"
      },
      "outputs": [],
      "source": [
        "import numpy as np\n",
        "import pandas as pd\n",
        "import matplotlib.pyplot as plt\n",
        "\n",
        "!pip install datasets\n",
        "!pip install nltk\n",
        "\n",
        "from datasets import load_dataset\n",
        "import nltk"
      ]
    },
    {
      "cell_type": "code",
      "execution_count": 2,
      "metadata": {
        "colab": {
          "base_uri": "https://localhost:8080/",
          "height": 133,
          "referenced_widgets": [
            "064ef1713432409db494bb9437d2096c",
            "cd5b8ba7e16f42cbb1ba95265fd80e7c",
            "3e649daa12354723811117d7c4120cc9",
            "d037015dbbea42209479885379d5c4f1",
            "874fb36326a94b119eda7894aa1ecddf",
            "4847d23f074042f29b865d3491f161dc",
            "32ac17081bf64a4599c0fb9b7b52377e",
            "b22aaedb1b724bd29c673f137759e5c2",
            "9ba26c72688f43d4bec7f9ba4bae8ebc",
            "5efe2e287d884321bb2ad8bb6d402bb0",
            "03b401cb036641d49e3ea238986a5870",
            "2f1396f5c1154dd38d0634e2a43ab9df",
            "3cc3ecc84d4742d5906bec06b69dbda9",
            "a8f275dc59344645875306fdadc71c13",
            "1048ff09e943425f850a9c8823e654eb",
            "94f243930ab441a099518bd6a7004f6d",
            "2974c6b0a225414080d8f039bc0b572e",
            "327f4f38cd30451e87c4cc7d4f9ef06d",
            "a06f91c9a3504900b7ff066526675845",
            "94913d8e150741909e32805af7732ec0",
            "be98726fba8a4ef5a6e1699df1468d03",
            "8df0002797b7417b840271c263f44516"
          ]
        },
        "id": "wtX94IBS49s1",
        "outputId": "d105ceff-b1cf-42f9-f8dc-c6c7f151503c"
      },
      "outputs": [
        {
          "output_type": "display_data",
          "data": {
            "text/plain": [
              "wikipedia.py:   0%|          | 0.00/36.7k [00:00<?, ?B/s]"
            ],
            "application/vnd.jupyter.widget-view+json": {
              "version_major": 2,
              "version_minor": 0,
              "model_id": "064ef1713432409db494bb9437d2096c"
            }
          },
          "metadata": {}
        },
        {
          "output_type": "display_data",
          "data": {
            "text/plain": [
              "README.md:   0%|          | 0.00/16.0k [00:00<?, ?B/s]"
            ],
            "application/vnd.jupyter.widget-view+json": {
              "version_major": 2,
              "version_minor": 0,
              "model_id": "2f1396f5c1154dd38d0634e2a43ab9df"
            }
          },
          "metadata": {}
        },
        {
          "output_type": "stream",
          "name": "stderr",
          "text": [
            "[nltk_data] Downloading package punkt to /root/nltk_data...\n",
            "[nltk_data]   Unzipping tokenizers/punkt.zip.\n"
          ]
        },
        {
          "output_type": "execute_result",
          "data": {
            "text/plain": [
              "True"
            ]
          },
          "metadata": {},
          "execution_count": 2
        }
      ],
      "source": [
        "# the dataset is big, to make things easier we are going to be streaming a subset\n",
        "dataset= load_dataset('wikipedia', '20220301.en', trust_remote_code= True, streaming=True)\n",
        "\n",
        "# a sentence tokenizer we will be using to extract sentences from articles\n",
        "nltk.download('punkt')"
      ]
    },
    {
      "cell_type": "code",
      "execution_count": 3,
      "metadata": {
        "id": "G7_KjRAJ49xa"
      },
      "outputs": [],
      "source": [
        "# breaking wikipedia articles into sentences and paragraphs\n",
        "\n",
        "import itertools\n",
        "\n",
        "num_articles= 10000\n",
        "\n",
        "# geting n articles\n",
        "dataset_iter= iter(dataset['train'])\n",
        "articles= list(itertools.islice(dataset_iter, num_articles))\n",
        "\n",
        "# getting paragraphs\n",
        "paragraphs= []\n",
        "for article in articles:\n",
        "    paragraphs.extend(article['text'].splitlines())\n",
        "\n",
        "# filtering paragraphs so they are hopefully actually paragraphs\n",
        "paragraphs= [p for p in paragraphs if len(p)>50]\n",
        "\n",
        "# dividing paragraphs into sentences\n",
        "divided_paragraphs= []\n",
        "for p in paragraphs:\n",
        "    divided_paragraphs.append(nltk.sent_tokenize(p))\n",
        "\n",
        "# only using paragraphs with 3 or more sentences\n",
        "divided_paragraphs= [pls for pls in divided_paragraphs if len(pls)>=3]"
      ]
    },
    {
      "cell_type": "code",
      "execution_count": 4,
      "metadata": {
        "id": "RGTo4zc6491b"
      },
      "outputs": [],
      "source": [
        "# using the paragraph data to construct paris of following sentences and pairs\n",
        "# of random sentences\n",
        "\n",
        "import random\n",
        "\n",
        "positive_pairs= []\n",
        "negative_pairs= []\n",
        "\n",
        "num_paragraphs= len(divided_paragraphs)\n",
        "\n",
        "for i, paragraph in enumerate(divided_paragraphs):\n",
        "    for j in range(len(paragraph)-1):\n",
        "        positive_pairs.append((paragraph[j], paragraph[j+1]))\n",
        "        rand_par= i\n",
        "\n",
        "        # avoiding to take a sentence from the same paragraph\n",
        "        while rand_par == i:\n",
        "            rand_par= random.randint(0, num_paragraphs-1)\n",
        "\n",
        "        rand_sent= random.randint(0, len(divided_paragraphs[rand_par])-1)\n",
        "        negative_pairs.append((paragraph[j], divided_paragraphs[rand_par][rand_sent]))"
      ]
    },
    {
      "cell_type": "markdown",
      "metadata": {
        "id": "BVOVwzaWanJG"
      },
      "source": [
        "# Tokenization"
      ]
    },
    {
      "cell_type": "markdown",
      "source": [
        "In order to feed data into our model we need to somehow turn our sentences into vectors. We can use that to break up text into individual tokens."
      ],
      "metadata": {
        "id": "8-fKBfQZAHjJ"
      }
    },
    {
      "cell_type": "code",
      "execution_count": 5,
      "metadata": {
        "colab": {
          "base_uri": "https://localhost:8080/",
          "height": 301,
          "referenced_widgets": [
            "4fcbc2c9c98c49d8b4fe4eb80f8f53ed",
            "acd8d088f11d498780c458b993bd3bf0",
            "c5a3f993863f4e2e93bb2e219a657e4f",
            "0dbbbe35ff164349a505aee69f11f2da",
            "a39ad19077684f6b959eb2c582f61e6a",
            "4aab6de0c775492b86678c9368b93b15",
            "f292d7c6373a4508a298275229988dc0",
            "9506a05ebcc641639cd8a06de00ff105",
            "b2d60ca6fb0040e0901ac3f2026b0f41",
            "648149a98f1d4757af672736d4dcf9e9",
            "8d264ca32f6b4ee5bb2419575b10d2ee",
            "bbb4fb06e1e84bf9a5ca04bca9fa416e",
            "7b8db7be73f9465ebeab12025b282dc5",
            "63e7c5ed83694faaa7532c46ccbf62d7",
            "5c34fc30e55f401e959000c95710a75c",
            "dead459a84ed45528e59e2b50698ecee",
            "eadfdcedeb354c0b854da21eff367f30",
            "873ef9fabbc14e75a3e5f15a84a1c42d",
            "7b71e8bfbe414c68a4982f1e7509330c",
            "3c7b2e4225d74d63b0adb611a75e3fdb",
            "5cdd0cfb9989465c9f1b50bdf95b1ea1",
            "a5fc9a8190e143dead2c6d3c1e8263eb",
            "0fabe295d5a0465e930bd608d6264a9f",
            "5ef2395b07374b058f0927708753eed5",
            "47b6685e223342569c1a6201271d23c6",
            "5ee699e6578a45ca985838b0d195ac99",
            "3e12887ad46c44fda002450fc2a3f2d6",
            "7a6c3e6b2253450fbb2655d7ceb2eaa5",
            "6c37078e51a54542b252349fb1942ee1",
            "da10cd711eac44fd9fa2995144701fed",
            "7da1e4e5250149afbff2d2a0e8ab9ec3",
            "7f328b8f586c44149a5788f0b9329c45",
            "b3f307cb8ae842c3844982cb3ecae4ae",
            "626409f12c9042b89d36345f22a00683",
            "5365d27401ad4708be8c0ad25f502d55",
            "506fa4112c684883a937399cb185a6dc",
            "bb9ea0d13a0445eeb92a728dc0aa40f1",
            "42f254a364e740769ee9b720016d42f5",
            "a579eb09a4db488a9fb6dfb500652bfc",
            "545931d81bc84410aa4175672beda09d",
            "22fb1624f694475eb8691d5873169ca4",
            "ccfb4e4aed9d48239d0d63dd522b2e8f",
            "4fae1e645db7425797f0cb1218f88017",
            "f44b2df726f1405e85554fc0f5bfa0a3",
            "392cb22bd34d445ab36ff74cde171a62",
            "b8f99d778d11405d968ccdb3cbe53bc2",
            "2a04d8c3f62f41f1822010ade0587f08",
            "7896146d3b4e425797b0f28d0b48402d",
            "8188c42b75b543c7aa38a471e7e0dc03",
            "23ab73c296cf497a96632de8a3d1bcfa",
            "e19954680cae4b5ab02321732f6fa63c",
            "c112b9ec5f6f42bb9ae4b90938120146",
            "70c94925073a4740a26e1d5afe2fd82b",
            "c68a5471db4e454ea945b9ae810c3d1a",
            "0865da581aec465587be6181daab20b5"
          ]
        },
        "id": "mpAamuRi494y",
        "outputId": "9fef0670-a0c5-4224-bc81-40a7e55b7cfe"
      },
      "outputs": [
        {
          "output_type": "stream",
          "name": "stderr",
          "text": [
            "The cache for model files in Transformers v4.22.0 has been updated. Migrating your old cache. This is a one-time only operation. You can interrupt this and resume the migration later on by calling `transformers.utils.move_cache()`.\n"
          ]
        },
        {
          "output_type": "display_data",
          "data": {
            "text/plain": [
              "0it [00:00, ?it/s]"
            ],
            "application/vnd.jupyter.widget-view+json": {
              "version_major": 2,
              "version_minor": 0,
              "model_id": "4fcbc2c9c98c49d8b4fe4eb80f8f53ed"
            }
          },
          "metadata": {}
        },
        {
          "output_type": "display_data",
          "data": {
            "text/plain": [
              "tokenizer_config.json:   0%|          | 0.00/48.0 [00:00<?, ?B/s]"
            ],
            "application/vnd.jupyter.widget-view+json": {
              "version_major": 2,
              "version_minor": 0,
              "model_id": "bbb4fb06e1e84bf9a5ca04bca9fa416e"
            }
          },
          "metadata": {}
        },
        {
          "output_type": "display_data",
          "data": {
            "text/plain": [
              "vocab.txt:   0%|          | 0.00/232k [00:00<?, ?B/s]"
            ],
            "application/vnd.jupyter.widget-view+json": {
              "version_major": 2,
              "version_minor": 0,
              "model_id": "0fabe295d5a0465e930bd608d6264a9f"
            }
          },
          "metadata": {}
        },
        {
          "output_type": "display_data",
          "data": {
            "text/plain": [
              "tokenizer.json:   0%|          | 0.00/466k [00:00<?, ?B/s]"
            ],
            "application/vnd.jupyter.widget-view+json": {
              "version_major": 2,
              "version_minor": 0,
              "model_id": "626409f12c9042b89d36345f22a00683"
            }
          },
          "metadata": {}
        },
        {
          "output_type": "display_data",
          "data": {
            "text/plain": [
              "config.json:   0%|          | 0.00/570 [00:00<?, ?B/s]"
            ],
            "application/vnd.jupyter.widget-view+json": {
              "version_major": 2,
              "version_minor": 0,
              "model_id": "392cb22bd34d445ab36ff74cde171a62"
            }
          },
          "metadata": {}
        },
        {
          "output_type": "stream",
          "name": "stdout",
          "text": [
            "Original sentence: \"Here's a weird word: Withoutadoubticus.\"\n",
            "Token IDs: [[101, 2182, 1005, 1055, 1037, 6881, 2773, 1024, 2302, 9365, 12083, 29587, 1012, 102]]\n",
            "Token values: ['[CLS]', 'here', \"'\", 's', 'a', 'weird', 'word', ':', 'without', '##ado', '##ub', '##ticus', '.', '[SEP]']\n"
          ]
        },
        {
          "output_type": "stream",
          "name": "stderr",
          "text": [
            "/usr/local/lib/python3.10/dist-packages/transformers/tokenization_utils_base.py:1601: FutureWarning: `clean_up_tokenization_spaces` was not set. It will be set to `True` by default. This behavior will be depracted in transformers v4.45, and will be then set to `False` by default. For more details check this issue: https://github.com/huggingface/transformers/issues/31884\n",
            "  warnings.warn(\n"
          ]
        }
      ],
      "source": [
        "from transformers.models.bert.tokenization_bert_fast import BertTokenizerFast\n",
        "\n",
        "tokenizer= BertTokenizerFast.from_pretrained('google-bert/bert-base-uncased')\n",
        "\n",
        "# playing arround with tokenizer\n",
        "sentence= \"Here's a weird word: Withoutadoubticus.\"\n",
        "print(f'Original sentence: \"{sentence}\"')\n",
        "\n",
        "demo_tokens= tokenizer([sentence])\n",
        "print(f\"Token IDs: {demo_tokens['input_ids']}\")\n",
        "\n",
        "tokens= tokenizer.convert_ids_to_tokens(demo_tokens['input_ids'][0])\n",
        "print(f'Token values: {tokens}')"
      ]
    },
    {
      "cell_type": "markdown",
      "source": [
        "The tokenizer broke our sentence up into individual components which may have included dividing individual words into more than one component. This is called sub-word tokenization, meaning the tokenizer has both words and word components in its vocabulary. This is important because it allows the tokenizer to express complicated words as a series of tokens."
      ],
      "metadata": {
        "id": "xiLthTXhARr7"
      }
    },
    {
      "cell_type": "code",
      "execution_count": 6,
      "metadata": {
        "colab": {
          "base_uri": "https://localhost:8080/"
        },
        "id": "LkUi2ffn497x",
        "outputId": "1f701aca-1402-44de-8299-de3b71ab57c3"
      },
      "outputs": [
        {
          "output_type": "execute_result",
          "data": {
            "text/plain": [
              "BertTokenizerFast(name_or_path='google-bert/bert-base-uncased', vocab_size=30522, model_max_length=512, is_fast=True, padding_side='right', truncation_side='right', special_tokens={'unk_token': '[UNK]', 'sep_token': '[SEP]', 'pad_token': '[PAD]', 'cls_token': '[CLS]', 'mask_token': '[MASK]'}, clean_up_tokenization_spaces=True),  added_tokens_decoder={\n",
              "\t0: AddedToken(\"[PAD]\", rstrip=False, lstrip=False, single_word=False, normalized=False, special=True),\n",
              "\t100: AddedToken(\"[UNK]\", rstrip=False, lstrip=False, single_word=False, normalized=False, special=True),\n",
              "\t101: AddedToken(\"[CLS]\", rstrip=False, lstrip=False, single_word=False, normalized=False, special=True),\n",
              "\t102: AddedToken(\"[SEP]\", rstrip=False, lstrip=False, single_word=False, normalized=False, special=True),\n",
              "\t103: AddedToken(\"[MASK]\", rstrip=False, lstrip=False, single_word=False, normalized=False, special=True),\n",
              "}"
            ]
          },
          "metadata": {},
          "execution_count": 6
        }
      ],
      "source": [
        "# special tokens\n",
        "tokenizer"
      ]
    },
    {
      "cell_type": "markdown",
      "metadata": {
        "id": "uzu8wf_-d5Pl"
      },
      "source": [
        "# Defining Training Batches"
      ]
    },
    {
      "cell_type": "markdown",
      "source": [
        "Each batch will contain 128 individual sentence pair examples, 64 of which are positive pairs and 64 of which are negative pairs. To keep our model fairly small, to speed up training, we'll make the context window for our model equal to 64 tokens. So, at the end of this process, we'll get a tensor which is [number_of_batches x 128(batch_size) x 64(sequence_length)]"
      ],
      "metadata": {
        "id": "cPV03tUA8S8J"
      }
    },
    {
      "cell_type": "code",
      "execution_count": 7,
      "metadata": {
        "colab": {
          "base_uri": "https://localhost:8080/"
        },
        "id": "PJgTKfV349_D",
        "outputId": "5543152d-7019-4138-c38d-b24d3d5f54ff"
      },
      "outputs": [
        {
          "output_type": "stream",
          "name": "stderr",
          "text": [
            "100%|██████████| 7311/7311 [05:00<00:00, 24.33it/s]\n"
          ]
        }
      ],
      "source": [
        "from tqdm import tqdm\n",
        "import torch\n",
        "from multiprocessing import Pool, cpu_count\n",
        "\n",
        "# defining the device the data ends up living\n",
        "device= torch.device('cuda' if torch.cuda.is_available() else 'cpu')\n",
        "\n",
        "# number of examples in the batch\n",
        "batch_size= 128 # should be divisible by 2\n",
        "# sequence length of model\n",
        "max_input_length= 64\n",
        "\n",
        "\n",
        "# defining parallelizable function for processing batches\n",
        "def process_batch(batch_index):\n",
        "\n",
        "    # establishing bounds of the batch\n",
        "    start_index= batch_index * batch_size\n",
        "    end_index= start_index + batch_size\n",
        "\n",
        "    if end_index > len(positive_pairs):\n",
        "        return None, None, None\n",
        "\n",
        "    # getting the sentence pairs of the batch, and if they are pos or neg\n",
        "    sentence_pairs= []\n",
        "    is_positives= []\n",
        "\n",
        "    # creating positive pairs\n",
        "    sentence_pairs.extend(positive_pairs[start_index:start_index+int(batch_size / 2)])\n",
        "    # positive labels\n",
        "    is_positives.extend([1] * int(batch_size / 2))\n",
        "\n",
        "    # creating negative pairs\n",
        "    sentence_pairs.extend(negative_pairs[start_index:start_index+int(batch_size / 2)])\n",
        "    # negative labels\n",
        "    is_positives.extend([0] * int(batch_size / 2))\n",
        "\n",
        "    # defining outputs\n",
        "    # at the end of the day we need to know three things:\n",
        "    #   - the tokens for the sequences in a batch\n",
        "    #   - which sentence the tokens belong to, for positional encoding\n",
        "    #   - if the examples in the batch are positive or negative\n",
        "    # these keep track of the first two\n",
        "    batch_sentence_location_tokens= []\n",
        "    batch_sequence_tokens= []\n",
        "\n",
        "    # tokenizing pairs\n",
        "    for sentence_pair in sentence_pairs:\n",
        "        sentence1= sentence_pair[0]\n",
        "        sentence2= sentence_pair[1]\n",
        "\n",
        "        # tokenizing both sentences\n",
        "        tokens= tokenizer([sentence1, sentence2])\n",
        "        sentence1_tokens= tokens['input_ids'][0]\n",
        "        sentence2_tokens= tokens['input_ids'][1]\n",
        "\n",
        "        # trimming down tokens\n",
        "        if len(sentence1_tokens) + len(sentence2_tokens) > max_input_length:\n",
        "            \"\"\"\n",
        "            If the sentences are too long I opted to preserve the end of the first sentence and the\n",
        "            beginning of the second sentence. This should still allow long inputs to be reasonably\n",
        "            interpretable by the model.\n",
        "            \"\"\"\n",
        "            sentence1_tokens= [101] + sentence1_tokens[-int(max_input_length / 2) + 1:]\n",
        "            sentence2_tokens= sentence2_tokens[:int(max_input_length / 2) - 1] + [102]\n",
        "\n",
        "        # creating sentence tokens - a vector which has zeros in the length of the first sentence,\n",
        "        # and ones for the length of the second sentence. We'll use this vector to help us with\n",
        "        # positional encoding when we go to build the model.\n",
        "        sentence_tokens= [0] * len(sentence1_tokens) + [1] * len(sentence2_tokens)\n",
        "\n",
        "        # combining and padding\n",
        "        pad_num= max_input_length - (len(sentence1_tokens) + len(sentence2_tokens))\n",
        "        sequence_tokens= sentence1_tokens + sentence2_tokens + [0]*pad_num\n",
        "        sentence_location_tokens= sentence_tokens + [1]*pad_num\n",
        "        \"\"\"\n",
        "        We combine our sentence tokens together, and if the combined length is less than the model\n",
        "        length we add a bunch of pad tokens. If we do add pad tokens, we say the pad tokens belong\n",
        "        to the second sentence for convenience sake.\n",
        "        \"\"\"\n",
        "\n",
        "        # adding to batch\n",
        "        batch_sequence_tokens.append(sequence_tokens)\n",
        "        batch_sentence_location_tokens.append(sentence_location_tokens)\n",
        "\n",
        "    return torch.tensor(batch_sentence_location_tokens), torch.tensor(batch_sequence_tokens), torch.tensor(is_positives)\n",
        "\n",
        "\n",
        "# determine the number of batches\n",
        "num_batches= len(positive_pairs) // batch_size\n",
        "\n",
        "# use a pool of workers equal to the number of CPU cores\n",
        "with Pool(processes=cpu_count()) as pool:\n",
        "    results= list(tqdm(pool.imap(process_batch, range(num_batches)), total=num_batches))\n",
        "\n",
        "# filter out None results from the process_batch function\n",
        "results= [result for result in results if result[0] is not None]\n",
        "\n",
        "# unpack results into batches\n",
        "sentence_location_batches, sequence_tokens_batches, is_positives_batches= zip(*results)\n",
        "\n",
        "# stack tensors into final batches\n",
        "sentence_location_batches= torch.stack(sentence_location_batches).to(device)\n",
        "sequence_tokens_batches= torch.stack(sequence_tokens_batches).to(device)\n",
        "is_positives_batches= torch.stack(is_positives_batches).to(device)"
      ]
    },
    {
      "cell_type": "code",
      "execution_count": 8,
      "metadata": {
        "colab": {
          "base_uri": "https://localhost:8080/"
        },
        "id": "soYwmzNE4-Cn",
        "outputId": "128f954f-f936-4263-c839-2779c3253ee6"
      },
      "outputs": [
        {
          "output_type": "execute_result",
          "data": {
            "text/plain": [
              "torch.Size([7311, 128, 64])"
            ]
          },
          "metadata": {},
          "execution_count": 8
        }
      ],
      "source": [
        "sentence_location_batches.shape"
      ]
    },
    {
      "cell_type": "markdown",
      "metadata": {
        "id": "VVuLan53Moov"
      },
      "source": [
        "# Creating a Masking Function"
      ]
    },
    {
      "cell_type": "markdown",
      "source": [
        "As we build our masking function we don't want to inadvertently mask out special tokens like [CLS], [SEP], and [PAD]. We only want to mask out tokens which correspond to the sentences themselves.\n",
        "\n",
        "After we train our model, the [MASK] token will never be seen when the model is actually being used and making inferences. If we only train our model on the [MASK] token, it might learn to disregard other words that might be important in understanding the sequence generally. So, when we decide a random token should be masked we usually replace it with the [MASK] token, but we also sometimes preserve the original token value, and sometimes replace the masked token with a\n",
        "completely random token.\n",
        "\n",
        "In the original BERT paper they decided to mask 15% of words within the input. Of that 15%, 80% are replaced with [MASK], while 10% are replaced with a random word and 10% are not replaced at all."
      ],
      "metadata": {
        "id": "0ZMsabm78qA9"
      }
    },
    {
      "cell_type": "code",
      "execution_count": 9,
      "metadata": {
        "colab": {
          "base_uri": "https://localhost:8080/"
        },
        "id": "ifa7PYAz4-Gv",
        "outputId": "06e066e8-e1e6-4b8a-c33c-86f9948a5466"
      },
      "outputs": [
        {
          "output_type": "execute_result",
          "data": {
            "text/plain": [
              "tensor([[  101,  9617, 11140,  ...,     0,     0,     0],\n",
              "        [  101,   101,  9617,  ...,     0,     0,     0],\n",
              "        [  101,  4286,  2973,  ...,     0,     0,     0],\n",
              "        ...,\n",
              "        [  101,  1037,  2146,  ...,     0,     0,     0],\n",
              "        [  101,  1999,   103,  ...,     0,     0,     0],\n",
              "        [  101,  2012,  1996,  ...,     0,     0,     0]], device='cuda:0')"
            ]
          },
          "metadata": {},
          "execution_count": 9
        }
      ],
      "source": [
        "# listing out vocab for random token masking\n",
        "vocab= tokenizer.get_vocab()\n",
        "valid_token_ids= list(vocab.values())\n",
        "\n",
        "def mask_batch(batch_tokens, clone=True):\n",
        "    if clone:\n",
        "        batch_tokens= torch.clone(batch_tokens)\n",
        "\n",
        "    # define the percentage of tokens to potentially mask\n",
        "    replace_percentage= 0.15\n",
        "\n",
        "    # define tokens that should not be replaced\n",
        "    excluded_tokens= {0, 100, 101, 102, 103}\n",
        "\n",
        "    # create a mask to identify tokens that are eligible for replacement\n",
        "    eligible_mask= ~torch.isin(batch_tokens, torch.tensor(list(excluded_tokens)).to(device))\n",
        "\n",
        "    # count the number of eligible tokens\n",
        "    num_eligible_tokens= eligible_mask.sum().item()\n",
        "\n",
        "    # calculate the number of tokens to potentially mask\n",
        "    num_tokens_to_mask= int(num_eligible_tokens * replace_percentage)\n",
        "\n",
        "    # create a random permutation of eligible token indices\n",
        "    eligible_indices= eligible_mask.nonzero(as_tuple=True)\n",
        "    random_indices= torch.randperm(num_eligible_tokens)[:num_tokens_to_mask]\n",
        "\n",
        "    # create a probability distribution for replacement\n",
        "    replacement_probs= torch.tensor([0.8, 0.1, 0.1]) # probs for [103, random token, leave unchanged]\n",
        "    replacement_choices= torch.multinomial(replacement_probs, num_tokens_to_mask, replacement=True)\n",
        "\n",
        "    # vector to store if a token was masked (0: not masked, 1: masked)\n",
        "    masked_indicator= torch.zeros_like(batch_tokens, dtype=torch.int32)\n",
        "\n",
        "    # apply replacements based on sampled choices\n",
        "    for i, idx in enumerate(random_indices):\n",
        "        row= eligible_indices[0][idx]\n",
        "        col= eligible_indices[1][idx]\n",
        "\n",
        "        # replacing with mask\n",
        "        if replacement_choices[i]== 0:\n",
        "            batch_tokens[row, col]= 103\n",
        "            masked_indicator[row, col]= 1\n",
        "\n",
        "        # replacing with random tokens\n",
        "        elif replacement_choices[i]== 1:\n",
        "            batch_tokens[row, col]= random.choice(valid_token_ids)\n",
        "            masked_indicator[row, col]= 1\n",
        "\n",
        "        # not replacing at all\n",
        "        elif replacement_choices[i]== 2:\n",
        "            masked_indicator[row, col]= 1\n",
        "\n",
        "\n",
        "    return batch_tokens, masked_indicator\n",
        "\n",
        "\n",
        "batch_tokens, masked_indicator= mask_batch(sequence_tokens_batches[0])\n",
        "batch_tokens"
      ]
    },
    {
      "cell_type": "markdown",
      "metadata": {
        "id": "kwn1btDvfOHz"
      },
      "source": [
        "# Embedding"
      ]
    },
    {
      "cell_type": "markdown",
      "source": [
        "A BERT style model, in being a derivative of transformers, expects a high dimensional vector to represent each word. The model will use these vectors to reason about words, allowing it to (hopefully) create a strong understanding of the input text. So, we need to turn our tokens (which are just integers) into these high dimensional vectors.\n",
        "\n",
        "The embedding portion of the model will take care of both the conversion of tokens into vectors and the addition of positional information by using a lookup table. We'll define random vectors for every possible token, random vectors that correspond to each input position, and random vectors which correspond to the two sentence inputs. We'll replace tokens and positions with these random vectors, and use them to represent a token and it's position. Naturally, it will do a bad job at first as we're using completely random data, but these random values will be learnable parameters of the model, so the model will learn how to make good vectors for both token and position encoding."
      ],
      "metadata": {
        "id": "VIUBYQ1C8-Ff"
      }
    },
    {
      "cell_type": "code",
      "execution_count": 10,
      "metadata": {
        "colab": {
          "base_uri": "https://localhost:8080/"
        },
        "id": "xVwjeZJ6P0W7",
        "outputId": "7034e474-19d2-49eb-f78b-b54f4ca51bf7"
      },
      "outputs": [
        {
          "output_type": "execute_result",
          "data": {
            "text/plain": [
              "Embedding(\n",
              "  (tok_embed): Embedding(30522, 256)\n",
              "  (pos_embed): Embedding(64, 256)\n",
              "  (seg_embed): Embedding(2, 256)\n",
              "  (norm): LayerNorm((256,), eps=1e-05, elementwise_affine=True)\n",
              ")"
            ]
          },
          "metadata": {},
          "execution_count": 10
        }
      ],
      "source": [
        "import torch.nn as nn\n",
        "\n",
        "vocab_size= tokenizer.vocab_size\n",
        "d_model= 256\n",
        "n_segments= 2\n",
        "\n",
        "\n",
        "class Embedding(nn.Module):\n",
        "    \"\"\"\n",
        "    This is the first component of the model which converts tokens into vectors. These vectors are\n",
        "    learned throughout the training process, where there's esssentially a lookup table for each\n",
        "    word.\n",
        "    Here we're saying we'll represent the words with vectors of length 256 with the parameter\n",
        "    d_model=256, and we're saying we're dealing with two sentences with n_segments=2.\n",
        "    \"\"\"\n",
        "\n",
        "    def __init__(self):\n",
        "        super(Embedding, self).__init__()\n",
        "        # token embedding\n",
        "        self.tok_embed= nn.Embedding(vocab_size, d_model)\n",
        "        # position embedding\n",
        "        self.pos_embed= nn.Embedding(max_input_length, d_model)\n",
        "        # segment (token type) embedding\n",
        "        self.seg_embed= nn.Embedding(n_segments, d_model)\n",
        "        self.norm= nn.LayerNorm(d_model)\n",
        "\n",
        "\n",
        "    def forward(self, x, seg):\n",
        "        seq_len= x.size(1)\n",
        "        pos= torch.arange(seq_len, dtype=torch.long).to(device)\n",
        "        # (seq_len, ) -> (batch_size, seq_len)\n",
        "        pos= pos.unsqueeze(0).expand_as(x)\n",
        "\n",
        "        embedding= self.tok_embed(x) + self.pos_embed(pos) + self.seg_embed(seg)\n",
        "\n",
        "        return self.norm(embedding)\n",
        "\n",
        "\n",
        "e= Embedding()\n",
        "e.to(device)"
      ]
    },
    {
      "cell_type": "code",
      "execution_count": 11,
      "metadata": {
        "colab": {
          "base_uri": "https://localhost:8080/"
        },
        "id": "xi9-JxBeP0aQ",
        "outputId": "585a70ee-d3c9-4825-d65d-18fad1504ce2"
      },
      "outputs": [
        {
          "output_type": "stream",
          "name": "stdout",
          "text": [
            "torch.Size([128, 64, 256])\n",
            "tensor([[[ 4.5648e-01, -9.6406e-01, -9.5909e-01,  ..., -1.6605e+00,\n",
            "          -5.6144e-01,  6.8992e-04],\n",
            "         [-2.3699e-01, -2.5241e+00,  2.7629e-01,  ..., -1.1395e+00,\n",
            "           7.2034e-01, -2.9236e-01],\n",
            "         [-1.2614e+00, -1.0466e+00, -1.2322e+00,  ..., -7.1714e-01,\n",
            "          -1.6387e+00,  2.6522e-01],\n",
            "         ...,\n",
            "         [ 1.5919e+00,  1.5150e-01,  7.8653e-01,  ...,  2.6776e-01,\n",
            "           1.0080e+00,  6.0584e-01],\n",
            "         [ 1.2931e+00, -5.1946e-02,  1.2660e+00,  ...,  6.9486e-01,\n",
            "           3.7175e-01, -2.1061e-01],\n",
            "         [ 1.4611e+00, -4.7657e-01,  9.6386e-01,  ...,  1.1665e+00,\n",
            "           7.7190e-01,  4.5345e-01]],\n",
            "\n",
            "        [[ 4.5648e-01, -9.6406e-01, -9.5909e-01,  ..., -1.6605e+00,\n",
            "          -5.6144e-01,  6.8992e-04],\n",
            "         [ 6.0032e-01, -3.2446e+00, -3.4907e-01,  ..., -7.8317e-01,\n",
            "          -1.7080e-01, -1.2770e+00],\n",
            "         [-1.0589e+00, -1.1291e+00, -4.6968e-01,  ..., -1.4502e+00,\n",
            "          -3.8318e-01,  1.2158e+00],\n",
            "         ...,\n",
            "         [ 1.5919e+00,  1.5150e-01,  7.8653e-01,  ...,  2.6776e-01,\n",
            "           1.0080e+00,  6.0584e-01],\n",
            "         [ 1.2931e+00, -5.1946e-02,  1.2660e+00,  ...,  6.9486e-01,\n",
            "           3.7175e-01, -2.1061e-01],\n",
            "         [ 1.4611e+00, -4.7657e-01,  9.6386e-01,  ...,  1.1665e+00,\n",
            "           7.7190e-01,  4.5345e-01]],\n",
            "\n",
            "        [[ 4.5648e-01, -9.6406e-01, -9.5909e-01,  ..., -1.6605e+00,\n",
            "          -5.6144e-01,  6.8992e-04],\n",
            "         [ 5.1039e-01, -1.4710e+00,  3.6728e-01,  ..., -1.4623e+00,\n",
            "           6.3972e-01, -8.8345e-01],\n",
            "         [ 2.1348e-01, -9.0031e-01, -1.0360e+00,  ..., -4.9580e-01,\n",
            "          -9.8161e-01, -3.8596e-01],\n",
            "         ...,\n",
            "         [ 1.5919e+00,  1.5150e-01,  7.8653e-01,  ...,  2.6776e-01,\n",
            "           1.0080e+00,  6.0584e-01],\n",
            "         [ 1.2931e+00, -5.1946e-02,  1.2660e+00,  ...,  6.9486e-01,\n",
            "           3.7175e-01, -2.1061e-01],\n",
            "         [ 1.4611e+00, -4.7657e-01,  9.6386e-01,  ...,  1.1665e+00,\n",
            "           7.7190e-01,  4.5345e-01]],\n",
            "\n",
            "        ...,\n",
            "\n",
            "        [[ 4.5648e-01, -9.6406e-01, -9.5909e-01,  ..., -1.6605e+00,\n",
            "          -5.6144e-01,  6.8992e-04],\n",
            "         [ 5.8315e-01, -2.1967e+00, -2.9385e-01,  ..., -8.2236e-01,\n",
            "          -1.3601e+00, -1.4928e+00],\n",
            "         [-6.0392e-02, -7.2882e-01, -1.1889e+00,  ...,  9.7393e-02,\n",
            "           2.1411e-02,  1.0759e+00],\n",
            "         ...,\n",
            "         [ 1.5919e+00,  1.5150e-01,  7.8653e-01,  ...,  2.6776e-01,\n",
            "           1.0080e+00,  6.0584e-01],\n",
            "         [ 1.2931e+00, -5.1946e-02,  1.2660e+00,  ...,  6.9486e-01,\n",
            "           3.7175e-01, -2.1061e-01],\n",
            "         [ 1.4611e+00, -4.7657e-01,  9.6386e-01,  ...,  1.1665e+00,\n",
            "           7.7190e-01,  4.5345e-01]],\n",
            "\n",
            "        [[ 4.5648e-01, -9.6406e-01, -9.5909e-01,  ..., -1.6605e+00,\n",
            "          -5.6144e-01,  6.8992e-04],\n",
            "         [-3.8884e-01, -8.7692e-01,  5.5677e-01,  ..., -1.4378e+00,\n",
            "          -8.3117e-01, -1.3187e+00],\n",
            "         [-1.0048e+00, -1.0045e+00, -2.7228e-01,  ..., -1.0757e+00,\n",
            "          -4.9419e-01,  1.1204e+00],\n",
            "         ...,\n",
            "         [ 1.5919e+00,  1.5150e-01,  7.8653e-01,  ...,  2.6776e-01,\n",
            "           1.0080e+00,  6.0584e-01],\n",
            "         [ 1.2931e+00, -5.1946e-02,  1.2660e+00,  ...,  6.9486e-01,\n",
            "           3.7175e-01, -2.1061e-01],\n",
            "         [ 1.4611e+00, -4.7657e-01,  9.6386e-01,  ...,  1.1665e+00,\n",
            "           7.7190e-01,  4.5345e-01]],\n",
            "\n",
            "        [[ 4.5648e-01, -9.6406e-01, -9.5909e-01,  ..., -1.6605e+00,\n",
            "          -5.6144e-01,  6.8992e-04],\n",
            "         [ 1.1980e+00, -1.6113e+00, -7.6341e-01,  ..., -1.1010e+00,\n",
            "          -2.4568e-01, -7.8195e-01],\n",
            "         [-2.7051e-01, -1.0494e+00, -1.0391e+00,  ..., -1.2247e+00,\n",
            "          -1.4070e+00,  1.5641e+00],\n",
            "         ...,\n",
            "         [ 1.5919e+00,  1.5150e-01,  7.8653e-01,  ...,  2.6776e-01,\n",
            "           1.0080e+00,  6.0584e-01],\n",
            "         [ 1.2931e+00, -5.1946e-02,  1.2660e+00,  ...,  6.9486e-01,\n",
            "           3.7175e-01, -2.1061e-01],\n",
            "         [ 1.4611e+00, -4.7657e-01,  9.6386e-01,  ...,  1.1665e+00,\n",
            "           7.7190e-01,  4.5345e-01]]], device='cuda:0',\n",
            "       grad_fn=<NativeLayerNormBackward0>)\n"
          ]
        }
      ],
      "source": [
        "# we can pass in a batch of data through this module and see what we get.\n",
        "dummy_embedding= e(sequence_tokens_batches[0], sentence_location_batches[0])\n",
        "\n",
        "print(dummy_embedding.shape)\n",
        "print(dummy_embedding)"
      ]
    },
    {
      "cell_type": "markdown",
      "metadata": {
        "id": "ayk65bwD3HIY"
      },
      "source": [
        "# Defining Model\n",
        "\n",
        "Now that we have tokenization, and we've shown that we can build an embedding model that can work with that tokenization, we can build the model itself."
      ]
    },
    {
      "cell_type": "markdown",
      "metadata": {
        "id": "EuBrJRW76gOY"
      },
      "source": [
        "# Multi-Headed Self Attention"
      ]
    },
    {
      "cell_type": "markdown",
      "source": [
        "BERT is a transformer style model, so multi-headed self-attention is a critical component.\n",
        "\n",
        "First of all we can implement a single attention head. We'll assume the query, key, and value have already been created, so we can whip that up. This doesn't have any learnable parameters, those will be in the multi headed self attention mechanism which will employ this as a sub-component."
      ],
      "metadata": {
        "id": "yhOxoXcC9QX8"
      }
    },
    {
      "cell_type": "code",
      "execution_count": 12,
      "metadata": {
        "colab": {
          "base_uri": "https://localhost:8080/"
        },
        "id": "pvWisCHUP0eK",
        "outputId": "2ceb4655-ef90-4667-edd9-6ab79edc78bd"
      },
      "outputs": [
        {
          "output_type": "execute_result",
          "data": {
            "text/plain": [
              "(tensor([[[0.9771, 0.9927],\n",
              "          [0.9912, 1.0280]]], device='cuda:0'),\n",
              " tensor([[[0.3854, 0.6146],\n",
              "          [0.4559, 0.5441]]], device='cuda:0'))"
            ]
          },
          "metadata": {},
          "execution_count": 12
        }
      ],
      "source": [
        "class ScaledDotProductAttention(nn.Module):\n",
        "\n",
        "    def __init__(self):\n",
        "        super(ScaledDotProductAttention, self).__init__()\n",
        "\n",
        "\n",
        "    def forward(self, Q, K, V):\n",
        "        # Q, K, V of size [batch x sequence_length x dim]\n",
        "        scores= torch.matmul(Q, K.transpose(-1, -2)) / np.sqrt(Q.shape[1])\n",
        "        attn= nn.Softmax(dim=-1)(scores)\n",
        "        context= torch.matmul(attn, V)\n",
        "\n",
        "        return context, attn\n",
        "\n",
        "\n",
        "# sanity check\n",
        "q= torch.tensor([[[1.1, 1.3], [0.9, 0.8]]]).to(device)\n",
        "k= torch.tensor([[[0.9, 1.0], [0.2, 2.1]]]).to(device)\n",
        "v= torch.tensor([[[1.1, 1.3], [0.9, 0.8]]]).to(device)\n",
        "\n",
        "sample= ScaledDotProductAttention().to(device)\n",
        "sample(q, k, v)"
      ]
    },
    {
      "cell_type": "markdown",
      "source": [
        "We have a batch of examples which need to be turned into querys, keys, and values, then those need to be further divided into multiple heads. This means we effectively have two axis which we need to parallelize self attention across; the batch dimension and a new dimension for the heads. Because PyTorch automagically parallelizes across the 0th dimension by assuming it's the batch dimension, we can effectively parallelize across the batch and heads by squeezing both dimensions into a single dimension.\n",
        "\n",
        "Here we are defining a few constants that we'll use through training.\n",
        "- n_heads specifies how many attention heads exist per MHSA block\n",
        "- query_key_dim specifies how big the query and key vectors will be\n",
        "- value_dim specifies how big the value vectors will be."
      ],
      "metadata": {
        "id": "LFyEhpzd9djo"
      }
    },
    {
      "cell_type": "code",
      "execution_count": 13,
      "metadata": {
        "colab": {
          "base_uri": "https://localhost:8080/"
        },
        "id": "ma4u6R_fP0iZ",
        "outputId": "64c1303e-790f-4cd2-af7d-6d0ed2f4b2fc"
      },
      "outputs": [
        {
          "output_type": "stream",
          "name": "stdout",
          "text": [
            "Sample embeddings shape: torch.Size([128, 64, 256])\n",
            "Output shape of MHSA: torch.Size([128, 64, 256])\n"
          ]
        }
      ],
      "source": [
        "# define constants\n",
        "n_heads= 3\n",
        "query_key_dim= 64\n",
        "value_dim= 64\n",
        "\n",
        "\n",
        "class MultiHeadSelfAttention(nn.Module):\n",
        "    \"\"\"\n",
        "    MHSA has four sets of parameters. These are all dense linear networks. Three that turn the\n",
        "    tensors of the model into inputs for MHSA, and one that turns the output of MHSA back into the\n",
        "    shape needed for modeling.\n",
        "    These are \"pointwise dense networks\" which is the default setup in PyTorch. Basically, these\n",
        "    apply to all the vectors in your space and assumes the last dimension is the vector dimension.\n",
        "    So if you have, for instance, an input of shape [batch_size x sequence_length x input_dim] and\n",
        "    you want to turn that into an output of shape [batch_size x sequence_length x output_dim] you\n",
        "    can use nn.Linear(input_dim, output_dim).\n",
        "    This network has the parameters to turn one vector into another vector, so when you apply it to\n",
        "    your input you're essentially running the same model across all [batch_size x sequence_length]\n",
        "    vectors. This means the word vectors don't interact with each other, they only get re-represented\n",
        "    into a different vector of a different length.\n",
        "    \"\"\"\n",
        "\n",
        "    def __init__(self):\n",
        "        super(MultiHeadSelfAttention, self).__init__()\n",
        "        # defining the linear layers that construct the query, key, and value\n",
        "        self.W_Q= nn.Linear(d_model, query_key_dim * n_heads)   # Projects input to [batch x sequence x (q/k_dim*num_heads)]\n",
        "        self.W_K= nn.Linear(d_model, query_key_dim * n_heads)   # Projects input to [batch x sequence x (q/k_dim*num_heads)]\n",
        "        self.W_V= nn.Linear(d_model, value_dim * n_heads)       # Projects input to [batch x sequence x (v_dim*num_heads)]\n",
        "        self.dot_prod_attn= ScaledDotProductAttention()         # Parameterless system that calculates attention\n",
        "        self.proj_back= nn.Linear(value_dim * n_heads, d_model) # Projects final output of MHSA back into model dimension\n",
        "\n",
        "\n",
        "    def forward(self, embedding):\n",
        "        # passing embedding through dense networks\n",
        "        qs= self.W_Q(embedding) # [batch_size x sequence_len x (query_key_dim * n_heads)]\n",
        "        ks= self.W_K(embedding) # [batch_size x sequence_len x (query_key_dim * n_heads)]\n",
        "        vs= self.W_V(embedding) # [batch_size x sequence_len x (value_dim * n_heads)]\n",
        "\n",
        "        # dividing out heads\n",
        "        # [batch_size, sequence_len, q/k/v_dim, n_heads]\n",
        "        qs= qs.view(batch_size, max_input_length, query_key_dim, n_heads)\n",
        "        ks= ks.view(batch_size, max_input_length, query_key_dim, n_heads)\n",
        "        vs= vs.view(batch_size, max_input_length, value_dim, n_heads)\n",
        "\n",
        "        # moving the head dimension next to the batch simension\n",
        "        # [batch_size x n_heads x sequence_len x q/k/v_dim]\n",
        "        qs= qs.permute(0, 3, 1, 2)\n",
        "        ks= ks.permute(0, 3, 1, 2)\n",
        "        vs= vs.permute(0, 3, 1, 2)\n",
        "\n",
        "        # combining batch and head dimension\n",
        "        # [batch_size*n_heads x sequence_len x q/k/v_dim]\n",
        "        qs= qs.reshape(-1, max_input_length, query_key_dim)\n",
        "        ks= ks.reshape(-1, max_input_length, query_key_dim)\n",
        "        vs= vs.reshape(-1, max_input_length, value_dim)\n",
        "\n",
        "        # passing batches/heads of self attention through attn\n",
        "        # [batch_size*n_heads x sequence_len x q/k/v_dim]\n",
        "        head_results, _= self.dot_prod_attn(qs, ks, vs)\n",
        "\n",
        "        # separating heads\n",
        "        # [batch_size x n_heads x sequence_len x v_dim]\n",
        "        head_results= head_results.reshape(batch_size, n_heads, max_input_length, value_dim)\n",
        "\n",
        "        # moving the head dimension to the end\n",
        "        # [batch_size x sequence_len x query_key_dim x n_heads]\n",
        "        head_results= head_results.permute(0, 2, 3, 1)\n",
        "\n",
        "        # combining the last dim to effectively concatenate the result of the heads\n",
        "        # [batch_size x sequence_len x query_key_dim*n_heads]\n",
        "        head_results= head_results.reshape(batch_size, max_input_length, -1)\n",
        "\n",
        "        # projecting result of head back into model dimension\n",
        "        return self.proj_back(head_results)\n",
        "\n",
        "\n",
        "# example usage\n",
        "sample_embeddings= torch.tensor([[[1.1] * d_model] * max_input_length] * batch_size).to(device)\n",
        "print('Sample embeddings shape:', sample_embeddings.shape)\n",
        "\n",
        "sample= MultiHeadSelfAttention().to(device)\n",
        "output= sample(sample_embeddings)\n",
        "print('Output shape of MHSA:', output.shape)\n",
        "# the output should be the same size as the input"
      ]
    },
    {
      "cell_type": "markdown",
      "metadata": {
        "id": "paGnuiOkr0vR"
      },
      "source": [
        "# Pointwise Feed Forward"
      ]
    },
    {
      "cell_type": "markdown",
      "source": [
        "We already implemented pointwise feedforward in the construction of the query, key, and value in multi headed self-attention, but this process is also done to the model tokens themselves, as per the classic transformer architecture.\n",
        "\n",
        "Just like in multi-headed self-attention, this applies a neural network to each word vector individually, allowing the model to learn to manipulate individual vectors as necessary."
      ],
      "metadata": {
        "id": "iaRBHsF89o4K"
      }
    },
    {
      "cell_type": "code",
      "execution_count": 14,
      "metadata": {
        "colab": {
          "base_uri": "https://localhost:8080/"
        },
        "id": "ZqkMfuzMP0l5",
        "outputId": "06583e94-f5a3-41ee-bc6d-8dd5a486c4ea"
      },
      "outputs": [
        {
          "output_type": "execute_result",
          "data": {
            "text/plain": [
              "torch.Size([128, 64, 256])"
            ]
          },
          "metadata": {},
          "execution_count": 14
        }
      ],
      "source": [
        "d_ff= 4 * d_model\n",
        "\n",
        "\n",
        "class PointwiseFeedForwardNet(nn.Module):\n",
        "    \"\"\"\n",
        "    In this particular implementation we are expanding the vectors to four times their length with\n",
        "    a neural network, applying a non-linear activation function, then compressing that data back\n",
        "    into the original model dimension length (d_model=256, in this example).\n",
        "    Basically, we are allowing our model to stretch each word vector out into a bigger\n",
        "    representation, allowing the model to represent each vector in a diverse number of ways, then\n",
        "    we are passing that larger representation through a function that manipulates the vector in\n",
        "    complex ways. The model can learn to exploit that large number of complex representations to\n",
        "    create better word vectors, which are then compressed back into the original modeling dimension.\n",
        "    \"\"\"\n",
        "\n",
        "    def __init__(self):\n",
        "        super(PointwiseFeedForwardNet, self).__init__()\n",
        "        self.fc1= nn.Linear(d_model, d_ff)\n",
        "        self.fc2= nn.Linear(d_ff, d_model)\n",
        "\n",
        "\n",
        "    def forward(self, x):\n",
        "        # (batch_size, len_seq, d_model) -> (batch_size, len_seq, d_ff) -> (batch_size, len_seq, d_model)\n",
        "        x= self.fc1(x)\n",
        "        x= torch.nn.functional.gelu(x)\n",
        "        x= self.fc2(x)\n",
        "\n",
        "        return x\n",
        "\n",
        "\n",
        "# example usage\n",
        "sample= PointwiseFeedForwardNet().to(device)\n",
        "sample_embeddings= torch.tensor([[[1.1] * d_model] * max_input_length] * batch_size).to(device)\n",
        "sample(sample_embeddings).shape"
      ]
    },
    {
      "cell_type": "markdown",
      "metadata": {
        "id": "qMDPx23v0a8i"
      },
      "source": [
        "# The Encoder Block"
      ]
    },
    {
      "cell_type": "markdown",
      "source": [
        "Now that we have multi-headed self-attention and pointwise feed forward figured out, we can implement the entire encoder block.\n",
        "\n",
        "Here we are:\n",
        "- Passing the input through multi-headed self-attention\n",
        "- Adding the original input to the output of MHSA, combining both, creating the first skip connection.\n",
        "- Passing that through pointwise feed forward\n",
        "- Adding the output of pointwise feed forward to the previous skip connection output, creating the second skip connection.\n",
        "\n",
        "Skip connections help a model learn more easily by combining simple and more complex information together, allowing the model to use both to its advantage."
      ],
      "metadata": {
        "id": "JBnx334y9ykJ"
      }
    },
    {
      "cell_type": "code",
      "execution_count": 15,
      "metadata": {
        "colab": {
          "base_uri": "https://localhost:8080/"
        },
        "id": "V_C1-ucS0U9S",
        "outputId": "2b3d4c15-46c1-404f-d8fd-268b04513ef9"
      },
      "outputs": [
        {
          "output_type": "execute_result",
          "data": {
            "text/plain": [
              "torch.Size([128, 64, 256])"
            ]
          },
          "metadata": {},
          "execution_count": 15
        }
      ],
      "source": [
        "class EncoderBlock(nn.Module):\n",
        "\n",
        "    def __init__(self):\n",
        "        super(EncoderBlock, self).__init__()\n",
        "        self.mhsa= MultiHeadSelfAttention()\n",
        "        self.norm1= nn.LayerNorm(d_model)\n",
        "        self.pwff= PointwiseFeedForwardNet()\n",
        "        self.norm2= nn.LayerNorm(d_model)\n",
        "\n",
        "\n",
        "    def forward(self, x):\n",
        "        mhsa_output= self.mhsa(x)\n",
        "        skip1= mhsa_output + x\n",
        "        add_norm1= self.norm1(skip1)\n",
        "\n",
        "        pwff_output= self.pwff(add_norm1)\n",
        "        skip2= add_norm1 + pwff_output\n",
        "        add_norm2= self.norm2(skip2)\n",
        "\n",
        "        return add_norm2\n",
        "\n",
        "\n",
        "# example usage\n",
        "sample= EncoderBlock().to(device)\n",
        "sample_embeddings= torch.tensor([[[1.1] * d_model] * max_input_length] * batch_size).to(device)\n",
        "sample(sample_embeddings).shape"
      ]
    },
    {
      "cell_type": "markdown",
      "source": [
        "(SOLVED)\n",
        "We probably should have added layer normalization. If you were being proper, you would probably want to do that after the skip connections via torch.nn.LayerNorm. Anyway, that's a minor detail as far as this demo is concerned.\n",
        "\n",
        "Let's get onto the fun stuff, actually building BERT!"
      ],
      "metadata": {
        "id": "cu0BJ3Gb9_rl"
      }
    },
    {
      "cell_type": "markdown",
      "metadata": {
        "id": "rA7J4ixV2BIY"
      },
      "source": [
        "# Building BERT"
      ]
    },
    {
      "cell_type": "markdown",
      "source": [
        "BERT is straight forward if you understand the two major subcomponents we have already created:\n",
        "- It has an embedding sub-module which turns the token_ids of the input into vectors\n",
        "- It has a bunch of encoder blocks which manipulate the input to create a dense and meaning rich representation. Under the hood these consist of multi-headed self-attention and pointwise feed forward layers.\n",
        "\n",
        "The only new things are the decoder and the classifier, these are used to turn certain vectors in the output of the last encoder layer into predictions. The classifier looks at the first input token, which is always [CLS] in the input (we set our data up that way) and makes a prediction as to whether or not the sentences in the input belong together or not.\n",
        "\n",
        "We are only using two Encoder Blocks to speed up training (n_layers). A BERT model would expect at least a few Encoder Blocks stacked on top of one another."
      ],
      "metadata": {
        "id": "EeXI6JrO-Oiu"
      }
    },
    {
      "cell_type": "code",
      "execution_count": 16,
      "metadata": {
        "id": "MffOY81A0VDK"
      },
      "outputs": [],
      "source": [
        "n_layers= 2\n",
        "\n",
        "\n",
        "class BERT(nn.Module):\n",
        "    \"\"\"\n",
        "    BERT consists of the following:\n",
        "    - An embedding module\n",
        "    - A list of encoder blocks\n",
        "    - A dense network for classifying if sequences are a positive pair\n",
        "    - A dense network for projecting word vectors into probabilities\n",
        "    \"\"\"\n",
        "\n",
        "    def __init__(self):\n",
        "        super(BERT, self).__init__()\n",
        "        # for converting tokens into vector embeddings\n",
        "        self.embedding= Embedding()\n",
        "        # encoder blocks stacked on top of one another\n",
        "        self.encoder_blocks= nn.ModuleList([EncoderBlock() for _ in range(n_layers)])\n",
        "        # for decoding a word vector (or tensor of them) into token predictions\n",
        "        self.decoder= nn.Linear(d_model, tokenizer.vocab_size, bias=False)\n",
        "        # for converting the first output token into a binary classification\n",
        "        self.classifier= nn.Linear(d_model, 1, bias=False)\n",
        "\n",
        "\n",
        "    def forward(self, x, seq, masked_token_locations):\n",
        "        # x of shape [batch x seq_len x model_dim]\n",
        "        embeddings= self.embedding(x, seq)\n",
        "        x= embeddings\n",
        "\n",
        "        for block in self.encoder_blocks:\n",
        "            x= block(x)\n",
        "\n",
        "        # for every example in the batch, this takes the first vector and passes it to the\n",
        "        # classifier linear network for prediction\n",
        "        clsf_logits= self.classifier(x[:,0,:])\n",
        "\n",
        "        # passing masked tokens through decoder\n",
        "        masked_token_embeddings= embeddings[masked_token_locations.bool()]\n",
        "        token_logits= self.decoder(masked_token_embeddings)\n",
        "\n",
        "        return clsf_logits, token_logits\n"
      ]
    },
    {
      "cell_type": "markdown",
      "source": [
        "Notice how the classifier is defined as a linear network of output size 1.\n",
        "This is because we're making a binary classification (yes or no). Predicted values over 0.5 will be interpreted as true, while predicted values of less than 0.5 will be interpreted as false. The decoder does something similar, except it looks at all masked tokens, and instead of making a true or false prediction, it has to predict what token should be there. Thus, the output is of length tokenizer.vocab_size , meaning we predict, out of all tokens, what token a particular masked word should be."
      ],
      "metadata": {
        "id": "A2EChRWr-gO3"
      }
    },
    {
      "cell_type": "markdown",
      "metadata": {
        "id": "TzxMxNW37FMw"
      },
      "source": [
        "# Pre-Training BERT"
      ]
    },
    {
      "cell_type": "code",
      "execution_count": 17,
      "metadata": {
        "colab": {
          "base_uri": "https://localhost:8080/"
        },
        "id": "YUPK_WUH0VIX",
        "outputId": "edb56f5a-064b-429a-bb15-e8e2becc8552"
      },
      "outputs": [
        {
          "output_type": "stream",
          "name": "stdout",
          "text": [
            "Number of parameters: 17092992\n"
          ]
        }
      ],
      "source": [
        "import torch\n",
        "import torch.nn as nn\n",
        "import torch.optim as optim\n",
        "from tqdm import tqdm\n",
        "\n",
        "model= BERT().to(device)\n",
        "\n",
        "total_params= sum(p.numel() for p in model.parameters() if p.requires_grad)\n",
        "print(f'Number of parameters: {total_params}')"
      ]
    },
    {
      "cell_type": "code",
      "execution_count": 18,
      "metadata": {
        "colab": {
          "base_uri": "https://localhost:8080/"
        },
        "id": "-01T2shjNFCj",
        "outputId": "9b4919c9-f69a-445d-8bde-7814c554f768"
      },
      "outputs": [
        {
          "output_type": "execute_result",
          "data": {
            "text/plain": [
              "BERT(\n",
              "  (embedding): Embedding(\n",
              "    (tok_embed): Embedding(30522, 256)\n",
              "    (pos_embed): Embedding(64, 256)\n",
              "    (seg_embed): Embedding(2, 256)\n",
              "    (norm): LayerNorm((256,), eps=1e-05, elementwise_affine=True)\n",
              "  )\n",
              "  (encoder_blocks): ModuleList(\n",
              "    (0-1): 2 x EncoderBlock(\n",
              "      (mhsa): MultiHeadSelfAttention(\n",
              "        (W_Q): Linear(in_features=256, out_features=192, bias=True)\n",
              "        (W_K): Linear(in_features=256, out_features=192, bias=True)\n",
              "        (W_V): Linear(in_features=256, out_features=192, bias=True)\n",
              "        (dot_prod_attn): ScaledDotProductAttention()\n",
              "        (proj_back): Linear(in_features=192, out_features=256, bias=True)\n",
              "      )\n",
              "      (norm1): LayerNorm((256,), eps=1e-05, elementwise_affine=True)\n",
              "      (pwff): PointwiseFeedForwardNet(\n",
              "        (fc1): Linear(in_features=256, out_features=1024, bias=True)\n",
              "        (fc2): Linear(in_features=1024, out_features=256, bias=True)\n",
              "      )\n",
              "      (norm2): LayerNorm((256,), eps=1e-05, elementwise_affine=True)\n",
              "    )\n",
              "  )\n",
              "  (decoder): Linear(in_features=256, out_features=30522, bias=False)\n",
              "  (classifier): Linear(in_features=256, out_features=1, bias=False)\n",
              ")"
            ]
          },
          "metadata": {},
          "execution_count": 18
        }
      ],
      "source": [
        "model"
      ]
    },
    {
      "cell_type": "markdown",
      "source": [
        "Self Supervised Training for pre training the model\n",
        "- BERT uses a pre training step which is designed to encourage the model to understand language generally, then allows for fine tuning to allow the model to learn specific tasks.\n",
        "- BERT is pre-trained on two objectives simultaneously: \"masked language modeling\", which is like fill in the blank, and \"next sentence prediction\" which is essentially asking the model to predict of two sentences make sense with one another."
      ],
      "metadata": {
        "id": "Zc1H__Ki-sqI"
      }
    },
    {
      "cell_type": "code",
      "execution_count": 19,
      "metadata": {
        "colab": {
          "base_uri": "https://localhost:8080/"
        },
        "id": "lOfeOHWS0VMn",
        "outputId": "488d68ba-b5da-4aba-f7a0-5c88752d7b46"
      },
      "outputs": [
        {
          "output_type": "stream",
          "name": "stderr",
          "text": [
            "7311it [16:56,  7.19it/s]\n"
          ]
        },
        {
          "output_type": "stream",
          "name": "stdout",
          "text": [
            "=======Epoch 0 Completed=======\n",
            "Average loss in this epoch: 7.582841117312588\n"
          ]
        },
        {
          "output_type": "stream",
          "name": "stderr",
          "text": [
            "7311it [16:50,  7.23it/s]\n"
          ]
        },
        {
          "output_type": "stream",
          "name": "stdout",
          "text": [
            "=======Epoch 1 Completed=======\n",
            "Average loss in this epoch: 7.382403451397519\n"
          ]
        },
        {
          "output_type": "stream",
          "name": "stderr",
          "text": [
            "7311it [16:48,  7.25it/s]\n"
          ]
        },
        {
          "output_type": "stream",
          "name": "stdout",
          "text": [
            "=======Epoch 2 Completed=======\n",
            "Average loss in this epoch: 7.358504188254796\n"
          ]
        },
        {
          "output_type": "stream",
          "name": "stderr",
          "text": [
            "7311it [16:44,  7.28it/s]\n"
          ]
        },
        {
          "output_type": "stream",
          "name": "stdout",
          "text": [
            "=======Epoch 3 Completed=======\n",
            "Average loss in this epoch: 7.344074073625058\n"
          ]
        },
        {
          "output_type": "stream",
          "name": "stderr",
          "text": [
            "7311it [16:47,  7.25it/s]\n"
          ]
        },
        {
          "output_type": "stream",
          "name": "stdout",
          "text": [
            "=======Epoch 4 Completed=======\n",
            "Average loss in this epoch: 7.331487662227058\n"
          ]
        },
        {
          "output_type": "stream",
          "name": "stderr",
          "text": [
            "7311it [16:45,  7.27it/s]\n"
          ]
        },
        {
          "output_type": "stream",
          "name": "stdout",
          "text": [
            "=======Epoch 5 Completed=======\n",
            "Average loss in this epoch: 7.3176202193573125\n"
          ]
        },
        {
          "output_type": "stream",
          "name": "stderr",
          "text": [
            "7311it [16:48,  7.25it/s]\n"
          ]
        },
        {
          "output_type": "stream",
          "name": "stdout",
          "text": [
            "=======Epoch 6 Completed=======\n",
            "Average loss in this epoch: 7.304465406522462\n"
          ]
        },
        {
          "output_type": "stream",
          "name": "stderr",
          "text": [
            "7311it [16:47,  7.26it/s]\n"
          ]
        },
        {
          "output_type": "stream",
          "name": "stdout",
          "text": [
            "=======Epoch 7 Completed=======\n",
            "Average loss in this epoch: 7.300339374377877\n"
          ]
        },
        {
          "output_type": "stream",
          "name": "stderr",
          "text": [
            "7311it [16:41,  7.30it/s]\n"
          ]
        },
        {
          "output_type": "stream",
          "name": "stdout",
          "text": [
            "=======Epoch 8 Completed=======\n",
            "Average loss in this epoch: 7.301109541784868\n"
          ]
        },
        {
          "output_type": "stream",
          "name": "stderr",
          "text": [
            "7311it [16:46,  7.26it/s]"
          ]
        },
        {
          "output_type": "stream",
          "name": "stdout",
          "text": [
            "=======Epoch 9 Completed=======\n",
            "Average loss in this epoch: 7.306851894906698\n"
          ]
        },
        {
          "output_type": "stream",
          "name": "stderr",
          "text": [
            "\n"
          ]
        }
      ],
      "source": [
        "def self_supervised_train(model, lr=1e-3, epochs=50):\n",
        "\n",
        "    # expect indices, not one-hot vectors\n",
        "    token_criterion= nn.CrossEntropyLoss()\n",
        "    # for logits directly\n",
        "    classification_criterion= nn.BCEWithLogitsLoss()\n",
        "\n",
        "    optimizer= optim.Adam(model.parameters(), lr=lr)\n",
        "\n",
        "    # keeping track of the losses across all epochs\n",
        "    losses= [[]]\n",
        "\n",
        "    # these epochs can take a while, keeping it at a fairly small number\n",
        "    for epoch in range(epochs):\n",
        "        for sequence_batch, location_batch, classtarg_batch in tqdm(zip(sequence_tokens_batches,\n",
        "                                                                        sentence_location_batches,\n",
        "                                                                        is_positives_batches)):\n",
        "            # zeroing out gradients from last iteration\n",
        "            optimizer.zero_grad()\n",
        "\n",
        "            # masking the tokens in the input sequence\n",
        "            masked_tokens, masked_token_locations= mask_batch(sequence_batch)\n",
        "\n",
        "            # generating class and masked token predictions\n",
        "            clsf_logits, token_logits= model(masked_tokens, location_batch, masked_token_locations)\n",
        "\n",
        "            # setting up target for masked token prediction\n",
        "            masked_token_targets= sequence_batch[masked_token_locations.bool()]\n",
        "\n",
        "            # calculating loss for masked language modeling\n",
        "            loss_mlm= token_criterion(token_logits, masked_token_targets)\n",
        "\n",
        "            # calculating loss for next sentence classification\n",
        "            loss_clsf= classification_criterion(clsf_logits.squeeze(), classtarg_batch.float())\n",
        "\n",
        "            # combining losses\n",
        "            loss= loss_mlm + loss_clsf\n",
        "\n",
        "            # keeping track of loss across the current epoch\n",
        "            losses[-1].append(float(loss))\n",
        "\n",
        "            # backpropagation\n",
        "            loss.backward()\n",
        "            optimizer.step()\n",
        "\n",
        "\n",
        "        print(f'=======Epoch {epoch} Completed=======')\n",
        "        print(f'Average loss in this epoch: {np.mean(losses[-1])}')\n",
        "        losses.append([])\n",
        "\n",
        "    return losses\n",
        "\n",
        "\n",
        "losses_hist= self_supervised_train(model, lr=0.001, epochs=10)"
      ]
    },
    {
      "cell_type": "markdown",
      "source": [
        "Working through some highlights:\n",
        "- We define our model, and put it on the device (a CPU or GPU)\n",
        "- We define \"criteria\", these are the functions which will calculate the loss (how wrong the model was) from masked language modeling and next sentence prediction\n",
        "- We define an optimizer, which will look at how large the loss was and update the model accordingly\n",
        "- We go over all the data over n epochs\n",
        "- We iterate over all batches of the data\n",
        "- We mask our batch randomly with the masking function we defined previously\n",
        "- We run the masked tokens, along with location information and where the masked tokens are, through the model. We get back predictions for next sentence prediction and predictions as to what the model thinks each masked token should be\n",
        "- We pass our predictions through each respective criterion, with what the outputs should have been, to calculate loss\n",
        "- We call loss.backward() to calculate how the model should change to be less wrong at this particular example\n",
        "- We allow the optimizer to update the model based on the model's performance on this batch"
      ],
      "metadata": {
        "id": "IPxomptS-2mf"
      }
    },
    {
      "cell_type": "markdown",
      "metadata": {
        "id": "HV3lwQVI9LXQ"
      },
      "source": [
        "# Fine Tuning BERT"
      ]
    },
    {
      "cell_type": "markdown",
      "source": [
        "The exact process of fine tuning depends on the type of data you're trying to fine tune against. Let's use sentiment analysis as an example.\n",
        "\n",
        "Now have a BERT model that has some understanding of text. Let's use it to do something. The amazon_polarity dataset is an open dataset from amazon that contains information about whether a review is positive or negative. It consists of a big batch of review titles, review content, and labels saying if the review is positive or negative."
      ],
      "metadata": {
        "id": "QT0or_F4_FCl"
      }
    },
    {
      "cell_type": "code",
      "execution_count": 20,
      "metadata": {
        "colab": {
          "base_uri": "https://localhost:8080/",
          "height": 310,
          "referenced_widgets": [
            "e80c9012ce9d4f63bb225f1e46aaa54d",
            "a03dffe3e71d41cebd25399440768f7a",
            "1514f4810b6e468bbdb304babb3c08fe",
            "a72cb726f9bc47e3b195a10afc6439d5",
            "0109dea9490f4324ab1bddd89c31eb92",
            "15dd5fefca504093af27eae028a74139",
            "51999b3daa87483d8bc03fff2d2d8302",
            "51e670a2af594b778aa4af0e50cb87d6",
            "811cd4f41da64579a0632e560ba37e36",
            "fbc4468c1e274176a56442f841b9ab9d",
            "9c6219937c2947c79d806e6ab8b4951d",
            "2d9d5a9f1254421c978154a32e38dba9",
            "633f3598f50e454b8ff420db9b05b02a",
            "d7b66a8d38ce497e84e267ecddb0199d",
            "fa4cd691bfad45119bacc8d8a23a77f3",
            "c27eccaf13c94828b752285c167dbcd2",
            "755176d25851442080ced8bbeb8d058f",
            "a5b58237d5854df6a73b64be39a50001",
            "e30af639a3c74d5d809d55196fb9be28",
            "32a845f4bebd49bb8df3c53a925e3b8d",
            "39c835a93c3b450b91ed990c17a92bdb",
            "591dae37832045e7a420ddfe5c397760",
            "1938935395b94daaa473e796ee38cec6",
            "60a64ad9cd9b4f9b89170c6ad1d2aabc",
            "823fdcffe4d94447b5cdded83357c329",
            "ced1f051accc4eafbb22ab71651d6e7f",
            "519d7d18e59e4b3da41b80dcccb92b9d",
            "4cb50581766649cfb50a5f8ff2317d79",
            "4632fcbac79e4f4cba82d17225d14732",
            "5f0351bad1b146d8bbc80e2289a56910",
            "b4cae48b8570442b86ae6c70804a84ec",
            "67bb8095537b4f86a30f39b3c66f79e8",
            "83025a37dcb04ba9a48645987194b51a",
            "d6e95268d5c142c991dbf921b2194bbd",
            "9f63fbd2a82f42c582370e9e2f8585ae",
            "62450f1ada7f4ec783bb542c1c01bfb7",
            "89997b9d1f1243c9923a60f6b977e7bc",
            "cf55b88382584b23989d9f7f985c7431",
            "cbac7a17c8914ddfa9896caca91c535d",
            "7228cb30708c4bde987b96b962528ef0",
            "3a4faee7c1674d1eb64c6f12d8f53db3",
            "4b33dd06bdcd4ec9b67a2ae884d5d13c",
            "ade8dd39e02a40a49ab1fdf8a3cf696a",
            "b8affd45e3744ead815a4e4eb499c169",
            "c904e389f2844730ad32f7021d9d33ab",
            "9965fb96378643bea5506a1d8815569e",
            "35d5ebdba54b482684f41554f39b2bff",
            "c1b9371b544043c5a7fbf7827aaed99d",
            "41e9ea212c074bcb9726344b13f0aa46",
            "c62038dcd2c646a88e6084f35fb57149",
            "8e0b2d9e82f0420da094158341a839df",
            "0c1539975c0a4f9bb43c18a2fa830df7",
            "47827f2b2dd549128162c52004d244ab",
            "ef9959ab158542da8c926eb54ce63259",
            "44a012823c5948adb87e289e87820c11",
            "20887aeed0e74ba0befcc5f7e0f3efe0",
            "ad8490da29074daa8909c286e6ee3cb7",
            "6125ca1f70834137b8b1f6013c009b64",
            "e53fe76cfa324c6bb31eeba30a7a6a0f",
            "973263ea5cd944f2be1f3e86fc2c67be",
            "d6edaf5720684942b928652837fd0d76",
            "b1a0a4d8f8124669abec657419d62321",
            "6496e98c2ae241519d0d93d498c0feba",
            "83288b9680ba44f79b0e3316caed0876",
            "cd3081e421784e2eb010897a0733e2ff",
            "625e75998af94772a8453374ca314c58",
            "c267fb3a46ba4b4ba44df270d9183835",
            "44ac473500974a86b0b7df73369973e5",
            "164e6631b3de4d78a6421eb811a4118e",
            "1c0fe2d5157f472795a82d21614e9d89",
            "be7acc2dd7484861bf44cb6239efdef4",
            "5f3e75f4653f435b81bb2d708636d59e",
            "610b056e40b749eaa4082da0f6691847",
            "23fbe0b425f445d5af8d0c7d9a3b651b",
            "812f6a01f7804a90b3fe56a98f5b5e71",
            "fd19d00ce7854a42aa1f264d41cfb662",
            "927c1ad0adbd4e4ba1a2ca9e62abe9f5",
            "50e632cd13014acb98d1c15df3e812f9",
            "7620b6ad285e490d9030f17678ecb12b",
            "75c632c5edab4d95bcaf989f91d7902e",
            "5af2b35fde4c42498b6ffca2198618ef",
            "3f6ac8bb353d4df8b28ccd0bc98a3253",
            "e7855886b2c64706806bba97c39b6fa4",
            "883ce5226590434a99d64c891603c323",
            "a1985785aaa34de0895a5bdd23d3da49",
            "505e4e959fe94b0088290b7526e4d7bf",
            "cc5ac5111f2e410b8718b8f57a5cda00",
            "9f0f19fd5b254694a2877adf279d3522"
          ]
        },
        "id": "mG1e_iO74-X3",
        "outputId": "d2da5cba-6416-408d-9712-1e8e8519af1f"
      },
      "outputs": [
        {
          "output_type": "display_data",
          "data": {
            "text/plain": [
              "README.md:   0%|          | 0.00/6.81k [00:00<?, ?B/s]"
            ],
            "application/vnd.jupyter.widget-view+json": {
              "version_major": 2,
              "version_minor": 0,
              "model_id": "e80c9012ce9d4f63bb225f1e46aaa54d"
            }
          },
          "metadata": {}
        },
        {
          "output_type": "display_data",
          "data": {
            "text/plain": [
              "train-00000-of-00004.parquet:   0%|          | 0.00/260M [00:00<?, ?B/s]"
            ],
            "application/vnd.jupyter.widget-view+json": {
              "version_major": 2,
              "version_minor": 0,
              "model_id": "2d9d5a9f1254421c978154a32e38dba9"
            }
          },
          "metadata": {}
        },
        {
          "output_type": "display_data",
          "data": {
            "text/plain": [
              "train-00001-of-00004.parquet:   0%|          | 0.00/258M [00:00<?, ?B/s]"
            ],
            "application/vnd.jupyter.widget-view+json": {
              "version_major": 2,
              "version_minor": 0,
              "model_id": "1938935395b94daaa473e796ee38cec6"
            }
          },
          "metadata": {}
        },
        {
          "output_type": "display_data",
          "data": {
            "text/plain": [
              "train-00002-of-00004.parquet:   0%|          | 0.00/255M [00:00<?, ?B/s]"
            ],
            "application/vnd.jupyter.widget-view+json": {
              "version_major": 2,
              "version_minor": 0,
              "model_id": "d6e95268d5c142c991dbf921b2194bbd"
            }
          },
          "metadata": {}
        },
        {
          "output_type": "display_data",
          "data": {
            "text/plain": [
              "train-00003-of-00004.parquet:   0%|          | 0.00/254M [00:00<?, ?B/s]"
            ],
            "application/vnd.jupyter.widget-view+json": {
              "version_major": 2,
              "version_minor": 0,
              "model_id": "c904e389f2844730ad32f7021d9d33ab"
            }
          },
          "metadata": {}
        },
        {
          "output_type": "display_data",
          "data": {
            "text/plain": [
              "test-00000-of-00001.parquet:   0%|          | 0.00/117M [00:00<?, ?B/s]"
            ],
            "application/vnd.jupyter.widget-view+json": {
              "version_major": 2,
              "version_minor": 0,
              "model_id": "20887aeed0e74ba0befcc5f7e0f3efe0"
            }
          },
          "metadata": {}
        },
        {
          "output_type": "display_data",
          "data": {
            "text/plain": [
              "Generating train split:   0%|          | 0/3600000 [00:00<?, ? examples/s]"
            ],
            "application/vnd.jupyter.widget-view+json": {
              "version_major": 2,
              "version_minor": 0,
              "model_id": "c267fb3a46ba4b4ba44df270d9183835"
            }
          },
          "metadata": {}
        },
        {
          "output_type": "display_data",
          "data": {
            "text/plain": [
              "Generating test split:   0%|          | 0/400000 [00:00<?, ? examples/s]"
            ],
            "application/vnd.jupyter.widget-view+json": {
              "version_major": 2,
              "version_minor": 0,
              "model_id": "50e632cd13014acb98d1c15df3e812f9"
            }
          },
          "metadata": {}
        },
        {
          "output_type": "stream",
          "name": "stdout",
          "text": [
            "{'label': 1, 'title': 'Stuning even for the non-gamer', 'content': 'This sound track was beautiful! It paints the senery in your mind so well I would recomend it even to people who hate vid. game music! I have played the game Chrono Cross but out of all of the games I have ever played it has the best music! It backs away from crude keyboarding and takes a fresher step with grate guitars and soulful orchestras. It would impress anyone who cares to listen! ^_^'}\n"
          ]
        }
      ],
      "source": [
        "fine_tune_ds= load_dataset('fancyzhx/amazon_polarity')\n",
        "\n",
        "for elem in fine_tune_ds['train']:\n",
        "    print(elem)\n",
        "    break"
      ]
    },
    {
      "cell_type": "markdown",
      "source": [
        "We are going to use this data to fine tune our BERT model to predict if the review is positive or negative.\n",
        "\n",
        "First we need to turn this data into data that makes sense in a BERT model. The exact approach for this process can vary from task to task. Luckily for us this dataset consists of pairs of sentences (the title and content) so we can format the fine-tuned data just like we formatted the pre-training data previously."
      ],
      "metadata": {
        "id": "3nJ2TopS_QY7"
      }
    },
    {
      "cell_type": "code",
      "execution_count": 21,
      "metadata": {
        "id": "vAXZO1BW4-as"
      },
      "outputs": [],
      "source": [
        "def preprocess_ft_data(data, max_num=100000):\n",
        "\n",
        "    data_tokens= []\n",
        "    data_positional= []\n",
        "    data_targets= []\n",
        "\n",
        "    # unpacking data\n",
        "    for i, elem in enumerate(data):\n",
        "\n",
        "        # tokenizing the title and content\n",
        "        sentence1= elem['title']\n",
        "        sentence2= elem['content']\n",
        "        tokens= tokenizer([sentence1, sentence2])\n",
        "        sentence1_tokens= tokens['input_ids'][0]\n",
        "        sentence2_tokens= tokens['input_ids'][1]\n",
        "\n",
        "        # trimming down tokens\n",
        "        if len(sentence1_tokens) + len(sentence2_tokens) > max_input_length:\n",
        "            sentence1_tokens= [101] + sentence1_tokens[-int(max_input_length / 2) + 1:]\n",
        "            sentence2_tokens= sentence2_tokens[:int(max_input_length / 2) - 1] + [102]\n",
        "\n",
        "        # creating sentence tokens\n",
        "        sentence_tokens= [0] * len(sentence1_tokens) + [1] * len(sentence2_tokens)\n",
        "\n",
        "        # combining and padding\n",
        "        pad_num= max_input_length - (len(sentence1_tokens) + len(sentence2_tokens))\n",
        "        sequence_tokens= sentence1_tokens + sentence2_tokens + [0] * pad_num\n",
        "        sentence_location_tokens= sentence_tokens + [1] * pad_num\n",
        "\n",
        "        data_tokens.append(sequence_tokens)\n",
        "        data_positional.append(sentence_location_tokens)\n",
        "        data_targets.append(elem['label'])\n",
        "\n",
        "        if i> max_num:\n",
        "            break\n",
        "\n",
        "    return torch.tensor(data_positional), torch.tensor(data_tokens), torch.tensor(data_targets)\n",
        "\n",
        "\n",
        "# processing data into modeling data\n",
        "train_pos, train_tok, train_targ= preprocess_ft_data(fine_tune_ds['train'])\n",
        "test_pos, test_tok, test_targ= preprocess_ft_data(fine_tune_ds['test'])\n",
        "\n",
        "# moving training to device\n",
        "train_pos= train_pos.to(device)\n",
        "train_tok= train_tok.to(device)\n",
        "train_targ= train_targ.to(device)\n",
        "\n",
        "# moving testing to device\n",
        "test_pos= test_pos.to(device)\n",
        "test_tok= test_tok.to(device)\n",
        "test_targ= test_targ.to(device)"
      ]
    },
    {
      "cell_type": "markdown",
      "source": [
        "Before we fine tune let's replace the classifier with a randomly initialized model. This allows us to preserve BERT's general language understanding, but start fresh in terms of the part of the model that's doing the classification, which is good to do because we are classifying something completely different."
      ],
      "metadata": {
        "id": "Apf62_SE_Y2b"
      }
    },
    {
      "cell_type": "code",
      "execution_count": 22,
      "metadata": {
        "id": "AuXL6QNvP0qC"
      },
      "outputs": [],
      "source": [
        "# the new training objective is still binary classification, except these parameters will be used\n",
        "# to decide if a review was positive or negative\n",
        "model.classifier= nn.Linear(d_model, 1, bias=False).to(device)"
      ]
    },
    {
      "cell_type": "markdown",
      "source": [
        "Supervised Training for fine tuning the model We can run the same pre training code as before, except on the fine tuned dataset and with the pre-trained model with a new classification head. Here we don't care about the masked language\n",
        "modeling objective, so we are passing the original tokens into the model rather than the masked ones. If you wanted to do this properly you would artificially create a mask of all zeros.\n",
        "\n",
        "Actually, when I ran this model I forgot to change any of this code, so I was still optimizing on masked language modeling as well as optimizing on the the classification of positive or negative reviews. I'm sure you could experiment with that strategy, there might be some merit to getting the model to better understand the type of text used in reviews specifically."
      ],
      "metadata": {
        "id": "IaproXls_fVv"
      }
    },
    {
      "cell_type": "code",
      "execution_count": 23,
      "metadata": {
        "id": "KBgiPdLYGtMx",
        "colab": {
          "base_uri": "https://localhost:8080/"
        },
        "outputId": "1262c720-c43d-4d43-f385-ecb0345cd607"
      },
      "outputs": [
        {
          "output_type": "stream",
          "name": "stderr",
          "text": [
            "100%|█████████▉| 781/782 [01:30<00:00,  8.68it/s]\n"
          ]
        },
        {
          "output_type": "stream",
          "name": "stdout",
          "text": [
            "=======Epoch 0 Completed=======\n",
            "Average loss in this epoch: 0.6921880806911923\n"
          ]
        },
        {
          "output_type": "stream",
          "name": "stderr",
          "text": [
            "100%|█████████▉| 781/782 [01:31<00:00,  8.49it/s]\n"
          ]
        },
        {
          "output_type": "stream",
          "name": "stdout",
          "text": [
            "=======Epoch 1 Completed=======\n",
            "Average loss in this epoch: 0.6899098737139098\n"
          ]
        },
        {
          "output_type": "stream",
          "name": "stderr",
          "text": [
            "100%|█████████▉| 781/782 [01:31<00:00,  8.52it/s]\n"
          ]
        },
        {
          "output_type": "stream",
          "name": "stdout",
          "text": [
            "=======Epoch 2 Completed=======\n",
            "Average loss in this epoch: 0.6870312383935027\n"
          ]
        },
        {
          "output_type": "stream",
          "name": "stderr",
          "text": [
            "100%|█████████▉| 781/782 [01:31<00:00,  8.55it/s]\n"
          ]
        },
        {
          "output_type": "stream",
          "name": "stdout",
          "text": [
            "=======Epoch 3 Completed=======\n",
            "Average loss in this epoch: 0.6839539959702388\n"
          ]
        },
        {
          "output_type": "stream",
          "name": "stderr",
          "text": [
            "100%|█████████▉| 781/782 [01:32<00:00,  8.45it/s]\n"
          ]
        },
        {
          "output_type": "stream",
          "name": "stdout",
          "text": [
            "=======Epoch 4 Completed=======\n",
            "Average loss in this epoch: 0.6775775068700696\n"
          ]
        },
        {
          "output_type": "stream",
          "name": "stderr",
          "text": [
            "100%|█████████▉| 781/782 [01:31<00:00,  8.56it/s]\n"
          ]
        },
        {
          "output_type": "stream",
          "name": "stdout",
          "text": [
            "=======Epoch 5 Completed=======\n",
            "Average loss in this epoch: 0.6607299028071796\n"
          ]
        },
        {
          "output_type": "stream",
          "name": "stderr",
          "text": [
            "100%|█████████▉| 781/782 [01:30<00:00,  8.67it/s]\n"
          ]
        },
        {
          "output_type": "stream",
          "name": "stdout",
          "text": [
            "=======Epoch 6 Completed=======\n",
            "Average loss in this epoch: 0.6431658753359669\n"
          ]
        },
        {
          "output_type": "stream",
          "name": "stderr",
          "text": [
            "100%|█████████▉| 781/782 [01:29<00:00,  8.70it/s]\n"
          ]
        },
        {
          "output_type": "stream",
          "name": "stdout",
          "text": [
            "=======Epoch 7 Completed=======\n",
            "Average loss in this epoch: 0.6176595773342782\n"
          ]
        },
        {
          "output_type": "stream",
          "name": "stderr",
          "text": [
            "100%|█████████▉| 781/782 [01:30<00:00,  8.67it/s]\n"
          ]
        },
        {
          "output_type": "stream",
          "name": "stdout",
          "text": [
            "=======Epoch 8 Completed=======\n",
            "Average loss in this epoch: 0.580776314271397\n"
          ]
        },
        {
          "output_type": "stream",
          "name": "stderr",
          "text": [
            "100%|█████████▉| 781/782 [01:29<00:00,  8.72it/s]\n"
          ]
        },
        {
          "output_type": "stream",
          "name": "stdout",
          "text": [
            "=======Epoch 9 Completed=======\n",
            "Average loss in this epoch: 0.5552138947570522\n"
          ]
        },
        {
          "output_type": "stream",
          "name": "stderr",
          "text": [
            "100%|█████████▉| 781/782 [01:30<00:00,  8.59it/s]\n"
          ]
        },
        {
          "output_type": "stream",
          "name": "stdout",
          "text": [
            "=======Epoch 10 Completed=======\n",
            "Average loss in this epoch: 0.5331954708019994\n"
          ]
        },
        {
          "output_type": "stream",
          "name": "stderr",
          "text": [
            "100%|█████████▉| 781/782 [01:29<00:00,  8.76it/s]\n"
          ]
        },
        {
          "output_type": "stream",
          "name": "stdout",
          "text": [
            "=======Epoch 11 Completed=======\n",
            "Average loss in this epoch: 0.5134156649305024\n"
          ]
        },
        {
          "output_type": "stream",
          "name": "stderr",
          "text": [
            "100%|█████████▉| 781/782 [01:30<00:00,  8.63it/s]\n"
          ]
        },
        {
          "output_type": "stream",
          "name": "stdout",
          "text": [
            "=======Epoch 12 Completed=======\n",
            "Average loss in this epoch: 0.49871071402303085\n"
          ]
        },
        {
          "output_type": "stream",
          "name": "stderr",
          "text": [
            "100%|█████████▉| 781/782 [01:30<00:00,  8.66it/s]\n"
          ]
        },
        {
          "output_type": "stream",
          "name": "stdout",
          "text": [
            "=======Epoch 13 Completed=======\n",
            "Average loss in this epoch: 0.4830604811102419\n"
          ]
        },
        {
          "output_type": "stream",
          "name": "stderr",
          "text": [
            "100%|█████████▉| 781/782 [01:30<00:00,  8.66it/s]\n"
          ]
        },
        {
          "output_type": "stream",
          "name": "stdout",
          "text": [
            "=======Epoch 14 Completed=======\n",
            "Average loss in this epoch: 0.47440942763213767\n"
          ]
        },
        {
          "output_type": "stream",
          "name": "stderr",
          "text": [
            "100%|█████████▉| 781/782 [01:31<00:00,  8.51it/s]\n"
          ]
        },
        {
          "output_type": "stream",
          "name": "stdout",
          "text": [
            "=======Epoch 15 Completed=======\n",
            "Average loss in this epoch: 0.4632896174236693\n"
          ]
        },
        {
          "output_type": "stream",
          "name": "stderr",
          "text": [
            "100%|█████████▉| 781/782 [01:30<00:00,  8.59it/s]\n"
          ]
        },
        {
          "output_type": "stream",
          "name": "stdout",
          "text": [
            "=======Epoch 16 Completed=======\n",
            "Average loss in this epoch: 0.4652010612619061\n"
          ]
        },
        {
          "output_type": "stream",
          "name": "stderr",
          "text": [
            "100%|█████████▉| 781/782 [01:30<00:00,  8.61it/s]\n"
          ]
        },
        {
          "output_type": "stream",
          "name": "stdout",
          "text": [
            "=======Epoch 17 Completed=======\n",
            "Average loss in this epoch: 0.45209886459931825\n"
          ]
        },
        {
          "output_type": "stream",
          "name": "stderr",
          "text": [
            "100%|█████████▉| 781/782 [01:31<00:00,  8.51it/s]\n"
          ]
        },
        {
          "output_type": "stream",
          "name": "stdout",
          "text": [
            "=======Epoch 18 Completed=======\n",
            "Average loss in this epoch: 0.4460503423107113\n"
          ]
        },
        {
          "output_type": "stream",
          "name": "stderr",
          "text": [
            "100%|█████████▉| 781/782 [01:30<00:00,  8.67it/s]"
          ]
        },
        {
          "output_type": "stream",
          "name": "stdout",
          "text": [
            "=======Epoch 19 Completed=======\n",
            "Average loss in this epoch: 0.44361836118826337\n"
          ]
        },
        {
          "output_type": "stream",
          "name": "stderr",
          "text": [
            "\n"
          ]
        }
      ],
      "source": [
        "def supervised_train(model, lr=1e-3, epochs=50):\n",
        "\n",
        "    # for logits directly\n",
        "    classification_criterion= nn.BCEWithLogitsLoss()\n",
        "\n",
        "    # resetting the optimizer to have access to the parameters of the new head\n",
        "    optimizer= optim.Adam(model.parameters(), lr=lr)\n",
        "\n",
        "    ft_losses= [[] * 1]\n",
        "\n",
        "    for epoch in range(epochs):\n",
        "        for i in tqdm(range(0, train_pos.shape[0], batch_size)):\n",
        "\n",
        "            if i+batch_size>= train_pos.shape[0]:\n",
        "                break\n",
        "\n",
        "            # getting batch\n",
        "            train_pos_batch= train_pos[i:i+batch_size]\n",
        "            train_tok_batch= train_tok[i:i+batch_size]\n",
        "            train_targ_batch= train_targ[i:i+batch_size]\n",
        "\n",
        "            # zeroing out gradients from last iteration\n",
        "            optimizer.zero_grad()\n",
        "\n",
        "            # masking the tokens in the input sequence\n",
        "            masked_tokens, masked_token_locations= mask_batch(train_tok_batch)\n",
        "\n",
        "            # generating class and masked token predictions -- we do not use masked_tokens in the\n",
        "            # fine tuning process since after we train our model, the [MASK] token will never be\n",
        "            # seen when the model is actually being used and making inferences.\n",
        "            clsf_logits, token_logits= model(train_tok_batch, train_pos_batch, masked_token_locations)\n",
        "\n",
        "            # setting up target for masked token prediction -- not used in fine tuning\n",
        "            #masked_token_targets= train_tok_batch[masked_token_locations.bool()]\n",
        "\n",
        "            # calculating loss for next sentence classification\n",
        "            loss_clsf= classification_criterion(clsf_logits.squeeze(), train_targ_batch.float())\n",
        "\n",
        "            # combining losses -- we are not optimizing the masked language modeling objective\n",
        "            loss= loss_clsf\n",
        "\n",
        "            ft_losses[-1].append(float(loss))\n",
        "\n",
        "            # backpropagation\n",
        "            loss.backward()\n",
        "            optimizer.step()\n",
        "\n",
        "        print(f'=======Epoch {epoch} Completed=======')\n",
        "        print(f'Average loss in this epoch: {np.mean(ft_losses[-1])}')\n",
        "        ft_losses.append([])\n",
        "\n",
        "    return ft_losses\n",
        "\n",
        "\n",
        "losses_hist= supervised_train(model, lr=0.001, epochs=20)"
      ]
    },
    {
      "cell_type": "code",
      "execution_count": 28,
      "metadata": {
        "id": "IJxikJVBGtRT",
        "colab": {
          "base_uri": "https://localhost:8080/"
        },
        "outputId": "ba4e1f5b-0b34-400f-8d69-497ce867ca73"
      },
      "outputs": [
        {
          "output_type": "stream",
          "name": "stderr",
          "text": [
            "100%|█████████▉| 781/782 [00:07<00:00, 105.01it/s]\n"
          ]
        },
        {
          "output_type": "stream",
          "name": "stdout",
          "text": [
            "\n",
            "BERT-based model accuracy: 77.30%\n"
          ]
        }
      ],
      "source": [
        "\"\"\"\n",
        "This dataset has a test set, so we can apply this fine tuned BERT model to see how good it is at\n",
        "classifying reviews it's never seen before.\n",
        "\"\"\"\n",
        "\n",
        "def test_accuracy(model):\n",
        "\n",
        "    is_correct= []\n",
        "    predicted_class= []\n",
        "    original_class= []\n",
        "\n",
        "    for i in tqdm(range(0, test_pos.shape[0], batch_size)):\n",
        "\n",
        "        if i+batch_size>= test_pos.shape[0]:\n",
        "            break\n",
        "\n",
        "        # getting batch\n",
        "        test_pos_batch= test_pos[i:i+batch_size]\n",
        "        test_tok_batch= test_tok[i:i+batch_size]\n",
        "        test_targ_batch= test_targ[i:i+batch_size]\n",
        "\n",
        "        # making prediction, not masking anything\n",
        "        clsf_logits, _= model(test_tok_batch, test_pos_batch, torch.zeros(test_pos_batch.shape))\n",
        "\n",
        "        # converting logits to probabilities then rounding to classifications\n",
        "        res= torch.sigmoid(clsf_logits).round().squeeze()\n",
        "\n",
        "        # keeping track of the original class (positive or negative) and if the model was correct\n",
        "        original_class.extend(np.array(test_targ_batch.to('cpu')))\n",
        "        is_correct.extend(np.array((res== test_targ_batch).to('cpu')))\n",
        "        predicted_class.extend(np.array(res.detach().to('cpu')))\n",
        "\n",
        "    # accuracy rate, original_class, and predicted_class\n",
        "    return (sum(list(is_correct)) / len(is_correct)), original_class, predicted_class\n",
        "\n",
        "\n",
        "acc, original_class, predicted_class= test_accuracy(model)\n",
        "print(f'\\nBERT-based model accuracy: {(acc * 100):02.2f}%')"
      ]
    },
    {
      "cell_type": "code",
      "execution_count": 29,
      "metadata": {
        "id": "nNpMG5YjGtgp",
        "colab": {
          "base_uri": "https://localhost:8080/"
        },
        "outputId": "2af51a47-95c0-4b09-ac98-35d25ea7df85"
      },
      "outputs": [
        {
          "output_type": "stream",
          "name": "stdout",
          "text": [
            "              precision    recall  f1-score   support\n",
            "\n",
            "           0       0.75      0.81      0.78     49405\n",
            "           1       0.80      0.74      0.77     50563\n",
            "\n",
            "    accuracy                           0.77     99968\n",
            "   macro avg       0.77      0.77      0.77     99968\n",
            "weighted avg       0.77      0.77      0.77     99968\n",
            "\n"
          ]
        }
      ],
      "source": [
        "from sklearn.metrics import confusion_matrix, classification_report\n",
        "\n",
        "print(classification_report(original_class, predicted_class))"
      ]
    },
    {
      "cell_type": "markdown",
      "source": [
        "We got a model that could classify if a review was positive or negative with a 77.3% accuracy. That might not sound that impressive, but the BERT model used in this example is virtually microscopic. If you used more encoder blocks, a larger model dimension, and played around with a few other model parameters I think you could easily pass 90%.\n",
        "\n",
        "We actually created a BERT style model. We explored tokenization, data processing, embedding, multi-headed self-attention, pointwise feed forward, pre-training, and fine tuning. By the end of that process we had created a BERT style model, trained it on Wiki articles to understand text, then fine-tuned it to classify if product reviews were positive or negative."
      ],
      "metadata": {
        "id": "_WMpu_jS_sp0"
      }
    },
    {
      "cell_type": "code",
      "execution_count": 25,
      "metadata": {
        "id": "H_qHqniuVz7v"
      },
      "outputs": [],
      "source": []
    },
    {
      "cell_type": "code",
      "execution_count": 26,
      "metadata": {
        "id": "m7RToiqY4-eQ"
      },
      "outputs": [],
      "source": [
        "# https://towardsdatascience.com/bert-intuitively-and-exhaustively-explained-48a24ecc1c8a"
      ]
    },
    {
      "cell_type": "code",
      "execution_count": 27,
      "metadata": {
        "id": "ybIkDCXBzVCz"
      },
      "outputs": [],
      "source": [
        "# https://github.com/DanielWarfield1/MLWritingAndResearch/blob/main/BERTFromScratch.ipynb"
      ]
    }
  ],
  "metadata": {
    "accelerator": "GPU",
    "colab": {
      "gpuType": "T4",
      "toc_visible": true,
      "provenance": []
    },
    "kernelspec": {
      "display_name": "Python 3",
      "name": "python3"
    },
    "language_info": {
      "name": "python"
    },
    "widgets": {
      "application/vnd.jupyter.widget-state+json": {
        "064ef1713432409db494bb9437d2096c": {
          "model_module": "@jupyter-widgets/controls",
          "model_name": "HBoxModel",
          "model_module_version": "1.5.0",
          "state": {
            "_dom_classes": [],
            "_model_module": "@jupyter-widgets/controls",
            "_model_module_version": "1.5.0",
            "_model_name": "HBoxModel",
            "_view_count": null,
            "_view_module": "@jupyter-widgets/controls",
            "_view_module_version": "1.5.0",
            "_view_name": "HBoxView",
            "box_style": "",
            "children": [
              "IPY_MODEL_cd5b8ba7e16f42cbb1ba95265fd80e7c",
              "IPY_MODEL_3e649daa12354723811117d7c4120cc9",
              "IPY_MODEL_d037015dbbea42209479885379d5c4f1"
            ],
            "layout": "IPY_MODEL_874fb36326a94b119eda7894aa1ecddf"
          }
        },
        "cd5b8ba7e16f42cbb1ba95265fd80e7c": {
          "model_module": "@jupyter-widgets/controls",
          "model_name": "HTMLModel",
          "model_module_version": "1.5.0",
          "state": {
            "_dom_classes": [],
            "_model_module": "@jupyter-widgets/controls",
            "_model_module_version": "1.5.0",
            "_model_name": "HTMLModel",
            "_view_count": null,
            "_view_module": "@jupyter-widgets/controls",
            "_view_module_version": "1.5.0",
            "_view_name": "HTMLView",
            "description": "",
            "description_tooltip": null,
            "layout": "IPY_MODEL_4847d23f074042f29b865d3491f161dc",
            "placeholder": "​",
            "style": "IPY_MODEL_32ac17081bf64a4599c0fb9b7b52377e",
            "value": "wikipedia.py: 100%"
          }
        },
        "3e649daa12354723811117d7c4120cc9": {
          "model_module": "@jupyter-widgets/controls",
          "model_name": "FloatProgressModel",
          "model_module_version": "1.5.0",
          "state": {
            "_dom_classes": [],
            "_model_module": "@jupyter-widgets/controls",
            "_model_module_version": "1.5.0",
            "_model_name": "FloatProgressModel",
            "_view_count": null,
            "_view_module": "@jupyter-widgets/controls",
            "_view_module_version": "1.5.0",
            "_view_name": "ProgressView",
            "bar_style": "success",
            "description": "",
            "description_tooltip": null,
            "layout": "IPY_MODEL_b22aaedb1b724bd29c673f137759e5c2",
            "max": 36699,
            "min": 0,
            "orientation": "horizontal",
            "style": "IPY_MODEL_9ba26c72688f43d4bec7f9ba4bae8ebc",
            "value": 36699
          }
        },
        "d037015dbbea42209479885379d5c4f1": {
          "model_module": "@jupyter-widgets/controls",
          "model_name": "HTMLModel",
          "model_module_version": "1.5.0",
          "state": {
            "_dom_classes": [],
            "_model_module": "@jupyter-widgets/controls",
            "_model_module_version": "1.5.0",
            "_model_name": "HTMLModel",
            "_view_count": null,
            "_view_module": "@jupyter-widgets/controls",
            "_view_module_version": "1.5.0",
            "_view_name": "HTMLView",
            "description": "",
            "description_tooltip": null,
            "layout": "IPY_MODEL_5efe2e287d884321bb2ad8bb6d402bb0",
            "placeholder": "​",
            "style": "IPY_MODEL_03b401cb036641d49e3ea238986a5870",
            "value": " 36.7k/36.7k [00:00&lt;00:00, 2.44MB/s]"
          }
        },
        "874fb36326a94b119eda7894aa1ecddf": {
          "model_module": "@jupyter-widgets/base",
          "model_name": "LayoutModel",
          "model_module_version": "1.2.0",
          "state": {
            "_model_module": "@jupyter-widgets/base",
            "_model_module_version": "1.2.0",
            "_model_name": "LayoutModel",
            "_view_count": null,
            "_view_module": "@jupyter-widgets/base",
            "_view_module_version": "1.2.0",
            "_view_name": "LayoutView",
            "align_content": null,
            "align_items": null,
            "align_self": null,
            "border": null,
            "bottom": null,
            "display": null,
            "flex": null,
            "flex_flow": null,
            "grid_area": null,
            "grid_auto_columns": null,
            "grid_auto_flow": null,
            "grid_auto_rows": null,
            "grid_column": null,
            "grid_gap": null,
            "grid_row": null,
            "grid_template_areas": null,
            "grid_template_columns": null,
            "grid_template_rows": null,
            "height": null,
            "justify_content": null,
            "justify_items": null,
            "left": null,
            "margin": null,
            "max_height": null,
            "max_width": null,
            "min_height": null,
            "min_width": null,
            "object_fit": null,
            "object_position": null,
            "order": null,
            "overflow": null,
            "overflow_x": null,
            "overflow_y": null,
            "padding": null,
            "right": null,
            "top": null,
            "visibility": null,
            "width": null
          }
        },
        "4847d23f074042f29b865d3491f161dc": {
          "model_module": "@jupyter-widgets/base",
          "model_name": "LayoutModel",
          "model_module_version": "1.2.0",
          "state": {
            "_model_module": "@jupyter-widgets/base",
            "_model_module_version": "1.2.0",
            "_model_name": "LayoutModel",
            "_view_count": null,
            "_view_module": "@jupyter-widgets/base",
            "_view_module_version": "1.2.0",
            "_view_name": "LayoutView",
            "align_content": null,
            "align_items": null,
            "align_self": null,
            "border": null,
            "bottom": null,
            "display": null,
            "flex": null,
            "flex_flow": null,
            "grid_area": null,
            "grid_auto_columns": null,
            "grid_auto_flow": null,
            "grid_auto_rows": null,
            "grid_column": null,
            "grid_gap": null,
            "grid_row": null,
            "grid_template_areas": null,
            "grid_template_columns": null,
            "grid_template_rows": null,
            "height": null,
            "justify_content": null,
            "justify_items": null,
            "left": null,
            "margin": null,
            "max_height": null,
            "max_width": null,
            "min_height": null,
            "min_width": null,
            "object_fit": null,
            "object_position": null,
            "order": null,
            "overflow": null,
            "overflow_x": null,
            "overflow_y": null,
            "padding": null,
            "right": null,
            "top": null,
            "visibility": null,
            "width": null
          }
        },
        "32ac17081bf64a4599c0fb9b7b52377e": {
          "model_module": "@jupyter-widgets/controls",
          "model_name": "DescriptionStyleModel",
          "model_module_version": "1.5.0",
          "state": {
            "_model_module": "@jupyter-widgets/controls",
            "_model_module_version": "1.5.0",
            "_model_name": "DescriptionStyleModel",
            "_view_count": null,
            "_view_module": "@jupyter-widgets/base",
            "_view_module_version": "1.2.0",
            "_view_name": "StyleView",
            "description_width": ""
          }
        },
        "b22aaedb1b724bd29c673f137759e5c2": {
          "model_module": "@jupyter-widgets/base",
          "model_name": "LayoutModel",
          "model_module_version": "1.2.0",
          "state": {
            "_model_module": "@jupyter-widgets/base",
            "_model_module_version": "1.2.0",
            "_model_name": "LayoutModel",
            "_view_count": null,
            "_view_module": "@jupyter-widgets/base",
            "_view_module_version": "1.2.0",
            "_view_name": "LayoutView",
            "align_content": null,
            "align_items": null,
            "align_self": null,
            "border": null,
            "bottom": null,
            "display": null,
            "flex": null,
            "flex_flow": null,
            "grid_area": null,
            "grid_auto_columns": null,
            "grid_auto_flow": null,
            "grid_auto_rows": null,
            "grid_column": null,
            "grid_gap": null,
            "grid_row": null,
            "grid_template_areas": null,
            "grid_template_columns": null,
            "grid_template_rows": null,
            "height": null,
            "justify_content": null,
            "justify_items": null,
            "left": null,
            "margin": null,
            "max_height": null,
            "max_width": null,
            "min_height": null,
            "min_width": null,
            "object_fit": null,
            "object_position": null,
            "order": null,
            "overflow": null,
            "overflow_x": null,
            "overflow_y": null,
            "padding": null,
            "right": null,
            "top": null,
            "visibility": null,
            "width": null
          }
        },
        "9ba26c72688f43d4bec7f9ba4bae8ebc": {
          "model_module": "@jupyter-widgets/controls",
          "model_name": "ProgressStyleModel",
          "model_module_version": "1.5.0",
          "state": {
            "_model_module": "@jupyter-widgets/controls",
            "_model_module_version": "1.5.0",
            "_model_name": "ProgressStyleModel",
            "_view_count": null,
            "_view_module": "@jupyter-widgets/base",
            "_view_module_version": "1.2.0",
            "_view_name": "StyleView",
            "bar_color": null,
            "description_width": ""
          }
        },
        "5efe2e287d884321bb2ad8bb6d402bb0": {
          "model_module": "@jupyter-widgets/base",
          "model_name": "LayoutModel",
          "model_module_version": "1.2.0",
          "state": {
            "_model_module": "@jupyter-widgets/base",
            "_model_module_version": "1.2.0",
            "_model_name": "LayoutModel",
            "_view_count": null,
            "_view_module": "@jupyter-widgets/base",
            "_view_module_version": "1.2.0",
            "_view_name": "LayoutView",
            "align_content": null,
            "align_items": null,
            "align_self": null,
            "border": null,
            "bottom": null,
            "display": null,
            "flex": null,
            "flex_flow": null,
            "grid_area": null,
            "grid_auto_columns": null,
            "grid_auto_flow": null,
            "grid_auto_rows": null,
            "grid_column": null,
            "grid_gap": null,
            "grid_row": null,
            "grid_template_areas": null,
            "grid_template_columns": null,
            "grid_template_rows": null,
            "height": null,
            "justify_content": null,
            "justify_items": null,
            "left": null,
            "margin": null,
            "max_height": null,
            "max_width": null,
            "min_height": null,
            "min_width": null,
            "object_fit": null,
            "object_position": null,
            "order": null,
            "overflow": null,
            "overflow_x": null,
            "overflow_y": null,
            "padding": null,
            "right": null,
            "top": null,
            "visibility": null,
            "width": null
          }
        },
        "03b401cb036641d49e3ea238986a5870": {
          "model_module": "@jupyter-widgets/controls",
          "model_name": "DescriptionStyleModel",
          "model_module_version": "1.5.0",
          "state": {
            "_model_module": "@jupyter-widgets/controls",
            "_model_module_version": "1.5.0",
            "_model_name": "DescriptionStyleModel",
            "_view_count": null,
            "_view_module": "@jupyter-widgets/base",
            "_view_module_version": "1.2.0",
            "_view_name": "StyleView",
            "description_width": ""
          }
        },
        "2f1396f5c1154dd38d0634e2a43ab9df": {
          "model_module": "@jupyter-widgets/controls",
          "model_name": "HBoxModel",
          "model_module_version": "1.5.0",
          "state": {
            "_dom_classes": [],
            "_model_module": "@jupyter-widgets/controls",
            "_model_module_version": "1.5.0",
            "_model_name": "HBoxModel",
            "_view_count": null,
            "_view_module": "@jupyter-widgets/controls",
            "_view_module_version": "1.5.0",
            "_view_name": "HBoxView",
            "box_style": "",
            "children": [
              "IPY_MODEL_3cc3ecc84d4742d5906bec06b69dbda9",
              "IPY_MODEL_a8f275dc59344645875306fdadc71c13",
              "IPY_MODEL_1048ff09e943425f850a9c8823e654eb"
            ],
            "layout": "IPY_MODEL_94f243930ab441a099518bd6a7004f6d"
          }
        },
        "3cc3ecc84d4742d5906bec06b69dbda9": {
          "model_module": "@jupyter-widgets/controls",
          "model_name": "HTMLModel",
          "model_module_version": "1.5.0",
          "state": {
            "_dom_classes": [],
            "_model_module": "@jupyter-widgets/controls",
            "_model_module_version": "1.5.0",
            "_model_name": "HTMLModel",
            "_view_count": null,
            "_view_module": "@jupyter-widgets/controls",
            "_view_module_version": "1.5.0",
            "_view_name": "HTMLView",
            "description": "",
            "description_tooltip": null,
            "layout": "IPY_MODEL_2974c6b0a225414080d8f039bc0b572e",
            "placeholder": "​",
            "style": "IPY_MODEL_327f4f38cd30451e87c4cc7d4f9ef06d",
            "value": "README.md: 100%"
          }
        },
        "a8f275dc59344645875306fdadc71c13": {
          "model_module": "@jupyter-widgets/controls",
          "model_name": "FloatProgressModel",
          "model_module_version": "1.5.0",
          "state": {
            "_dom_classes": [],
            "_model_module": "@jupyter-widgets/controls",
            "_model_module_version": "1.5.0",
            "_model_name": "FloatProgressModel",
            "_view_count": null,
            "_view_module": "@jupyter-widgets/controls",
            "_view_module_version": "1.5.0",
            "_view_name": "ProgressView",
            "bar_style": "success",
            "description": "",
            "description_tooltip": null,
            "layout": "IPY_MODEL_a06f91c9a3504900b7ff066526675845",
            "max": 16046,
            "min": 0,
            "orientation": "horizontal",
            "style": "IPY_MODEL_94913d8e150741909e32805af7732ec0",
            "value": 16046
          }
        },
        "1048ff09e943425f850a9c8823e654eb": {
          "model_module": "@jupyter-widgets/controls",
          "model_name": "HTMLModel",
          "model_module_version": "1.5.0",
          "state": {
            "_dom_classes": [],
            "_model_module": "@jupyter-widgets/controls",
            "_model_module_version": "1.5.0",
            "_model_name": "HTMLModel",
            "_view_count": null,
            "_view_module": "@jupyter-widgets/controls",
            "_view_module_version": "1.5.0",
            "_view_name": "HTMLView",
            "description": "",
            "description_tooltip": null,
            "layout": "IPY_MODEL_be98726fba8a4ef5a6e1699df1468d03",
            "placeholder": "​",
            "style": "IPY_MODEL_8df0002797b7417b840271c263f44516",
            "value": " 16.0k/16.0k [00:00&lt;00:00, 1.12MB/s]"
          }
        },
        "94f243930ab441a099518bd6a7004f6d": {
          "model_module": "@jupyter-widgets/base",
          "model_name": "LayoutModel",
          "model_module_version": "1.2.0",
          "state": {
            "_model_module": "@jupyter-widgets/base",
            "_model_module_version": "1.2.0",
            "_model_name": "LayoutModel",
            "_view_count": null,
            "_view_module": "@jupyter-widgets/base",
            "_view_module_version": "1.2.0",
            "_view_name": "LayoutView",
            "align_content": null,
            "align_items": null,
            "align_self": null,
            "border": null,
            "bottom": null,
            "display": null,
            "flex": null,
            "flex_flow": null,
            "grid_area": null,
            "grid_auto_columns": null,
            "grid_auto_flow": null,
            "grid_auto_rows": null,
            "grid_column": null,
            "grid_gap": null,
            "grid_row": null,
            "grid_template_areas": null,
            "grid_template_columns": null,
            "grid_template_rows": null,
            "height": null,
            "justify_content": null,
            "justify_items": null,
            "left": null,
            "margin": null,
            "max_height": null,
            "max_width": null,
            "min_height": null,
            "min_width": null,
            "object_fit": null,
            "object_position": null,
            "order": null,
            "overflow": null,
            "overflow_x": null,
            "overflow_y": null,
            "padding": null,
            "right": null,
            "top": null,
            "visibility": null,
            "width": null
          }
        },
        "2974c6b0a225414080d8f039bc0b572e": {
          "model_module": "@jupyter-widgets/base",
          "model_name": "LayoutModel",
          "model_module_version": "1.2.0",
          "state": {
            "_model_module": "@jupyter-widgets/base",
            "_model_module_version": "1.2.0",
            "_model_name": "LayoutModel",
            "_view_count": null,
            "_view_module": "@jupyter-widgets/base",
            "_view_module_version": "1.2.0",
            "_view_name": "LayoutView",
            "align_content": null,
            "align_items": null,
            "align_self": null,
            "border": null,
            "bottom": null,
            "display": null,
            "flex": null,
            "flex_flow": null,
            "grid_area": null,
            "grid_auto_columns": null,
            "grid_auto_flow": null,
            "grid_auto_rows": null,
            "grid_column": null,
            "grid_gap": null,
            "grid_row": null,
            "grid_template_areas": null,
            "grid_template_columns": null,
            "grid_template_rows": null,
            "height": null,
            "justify_content": null,
            "justify_items": null,
            "left": null,
            "margin": null,
            "max_height": null,
            "max_width": null,
            "min_height": null,
            "min_width": null,
            "object_fit": null,
            "object_position": null,
            "order": null,
            "overflow": null,
            "overflow_x": null,
            "overflow_y": null,
            "padding": null,
            "right": null,
            "top": null,
            "visibility": null,
            "width": null
          }
        },
        "327f4f38cd30451e87c4cc7d4f9ef06d": {
          "model_module": "@jupyter-widgets/controls",
          "model_name": "DescriptionStyleModel",
          "model_module_version": "1.5.0",
          "state": {
            "_model_module": "@jupyter-widgets/controls",
            "_model_module_version": "1.5.0",
            "_model_name": "DescriptionStyleModel",
            "_view_count": null,
            "_view_module": "@jupyter-widgets/base",
            "_view_module_version": "1.2.0",
            "_view_name": "StyleView",
            "description_width": ""
          }
        },
        "a06f91c9a3504900b7ff066526675845": {
          "model_module": "@jupyter-widgets/base",
          "model_name": "LayoutModel",
          "model_module_version": "1.2.0",
          "state": {
            "_model_module": "@jupyter-widgets/base",
            "_model_module_version": "1.2.0",
            "_model_name": "LayoutModel",
            "_view_count": null,
            "_view_module": "@jupyter-widgets/base",
            "_view_module_version": "1.2.0",
            "_view_name": "LayoutView",
            "align_content": null,
            "align_items": null,
            "align_self": null,
            "border": null,
            "bottom": null,
            "display": null,
            "flex": null,
            "flex_flow": null,
            "grid_area": null,
            "grid_auto_columns": null,
            "grid_auto_flow": null,
            "grid_auto_rows": null,
            "grid_column": null,
            "grid_gap": null,
            "grid_row": null,
            "grid_template_areas": null,
            "grid_template_columns": null,
            "grid_template_rows": null,
            "height": null,
            "justify_content": null,
            "justify_items": null,
            "left": null,
            "margin": null,
            "max_height": null,
            "max_width": null,
            "min_height": null,
            "min_width": null,
            "object_fit": null,
            "object_position": null,
            "order": null,
            "overflow": null,
            "overflow_x": null,
            "overflow_y": null,
            "padding": null,
            "right": null,
            "top": null,
            "visibility": null,
            "width": null
          }
        },
        "94913d8e150741909e32805af7732ec0": {
          "model_module": "@jupyter-widgets/controls",
          "model_name": "ProgressStyleModel",
          "model_module_version": "1.5.0",
          "state": {
            "_model_module": "@jupyter-widgets/controls",
            "_model_module_version": "1.5.0",
            "_model_name": "ProgressStyleModel",
            "_view_count": null,
            "_view_module": "@jupyter-widgets/base",
            "_view_module_version": "1.2.0",
            "_view_name": "StyleView",
            "bar_color": null,
            "description_width": ""
          }
        },
        "be98726fba8a4ef5a6e1699df1468d03": {
          "model_module": "@jupyter-widgets/base",
          "model_name": "LayoutModel",
          "model_module_version": "1.2.0",
          "state": {
            "_model_module": "@jupyter-widgets/base",
            "_model_module_version": "1.2.0",
            "_model_name": "LayoutModel",
            "_view_count": null,
            "_view_module": "@jupyter-widgets/base",
            "_view_module_version": "1.2.0",
            "_view_name": "LayoutView",
            "align_content": null,
            "align_items": null,
            "align_self": null,
            "border": null,
            "bottom": null,
            "display": null,
            "flex": null,
            "flex_flow": null,
            "grid_area": null,
            "grid_auto_columns": null,
            "grid_auto_flow": null,
            "grid_auto_rows": null,
            "grid_column": null,
            "grid_gap": null,
            "grid_row": null,
            "grid_template_areas": null,
            "grid_template_columns": null,
            "grid_template_rows": null,
            "height": null,
            "justify_content": null,
            "justify_items": null,
            "left": null,
            "margin": null,
            "max_height": null,
            "max_width": null,
            "min_height": null,
            "min_width": null,
            "object_fit": null,
            "object_position": null,
            "order": null,
            "overflow": null,
            "overflow_x": null,
            "overflow_y": null,
            "padding": null,
            "right": null,
            "top": null,
            "visibility": null,
            "width": null
          }
        },
        "8df0002797b7417b840271c263f44516": {
          "model_module": "@jupyter-widgets/controls",
          "model_name": "DescriptionStyleModel",
          "model_module_version": "1.5.0",
          "state": {
            "_model_module": "@jupyter-widgets/controls",
            "_model_module_version": "1.5.0",
            "_model_name": "DescriptionStyleModel",
            "_view_count": null,
            "_view_module": "@jupyter-widgets/base",
            "_view_module_version": "1.2.0",
            "_view_name": "StyleView",
            "description_width": ""
          }
        },
        "4fcbc2c9c98c49d8b4fe4eb80f8f53ed": {
          "model_module": "@jupyter-widgets/controls",
          "model_name": "HBoxModel",
          "model_module_version": "1.5.0",
          "state": {
            "_dom_classes": [],
            "_model_module": "@jupyter-widgets/controls",
            "_model_module_version": "1.5.0",
            "_model_name": "HBoxModel",
            "_view_count": null,
            "_view_module": "@jupyter-widgets/controls",
            "_view_module_version": "1.5.0",
            "_view_name": "HBoxView",
            "box_style": "",
            "children": [
              "IPY_MODEL_acd8d088f11d498780c458b993bd3bf0",
              "IPY_MODEL_c5a3f993863f4e2e93bb2e219a657e4f",
              "IPY_MODEL_0dbbbe35ff164349a505aee69f11f2da"
            ],
            "layout": "IPY_MODEL_a39ad19077684f6b959eb2c582f61e6a"
          }
        },
        "acd8d088f11d498780c458b993bd3bf0": {
          "model_module": "@jupyter-widgets/controls",
          "model_name": "HTMLModel",
          "model_module_version": "1.5.0",
          "state": {
            "_dom_classes": [],
            "_model_module": "@jupyter-widgets/controls",
            "_model_module_version": "1.5.0",
            "_model_name": "HTMLModel",
            "_view_count": null,
            "_view_module": "@jupyter-widgets/controls",
            "_view_module_version": "1.5.0",
            "_view_name": "HTMLView",
            "description": "",
            "description_tooltip": null,
            "layout": "IPY_MODEL_4aab6de0c775492b86678c9368b93b15",
            "placeholder": "​",
            "style": "IPY_MODEL_f292d7c6373a4508a298275229988dc0",
            "value": ""
          }
        },
        "c5a3f993863f4e2e93bb2e219a657e4f": {
          "model_module": "@jupyter-widgets/controls",
          "model_name": "FloatProgressModel",
          "model_module_version": "1.5.0",
          "state": {
            "_dom_classes": [],
            "_model_module": "@jupyter-widgets/controls",
            "_model_module_version": "1.5.0",
            "_model_name": "FloatProgressModel",
            "_view_count": null,
            "_view_module": "@jupyter-widgets/controls",
            "_view_module_version": "1.5.0",
            "_view_name": "ProgressView",
            "bar_style": "success",
            "description": "",
            "description_tooltip": null,
            "layout": "IPY_MODEL_9506a05ebcc641639cd8a06de00ff105",
            "max": 1,
            "min": 0,
            "orientation": "horizontal",
            "style": "IPY_MODEL_b2d60ca6fb0040e0901ac3f2026b0f41",
            "value": 0
          }
        },
        "0dbbbe35ff164349a505aee69f11f2da": {
          "model_module": "@jupyter-widgets/controls",
          "model_name": "HTMLModel",
          "model_module_version": "1.5.0",
          "state": {
            "_dom_classes": [],
            "_model_module": "@jupyter-widgets/controls",
            "_model_module_version": "1.5.0",
            "_model_name": "HTMLModel",
            "_view_count": null,
            "_view_module": "@jupyter-widgets/controls",
            "_view_module_version": "1.5.0",
            "_view_name": "HTMLView",
            "description": "",
            "description_tooltip": null,
            "layout": "IPY_MODEL_648149a98f1d4757af672736d4dcf9e9",
            "placeholder": "​",
            "style": "IPY_MODEL_8d264ca32f6b4ee5bb2419575b10d2ee",
            "value": " 0/0 [00:00&lt;?, ?it/s]"
          }
        },
        "a39ad19077684f6b959eb2c582f61e6a": {
          "model_module": "@jupyter-widgets/base",
          "model_name": "LayoutModel",
          "model_module_version": "1.2.0",
          "state": {
            "_model_module": "@jupyter-widgets/base",
            "_model_module_version": "1.2.0",
            "_model_name": "LayoutModel",
            "_view_count": null,
            "_view_module": "@jupyter-widgets/base",
            "_view_module_version": "1.2.0",
            "_view_name": "LayoutView",
            "align_content": null,
            "align_items": null,
            "align_self": null,
            "border": null,
            "bottom": null,
            "display": null,
            "flex": null,
            "flex_flow": null,
            "grid_area": null,
            "grid_auto_columns": null,
            "grid_auto_flow": null,
            "grid_auto_rows": null,
            "grid_column": null,
            "grid_gap": null,
            "grid_row": null,
            "grid_template_areas": null,
            "grid_template_columns": null,
            "grid_template_rows": null,
            "height": null,
            "justify_content": null,
            "justify_items": null,
            "left": null,
            "margin": null,
            "max_height": null,
            "max_width": null,
            "min_height": null,
            "min_width": null,
            "object_fit": null,
            "object_position": null,
            "order": null,
            "overflow": null,
            "overflow_x": null,
            "overflow_y": null,
            "padding": null,
            "right": null,
            "top": null,
            "visibility": null,
            "width": null
          }
        },
        "4aab6de0c775492b86678c9368b93b15": {
          "model_module": "@jupyter-widgets/base",
          "model_name": "LayoutModel",
          "model_module_version": "1.2.0",
          "state": {
            "_model_module": "@jupyter-widgets/base",
            "_model_module_version": "1.2.0",
            "_model_name": "LayoutModel",
            "_view_count": null,
            "_view_module": "@jupyter-widgets/base",
            "_view_module_version": "1.2.0",
            "_view_name": "LayoutView",
            "align_content": null,
            "align_items": null,
            "align_self": null,
            "border": null,
            "bottom": null,
            "display": null,
            "flex": null,
            "flex_flow": null,
            "grid_area": null,
            "grid_auto_columns": null,
            "grid_auto_flow": null,
            "grid_auto_rows": null,
            "grid_column": null,
            "grid_gap": null,
            "grid_row": null,
            "grid_template_areas": null,
            "grid_template_columns": null,
            "grid_template_rows": null,
            "height": null,
            "justify_content": null,
            "justify_items": null,
            "left": null,
            "margin": null,
            "max_height": null,
            "max_width": null,
            "min_height": null,
            "min_width": null,
            "object_fit": null,
            "object_position": null,
            "order": null,
            "overflow": null,
            "overflow_x": null,
            "overflow_y": null,
            "padding": null,
            "right": null,
            "top": null,
            "visibility": null,
            "width": null
          }
        },
        "f292d7c6373a4508a298275229988dc0": {
          "model_module": "@jupyter-widgets/controls",
          "model_name": "DescriptionStyleModel",
          "model_module_version": "1.5.0",
          "state": {
            "_model_module": "@jupyter-widgets/controls",
            "_model_module_version": "1.5.0",
            "_model_name": "DescriptionStyleModel",
            "_view_count": null,
            "_view_module": "@jupyter-widgets/base",
            "_view_module_version": "1.2.0",
            "_view_name": "StyleView",
            "description_width": ""
          }
        },
        "9506a05ebcc641639cd8a06de00ff105": {
          "model_module": "@jupyter-widgets/base",
          "model_name": "LayoutModel",
          "model_module_version": "1.2.0",
          "state": {
            "_model_module": "@jupyter-widgets/base",
            "_model_module_version": "1.2.0",
            "_model_name": "LayoutModel",
            "_view_count": null,
            "_view_module": "@jupyter-widgets/base",
            "_view_module_version": "1.2.0",
            "_view_name": "LayoutView",
            "align_content": null,
            "align_items": null,
            "align_self": null,
            "border": null,
            "bottom": null,
            "display": null,
            "flex": null,
            "flex_flow": null,
            "grid_area": null,
            "grid_auto_columns": null,
            "grid_auto_flow": null,
            "grid_auto_rows": null,
            "grid_column": null,
            "grid_gap": null,
            "grid_row": null,
            "grid_template_areas": null,
            "grid_template_columns": null,
            "grid_template_rows": null,
            "height": null,
            "justify_content": null,
            "justify_items": null,
            "left": null,
            "margin": null,
            "max_height": null,
            "max_width": null,
            "min_height": null,
            "min_width": null,
            "object_fit": null,
            "object_position": null,
            "order": null,
            "overflow": null,
            "overflow_x": null,
            "overflow_y": null,
            "padding": null,
            "right": null,
            "top": null,
            "visibility": null,
            "width": "20px"
          }
        },
        "b2d60ca6fb0040e0901ac3f2026b0f41": {
          "model_module": "@jupyter-widgets/controls",
          "model_name": "ProgressStyleModel",
          "model_module_version": "1.5.0",
          "state": {
            "_model_module": "@jupyter-widgets/controls",
            "_model_module_version": "1.5.0",
            "_model_name": "ProgressStyleModel",
            "_view_count": null,
            "_view_module": "@jupyter-widgets/base",
            "_view_module_version": "1.2.0",
            "_view_name": "StyleView",
            "bar_color": null,
            "description_width": ""
          }
        },
        "648149a98f1d4757af672736d4dcf9e9": {
          "model_module": "@jupyter-widgets/base",
          "model_name": "LayoutModel",
          "model_module_version": "1.2.0",
          "state": {
            "_model_module": "@jupyter-widgets/base",
            "_model_module_version": "1.2.0",
            "_model_name": "LayoutModel",
            "_view_count": null,
            "_view_module": "@jupyter-widgets/base",
            "_view_module_version": "1.2.0",
            "_view_name": "LayoutView",
            "align_content": null,
            "align_items": null,
            "align_self": null,
            "border": null,
            "bottom": null,
            "display": null,
            "flex": null,
            "flex_flow": null,
            "grid_area": null,
            "grid_auto_columns": null,
            "grid_auto_flow": null,
            "grid_auto_rows": null,
            "grid_column": null,
            "grid_gap": null,
            "grid_row": null,
            "grid_template_areas": null,
            "grid_template_columns": null,
            "grid_template_rows": null,
            "height": null,
            "justify_content": null,
            "justify_items": null,
            "left": null,
            "margin": null,
            "max_height": null,
            "max_width": null,
            "min_height": null,
            "min_width": null,
            "object_fit": null,
            "object_position": null,
            "order": null,
            "overflow": null,
            "overflow_x": null,
            "overflow_y": null,
            "padding": null,
            "right": null,
            "top": null,
            "visibility": null,
            "width": null
          }
        },
        "8d264ca32f6b4ee5bb2419575b10d2ee": {
          "model_module": "@jupyter-widgets/controls",
          "model_name": "DescriptionStyleModel",
          "model_module_version": "1.5.0",
          "state": {
            "_model_module": "@jupyter-widgets/controls",
            "_model_module_version": "1.5.0",
            "_model_name": "DescriptionStyleModel",
            "_view_count": null,
            "_view_module": "@jupyter-widgets/base",
            "_view_module_version": "1.2.0",
            "_view_name": "StyleView",
            "description_width": ""
          }
        },
        "bbb4fb06e1e84bf9a5ca04bca9fa416e": {
          "model_module": "@jupyter-widgets/controls",
          "model_name": "HBoxModel",
          "model_module_version": "1.5.0",
          "state": {
            "_dom_classes": [],
            "_model_module": "@jupyter-widgets/controls",
            "_model_module_version": "1.5.0",
            "_model_name": "HBoxModel",
            "_view_count": null,
            "_view_module": "@jupyter-widgets/controls",
            "_view_module_version": "1.5.0",
            "_view_name": "HBoxView",
            "box_style": "",
            "children": [
              "IPY_MODEL_7b8db7be73f9465ebeab12025b282dc5",
              "IPY_MODEL_63e7c5ed83694faaa7532c46ccbf62d7",
              "IPY_MODEL_5c34fc30e55f401e959000c95710a75c"
            ],
            "layout": "IPY_MODEL_dead459a84ed45528e59e2b50698ecee"
          }
        },
        "7b8db7be73f9465ebeab12025b282dc5": {
          "model_module": "@jupyter-widgets/controls",
          "model_name": "HTMLModel",
          "model_module_version": "1.5.0",
          "state": {
            "_dom_classes": [],
            "_model_module": "@jupyter-widgets/controls",
            "_model_module_version": "1.5.0",
            "_model_name": "HTMLModel",
            "_view_count": null,
            "_view_module": "@jupyter-widgets/controls",
            "_view_module_version": "1.5.0",
            "_view_name": "HTMLView",
            "description": "",
            "description_tooltip": null,
            "layout": "IPY_MODEL_eadfdcedeb354c0b854da21eff367f30",
            "placeholder": "​",
            "style": "IPY_MODEL_873ef9fabbc14e75a3e5f15a84a1c42d",
            "value": "tokenizer_config.json: 100%"
          }
        },
        "63e7c5ed83694faaa7532c46ccbf62d7": {
          "model_module": "@jupyter-widgets/controls",
          "model_name": "FloatProgressModel",
          "model_module_version": "1.5.0",
          "state": {
            "_dom_classes": [],
            "_model_module": "@jupyter-widgets/controls",
            "_model_module_version": "1.5.0",
            "_model_name": "FloatProgressModel",
            "_view_count": null,
            "_view_module": "@jupyter-widgets/controls",
            "_view_module_version": "1.5.0",
            "_view_name": "ProgressView",
            "bar_style": "success",
            "description": "",
            "description_tooltip": null,
            "layout": "IPY_MODEL_7b71e8bfbe414c68a4982f1e7509330c",
            "max": 48,
            "min": 0,
            "orientation": "horizontal",
            "style": "IPY_MODEL_3c7b2e4225d74d63b0adb611a75e3fdb",
            "value": 48
          }
        },
        "5c34fc30e55f401e959000c95710a75c": {
          "model_module": "@jupyter-widgets/controls",
          "model_name": "HTMLModel",
          "model_module_version": "1.5.0",
          "state": {
            "_dom_classes": [],
            "_model_module": "@jupyter-widgets/controls",
            "_model_module_version": "1.5.0",
            "_model_name": "HTMLModel",
            "_view_count": null,
            "_view_module": "@jupyter-widgets/controls",
            "_view_module_version": "1.5.0",
            "_view_name": "HTMLView",
            "description": "",
            "description_tooltip": null,
            "layout": "IPY_MODEL_5cdd0cfb9989465c9f1b50bdf95b1ea1",
            "placeholder": "​",
            "style": "IPY_MODEL_a5fc9a8190e143dead2c6d3c1e8263eb",
            "value": " 48.0/48.0 [00:00&lt;00:00, 1.83kB/s]"
          }
        },
        "dead459a84ed45528e59e2b50698ecee": {
          "model_module": "@jupyter-widgets/base",
          "model_name": "LayoutModel",
          "model_module_version": "1.2.0",
          "state": {
            "_model_module": "@jupyter-widgets/base",
            "_model_module_version": "1.2.0",
            "_model_name": "LayoutModel",
            "_view_count": null,
            "_view_module": "@jupyter-widgets/base",
            "_view_module_version": "1.2.0",
            "_view_name": "LayoutView",
            "align_content": null,
            "align_items": null,
            "align_self": null,
            "border": null,
            "bottom": null,
            "display": null,
            "flex": null,
            "flex_flow": null,
            "grid_area": null,
            "grid_auto_columns": null,
            "grid_auto_flow": null,
            "grid_auto_rows": null,
            "grid_column": null,
            "grid_gap": null,
            "grid_row": null,
            "grid_template_areas": null,
            "grid_template_columns": null,
            "grid_template_rows": null,
            "height": null,
            "justify_content": null,
            "justify_items": null,
            "left": null,
            "margin": null,
            "max_height": null,
            "max_width": null,
            "min_height": null,
            "min_width": null,
            "object_fit": null,
            "object_position": null,
            "order": null,
            "overflow": null,
            "overflow_x": null,
            "overflow_y": null,
            "padding": null,
            "right": null,
            "top": null,
            "visibility": null,
            "width": null
          }
        },
        "eadfdcedeb354c0b854da21eff367f30": {
          "model_module": "@jupyter-widgets/base",
          "model_name": "LayoutModel",
          "model_module_version": "1.2.0",
          "state": {
            "_model_module": "@jupyter-widgets/base",
            "_model_module_version": "1.2.0",
            "_model_name": "LayoutModel",
            "_view_count": null,
            "_view_module": "@jupyter-widgets/base",
            "_view_module_version": "1.2.0",
            "_view_name": "LayoutView",
            "align_content": null,
            "align_items": null,
            "align_self": null,
            "border": null,
            "bottom": null,
            "display": null,
            "flex": null,
            "flex_flow": null,
            "grid_area": null,
            "grid_auto_columns": null,
            "grid_auto_flow": null,
            "grid_auto_rows": null,
            "grid_column": null,
            "grid_gap": null,
            "grid_row": null,
            "grid_template_areas": null,
            "grid_template_columns": null,
            "grid_template_rows": null,
            "height": null,
            "justify_content": null,
            "justify_items": null,
            "left": null,
            "margin": null,
            "max_height": null,
            "max_width": null,
            "min_height": null,
            "min_width": null,
            "object_fit": null,
            "object_position": null,
            "order": null,
            "overflow": null,
            "overflow_x": null,
            "overflow_y": null,
            "padding": null,
            "right": null,
            "top": null,
            "visibility": null,
            "width": null
          }
        },
        "873ef9fabbc14e75a3e5f15a84a1c42d": {
          "model_module": "@jupyter-widgets/controls",
          "model_name": "DescriptionStyleModel",
          "model_module_version": "1.5.0",
          "state": {
            "_model_module": "@jupyter-widgets/controls",
            "_model_module_version": "1.5.0",
            "_model_name": "DescriptionStyleModel",
            "_view_count": null,
            "_view_module": "@jupyter-widgets/base",
            "_view_module_version": "1.2.0",
            "_view_name": "StyleView",
            "description_width": ""
          }
        },
        "7b71e8bfbe414c68a4982f1e7509330c": {
          "model_module": "@jupyter-widgets/base",
          "model_name": "LayoutModel",
          "model_module_version": "1.2.0",
          "state": {
            "_model_module": "@jupyter-widgets/base",
            "_model_module_version": "1.2.0",
            "_model_name": "LayoutModel",
            "_view_count": null,
            "_view_module": "@jupyter-widgets/base",
            "_view_module_version": "1.2.0",
            "_view_name": "LayoutView",
            "align_content": null,
            "align_items": null,
            "align_self": null,
            "border": null,
            "bottom": null,
            "display": null,
            "flex": null,
            "flex_flow": null,
            "grid_area": null,
            "grid_auto_columns": null,
            "grid_auto_flow": null,
            "grid_auto_rows": null,
            "grid_column": null,
            "grid_gap": null,
            "grid_row": null,
            "grid_template_areas": null,
            "grid_template_columns": null,
            "grid_template_rows": null,
            "height": null,
            "justify_content": null,
            "justify_items": null,
            "left": null,
            "margin": null,
            "max_height": null,
            "max_width": null,
            "min_height": null,
            "min_width": null,
            "object_fit": null,
            "object_position": null,
            "order": null,
            "overflow": null,
            "overflow_x": null,
            "overflow_y": null,
            "padding": null,
            "right": null,
            "top": null,
            "visibility": null,
            "width": null
          }
        },
        "3c7b2e4225d74d63b0adb611a75e3fdb": {
          "model_module": "@jupyter-widgets/controls",
          "model_name": "ProgressStyleModel",
          "model_module_version": "1.5.0",
          "state": {
            "_model_module": "@jupyter-widgets/controls",
            "_model_module_version": "1.5.0",
            "_model_name": "ProgressStyleModel",
            "_view_count": null,
            "_view_module": "@jupyter-widgets/base",
            "_view_module_version": "1.2.0",
            "_view_name": "StyleView",
            "bar_color": null,
            "description_width": ""
          }
        },
        "5cdd0cfb9989465c9f1b50bdf95b1ea1": {
          "model_module": "@jupyter-widgets/base",
          "model_name": "LayoutModel",
          "model_module_version": "1.2.0",
          "state": {
            "_model_module": "@jupyter-widgets/base",
            "_model_module_version": "1.2.0",
            "_model_name": "LayoutModel",
            "_view_count": null,
            "_view_module": "@jupyter-widgets/base",
            "_view_module_version": "1.2.0",
            "_view_name": "LayoutView",
            "align_content": null,
            "align_items": null,
            "align_self": null,
            "border": null,
            "bottom": null,
            "display": null,
            "flex": null,
            "flex_flow": null,
            "grid_area": null,
            "grid_auto_columns": null,
            "grid_auto_flow": null,
            "grid_auto_rows": null,
            "grid_column": null,
            "grid_gap": null,
            "grid_row": null,
            "grid_template_areas": null,
            "grid_template_columns": null,
            "grid_template_rows": null,
            "height": null,
            "justify_content": null,
            "justify_items": null,
            "left": null,
            "margin": null,
            "max_height": null,
            "max_width": null,
            "min_height": null,
            "min_width": null,
            "object_fit": null,
            "object_position": null,
            "order": null,
            "overflow": null,
            "overflow_x": null,
            "overflow_y": null,
            "padding": null,
            "right": null,
            "top": null,
            "visibility": null,
            "width": null
          }
        },
        "a5fc9a8190e143dead2c6d3c1e8263eb": {
          "model_module": "@jupyter-widgets/controls",
          "model_name": "DescriptionStyleModel",
          "model_module_version": "1.5.0",
          "state": {
            "_model_module": "@jupyter-widgets/controls",
            "_model_module_version": "1.5.0",
            "_model_name": "DescriptionStyleModel",
            "_view_count": null,
            "_view_module": "@jupyter-widgets/base",
            "_view_module_version": "1.2.0",
            "_view_name": "StyleView",
            "description_width": ""
          }
        },
        "0fabe295d5a0465e930bd608d6264a9f": {
          "model_module": "@jupyter-widgets/controls",
          "model_name": "HBoxModel",
          "model_module_version": "1.5.0",
          "state": {
            "_dom_classes": [],
            "_model_module": "@jupyter-widgets/controls",
            "_model_module_version": "1.5.0",
            "_model_name": "HBoxModel",
            "_view_count": null,
            "_view_module": "@jupyter-widgets/controls",
            "_view_module_version": "1.5.0",
            "_view_name": "HBoxView",
            "box_style": "",
            "children": [
              "IPY_MODEL_5ef2395b07374b058f0927708753eed5",
              "IPY_MODEL_47b6685e223342569c1a6201271d23c6",
              "IPY_MODEL_5ee699e6578a45ca985838b0d195ac99"
            ],
            "layout": "IPY_MODEL_3e12887ad46c44fda002450fc2a3f2d6"
          }
        },
        "5ef2395b07374b058f0927708753eed5": {
          "model_module": "@jupyter-widgets/controls",
          "model_name": "HTMLModel",
          "model_module_version": "1.5.0",
          "state": {
            "_dom_classes": [],
            "_model_module": "@jupyter-widgets/controls",
            "_model_module_version": "1.5.0",
            "_model_name": "HTMLModel",
            "_view_count": null,
            "_view_module": "@jupyter-widgets/controls",
            "_view_module_version": "1.5.0",
            "_view_name": "HTMLView",
            "description": "",
            "description_tooltip": null,
            "layout": "IPY_MODEL_7a6c3e6b2253450fbb2655d7ceb2eaa5",
            "placeholder": "​",
            "style": "IPY_MODEL_6c37078e51a54542b252349fb1942ee1",
            "value": "vocab.txt: 100%"
          }
        },
        "47b6685e223342569c1a6201271d23c6": {
          "model_module": "@jupyter-widgets/controls",
          "model_name": "FloatProgressModel",
          "model_module_version": "1.5.0",
          "state": {
            "_dom_classes": [],
            "_model_module": "@jupyter-widgets/controls",
            "_model_module_version": "1.5.0",
            "_model_name": "FloatProgressModel",
            "_view_count": null,
            "_view_module": "@jupyter-widgets/controls",
            "_view_module_version": "1.5.0",
            "_view_name": "ProgressView",
            "bar_style": "success",
            "description": "",
            "description_tooltip": null,
            "layout": "IPY_MODEL_da10cd711eac44fd9fa2995144701fed",
            "max": 231508,
            "min": 0,
            "orientation": "horizontal",
            "style": "IPY_MODEL_7da1e4e5250149afbff2d2a0e8ab9ec3",
            "value": 231508
          }
        },
        "5ee699e6578a45ca985838b0d195ac99": {
          "model_module": "@jupyter-widgets/controls",
          "model_name": "HTMLModel",
          "model_module_version": "1.5.0",
          "state": {
            "_dom_classes": [],
            "_model_module": "@jupyter-widgets/controls",
            "_model_module_version": "1.5.0",
            "_model_name": "HTMLModel",
            "_view_count": null,
            "_view_module": "@jupyter-widgets/controls",
            "_view_module_version": "1.5.0",
            "_view_name": "HTMLView",
            "description": "",
            "description_tooltip": null,
            "layout": "IPY_MODEL_7f328b8f586c44149a5788f0b9329c45",
            "placeholder": "​",
            "style": "IPY_MODEL_b3f307cb8ae842c3844982cb3ecae4ae",
            "value": " 232k/232k [00:00&lt;00:00, 581kB/s]"
          }
        },
        "3e12887ad46c44fda002450fc2a3f2d6": {
          "model_module": "@jupyter-widgets/base",
          "model_name": "LayoutModel",
          "model_module_version": "1.2.0",
          "state": {
            "_model_module": "@jupyter-widgets/base",
            "_model_module_version": "1.2.0",
            "_model_name": "LayoutModel",
            "_view_count": null,
            "_view_module": "@jupyter-widgets/base",
            "_view_module_version": "1.2.0",
            "_view_name": "LayoutView",
            "align_content": null,
            "align_items": null,
            "align_self": null,
            "border": null,
            "bottom": null,
            "display": null,
            "flex": null,
            "flex_flow": null,
            "grid_area": null,
            "grid_auto_columns": null,
            "grid_auto_flow": null,
            "grid_auto_rows": null,
            "grid_column": null,
            "grid_gap": null,
            "grid_row": null,
            "grid_template_areas": null,
            "grid_template_columns": null,
            "grid_template_rows": null,
            "height": null,
            "justify_content": null,
            "justify_items": null,
            "left": null,
            "margin": null,
            "max_height": null,
            "max_width": null,
            "min_height": null,
            "min_width": null,
            "object_fit": null,
            "object_position": null,
            "order": null,
            "overflow": null,
            "overflow_x": null,
            "overflow_y": null,
            "padding": null,
            "right": null,
            "top": null,
            "visibility": null,
            "width": null
          }
        },
        "7a6c3e6b2253450fbb2655d7ceb2eaa5": {
          "model_module": "@jupyter-widgets/base",
          "model_name": "LayoutModel",
          "model_module_version": "1.2.0",
          "state": {
            "_model_module": "@jupyter-widgets/base",
            "_model_module_version": "1.2.0",
            "_model_name": "LayoutModel",
            "_view_count": null,
            "_view_module": "@jupyter-widgets/base",
            "_view_module_version": "1.2.0",
            "_view_name": "LayoutView",
            "align_content": null,
            "align_items": null,
            "align_self": null,
            "border": null,
            "bottom": null,
            "display": null,
            "flex": null,
            "flex_flow": null,
            "grid_area": null,
            "grid_auto_columns": null,
            "grid_auto_flow": null,
            "grid_auto_rows": null,
            "grid_column": null,
            "grid_gap": null,
            "grid_row": null,
            "grid_template_areas": null,
            "grid_template_columns": null,
            "grid_template_rows": null,
            "height": null,
            "justify_content": null,
            "justify_items": null,
            "left": null,
            "margin": null,
            "max_height": null,
            "max_width": null,
            "min_height": null,
            "min_width": null,
            "object_fit": null,
            "object_position": null,
            "order": null,
            "overflow": null,
            "overflow_x": null,
            "overflow_y": null,
            "padding": null,
            "right": null,
            "top": null,
            "visibility": null,
            "width": null
          }
        },
        "6c37078e51a54542b252349fb1942ee1": {
          "model_module": "@jupyter-widgets/controls",
          "model_name": "DescriptionStyleModel",
          "model_module_version": "1.5.0",
          "state": {
            "_model_module": "@jupyter-widgets/controls",
            "_model_module_version": "1.5.0",
            "_model_name": "DescriptionStyleModel",
            "_view_count": null,
            "_view_module": "@jupyter-widgets/base",
            "_view_module_version": "1.2.0",
            "_view_name": "StyleView",
            "description_width": ""
          }
        },
        "da10cd711eac44fd9fa2995144701fed": {
          "model_module": "@jupyter-widgets/base",
          "model_name": "LayoutModel",
          "model_module_version": "1.2.0",
          "state": {
            "_model_module": "@jupyter-widgets/base",
            "_model_module_version": "1.2.0",
            "_model_name": "LayoutModel",
            "_view_count": null,
            "_view_module": "@jupyter-widgets/base",
            "_view_module_version": "1.2.0",
            "_view_name": "LayoutView",
            "align_content": null,
            "align_items": null,
            "align_self": null,
            "border": null,
            "bottom": null,
            "display": null,
            "flex": null,
            "flex_flow": null,
            "grid_area": null,
            "grid_auto_columns": null,
            "grid_auto_flow": null,
            "grid_auto_rows": null,
            "grid_column": null,
            "grid_gap": null,
            "grid_row": null,
            "grid_template_areas": null,
            "grid_template_columns": null,
            "grid_template_rows": null,
            "height": null,
            "justify_content": null,
            "justify_items": null,
            "left": null,
            "margin": null,
            "max_height": null,
            "max_width": null,
            "min_height": null,
            "min_width": null,
            "object_fit": null,
            "object_position": null,
            "order": null,
            "overflow": null,
            "overflow_x": null,
            "overflow_y": null,
            "padding": null,
            "right": null,
            "top": null,
            "visibility": null,
            "width": null
          }
        },
        "7da1e4e5250149afbff2d2a0e8ab9ec3": {
          "model_module": "@jupyter-widgets/controls",
          "model_name": "ProgressStyleModel",
          "model_module_version": "1.5.0",
          "state": {
            "_model_module": "@jupyter-widgets/controls",
            "_model_module_version": "1.5.0",
            "_model_name": "ProgressStyleModel",
            "_view_count": null,
            "_view_module": "@jupyter-widgets/base",
            "_view_module_version": "1.2.0",
            "_view_name": "StyleView",
            "bar_color": null,
            "description_width": ""
          }
        },
        "7f328b8f586c44149a5788f0b9329c45": {
          "model_module": "@jupyter-widgets/base",
          "model_name": "LayoutModel",
          "model_module_version": "1.2.0",
          "state": {
            "_model_module": "@jupyter-widgets/base",
            "_model_module_version": "1.2.0",
            "_model_name": "LayoutModel",
            "_view_count": null,
            "_view_module": "@jupyter-widgets/base",
            "_view_module_version": "1.2.0",
            "_view_name": "LayoutView",
            "align_content": null,
            "align_items": null,
            "align_self": null,
            "border": null,
            "bottom": null,
            "display": null,
            "flex": null,
            "flex_flow": null,
            "grid_area": null,
            "grid_auto_columns": null,
            "grid_auto_flow": null,
            "grid_auto_rows": null,
            "grid_column": null,
            "grid_gap": null,
            "grid_row": null,
            "grid_template_areas": null,
            "grid_template_columns": null,
            "grid_template_rows": null,
            "height": null,
            "justify_content": null,
            "justify_items": null,
            "left": null,
            "margin": null,
            "max_height": null,
            "max_width": null,
            "min_height": null,
            "min_width": null,
            "object_fit": null,
            "object_position": null,
            "order": null,
            "overflow": null,
            "overflow_x": null,
            "overflow_y": null,
            "padding": null,
            "right": null,
            "top": null,
            "visibility": null,
            "width": null
          }
        },
        "b3f307cb8ae842c3844982cb3ecae4ae": {
          "model_module": "@jupyter-widgets/controls",
          "model_name": "DescriptionStyleModel",
          "model_module_version": "1.5.0",
          "state": {
            "_model_module": "@jupyter-widgets/controls",
            "_model_module_version": "1.5.0",
            "_model_name": "DescriptionStyleModel",
            "_view_count": null,
            "_view_module": "@jupyter-widgets/base",
            "_view_module_version": "1.2.0",
            "_view_name": "StyleView",
            "description_width": ""
          }
        },
        "626409f12c9042b89d36345f22a00683": {
          "model_module": "@jupyter-widgets/controls",
          "model_name": "HBoxModel",
          "model_module_version": "1.5.0",
          "state": {
            "_dom_classes": [],
            "_model_module": "@jupyter-widgets/controls",
            "_model_module_version": "1.5.0",
            "_model_name": "HBoxModel",
            "_view_count": null,
            "_view_module": "@jupyter-widgets/controls",
            "_view_module_version": "1.5.0",
            "_view_name": "HBoxView",
            "box_style": "",
            "children": [
              "IPY_MODEL_5365d27401ad4708be8c0ad25f502d55",
              "IPY_MODEL_506fa4112c684883a937399cb185a6dc",
              "IPY_MODEL_bb9ea0d13a0445eeb92a728dc0aa40f1"
            ],
            "layout": "IPY_MODEL_42f254a364e740769ee9b720016d42f5"
          }
        },
        "5365d27401ad4708be8c0ad25f502d55": {
          "model_module": "@jupyter-widgets/controls",
          "model_name": "HTMLModel",
          "model_module_version": "1.5.0",
          "state": {
            "_dom_classes": [],
            "_model_module": "@jupyter-widgets/controls",
            "_model_module_version": "1.5.0",
            "_model_name": "HTMLModel",
            "_view_count": null,
            "_view_module": "@jupyter-widgets/controls",
            "_view_module_version": "1.5.0",
            "_view_name": "HTMLView",
            "description": "",
            "description_tooltip": null,
            "layout": "IPY_MODEL_a579eb09a4db488a9fb6dfb500652bfc",
            "placeholder": "​",
            "style": "IPY_MODEL_545931d81bc84410aa4175672beda09d",
            "value": "tokenizer.json: 100%"
          }
        },
        "506fa4112c684883a937399cb185a6dc": {
          "model_module": "@jupyter-widgets/controls",
          "model_name": "FloatProgressModel",
          "model_module_version": "1.5.0",
          "state": {
            "_dom_classes": [],
            "_model_module": "@jupyter-widgets/controls",
            "_model_module_version": "1.5.0",
            "_model_name": "FloatProgressModel",
            "_view_count": null,
            "_view_module": "@jupyter-widgets/controls",
            "_view_module_version": "1.5.0",
            "_view_name": "ProgressView",
            "bar_style": "success",
            "description": "",
            "description_tooltip": null,
            "layout": "IPY_MODEL_22fb1624f694475eb8691d5873169ca4",
            "max": 466062,
            "min": 0,
            "orientation": "horizontal",
            "style": "IPY_MODEL_ccfb4e4aed9d48239d0d63dd522b2e8f",
            "value": 466062
          }
        },
        "bb9ea0d13a0445eeb92a728dc0aa40f1": {
          "model_module": "@jupyter-widgets/controls",
          "model_name": "HTMLModel",
          "model_module_version": "1.5.0",
          "state": {
            "_dom_classes": [],
            "_model_module": "@jupyter-widgets/controls",
            "_model_module_version": "1.5.0",
            "_model_name": "HTMLModel",
            "_view_count": null,
            "_view_module": "@jupyter-widgets/controls",
            "_view_module_version": "1.5.0",
            "_view_name": "HTMLView",
            "description": "",
            "description_tooltip": null,
            "layout": "IPY_MODEL_4fae1e645db7425797f0cb1218f88017",
            "placeholder": "​",
            "style": "IPY_MODEL_f44b2df726f1405e85554fc0f5bfa0a3",
            "value": " 466k/466k [00:00&lt;00:00, 779kB/s]"
          }
        },
        "42f254a364e740769ee9b720016d42f5": {
          "model_module": "@jupyter-widgets/base",
          "model_name": "LayoutModel",
          "model_module_version": "1.2.0",
          "state": {
            "_model_module": "@jupyter-widgets/base",
            "_model_module_version": "1.2.0",
            "_model_name": "LayoutModel",
            "_view_count": null,
            "_view_module": "@jupyter-widgets/base",
            "_view_module_version": "1.2.0",
            "_view_name": "LayoutView",
            "align_content": null,
            "align_items": null,
            "align_self": null,
            "border": null,
            "bottom": null,
            "display": null,
            "flex": null,
            "flex_flow": null,
            "grid_area": null,
            "grid_auto_columns": null,
            "grid_auto_flow": null,
            "grid_auto_rows": null,
            "grid_column": null,
            "grid_gap": null,
            "grid_row": null,
            "grid_template_areas": null,
            "grid_template_columns": null,
            "grid_template_rows": null,
            "height": null,
            "justify_content": null,
            "justify_items": null,
            "left": null,
            "margin": null,
            "max_height": null,
            "max_width": null,
            "min_height": null,
            "min_width": null,
            "object_fit": null,
            "object_position": null,
            "order": null,
            "overflow": null,
            "overflow_x": null,
            "overflow_y": null,
            "padding": null,
            "right": null,
            "top": null,
            "visibility": null,
            "width": null
          }
        },
        "a579eb09a4db488a9fb6dfb500652bfc": {
          "model_module": "@jupyter-widgets/base",
          "model_name": "LayoutModel",
          "model_module_version": "1.2.0",
          "state": {
            "_model_module": "@jupyter-widgets/base",
            "_model_module_version": "1.2.0",
            "_model_name": "LayoutModel",
            "_view_count": null,
            "_view_module": "@jupyter-widgets/base",
            "_view_module_version": "1.2.0",
            "_view_name": "LayoutView",
            "align_content": null,
            "align_items": null,
            "align_self": null,
            "border": null,
            "bottom": null,
            "display": null,
            "flex": null,
            "flex_flow": null,
            "grid_area": null,
            "grid_auto_columns": null,
            "grid_auto_flow": null,
            "grid_auto_rows": null,
            "grid_column": null,
            "grid_gap": null,
            "grid_row": null,
            "grid_template_areas": null,
            "grid_template_columns": null,
            "grid_template_rows": null,
            "height": null,
            "justify_content": null,
            "justify_items": null,
            "left": null,
            "margin": null,
            "max_height": null,
            "max_width": null,
            "min_height": null,
            "min_width": null,
            "object_fit": null,
            "object_position": null,
            "order": null,
            "overflow": null,
            "overflow_x": null,
            "overflow_y": null,
            "padding": null,
            "right": null,
            "top": null,
            "visibility": null,
            "width": null
          }
        },
        "545931d81bc84410aa4175672beda09d": {
          "model_module": "@jupyter-widgets/controls",
          "model_name": "DescriptionStyleModel",
          "model_module_version": "1.5.0",
          "state": {
            "_model_module": "@jupyter-widgets/controls",
            "_model_module_version": "1.5.0",
            "_model_name": "DescriptionStyleModel",
            "_view_count": null,
            "_view_module": "@jupyter-widgets/base",
            "_view_module_version": "1.2.0",
            "_view_name": "StyleView",
            "description_width": ""
          }
        },
        "22fb1624f694475eb8691d5873169ca4": {
          "model_module": "@jupyter-widgets/base",
          "model_name": "LayoutModel",
          "model_module_version": "1.2.0",
          "state": {
            "_model_module": "@jupyter-widgets/base",
            "_model_module_version": "1.2.0",
            "_model_name": "LayoutModel",
            "_view_count": null,
            "_view_module": "@jupyter-widgets/base",
            "_view_module_version": "1.2.0",
            "_view_name": "LayoutView",
            "align_content": null,
            "align_items": null,
            "align_self": null,
            "border": null,
            "bottom": null,
            "display": null,
            "flex": null,
            "flex_flow": null,
            "grid_area": null,
            "grid_auto_columns": null,
            "grid_auto_flow": null,
            "grid_auto_rows": null,
            "grid_column": null,
            "grid_gap": null,
            "grid_row": null,
            "grid_template_areas": null,
            "grid_template_columns": null,
            "grid_template_rows": null,
            "height": null,
            "justify_content": null,
            "justify_items": null,
            "left": null,
            "margin": null,
            "max_height": null,
            "max_width": null,
            "min_height": null,
            "min_width": null,
            "object_fit": null,
            "object_position": null,
            "order": null,
            "overflow": null,
            "overflow_x": null,
            "overflow_y": null,
            "padding": null,
            "right": null,
            "top": null,
            "visibility": null,
            "width": null
          }
        },
        "ccfb4e4aed9d48239d0d63dd522b2e8f": {
          "model_module": "@jupyter-widgets/controls",
          "model_name": "ProgressStyleModel",
          "model_module_version": "1.5.0",
          "state": {
            "_model_module": "@jupyter-widgets/controls",
            "_model_module_version": "1.5.0",
            "_model_name": "ProgressStyleModel",
            "_view_count": null,
            "_view_module": "@jupyter-widgets/base",
            "_view_module_version": "1.2.0",
            "_view_name": "StyleView",
            "bar_color": null,
            "description_width": ""
          }
        },
        "4fae1e645db7425797f0cb1218f88017": {
          "model_module": "@jupyter-widgets/base",
          "model_name": "LayoutModel",
          "model_module_version": "1.2.0",
          "state": {
            "_model_module": "@jupyter-widgets/base",
            "_model_module_version": "1.2.0",
            "_model_name": "LayoutModel",
            "_view_count": null,
            "_view_module": "@jupyter-widgets/base",
            "_view_module_version": "1.2.0",
            "_view_name": "LayoutView",
            "align_content": null,
            "align_items": null,
            "align_self": null,
            "border": null,
            "bottom": null,
            "display": null,
            "flex": null,
            "flex_flow": null,
            "grid_area": null,
            "grid_auto_columns": null,
            "grid_auto_flow": null,
            "grid_auto_rows": null,
            "grid_column": null,
            "grid_gap": null,
            "grid_row": null,
            "grid_template_areas": null,
            "grid_template_columns": null,
            "grid_template_rows": null,
            "height": null,
            "justify_content": null,
            "justify_items": null,
            "left": null,
            "margin": null,
            "max_height": null,
            "max_width": null,
            "min_height": null,
            "min_width": null,
            "object_fit": null,
            "object_position": null,
            "order": null,
            "overflow": null,
            "overflow_x": null,
            "overflow_y": null,
            "padding": null,
            "right": null,
            "top": null,
            "visibility": null,
            "width": null
          }
        },
        "f44b2df726f1405e85554fc0f5bfa0a3": {
          "model_module": "@jupyter-widgets/controls",
          "model_name": "DescriptionStyleModel",
          "model_module_version": "1.5.0",
          "state": {
            "_model_module": "@jupyter-widgets/controls",
            "_model_module_version": "1.5.0",
            "_model_name": "DescriptionStyleModel",
            "_view_count": null,
            "_view_module": "@jupyter-widgets/base",
            "_view_module_version": "1.2.0",
            "_view_name": "StyleView",
            "description_width": ""
          }
        },
        "392cb22bd34d445ab36ff74cde171a62": {
          "model_module": "@jupyter-widgets/controls",
          "model_name": "HBoxModel",
          "model_module_version": "1.5.0",
          "state": {
            "_dom_classes": [],
            "_model_module": "@jupyter-widgets/controls",
            "_model_module_version": "1.5.0",
            "_model_name": "HBoxModel",
            "_view_count": null,
            "_view_module": "@jupyter-widgets/controls",
            "_view_module_version": "1.5.0",
            "_view_name": "HBoxView",
            "box_style": "",
            "children": [
              "IPY_MODEL_b8f99d778d11405d968ccdb3cbe53bc2",
              "IPY_MODEL_2a04d8c3f62f41f1822010ade0587f08",
              "IPY_MODEL_7896146d3b4e425797b0f28d0b48402d"
            ],
            "layout": "IPY_MODEL_8188c42b75b543c7aa38a471e7e0dc03"
          }
        },
        "b8f99d778d11405d968ccdb3cbe53bc2": {
          "model_module": "@jupyter-widgets/controls",
          "model_name": "HTMLModel",
          "model_module_version": "1.5.0",
          "state": {
            "_dom_classes": [],
            "_model_module": "@jupyter-widgets/controls",
            "_model_module_version": "1.5.0",
            "_model_name": "HTMLModel",
            "_view_count": null,
            "_view_module": "@jupyter-widgets/controls",
            "_view_module_version": "1.5.0",
            "_view_name": "HTMLView",
            "description": "",
            "description_tooltip": null,
            "layout": "IPY_MODEL_23ab73c296cf497a96632de8a3d1bcfa",
            "placeholder": "​",
            "style": "IPY_MODEL_e19954680cae4b5ab02321732f6fa63c",
            "value": "config.json: 100%"
          }
        },
        "2a04d8c3f62f41f1822010ade0587f08": {
          "model_module": "@jupyter-widgets/controls",
          "model_name": "FloatProgressModel",
          "model_module_version": "1.5.0",
          "state": {
            "_dom_classes": [],
            "_model_module": "@jupyter-widgets/controls",
            "_model_module_version": "1.5.0",
            "_model_name": "FloatProgressModel",
            "_view_count": null,
            "_view_module": "@jupyter-widgets/controls",
            "_view_module_version": "1.5.0",
            "_view_name": "ProgressView",
            "bar_style": "success",
            "description": "",
            "description_tooltip": null,
            "layout": "IPY_MODEL_c112b9ec5f6f42bb9ae4b90938120146",
            "max": 570,
            "min": 0,
            "orientation": "horizontal",
            "style": "IPY_MODEL_70c94925073a4740a26e1d5afe2fd82b",
            "value": 570
          }
        },
        "7896146d3b4e425797b0f28d0b48402d": {
          "model_module": "@jupyter-widgets/controls",
          "model_name": "HTMLModel",
          "model_module_version": "1.5.0",
          "state": {
            "_dom_classes": [],
            "_model_module": "@jupyter-widgets/controls",
            "_model_module_version": "1.5.0",
            "_model_name": "HTMLModel",
            "_view_count": null,
            "_view_module": "@jupyter-widgets/controls",
            "_view_module_version": "1.5.0",
            "_view_name": "HTMLView",
            "description": "",
            "description_tooltip": null,
            "layout": "IPY_MODEL_c68a5471db4e454ea945b9ae810c3d1a",
            "placeholder": "​",
            "style": "IPY_MODEL_0865da581aec465587be6181daab20b5",
            "value": " 570/570 [00:00&lt;00:00, 41.6kB/s]"
          }
        },
        "8188c42b75b543c7aa38a471e7e0dc03": {
          "model_module": "@jupyter-widgets/base",
          "model_name": "LayoutModel",
          "model_module_version": "1.2.0",
          "state": {
            "_model_module": "@jupyter-widgets/base",
            "_model_module_version": "1.2.0",
            "_model_name": "LayoutModel",
            "_view_count": null,
            "_view_module": "@jupyter-widgets/base",
            "_view_module_version": "1.2.0",
            "_view_name": "LayoutView",
            "align_content": null,
            "align_items": null,
            "align_self": null,
            "border": null,
            "bottom": null,
            "display": null,
            "flex": null,
            "flex_flow": null,
            "grid_area": null,
            "grid_auto_columns": null,
            "grid_auto_flow": null,
            "grid_auto_rows": null,
            "grid_column": null,
            "grid_gap": null,
            "grid_row": null,
            "grid_template_areas": null,
            "grid_template_columns": null,
            "grid_template_rows": null,
            "height": null,
            "justify_content": null,
            "justify_items": null,
            "left": null,
            "margin": null,
            "max_height": null,
            "max_width": null,
            "min_height": null,
            "min_width": null,
            "object_fit": null,
            "object_position": null,
            "order": null,
            "overflow": null,
            "overflow_x": null,
            "overflow_y": null,
            "padding": null,
            "right": null,
            "top": null,
            "visibility": null,
            "width": null
          }
        },
        "23ab73c296cf497a96632de8a3d1bcfa": {
          "model_module": "@jupyter-widgets/base",
          "model_name": "LayoutModel",
          "model_module_version": "1.2.0",
          "state": {
            "_model_module": "@jupyter-widgets/base",
            "_model_module_version": "1.2.0",
            "_model_name": "LayoutModel",
            "_view_count": null,
            "_view_module": "@jupyter-widgets/base",
            "_view_module_version": "1.2.0",
            "_view_name": "LayoutView",
            "align_content": null,
            "align_items": null,
            "align_self": null,
            "border": null,
            "bottom": null,
            "display": null,
            "flex": null,
            "flex_flow": null,
            "grid_area": null,
            "grid_auto_columns": null,
            "grid_auto_flow": null,
            "grid_auto_rows": null,
            "grid_column": null,
            "grid_gap": null,
            "grid_row": null,
            "grid_template_areas": null,
            "grid_template_columns": null,
            "grid_template_rows": null,
            "height": null,
            "justify_content": null,
            "justify_items": null,
            "left": null,
            "margin": null,
            "max_height": null,
            "max_width": null,
            "min_height": null,
            "min_width": null,
            "object_fit": null,
            "object_position": null,
            "order": null,
            "overflow": null,
            "overflow_x": null,
            "overflow_y": null,
            "padding": null,
            "right": null,
            "top": null,
            "visibility": null,
            "width": null
          }
        },
        "e19954680cae4b5ab02321732f6fa63c": {
          "model_module": "@jupyter-widgets/controls",
          "model_name": "DescriptionStyleModel",
          "model_module_version": "1.5.0",
          "state": {
            "_model_module": "@jupyter-widgets/controls",
            "_model_module_version": "1.5.0",
            "_model_name": "DescriptionStyleModel",
            "_view_count": null,
            "_view_module": "@jupyter-widgets/base",
            "_view_module_version": "1.2.0",
            "_view_name": "StyleView",
            "description_width": ""
          }
        },
        "c112b9ec5f6f42bb9ae4b90938120146": {
          "model_module": "@jupyter-widgets/base",
          "model_name": "LayoutModel",
          "model_module_version": "1.2.0",
          "state": {
            "_model_module": "@jupyter-widgets/base",
            "_model_module_version": "1.2.0",
            "_model_name": "LayoutModel",
            "_view_count": null,
            "_view_module": "@jupyter-widgets/base",
            "_view_module_version": "1.2.0",
            "_view_name": "LayoutView",
            "align_content": null,
            "align_items": null,
            "align_self": null,
            "border": null,
            "bottom": null,
            "display": null,
            "flex": null,
            "flex_flow": null,
            "grid_area": null,
            "grid_auto_columns": null,
            "grid_auto_flow": null,
            "grid_auto_rows": null,
            "grid_column": null,
            "grid_gap": null,
            "grid_row": null,
            "grid_template_areas": null,
            "grid_template_columns": null,
            "grid_template_rows": null,
            "height": null,
            "justify_content": null,
            "justify_items": null,
            "left": null,
            "margin": null,
            "max_height": null,
            "max_width": null,
            "min_height": null,
            "min_width": null,
            "object_fit": null,
            "object_position": null,
            "order": null,
            "overflow": null,
            "overflow_x": null,
            "overflow_y": null,
            "padding": null,
            "right": null,
            "top": null,
            "visibility": null,
            "width": null
          }
        },
        "70c94925073a4740a26e1d5afe2fd82b": {
          "model_module": "@jupyter-widgets/controls",
          "model_name": "ProgressStyleModel",
          "model_module_version": "1.5.0",
          "state": {
            "_model_module": "@jupyter-widgets/controls",
            "_model_module_version": "1.5.0",
            "_model_name": "ProgressStyleModel",
            "_view_count": null,
            "_view_module": "@jupyter-widgets/base",
            "_view_module_version": "1.2.0",
            "_view_name": "StyleView",
            "bar_color": null,
            "description_width": ""
          }
        },
        "c68a5471db4e454ea945b9ae810c3d1a": {
          "model_module": "@jupyter-widgets/base",
          "model_name": "LayoutModel",
          "model_module_version": "1.2.0",
          "state": {
            "_model_module": "@jupyter-widgets/base",
            "_model_module_version": "1.2.0",
            "_model_name": "LayoutModel",
            "_view_count": null,
            "_view_module": "@jupyter-widgets/base",
            "_view_module_version": "1.2.0",
            "_view_name": "LayoutView",
            "align_content": null,
            "align_items": null,
            "align_self": null,
            "border": null,
            "bottom": null,
            "display": null,
            "flex": null,
            "flex_flow": null,
            "grid_area": null,
            "grid_auto_columns": null,
            "grid_auto_flow": null,
            "grid_auto_rows": null,
            "grid_column": null,
            "grid_gap": null,
            "grid_row": null,
            "grid_template_areas": null,
            "grid_template_columns": null,
            "grid_template_rows": null,
            "height": null,
            "justify_content": null,
            "justify_items": null,
            "left": null,
            "margin": null,
            "max_height": null,
            "max_width": null,
            "min_height": null,
            "min_width": null,
            "object_fit": null,
            "object_position": null,
            "order": null,
            "overflow": null,
            "overflow_x": null,
            "overflow_y": null,
            "padding": null,
            "right": null,
            "top": null,
            "visibility": null,
            "width": null
          }
        },
        "0865da581aec465587be6181daab20b5": {
          "model_module": "@jupyter-widgets/controls",
          "model_name": "DescriptionStyleModel",
          "model_module_version": "1.5.0",
          "state": {
            "_model_module": "@jupyter-widgets/controls",
            "_model_module_version": "1.5.0",
            "_model_name": "DescriptionStyleModel",
            "_view_count": null,
            "_view_module": "@jupyter-widgets/base",
            "_view_module_version": "1.2.0",
            "_view_name": "StyleView",
            "description_width": ""
          }
        },
        "e80c9012ce9d4f63bb225f1e46aaa54d": {
          "model_module": "@jupyter-widgets/controls",
          "model_name": "HBoxModel",
          "model_module_version": "1.5.0",
          "state": {
            "_dom_classes": [],
            "_model_module": "@jupyter-widgets/controls",
            "_model_module_version": "1.5.0",
            "_model_name": "HBoxModel",
            "_view_count": null,
            "_view_module": "@jupyter-widgets/controls",
            "_view_module_version": "1.5.0",
            "_view_name": "HBoxView",
            "box_style": "",
            "children": [
              "IPY_MODEL_a03dffe3e71d41cebd25399440768f7a",
              "IPY_MODEL_1514f4810b6e468bbdb304babb3c08fe",
              "IPY_MODEL_a72cb726f9bc47e3b195a10afc6439d5"
            ],
            "layout": "IPY_MODEL_0109dea9490f4324ab1bddd89c31eb92"
          }
        },
        "a03dffe3e71d41cebd25399440768f7a": {
          "model_module": "@jupyter-widgets/controls",
          "model_name": "HTMLModel",
          "model_module_version": "1.5.0",
          "state": {
            "_dom_classes": [],
            "_model_module": "@jupyter-widgets/controls",
            "_model_module_version": "1.5.0",
            "_model_name": "HTMLModel",
            "_view_count": null,
            "_view_module": "@jupyter-widgets/controls",
            "_view_module_version": "1.5.0",
            "_view_name": "HTMLView",
            "description": "",
            "description_tooltip": null,
            "layout": "IPY_MODEL_15dd5fefca504093af27eae028a74139",
            "placeholder": "​",
            "style": "IPY_MODEL_51999b3daa87483d8bc03fff2d2d8302",
            "value": "README.md: 100%"
          }
        },
        "1514f4810b6e468bbdb304babb3c08fe": {
          "model_module": "@jupyter-widgets/controls",
          "model_name": "FloatProgressModel",
          "model_module_version": "1.5.0",
          "state": {
            "_dom_classes": [],
            "_model_module": "@jupyter-widgets/controls",
            "_model_module_version": "1.5.0",
            "_model_name": "FloatProgressModel",
            "_view_count": null,
            "_view_module": "@jupyter-widgets/controls",
            "_view_module_version": "1.5.0",
            "_view_name": "ProgressView",
            "bar_style": "success",
            "description": "",
            "description_tooltip": null,
            "layout": "IPY_MODEL_51e670a2af594b778aa4af0e50cb87d6",
            "max": 6812,
            "min": 0,
            "orientation": "horizontal",
            "style": "IPY_MODEL_811cd4f41da64579a0632e560ba37e36",
            "value": 6812
          }
        },
        "a72cb726f9bc47e3b195a10afc6439d5": {
          "model_module": "@jupyter-widgets/controls",
          "model_name": "HTMLModel",
          "model_module_version": "1.5.0",
          "state": {
            "_dom_classes": [],
            "_model_module": "@jupyter-widgets/controls",
            "_model_module_version": "1.5.0",
            "_model_name": "HTMLModel",
            "_view_count": null,
            "_view_module": "@jupyter-widgets/controls",
            "_view_module_version": "1.5.0",
            "_view_name": "HTMLView",
            "description": "",
            "description_tooltip": null,
            "layout": "IPY_MODEL_fbc4468c1e274176a56442f841b9ab9d",
            "placeholder": "​",
            "style": "IPY_MODEL_9c6219937c2947c79d806e6ab8b4951d",
            "value": " 6.81k/6.81k [00:00&lt;00:00, 485kB/s]"
          }
        },
        "0109dea9490f4324ab1bddd89c31eb92": {
          "model_module": "@jupyter-widgets/base",
          "model_name": "LayoutModel",
          "model_module_version": "1.2.0",
          "state": {
            "_model_module": "@jupyter-widgets/base",
            "_model_module_version": "1.2.0",
            "_model_name": "LayoutModel",
            "_view_count": null,
            "_view_module": "@jupyter-widgets/base",
            "_view_module_version": "1.2.0",
            "_view_name": "LayoutView",
            "align_content": null,
            "align_items": null,
            "align_self": null,
            "border": null,
            "bottom": null,
            "display": null,
            "flex": null,
            "flex_flow": null,
            "grid_area": null,
            "grid_auto_columns": null,
            "grid_auto_flow": null,
            "grid_auto_rows": null,
            "grid_column": null,
            "grid_gap": null,
            "grid_row": null,
            "grid_template_areas": null,
            "grid_template_columns": null,
            "grid_template_rows": null,
            "height": null,
            "justify_content": null,
            "justify_items": null,
            "left": null,
            "margin": null,
            "max_height": null,
            "max_width": null,
            "min_height": null,
            "min_width": null,
            "object_fit": null,
            "object_position": null,
            "order": null,
            "overflow": null,
            "overflow_x": null,
            "overflow_y": null,
            "padding": null,
            "right": null,
            "top": null,
            "visibility": null,
            "width": null
          }
        },
        "15dd5fefca504093af27eae028a74139": {
          "model_module": "@jupyter-widgets/base",
          "model_name": "LayoutModel",
          "model_module_version": "1.2.0",
          "state": {
            "_model_module": "@jupyter-widgets/base",
            "_model_module_version": "1.2.0",
            "_model_name": "LayoutModel",
            "_view_count": null,
            "_view_module": "@jupyter-widgets/base",
            "_view_module_version": "1.2.0",
            "_view_name": "LayoutView",
            "align_content": null,
            "align_items": null,
            "align_self": null,
            "border": null,
            "bottom": null,
            "display": null,
            "flex": null,
            "flex_flow": null,
            "grid_area": null,
            "grid_auto_columns": null,
            "grid_auto_flow": null,
            "grid_auto_rows": null,
            "grid_column": null,
            "grid_gap": null,
            "grid_row": null,
            "grid_template_areas": null,
            "grid_template_columns": null,
            "grid_template_rows": null,
            "height": null,
            "justify_content": null,
            "justify_items": null,
            "left": null,
            "margin": null,
            "max_height": null,
            "max_width": null,
            "min_height": null,
            "min_width": null,
            "object_fit": null,
            "object_position": null,
            "order": null,
            "overflow": null,
            "overflow_x": null,
            "overflow_y": null,
            "padding": null,
            "right": null,
            "top": null,
            "visibility": null,
            "width": null
          }
        },
        "51999b3daa87483d8bc03fff2d2d8302": {
          "model_module": "@jupyter-widgets/controls",
          "model_name": "DescriptionStyleModel",
          "model_module_version": "1.5.0",
          "state": {
            "_model_module": "@jupyter-widgets/controls",
            "_model_module_version": "1.5.0",
            "_model_name": "DescriptionStyleModel",
            "_view_count": null,
            "_view_module": "@jupyter-widgets/base",
            "_view_module_version": "1.2.0",
            "_view_name": "StyleView",
            "description_width": ""
          }
        },
        "51e670a2af594b778aa4af0e50cb87d6": {
          "model_module": "@jupyter-widgets/base",
          "model_name": "LayoutModel",
          "model_module_version": "1.2.0",
          "state": {
            "_model_module": "@jupyter-widgets/base",
            "_model_module_version": "1.2.0",
            "_model_name": "LayoutModel",
            "_view_count": null,
            "_view_module": "@jupyter-widgets/base",
            "_view_module_version": "1.2.0",
            "_view_name": "LayoutView",
            "align_content": null,
            "align_items": null,
            "align_self": null,
            "border": null,
            "bottom": null,
            "display": null,
            "flex": null,
            "flex_flow": null,
            "grid_area": null,
            "grid_auto_columns": null,
            "grid_auto_flow": null,
            "grid_auto_rows": null,
            "grid_column": null,
            "grid_gap": null,
            "grid_row": null,
            "grid_template_areas": null,
            "grid_template_columns": null,
            "grid_template_rows": null,
            "height": null,
            "justify_content": null,
            "justify_items": null,
            "left": null,
            "margin": null,
            "max_height": null,
            "max_width": null,
            "min_height": null,
            "min_width": null,
            "object_fit": null,
            "object_position": null,
            "order": null,
            "overflow": null,
            "overflow_x": null,
            "overflow_y": null,
            "padding": null,
            "right": null,
            "top": null,
            "visibility": null,
            "width": null
          }
        },
        "811cd4f41da64579a0632e560ba37e36": {
          "model_module": "@jupyter-widgets/controls",
          "model_name": "ProgressStyleModel",
          "model_module_version": "1.5.0",
          "state": {
            "_model_module": "@jupyter-widgets/controls",
            "_model_module_version": "1.5.0",
            "_model_name": "ProgressStyleModel",
            "_view_count": null,
            "_view_module": "@jupyter-widgets/base",
            "_view_module_version": "1.2.0",
            "_view_name": "StyleView",
            "bar_color": null,
            "description_width": ""
          }
        },
        "fbc4468c1e274176a56442f841b9ab9d": {
          "model_module": "@jupyter-widgets/base",
          "model_name": "LayoutModel",
          "model_module_version": "1.2.0",
          "state": {
            "_model_module": "@jupyter-widgets/base",
            "_model_module_version": "1.2.0",
            "_model_name": "LayoutModel",
            "_view_count": null,
            "_view_module": "@jupyter-widgets/base",
            "_view_module_version": "1.2.0",
            "_view_name": "LayoutView",
            "align_content": null,
            "align_items": null,
            "align_self": null,
            "border": null,
            "bottom": null,
            "display": null,
            "flex": null,
            "flex_flow": null,
            "grid_area": null,
            "grid_auto_columns": null,
            "grid_auto_flow": null,
            "grid_auto_rows": null,
            "grid_column": null,
            "grid_gap": null,
            "grid_row": null,
            "grid_template_areas": null,
            "grid_template_columns": null,
            "grid_template_rows": null,
            "height": null,
            "justify_content": null,
            "justify_items": null,
            "left": null,
            "margin": null,
            "max_height": null,
            "max_width": null,
            "min_height": null,
            "min_width": null,
            "object_fit": null,
            "object_position": null,
            "order": null,
            "overflow": null,
            "overflow_x": null,
            "overflow_y": null,
            "padding": null,
            "right": null,
            "top": null,
            "visibility": null,
            "width": null
          }
        },
        "9c6219937c2947c79d806e6ab8b4951d": {
          "model_module": "@jupyter-widgets/controls",
          "model_name": "DescriptionStyleModel",
          "model_module_version": "1.5.0",
          "state": {
            "_model_module": "@jupyter-widgets/controls",
            "_model_module_version": "1.5.0",
            "_model_name": "DescriptionStyleModel",
            "_view_count": null,
            "_view_module": "@jupyter-widgets/base",
            "_view_module_version": "1.2.0",
            "_view_name": "StyleView",
            "description_width": ""
          }
        },
        "2d9d5a9f1254421c978154a32e38dba9": {
          "model_module": "@jupyter-widgets/controls",
          "model_name": "HBoxModel",
          "model_module_version": "1.5.0",
          "state": {
            "_dom_classes": [],
            "_model_module": "@jupyter-widgets/controls",
            "_model_module_version": "1.5.0",
            "_model_name": "HBoxModel",
            "_view_count": null,
            "_view_module": "@jupyter-widgets/controls",
            "_view_module_version": "1.5.0",
            "_view_name": "HBoxView",
            "box_style": "",
            "children": [
              "IPY_MODEL_633f3598f50e454b8ff420db9b05b02a",
              "IPY_MODEL_d7b66a8d38ce497e84e267ecddb0199d",
              "IPY_MODEL_fa4cd691bfad45119bacc8d8a23a77f3"
            ],
            "layout": "IPY_MODEL_c27eccaf13c94828b752285c167dbcd2"
          }
        },
        "633f3598f50e454b8ff420db9b05b02a": {
          "model_module": "@jupyter-widgets/controls",
          "model_name": "HTMLModel",
          "model_module_version": "1.5.0",
          "state": {
            "_dom_classes": [],
            "_model_module": "@jupyter-widgets/controls",
            "_model_module_version": "1.5.0",
            "_model_name": "HTMLModel",
            "_view_count": null,
            "_view_module": "@jupyter-widgets/controls",
            "_view_module_version": "1.5.0",
            "_view_name": "HTMLView",
            "description": "",
            "description_tooltip": null,
            "layout": "IPY_MODEL_755176d25851442080ced8bbeb8d058f",
            "placeholder": "​",
            "style": "IPY_MODEL_a5b58237d5854df6a73b64be39a50001",
            "value": "train-00000-of-00004.parquet: 100%"
          }
        },
        "d7b66a8d38ce497e84e267ecddb0199d": {
          "model_module": "@jupyter-widgets/controls",
          "model_name": "FloatProgressModel",
          "model_module_version": "1.5.0",
          "state": {
            "_dom_classes": [],
            "_model_module": "@jupyter-widgets/controls",
            "_model_module_version": "1.5.0",
            "_model_name": "FloatProgressModel",
            "_view_count": null,
            "_view_module": "@jupyter-widgets/controls",
            "_view_module_version": "1.5.0",
            "_view_name": "ProgressView",
            "bar_style": "success",
            "description": "",
            "description_tooltip": null,
            "layout": "IPY_MODEL_e30af639a3c74d5d809d55196fb9be28",
            "max": 259761770,
            "min": 0,
            "orientation": "horizontal",
            "style": "IPY_MODEL_32a845f4bebd49bb8df3c53a925e3b8d",
            "value": 259761770
          }
        },
        "fa4cd691bfad45119bacc8d8a23a77f3": {
          "model_module": "@jupyter-widgets/controls",
          "model_name": "HTMLModel",
          "model_module_version": "1.5.0",
          "state": {
            "_dom_classes": [],
            "_model_module": "@jupyter-widgets/controls",
            "_model_module_version": "1.5.0",
            "_model_name": "HTMLModel",
            "_view_count": null,
            "_view_module": "@jupyter-widgets/controls",
            "_view_module_version": "1.5.0",
            "_view_name": "HTMLView",
            "description": "",
            "description_tooltip": null,
            "layout": "IPY_MODEL_39c835a93c3b450b91ed990c17a92bdb",
            "placeholder": "​",
            "style": "IPY_MODEL_591dae37832045e7a420ddfe5c397760",
            "value": " 260M/260M [00:11&lt;00:00, 24.7MB/s]"
          }
        },
        "c27eccaf13c94828b752285c167dbcd2": {
          "model_module": "@jupyter-widgets/base",
          "model_name": "LayoutModel",
          "model_module_version": "1.2.0",
          "state": {
            "_model_module": "@jupyter-widgets/base",
            "_model_module_version": "1.2.0",
            "_model_name": "LayoutModel",
            "_view_count": null,
            "_view_module": "@jupyter-widgets/base",
            "_view_module_version": "1.2.0",
            "_view_name": "LayoutView",
            "align_content": null,
            "align_items": null,
            "align_self": null,
            "border": null,
            "bottom": null,
            "display": null,
            "flex": null,
            "flex_flow": null,
            "grid_area": null,
            "grid_auto_columns": null,
            "grid_auto_flow": null,
            "grid_auto_rows": null,
            "grid_column": null,
            "grid_gap": null,
            "grid_row": null,
            "grid_template_areas": null,
            "grid_template_columns": null,
            "grid_template_rows": null,
            "height": null,
            "justify_content": null,
            "justify_items": null,
            "left": null,
            "margin": null,
            "max_height": null,
            "max_width": null,
            "min_height": null,
            "min_width": null,
            "object_fit": null,
            "object_position": null,
            "order": null,
            "overflow": null,
            "overflow_x": null,
            "overflow_y": null,
            "padding": null,
            "right": null,
            "top": null,
            "visibility": null,
            "width": null
          }
        },
        "755176d25851442080ced8bbeb8d058f": {
          "model_module": "@jupyter-widgets/base",
          "model_name": "LayoutModel",
          "model_module_version": "1.2.0",
          "state": {
            "_model_module": "@jupyter-widgets/base",
            "_model_module_version": "1.2.0",
            "_model_name": "LayoutModel",
            "_view_count": null,
            "_view_module": "@jupyter-widgets/base",
            "_view_module_version": "1.2.0",
            "_view_name": "LayoutView",
            "align_content": null,
            "align_items": null,
            "align_self": null,
            "border": null,
            "bottom": null,
            "display": null,
            "flex": null,
            "flex_flow": null,
            "grid_area": null,
            "grid_auto_columns": null,
            "grid_auto_flow": null,
            "grid_auto_rows": null,
            "grid_column": null,
            "grid_gap": null,
            "grid_row": null,
            "grid_template_areas": null,
            "grid_template_columns": null,
            "grid_template_rows": null,
            "height": null,
            "justify_content": null,
            "justify_items": null,
            "left": null,
            "margin": null,
            "max_height": null,
            "max_width": null,
            "min_height": null,
            "min_width": null,
            "object_fit": null,
            "object_position": null,
            "order": null,
            "overflow": null,
            "overflow_x": null,
            "overflow_y": null,
            "padding": null,
            "right": null,
            "top": null,
            "visibility": null,
            "width": null
          }
        },
        "a5b58237d5854df6a73b64be39a50001": {
          "model_module": "@jupyter-widgets/controls",
          "model_name": "DescriptionStyleModel",
          "model_module_version": "1.5.0",
          "state": {
            "_model_module": "@jupyter-widgets/controls",
            "_model_module_version": "1.5.0",
            "_model_name": "DescriptionStyleModel",
            "_view_count": null,
            "_view_module": "@jupyter-widgets/base",
            "_view_module_version": "1.2.0",
            "_view_name": "StyleView",
            "description_width": ""
          }
        },
        "e30af639a3c74d5d809d55196fb9be28": {
          "model_module": "@jupyter-widgets/base",
          "model_name": "LayoutModel",
          "model_module_version": "1.2.0",
          "state": {
            "_model_module": "@jupyter-widgets/base",
            "_model_module_version": "1.2.0",
            "_model_name": "LayoutModel",
            "_view_count": null,
            "_view_module": "@jupyter-widgets/base",
            "_view_module_version": "1.2.0",
            "_view_name": "LayoutView",
            "align_content": null,
            "align_items": null,
            "align_self": null,
            "border": null,
            "bottom": null,
            "display": null,
            "flex": null,
            "flex_flow": null,
            "grid_area": null,
            "grid_auto_columns": null,
            "grid_auto_flow": null,
            "grid_auto_rows": null,
            "grid_column": null,
            "grid_gap": null,
            "grid_row": null,
            "grid_template_areas": null,
            "grid_template_columns": null,
            "grid_template_rows": null,
            "height": null,
            "justify_content": null,
            "justify_items": null,
            "left": null,
            "margin": null,
            "max_height": null,
            "max_width": null,
            "min_height": null,
            "min_width": null,
            "object_fit": null,
            "object_position": null,
            "order": null,
            "overflow": null,
            "overflow_x": null,
            "overflow_y": null,
            "padding": null,
            "right": null,
            "top": null,
            "visibility": null,
            "width": null
          }
        },
        "32a845f4bebd49bb8df3c53a925e3b8d": {
          "model_module": "@jupyter-widgets/controls",
          "model_name": "ProgressStyleModel",
          "model_module_version": "1.5.0",
          "state": {
            "_model_module": "@jupyter-widgets/controls",
            "_model_module_version": "1.5.0",
            "_model_name": "ProgressStyleModel",
            "_view_count": null,
            "_view_module": "@jupyter-widgets/base",
            "_view_module_version": "1.2.0",
            "_view_name": "StyleView",
            "bar_color": null,
            "description_width": ""
          }
        },
        "39c835a93c3b450b91ed990c17a92bdb": {
          "model_module": "@jupyter-widgets/base",
          "model_name": "LayoutModel",
          "model_module_version": "1.2.0",
          "state": {
            "_model_module": "@jupyter-widgets/base",
            "_model_module_version": "1.2.0",
            "_model_name": "LayoutModel",
            "_view_count": null,
            "_view_module": "@jupyter-widgets/base",
            "_view_module_version": "1.2.0",
            "_view_name": "LayoutView",
            "align_content": null,
            "align_items": null,
            "align_self": null,
            "border": null,
            "bottom": null,
            "display": null,
            "flex": null,
            "flex_flow": null,
            "grid_area": null,
            "grid_auto_columns": null,
            "grid_auto_flow": null,
            "grid_auto_rows": null,
            "grid_column": null,
            "grid_gap": null,
            "grid_row": null,
            "grid_template_areas": null,
            "grid_template_columns": null,
            "grid_template_rows": null,
            "height": null,
            "justify_content": null,
            "justify_items": null,
            "left": null,
            "margin": null,
            "max_height": null,
            "max_width": null,
            "min_height": null,
            "min_width": null,
            "object_fit": null,
            "object_position": null,
            "order": null,
            "overflow": null,
            "overflow_x": null,
            "overflow_y": null,
            "padding": null,
            "right": null,
            "top": null,
            "visibility": null,
            "width": null
          }
        },
        "591dae37832045e7a420ddfe5c397760": {
          "model_module": "@jupyter-widgets/controls",
          "model_name": "DescriptionStyleModel",
          "model_module_version": "1.5.0",
          "state": {
            "_model_module": "@jupyter-widgets/controls",
            "_model_module_version": "1.5.0",
            "_model_name": "DescriptionStyleModel",
            "_view_count": null,
            "_view_module": "@jupyter-widgets/base",
            "_view_module_version": "1.2.0",
            "_view_name": "StyleView",
            "description_width": ""
          }
        },
        "1938935395b94daaa473e796ee38cec6": {
          "model_module": "@jupyter-widgets/controls",
          "model_name": "HBoxModel",
          "model_module_version": "1.5.0",
          "state": {
            "_dom_classes": [],
            "_model_module": "@jupyter-widgets/controls",
            "_model_module_version": "1.5.0",
            "_model_name": "HBoxModel",
            "_view_count": null,
            "_view_module": "@jupyter-widgets/controls",
            "_view_module_version": "1.5.0",
            "_view_name": "HBoxView",
            "box_style": "",
            "children": [
              "IPY_MODEL_60a64ad9cd9b4f9b89170c6ad1d2aabc",
              "IPY_MODEL_823fdcffe4d94447b5cdded83357c329",
              "IPY_MODEL_ced1f051accc4eafbb22ab71651d6e7f"
            ],
            "layout": "IPY_MODEL_519d7d18e59e4b3da41b80dcccb92b9d"
          }
        },
        "60a64ad9cd9b4f9b89170c6ad1d2aabc": {
          "model_module": "@jupyter-widgets/controls",
          "model_name": "HTMLModel",
          "model_module_version": "1.5.0",
          "state": {
            "_dom_classes": [],
            "_model_module": "@jupyter-widgets/controls",
            "_model_module_version": "1.5.0",
            "_model_name": "HTMLModel",
            "_view_count": null,
            "_view_module": "@jupyter-widgets/controls",
            "_view_module_version": "1.5.0",
            "_view_name": "HTMLView",
            "description": "",
            "description_tooltip": null,
            "layout": "IPY_MODEL_4cb50581766649cfb50a5f8ff2317d79",
            "placeholder": "​",
            "style": "IPY_MODEL_4632fcbac79e4f4cba82d17225d14732",
            "value": "train-00001-of-00004.parquet: 100%"
          }
        },
        "823fdcffe4d94447b5cdded83357c329": {
          "model_module": "@jupyter-widgets/controls",
          "model_name": "FloatProgressModel",
          "model_module_version": "1.5.0",
          "state": {
            "_dom_classes": [],
            "_model_module": "@jupyter-widgets/controls",
            "_model_module_version": "1.5.0",
            "_model_name": "FloatProgressModel",
            "_view_count": null,
            "_view_module": "@jupyter-widgets/controls",
            "_view_module_version": "1.5.0",
            "_view_name": "ProgressView",
            "bar_style": "success",
            "description": "",
            "description_tooltip": null,
            "layout": "IPY_MODEL_5f0351bad1b146d8bbc80e2289a56910",
            "max": 258363554,
            "min": 0,
            "orientation": "horizontal",
            "style": "IPY_MODEL_b4cae48b8570442b86ae6c70804a84ec",
            "value": 258363554
          }
        },
        "ced1f051accc4eafbb22ab71651d6e7f": {
          "model_module": "@jupyter-widgets/controls",
          "model_name": "HTMLModel",
          "model_module_version": "1.5.0",
          "state": {
            "_dom_classes": [],
            "_model_module": "@jupyter-widgets/controls",
            "_model_module_version": "1.5.0",
            "_model_name": "HTMLModel",
            "_view_count": null,
            "_view_module": "@jupyter-widgets/controls",
            "_view_module_version": "1.5.0",
            "_view_name": "HTMLView",
            "description": "",
            "description_tooltip": null,
            "layout": "IPY_MODEL_67bb8095537b4f86a30f39b3c66f79e8",
            "placeholder": "​",
            "style": "IPY_MODEL_83025a37dcb04ba9a48645987194b51a",
            "value": " 258M/258M [00:10&lt;00:00, 22.6MB/s]"
          }
        },
        "519d7d18e59e4b3da41b80dcccb92b9d": {
          "model_module": "@jupyter-widgets/base",
          "model_name": "LayoutModel",
          "model_module_version": "1.2.0",
          "state": {
            "_model_module": "@jupyter-widgets/base",
            "_model_module_version": "1.2.0",
            "_model_name": "LayoutModel",
            "_view_count": null,
            "_view_module": "@jupyter-widgets/base",
            "_view_module_version": "1.2.0",
            "_view_name": "LayoutView",
            "align_content": null,
            "align_items": null,
            "align_self": null,
            "border": null,
            "bottom": null,
            "display": null,
            "flex": null,
            "flex_flow": null,
            "grid_area": null,
            "grid_auto_columns": null,
            "grid_auto_flow": null,
            "grid_auto_rows": null,
            "grid_column": null,
            "grid_gap": null,
            "grid_row": null,
            "grid_template_areas": null,
            "grid_template_columns": null,
            "grid_template_rows": null,
            "height": null,
            "justify_content": null,
            "justify_items": null,
            "left": null,
            "margin": null,
            "max_height": null,
            "max_width": null,
            "min_height": null,
            "min_width": null,
            "object_fit": null,
            "object_position": null,
            "order": null,
            "overflow": null,
            "overflow_x": null,
            "overflow_y": null,
            "padding": null,
            "right": null,
            "top": null,
            "visibility": null,
            "width": null
          }
        },
        "4cb50581766649cfb50a5f8ff2317d79": {
          "model_module": "@jupyter-widgets/base",
          "model_name": "LayoutModel",
          "model_module_version": "1.2.0",
          "state": {
            "_model_module": "@jupyter-widgets/base",
            "_model_module_version": "1.2.0",
            "_model_name": "LayoutModel",
            "_view_count": null,
            "_view_module": "@jupyter-widgets/base",
            "_view_module_version": "1.2.0",
            "_view_name": "LayoutView",
            "align_content": null,
            "align_items": null,
            "align_self": null,
            "border": null,
            "bottom": null,
            "display": null,
            "flex": null,
            "flex_flow": null,
            "grid_area": null,
            "grid_auto_columns": null,
            "grid_auto_flow": null,
            "grid_auto_rows": null,
            "grid_column": null,
            "grid_gap": null,
            "grid_row": null,
            "grid_template_areas": null,
            "grid_template_columns": null,
            "grid_template_rows": null,
            "height": null,
            "justify_content": null,
            "justify_items": null,
            "left": null,
            "margin": null,
            "max_height": null,
            "max_width": null,
            "min_height": null,
            "min_width": null,
            "object_fit": null,
            "object_position": null,
            "order": null,
            "overflow": null,
            "overflow_x": null,
            "overflow_y": null,
            "padding": null,
            "right": null,
            "top": null,
            "visibility": null,
            "width": null
          }
        },
        "4632fcbac79e4f4cba82d17225d14732": {
          "model_module": "@jupyter-widgets/controls",
          "model_name": "DescriptionStyleModel",
          "model_module_version": "1.5.0",
          "state": {
            "_model_module": "@jupyter-widgets/controls",
            "_model_module_version": "1.5.0",
            "_model_name": "DescriptionStyleModel",
            "_view_count": null,
            "_view_module": "@jupyter-widgets/base",
            "_view_module_version": "1.2.0",
            "_view_name": "StyleView",
            "description_width": ""
          }
        },
        "5f0351bad1b146d8bbc80e2289a56910": {
          "model_module": "@jupyter-widgets/base",
          "model_name": "LayoutModel",
          "model_module_version": "1.2.0",
          "state": {
            "_model_module": "@jupyter-widgets/base",
            "_model_module_version": "1.2.0",
            "_model_name": "LayoutModel",
            "_view_count": null,
            "_view_module": "@jupyter-widgets/base",
            "_view_module_version": "1.2.0",
            "_view_name": "LayoutView",
            "align_content": null,
            "align_items": null,
            "align_self": null,
            "border": null,
            "bottom": null,
            "display": null,
            "flex": null,
            "flex_flow": null,
            "grid_area": null,
            "grid_auto_columns": null,
            "grid_auto_flow": null,
            "grid_auto_rows": null,
            "grid_column": null,
            "grid_gap": null,
            "grid_row": null,
            "grid_template_areas": null,
            "grid_template_columns": null,
            "grid_template_rows": null,
            "height": null,
            "justify_content": null,
            "justify_items": null,
            "left": null,
            "margin": null,
            "max_height": null,
            "max_width": null,
            "min_height": null,
            "min_width": null,
            "object_fit": null,
            "object_position": null,
            "order": null,
            "overflow": null,
            "overflow_x": null,
            "overflow_y": null,
            "padding": null,
            "right": null,
            "top": null,
            "visibility": null,
            "width": null
          }
        },
        "b4cae48b8570442b86ae6c70804a84ec": {
          "model_module": "@jupyter-widgets/controls",
          "model_name": "ProgressStyleModel",
          "model_module_version": "1.5.0",
          "state": {
            "_model_module": "@jupyter-widgets/controls",
            "_model_module_version": "1.5.0",
            "_model_name": "ProgressStyleModel",
            "_view_count": null,
            "_view_module": "@jupyter-widgets/base",
            "_view_module_version": "1.2.0",
            "_view_name": "StyleView",
            "bar_color": null,
            "description_width": ""
          }
        },
        "67bb8095537b4f86a30f39b3c66f79e8": {
          "model_module": "@jupyter-widgets/base",
          "model_name": "LayoutModel",
          "model_module_version": "1.2.0",
          "state": {
            "_model_module": "@jupyter-widgets/base",
            "_model_module_version": "1.2.0",
            "_model_name": "LayoutModel",
            "_view_count": null,
            "_view_module": "@jupyter-widgets/base",
            "_view_module_version": "1.2.0",
            "_view_name": "LayoutView",
            "align_content": null,
            "align_items": null,
            "align_self": null,
            "border": null,
            "bottom": null,
            "display": null,
            "flex": null,
            "flex_flow": null,
            "grid_area": null,
            "grid_auto_columns": null,
            "grid_auto_flow": null,
            "grid_auto_rows": null,
            "grid_column": null,
            "grid_gap": null,
            "grid_row": null,
            "grid_template_areas": null,
            "grid_template_columns": null,
            "grid_template_rows": null,
            "height": null,
            "justify_content": null,
            "justify_items": null,
            "left": null,
            "margin": null,
            "max_height": null,
            "max_width": null,
            "min_height": null,
            "min_width": null,
            "object_fit": null,
            "object_position": null,
            "order": null,
            "overflow": null,
            "overflow_x": null,
            "overflow_y": null,
            "padding": null,
            "right": null,
            "top": null,
            "visibility": null,
            "width": null
          }
        },
        "83025a37dcb04ba9a48645987194b51a": {
          "model_module": "@jupyter-widgets/controls",
          "model_name": "DescriptionStyleModel",
          "model_module_version": "1.5.0",
          "state": {
            "_model_module": "@jupyter-widgets/controls",
            "_model_module_version": "1.5.0",
            "_model_name": "DescriptionStyleModel",
            "_view_count": null,
            "_view_module": "@jupyter-widgets/base",
            "_view_module_version": "1.2.0",
            "_view_name": "StyleView",
            "description_width": ""
          }
        },
        "d6e95268d5c142c991dbf921b2194bbd": {
          "model_module": "@jupyter-widgets/controls",
          "model_name": "HBoxModel",
          "model_module_version": "1.5.0",
          "state": {
            "_dom_classes": [],
            "_model_module": "@jupyter-widgets/controls",
            "_model_module_version": "1.5.0",
            "_model_name": "HBoxModel",
            "_view_count": null,
            "_view_module": "@jupyter-widgets/controls",
            "_view_module_version": "1.5.0",
            "_view_name": "HBoxView",
            "box_style": "",
            "children": [
              "IPY_MODEL_9f63fbd2a82f42c582370e9e2f8585ae",
              "IPY_MODEL_62450f1ada7f4ec783bb542c1c01bfb7",
              "IPY_MODEL_89997b9d1f1243c9923a60f6b977e7bc"
            ],
            "layout": "IPY_MODEL_cf55b88382584b23989d9f7f985c7431"
          }
        },
        "9f63fbd2a82f42c582370e9e2f8585ae": {
          "model_module": "@jupyter-widgets/controls",
          "model_name": "HTMLModel",
          "model_module_version": "1.5.0",
          "state": {
            "_dom_classes": [],
            "_model_module": "@jupyter-widgets/controls",
            "_model_module_version": "1.5.0",
            "_model_name": "HTMLModel",
            "_view_count": null,
            "_view_module": "@jupyter-widgets/controls",
            "_view_module_version": "1.5.0",
            "_view_name": "HTMLView",
            "description": "",
            "description_tooltip": null,
            "layout": "IPY_MODEL_cbac7a17c8914ddfa9896caca91c535d",
            "placeholder": "​",
            "style": "IPY_MODEL_7228cb30708c4bde987b96b962528ef0",
            "value": "train-00002-of-00004.parquet: 100%"
          }
        },
        "62450f1ada7f4ec783bb542c1c01bfb7": {
          "model_module": "@jupyter-widgets/controls",
          "model_name": "FloatProgressModel",
          "model_module_version": "1.5.0",
          "state": {
            "_dom_classes": [],
            "_model_module": "@jupyter-widgets/controls",
            "_model_module_version": "1.5.0",
            "_model_name": "FloatProgressModel",
            "_view_count": null,
            "_view_module": "@jupyter-widgets/controls",
            "_view_module_version": "1.5.0",
            "_view_name": "ProgressView",
            "bar_style": "success",
            "description": "",
            "description_tooltip": null,
            "layout": "IPY_MODEL_3a4faee7c1674d1eb64c6f12d8f53db3",
            "max": 255471883,
            "min": 0,
            "orientation": "horizontal",
            "style": "IPY_MODEL_4b33dd06bdcd4ec9b67a2ae884d5d13c",
            "value": 255471883
          }
        },
        "89997b9d1f1243c9923a60f6b977e7bc": {
          "model_module": "@jupyter-widgets/controls",
          "model_name": "HTMLModel",
          "model_module_version": "1.5.0",
          "state": {
            "_dom_classes": [],
            "_model_module": "@jupyter-widgets/controls",
            "_model_module_version": "1.5.0",
            "_model_name": "HTMLModel",
            "_view_count": null,
            "_view_module": "@jupyter-widgets/controls",
            "_view_module_version": "1.5.0",
            "_view_name": "HTMLView",
            "description": "",
            "description_tooltip": null,
            "layout": "IPY_MODEL_ade8dd39e02a40a49ab1fdf8a3cf696a",
            "placeholder": "​",
            "style": "IPY_MODEL_b8affd45e3744ead815a4e4eb499c169",
            "value": " 255M/255M [00:09&lt;00:00, 24.4MB/s]"
          }
        },
        "cf55b88382584b23989d9f7f985c7431": {
          "model_module": "@jupyter-widgets/base",
          "model_name": "LayoutModel",
          "model_module_version": "1.2.0",
          "state": {
            "_model_module": "@jupyter-widgets/base",
            "_model_module_version": "1.2.0",
            "_model_name": "LayoutModel",
            "_view_count": null,
            "_view_module": "@jupyter-widgets/base",
            "_view_module_version": "1.2.0",
            "_view_name": "LayoutView",
            "align_content": null,
            "align_items": null,
            "align_self": null,
            "border": null,
            "bottom": null,
            "display": null,
            "flex": null,
            "flex_flow": null,
            "grid_area": null,
            "grid_auto_columns": null,
            "grid_auto_flow": null,
            "grid_auto_rows": null,
            "grid_column": null,
            "grid_gap": null,
            "grid_row": null,
            "grid_template_areas": null,
            "grid_template_columns": null,
            "grid_template_rows": null,
            "height": null,
            "justify_content": null,
            "justify_items": null,
            "left": null,
            "margin": null,
            "max_height": null,
            "max_width": null,
            "min_height": null,
            "min_width": null,
            "object_fit": null,
            "object_position": null,
            "order": null,
            "overflow": null,
            "overflow_x": null,
            "overflow_y": null,
            "padding": null,
            "right": null,
            "top": null,
            "visibility": null,
            "width": null
          }
        },
        "cbac7a17c8914ddfa9896caca91c535d": {
          "model_module": "@jupyter-widgets/base",
          "model_name": "LayoutModel",
          "model_module_version": "1.2.0",
          "state": {
            "_model_module": "@jupyter-widgets/base",
            "_model_module_version": "1.2.0",
            "_model_name": "LayoutModel",
            "_view_count": null,
            "_view_module": "@jupyter-widgets/base",
            "_view_module_version": "1.2.0",
            "_view_name": "LayoutView",
            "align_content": null,
            "align_items": null,
            "align_self": null,
            "border": null,
            "bottom": null,
            "display": null,
            "flex": null,
            "flex_flow": null,
            "grid_area": null,
            "grid_auto_columns": null,
            "grid_auto_flow": null,
            "grid_auto_rows": null,
            "grid_column": null,
            "grid_gap": null,
            "grid_row": null,
            "grid_template_areas": null,
            "grid_template_columns": null,
            "grid_template_rows": null,
            "height": null,
            "justify_content": null,
            "justify_items": null,
            "left": null,
            "margin": null,
            "max_height": null,
            "max_width": null,
            "min_height": null,
            "min_width": null,
            "object_fit": null,
            "object_position": null,
            "order": null,
            "overflow": null,
            "overflow_x": null,
            "overflow_y": null,
            "padding": null,
            "right": null,
            "top": null,
            "visibility": null,
            "width": null
          }
        },
        "7228cb30708c4bde987b96b962528ef0": {
          "model_module": "@jupyter-widgets/controls",
          "model_name": "DescriptionStyleModel",
          "model_module_version": "1.5.0",
          "state": {
            "_model_module": "@jupyter-widgets/controls",
            "_model_module_version": "1.5.0",
            "_model_name": "DescriptionStyleModel",
            "_view_count": null,
            "_view_module": "@jupyter-widgets/base",
            "_view_module_version": "1.2.0",
            "_view_name": "StyleView",
            "description_width": ""
          }
        },
        "3a4faee7c1674d1eb64c6f12d8f53db3": {
          "model_module": "@jupyter-widgets/base",
          "model_name": "LayoutModel",
          "model_module_version": "1.2.0",
          "state": {
            "_model_module": "@jupyter-widgets/base",
            "_model_module_version": "1.2.0",
            "_model_name": "LayoutModel",
            "_view_count": null,
            "_view_module": "@jupyter-widgets/base",
            "_view_module_version": "1.2.0",
            "_view_name": "LayoutView",
            "align_content": null,
            "align_items": null,
            "align_self": null,
            "border": null,
            "bottom": null,
            "display": null,
            "flex": null,
            "flex_flow": null,
            "grid_area": null,
            "grid_auto_columns": null,
            "grid_auto_flow": null,
            "grid_auto_rows": null,
            "grid_column": null,
            "grid_gap": null,
            "grid_row": null,
            "grid_template_areas": null,
            "grid_template_columns": null,
            "grid_template_rows": null,
            "height": null,
            "justify_content": null,
            "justify_items": null,
            "left": null,
            "margin": null,
            "max_height": null,
            "max_width": null,
            "min_height": null,
            "min_width": null,
            "object_fit": null,
            "object_position": null,
            "order": null,
            "overflow": null,
            "overflow_x": null,
            "overflow_y": null,
            "padding": null,
            "right": null,
            "top": null,
            "visibility": null,
            "width": null
          }
        },
        "4b33dd06bdcd4ec9b67a2ae884d5d13c": {
          "model_module": "@jupyter-widgets/controls",
          "model_name": "ProgressStyleModel",
          "model_module_version": "1.5.0",
          "state": {
            "_model_module": "@jupyter-widgets/controls",
            "_model_module_version": "1.5.0",
            "_model_name": "ProgressStyleModel",
            "_view_count": null,
            "_view_module": "@jupyter-widgets/base",
            "_view_module_version": "1.2.0",
            "_view_name": "StyleView",
            "bar_color": null,
            "description_width": ""
          }
        },
        "ade8dd39e02a40a49ab1fdf8a3cf696a": {
          "model_module": "@jupyter-widgets/base",
          "model_name": "LayoutModel",
          "model_module_version": "1.2.0",
          "state": {
            "_model_module": "@jupyter-widgets/base",
            "_model_module_version": "1.2.0",
            "_model_name": "LayoutModel",
            "_view_count": null,
            "_view_module": "@jupyter-widgets/base",
            "_view_module_version": "1.2.0",
            "_view_name": "LayoutView",
            "align_content": null,
            "align_items": null,
            "align_self": null,
            "border": null,
            "bottom": null,
            "display": null,
            "flex": null,
            "flex_flow": null,
            "grid_area": null,
            "grid_auto_columns": null,
            "grid_auto_flow": null,
            "grid_auto_rows": null,
            "grid_column": null,
            "grid_gap": null,
            "grid_row": null,
            "grid_template_areas": null,
            "grid_template_columns": null,
            "grid_template_rows": null,
            "height": null,
            "justify_content": null,
            "justify_items": null,
            "left": null,
            "margin": null,
            "max_height": null,
            "max_width": null,
            "min_height": null,
            "min_width": null,
            "object_fit": null,
            "object_position": null,
            "order": null,
            "overflow": null,
            "overflow_x": null,
            "overflow_y": null,
            "padding": null,
            "right": null,
            "top": null,
            "visibility": null,
            "width": null
          }
        },
        "b8affd45e3744ead815a4e4eb499c169": {
          "model_module": "@jupyter-widgets/controls",
          "model_name": "DescriptionStyleModel",
          "model_module_version": "1.5.0",
          "state": {
            "_model_module": "@jupyter-widgets/controls",
            "_model_module_version": "1.5.0",
            "_model_name": "DescriptionStyleModel",
            "_view_count": null,
            "_view_module": "@jupyter-widgets/base",
            "_view_module_version": "1.2.0",
            "_view_name": "StyleView",
            "description_width": ""
          }
        },
        "c904e389f2844730ad32f7021d9d33ab": {
          "model_module": "@jupyter-widgets/controls",
          "model_name": "HBoxModel",
          "model_module_version": "1.5.0",
          "state": {
            "_dom_classes": [],
            "_model_module": "@jupyter-widgets/controls",
            "_model_module_version": "1.5.0",
            "_model_name": "HBoxModel",
            "_view_count": null,
            "_view_module": "@jupyter-widgets/controls",
            "_view_module_version": "1.5.0",
            "_view_name": "HBoxView",
            "box_style": "",
            "children": [
              "IPY_MODEL_9965fb96378643bea5506a1d8815569e",
              "IPY_MODEL_35d5ebdba54b482684f41554f39b2bff",
              "IPY_MODEL_c1b9371b544043c5a7fbf7827aaed99d"
            ],
            "layout": "IPY_MODEL_41e9ea212c074bcb9726344b13f0aa46"
          }
        },
        "9965fb96378643bea5506a1d8815569e": {
          "model_module": "@jupyter-widgets/controls",
          "model_name": "HTMLModel",
          "model_module_version": "1.5.0",
          "state": {
            "_dom_classes": [],
            "_model_module": "@jupyter-widgets/controls",
            "_model_module_version": "1.5.0",
            "_model_name": "HTMLModel",
            "_view_count": null,
            "_view_module": "@jupyter-widgets/controls",
            "_view_module_version": "1.5.0",
            "_view_name": "HTMLView",
            "description": "",
            "description_tooltip": null,
            "layout": "IPY_MODEL_c62038dcd2c646a88e6084f35fb57149",
            "placeholder": "​",
            "style": "IPY_MODEL_8e0b2d9e82f0420da094158341a839df",
            "value": "train-00003-of-00004.parquet: 100%"
          }
        },
        "35d5ebdba54b482684f41554f39b2bff": {
          "model_module": "@jupyter-widgets/controls",
          "model_name": "FloatProgressModel",
          "model_module_version": "1.5.0",
          "state": {
            "_dom_classes": [],
            "_model_module": "@jupyter-widgets/controls",
            "_model_module_version": "1.5.0",
            "_model_name": "FloatProgressModel",
            "_view_count": null,
            "_view_module": "@jupyter-widgets/controls",
            "_view_module_version": "1.5.0",
            "_view_name": "ProgressView",
            "bar_style": "success",
            "description": "",
            "description_tooltip": null,
            "layout": "IPY_MODEL_0c1539975c0a4f9bb43c18a2fa830df7",
            "max": 254410930,
            "min": 0,
            "orientation": "horizontal",
            "style": "IPY_MODEL_47827f2b2dd549128162c52004d244ab",
            "value": 254410930
          }
        },
        "c1b9371b544043c5a7fbf7827aaed99d": {
          "model_module": "@jupyter-widgets/controls",
          "model_name": "HTMLModel",
          "model_module_version": "1.5.0",
          "state": {
            "_dom_classes": [],
            "_model_module": "@jupyter-widgets/controls",
            "_model_module_version": "1.5.0",
            "_model_name": "HTMLModel",
            "_view_count": null,
            "_view_module": "@jupyter-widgets/controls",
            "_view_module_version": "1.5.0",
            "_view_name": "HTMLView",
            "description": "",
            "description_tooltip": null,
            "layout": "IPY_MODEL_ef9959ab158542da8c926eb54ce63259",
            "placeholder": "​",
            "style": "IPY_MODEL_44a012823c5948adb87e289e87820c11",
            "value": " 254M/254M [00:09&lt;00:00, 26.2MB/s]"
          }
        },
        "41e9ea212c074bcb9726344b13f0aa46": {
          "model_module": "@jupyter-widgets/base",
          "model_name": "LayoutModel",
          "model_module_version": "1.2.0",
          "state": {
            "_model_module": "@jupyter-widgets/base",
            "_model_module_version": "1.2.0",
            "_model_name": "LayoutModel",
            "_view_count": null,
            "_view_module": "@jupyter-widgets/base",
            "_view_module_version": "1.2.0",
            "_view_name": "LayoutView",
            "align_content": null,
            "align_items": null,
            "align_self": null,
            "border": null,
            "bottom": null,
            "display": null,
            "flex": null,
            "flex_flow": null,
            "grid_area": null,
            "grid_auto_columns": null,
            "grid_auto_flow": null,
            "grid_auto_rows": null,
            "grid_column": null,
            "grid_gap": null,
            "grid_row": null,
            "grid_template_areas": null,
            "grid_template_columns": null,
            "grid_template_rows": null,
            "height": null,
            "justify_content": null,
            "justify_items": null,
            "left": null,
            "margin": null,
            "max_height": null,
            "max_width": null,
            "min_height": null,
            "min_width": null,
            "object_fit": null,
            "object_position": null,
            "order": null,
            "overflow": null,
            "overflow_x": null,
            "overflow_y": null,
            "padding": null,
            "right": null,
            "top": null,
            "visibility": null,
            "width": null
          }
        },
        "c62038dcd2c646a88e6084f35fb57149": {
          "model_module": "@jupyter-widgets/base",
          "model_name": "LayoutModel",
          "model_module_version": "1.2.0",
          "state": {
            "_model_module": "@jupyter-widgets/base",
            "_model_module_version": "1.2.0",
            "_model_name": "LayoutModel",
            "_view_count": null,
            "_view_module": "@jupyter-widgets/base",
            "_view_module_version": "1.2.0",
            "_view_name": "LayoutView",
            "align_content": null,
            "align_items": null,
            "align_self": null,
            "border": null,
            "bottom": null,
            "display": null,
            "flex": null,
            "flex_flow": null,
            "grid_area": null,
            "grid_auto_columns": null,
            "grid_auto_flow": null,
            "grid_auto_rows": null,
            "grid_column": null,
            "grid_gap": null,
            "grid_row": null,
            "grid_template_areas": null,
            "grid_template_columns": null,
            "grid_template_rows": null,
            "height": null,
            "justify_content": null,
            "justify_items": null,
            "left": null,
            "margin": null,
            "max_height": null,
            "max_width": null,
            "min_height": null,
            "min_width": null,
            "object_fit": null,
            "object_position": null,
            "order": null,
            "overflow": null,
            "overflow_x": null,
            "overflow_y": null,
            "padding": null,
            "right": null,
            "top": null,
            "visibility": null,
            "width": null
          }
        },
        "8e0b2d9e82f0420da094158341a839df": {
          "model_module": "@jupyter-widgets/controls",
          "model_name": "DescriptionStyleModel",
          "model_module_version": "1.5.0",
          "state": {
            "_model_module": "@jupyter-widgets/controls",
            "_model_module_version": "1.5.0",
            "_model_name": "DescriptionStyleModel",
            "_view_count": null,
            "_view_module": "@jupyter-widgets/base",
            "_view_module_version": "1.2.0",
            "_view_name": "StyleView",
            "description_width": ""
          }
        },
        "0c1539975c0a4f9bb43c18a2fa830df7": {
          "model_module": "@jupyter-widgets/base",
          "model_name": "LayoutModel",
          "model_module_version": "1.2.0",
          "state": {
            "_model_module": "@jupyter-widgets/base",
            "_model_module_version": "1.2.0",
            "_model_name": "LayoutModel",
            "_view_count": null,
            "_view_module": "@jupyter-widgets/base",
            "_view_module_version": "1.2.0",
            "_view_name": "LayoutView",
            "align_content": null,
            "align_items": null,
            "align_self": null,
            "border": null,
            "bottom": null,
            "display": null,
            "flex": null,
            "flex_flow": null,
            "grid_area": null,
            "grid_auto_columns": null,
            "grid_auto_flow": null,
            "grid_auto_rows": null,
            "grid_column": null,
            "grid_gap": null,
            "grid_row": null,
            "grid_template_areas": null,
            "grid_template_columns": null,
            "grid_template_rows": null,
            "height": null,
            "justify_content": null,
            "justify_items": null,
            "left": null,
            "margin": null,
            "max_height": null,
            "max_width": null,
            "min_height": null,
            "min_width": null,
            "object_fit": null,
            "object_position": null,
            "order": null,
            "overflow": null,
            "overflow_x": null,
            "overflow_y": null,
            "padding": null,
            "right": null,
            "top": null,
            "visibility": null,
            "width": null
          }
        },
        "47827f2b2dd549128162c52004d244ab": {
          "model_module": "@jupyter-widgets/controls",
          "model_name": "ProgressStyleModel",
          "model_module_version": "1.5.0",
          "state": {
            "_model_module": "@jupyter-widgets/controls",
            "_model_module_version": "1.5.0",
            "_model_name": "ProgressStyleModel",
            "_view_count": null,
            "_view_module": "@jupyter-widgets/base",
            "_view_module_version": "1.2.0",
            "_view_name": "StyleView",
            "bar_color": null,
            "description_width": ""
          }
        },
        "ef9959ab158542da8c926eb54ce63259": {
          "model_module": "@jupyter-widgets/base",
          "model_name": "LayoutModel",
          "model_module_version": "1.2.0",
          "state": {
            "_model_module": "@jupyter-widgets/base",
            "_model_module_version": "1.2.0",
            "_model_name": "LayoutModel",
            "_view_count": null,
            "_view_module": "@jupyter-widgets/base",
            "_view_module_version": "1.2.0",
            "_view_name": "LayoutView",
            "align_content": null,
            "align_items": null,
            "align_self": null,
            "border": null,
            "bottom": null,
            "display": null,
            "flex": null,
            "flex_flow": null,
            "grid_area": null,
            "grid_auto_columns": null,
            "grid_auto_flow": null,
            "grid_auto_rows": null,
            "grid_column": null,
            "grid_gap": null,
            "grid_row": null,
            "grid_template_areas": null,
            "grid_template_columns": null,
            "grid_template_rows": null,
            "height": null,
            "justify_content": null,
            "justify_items": null,
            "left": null,
            "margin": null,
            "max_height": null,
            "max_width": null,
            "min_height": null,
            "min_width": null,
            "object_fit": null,
            "object_position": null,
            "order": null,
            "overflow": null,
            "overflow_x": null,
            "overflow_y": null,
            "padding": null,
            "right": null,
            "top": null,
            "visibility": null,
            "width": null
          }
        },
        "44a012823c5948adb87e289e87820c11": {
          "model_module": "@jupyter-widgets/controls",
          "model_name": "DescriptionStyleModel",
          "model_module_version": "1.5.0",
          "state": {
            "_model_module": "@jupyter-widgets/controls",
            "_model_module_version": "1.5.0",
            "_model_name": "DescriptionStyleModel",
            "_view_count": null,
            "_view_module": "@jupyter-widgets/base",
            "_view_module_version": "1.2.0",
            "_view_name": "StyleView",
            "description_width": ""
          }
        },
        "20887aeed0e74ba0befcc5f7e0f3efe0": {
          "model_module": "@jupyter-widgets/controls",
          "model_name": "HBoxModel",
          "model_module_version": "1.5.0",
          "state": {
            "_dom_classes": [],
            "_model_module": "@jupyter-widgets/controls",
            "_model_module_version": "1.5.0",
            "_model_name": "HBoxModel",
            "_view_count": null,
            "_view_module": "@jupyter-widgets/controls",
            "_view_module_version": "1.5.0",
            "_view_name": "HBoxView",
            "box_style": "",
            "children": [
              "IPY_MODEL_ad8490da29074daa8909c286e6ee3cb7",
              "IPY_MODEL_6125ca1f70834137b8b1f6013c009b64",
              "IPY_MODEL_e53fe76cfa324c6bb31eeba30a7a6a0f"
            ],
            "layout": "IPY_MODEL_973263ea5cd944f2be1f3e86fc2c67be"
          }
        },
        "ad8490da29074daa8909c286e6ee3cb7": {
          "model_module": "@jupyter-widgets/controls",
          "model_name": "HTMLModel",
          "model_module_version": "1.5.0",
          "state": {
            "_dom_classes": [],
            "_model_module": "@jupyter-widgets/controls",
            "_model_module_version": "1.5.0",
            "_model_name": "HTMLModel",
            "_view_count": null,
            "_view_module": "@jupyter-widgets/controls",
            "_view_module_version": "1.5.0",
            "_view_name": "HTMLView",
            "description": "",
            "description_tooltip": null,
            "layout": "IPY_MODEL_d6edaf5720684942b928652837fd0d76",
            "placeholder": "​",
            "style": "IPY_MODEL_b1a0a4d8f8124669abec657419d62321",
            "value": "test-00000-of-00001.parquet: 100%"
          }
        },
        "6125ca1f70834137b8b1f6013c009b64": {
          "model_module": "@jupyter-widgets/controls",
          "model_name": "FloatProgressModel",
          "model_module_version": "1.5.0",
          "state": {
            "_dom_classes": [],
            "_model_module": "@jupyter-widgets/controls",
            "_model_module_version": "1.5.0",
            "_model_name": "FloatProgressModel",
            "_view_count": null,
            "_view_module": "@jupyter-widgets/controls",
            "_view_module_version": "1.5.0",
            "_view_name": "ProgressView",
            "bar_style": "success",
            "description": "",
            "description_tooltip": null,
            "layout": "IPY_MODEL_6496e98c2ae241519d0d93d498c0feba",
            "max": 117422360,
            "min": 0,
            "orientation": "horizontal",
            "style": "IPY_MODEL_83288b9680ba44f79b0e3316caed0876",
            "value": 117422360
          }
        },
        "e53fe76cfa324c6bb31eeba30a7a6a0f": {
          "model_module": "@jupyter-widgets/controls",
          "model_name": "HTMLModel",
          "model_module_version": "1.5.0",
          "state": {
            "_dom_classes": [],
            "_model_module": "@jupyter-widgets/controls",
            "_model_module_version": "1.5.0",
            "_model_name": "HTMLModel",
            "_view_count": null,
            "_view_module": "@jupyter-widgets/controls",
            "_view_module_version": "1.5.0",
            "_view_name": "HTMLView",
            "description": "",
            "description_tooltip": null,
            "layout": "IPY_MODEL_cd3081e421784e2eb010897a0733e2ff",
            "placeholder": "​",
            "style": "IPY_MODEL_625e75998af94772a8453374ca314c58",
            "value": " 117M/117M [00:01&lt;00:00, 85.7MB/s]"
          }
        },
        "973263ea5cd944f2be1f3e86fc2c67be": {
          "model_module": "@jupyter-widgets/base",
          "model_name": "LayoutModel",
          "model_module_version": "1.2.0",
          "state": {
            "_model_module": "@jupyter-widgets/base",
            "_model_module_version": "1.2.0",
            "_model_name": "LayoutModel",
            "_view_count": null,
            "_view_module": "@jupyter-widgets/base",
            "_view_module_version": "1.2.0",
            "_view_name": "LayoutView",
            "align_content": null,
            "align_items": null,
            "align_self": null,
            "border": null,
            "bottom": null,
            "display": null,
            "flex": null,
            "flex_flow": null,
            "grid_area": null,
            "grid_auto_columns": null,
            "grid_auto_flow": null,
            "grid_auto_rows": null,
            "grid_column": null,
            "grid_gap": null,
            "grid_row": null,
            "grid_template_areas": null,
            "grid_template_columns": null,
            "grid_template_rows": null,
            "height": null,
            "justify_content": null,
            "justify_items": null,
            "left": null,
            "margin": null,
            "max_height": null,
            "max_width": null,
            "min_height": null,
            "min_width": null,
            "object_fit": null,
            "object_position": null,
            "order": null,
            "overflow": null,
            "overflow_x": null,
            "overflow_y": null,
            "padding": null,
            "right": null,
            "top": null,
            "visibility": null,
            "width": null
          }
        },
        "d6edaf5720684942b928652837fd0d76": {
          "model_module": "@jupyter-widgets/base",
          "model_name": "LayoutModel",
          "model_module_version": "1.2.0",
          "state": {
            "_model_module": "@jupyter-widgets/base",
            "_model_module_version": "1.2.0",
            "_model_name": "LayoutModel",
            "_view_count": null,
            "_view_module": "@jupyter-widgets/base",
            "_view_module_version": "1.2.0",
            "_view_name": "LayoutView",
            "align_content": null,
            "align_items": null,
            "align_self": null,
            "border": null,
            "bottom": null,
            "display": null,
            "flex": null,
            "flex_flow": null,
            "grid_area": null,
            "grid_auto_columns": null,
            "grid_auto_flow": null,
            "grid_auto_rows": null,
            "grid_column": null,
            "grid_gap": null,
            "grid_row": null,
            "grid_template_areas": null,
            "grid_template_columns": null,
            "grid_template_rows": null,
            "height": null,
            "justify_content": null,
            "justify_items": null,
            "left": null,
            "margin": null,
            "max_height": null,
            "max_width": null,
            "min_height": null,
            "min_width": null,
            "object_fit": null,
            "object_position": null,
            "order": null,
            "overflow": null,
            "overflow_x": null,
            "overflow_y": null,
            "padding": null,
            "right": null,
            "top": null,
            "visibility": null,
            "width": null
          }
        },
        "b1a0a4d8f8124669abec657419d62321": {
          "model_module": "@jupyter-widgets/controls",
          "model_name": "DescriptionStyleModel",
          "model_module_version": "1.5.0",
          "state": {
            "_model_module": "@jupyter-widgets/controls",
            "_model_module_version": "1.5.0",
            "_model_name": "DescriptionStyleModel",
            "_view_count": null,
            "_view_module": "@jupyter-widgets/base",
            "_view_module_version": "1.2.0",
            "_view_name": "StyleView",
            "description_width": ""
          }
        },
        "6496e98c2ae241519d0d93d498c0feba": {
          "model_module": "@jupyter-widgets/base",
          "model_name": "LayoutModel",
          "model_module_version": "1.2.0",
          "state": {
            "_model_module": "@jupyter-widgets/base",
            "_model_module_version": "1.2.0",
            "_model_name": "LayoutModel",
            "_view_count": null,
            "_view_module": "@jupyter-widgets/base",
            "_view_module_version": "1.2.0",
            "_view_name": "LayoutView",
            "align_content": null,
            "align_items": null,
            "align_self": null,
            "border": null,
            "bottom": null,
            "display": null,
            "flex": null,
            "flex_flow": null,
            "grid_area": null,
            "grid_auto_columns": null,
            "grid_auto_flow": null,
            "grid_auto_rows": null,
            "grid_column": null,
            "grid_gap": null,
            "grid_row": null,
            "grid_template_areas": null,
            "grid_template_columns": null,
            "grid_template_rows": null,
            "height": null,
            "justify_content": null,
            "justify_items": null,
            "left": null,
            "margin": null,
            "max_height": null,
            "max_width": null,
            "min_height": null,
            "min_width": null,
            "object_fit": null,
            "object_position": null,
            "order": null,
            "overflow": null,
            "overflow_x": null,
            "overflow_y": null,
            "padding": null,
            "right": null,
            "top": null,
            "visibility": null,
            "width": null
          }
        },
        "83288b9680ba44f79b0e3316caed0876": {
          "model_module": "@jupyter-widgets/controls",
          "model_name": "ProgressStyleModel",
          "model_module_version": "1.5.0",
          "state": {
            "_model_module": "@jupyter-widgets/controls",
            "_model_module_version": "1.5.0",
            "_model_name": "ProgressStyleModel",
            "_view_count": null,
            "_view_module": "@jupyter-widgets/base",
            "_view_module_version": "1.2.0",
            "_view_name": "StyleView",
            "bar_color": null,
            "description_width": ""
          }
        },
        "cd3081e421784e2eb010897a0733e2ff": {
          "model_module": "@jupyter-widgets/base",
          "model_name": "LayoutModel",
          "model_module_version": "1.2.0",
          "state": {
            "_model_module": "@jupyter-widgets/base",
            "_model_module_version": "1.2.0",
            "_model_name": "LayoutModel",
            "_view_count": null,
            "_view_module": "@jupyter-widgets/base",
            "_view_module_version": "1.2.0",
            "_view_name": "LayoutView",
            "align_content": null,
            "align_items": null,
            "align_self": null,
            "border": null,
            "bottom": null,
            "display": null,
            "flex": null,
            "flex_flow": null,
            "grid_area": null,
            "grid_auto_columns": null,
            "grid_auto_flow": null,
            "grid_auto_rows": null,
            "grid_column": null,
            "grid_gap": null,
            "grid_row": null,
            "grid_template_areas": null,
            "grid_template_columns": null,
            "grid_template_rows": null,
            "height": null,
            "justify_content": null,
            "justify_items": null,
            "left": null,
            "margin": null,
            "max_height": null,
            "max_width": null,
            "min_height": null,
            "min_width": null,
            "object_fit": null,
            "object_position": null,
            "order": null,
            "overflow": null,
            "overflow_x": null,
            "overflow_y": null,
            "padding": null,
            "right": null,
            "top": null,
            "visibility": null,
            "width": null
          }
        },
        "625e75998af94772a8453374ca314c58": {
          "model_module": "@jupyter-widgets/controls",
          "model_name": "DescriptionStyleModel",
          "model_module_version": "1.5.0",
          "state": {
            "_model_module": "@jupyter-widgets/controls",
            "_model_module_version": "1.5.0",
            "_model_name": "DescriptionStyleModel",
            "_view_count": null,
            "_view_module": "@jupyter-widgets/base",
            "_view_module_version": "1.2.0",
            "_view_name": "StyleView",
            "description_width": ""
          }
        },
        "c267fb3a46ba4b4ba44df270d9183835": {
          "model_module": "@jupyter-widgets/controls",
          "model_name": "HBoxModel",
          "model_module_version": "1.5.0",
          "state": {
            "_dom_classes": [],
            "_model_module": "@jupyter-widgets/controls",
            "_model_module_version": "1.5.0",
            "_model_name": "HBoxModel",
            "_view_count": null,
            "_view_module": "@jupyter-widgets/controls",
            "_view_module_version": "1.5.0",
            "_view_name": "HBoxView",
            "box_style": "",
            "children": [
              "IPY_MODEL_44ac473500974a86b0b7df73369973e5",
              "IPY_MODEL_164e6631b3de4d78a6421eb811a4118e",
              "IPY_MODEL_1c0fe2d5157f472795a82d21614e9d89"
            ],
            "layout": "IPY_MODEL_be7acc2dd7484861bf44cb6239efdef4"
          }
        },
        "44ac473500974a86b0b7df73369973e5": {
          "model_module": "@jupyter-widgets/controls",
          "model_name": "HTMLModel",
          "model_module_version": "1.5.0",
          "state": {
            "_dom_classes": [],
            "_model_module": "@jupyter-widgets/controls",
            "_model_module_version": "1.5.0",
            "_model_name": "HTMLModel",
            "_view_count": null,
            "_view_module": "@jupyter-widgets/controls",
            "_view_module_version": "1.5.0",
            "_view_name": "HTMLView",
            "description": "",
            "description_tooltip": null,
            "layout": "IPY_MODEL_5f3e75f4653f435b81bb2d708636d59e",
            "placeholder": "​",
            "style": "IPY_MODEL_610b056e40b749eaa4082da0f6691847",
            "value": "Generating train split: 100%"
          }
        },
        "164e6631b3de4d78a6421eb811a4118e": {
          "model_module": "@jupyter-widgets/controls",
          "model_name": "FloatProgressModel",
          "model_module_version": "1.5.0",
          "state": {
            "_dom_classes": [],
            "_model_module": "@jupyter-widgets/controls",
            "_model_module_version": "1.5.0",
            "_model_name": "FloatProgressModel",
            "_view_count": null,
            "_view_module": "@jupyter-widgets/controls",
            "_view_module_version": "1.5.0",
            "_view_name": "ProgressView",
            "bar_style": "success",
            "description": "",
            "description_tooltip": null,
            "layout": "IPY_MODEL_23fbe0b425f445d5af8d0c7d9a3b651b",
            "max": 3600000,
            "min": 0,
            "orientation": "horizontal",
            "style": "IPY_MODEL_812f6a01f7804a90b3fe56a98f5b5e71",
            "value": 3600000
          }
        },
        "1c0fe2d5157f472795a82d21614e9d89": {
          "model_module": "@jupyter-widgets/controls",
          "model_name": "HTMLModel",
          "model_module_version": "1.5.0",
          "state": {
            "_dom_classes": [],
            "_model_module": "@jupyter-widgets/controls",
            "_model_module_version": "1.5.0",
            "_model_name": "HTMLModel",
            "_view_count": null,
            "_view_module": "@jupyter-widgets/controls",
            "_view_module_version": "1.5.0",
            "_view_name": "HTMLView",
            "description": "",
            "description_tooltip": null,
            "layout": "IPY_MODEL_fd19d00ce7854a42aa1f264d41cfb662",
            "placeholder": "​",
            "style": "IPY_MODEL_927c1ad0adbd4e4ba1a2ca9e62abe9f5",
            "value": " 3600000/3600000 [00:16&lt;00:00, 297456.68 examples/s]"
          }
        },
        "be7acc2dd7484861bf44cb6239efdef4": {
          "model_module": "@jupyter-widgets/base",
          "model_name": "LayoutModel",
          "model_module_version": "1.2.0",
          "state": {
            "_model_module": "@jupyter-widgets/base",
            "_model_module_version": "1.2.0",
            "_model_name": "LayoutModel",
            "_view_count": null,
            "_view_module": "@jupyter-widgets/base",
            "_view_module_version": "1.2.0",
            "_view_name": "LayoutView",
            "align_content": null,
            "align_items": null,
            "align_self": null,
            "border": null,
            "bottom": null,
            "display": null,
            "flex": null,
            "flex_flow": null,
            "grid_area": null,
            "grid_auto_columns": null,
            "grid_auto_flow": null,
            "grid_auto_rows": null,
            "grid_column": null,
            "grid_gap": null,
            "grid_row": null,
            "grid_template_areas": null,
            "grid_template_columns": null,
            "grid_template_rows": null,
            "height": null,
            "justify_content": null,
            "justify_items": null,
            "left": null,
            "margin": null,
            "max_height": null,
            "max_width": null,
            "min_height": null,
            "min_width": null,
            "object_fit": null,
            "object_position": null,
            "order": null,
            "overflow": null,
            "overflow_x": null,
            "overflow_y": null,
            "padding": null,
            "right": null,
            "top": null,
            "visibility": null,
            "width": null
          }
        },
        "5f3e75f4653f435b81bb2d708636d59e": {
          "model_module": "@jupyter-widgets/base",
          "model_name": "LayoutModel",
          "model_module_version": "1.2.0",
          "state": {
            "_model_module": "@jupyter-widgets/base",
            "_model_module_version": "1.2.0",
            "_model_name": "LayoutModel",
            "_view_count": null,
            "_view_module": "@jupyter-widgets/base",
            "_view_module_version": "1.2.0",
            "_view_name": "LayoutView",
            "align_content": null,
            "align_items": null,
            "align_self": null,
            "border": null,
            "bottom": null,
            "display": null,
            "flex": null,
            "flex_flow": null,
            "grid_area": null,
            "grid_auto_columns": null,
            "grid_auto_flow": null,
            "grid_auto_rows": null,
            "grid_column": null,
            "grid_gap": null,
            "grid_row": null,
            "grid_template_areas": null,
            "grid_template_columns": null,
            "grid_template_rows": null,
            "height": null,
            "justify_content": null,
            "justify_items": null,
            "left": null,
            "margin": null,
            "max_height": null,
            "max_width": null,
            "min_height": null,
            "min_width": null,
            "object_fit": null,
            "object_position": null,
            "order": null,
            "overflow": null,
            "overflow_x": null,
            "overflow_y": null,
            "padding": null,
            "right": null,
            "top": null,
            "visibility": null,
            "width": null
          }
        },
        "610b056e40b749eaa4082da0f6691847": {
          "model_module": "@jupyter-widgets/controls",
          "model_name": "DescriptionStyleModel",
          "model_module_version": "1.5.0",
          "state": {
            "_model_module": "@jupyter-widgets/controls",
            "_model_module_version": "1.5.0",
            "_model_name": "DescriptionStyleModel",
            "_view_count": null,
            "_view_module": "@jupyter-widgets/base",
            "_view_module_version": "1.2.0",
            "_view_name": "StyleView",
            "description_width": ""
          }
        },
        "23fbe0b425f445d5af8d0c7d9a3b651b": {
          "model_module": "@jupyter-widgets/base",
          "model_name": "LayoutModel",
          "model_module_version": "1.2.0",
          "state": {
            "_model_module": "@jupyter-widgets/base",
            "_model_module_version": "1.2.0",
            "_model_name": "LayoutModel",
            "_view_count": null,
            "_view_module": "@jupyter-widgets/base",
            "_view_module_version": "1.2.0",
            "_view_name": "LayoutView",
            "align_content": null,
            "align_items": null,
            "align_self": null,
            "border": null,
            "bottom": null,
            "display": null,
            "flex": null,
            "flex_flow": null,
            "grid_area": null,
            "grid_auto_columns": null,
            "grid_auto_flow": null,
            "grid_auto_rows": null,
            "grid_column": null,
            "grid_gap": null,
            "grid_row": null,
            "grid_template_areas": null,
            "grid_template_columns": null,
            "grid_template_rows": null,
            "height": null,
            "justify_content": null,
            "justify_items": null,
            "left": null,
            "margin": null,
            "max_height": null,
            "max_width": null,
            "min_height": null,
            "min_width": null,
            "object_fit": null,
            "object_position": null,
            "order": null,
            "overflow": null,
            "overflow_x": null,
            "overflow_y": null,
            "padding": null,
            "right": null,
            "top": null,
            "visibility": null,
            "width": null
          }
        },
        "812f6a01f7804a90b3fe56a98f5b5e71": {
          "model_module": "@jupyter-widgets/controls",
          "model_name": "ProgressStyleModel",
          "model_module_version": "1.5.0",
          "state": {
            "_model_module": "@jupyter-widgets/controls",
            "_model_module_version": "1.5.0",
            "_model_name": "ProgressStyleModel",
            "_view_count": null,
            "_view_module": "@jupyter-widgets/base",
            "_view_module_version": "1.2.0",
            "_view_name": "StyleView",
            "bar_color": null,
            "description_width": ""
          }
        },
        "fd19d00ce7854a42aa1f264d41cfb662": {
          "model_module": "@jupyter-widgets/base",
          "model_name": "LayoutModel",
          "model_module_version": "1.2.0",
          "state": {
            "_model_module": "@jupyter-widgets/base",
            "_model_module_version": "1.2.0",
            "_model_name": "LayoutModel",
            "_view_count": null,
            "_view_module": "@jupyter-widgets/base",
            "_view_module_version": "1.2.0",
            "_view_name": "LayoutView",
            "align_content": null,
            "align_items": null,
            "align_self": null,
            "border": null,
            "bottom": null,
            "display": null,
            "flex": null,
            "flex_flow": null,
            "grid_area": null,
            "grid_auto_columns": null,
            "grid_auto_flow": null,
            "grid_auto_rows": null,
            "grid_column": null,
            "grid_gap": null,
            "grid_row": null,
            "grid_template_areas": null,
            "grid_template_columns": null,
            "grid_template_rows": null,
            "height": null,
            "justify_content": null,
            "justify_items": null,
            "left": null,
            "margin": null,
            "max_height": null,
            "max_width": null,
            "min_height": null,
            "min_width": null,
            "object_fit": null,
            "object_position": null,
            "order": null,
            "overflow": null,
            "overflow_x": null,
            "overflow_y": null,
            "padding": null,
            "right": null,
            "top": null,
            "visibility": null,
            "width": null
          }
        },
        "927c1ad0adbd4e4ba1a2ca9e62abe9f5": {
          "model_module": "@jupyter-widgets/controls",
          "model_name": "DescriptionStyleModel",
          "model_module_version": "1.5.0",
          "state": {
            "_model_module": "@jupyter-widgets/controls",
            "_model_module_version": "1.5.0",
            "_model_name": "DescriptionStyleModel",
            "_view_count": null,
            "_view_module": "@jupyter-widgets/base",
            "_view_module_version": "1.2.0",
            "_view_name": "StyleView",
            "description_width": ""
          }
        },
        "50e632cd13014acb98d1c15df3e812f9": {
          "model_module": "@jupyter-widgets/controls",
          "model_name": "HBoxModel",
          "model_module_version": "1.5.0",
          "state": {
            "_dom_classes": [],
            "_model_module": "@jupyter-widgets/controls",
            "_model_module_version": "1.5.0",
            "_model_name": "HBoxModel",
            "_view_count": null,
            "_view_module": "@jupyter-widgets/controls",
            "_view_module_version": "1.5.0",
            "_view_name": "HBoxView",
            "box_style": "",
            "children": [
              "IPY_MODEL_7620b6ad285e490d9030f17678ecb12b",
              "IPY_MODEL_75c632c5edab4d95bcaf989f91d7902e",
              "IPY_MODEL_5af2b35fde4c42498b6ffca2198618ef"
            ],
            "layout": "IPY_MODEL_3f6ac8bb353d4df8b28ccd0bc98a3253"
          }
        },
        "7620b6ad285e490d9030f17678ecb12b": {
          "model_module": "@jupyter-widgets/controls",
          "model_name": "HTMLModel",
          "model_module_version": "1.5.0",
          "state": {
            "_dom_classes": [],
            "_model_module": "@jupyter-widgets/controls",
            "_model_module_version": "1.5.0",
            "_model_name": "HTMLModel",
            "_view_count": null,
            "_view_module": "@jupyter-widgets/controls",
            "_view_module_version": "1.5.0",
            "_view_name": "HTMLView",
            "description": "",
            "description_tooltip": null,
            "layout": "IPY_MODEL_e7855886b2c64706806bba97c39b6fa4",
            "placeholder": "​",
            "style": "IPY_MODEL_883ce5226590434a99d64c891603c323",
            "value": "Generating test split: 100%"
          }
        },
        "75c632c5edab4d95bcaf989f91d7902e": {
          "model_module": "@jupyter-widgets/controls",
          "model_name": "FloatProgressModel",
          "model_module_version": "1.5.0",
          "state": {
            "_dom_classes": [],
            "_model_module": "@jupyter-widgets/controls",
            "_model_module_version": "1.5.0",
            "_model_name": "FloatProgressModel",
            "_view_count": null,
            "_view_module": "@jupyter-widgets/controls",
            "_view_module_version": "1.5.0",
            "_view_name": "ProgressView",
            "bar_style": "success",
            "description": "",
            "description_tooltip": null,
            "layout": "IPY_MODEL_a1985785aaa34de0895a5bdd23d3da49",
            "max": 400000,
            "min": 0,
            "orientation": "horizontal",
            "style": "IPY_MODEL_505e4e959fe94b0088290b7526e4d7bf",
            "value": 400000
          }
        },
        "5af2b35fde4c42498b6ffca2198618ef": {
          "model_module": "@jupyter-widgets/controls",
          "model_name": "HTMLModel",
          "model_module_version": "1.5.0",
          "state": {
            "_dom_classes": [],
            "_model_module": "@jupyter-widgets/controls",
            "_model_module_version": "1.5.0",
            "_model_name": "HTMLModel",
            "_view_count": null,
            "_view_module": "@jupyter-widgets/controls",
            "_view_module_version": "1.5.0",
            "_view_name": "HTMLView",
            "description": "",
            "description_tooltip": null,
            "layout": "IPY_MODEL_cc5ac5111f2e410b8718b8f57a5cda00",
            "placeholder": "​",
            "style": "IPY_MODEL_9f0f19fd5b254694a2877adf279d3522",
            "value": " 400000/400000 [00:02&lt;00:00, 295605.80 examples/s]"
          }
        },
        "3f6ac8bb353d4df8b28ccd0bc98a3253": {
          "model_module": "@jupyter-widgets/base",
          "model_name": "LayoutModel",
          "model_module_version": "1.2.0",
          "state": {
            "_model_module": "@jupyter-widgets/base",
            "_model_module_version": "1.2.0",
            "_model_name": "LayoutModel",
            "_view_count": null,
            "_view_module": "@jupyter-widgets/base",
            "_view_module_version": "1.2.0",
            "_view_name": "LayoutView",
            "align_content": null,
            "align_items": null,
            "align_self": null,
            "border": null,
            "bottom": null,
            "display": null,
            "flex": null,
            "flex_flow": null,
            "grid_area": null,
            "grid_auto_columns": null,
            "grid_auto_flow": null,
            "grid_auto_rows": null,
            "grid_column": null,
            "grid_gap": null,
            "grid_row": null,
            "grid_template_areas": null,
            "grid_template_columns": null,
            "grid_template_rows": null,
            "height": null,
            "justify_content": null,
            "justify_items": null,
            "left": null,
            "margin": null,
            "max_height": null,
            "max_width": null,
            "min_height": null,
            "min_width": null,
            "object_fit": null,
            "object_position": null,
            "order": null,
            "overflow": null,
            "overflow_x": null,
            "overflow_y": null,
            "padding": null,
            "right": null,
            "top": null,
            "visibility": null,
            "width": null
          }
        },
        "e7855886b2c64706806bba97c39b6fa4": {
          "model_module": "@jupyter-widgets/base",
          "model_name": "LayoutModel",
          "model_module_version": "1.2.0",
          "state": {
            "_model_module": "@jupyter-widgets/base",
            "_model_module_version": "1.2.0",
            "_model_name": "LayoutModel",
            "_view_count": null,
            "_view_module": "@jupyter-widgets/base",
            "_view_module_version": "1.2.0",
            "_view_name": "LayoutView",
            "align_content": null,
            "align_items": null,
            "align_self": null,
            "border": null,
            "bottom": null,
            "display": null,
            "flex": null,
            "flex_flow": null,
            "grid_area": null,
            "grid_auto_columns": null,
            "grid_auto_flow": null,
            "grid_auto_rows": null,
            "grid_column": null,
            "grid_gap": null,
            "grid_row": null,
            "grid_template_areas": null,
            "grid_template_columns": null,
            "grid_template_rows": null,
            "height": null,
            "justify_content": null,
            "justify_items": null,
            "left": null,
            "margin": null,
            "max_height": null,
            "max_width": null,
            "min_height": null,
            "min_width": null,
            "object_fit": null,
            "object_position": null,
            "order": null,
            "overflow": null,
            "overflow_x": null,
            "overflow_y": null,
            "padding": null,
            "right": null,
            "top": null,
            "visibility": null,
            "width": null
          }
        },
        "883ce5226590434a99d64c891603c323": {
          "model_module": "@jupyter-widgets/controls",
          "model_name": "DescriptionStyleModel",
          "model_module_version": "1.5.0",
          "state": {
            "_model_module": "@jupyter-widgets/controls",
            "_model_module_version": "1.5.0",
            "_model_name": "DescriptionStyleModel",
            "_view_count": null,
            "_view_module": "@jupyter-widgets/base",
            "_view_module_version": "1.2.0",
            "_view_name": "StyleView",
            "description_width": ""
          }
        },
        "a1985785aaa34de0895a5bdd23d3da49": {
          "model_module": "@jupyter-widgets/base",
          "model_name": "LayoutModel",
          "model_module_version": "1.2.0",
          "state": {
            "_model_module": "@jupyter-widgets/base",
            "_model_module_version": "1.2.0",
            "_model_name": "LayoutModel",
            "_view_count": null,
            "_view_module": "@jupyter-widgets/base",
            "_view_module_version": "1.2.0",
            "_view_name": "LayoutView",
            "align_content": null,
            "align_items": null,
            "align_self": null,
            "border": null,
            "bottom": null,
            "display": null,
            "flex": null,
            "flex_flow": null,
            "grid_area": null,
            "grid_auto_columns": null,
            "grid_auto_flow": null,
            "grid_auto_rows": null,
            "grid_column": null,
            "grid_gap": null,
            "grid_row": null,
            "grid_template_areas": null,
            "grid_template_columns": null,
            "grid_template_rows": null,
            "height": null,
            "justify_content": null,
            "justify_items": null,
            "left": null,
            "margin": null,
            "max_height": null,
            "max_width": null,
            "min_height": null,
            "min_width": null,
            "object_fit": null,
            "object_position": null,
            "order": null,
            "overflow": null,
            "overflow_x": null,
            "overflow_y": null,
            "padding": null,
            "right": null,
            "top": null,
            "visibility": null,
            "width": null
          }
        },
        "505e4e959fe94b0088290b7526e4d7bf": {
          "model_module": "@jupyter-widgets/controls",
          "model_name": "ProgressStyleModel",
          "model_module_version": "1.5.0",
          "state": {
            "_model_module": "@jupyter-widgets/controls",
            "_model_module_version": "1.5.0",
            "_model_name": "ProgressStyleModel",
            "_view_count": null,
            "_view_module": "@jupyter-widgets/base",
            "_view_module_version": "1.2.0",
            "_view_name": "StyleView",
            "bar_color": null,
            "description_width": ""
          }
        },
        "cc5ac5111f2e410b8718b8f57a5cda00": {
          "model_module": "@jupyter-widgets/base",
          "model_name": "LayoutModel",
          "model_module_version": "1.2.0",
          "state": {
            "_model_module": "@jupyter-widgets/base",
            "_model_module_version": "1.2.0",
            "_model_name": "LayoutModel",
            "_view_count": null,
            "_view_module": "@jupyter-widgets/base",
            "_view_module_version": "1.2.0",
            "_view_name": "LayoutView",
            "align_content": null,
            "align_items": null,
            "align_self": null,
            "border": null,
            "bottom": null,
            "display": null,
            "flex": null,
            "flex_flow": null,
            "grid_area": null,
            "grid_auto_columns": null,
            "grid_auto_flow": null,
            "grid_auto_rows": null,
            "grid_column": null,
            "grid_gap": null,
            "grid_row": null,
            "grid_template_areas": null,
            "grid_template_columns": null,
            "grid_template_rows": null,
            "height": null,
            "justify_content": null,
            "justify_items": null,
            "left": null,
            "margin": null,
            "max_height": null,
            "max_width": null,
            "min_height": null,
            "min_width": null,
            "object_fit": null,
            "object_position": null,
            "order": null,
            "overflow": null,
            "overflow_x": null,
            "overflow_y": null,
            "padding": null,
            "right": null,
            "top": null,
            "visibility": null,
            "width": null
          }
        },
        "9f0f19fd5b254694a2877adf279d3522": {
          "model_module": "@jupyter-widgets/controls",
          "model_name": "DescriptionStyleModel",
          "model_module_version": "1.5.0",
          "state": {
            "_model_module": "@jupyter-widgets/controls",
            "_model_module_version": "1.5.0",
            "_model_name": "DescriptionStyleModel",
            "_view_count": null,
            "_view_module": "@jupyter-widgets/base",
            "_view_module_version": "1.2.0",
            "_view_name": "StyleView",
            "description_width": ""
          }
        }
      }
    }
  },
  "nbformat": 4,
  "nbformat_minor": 0
}