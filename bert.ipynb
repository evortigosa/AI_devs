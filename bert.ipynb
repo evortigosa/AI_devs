{
  "cells": [
    {
      "cell_type": "markdown",
      "metadata": {
        "id": "ASiPzmfQ5YYs"
      },
      "source": [
        "# Bidirectional Encoder Representations from Transformers (BERT)"
      ]
    },
    {
      "cell_type": "markdown",
      "source": [
        "While BERT is similar to models like GPT, the focus of BERT is to understand text rather than generate it. This is useful in a variety of tasks like ranking how positive a review of a product is, or predicting if an answer to a question is correct.\n",
        "\n",
        "Transformers general idea: the encoder summarizes an input into an abstract and meaning rich representation, and the projection head generates text.\n",
        "\n",
        "The point of an \"encoder only\" transformer like BERT is to summarize some input sequence into an abstract, dense, and meaning rich representation."
      ],
      "metadata": {
        "id": "Ntb2Rh3l8C0a"
      }
    },
    {
      "cell_type": "code",
      "execution_count": null,
      "metadata": {
        "id": "E1PBzbmw43zA"
      },
      "outputs": [],
      "source": [
        "import math\n",
        "import numpy as np\n",
        "import pandas as pd\n",
        "import matplotlib.pyplot as plt\n",
        "import torch\n",
        "import torch.nn as nn\n",
        "import torch.nn.functional as F\n",
        "from tqdm import tqdm\n",
        "import torch.optim as optim\n",
        "from multiprocessing import Pool, cpu_count\n",
        "\n",
        "# defining the device the data ends up living\n",
        "device= torch.device('cuda' if torch.cuda.is_available() else 'cpu')"
      ]
    },
    {
      "cell_type": "code",
      "source": [
        "!pip install datasets\n",
        "!pip install nltk\n",
        "\n",
        "from datasets import load_dataset\n",
        "import nltk"
      ],
      "metadata": {
        "id": "rbYlBq9IgGPu"
      },
      "execution_count": null,
      "outputs": []
    },
    {
      "cell_type": "code",
      "execution_count": null,
      "metadata": {
        "colab": {
          "base_uri": "https://localhost:8080/",
          "height": 133,
          "referenced_widgets": [
            "a4161c2dfbc7456898986e26fc099c76",
            "8ea9bacd722942b3a90d81fc370165e6",
            "84d0b89c78f54c1989658392a4baf839",
            "79a71f007784469dbb0512d092dab638",
            "a250652061054a18bbe1e71975f913ba",
            "41a377ad017948449c4ddffb697c99da",
            "181939e64916467487c94ac659e13020",
            "534a0f12d47441178cd180f455c1d71e",
            "cafd675dbfb548d79eecdd4c4c8f2670",
            "39d8cad9e4bd4a3b84fc2ab3e8a7c77e",
            "c7aabf1f96664c14b30c5be79d072a28",
            "e99cac17e5ad40ddb8694302fbb03659",
            "4a32ca743cb44a308b6e77c663ff5dc3",
            "ab75ea6d7a2d415b8f7e69dbf456b715",
            "0588f60638c44c2ab4a8cb53fdd3985c",
            "8bf6d70cad0d44c0a3203e5325270b8c",
            "072776cc7bbd452c8ed47642ad698713",
            "7e70358746b5475da4444dc8da0df1ab",
            "5bfaff32af014451ada20e5568fb3278",
            "bf9ee0ce5cb24679a7404f62c5f7084e",
            "fc00c4c86b634d5c943c9cbaec3e2063",
            "6704f4cfb4114c50a1780c4c3bbe4bd6"
          ]
        },
        "id": "wtX94IBS49s1",
        "outputId": "8e09c50a-cdae-47af-f310-63c6a4d58e26"
      },
      "outputs": [
        {
          "output_type": "display_data",
          "data": {
            "text/plain": [
              "wikipedia.py:   0%|          | 0.00/36.7k [00:00<?, ?B/s]"
            ],
            "application/vnd.jupyter.widget-view+json": {
              "version_major": 2,
              "version_minor": 0,
              "model_id": "a4161c2dfbc7456898986e26fc099c76"
            }
          },
          "metadata": {}
        },
        {
          "output_type": "display_data",
          "data": {
            "text/plain": [
              "README.md:   0%|          | 0.00/16.0k [00:00<?, ?B/s]"
            ],
            "application/vnd.jupyter.widget-view+json": {
              "version_major": 2,
              "version_minor": 0,
              "model_id": "e99cac17e5ad40ddb8694302fbb03659"
            }
          },
          "metadata": {}
        },
        {
          "output_type": "stream",
          "name": "stderr",
          "text": [
            "[nltk_data] Downloading package punkt to /root/nltk_data...\n",
            "[nltk_data]   Unzipping tokenizers/punkt.zip.\n"
          ]
        },
        {
          "output_type": "execute_result",
          "data": {
            "text/plain": [
              "True"
            ]
          },
          "metadata": {},
          "execution_count": 2
        }
      ],
      "source": [
        "# the dataset is big, to make things easier we are going to be streaming a subset\n",
        "dataset= load_dataset('wikipedia', '20220301.en', trust_remote_code= True, streaming=True)\n",
        "\n",
        "# a sentence tokenizer we will be using to extract sentences from articles\n",
        "nltk.download('punkt')"
      ]
    },
    {
      "cell_type": "code",
      "execution_count": null,
      "metadata": {
        "id": "G7_KjRAJ49xa"
      },
      "outputs": [],
      "source": [
        "# breaking wikipedia articles into sentences and paragraphs\n",
        "\n",
        "import itertools\n",
        "\n",
        "num_articles= 10000\n",
        "\n",
        "# geting n articles\n",
        "dataset_iter= iter(dataset['train'])\n",
        "articles= list(itertools.islice(dataset_iter, num_articles))\n",
        "\n",
        "# getting paragraphs\n",
        "paragraphs= []\n",
        "for article in articles:\n",
        "    paragraphs.extend(article['text'].splitlines())\n",
        "\n",
        "# filtering paragraphs so they are hopefully actually paragraphs\n",
        "paragraphs= [p for p in paragraphs if len(p)>50]\n",
        "\n",
        "# dividing paragraphs into sentences\n",
        "divided_paragraphs= []\n",
        "for p in paragraphs:\n",
        "    divided_paragraphs.append(nltk.sent_tokenize(p))\n",
        "\n",
        "# only using paragraphs with 3 or more sentences\n",
        "divided_paragraphs= [pls for pls in divided_paragraphs if len(pls)>=3]\n"
      ]
    },
    {
      "cell_type": "code",
      "execution_count": null,
      "metadata": {
        "id": "RGTo4zc6491b"
      },
      "outputs": [],
      "source": [
        "# using the paragraph data to construct paris of following sentences and pairs\n",
        "# of random sentences\n",
        "\n",
        "import random\n",
        "\n",
        "positive_pairs= []\n",
        "negative_pairs= []\n",
        "\n",
        "num_paragraphs= len(divided_paragraphs)\n",
        "\n",
        "for i, paragraph in enumerate(divided_paragraphs):\n",
        "    for j in range(len(paragraph)-1):\n",
        "        positive_pairs.append((paragraph[j], paragraph[j+1]))\n",
        "        rand_par= i\n",
        "\n",
        "        # avoiding to take a sentence from the same paragraph\n",
        "        while rand_par == i:\n",
        "            rand_par= random.randint(0, num_paragraphs-1)\n",
        "\n",
        "        rand_sent= random.randint(0, len(divided_paragraphs[rand_par])-1)\n",
        "        negative_pairs.append((paragraph[j], divided_paragraphs[rand_par][rand_sent]))\n"
      ]
    },
    {
      "cell_type": "markdown",
      "source": [
        "# Tokenization\n",
        "\n",
        "In order to feed data into our model we need to somehow turn our sentences into vectors. We can use that to break up text into individual tokens."
      ],
      "metadata": {
        "id": "8-fKBfQZAHjJ"
      }
    },
    {
      "cell_type": "code",
      "execution_count": null,
      "metadata": {
        "colab": {
          "base_uri": "https://localhost:8080/",
          "height": 249,
          "referenced_widgets": [
            "1f35bf4c91184b3d947ff9efdffd04ca",
            "bd440521fe01445893a57d3b94d2ab03",
            "ebed6fbef066410e9ebc8d961f05b7e5",
            "9e9b68e07f3b43f4846d3e52940113d2",
            "eae946ca7e9e43799e4b6632d035e832",
            "ca3b9c53cd5a44d89d31d40682842fac",
            "f17d68b7eefa4e78938813d1ef215a75",
            "4cb66aa42c5f4c5c8cd40b6a84ffbae7",
            "f06d996bf657428e99ab4c3661f0406b",
            "e1b5a52f1e6442079f438f06c8450ee5",
            "8275952414554d4fb2ab00c8c424e67f",
            "ad679a90b89640478f6cf594c30fb30a",
            "d7fd818f473d486e81c7c8fa90b26366",
            "ba1597b8970841b3b1e0ad36500310da",
            "e2bd53fe88df4b4c90678c512b7a474e",
            "42402eade88f45bbac11caf269fd03c6",
            "279a130a412842088c229ba41ffb3570",
            "edab762358b64a359d8559250cfe557f",
            "828e983885f74cd887beb53aeff4e86d",
            "2f538089ccc7429ca0f2da15df33f60e",
            "706ac43297ef4cd5a6c9662eaeaf357d",
            "3d206bd1d22142c78493fd5d40feefec",
            "6d9942d095734bd8a0ac5e19a0668814",
            "c0131092497441e9aa029c7f45fdef60",
            "1fb07dff6b904794a0d96fa327deb04e",
            "e74d7e565efb423585eb664588d063e6",
            "00340cae3cb8414d9a9a163e6b8da4d1",
            "24367b4d70c947f1ba3d12f557dc8e99",
            "515a61e4e3cd4402b59387e06bad919f",
            "a87195e326c042a99dad4fe36e23fab6",
            "79f8a03d605e48a4a3aec50474906cee",
            "5b0ee9480b9f46208b3f597f6d5ebb3e",
            "337b8a994b7e46a2ac32820a3cfa592a",
            "9e062acfcf10410c96b80f321ac5ed70",
            "0161b87f162f4fb5a7ee1de3b793281f",
            "2202c5d7cce44756b4fc908a13eeb9bc",
            "6bb79187ee184a3ea047370c0567b41f",
            "c6d897a4b8154a70ba5b6105f2e3ee4a",
            "86fa8037dc3044639e4a7623ab78336d",
            "20f351cd66ff4167b2811f733575ce3e",
            "dcaffb9901c14004b50ba1ce541cf4d9",
            "93aa01a2c1624e6684c63d89721ce09a",
            "8c0e73ef712045a792e664619fad8547",
            "0256579e738645ffbfa964a61adc32d6",
            "050104d928c74acb9612a8c73ce494a7",
            "406c5f0c780144f699fdabbfd14e42a4",
            "4451e74a25a44370aad28897d96ff47d",
            "3242049b5a5d435886f3e85e03faa049",
            "722d8fb4c1e54a508f71682bfd4cc94d",
            "5ceb60e5edfa4d86a91f9aa1591593b6",
            "b71090cdb6394bcfb9b5106db568e9c5",
            "fe4f374ec27541cbb61bf4bf9bbc038c",
            "1a7c02c04d614bd5b624e8c29d7f030f",
            "e12b53035ecd48ed8897b4ca7e5f7759",
            "200b8048d91248f69ef7d35fe082953d"
          ]
        },
        "id": "mpAamuRi494y",
        "outputId": "cd203dc4-3a34-4060-f98d-b9d81393a09e"
      },
      "outputs": [
        {
          "output_type": "stream",
          "name": "stderr",
          "text": [
            "The cache for model files in Transformers v4.22.0 has been updated. Migrating your old cache. This is a one-time only operation. You can interrupt this and resume the migration later on by calling `transformers.utils.move_cache()`.\n"
          ]
        },
        {
          "output_type": "display_data",
          "data": {
            "text/plain": [
              "0it [00:00, ?it/s]"
            ],
            "application/vnd.jupyter.widget-view+json": {
              "version_major": 2,
              "version_minor": 0,
              "model_id": "1f35bf4c91184b3d947ff9efdffd04ca"
            }
          },
          "metadata": {}
        },
        {
          "output_type": "display_data",
          "data": {
            "text/plain": [
              "tokenizer_config.json:   0%|          | 0.00/48.0 [00:00<?, ?B/s]"
            ],
            "application/vnd.jupyter.widget-view+json": {
              "version_major": 2,
              "version_minor": 0,
              "model_id": "ad679a90b89640478f6cf594c30fb30a"
            }
          },
          "metadata": {}
        },
        {
          "output_type": "display_data",
          "data": {
            "text/plain": [
              "vocab.txt:   0%|          | 0.00/232k [00:00<?, ?B/s]"
            ],
            "application/vnd.jupyter.widget-view+json": {
              "version_major": 2,
              "version_minor": 0,
              "model_id": "6d9942d095734bd8a0ac5e19a0668814"
            }
          },
          "metadata": {}
        },
        {
          "output_type": "display_data",
          "data": {
            "text/plain": [
              "tokenizer.json:   0%|          | 0.00/466k [00:00<?, ?B/s]"
            ],
            "application/vnd.jupyter.widget-view+json": {
              "version_major": 2,
              "version_minor": 0,
              "model_id": "9e062acfcf10410c96b80f321ac5ed70"
            }
          },
          "metadata": {}
        },
        {
          "output_type": "display_data",
          "data": {
            "text/plain": [
              "config.json:   0%|          | 0.00/570 [00:00<?, ?B/s]"
            ],
            "application/vnd.jupyter.widget-view+json": {
              "version_major": 2,
              "version_minor": 0,
              "model_id": "050104d928c74acb9612a8c73ce494a7"
            }
          },
          "metadata": {}
        },
        {
          "output_type": "stream",
          "name": "stderr",
          "text": [
            "/usr/local/lib/python3.10/dist-packages/transformers/tokenization_utils_base.py:1601: FutureWarning: `clean_up_tokenization_spaces` was not set. It will be set to `True` by default. This behavior will be depracted in transformers v4.45, and will be then set to `False` by default. For more details check this issue: https://github.com/huggingface/transformers/issues/31884\n",
            "  warnings.warn(\n"
          ]
        }
      ],
      "source": [
        "from transformers.models.bert.tokenization_bert_fast import BertTokenizerFast\n",
        "\n",
        "tokenizer= BertTokenizerFast.from_pretrained('google-bert/bert-base-uncased')"
      ]
    },
    {
      "cell_type": "code",
      "source": [
        "# playing arround with tokenizer\n",
        "sentence= \"Here's a weird word: Withoutadoubticus.\"\n",
        "print(f'Original sentence: \"{sentence}\"')\n",
        "\n",
        "demo_tokens= tokenizer([sentence])\n",
        "print(f\"Token IDs: {demo_tokens['input_ids']}\")\n",
        "\n",
        "tokens= tokenizer.convert_ids_to_tokens(demo_tokens['input_ids'][0])\n",
        "print(f'Token values: {tokens}')"
      ],
      "metadata": {
        "colab": {
          "base_uri": "https://localhost:8080/"
        },
        "id": "AYGJpL8Vzle6",
        "outputId": "305bd811-b47b-4f5f-e649-2fd06950fdc7"
      },
      "execution_count": null,
      "outputs": [
        {
          "output_type": "stream",
          "name": "stdout",
          "text": [
            "Original sentence: \"Here's a weird word: Withoutadoubticus.\"\n",
            "Token IDs: [[101, 2182, 1005, 1055, 1037, 6881, 2773, 1024, 2302, 9365, 12083, 29587, 1012, 102]]\n",
            "Token values: ['[CLS]', 'here', \"'\", 's', 'a', 'weird', 'word', ':', 'without', '##ado', '##ub', '##ticus', '.', '[SEP]']\n"
          ]
        }
      ]
    },
    {
      "cell_type": "markdown",
      "source": [
        "The tokenizer broke our sentence up into individual components which may have included dividing individual words into more than one component. This is called sub-word tokenization, meaning the tokenizer has both words and word components in its vocabulary. This is important because it allows the tokenizer to express complicated words as a series of tokens."
      ],
      "metadata": {
        "id": "xiLthTXhARr7"
      }
    },
    {
      "cell_type": "code",
      "execution_count": null,
      "metadata": {
        "colab": {
          "base_uri": "https://localhost:8080/"
        },
        "id": "LkUi2ffn497x",
        "outputId": "30a49bbc-d358-4811-9e91-ae12033ef809"
      },
      "outputs": [
        {
          "output_type": "execute_result",
          "data": {
            "text/plain": [
              "BertTokenizerFast(name_or_path='google-bert/bert-base-uncased', vocab_size=30522, model_max_length=512, is_fast=True, padding_side='right', truncation_side='right', special_tokens={'unk_token': '[UNK]', 'sep_token': '[SEP]', 'pad_token': '[PAD]', 'cls_token': '[CLS]', 'mask_token': '[MASK]'}, clean_up_tokenization_spaces=True),  added_tokens_decoder={\n",
              "\t0: AddedToken(\"[PAD]\", rstrip=False, lstrip=False, single_word=False, normalized=False, special=True),\n",
              "\t100: AddedToken(\"[UNK]\", rstrip=False, lstrip=False, single_word=False, normalized=False, special=True),\n",
              "\t101: AddedToken(\"[CLS]\", rstrip=False, lstrip=False, single_word=False, normalized=False, special=True),\n",
              "\t102: AddedToken(\"[SEP]\", rstrip=False, lstrip=False, single_word=False, normalized=False, special=True),\n",
              "\t103: AddedToken(\"[MASK]\", rstrip=False, lstrip=False, single_word=False, normalized=False, special=True),\n",
              "}"
            ]
          },
          "metadata": {},
          "execution_count": 7
        }
      ],
      "source": [
        "# special tokens\n",
        "tokenizer"
      ]
    },
    {
      "cell_type": "markdown",
      "source": [
        "# Defining Training Batches\n",
        "\n",
        "Each batch will contain 128 individual sentence pair examples, 64 of which are positive pairs and 64 of which are negative pairs. To keep our model fairly small, to speed up training, we'll make the context window for our model equal to 64 tokens. So, at the end of this process, we'll get a tensor which is [number_of_batches x 128(batch_size) x 64(sequence_length)]"
      ],
      "metadata": {
        "id": "cPV03tUA8S8J"
      }
    },
    {
      "cell_type": "code",
      "source": [
        "# number of examples in the batch\n",
        "batch_size= 128 # should be divisible by 2\n",
        "# sequence length of model\n",
        "max_input_length= 64\n",
        "\n",
        "\n",
        "# defining parallelizable function for processing batches\n",
        "def process_batch(batch_index):\n",
        "\n",
        "    # establishing bounds of the batch\n",
        "    start_index= batch_index * batch_size\n",
        "    end_index= start_index + batch_size\n",
        "\n",
        "    if end_index > len(positive_pairs):\n",
        "        return None, None, None\n",
        "\n",
        "    # getting the sentence pairs of the batch, and if they are pos or neg\n",
        "    sentence_pairs= []\n",
        "    is_positives= []\n",
        "\n",
        "    # creating positive pairs\n",
        "    sentence_pairs.extend(positive_pairs[start_index:start_index+int(batch_size / 2)])\n",
        "    # positive labels\n",
        "    is_positives.extend([1] * int(batch_size / 2))\n",
        "\n",
        "    # creating negative pairs\n",
        "    sentence_pairs.extend(negative_pairs[start_index:start_index+int(batch_size / 2)])\n",
        "    # negative labels\n",
        "    is_positives.extend([0] * int(batch_size / 2))\n",
        "\n",
        "    # defining outputs\n",
        "    # at the end of the day we need to know three things:\n",
        "    #   - the tokens for the sequences in a batch\n",
        "    #   - which sentence the tokens belong to, for positional encoding\n",
        "    #   - if the examples in the batch are positive or negative\n",
        "    # these keep track of the first two\n",
        "    batch_sentence_location_tokens= []\n",
        "    batch_sequence_tokens= []\n",
        "\n",
        "    # tokenizing pairs\n",
        "    for sentence_pair in sentence_pairs:\n",
        "        sentence1= sentence_pair[0]\n",
        "        sentence2= sentence_pair[1]\n",
        "\n",
        "        # tokenizing both sentences\n",
        "        tokens= tokenizer([sentence1, sentence2])\n",
        "        sentence1_tokens= tokens['input_ids'][0]\n",
        "        sentence2_tokens= tokens['input_ids'][1]\n",
        "\n",
        "        # trimming down tokens\n",
        "        if len(sentence1_tokens) + len(sentence2_tokens) > max_input_length:\n",
        "            \"\"\"\n",
        "            If the sentences are too long I opted to preserve the end of the first sentence and the\n",
        "            beginning of the second sentence. This should still allow long inputs to be reasonably\n",
        "            interpretable by the model.\n",
        "            \"\"\"\n",
        "            sentence1_tokens= [101] + sentence1_tokens[-int(max_input_length / 2) + 1:]\n",
        "            sentence2_tokens= sentence2_tokens[:int(max_input_length / 2) - 1] + [102]\n",
        "\n",
        "        # creating sentence tokens - a vector which has zeros in the length of the first sentence,\n",
        "        # and ones for the length of the second sentence. We'll use this vector to help us with\n",
        "        # positional encoding when we go to build the model.\n",
        "        sentence_tokens= [0] * len(sentence1_tokens) + [1] * len(sentence2_tokens)\n",
        "\n",
        "        # combining and padding\n",
        "        pad_num= max_input_length - (len(sentence1_tokens) + len(sentence2_tokens))\n",
        "        sequence_tokens= sentence1_tokens + sentence2_tokens + [0]*pad_num\n",
        "        sentence_location_tokens= sentence_tokens + [1]*pad_num\n",
        "        \"\"\"\n",
        "        We combine our sentence tokens together, and if the combined length is less than the model\n",
        "        length we add a bunch of pad tokens. If we do add pad tokens, we say the pad tokens belong\n",
        "        to the second sentence for convenience sake.\n",
        "        \"\"\"\n",
        "\n",
        "        # adding to batch\n",
        "        batch_sequence_tokens.append(sequence_tokens)\n",
        "        batch_sentence_location_tokens.append(sentence_location_tokens)\n",
        "\n",
        "    return torch.tensor(batch_sentence_location_tokens), torch.tensor(batch_sequence_tokens), torch.tensor(is_positives)\n"
      ],
      "metadata": {
        "id": "Jo-AzNSsshxv"
      },
      "execution_count": null,
      "outputs": []
    },
    {
      "cell_type": "code",
      "execution_count": null,
      "metadata": {
        "colab": {
          "base_uri": "https://localhost:8080/"
        },
        "id": "PJgTKfV349_D",
        "outputId": "af6bc253-8d79-4116-b249-76f922963149"
      },
      "outputs": [
        {
          "output_type": "stream",
          "name": "stderr",
          "text": [
            "100%|██████████| 7311/7311 [05:12<00:00, 23.40it/s]\n"
          ]
        }
      ],
      "source": [
        "# determine the number of batches\n",
        "num_batches= len(positive_pairs) // batch_size\n",
        "\n",
        "# use a pool of workers equal to the number of CPU cores\n",
        "with Pool(processes=cpu_count()) as pool:\n",
        "    results= list(tqdm(pool.imap(process_batch, range(num_batches)), total=num_batches))\n",
        "\n",
        "# filter out None results from the process_batch function\n",
        "results= [result for result in results if result[0] is not None]\n",
        "\n",
        "# unpack results into batches\n",
        "sentence_location_batches, sequence_tokens_batches, is_positives_batches= zip(*results)\n",
        "\n",
        "# stack tensors into final batches\n",
        "sentence_location_batches= torch.stack(sentence_location_batches).to(device)\n",
        "sequence_tokens_batches= torch.stack(sequence_tokens_batches).to(device)\n",
        "is_positives_batches= torch.stack(is_positives_batches).to(device)"
      ]
    },
    {
      "cell_type": "code",
      "execution_count": null,
      "metadata": {
        "colab": {
          "base_uri": "https://localhost:8080/"
        },
        "id": "soYwmzNE4-Cn",
        "outputId": "72349e28-9e35-4b31-da01-843de4cabb16"
      },
      "outputs": [
        {
          "output_type": "execute_result",
          "data": {
            "text/plain": [
              "torch.Size([7311, 128, 64])"
            ]
          },
          "metadata": {},
          "execution_count": 9
        }
      ],
      "source": [
        "sentence_location_batches.shape"
      ]
    },
    {
      "cell_type": "markdown",
      "source": [
        "# Creating a Masking Function\n",
        "\n",
        "As we build our masking function we don't want to inadvertently mask out special tokens like [CLS], [SEP], and [PAD]. We only want to mask out tokens which correspond to the sentences themselves.\n",
        "\n",
        "After we train our model, the [MASK] token will never be seen when the model is actually being used and making inferences. If we only train our model on the [MASK] token, it might learn to disregard other words that might be important in understanding the sequence generally. So, when we decide a random token should be masked we usually replace it with the [MASK] token, but we also sometimes preserve the original token value, and sometimes replace the masked token with a\n",
        "completely random token.\n",
        "\n",
        "In the original BERT paper they decided to mask 15% of words within the input. Of that 15%, 80% are replaced with [MASK], while 10% are replaced with a random word and 10% are not replaced at all."
      ],
      "metadata": {
        "id": "0ZMsabm78qA9"
      }
    },
    {
      "cell_type": "code",
      "source": [
        "# listing out vocab for random token masking\n",
        "vocab= tokenizer.get_vocab()\n",
        "valid_token_ids= list(vocab.values())\n",
        "\n",
        "def mask_batch(batch_tokens, clone=True):\n",
        "    if clone:\n",
        "        batch_tokens= torch.clone(batch_tokens)\n",
        "\n",
        "    # define the percentage of tokens to potentially mask\n",
        "    replace_percentage= 0.15\n",
        "\n",
        "    # define tokens that should not be replaced\n",
        "    excluded_tokens= {0, 100, 101, 102, 103}\n",
        "\n",
        "    # create a mask to identify tokens that are eligible for replacement\n",
        "    eligible_mask= ~torch.isin(batch_tokens, torch.tensor(list(excluded_tokens)).to(device))\n",
        "\n",
        "    # count the number of eligible tokens\n",
        "    num_eligible_tokens= eligible_mask.sum().item()\n",
        "\n",
        "    # calculate the number of tokens to potentially mask\n",
        "    num_tokens_to_mask= int(num_eligible_tokens * replace_percentage)\n",
        "\n",
        "    # create a random permutation of eligible token indices\n",
        "    eligible_indices= eligible_mask.nonzero(as_tuple=True)\n",
        "    random_indices= torch.randperm(num_eligible_tokens)[:num_tokens_to_mask]\n",
        "\n",
        "    # create a probability distribution for replacement\n",
        "    replacement_probs= torch.tensor([0.8, 0.1, 0.1]) # probs for [103, random token, leave unchanged]\n",
        "    replacement_choices= torch.multinomial(replacement_probs, num_tokens_to_mask, replacement=True)\n",
        "\n",
        "    # vector to store if a token was masked (0: not masked, 1: masked)\n",
        "    masked_indicator= torch.zeros_like(batch_tokens, dtype=torch.int32)\n",
        "\n",
        "    # apply replacements based on sampled choices\n",
        "    for i, idx in enumerate(random_indices):\n",
        "        row= eligible_indices[0][idx]\n",
        "        col= eligible_indices[1][idx]\n",
        "\n",
        "        # replacing with mask\n",
        "        if replacement_choices[i]== 0:\n",
        "            batch_tokens[row, col]= 103\n",
        "            masked_indicator[row, col]= 1\n",
        "\n",
        "        # replacing with random tokens\n",
        "        elif replacement_choices[i]== 1:\n",
        "            batch_tokens[row, col]= random.choice(valid_token_ids)\n",
        "            masked_indicator[row, col]= 1\n",
        "\n",
        "        # not replacing at all\n",
        "        elif replacement_choices[i]== 2:\n",
        "            masked_indicator[row, col]= 1\n",
        "\n",
        "\n",
        "    return batch_tokens, masked_indicator\n"
      ],
      "metadata": {
        "id": "QGMAdkSKsocC"
      },
      "execution_count": null,
      "outputs": []
    },
    {
      "cell_type": "code",
      "execution_count": null,
      "metadata": {
        "colab": {
          "base_uri": "https://localhost:8080/"
        },
        "id": "ifa7PYAz4-Gv",
        "outputId": "d30c7af0-994a-4833-b989-1674132e6a89"
      },
      "outputs": [
        {
          "output_type": "execute_result",
          "data": {
            "text/plain": [
              "tensor([[  101,   103, 11140,  ...,     0,     0,     0],\n",
              "        [  101,   101,  9617,  ...,     0,     0,     0],\n",
              "        [  101,  4286,  2973,  ...,     0,     0,     0],\n",
              "        ...,\n",
              "        [  101,  1037,  2146,  ...,     0,     0,     0],\n",
              "        [  101,  1997, 13193,  ...,     0,     0,     0],\n",
              "        [  101,   103,  1996,  ...,     0,     0,     0]], device='cuda:0')"
            ]
          },
          "metadata": {},
          "execution_count": 10
        }
      ],
      "source": [
        "batch_tokens, masked_indicator= mask_batch(sequence_tokens_batches[0])\n",
        "batch_tokens"
      ]
    },
    {
      "cell_type": "markdown",
      "metadata": {
        "id": "ayk65bwD3HIY"
      },
      "source": [
        "# Defining the Model\n",
        "\n",
        "Now that we have tokenization, and we've shown that we can build an embedding model that can work with that tokenization, we can build the model itself."
      ]
    },
    {
      "cell_type": "markdown",
      "source": [
        "# Embedding\n",
        "\n",
        "A BERT style model, in being a derivative of transformers, expects a high dimensional vector to represent each word. The model will use these vectors to reason about words, allowing it to (hopefully) create a strong understanding of the input text. So, we need to turn our tokens (which are just integers) into these high dimensional vectors.\n",
        "\n",
        "The embedding portion of the model will take care of both the conversion of tokens into vectors and the addition of positional information by using a lookup table. We'll define random vectors for every possible token, random vectors that correspond to each input position, and random vectors which correspond to the two sentence inputs. We'll replace tokens and positions with these random vectors, and use them to represent a token and it's position. Naturally, it will do a bad job at first as we're using completely random data, but these random values will be learnable parameters of the model, so the model will learn how to make good vectors for both token and position encoding."
      ],
      "metadata": {
        "id": "VIUBYQ1C8-Ff"
      }
    },
    {
      "cell_type": "code",
      "source": [
        "class Embedding(nn.Module):\n",
        "    \"\"\"\n",
        "    This is the first component of the model which converts tokens into vectors. These vectors are\n",
        "    learned throughout the training process, where there's esssentially a lookup table for each\n",
        "    word.\n",
        "    Here we're saying we'll represent the words with vectors of length 256 with the parameter\n",
        "    d_model=256, and we're saying we're dealing with two sentences with n_segments=2.\n",
        "    \"\"\"\n",
        "\n",
        "    def __init__(self, d_model, vocab_size, input_length, n_segments) -> None:\n",
        "        super(Embedding, self).__init__()\n",
        "        # token embedding\n",
        "        self.tok_embed= nn.Embedding(vocab_size, d_model)\n",
        "        # position embedding\n",
        "        self.pos_embed= nn.Embedding(input_length, d_model)\n",
        "        # segment (token type) embedding\n",
        "        self.seg_embed= nn.Embedding(n_segments, d_model)\n",
        "\n",
        "\n",
        "    def forward(self, x, seg_location):\n",
        "        seq_len= x.size(1)\n",
        "        pos= torch.arange(seq_len, dtype=torch.long, device=x.device)\n",
        "        # [seq_len, ] -> [batch_size, seq_len]\n",
        "        pos= pos.unsqueeze(0).expand_as(x)\n",
        "\n",
        "        embedding= self.tok_embed(x) + self.pos_embed(pos) + self.seg_embed(seg_location)\n",
        "\n",
        "        return embedding\n"
      ],
      "metadata": {
        "id": "9M8hbVHoemk1"
      },
      "execution_count": null,
      "outputs": []
    },
    {
      "cell_type": "code",
      "execution_count": null,
      "metadata": {
        "colab": {
          "base_uri": "https://localhost:8080/"
        },
        "id": "xVwjeZJ6P0W7",
        "outputId": "2d11f87b-aab1-46aa-fab9-a056878f7888"
      },
      "outputs": [
        {
          "output_type": "execute_result",
          "data": {
            "text/plain": [
              "Embedding(\n",
              "  (tok_embed): Embedding(30522, 256)\n",
              "  (pos_embed): Embedding(256, 256)\n",
              "  (seg_embed): Embedding(2, 256)\n",
              ")"
            ]
          },
          "metadata": {},
          "execution_count": 3
        }
      ],
      "source": [
        "e= Embedding(d_model=256, vocab_size=tokenizer.vocab_size, input_length=max_input_length,\n",
        "             n_segments=2)\n",
        "e.to(device)"
      ]
    },
    {
      "cell_type": "code",
      "execution_count": null,
      "metadata": {
        "colab": {
          "base_uri": "https://localhost:8080/"
        },
        "id": "xi9-JxBeP0aQ",
        "outputId": "981ad31b-8268-4f37-934d-3f125f30a6df"
      },
      "outputs": [
        {
          "output_type": "stream",
          "name": "stdout",
          "text": [
            "torch.Size([128, 64, 256])\n",
            "tensor([[[-0.2935, -0.2505, -0.3464,  ..., -1.4271,  1.4150,  0.4988],\n",
            "         [-1.4458,  2.4072, -0.3145,  ..., -1.8255, -0.2334,  1.1606],\n",
            "         [-0.6110,  0.8082, -1.3392,  ...,  0.1489,  1.7131,  0.6110],\n",
            "         ...,\n",
            "         [-1.9659, -0.7140,  0.2818,  ...,  0.7296, -1.3188, -0.2563],\n",
            "         [-1.9306, -0.3924,  1.0346,  ...,  2.0033, -1.6667, -0.4071],\n",
            "         [-1.6372,  0.5793,  0.6758,  ...,  0.7765, -1.3375, -0.4205]],\n",
            "\n",
            "        [[-0.2935, -0.2505, -0.3464,  ..., -1.4271,  1.4150,  0.4988],\n",
            "         [-1.3037,  1.4894,  0.6361,  ..., -1.1468,  0.0313,  0.4960],\n",
            "         [-0.9860,  1.4732,  0.0764,  ..., -1.1544,  1.1918,  1.5997],\n",
            "         ...,\n",
            "         [-1.9659, -0.7140,  0.2818,  ...,  0.7296, -1.3188, -0.2563],\n",
            "         [-1.9306, -0.3924,  1.0346,  ...,  2.0033, -1.6667, -0.4071],\n",
            "         [-1.6372,  0.5793,  0.6758,  ...,  0.7765, -1.3375, -0.4205]],\n",
            "\n",
            "        [[-0.2935, -0.2505, -0.3464,  ..., -1.4271,  1.4150,  0.4988],\n",
            "         [-0.6913,  1.2570, -1.4682,  ..., -0.0282, -0.6839,  0.0443],\n",
            "         [-0.4419,  0.5857, -0.2555,  ..., -0.4218,  0.1470,  1.2061],\n",
            "         ...,\n",
            "         [-1.9659, -0.7140,  0.2818,  ...,  0.7296, -1.3188, -0.2563],\n",
            "         [-1.9306, -0.3924,  1.0346,  ...,  2.0033, -1.6667, -0.4071],\n",
            "         [-1.6372,  0.5793,  0.6758,  ...,  0.7765, -1.3375, -0.4205]],\n",
            "\n",
            "        ...,\n",
            "\n",
            "        [[-0.2935, -0.2505, -0.3464,  ..., -1.4271,  1.4150,  0.4988],\n",
            "         [-1.0993,  1.2758, -1.3559,  ..., -0.7556, -0.3723,  0.2388],\n",
            "         [-1.2169,  1.4685, -0.4441,  ..., -0.9062, -0.0875,  0.8034],\n",
            "         ...,\n",
            "         [-1.9659, -0.7140,  0.2818,  ...,  0.7296, -1.3188, -0.2563],\n",
            "         [-1.9306, -0.3924,  1.0346,  ...,  2.0033, -1.6667, -0.4071],\n",
            "         [-1.6372,  0.5793,  0.6758,  ...,  0.7765, -1.3375, -0.4205]],\n",
            "\n",
            "        [[-0.2935, -0.2505, -0.3464,  ..., -1.4271,  1.4150,  0.4988],\n",
            "         [ 0.1129,  1.5555,  0.2605,  ..., -1.8239, -0.8210,  0.8481],\n",
            "         [-0.0549,  0.7440,  0.6819,  ..., -1.1725,  1.8597,  0.6591],\n",
            "         ...,\n",
            "         [-1.9659, -0.7140,  0.2818,  ...,  0.7296, -1.3188, -0.2563],\n",
            "         [-1.9306, -0.3924,  1.0346,  ...,  2.0033, -1.6667, -0.4071],\n",
            "         [-1.6372,  0.5793,  0.6758,  ...,  0.7765, -1.3375, -0.4205]],\n",
            "\n",
            "        [[-0.2935, -0.2505, -0.3464,  ..., -1.4271,  1.4150,  0.4988],\n",
            "         [-1.1996,  1.7887,  0.4088,  ..., -1.2885,  0.1674,  0.7404],\n",
            "         [ 0.6812, -0.3368, -0.2459,  ..., -1.8064,  0.7811,  0.0656],\n",
            "         ...,\n",
            "         [-1.9659, -0.7140,  0.2818,  ...,  0.7296, -1.3188, -0.2563],\n",
            "         [-1.9306, -0.3924,  1.0346,  ...,  2.0033, -1.6667, -0.4071],\n",
            "         [-1.6372,  0.5793,  0.6758,  ...,  0.7765, -1.3375, -0.4205]]],\n",
            "       device='cuda:0', grad_fn=<NativeLayerNormBackward0>)\n"
          ]
        }
      ],
      "source": [
        "# we can pass in a batch of data through this module and see what we get.\n",
        "dummy_embedding= e(sequence_tokens_batches[0], sentence_location_batches[0])\n",
        "\n",
        "print(dummy_embedding.shape)\n",
        "print(dummy_embedding)"
      ]
    },
    {
      "cell_type": "markdown",
      "source": [
        "# Multi-Headed Self Attention\n",
        "\n",
        "BERT is a transformer style model, so multi-headed self-attention is a critical component.\n",
        "\n",
        "First of all we can implement a single attention head. We'll assume the query, key, and value have already been created, so we can whip that up. This doesn't have any learnable parameters, those will be in the multi headed self attention mechanism which will employ this as a sub-component."
      ],
      "metadata": {
        "id": "yhOxoXcC9QX8"
      }
    },
    {
      "cell_type": "code",
      "source": [
        "class ScaledDotProductAttention(nn.Module):\n",
        "\n",
        "    def __init__(self, dropout=0.1) -> None:\n",
        "        super(ScaledDotProductAttention, self).__init__()\n",
        "        self.dropout= nn.Dropout(p=dropout)\n",
        "\n",
        "\n",
        "    def forward(self, Q, K, V):\n",
        "        # Q, K, V of size [batch, head, seq_len, head_dim]\n",
        "        attn= (Q @ K.transpose(-2, -1)) * (1.0 / math.sqrt(K.size(-1)))\n",
        "        attn= F.softmax(attn, dim=-1)\n",
        "        attn= self.dropout(attn)\n",
        "        context= attn @ V\n",
        "\n",
        "        return context, attn\n"
      ],
      "metadata": {
        "id": "8bjkR-2Chy2f"
      },
      "execution_count": null,
      "outputs": []
    },
    {
      "cell_type": "code",
      "execution_count": null,
      "metadata": {
        "colab": {
          "base_uri": "https://localhost:8080/"
        },
        "id": "pvWisCHUP0eK",
        "outputId": "b033fae4-d61b-4141-f133-f9412eaa6642"
      },
      "outputs": [
        {
          "output_type": "execute_result",
          "data": {
            "text/plain": [
              "(tensor([[[1.0856, 1.1030],\n",
              "          [0.5572, 0.6586]]], device='cuda:0'),\n",
              " tensor([[[0.4282, 0.6829],\n",
              "          [0.5066, 0.0000]]], device='cuda:0'))"
            ]
          },
          "metadata": {},
          "execution_count": 5
        }
      ],
      "source": [
        "# sanity check\n",
        "q= torch.tensor([[[1.1, 1.3], [0.9, 0.8]]]).to(device)\n",
        "k= torch.tensor([[[0.9, 1.0], [0.2, 2.1]]]).to(device)\n",
        "v= torch.tensor([[[1.1, 1.3], [0.9, 0.8]]]).to(device)\n",
        "\n",
        "sample= ScaledDotProductAttention().to(device)\n",
        "sample(q, k, v)"
      ]
    },
    {
      "cell_type": "markdown",
      "source": [
        "We have a batch of examples which need to be turned into querys, keys, and values, then those need to be further divided into multiple heads. This means we effectively have two axis which we need to parallelize self attention across; the batch dimension and a new dimension for the heads. Because PyTorch automagically parallelizes across the 0th dimension by assuming it's the batch dimension, we can effectively parallelize across the batch and heads by squeezing both dimensions into a single dimension.\n",
        "\n",
        "Here we are defining a few constants that we'll use through training.\n",
        "- n_heads specifies how many attention heads exist per MHSA block\n",
        "- query_key_dim specifies how big the query and key vectors will be\n",
        "- value_dim specifies how big the value vectors will be."
      ],
      "metadata": {
        "id": "LFyEhpzd9djo"
      }
    },
    {
      "cell_type": "code",
      "source": [
        "class MultiHeadSelfAttention(nn.Module):\n",
        "    \"\"\"\n",
        "    MHSA has four sets of parameters. These are all dense linear modules. Three that turn the\n",
        "    tensors of the model into inputs for MHSA, and one that turns the output of MHSA back into the\n",
        "    shape needed for modeling.\n",
        "    These are \"pointwise dense modules\" which is the default setup in PyTorch. Basically, these\n",
        "    apply to all the vectors in your space and assumes the last dimension is the vector dimension.\n",
        "    So if you have, for instance, an input of shape [batch_size, seq_len, emb_dim] and you want\n",
        "    to turn that into an output of shape [batch_size, seq_len, output_dim] you can use\n",
        "    nn.Linear(input_dim, output_dim).\n",
        "    \"\"\"\n",
        "\n",
        "    def __init__(self, d_model, query_key_dim, value_dim, n_heads, dropout=0.1) -> None:\n",
        "        super(MultiHeadSelfAttention, self).__init__()\n",
        "        self.query_key_dim= query_key_dim\n",
        "        self.value_dim= value_dim\n",
        "        self.n_heads= n_heads\n",
        "        # defining the linear layers that construct the query, key, and value\n",
        "        self.W_Q= nn.Linear(d_model, n_heads * query_key_dim)\n",
        "        self.W_K= nn.Linear(d_model, n_heads * query_key_dim)\n",
        "        self.W_V= nn.Linear(d_model, n_heads * value_dim)\n",
        "        # parameterless system that calculates Attention\n",
        "        self.attn= ScaledDotProductAttention(dropout)\n",
        "        # projects final output of MHSA back into model dimension\n",
        "        self.proj_back= nn.Linear(n_heads * value_dim, d_model)\n",
        "\n",
        "\n",
        "    def forward(self, x):\n",
        "        batch_size, seq_len, emb_dim= x.size()\n",
        "        # passing x (embedding) through dense networks\n",
        "        qs= self.W_Q(x) # [batch_size, seq_len, (n_heads * query_key_dim)]\n",
        "        ks= self.W_K(x) # [batch_size, seq_len, (n_heads * query_key_dim)]\n",
        "        vs= self.W_V(x) # [batch_size, seq_len, (n_heads * value_dim)]\n",
        "\n",
        "        # dividing out heads -- [batch_size, seq_len, n_heads, qk/v_dim]\n",
        "        qs= qs.view(batch_size, -1, self.n_heads, self.query_key_dim)\n",
        "        ks= ks.view(batch_size, -1, self.n_heads, self.query_key_dim)\n",
        "        vs= vs.view(batch_size, -1, self.n_heads, self.value_dim)\n",
        "\n",
        "        # moving the head dimension next to the batch dimension\n",
        "        qs= qs.permute(0, 2, 1, 3)\n",
        "        ks= ks.permute(0, 2, 1, 3) # [batch_size, n_heads, seq_len, qk/v_dim]\n",
        "        vs= vs.permute(0, 2, 1, 3)\n",
        "\n",
        "        # passing batches/heads through the 'scaled dot product'\n",
        "        head_results, _= self.attn(qs, ks, vs)\n",
        "\n",
        "        # permuting back between head and seq_len dimensions\n",
        "        head_results= head_results.permute(0, 2, 1, 3) # [batch_size, seq_len, n_heads, value_dim]\n",
        "\n",
        "        # combining the last dim to effectively concatenate the result of the heads\n",
        "        # [batch_size, seq_len, (n_heads * value_dim)]\n",
        "        head_results= head_results.contiguous().view(batch_size, seq_len, -1)\n",
        "\n",
        "        # projecting result of head back into model dimension\n",
        "        return self.proj_back(head_results)\n"
      ],
      "metadata": {
        "id": "83K8HM3ilcp9"
      },
      "execution_count": null,
      "outputs": []
    },
    {
      "cell_type": "code",
      "execution_count": null,
      "metadata": {
        "colab": {
          "base_uri": "https://localhost:8080/"
        },
        "id": "ma4u6R_fP0iZ",
        "outputId": "1a3b05ef-35e1-403b-aba6-6c44375940ff"
      },
      "outputs": [
        {
          "output_type": "stream",
          "name": "stdout",
          "text": [
            "Sample embeddings shape: torch.Size([128, 64, 256])\n",
            "Output shape of MHSA: torch.Size([128, 64, 256])\n"
          ]
        }
      ],
      "source": [
        "# example usage\n",
        "d_model= 256\n",
        "sample_embeddings= torch.tensor([[[1.1] * d_model] * max_input_length] * batch_size).to(device)\n",
        "print(\"Sample embeddings shape:\", sample_embeddings.shape)\n",
        "\n",
        "attn= MultiHeadSelfAttention(d_model=d_model, query_key_dim=64, value_dim=64, n_heads=3).to(device)\n",
        "output= attn(dummy_embedding)\n",
        "print('Output shape of MHSA:', output.shape)\n",
        "# the output should be the same size as the input"
      ]
    },
    {
      "cell_type": "markdown",
      "metadata": {
        "id": "paGnuiOkr0vR"
      },
      "source": [
        "# Pointwise Feed Forward"
      ]
    },
    {
      "cell_type": "markdown",
      "source": [
        "We already implemented pointwise feedforward in the construction of the query, key, and value in multi headed self-attention, but this process is also done to the model tokens themselves, as per the classic transformer architecture.\n",
        "\n",
        "Just like in multi-headed self-attention, this applies a neural network to each word vector individually, allowing the model to learn to manipulate individual vectors as necessary."
      ],
      "metadata": {
        "id": "iaRBHsF89o4K"
      }
    },
    {
      "cell_type": "code",
      "source": [
        "class PointwiseFeedForwardNet(nn.Module):\n",
        "    \"\"\"\n",
        "    In this particular implementation we are expanding the vectors to four times their length with\n",
        "    a neural network, applying a non-linear activation function, then compressing that data back\n",
        "    into the original model dimension length (d_model=256, in this example).\n",
        "    Basically, we are allowing our model to stretch each word vector out into a bigger\n",
        "    representation, allowing the model to represent each vector in a diverse number of ways, then\n",
        "    we are passing that larger representation through a function that manipulates the vector in\n",
        "    complex ways. The model can learn to exploit that large number of complex representations to\n",
        "    create better word vectors, which are then compressed back into the original modeling dimension.\n",
        "    \"\"\"\n",
        "\n",
        "    def __init__(self, d_model, d_ff, dropout=0.1) -> None:\n",
        "        super(PointwiseFeedForwardNet, self).__init__()\n",
        "        self.fc1 = nn.Linear(d_model, d_ff)\n",
        "        self.gelu= nn.GELU()\n",
        "        self.fc2 = nn.Linear(d_ff, d_model)\n",
        "        self.dropout= nn.Dropout(p=dropout)\n",
        "\n",
        "\n",
        "    def forward(self, x):\n",
        "        x= self.fc1(x) # [batch_size, seq_len, d_model] -> [batch_size, seq_len, d_ff]\n",
        "        x= self.gelu(x)\n",
        "        x= self.dropout(x)\n",
        "        x= self.fc2(x) # [batch_size, seq_len, d_ff] -> [batch_size, seq_len, d_model]\n",
        "\n",
        "        return x\n"
      ],
      "metadata": {
        "id": "OwwxHzX8l23a"
      },
      "execution_count": null,
      "outputs": []
    },
    {
      "cell_type": "code",
      "execution_count": null,
      "metadata": {
        "colab": {
          "base_uri": "https://localhost:8080/"
        },
        "id": "ZqkMfuzMP0l5",
        "outputId": "82585812-ac35-4e17-eb27-ff395fb7fab9"
      },
      "outputs": [
        {
          "output_type": "execute_result",
          "data": {
            "text/plain": [
              "torch.Size([128, 64, 256])"
            ]
          },
          "metadata": {},
          "execution_count": 15
        }
      ],
      "source": [
        "# example usage\n",
        "d_model= 256\n",
        "d_ff= 4 * d_model\n",
        "\n",
        "sample= PointwiseFeedForwardNet(d_model=d_model, d_ff=d_ff).to(device)\n",
        "sample_embeddings= torch.tensor([[[1.1] * d_model] * max_input_length] * batch_size).to(device)\n",
        "sample(sample_embeddings).shape"
      ]
    },
    {
      "cell_type": "markdown",
      "metadata": {
        "id": "qMDPx23v0a8i"
      },
      "source": [
        "# The Encoder Block"
      ]
    },
    {
      "cell_type": "markdown",
      "source": [
        "Now that we have multi-headed self-attention and pointwise feed forward figured out, we can implement the entire encoder block.\n",
        "\n",
        "Here we are:\n",
        "- Passing the input through multi-headed self-attention\n",
        "- Adding the original input to the output of MHSA, combining both, creating the first skip connection.\n",
        "- Passing that through pointwise feed forward\n",
        "- Adding the output of pointwise feed forward to the previous skip connection output, creating the second skip connection.\n",
        "\n",
        "Skip connections help a model learn more easily by combining simple and more complex information together, allowing the model to use both to its advantage.\n",
        "\n",
        "Very few details about the Transformer have changed in the last five years, but there is something slightly departs from the original paper. You see that Add and Norm is applied **after** (Post-LN) the transformation (Multi Head Attention). But now it is more common to apply LayerNorm **before** (Pre-LN) the transformation, so there is a reshuffling of the Layer Norm. This is called **pre-norm formulation** and that is the one we are going to implement as well."
      ],
      "metadata": {
        "id": "JBnx334y9ykJ"
      }
    },
    {
      "cell_type": "code",
      "source": [
        "class ResidualConnection(nn.Module):\n",
        "    \"\"\"\n",
        "    A residual connection followed by a layer norm.\n",
        "    Note for code simplicity the norm is first as opposed to last.\n",
        "    \"\"\"\n",
        "\n",
        "    def __init__(self, size, dropout=0.0) -> None:\n",
        "        super(ResidualConnection, self).__init__()\n",
        "        self.norm= nn.LayerNorm(size)\n",
        "        self.dropout= nn.Dropout(p=dropout)\n",
        "\n",
        "\n",
        "    def forward(self, x, sublayer):\n",
        "        # apply residual connection to any sublayer with the same size\n",
        "        pre_ln= self.norm(x)\n",
        "        x= x + self.dropout(sublayer(pre_ln))\n",
        "\n",
        "        return x\n"
      ],
      "metadata": {
        "id": "0vvqNQoOLjre"
      },
      "execution_count": null,
      "outputs": []
    },
    {
      "cell_type": "code",
      "source": [
        "class EncoderBlock(nn.Module):\n",
        "    \"\"\"\n",
        "    Defining the Encoder block.\n",
        "    \"\"\"\n",
        "\n",
        "    def __init__(self, d_model, d_ff, query_key_dim, value_dim, n_heads, dropout=0.0) -> None:\n",
        "        super(EncoderBlock, self).__init__()\n",
        "        self.connection1= ResidualConnection(d_model, dropout)\n",
        "        self.mhsa= MultiHeadSelfAttention(d_model, query_key_dim, value_dim, n_heads, dropout)\n",
        "        self.connection2= ResidualConnection(d_model, dropout)\n",
        "        self.pwff= PointwiseFeedForwardNet(d_model, d_ff, dropout)\n",
        "\n",
        "\n",
        "    def forward(self, x):\n",
        "        x= self.connection1(x, self.mhsa)\n",
        "        x= self.connection2(x, self.pwff)\n",
        "\n",
        "        return x\n"
      ],
      "metadata": {
        "id": "ZU05t8sEmYDh"
      },
      "execution_count": null,
      "outputs": []
    },
    {
      "cell_type": "code",
      "execution_count": null,
      "metadata": {
        "colab": {
          "base_uri": "https://localhost:8080/"
        },
        "id": "V_C1-ucS0U9S",
        "outputId": "273bb19f-d9a3-44d4-c229-2a3f0fa462d7"
      },
      "outputs": [
        {
          "output_type": "execute_result",
          "data": {
            "text/plain": [
              "torch.Size([128, 64, 256])"
            ]
          },
          "metadata": {},
          "execution_count": 17
        }
      ],
      "source": [
        "# example usage\n",
        "sample= EncoderBlock(d_model, d_ff, query_key_dim=64, value_dim=64, n_heads=3).to(device)\n",
        "sample_embeddings= torch.tensor([[[1.1] * d_model] * max_input_length] * batch_size).to(device)\n",
        "sample(sample_embeddings).shape"
      ]
    },
    {
      "cell_type": "markdown",
      "source": [
        "Let's get onto the fun stuff, actually building BERT!"
      ],
      "metadata": {
        "id": "cu0BJ3Gb9_rl"
      }
    },
    {
      "cell_type": "markdown",
      "source": [
        "# Building BERT\n",
        "\n",
        "BERT is straight forward if you understand the two major subcomponents we have already created:\n",
        "- It has an embedding sub-module which turns the token_ids of the input into vectors\n",
        "- It has a bunch of encoder blocks which manipulate the input to create a dense and meaning rich representation. Under the hood these consist of multi-headed self-attention and pointwise feed forward layers.\n",
        "\n",
        "The only new things are the projection head and the classifier, these are used to turn certain vectors in the output of the last encoder layer into predictions. The classifier looks at the first input token, which is always [CLS] in the input (we set our data up that way) and makes a prediction as to whether or not the sentences in the input belong together or not.\n",
        "\n",
        "We are only using two Encoder Blocks to speed up training (n_layers). A BERT model would expect at least a few Encoder Blocks stacked on top of one another."
      ],
      "metadata": {
        "id": "EeXI6JrO-Oiu"
      }
    },
    {
      "cell_type": "code",
      "execution_count": null,
      "metadata": {
        "id": "MffOY81A0VDK"
      },
      "outputs": [],
      "source": [
        "class BERT(nn.Module):\n",
        "    \"\"\"\n",
        "    BERT consists of the following:\n",
        "    - An embedding module\n",
        "    - A list of encoder blocks\n",
        "    - A dense network for classifying if sequences are a positive pair\n",
        "    - A dense network for projecting word vectors into probabilities\n",
        "    \"\"\"\n",
        "\n",
        "    def __init__(self, vocab_size, input_length, n_segments, n_layers=2, d_model=256, d_ff=1024,\n",
        "                 n_heads=4, query_key_dim=64, value_dim=64, dropout=0.1) -> None:\n",
        "        super(BERT, self).__init__()\n",
        "        self.input_length= input_length\n",
        "        # for converting tokens into vector embeddings\n",
        "        self.embedding= Embedding(d_model, vocab_size, input_length, n_segments)\n",
        "        # encoder blocks stacked on top of one another\n",
        "        self.encoder_blocks= nn.ModuleList([\n",
        "            EncoderBlock(d_model, d_ff, query_key_dim, value_dim, n_heads, dropout)\n",
        "            for _ in range(n_layers)\n",
        "        ])\n",
        "        self.ln_final= nn.LayerNorm(d_model)\n",
        "        # for projecting a word vector (or tensor of them) into token predictions\n",
        "        self.proj_head= nn.Linear(d_model, vocab_size, bias=False)\n",
        "        # for converting the first output token into a binary classification\n",
        "        self.classifier= nn.Linear(d_model, 1, bias=False)\n",
        "\n",
        "        # initialize Linear modules with Glorot / fan_avg\n",
        "        # let LayerNorm and Embedding modules use default initializations\n",
        "        for m in self.modules():\n",
        "            if isinstance(m, nn.Linear):\n",
        "                nn.init.xavier_uniform_(m.weight)\n",
        "                if m.bias is not None: nn.init.zeros_(m.bias)\n",
        "\n",
        "\n",
        "    def forward(self, x, seg_location, masked_token_locations):\n",
        "        # x is our token indices of shape [batch_size x seq_len]\n",
        "        batch_size, seq_len= x.size()\n",
        "        assert seq_len <= self.input_length, f'Cannot forward sequence of length {seq_len}, block size is only {self.input_length}'\n",
        "\n",
        "        embeddings= self.embedding(x, seg_location)\n",
        "        # x of shape [batch x seq_len x model_dim]\n",
        "        x= embeddings\n",
        "\n",
        "        for block in self.encoder_blocks:\n",
        "            x= block(x)\n",
        "        # forward the final layerNorm\n",
        "        x= self.ln_final(x)\n",
        "\n",
        "        # for every example in the batch, this takes the first vector and passes it to the\n",
        "        # classifier linear network for prediction\n",
        "        clsf_logits= self.classifier(x[:,0,:])\n",
        "\n",
        "        # passing masked tokens through the projection head\n",
        "        masked_token_embeddings= embeddings[masked_token_locations.bool()]\n",
        "        token_logits= self.proj_head(masked_token_embeddings)\n",
        "\n",
        "        return clsf_logits, token_logits\n"
      ]
    },
    {
      "cell_type": "markdown",
      "source": [
        "Notice how the classifier is defined as a linear network of output size 1.\n",
        "This is because we're making a binary classification (yes or no). Predicted values over 0.5 will be interpreted as true, while predicted values of less than 0.5 will be interpreted as false. The projection head does something similar, except it looks at all masked tokens, and instead of making a true or false prediction, it has to predict what token should be there. Thus, the output is of length tokenizer.vocab_size , meaning we predict, out of all tokens, what token a particular masked word should be."
      ],
      "metadata": {
        "id": "A2EChRWr-gO3"
      }
    },
    {
      "cell_type": "code",
      "execution_count": null,
      "metadata": {
        "colab": {
          "base_uri": "https://localhost:8080/"
        },
        "id": "YUPK_WUH0VIX",
        "outputId": "88b44b19-bfc6-4a1c-efd7-8ec8ea5f9c4a"
      },
      "outputs": [
        {
          "output_type": "stream",
          "name": "stdout",
          "text": [
            "Number of parameters: 365347840\n",
            "\n"
          ]
        },
        {
          "output_type": "execute_result",
          "data": {
            "text/plain": [
              "BERT(\n",
              "  (embedding): Embedding(\n",
              "    (tok_embed): Embedding(30522, 1024)\n",
              "    (pos_embed): Embedding(512, 1024)\n",
              "    (seg_embed): Embedding(2, 1024)\n",
              "  )\n",
              "  (encoder_blocks): ModuleList(\n",
              "    (0-23): 24 x EncoderBlock(\n",
              "      (connection1): ResidualConnection(\n",
              "        (norm): LayerNorm((1024,), eps=1e-05, elementwise_affine=True)\n",
              "        (dropout): Dropout(p=0.1, inplace=False)\n",
              "      )\n",
              "      (mhsa): MultiHeadSelfAttention(\n",
              "        (W_Q): Linear(in_features=1024, out_features=1024, bias=True)\n",
              "        (W_K): Linear(in_features=1024, out_features=1024, bias=True)\n",
              "        (W_V): Linear(in_features=1024, out_features=1024, bias=True)\n",
              "        (attn): ScaledDotProductAttention(\n",
              "          (dropout): Dropout(p=0.1, inplace=False)\n",
              "        )\n",
              "        (proj_back): Linear(in_features=1024, out_features=1024, bias=True)\n",
              "      )\n",
              "      (connection2): ResidualConnection(\n",
              "        (norm): LayerNorm((1024,), eps=1e-05, elementwise_affine=True)\n",
              "        (dropout): Dropout(p=0.1, inplace=False)\n",
              "      )\n",
              "      (pwff): PointwiseFeedForwardNet(\n",
              "        (fc1): Linear(in_features=1024, out_features=4096, bias=True)\n",
              "        (gelu): GELU(approximate='none')\n",
              "        (fc2): Linear(in_features=4096, out_features=1024, bias=True)\n",
              "        (dropout): Dropout(p=0.1, inplace=False)\n",
              "      )\n",
              "    )\n",
              "  )\n",
              "  (ln_final): LayerNorm((1024,), eps=1e-05, elementwise_affine=True)\n",
              "  (proj_head): Linear(in_features=1024, out_features=30522, bias=False)\n",
              "  (classifier): Linear(in_features=1024, out_features=1, bias=False)\n",
              ")"
            ]
          },
          "metadata": {},
          "execution_count": 11
        }
      ],
      "source": [
        "# --- BERT LARGE hyperparameters config ---\n",
        "vocab_size= 30522\n",
        "input_length= 512\n",
        "n_segments= 2\n",
        "N= 24\n",
        "d_model= 1024\n",
        "d_ff= 4 * d_model\n",
        "h= 16\n",
        "dk= 64\n",
        "dv= 64\n",
        "dropout=0.1\n",
        "\n",
        "model= BERT(vocab_size, input_length, n_segments, N, d_model, d_ff, h, dk, dv, dropout).to(device)\n",
        "\n",
        "total_params= sum(p.numel() for p in model.parameters() if p.requires_grad)\n",
        "print(f'Number of parameters: {total_params}\\n')\n",
        "\n",
        "model"
      ]
    },
    {
      "cell_type": "markdown",
      "source": [
        "# Pre-Training BERT\n",
        "\n",
        "Self Supervised Training for pre training the model\n",
        "\n",
        "- BERT uses a pre training step which is designed to encourage the model to understand language generally, then allows for fine tuning to allow the model to learn specific tasks.\n",
        "\n",
        "- BERT is pre-trained on two objectives simultaneously: \"masked language modeling\", which is like fill in the blank, and \"next sentence prediction\" which is essentially asking the model to predict of two sentences make sense with one another."
      ],
      "metadata": {
        "id": "Zc1H__Ki-sqI"
      }
    },
    {
      "cell_type": "code",
      "source": [
        "def self_supervised_train(model, sen_loc_batches, seq_tkn_batches, labels_batches,\n",
        "                          lr=1e-3, epochs=50, verbose:bool=True):\n",
        "\n",
        "    # expect indices, not one-hot vectors\n",
        "    token_criterion= nn.CrossEntropyLoss()\n",
        "    # for logits directly\n",
        "    classification_criterion= nn.BCEWithLogitsLoss()\n",
        "\n",
        "    optimizer= optim.Adam(model.parameters(), lr=lr)\n",
        "\n",
        "    # keeping track of the losses across all epochs\n",
        "    losses= [[]]\n",
        "\n",
        "    # these epochs can take a while, keeping it at a fairly small number\n",
        "    for epoch in range(epochs):\n",
        "        for location_batch, sequence_batch, classtarg_batch in tqdm(zip(sen_loc_batches,\n",
        "                                                                        seq_tkn_batches,\n",
        "                                                                        labels_batches)):\n",
        "            # zeroing out gradients from last iteration\n",
        "            optimizer.zero_grad()\n",
        "\n",
        "            # masking the tokens in the input sequence\n",
        "            masked_tokens, masked_token_locations= mask_batch(sequence_batch)\n",
        "\n",
        "            # generating class and masked token predictions\n",
        "            clsf_logits, token_logits= model(masked_tokens, location_batch, masked_token_locations)\n",
        "\n",
        "            # setting up target for masked token prediction\n",
        "            masked_token_targets= sequence_batch[masked_token_locations.bool()]\n",
        "\n",
        "            # calculating loss for masked language modeling\n",
        "            loss_mlm= token_criterion(token_logits, masked_token_targets)\n",
        "\n",
        "            # calculating loss for next sentence classification\n",
        "            loss_clsf= classification_criterion(clsf_logits.squeeze(), classtarg_batch.float())\n",
        "\n",
        "            # combining losses\n",
        "            loss= loss_mlm + loss_clsf\n",
        "\n",
        "            # keeping track of loss across the current epoch\n",
        "            losses[-1].append(float(loss))\n",
        "\n",
        "            # backpropagation\n",
        "            loss.backward()\n",
        "            optimizer.step()\n",
        "\n",
        "\n",
        "        if verbose:\n",
        "            print(f'=======Epoch {epoch} Completed=======')\n",
        "            print(f'Average loss in this epoch: {np.mean(losses[-1])}')\n",
        "        losses.append([])\n",
        "\n",
        "    return losses\n"
      ],
      "metadata": {
        "id": "zW3VEdatqoYI"
      },
      "execution_count": null,
      "outputs": []
    },
    {
      "cell_type": "code",
      "execution_count": null,
      "metadata": {
        "colab": {
          "base_uri": "https://localhost:8080/"
        },
        "id": "lOfeOHWS0VMn",
        "outputId": "5662036b-d669-4ff1-bbd3-692092a78f32"
      },
      "outputs": [
        {
          "output_type": "stream",
          "name": "stderr",
          "text": [
            "7311it [18:08,  6.72it/s]\n"
          ]
        },
        {
          "output_type": "stream",
          "name": "stdout",
          "text": [
            "=======Epoch 0 Completed=======\n",
            "Average loss in this epoch: 7.618604445715085\n"
          ]
        },
        {
          "output_type": "stream",
          "name": "stderr",
          "text": [
            "7311it [16:55,  7.20it/s]\n"
          ]
        },
        {
          "output_type": "stream",
          "name": "stdout",
          "text": [
            "=======Epoch 1 Completed=======\n",
            "Average loss in this epoch: 7.4066862244724065\n"
          ]
        },
        {
          "output_type": "stream",
          "name": "stderr",
          "text": [
            "7311it [16:53,  7.21it/s]\n"
          ]
        },
        {
          "output_type": "stream",
          "name": "stdout",
          "text": [
            "=======Epoch 2 Completed=======\n",
            "Average loss in this epoch: 7.373141652499744\n"
          ]
        },
        {
          "output_type": "stream",
          "name": "stderr",
          "text": [
            "7311it [16:48,  7.25it/s]\n"
          ]
        },
        {
          "output_type": "stream",
          "name": "stdout",
          "text": [
            "=======Epoch 3 Completed=======\n",
            "Average loss in this epoch: 7.358185444757365\n"
          ]
        },
        {
          "output_type": "stream",
          "name": "stderr",
          "text": [
            "7311it [16:50,  7.23it/s]\n"
          ]
        },
        {
          "output_type": "stream",
          "name": "stdout",
          "text": [
            "=======Epoch 4 Completed=======\n",
            "Average loss in this epoch: 7.338351139469848\n"
          ]
        },
        {
          "output_type": "stream",
          "name": "stderr",
          "text": [
            "7311it [16:42,  7.29it/s]\n"
          ]
        },
        {
          "output_type": "stream",
          "name": "stdout",
          "text": [
            "=======Epoch 5 Completed=======\n",
            "Average loss in this epoch: 7.31868136028571\n"
          ]
        },
        {
          "output_type": "stream",
          "name": "stderr",
          "text": [
            "7311it [16:32,  7.36it/s]\n"
          ]
        },
        {
          "output_type": "stream",
          "name": "stdout",
          "text": [
            "=======Epoch 6 Completed=======\n",
            "Average loss in this epoch: 7.299446144242275\n"
          ]
        },
        {
          "output_type": "stream",
          "name": "stderr",
          "text": [
            "7311it [16:44,  7.27it/s]\n"
          ]
        },
        {
          "output_type": "stream",
          "name": "stdout",
          "text": [
            "=======Epoch 7 Completed=======\n",
            "Average loss in this epoch: 7.287740415007777\n"
          ]
        },
        {
          "output_type": "stream",
          "name": "stderr",
          "text": [
            "7311it [16:44,  7.28it/s]\n"
          ]
        },
        {
          "output_type": "stream",
          "name": "stdout",
          "text": [
            "=======Epoch 8 Completed=======\n",
            "Average loss in this epoch: 7.276668093074381\n"
          ]
        },
        {
          "output_type": "stream",
          "name": "stderr",
          "text": [
            "7311it [16:46,  7.26it/s]"
          ]
        },
        {
          "output_type": "stream",
          "name": "stdout",
          "text": [
            "=======Epoch 9 Completed=======\n",
            "Average loss in this epoch: 7.268032291489576\n"
          ]
        },
        {
          "output_type": "stream",
          "name": "stderr",
          "text": [
            "\n"
          ]
        }
      ],
      "source": [
        "# --- BERT NANO (17M params) hyperparameters config ---\n",
        "vocab_size= tokenizer.vocab_size\n",
        "input_length= max_input_length\n",
        "n_segments= 2\n",
        "N= 2\n",
        "d_model= 256\n",
        "d_ff= 4 * d_model\n",
        "h= 4\n",
        "dk= 64\n",
        "dv= 64\n",
        "dropout=0.1\n",
        "\n",
        "model= BERT(vocab_size, input_length, n_segments, N, d_model, d_ff, h, dk, dv, dropout).to(device)\n",
        "\n",
        "losses_hist= self_supervised_train(model, sentence_location_batches, sequence_tokens_batches,\n",
        "                                   is_positives_batches, lr=0.001, epochs=10)"
      ]
    },
    {
      "cell_type": "markdown",
      "source": [
        "Working through some highlights:\n",
        "- We define our model, and put it on the device (a CPU or GPU)\n",
        "- We define \"criteria\", these are the functions which will calculate the loss (how wrong the model was) from masked language modeling and next sentence prediction\n",
        "- We define an optimizer, which will look at how large the loss was and update the model accordingly\n",
        "- We go over all the data over n epochs\n",
        "- We iterate over all batches of the data\n",
        "- We mask our batch randomly with the masking function we defined previously\n",
        "- We run the masked tokens, along with location information and where the masked tokens are, through the model. We get back predictions for next sentence prediction and predictions as to what the model thinks each masked token should be\n",
        "- We pass our predictions through each respective criterion, with what the outputs should have been, to calculate loss\n",
        "- We call loss.backward() to calculate how the model should change to be less wrong at this particular example\n",
        "- We allow the optimizer to update the model based on the model's performance on this batch"
      ],
      "metadata": {
        "id": "IPxomptS-2mf"
      }
    },
    {
      "cell_type": "markdown",
      "metadata": {
        "id": "HV3lwQVI9LXQ"
      },
      "source": [
        "# Fine Tuning BERT"
      ]
    },
    {
      "cell_type": "markdown",
      "source": [
        "The exact process of fine tuning depends on the type of data you're trying to fine tune against. Let's use sentiment analysis as an example.\n",
        "\n",
        "Now have a BERT model that has some understanding of text. Let's use it to do something. The amazon_polarity dataset is an open dataset from amazon that contains information about whether a review is positive or negative. It consists of a big batch of review titles, review content, and labels saying if the review is positive or negative."
      ],
      "metadata": {
        "id": "QT0or_F4_FCl"
      }
    },
    {
      "cell_type": "code",
      "execution_count": null,
      "metadata": {
        "colab": {
          "base_uri": "https://localhost:8080/",
          "height": 310,
          "referenced_widgets": [
            "74afde58b0ff45e991a3ea73a569abd8",
            "5ac8faf9bb7e4f13a00a9616032f5c09",
            "a6de591bb09648bebc93f5752e4fbb95",
            "599f3a11718045328be659c4c3248de5",
            "1f9dd9a7c3d94d569af551301989f280",
            "c1a45a513e0b4b46b39f881c23784073",
            "4f8d85f106264c6d8e6847d2c79310b1",
            "7e7d0881870a45f69fdc37fba70e5bdf",
            "0509c7233ae04d6abdffba20a1da4900",
            "b56a0b63ba384d1ca548a1b36e6265ac",
            "fbf93a43d947427898bc5ba761fccfd1",
            "06240a74e55c4426bac28fe695036bbb",
            "88e0f89236d64faea7f57d26b9bf1384",
            "91e8ac52037e475aacc1922340a52ac1",
            "48a2152104374175aea0c619e50cd0f5",
            "52fdec9a5ec84095a89daf5e49887afe",
            "90397be8306e43f0b02414c879f16bd8",
            "9c65dd15225f481dafc75c4800b89e86",
            "dd39a234d7104689b7646be1b289d6c2",
            "bdd34abe49294d3eba0a7eb658d723eb",
            "5e53b7f3b2e84882879cc6f664d2be3e",
            "e4d05dd84b014e83847ee38edf0ad67f",
            "76137d9bba644a0abda83e7c5ef9ec85",
            "92cc035cadf54d47b6bf12701e9ca9b7",
            "b36a650f6351490cbc30e23f524ba2c0",
            "a4de6cd330024b238cc6a1a1277aa73f",
            "c5c74e84048e4beaa01a620ac3ed8ed7",
            "c88ba76dbfbb4a2c9aa29bf769a79177",
            "1f4cd0f81ff14c0a82fa6a2a160a16db",
            "12f024cee61847569547ba21e7088944",
            "0283aab51c2444199d487974d1b2ceff",
            "a1b3c33fc8534d4d808ba387d8c7b1fb",
            "84db23ef078745f1a0f1ce18f14f37f3",
            "51e480fb191343b2bee35557ab023164",
            "e62168a56d5243db99d8a7947fd38040",
            "22fcc414097a4ebf82a01014cb343d73",
            "0b633e5bc5914db5967fc60758902b47",
            "ee7ed50848a84ff2aaf48c531dc74d1b",
            "f243d80fcb954b5b8b987de4e5ef96b1",
            "f984aba743d747da89220265428dfe0e",
            "bcff118d73384313ad48016e1effcf8e",
            "2f172c204c6144ebbbe1ac8879c95adf",
            "5072d16105cc4019af9be5c45121d0fb",
            "7ddd7071dc5e48b896c870f3c3909e59",
            "432c6e5d35bc4cc991d783fb574a3ed3",
            "5f455dbbc84a438289b852359c309743",
            "65d4bbf4155147098ce168b669240f25",
            "b194de43afb947ef98d24412cc5ec339",
            "52d367ad719a4f6dba7ba9e36230540a",
            "db9c66294c0449ac9d1df6306f449d44",
            "98772605c3ee4265aab4dea2daaa77d0",
            "98c31c929f9d42a2bb9405c89d703404",
            "de1f09080acc44baa8506d50306c6962",
            "40d74a9e8439449ba2b0642dbd7ee019",
            "00f91b1c8b00484987c9d502fb256dae",
            "aaf8afdb6ebe4b4d9ab806ebc6afe18b",
            "72f9325c6be54953a89cc246df63e371",
            "3cb798da386d4636a09c07fb3dd6c5a7",
            "3fe508a52aee449fbf4bb72b5bba753d",
            "34d493d75aee4ad8b48b33c1902ecf19",
            "1853646d016d466387efedb2932fc248",
            "287f02c24b2046f69837b657105e17fa",
            "0eb726e8ca9b42bba4669c12c6ce495d",
            "9d59c8a4e01f4543a568dd8f493f87a4",
            "f160843681b54325993e132fb112ca41",
            "d9ba902b1df842348f421ec988562497",
            "70abc6e296e044db9aedf558d9ad67ac",
            "627227dad7ec44c7a2d7ef591cc77133",
            "ce123202452d4156ab5c261a65f7fc55",
            "859933eef1294a78970e377ff030c42c",
            "665abe5afcf040c5bb73a7cddf36b8fb",
            "63850ffd5fb349ec90cf9983b6e1841c",
            "391e1b136dcf42f08d902b16b029cddb",
            "978453007e194d33b1041e061e5bec9f",
            "6c476293a265428489f338c0b721bd97",
            "2c4967484a0449e39c6c8d27ed66e1a1",
            "de87c69dc4024535bffa2938cc6a6bdd",
            "78afe6fe5db540fd8203a47acba9785e",
            "5ec9d619ee8f4b2fb38ee61fd8b2e5bb",
            "b9e9e54c5d024b6b8764e1ca49c33e61",
            "78dd864a628e46ebbbaf95166065964a",
            "e1b185ab9a964dc3ab668fe99dbcc099",
            "4b72f2d5a61d446f933758e16da481ca",
            "f345dad92ead424888f66a791f65311d",
            "2a65185012194e31a19504959bdda6c7",
            "f534961ae5514ba99a1ccac27afc0135",
            "76a313e177c2438f809da621102da85e",
            "a47f500efa594d538dfcd22526dd7986"
          ]
        },
        "id": "mG1e_iO74-X3",
        "outputId": "bbe3abfc-2a56-4722-88cd-5fa93242140e"
      },
      "outputs": [
        {
          "output_type": "display_data",
          "data": {
            "text/plain": [
              "README.md:   0%|          | 0.00/6.81k [00:00<?, ?B/s]"
            ],
            "application/vnd.jupyter.widget-view+json": {
              "version_major": 2,
              "version_minor": 0,
              "model_id": "74afde58b0ff45e991a3ea73a569abd8"
            }
          },
          "metadata": {}
        },
        {
          "output_type": "display_data",
          "data": {
            "text/plain": [
              "train-00000-of-00004.parquet:   0%|          | 0.00/260M [00:00<?, ?B/s]"
            ],
            "application/vnd.jupyter.widget-view+json": {
              "version_major": 2,
              "version_minor": 0,
              "model_id": "06240a74e55c4426bac28fe695036bbb"
            }
          },
          "metadata": {}
        },
        {
          "output_type": "display_data",
          "data": {
            "text/plain": [
              "train-00001-of-00004.parquet:   0%|          | 0.00/258M [00:00<?, ?B/s]"
            ],
            "application/vnd.jupyter.widget-view+json": {
              "version_major": 2,
              "version_minor": 0,
              "model_id": "76137d9bba644a0abda83e7c5ef9ec85"
            }
          },
          "metadata": {}
        },
        {
          "output_type": "display_data",
          "data": {
            "text/plain": [
              "train-00002-of-00004.parquet:   0%|          | 0.00/255M [00:00<?, ?B/s]"
            ],
            "application/vnd.jupyter.widget-view+json": {
              "version_major": 2,
              "version_minor": 0,
              "model_id": "51e480fb191343b2bee35557ab023164"
            }
          },
          "metadata": {}
        },
        {
          "output_type": "display_data",
          "data": {
            "text/plain": [
              "train-00003-of-00004.parquet:   0%|          | 0.00/254M [00:00<?, ?B/s]"
            ],
            "application/vnd.jupyter.widget-view+json": {
              "version_major": 2,
              "version_minor": 0,
              "model_id": "432c6e5d35bc4cc991d783fb574a3ed3"
            }
          },
          "metadata": {}
        },
        {
          "output_type": "display_data",
          "data": {
            "text/plain": [
              "test-00000-of-00001.parquet:   0%|          | 0.00/117M [00:00<?, ?B/s]"
            ],
            "application/vnd.jupyter.widget-view+json": {
              "version_major": 2,
              "version_minor": 0,
              "model_id": "aaf8afdb6ebe4b4d9ab806ebc6afe18b"
            }
          },
          "metadata": {}
        },
        {
          "output_type": "display_data",
          "data": {
            "text/plain": [
              "Generating train split:   0%|          | 0/3600000 [00:00<?, ? examples/s]"
            ],
            "application/vnd.jupyter.widget-view+json": {
              "version_major": 2,
              "version_minor": 0,
              "model_id": "70abc6e296e044db9aedf558d9ad67ac"
            }
          },
          "metadata": {}
        },
        {
          "output_type": "display_data",
          "data": {
            "text/plain": [
              "Generating test split:   0%|          | 0/400000 [00:00<?, ? examples/s]"
            ],
            "application/vnd.jupyter.widget-view+json": {
              "version_major": 2,
              "version_minor": 0,
              "model_id": "78afe6fe5db540fd8203a47acba9785e"
            }
          },
          "metadata": {}
        },
        {
          "output_type": "stream",
          "name": "stdout",
          "text": [
            "{'label': 1, 'title': 'Stuning even for the non-gamer', 'content': 'This sound track was beautiful! It paints the senery in your mind so well I would recomend it even to people who hate vid. game music! I have played the game Chrono Cross but out of all of the games I have ever played it has the best music! It backs away from crude keyboarding and takes a fresher step with grate guitars and soulful orchestras. It would impress anyone who cares to listen! ^_^'}\n"
          ]
        }
      ],
      "source": [
        "fine_tune_ds= load_dataset('fancyzhx/amazon_polarity')\n",
        "\n",
        "for elem in fine_tune_ds['train']:\n",
        "    print(elem)\n",
        "    break"
      ]
    },
    {
      "cell_type": "markdown",
      "source": [
        "We are going to use this data to fine tune our BERT model to predict if the review is positive or negative.\n",
        "\n",
        "First we need to turn this data into data that makes sense in a BERT model. The exact approach for this process can vary from task to task. Luckily for us this dataset consists of pairs of sentences (the title and content) so we can format the fine-tuned data just like we formatted the pre-training data previously."
      ],
      "metadata": {
        "id": "3nJ2TopS_QY7"
      }
    },
    {
      "cell_type": "code",
      "source": [
        "def preprocess_ft_data(data, input_length, max_num=100000):\n",
        "\n",
        "    data_tokens= []\n",
        "    data_positional= []\n",
        "    data_targets= []\n",
        "\n",
        "    # unpacking data\n",
        "    for i, elem in enumerate(data):\n",
        "\n",
        "        # tokenizing the title and content\n",
        "        sentence1= elem['title']\n",
        "        sentence2= elem['content']\n",
        "        tokens= tokenizer([sentence1, sentence2])\n",
        "        sentence1_tokens= tokens['input_ids'][0]\n",
        "        sentence2_tokens= tokens['input_ids'][1]\n",
        "\n",
        "        # trimming down tokens\n",
        "        if len(sentence1_tokens) + len(sentence2_tokens) > input_length:\n",
        "            sentence1_tokens= [101] + sentence1_tokens[-int(input_length / 2) + 1:]\n",
        "            sentence2_tokens= sentence2_tokens[:int(input_length / 2) - 1] + [102]\n",
        "\n",
        "        # creating sentence tokens\n",
        "        sentence_tokens= [0] * len(sentence1_tokens) + [1] * len(sentence2_tokens)\n",
        "\n",
        "        # combining and padding\n",
        "        pad_num= input_length - (len(sentence1_tokens) + len(sentence2_tokens))\n",
        "        sequence_tokens= sentence1_tokens + sentence2_tokens + [0] * pad_num\n",
        "        sentence_location_tokens= sentence_tokens + [1] * pad_num\n",
        "\n",
        "        data_tokens.append(sequence_tokens)\n",
        "        data_positional.append(sentence_location_tokens)\n",
        "        data_targets.append(elem['label'])\n",
        "\n",
        "        if i> max_num:\n",
        "            break\n",
        "\n",
        "    return torch.tensor(data_positional), torch.tensor(data_tokens), torch.tensor(data_targets)\n"
      ],
      "metadata": {
        "id": "-kQi6L9UrMOe"
      },
      "execution_count": null,
      "outputs": []
    },
    {
      "cell_type": "code",
      "execution_count": null,
      "metadata": {
        "id": "vAXZO1BW4-as"
      },
      "outputs": [],
      "source": [
        "# processing data into modeling data\n",
        "train_pos, train_tok, train_targ= preprocess_ft_data(fine_tune_ds['train'], max_input_length)\n",
        "test_pos, test_tok, test_targ= preprocess_ft_data(fine_tune_ds['test'], max_input_length)\n",
        "\n",
        "# moving training to device\n",
        "train_pos= train_pos.to(device)\n",
        "train_tok= train_tok.to(device)\n",
        "train_targ= train_targ.to(device)\n",
        "\n",
        "# moving testing to device\n",
        "test_pos= test_pos.to(device)\n",
        "test_tok= test_tok.to(device)\n",
        "test_targ= test_targ.to(device)"
      ]
    },
    {
      "cell_type": "markdown",
      "source": [
        "Supervised Training for fine tuning the model We can run the same pre training code as before, except on the fine tuned dataset and with the pre-trained model with a new classification head. Here we don't care about the masked language\n",
        "modeling objective, so we are passing the original tokens into the model rather than the masked ones. If you wanted to do this properly you would artificially create a mask of all zeros.\n",
        "\n",
        "Actually, when I ran this model I forgot to change any of this code, so I was still optimizing on masked language modeling as well as optimizing on the the classification of positive or negative reviews. I'm sure you could experiment with that strategy, there might be some merit to getting the model to better understand the type of text used in reviews specifically."
      ],
      "metadata": {
        "id": "IaproXls_fVv"
      }
    },
    {
      "cell_type": "code",
      "source": [
        "def supervised_train(model, train_loc_batches, train_tkn_batches, train_lbl_batches, batch_size,\n",
        "                     lr=1e-3, epochs=50, verbose:bool=True):\n",
        "\n",
        "    # for logits directly\n",
        "    classification_criterion= nn.BCEWithLogitsLoss()\n",
        "\n",
        "    # resetting the optimizer to have access to the parameters of the new head\n",
        "    optimizer= optim.Adam(model.parameters(), lr=lr)\n",
        "\n",
        "    ft_losses= [[] * 1]\n",
        "\n",
        "    for epoch in range(epochs):\n",
        "        for i in tqdm(range(0, train_loc_batches.shape[0], batch_size)):\n",
        "\n",
        "            if i+batch_size>= train_loc_batches.shape[0]:\n",
        "                break\n",
        "\n",
        "            # getting batch\n",
        "            train_pos_batch = train_loc_batches[i:i+batch_size]\n",
        "            train_tok_batch = train_tkn_batches[i:i+batch_size]\n",
        "            train_targ_batch= train_lbl_batches[i:i+batch_size]\n",
        "\n",
        "            # zeroing out gradients from last iteration\n",
        "            optimizer.zero_grad()\n",
        "\n",
        "            # masking the tokens in the input sequence\n",
        "            masked_tokens, masked_token_locations= mask_batch(train_tok_batch)\n",
        "\n",
        "            # generating class and masked token predictions -- we do not use masked_tokens in the\n",
        "            # fine tuning process since after we train our model, the [MASK] token will never be\n",
        "            # seen when the model is actually being used and making inferences.\n",
        "            clsf_logits, token_logits= model(train_tok_batch, train_pos_batch, masked_token_locations)\n",
        "\n",
        "            # setting up target for masked token prediction -- not used in fine tuning\n",
        "            #masked_token_targets= train_tok_batch[masked_token_locations.bool()]\n",
        "\n",
        "            # calculating loss for next sentence classification\n",
        "            loss_clsf= classification_criterion(clsf_logits.squeeze(), train_targ_batch.float())\n",
        "\n",
        "            # combining losses -- we are not optimizing the masked language modeling objective\n",
        "            loss= loss_clsf\n",
        "\n",
        "            ft_losses[-1].append(float(loss))\n",
        "\n",
        "            # backpropagation\n",
        "            loss.backward()\n",
        "            optimizer.step()\n",
        "\n",
        "        if verbose:\n",
        "            print(f'=======Epoch {epoch} Completed=======')\n",
        "            print(f'Average loss in this epoch: {np.mean(ft_losses[-1])}')\n",
        "        ft_losses.append([])\n",
        "\n",
        "    return ft_losses\n"
      ],
      "metadata": {
        "id": "CKYsoXvprPty"
      },
      "execution_count": null,
      "outputs": []
    },
    {
      "cell_type": "markdown",
      "source": [
        "Before we fine tune let's replace the classifier with a randomly initialized model. This allows us to preserve BERT's general language understanding, but start fresh in terms of the part of the model that's doing the classification, which is good to do because we are classifying something completely different."
      ],
      "metadata": {
        "id": "Apf62_SE_Y2b"
      }
    },
    {
      "cell_type": "code",
      "execution_count": null,
      "metadata": {
        "id": "KBgiPdLYGtMx",
        "colab": {
          "base_uri": "https://localhost:8080/"
        },
        "outputId": "21d0d9d3-94de-4a82-f099-609faba569a3"
      },
      "outputs": [
        {
          "output_type": "stream",
          "name": "stderr",
          "text": [
            "100%|█████████▉| 781/782 [01:31<00:00,  8.50it/s]\n"
          ]
        },
        {
          "output_type": "stream",
          "name": "stdout",
          "text": [
            "=======Epoch 0 Completed=======\n",
            "Average loss in this epoch: 0.5975763738231683\n"
          ]
        },
        {
          "output_type": "stream",
          "name": "stderr",
          "text": [
            "100%|█████████▉| 781/782 [01:29<00:00,  8.76it/s]\n"
          ]
        },
        {
          "output_type": "stream",
          "name": "stdout",
          "text": [
            "=======Epoch 1 Completed=======\n",
            "Average loss in this epoch: 0.4568517957927323\n"
          ]
        },
        {
          "output_type": "stream",
          "name": "stderr",
          "text": [
            "100%|█████████▉| 781/782 [01:30<00:00,  8.60it/s]\n"
          ]
        },
        {
          "output_type": "stream",
          "name": "stdout",
          "text": [
            "=======Epoch 2 Completed=======\n",
            "Average loss in this epoch: 0.3947166712542044\n"
          ]
        },
        {
          "output_type": "stream",
          "name": "stderr",
          "text": [
            "100%|█████████▉| 781/782 [01:29<00:00,  8.72it/s]\n"
          ]
        },
        {
          "output_type": "stream",
          "name": "stdout",
          "text": [
            "=======Epoch 3 Completed=======\n",
            "Average loss in this epoch: 0.359711596434614\n"
          ]
        },
        {
          "output_type": "stream",
          "name": "stderr",
          "text": [
            "100%|█████████▉| 781/782 [01:30<00:00,  8.62it/s]\n"
          ]
        },
        {
          "output_type": "stream",
          "name": "stdout",
          "text": [
            "=======Epoch 4 Completed=======\n",
            "Average loss in this epoch: 0.3369802456353904\n"
          ]
        },
        {
          "output_type": "stream",
          "name": "stderr",
          "text": [
            "100%|█████████▉| 781/782 [01:29<00:00,  8.73it/s]\n"
          ]
        },
        {
          "output_type": "stream",
          "name": "stdout",
          "text": [
            "=======Epoch 5 Completed=======\n",
            "Average loss in this epoch: 0.31829915106983403\n"
          ]
        },
        {
          "output_type": "stream",
          "name": "stderr",
          "text": [
            "100%|█████████▉| 781/782 [01:30<00:00,  8.58it/s]\n"
          ]
        },
        {
          "output_type": "stream",
          "name": "stdout",
          "text": [
            "=======Epoch 6 Completed=======\n",
            "Average loss in this epoch: 0.30147400132062036\n"
          ]
        },
        {
          "output_type": "stream",
          "name": "stderr",
          "text": [
            "100%|█████████▉| 781/782 [01:31<00:00,  8.54it/s]\n"
          ]
        },
        {
          "output_type": "stream",
          "name": "stdout",
          "text": [
            "=======Epoch 7 Completed=======\n",
            "Average loss in this epoch: 0.2875791148362483\n"
          ]
        },
        {
          "output_type": "stream",
          "name": "stderr",
          "text": [
            "100%|█████████▉| 781/782 [01:29<00:00,  8.68it/s]\n"
          ]
        },
        {
          "output_type": "stream",
          "name": "stdout",
          "text": [
            "=======Epoch 8 Completed=======\n",
            "Average loss in this epoch: 0.27459024081767447\n"
          ]
        },
        {
          "output_type": "stream",
          "name": "stderr",
          "text": [
            "100%|█████████▉| 781/782 [01:29<00:00,  8.69it/s]\n"
          ]
        },
        {
          "output_type": "stream",
          "name": "stdout",
          "text": [
            "=======Epoch 9 Completed=======\n",
            "Average loss in this epoch: 0.2645113267548258\n"
          ]
        },
        {
          "output_type": "stream",
          "name": "stderr",
          "text": [
            "100%|█████████▉| 781/782 [01:30<00:00,  8.63it/s]\n"
          ]
        },
        {
          "output_type": "stream",
          "name": "stdout",
          "text": [
            "=======Epoch 10 Completed=======\n",
            "Average loss in this epoch: 0.2537397682266107\n"
          ]
        },
        {
          "output_type": "stream",
          "name": "stderr",
          "text": [
            "100%|█████████▉| 781/782 [01:30<00:00,  8.61it/s]\n"
          ]
        },
        {
          "output_type": "stream",
          "name": "stdout",
          "text": [
            "=======Epoch 11 Completed=======\n",
            "Average loss in this epoch: 0.24425093834401704\n"
          ]
        },
        {
          "output_type": "stream",
          "name": "stderr",
          "text": [
            "100%|█████████▉| 781/782 [01:29<00:00,  8.69it/s]\n"
          ]
        },
        {
          "output_type": "stream",
          "name": "stdout",
          "text": [
            "=======Epoch 12 Completed=======\n",
            "Average loss in this epoch: 0.23666734255077593\n"
          ]
        },
        {
          "output_type": "stream",
          "name": "stderr",
          "text": [
            "100%|█████████▉| 781/782 [01:31<00:00,  8.58it/s]\n"
          ]
        },
        {
          "output_type": "stream",
          "name": "stdout",
          "text": [
            "=======Epoch 13 Completed=======\n",
            "Average loss in this epoch: 0.2266305345331203\n"
          ]
        },
        {
          "output_type": "stream",
          "name": "stderr",
          "text": [
            "100%|█████████▉| 781/782 [01:29<00:00,  8.74it/s]"
          ]
        },
        {
          "output_type": "stream",
          "name": "stdout",
          "text": [
            "=======Epoch 14 Completed=======\n",
            "Average loss in this epoch: 0.21977813532349394\n"
          ]
        },
        {
          "output_type": "stream",
          "name": "stderr",
          "text": [
            "\n"
          ]
        }
      ],
      "source": [
        "# the new training objective is still binary classification, except these parameters will be used\n",
        "# to decide if a review was positive or negative\n",
        "model.classifier= nn.Linear(d_model, 1, bias=False).to(device)\n",
        "\n",
        "losses_hist= supervised_train(model, train_pos, train_tok, train_targ, batch_size,\n",
        "                              lr=0.001, epochs=15)"
      ]
    },
    {
      "cell_type": "markdown",
      "source": [
        "This dataset has a test set, so we can apply this fine tuned BERT model to see how good it is at classifying reviews it's never seen before."
      ],
      "metadata": {
        "id": "l_d2eG7trcuY"
      }
    },
    {
      "cell_type": "code",
      "source": [
        "def test_accuracy(model, test_loc_batches, test_tkn_batches, test_lbl_batches, batch_size):\n",
        "\n",
        "    is_correct= []\n",
        "    predicted_class= []\n",
        "    original_class= []\n",
        "\n",
        "    for i in tqdm(range(0, test_loc_batches.shape[0], batch_size)):\n",
        "\n",
        "        if i+batch_size>= test_loc_batches.shape[0]:\n",
        "            break\n",
        "\n",
        "        # getting batch\n",
        "        test_pos_batch = test_loc_batches[i:i+batch_size]\n",
        "        test_tok_batch = test_tkn_batches[i:i+batch_size]\n",
        "        test_targ_batch= test_lbl_batches[i:i+batch_size]\n",
        "\n",
        "        # making prediction, not masking anything\n",
        "        clsf_logits, _= model(test_tok_batch, test_pos_batch, torch.zeros(test_pos_batch.shape))\n",
        "\n",
        "        # converting logits to probabilities then rounding to classifications\n",
        "        res= torch.sigmoid(clsf_logits).round().squeeze()\n",
        "\n",
        "        # keeping track of the original class (positive or negative) and if the model was correct\n",
        "        original_class.extend(np.array(test_targ_batch.to('cpu')))\n",
        "        is_correct.extend(np.array((res== test_targ_batch).to('cpu')))\n",
        "        predicted_class.extend(np.array(res.detach().to('cpu')))\n",
        "\n",
        "    # accuracy rate, original_class, and predicted_class\n",
        "    return (sum(list(is_correct)) / len(is_correct)), original_class, predicted_class\n"
      ],
      "metadata": {
        "id": "5sJxtaCcrWhZ"
      },
      "execution_count": null,
      "outputs": []
    },
    {
      "cell_type": "code",
      "execution_count": null,
      "metadata": {
        "id": "IJxikJVBGtRT",
        "colab": {
          "base_uri": "https://localhost:8080/"
        },
        "outputId": "c7fb7f34-cbe8-4eeb-a279-f56bdf332b92"
      },
      "outputs": [
        {
          "output_type": "stream",
          "name": "stderr",
          "text": [
            "100%|█████████▉| 781/782 [00:08<00:00, 89.53it/s]"
          ]
        },
        {
          "output_type": "stream",
          "name": "stdout",
          "text": [
            "\n",
            "BERT-based model accuracy: 84.78%\n"
          ]
        },
        {
          "output_type": "stream",
          "name": "stderr",
          "text": [
            "\n"
          ]
        }
      ],
      "source": [
        "acc, original_class, predicted_class= test_accuracy(model, test_pos, test_tok, test_targ, batch_size)\n",
        "print(f'\\nBERT-based model accuracy: {(acc * 100):02.2f}%')"
      ]
    },
    {
      "cell_type": "code",
      "execution_count": null,
      "metadata": {
        "id": "nNpMG5YjGtgp",
        "colab": {
          "base_uri": "https://localhost:8080/"
        },
        "outputId": "18af8671-b52a-4b2b-bbb7-94526e6ebd71"
      },
      "outputs": [
        {
          "output_type": "stream",
          "name": "stdout",
          "text": [
            "              precision    recall  f1-score   support\n",
            "\n",
            "           0       0.85      0.85      0.85     49405\n",
            "           1       0.85      0.85      0.85     50563\n",
            "\n",
            "    accuracy                           0.85     99968\n",
            "   macro avg       0.85      0.85      0.85     99968\n",
            "weighted avg       0.85      0.85      0.85     99968\n",
            "\n"
          ]
        }
      ],
      "source": [
        "from sklearn.metrics import confusion_matrix, classification_report\n",
        "\n",
        "print(classification_report(original_class, predicted_class))"
      ]
    },
    {
      "cell_type": "markdown",
      "source": [
        "We got a model that could classify if a review was positive or negative with a 84.78% accuracy. That might not sound that impressive, but the BERT model used in this example is virtually microscopic. If you used more encoder blocks, a larger model dimension, and played around with a few other model parameters I think you could easily pass 90%.\n",
        "\n",
        "We actually created a BERT style model. We explored tokenization, data processing, embedding, multi-headed self-attention, pointwise feed forward, pre-training, and fine tuning. By the end of that process we had created a BERT style model, trained it on Wiki articles to understand text, then fine-tuned it to classify if product reviews were positive or negative."
      ],
      "metadata": {
        "id": "_WMpu_jS_sp0"
      }
    },
    {
      "cell_type": "code",
      "execution_count": null,
      "metadata": {
        "id": "m7RToiqY4-eQ"
      },
      "outputs": [],
      "source": [
        "# https://towardsdatascience.com/bert-intuitively-and-exhaustively-explained-48a24ecc1c8a"
      ]
    },
    {
      "cell_type": "code",
      "execution_count": null,
      "metadata": {
        "id": "ybIkDCXBzVCz"
      },
      "outputs": [],
      "source": [
        "# https://github.com/DanielWarfield1/MLWritingAndResearch/blob/main/BERTFromScratch.ipynb"
      ]
    }
  ],
  "metadata": {
    "accelerator": "GPU",
    "colab": {
      "gpuType": "T4",
      "toc_visible": true,
      "provenance": []
    },
    "kernelspec": {
      "display_name": "Python 3",
      "name": "python3"
    },
    "language_info": {
      "name": "python"
    },
    "widgets": {
      "application/vnd.jupyter.widget-state+json": {
        "a4161c2dfbc7456898986e26fc099c76": {
          "model_module": "@jupyter-widgets/controls",
          "model_name": "HBoxModel",
          "model_module_version": "1.5.0",
          "state": {
            "_dom_classes": [],
            "_model_module": "@jupyter-widgets/controls",
            "_model_module_version": "1.5.0",
            "_model_name": "HBoxModel",
            "_view_count": null,
            "_view_module": "@jupyter-widgets/controls",
            "_view_module_version": "1.5.0",
            "_view_name": "HBoxView",
            "box_style": "",
            "children": [
              "IPY_MODEL_8ea9bacd722942b3a90d81fc370165e6",
              "IPY_MODEL_84d0b89c78f54c1989658392a4baf839",
              "IPY_MODEL_79a71f007784469dbb0512d092dab638"
            ],
            "layout": "IPY_MODEL_a250652061054a18bbe1e71975f913ba"
          }
        },
        "8ea9bacd722942b3a90d81fc370165e6": {
          "model_module": "@jupyter-widgets/controls",
          "model_name": "HTMLModel",
          "model_module_version": "1.5.0",
          "state": {
            "_dom_classes": [],
            "_model_module": "@jupyter-widgets/controls",
            "_model_module_version": "1.5.0",
            "_model_name": "HTMLModel",
            "_view_count": null,
            "_view_module": "@jupyter-widgets/controls",
            "_view_module_version": "1.5.0",
            "_view_name": "HTMLView",
            "description": "",
            "description_tooltip": null,
            "layout": "IPY_MODEL_41a377ad017948449c4ddffb697c99da",
            "placeholder": "​",
            "style": "IPY_MODEL_181939e64916467487c94ac659e13020",
            "value": "wikipedia.py: 100%"
          }
        },
        "84d0b89c78f54c1989658392a4baf839": {
          "model_module": "@jupyter-widgets/controls",
          "model_name": "FloatProgressModel",
          "model_module_version": "1.5.0",
          "state": {
            "_dom_classes": [],
            "_model_module": "@jupyter-widgets/controls",
            "_model_module_version": "1.5.0",
            "_model_name": "FloatProgressModel",
            "_view_count": null,
            "_view_module": "@jupyter-widgets/controls",
            "_view_module_version": "1.5.0",
            "_view_name": "ProgressView",
            "bar_style": "success",
            "description": "",
            "description_tooltip": null,
            "layout": "IPY_MODEL_534a0f12d47441178cd180f455c1d71e",
            "max": 36699,
            "min": 0,
            "orientation": "horizontal",
            "style": "IPY_MODEL_cafd675dbfb548d79eecdd4c4c8f2670",
            "value": 36699
          }
        },
        "79a71f007784469dbb0512d092dab638": {
          "model_module": "@jupyter-widgets/controls",
          "model_name": "HTMLModel",
          "model_module_version": "1.5.0",
          "state": {
            "_dom_classes": [],
            "_model_module": "@jupyter-widgets/controls",
            "_model_module_version": "1.5.0",
            "_model_name": "HTMLModel",
            "_view_count": null,
            "_view_module": "@jupyter-widgets/controls",
            "_view_module_version": "1.5.0",
            "_view_name": "HTMLView",
            "description": "",
            "description_tooltip": null,
            "layout": "IPY_MODEL_39d8cad9e4bd4a3b84fc2ab3e8a7c77e",
            "placeholder": "​",
            "style": "IPY_MODEL_c7aabf1f96664c14b30c5be79d072a28",
            "value": " 36.7k/36.7k [00:00&lt;00:00, 896kB/s]"
          }
        },
        "a250652061054a18bbe1e71975f913ba": {
          "model_module": "@jupyter-widgets/base",
          "model_name": "LayoutModel",
          "model_module_version": "1.2.0",
          "state": {
            "_model_module": "@jupyter-widgets/base",
            "_model_module_version": "1.2.0",
            "_model_name": "LayoutModel",
            "_view_count": null,
            "_view_module": "@jupyter-widgets/base",
            "_view_module_version": "1.2.0",
            "_view_name": "LayoutView",
            "align_content": null,
            "align_items": null,
            "align_self": null,
            "border": null,
            "bottom": null,
            "display": null,
            "flex": null,
            "flex_flow": null,
            "grid_area": null,
            "grid_auto_columns": null,
            "grid_auto_flow": null,
            "grid_auto_rows": null,
            "grid_column": null,
            "grid_gap": null,
            "grid_row": null,
            "grid_template_areas": null,
            "grid_template_columns": null,
            "grid_template_rows": null,
            "height": null,
            "justify_content": null,
            "justify_items": null,
            "left": null,
            "margin": null,
            "max_height": null,
            "max_width": null,
            "min_height": null,
            "min_width": null,
            "object_fit": null,
            "object_position": null,
            "order": null,
            "overflow": null,
            "overflow_x": null,
            "overflow_y": null,
            "padding": null,
            "right": null,
            "top": null,
            "visibility": null,
            "width": null
          }
        },
        "41a377ad017948449c4ddffb697c99da": {
          "model_module": "@jupyter-widgets/base",
          "model_name": "LayoutModel",
          "model_module_version": "1.2.0",
          "state": {
            "_model_module": "@jupyter-widgets/base",
            "_model_module_version": "1.2.0",
            "_model_name": "LayoutModel",
            "_view_count": null,
            "_view_module": "@jupyter-widgets/base",
            "_view_module_version": "1.2.0",
            "_view_name": "LayoutView",
            "align_content": null,
            "align_items": null,
            "align_self": null,
            "border": null,
            "bottom": null,
            "display": null,
            "flex": null,
            "flex_flow": null,
            "grid_area": null,
            "grid_auto_columns": null,
            "grid_auto_flow": null,
            "grid_auto_rows": null,
            "grid_column": null,
            "grid_gap": null,
            "grid_row": null,
            "grid_template_areas": null,
            "grid_template_columns": null,
            "grid_template_rows": null,
            "height": null,
            "justify_content": null,
            "justify_items": null,
            "left": null,
            "margin": null,
            "max_height": null,
            "max_width": null,
            "min_height": null,
            "min_width": null,
            "object_fit": null,
            "object_position": null,
            "order": null,
            "overflow": null,
            "overflow_x": null,
            "overflow_y": null,
            "padding": null,
            "right": null,
            "top": null,
            "visibility": null,
            "width": null
          }
        },
        "181939e64916467487c94ac659e13020": {
          "model_module": "@jupyter-widgets/controls",
          "model_name": "DescriptionStyleModel",
          "model_module_version": "1.5.0",
          "state": {
            "_model_module": "@jupyter-widgets/controls",
            "_model_module_version": "1.5.0",
            "_model_name": "DescriptionStyleModel",
            "_view_count": null,
            "_view_module": "@jupyter-widgets/base",
            "_view_module_version": "1.2.0",
            "_view_name": "StyleView",
            "description_width": ""
          }
        },
        "534a0f12d47441178cd180f455c1d71e": {
          "model_module": "@jupyter-widgets/base",
          "model_name": "LayoutModel",
          "model_module_version": "1.2.0",
          "state": {
            "_model_module": "@jupyter-widgets/base",
            "_model_module_version": "1.2.0",
            "_model_name": "LayoutModel",
            "_view_count": null,
            "_view_module": "@jupyter-widgets/base",
            "_view_module_version": "1.2.0",
            "_view_name": "LayoutView",
            "align_content": null,
            "align_items": null,
            "align_self": null,
            "border": null,
            "bottom": null,
            "display": null,
            "flex": null,
            "flex_flow": null,
            "grid_area": null,
            "grid_auto_columns": null,
            "grid_auto_flow": null,
            "grid_auto_rows": null,
            "grid_column": null,
            "grid_gap": null,
            "grid_row": null,
            "grid_template_areas": null,
            "grid_template_columns": null,
            "grid_template_rows": null,
            "height": null,
            "justify_content": null,
            "justify_items": null,
            "left": null,
            "margin": null,
            "max_height": null,
            "max_width": null,
            "min_height": null,
            "min_width": null,
            "object_fit": null,
            "object_position": null,
            "order": null,
            "overflow": null,
            "overflow_x": null,
            "overflow_y": null,
            "padding": null,
            "right": null,
            "top": null,
            "visibility": null,
            "width": null
          }
        },
        "cafd675dbfb548d79eecdd4c4c8f2670": {
          "model_module": "@jupyter-widgets/controls",
          "model_name": "ProgressStyleModel",
          "model_module_version": "1.5.0",
          "state": {
            "_model_module": "@jupyter-widgets/controls",
            "_model_module_version": "1.5.0",
            "_model_name": "ProgressStyleModel",
            "_view_count": null,
            "_view_module": "@jupyter-widgets/base",
            "_view_module_version": "1.2.0",
            "_view_name": "StyleView",
            "bar_color": null,
            "description_width": ""
          }
        },
        "39d8cad9e4bd4a3b84fc2ab3e8a7c77e": {
          "model_module": "@jupyter-widgets/base",
          "model_name": "LayoutModel",
          "model_module_version": "1.2.0",
          "state": {
            "_model_module": "@jupyter-widgets/base",
            "_model_module_version": "1.2.0",
            "_model_name": "LayoutModel",
            "_view_count": null,
            "_view_module": "@jupyter-widgets/base",
            "_view_module_version": "1.2.0",
            "_view_name": "LayoutView",
            "align_content": null,
            "align_items": null,
            "align_self": null,
            "border": null,
            "bottom": null,
            "display": null,
            "flex": null,
            "flex_flow": null,
            "grid_area": null,
            "grid_auto_columns": null,
            "grid_auto_flow": null,
            "grid_auto_rows": null,
            "grid_column": null,
            "grid_gap": null,
            "grid_row": null,
            "grid_template_areas": null,
            "grid_template_columns": null,
            "grid_template_rows": null,
            "height": null,
            "justify_content": null,
            "justify_items": null,
            "left": null,
            "margin": null,
            "max_height": null,
            "max_width": null,
            "min_height": null,
            "min_width": null,
            "object_fit": null,
            "object_position": null,
            "order": null,
            "overflow": null,
            "overflow_x": null,
            "overflow_y": null,
            "padding": null,
            "right": null,
            "top": null,
            "visibility": null,
            "width": null
          }
        },
        "c7aabf1f96664c14b30c5be79d072a28": {
          "model_module": "@jupyter-widgets/controls",
          "model_name": "DescriptionStyleModel",
          "model_module_version": "1.5.0",
          "state": {
            "_model_module": "@jupyter-widgets/controls",
            "_model_module_version": "1.5.0",
            "_model_name": "DescriptionStyleModel",
            "_view_count": null,
            "_view_module": "@jupyter-widgets/base",
            "_view_module_version": "1.2.0",
            "_view_name": "StyleView",
            "description_width": ""
          }
        },
        "e99cac17e5ad40ddb8694302fbb03659": {
          "model_module": "@jupyter-widgets/controls",
          "model_name": "HBoxModel",
          "model_module_version": "1.5.0",
          "state": {
            "_dom_classes": [],
            "_model_module": "@jupyter-widgets/controls",
            "_model_module_version": "1.5.0",
            "_model_name": "HBoxModel",
            "_view_count": null,
            "_view_module": "@jupyter-widgets/controls",
            "_view_module_version": "1.5.0",
            "_view_name": "HBoxView",
            "box_style": "",
            "children": [
              "IPY_MODEL_4a32ca743cb44a308b6e77c663ff5dc3",
              "IPY_MODEL_ab75ea6d7a2d415b8f7e69dbf456b715",
              "IPY_MODEL_0588f60638c44c2ab4a8cb53fdd3985c"
            ],
            "layout": "IPY_MODEL_8bf6d70cad0d44c0a3203e5325270b8c"
          }
        },
        "4a32ca743cb44a308b6e77c663ff5dc3": {
          "model_module": "@jupyter-widgets/controls",
          "model_name": "HTMLModel",
          "model_module_version": "1.5.0",
          "state": {
            "_dom_classes": [],
            "_model_module": "@jupyter-widgets/controls",
            "_model_module_version": "1.5.0",
            "_model_name": "HTMLModel",
            "_view_count": null,
            "_view_module": "@jupyter-widgets/controls",
            "_view_module_version": "1.5.0",
            "_view_name": "HTMLView",
            "description": "",
            "description_tooltip": null,
            "layout": "IPY_MODEL_072776cc7bbd452c8ed47642ad698713",
            "placeholder": "​",
            "style": "IPY_MODEL_7e70358746b5475da4444dc8da0df1ab",
            "value": "README.md: 100%"
          }
        },
        "ab75ea6d7a2d415b8f7e69dbf456b715": {
          "model_module": "@jupyter-widgets/controls",
          "model_name": "FloatProgressModel",
          "model_module_version": "1.5.0",
          "state": {
            "_dom_classes": [],
            "_model_module": "@jupyter-widgets/controls",
            "_model_module_version": "1.5.0",
            "_model_name": "FloatProgressModel",
            "_view_count": null,
            "_view_module": "@jupyter-widgets/controls",
            "_view_module_version": "1.5.0",
            "_view_name": "ProgressView",
            "bar_style": "success",
            "description": "",
            "description_tooltip": null,
            "layout": "IPY_MODEL_5bfaff32af014451ada20e5568fb3278",
            "max": 16046,
            "min": 0,
            "orientation": "horizontal",
            "style": "IPY_MODEL_bf9ee0ce5cb24679a7404f62c5f7084e",
            "value": 16046
          }
        },
        "0588f60638c44c2ab4a8cb53fdd3985c": {
          "model_module": "@jupyter-widgets/controls",
          "model_name": "HTMLModel",
          "model_module_version": "1.5.0",
          "state": {
            "_dom_classes": [],
            "_model_module": "@jupyter-widgets/controls",
            "_model_module_version": "1.5.0",
            "_model_name": "HTMLModel",
            "_view_count": null,
            "_view_module": "@jupyter-widgets/controls",
            "_view_module_version": "1.5.0",
            "_view_name": "HTMLView",
            "description": "",
            "description_tooltip": null,
            "layout": "IPY_MODEL_fc00c4c86b634d5c943c9cbaec3e2063",
            "placeholder": "​",
            "style": "IPY_MODEL_6704f4cfb4114c50a1780c4c3bbe4bd6",
            "value": " 16.0k/16.0k [00:00&lt;00:00, 265kB/s]"
          }
        },
        "8bf6d70cad0d44c0a3203e5325270b8c": {
          "model_module": "@jupyter-widgets/base",
          "model_name": "LayoutModel",
          "model_module_version": "1.2.0",
          "state": {
            "_model_module": "@jupyter-widgets/base",
            "_model_module_version": "1.2.0",
            "_model_name": "LayoutModel",
            "_view_count": null,
            "_view_module": "@jupyter-widgets/base",
            "_view_module_version": "1.2.0",
            "_view_name": "LayoutView",
            "align_content": null,
            "align_items": null,
            "align_self": null,
            "border": null,
            "bottom": null,
            "display": null,
            "flex": null,
            "flex_flow": null,
            "grid_area": null,
            "grid_auto_columns": null,
            "grid_auto_flow": null,
            "grid_auto_rows": null,
            "grid_column": null,
            "grid_gap": null,
            "grid_row": null,
            "grid_template_areas": null,
            "grid_template_columns": null,
            "grid_template_rows": null,
            "height": null,
            "justify_content": null,
            "justify_items": null,
            "left": null,
            "margin": null,
            "max_height": null,
            "max_width": null,
            "min_height": null,
            "min_width": null,
            "object_fit": null,
            "object_position": null,
            "order": null,
            "overflow": null,
            "overflow_x": null,
            "overflow_y": null,
            "padding": null,
            "right": null,
            "top": null,
            "visibility": null,
            "width": null
          }
        },
        "072776cc7bbd452c8ed47642ad698713": {
          "model_module": "@jupyter-widgets/base",
          "model_name": "LayoutModel",
          "model_module_version": "1.2.0",
          "state": {
            "_model_module": "@jupyter-widgets/base",
            "_model_module_version": "1.2.0",
            "_model_name": "LayoutModel",
            "_view_count": null,
            "_view_module": "@jupyter-widgets/base",
            "_view_module_version": "1.2.0",
            "_view_name": "LayoutView",
            "align_content": null,
            "align_items": null,
            "align_self": null,
            "border": null,
            "bottom": null,
            "display": null,
            "flex": null,
            "flex_flow": null,
            "grid_area": null,
            "grid_auto_columns": null,
            "grid_auto_flow": null,
            "grid_auto_rows": null,
            "grid_column": null,
            "grid_gap": null,
            "grid_row": null,
            "grid_template_areas": null,
            "grid_template_columns": null,
            "grid_template_rows": null,
            "height": null,
            "justify_content": null,
            "justify_items": null,
            "left": null,
            "margin": null,
            "max_height": null,
            "max_width": null,
            "min_height": null,
            "min_width": null,
            "object_fit": null,
            "object_position": null,
            "order": null,
            "overflow": null,
            "overflow_x": null,
            "overflow_y": null,
            "padding": null,
            "right": null,
            "top": null,
            "visibility": null,
            "width": null
          }
        },
        "7e70358746b5475da4444dc8da0df1ab": {
          "model_module": "@jupyter-widgets/controls",
          "model_name": "DescriptionStyleModel",
          "model_module_version": "1.5.0",
          "state": {
            "_model_module": "@jupyter-widgets/controls",
            "_model_module_version": "1.5.0",
            "_model_name": "DescriptionStyleModel",
            "_view_count": null,
            "_view_module": "@jupyter-widgets/base",
            "_view_module_version": "1.2.0",
            "_view_name": "StyleView",
            "description_width": ""
          }
        },
        "5bfaff32af014451ada20e5568fb3278": {
          "model_module": "@jupyter-widgets/base",
          "model_name": "LayoutModel",
          "model_module_version": "1.2.0",
          "state": {
            "_model_module": "@jupyter-widgets/base",
            "_model_module_version": "1.2.0",
            "_model_name": "LayoutModel",
            "_view_count": null,
            "_view_module": "@jupyter-widgets/base",
            "_view_module_version": "1.2.0",
            "_view_name": "LayoutView",
            "align_content": null,
            "align_items": null,
            "align_self": null,
            "border": null,
            "bottom": null,
            "display": null,
            "flex": null,
            "flex_flow": null,
            "grid_area": null,
            "grid_auto_columns": null,
            "grid_auto_flow": null,
            "grid_auto_rows": null,
            "grid_column": null,
            "grid_gap": null,
            "grid_row": null,
            "grid_template_areas": null,
            "grid_template_columns": null,
            "grid_template_rows": null,
            "height": null,
            "justify_content": null,
            "justify_items": null,
            "left": null,
            "margin": null,
            "max_height": null,
            "max_width": null,
            "min_height": null,
            "min_width": null,
            "object_fit": null,
            "object_position": null,
            "order": null,
            "overflow": null,
            "overflow_x": null,
            "overflow_y": null,
            "padding": null,
            "right": null,
            "top": null,
            "visibility": null,
            "width": null
          }
        },
        "bf9ee0ce5cb24679a7404f62c5f7084e": {
          "model_module": "@jupyter-widgets/controls",
          "model_name": "ProgressStyleModel",
          "model_module_version": "1.5.0",
          "state": {
            "_model_module": "@jupyter-widgets/controls",
            "_model_module_version": "1.5.0",
            "_model_name": "ProgressStyleModel",
            "_view_count": null,
            "_view_module": "@jupyter-widgets/base",
            "_view_module_version": "1.2.0",
            "_view_name": "StyleView",
            "bar_color": null,
            "description_width": ""
          }
        },
        "fc00c4c86b634d5c943c9cbaec3e2063": {
          "model_module": "@jupyter-widgets/base",
          "model_name": "LayoutModel",
          "model_module_version": "1.2.0",
          "state": {
            "_model_module": "@jupyter-widgets/base",
            "_model_module_version": "1.2.0",
            "_model_name": "LayoutModel",
            "_view_count": null,
            "_view_module": "@jupyter-widgets/base",
            "_view_module_version": "1.2.0",
            "_view_name": "LayoutView",
            "align_content": null,
            "align_items": null,
            "align_self": null,
            "border": null,
            "bottom": null,
            "display": null,
            "flex": null,
            "flex_flow": null,
            "grid_area": null,
            "grid_auto_columns": null,
            "grid_auto_flow": null,
            "grid_auto_rows": null,
            "grid_column": null,
            "grid_gap": null,
            "grid_row": null,
            "grid_template_areas": null,
            "grid_template_columns": null,
            "grid_template_rows": null,
            "height": null,
            "justify_content": null,
            "justify_items": null,
            "left": null,
            "margin": null,
            "max_height": null,
            "max_width": null,
            "min_height": null,
            "min_width": null,
            "object_fit": null,
            "object_position": null,
            "order": null,
            "overflow": null,
            "overflow_x": null,
            "overflow_y": null,
            "padding": null,
            "right": null,
            "top": null,
            "visibility": null,
            "width": null
          }
        },
        "6704f4cfb4114c50a1780c4c3bbe4bd6": {
          "model_module": "@jupyter-widgets/controls",
          "model_name": "DescriptionStyleModel",
          "model_module_version": "1.5.0",
          "state": {
            "_model_module": "@jupyter-widgets/controls",
            "_model_module_version": "1.5.0",
            "_model_name": "DescriptionStyleModel",
            "_view_count": null,
            "_view_module": "@jupyter-widgets/base",
            "_view_module_version": "1.2.0",
            "_view_name": "StyleView",
            "description_width": ""
          }
        },
        "1f35bf4c91184b3d947ff9efdffd04ca": {
          "model_module": "@jupyter-widgets/controls",
          "model_name": "HBoxModel",
          "model_module_version": "1.5.0",
          "state": {
            "_dom_classes": [],
            "_model_module": "@jupyter-widgets/controls",
            "_model_module_version": "1.5.0",
            "_model_name": "HBoxModel",
            "_view_count": null,
            "_view_module": "@jupyter-widgets/controls",
            "_view_module_version": "1.5.0",
            "_view_name": "HBoxView",
            "box_style": "",
            "children": [
              "IPY_MODEL_bd440521fe01445893a57d3b94d2ab03",
              "IPY_MODEL_ebed6fbef066410e9ebc8d961f05b7e5",
              "IPY_MODEL_9e9b68e07f3b43f4846d3e52940113d2"
            ],
            "layout": "IPY_MODEL_eae946ca7e9e43799e4b6632d035e832"
          }
        },
        "bd440521fe01445893a57d3b94d2ab03": {
          "model_module": "@jupyter-widgets/controls",
          "model_name": "HTMLModel",
          "model_module_version": "1.5.0",
          "state": {
            "_dom_classes": [],
            "_model_module": "@jupyter-widgets/controls",
            "_model_module_version": "1.5.0",
            "_model_name": "HTMLModel",
            "_view_count": null,
            "_view_module": "@jupyter-widgets/controls",
            "_view_module_version": "1.5.0",
            "_view_name": "HTMLView",
            "description": "",
            "description_tooltip": null,
            "layout": "IPY_MODEL_ca3b9c53cd5a44d89d31d40682842fac",
            "placeholder": "​",
            "style": "IPY_MODEL_f17d68b7eefa4e78938813d1ef215a75",
            "value": ""
          }
        },
        "ebed6fbef066410e9ebc8d961f05b7e5": {
          "model_module": "@jupyter-widgets/controls",
          "model_name": "FloatProgressModel",
          "model_module_version": "1.5.0",
          "state": {
            "_dom_classes": [],
            "_model_module": "@jupyter-widgets/controls",
            "_model_module_version": "1.5.0",
            "_model_name": "FloatProgressModel",
            "_view_count": null,
            "_view_module": "@jupyter-widgets/controls",
            "_view_module_version": "1.5.0",
            "_view_name": "ProgressView",
            "bar_style": "success",
            "description": "",
            "description_tooltip": null,
            "layout": "IPY_MODEL_4cb66aa42c5f4c5c8cd40b6a84ffbae7",
            "max": 1,
            "min": 0,
            "orientation": "horizontal",
            "style": "IPY_MODEL_f06d996bf657428e99ab4c3661f0406b",
            "value": 0
          }
        },
        "9e9b68e07f3b43f4846d3e52940113d2": {
          "model_module": "@jupyter-widgets/controls",
          "model_name": "HTMLModel",
          "model_module_version": "1.5.0",
          "state": {
            "_dom_classes": [],
            "_model_module": "@jupyter-widgets/controls",
            "_model_module_version": "1.5.0",
            "_model_name": "HTMLModel",
            "_view_count": null,
            "_view_module": "@jupyter-widgets/controls",
            "_view_module_version": "1.5.0",
            "_view_name": "HTMLView",
            "description": "",
            "description_tooltip": null,
            "layout": "IPY_MODEL_e1b5a52f1e6442079f438f06c8450ee5",
            "placeholder": "​",
            "style": "IPY_MODEL_8275952414554d4fb2ab00c8c424e67f",
            "value": " 0/0 [00:00&lt;?, ?it/s]"
          }
        },
        "eae946ca7e9e43799e4b6632d035e832": {
          "model_module": "@jupyter-widgets/base",
          "model_name": "LayoutModel",
          "model_module_version": "1.2.0",
          "state": {
            "_model_module": "@jupyter-widgets/base",
            "_model_module_version": "1.2.0",
            "_model_name": "LayoutModel",
            "_view_count": null,
            "_view_module": "@jupyter-widgets/base",
            "_view_module_version": "1.2.0",
            "_view_name": "LayoutView",
            "align_content": null,
            "align_items": null,
            "align_self": null,
            "border": null,
            "bottom": null,
            "display": null,
            "flex": null,
            "flex_flow": null,
            "grid_area": null,
            "grid_auto_columns": null,
            "grid_auto_flow": null,
            "grid_auto_rows": null,
            "grid_column": null,
            "grid_gap": null,
            "grid_row": null,
            "grid_template_areas": null,
            "grid_template_columns": null,
            "grid_template_rows": null,
            "height": null,
            "justify_content": null,
            "justify_items": null,
            "left": null,
            "margin": null,
            "max_height": null,
            "max_width": null,
            "min_height": null,
            "min_width": null,
            "object_fit": null,
            "object_position": null,
            "order": null,
            "overflow": null,
            "overflow_x": null,
            "overflow_y": null,
            "padding": null,
            "right": null,
            "top": null,
            "visibility": null,
            "width": null
          }
        },
        "ca3b9c53cd5a44d89d31d40682842fac": {
          "model_module": "@jupyter-widgets/base",
          "model_name": "LayoutModel",
          "model_module_version": "1.2.0",
          "state": {
            "_model_module": "@jupyter-widgets/base",
            "_model_module_version": "1.2.0",
            "_model_name": "LayoutModel",
            "_view_count": null,
            "_view_module": "@jupyter-widgets/base",
            "_view_module_version": "1.2.0",
            "_view_name": "LayoutView",
            "align_content": null,
            "align_items": null,
            "align_self": null,
            "border": null,
            "bottom": null,
            "display": null,
            "flex": null,
            "flex_flow": null,
            "grid_area": null,
            "grid_auto_columns": null,
            "grid_auto_flow": null,
            "grid_auto_rows": null,
            "grid_column": null,
            "grid_gap": null,
            "grid_row": null,
            "grid_template_areas": null,
            "grid_template_columns": null,
            "grid_template_rows": null,
            "height": null,
            "justify_content": null,
            "justify_items": null,
            "left": null,
            "margin": null,
            "max_height": null,
            "max_width": null,
            "min_height": null,
            "min_width": null,
            "object_fit": null,
            "object_position": null,
            "order": null,
            "overflow": null,
            "overflow_x": null,
            "overflow_y": null,
            "padding": null,
            "right": null,
            "top": null,
            "visibility": null,
            "width": null
          }
        },
        "f17d68b7eefa4e78938813d1ef215a75": {
          "model_module": "@jupyter-widgets/controls",
          "model_name": "DescriptionStyleModel",
          "model_module_version": "1.5.0",
          "state": {
            "_model_module": "@jupyter-widgets/controls",
            "_model_module_version": "1.5.0",
            "_model_name": "DescriptionStyleModel",
            "_view_count": null,
            "_view_module": "@jupyter-widgets/base",
            "_view_module_version": "1.2.0",
            "_view_name": "StyleView",
            "description_width": ""
          }
        },
        "4cb66aa42c5f4c5c8cd40b6a84ffbae7": {
          "model_module": "@jupyter-widgets/base",
          "model_name": "LayoutModel",
          "model_module_version": "1.2.0",
          "state": {
            "_model_module": "@jupyter-widgets/base",
            "_model_module_version": "1.2.0",
            "_model_name": "LayoutModel",
            "_view_count": null,
            "_view_module": "@jupyter-widgets/base",
            "_view_module_version": "1.2.0",
            "_view_name": "LayoutView",
            "align_content": null,
            "align_items": null,
            "align_self": null,
            "border": null,
            "bottom": null,
            "display": null,
            "flex": null,
            "flex_flow": null,
            "grid_area": null,
            "grid_auto_columns": null,
            "grid_auto_flow": null,
            "grid_auto_rows": null,
            "grid_column": null,
            "grid_gap": null,
            "grid_row": null,
            "grid_template_areas": null,
            "grid_template_columns": null,
            "grid_template_rows": null,
            "height": null,
            "justify_content": null,
            "justify_items": null,
            "left": null,
            "margin": null,
            "max_height": null,
            "max_width": null,
            "min_height": null,
            "min_width": null,
            "object_fit": null,
            "object_position": null,
            "order": null,
            "overflow": null,
            "overflow_x": null,
            "overflow_y": null,
            "padding": null,
            "right": null,
            "top": null,
            "visibility": null,
            "width": "20px"
          }
        },
        "f06d996bf657428e99ab4c3661f0406b": {
          "model_module": "@jupyter-widgets/controls",
          "model_name": "ProgressStyleModel",
          "model_module_version": "1.5.0",
          "state": {
            "_model_module": "@jupyter-widgets/controls",
            "_model_module_version": "1.5.0",
            "_model_name": "ProgressStyleModel",
            "_view_count": null,
            "_view_module": "@jupyter-widgets/base",
            "_view_module_version": "1.2.0",
            "_view_name": "StyleView",
            "bar_color": null,
            "description_width": ""
          }
        },
        "e1b5a52f1e6442079f438f06c8450ee5": {
          "model_module": "@jupyter-widgets/base",
          "model_name": "LayoutModel",
          "model_module_version": "1.2.0",
          "state": {
            "_model_module": "@jupyter-widgets/base",
            "_model_module_version": "1.2.0",
            "_model_name": "LayoutModel",
            "_view_count": null,
            "_view_module": "@jupyter-widgets/base",
            "_view_module_version": "1.2.0",
            "_view_name": "LayoutView",
            "align_content": null,
            "align_items": null,
            "align_self": null,
            "border": null,
            "bottom": null,
            "display": null,
            "flex": null,
            "flex_flow": null,
            "grid_area": null,
            "grid_auto_columns": null,
            "grid_auto_flow": null,
            "grid_auto_rows": null,
            "grid_column": null,
            "grid_gap": null,
            "grid_row": null,
            "grid_template_areas": null,
            "grid_template_columns": null,
            "grid_template_rows": null,
            "height": null,
            "justify_content": null,
            "justify_items": null,
            "left": null,
            "margin": null,
            "max_height": null,
            "max_width": null,
            "min_height": null,
            "min_width": null,
            "object_fit": null,
            "object_position": null,
            "order": null,
            "overflow": null,
            "overflow_x": null,
            "overflow_y": null,
            "padding": null,
            "right": null,
            "top": null,
            "visibility": null,
            "width": null
          }
        },
        "8275952414554d4fb2ab00c8c424e67f": {
          "model_module": "@jupyter-widgets/controls",
          "model_name": "DescriptionStyleModel",
          "model_module_version": "1.5.0",
          "state": {
            "_model_module": "@jupyter-widgets/controls",
            "_model_module_version": "1.5.0",
            "_model_name": "DescriptionStyleModel",
            "_view_count": null,
            "_view_module": "@jupyter-widgets/base",
            "_view_module_version": "1.2.0",
            "_view_name": "StyleView",
            "description_width": ""
          }
        },
        "ad679a90b89640478f6cf594c30fb30a": {
          "model_module": "@jupyter-widgets/controls",
          "model_name": "HBoxModel",
          "model_module_version": "1.5.0",
          "state": {
            "_dom_classes": [],
            "_model_module": "@jupyter-widgets/controls",
            "_model_module_version": "1.5.0",
            "_model_name": "HBoxModel",
            "_view_count": null,
            "_view_module": "@jupyter-widgets/controls",
            "_view_module_version": "1.5.0",
            "_view_name": "HBoxView",
            "box_style": "",
            "children": [
              "IPY_MODEL_d7fd818f473d486e81c7c8fa90b26366",
              "IPY_MODEL_ba1597b8970841b3b1e0ad36500310da",
              "IPY_MODEL_e2bd53fe88df4b4c90678c512b7a474e"
            ],
            "layout": "IPY_MODEL_42402eade88f45bbac11caf269fd03c6"
          }
        },
        "d7fd818f473d486e81c7c8fa90b26366": {
          "model_module": "@jupyter-widgets/controls",
          "model_name": "HTMLModel",
          "model_module_version": "1.5.0",
          "state": {
            "_dom_classes": [],
            "_model_module": "@jupyter-widgets/controls",
            "_model_module_version": "1.5.0",
            "_model_name": "HTMLModel",
            "_view_count": null,
            "_view_module": "@jupyter-widgets/controls",
            "_view_module_version": "1.5.0",
            "_view_name": "HTMLView",
            "description": "",
            "description_tooltip": null,
            "layout": "IPY_MODEL_279a130a412842088c229ba41ffb3570",
            "placeholder": "​",
            "style": "IPY_MODEL_edab762358b64a359d8559250cfe557f",
            "value": "tokenizer_config.json: 100%"
          }
        },
        "ba1597b8970841b3b1e0ad36500310da": {
          "model_module": "@jupyter-widgets/controls",
          "model_name": "FloatProgressModel",
          "model_module_version": "1.5.0",
          "state": {
            "_dom_classes": [],
            "_model_module": "@jupyter-widgets/controls",
            "_model_module_version": "1.5.0",
            "_model_name": "FloatProgressModel",
            "_view_count": null,
            "_view_module": "@jupyter-widgets/controls",
            "_view_module_version": "1.5.0",
            "_view_name": "ProgressView",
            "bar_style": "success",
            "description": "",
            "description_tooltip": null,
            "layout": "IPY_MODEL_828e983885f74cd887beb53aeff4e86d",
            "max": 48,
            "min": 0,
            "orientation": "horizontal",
            "style": "IPY_MODEL_2f538089ccc7429ca0f2da15df33f60e",
            "value": 48
          }
        },
        "e2bd53fe88df4b4c90678c512b7a474e": {
          "model_module": "@jupyter-widgets/controls",
          "model_name": "HTMLModel",
          "model_module_version": "1.5.0",
          "state": {
            "_dom_classes": [],
            "_model_module": "@jupyter-widgets/controls",
            "_model_module_version": "1.5.0",
            "_model_name": "HTMLModel",
            "_view_count": null,
            "_view_module": "@jupyter-widgets/controls",
            "_view_module_version": "1.5.0",
            "_view_name": "HTMLView",
            "description": "",
            "description_tooltip": null,
            "layout": "IPY_MODEL_706ac43297ef4cd5a6c9662eaeaf357d",
            "placeholder": "​",
            "style": "IPY_MODEL_3d206bd1d22142c78493fd5d40feefec",
            "value": " 48.0/48.0 [00:00&lt;00:00, 2.88kB/s]"
          }
        },
        "42402eade88f45bbac11caf269fd03c6": {
          "model_module": "@jupyter-widgets/base",
          "model_name": "LayoutModel",
          "model_module_version": "1.2.0",
          "state": {
            "_model_module": "@jupyter-widgets/base",
            "_model_module_version": "1.2.0",
            "_model_name": "LayoutModel",
            "_view_count": null,
            "_view_module": "@jupyter-widgets/base",
            "_view_module_version": "1.2.0",
            "_view_name": "LayoutView",
            "align_content": null,
            "align_items": null,
            "align_self": null,
            "border": null,
            "bottom": null,
            "display": null,
            "flex": null,
            "flex_flow": null,
            "grid_area": null,
            "grid_auto_columns": null,
            "grid_auto_flow": null,
            "grid_auto_rows": null,
            "grid_column": null,
            "grid_gap": null,
            "grid_row": null,
            "grid_template_areas": null,
            "grid_template_columns": null,
            "grid_template_rows": null,
            "height": null,
            "justify_content": null,
            "justify_items": null,
            "left": null,
            "margin": null,
            "max_height": null,
            "max_width": null,
            "min_height": null,
            "min_width": null,
            "object_fit": null,
            "object_position": null,
            "order": null,
            "overflow": null,
            "overflow_x": null,
            "overflow_y": null,
            "padding": null,
            "right": null,
            "top": null,
            "visibility": null,
            "width": null
          }
        },
        "279a130a412842088c229ba41ffb3570": {
          "model_module": "@jupyter-widgets/base",
          "model_name": "LayoutModel",
          "model_module_version": "1.2.0",
          "state": {
            "_model_module": "@jupyter-widgets/base",
            "_model_module_version": "1.2.0",
            "_model_name": "LayoutModel",
            "_view_count": null,
            "_view_module": "@jupyter-widgets/base",
            "_view_module_version": "1.2.0",
            "_view_name": "LayoutView",
            "align_content": null,
            "align_items": null,
            "align_self": null,
            "border": null,
            "bottom": null,
            "display": null,
            "flex": null,
            "flex_flow": null,
            "grid_area": null,
            "grid_auto_columns": null,
            "grid_auto_flow": null,
            "grid_auto_rows": null,
            "grid_column": null,
            "grid_gap": null,
            "grid_row": null,
            "grid_template_areas": null,
            "grid_template_columns": null,
            "grid_template_rows": null,
            "height": null,
            "justify_content": null,
            "justify_items": null,
            "left": null,
            "margin": null,
            "max_height": null,
            "max_width": null,
            "min_height": null,
            "min_width": null,
            "object_fit": null,
            "object_position": null,
            "order": null,
            "overflow": null,
            "overflow_x": null,
            "overflow_y": null,
            "padding": null,
            "right": null,
            "top": null,
            "visibility": null,
            "width": null
          }
        },
        "edab762358b64a359d8559250cfe557f": {
          "model_module": "@jupyter-widgets/controls",
          "model_name": "DescriptionStyleModel",
          "model_module_version": "1.5.0",
          "state": {
            "_model_module": "@jupyter-widgets/controls",
            "_model_module_version": "1.5.0",
            "_model_name": "DescriptionStyleModel",
            "_view_count": null,
            "_view_module": "@jupyter-widgets/base",
            "_view_module_version": "1.2.0",
            "_view_name": "StyleView",
            "description_width": ""
          }
        },
        "828e983885f74cd887beb53aeff4e86d": {
          "model_module": "@jupyter-widgets/base",
          "model_name": "LayoutModel",
          "model_module_version": "1.2.0",
          "state": {
            "_model_module": "@jupyter-widgets/base",
            "_model_module_version": "1.2.0",
            "_model_name": "LayoutModel",
            "_view_count": null,
            "_view_module": "@jupyter-widgets/base",
            "_view_module_version": "1.2.0",
            "_view_name": "LayoutView",
            "align_content": null,
            "align_items": null,
            "align_self": null,
            "border": null,
            "bottom": null,
            "display": null,
            "flex": null,
            "flex_flow": null,
            "grid_area": null,
            "grid_auto_columns": null,
            "grid_auto_flow": null,
            "grid_auto_rows": null,
            "grid_column": null,
            "grid_gap": null,
            "grid_row": null,
            "grid_template_areas": null,
            "grid_template_columns": null,
            "grid_template_rows": null,
            "height": null,
            "justify_content": null,
            "justify_items": null,
            "left": null,
            "margin": null,
            "max_height": null,
            "max_width": null,
            "min_height": null,
            "min_width": null,
            "object_fit": null,
            "object_position": null,
            "order": null,
            "overflow": null,
            "overflow_x": null,
            "overflow_y": null,
            "padding": null,
            "right": null,
            "top": null,
            "visibility": null,
            "width": null
          }
        },
        "2f538089ccc7429ca0f2da15df33f60e": {
          "model_module": "@jupyter-widgets/controls",
          "model_name": "ProgressStyleModel",
          "model_module_version": "1.5.0",
          "state": {
            "_model_module": "@jupyter-widgets/controls",
            "_model_module_version": "1.5.0",
            "_model_name": "ProgressStyleModel",
            "_view_count": null,
            "_view_module": "@jupyter-widgets/base",
            "_view_module_version": "1.2.0",
            "_view_name": "StyleView",
            "bar_color": null,
            "description_width": ""
          }
        },
        "706ac43297ef4cd5a6c9662eaeaf357d": {
          "model_module": "@jupyter-widgets/base",
          "model_name": "LayoutModel",
          "model_module_version": "1.2.0",
          "state": {
            "_model_module": "@jupyter-widgets/base",
            "_model_module_version": "1.2.0",
            "_model_name": "LayoutModel",
            "_view_count": null,
            "_view_module": "@jupyter-widgets/base",
            "_view_module_version": "1.2.0",
            "_view_name": "LayoutView",
            "align_content": null,
            "align_items": null,
            "align_self": null,
            "border": null,
            "bottom": null,
            "display": null,
            "flex": null,
            "flex_flow": null,
            "grid_area": null,
            "grid_auto_columns": null,
            "grid_auto_flow": null,
            "grid_auto_rows": null,
            "grid_column": null,
            "grid_gap": null,
            "grid_row": null,
            "grid_template_areas": null,
            "grid_template_columns": null,
            "grid_template_rows": null,
            "height": null,
            "justify_content": null,
            "justify_items": null,
            "left": null,
            "margin": null,
            "max_height": null,
            "max_width": null,
            "min_height": null,
            "min_width": null,
            "object_fit": null,
            "object_position": null,
            "order": null,
            "overflow": null,
            "overflow_x": null,
            "overflow_y": null,
            "padding": null,
            "right": null,
            "top": null,
            "visibility": null,
            "width": null
          }
        },
        "3d206bd1d22142c78493fd5d40feefec": {
          "model_module": "@jupyter-widgets/controls",
          "model_name": "DescriptionStyleModel",
          "model_module_version": "1.5.0",
          "state": {
            "_model_module": "@jupyter-widgets/controls",
            "_model_module_version": "1.5.0",
            "_model_name": "DescriptionStyleModel",
            "_view_count": null,
            "_view_module": "@jupyter-widgets/base",
            "_view_module_version": "1.2.0",
            "_view_name": "StyleView",
            "description_width": ""
          }
        },
        "6d9942d095734bd8a0ac5e19a0668814": {
          "model_module": "@jupyter-widgets/controls",
          "model_name": "HBoxModel",
          "model_module_version": "1.5.0",
          "state": {
            "_dom_classes": [],
            "_model_module": "@jupyter-widgets/controls",
            "_model_module_version": "1.5.0",
            "_model_name": "HBoxModel",
            "_view_count": null,
            "_view_module": "@jupyter-widgets/controls",
            "_view_module_version": "1.5.0",
            "_view_name": "HBoxView",
            "box_style": "",
            "children": [
              "IPY_MODEL_c0131092497441e9aa029c7f45fdef60",
              "IPY_MODEL_1fb07dff6b904794a0d96fa327deb04e",
              "IPY_MODEL_e74d7e565efb423585eb664588d063e6"
            ],
            "layout": "IPY_MODEL_00340cae3cb8414d9a9a163e6b8da4d1"
          }
        },
        "c0131092497441e9aa029c7f45fdef60": {
          "model_module": "@jupyter-widgets/controls",
          "model_name": "HTMLModel",
          "model_module_version": "1.5.0",
          "state": {
            "_dom_classes": [],
            "_model_module": "@jupyter-widgets/controls",
            "_model_module_version": "1.5.0",
            "_model_name": "HTMLModel",
            "_view_count": null,
            "_view_module": "@jupyter-widgets/controls",
            "_view_module_version": "1.5.0",
            "_view_name": "HTMLView",
            "description": "",
            "description_tooltip": null,
            "layout": "IPY_MODEL_24367b4d70c947f1ba3d12f557dc8e99",
            "placeholder": "​",
            "style": "IPY_MODEL_515a61e4e3cd4402b59387e06bad919f",
            "value": "vocab.txt: 100%"
          }
        },
        "1fb07dff6b904794a0d96fa327deb04e": {
          "model_module": "@jupyter-widgets/controls",
          "model_name": "FloatProgressModel",
          "model_module_version": "1.5.0",
          "state": {
            "_dom_classes": [],
            "_model_module": "@jupyter-widgets/controls",
            "_model_module_version": "1.5.0",
            "_model_name": "FloatProgressModel",
            "_view_count": null,
            "_view_module": "@jupyter-widgets/controls",
            "_view_module_version": "1.5.0",
            "_view_name": "ProgressView",
            "bar_style": "success",
            "description": "",
            "description_tooltip": null,
            "layout": "IPY_MODEL_a87195e326c042a99dad4fe36e23fab6",
            "max": 231508,
            "min": 0,
            "orientation": "horizontal",
            "style": "IPY_MODEL_79f8a03d605e48a4a3aec50474906cee",
            "value": 231508
          }
        },
        "e74d7e565efb423585eb664588d063e6": {
          "model_module": "@jupyter-widgets/controls",
          "model_name": "HTMLModel",
          "model_module_version": "1.5.0",
          "state": {
            "_dom_classes": [],
            "_model_module": "@jupyter-widgets/controls",
            "_model_module_version": "1.5.0",
            "_model_name": "HTMLModel",
            "_view_count": null,
            "_view_module": "@jupyter-widgets/controls",
            "_view_module_version": "1.5.0",
            "_view_name": "HTMLView",
            "description": "",
            "description_tooltip": null,
            "layout": "IPY_MODEL_5b0ee9480b9f46208b3f597f6d5ebb3e",
            "placeholder": "​",
            "style": "IPY_MODEL_337b8a994b7e46a2ac32820a3cfa592a",
            "value": " 232k/232k [00:00&lt;00:00, 13.5MB/s]"
          }
        },
        "00340cae3cb8414d9a9a163e6b8da4d1": {
          "model_module": "@jupyter-widgets/base",
          "model_name": "LayoutModel",
          "model_module_version": "1.2.0",
          "state": {
            "_model_module": "@jupyter-widgets/base",
            "_model_module_version": "1.2.0",
            "_model_name": "LayoutModel",
            "_view_count": null,
            "_view_module": "@jupyter-widgets/base",
            "_view_module_version": "1.2.0",
            "_view_name": "LayoutView",
            "align_content": null,
            "align_items": null,
            "align_self": null,
            "border": null,
            "bottom": null,
            "display": null,
            "flex": null,
            "flex_flow": null,
            "grid_area": null,
            "grid_auto_columns": null,
            "grid_auto_flow": null,
            "grid_auto_rows": null,
            "grid_column": null,
            "grid_gap": null,
            "grid_row": null,
            "grid_template_areas": null,
            "grid_template_columns": null,
            "grid_template_rows": null,
            "height": null,
            "justify_content": null,
            "justify_items": null,
            "left": null,
            "margin": null,
            "max_height": null,
            "max_width": null,
            "min_height": null,
            "min_width": null,
            "object_fit": null,
            "object_position": null,
            "order": null,
            "overflow": null,
            "overflow_x": null,
            "overflow_y": null,
            "padding": null,
            "right": null,
            "top": null,
            "visibility": null,
            "width": null
          }
        },
        "24367b4d70c947f1ba3d12f557dc8e99": {
          "model_module": "@jupyter-widgets/base",
          "model_name": "LayoutModel",
          "model_module_version": "1.2.0",
          "state": {
            "_model_module": "@jupyter-widgets/base",
            "_model_module_version": "1.2.0",
            "_model_name": "LayoutModel",
            "_view_count": null,
            "_view_module": "@jupyter-widgets/base",
            "_view_module_version": "1.2.0",
            "_view_name": "LayoutView",
            "align_content": null,
            "align_items": null,
            "align_self": null,
            "border": null,
            "bottom": null,
            "display": null,
            "flex": null,
            "flex_flow": null,
            "grid_area": null,
            "grid_auto_columns": null,
            "grid_auto_flow": null,
            "grid_auto_rows": null,
            "grid_column": null,
            "grid_gap": null,
            "grid_row": null,
            "grid_template_areas": null,
            "grid_template_columns": null,
            "grid_template_rows": null,
            "height": null,
            "justify_content": null,
            "justify_items": null,
            "left": null,
            "margin": null,
            "max_height": null,
            "max_width": null,
            "min_height": null,
            "min_width": null,
            "object_fit": null,
            "object_position": null,
            "order": null,
            "overflow": null,
            "overflow_x": null,
            "overflow_y": null,
            "padding": null,
            "right": null,
            "top": null,
            "visibility": null,
            "width": null
          }
        },
        "515a61e4e3cd4402b59387e06bad919f": {
          "model_module": "@jupyter-widgets/controls",
          "model_name": "DescriptionStyleModel",
          "model_module_version": "1.5.0",
          "state": {
            "_model_module": "@jupyter-widgets/controls",
            "_model_module_version": "1.5.0",
            "_model_name": "DescriptionStyleModel",
            "_view_count": null,
            "_view_module": "@jupyter-widgets/base",
            "_view_module_version": "1.2.0",
            "_view_name": "StyleView",
            "description_width": ""
          }
        },
        "a87195e326c042a99dad4fe36e23fab6": {
          "model_module": "@jupyter-widgets/base",
          "model_name": "LayoutModel",
          "model_module_version": "1.2.0",
          "state": {
            "_model_module": "@jupyter-widgets/base",
            "_model_module_version": "1.2.0",
            "_model_name": "LayoutModel",
            "_view_count": null,
            "_view_module": "@jupyter-widgets/base",
            "_view_module_version": "1.2.0",
            "_view_name": "LayoutView",
            "align_content": null,
            "align_items": null,
            "align_self": null,
            "border": null,
            "bottom": null,
            "display": null,
            "flex": null,
            "flex_flow": null,
            "grid_area": null,
            "grid_auto_columns": null,
            "grid_auto_flow": null,
            "grid_auto_rows": null,
            "grid_column": null,
            "grid_gap": null,
            "grid_row": null,
            "grid_template_areas": null,
            "grid_template_columns": null,
            "grid_template_rows": null,
            "height": null,
            "justify_content": null,
            "justify_items": null,
            "left": null,
            "margin": null,
            "max_height": null,
            "max_width": null,
            "min_height": null,
            "min_width": null,
            "object_fit": null,
            "object_position": null,
            "order": null,
            "overflow": null,
            "overflow_x": null,
            "overflow_y": null,
            "padding": null,
            "right": null,
            "top": null,
            "visibility": null,
            "width": null
          }
        },
        "79f8a03d605e48a4a3aec50474906cee": {
          "model_module": "@jupyter-widgets/controls",
          "model_name": "ProgressStyleModel",
          "model_module_version": "1.5.0",
          "state": {
            "_model_module": "@jupyter-widgets/controls",
            "_model_module_version": "1.5.0",
            "_model_name": "ProgressStyleModel",
            "_view_count": null,
            "_view_module": "@jupyter-widgets/base",
            "_view_module_version": "1.2.0",
            "_view_name": "StyleView",
            "bar_color": null,
            "description_width": ""
          }
        },
        "5b0ee9480b9f46208b3f597f6d5ebb3e": {
          "model_module": "@jupyter-widgets/base",
          "model_name": "LayoutModel",
          "model_module_version": "1.2.0",
          "state": {
            "_model_module": "@jupyter-widgets/base",
            "_model_module_version": "1.2.0",
            "_model_name": "LayoutModel",
            "_view_count": null,
            "_view_module": "@jupyter-widgets/base",
            "_view_module_version": "1.2.0",
            "_view_name": "LayoutView",
            "align_content": null,
            "align_items": null,
            "align_self": null,
            "border": null,
            "bottom": null,
            "display": null,
            "flex": null,
            "flex_flow": null,
            "grid_area": null,
            "grid_auto_columns": null,
            "grid_auto_flow": null,
            "grid_auto_rows": null,
            "grid_column": null,
            "grid_gap": null,
            "grid_row": null,
            "grid_template_areas": null,
            "grid_template_columns": null,
            "grid_template_rows": null,
            "height": null,
            "justify_content": null,
            "justify_items": null,
            "left": null,
            "margin": null,
            "max_height": null,
            "max_width": null,
            "min_height": null,
            "min_width": null,
            "object_fit": null,
            "object_position": null,
            "order": null,
            "overflow": null,
            "overflow_x": null,
            "overflow_y": null,
            "padding": null,
            "right": null,
            "top": null,
            "visibility": null,
            "width": null
          }
        },
        "337b8a994b7e46a2ac32820a3cfa592a": {
          "model_module": "@jupyter-widgets/controls",
          "model_name": "DescriptionStyleModel",
          "model_module_version": "1.5.0",
          "state": {
            "_model_module": "@jupyter-widgets/controls",
            "_model_module_version": "1.5.0",
            "_model_name": "DescriptionStyleModel",
            "_view_count": null,
            "_view_module": "@jupyter-widgets/base",
            "_view_module_version": "1.2.0",
            "_view_name": "StyleView",
            "description_width": ""
          }
        },
        "9e062acfcf10410c96b80f321ac5ed70": {
          "model_module": "@jupyter-widgets/controls",
          "model_name": "HBoxModel",
          "model_module_version": "1.5.0",
          "state": {
            "_dom_classes": [],
            "_model_module": "@jupyter-widgets/controls",
            "_model_module_version": "1.5.0",
            "_model_name": "HBoxModel",
            "_view_count": null,
            "_view_module": "@jupyter-widgets/controls",
            "_view_module_version": "1.5.0",
            "_view_name": "HBoxView",
            "box_style": "",
            "children": [
              "IPY_MODEL_0161b87f162f4fb5a7ee1de3b793281f",
              "IPY_MODEL_2202c5d7cce44756b4fc908a13eeb9bc",
              "IPY_MODEL_6bb79187ee184a3ea047370c0567b41f"
            ],
            "layout": "IPY_MODEL_c6d897a4b8154a70ba5b6105f2e3ee4a"
          }
        },
        "0161b87f162f4fb5a7ee1de3b793281f": {
          "model_module": "@jupyter-widgets/controls",
          "model_name": "HTMLModel",
          "model_module_version": "1.5.0",
          "state": {
            "_dom_classes": [],
            "_model_module": "@jupyter-widgets/controls",
            "_model_module_version": "1.5.0",
            "_model_name": "HTMLModel",
            "_view_count": null,
            "_view_module": "@jupyter-widgets/controls",
            "_view_module_version": "1.5.0",
            "_view_name": "HTMLView",
            "description": "",
            "description_tooltip": null,
            "layout": "IPY_MODEL_86fa8037dc3044639e4a7623ab78336d",
            "placeholder": "​",
            "style": "IPY_MODEL_20f351cd66ff4167b2811f733575ce3e",
            "value": "tokenizer.json: 100%"
          }
        },
        "2202c5d7cce44756b4fc908a13eeb9bc": {
          "model_module": "@jupyter-widgets/controls",
          "model_name": "FloatProgressModel",
          "model_module_version": "1.5.0",
          "state": {
            "_dom_classes": [],
            "_model_module": "@jupyter-widgets/controls",
            "_model_module_version": "1.5.0",
            "_model_name": "FloatProgressModel",
            "_view_count": null,
            "_view_module": "@jupyter-widgets/controls",
            "_view_module_version": "1.5.0",
            "_view_name": "ProgressView",
            "bar_style": "success",
            "description": "",
            "description_tooltip": null,
            "layout": "IPY_MODEL_dcaffb9901c14004b50ba1ce541cf4d9",
            "max": 466062,
            "min": 0,
            "orientation": "horizontal",
            "style": "IPY_MODEL_93aa01a2c1624e6684c63d89721ce09a",
            "value": 466062
          }
        },
        "6bb79187ee184a3ea047370c0567b41f": {
          "model_module": "@jupyter-widgets/controls",
          "model_name": "HTMLModel",
          "model_module_version": "1.5.0",
          "state": {
            "_dom_classes": [],
            "_model_module": "@jupyter-widgets/controls",
            "_model_module_version": "1.5.0",
            "_model_name": "HTMLModel",
            "_view_count": null,
            "_view_module": "@jupyter-widgets/controls",
            "_view_module_version": "1.5.0",
            "_view_name": "HTMLView",
            "description": "",
            "description_tooltip": null,
            "layout": "IPY_MODEL_8c0e73ef712045a792e664619fad8547",
            "placeholder": "​",
            "style": "IPY_MODEL_0256579e738645ffbfa964a61adc32d6",
            "value": " 466k/466k [00:00&lt;00:00, 31.5MB/s]"
          }
        },
        "c6d897a4b8154a70ba5b6105f2e3ee4a": {
          "model_module": "@jupyter-widgets/base",
          "model_name": "LayoutModel",
          "model_module_version": "1.2.0",
          "state": {
            "_model_module": "@jupyter-widgets/base",
            "_model_module_version": "1.2.0",
            "_model_name": "LayoutModel",
            "_view_count": null,
            "_view_module": "@jupyter-widgets/base",
            "_view_module_version": "1.2.0",
            "_view_name": "LayoutView",
            "align_content": null,
            "align_items": null,
            "align_self": null,
            "border": null,
            "bottom": null,
            "display": null,
            "flex": null,
            "flex_flow": null,
            "grid_area": null,
            "grid_auto_columns": null,
            "grid_auto_flow": null,
            "grid_auto_rows": null,
            "grid_column": null,
            "grid_gap": null,
            "grid_row": null,
            "grid_template_areas": null,
            "grid_template_columns": null,
            "grid_template_rows": null,
            "height": null,
            "justify_content": null,
            "justify_items": null,
            "left": null,
            "margin": null,
            "max_height": null,
            "max_width": null,
            "min_height": null,
            "min_width": null,
            "object_fit": null,
            "object_position": null,
            "order": null,
            "overflow": null,
            "overflow_x": null,
            "overflow_y": null,
            "padding": null,
            "right": null,
            "top": null,
            "visibility": null,
            "width": null
          }
        },
        "86fa8037dc3044639e4a7623ab78336d": {
          "model_module": "@jupyter-widgets/base",
          "model_name": "LayoutModel",
          "model_module_version": "1.2.0",
          "state": {
            "_model_module": "@jupyter-widgets/base",
            "_model_module_version": "1.2.0",
            "_model_name": "LayoutModel",
            "_view_count": null,
            "_view_module": "@jupyter-widgets/base",
            "_view_module_version": "1.2.0",
            "_view_name": "LayoutView",
            "align_content": null,
            "align_items": null,
            "align_self": null,
            "border": null,
            "bottom": null,
            "display": null,
            "flex": null,
            "flex_flow": null,
            "grid_area": null,
            "grid_auto_columns": null,
            "grid_auto_flow": null,
            "grid_auto_rows": null,
            "grid_column": null,
            "grid_gap": null,
            "grid_row": null,
            "grid_template_areas": null,
            "grid_template_columns": null,
            "grid_template_rows": null,
            "height": null,
            "justify_content": null,
            "justify_items": null,
            "left": null,
            "margin": null,
            "max_height": null,
            "max_width": null,
            "min_height": null,
            "min_width": null,
            "object_fit": null,
            "object_position": null,
            "order": null,
            "overflow": null,
            "overflow_x": null,
            "overflow_y": null,
            "padding": null,
            "right": null,
            "top": null,
            "visibility": null,
            "width": null
          }
        },
        "20f351cd66ff4167b2811f733575ce3e": {
          "model_module": "@jupyter-widgets/controls",
          "model_name": "DescriptionStyleModel",
          "model_module_version": "1.5.0",
          "state": {
            "_model_module": "@jupyter-widgets/controls",
            "_model_module_version": "1.5.0",
            "_model_name": "DescriptionStyleModel",
            "_view_count": null,
            "_view_module": "@jupyter-widgets/base",
            "_view_module_version": "1.2.0",
            "_view_name": "StyleView",
            "description_width": ""
          }
        },
        "dcaffb9901c14004b50ba1ce541cf4d9": {
          "model_module": "@jupyter-widgets/base",
          "model_name": "LayoutModel",
          "model_module_version": "1.2.0",
          "state": {
            "_model_module": "@jupyter-widgets/base",
            "_model_module_version": "1.2.0",
            "_model_name": "LayoutModel",
            "_view_count": null,
            "_view_module": "@jupyter-widgets/base",
            "_view_module_version": "1.2.0",
            "_view_name": "LayoutView",
            "align_content": null,
            "align_items": null,
            "align_self": null,
            "border": null,
            "bottom": null,
            "display": null,
            "flex": null,
            "flex_flow": null,
            "grid_area": null,
            "grid_auto_columns": null,
            "grid_auto_flow": null,
            "grid_auto_rows": null,
            "grid_column": null,
            "grid_gap": null,
            "grid_row": null,
            "grid_template_areas": null,
            "grid_template_columns": null,
            "grid_template_rows": null,
            "height": null,
            "justify_content": null,
            "justify_items": null,
            "left": null,
            "margin": null,
            "max_height": null,
            "max_width": null,
            "min_height": null,
            "min_width": null,
            "object_fit": null,
            "object_position": null,
            "order": null,
            "overflow": null,
            "overflow_x": null,
            "overflow_y": null,
            "padding": null,
            "right": null,
            "top": null,
            "visibility": null,
            "width": null
          }
        },
        "93aa01a2c1624e6684c63d89721ce09a": {
          "model_module": "@jupyter-widgets/controls",
          "model_name": "ProgressStyleModel",
          "model_module_version": "1.5.0",
          "state": {
            "_model_module": "@jupyter-widgets/controls",
            "_model_module_version": "1.5.0",
            "_model_name": "ProgressStyleModel",
            "_view_count": null,
            "_view_module": "@jupyter-widgets/base",
            "_view_module_version": "1.2.0",
            "_view_name": "StyleView",
            "bar_color": null,
            "description_width": ""
          }
        },
        "8c0e73ef712045a792e664619fad8547": {
          "model_module": "@jupyter-widgets/base",
          "model_name": "LayoutModel",
          "model_module_version": "1.2.0",
          "state": {
            "_model_module": "@jupyter-widgets/base",
            "_model_module_version": "1.2.0",
            "_model_name": "LayoutModel",
            "_view_count": null,
            "_view_module": "@jupyter-widgets/base",
            "_view_module_version": "1.2.0",
            "_view_name": "LayoutView",
            "align_content": null,
            "align_items": null,
            "align_self": null,
            "border": null,
            "bottom": null,
            "display": null,
            "flex": null,
            "flex_flow": null,
            "grid_area": null,
            "grid_auto_columns": null,
            "grid_auto_flow": null,
            "grid_auto_rows": null,
            "grid_column": null,
            "grid_gap": null,
            "grid_row": null,
            "grid_template_areas": null,
            "grid_template_columns": null,
            "grid_template_rows": null,
            "height": null,
            "justify_content": null,
            "justify_items": null,
            "left": null,
            "margin": null,
            "max_height": null,
            "max_width": null,
            "min_height": null,
            "min_width": null,
            "object_fit": null,
            "object_position": null,
            "order": null,
            "overflow": null,
            "overflow_x": null,
            "overflow_y": null,
            "padding": null,
            "right": null,
            "top": null,
            "visibility": null,
            "width": null
          }
        },
        "0256579e738645ffbfa964a61adc32d6": {
          "model_module": "@jupyter-widgets/controls",
          "model_name": "DescriptionStyleModel",
          "model_module_version": "1.5.0",
          "state": {
            "_model_module": "@jupyter-widgets/controls",
            "_model_module_version": "1.5.0",
            "_model_name": "DescriptionStyleModel",
            "_view_count": null,
            "_view_module": "@jupyter-widgets/base",
            "_view_module_version": "1.2.0",
            "_view_name": "StyleView",
            "description_width": ""
          }
        },
        "050104d928c74acb9612a8c73ce494a7": {
          "model_module": "@jupyter-widgets/controls",
          "model_name": "HBoxModel",
          "model_module_version": "1.5.0",
          "state": {
            "_dom_classes": [],
            "_model_module": "@jupyter-widgets/controls",
            "_model_module_version": "1.5.0",
            "_model_name": "HBoxModel",
            "_view_count": null,
            "_view_module": "@jupyter-widgets/controls",
            "_view_module_version": "1.5.0",
            "_view_name": "HBoxView",
            "box_style": "",
            "children": [
              "IPY_MODEL_406c5f0c780144f699fdabbfd14e42a4",
              "IPY_MODEL_4451e74a25a44370aad28897d96ff47d",
              "IPY_MODEL_3242049b5a5d435886f3e85e03faa049"
            ],
            "layout": "IPY_MODEL_722d8fb4c1e54a508f71682bfd4cc94d"
          }
        },
        "406c5f0c780144f699fdabbfd14e42a4": {
          "model_module": "@jupyter-widgets/controls",
          "model_name": "HTMLModel",
          "model_module_version": "1.5.0",
          "state": {
            "_dom_classes": [],
            "_model_module": "@jupyter-widgets/controls",
            "_model_module_version": "1.5.0",
            "_model_name": "HTMLModel",
            "_view_count": null,
            "_view_module": "@jupyter-widgets/controls",
            "_view_module_version": "1.5.0",
            "_view_name": "HTMLView",
            "description": "",
            "description_tooltip": null,
            "layout": "IPY_MODEL_5ceb60e5edfa4d86a91f9aa1591593b6",
            "placeholder": "​",
            "style": "IPY_MODEL_b71090cdb6394bcfb9b5106db568e9c5",
            "value": "config.json: 100%"
          }
        },
        "4451e74a25a44370aad28897d96ff47d": {
          "model_module": "@jupyter-widgets/controls",
          "model_name": "FloatProgressModel",
          "model_module_version": "1.5.0",
          "state": {
            "_dom_classes": [],
            "_model_module": "@jupyter-widgets/controls",
            "_model_module_version": "1.5.0",
            "_model_name": "FloatProgressModel",
            "_view_count": null,
            "_view_module": "@jupyter-widgets/controls",
            "_view_module_version": "1.5.0",
            "_view_name": "ProgressView",
            "bar_style": "success",
            "description": "",
            "description_tooltip": null,
            "layout": "IPY_MODEL_fe4f374ec27541cbb61bf4bf9bbc038c",
            "max": 570,
            "min": 0,
            "orientation": "horizontal",
            "style": "IPY_MODEL_1a7c02c04d614bd5b624e8c29d7f030f",
            "value": 570
          }
        },
        "3242049b5a5d435886f3e85e03faa049": {
          "model_module": "@jupyter-widgets/controls",
          "model_name": "HTMLModel",
          "model_module_version": "1.5.0",
          "state": {
            "_dom_classes": [],
            "_model_module": "@jupyter-widgets/controls",
            "_model_module_version": "1.5.0",
            "_model_name": "HTMLModel",
            "_view_count": null,
            "_view_module": "@jupyter-widgets/controls",
            "_view_module_version": "1.5.0",
            "_view_name": "HTMLView",
            "description": "",
            "description_tooltip": null,
            "layout": "IPY_MODEL_e12b53035ecd48ed8897b4ca7e5f7759",
            "placeholder": "​",
            "style": "IPY_MODEL_200b8048d91248f69ef7d35fe082953d",
            "value": " 570/570 [00:00&lt;00:00, 40.1kB/s]"
          }
        },
        "722d8fb4c1e54a508f71682bfd4cc94d": {
          "model_module": "@jupyter-widgets/base",
          "model_name": "LayoutModel",
          "model_module_version": "1.2.0",
          "state": {
            "_model_module": "@jupyter-widgets/base",
            "_model_module_version": "1.2.0",
            "_model_name": "LayoutModel",
            "_view_count": null,
            "_view_module": "@jupyter-widgets/base",
            "_view_module_version": "1.2.0",
            "_view_name": "LayoutView",
            "align_content": null,
            "align_items": null,
            "align_self": null,
            "border": null,
            "bottom": null,
            "display": null,
            "flex": null,
            "flex_flow": null,
            "grid_area": null,
            "grid_auto_columns": null,
            "grid_auto_flow": null,
            "grid_auto_rows": null,
            "grid_column": null,
            "grid_gap": null,
            "grid_row": null,
            "grid_template_areas": null,
            "grid_template_columns": null,
            "grid_template_rows": null,
            "height": null,
            "justify_content": null,
            "justify_items": null,
            "left": null,
            "margin": null,
            "max_height": null,
            "max_width": null,
            "min_height": null,
            "min_width": null,
            "object_fit": null,
            "object_position": null,
            "order": null,
            "overflow": null,
            "overflow_x": null,
            "overflow_y": null,
            "padding": null,
            "right": null,
            "top": null,
            "visibility": null,
            "width": null
          }
        },
        "5ceb60e5edfa4d86a91f9aa1591593b6": {
          "model_module": "@jupyter-widgets/base",
          "model_name": "LayoutModel",
          "model_module_version": "1.2.0",
          "state": {
            "_model_module": "@jupyter-widgets/base",
            "_model_module_version": "1.2.0",
            "_model_name": "LayoutModel",
            "_view_count": null,
            "_view_module": "@jupyter-widgets/base",
            "_view_module_version": "1.2.0",
            "_view_name": "LayoutView",
            "align_content": null,
            "align_items": null,
            "align_self": null,
            "border": null,
            "bottom": null,
            "display": null,
            "flex": null,
            "flex_flow": null,
            "grid_area": null,
            "grid_auto_columns": null,
            "grid_auto_flow": null,
            "grid_auto_rows": null,
            "grid_column": null,
            "grid_gap": null,
            "grid_row": null,
            "grid_template_areas": null,
            "grid_template_columns": null,
            "grid_template_rows": null,
            "height": null,
            "justify_content": null,
            "justify_items": null,
            "left": null,
            "margin": null,
            "max_height": null,
            "max_width": null,
            "min_height": null,
            "min_width": null,
            "object_fit": null,
            "object_position": null,
            "order": null,
            "overflow": null,
            "overflow_x": null,
            "overflow_y": null,
            "padding": null,
            "right": null,
            "top": null,
            "visibility": null,
            "width": null
          }
        },
        "b71090cdb6394bcfb9b5106db568e9c5": {
          "model_module": "@jupyter-widgets/controls",
          "model_name": "DescriptionStyleModel",
          "model_module_version": "1.5.0",
          "state": {
            "_model_module": "@jupyter-widgets/controls",
            "_model_module_version": "1.5.0",
            "_model_name": "DescriptionStyleModel",
            "_view_count": null,
            "_view_module": "@jupyter-widgets/base",
            "_view_module_version": "1.2.0",
            "_view_name": "StyleView",
            "description_width": ""
          }
        },
        "fe4f374ec27541cbb61bf4bf9bbc038c": {
          "model_module": "@jupyter-widgets/base",
          "model_name": "LayoutModel",
          "model_module_version": "1.2.0",
          "state": {
            "_model_module": "@jupyter-widgets/base",
            "_model_module_version": "1.2.0",
            "_model_name": "LayoutModel",
            "_view_count": null,
            "_view_module": "@jupyter-widgets/base",
            "_view_module_version": "1.2.0",
            "_view_name": "LayoutView",
            "align_content": null,
            "align_items": null,
            "align_self": null,
            "border": null,
            "bottom": null,
            "display": null,
            "flex": null,
            "flex_flow": null,
            "grid_area": null,
            "grid_auto_columns": null,
            "grid_auto_flow": null,
            "grid_auto_rows": null,
            "grid_column": null,
            "grid_gap": null,
            "grid_row": null,
            "grid_template_areas": null,
            "grid_template_columns": null,
            "grid_template_rows": null,
            "height": null,
            "justify_content": null,
            "justify_items": null,
            "left": null,
            "margin": null,
            "max_height": null,
            "max_width": null,
            "min_height": null,
            "min_width": null,
            "object_fit": null,
            "object_position": null,
            "order": null,
            "overflow": null,
            "overflow_x": null,
            "overflow_y": null,
            "padding": null,
            "right": null,
            "top": null,
            "visibility": null,
            "width": null
          }
        },
        "1a7c02c04d614bd5b624e8c29d7f030f": {
          "model_module": "@jupyter-widgets/controls",
          "model_name": "ProgressStyleModel",
          "model_module_version": "1.5.0",
          "state": {
            "_model_module": "@jupyter-widgets/controls",
            "_model_module_version": "1.5.0",
            "_model_name": "ProgressStyleModel",
            "_view_count": null,
            "_view_module": "@jupyter-widgets/base",
            "_view_module_version": "1.2.0",
            "_view_name": "StyleView",
            "bar_color": null,
            "description_width": ""
          }
        },
        "e12b53035ecd48ed8897b4ca7e5f7759": {
          "model_module": "@jupyter-widgets/base",
          "model_name": "LayoutModel",
          "model_module_version": "1.2.0",
          "state": {
            "_model_module": "@jupyter-widgets/base",
            "_model_module_version": "1.2.0",
            "_model_name": "LayoutModel",
            "_view_count": null,
            "_view_module": "@jupyter-widgets/base",
            "_view_module_version": "1.2.0",
            "_view_name": "LayoutView",
            "align_content": null,
            "align_items": null,
            "align_self": null,
            "border": null,
            "bottom": null,
            "display": null,
            "flex": null,
            "flex_flow": null,
            "grid_area": null,
            "grid_auto_columns": null,
            "grid_auto_flow": null,
            "grid_auto_rows": null,
            "grid_column": null,
            "grid_gap": null,
            "grid_row": null,
            "grid_template_areas": null,
            "grid_template_columns": null,
            "grid_template_rows": null,
            "height": null,
            "justify_content": null,
            "justify_items": null,
            "left": null,
            "margin": null,
            "max_height": null,
            "max_width": null,
            "min_height": null,
            "min_width": null,
            "object_fit": null,
            "object_position": null,
            "order": null,
            "overflow": null,
            "overflow_x": null,
            "overflow_y": null,
            "padding": null,
            "right": null,
            "top": null,
            "visibility": null,
            "width": null
          }
        },
        "200b8048d91248f69ef7d35fe082953d": {
          "model_module": "@jupyter-widgets/controls",
          "model_name": "DescriptionStyleModel",
          "model_module_version": "1.5.0",
          "state": {
            "_model_module": "@jupyter-widgets/controls",
            "_model_module_version": "1.5.0",
            "_model_name": "DescriptionStyleModel",
            "_view_count": null,
            "_view_module": "@jupyter-widgets/base",
            "_view_module_version": "1.2.0",
            "_view_name": "StyleView",
            "description_width": ""
          }
        },
        "74afde58b0ff45e991a3ea73a569abd8": {
          "model_module": "@jupyter-widgets/controls",
          "model_name": "HBoxModel",
          "model_module_version": "1.5.0",
          "state": {
            "_dom_classes": [],
            "_model_module": "@jupyter-widgets/controls",
            "_model_module_version": "1.5.0",
            "_model_name": "HBoxModel",
            "_view_count": null,
            "_view_module": "@jupyter-widgets/controls",
            "_view_module_version": "1.5.0",
            "_view_name": "HBoxView",
            "box_style": "",
            "children": [
              "IPY_MODEL_5ac8faf9bb7e4f13a00a9616032f5c09",
              "IPY_MODEL_a6de591bb09648bebc93f5752e4fbb95",
              "IPY_MODEL_599f3a11718045328be659c4c3248de5"
            ],
            "layout": "IPY_MODEL_1f9dd9a7c3d94d569af551301989f280"
          }
        },
        "5ac8faf9bb7e4f13a00a9616032f5c09": {
          "model_module": "@jupyter-widgets/controls",
          "model_name": "HTMLModel",
          "model_module_version": "1.5.0",
          "state": {
            "_dom_classes": [],
            "_model_module": "@jupyter-widgets/controls",
            "_model_module_version": "1.5.0",
            "_model_name": "HTMLModel",
            "_view_count": null,
            "_view_module": "@jupyter-widgets/controls",
            "_view_module_version": "1.5.0",
            "_view_name": "HTMLView",
            "description": "",
            "description_tooltip": null,
            "layout": "IPY_MODEL_c1a45a513e0b4b46b39f881c23784073",
            "placeholder": "​",
            "style": "IPY_MODEL_4f8d85f106264c6d8e6847d2c79310b1",
            "value": "README.md: 100%"
          }
        },
        "a6de591bb09648bebc93f5752e4fbb95": {
          "model_module": "@jupyter-widgets/controls",
          "model_name": "FloatProgressModel",
          "model_module_version": "1.5.0",
          "state": {
            "_dom_classes": [],
            "_model_module": "@jupyter-widgets/controls",
            "_model_module_version": "1.5.0",
            "_model_name": "FloatProgressModel",
            "_view_count": null,
            "_view_module": "@jupyter-widgets/controls",
            "_view_module_version": "1.5.0",
            "_view_name": "ProgressView",
            "bar_style": "success",
            "description": "",
            "description_tooltip": null,
            "layout": "IPY_MODEL_7e7d0881870a45f69fdc37fba70e5bdf",
            "max": 6812,
            "min": 0,
            "orientation": "horizontal",
            "style": "IPY_MODEL_0509c7233ae04d6abdffba20a1da4900",
            "value": 6812
          }
        },
        "599f3a11718045328be659c4c3248de5": {
          "model_module": "@jupyter-widgets/controls",
          "model_name": "HTMLModel",
          "model_module_version": "1.5.0",
          "state": {
            "_dom_classes": [],
            "_model_module": "@jupyter-widgets/controls",
            "_model_module_version": "1.5.0",
            "_model_name": "HTMLModel",
            "_view_count": null,
            "_view_module": "@jupyter-widgets/controls",
            "_view_module_version": "1.5.0",
            "_view_name": "HTMLView",
            "description": "",
            "description_tooltip": null,
            "layout": "IPY_MODEL_b56a0b63ba384d1ca548a1b36e6265ac",
            "placeholder": "​",
            "style": "IPY_MODEL_fbf93a43d947427898bc5ba761fccfd1",
            "value": " 6.81k/6.81k [00:00&lt;00:00, 353kB/s]"
          }
        },
        "1f9dd9a7c3d94d569af551301989f280": {
          "model_module": "@jupyter-widgets/base",
          "model_name": "LayoutModel",
          "model_module_version": "1.2.0",
          "state": {
            "_model_module": "@jupyter-widgets/base",
            "_model_module_version": "1.2.0",
            "_model_name": "LayoutModel",
            "_view_count": null,
            "_view_module": "@jupyter-widgets/base",
            "_view_module_version": "1.2.0",
            "_view_name": "LayoutView",
            "align_content": null,
            "align_items": null,
            "align_self": null,
            "border": null,
            "bottom": null,
            "display": null,
            "flex": null,
            "flex_flow": null,
            "grid_area": null,
            "grid_auto_columns": null,
            "grid_auto_flow": null,
            "grid_auto_rows": null,
            "grid_column": null,
            "grid_gap": null,
            "grid_row": null,
            "grid_template_areas": null,
            "grid_template_columns": null,
            "grid_template_rows": null,
            "height": null,
            "justify_content": null,
            "justify_items": null,
            "left": null,
            "margin": null,
            "max_height": null,
            "max_width": null,
            "min_height": null,
            "min_width": null,
            "object_fit": null,
            "object_position": null,
            "order": null,
            "overflow": null,
            "overflow_x": null,
            "overflow_y": null,
            "padding": null,
            "right": null,
            "top": null,
            "visibility": null,
            "width": null
          }
        },
        "c1a45a513e0b4b46b39f881c23784073": {
          "model_module": "@jupyter-widgets/base",
          "model_name": "LayoutModel",
          "model_module_version": "1.2.0",
          "state": {
            "_model_module": "@jupyter-widgets/base",
            "_model_module_version": "1.2.0",
            "_model_name": "LayoutModel",
            "_view_count": null,
            "_view_module": "@jupyter-widgets/base",
            "_view_module_version": "1.2.0",
            "_view_name": "LayoutView",
            "align_content": null,
            "align_items": null,
            "align_self": null,
            "border": null,
            "bottom": null,
            "display": null,
            "flex": null,
            "flex_flow": null,
            "grid_area": null,
            "grid_auto_columns": null,
            "grid_auto_flow": null,
            "grid_auto_rows": null,
            "grid_column": null,
            "grid_gap": null,
            "grid_row": null,
            "grid_template_areas": null,
            "grid_template_columns": null,
            "grid_template_rows": null,
            "height": null,
            "justify_content": null,
            "justify_items": null,
            "left": null,
            "margin": null,
            "max_height": null,
            "max_width": null,
            "min_height": null,
            "min_width": null,
            "object_fit": null,
            "object_position": null,
            "order": null,
            "overflow": null,
            "overflow_x": null,
            "overflow_y": null,
            "padding": null,
            "right": null,
            "top": null,
            "visibility": null,
            "width": null
          }
        },
        "4f8d85f106264c6d8e6847d2c79310b1": {
          "model_module": "@jupyter-widgets/controls",
          "model_name": "DescriptionStyleModel",
          "model_module_version": "1.5.0",
          "state": {
            "_model_module": "@jupyter-widgets/controls",
            "_model_module_version": "1.5.0",
            "_model_name": "DescriptionStyleModel",
            "_view_count": null,
            "_view_module": "@jupyter-widgets/base",
            "_view_module_version": "1.2.0",
            "_view_name": "StyleView",
            "description_width": ""
          }
        },
        "7e7d0881870a45f69fdc37fba70e5bdf": {
          "model_module": "@jupyter-widgets/base",
          "model_name": "LayoutModel",
          "model_module_version": "1.2.0",
          "state": {
            "_model_module": "@jupyter-widgets/base",
            "_model_module_version": "1.2.0",
            "_model_name": "LayoutModel",
            "_view_count": null,
            "_view_module": "@jupyter-widgets/base",
            "_view_module_version": "1.2.0",
            "_view_name": "LayoutView",
            "align_content": null,
            "align_items": null,
            "align_self": null,
            "border": null,
            "bottom": null,
            "display": null,
            "flex": null,
            "flex_flow": null,
            "grid_area": null,
            "grid_auto_columns": null,
            "grid_auto_flow": null,
            "grid_auto_rows": null,
            "grid_column": null,
            "grid_gap": null,
            "grid_row": null,
            "grid_template_areas": null,
            "grid_template_columns": null,
            "grid_template_rows": null,
            "height": null,
            "justify_content": null,
            "justify_items": null,
            "left": null,
            "margin": null,
            "max_height": null,
            "max_width": null,
            "min_height": null,
            "min_width": null,
            "object_fit": null,
            "object_position": null,
            "order": null,
            "overflow": null,
            "overflow_x": null,
            "overflow_y": null,
            "padding": null,
            "right": null,
            "top": null,
            "visibility": null,
            "width": null
          }
        },
        "0509c7233ae04d6abdffba20a1da4900": {
          "model_module": "@jupyter-widgets/controls",
          "model_name": "ProgressStyleModel",
          "model_module_version": "1.5.0",
          "state": {
            "_model_module": "@jupyter-widgets/controls",
            "_model_module_version": "1.5.0",
            "_model_name": "ProgressStyleModel",
            "_view_count": null,
            "_view_module": "@jupyter-widgets/base",
            "_view_module_version": "1.2.0",
            "_view_name": "StyleView",
            "bar_color": null,
            "description_width": ""
          }
        },
        "b56a0b63ba384d1ca548a1b36e6265ac": {
          "model_module": "@jupyter-widgets/base",
          "model_name": "LayoutModel",
          "model_module_version": "1.2.0",
          "state": {
            "_model_module": "@jupyter-widgets/base",
            "_model_module_version": "1.2.0",
            "_model_name": "LayoutModel",
            "_view_count": null,
            "_view_module": "@jupyter-widgets/base",
            "_view_module_version": "1.2.0",
            "_view_name": "LayoutView",
            "align_content": null,
            "align_items": null,
            "align_self": null,
            "border": null,
            "bottom": null,
            "display": null,
            "flex": null,
            "flex_flow": null,
            "grid_area": null,
            "grid_auto_columns": null,
            "grid_auto_flow": null,
            "grid_auto_rows": null,
            "grid_column": null,
            "grid_gap": null,
            "grid_row": null,
            "grid_template_areas": null,
            "grid_template_columns": null,
            "grid_template_rows": null,
            "height": null,
            "justify_content": null,
            "justify_items": null,
            "left": null,
            "margin": null,
            "max_height": null,
            "max_width": null,
            "min_height": null,
            "min_width": null,
            "object_fit": null,
            "object_position": null,
            "order": null,
            "overflow": null,
            "overflow_x": null,
            "overflow_y": null,
            "padding": null,
            "right": null,
            "top": null,
            "visibility": null,
            "width": null
          }
        },
        "fbf93a43d947427898bc5ba761fccfd1": {
          "model_module": "@jupyter-widgets/controls",
          "model_name": "DescriptionStyleModel",
          "model_module_version": "1.5.0",
          "state": {
            "_model_module": "@jupyter-widgets/controls",
            "_model_module_version": "1.5.0",
            "_model_name": "DescriptionStyleModel",
            "_view_count": null,
            "_view_module": "@jupyter-widgets/base",
            "_view_module_version": "1.2.0",
            "_view_name": "StyleView",
            "description_width": ""
          }
        },
        "06240a74e55c4426bac28fe695036bbb": {
          "model_module": "@jupyter-widgets/controls",
          "model_name": "HBoxModel",
          "model_module_version": "1.5.0",
          "state": {
            "_dom_classes": [],
            "_model_module": "@jupyter-widgets/controls",
            "_model_module_version": "1.5.0",
            "_model_name": "HBoxModel",
            "_view_count": null,
            "_view_module": "@jupyter-widgets/controls",
            "_view_module_version": "1.5.0",
            "_view_name": "HBoxView",
            "box_style": "",
            "children": [
              "IPY_MODEL_88e0f89236d64faea7f57d26b9bf1384",
              "IPY_MODEL_91e8ac52037e475aacc1922340a52ac1",
              "IPY_MODEL_48a2152104374175aea0c619e50cd0f5"
            ],
            "layout": "IPY_MODEL_52fdec9a5ec84095a89daf5e49887afe"
          }
        },
        "88e0f89236d64faea7f57d26b9bf1384": {
          "model_module": "@jupyter-widgets/controls",
          "model_name": "HTMLModel",
          "model_module_version": "1.5.0",
          "state": {
            "_dom_classes": [],
            "_model_module": "@jupyter-widgets/controls",
            "_model_module_version": "1.5.0",
            "_model_name": "HTMLModel",
            "_view_count": null,
            "_view_module": "@jupyter-widgets/controls",
            "_view_module_version": "1.5.0",
            "_view_name": "HTMLView",
            "description": "",
            "description_tooltip": null,
            "layout": "IPY_MODEL_90397be8306e43f0b02414c879f16bd8",
            "placeholder": "​",
            "style": "IPY_MODEL_9c65dd15225f481dafc75c4800b89e86",
            "value": "train-00000-of-00004.parquet: 100%"
          }
        },
        "91e8ac52037e475aacc1922340a52ac1": {
          "model_module": "@jupyter-widgets/controls",
          "model_name": "FloatProgressModel",
          "model_module_version": "1.5.0",
          "state": {
            "_dom_classes": [],
            "_model_module": "@jupyter-widgets/controls",
            "_model_module_version": "1.5.0",
            "_model_name": "FloatProgressModel",
            "_view_count": null,
            "_view_module": "@jupyter-widgets/controls",
            "_view_module_version": "1.5.0",
            "_view_name": "ProgressView",
            "bar_style": "success",
            "description": "",
            "description_tooltip": null,
            "layout": "IPY_MODEL_dd39a234d7104689b7646be1b289d6c2",
            "max": 259761770,
            "min": 0,
            "orientation": "horizontal",
            "style": "IPY_MODEL_bdd34abe49294d3eba0a7eb658d723eb",
            "value": 259761770
          }
        },
        "48a2152104374175aea0c619e50cd0f5": {
          "model_module": "@jupyter-widgets/controls",
          "model_name": "HTMLModel",
          "model_module_version": "1.5.0",
          "state": {
            "_dom_classes": [],
            "_model_module": "@jupyter-widgets/controls",
            "_model_module_version": "1.5.0",
            "_model_name": "HTMLModel",
            "_view_count": null,
            "_view_module": "@jupyter-widgets/controls",
            "_view_module_version": "1.5.0",
            "_view_name": "HTMLView",
            "description": "",
            "description_tooltip": null,
            "layout": "IPY_MODEL_5e53b7f3b2e84882879cc6f664d2be3e",
            "placeholder": "​",
            "style": "IPY_MODEL_e4d05dd84b014e83847ee38edf0ad67f",
            "value": " 260M/260M [00:01&lt;00:00, 249MB/s]"
          }
        },
        "52fdec9a5ec84095a89daf5e49887afe": {
          "model_module": "@jupyter-widgets/base",
          "model_name": "LayoutModel",
          "model_module_version": "1.2.0",
          "state": {
            "_model_module": "@jupyter-widgets/base",
            "_model_module_version": "1.2.0",
            "_model_name": "LayoutModel",
            "_view_count": null,
            "_view_module": "@jupyter-widgets/base",
            "_view_module_version": "1.2.0",
            "_view_name": "LayoutView",
            "align_content": null,
            "align_items": null,
            "align_self": null,
            "border": null,
            "bottom": null,
            "display": null,
            "flex": null,
            "flex_flow": null,
            "grid_area": null,
            "grid_auto_columns": null,
            "grid_auto_flow": null,
            "grid_auto_rows": null,
            "grid_column": null,
            "grid_gap": null,
            "grid_row": null,
            "grid_template_areas": null,
            "grid_template_columns": null,
            "grid_template_rows": null,
            "height": null,
            "justify_content": null,
            "justify_items": null,
            "left": null,
            "margin": null,
            "max_height": null,
            "max_width": null,
            "min_height": null,
            "min_width": null,
            "object_fit": null,
            "object_position": null,
            "order": null,
            "overflow": null,
            "overflow_x": null,
            "overflow_y": null,
            "padding": null,
            "right": null,
            "top": null,
            "visibility": null,
            "width": null
          }
        },
        "90397be8306e43f0b02414c879f16bd8": {
          "model_module": "@jupyter-widgets/base",
          "model_name": "LayoutModel",
          "model_module_version": "1.2.0",
          "state": {
            "_model_module": "@jupyter-widgets/base",
            "_model_module_version": "1.2.0",
            "_model_name": "LayoutModel",
            "_view_count": null,
            "_view_module": "@jupyter-widgets/base",
            "_view_module_version": "1.2.0",
            "_view_name": "LayoutView",
            "align_content": null,
            "align_items": null,
            "align_self": null,
            "border": null,
            "bottom": null,
            "display": null,
            "flex": null,
            "flex_flow": null,
            "grid_area": null,
            "grid_auto_columns": null,
            "grid_auto_flow": null,
            "grid_auto_rows": null,
            "grid_column": null,
            "grid_gap": null,
            "grid_row": null,
            "grid_template_areas": null,
            "grid_template_columns": null,
            "grid_template_rows": null,
            "height": null,
            "justify_content": null,
            "justify_items": null,
            "left": null,
            "margin": null,
            "max_height": null,
            "max_width": null,
            "min_height": null,
            "min_width": null,
            "object_fit": null,
            "object_position": null,
            "order": null,
            "overflow": null,
            "overflow_x": null,
            "overflow_y": null,
            "padding": null,
            "right": null,
            "top": null,
            "visibility": null,
            "width": null
          }
        },
        "9c65dd15225f481dafc75c4800b89e86": {
          "model_module": "@jupyter-widgets/controls",
          "model_name": "DescriptionStyleModel",
          "model_module_version": "1.5.0",
          "state": {
            "_model_module": "@jupyter-widgets/controls",
            "_model_module_version": "1.5.0",
            "_model_name": "DescriptionStyleModel",
            "_view_count": null,
            "_view_module": "@jupyter-widgets/base",
            "_view_module_version": "1.2.0",
            "_view_name": "StyleView",
            "description_width": ""
          }
        },
        "dd39a234d7104689b7646be1b289d6c2": {
          "model_module": "@jupyter-widgets/base",
          "model_name": "LayoutModel",
          "model_module_version": "1.2.0",
          "state": {
            "_model_module": "@jupyter-widgets/base",
            "_model_module_version": "1.2.0",
            "_model_name": "LayoutModel",
            "_view_count": null,
            "_view_module": "@jupyter-widgets/base",
            "_view_module_version": "1.2.0",
            "_view_name": "LayoutView",
            "align_content": null,
            "align_items": null,
            "align_self": null,
            "border": null,
            "bottom": null,
            "display": null,
            "flex": null,
            "flex_flow": null,
            "grid_area": null,
            "grid_auto_columns": null,
            "grid_auto_flow": null,
            "grid_auto_rows": null,
            "grid_column": null,
            "grid_gap": null,
            "grid_row": null,
            "grid_template_areas": null,
            "grid_template_columns": null,
            "grid_template_rows": null,
            "height": null,
            "justify_content": null,
            "justify_items": null,
            "left": null,
            "margin": null,
            "max_height": null,
            "max_width": null,
            "min_height": null,
            "min_width": null,
            "object_fit": null,
            "object_position": null,
            "order": null,
            "overflow": null,
            "overflow_x": null,
            "overflow_y": null,
            "padding": null,
            "right": null,
            "top": null,
            "visibility": null,
            "width": null
          }
        },
        "bdd34abe49294d3eba0a7eb658d723eb": {
          "model_module": "@jupyter-widgets/controls",
          "model_name": "ProgressStyleModel",
          "model_module_version": "1.5.0",
          "state": {
            "_model_module": "@jupyter-widgets/controls",
            "_model_module_version": "1.5.0",
            "_model_name": "ProgressStyleModel",
            "_view_count": null,
            "_view_module": "@jupyter-widgets/base",
            "_view_module_version": "1.2.0",
            "_view_name": "StyleView",
            "bar_color": null,
            "description_width": ""
          }
        },
        "5e53b7f3b2e84882879cc6f664d2be3e": {
          "model_module": "@jupyter-widgets/base",
          "model_name": "LayoutModel",
          "model_module_version": "1.2.0",
          "state": {
            "_model_module": "@jupyter-widgets/base",
            "_model_module_version": "1.2.0",
            "_model_name": "LayoutModel",
            "_view_count": null,
            "_view_module": "@jupyter-widgets/base",
            "_view_module_version": "1.2.0",
            "_view_name": "LayoutView",
            "align_content": null,
            "align_items": null,
            "align_self": null,
            "border": null,
            "bottom": null,
            "display": null,
            "flex": null,
            "flex_flow": null,
            "grid_area": null,
            "grid_auto_columns": null,
            "grid_auto_flow": null,
            "grid_auto_rows": null,
            "grid_column": null,
            "grid_gap": null,
            "grid_row": null,
            "grid_template_areas": null,
            "grid_template_columns": null,
            "grid_template_rows": null,
            "height": null,
            "justify_content": null,
            "justify_items": null,
            "left": null,
            "margin": null,
            "max_height": null,
            "max_width": null,
            "min_height": null,
            "min_width": null,
            "object_fit": null,
            "object_position": null,
            "order": null,
            "overflow": null,
            "overflow_x": null,
            "overflow_y": null,
            "padding": null,
            "right": null,
            "top": null,
            "visibility": null,
            "width": null
          }
        },
        "e4d05dd84b014e83847ee38edf0ad67f": {
          "model_module": "@jupyter-widgets/controls",
          "model_name": "DescriptionStyleModel",
          "model_module_version": "1.5.0",
          "state": {
            "_model_module": "@jupyter-widgets/controls",
            "_model_module_version": "1.5.0",
            "_model_name": "DescriptionStyleModel",
            "_view_count": null,
            "_view_module": "@jupyter-widgets/base",
            "_view_module_version": "1.2.0",
            "_view_name": "StyleView",
            "description_width": ""
          }
        },
        "76137d9bba644a0abda83e7c5ef9ec85": {
          "model_module": "@jupyter-widgets/controls",
          "model_name": "HBoxModel",
          "model_module_version": "1.5.0",
          "state": {
            "_dom_classes": [],
            "_model_module": "@jupyter-widgets/controls",
            "_model_module_version": "1.5.0",
            "_model_name": "HBoxModel",
            "_view_count": null,
            "_view_module": "@jupyter-widgets/controls",
            "_view_module_version": "1.5.0",
            "_view_name": "HBoxView",
            "box_style": "",
            "children": [
              "IPY_MODEL_92cc035cadf54d47b6bf12701e9ca9b7",
              "IPY_MODEL_b36a650f6351490cbc30e23f524ba2c0",
              "IPY_MODEL_a4de6cd330024b238cc6a1a1277aa73f"
            ],
            "layout": "IPY_MODEL_c5c74e84048e4beaa01a620ac3ed8ed7"
          }
        },
        "92cc035cadf54d47b6bf12701e9ca9b7": {
          "model_module": "@jupyter-widgets/controls",
          "model_name": "HTMLModel",
          "model_module_version": "1.5.0",
          "state": {
            "_dom_classes": [],
            "_model_module": "@jupyter-widgets/controls",
            "_model_module_version": "1.5.0",
            "_model_name": "HTMLModel",
            "_view_count": null,
            "_view_module": "@jupyter-widgets/controls",
            "_view_module_version": "1.5.0",
            "_view_name": "HTMLView",
            "description": "",
            "description_tooltip": null,
            "layout": "IPY_MODEL_c88ba76dbfbb4a2c9aa29bf769a79177",
            "placeholder": "​",
            "style": "IPY_MODEL_1f4cd0f81ff14c0a82fa6a2a160a16db",
            "value": "train-00001-of-00004.parquet: 100%"
          }
        },
        "b36a650f6351490cbc30e23f524ba2c0": {
          "model_module": "@jupyter-widgets/controls",
          "model_name": "FloatProgressModel",
          "model_module_version": "1.5.0",
          "state": {
            "_dom_classes": [],
            "_model_module": "@jupyter-widgets/controls",
            "_model_module_version": "1.5.0",
            "_model_name": "FloatProgressModel",
            "_view_count": null,
            "_view_module": "@jupyter-widgets/controls",
            "_view_module_version": "1.5.0",
            "_view_name": "ProgressView",
            "bar_style": "success",
            "description": "",
            "description_tooltip": null,
            "layout": "IPY_MODEL_12f024cee61847569547ba21e7088944",
            "max": 258363554,
            "min": 0,
            "orientation": "horizontal",
            "style": "IPY_MODEL_0283aab51c2444199d487974d1b2ceff",
            "value": 258363554
          }
        },
        "a4de6cd330024b238cc6a1a1277aa73f": {
          "model_module": "@jupyter-widgets/controls",
          "model_name": "HTMLModel",
          "model_module_version": "1.5.0",
          "state": {
            "_dom_classes": [],
            "_model_module": "@jupyter-widgets/controls",
            "_model_module_version": "1.5.0",
            "_model_name": "HTMLModel",
            "_view_count": null,
            "_view_module": "@jupyter-widgets/controls",
            "_view_module_version": "1.5.0",
            "_view_name": "HTMLView",
            "description": "",
            "description_tooltip": null,
            "layout": "IPY_MODEL_a1b3c33fc8534d4d808ba387d8c7b1fb",
            "placeholder": "​",
            "style": "IPY_MODEL_84db23ef078745f1a0f1ce18f14f37f3",
            "value": " 258M/258M [00:00&lt;00:00, 276MB/s]"
          }
        },
        "c5c74e84048e4beaa01a620ac3ed8ed7": {
          "model_module": "@jupyter-widgets/base",
          "model_name": "LayoutModel",
          "model_module_version": "1.2.0",
          "state": {
            "_model_module": "@jupyter-widgets/base",
            "_model_module_version": "1.2.0",
            "_model_name": "LayoutModel",
            "_view_count": null,
            "_view_module": "@jupyter-widgets/base",
            "_view_module_version": "1.2.0",
            "_view_name": "LayoutView",
            "align_content": null,
            "align_items": null,
            "align_self": null,
            "border": null,
            "bottom": null,
            "display": null,
            "flex": null,
            "flex_flow": null,
            "grid_area": null,
            "grid_auto_columns": null,
            "grid_auto_flow": null,
            "grid_auto_rows": null,
            "grid_column": null,
            "grid_gap": null,
            "grid_row": null,
            "grid_template_areas": null,
            "grid_template_columns": null,
            "grid_template_rows": null,
            "height": null,
            "justify_content": null,
            "justify_items": null,
            "left": null,
            "margin": null,
            "max_height": null,
            "max_width": null,
            "min_height": null,
            "min_width": null,
            "object_fit": null,
            "object_position": null,
            "order": null,
            "overflow": null,
            "overflow_x": null,
            "overflow_y": null,
            "padding": null,
            "right": null,
            "top": null,
            "visibility": null,
            "width": null
          }
        },
        "c88ba76dbfbb4a2c9aa29bf769a79177": {
          "model_module": "@jupyter-widgets/base",
          "model_name": "LayoutModel",
          "model_module_version": "1.2.0",
          "state": {
            "_model_module": "@jupyter-widgets/base",
            "_model_module_version": "1.2.0",
            "_model_name": "LayoutModel",
            "_view_count": null,
            "_view_module": "@jupyter-widgets/base",
            "_view_module_version": "1.2.0",
            "_view_name": "LayoutView",
            "align_content": null,
            "align_items": null,
            "align_self": null,
            "border": null,
            "bottom": null,
            "display": null,
            "flex": null,
            "flex_flow": null,
            "grid_area": null,
            "grid_auto_columns": null,
            "grid_auto_flow": null,
            "grid_auto_rows": null,
            "grid_column": null,
            "grid_gap": null,
            "grid_row": null,
            "grid_template_areas": null,
            "grid_template_columns": null,
            "grid_template_rows": null,
            "height": null,
            "justify_content": null,
            "justify_items": null,
            "left": null,
            "margin": null,
            "max_height": null,
            "max_width": null,
            "min_height": null,
            "min_width": null,
            "object_fit": null,
            "object_position": null,
            "order": null,
            "overflow": null,
            "overflow_x": null,
            "overflow_y": null,
            "padding": null,
            "right": null,
            "top": null,
            "visibility": null,
            "width": null
          }
        },
        "1f4cd0f81ff14c0a82fa6a2a160a16db": {
          "model_module": "@jupyter-widgets/controls",
          "model_name": "DescriptionStyleModel",
          "model_module_version": "1.5.0",
          "state": {
            "_model_module": "@jupyter-widgets/controls",
            "_model_module_version": "1.5.0",
            "_model_name": "DescriptionStyleModel",
            "_view_count": null,
            "_view_module": "@jupyter-widgets/base",
            "_view_module_version": "1.2.0",
            "_view_name": "StyleView",
            "description_width": ""
          }
        },
        "12f024cee61847569547ba21e7088944": {
          "model_module": "@jupyter-widgets/base",
          "model_name": "LayoutModel",
          "model_module_version": "1.2.0",
          "state": {
            "_model_module": "@jupyter-widgets/base",
            "_model_module_version": "1.2.0",
            "_model_name": "LayoutModel",
            "_view_count": null,
            "_view_module": "@jupyter-widgets/base",
            "_view_module_version": "1.2.0",
            "_view_name": "LayoutView",
            "align_content": null,
            "align_items": null,
            "align_self": null,
            "border": null,
            "bottom": null,
            "display": null,
            "flex": null,
            "flex_flow": null,
            "grid_area": null,
            "grid_auto_columns": null,
            "grid_auto_flow": null,
            "grid_auto_rows": null,
            "grid_column": null,
            "grid_gap": null,
            "grid_row": null,
            "grid_template_areas": null,
            "grid_template_columns": null,
            "grid_template_rows": null,
            "height": null,
            "justify_content": null,
            "justify_items": null,
            "left": null,
            "margin": null,
            "max_height": null,
            "max_width": null,
            "min_height": null,
            "min_width": null,
            "object_fit": null,
            "object_position": null,
            "order": null,
            "overflow": null,
            "overflow_x": null,
            "overflow_y": null,
            "padding": null,
            "right": null,
            "top": null,
            "visibility": null,
            "width": null
          }
        },
        "0283aab51c2444199d487974d1b2ceff": {
          "model_module": "@jupyter-widgets/controls",
          "model_name": "ProgressStyleModel",
          "model_module_version": "1.5.0",
          "state": {
            "_model_module": "@jupyter-widgets/controls",
            "_model_module_version": "1.5.0",
            "_model_name": "ProgressStyleModel",
            "_view_count": null,
            "_view_module": "@jupyter-widgets/base",
            "_view_module_version": "1.2.0",
            "_view_name": "StyleView",
            "bar_color": null,
            "description_width": ""
          }
        },
        "a1b3c33fc8534d4d808ba387d8c7b1fb": {
          "model_module": "@jupyter-widgets/base",
          "model_name": "LayoutModel",
          "model_module_version": "1.2.0",
          "state": {
            "_model_module": "@jupyter-widgets/base",
            "_model_module_version": "1.2.0",
            "_model_name": "LayoutModel",
            "_view_count": null,
            "_view_module": "@jupyter-widgets/base",
            "_view_module_version": "1.2.0",
            "_view_name": "LayoutView",
            "align_content": null,
            "align_items": null,
            "align_self": null,
            "border": null,
            "bottom": null,
            "display": null,
            "flex": null,
            "flex_flow": null,
            "grid_area": null,
            "grid_auto_columns": null,
            "grid_auto_flow": null,
            "grid_auto_rows": null,
            "grid_column": null,
            "grid_gap": null,
            "grid_row": null,
            "grid_template_areas": null,
            "grid_template_columns": null,
            "grid_template_rows": null,
            "height": null,
            "justify_content": null,
            "justify_items": null,
            "left": null,
            "margin": null,
            "max_height": null,
            "max_width": null,
            "min_height": null,
            "min_width": null,
            "object_fit": null,
            "object_position": null,
            "order": null,
            "overflow": null,
            "overflow_x": null,
            "overflow_y": null,
            "padding": null,
            "right": null,
            "top": null,
            "visibility": null,
            "width": null
          }
        },
        "84db23ef078745f1a0f1ce18f14f37f3": {
          "model_module": "@jupyter-widgets/controls",
          "model_name": "DescriptionStyleModel",
          "model_module_version": "1.5.0",
          "state": {
            "_model_module": "@jupyter-widgets/controls",
            "_model_module_version": "1.5.0",
            "_model_name": "DescriptionStyleModel",
            "_view_count": null,
            "_view_module": "@jupyter-widgets/base",
            "_view_module_version": "1.2.0",
            "_view_name": "StyleView",
            "description_width": ""
          }
        },
        "51e480fb191343b2bee35557ab023164": {
          "model_module": "@jupyter-widgets/controls",
          "model_name": "HBoxModel",
          "model_module_version": "1.5.0",
          "state": {
            "_dom_classes": [],
            "_model_module": "@jupyter-widgets/controls",
            "_model_module_version": "1.5.0",
            "_model_name": "HBoxModel",
            "_view_count": null,
            "_view_module": "@jupyter-widgets/controls",
            "_view_module_version": "1.5.0",
            "_view_name": "HBoxView",
            "box_style": "",
            "children": [
              "IPY_MODEL_e62168a56d5243db99d8a7947fd38040",
              "IPY_MODEL_22fcc414097a4ebf82a01014cb343d73",
              "IPY_MODEL_0b633e5bc5914db5967fc60758902b47"
            ],
            "layout": "IPY_MODEL_ee7ed50848a84ff2aaf48c531dc74d1b"
          }
        },
        "e62168a56d5243db99d8a7947fd38040": {
          "model_module": "@jupyter-widgets/controls",
          "model_name": "HTMLModel",
          "model_module_version": "1.5.0",
          "state": {
            "_dom_classes": [],
            "_model_module": "@jupyter-widgets/controls",
            "_model_module_version": "1.5.0",
            "_model_name": "HTMLModel",
            "_view_count": null,
            "_view_module": "@jupyter-widgets/controls",
            "_view_module_version": "1.5.0",
            "_view_name": "HTMLView",
            "description": "",
            "description_tooltip": null,
            "layout": "IPY_MODEL_f243d80fcb954b5b8b987de4e5ef96b1",
            "placeholder": "​",
            "style": "IPY_MODEL_f984aba743d747da89220265428dfe0e",
            "value": "train-00002-of-00004.parquet: 100%"
          }
        },
        "22fcc414097a4ebf82a01014cb343d73": {
          "model_module": "@jupyter-widgets/controls",
          "model_name": "FloatProgressModel",
          "model_module_version": "1.5.0",
          "state": {
            "_dom_classes": [],
            "_model_module": "@jupyter-widgets/controls",
            "_model_module_version": "1.5.0",
            "_model_name": "FloatProgressModel",
            "_view_count": null,
            "_view_module": "@jupyter-widgets/controls",
            "_view_module_version": "1.5.0",
            "_view_name": "ProgressView",
            "bar_style": "success",
            "description": "",
            "description_tooltip": null,
            "layout": "IPY_MODEL_bcff118d73384313ad48016e1effcf8e",
            "max": 255471883,
            "min": 0,
            "orientation": "horizontal",
            "style": "IPY_MODEL_2f172c204c6144ebbbe1ac8879c95adf",
            "value": 255471883
          }
        },
        "0b633e5bc5914db5967fc60758902b47": {
          "model_module": "@jupyter-widgets/controls",
          "model_name": "HTMLModel",
          "model_module_version": "1.5.0",
          "state": {
            "_dom_classes": [],
            "_model_module": "@jupyter-widgets/controls",
            "_model_module_version": "1.5.0",
            "_model_name": "HTMLModel",
            "_view_count": null,
            "_view_module": "@jupyter-widgets/controls",
            "_view_module_version": "1.5.0",
            "_view_name": "HTMLView",
            "description": "",
            "description_tooltip": null,
            "layout": "IPY_MODEL_5072d16105cc4019af9be5c45121d0fb",
            "placeholder": "​",
            "style": "IPY_MODEL_7ddd7071dc5e48b896c870f3c3909e59",
            "value": " 255M/255M [00:04&lt;00:00, 25.6MB/s]"
          }
        },
        "ee7ed50848a84ff2aaf48c531dc74d1b": {
          "model_module": "@jupyter-widgets/base",
          "model_name": "LayoutModel",
          "model_module_version": "1.2.0",
          "state": {
            "_model_module": "@jupyter-widgets/base",
            "_model_module_version": "1.2.0",
            "_model_name": "LayoutModel",
            "_view_count": null,
            "_view_module": "@jupyter-widgets/base",
            "_view_module_version": "1.2.0",
            "_view_name": "LayoutView",
            "align_content": null,
            "align_items": null,
            "align_self": null,
            "border": null,
            "bottom": null,
            "display": null,
            "flex": null,
            "flex_flow": null,
            "grid_area": null,
            "grid_auto_columns": null,
            "grid_auto_flow": null,
            "grid_auto_rows": null,
            "grid_column": null,
            "grid_gap": null,
            "grid_row": null,
            "grid_template_areas": null,
            "grid_template_columns": null,
            "grid_template_rows": null,
            "height": null,
            "justify_content": null,
            "justify_items": null,
            "left": null,
            "margin": null,
            "max_height": null,
            "max_width": null,
            "min_height": null,
            "min_width": null,
            "object_fit": null,
            "object_position": null,
            "order": null,
            "overflow": null,
            "overflow_x": null,
            "overflow_y": null,
            "padding": null,
            "right": null,
            "top": null,
            "visibility": null,
            "width": null
          }
        },
        "f243d80fcb954b5b8b987de4e5ef96b1": {
          "model_module": "@jupyter-widgets/base",
          "model_name": "LayoutModel",
          "model_module_version": "1.2.0",
          "state": {
            "_model_module": "@jupyter-widgets/base",
            "_model_module_version": "1.2.0",
            "_model_name": "LayoutModel",
            "_view_count": null,
            "_view_module": "@jupyter-widgets/base",
            "_view_module_version": "1.2.0",
            "_view_name": "LayoutView",
            "align_content": null,
            "align_items": null,
            "align_self": null,
            "border": null,
            "bottom": null,
            "display": null,
            "flex": null,
            "flex_flow": null,
            "grid_area": null,
            "grid_auto_columns": null,
            "grid_auto_flow": null,
            "grid_auto_rows": null,
            "grid_column": null,
            "grid_gap": null,
            "grid_row": null,
            "grid_template_areas": null,
            "grid_template_columns": null,
            "grid_template_rows": null,
            "height": null,
            "justify_content": null,
            "justify_items": null,
            "left": null,
            "margin": null,
            "max_height": null,
            "max_width": null,
            "min_height": null,
            "min_width": null,
            "object_fit": null,
            "object_position": null,
            "order": null,
            "overflow": null,
            "overflow_x": null,
            "overflow_y": null,
            "padding": null,
            "right": null,
            "top": null,
            "visibility": null,
            "width": null
          }
        },
        "f984aba743d747da89220265428dfe0e": {
          "model_module": "@jupyter-widgets/controls",
          "model_name": "DescriptionStyleModel",
          "model_module_version": "1.5.0",
          "state": {
            "_model_module": "@jupyter-widgets/controls",
            "_model_module_version": "1.5.0",
            "_model_name": "DescriptionStyleModel",
            "_view_count": null,
            "_view_module": "@jupyter-widgets/base",
            "_view_module_version": "1.2.0",
            "_view_name": "StyleView",
            "description_width": ""
          }
        },
        "bcff118d73384313ad48016e1effcf8e": {
          "model_module": "@jupyter-widgets/base",
          "model_name": "LayoutModel",
          "model_module_version": "1.2.0",
          "state": {
            "_model_module": "@jupyter-widgets/base",
            "_model_module_version": "1.2.0",
            "_model_name": "LayoutModel",
            "_view_count": null,
            "_view_module": "@jupyter-widgets/base",
            "_view_module_version": "1.2.0",
            "_view_name": "LayoutView",
            "align_content": null,
            "align_items": null,
            "align_self": null,
            "border": null,
            "bottom": null,
            "display": null,
            "flex": null,
            "flex_flow": null,
            "grid_area": null,
            "grid_auto_columns": null,
            "grid_auto_flow": null,
            "grid_auto_rows": null,
            "grid_column": null,
            "grid_gap": null,
            "grid_row": null,
            "grid_template_areas": null,
            "grid_template_columns": null,
            "grid_template_rows": null,
            "height": null,
            "justify_content": null,
            "justify_items": null,
            "left": null,
            "margin": null,
            "max_height": null,
            "max_width": null,
            "min_height": null,
            "min_width": null,
            "object_fit": null,
            "object_position": null,
            "order": null,
            "overflow": null,
            "overflow_x": null,
            "overflow_y": null,
            "padding": null,
            "right": null,
            "top": null,
            "visibility": null,
            "width": null
          }
        },
        "2f172c204c6144ebbbe1ac8879c95adf": {
          "model_module": "@jupyter-widgets/controls",
          "model_name": "ProgressStyleModel",
          "model_module_version": "1.5.0",
          "state": {
            "_model_module": "@jupyter-widgets/controls",
            "_model_module_version": "1.5.0",
            "_model_name": "ProgressStyleModel",
            "_view_count": null,
            "_view_module": "@jupyter-widgets/base",
            "_view_module_version": "1.2.0",
            "_view_name": "StyleView",
            "bar_color": null,
            "description_width": ""
          }
        },
        "5072d16105cc4019af9be5c45121d0fb": {
          "model_module": "@jupyter-widgets/base",
          "model_name": "LayoutModel",
          "model_module_version": "1.2.0",
          "state": {
            "_model_module": "@jupyter-widgets/base",
            "_model_module_version": "1.2.0",
            "_model_name": "LayoutModel",
            "_view_count": null,
            "_view_module": "@jupyter-widgets/base",
            "_view_module_version": "1.2.0",
            "_view_name": "LayoutView",
            "align_content": null,
            "align_items": null,
            "align_self": null,
            "border": null,
            "bottom": null,
            "display": null,
            "flex": null,
            "flex_flow": null,
            "grid_area": null,
            "grid_auto_columns": null,
            "grid_auto_flow": null,
            "grid_auto_rows": null,
            "grid_column": null,
            "grid_gap": null,
            "grid_row": null,
            "grid_template_areas": null,
            "grid_template_columns": null,
            "grid_template_rows": null,
            "height": null,
            "justify_content": null,
            "justify_items": null,
            "left": null,
            "margin": null,
            "max_height": null,
            "max_width": null,
            "min_height": null,
            "min_width": null,
            "object_fit": null,
            "object_position": null,
            "order": null,
            "overflow": null,
            "overflow_x": null,
            "overflow_y": null,
            "padding": null,
            "right": null,
            "top": null,
            "visibility": null,
            "width": null
          }
        },
        "7ddd7071dc5e48b896c870f3c3909e59": {
          "model_module": "@jupyter-widgets/controls",
          "model_name": "DescriptionStyleModel",
          "model_module_version": "1.5.0",
          "state": {
            "_model_module": "@jupyter-widgets/controls",
            "_model_module_version": "1.5.0",
            "_model_name": "DescriptionStyleModel",
            "_view_count": null,
            "_view_module": "@jupyter-widgets/base",
            "_view_module_version": "1.2.0",
            "_view_name": "StyleView",
            "description_width": ""
          }
        },
        "432c6e5d35bc4cc991d783fb574a3ed3": {
          "model_module": "@jupyter-widgets/controls",
          "model_name": "HBoxModel",
          "model_module_version": "1.5.0",
          "state": {
            "_dom_classes": [],
            "_model_module": "@jupyter-widgets/controls",
            "_model_module_version": "1.5.0",
            "_model_name": "HBoxModel",
            "_view_count": null,
            "_view_module": "@jupyter-widgets/controls",
            "_view_module_version": "1.5.0",
            "_view_name": "HBoxView",
            "box_style": "",
            "children": [
              "IPY_MODEL_5f455dbbc84a438289b852359c309743",
              "IPY_MODEL_65d4bbf4155147098ce168b669240f25",
              "IPY_MODEL_b194de43afb947ef98d24412cc5ec339"
            ],
            "layout": "IPY_MODEL_52d367ad719a4f6dba7ba9e36230540a"
          }
        },
        "5f455dbbc84a438289b852359c309743": {
          "model_module": "@jupyter-widgets/controls",
          "model_name": "HTMLModel",
          "model_module_version": "1.5.0",
          "state": {
            "_dom_classes": [],
            "_model_module": "@jupyter-widgets/controls",
            "_model_module_version": "1.5.0",
            "_model_name": "HTMLModel",
            "_view_count": null,
            "_view_module": "@jupyter-widgets/controls",
            "_view_module_version": "1.5.0",
            "_view_name": "HTMLView",
            "description": "",
            "description_tooltip": null,
            "layout": "IPY_MODEL_db9c66294c0449ac9d1df6306f449d44",
            "placeholder": "​",
            "style": "IPY_MODEL_98772605c3ee4265aab4dea2daaa77d0",
            "value": "train-00003-of-00004.parquet: 100%"
          }
        },
        "65d4bbf4155147098ce168b669240f25": {
          "model_module": "@jupyter-widgets/controls",
          "model_name": "FloatProgressModel",
          "model_module_version": "1.5.0",
          "state": {
            "_dom_classes": [],
            "_model_module": "@jupyter-widgets/controls",
            "_model_module_version": "1.5.0",
            "_model_name": "FloatProgressModel",
            "_view_count": null,
            "_view_module": "@jupyter-widgets/controls",
            "_view_module_version": "1.5.0",
            "_view_name": "ProgressView",
            "bar_style": "success",
            "description": "",
            "description_tooltip": null,
            "layout": "IPY_MODEL_98c31c929f9d42a2bb9405c89d703404",
            "max": 254410930,
            "min": 0,
            "orientation": "horizontal",
            "style": "IPY_MODEL_de1f09080acc44baa8506d50306c6962",
            "value": 254410930
          }
        },
        "b194de43afb947ef98d24412cc5ec339": {
          "model_module": "@jupyter-widgets/controls",
          "model_name": "HTMLModel",
          "model_module_version": "1.5.0",
          "state": {
            "_dom_classes": [],
            "_model_module": "@jupyter-widgets/controls",
            "_model_module_version": "1.5.0",
            "_model_name": "HTMLModel",
            "_view_count": null,
            "_view_module": "@jupyter-widgets/controls",
            "_view_module_version": "1.5.0",
            "_view_name": "HTMLView",
            "description": "",
            "description_tooltip": null,
            "layout": "IPY_MODEL_40d74a9e8439449ba2b0642dbd7ee019",
            "placeholder": "​",
            "style": "IPY_MODEL_00f91b1c8b00484987c9d502fb256dae",
            "value": " 254M/254M [00:03&lt;00:00, 215MB/s]"
          }
        },
        "52d367ad719a4f6dba7ba9e36230540a": {
          "model_module": "@jupyter-widgets/base",
          "model_name": "LayoutModel",
          "model_module_version": "1.2.0",
          "state": {
            "_model_module": "@jupyter-widgets/base",
            "_model_module_version": "1.2.0",
            "_model_name": "LayoutModel",
            "_view_count": null,
            "_view_module": "@jupyter-widgets/base",
            "_view_module_version": "1.2.0",
            "_view_name": "LayoutView",
            "align_content": null,
            "align_items": null,
            "align_self": null,
            "border": null,
            "bottom": null,
            "display": null,
            "flex": null,
            "flex_flow": null,
            "grid_area": null,
            "grid_auto_columns": null,
            "grid_auto_flow": null,
            "grid_auto_rows": null,
            "grid_column": null,
            "grid_gap": null,
            "grid_row": null,
            "grid_template_areas": null,
            "grid_template_columns": null,
            "grid_template_rows": null,
            "height": null,
            "justify_content": null,
            "justify_items": null,
            "left": null,
            "margin": null,
            "max_height": null,
            "max_width": null,
            "min_height": null,
            "min_width": null,
            "object_fit": null,
            "object_position": null,
            "order": null,
            "overflow": null,
            "overflow_x": null,
            "overflow_y": null,
            "padding": null,
            "right": null,
            "top": null,
            "visibility": null,
            "width": null
          }
        },
        "db9c66294c0449ac9d1df6306f449d44": {
          "model_module": "@jupyter-widgets/base",
          "model_name": "LayoutModel",
          "model_module_version": "1.2.0",
          "state": {
            "_model_module": "@jupyter-widgets/base",
            "_model_module_version": "1.2.0",
            "_model_name": "LayoutModel",
            "_view_count": null,
            "_view_module": "@jupyter-widgets/base",
            "_view_module_version": "1.2.0",
            "_view_name": "LayoutView",
            "align_content": null,
            "align_items": null,
            "align_self": null,
            "border": null,
            "bottom": null,
            "display": null,
            "flex": null,
            "flex_flow": null,
            "grid_area": null,
            "grid_auto_columns": null,
            "grid_auto_flow": null,
            "grid_auto_rows": null,
            "grid_column": null,
            "grid_gap": null,
            "grid_row": null,
            "grid_template_areas": null,
            "grid_template_columns": null,
            "grid_template_rows": null,
            "height": null,
            "justify_content": null,
            "justify_items": null,
            "left": null,
            "margin": null,
            "max_height": null,
            "max_width": null,
            "min_height": null,
            "min_width": null,
            "object_fit": null,
            "object_position": null,
            "order": null,
            "overflow": null,
            "overflow_x": null,
            "overflow_y": null,
            "padding": null,
            "right": null,
            "top": null,
            "visibility": null,
            "width": null
          }
        },
        "98772605c3ee4265aab4dea2daaa77d0": {
          "model_module": "@jupyter-widgets/controls",
          "model_name": "DescriptionStyleModel",
          "model_module_version": "1.5.0",
          "state": {
            "_model_module": "@jupyter-widgets/controls",
            "_model_module_version": "1.5.0",
            "_model_name": "DescriptionStyleModel",
            "_view_count": null,
            "_view_module": "@jupyter-widgets/base",
            "_view_module_version": "1.2.0",
            "_view_name": "StyleView",
            "description_width": ""
          }
        },
        "98c31c929f9d42a2bb9405c89d703404": {
          "model_module": "@jupyter-widgets/base",
          "model_name": "LayoutModel",
          "model_module_version": "1.2.0",
          "state": {
            "_model_module": "@jupyter-widgets/base",
            "_model_module_version": "1.2.0",
            "_model_name": "LayoutModel",
            "_view_count": null,
            "_view_module": "@jupyter-widgets/base",
            "_view_module_version": "1.2.0",
            "_view_name": "LayoutView",
            "align_content": null,
            "align_items": null,
            "align_self": null,
            "border": null,
            "bottom": null,
            "display": null,
            "flex": null,
            "flex_flow": null,
            "grid_area": null,
            "grid_auto_columns": null,
            "grid_auto_flow": null,
            "grid_auto_rows": null,
            "grid_column": null,
            "grid_gap": null,
            "grid_row": null,
            "grid_template_areas": null,
            "grid_template_columns": null,
            "grid_template_rows": null,
            "height": null,
            "justify_content": null,
            "justify_items": null,
            "left": null,
            "margin": null,
            "max_height": null,
            "max_width": null,
            "min_height": null,
            "min_width": null,
            "object_fit": null,
            "object_position": null,
            "order": null,
            "overflow": null,
            "overflow_x": null,
            "overflow_y": null,
            "padding": null,
            "right": null,
            "top": null,
            "visibility": null,
            "width": null
          }
        },
        "de1f09080acc44baa8506d50306c6962": {
          "model_module": "@jupyter-widgets/controls",
          "model_name": "ProgressStyleModel",
          "model_module_version": "1.5.0",
          "state": {
            "_model_module": "@jupyter-widgets/controls",
            "_model_module_version": "1.5.0",
            "_model_name": "ProgressStyleModel",
            "_view_count": null,
            "_view_module": "@jupyter-widgets/base",
            "_view_module_version": "1.2.0",
            "_view_name": "StyleView",
            "bar_color": null,
            "description_width": ""
          }
        },
        "40d74a9e8439449ba2b0642dbd7ee019": {
          "model_module": "@jupyter-widgets/base",
          "model_name": "LayoutModel",
          "model_module_version": "1.2.0",
          "state": {
            "_model_module": "@jupyter-widgets/base",
            "_model_module_version": "1.2.0",
            "_model_name": "LayoutModel",
            "_view_count": null,
            "_view_module": "@jupyter-widgets/base",
            "_view_module_version": "1.2.0",
            "_view_name": "LayoutView",
            "align_content": null,
            "align_items": null,
            "align_self": null,
            "border": null,
            "bottom": null,
            "display": null,
            "flex": null,
            "flex_flow": null,
            "grid_area": null,
            "grid_auto_columns": null,
            "grid_auto_flow": null,
            "grid_auto_rows": null,
            "grid_column": null,
            "grid_gap": null,
            "grid_row": null,
            "grid_template_areas": null,
            "grid_template_columns": null,
            "grid_template_rows": null,
            "height": null,
            "justify_content": null,
            "justify_items": null,
            "left": null,
            "margin": null,
            "max_height": null,
            "max_width": null,
            "min_height": null,
            "min_width": null,
            "object_fit": null,
            "object_position": null,
            "order": null,
            "overflow": null,
            "overflow_x": null,
            "overflow_y": null,
            "padding": null,
            "right": null,
            "top": null,
            "visibility": null,
            "width": null
          }
        },
        "00f91b1c8b00484987c9d502fb256dae": {
          "model_module": "@jupyter-widgets/controls",
          "model_name": "DescriptionStyleModel",
          "model_module_version": "1.5.0",
          "state": {
            "_model_module": "@jupyter-widgets/controls",
            "_model_module_version": "1.5.0",
            "_model_name": "DescriptionStyleModel",
            "_view_count": null,
            "_view_module": "@jupyter-widgets/base",
            "_view_module_version": "1.2.0",
            "_view_name": "StyleView",
            "description_width": ""
          }
        },
        "aaf8afdb6ebe4b4d9ab806ebc6afe18b": {
          "model_module": "@jupyter-widgets/controls",
          "model_name": "HBoxModel",
          "model_module_version": "1.5.0",
          "state": {
            "_dom_classes": [],
            "_model_module": "@jupyter-widgets/controls",
            "_model_module_version": "1.5.0",
            "_model_name": "HBoxModel",
            "_view_count": null,
            "_view_module": "@jupyter-widgets/controls",
            "_view_module_version": "1.5.0",
            "_view_name": "HBoxView",
            "box_style": "",
            "children": [
              "IPY_MODEL_72f9325c6be54953a89cc246df63e371",
              "IPY_MODEL_3cb798da386d4636a09c07fb3dd6c5a7",
              "IPY_MODEL_3fe508a52aee449fbf4bb72b5bba753d"
            ],
            "layout": "IPY_MODEL_34d493d75aee4ad8b48b33c1902ecf19"
          }
        },
        "72f9325c6be54953a89cc246df63e371": {
          "model_module": "@jupyter-widgets/controls",
          "model_name": "HTMLModel",
          "model_module_version": "1.5.0",
          "state": {
            "_dom_classes": [],
            "_model_module": "@jupyter-widgets/controls",
            "_model_module_version": "1.5.0",
            "_model_name": "HTMLModel",
            "_view_count": null,
            "_view_module": "@jupyter-widgets/controls",
            "_view_module_version": "1.5.0",
            "_view_name": "HTMLView",
            "description": "",
            "description_tooltip": null,
            "layout": "IPY_MODEL_1853646d016d466387efedb2932fc248",
            "placeholder": "​",
            "style": "IPY_MODEL_287f02c24b2046f69837b657105e17fa",
            "value": "test-00000-of-00001.parquet: 100%"
          }
        },
        "3cb798da386d4636a09c07fb3dd6c5a7": {
          "model_module": "@jupyter-widgets/controls",
          "model_name": "FloatProgressModel",
          "model_module_version": "1.5.0",
          "state": {
            "_dom_classes": [],
            "_model_module": "@jupyter-widgets/controls",
            "_model_module_version": "1.5.0",
            "_model_name": "FloatProgressModel",
            "_view_count": null,
            "_view_module": "@jupyter-widgets/controls",
            "_view_module_version": "1.5.0",
            "_view_name": "ProgressView",
            "bar_style": "success",
            "description": "",
            "description_tooltip": null,
            "layout": "IPY_MODEL_0eb726e8ca9b42bba4669c12c6ce495d",
            "max": 117422360,
            "min": 0,
            "orientation": "horizontal",
            "style": "IPY_MODEL_9d59c8a4e01f4543a568dd8f493f87a4",
            "value": 117422360
          }
        },
        "3fe508a52aee449fbf4bb72b5bba753d": {
          "model_module": "@jupyter-widgets/controls",
          "model_name": "HTMLModel",
          "model_module_version": "1.5.0",
          "state": {
            "_dom_classes": [],
            "_model_module": "@jupyter-widgets/controls",
            "_model_module_version": "1.5.0",
            "_model_name": "HTMLModel",
            "_view_count": null,
            "_view_module": "@jupyter-widgets/controls",
            "_view_module_version": "1.5.0",
            "_view_name": "HTMLView",
            "description": "",
            "description_tooltip": null,
            "layout": "IPY_MODEL_f160843681b54325993e132fb112ca41",
            "placeholder": "​",
            "style": "IPY_MODEL_d9ba902b1df842348f421ec988562497",
            "value": " 117M/117M [00:00&lt;00:00, 183MB/s]"
          }
        },
        "34d493d75aee4ad8b48b33c1902ecf19": {
          "model_module": "@jupyter-widgets/base",
          "model_name": "LayoutModel",
          "model_module_version": "1.2.0",
          "state": {
            "_model_module": "@jupyter-widgets/base",
            "_model_module_version": "1.2.0",
            "_model_name": "LayoutModel",
            "_view_count": null,
            "_view_module": "@jupyter-widgets/base",
            "_view_module_version": "1.2.0",
            "_view_name": "LayoutView",
            "align_content": null,
            "align_items": null,
            "align_self": null,
            "border": null,
            "bottom": null,
            "display": null,
            "flex": null,
            "flex_flow": null,
            "grid_area": null,
            "grid_auto_columns": null,
            "grid_auto_flow": null,
            "grid_auto_rows": null,
            "grid_column": null,
            "grid_gap": null,
            "grid_row": null,
            "grid_template_areas": null,
            "grid_template_columns": null,
            "grid_template_rows": null,
            "height": null,
            "justify_content": null,
            "justify_items": null,
            "left": null,
            "margin": null,
            "max_height": null,
            "max_width": null,
            "min_height": null,
            "min_width": null,
            "object_fit": null,
            "object_position": null,
            "order": null,
            "overflow": null,
            "overflow_x": null,
            "overflow_y": null,
            "padding": null,
            "right": null,
            "top": null,
            "visibility": null,
            "width": null
          }
        },
        "1853646d016d466387efedb2932fc248": {
          "model_module": "@jupyter-widgets/base",
          "model_name": "LayoutModel",
          "model_module_version": "1.2.0",
          "state": {
            "_model_module": "@jupyter-widgets/base",
            "_model_module_version": "1.2.0",
            "_model_name": "LayoutModel",
            "_view_count": null,
            "_view_module": "@jupyter-widgets/base",
            "_view_module_version": "1.2.0",
            "_view_name": "LayoutView",
            "align_content": null,
            "align_items": null,
            "align_self": null,
            "border": null,
            "bottom": null,
            "display": null,
            "flex": null,
            "flex_flow": null,
            "grid_area": null,
            "grid_auto_columns": null,
            "grid_auto_flow": null,
            "grid_auto_rows": null,
            "grid_column": null,
            "grid_gap": null,
            "grid_row": null,
            "grid_template_areas": null,
            "grid_template_columns": null,
            "grid_template_rows": null,
            "height": null,
            "justify_content": null,
            "justify_items": null,
            "left": null,
            "margin": null,
            "max_height": null,
            "max_width": null,
            "min_height": null,
            "min_width": null,
            "object_fit": null,
            "object_position": null,
            "order": null,
            "overflow": null,
            "overflow_x": null,
            "overflow_y": null,
            "padding": null,
            "right": null,
            "top": null,
            "visibility": null,
            "width": null
          }
        },
        "287f02c24b2046f69837b657105e17fa": {
          "model_module": "@jupyter-widgets/controls",
          "model_name": "DescriptionStyleModel",
          "model_module_version": "1.5.0",
          "state": {
            "_model_module": "@jupyter-widgets/controls",
            "_model_module_version": "1.5.0",
            "_model_name": "DescriptionStyleModel",
            "_view_count": null,
            "_view_module": "@jupyter-widgets/base",
            "_view_module_version": "1.2.0",
            "_view_name": "StyleView",
            "description_width": ""
          }
        },
        "0eb726e8ca9b42bba4669c12c6ce495d": {
          "model_module": "@jupyter-widgets/base",
          "model_name": "LayoutModel",
          "model_module_version": "1.2.0",
          "state": {
            "_model_module": "@jupyter-widgets/base",
            "_model_module_version": "1.2.0",
            "_model_name": "LayoutModel",
            "_view_count": null,
            "_view_module": "@jupyter-widgets/base",
            "_view_module_version": "1.2.0",
            "_view_name": "LayoutView",
            "align_content": null,
            "align_items": null,
            "align_self": null,
            "border": null,
            "bottom": null,
            "display": null,
            "flex": null,
            "flex_flow": null,
            "grid_area": null,
            "grid_auto_columns": null,
            "grid_auto_flow": null,
            "grid_auto_rows": null,
            "grid_column": null,
            "grid_gap": null,
            "grid_row": null,
            "grid_template_areas": null,
            "grid_template_columns": null,
            "grid_template_rows": null,
            "height": null,
            "justify_content": null,
            "justify_items": null,
            "left": null,
            "margin": null,
            "max_height": null,
            "max_width": null,
            "min_height": null,
            "min_width": null,
            "object_fit": null,
            "object_position": null,
            "order": null,
            "overflow": null,
            "overflow_x": null,
            "overflow_y": null,
            "padding": null,
            "right": null,
            "top": null,
            "visibility": null,
            "width": null
          }
        },
        "9d59c8a4e01f4543a568dd8f493f87a4": {
          "model_module": "@jupyter-widgets/controls",
          "model_name": "ProgressStyleModel",
          "model_module_version": "1.5.0",
          "state": {
            "_model_module": "@jupyter-widgets/controls",
            "_model_module_version": "1.5.0",
            "_model_name": "ProgressStyleModel",
            "_view_count": null,
            "_view_module": "@jupyter-widgets/base",
            "_view_module_version": "1.2.0",
            "_view_name": "StyleView",
            "bar_color": null,
            "description_width": ""
          }
        },
        "f160843681b54325993e132fb112ca41": {
          "model_module": "@jupyter-widgets/base",
          "model_name": "LayoutModel",
          "model_module_version": "1.2.0",
          "state": {
            "_model_module": "@jupyter-widgets/base",
            "_model_module_version": "1.2.0",
            "_model_name": "LayoutModel",
            "_view_count": null,
            "_view_module": "@jupyter-widgets/base",
            "_view_module_version": "1.2.0",
            "_view_name": "LayoutView",
            "align_content": null,
            "align_items": null,
            "align_self": null,
            "border": null,
            "bottom": null,
            "display": null,
            "flex": null,
            "flex_flow": null,
            "grid_area": null,
            "grid_auto_columns": null,
            "grid_auto_flow": null,
            "grid_auto_rows": null,
            "grid_column": null,
            "grid_gap": null,
            "grid_row": null,
            "grid_template_areas": null,
            "grid_template_columns": null,
            "grid_template_rows": null,
            "height": null,
            "justify_content": null,
            "justify_items": null,
            "left": null,
            "margin": null,
            "max_height": null,
            "max_width": null,
            "min_height": null,
            "min_width": null,
            "object_fit": null,
            "object_position": null,
            "order": null,
            "overflow": null,
            "overflow_x": null,
            "overflow_y": null,
            "padding": null,
            "right": null,
            "top": null,
            "visibility": null,
            "width": null
          }
        },
        "d9ba902b1df842348f421ec988562497": {
          "model_module": "@jupyter-widgets/controls",
          "model_name": "DescriptionStyleModel",
          "model_module_version": "1.5.0",
          "state": {
            "_model_module": "@jupyter-widgets/controls",
            "_model_module_version": "1.5.0",
            "_model_name": "DescriptionStyleModel",
            "_view_count": null,
            "_view_module": "@jupyter-widgets/base",
            "_view_module_version": "1.2.0",
            "_view_name": "StyleView",
            "description_width": ""
          }
        },
        "70abc6e296e044db9aedf558d9ad67ac": {
          "model_module": "@jupyter-widgets/controls",
          "model_name": "HBoxModel",
          "model_module_version": "1.5.0",
          "state": {
            "_dom_classes": [],
            "_model_module": "@jupyter-widgets/controls",
            "_model_module_version": "1.5.0",
            "_model_name": "HBoxModel",
            "_view_count": null,
            "_view_module": "@jupyter-widgets/controls",
            "_view_module_version": "1.5.0",
            "_view_name": "HBoxView",
            "box_style": "",
            "children": [
              "IPY_MODEL_627227dad7ec44c7a2d7ef591cc77133",
              "IPY_MODEL_ce123202452d4156ab5c261a65f7fc55",
              "IPY_MODEL_859933eef1294a78970e377ff030c42c"
            ],
            "layout": "IPY_MODEL_665abe5afcf040c5bb73a7cddf36b8fb"
          }
        },
        "627227dad7ec44c7a2d7ef591cc77133": {
          "model_module": "@jupyter-widgets/controls",
          "model_name": "HTMLModel",
          "model_module_version": "1.5.0",
          "state": {
            "_dom_classes": [],
            "_model_module": "@jupyter-widgets/controls",
            "_model_module_version": "1.5.0",
            "_model_name": "HTMLModel",
            "_view_count": null,
            "_view_module": "@jupyter-widgets/controls",
            "_view_module_version": "1.5.0",
            "_view_name": "HTMLView",
            "description": "",
            "description_tooltip": null,
            "layout": "IPY_MODEL_63850ffd5fb349ec90cf9983b6e1841c",
            "placeholder": "​",
            "style": "IPY_MODEL_391e1b136dcf42f08d902b16b029cddb",
            "value": "Generating train split: 100%"
          }
        },
        "ce123202452d4156ab5c261a65f7fc55": {
          "model_module": "@jupyter-widgets/controls",
          "model_name": "FloatProgressModel",
          "model_module_version": "1.5.0",
          "state": {
            "_dom_classes": [],
            "_model_module": "@jupyter-widgets/controls",
            "_model_module_version": "1.5.0",
            "_model_name": "FloatProgressModel",
            "_view_count": null,
            "_view_module": "@jupyter-widgets/controls",
            "_view_module_version": "1.5.0",
            "_view_name": "ProgressView",
            "bar_style": "success",
            "description": "",
            "description_tooltip": null,
            "layout": "IPY_MODEL_978453007e194d33b1041e061e5bec9f",
            "max": 3600000,
            "min": 0,
            "orientation": "horizontal",
            "style": "IPY_MODEL_6c476293a265428489f338c0b721bd97",
            "value": 3600000
          }
        },
        "859933eef1294a78970e377ff030c42c": {
          "model_module": "@jupyter-widgets/controls",
          "model_name": "HTMLModel",
          "model_module_version": "1.5.0",
          "state": {
            "_dom_classes": [],
            "_model_module": "@jupyter-widgets/controls",
            "_model_module_version": "1.5.0",
            "_model_name": "HTMLModel",
            "_view_count": null,
            "_view_module": "@jupyter-widgets/controls",
            "_view_module_version": "1.5.0",
            "_view_name": "HTMLView",
            "description": "",
            "description_tooltip": null,
            "layout": "IPY_MODEL_2c4967484a0449e39c6c8d27ed66e1a1",
            "placeholder": "​",
            "style": "IPY_MODEL_de87c69dc4024535bffa2938cc6a6bdd",
            "value": " 3600000/3600000 [00:18&lt;00:00, 293902.74 examples/s]"
          }
        },
        "665abe5afcf040c5bb73a7cddf36b8fb": {
          "model_module": "@jupyter-widgets/base",
          "model_name": "LayoutModel",
          "model_module_version": "1.2.0",
          "state": {
            "_model_module": "@jupyter-widgets/base",
            "_model_module_version": "1.2.0",
            "_model_name": "LayoutModel",
            "_view_count": null,
            "_view_module": "@jupyter-widgets/base",
            "_view_module_version": "1.2.0",
            "_view_name": "LayoutView",
            "align_content": null,
            "align_items": null,
            "align_self": null,
            "border": null,
            "bottom": null,
            "display": null,
            "flex": null,
            "flex_flow": null,
            "grid_area": null,
            "grid_auto_columns": null,
            "grid_auto_flow": null,
            "grid_auto_rows": null,
            "grid_column": null,
            "grid_gap": null,
            "grid_row": null,
            "grid_template_areas": null,
            "grid_template_columns": null,
            "grid_template_rows": null,
            "height": null,
            "justify_content": null,
            "justify_items": null,
            "left": null,
            "margin": null,
            "max_height": null,
            "max_width": null,
            "min_height": null,
            "min_width": null,
            "object_fit": null,
            "object_position": null,
            "order": null,
            "overflow": null,
            "overflow_x": null,
            "overflow_y": null,
            "padding": null,
            "right": null,
            "top": null,
            "visibility": null,
            "width": null
          }
        },
        "63850ffd5fb349ec90cf9983b6e1841c": {
          "model_module": "@jupyter-widgets/base",
          "model_name": "LayoutModel",
          "model_module_version": "1.2.0",
          "state": {
            "_model_module": "@jupyter-widgets/base",
            "_model_module_version": "1.2.0",
            "_model_name": "LayoutModel",
            "_view_count": null,
            "_view_module": "@jupyter-widgets/base",
            "_view_module_version": "1.2.0",
            "_view_name": "LayoutView",
            "align_content": null,
            "align_items": null,
            "align_self": null,
            "border": null,
            "bottom": null,
            "display": null,
            "flex": null,
            "flex_flow": null,
            "grid_area": null,
            "grid_auto_columns": null,
            "grid_auto_flow": null,
            "grid_auto_rows": null,
            "grid_column": null,
            "grid_gap": null,
            "grid_row": null,
            "grid_template_areas": null,
            "grid_template_columns": null,
            "grid_template_rows": null,
            "height": null,
            "justify_content": null,
            "justify_items": null,
            "left": null,
            "margin": null,
            "max_height": null,
            "max_width": null,
            "min_height": null,
            "min_width": null,
            "object_fit": null,
            "object_position": null,
            "order": null,
            "overflow": null,
            "overflow_x": null,
            "overflow_y": null,
            "padding": null,
            "right": null,
            "top": null,
            "visibility": null,
            "width": null
          }
        },
        "391e1b136dcf42f08d902b16b029cddb": {
          "model_module": "@jupyter-widgets/controls",
          "model_name": "DescriptionStyleModel",
          "model_module_version": "1.5.0",
          "state": {
            "_model_module": "@jupyter-widgets/controls",
            "_model_module_version": "1.5.0",
            "_model_name": "DescriptionStyleModel",
            "_view_count": null,
            "_view_module": "@jupyter-widgets/base",
            "_view_module_version": "1.2.0",
            "_view_name": "StyleView",
            "description_width": ""
          }
        },
        "978453007e194d33b1041e061e5bec9f": {
          "model_module": "@jupyter-widgets/base",
          "model_name": "LayoutModel",
          "model_module_version": "1.2.0",
          "state": {
            "_model_module": "@jupyter-widgets/base",
            "_model_module_version": "1.2.0",
            "_model_name": "LayoutModel",
            "_view_count": null,
            "_view_module": "@jupyter-widgets/base",
            "_view_module_version": "1.2.0",
            "_view_name": "LayoutView",
            "align_content": null,
            "align_items": null,
            "align_self": null,
            "border": null,
            "bottom": null,
            "display": null,
            "flex": null,
            "flex_flow": null,
            "grid_area": null,
            "grid_auto_columns": null,
            "grid_auto_flow": null,
            "grid_auto_rows": null,
            "grid_column": null,
            "grid_gap": null,
            "grid_row": null,
            "grid_template_areas": null,
            "grid_template_columns": null,
            "grid_template_rows": null,
            "height": null,
            "justify_content": null,
            "justify_items": null,
            "left": null,
            "margin": null,
            "max_height": null,
            "max_width": null,
            "min_height": null,
            "min_width": null,
            "object_fit": null,
            "object_position": null,
            "order": null,
            "overflow": null,
            "overflow_x": null,
            "overflow_y": null,
            "padding": null,
            "right": null,
            "top": null,
            "visibility": null,
            "width": null
          }
        },
        "6c476293a265428489f338c0b721bd97": {
          "model_module": "@jupyter-widgets/controls",
          "model_name": "ProgressStyleModel",
          "model_module_version": "1.5.0",
          "state": {
            "_model_module": "@jupyter-widgets/controls",
            "_model_module_version": "1.5.0",
            "_model_name": "ProgressStyleModel",
            "_view_count": null,
            "_view_module": "@jupyter-widgets/base",
            "_view_module_version": "1.2.0",
            "_view_name": "StyleView",
            "bar_color": null,
            "description_width": ""
          }
        },
        "2c4967484a0449e39c6c8d27ed66e1a1": {
          "model_module": "@jupyter-widgets/base",
          "model_name": "LayoutModel",
          "model_module_version": "1.2.0",
          "state": {
            "_model_module": "@jupyter-widgets/base",
            "_model_module_version": "1.2.0",
            "_model_name": "LayoutModel",
            "_view_count": null,
            "_view_module": "@jupyter-widgets/base",
            "_view_module_version": "1.2.0",
            "_view_name": "LayoutView",
            "align_content": null,
            "align_items": null,
            "align_self": null,
            "border": null,
            "bottom": null,
            "display": null,
            "flex": null,
            "flex_flow": null,
            "grid_area": null,
            "grid_auto_columns": null,
            "grid_auto_flow": null,
            "grid_auto_rows": null,
            "grid_column": null,
            "grid_gap": null,
            "grid_row": null,
            "grid_template_areas": null,
            "grid_template_columns": null,
            "grid_template_rows": null,
            "height": null,
            "justify_content": null,
            "justify_items": null,
            "left": null,
            "margin": null,
            "max_height": null,
            "max_width": null,
            "min_height": null,
            "min_width": null,
            "object_fit": null,
            "object_position": null,
            "order": null,
            "overflow": null,
            "overflow_x": null,
            "overflow_y": null,
            "padding": null,
            "right": null,
            "top": null,
            "visibility": null,
            "width": null
          }
        },
        "de87c69dc4024535bffa2938cc6a6bdd": {
          "model_module": "@jupyter-widgets/controls",
          "model_name": "DescriptionStyleModel",
          "model_module_version": "1.5.0",
          "state": {
            "_model_module": "@jupyter-widgets/controls",
            "_model_module_version": "1.5.0",
            "_model_name": "DescriptionStyleModel",
            "_view_count": null,
            "_view_module": "@jupyter-widgets/base",
            "_view_module_version": "1.2.0",
            "_view_name": "StyleView",
            "description_width": ""
          }
        },
        "78afe6fe5db540fd8203a47acba9785e": {
          "model_module": "@jupyter-widgets/controls",
          "model_name": "HBoxModel",
          "model_module_version": "1.5.0",
          "state": {
            "_dom_classes": [],
            "_model_module": "@jupyter-widgets/controls",
            "_model_module_version": "1.5.0",
            "_model_name": "HBoxModel",
            "_view_count": null,
            "_view_module": "@jupyter-widgets/controls",
            "_view_module_version": "1.5.0",
            "_view_name": "HBoxView",
            "box_style": "",
            "children": [
              "IPY_MODEL_5ec9d619ee8f4b2fb38ee61fd8b2e5bb",
              "IPY_MODEL_b9e9e54c5d024b6b8764e1ca49c33e61",
              "IPY_MODEL_78dd864a628e46ebbbaf95166065964a"
            ],
            "layout": "IPY_MODEL_e1b185ab9a964dc3ab668fe99dbcc099"
          }
        },
        "5ec9d619ee8f4b2fb38ee61fd8b2e5bb": {
          "model_module": "@jupyter-widgets/controls",
          "model_name": "HTMLModel",
          "model_module_version": "1.5.0",
          "state": {
            "_dom_classes": [],
            "_model_module": "@jupyter-widgets/controls",
            "_model_module_version": "1.5.0",
            "_model_name": "HTMLModel",
            "_view_count": null,
            "_view_module": "@jupyter-widgets/controls",
            "_view_module_version": "1.5.0",
            "_view_name": "HTMLView",
            "description": "",
            "description_tooltip": null,
            "layout": "IPY_MODEL_4b72f2d5a61d446f933758e16da481ca",
            "placeholder": "​",
            "style": "IPY_MODEL_f345dad92ead424888f66a791f65311d",
            "value": "Generating test split: 100%"
          }
        },
        "b9e9e54c5d024b6b8764e1ca49c33e61": {
          "model_module": "@jupyter-widgets/controls",
          "model_name": "FloatProgressModel",
          "model_module_version": "1.5.0",
          "state": {
            "_dom_classes": [],
            "_model_module": "@jupyter-widgets/controls",
            "_model_module_version": "1.5.0",
            "_model_name": "FloatProgressModel",
            "_view_count": null,
            "_view_module": "@jupyter-widgets/controls",
            "_view_module_version": "1.5.0",
            "_view_name": "ProgressView",
            "bar_style": "success",
            "description": "",
            "description_tooltip": null,
            "layout": "IPY_MODEL_2a65185012194e31a19504959bdda6c7",
            "max": 400000,
            "min": 0,
            "orientation": "horizontal",
            "style": "IPY_MODEL_f534961ae5514ba99a1ccac27afc0135",
            "value": 400000
          }
        },
        "78dd864a628e46ebbbaf95166065964a": {
          "model_module": "@jupyter-widgets/controls",
          "model_name": "HTMLModel",
          "model_module_version": "1.5.0",
          "state": {
            "_dom_classes": [],
            "_model_module": "@jupyter-widgets/controls",
            "_model_module_version": "1.5.0",
            "_model_name": "HTMLModel",
            "_view_count": null,
            "_view_module": "@jupyter-widgets/controls",
            "_view_module_version": "1.5.0",
            "_view_name": "HTMLView",
            "description": "",
            "description_tooltip": null,
            "layout": "IPY_MODEL_76a313e177c2438f809da621102da85e",
            "placeholder": "​",
            "style": "IPY_MODEL_a47f500efa594d538dfcd22526dd7986",
            "value": " 400000/400000 [00:05&lt;00:00, 126625.67 examples/s]"
          }
        },
        "e1b185ab9a964dc3ab668fe99dbcc099": {
          "model_module": "@jupyter-widgets/base",
          "model_name": "LayoutModel",
          "model_module_version": "1.2.0",
          "state": {
            "_model_module": "@jupyter-widgets/base",
            "_model_module_version": "1.2.0",
            "_model_name": "LayoutModel",
            "_view_count": null,
            "_view_module": "@jupyter-widgets/base",
            "_view_module_version": "1.2.0",
            "_view_name": "LayoutView",
            "align_content": null,
            "align_items": null,
            "align_self": null,
            "border": null,
            "bottom": null,
            "display": null,
            "flex": null,
            "flex_flow": null,
            "grid_area": null,
            "grid_auto_columns": null,
            "grid_auto_flow": null,
            "grid_auto_rows": null,
            "grid_column": null,
            "grid_gap": null,
            "grid_row": null,
            "grid_template_areas": null,
            "grid_template_columns": null,
            "grid_template_rows": null,
            "height": null,
            "justify_content": null,
            "justify_items": null,
            "left": null,
            "margin": null,
            "max_height": null,
            "max_width": null,
            "min_height": null,
            "min_width": null,
            "object_fit": null,
            "object_position": null,
            "order": null,
            "overflow": null,
            "overflow_x": null,
            "overflow_y": null,
            "padding": null,
            "right": null,
            "top": null,
            "visibility": null,
            "width": null
          }
        },
        "4b72f2d5a61d446f933758e16da481ca": {
          "model_module": "@jupyter-widgets/base",
          "model_name": "LayoutModel",
          "model_module_version": "1.2.0",
          "state": {
            "_model_module": "@jupyter-widgets/base",
            "_model_module_version": "1.2.0",
            "_model_name": "LayoutModel",
            "_view_count": null,
            "_view_module": "@jupyter-widgets/base",
            "_view_module_version": "1.2.0",
            "_view_name": "LayoutView",
            "align_content": null,
            "align_items": null,
            "align_self": null,
            "border": null,
            "bottom": null,
            "display": null,
            "flex": null,
            "flex_flow": null,
            "grid_area": null,
            "grid_auto_columns": null,
            "grid_auto_flow": null,
            "grid_auto_rows": null,
            "grid_column": null,
            "grid_gap": null,
            "grid_row": null,
            "grid_template_areas": null,
            "grid_template_columns": null,
            "grid_template_rows": null,
            "height": null,
            "justify_content": null,
            "justify_items": null,
            "left": null,
            "margin": null,
            "max_height": null,
            "max_width": null,
            "min_height": null,
            "min_width": null,
            "object_fit": null,
            "object_position": null,
            "order": null,
            "overflow": null,
            "overflow_x": null,
            "overflow_y": null,
            "padding": null,
            "right": null,
            "top": null,
            "visibility": null,
            "width": null
          }
        },
        "f345dad92ead424888f66a791f65311d": {
          "model_module": "@jupyter-widgets/controls",
          "model_name": "DescriptionStyleModel",
          "model_module_version": "1.5.0",
          "state": {
            "_model_module": "@jupyter-widgets/controls",
            "_model_module_version": "1.5.0",
            "_model_name": "DescriptionStyleModel",
            "_view_count": null,
            "_view_module": "@jupyter-widgets/base",
            "_view_module_version": "1.2.0",
            "_view_name": "StyleView",
            "description_width": ""
          }
        },
        "2a65185012194e31a19504959bdda6c7": {
          "model_module": "@jupyter-widgets/base",
          "model_name": "LayoutModel",
          "model_module_version": "1.2.0",
          "state": {
            "_model_module": "@jupyter-widgets/base",
            "_model_module_version": "1.2.0",
            "_model_name": "LayoutModel",
            "_view_count": null,
            "_view_module": "@jupyter-widgets/base",
            "_view_module_version": "1.2.0",
            "_view_name": "LayoutView",
            "align_content": null,
            "align_items": null,
            "align_self": null,
            "border": null,
            "bottom": null,
            "display": null,
            "flex": null,
            "flex_flow": null,
            "grid_area": null,
            "grid_auto_columns": null,
            "grid_auto_flow": null,
            "grid_auto_rows": null,
            "grid_column": null,
            "grid_gap": null,
            "grid_row": null,
            "grid_template_areas": null,
            "grid_template_columns": null,
            "grid_template_rows": null,
            "height": null,
            "justify_content": null,
            "justify_items": null,
            "left": null,
            "margin": null,
            "max_height": null,
            "max_width": null,
            "min_height": null,
            "min_width": null,
            "object_fit": null,
            "object_position": null,
            "order": null,
            "overflow": null,
            "overflow_x": null,
            "overflow_y": null,
            "padding": null,
            "right": null,
            "top": null,
            "visibility": null,
            "width": null
          }
        },
        "f534961ae5514ba99a1ccac27afc0135": {
          "model_module": "@jupyter-widgets/controls",
          "model_name": "ProgressStyleModel",
          "model_module_version": "1.5.0",
          "state": {
            "_model_module": "@jupyter-widgets/controls",
            "_model_module_version": "1.5.0",
            "_model_name": "ProgressStyleModel",
            "_view_count": null,
            "_view_module": "@jupyter-widgets/base",
            "_view_module_version": "1.2.0",
            "_view_name": "StyleView",
            "bar_color": null,
            "description_width": ""
          }
        },
        "76a313e177c2438f809da621102da85e": {
          "model_module": "@jupyter-widgets/base",
          "model_name": "LayoutModel",
          "model_module_version": "1.2.0",
          "state": {
            "_model_module": "@jupyter-widgets/base",
            "_model_module_version": "1.2.0",
            "_model_name": "LayoutModel",
            "_view_count": null,
            "_view_module": "@jupyter-widgets/base",
            "_view_module_version": "1.2.0",
            "_view_name": "LayoutView",
            "align_content": null,
            "align_items": null,
            "align_self": null,
            "border": null,
            "bottom": null,
            "display": null,
            "flex": null,
            "flex_flow": null,
            "grid_area": null,
            "grid_auto_columns": null,
            "grid_auto_flow": null,
            "grid_auto_rows": null,
            "grid_column": null,
            "grid_gap": null,
            "grid_row": null,
            "grid_template_areas": null,
            "grid_template_columns": null,
            "grid_template_rows": null,
            "height": null,
            "justify_content": null,
            "justify_items": null,
            "left": null,
            "margin": null,
            "max_height": null,
            "max_width": null,
            "min_height": null,
            "min_width": null,
            "object_fit": null,
            "object_position": null,
            "order": null,
            "overflow": null,
            "overflow_x": null,
            "overflow_y": null,
            "padding": null,
            "right": null,
            "top": null,
            "visibility": null,
            "width": null
          }
        },
        "a47f500efa594d538dfcd22526dd7986": {
          "model_module": "@jupyter-widgets/controls",
          "model_name": "DescriptionStyleModel",
          "model_module_version": "1.5.0",
          "state": {
            "_model_module": "@jupyter-widgets/controls",
            "_model_module_version": "1.5.0",
            "_model_name": "DescriptionStyleModel",
            "_view_count": null,
            "_view_module": "@jupyter-widgets/base",
            "_view_module_version": "1.2.0",
            "_view_name": "StyleView",
            "description_width": ""
          }
        }
      }
    }
  },
  "nbformat": 4,
  "nbformat_minor": 0
}