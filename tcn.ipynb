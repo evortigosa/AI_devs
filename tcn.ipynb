{
  "nbformat": 4,
  "nbformat_minor": 0,
  "metadata": {
    "colab": {
      "provenance": [],
      "toc_visible": true
    },
    "kernelspec": {
      "name": "python3",
      "display_name": "Python 3"
    },
    "language_info": {
      "name": "python"
    }
  },
  "cells": [
    {
      "cell_type": "markdown",
      "source": [
        "# Temporal Convolutional Networks (TCNs)\n",
        "\n",
        "While Convolutional Neural Networks (CNNs) are typically associated with images, TCNs take that powerful architecture and tweak it for sequence modeling tasks — like predicting stock prices or classifying time series data.\n",
        "\n",
        "TCNs offer a compelling alternative to traditional Recurrent Neural Networks (RNNs), including their more sophisticated counterparts, LSTMs and GRUs. Why? Because sequence data, especially when you're handling large datasets, demands both temporal consistency (causality) and flexibility in sequence length. With RNNs, you often deal with complex training times and gradient problems that can make your models unstable. TCNs? They sidestep a lot of these challenges."
      ],
      "metadata": {
        "id": "n-5LWvYdP8GQ"
      }
    },
    {
      "cell_type": "code",
      "execution_count": 1,
      "metadata": {
        "id": "aGY1dBbAP2P-"
      },
      "outputs": [],
      "source": [
        "import math\n",
        "import numpy as np\n",
        "import pandas as pd\n",
        "import matplotlib.pyplot as plt\n",
        "import torch\n",
        "import torch.nn as nn\n",
        "import torch.nn.functional as F\n",
        "from dataclasses import dataclass\n",
        "from tqdm import tqdm"
      ]
    },
    {
      "cell_type": "code",
      "source": [
        "device= 'cuda' if torch.cuda.is_available() else 'cpu'"
      ],
      "metadata": {
        "id": "XqHRIO0uP70e"
      },
      "execution_count": 2,
      "outputs": []
    },
    {
      "cell_type": "markdown",
      "source": [
        "TCNs bring several advantages to the table. First, they support **parallelization**. Unlike RNNs, which process sequences one step at a time, TCNs can handle entire sequences in parallel. This not only speeds up the computation but also allows for more efficient use of your hardware resources.\n",
        "\n",
        "Second, TCNs provide **stable gradient propagation**. Anyone who has tried to train deep RNNs knows the pain of vanishing or exploding gradients. TCNs, with their non-recursive architecture, handle this much better, giving you smoother and more stable training dynamics, even with long sequences.\n",
        "\n",
        "Finally, TCNs have **longer effective memory**. They can easily manage long-range dependencies without suffering from memory degradation, something RNNs often struggle with as they try to hold onto information across many time steps."
      ],
      "metadata": {
        "id": "Hj43L_YRSChv"
      }
    },
    {
      "cell_type": "code",
      "source": [
        "class CausalConvBlock(nn.Module):\n",
        "    \"\"\"\n",
        "    Implements one TCN layer.\n",
        "    \"\"\"\n",
        "\n",
        "    def __init__(self, in_chs, out_chs, kernel, dilation, dropout=0.1) -> None:\n",
        "        super(CausalConvBlock, self).__init__()\n",
        "        pad= (kernel - 1) * dilation\n",
        "        self.c_conv1d= nn.Conv1d(in_chs, out_chs, kernel, padding=pad, dilation=dilation)\n",
        "        self.b_norm= nn.BatchNorm1d(out_chs)\n",
        "        self.activ= nn.ReLU(inplace=True)\n",
        "        self.dropout= nn.Dropout(p=dropout)\n",
        "\n",
        "\n",
        "    def forward(self, x):\n",
        "        # shape x[batch, filter/channel, timestep/length]\n",
        "        x= self.c_conv1d(x)\n",
        "        # remove trailing padding\n",
        "        x= x[:, :, :-self.c_conv1d.padding[0]].contiguous()\n",
        "        x= self.b_norm(x)\n",
        "        x= self.activ(x)\n",
        "        x= self.dropout(x)\n",
        "\n",
        "        return x\n"
      ],
      "metadata": {
        "id": "hQW9rDYEQmgR"
      },
      "execution_count": 3,
      "outputs": []
    },
    {
      "cell_type": "markdown",
      "source": [
        "**Core Architecture of Temporal Convolutional Networks:**\n",
        "\n",
        "- TCNs use **1D convolutions** that slide over your input sequence. This is what makes them perfect for time-series data — they treat the temporal dimension as a continuous stream, applying convolutions to detect patterns and trends just like a CNN identifies edges or shapes in an image.\n",
        "\n",
        "- **Causal convolutions** ensure that when the model is predicting the output at time $t$, it only looks at data from time t or earlier. This is what keeps the model grounded in the temporal sequence.\n",
        "\n",
        "- TCNs use **dilated convolutions** to increase their receptive field without increasing the number of parameters drastically. Dilated convolutions allow the model to \"see\" farther into the sequence, capturing long-range dependencies by increasing the dilation rate at each layer. This technique ensures that even though the convolution kernel is small, it can cover large parts of the sequence without losing resolution or computational efficiency.\n",
        "\n",
        "- **Depth and Receptive Field Expansion.** The deeper the network, the broader the receptive field — meaning, the model can see further back into the sequence. TCNs leverage this depth to capture both short-term patterns and long-term dependencies. As the depth increases, TCNs extend their memory horizon, allowing them to model intricate relationships across long sequences.\n",
        "\n",
        "While TCNs don't suffer from vanishing gradients as much as RNNs, they can still benefit greatly from Batch Normalization. Normalizing the activations after each layer helps stabilize the training process, speeding up convergence and improving model generalization. Additionally, dropout is a must for regularization, especially if you're working with smaller datasets where overfitting can be a concern."
      ],
      "metadata": {
        "id": "TDrZnzFtTXj8"
      }
    },
    {
      "cell_type": "code",
      "source": [
        "class Backbone(nn.Module):\n",
        "    \"\"\"\n",
        "    Defining the TCN backbone.\n",
        "    hiddens: list of hidden channels for each layer.\n",
        "    dilations: list of dilation rates for each layer.\n",
        "    \"\"\"\n",
        "\n",
        "    def __init__(self, n_blocks, in_chs, hidden_chs, kernel, dilation, dropout=0.1) -> None:\n",
        "        super(Backbone, self).__init__()\n",
        "        # dilated convolution\n",
        "        self.temp_block1= CausalConvBlock(in_chs, hidden_chs[0], kernel, dilation[0], dropout)\n",
        "        self.temp_blocks= nn.ModuleList([\n",
        "            CausalConvBlock(hidden_chs[i], hidden_chs[i+1], kernel, dilation[i+1], dropout)\n",
        "            for i in range(n_blocks-1)\n",
        "        ])\n",
        "        # 1x1 convolution for residual connection\n",
        "        self.identity_conv= None\n",
        "        if in_chs > 1 and in_chs != hidden_chs[-1]:\n",
        "            self.identity_conv= nn.Conv1d(in_chs, hidden_chs[-1], kernel_size=1)\n",
        "        self.activ= nn.ReLU()\n",
        "\n",
        "        for p in self.parameters():\n",
        "            if p.dim()> 1:\n",
        "                nn.init.kaiming_normal_(p)\n",
        "\n",
        "\n",
        "    def forward(self, x):\n",
        "        # dilated convolutions\n",
        "        t= self.temp_block1(x)\n",
        "        for block in self.temp_blocks:\n",
        "            t= block(t)\n",
        "        # residual connection\n",
        "        if self.identity_conv is not None:\n",
        "            x= self.identity_conv(x)\n",
        "\n",
        "        return self.activ(x + t)\n"
      ],
      "metadata": {
        "id": "nbNV_TJ2QmjJ"
      },
      "execution_count": 4,
      "outputs": []
    },
    {
      "cell_type": "markdown",
      "source": [
        "**Vanishing gradient:** This is where **residual connections** step in. These connections allow the model to learn identity mappings, ensuring that the gradient doesn't vanish as it flows backward through the network. They make deep networks not only trainable but also more accurate. In TCNs, residual connections are vital to maintaining stable gradient flow, especially in deep architectures designed to capture long-range dependencies."
      ],
      "metadata": {
        "id": "GgVxpsZyW6d4"
      }
    },
    {
      "cell_type": "code",
      "source": [
        "class Head(nn.Module):\n",
        "    \"\"\"\n",
        "    Implementing one MLP projection head (for data classification).\n",
        "    \"\"\"\n",
        "\n",
        "    def __init__(self, in_dim, inner_dim, out_dim=1, dropout=0.1) -> None:\n",
        "        super(Head, self).__init__()\n",
        "        self.fc1= nn.Linear(in_dim, inner_dim)\n",
        "        self.activ= nn.ReLU(inplace=True)\n",
        "        self.dropout= nn.Dropout(p=dropout)\n",
        "        self.fc2= nn.Linear(inner_dim, out_dim)\n",
        "\n",
        "        for p in self.parameters():\n",
        "            if p.dim()> 1:\n",
        "                nn.init.xavier_normal_(p)\n",
        "\n",
        "    def forward(self, x):\n",
        "        x= self.fc1(x)\n",
        "        x= self.activ(x)\n",
        "        x= self.dropout(x)\n",
        "        x= self.fc2(x)\n",
        "\n",
        "        return x\n"
      ],
      "metadata": {
        "id": "LvWfLkoHQmmC"
      },
      "execution_count": 5,
      "outputs": []
    },
    {
      "cell_type": "markdown",
      "source": [
        "How do TCNs avoid the notorious gradient issues that plague RNNs? The answer lies in their non-recursive structure. Traditional RNNs rely on recursive computations, which makes them prone to gradient problems, especially when training deep networks. TCNs, on the other hand, don't suffer from this since their architecture is built on convolutions rather than recurrences. This not only results in stable gradient flow but also ensures that you don't need any specialized tricks (like gradient clipping) just to get the network to train properly. It's a much smoother ride."
      ],
      "metadata": {
        "id": "1dmRypHQUEC9"
      }
    },
    {
      "cell_type": "markdown",
      "source": [
        "# Building the Model"
      ],
      "metadata": {
        "id": "2lPHLJd-VQ-J"
      }
    },
    {
      "cell_type": "code",
      "source": [
        "class TCN_Model(nn.Module):\n",
        "    \"\"\"\n",
        "    Defining the full TCN model.\n",
        "    \"\"\"\n",
        "\n",
        "    def __init__(self, config) -> None:\n",
        "        super(TCN_Model, self).__init__()\n",
        "        self.backbone= Backbone(\n",
        "            config.n_blocks, config.input_chs, config.hidden_chs, config.kernel,\n",
        "            config.dilation, config.dropout\n",
        "        )\n",
        "        self.head= Head(\n",
        "            config.in_dim, config.inner_dim, config.out_dim, config.dropout\n",
        "        )\n",
        "\n",
        "\n",
        "    def forward(self, x):\n",
        "        # shape x[batch, filter/channel, timestep/length]\n",
        "        x= self.backbone(x)\n",
        "        x= torch.flatten(x, 1)\n",
        "        x= self.head(x)\n",
        "\n",
        "        return x\n"
      ],
      "metadata": {
        "id": "wWgqbn_6Qmq4"
      },
      "execution_count": 6,
      "outputs": []
    },
    {
      "cell_type": "markdown",
      "source": [
        "RNNs process sequences step by step, in a sequential manner. That's essentially how LSTMs and GRUs work: they handle one time step at a time, making them inherently slow for long sequences.\n",
        "\n",
        "TCNs are different. Thanks to their convolutional structure, they can process entire sequences in parallel. Instead of reading the book one page at a time, it's like having the ability to skim through all the chapters simultaneously, finding patterns across time steps faster and more efficiently. This parallelism is particularly useful when you're dealing with high-dimensional input data or large-scale datasets, making your training faster and more scalable.\n",
        "\n",
        "# Creating a TCN\n",
        "\n",
        "One of the keys to success with TCNs is the kernel size. A kernel size of 3 or 5 works well, as it captures local dependencies without overwhelming the model. Meanwhile, the dilation factors (usually powers of 2 like 1, 2, 4, 8) allow the TCN to expand its receptive field exponentially, enabling it to learn both short-term and long-term dependencies."
      ],
      "metadata": {
        "id": "hhqiUlPLVAMm"
      }
    },
    {
      "cell_type": "code",
      "source": [
        "@dataclass\n",
        "class TCNConfig:\n",
        "    # --- backbone ---\n",
        "    n_blocks= 3\n",
        "    input_chs= 1\n",
        "    hidden_chs= [64,64,64]\n",
        "    kernel= 3\n",
        "    dilation= [1,2,4]\n",
        "    # --- head ---\n",
        "    in_dim= 320\n",
        "    inner_dim= 64\n",
        "    out_dim= 1\n",
        "    dropout= 0.1\n",
        "\n",
        "\n",
        "model= TCN_Model(TCNConfig()).to(device)\n",
        "\n",
        "total_params= sum(p.numel() for p in model.parameters() if p.requires_grad)\n",
        "print(f'Number of parameters: {total_params}')\n",
        "\n",
        "print(model)"
      ],
      "metadata": {
        "colab": {
          "base_uri": "https://localhost:8080/"
        },
        "id": "GbKJ-uVFQmsp",
        "outputId": "6dc32e6f-cb11-42c4-c2fa-479ed8f5acb8"
      },
      "execution_count": 7,
      "outputs": [
        {
          "output_type": "stream",
          "name": "stdout",
          "text": [
            "Number of parameters: 45953\n",
            "TCN_Model(\n",
            "  (backbone): Backbone(\n",
            "    (temp_block1): CausalConvBlock(\n",
            "      (c_conv1d): Conv1d(1, 64, kernel_size=(3,), stride=(1,), padding=(2,))\n",
            "      (b_norm): BatchNorm1d(64, eps=1e-05, momentum=0.1, affine=True, track_running_stats=True)\n",
            "      (activ): ReLU(inplace=True)\n",
            "      (dropout): Dropout(p=0.1, inplace=False)\n",
            "    )\n",
            "    (temp_blocks): ModuleList(\n",
            "      (0): CausalConvBlock(\n",
            "        (c_conv1d): Conv1d(64, 64, kernel_size=(3,), stride=(1,), padding=(4,), dilation=(2,))\n",
            "        (b_norm): BatchNorm1d(64, eps=1e-05, momentum=0.1, affine=True, track_running_stats=True)\n",
            "        (activ): ReLU(inplace=True)\n",
            "        (dropout): Dropout(p=0.1, inplace=False)\n",
            "      )\n",
            "      (1): CausalConvBlock(\n",
            "        (c_conv1d): Conv1d(64, 64, kernel_size=(3,), stride=(1,), padding=(8,), dilation=(4,))\n",
            "        (b_norm): BatchNorm1d(64, eps=1e-05, momentum=0.1, affine=True, track_running_stats=True)\n",
            "        (activ): ReLU(inplace=True)\n",
            "        (dropout): Dropout(p=0.1, inplace=False)\n",
            "      )\n",
            "    )\n",
            "    (activ): ReLU()\n",
            "  )\n",
            "  (head): Head(\n",
            "    (fc1): Linear(in_features=320, out_features=64, bias=True)\n",
            "    (activ): ReLU(inplace=True)\n",
            "    (dropout): Dropout(p=0.1, inplace=False)\n",
            "    (fc2): Linear(in_features=64, out_features=1, bias=True)\n",
            "  )\n",
            ")\n"
          ]
        }
      ]
    },
    {
      "cell_type": "markdown",
      "source": [
        "# Data Loading"
      ],
      "metadata": {
        "id": "k24IUnJo5rdo"
      }
    },
    {
      "cell_type": "code",
      "source": [
        "from google.colab import drive\n",
        "drive.mount('/content/drive/')\n",
        "PATH= '/content/drive/My Drive/Colab Notebooks/data/Google_Stock_Train_2010_2022.csv'"
      ],
      "metadata": {
        "colab": {
          "base_uri": "https://localhost:8080/"
        },
        "id": "sInVp4OW53FP",
        "outputId": "bb963c33-8e47-467f-d0df-e328d79d4859"
      },
      "execution_count": 16,
      "outputs": [
        {
          "output_type": "stream",
          "name": "stdout",
          "text": [
            "Mounted at /content/drive/\n"
          ]
        }
      ]
    },
    {
      "cell_type": "markdown",
      "source": [
        "- **Normalization/Scaling:** Data can have vastly different magnitudes depending on the time of year and other factors. You'll want to normalize or standardize the data so that all features are on a comparable scale. This helps the TCN learn efficiently without being biased by large values.\n",
        "\n",
        "- **Windowing:** In time-series forecasting, it's essential to create sliding windows of data. For instance, if you're predicting the electricity load for the next 24 hours, you might take the last 7 days of data (or whatever makes sense based on historical patterns) as input. In practice, you'd create overlapping sequences of input-output pairs."
      ],
      "metadata": {
        "id": "gXj0WPhcdreK"
      }
    },
    {
      "cell_type": "code",
      "source": [
        "from sklearn.preprocessing import StandardScaler\n",
        "\n",
        "class TimeSeriesData:\n",
        "    \"\"\"\n",
        "    Dataset class for time series data.\n",
        "    Parameters:\n",
        "        device (str): device to use for training\n",
        "        ticker (str): stock ticker symbol\n",
        "        start_date (str): start date for data retrieval\n",
        "        end_date (str): end date for data retrieval\n",
        "        look_back (int): number of previous time steps to include in each sample\n",
        "        train_size (float): proportion of data to use for training\n",
        "    \"\"\"\n",
        "\n",
        "    def __init__(self, device, start_date, end_date, look_back=1, train_size=0.67) -> None:\n",
        "        self.device= device\n",
        "        self.start_date= start_date\n",
        "        self.end_date= end_date\n",
        "        self.look_back= look_back\n",
        "        self.train_size= train_size\n",
        "\n",
        "\n",
        "    def std_scaler(self, train, test):\n",
        "        \"\"\"\n",
        "        Scaling with StandardScaler.\n",
        "        Parameters:\n",
        "            train (np.ndarray): training data\n",
        "            test (np.ndarray): testing data\n",
        "        \"\"\"\n",
        "\n",
        "        scaler= StandardScaler()\n",
        "\n",
        "        scaled_train= scaler.fit_transform(train)\n",
        "        scaled_test = scaler.transform(test)\n",
        "\n",
        "        return scaled_train, scaled_test\n",
        "\n",
        "\n",
        "    def load_data(self, path):\n",
        "        \"\"\"\n",
        "        Load stock data.\n",
        "        Returns:\n",
        "            np.ndarray, training data\n",
        "            np.ndarray, testing data\n",
        "        \"\"\"\n",
        "\n",
        "        df= pd.read_csv(path)\n",
        "        df= df[(df['Date']>= self.start_date) & (df['Date'] <= self.end_date)]\n",
        "        df= df.set_index('Date')\n",
        "        df= df.sort_index()\n",
        "        df= df.loc[self.start_date:self.end_date]\n",
        "        df= df[['Close']].astype(float) # use closing price\n",
        "        df= df.values                   # convert DataFrame to np.array\n",
        "\n",
        "        train_size= int(len(df) * self.train_size)\n",
        "        train, test= self.std_scaler(df[0:train_size,:], df[train_size:len(df),:])\n",
        "\n",
        "        return train, test\n",
        "\n",
        "\n",
        "    def create_sliding_windows(self, data):\n",
        "        \"\"\"\n",
        "        Create the dataset for time series prediction.\n",
        "        Parameters:\n",
        "            data (np.ndarray) input data\n",
        "        Returns:\n",
        "            np.ndarray, input data\n",
        "            np.ndarray, output data\n",
        "        \"\"\"\n",
        "\n",
        "        Xds, Yds= [], []\n",
        "        for i in range(len(data)-self.look_back):\n",
        "            feature= data[i : i +self.look_back]\n",
        "            target = data[i +self.look_back : i +self.look_back +1]\n",
        "            Xds.append(feature)\n",
        "            Yds.append(target)\n",
        "\n",
        "        return np.array(Xds), np.array(Yds)\n",
        "\n",
        "\n",
        "    def split_train_test(self, path):\n",
        "        \"\"\"\n",
        "        Get the training and testing data.\n",
        "        Returns:\n",
        "            torch.tensor, training input\n",
        "            torch.tensor, training output\n",
        "            torch.tensor, testing input\n",
        "            torch.tensor, testing output\n",
        "        \"\"\"\n",
        "\n",
        "        train, test= self.load_data(path)\n",
        "        Xtr, Ytr= self.create_sliding_windows(train)\n",
        "        Xte, Yte= self.create_sliding_windows(test)\n",
        "\n",
        "        # reshape input to be [batch, filter/channel, timestep/length]\n",
        "        Xtr= np.reshape(Xtr, (Xtr.shape[0], 1, Xtr.shape[1]))\n",
        "        Xte= np.reshape(Xte, (Xte.shape[0], 1, Xte.shape[1]))\n",
        "\n",
        "        Xtr= torch.tensor(Xtr, requires_grad=True).type(torch.float32).to(device)\n",
        "        Ytr= torch.tensor(Ytr.squeeze(axis=-1)).type(torch.float32).to(device)\n",
        "        Xte= torch.tensor(Xte, requires_grad=True).type(torch.float32).to(device)\n",
        "        Yte= torch.tensor(Yte.squeeze(axis=-1)).type(torch.float32).to(device)\n",
        "\n",
        "        return Xtr, Ytr, Xte, Yte\n"
      ],
      "metadata": {
        "id": "rtk73KfD53Iv"
      },
      "execution_count": 72,
      "outputs": []
    },
    {
      "cell_type": "code",
      "source": [
        "# instantiate the dataset\n",
        "data= TimeSeriesData(device, '2010-1-1', '2020-12-31', look_back=5)\n",
        "Xtr, Ytr, Xte, Yte= data.split_train_test(PATH)\n",
        "\n",
        "# reshape input to be [batch, filter/channel, timestep/length]\n",
        "print(f'Shape of training: Xtr - {Xtr.shape}, Ytr - {Ytr.shape}')\n",
        "print(f'Shape of test data: Xte - {Xte.shape}, Yte - {Yte.shape}')"
      ],
      "metadata": {
        "colab": {
          "base_uri": "https://localhost:8080/"
        },
        "id": "jTy-njPV53MD",
        "outputId": "431d2739-9379-4baf-f4b3-92cce768c0fc"
      },
      "execution_count": 75,
      "outputs": [
        {
          "output_type": "stream",
          "name": "stdout",
          "text": [
            "Shape of training: Xtr - torch.Size([1724, 1, 5]), Ytr - torch.Size([1724, 1])\n",
            "Shape of test data: Xte - torch.Size([847, 1, 5]), Yte - torch.Size([847, 1])\n"
          ]
        }
      ]
    },
    {
      "cell_type": "markdown",
      "source": [
        "# Training\n",
        "\n",
        "Speaking of stabilizing training, implementing early stopping is a smart move. This ensures you don't overfit on the training data. You stop the training when the validation loss stops improving after a set number of epochs (patience). This saves time and resources while preventing overfitting."
      ],
      "metadata": {
        "id": "OzpyutdbVrFR"
      }
    },
    {
      "cell_type": "code",
      "source": [
        "class EarlyStopping:\n",
        "    \"\"\"\n",
        "    Early stopping to stop the training when the loss does not improve after\n",
        "    Args:\n",
        "        patience (int): Number of epochs to wait before stopping the training.\n",
        "        delta (float): Minimum change in the monitored quantity to qualify as an improvement.\n",
        "        verbose (bool): If True, prints a message for each epoch where the loss does not improve.\n",
        "    \"\"\"\n",
        "\n",
        "    def __init__(self, patience=7, cutoff=1e-9, verbose=False):\n",
        "        self.patience= patience\n",
        "        self.cutoff= cutoff\n",
        "        self.verbose= verbose\n",
        "        self.counter= 0\n",
        "        self.last_loss= None\n",
        "        self.early_stop= False\n",
        "\n",
        "\n",
        "    def __call__(self, current_loss, epoch):\n",
        "        \"\"\"\n",
        "        Args:\n",
        "            val_loss (float): The validation loss to check if the model performance improved.\n",
        "        Returns:\n",
        "            bool: True if the loss did not improve, False if it improved.\n",
        "        \"\"\"\n",
        "        if self.last_loss is None:\n",
        "            self.last_loss= current_loss\n",
        "        else:\n",
        "            loss_change= np.abs(self.last_loss - current_loss)\n",
        "\n",
        "            # deciding to stop if loss is not decreasing fast enough\n",
        "            if loss_change< self.cutoff:\n",
        "                self.counter += 1\n",
        "\n",
        "                if self.counter> self.patience:\n",
        "                    self.early_stop= True\n",
        "                    if self.verbose:\n",
        "                        print('\\nEarly stopping at epoch {}'.format(epoch))\n",
        "            else:\n",
        "                self.counter= 0\n",
        "            # setting current loss as previous loss\n",
        "            self.last_loss= current_loss\n",
        ""
      ],
      "metadata": {
        "id": "7MnZTG-3EOFa"
      },
      "execution_count": 67,
      "outputs": []
    },
    {
      "cell_type": "code",
      "source": [
        "def training(model, learning_rate=1e-3, epochs=500, eval_interval=5, batches:bool=True,\n",
        "             batch_size=64, patience=7, cutoff=1e-9, verbose=False):\n",
        "\n",
        "    # defining key hyperparamaters explicitly (instead of hyperparamater search)\n",
        "    if batches:\n",
        "        epoch_size= math.floor(Xtr.shape[0]/ batch_size)\n",
        "    else:\n",
        "        batch_size= Xtr.shape[0]\n",
        "        epoch_size= 1\n",
        "\n",
        "    weight_decay=5e-4\n",
        "\n",
        "    # create a PyTorch optimizer\n",
        "    optimizer= torch.optim.AdamW(model.parameters(), lr=learning_rate, weight_decay=weight_decay)\n",
        "\n",
        "    # loss function\n",
        "    loss_fn= nn.MSELoss()\n",
        "\n",
        "    early_stopping= EarlyStopping(patience=patience, cutoff=cutoff, verbose=verbose)\n",
        "\n",
        "    # tracking statistics\n",
        "    train_hist= []\n",
        "    test_hist= []\n",
        "\n",
        "    # --- training loop ---\n",
        "    for epoch in tqdm(range(epochs)):\n",
        "\n",
        "        batch_loss= []\n",
        "\n",
        "        # iterating over all batches\n",
        "        for i in range(epoch_size):\n",
        "\n",
        "            # --- minibatch construction ---\n",
        "            Xmb= Xtr[(i * batch_size) : ((i+1) * batch_size)]\n",
        "            Ymb= Ytr[(i * batch_size) : ((i+1) * batch_size)]\n",
        "\n",
        "            # --- forward pass and get loss ---\n",
        "            model.train(True)\n",
        "            y_pred= model(Xmb)\n",
        "            loss_tr= loss_fn(y_pred.view(Ymb.shape), Ymb)\n",
        "            batch_loss.append(loss_tr.item())\n",
        "\n",
        "            # --- backward pass to calculate the gradients ---\n",
        "            optimizer.zero_grad()\n",
        "            loss_tr.backward()\n",
        "\n",
        "            # --- update the parameters using the gradient ---\n",
        "            optimizer.step()\n",
        "\n",
        "\n",
        "        # --- evaluation and track stats ---\n",
        "        train_hist.append(np.mean(batch_loss))\n",
        "\n",
        "        if epoch% eval_interval== 0:\n",
        "            model.train(False)\n",
        "            with torch.no_grad():\n",
        "                y_pred= model(Xte)\n",
        "                loss_te= loss_fn(y_pred.view(Yte.shape), Yte)\n",
        "\n",
        "            early_stopping(current_loss=loss_te.item(), epoch=epoch)\n",
        "            if early_stopping.early_stop:\n",
        "                test_hist.append(loss_te.item())\n",
        "                model.train(False)\n",
        "                break\n",
        "\n",
        "        test_hist.append(loss_te.item())\n",
        "\n",
        "\n",
        "    return train_hist, test_hist"
      ],
      "metadata": {
        "id": "Iq3M1KdDQm3m"
      },
      "execution_count": 68,
      "outputs": []
    },
    {
      "cell_type": "code",
      "source": [
        "# ----- reseting the 45k params TCN model -----\n",
        "model= TCN_Model(TCNConfig()).to(device)\n",
        "\n",
        "train_hist, test_hist= training(model, learning_rate=1e-3, epochs=500, eval_interval=5,\n",
        "                                batch_size=256)"
      ],
      "metadata": {
        "colab": {
          "base_uri": "https://localhost:8080/"
        },
        "id": "MXohbSIFQm6D",
        "outputId": "7b97595d-3f2d-41f4-c816-fd7409da1ed4"
      },
      "execution_count": 83,
      "outputs": [
        {
          "output_type": "stream",
          "name": "stderr",
          "text": [
            "100%|██████████| 500/500 [02:07<00:00,  3.92it/s]\n"
          ]
        }
      ]
    },
    {
      "cell_type": "code",
      "source": [
        "plt.plot(train_hist, label='Train Loss')\n",
        "plt.plot(test_hist, label='Validation Loss')\n",
        "plt.title('Losses')\n",
        "plt.xlabel('Epochs')\n",
        "plt.ylabel('Loss')\n",
        "plt.legend()\n",
        "plt.grid()"
      ],
      "metadata": {
        "colab": {
          "base_uri": "https://localhost:8080/",
          "height": 472
        },
        "id": "KSMa1j4nQm8m",
        "outputId": "8b664110-4cae-49e4-b563-af0ac995099b"
      },
      "execution_count": 85,
      "outputs": [
        {
          "output_type": "display_data",
          "data": {
            "text/plain": [
              "<Figure size 640x480 with 1 Axes>"
            ],
            "image/png": "[encoded data removed]"
          },
          "metadata": {}
        }
      ]
    },
    {
      "cell_type": "code",
      "source": [
        "# Predictions\n",
        "model.train(False)\n",
        "with torch.no_grad():\n",
        "    y_pred= model(Xte)\n",
        "\n",
        "# Plot actual vs predicted load\n",
        "plt.figure(figsize=(12, 6))\n",
        "plt.plot(Yte[:100], label=\"Actual\")\n",
        "plt.plot(y_pred[:100], label=\"Predicted\")\n",
        "plt.title(\"Stock prices: Actual vs Predicted\")\n",
        "plt.legend()\n",
        "plt.show()"
      ],
      "metadata": {
        "id": "T7WAMFBgaOHJ",
        "colab": {
          "base_uri": "https://localhost:8080/",
          "height": 545
        },
        "outputId": "c7fc95a7-4de6-4bb0-d4c4-e795a6618c8d"
      },
      "execution_count": 88,
      "outputs": [
        {
          "output_type": "display_data",
          "data": {
            "text/plain": [
              "<Figure size 1200x600 with 1 Axes>"
            ],
            "image/png": "[encoded data removed]"
          },
          "metadata": {}
        }
      ]
    },
    {
      "cell_type": "markdown",
      "source": [
        "Temporal Convolutional Networks (TCNs) offer a powerful, flexible, and scalable alternative to traditional RNN-based models for sequence modeling tasks. The ability to leverage parallelism, stable gradient propagation, and efficient memory retention gives TCNs a clear edge, especially in applications that involve long-range dependencies like time-series forecasting or action recognition.\n",
        "\n",
        "While TCNs outperform RNNs in many scenarios, there are still cases where RNNs, especially attention-based models like Transformers, excel — particularly when dealing with irregular sequences or where attention mechanisms shine. However, if you need a highly parallelizable and memory-efficient model, TCNs are definitely the go-to choice."
      ],
      "metadata": {
        "id": "fSkTuAHLgMaD"
      }
    },
    {
      "cell_type": "code",
      "source": [
        "# https://medium.com/@amit25173/temporal-convolutional-network-an-overview-4d2b6f03d6f8\n",
        "# https://github.com/morgengramlich/temporal_convolutional_network/blob/main/tcn/tcn.py\n",
        "# https://www.kaggle.com/code/ceshine/pytorch-temporal-convolutional-networks"
      ],
      "metadata": {
        "id": "HRc4gIr63WU4"
      },
      "execution_count": null,
      "outputs": []
    }
  ]
}