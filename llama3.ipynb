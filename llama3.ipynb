{
  "nbformat": 4,
  "nbformat_minor": 0,
  "metadata": {
    "colab": {
      "provenance": [],
      "gpuType": "A100",
      "toc_visible": true
    },
    "kernelspec": {
      "name": "python3",
      "display_name": "Python 3"
    },
    "language_info": {
      "name": "python"
    },
    "accelerator": "GPU"
  },
  "cells": [
    {
      "cell_type": "markdown",
      "source": [
        "# Build the LLaMA 3 Architecture from Scratch Using PyTorch"
      ],
      "metadata": {
        "id": "o1jyU47dnHdd"
      }
    },
    {
      "cell_type": "code",
      "execution_count": 1,
      "metadata": {
        "id": "ucl6l-i5mpv8"
      },
      "outputs": [],
      "source": [
        "import math\n",
        "import numpy as np\n",
        "import pandas as pd\n",
        "import matplotlib.pyplot as plt\n",
        "import torch\n",
        "import torch.nn as nn\n",
        "import torch.nn.functional as F\n",
        "from typing import Optional, Tuple, List\n",
        "from tqdm import tqdm"
      ]
    },
    {
      "cell_type": "code",
      "source": [
        "device= 'cuda' if torch.cuda.is_available() else 'cpu'"
      ],
      "metadata": {
        "id": "1pPwP8jxnr9S"
      },
      "execution_count": 2,
      "outputs": []
    },
    {
      "cell_type": "code",
      "source": [
        "# count how many trainable weights the model has\n",
        "def count_parameters(model) -> None:\n",
        "    total_params= sum(p.numel() for p in model.parameters() if p.requires_grad)\n",
        "    print(f'Number of parameters: {total_params}')"
      ],
      "metadata": {
        "id": "s25vWwlA6lWe"
      },
      "execution_count": 3,
      "outputs": []
    },
    {
      "cell_type": "markdown",
      "source": [
        "# 1 - The Input Block\n",
        "\n",
        "The input to the model should always be in number format as it is unable to process text. Tokenizer helps to convert these texts/prompts into token-ids (which is an index number representation of tokens in vocabulary). We'll be using a character-level tokenizer for our model building."
      ],
      "metadata": {
        "id": "1Pr7PYN20gjL"
      }
    },
    {
      "cell_type": "code",
      "source": [
        "class InputBlock(nn.Module):\n",
        "    \"\"\"\n",
        "    Embeds a batch of token_ids generated from texts or prompts using tokenizers.\n",
        "    \"\"\"\n",
        "\n",
        "    def __init__(self, vocab_size:int, embed_dim:int) -> None:\n",
        "        super(InputBlock, self).__init__()\n",
        "        # init embedding class from the input block\n",
        "        self.embeddings= nn.Embedding(vocab_size, embed_dim)\n",
        "\n",
        "\n",
        "    def forward(self, x):\n",
        "        h= self.embeddings(x)\n",
        "\n",
        "        return h # x[bsz,seq_len] -> h[bsz,seq_len,embed_dim]\n"
      ],
      "metadata": {
        "id": "JqPRKTd7ndUx"
      },
      "execution_count": 4,
      "outputs": []
    },
    {
      "cell_type": "markdown",
      "source": [
        "# 2 - The Decoder Block\n",
        "\n",
        "The embedding vector has many dimensions (4096 dim in LLaMA 3-8B) and there is always a chance of having values in different ranges. This can cause model gradients to explode or vanish hence resulting in slow convergence or even divergence."
      ],
      "metadata": {
        "id": "OBCWo0xV0l8U"
      }
    },
    {
      "cell_type": "markdown",
      "source": [
        "# 2.1 - RMSNorm\n",
        "\n",
        "The **RMSNorm** brings these values into a certain range which helps to stabilize and accelerate the training process. This makes gradients have more consistent magnitudes and that results in making models converge more quickly.\n",
        "\n",
        "$$\\hat{a}_i = \\frac{a_i}{RMS(a)}g_i \\text{, where } RMS(a) = \\sqrt{\\frac{1}{n}\\sum_{i=1}^n{a_i^2}}$$\n",
        "\n",
        "Specifically, Pre-normalization using RMSNorm helps LLMs prioritize which parts of the text are more critical for understanding the context and meaning. It assigns higher weights to essential elements and lower weights to less crucial ones, ensuring the model focuses its attention where it's most needed for accurate comprehension."
      ],
      "metadata": {
        "id": "qOrEKi2NeEsC"
      }
    },
    {
      "cell_type": "code",
      "source": [
        "class RMSNorm(nn.Module):\n",
        "    \"\"\"\n",
        "    Root Mean Square normalization (RMSNorm).\n",
        "    \"\"\"\n",
        "\n",
        "    def __init__(self, dim:int, eps:float=1e-6) -> None:\n",
        "        super(RMSNorm, self).__init__()\n",
        "        # scaling parameter gamma initialized with ones and the amount of parameters equal to dim\n",
        "        self.gamma= nn.Parameter(torch.ones(dim))\n",
        "        self.eps= eps\n",
        "\n",
        "\n",
        "    def _norm(self, x):\n",
        "        return x * torch.rsqrt(x.pow(2).mean(dim=-1, keepdim=True) + self.eps)\n",
        "\n",
        "\n",
        "    def forward(self, x):\n",
        "        x_norm= self._norm(x.float()).type_as(x) # x[bs,seq,dim] -> x_norm[bs,seq,dim]\n",
        "\n",
        "        return x_norm * self.gamma\n"
      ],
      "metadata": {
        "id": "0tg31CbsFS4V"
      },
      "execution_count": 5,
      "outputs": []
    },
    {
      "cell_type": "code",
      "source": [
        "# -- Test: RMSNorm Code --\n",
        "x= torch.randn((10, 256, 512), device=device)\n",
        "rms_norm= RMSNorm(512).to(device)\n",
        "x_norm= rms_norm(x)\n",
        "\n",
        "print(f\"Shape of x: {x.shape}\")\n",
        "print(f\"Shape of x_norm: {x_norm.shape}\")"
      ],
      "metadata": {
        "colab": {
          "base_uri": "https://localhost:8080/"
        },
        "id": "5QZgqrYrFTDL",
        "outputId": "0e86bbdd-1667-49d4-8329-f94cb42fbd63"
      },
      "execution_count": 6,
      "outputs": [
        {
          "output_type": "stream",
          "name": "stdout",
          "text": [
            "Shape of x: torch.Size([10, 256, 512])\n",
            "Shape of x_norm: torch.Size([10, 256, 512])\n"
          ]
        }
      ]
    },
    {
      "cell_type": "markdown",
      "source": [
        "# 2.2 - RoPE\n",
        "\n",
        "**Rotary Positional Encoding (RoPE):** Let's say the input text is \"I love apple\" or \"apple love I\", the model will still treat both sentences as the same and learn it as the same. Because there is no order defined in the embeddings for the model to learn. Hence, the order is very important for any language model. In LLaMA 3 model architecture, RoPE is used to define the position of each token in the sentences that maintain not only the order but also maintains the relative position of tokens in the sentences.\n",
        "\n",
        "So, what is Rotary Positional Encoding and how does it work? As mentioned in the why section above, RoPE is a type of position encoding that encodes the embeddings which maintains the order of tokens in the sentences by adding absolute positional information as well as incorporates the relative position information among the tokens. It performs the encoding action by rotating a given embedding by a special matrix called the rotation matrix. This simple yet very powerful mathematical derivation using rotation matrix is the heart of RoPE.\n",
        "\n",
        "**Note:** the rotation matrix needs to be converted to polar form and the embedding vector needs to converted to complex before performing rotation. After rotation is completed, the rotated embeddings need to be converted back to real for attention operation. Also, RoPE is applied to Query and Key embedding only. It doesn't apply to Value embedding."
      ],
      "metadata": {
        "id": "QbzU4iHaS1Gm"
      }
    },
    {
      "cell_type": "code",
      "source": [
        "class QK_RoPE(nn.Module):\n",
        "    \"\"\"\n",
        "    Define Rotary Positional Encoding (RoPE) functions for Query and Key embeddings.\n",
        "    \"\"\"\n",
        "\n",
        "    def __init__(self, head_dim:int, max_seq_len:int, theta:float=10000.0) -> None:\n",
        "        super(QK_RoPE, self).__init__()\n",
        "        assert head_dim % 2 == 0, \"head_dim must be even for RoPE\"\n",
        "        self.head_dim= head_dim\n",
        "        self.max_seq_len= max_seq_len\n",
        "        self.theta= theta\n",
        "        self.device= None\n",
        "\n",
        "\n",
        "    def precompute_freqs_cis(self, dim, max_len):\n",
        "        # computing theta value for each dim pair which is dim/2\n",
        "        freqs= 1.0 / (self.theta ** (\n",
        "            torch.arange(0, dim, 2, device=self.device)[: (dim // 2)].float() / dim\n",
        "        ))\n",
        "        # computing range of positions(m) in the sequence\n",
        "        t= torch.arange(max_len, dtype=torch.float32, device=self.device)\n",
        "        # freqs gives all the theta value range for all the position of tokens in the sequence\n",
        "        freqs= torch.outer(t, freqs).to(self.device)\n",
        "        # the rotation matrix needs to be converted to Polar coordinates form in order to perform\n",
        "        # rotation to embedding\n",
        "        freqs_cis= torch.polar(torch.ones_like(freqs).to(self.device), freqs).to(self.device)\n",
        "\n",
        "        return freqs_cis\n",
        "\n",
        "\n",
        "    def reshape_for_broadcast(self, freqs_cis, x):\n",
        "        ndim= x.ndim\n",
        "        assert 0<= 1< ndim\n",
        "        assert freqs_cis.shape== (x.shape[1], x.shape[-1]), \"The last two dimension of freqs_cis and x must match\"\n",
        "        shape= [d if i==1 or i==ndim-1 else 1 for i,d in enumerate(x.shape)]\n",
        "\n",
        "        return freqs_cis.view(*shape)\n",
        "\n",
        "\n",
        "    def forward(self, q, k, start_pos, inference) -> Tuple[torch.Tensor, torch.Tensor]:\n",
        "        if self.device is None:\n",
        "            self.device= q.device\n",
        "\n",
        "        bsz, seq_len, _, _= q.shape\n",
        "\n",
        "        if inference:\n",
        "            # compute rotation matrix for each position in the sequence\n",
        "            freqs_cis= self.precompute_freqs_cis(self.head_dim, self.max_seq_len * 2)\n",
        "            # during inference we should only take the rotation matrix range from the current\n",
        "            # position of the tokens\n",
        "            freqs_cis= freqs_cis[start_pos : start_pos + seq_len]\n",
        "        else:\n",
        "            # compute rotation matrix to query and key for training\n",
        "            freqs_cis= self.precompute_freqs_cis(self.head_dim, self.max_seq_len)\n",
        "\n",
        "        \"\"\"\n",
        "        Applying rotary positional encoding to both query and key embedding together.\n",
        "        - First: The last dimension of q and k embedding needs to be reshaped to make it a\n",
        "        pair. As rotation matrix is applied to each pair of dim.\n",
        "        - Next: convert both q and k to complex number as the rotation matrix is only\n",
        "        applicable to complex number.\n",
        "        \"\"\"\n",
        "        # q/k_ci[bsz,seq_len,n_heads,head_dim/2]\n",
        "        q_ci= torch.view_as_complex(q.float().reshape(*q.shape[:-1], -1, 2)).to(self.device)\n",
        "        k_ci= torch.view_as_complex(k.float().reshape(*k.shape[:-1], -1, 2)).to(self.device)\n",
        "\n",
        "        \"\"\"\n",
        "        The rotation matrix(freqs_cis) dimensions across seq_len(dim=1) and head_dim(dim=3) should\n",
        "        match with the embedding. Also, the shape freqs_cis should be the same with q and k,\n",
        "        hence change the shape of freqs_cis: [seq_len, head_dim] -> freqs_cis: [1, seq_len, 1, head_dim]\n",
        "        \"\"\"\n",
        "        freqs_cis= self.reshape_for_broadcast(freqs_cis, q_ci)\n",
        "\n",
        "        \"\"\"\n",
        "        Finally, perform rotation operation by multiplying with freqs_cis.\n",
        "        After the rotation is completed, convert both q_out and k_out back to real number and return.\n",
        "        \"\"\"\n",
        "        # q/k_out[bsz,seq_len,n_heads,head_dim]\n",
        "        q_out= torch.view_as_real(q_ci * freqs_cis).flatten(3).to(self.device)\n",
        "        k_out= torch.view_as_real(k_ci * freqs_cis).flatten(3).to(self.device)\n",
        "\n",
        "        return q_out.type_as(q), k_out.type_as(k)\n"
      ],
      "metadata": {
        "id": "kjDBjQ28kjDf"
      },
      "execution_count": 7,
      "outputs": []
    },
    {
      "cell_type": "code",
      "source": [
        "# -- Test: RoPE Code --\n",
        "# Note: x_norm is calculated during RMSNorm and is being used for testing here\n",
        "head_dim= 512//8\n",
        "rope= QK_RoPE(head_dim, 256).to(device)\n",
        "\n",
        "wq= nn.Linear(512, 8 * head_dim, bias=False).to(device)\n",
        "wk= nn.Linear(512, 4 * head_dim, bias=False).to(device)\n",
        "xq= wq(x_norm)\n",
        "xk= wk(x_norm)\n",
        "print(f\"xq.shape: {xq.shape}\")\n",
        "print(f\"xk.shape: {xk.shape}\")\n",
        "\n",
        "xq= xq.view(xq.shape[0],xq.shape[1], 8, head_dim)\n",
        "xk= xk.view(xk.shape[0],xk.shape[1], 4, head_dim)\n",
        "print(f\"xq.re-shape: {xq.shape}\")\n",
        "print(f\"xk.re-shape: {xk.shape}\")\n",
        "\n",
        "freqs_cis= rope.precompute_freqs_cis(dim=head_dim, max_len=256)\n",
        "print(f\"freqs_cis.shape: {freqs_cis.shape}\")\n",
        "\n",
        "xq_rotate, xk_rotate= rope(xq, xk, 0, False)\n",
        "print(f\"xq_rotate.shape: {xq_rotate.shape}\")\n",
        "print(f\"xk_rotate.shape: {xk_rotate.shape}\")"
      ],
      "metadata": {
        "colab": {
          "base_uri": "https://localhost:8080/"
        },
        "id": "Hgl63GmxFTMH",
        "outputId": "1706307c-9c47-48a1-a440-4467742894d3"
      },
      "execution_count": 8,
      "outputs": [
        {
          "output_type": "stream",
          "name": "stdout",
          "text": [
            "xq.shape: torch.Size([10, 256, 512])\n",
            "xk.shape: torch.Size([10, 256, 256])\n",
            "xq.re-shape: torch.Size([10, 256, 8, 64])\n",
            "xk.re-shape: torch.Size([10, 256, 4, 64])\n",
            "freqs_cis.shape: torch.Size([256, 32])\n",
            "xq_rotate.shape: torch.Size([10, 256, 8, 64])\n",
            "xk_rotate.shape: torch.Size([10, 256, 4, 64])\n"
          ]
        }
      ]
    },
    {
      "cell_type": "markdown",
      "source": [
        "# 2.3 - KV Cache\n",
        "\n",
        "**KV Cache (Only required at Inferencing):** In LLaMA 3 architecture, at the time of inferencing, the concept of KV-Cache is introduced to store previously generated tokens in the form of Key and Value cache. These caches will be used to calculate self-attention to generate the next token. Only key and value tokens are cached whereas query tokens are not cached, hence the term KV Cache."
      ],
      "metadata": {
        "id": "su0_aoSZh7NI"
      }
    },
    {
      "cell_type": "code",
      "source": [
        "class KV_Cache(nn.Module):\n",
        "    \"\"\"\n",
        "    KV Cache Implementation.\n",
        "    \"\"\"\n",
        "\n",
        "    def __init__(self, max_batch_size:int, max_seq_len:int, n_kv_heads:int, head_dim:int) -> None:\n",
        "        super(KV_Cache, self).__init__()\n",
        "        self.device= None\n",
        "        # initialize caches to store Key, Value at start\n",
        "        self.cache_k= torch.zeros((max_batch_size, max_seq_len, n_kv_heads, head_dim))\n",
        "        self.cache_v= torch.zeros((max_batch_size, max_seq_len, n_kv_heads, head_dim))\n",
        "\n",
        "\n",
        "    def cache_invalidation(self, batch_idx=None):\n",
        "\n",
        "        if batch_idx is None:\n",
        "            # invalidate the entire cache\n",
        "            self.cache_k.zero_()\n",
        "            self.cache_v.zero_()\n",
        "        else:\n",
        "            # invalidate only the cache for the given batch_idx\n",
        "            self.cache_k[batch_idx].zero_()\n",
        "            self.cache_v[batch_idx].zero_()\n",
        "\n",
        "\n",
        "    def forward(self, q, k, v, start_pos):\n",
        "        if self.device is None:\n",
        "            self.device = q.device\n",
        "            self.cache_k= self.cache_k.to(self.device)\n",
        "            self.cache_v= self.cache_v.to(self.device)\n",
        "\n",
        "        bsz, seq_len, _, _= v.shape\n",
        "\n",
        "        self.cache_k= self.cache_k.to(q)\n",
        "        self.cache_v= self.cache_v.to(q)\n",
        "        # store Key and Value token embeddings into their respective caches\n",
        "        self.cache_k[:bsz, start_pos : start_pos + seq_len]= k\n",
        "        self.cache_v[:bsz, start_pos : start_pos + seq_len]= v\n",
        "        # assign all the previous tokens embeddings upto current tokens position to Key and\n",
        "        # Value variable for Attention calculation\n",
        "        key  = self.cache_k[:bsz, : start_pos + seq_len]\n",
        "        value= self.cache_v[:bsz, : start_pos + seq_len]\n",
        "\n",
        "        return key, value\n"
      ],
      "metadata": {
        "id": "I1teG0o7Juw2"
      },
      "execution_count": 9,
      "outputs": []
    },
    {
      "cell_type": "code",
      "source": [
        "# https://towardsdatascience.com/transformers-key-value-kv-caching-explained-4d71de62d22d"
      ],
      "metadata": {
        "id": "laG1qp1WeJWJ"
      },
      "execution_count": null,
      "outputs": []
    },
    {
      "cell_type": "markdown",
      "source": [
        "# 2.4 - Group Query Attention\n",
        "\n",
        "**Group Query Attention** is the same as Muilt-Head Attention which was used in previous models such as LLaMA 1 with the only difference being in the use of separate heads for query and separate heads for key/value. Usually, the number of heads assigned to query is n-times to that of key, and value heads.\n",
        "\n",
        "Since Multi-Head Attention is already so good, why do we need Group query attention? To answer this, we need to go back to KV Cache for a while. The KV cache helps reduce computation resources greatly. However, as KV Cache stores more and more previous tokens, the memory resources will increase significantly. This is not a good thing for the model performance point of view as well as the financial point of view. Hence, Group query attention is introduced.\n",
        "\n",
        "Reducing the number of heads for K and V decreases the number of parameters to be stored, and hence, less memory is being used. Various test results have proven that the model accuracy remains in the same ranges with this approach."
      ],
      "metadata": {
        "id": "F2jRYz5NlB6c"
      }
    },
    {
      "cell_type": "code",
      "source": [
        "class MultiHeadedSelfAttention(nn.Module):\n",
        "    \"\"\"\n",
        "    The Group Query Self Attention Block [RoPE, KV Cache, and Group Query Attention].\n",
        "    \"\"\"\n",
        "\n",
        "    def __init__(self, dim:int, n_heads:int, n_kv_heads:int, max_batch_size:int,\n",
        "                 max_seq_len:int, rope_theta=10000.0) -> None:\n",
        "        super(MultiHeadedSelfAttention, self).__init__()\n",
        "        assert dim % n_heads == 0, \"model dim must be divisible by n_heads\"\n",
        "        # embedding dimension\n",
        "        self.dim= dim\n",
        "        # number of heads assigned to Query\n",
        "        self.n_heads= n_heads\n",
        "        # number of heads assigned to Key and Value. If None, the number will be same as Query\n",
        "        self.n_kv_heads= n_heads if n_kv_heads is None else n_kv_heads\n",
        "        # dimension of each head relative to model dimension\n",
        "        self.head_dim= dim // n_heads\n",
        "        # number of repetition in order to make time Key, Value heads to match Query heads number\n",
        "        self.n_rep= n_heads // n_kv_heads\n",
        "\n",
        "        # initialize Query, Key, Value and Oupt\n",
        "        # notice that the out_feature value of weight for q and kv are based on it's heads\n",
        "        self.q_proj= nn.Linear(dim,    n_heads * self.head_dim, bias=False)\n",
        "        self.k_proj= nn.Linear(dim, n_kv_heads * self.head_dim, bias=False)\n",
        "        self.v_proj= nn.Linear(dim, n_kv_heads * self.head_dim, bias=False)\n",
        "        self.o_proj= nn.Linear(n_heads * self.head_dim,    dim, bias=False)\n",
        "        # initialize Rotary Positional Encoding\n",
        "        self.rotary_emb= QK_RoPE(self.head_dim, max_seq_len, rope_theta)\n",
        "        # initialize KV Cache to store Key and Value\n",
        "        self.kv_cache= KV_Cache(max_batch_size, max_seq_len, n_kv_heads, self.head_dim)\n",
        "\n",
        "\n",
        "    def repeat_kv(self, x, n_rep):\n",
        "        # if the number of key/value heads is less than query heads, this function expands the\n",
        "        # key/value embeddings with the required number of repetition\n",
        "        bsz, seq_len, n_kv_heads, head_dim= x.shape\n",
        "\n",
        "        if n_rep== 1:\n",
        "            return x\n",
        "\n",
        "        return (\n",
        "            x[:,:,:,None,:]\n",
        "             .expand(bsz, seq_len,  n_kv_heads,  n_rep,  head_dim)\n",
        "            .reshape(bsz, seq_len, (n_kv_heads * n_rep), head_dim)\n",
        "        )\n",
        "\n",
        "\n",
        "    def forward(self, x, start_pos, inference=True):\n",
        "        bsz, seq_len, dim= x.shape  # shape of the input embedding: [bsz, seq_len, dim]\n",
        "        assert dim == self.dim, \"Input embedding dimension must match model embedding dimension\"\n",
        "        # mask will be used during 'Training' and not for 'Inference' due to the use of KV cache\n",
        "        mask= None\n",
        "\n",
        "        q= self.q_proj(x) # x[bsz,seq_len,dim]*wq[dim,   n_heads*head_dim] -> q[bsz,seq_len,   n_heads*head_dim]\n",
        "        k= self.k_proj(x) # x[bsz,seq_len,dim]*wk[dim,n_kv_heads*head_dim] -> k[bsz,seq_len,n_kv_heads*head_dim]\n",
        "        v= self.v_proj(x) # x[bsz,seq_len,dim]*wv[dim,n_kv_heads*head_dim] -> v[bsz,seq_len,n_kv_heads*head_dim]\n",
        "        # reshaping Query, Key and Value by their number of heads\n",
        "        # (Group Query Attention Implementation)\n",
        "        q= q.view(bsz, seq_len, self.n_heads,    self.head_dim)\n",
        "        k= k.view(bsz, seq_len, self.n_kv_heads, self.head_dim)\n",
        "        v= v.view(bsz, seq_len, self.n_kv_heads, self.head_dim)\n",
        "\n",
        "        # apply RoPE to Query and Key embeddings\n",
        "        q, k= self.rotary_emb(q, k, start_pos, inference)\n",
        "\n",
        "        if inference:\n",
        "        # ----- Inference Mode: KV-Cache is enabled at inference mode only -----\n",
        "            k, v= self.kv_cache(q, k, v, start_pos)\n",
        "        else:\n",
        "        # ----- Training mode: KV-Cache is not enabled and the triangular masking is enabled -----\n",
        "            # performs Masked Attention on the outputs, so that positions depend on the past only\n",
        "            # create a lower triangular matrix (2-D tensor)\n",
        "            mask= torch.tril(torch.ones((seq_len, seq_len), device=x.device)).view(1, 1, seq_len, seq_len)\n",
        "\n",
        "        # at this point, Key and Value shapes aren't same with Query embedding which has to be\n",
        "        # in order to computer Attention scores\n",
        "        # use repeat_kv function to make Key/Value shape same as Query shape\n",
        "        k= self.repeat_kv(k, self.n_rep) # k[bsz,seq_len,n_heads,head_dim]\n",
        "        v= self.repeat_kv(v, self.n_rep) # v[bsz,seq_len,n_heads,head_dim]\n",
        "\n",
        "        # to compute Attention, we'll need to perform a transpose operation to reshape all\n",
        "        # Query, Key, and Value, bring heads at dim 1 and seq at dim 2\n",
        "        q= q.transpose(1, 2)  # q[bsz,n_heads,seq_len,head_dim]\n",
        "        k= k.transpose(1, 2)  # k[bsz,n_heads,seq_len,head_dim]\n",
        "        v= v.transpose(1, 2)  # v[bsz,n_heads,seq_len,head_dim]\n",
        "\n",
        "        # computing Attention scores - the 'scaled dot product'\n",
        "        attn= (q @ k.transpose(-2, -1)) * (1.0 / math.sqrt(self.head_dim))\n",
        "        # apply Attention mask (when the mask is not None)\n",
        "        if mask is not None:\n",
        "            attn= attn.masked_fill(mask== 0, float('-inf'))\n",
        "        # apply softmax to normalize the Attention scores\n",
        "        attn= F.softmax(attn, dim=-1)\n",
        "        # compute Attention output -> y[bsz,n_heads,seq_len,head_dim]\n",
        "        y= attn @ v\n",
        "        # we get the contextual embedding for each head, then all heads need to be reshaped and\n",
        "        # combined to give a single contextual Attention output\n",
        "        y= y.transpose(1, 2).contiguous().view(bsz, seq_len, -1)\n",
        "        # output projection\n",
        "        y= self.o_proj(y) # y[bsz,seq_len,dim]\n",
        "\n",
        "        return y\n"
      ],
      "metadata": {
        "id": "RQ-ahz5lFTGX"
      },
      "execution_count": 10,
      "outputs": []
    },
    {
      "cell_type": "code",
      "source": [
        "# -- Test: Repeat_kv function --\n",
        "# xk, x_norm is already calculated during RoPE, RMSNorm testing and is being used for testing here\n",
        "rep= MultiHeadedSelfAttention(512, 8, 4, 10, 256).to(device)\n",
        "n_rep= 8 // 4\n",
        "key= rep.repeat_kv(xk, n_rep)\n",
        "print(f\"xk.shape: {xk.shape}\")\n",
        "print(f\"key.shape: {key.shape}\")\n",
        "\n",
        "# -- Test: Attention function --\n",
        "attn= MultiHeadedSelfAttention(512, 8, 4, 10, 256).to(device)\n",
        "x_out= attn(x_norm, start_pos=0, inference=False)\n",
        "print(f\"x_out.shape: {x_out.shape}\")"
      ],
      "metadata": {
        "colab": {
          "base_uri": "https://localhost:8080/"
        },
        "id": "2N398w6qFTP5",
        "outputId": "38a3ea82-6e0b-4125-ef56-fdb0abea063b"
      },
      "execution_count": 11,
      "outputs": [
        {
          "output_type": "stream",
          "name": "stdout",
          "text": [
            "xk.shape: torch.Size([10, 256, 4, 64])\n",
            "key.shape: torch.Size([10, 256, 8, 64])\n",
            "x_out.shape: torch.Size([10, 256, 512])\n"
          ]
        }
      ]
    },
    {
      "cell_type": "markdown",
      "source": [
        "# 2.5 - FeedForward Network\n",
        "\n",
        "The Attention output is first normalized during RMSNorm and then fed into the FeedForward network. Inside the feedforward network, the attention output embeddings will be expanded to the higher dimension throughout its hidden layers and learn more complex features of the tokens.\n",
        "\n",
        "The **SwiGLU Activation** function behaves almost like ReLU in the positive axis. However, in the negative axis, SwiGLU outputs some negative values, which might be useful in learning smaller rather than flat 0 in the case of ReLU. Overall, as per the author, the performance with SwiGLU has been better than that with ReLU; hence, it was chosen.\n",
        "\n",
        "- The **Gated Linear Unit (GLU)** architecture is commonly used in modern neural networks, including LLaMA, Gemma, Mistral, Qwen and similar large language models. GLU introduces an element-wise gating mechanism that allows the model to selectively filter and control the flow of information. This architecture consists of paired layers, typically: **gate_proj**, **up_proj**, and **down_proj** (as seen in the FFW network class), that work together to expand and contract data. This mechanism enables the model to process more complex patterns while maintaining efficiency."
      ],
      "metadata": {
        "id": "AVJA6w_J2KLg"
      }
    },
    {
      "cell_type": "code",
      "source": [
        "class FeedForward(nn.Module):\n",
        "    \"\"\"\n",
        "    The Feedfoward Network with SwiGLU activation.\n",
        "    \"\"\"\n",
        "\n",
        "    def __init__(self, dim:int, hidden_dim:int, multiple_of:int,\n",
        "                 ffn_dim_multiplier:Optional[float]=None) -> None:\n",
        "        super(FeedForward, self).__init__()\n",
        "        # using the hidden dimensions calculation shared by Meta which is the ideal one for\n",
        "        # this model. hidden dimension are calculated such that it is a multiple of 256\n",
        "        hidden_dim= int(2 * hidden_dim/3)\n",
        "        if ffn_dim_multiplier is not None:\n",
        "            hidden_dim= int(ffn_dim_multiplier * hidden_dim)\n",
        "        hidden_dim= multiple_of * ((hidden_dim + multiple_of -1) // multiple_of)\n",
        "\n",
        "        self.gate_proj= nn.Linear(dim, hidden_dim, bias=False)\n",
        "        self.up_proj  = nn.Linear(dim, hidden_dim, bias=False)\n",
        "        self.down_proj= nn.Linear(hidden_dim, dim, bias=False)\n",
        "        self.act_fn= nn.SiLU()\n",
        "\n",
        "\n",
        "    def forward(self, x):\n",
        "        x= self.act_fn(self.gate_proj(x)) * self.up_proj(x)\n",
        "        x= self.down_proj(x)\n",
        "\n",
        "        return x # x[bsz,seq_len,dim]\n"
      ],
      "metadata": {
        "id": "j4p9UG5MFTSt"
      },
      "execution_count": 12,
      "outputs": []
    },
    {
      "cell_type": "code",
      "source": [
        "# -- Test: FeedForward module --\n",
        "# x_out is already computed at Attention testing and is being used for testing here\n",
        "feed_forward= FeedForward(512, 4 * 512, 256, None).to(device)\n",
        "x_out= rms_norm(x_out)\n",
        "x_out= feed_forward(x_out)\n",
        "print(f\"feed forward output: x_out.shape: {x_out.shape}\")"
      ],
      "metadata": {
        "colab": {
          "base_uri": "https://localhost:8080/"
        },
        "id": "VUtmiRDWFTWU",
        "outputId": "55a798a3-7f94-4262-d617-e341823ea91a"
      },
      "execution_count": 13,
      "outputs": [
        {
          "output_type": "stream",
          "name": "stdout",
          "text": [
            "feed forward output: x_out.shape: torch.Size([10, 256, 512])\n"
          ]
        }
      ]
    },
    {
      "cell_type": "markdown",
      "source": [
        "# 2.6 - Building the Decoder Block\n",
        "\n",
        "- The embedding from the input block is fed into the Attention-RMSNorm block. This will be further fed into the Group Query Attention block.\n",
        "- The same embedding from the input block will then be added to the attention output.\n",
        "- After that, the attention output is fed into FeedFoward-RMSNorm and further fed into the FeedFoward network block.\n",
        "- The output of the FeedFoward network is then added again with the attention output.\n",
        "- The resulting output is called Decoder Output. This decoder output is then fed into another decoder block as input. This same operation will be repeated for the next 31 decoder blocks. The final decoder output of the 32nd decoder block is then passed to the Output block."
      ],
      "metadata": {
        "id": "Mp1m8T_Vd86y"
      }
    },
    {
      "cell_type": "code",
      "source": [
        "class DecoderBlock(nn.Module):\n",
        "    \"\"\"\n",
        "    The Decoder Block.\n",
        "    \"\"\"\n",
        "\n",
        "    def __init__(self, dim:int, n_heads:int, n_kv_heads:int, max_batch_size:int, max_seq_len:int,\n",
        "                 multiple_of:int, ffn_dim_multiplier:Optional[float]=None, norm_eps:float=1e-5,\n",
        "                 rope_theta=10000.0) -> None:\n",
        "        super(DecoderBlock, self).__init__()\n",
        "        # init RMSNorm for attention\n",
        "        self.attn_norm= RMSNorm(dim, eps=norm_eps)\n",
        "        # init the Attention class\n",
        "        self.attn= MultiHeadedSelfAttention(\n",
        "            dim, n_heads, n_kv_heads, max_batch_size, max_seq_len, rope_theta\n",
        "        )\n",
        "        # init RMSNorm for the FeedForward class\n",
        "        self.ffwd_norm= RMSNorm(dim, eps=norm_eps)\n",
        "        # init the FeedForward class\n",
        "        self.ffwd= FeedForward(dim, (4 * dim), multiple_of, ffn_dim_multiplier)\n",
        "\n",
        "\n",
        "    def forward(self, x, start_pos, inference):\n",
        "        # start_pos = token position for inference\n",
        "        # inference = True for inference and False for training\n",
        "        # i) pass input embedding to attn_norm and then pass to attention block\n",
        "        # ii) the output of attention is then added to embedding(before norm)\n",
        "        x= x + self.attn(self.attn_norm(x), start_pos, inference)\n",
        "\n",
        "        # i) pass attention output to ffwd_norm and then pass to the feedforward network\n",
        "        # ii) the output of feedforward is then added to the attention output(before ffwd_norm)\n",
        "        x= x + self.ffwd(self.ffwd_norm(x))\n",
        "\n",
        "        return x # x[bsz,seq_len,dim]\n"
      ],
      "metadata": {
        "id": "gLn1iFYLndXb"
      },
      "execution_count": 14,
      "outputs": []
    },
    {
      "cell_type": "code",
      "source": [
        "# -- Test: DecoderBlock --\n",
        "x= torch.randn((10, 256, 512), device=device)\n",
        "dec= DecoderBlock(512, 8, 4, 10, 256, 256, None, 1e-5).to(device)\n",
        "dec_out= dec(x, start_pos=0, inference=False)\n",
        "print(f\"transformer_block_out.shape: {dec_out.shape}\")"
      ],
      "metadata": {
        "colab": {
          "base_uri": "https://localhost:8080/"
        },
        "id": "kt2HMNMMgGFP",
        "outputId": "8ae95afe-c699-43bf-e6a6-4fd25dff031d"
      },
      "execution_count": 15,
      "outputs": [
        {
          "output_type": "stream",
          "name": "stdout",
          "text": [
            "transformer_block_out.shape: torch.Size([10, 256, 512])\n"
          ]
        }
      ]
    },
    {
      "cell_type": "markdown",
      "source": [
        "# 3 - The Output Block\n",
        "\n",
        "The decoder output of the final decoder block will feed into the output block. It is first fed into the RMSNorm. Then, it will feed into the Linear Layer which generates logits. Next, one of the following two operations happens.\n",
        "- If the mode is inference, top_p probability is calculated and the next token is generated. The next tokens generated will stop if the max generation length is reached or the end of sentence token is generated as the next token.\n",
        "- If the mode is Training, loss is computed with the target labels and training is repeated till the max steps length is reached."
      ],
      "metadata": {
        "id": "Z35y02sG0qMa"
      }
    },
    {
      "cell_type": "code",
      "source": [
        "class OutputBlock(nn.Module):\n",
        "\n",
        "    def __init__(self, dim:int, vocab_size:int, norm_eps:float=1e-5) -> None:\n",
        "        super(OutputBlock, self).__init__()\n",
        "        # init RMSNorm for the output block\n",
        "        self.out_norm= RMSNorm(dim, eps=norm_eps)\n",
        "        # init linear layer at the output block\n",
        "        self.output= nn.Linear(dim, vocab_size, bias=False)\n",
        "\n",
        "\n",
        "    def forward(self, x):\n",
        "        # the output from the final decoder block will feed into the RMSNorm\n",
        "        x= self.out_norm(x)\n",
        "        # after normalized, the embedding x will then feed into the Linear layer\n",
        "        x= self.output(x).float()\n",
        "\n",
        "        return x # x[bsz,seq_len,dim] -> logits[bsz,seq_len,vocab_size]\n"
      ],
      "metadata": {
        "id": "jLF5hrJ8ndaT"
      },
      "execution_count": 16,
      "outputs": []
    },
    {
      "cell_type": "markdown",
      "source": [
        "# 4 - Building the Model\n",
        "\n",
        "Finally, let's combine all components of 3 blocks (input block, decoder block and output blocks. This gives our final LLaMA 3 model."
      ],
      "metadata": {
        "id": "bzhEs7SZ0tfr"
      }
    },
    {
      "cell_type": "code",
      "source": [
        "class Llama3(nn.Module):\n",
        "    \"\"\"\n",
        "    Define the final LLaMA 3 model.\n",
        "    \"\"\"\n",
        "\n",
        "    def __init__(self, vocab_size:int, dim:int, n_layers:int, n_heads:int, n_kv_heads:int,\n",
        "                 max_batch_size:int, max_seq_len:int, multiple_of:int,\n",
        "                 ffn_dim_multiplier:Optional[float]=None, norm_eps:float=1e-5,\n",
        "                 rope_theta=10000.0) -> None:\n",
        "        super(Llama3, self).__init__()\n",
        "        self.vocab_size= vocab_size\n",
        "        self.max_seq_len= max_seq_len\n",
        "\n",
        "        self.embed_tokens= InputBlock(vocab_size, dim)\n",
        "        # init the decoder block and store it inside a ModuleList.\n",
        "        # decoder blocks in our LLaMA 3 model (official LLaMA 3 has 32 blocks)\n",
        "        self.decoder_layers= nn.ModuleList([\n",
        "            DecoderBlock(dim, n_heads, n_kv_heads, max_batch_size, max_seq_len, multiple_of,\n",
        "                         ffn_dim_multiplier, norm_eps, rope_theta)\n",
        "            for _ in range(n_layers)\n",
        "        ])\n",
        "        # projection from dim numbers of embedding dimensions to vocab_size\n",
        "        self.output= OutputBlock(dim, vocab_size, norm_eps)\n",
        "\n",
        "        # initialize Linear modules with Glorot / fan_avg\n",
        "        # let RMSNorm and Embedding modules use default initializations\n",
        "        for m in self.modules():\n",
        "            if isinstance(m, nn.Linear):\n",
        "                nn.init.xavier_uniform_(m.weight)\n",
        "                if m.bias is not None: nn.init.zeros_(m.bias)\n",
        "\n",
        "\n",
        "    def forward(self, x, start_pos=0, targets=None):\n",
        "        # start_pos = token position for inference mode\n",
        "        # inference = True for inference and False for training mode\n",
        "        # x is the batch of token_ids generated from the texts or prompts using tokenizers\n",
        "        bsz, seq_len= x.size()\n",
        "        assert seq_len <= self.max_seq_len, f'Cannot forward sequence of length {seq_len}, block size is only {self.max_seq_len}'\n",
        "        # if the target is none, inference mode is activated and set to 'True'\n",
        "        # and 'False' if training mode is activated\n",
        "        inference=True if targets is None else False\n",
        "\n",
        "        h= self.embed_tokens(x) # x[bsz,seq_len] -> h[bsz,seq_len,dim]\n",
        "\n",
        "        # the embeddings (h) will then pass though all the decoder blocks\n",
        "        for decoder_layer in self.decoder_layers:\n",
        "            h= decoder_layer(h, start_pos, inference)\n",
        "\n",
        "        # the output block generates logits that map the embeddings (h) with the vocabulary size\n",
        "        logits= self.output(h)\n",
        "\n",
        "        # inference mode is activated if the targets is not available, training mode is activated\n",
        "        # if the targets are available (and Loss will be calculated for further model training)\n",
        "        if targets is None:\n",
        "            loss= None\n",
        "        else:\n",
        "            loss= F.cross_entropy(logits.view(-1, self.vocab_size), targets.view(-1))\n",
        "\n",
        "        return logits, loss\n"
      ],
      "metadata": {
        "id": "XNDWiKSnndgr"
      },
      "execution_count": 17,
      "outputs": []
    },
    {
      "cell_type": "markdown",
      "source": [
        "# 5 - Creating a LLaMA 3-8B Model\n",
        "\n",
        "It requires more than 30 GB of memory only to create the 8B version."
      ],
      "metadata": {
        "id": "JjAtyd-c8fPE"
      }
    },
    {
      "cell_type": "code",
      "source": [
        "# ----- LLaMA 3-8B Model defs -----\n",
        "dim:int= 4096                   # embedding dimension\n",
        "n_layers:int= 32                # number of model decoder blocks\n",
        "n_heads:int= 32                 # number of heads for query embedding\n",
        "n_kv_heads:int= 8               # number of heads for key and value embeddings\n",
        "vocab_size:int= 128256          # Length of vocabulary\n",
        "multiple_of:int= 1024           # require to calculate dim of feedfoward network\n",
        "ffn_dim_multiplier:Optional[float]= 1.3  # require to calculate dim of feedfoward network\n",
        "norm_eps:float= 1e-5            # default Epsilon value set for the RMSNorm calculation\n",
        "rope_theta:float= 500000.0      # default theta value for the RePE calculation\n",
        "\n",
        "max_batch_size:int= 32          # max batch size\n",
        "max_seq_len:int= 512            # max sequence length\n",
        "\n",
        "\n",
        "if device== 'cuda': # TF32 computationally more efficient (slightly the same precision of FP32)\n",
        "    torch.set_float32_matmul_precision('high')\n",
        "\n",
        "model= Llama3(vocab_size, dim, n_layers, n_heads, n_kv_heads, max_batch_size, max_seq_len,\n",
        "              multiple_of, ffn_dim_multiplier, norm_eps, rope_theta).to(device)\n",
        "\n",
        "count_parameters(model)\n",
        "model"
      ],
      "metadata": {
        "colab": {
          "base_uri": "https://localhost:8080/"
        },
        "id": "Pp5nOn15mnQx",
        "outputId": "c2a3ff0e-1064-41f2-91b6-f2a0efd2edf1"
      },
      "execution_count": 18,
      "outputs": [
        {
          "output_type": "stream",
          "name": "stdout",
          "text": [
            "Number of parameters: 8030261248\n"
          ]
        },
        {
          "output_type": "execute_result",
          "data": {
            "text/plain": [
              "Llama3(\n",
              "  (embed_tokens): InputBlock(\n",
              "    (embeddings): Embedding(128256, 4096)\n",
              "  )\n",
              "  (decoder_layers): ModuleList(\n",
              "    (0-31): 32 x DecoderBlock(\n",
              "      (attn_norm): RMSNorm()\n",
              "      (attn): MultiHeadedSelfAttention(\n",
              "        (q_proj): Linear(in_features=4096, out_features=4096, bias=False)\n",
              "        (k_proj): Linear(in_features=4096, out_features=1024, bias=False)\n",
              "        (v_proj): Linear(in_features=4096, out_features=1024, bias=False)\n",
              "        (o_proj): Linear(in_features=4096, out_features=4096, bias=False)\n",
              "        (rotary_emb): QK_RoPE()\n",
              "        (kv_cache): KV_Cache()\n",
              "      )\n",
              "      (ffwd_norm): RMSNorm()\n",
              "      (ffwd): FeedForward(\n",
              "        (gate_proj): Linear(in_features=4096, out_features=14336, bias=False)\n",
              "        (up_proj): Linear(in_features=4096, out_features=14336, bias=False)\n",
              "        (down_proj): Linear(in_features=14336, out_features=4096, bias=False)\n",
              "        (act_fn): SiLU()\n",
              "      )\n",
              "    )\n",
              "  )\n",
              "  (output): OutputBlock(\n",
              "    (out_norm): RMSNorm()\n",
              "    (output): Linear(in_features=4096, out_features=128256, bias=False)\n",
              "  )\n",
              ")"
            ]
          },
          "metadata": {},
          "execution_count": 18
        }
      ]
    },
    {
      "cell_type": "code",
      "source": [
        "next(model.parameters()).is_cuda"
      ],
      "metadata": {
        "colab": {
          "base_uri": "https://localhost:8080/"
        },
        "id": "QGLksA10RKna",
        "outputId": "1c4c3ee9-3165-40ef-8ba4-9d6958591cc9"
      },
      "execution_count": 19,
      "outputs": [
        {
          "output_type": "execute_result",
          "data": {
            "text/plain": [
              "True"
            ]
          },
          "metadata": {},
          "execution_count": 19
        }
      ]
    },
    {
      "cell_type": "markdown",
      "source": [
        "# Loading data\n",
        "\n",
        "We'll use the popular Tiny Shakespeare dataset to build the vocabulary and also train our model."
      ],
      "metadata": {
        "id": "jExyLGs2ucCP"
      }
    },
    {
      "cell_type": "code",
      "source": [
        "!wget https://raw.githubusercontent.com/karpathy/char-rnn/master/data/tinyshakespeare/input.txt\n",
        "\n",
        "with open('input.txt', 'r', encoding='utf-8') as f:\n",
        "    text= f.read()"
      ],
      "metadata": {
        "colab": {
          "base_uri": "https://localhost:8080/"
        },
        "id": "urMws3Btohme",
        "outputId": "6bfaed3e-4ae9-4b79-877e-8f4d9388dfad"
      },
      "execution_count": null,
      "outputs": [
        {
          "output_type": "stream",
          "name": "stdout",
          "text": [
            "--2024-12-06 14:54:59--  https://raw.githubusercontent.com/karpathy/char-rnn/master/data/tinyshakespeare/input.txt\n",
            "Resolving raw.githubusercontent.com (raw.githubusercontent.com)... 185.199.108.133, 185.199.109.133, 185.199.110.133, ...\n",
            "Connecting to raw.githubusercontent.com (raw.githubusercontent.com)|185.199.108.133|:443... connected.\n",
            "HTTP request sent, awaiting response... 200 OK\n",
            "Length: 1115394 (1.1M) [text/plain]\n",
            "Saving to: ‘input.txt’\n",
            "\n",
            "input.txt           100%[===================>]   1.06M  --.-KB/s    in 0.007s  \n",
            "\n",
            "2024-12-06 14:54:59 (157 MB/s) - ‘input.txt’ saved [1115394/1115394]\n",
            "\n"
          ]
        }
      ]
    },
    {
      "cell_type": "markdown",
      "source": [
        "# Tokenizer\n",
        "\n",
        "The input to the model should always be in number format as it is unable to process text. Tokenizer helps to convert these texts/prompts into token-ids (which is an index number representation of tokens in vocabulary).\n",
        "\n",
        "The tokenizer used in the LLaMA 3 model is TikToken, a type of subword tokenizer. However, we'll be using a character-level tokenizer for our model building. The main reason is that we should know how to build a vocabulary and tokenizer including encode and decode functions all by ourselves. This way we'll be able to learn how everything works under the hood and we'll have full control over the code."
      ],
      "metadata": {
        "id": "l3B-2DAqiXK9"
      }
    },
    {
      "cell_type": "code",
      "source": [
        "class Tokenizer:\n",
        "    \"\"\"\n",
        "    Tokenizer class to transform strings into integers and vice versa.\n",
        "    \"\"\"\n",
        "\n",
        "    def __init__(self, device:str, vocab) -> None:\n",
        "        # training LLaMA 3 model requires some aditional tokens\n",
        "        special_tokens= ['<|begin_of_text|>','<|end_of_text|>','<|pad_id|>']\n",
        "        vocab.extend(special_tokens)\n",
        "        self.vocab_size= len(vocab)\n",
        "\n",
        "        # create a mapping between characters with corresponding integers indexes in vocabulary\n",
        "        # this is required to build encode and decode functions of the tokenizer\n",
        "        self.itos= {i:ch for i, ch in enumerate(vocab)}\n",
        "        self.stoi= {ch:i for i, ch in enumerate(vocab)}\n",
        "\n",
        "        # define tensor with special token variables to be used during model training\n",
        "        self.token_bos= torch.tensor([self.stoi[special_tokens[0]]], dtype=torch.int, device=device)\n",
        "        self.token_eos= torch.tensor([self.stoi[special_tokens[1]]], dtype=torch.int, device=device)\n",
        "        self.token_pad= torch.tensor([self.stoi[special_tokens[2]]], dtype=torch.int, device=device)\n",
        "\n",
        "\n",
        "    def encode(self, s):\n",
        "        \"\"\"\n",
        "        Tokenizer encode function: take a string and output a list of integers.\n",
        "        \"\"\"\n",
        "        return [self.stoi[ch] for ch in s]\n",
        "\n",
        "\n",
        "    def decode(self, x):\n",
        "        \"\"\"\n",
        "        Tokenizer decode function: take a list of integers and output a string.\n",
        "        \"\"\"\n",
        "        return ''.join(self.itos[i] for i in x)\n"
      ],
      "metadata": {
        "id": "TS6akgiXzV0a"
      },
      "execution_count": null,
      "outputs": []
    },
    {
      "cell_type": "code",
      "source": [
        "# prepare the vocabulary by taking all the unique characters from the data\n",
        "vocab= sorted(list(set(text)))\n",
        "\n",
        "tk= Tokenizer(device, vocab)\n",
        "\n",
        "prompt= 'Hello World'\n",
        "encoded_tokens= tk.encode(prompt)\n",
        "decoded_text= tk.decode(encoded_tokens)\n",
        "\n",
        "# -- Test: Input Block Code --\n",
        "print(f\"Lenth of Shakespeare data in characters: {len(text)}\")\n",
        "print(f\"The vocabulary looks like this: {''.join(vocab)}\\n\")\n",
        "print(f\"Vocab size: {tk.vocab_size}\")\n",
        "print(f\"encoded_tokens: {encoded_tokens}\")\n",
        "print(f\"decoded_text: {decoded_text}\")"
      ],
      "metadata": {
        "colab": {
          "base_uri": "https://localhost:8080/"
        },
        "id": "5b-TgW6-nsQo",
        "outputId": "de5f9161-3925-4c2e-849f-6627af525f0e"
      },
      "execution_count": null,
      "outputs": [
        {
          "output_type": "stream",
          "name": "stdout",
          "text": [
            "Lenth of Shakespeare data in characters: 1115394\n",
            "The vocabulary looks like this: \n",
            " !$&',-.3:;?ABCDEFGHIJKLMNOPQRSTUVWXYZabcdefghijklmnopqrstuvwxyz<|begin_of_text|><|end_of_text|><|pad_id|>\n",
            "\n",
            "Vocab size: 68\n",
            "encoded_tokens: [20, 43, 50, 50, 53, 1, 35, 53, 56, 50, 42]\n",
            "decoded_text: Hello World\n"
          ]
        }
      ]
    },
    {
      "cell_type": "markdown",
      "source": [
        "# Training our LLaMA 3 Model"
      ],
      "metadata": {
        "id": "54urX_nmxw0b"
      }
    },
    {
      "cell_type": "code",
      "source": [
        "# generating batches from the given dataset\n",
        "def get_dataset_batch(data:torch.Tensor, split:str, tk:Tokenizer, max_seq_len:int,\n",
        "                      max_batch_size:int):\n",
        "    train= data[: int(0.8 * len(data))]\n",
        "    val  = data[int(0.8 * len(data)) : int(0.9 * len(data))]\n",
        "    test = data[int(0.9 * len(data)) :]\n",
        "\n",
        "    batch_data= train\n",
        "    if split== 'val':\n",
        "        batch_data= val\n",
        "    if split== 'test':\n",
        "        batch_data= test\n",
        "\n",
        "    # random starting points from the dataset to give random samples for training, val and test\n",
        "    ix= torch.randint(0, (len(batch_data) - max_seq_len - 3), (max_batch_size,)).to(data.device)\n",
        "    x= torch.stack([torch.cat([tk.token_bos, batch_data[i : i+max_seq_len-1]]) for i in ix]).long()\n",
        "    y= torch.stack([torch.cat([batch_data[i+1 : i+max_seq_len], tk.token_eos]) for i in ix]).long()\n",
        "\n",
        "    return x, y\n"
      ],
      "metadata": {
        "id": "r09-H6tAndjF"
      },
      "execution_count": null,
      "outputs": []
    },
    {
      "cell_type": "code",
      "source": [
        "# create a dataset by encoding the entire tiny_shakespeare data token_ids list using the\n",
        "# tokenizer's encode function that we've built at the input block section\n",
        "dataset= torch.tensor(tk.encode(text), dtype=torch.int).to(device)\n",
        "print(f'Dataset-shape: {dataset.shape}')\n",
        "\n",
        "# -- Test: get_dataset function --\n",
        "xs, ys= get_dataset_batch(dataset, 'train', tk, max_seq_len, max_batch_size)\n",
        "print('--- INPUT ---')\n",
        "print(tk.decode(xs[0].tolist()))\n",
        "print('\\n--- TARGET ---')\n",
        "print(tk.decode(ys[0].tolist()))"
      ],
      "metadata": {
        "id": "pMtFRKSmndoj",
        "colab": {
          "base_uri": "https://localhost:8080/"
        },
        "outputId": "25224daa-87d9-4ec9-92b6-9f5d7faf4dde"
      },
      "execution_count": null,
      "outputs": [
        {
          "output_type": "stream",
          "name": "stdout",
          "text": [
            "Dataset-shape: torch.Size([1115394])\n",
            "--- INPUT ---\n",
            "<|begin_of_text|>piteous corse;\n",
            "Pale, pale as ashes, all bedaub'd in blood,\n",
            "All in gore-blood; I swounded at the sight.\n",
            "\n",
            "JULIET:\n",
            "O, break, my heart! poor bankrupt, break at once!\n",
            "To prison, eyes, ne'er look on liberty!\n",
            "Vile earth, to earth resign; end motion here;\n",
            "And tho\n",
            "\n",
            "--- TARGET ---\n",
            "iteous corse;\n",
            "Pale, pale as ashes, all bedaub'd in blood,\n",
            "All in gore-blood; I swounded at the sight.\n",
            "\n",
            "JULIET:\n",
            "O, break, my heart! poor bankrupt, break at once!\n",
            "To prison, eyes, ne'er look on liberty!\n",
            "Vile earth, to earth resign; end motion here;\n",
            "And thou<|end_of_text|>\n"
          ]
        }
      ]
    },
    {
      "cell_type": "code",
      "source": [
        "# evaluate loss function to calculate and store training and validation loss for logging\n",
        "@torch.no_grad()\n",
        "def eval_loss(model, data:torch.Tensor, eval_iters:int, tk:Tokenizer, max_seq_len:int,\n",
        "              max_batch_size:int):\n",
        "    out= {}\n",
        "    model.train(False)\n",
        "\n",
        "    for split in ['train', 'val']:\n",
        "        losses= []\n",
        "        for _ in range(eval_iters):\n",
        "            Xb, Yb= get_dataset_batch(data, split, tk, max_seq_len, max_batch_size)\n",
        "            _, loss= model(Xb, targets=Yb)\n",
        "            losses.append(loss.item())\n",
        "\n",
        "        out[split]= np.mean(losses)\n",
        "\n",
        "    model.train(True)\n",
        "\n",
        "    return out\n"
      ],
      "metadata": {
        "id": "e1srJfaHndr8"
      },
      "execution_count": null,
      "outputs": []
    },
    {
      "cell_type": "code",
      "source": [
        "import time\n",
        "\n",
        "# define a training function to perform model training\n",
        "def self_supervised_train(model, data:torch.Tensor, optimizer:torch.optim, tk:Tokenizer,\n",
        "                          max_seq_len:int, max_batch_size:int, steps:int=500, eval_interval:int=10,\n",
        "                          eval_iters:int=10, verbose=True):\n",
        "    losses= []\n",
        "\n",
        "    # --- training loop ---\n",
        "    for step in range(steps):\n",
        "        start_time= time.time()\n",
        "\n",
        "        # --- minibatch construction ---\n",
        "        Xb, Yb= get_dataset_batch(data, 'train', tk, max_seq_len, max_batch_size)\n",
        "\n",
        "        # --- forward pass and get loss ---\n",
        "        model.train(True)\n",
        "        logits, loss= model(Xb, targets=Yb)\n",
        "\n",
        "        # --- backward pass to calculate the gradients ---\n",
        "        optimizer.zero_grad()\n",
        "        loss.backward()\n",
        "\n",
        "        # --- update the parameters using the gradient ---\n",
        "        optimizer.step()\n",
        "\n",
        "        # --- evaluation and track stats ---\n",
        "        if step% eval_interval== 0:\n",
        "            model.train(False)\n",
        "            batch_time= time.time() - start_time\n",
        "            loss_eval= eval_loss(model, data, eval_iters, tk, max_seq_len, max_batch_size)\n",
        "            losses += [loss_eval]\n",
        "\n",
        "            if verbose:\n",
        "                print(f\"Step {step} | train loss {loss_eval['train']:.3f}, val loss {loss_eval['val']:.3f} | Time {batch_time:.3f}\")\n",
        "\n",
        "    if verbose: # print the final validation loss\n",
        "        print('Validation loss: ', losses[-1]['val'])\n",
        "\n",
        "    return losses\n"
      ],
      "metadata": {
        "id": "JxeJuJ3P5-I6"
      },
      "execution_count": null,
      "outputs": []
    },
    {
      "cell_type": "markdown",
      "source": [
        "Let's start training with the following code block and observe the training results in the plot once the training is completed."
      ],
      "metadata": {
        "id": "_qO3d7WLI214"
      }
    },
    {
      "cell_type": "code",
      "source": [
        "# ----- reseting a smaller model -----\n",
        "dim:int= 512                    # embedding dimension\n",
        "n_layers:int= 8                 # number of model decoder blocks\n",
        "n_heads:int= 8                  # number of heads for query embedding\n",
        "n_kv_heads:int= 4               # number of heads for key and value embeddings\n",
        "vocab_size:int= tk.vocab_size   # Length of vocabulary\n",
        "multiple_of:int= 256            # require to calculate dim of feedfoward network\n",
        "ffn_dim_multiplier:Optional[float]= None  # require to calculate dim of feedfoward network\n",
        "norm_eps:float= 1e-5            # default Epsilon value set for the RMSNorm calculation\n",
        "rope_theta:float= 10000.0       # default theta value for the RePE calculation\n",
        "\n",
        "max_batch_size:int= 16          # max batch size\n",
        "max_seq_len:int= 256            # max sequence length\n",
        "\n",
        "\n",
        "model= Llama3(vocab_size, dim, n_layers, n_heads, n_kv_heads, max_batch_size, max_seq_len,\n",
        "              multiple_of, ffn_dim_multiplier, norm_eps, rope_theta).to(device)\n",
        "\n",
        "\n",
        "# ----- Training defs -----\n",
        "steps= 2500       # total number of training iterations\n",
        "eval_interval= 10 # number of intervals to print the logs and loss values\n",
        "eval_iters= 100   # total number of evaluation iterations at each eval_interval\n",
        "\n",
        "learning_rate= 1e-3\n",
        "weight_decay= 5e-4\n",
        "# create a PyTorch optimizer\n",
        "optimizer= torch.optim.AdamW(model.parameters(), lr=learning_rate, weight_decay=weight_decay)\n",
        "\n",
        "losses= self_supervised_train(model, dataset, optimizer, tk, max_seq_len, max_batch_size, steps,\n",
        "                              eval_interval, eval_iters)"
      ],
      "metadata": {
        "colab": {
          "base_uri": "https://localhost:8080/"
        },
        "id": "SG4S9yOl5-Oy",
        "outputId": "4b4a4211-0aad-4455-f016-3166cc49a3cf"
      },
      "execution_count": null,
      "outputs": [
        {
          "output_type": "stream",
          "name": "stdout",
          "text": [
            "Epoch 0 | train loss 6.884, val loss 6.885 | Time 0.053\n",
            "Epoch 10 | train loss 3.906, val loss 3.921 | Time 0.156\n",
            "Epoch 20 | train loss 3.362, val loss 3.369 | Time 0.160\n",
            "Epoch 30 | train loss 3.285, val loss 3.289 | Time 0.155\n",
            "Epoch 40 | train loss 3.236, val loss 3.244 | Time 0.156\n",
            "Epoch 50 | train loss 3.217, val loss 3.221 | Time 0.154\n",
            "Epoch 60 | train loss 3.197, val loss 3.200 | Time 0.152\n",
            "Epoch 70 | train loss 3.173, val loss 3.175 | Time 0.154\n",
            "Epoch 80 | train loss 3.129, val loss 3.139 | Time 0.162\n",
            "Epoch 90 | train loss 3.074, val loss 3.073 | Time 0.159\n",
            "Epoch 100 | train loss 3.039, val loss 3.039 | Time 0.159\n",
            "Epoch 110 | train loss 3.026, val loss 3.026 | Time 0.157\n",
            "Epoch 120 | train loss 3.005, val loss 3.004 | Time 0.156\n",
            "Epoch 130 | train loss 2.980, val loss 2.981 | Time 0.155\n",
            "Epoch 140 | train loss 2.965, val loss 2.966 | Time 0.160\n",
            "Epoch 150 | train loss 2.945, val loss 2.958 | Time 0.154\n",
            "Epoch 160 | train loss 2.925, val loss 2.936 | Time 0.158\n",
            "Epoch 170 | train loss 2.908, val loss 2.933 | Time 0.156\n",
            "Epoch 180 | train loss 2.894, val loss 2.914 | Time 0.156\n",
            "Epoch 190 | train loss 2.869, val loss 2.885 | Time 0.157\n",
            "Epoch 200 | train loss 2.865, val loss 2.880 | Time 0.157\n",
            "Epoch 210 | train loss 2.847, val loss 2.875 | Time 0.158\n",
            "Epoch 220 | train loss 2.837, val loss 2.862 | Time 0.157\n",
            "Epoch 230 | train loss 2.806, val loss 2.833 | Time 0.153\n",
            "Epoch 240 | train loss 2.796, val loss 2.829 | Time 0.167\n",
            "Epoch 250 | train loss 2.767, val loss 2.804 | Time 0.156\n",
            "Epoch 260 | train loss 2.753, val loss 2.805 | Time 0.155\n",
            "Epoch 270 | train loss 2.746, val loss 2.790 | Time 0.157\n",
            "Epoch 280 | train loss 2.727, val loss 2.782 | Time 0.160\n",
            "Epoch 290 | train loss 2.715, val loss 2.765 | Time 0.157\n",
            "Epoch 300 | train loss 2.691, val loss 2.753 | Time 0.157\n",
            "Epoch 310 | train loss 2.674, val loss 2.739 | Time 0.143\n",
            "Epoch 320 | train loss 2.661, val loss 2.720 | Time 0.157\n",
            "Epoch 330 | train loss 2.636, val loss 2.709 | Time 0.160\n",
            "Epoch 340 | train loss 2.630, val loss 2.707 | Time 0.156\n",
            "Epoch 350 | train loss 2.630, val loss 2.701 | Time 0.156\n",
            "Epoch 360 | train loss 2.626, val loss 2.710 | Time 0.154\n",
            "Epoch 370 | train loss 2.608, val loss 2.666 | Time 0.156\n",
            "Epoch 380 | train loss 2.592, val loss 2.661 | Time 0.177\n",
            "Epoch 390 | train loss 2.586, val loss 2.637 | Time 0.156\n",
            "Epoch 400 | train loss 2.565, val loss 2.648 | Time 0.145\n",
            "Epoch 410 | train loss 2.554, val loss 2.650 | Time 0.153\n",
            "Epoch 420 | train loss 2.556, val loss 2.622 | Time 0.154\n",
            "Epoch 430 | train loss 2.542, val loss 2.634 | Time 0.153\n",
            "Epoch 440 | train loss 2.538, val loss 2.636 | Time 0.156\n",
            "Epoch 450 | train loss 2.517, val loss 2.605 | Time 0.153\n",
            "Epoch 460 | train loss 2.540, val loss 2.609 | Time 0.155\n",
            "Epoch 470 | train loss 2.516, val loss 2.596 | Time 0.157\n",
            "Epoch 480 | train loss 2.495, val loss 2.582 | Time 0.154\n",
            "Epoch 490 | train loss 2.484, val loss 2.595 | Time 0.155\n",
            "Epoch 500 | train loss 2.496, val loss 2.595 | Time 0.155\n",
            "Epoch 510 | train loss 2.469, val loss 2.572 | Time 0.157\n",
            "Epoch 520 | train loss 2.482, val loss 2.576 | Time 0.148\n",
            "Epoch 530 | train loss 2.459, val loss 2.559 | Time 0.154\n",
            "Epoch 540 | train loss 2.445, val loss 2.540 | Time 0.156\n",
            "Epoch 550 | train loss 2.453, val loss 2.545 | Time 0.156\n",
            "Epoch 560 | train loss 2.435, val loss 2.535 | Time 0.158\n",
            "Epoch 570 | train loss 2.441, val loss 2.532 | Time 0.156\n",
            "Epoch 580 | train loss 2.442, val loss 2.520 | Time 0.158\n",
            "Epoch 590 | train loss 2.419, val loss 2.522 | Time 0.157\n",
            "Epoch 600 | train loss 2.430, val loss 2.533 | Time 0.158\n",
            "Epoch 610 | train loss 2.419, val loss 2.525 | Time 0.156\n",
            "Epoch 620 | train loss 2.407, val loss 2.499 | Time 0.152\n",
            "Epoch 630 | train loss 2.403, val loss 2.498 | Time 0.157\n",
            "Epoch 640 | train loss 2.397, val loss 2.518 | Time 0.156\n",
            "Epoch 650 | train loss 2.388, val loss 2.512 | Time 0.145\n",
            "Epoch 660 | train loss 2.393, val loss 2.513 | Time 0.156\n",
            "Epoch 670 | train loss 2.402, val loss 2.494 | Time 0.166\n",
            "Epoch 680 | train loss 2.386, val loss 2.501 | Time 0.158\n",
            "Epoch 690 | train loss 2.393, val loss 2.499 | Time 0.154\n",
            "Epoch 700 | train loss 2.376, val loss 2.500 | Time 0.156\n",
            "Epoch 710 | train loss 2.376, val loss 2.509 | Time 0.155\n",
            "Epoch 720 | train loss 2.348, val loss 2.493 | Time 0.154\n",
            "Epoch 730 | train loss 2.361, val loss 2.462 | Time 0.143\n",
            "Epoch 740 | train loss 2.357, val loss 2.467 | Time 0.153\n",
            "Epoch 750 | train loss 2.352, val loss 2.449 | Time 0.161\n",
            "Epoch 760 | train loss 2.350, val loss 2.461 | Time 0.160\n",
            "Epoch 770 | train loss 2.362, val loss 2.493 | Time 0.153\n",
            "Epoch 780 | train loss 2.325, val loss 2.472 | Time 0.146\n",
            "Epoch 790 | train loss 2.336, val loss 2.452 | Time 0.163\n",
            "Epoch 800 | train loss 2.345, val loss 2.462 | Time 0.166\n",
            "Epoch 810 | train loss 2.336, val loss 2.445 | Time 0.149\n",
            "Epoch 820 | train loss 2.329, val loss 2.442 | Time 0.166\n",
            "Epoch 830 | train loss 2.332, val loss 2.458 | Time 0.145\n",
            "Epoch 840 | train loss 2.326, val loss 2.448 | Time 0.152\n",
            "Epoch 850 | train loss 2.315, val loss 2.441 | Time 0.152\n",
            "Epoch 860 | train loss 2.310, val loss 2.438 | Time 0.164\n",
            "Epoch 870 | train loss 2.320, val loss 2.457 | Time 0.167\n",
            "Epoch 880 | train loss 2.318, val loss 2.427 | Time 0.158\n",
            "Epoch 890 | train loss 2.309, val loss 2.426 | Time 0.155\n",
            "Epoch 900 | train loss 2.305, val loss 2.432 | Time 0.146\n",
            "Epoch 910 | train loss 2.304, val loss 2.429 | Time 0.156\n",
            "Epoch 920 | train loss 2.324, val loss 2.461 | Time 0.148\n",
            "Epoch 930 | train loss 2.311, val loss 2.459 | Time 0.158\n",
            "Epoch 940 | train loss 2.290, val loss 2.423 | Time 0.156\n",
            "Epoch 950 | train loss 2.301, val loss 2.434 | Time 0.154\n",
            "Epoch 960 | train loss 2.298, val loss 2.426 | Time 0.145\n",
            "Epoch 970 | train loss 2.278, val loss 2.414 | Time 0.146\n",
            "Epoch 980 | train loss 2.291, val loss 2.445 | Time 0.157\n",
            "Epoch 990 | train loss 2.307, val loss 2.440 | Time 0.176\n",
            "Epoch 1000 | train loss 2.292, val loss 2.426 | Time 0.159\n",
            "Epoch 1010 | train loss 2.292, val loss 2.414 | Time 0.169\n",
            "Epoch 1020 | train loss 2.275, val loss 2.414 | Time 0.179\n",
            "Epoch 1030 | train loss 2.265, val loss 2.421 | Time 0.167\n",
            "Epoch 1040 | train loss 2.271, val loss 2.417 | Time 0.155\n",
            "Epoch 1050 | train loss 2.262, val loss 2.415 | Time 0.153\n",
            "Epoch 1060 | train loss 2.276, val loss 2.416 | Time 0.154\n",
            "Epoch 1070 | train loss 2.276, val loss 2.421 | Time 0.149\n",
            "Epoch 1080 | train loss 2.255, val loss 2.409 | Time 0.159\n",
            "Epoch 1090 | train loss 2.268, val loss 2.401 | Time 0.155\n",
            "Epoch 1100 | train loss 2.274, val loss 2.412 | Time 0.156\n",
            "Epoch 1110 | train loss 2.268, val loss 2.423 | Time 0.157\n",
            "Epoch 1120 | train loss 2.266, val loss 2.419 | Time 0.158\n",
            "Epoch 1130 | train loss 2.270, val loss 2.412 | Time 0.156\n",
            "Epoch 1140 | train loss 2.269, val loss 2.414 | Time 0.155\n",
            "Epoch 1150 | train loss 2.266, val loss 2.429 | Time 0.155\n",
            "Epoch 1160 | train loss 2.265, val loss 2.416 | Time 0.159\n",
            "Epoch 1170 | train loss 2.252, val loss 2.405 | Time 0.154\n",
            "Epoch 1180 | train loss 2.234, val loss 2.392 | Time 0.157\n",
            "Epoch 1190 | train loss 2.238, val loss 2.391 | Time 0.156\n",
            "Epoch 1200 | train loss 2.265, val loss 2.393 | Time 0.156\n",
            "Epoch 1210 | train loss 2.252, val loss 2.410 | Time 0.154\n",
            "Epoch 1220 | train loss 2.252, val loss 2.400 | Time 0.155\n",
            "Epoch 1230 | train loss 2.246, val loss 2.389 | Time 0.156\n",
            "Epoch 1240 | train loss 2.234, val loss 2.379 | Time 0.154\n",
            "Epoch 1250 | train loss 2.246, val loss 2.406 | Time 0.157\n",
            "Epoch 1260 | train loss 2.234, val loss 2.378 | Time 0.155\n",
            "Epoch 1270 | train loss 2.250, val loss 2.417 | Time 0.164\n",
            "Epoch 1280 | train loss 2.235, val loss 2.387 | Time 0.157\n",
            "Epoch 1290 | train loss 2.255, val loss 2.409 | Time 0.155\n",
            "Epoch 1300 | train loss 2.232, val loss 2.394 | Time 0.155\n",
            "Epoch 1310 | train loss 2.235, val loss 2.380 | Time 0.156\n",
            "Epoch 1320 | train loss 2.236, val loss 2.380 | Time 0.158\n",
            "Epoch 1330 | train loss 2.223, val loss 2.399 | Time 0.147\n",
            "Epoch 1340 | train loss 2.230, val loss 2.385 | Time 0.158\n",
            "Epoch 1350 | train loss 2.216, val loss 2.360 | Time 0.165\n",
            "Epoch 1360 | train loss 2.219, val loss 2.390 | Time 0.156\n",
            "Epoch 1370 | train loss 2.218, val loss 2.364 | Time 0.156\n",
            "Epoch 1380 | train loss 2.233, val loss 2.360 | Time 0.157\n",
            "Epoch 1390 | train loss 2.239, val loss 2.384 | Time 0.153\n",
            "Epoch 1400 | train loss 2.225, val loss 2.372 | Time 0.156\n",
            "Epoch 1410 | train loss 2.221, val loss 2.376 | Time 0.158\n",
            "Epoch 1420 | train loss 2.219, val loss 2.366 | Time 0.155\n",
            "Epoch 1430 | train loss 2.240, val loss 2.363 | Time 0.156\n",
            "Epoch 1440 | train loss 2.230, val loss 2.367 | Time 0.154\n",
            "Epoch 1450 | train loss 2.224, val loss 2.378 | Time 0.158\n",
            "Epoch 1460 | train loss 2.213, val loss 2.373 | Time 0.166\n",
            "Epoch 1470 | train loss 2.220, val loss 2.370 | Time 0.155\n",
            "Epoch 1480 | train loss 2.215, val loss 2.348 | Time 0.154\n",
            "Epoch 1490 | train loss 2.224, val loss 2.343 | Time 0.155\n",
            "Epoch 1500 | train loss 2.209, val loss 2.361 | Time 0.154\n",
            "Epoch 1510 | train loss 2.222, val loss 2.359 | Time 0.163\n",
            "Epoch 1520 | train loss 2.217, val loss 2.370 | Time 0.159\n",
            "Epoch 1530 | train loss 2.215, val loss 2.374 | Time 0.158\n",
            "Epoch 1540 | train loss 2.207, val loss 2.356 | Time 0.155\n",
            "Epoch 1550 | train loss 2.211, val loss 2.366 | Time 0.156\n",
            "Epoch 1560 | train loss 2.212, val loss 2.355 | Time 0.158\n",
            "Epoch 1570 | train loss 2.199, val loss 2.377 | Time 0.156\n",
            "Epoch 1580 | train loss 2.216, val loss 2.373 | Time 0.145\n",
            "Epoch 1590 | train loss 2.203, val loss 2.354 | Time 0.155\n",
            "Epoch 1600 | train loss 2.196, val loss 2.341 | Time 0.154\n",
            "Epoch 1610 | train loss 2.195, val loss 2.370 | Time 0.167\n",
            "Epoch 1620 | train loss 2.219, val loss 2.364 | Time 0.156\n",
            "Epoch 1630 | train loss 2.198, val loss 2.344 | Time 0.157\n",
            "Epoch 1640 | train loss 2.200, val loss 2.357 | Time 0.158\n",
            "Epoch 1650 | train loss 2.196, val loss 2.344 | Time 0.157\n",
            "Epoch 1660 | train loss 2.199, val loss 2.343 | Time 0.156\n",
            "Epoch 1670 | train loss 2.199, val loss 2.347 | Time 0.155\n",
            "Epoch 1680 | train loss 2.206, val loss 2.357 | Time 0.154\n",
            "Epoch 1690 | train loss 2.193, val loss 2.350 | Time 0.155\n",
            "Epoch 1700 | train loss 2.187, val loss 2.361 | Time 0.151\n",
            "Epoch 1710 | train loss 2.186, val loss 2.364 | Time 0.156\n",
            "Epoch 1720 | train loss 2.175, val loss 2.357 | Time 0.154\n",
            "Epoch 1730 | train loss 2.192, val loss 2.335 | Time 0.157\n",
            "Epoch 1740 | train loss 2.197, val loss 2.342 | Time 0.155\n",
            "Epoch 1750 | train loss 2.186, val loss 2.355 | Time 0.152\n",
            "Epoch 1760 | train loss 2.203, val loss 2.340 | Time 0.158\n",
            "Epoch 1770 | train loss 2.179, val loss 2.319 | Time 0.155\n",
            "Epoch 1780 | train loss 2.185, val loss 2.345 | Time 0.166\n",
            "Epoch 1790 | train loss 2.187, val loss 2.348 | Time 0.154\n",
            "Epoch 1800 | train loss 2.193, val loss 2.349 | Time 0.156\n",
            "Epoch 1810 | train loss 2.169, val loss 2.326 | Time 0.155\n",
            "Epoch 1820 | train loss 2.189, val loss 2.336 | Time 0.152\n",
            "Epoch 1830 | train loss 2.182, val loss 2.319 | Time 0.155\n",
            "Epoch 1840 | train loss 2.179, val loss 2.325 | Time 0.156\n",
            "Epoch 1850 | train loss 2.179, val loss 2.340 | Time 0.156\n",
            "Epoch 1860 | train loss 2.183, val loss 2.341 | Time 0.157\n",
            "Epoch 1870 | train loss 2.182, val loss 2.336 | Time 0.157\n",
            "Epoch 1880 | train loss 2.175, val loss 2.331 | Time 0.155\n",
            "Epoch 1890 | train loss 2.185, val loss 2.334 | Time 0.156\n",
            "Epoch 1900 | train loss 2.183, val loss 2.330 | Time 0.155\n",
            "Epoch 1910 | train loss 2.172, val loss 2.334 | Time 0.154\n",
            "Epoch 1920 | train loss 2.172, val loss 2.344 | Time 0.186\n",
            "Epoch 1930 | train loss 2.172, val loss 2.334 | Time 0.150\n",
            "Epoch 1940 | train loss 2.164, val loss 2.336 | Time 0.156\n",
            "Epoch 1950 | train loss 2.175, val loss 2.319 | Time 0.162\n",
            "Epoch 1960 | train loss 2.176, val loss 2.331 | Time 0.160\n",
            "Epoch 1970 | train loss 2.171, val loss 2.327 | Time 0.155\n",
            "Epoch 1980 | train loss 2.170, val loss 2.315 | Time 0.155\n",
            "Epoch 1990 | train loss 2.171, val loss 2.321 | Time 0.154\n",
            "Epoch 2000 | train loss 2.174, val loss 2.324 | Time 0.159\n",
            "Epoch 2010 | train loss 2.181, val loss 2.315 | Time 0.160\n",
            "Epoch 2020 | train loss 2.150, val loss 2.324 | Time 0.159\n",
            "Epoch 2030 | train loss 2.173, val loss 2.319 | Time 0.155\n",
            "Epoch 2040 | train loss 2.170, val loss 2.309 | Time 0.156\n",
            "Epoch 2050 | train loss 2.158, val loss 2.330 | Time 0.156\n",
            "Epoch 2060 | train loss 2.162, val loss 2.321 | Time 0.156\n",
            "Epoch 2070 | train loss 2.163, val loss 2.321 | Time 0.166\n",
            "Epoch 2080 | train loss 2.161, val loss 2.319 | Time 0.157\n",
            "Epoch 2090 | train loss 2.171, val loss 2.308 | Time 0.159\n",
            "Epoch 2100 | train loss 2.161, val loss 2.326 | Time 0.156\n",
            "Epoch 2110 | train loss 2.156, val loss 2.318 | Time 0.156\n",
            "Epoch 2120 | train loss 2.175, val loss 2.329 | Time 0.159\n",
            "Epoch 2130 | train loss 2.155, val loss 2.307 | Time 0.157\n",
            "Epoch 2140 | train loss 2.173, val loss 2.328 | Time 0.156\n",
            "Epoch 2150 | train loss 2.156, val loss 2.303 | Time 0.155\n",
            "Epoch 2160 | train loss 2.155, val loss 2.322 | Time 0.157\n",
            "Epoch 2170 | train loss 2.168, val loss 2.307 | Time 0.154\n",
            "Epoch 2180 | train loss 2.155, val loss 2.307 | Time 0.157\n",
            "Epoch 2190 | train loss 2.162, val loss 2.322 | Time 0.158\n",
            "Epoch 2200 | train loss 2.160, val loss 2.316 | Time 0.153\n",
            "Epoch 2210 | train loss 2.159, val loss 2.317 | Time 0.158\n",
            "Epoch 2220 | train loss 2.149, val loss 2.308 | Time 0.159\n",
            "Epoch 2230 | train loss 2.154, val loss 2.315 | Time 0.158\n",
            "Epoch 2240 | train loss 2.151, val loss 2.308 | Time 0.155\n",
            "Epoch 2250 | train loss 2.161, val loss 2.298 | Time 0.152\n",
            "Epoch 2260 | train loss 2.150, val loss 2.304 | Time 0.163\n",
            "Epoch 2270 | train loss 2.151, val loss 2.290 | Time 0.154\n",
            "Epoch 2280 | train loss 2.147, val loss 2.306 | Time 0.156\n",
            "Epoch 2290 | train loss 2.146, val loss 2.288 | Time 0.160\n",
            "Epoch 2300 | train loss 2.150, val loss 2.297 | Time 0.156\n",
            "Epoch 2310 | train loss 2.152, val loss 2.311 | Time 0.158\n",
            "Epoch 2320 | train loss 2.143, val loss 2.313 | Time 0.155\n",
            "Epoch 2330 | train loss 2.160, val loss 2.332 | Time 0.155\n",
            "Epoch 2340 | train loss 2.158, val loss 2.316 | Time 0.157\n",
            "Epoch 2350 | train loss 2.138, val loss 2.292 | Time 0.163\n",
            "Epoch 2360 | train loss 2.129, val loss 2.292 | Time 0.156\n",
            "Epoch 2370 | train loss 2.141, val loss 2.309 | Time 0.156\n",
            "Epoch 2380 | train loss 2.133, val loss 2.277 | Time 0.157\n",
            "Epoch 2390 | train loss 2.139, val loss 2.300 | Time 0.155\n",
            "Epoch 2400 | train loss 2.141, val loss 2.299 | Time 0.154\n",
            "Epoch 2410 | train loss 2.140, val loss 2.299 | Time 0.147\n",
            "Epoch 2420 | train loss 2.127, val loss 2.298 | Time 0.155\n",
            "Epoch 2430 | train loss 2.145, val loss 2.312 | Time 0.163\n",
            "Epoch 2440 | train loss 2.143, val loss 2.295 | Time 0.158\n",
            "Epoch 2450 | train loss 2.147, val loss 2.300 | Time 0.158\n",
            "Epoch 2460 | train loss 2.142, val loss 2.305 | Time 0.139\n",
            "Epoch 2470 | train loss 2.140, val loss 2.281 | Time 0.138\n",
            "Epoch 2480 | train loss 2.146, val loss 2.300 | Time 0.139\n",
            "Epoch 2490 | train loss 2.123, val loss 2.287 | Time 0.137\n",
            "Validation loss:  2.2870468974113463\n"
          ]
        }
      ]
    },
    {
      "cell_type": "code",
      "source": [
        "losses= pd.DataFrame(losses)\n",
        "plt.plot(losses['train'], label='Train Loss')\n",
        "plt.plot(losses['val'], label='Validation Loss')\n",
        "plt.title('Losses')\n",
        "plt.xlabel('Steps')\n",
        "plt.ylabel('Loss')\n",
        "plt.legend()\n",
        "plt.grid()"
      ],
      "metadata": {
        "colab": {
          "base_uri": "https://localhost:8080/",
          "height": 472
        },
        "id": "ISUFsx0w5-Lw",
        "outputId": "df932087-80d2-4c25-c717-7489924a20d8"
      },
      "execution_count": null,
      "outputs": [
        {
          "output_type": "display_data",
          "data": {
            "text/plain": [
              "<Figure size 640x480 with 1 Axes>"
            ],
            "image/png": "[encoded data removed]"
          },
          "metadata": {}
        }
      ]
    },
    {
      "cell_type": "markdown",
      "source": [
        "**NOTE:** In this case, the x-axis stands for steps, not epochs.\n",
        "\n",
        "The validation loss at the final step is 2.28 which is considered okay given the amount of training data we're using and the number of steps. To reduce the losses significantly, we will have to increase the size of the training data, higher number of steps and higher GPU or processing power."
      ],
      "metadata": {
        "id": "ciR2RbbpLLvC"
      }
    },
    {
      "cell_type": "markdown",
      "source": [
        "# Inferencing our LLaMA 3 Model\n",
        "\n",
        "Now that we've completed our training. Let's head into our final step: Inference and see how well the model generates the output texts given new input prompts."
      ],
      "metadata": {
        "id": "hOnUIM2oRG1z"
      }
    },
    {
      "cell_type": "code",
      "source": [
        "def sample_top_p(probs, p):\n",
        "    \"\"\"\n",
        "    Perform top-p (nucleus) samplings on a probability distribution.\n",
        "    - probs (torch.Tensor): Probability distribution tensor derived from the logits.\n",
        "    - p: Probability threshold for top-p sampling.\n",
        "    According to the paper, Top-p sampling selects the smallest set of tokens whose cumulative\n",
        "    probability mass exceeds the threshold p. The distribution is renormalized based on the\n",
        "    selected tokens.\n",
        "    \"\"\"\n",
        "    probs_sort, prob_idx= torch.sort(probs, dim=-1, descending=True)\n",
        "    probs_sum= torch.cumsum(probs_sort, dim=-1)\n",
        "    mask= probs_sum - probs_sort > p\n",
        "    probs_sort[mask]= 0.0\n",
        "    probs_sort.div_(probs_sort.sum(dim=-1, keepdim=True))\n",
        "    next_token= torch.multinomial(probs_sort, num_samples=1)\n",
        "    next_token= torch.gather(prob_idx, -1, next_token)\n",
        "\n",
        "    return next_token # sampled token indices from the vocabular\n",
        "\n",
        "\n",
        "def generate(model, prompts, tk:Tokenizer, max_seq_len:int, max_gen_len:int=500,\n",
        "             temperature:float=0.6, top_p:float=0.9):\n",
        "    \"\"\"\n",
        "    This function generates text sequences based on provided prompts using the LLaMA 3 model\n",
        "    we've built and trained.\n",
        "    - prompts: List of user input texts or prompts.\n",
        "    - max_gen_len: Maximum length of the generated text sequence.\n",
        "    - temperature: Temperature value for controlling randomness in sampling. Default 0.6.\n",
        "    - top_p: Top-p probability threshold for sampling prob output from the logits. Default 0.9.\n",
        "    \"\"\"\n",
        "    bsz= 1 # for inferencing, in general user just input one prompt which we'll take it as 1-batch\n",
        "    prompt_tokens= tk.token_bos.tolist() + tk.encode(prompts)\n",
        "    assert len(prompt_tokens) <= max_seq_len, 'Prompt token length should be small than max_seq_len'\n",
        "    total_len= min(len(prompt_tokens) + max_gen_len, max_seq_len)\n",
        "\n",
        "    # this tokens matrix is to store the input prompts and all the output that is generated by the\n",
        "    # model. later we'll use the tokenizer's decode function to decode this tokens to view results\n",
        "    # in text format\n",
        "    tokens= torch.full((bsz, total_len), fill_value=tk.token_pad.item(),\n",
        "                       dtype=torch.long, device=next(model.parameters()).device)\n",
        "    # fill in the prompt tokens into the token matrix\n",
        "    tokens[:,:len(prompt_tokens)]= torch.tensor(\n",
        "        prompt_tokens, dtype=torch.long, device=next(model.parameters()).device\n",
        "    )\n",
        "    #create a prompt_mask_token for later use to identify if the token is a prompt token or a\n",
        "    # padding token\n",
        "    # True if it is a prompt token, False if it is a padding token\n",
        "    input_text_mask= tokens != tk.token_pad.item()\n",
        "\n",
        "    # now we can start inferencing using one token at a time from the prompt_tokens list starting\n",
        "    # with the first position\n",
        "    prev_pos= 0\n",
        "    for cur_pos in range(1, total_len):\n",
        "        with torch.no_grad():\n",
        "            model.train(False)\n",
        "            logits, _= model(x=tokens[:,prev_pos:cur_pos], start_pos=prev_pos)\n",
        "        if temperature> 0:\n",
        "            probs= torch.softmax(logits[:, -1] / temperature, dim=-1)\n",
        "            next_token= sample_top_p(probs, top_p)\n",
        "        else:\n",
        "            next_token= torch.argmax(logits[:, -1], dim=-1)\n",
        "\n",
        "        next_token= next_token.reshape(-1)\n",
        "\n",
        "        # only replace the token if it's a padding token\n",
        "        next_token= torch.where(input_text_mask[:, cur_pos], tokens[:, cur_pos], next_token)\n",
        "        tokens[:, cur_pos]= next_token\n",
        "\n",
        "        prev_pos= cur_pos\n",
        "        if tokens[:,cur_pos]== tk.token_pad.item() and next_token== tk.token_eos.item():\n",
        "            break\n",
        "\n",
        "    output_tokens, output_texts= [], []\n",
        "\n",
        "    for i, toks in enumerate(tokens.tolist()):\n",
        "        # eos_idx= toks.index(tk.token_eos.item())\n",
        "        if tk.token_eos.item() in toks:\n",
        "            eos_idx= toks.index(tk.token_eos.item())\n",
        "            toks= toks[:eos_idx]\n",
        "\n",
        "        output_tokens.append(toks)\n",
        "        output_texts.append(tk.decode(toks))\n",
        "\n",
        "    return output_tokens, output_texts\n"
      ],
      "metadata": {
        "id": "SL2sRyHc5-Ut"
      },
      "execution_count": null,
      "outputs": []
    },
    {
      "cell_type": "code",
      "source": [
        "# -- perform the inferencing on user input prompts --\n",
        "prompts= \"Consider you what services he has done\"\n",
        "output_tokens, output_texts= generate(model, prompts, tk, max_seq_len)\n",
        "output_texts= output_texts[0].replace(\"<|begin_of_text|>\", \"\")\n",
        "print(output_texts)"
      ],
      "metadata": {
        "id": "1KbIuI4ondt3",
        "colab": {
          "base_uri": "https://localhost:8080/"
        },
        "outputId": "c114c22f-188d-4b20-c7d8-45ec0665e28f"
      },
      "execution_count": null,
      "outputs": [
        {
          "output_type": "stream",
          "name": "stdout",
          "text": [
            "Consider you what services he has done\n",
            "eee hmrt u rtlnsal nw i a adiut\n",
            "i o o uoet o o oter o aa i uee eee.\n",
            "Pate o oftn eee h rsa ntsl?I o ad al od\n",
            "hti o rbdts hml,bls hmrl o uoeo ade\n",
            "h hssebe o ryan  o i atydl hv u rslns\n",
            " i a al  o hae ors o eee o o aete\n",
            "\n"
          ]
        }
      ]
    },
    {
      "cell_type": "markdown",
      "source": [
        "we can see that our LLaMA 3 model is able to perform inference and generate texts on new prompts, though the output does not seem great given the amount of training data and steps we've used for training. I am sure with much larger training data, we'll achieve much better accuracy."
      ],
      "metadata": {
        "id": "hwQ_h59RRZ3H"
      }
    },
    {
      "cell_type": "code",
      "source": [
        "# https://github.com/meta-llama/llama3/tree/main\n",
        "# https://pub.towardsai.net/build-your-own-llama-3-architecture-from-scratch-using-pytorch-2ce1ecaa901c\n",
        "\n",
        "# https://levelup.gitconnected.com/building-llama-3-from-scratch-with-python-e0cf4dbbc306#25b6\n",
        "\n",
        "# How to Prune LLaMA 3.2\n",
        "# https://towardsdatascience.com/how-to-prune-llama-3-2-and-similar-large-language-models-cf18e9a2afb6"
      ],
      "metadata": {
        "id": "uMc7WObWRc1u"
      },
      "execution_count": null,
      "outputs": []
    }
  ]
}