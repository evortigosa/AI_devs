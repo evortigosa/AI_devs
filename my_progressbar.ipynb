{
 "cells": [
  {
   "cell_type": "markdown",
   "id": "03c37fca",
   "metadata": {},
   "source": [
    "# Simple progress bar"
   ]
  },
  {
   "cell_type": "code",
   "execution_count": 1,
   "id": "e7008437",
   "metadata": {},
   "outputs": [],
   "source": [
    "import sys\n",
    "import time"
   ]
  },
  {
   "cell_type": "code",
   "execution_count": 2,
   "id": "db17ca26",
   "metadata": {},
   "outputs": [],
   "source": [
    "# it represents the iterations\n",
    "# prefix is a string label for the status bar\n",
    "# size is the horizontal length of the status bar\n",
    "# percentual give progress in percent values if True and based on iterations if False\n",
    "\n",
    "def progressbar(it, prefix=\"\", size:int=60, out=sys.stdout, percentual:bool=True): # Python3.6+\n",
    "    count= len(it)\n",
    "    start= time.time() # time estimate start\n",
    "    \n",
    "    def show(j):\n",
    "        x= int(size*j/count)\n",
    "        \n",
    "        # time estimate calculation and string\n",
    "        remaining= ((time.time() - start) / j) * (count - j)\n",
    "        if (remaining< 0.5): remainig= 0\n",
    "        mins, sec= divmod(remaining, 60) # limited to minutes\n",
    "        time_str = f\"{int(mins):02}:{sec:02.1f}\"\n",
    "        \n",
    "        if (percentual):\n",
    "            percent  = f\"{((j/ count)* 100):02.1f}\"\n",
    "            \n",
    "            print(f\"{prefix}[{u'█'*x}{('.'*(size-x))}] {percent}% - Est wait {time_str}\", \n",
    "                  end='\\r', file=out, flush=True)\n",
    "        else:\n",
    "            print(f\"{prefix}[{u'█'*x}{('.'*(size-x))}] {j}/{count} - Est wait {time_str}\", \n",
    "                  end='\\r', file=out, flush=True)\n",
    "    \n",
    "    show(0.1) # avoid div/0\n",
    "    \n",
    "    for i, item in enumerate(it):\n",
    "        yield item\n",
    "        show(i+1)\n",
    "    \n",
    "    print(\"\\n\", flush=True, file=out)"
   ]
  },
  {
   "cell_type": "code",
   "execution_count": 3,
   "id": "367a5d08",
   "metadata": {},
   "outputs": [],
   "source": [
    "import numpy as np\n",
    "\n",
    "vector= np.zeros(60)"
   ]
  },
  {
   "cell_type": "code",
   "execution_count": 4,
   "id": "f9570d5c",
   "metadata": {},
   "outputs": [
    {
     "name": "stdout",
     "output_type": "stream",
     "text": [
      "Progress: [████████████████████████████████████████] 100.0% - Est wait 00:0.0\n",
      "\n",
      "[ 0.  1.  2.  3.  4.  5.  6.  7.  8.  9. 10. 11. 12. 13. 14. 15. 16. 17.\n",
      " 18. 19. 20. 21. 22. 23. 24. 25. 26. 27. 28. 29. 30. 31. 32. 33. 34. 35.\n",
      " 36. 37. 38. 39. 40. 41. 42. 43. 44. 45. 46. 47. 48. 49. 50. 51. 52. 53.\n",
      " 54. 55. 56. 57. 58. 59.]\n"
     ]
    }
   ],
   "source": [
    "for i in progressbar(range(len(vector)), \"Progress: \", 40):\n",
    "    \n",
    "    time.sleep(0.17) # any code you need\n",
    "    \n",
    "    vector[i]= i\n",
    "    \n",
    "print(vector)"
   ]
  },
  {
   "cell_type": "code",
   "execution_count": 5,
   "id": "c6558880",
   "metadata": {},
   "outputs": [
    {
     "name": "stdout",
     "output_type": "stream",
     "text": [
      "Progress: [████████████████████████████████████████] 60/60 - Est wait 00:0.00\n",
      "\n",
      "[ 0.  1.  2.  3.  4.  5.  6.  7.  8.  9. 10. 11. 12. 13. 14. 15. 16. 17.\n",
      " 18. 19. 20. 21. 22. 23. 24. 25. 26. 27. 28. 29. 30. 31. 32. 33. 34. 35.\n",
      " 36. 37. 38. 39. 40. 41. 42. 43. 44. 45. 46. 47. 48. 49. 50. 51. 52. 53.\n",
      " 54. 55. 56. 57. 58. 59.]\n"
     ]
    }
   ],
   "source": [
    "for i in progressbar(range(len(vector)), \"Progress: \", 40, percentual=False):\n",
    "    \n",
    "    time.sleep(0.17) # any code you need\n",
    "    \n",
    "    vector[i]= i\n",
    "    \n",
    "print(vector)"
   ]
  },
  {
   "cell_type": "code",
   "execution_count": null,
   "id": "f59b6554",
   "metadata": {},
   "outputs": [],
   "source": []
  }
 ],
 "metadata": {
  "kernelspec": {
   "display_name": "Python 3",
   "language": "python",
   "name": "python3"
  },
  "language_info": {
   "codemirror_mode": {
    "name": "ipython",
    "version": 3
   },
   "file_extension": ".py",
   "mimetype": "text/x-python",
   "name": "python",
   "nbconvert_exporter": "python",
   "pygments_lexer": "ipython3",
   "version": "3.8.8"
  }
 },
 "nbformat": 4,
 "nbformat_minor": 5
}
