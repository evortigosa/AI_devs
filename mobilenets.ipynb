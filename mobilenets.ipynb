{
  "nbformat": 4,
  "nbformat_minor": 0,
  "metadata": {
    "colab": {
      "provenance": [],
      "toc_visible": true,
      "gpuType": "A100"
    },
    "kernelspec": {
      "name": "python3",
      "display_name": "Python 3"
    },
    "language_info": {
      "name": "python"
    },
    "accelerator": "GPU"
  },
  "cells": [
    {
      "cell_type": "markdown",
      "source": [
        "# MobileNets from Scratch in PyTorch (V1, V2, and V3)\n",
        "\n",
        "MobileNet is a family of lightweight CNNs designed for mobile and embedded devices. The key idea is to reduce computation and model size using Depthwise Separable Convolutions instead of standard convolutions."
      ],
      "metadata": {
        "id": "dlqSp2KJ2wpE"
      }
    },
    {
      "cell_type": "code",
      "execution_count": 1,
      "metadata": {
        "id": "-6Jgft7n2u7J"
      },
      "outputs": [],
      "source": [
        "import time\n",
        "import math\n",
        "import numpy as np\n",
        "import matplotlib.pyplot as plt\n",
        "import inspect\n",
        "import torch\n",
        "import torch.nn as nn\n",
        "import torch.nn.functional as F\n",
        "from torch.optim.lr_scheduler import ReduceLROnPlateau"
      ]
    },
    {
      "cell_type": "code",
      "source": [
        "device= 'cuda' if torch.cuda.is_available() else 'cpu'"
      ],
      "metadata": {
        "id": "ovU3cuPP2xqh"
      },
      "execution_count": 2,
      "outputs": []
    },
    {
      "cell_type": "code",
      "source": [
        "# count how many trainable weights the model has\n",
        "def count_parameters(model) -> None:\n",
        "    total_params= sum(p.numel() for p in model.parameters() if p.requires_grad)\n",
        "    print(f'Number of parameters: {total_params}')"
      ],
      "metadata": {
        "id": "08SiYnis2xuS"
      },
      "execution_count": 3,
      "outputs": []
    },
    {
      "cell_type": "markdown",
      "source": [
        "# Architecture Implementation\n",
        "\n",
        "Starting by the fundamental building block of a CNN, represented by a convolutional layer.\n",
        "\n",
        "Groups is specified to control how convolution is applied to input. If group=1, then a kernel is applied to all input channels and if group=in_channel (depthwise convolution), then a single convolutional kernel is applied for each input channel."
      ],
      "metadata": {
        "id": "66HZ61_Y3HIc"
      }
    },
    {
      "cell_type": "code",
      "source": [
        "class ConvLayer(nn.Module):\n",
        "    \"\"\"\n",
        "    Implements one customizable CNN layer.\n",
        "    MobileNet-style: Input -> Conv2d -> BatchNorm2d -> ReLU -> Output\n",
        "    \"\"\"\n",
        "\n",
        "    def __init__(self, in_channels, out_channels, kernel_size, stride, padding, groups=1,\n",
        "                 bias=False, norm=True, activation=None) -> None:\n",
        "        super(ConvLayer, self).__init__()\n",
        "        self.conv= nn.Conv2d(\n",
        "            in_channels, out_channels, kernel_size, stride, padding, groups=groups, bias=bias\n",
        "        )\n",
        "        # Batch Normalization to stabilize training\n",
        "        self.norm= nn.BatchNorm2d(out_channels) if norm else None\n",
        "        # Activation function -- ReLU is the default in MobileNet\n",
        "        self.activation= activation\n",
        "\n",
        "\n",
        "    def forward(self, x):\n",
        "        x= self.conv(x)\n",
        "        if self.norm is not None:\n",
        "            x= self.norm(x)\n",
        "        if self.activation is not None:\n",
        "            x= self.activation(x)\n",
        "\n",
        "        return x\n"
      ],
      "metadata": {
        "id": "z0-zvTYR2x10"
      },
      "execution_count": 4,
      "outputs": []
    },
    {
      "cell_type": "markdown",
      "source": [
        "# MobileNetV1\n",
        "\n",
        "Depthwise Separable Convolution is a lightweight and efficient convolutional neural network architecture. It decomposes the standard convolution process into two separate steps: depthwise convolution and pointwise convolution. The depthwise convolution applies a single convolutional filter for each input channel, while the pointwise convolution performs a 1x1 convolution to combine the filtered outputs. This approach significantly reduces the computational cost and model parameters, making it suitable for resource-constrained environments without sacrificing performance.\n",
        "\n",
        "The first version of MobileNet, MobileNetV1, applies a non-linear activation after both the depthwise and the pointwise convolutions. In the original design, each convolutional operation is typically followed by a batch normalization and a ReLU activation (some experimental implementations might remove an activation after the depthwise convolution to study its effect on performancev).\n",
        "\n",
        "https://arxiv.org/abs/1704.04861"
      ],
      "metadata": {
        "id": "EHXJXYzS4UFm"
      }
    },
    {
      "cell_type": "code",
      "source": [
        "class DepthwiseSeparableBlock(nn.Module):\n",
        "    \"\"\"\n",
        "    Implements the depthwise separable convolution block from MobileNetV1.\n",
        "    This block consists of a depthwise convolution (channel-wise 3x3 conv) followed by a\n",
        "    pointwise convolution (1x1 conv) to combine the features across channels.\n",
        "    Both stages include Batch Normalization followed by a non-linear activation.\n",
        "    \"\"\"\n",
        "\n",
        "    def __init__(self, in_channels, out_channels, stride=1, activation=None) -> None:\n",
        "        super(DepthwiseSeparableBlock, self).__init__()\n",
        "        # Activation function -- ReLU is the default in MobileNet\n",
        "        activation= nn.ReLU(inplace=True) if activation is None else activation\n",
        "        # Depthwise convolution: group convolution with groups=in_channels\n",
        "        self.depthwise= ConvLayer(\n",
        "            in_channels, in_channels, kernel_size=3, stride=stride, padding=1, groups=in_channels,\n",
        "            bias=False, norm=True, activation=activation\n",
        "        )\n",
        "        # Pointwise convolution: 1x1 convolution to mix features across channels\n",
        "        self.pointwise= ConvLayer(\n",
        "            in_channels, out_channels, kernel_size=1, stride=1, padding=0,\n",
        "            bias=False, norm=True, activation=activation\n",
        "        )\n",
        "\n",
        "\n",
        "    def forward(self, x):\n",
        "        x= self.depthwise(x)\n",
        "        x= self.pointwise(x)\n",
        "\n",
        "        return x\n"
      ],
      "metadata": {
        "id": "iUbrBdGq2x4Q"
      },
      "execution_count": 5,
      "outputs": []
    },
    {
      "cell_type": "markdown",
      "source": [
        "# Building the MobileNetV1 model\n",
        "\n",
        "The MobileNet paper introduces the concept of a width multiplier to scale the number of channels (filters) at every layer. Common multipliers include:\n",
        "\n",
        "- **1.0:** The full-size network, which is the default configuration in the paper.\n",
        "- **0.75, 0.5, 0.35:** These smaller versions are provided to reduce the computational cost and the number of parameters, making the model more efficient for deployment on resource-constrained devices.\n",
        "\n",
        "Although the original paper typically uses an **input resolution** of 224x224, some implementations vary the resolution to further trade off between accuracy and efficiency (e.g. 224, 192, 160, 128). The sequential feature extractor (self.features) is built using a series of DepthwiseSeparableBlock modules. Downsampling is achieved by setting stride=2 for certain blocks."
      ],
      "metadata": {
        "id": "5zywGJAM3K5C"
      }
    },
    {
      "cell_type": "code",
      "source": [
        "class MobileNetV1(nn.Module):\n",
        "    \"\"\"\n",
        "    Implements the MobileNetV1 architecture.\n",
        "    - An initial stem using a convolution layer to reduce spatial dimensions.\n",
        "    - A sequence of depthwise separable convolution blocks.\n",
        "    - Global average pooling and a fully connected classification head (if num_classes is provided).\n",
        "    \"\"\"\n",
        "\n",
        "    def __init__(self, in_channels, num_classes=None, stem_channels=32, width_mult=1.0,\n",
        "                 activation=None, dropout=0.1) -> None:\n",
        "        super(MobileNetV1, self).__init__()\n",
        "        # Activation function -- ReLU is the default in MobileNet\n",
        "        activation= nn.ReLU(inplace=True) if activation is None else activation\n",
        "        # Calculate the stem_channels\n",
        "        stem_channels= int(stem_channels * width_mult)\n",
        "\n",
        "        # Initial convolution layer\n",
        "        self.stem= ConvLayer(\n",
        "            in_channels, stem_channels, kernel_size=3, stride=2, padding=1, bias=False,\n",
        "            norm=True, activation=activation\n",
        "        )\n",
        "        # Depthwise separable convolutions\n",
        "        self.features= nn.Sequential(\n",
        "            DepthwiseSeparableBlock(stem_channels,         int(64 * width_mult),  stride=1, activation=activation),\n",
        "            DepthwiseSeparableBlock(int(64 * width_mult),  int(128 * width_mult), stride=2, activation=activation),\n",
        "            DepthwiseSeparableBlock(int(128 * width_mult), int(128 * width_mult), stride=1, activation=activation),\n",
        "            DepthwiseSeparableBlock(int(128 * width_mult), int(256 * width_mult), stride=2, activation=activation),\n",
        "            DepthwiseSeparableBlock(int(256 * width_mult), int(256 * width_mult), stride=1, activation=activation),\n",
        "            DepthwiseSeparableBlock(int(256 * width_mult), int(512 * width_mult), stride=2, activation=activation),\n",
        "            *[\n",
        "                DepthwiseSeparableBlock(int(512 * width_mult), int(512 * width_mult), stride=1, activation=activation)\n",
        "                for _ in range(5)\n",
        "            ],\n",
        "            DepthwiseSeparableBlock(int(512 * width_mult),  int(1024 * width_mult), stride=2, activation=activation),\n",
        "            DepthwiseSeparableBlock(int(1024 * width_mult), int(1024 * width_mult), stride=1, activation=activation),\n",
        "        )\n",
        "\n",
        "        # Pooling and classification head to produce the class logits\n",
        "        self.average_pool= nn.AdaptiveAvgPool2d((1, 1))\n",
        "        self.fc_out= nn.Sequential(\n",
        "            nn.Dropout(p=dropout),\n",
        "            nn.Linear(int(1024 * width_mult), num_classes),\n",
        "        ) if num_classes is not None else None\n",
        "\n",
        "        # initialize parameters with Xavier\n",
        "        for m in self.modules():\n",
        "            if isinstance(m, nn.Conv2d) or isinstance(m, nn.Linear):\n",
        "                nn.init.xavier_uniform_(m.weight)\n",
        "                if m.bias is not None: nn.init.zeros_(m.bias)\n",
        "            elif isinstance(m, nn.BatchNorm2d):\n",
        "                nn.init.constant_(m.weight, 1.0)\n",
        "                nn.init.constant_(m.bias, 0.0)\n",
        "\n",
        "\n",
        "    def forward(self, x):\n",
        "        x= self.stem(x)\n",
        "        x= self.features(x)\n",
        "        x= self.average_pool(x)\n",
        "        x= x.view(x.size(0), -1)\n",
        "        if self.fc_out is not None:\n",
        "            x= self.fc_out(x)\n",
        "\n",
        "        return x\n"
      ],
      "metadata": {
        "id": "7rEzCUDo2yBi"
      },
      "execution_count": 6,
      "outputs": []
    },
    {
      "cell_type": "code",
      "source": [
        "#!pip install transformers\n",
        "from transformers import MobileNetV1Config, MobileNetV1Model\n",
        "\n",
        "# Initializing a model from the \"mobilenet_v1_1.0_224\" style configuration\n",
        "hf_model= MobileNetV1Model(MobileNetV1Config()).to(device)\n",
        "count_parameters(hf_model)"
      ],
      "metadata": {
        "id": "jDt0ZqUl2yFF",
        "colab": {
          "base_uri": "https://localhost:8080/"
        },
        "outputId": "8b08dfad-1c4d-406d-e7a7-1e39f3b91ca0"
      },
      "execution_count": 7,
      "outputs": [
        {
          "output_type": "stream",
          "name": "stdout",
          "text": [
            "Number of parameters: 3206976\n"
          ]
        }
      ]
    },
    {
      "cell_type": "code",
      "source": [
        "img= torch.randn(1, 3, 224, 224).to(device)\n",
        "\n",
        "model= MobileNetV1(in_channels=3).to(device)\n",
        "count_parameters(model)\n",
        "print(model(img).shape)\n",
        "model"
      ],
      "metadata": {
        "colab": {
          "base_uri": "https://localhost:8080/"
        },
        "id": "avCSToP_FGmg",
        "outputId": "81433473-b7ec-4b5d-846a-f6a850d686fd"
      },
      "execution_count": 8,
      "outputs": [
        {
          "output_type": "stream",
          "name": "stdout",
          "text": [
            "Number of parameters: 3206976\n",
            "torch.Size([1, 1024])\n"
          ]
        },
        {
          "output_type": "execute_result",
          "data": {
            "text/plain": [
              "MobileNetV1(\n",
              "  (stem): ConvLayer(\n",
              "    (conv): Conv2d(3, 32, kernel_size=(3, 3), stride=(2, 2), padding=(1, 1), bias=False)\n",
              "    (norm): BatchNorm2d(32, eps=1e-05, momentum=0.1, affine=True, track_running_stats=True)\n",
              "    (activation): ReLU(inplace=True)\n",
              "  )\n",
              "  (features): Sequential(\n",
              "    (0): DepthwiseSeparableBlock(\n",
              "      (depthwise): ConvLayer(\n",
              "        (conv): Conv2d(32, 32, kernel_size=(3, 3), stride=(1, 1), padding=(1, 1), groups=32, bias=False)\n",
              "        (norm): BatchNorm2d(32, eps=1e-05, momentum=0.1, affine=True, track_running_stats=True)\n",
              "        (activation): ReLU(inplace=True)\n",
              "      )\n",
              "      (pointwise): ConvLayer(\n",
              "        (conv): Conv2d(32, 64, kernel_size=(1, 1), stride=(1, 1), bias=False)\n",
              "        (norm): BatchNorm2d(64, eps=1e-05, momentum=0.1, affine=True, track_running_stats=True)\n",
              "        (activation): ReLU(inplace=True)\n",
              "      )\n",
              "    )\n",
              "    (1): DepthwiseSeparableBlock(\n",
              "      (depthwise): ConvLayer(\n",
              "        (conv): Conv2d(64, 64, kernel_size=(3, 3), stride=(2, 2), padding=(1, 1), groups=64, bias=False)\n",
              "        (norm): BatchNorm2d(64, eps=1e-05, momentum=0.1, affine=True, track_running_stats=True)\n",
              "        (activation): ReLU(inplace=True)\n",
              "      )\n",
              "      (pointwise): ConvLayer(\n",
              "        (conv): Conv2d(64, 128, kernel_size=(1, 1), stride=(1, 1), bias=False)\n",
              "        (norm): BatchNorm2d(128, eps=1e-05, momentum=0.1, affine=True, track_running_stats=True)\n",
              "        (activation): ReLU(inplace=True)\n",
              "      )\n",
              "    )\n",
              "    (2): DepthwiseSeparableBlock(\n",
              "      (depthwise): ConvLayer(\n",
              "        (conv): Conv2d(128, 128, kernel_size=(3, 3), stride=(1, 1), padding=(1, 1), groups=128, bias=False)\n",
              "        (norm): BatchNorm2d(128, eps=1e-05, momentum=0.1, affine=True, track_running_stats=True)\n",
              "        (activation): ReLU(inplace=True)\n",
              "      )\n",
              "      (pointwise): ConvLayer(\n",
              "        (conv): Conv2d(128, 128, kernel_size=(1, 1), stride=(1, 1), bias=False)\n",
              "        (norm): BatchNorm2d(128, eps=1e-05, momentum=0.1, affine=True, track_running_stats=True)\n",
              "        (activation): ReLU(inplace=True)\n",
              "      )\n",
              "    )\n",
              "    (3): DepthwiseSeparableBlock(\n",
              "      (depthwise): ConvLayer(\n",
              "        (conv): Conv2d(128, 128, kernel_size=(3, 3), stride=(2, 2), padding=(1, 1), groups=128, bias=False)\n",
              "        (norm): BatchNorm2d(128, eps=1e-05, momentum=0.1, affine=True, track_running_stats=True)\n",
              "        (activation): ReLU(inplace=True)\n",
              "      )\n",
              "      (pointwise): ConvLayer(\n",
              "        (conv): Conv2d(128, 256, kernel_size=(1, 1), stride=(1, 1), bias=False)\n",
              "        (norm): BatchNorm2d(256, eps=1e-05, momentum=0.1, affine=True, track_running_stats=True)\n",
              "        (activation): ReLU(inplace=True)\n",
              "      )\n",
              "    )\n",
              "    (4): DepthwiseSeparableBlock(\n",
              "      (depthwise): ConvLayer(\n",
              "        (conv): Conv2d(256, 256, kernel_size=(3, 3), stride=(1, 1), padding=(1, 1), groups=256, bias=False)\n",
              "        (norm): BatchNorm2d(256, eps=1e-05, momentum=0.1, affine=True, track_running_stats=True)\n",
              "        (activation): ReLU(inplace=True)\n",
              "      )\n",
              "      (pointwise): ConvLayer(\n",
              "        (conv): Conv2d(256, 256, kernel_size=(1, 1), stride=(1, 1), bias=False)\n",
              "        (norm): BatchNorm2d(256, eps=1e-05, momentum=0.1, affine=True, track_running_stats=True)\n",
              "        (activation): ReLU(inplace=True)\n",
              "      )\n",
              "    )\n",
              "    (5): DepthwiseSeparableBlock(\n",
              "      (depthwise): ConvLayer(\n",
              "        (conv): Conv2d(256, 256, kernel_size=(3, 3), stride=(2, 2), padding=(1, 1), groups=256, bias=False)\n",
              "        (norm): BatchNorm2d(256, eps=1e-05, momentum=0.1, affine=True, track_running_stats=True)\n",
              "        (activation): ReLU(inplace=True)\n",
              "      )\n",
              "      (pointwise): ConvLayer(\n",
              "        (conv): Conv2d(256, 512, kernel_size=(1, 1), stride=(1, 1), bias=False)\n",
              "        (norm): BatchNorm2d(512, eps=1e-05, momentum=0.1, affine=True, track_running_stats=True)\n",
              "        (activation): ReLU(inplace=True)\n",
              "      )\n",
              "    )\n",
              "    (6): DepthwiseSeparableBlock(\n",
              "      (depthwise): ConvLayer(\n",
              "        (conv): Conv2d(512, 512, kernel_size=(3, 3), stride=(1, 1), padding=(1, 1), groups=512, bias=False)\n",
              "        (norm): BatchNorm2d(512, eps=1e-05, momentum=0.1, affine=True, track_running_stats=True)\n",
              "        (activation): ReLU(inplace=True)\n",
              "      )\n",
              "      (pointwise): ConvLayer(\n",
              "        (conv): Conv2d(512, 512, kernel_size=(1, 1), stride=(1, 1), bias=False)\n",
              "        (norm): BatchNorm2d(512, eps=1e-05, momentum=0.1, affine=True, track_running_stats=True)\n",
              "        (activation): ReLU(inplace=True)\n",
              "      )\n",
              "    )\n",
              "    (7): DepthwiseSeparableBlock(\n",
              "      (depthwise): ConvLayer(\n",
              "        (conv): Conv2d(512, 512, kernel_size=(3, 3), stride=(1, 1), padding=(1, 1), groups=512, bias=False)\n",
              "        (norm): BatchNorm2d(512, eps=1e-05, momentum=0.1, affine=True, track_running_stats=True)\n",
              "        (activation): ReLU(inplace=True)\n",
              "      )\n",
              "      (pointwise): ConvLayer(\n",
              "        (conv): Conv2d(512, 512, kernel_size=(1, 1), stride=(1, 1), bias=False)\n",
              "        (norm): BatchNorm2d(512, eps=1e-05, momentum=0.1, affine=True, track_running_stats=True)\n",
              "        (activation): ReLU(inplace=True)\n",
              "      )\n",
              "    )\n",
              "    (8): DepthwiseSeparableBlock(\n",
              "      (depthwise): ConvLayer(\n",
              "        (conv): Conv2d(512, 512, kernel_size=(3, 3), stride=(1, 1), padding=(1, 1), groups=512, bias=False)\n",
              "        (norm): BatchNorm2d(512, eps=1e-05, momentum=0.1, affine=True, track_running_stats=True)\n",
              "        (activation): ReLU(inplace=True)\n",
              "      )\n",
              "      (pointwise): ConvLayer(\n",
              "        (conv): Conv2d(512, 512, kernel_size=(1, 1), stride=(1, 1), bias=False)\n",
              "        (norm): BatchNorm2d(512, eps=1e-05, momentum=0.1, affine=True, track_running_stats=True)\n",
              "        (activation): ReLU(inplace=True)\n",
              "      )\n",
              "    )\n",
              "    (9): DepthwiseSeparableBlock(\n",
              "      (depthwise): ConvLayer(\n",
              "        (conv): Conv2d(512, 512, kernel_size=(3, 3), stride=(1, 1), padding=(1, 1), groups=512, bias=False)\n",
              "        (norm): BatchNorm2d(512, eps=1e-05, momentum=0.1, affine=True, track_running_stats=True)\n",
              "        (activation): ReLU(inplace=True)\n",
              "      )\n",
              "      (pointwise): ConvLayer(\n",
              "        (conv): Conv2d(512, 512, kernel_size=(1, 1), stride=(1, 1), bias=False)\n",
              "        (norm): BatchNorm2d(512, eps=1e-05, momentum=0.1, affine=True, track_running_stats=True)\n",
              "        (activation): ReLU(inplace=True)\n",
              "      )\n",
              "    )\n",
              "    (10): DepthwiseSeparableBlock(\n",
              "      (depthwise): ConvLayer(\n",
              "        (conv): Conv2d(512, 512, kernel_size=(3, 3), stride=(1, 1), padding=(1, 1), groups=512, bias=False)\n",
              "        (norm): BatchNorm2d(512, eps=1e-05, momentum=0.1, affine=True, track_running_stats=True)\n",
              "        (activation): ReLU(inplace=True)\n",
              "      )\n",
              "      (pointwise): ConvLayer(\n",
              "        (conv): Conv2d(512, 512, kernel_size=(1, 1), stride=(1, 1), bias=False)\n",
              "        (norm): BatchNorm2d(512, eps=1e-05, momentum=0.1, affine=True, track_running_stats=True)\n",
              "        (activation): ReLU(inplace=True)\n",
              "      )\n",
              "    )\n",
              "    (11): DepthwiseSeparableBlock(\n",
              "      (depthwise): ConvLayer(\n",
              "        (conv): Conv2d(512, 512, kernel_size=(3, 3), stride=(2, 2), padding=(1, 1), groups=512, bias=False)\n",
              "        (norm): BatchNorm2d(512, eps=1e-05, momentum=0.1, affine=True, track_running_stats=True)\n",
              "        (activation): ReLU(inplace=True)\n",
              "      )\n",
              "      (pointwise): ConvLayer(\n",
              "        (conv): Conv2d(512, 1024, kernel_size=(1, 1), stride=(1, 1), bias=False)\n",
              "        (norm): BatchNorm2d(1024, eps=1e-05, momentum=0.1, affine=True, track_running_stats=True)\n",
              "        (activation): ReLU(inplace=True)\n",
              "      )\n",
              "    )\n",
              "    (12): DepthwiseSeparableBlock(\n",
              "      (depthwise): ConvLayer(\n",
              "        (conv): Conv2d(1024, 1024, kernel_size=(3, 3), stride=(1, 1), padding=(1, 1), groups=1024, bias=False)\n",
              "        (norm): BatchNorm2d(1024, eps=1e-05, momentum=0.1, affine=True, track_running_stats=True)\n",
              "        (activation): ReLU(inplace=True)\n",
              "      )\n",
              "      (pointwise): ConvLayer(\n",
              "        (conv): Conv2d(1024, 1024, kernel_size=(1, 1), stride=(1, 1), bias=False)\n",
              "        (norm): BatchNorm2d(1024, eps=1e-05, momentum=0.1, affine=True, track_running_stats=True)\n",
              "        (activation): ReLU(inplace=True)\n",
              "      )\n",
              "    )\n",
              "  )\n",
              "  (average_pool): AdaptiveAvgPool2d(output_size=(1, 1))\n",
              ")"
            ]
          },
          "metadata": {},
          "execution_count": 8
        }
      ]
    },
    {
      "cell_type": "code",
      "source": [
        "# https://medium.com/@karuneshu21/implement-mobilenet-v1-in-pytorch-fd03a6618321\n",
        "# https://www.kaggle.com/code/sonukiller99/mobilenet-from-scratch\n",
        "# https://medium.com/towards-data-science/building-mobilenet-from-scratch-using-tensorflow-ad009c5dd42c"
      ],
      "metadata": {
        "id": "XLhdYHT_G8-Y"
      },
      "execution_count": null,
      "outputs": []
    },
    {
      "cell_type": "markdown",
      "source": [
        "# MobileNetV2\n",
        "\n",
        "MobileNetV2 uses Inverted Residual Blocks and ReLU6 activation.\n",
        "\n",
        "- **Inverted Bottleneck Residual Block:** Evolves the Depthwise Separable Block form V1. Each Inverted Bottleneck Block expands the number of channels by an **expansion** factor (optional, when expansion is greater than 1), applies a depthwise convolution with stride, and then projects back to a lower-dimensional space using a 1x1 convolution. A residual (skip) connection is used when the stride is 1 and the input and output dimensions match.\n",
        "\n",
        "- **ReLU6 Activation:** MobileNetV2 uses ReLU6 throughout the network, which limits the activation to the range $[0,6]$ for better quantization and stability on mobile devices.\n",
        "\n",
        "https://arxiv.org/abs/1801.04381"
      ],
      "metadata": {
        "id": "mUn1N4zbVOFa"
      }
    },
    {
      "cell_type": "code",
      "source": [
        "class InvertedBottleneckBlock(nn.Module):\n",
        "    \"\"\"\n",
        "    Implements the Inverted Bottleneck Block as used in MobileNetV2.\n",
        "    This block uses an expansion phase followed by a depthwise convolution and a projection phase.\n",
        "    A residual connection is employed if the stride is 1 and the input and output dimensions are equal.\n",
        "    \"\"\"\n",
        "\n",
        "    def __init__(self, in_channels, out_channels, stride, expansion, activation=None,\n",
        "                 dropout=0.1) -> None:\n",
        "        super(InvertedBottleneckBlock, self).__init__()\n",
        "        assert stride in [1, 2], \"Stride must be 1 or 2.\"\n",
        "        # Activation function -- ReLU6 is the default in MobileNetV2\n",
        "        activation= nn.ReLU6(inplace=True) if activation is None else activation\n",
        "        # Define dimensions for intermediate layers\n",
        "        hidden_dim= round(in_channels * expansion)\n",
        "\n",
        "        # The inverted bottleneck block\n",
        "        self.bottleneck= nn.Sequential(\n",
        "            # Expansion phase (1x1 convolution) when expansion != 1\n",
        "            ConvLayer(\n",
        "                in_channels, hidden_dim, kernel_size=1, stride=1, padding=0,\n",
        "                bias=False, activation=activation\n",
        "            ) if expansion!= 1 else nn.Identity(),\n",
        "            # Depthwise convolution (3x3, with groups=hidden_dim)\n",
        "            ConvLayer(\n",
        "                hidden_dim, hidden_dim, kernel_size=3, stride=stride, padding=1, groups=hidden_dim,\n",
        "                bias=False, activation=activation\n",
        "            ),\n",
        "            # Pointwise convolution (1x1 convolution) without activation\n",
        "            ConvLayer(\n",
        "                hidden_dim, out_channels, kernel_size=1, stride=1, padding=0,\n",
        "                bias=False, activation=None\n",
        "            ),\n",
        "        )\n",
        "        # Dropout module for regularization\n",
        "        self.dropout= nn.Dropout2d(p=dropout) if dropout> 0.0 else None\n",
        "        # When dim(x) == dim(F) and no spatial downsampling is applied -> use residual connection\n",
        "        self.use_residual= (stride== 1 and in_channels== out_channels)\n",
        "\n",
        "\n",
        "    def forward(self, x):\n",
        "        out= self.bottleneck(x)\n",
        "        if self.dropout is not None:\n",
        "            out= self.dropout(out)\n",
        "        if self.use_residual:\n",
        "            out= out + x\n",
        "\n",
        "        return out\n"
      ],
      "metadata": {
        "id": "kNKfIyZWVM1y"
      },
      "execution_count": 9,
      "outputs": []
    },
    {
      "cell_type": "markdown",
      "source": [
        "# Define configs for MobileNetV2\n",
        "\n",
        "Setting up the inverted residual block configurations. Each tuple has (t, c, n, s) values, where:\n",
        "\n",
        "- **t (float):** Expansion factor.\n",
        "- **c (int):** Number of output channels for the block (before applying the width multiplier).\n",
        "- **n (int):** Number of times the block is repeated.\n",
        "- **s (int):** Stride for the first layer of the block."
      ],
      "metadata": {
        "id": "5d3Xokws2X1b"
      }
    },
    {
      "cell_type": "code",
      "source": [
        "# These values define the \"bottleneck\" settings in MobileNetV2.\n",
        "mobilenetv2_configs= [\n",
        "    # t, c, n, s\n",
        "    [1, 16, 1, 1],\n",
        "    [6, 24, 2, 2],\n",
        "    [6, 32, 3, 2],\n",
        "    [6, 64, 4, 2],\n",
        "    [6, 96, 3, 1],\n",
        "    [6, 160, 3, 2],\n",
        "    [6, 320, 1, 1],\n",
        "]"
      ],
      "metadata": {
        "id": "k2PpjGOn2YBa"
      },
      "execution_count": 10,
      "outputs": []
    },
    {
      "cell_type": "markdown",
      "source": [
        "# Building the MobileNetV2 model\n",
        "\n",
        "- **Stem Layer:** A standard convolution (3x3) with stride 2 reduces spatial dimensions.\n",
        "- **Inverted Residual Blocks:** Configurations (t, c, n, s) define the inverted residual blocks.\n",
        "- **Last Layer:** A 1x1 convolution increases the channel dimension to last_channel (typically 1280).\n",
        "- **Global Pooling & Classifier:** Adaptive average pooling is applied, then passed through a fully connected layer.\n",
        "\n",
        "The default MobileNetV2 is often referred to as MobileNetV2 1.0 with 224x224 resolution. Lighter versions with multipliers 0.75, 0.5, and 0.35 are common to reduce the model size and computation."
      ],
      "metadata": {
        "id": "joy_cbeQVj3a"
      }
    },
    {
      "cell_type": "code",
      "source": [
        "class MobileNetV2(nn.Module):\n",
        "    \"\"\"\n",
        "    Implements the MobileNetV2 architecture.\n",
        "    - A stem convolutional layer.\n",
        "    - A sequence of inverted bottleneck blocks (defined by the 'configs' argument).\n",
        "    - A final 1x1 convolutional layer.\n",
        "    - Global average pooling and a classification head (if num_classes is provided).\n",
        "    \"\"\"\n",
        "\n",
        "    def __init__(self, configs, in_channels, num_classes=None, stem_channels=32, width_mult=1.0,\n",
        "                 activation=None, dropout=0.1) -> None:\n",
        "        super(MobileNetV2, self).__init__()\n",
        "        # Activation function -- ReLU6 is the default in MobileNetV2\n",
        "        activation= nn.ReLU6(inplace=True) if activation is None else activation\n",
        "        # Calculate the stem_channels and out_channels\n",
        "        stem_channels= int(stem_channels * width_mult)\n",
        "        # For MobileNetV2, the final feature dimension is fixed to 1280 for width_mult <= 1\n",
        "        last_channels= int(1280 * width_mult) if width_mult> 1.0 else 1280\n",
        "\n",
        "        # Initial convolution layer\n",
        "        self.stem= ConvLayer(\n",
        "            in_channels, stem_channels, kernel_size=3, stride=2, padding=1, bias=False,\n",
        "            norm=True, activation=activation\n",
        "        )\n",
        "        # Inverted Bottleneck Blocks\n",
        "        input_channels= stem_channels\n",
        "        features= []\n",
        "        for t, c, n, s in configs:\n",
        "            output_channels= int(c * width_mult)\n",
        "            for i in range(n):\n",
        "                stride= s if i== 0 else 1\n",
        "                features.append(\n",
        "                    InvertedBottleneckBlock(input_channels, output_channels, stride, t, activation, dropout)\n",
        "                )\n",
        "                input_channels= output_channels  # update for next block\n",
        "\n",
        "        # Last 1x1 convolution (projection) layer\n",
        "        features.append(\n",
        "            ConvLayer(\n",
        "                input_channels, last_channels, kernel_size=1, stride=1, padding=0,\n",
        "                bias=False, activation=activation\n",
        "            )\n",
        "        )\n",
        "        self.features= nn.Sequential(*features)\n",
        "\n",
        "        # Pooling and classification head to produce the class logits\n",
        "        self.average_pool= nn.AdaptiveAvgPool2d((1, 1))\n",
        "        self.fc_out= nn.Sequential(\n",
        "            nn.Dropout(p=dropout),\n",
        "            ConvLayer(\n",
        "                last_channels, num_classes, kernel_size=1, stride=1, padding=0,\n",
        "                bias=True, norm=False, activation=None\n",
        "            ),\n",
        "        ) if num_classes is not None else None\n",
        "\n",
        "        # initialize parameters with Xavier\n",
        "        for m in self.modules():\n",
        "            if isinstance(m, nn.Conv2d) or isinstance(m, nn.Linear):\n",
        "                nn.init.xavier_uniform_(m.weight)\n",
        "                if m.bias is not None: nn.init.zeros_(m.bias)\n",
        "            elif isinstance(m, nn.BatchNorm2d):\n",
        "                nn.init.constant_(m.weight, 1.0)\n",
        "                nn.init.constant_(m.bias, 0.0)\n",
        "\n",
        "\n",
        "    def forward(self, x):\n",
        "        x= self.stem(x)\n",
        "        x= self.features(x)\n",
        "        x= self.average_pool(x)\n",
        "        if self.fc_out is not None:\n",
        "            x= self.fc_out(x)\n",
        "        x= x.view(x.size(0), -1)\n",
        "\n",
        "        return x\n"
      ],
      "metadata": {
        "id": "03Zh6iFFVeby"
      },
      "execution_count": 11,
      "outputs": []
    },
    {
      "cell_type": "code",
      "source": [
        "import torchvision.models as models\n",
        "from torchvision.models import MobileNet_V2_Weights\n",
        "\n",
        "tvis_model_v2= models.mobilenet_v2(weights=MobileNet_V2_Weights.DEFAULT).to(device)\n",
        "count_parameters(tvis_model_v2)\n",
        "print(tvis_model_v2(img).shape)"
      ],
      "metadata": {
        "colab": {
          "base_uri": "https://localhost:8080/"
        },
        "id": "W-qFvSdh3EiM",
        "outputId": "4b0de0ba-ffc3-4b15-9ba1-2ecdb7a38000"
      },
      "execution_count": 12,
      "outputs": [
        {
          "output_type": "stream",
          "name": "stderr",
          "text": [
            "Downloading: \"https://download.pytorch.org/models/mobilenet_v2-7ebf99e0.pth\" to /root/.cache/torch/hub/checkpoints/mobilenet_v2-7ebf99e0.pth\n",
            "100%|██████████| 13.6M/13.6M [00:00<00:00, 99.1MB/s]\n"
          ]
        },
        {
          "output_type": "stream",
          "name": "stdout",
          "text": [
            "Number of parameters: 3504872\n",
            "torch.Size([1, 1000])\n"
          ]
        }
      ]
    },
    {
      "cell_type": "code",
      "source": [
        "model_v2= MobileNetV2(mobilenetv2_configs, in_channels=3, num_classes=1000).to(device)\n",
        "count_parameters(model_v2)\n",
        "print(model_v2(img).shape)\n",
        "model_v2"
      ],
      "metadata": {
        "colab": {
          "base_uri": "https://localhost:8080/"
        },
        "id": "ZIAC3UYV8ZDK",
        "outputId": "a75ce55f-76f7-43ca-d456-e3a6bcd8319a"
      },
      "execution_count": 13,
      "outputs": [
        {
          "output_type": "stream",
          "name": "stdout",
          "text": [
            "Number of parameters: 3504872\n",
            "torch.Size([1, 1000])\n"
          ]
        },
        {
          "output_type": "execute_result",
          "data": {
            "text/plain": [
              "MobileNetV2(\n",
              "  (stem): ConvLayer(\n",
              "    (conv): Conv2d(3, 32, kernel_size=(3, 3), stride=(2, 2), padding=(1, 1), bias=False)\n",
              "    (norm): BatchNorm2d(32, eps=1e-05, momentum=0.1, affine=True, track_running_stats=True)\n",
              "    (activation): ReLU6(inplace=True)\n",
              "  )\n",
              "  (features): Sequential(\n",
              "    (0): InvertedBottleneckBlock(\n",
              "      (bottleneck): Sequential(\n",
              "        (0): Identity()\n",
              "        (1): ConvLayer(\n",
              "          (conv): Conv2d(32, 32, kernel_size=(3, 3), stride=(1, 1), padding=(1, 1), groups=32, bias=False)\n",
              "          (norm): BatchNorm2d(32, eps=1e-05, momentum=0.1, affine=True, track_running_stats=True)\n",
              "          (activation): ReLU6(inplace=True)\n",
              "        )\n",
              "        (2): ConvLayer(\n",
              "          (conv): Conv2d(32, 16, kernel_size=(1, 1), stride=(1, 1), bias=False)\n",
              "          (norm): BatchNorm2d(16, eps=1e-05, momentum=0.1, affine=True, track_running_stats=True)\n",
              "        )\n",
              "      )\n",
              "      (dropout): Dropout2d(p=0.1, inplace=False)\n",
              "    )\n",
              "    (1): InvertedBottleneckBlock(\n",
              "      (bottleneck): Sequential(\n",
              "        (0): ConvLayer(\n",
              "          (conv): Conv2d(16, 96, kernel_size=(1, 1), stride=(1, 1), bias=False)\n",
              "          (norm): BatchNorm2d(96, eps=1e-05, momentum=0.1, affine=True, track_running_stats=True)\n",
              "          (activation): ReLU6(inplace=True)\n",
              "        )\n",
              "        (1): ConvLayer(\n",
              "          (conv): Conv2d(96, 96, kernel_size=(3, 3), stride=(2, 2), padding=(1, 1), groups=96, bias=False)\n",
              "          (norm): BatchNorm2d(96, eps=1e-05, momentum=0.1, affine=True, track_running_stats=True)\n",
              "          (activation): ReLU6(inplace=True)\n",
              "        )\n",
              "        (2): ConvLayer(\n",
              "          (conv): Conv2d(96, 24, kernel_size=(1, 1), stride=(1, 1), bias=False)\n",
              "          (norm): BatchNorm2d(24, eps=1e-05, momentum=0.1, affine=True, track_running_stats=True)\n",
              "        )\n",
              "      )\n",
              "      (dropout): Dropout2d(p=0.1, inplace=False)\n",
              "    )\n",
              "    (2): InvertedBottleneckBlock(\n",
              "      (bottleneck): Sequential(\n",
              "        (0): ConvLayer(\n",
              "          (conv): Conv2d(24, 144, kernel_size=(1, 1), stride=(1, 1), bias=False)\n",
              "          (norm): BatchNorm2d(144, eps=1e-05, momentum=0.1, affine=True, track_running_stats=True)\n",
              "          (activation): ReLU6(inplace=True)\n",
              "        )\n",
              "        (1): ConvLayer(\n",
              "          (conv): Conv2d(144, 144, kernel_size=(3, 3), stride=(1, 1), padding=(1, 1), groups=144, bias=False)\n",
              "          (norm): BatchNorm2d(144, eps=1e-05, momentum=0.1, affine=True, track_running_stats=True)\n",
              "          (activation): ReLU6(inplace=True)\n",
              "        )\n",
              "        (2): ConvLayer(\n",
              "          (conv): Conv2d(144, 24, kernel_size=(1, 1), stride=(1, 1), bias=False)\n",
              "          (norm): BatchNorm2d(24, eps=1e-05, momentum=0.1, affine=True, track_running_stats=True)\n",
              "        )\n",
              "      )\n",
              "      (dropout): Dropout2d(p=0.1, inplace=False)\n",
              "    )\n",
              "    (3): InvertedBottleneckBlock(\n",
              "      (bottleneck): Sequential(\n",
              "        (0): ConvLayer(\n",
              "          (conv): Conv2d(24, 144, kernel_size=(1, 1), stride=(1, 1), bias=False)\n",
              "          (norm): BatchNorm2d(144, eps=1e-05, momentum=0.1, affine=True, track_running_stats=True)\n",
              "          (activation): ReLU6(inplace=True)\n",
              "        )\n",
              "        (1): ConvLayer(\n",
              "          (conv): Conv2d(144, 144, kernel_size=(3, 3), stride=(2, 2), padding=(1, 1), groups=144, bias=False)\n",
              "          (norm): BatchNorm2d(144, eps=1e-05, momentum=0.1, affine=True, track_running_stats=True)\n",
              "          (activation): ReLU6(inplace=True)\n",
              "        )\n",
              "        (2): ConvLayer(\n",
              "          (conv): Conv2d(144, 32, kernel_size=(1, 1), stride=(1, 1), bias=False)\n",
              "          (norm): BatchNorm2d(32, eps=1e-05, momentum=0.1, affine=True, track_running_stats=True)\n",
              "        )\n",
              "      )\n",
              "      (dropout): Dropout2d(p=0.1, inplace=False)\n",
              "    )\n",
              "    (4): InvertedBottleneckBlock(\n",
              "      (bottleneck): Sequential(\n",
              "        (0): ConvLayer(\n",
              "          (conv): Conv2d(32, 192, kernel_size=(1, 1), stride=(1, 1), bias=False)\n",
              "          (norm): BatchNorm2d(192, eps=1e-05, momentum=0.1, affine=True, track_running_stats=True)\n",
              "          (activation): ReLU6(inplace=True)\n",
              "        )\n",
              "        (1): ConvLayer(\n",
              "          (conv): Conv2d(192, 192, kernel_size=(3, 3), stride=(1, 1), padding=(1, 1), groups=192, bias=False)\n",
              "          (norm): BatchNorm2d(192, eps=1e-05, momentum=0.1, affine=True, track_running_stats=True)\n",
              "          (activation): ReLU6(inplace=True)\n",
              "        )\n",
              "        (2): ConvLayer(\n",
              "          (conv): Conv2d(192, 32, kernel_size=(1, 1), stride=(1, 1), bias=False)\n",
              "          (norm): BatchNorm2d(32, eps=1e-05, momentum=0.1, affine=True, track_running_stats=True)\n",
              "        )\n",
              "      )\n",
              "      (dropout): Dropout2d(p=0.1, inplace=False)\n",
              "    )\n",
              "    (5): InvertedBottleneckBlock(\n",
              "      (bottleneck): Sequential(\n",
              "        (0): ConvLayer(\n",
              "          (conv): Conv2d(32, 192, kernel_size=(1, 1), stride=(1, 1), bias=False)\n",
              "          (norm): BatchNorm2d(192, eps=1e-05, momentum=0.1, affine=True, track_running_stats=True)\n",
              "          (activation): ReLU6(inplace=True)\n",
              "        )\n",
              "        (1): ConvLayer(\n",
              "          (conv): Conv2d(192, 192, kernel_size=(3, 3), stride=(1, 1), padding=(1, 1), groups=192, bias=False)\n",
              "          (norm): BatchNorm2d(192, eps=1e-05, momentum=0.1, affine=True, track_running_stats=True)\n",
              "          (activation): ReLU6(inplace=True)\n",
              "        )\n",
              "        (2): ConvLayer(\n",
              "          (conv): Conv2d(192, 32, kernel_size=(1, 1), stride=(1, 1), bias=False)\n",
              "          (norm): BatchNorm2d(32, eps=1e-05, momentum=0.1, affine=True, track_running_stats=True)\n",
              "        )\n",
              "      )\n",
              "      (dropout): Dropout2d(p=0.1, inplace=False)\n",
              "    )\n",
              "    (6): InvertedBottleneckBlock(\n",
              "      (bottleneck): Sequential(\n",
              "        (0): ConvLayer(\n",
              "          (conv): Conv2d(32, 192, kernel_size=(1, 1), stride=(1, 1), bias=False)\n",
              "          (norm): BatchNorm2d(192, eps=1e-05, momentum=0.1, affine=True, track_running_stats=True)\n",
              "          (activation): ReLU6(inplace=True)\n",
              "        )\n",
              "        (1): ConvLayer(\n",
              "          (conv): Conv2d(192, 192, kernel_size=(3, 3), stride=(2, 2), padding=(1, 1), groups=192, bias=False)\n",
              "          (norm): BatchNorm2d(192, eps=1e-05, momentum=0.1, affine=True, track_running_stats=True)\n",
              "          (activation): ReLU6(inplace=True)\n",
              "        )\n",
              "        (2): ConvLayer(\n",
              "          (conv): Conv2d(192, 64, kernel_size=(1, 1), stride=(1, 1), bias=False)\n",
              "          (norm): BatchNorm2d(64, eps=1e-05, momentum=0.1, affine=True, track_running_stats=True)\n",
              "        )\n",
              "      )\n",
              "      (dropout): Dropout2d(p=0.1, inplace=False)\n",
              "    )\n",
              "    (7): InvertedBottleneckBlock(\n",
              "      (bottleneck): Sequential(\n",
              "        (0): ConvLayer(\n",
              "          (conv): Conv2d(64, 384, kernel_size=(1, 1), stride=(1, 1), bias=False)\n",
              "          (norm): BatchNorm2d(384, eps=1e-05, momentum=0.1, affine=True, track_running_stats=True)\n",
              "          (activation): ReLU6(inplace=True)\n",
              "        )\n",
              "        (1): ConvLayer(\n",
              "          (conv): Conv2d(384, 384, kernel_size=(3, 3), stride=(1, 1), padding=(1, 1), groups=384, bias=False)\n",
              "          (norm): BatchNorm2d(384, eps=1e-05, momentum=0.1, affine=True, track_running_stats=True)\n",
              "          (activation): ReLU6(inplace=True)\n",
              "        )\n",
              "        (2): ConvLayer(\n",
              "          (conv): Conv2d(384, 64, kernel_size=(1, 1), stride=(1, 1), bias=False)\n",
              "          (norm): BatchNorm2d(64, eps=1e-05, momentum=0.1, affine=True, track_running_stats=True)\n",
              "        )\n",
              "      )\n",
              "      (dropout): Dropout2d(p=0.1, inplace=False)\n",
              "    )\n",
              "    (8): InvertedBottleneckBlock(\n",
              "      (bottleneck): Sequential(\n",
              "        (0): ConvLayer(\n",
              "          (conv): Conv2d(64, 384, kernel_size=(1, 1), stride=(1, 1), bias=False)\n",
              "          (norm): BatchNorm2d(384, eps=1e-05, momentum=0.1, affine=True, track_running_stats=True)\n",
              "          (activation): ReLU6(inplace=True)\n",
              "        )\n",
              "        (1): ConvLayer(\n",
              "          (conv): Conv2d(384, 384, kernel_size=(3, 3), stride=(1, 1), padding=(1, 1), groups=384, bias=False)\n",
              "          (norm): BatchNorm2d(384, eps=1e-05, momentum=0.1, affine=True, track_running_stats=True)\n",
              "          (activation): ReLU6(inplace=True)\n",
              "        )\n",
              "        (2): ConvLayer(\n",
              "          (conv): Conv2d(384, 64, kernel_size=(1, 1), stride=(1, 1), bias=False)\n",
              "          (norm): BatchNorm2d(64, eps=1e-05, momentum=0.1, affine=True, track_running_stats=True)\n",
              "        )\n",
              "      )\n",
              "      (dropout): Dropout2d(p=0.1, inplace=False)\n",
              "    )\n",
              "    (9): InvertedBottleneckBlock(\n",
              "      (bottleneck): Sequential(\n",
              "        (0): ConvLayer(\n",
              "          (conv): Conv2d(64, 384, kernel_size=(1, 1), stride=(1, 1), bias=False)\n",
              "          (norm): BatchNorm2d(384, eps=1e-05, momentum=0.1, affine=True, track_running_stats=True)\n",
              "          (activation): ReLU6(inplace=True)\n",
              "        )\n",
              "        (1): ConvLayer(\n",
              "          (conv): Conv2d(384, 384, kernel_size=(3, 3), stride=(1, 1), padding=(1, 1), groups=384, bias=False)\n",
              "          (norm): BatchNorm2d(384, eps=1e-05, momentum=0.1, affine=True, track_running_stats=True)\n",
              "          (activation): ReLU6(inplace=True)\n",
              "        )\n",
              "        (2): ConvLayer(\n",
              "          (conv): Conv2d(384, 64, kernel_size=(1, 1), stride=(1, 1), bias=False)\n",
              "          (norm): BatchNorm2d(64, eps=1e-05, momentum=0.1, affine=True, track_running_stats=True)\n",
              "        )\n",
              "      )\n",
              "      (dropout): Dropout2d(p=0.1, inplace=False)\n",
              "    )\n",
              "    (10): InvertedBottleneckBlock(\n",
              "      (bottleneck): Sequential(\n",
              "        (0): ConvLayer(\n",
              "          (conv): Conv2d(64, 384, kernel_size=(1, 1), stride=(1, 1), bias=False)\n",
              "          (norm): BatchNorm2d(384, eps=1e-05, momentum=0.1, affine=True, track_running_stats=True)\n",
              "          (activation): ReLU6(inplace=True)\n",
              "        )\n",
              "        (1): ConvLayer(\n",
              "          (conv): Conv2d(384, 384, kernel_size=(3, 3), stride=(1, 1), padding=(1, 1), groups=384, bias=False)\n",
              "          (norm): BatchNorm2d(384, eps=1e-05, momentum=0.1, affine=True, track_running_stats=True)\n",
              "          (activation): ReLU6(inplace=True)\n",
              "        )\n",
              "        (2): ConvLayer(\n",
              "          (conv): Conv2d(384, 96, kernel_size=(1, 1), stride=(1, 1), bias=False)\n",
              "          (norm): BatchNorm2d(96, eps=1e-05, momentum=0.1, affine=True, track_running_stats=True)\n",
              "        )\n",
              "      )\n",
              "      (dropout): Dropout2d(p=0.1, inplace=False)\n",
              "    )\n",
              "    (11): InvertedBottleneckBlock(\n",
              "      (bottleneck): Sequential(\n",
              "        (0): ConvLayer(\n",
              "          (conv): Conv2d(96, 576, kernel_size=(1, 1), stride=(1, 1), bias=False)\n",
              "          (norm): BatchNorm2d(576, eps=1e-05, momentum=0.1, affine=True, track_running_stats=True)\n",
              "          (activation): ReLU6(inplace=True)\n",
              "        )\n",
              "        (1): ConvLayer(\n",
              "          (conv): Conv2d(576, 576, kernel_size=(3, 3), stride=(1, 1), padding=(1, 1), groups=576, bias=False)\n",
              "          (norm): BatchNorm2d(576, eps=1e-05, momentum=0.1, affine=True, track_running_stats=True)\n",
              "          (activation): ReLU6(inplace=True)\n",
              "        )\n",
              "        (2): ConvLayer(\n",
              "          (conv): Conv2d(576, 96, kernel_size=(1, 1), stride=(1, 1), bias=False)\n",
              "          (norm): BatchNorm2d(96, eps=1e-05, momentum=0.1, affine=True, track_running_stats=True)\n",
              "        )\n",
              "      )\n",
              "      (dropout): Dropout2d(p=0.1, inplace=False)\n",
              "    )\n",
              "    (12): InvertedBottleneckBlock(\n",
              "      (bottleneck): Sequential(\n",
              "        (0): ConvLayer(\n",
              "          (conv): Conv2d(96, 576, kernel_size=(1, 1), stride=(1, 1), bias=False)\n",
              "          (norm): BatchNorm2d(576, eps=1e-05, momentum=0.1, affine=True, track_running_stats=True)\n",
              "          (activation): ReLU6(inplace=True)\n",
              "        )\n",
              "        (1): ConvLayer(\n",
              "          (conv): Conv2d(576, 576, kernel_size=(3, 3), stride=(1, 1), padding=(1, 1), groups=576, bias=False)\n",
              "          (norm): BatchNorm2d(576, eps=1e-05, momentum=0.1, affine=True, track_running_stats=True)\n",
              "          (activation): ReLU6(inplace=True)\n",
              "        )\n",
              "        (2): ConvLayer(\n",
              "          (conv): Conv2d(576, 96, kernel_size=(1, 1), stride=(1, 1), bias=False)\n",
              "          (norm): BatchNorm2d(96, eps=1e-05, momentum=0.1, affine=True, track_running_stats=True)\n",
              "        )\n",
              "      )\n",
              "      (dropout): Dropout2d(p=0.1, inplace=False)\n",
              "    )\n",
              "    (13): InvertedBottleneckBlock(\n",
              "      (bottleneck): Sequential(\n",
              "        (0): ConvLayer(\n",
              "          (conv): Conv2d(96, 576, kernel_size=(1, 1), stride=(1, 1), bias=False)\n",
              "          (norm): BatchNorm2d(576, eps=1e-05, momentum=0.1, affine=True, track_running_stats=True)\n",
              "          (activation): ReLU6(inplace=True)\n",
              "        )\n",
              "        (1): ConvLayer(\n",
              "          (conv): Conv2d(576, 576, kernel_size=(3, 3), stride=(2, 2), padding=(1, 1), groups=576, bias=False)\n",
              "          (norm): BatchNorm2d(576, eps=1e-05, momentum=0.1, affine=True, track_running_stats=True)\n",
              "          (activation): ReLU6(inplace=True)\n",
              "        )\n",
              "        (2): ConvLayer(\n",
              "          (conv): Conv2d(576, 160, kernel_size=(1, 1), stride=(1, 1), bias=False)\n",
              "          (norm): BatchNorm2d(160, eps=1e-05, momentum=0.1, affine=True, track_running_stats=True)\n",
              "        )\n",
              "      )\n",
              "      (dropout): Dropout2d(p=0.1, inplace=False)\n",
              "    )\n",
              "    (14): InvertedBottleneckBlock(\n",
              "      (bottleneck): Sequential(\n",
              "        (0): ConvLayer(\n",
              "          (conv): Conv2d(160, 960, kernel_size=(1, 1), stride=(1, 1), bias=False)\n",
              "          (norm): BatchNorm2d(960, eps=1e-05, momentum=0.1, affine=True, track_running_stats=True)\n",
              "          (activation): ReLU6(inplace=True)\n",
              "        )\n",
              "        (1): ConvLayer(\n",
              "          (conv): Conv2d(960, 960, kernel_size=(3, 3), stride=(1, 1), padding=(1, 1), groups=960, bias=False)\n",
              "          (norm): BatchNorm2d(960, eps=1e-05, momentum=0.1, affine=True, track_running_stats=True)\n",
              "          (activation): ReLU6(inplace=True)\n",
              "        )\n",
              "        (2): ConvLayer(\n",
              "          (conv): Conv2d(960, 160, kernel_size=(1, 1), stride=(1, 1), bias=False)\n",
              "          (norm): BatchNorm2d(160, eps=1e-05, momentum=0.1, affine=True, track_running_stats=True)\n",
              "        )\n",
              "      )\n",
              "      (dropout): Dropout2d(p=0.1, inplace=False)\n",
              "    )\n",
              "    (15): InvertedBottleneckBlock(\n",
              "      (bottleneck): Sequential(\n",
              "        (0): ConvLayer(\n",
              "          (conv): Conv2d(160, 960, kernel_size=(1, 1), stride=(1, 1), bias=False)\n",
              "          (norm): BatchNorm2d(960, eps=1e-05, momentum=0.1, affine=True, track_running_stats=True)\n",
              "          (activation): ReLU6(inplace=True)\n",
              "        )\n",
              "        (1): ConvLayer(\n",
              "          (conv): Conv2d(960, 960, kernel_size=(3, 3), stride=(1, 1), padding=(1, 1), groups=960, bias=False)\n",
              "          (norm): BatchNorm2d(960, eps=1e-05, momentum=0.1, affine=True, track_running_stats=True)\n",
              "          (activation): ReLU6(inplace=True)\n",
              "        )\n",
              "        (2): ConvLayer(\n",
              "          (conv): Conv2d(960, 160, kernel_size=(1, 1), stride=(1, 1), bias=False)\n",
              "          (norm): BatchNorm2d(160, eps=1e-05, momentum=0.1, affine=True, track_running_stats=True)\n",
              "        )\n",
              "      )\n",
              "      (dropout): Dropout2d(p=0.1, inplace=False)\n",
              "    )\n",
              "    (16): InvertedBottleneckBlock(\n",
              "      (bottleneck): Sequential(\n",
              "        (0): ConvLayer(\n",
              "          (conv): Conv2d(160, 960, kernel_size=(1, 1), stride=(1, 1), bias=False)\n",
              "          (norm): BatchNorm2d(960, eps=1e-05, momentum=0.1, affine=True, track_running_stats=True)\n",
              "          (activation): ReLU6(inplace=True)\n",
              "        )\n",
              "        (1): ConvLayer(\n",
              "          (conv): Conv2d(960, 960, kernel_size=(3, 3), stride=(1, 1), padding=(1, 1), groups=960, bias=False)\n",
              "          (norm): BatchNorm2d(960, eps=1e-05, momentum=0.1, affine=True, track_running_stats=True)\n",
              "          (activation): ReLU6(inplace=True)\n",
              "        )\n",
              "        (2): ConvLayer(\n",
              "          (conv): Conv2d(960, 320, kernel_size=(1, 1), stride=(1, 1), bias=False)\n",
              "          (norm): BatchNorm2d(320, eps=1e-05, momentum=0.1, affine=True, track_running_stats=True)\n",
              "        )\n",
              "      )\n",
              "      (dropout): Dropout2d(p=0.1, inplace=False)\n",
              "    )\n",
              "    (17): ConvLayer(\n",
              "      (conv): Conv2d(320, 1280, kernel_size=(1, 1), stride=(1, 1), bias=False)\n",
              "      (norm): BatchNorm2d(1280, eps=1e-05, momentum=0.1, affine=True, track_running_stats=True)\n",
              "      (activation): ReLU6(inplace=True)\n",
              "    )\n",
              "  )\n",
              "  (average_pool): AdaptiveAvgPool2d(output_size=(1, 1))\n",
              "  (fc_out): Sequential(\n",
              "    (0): Dropout(p=0.1, inplace=False)\n",
              "    (1): ConvLayer(\n",
              "      (conv): Conv2d(1280, 1000, kernel_size=(1, 1), stride=(1, 1))\n",
              "    )\n",
              "  )\n",
              ")"
            ]
          },
          "metadata": {},
          "execution_count": 13
        }
      ]
    },
    {
      "cell_type": "code",
      "source": [
        "# https://hackmd.io/@machine-learning/ryaDuxe5L\n",
        "# https://github.com/PolinaDruzhinina/mobilenet/blob/master/models/mobilenetv2.py"
      ],
      "metadata": {
        "id": "RrIRqUIVK4sy"
      },
      "execution_count": null,
      "outputs": []
    },
    {
      "cell_type": "markdown",
      "source": [
        "# MobileNetV3\n",
        "\n",
        "The MobileNetV3 paper introduced a new \"Inverted Bottleneck Residual\" block with SE (Squeeze-and-Excitation) and h-swish activation (a variant of ReLU6).\n",
        "\n",
        "- **Inverted Bottleneck Residual Block V3:** Evolves the Inverted Bottleneck Residual Block from V2 by applying an **optional SE module** after the depthwise convolution.\n",
        "\n",
        "- **Squeeze-and-Excitation (SE) module:** It first applies global average pooling to squeeze spatial dimensions, then processes the vector with a two-layer fully connected network (implemented here with 1x1 convolutions) to compute channel-wise scaling factors. The first conv reduces the channel dimension, applies an activation (default ReLU), and the second conv followed by an h-sigmoid activation, generate weights that re-scale the original feature maps.\n",
        "\n",
        "https://arxiv.org/abs/1905.02244v5"
      ],
      "metadata": {
        "id": "hoJjldvJVbwI"
      }
    },
    {
      "cell_type": "code",
      "source": [
        "class HSwish(nn.Module):\n",
        "    \"\"\"\n",
        "    Implements the h-swish activation function.\n",
        "    \"\"\"\n",
        "\n",
        "    def __init__(self, inplace=True) -> None:\n",
        "        super(HSwish, self).__init__()\n",
        "        self.inplace= inplace\n",
        "\n",
        "\n",
        "    def extra_repr(self):\n",
        "        return f\"inplace={self.inplace}\"\n",
        "\n",
        "\n",
        "    def forward(self, x):\n",
        "        return x * F.relu6(x + 3.0, inplace=self.inplace) / 6.0\n",
        "\n",
        "\n",
        "\n",
        "class HSigmoid(nn.Module):\n",
        "    \"\"\"\n",
        "    Implements the h-sigmoid activation function.\n",
        "    \"\"\"\n",
        "\n",
        "    def __init__(self, inplace=True) -> None:\n",
        "        super(HSigmoid, self).__init__()\n",
        "        self.inplace= inplace\n",
        "\n",
        "\n",
        "    def extra_repr(self):\n",
        "        return f\"inplace={self.inplace}\"\n",
        "\n",
        "\n",
        "    def forward(self, x):\n",
        "        return F.relu6(x + 3.0, inplace=self.inplace) / 6.0\n"
      ],
      "metadata": {
        "id": "_tgyuslTVdWe"
      },
      "execution_count": 14,
      "outputs": []
    },
    {
      "cell_type": "markdown",
      "source": [
        "**NOTE:** When the number of channels is very low, a strict 1/4 reduction may produce an excessively small intermediate dimension, which can hurt the expressiveness and utility of the **SE block**. To avoid this, we adjust the reduction ratio or impose a minimum number of channels in the bottleneck."
      ],
      "metadata": {
        "id": "xfwwHIwDsyB7"
      }
    },
    {
      "cell_type": "code",
      "source": [
        "class SqueezeExcitation(nn.Module):\n",
        "    \"\"\"\n",
        "    Implements a Squeeze-and-Excitation module.\n",
        "    It squeezes global spatial information into a channel descriptor and re-scales the channels.\n",
        "    \"\"\"\n",
        "\n",
        "    def __init__(self, in_channels, reduction=4, activation=None) -> None:\n",
        "        super(SqueezeExcitation, self).__init__()\n",
        "        # Activation function -- ReLU is the default in SE module of MobileNetV3\n",
        "        activation= nn.ReLU(inplace=True) if activation is None else activation\n",
        "        # For squeeze and excitation convs\n",
        "        hidden_dim= int(in_channels // reduction) if int(in_channels // reduction) >= 8 else 8\n",
        "\n",
        "        # Global average pooling: squeeze spatial dimensions\n",
        "        self.average_pool= nn.AdaptiveAvgPool2d(output_size=(1, 1))\n",
        "        # 1x1 convolution reduces the channel dimension\n",
        "        self.conv1= ConvLayer(\n",
        "            in_channels, hidden_dim, kernel_size=1, stride=1, padding=0,\n",
        "            bias=True, norm=False, activation=activation\n",
        "        )\n",
        "        # 1x1 convolution restores the channel dimension\n",
        "        self.conv2= ConvLayer(\n",
        "            hidden_dim, in_channels, kernel_size=1, stride=1, padding=0,\n",
        "            bias=True, norm=False, activation=HSigmoid(inplace=True)\n",
        "        )\n",
        "\n",
        "\n",
        "    def forward(self, x):\n",
        "        se= self.average_pool(x)\n",
        "        se= self.conv1(se)\n",
        "        se= self.conv2(se)\n",
        "\n",
        "        return x * se\n"
      ],
      "metadata": {
        "id": "iubt5aKOJjU1"
      },
      "execution_count": 15,
      "outputs": []
    },
    {
      "cell_type": "markdown",
      "source": [
        "The Inverted Bottleneck Residual Block V3 (aka MBConv block) performs the following steps:\n",
        "- (Optional) Expansion via a 1x1 convolution. If the expansion ratio is 1, this step is skipped.\n",
        "- Depthwise convolution with a configurable kernel size and stride.\n",
        "- (Optional) Squeeze-and-Excitation (SE) module to recalibrate channel-wise features.\n",
        "- Projection via a 1x1 convolution that reduces the channels to the target output.\n",
        "- Optional dropout.\n",
        "- A residual (skip) connection is used when the stride is 1 and the input and output dimensions match."
      ],
      "metadata": {
        "id": "i_dRgru6u28l"
      }
    },
    {
      "cell_type": "code",
      "source": [
        "class MBConv(nn.Module):\n",
        "    \"\"\"\n",
        "    Implements the Inverted Bottleneck Residual Block with SE module as used in MobileNetV3.\n",
        "    \"\"\"\n",
        "\n",
        "    def __init__(self, in_channels, out_channels, kernel_size, stride, expansion, use_se,\n",
        "                 activation=None, dropout=0.1) -> None:\n",
        "        super(MBConv, self).__init__()\n",
        "        assert stride in [1, 2], \"Stride must be 1 or 2.\"\n",
        "        # Activation function -- HSwish is the default in MobileNetV3\n",
        "        activation= HSwish(inplace=True) if activation is None else activation\n",
        "        # Define dimensions for intermediate layers\n",
        "        hidden_dim= round(in_channels * expansion)\n",
        "\n",
        "        # The inverted bottleneck block\n",
        "        self.bottleneck= nn.Sequential(\n",
        "            # Expansion phase (1x1 convolution) when expansion != 1\n",
        "            ConvLayer(\n",
        "                in_channels, hidden_dim, kernel_size=1, stride=1, padding=0,\n",
        "                bias=False, activation=activation\n",
        "            ) if expansion!= 1 else nn.Identity(),\n",
        "            # Depthwise convolution (3x3, with groups=hidden_dim)\n",
        "            ConvLayer(\n",
        "                hidden_dim, hidden_dim, kernel_size=kernel_size, stride=stride,\n",
        "                padding=(kernel_size - 1) // 2, groups=hidden_dim, bias=False, activation=activation\n",
        "            ),\n",
        "            # Squeeze-and-Excitation block when enabled\n",
        "            SqueezeExcitation(hidden_dim) if use_se else nn.Identity(),\n",
        "            # Pointwise convolution (1x1 convolution) without activation\n",
        "            ConvLayer(\n",
        "                hidden_dim, out_channels, kernel_size=1, stride=1, padding=0,\n",
        "                bias=False, activation=None\n",
        "            ),\n",
        "        )\n",
        "        # Dropout module for regularization\n",
        "        self.dropout= nn.Dropout2d(p=dropout) if dropout> 0.0 else None\n",
        "        # When dim(x) == dim(F) and no spatial downsampling is applied -> use residual connection\n",
        "        self.use_residual= (stride== 1 and in_channels== out_channels)\n",
        "\n",
        "\n",
        "    def forward(self, x):\n",
        "        out= self.bottleneck(x)\n",
        "        if self.dropout is not None:\n",
        "            out= self.dropout(out)\n",
        "        if self.use_residual:\n",
        "            out= out + x\n",
        "\n",
        "        return out\n"
      ],
      "metadata": {
        "id": "gDXYZAVGJjZC"
      },
      "execution_count": 16,
      "outputs": []
    },
    {
      "cell_type": "markdown",
      "source": [
        "# Define configs for different MobileNetV3 versions"
      ],
      "metadata": {
        "id": "kF1an_kf3mw9"
      }
    },
    {
      "cell_type": "code",
      "source": [
        "mobilenetv3_small_config= [\n",
        "    # (expansion, out_channels, num_blocks, stride, use_se, kernel_size, nonlinearity used)\n",
        "    (1.0,  16, 1, 2, True,  3, 'RE'),   # Block 1\n",
        "    (4.5,  24, 1, 2, False, 3, 'RE'),   # Block 2\n",
        "    (3.67, 24, 1, 1, False, 3, 'RE'),   # Block 3\n",
        "    (4.0,  40, 1, 2, True,  5, 'HS'),   # Block 4\n",
        "    (6.0,  40, 2, 1, True,  5, 'HS'),   # Block 5-6\n",
        "    (3.0,  48, 1, 2, True,  5, 'HS'),   # Block 7\n",
        "    (3.0,  48, 1, 1, True,  5, 'HS'),   # Block 8\n",
        "    (6.0,  96, 2, 2, True,  5, 'HS'),   # Block 9-10\n",
        "    (6.0,  96, 1, 1, True,  5, 'HS'),   # Block 11\n",
        "]\n",
        "\n",
        "mobilenetv3_large_config= [\n",
        "    # (t, c, n, s, se, k, nl)\n",
        "    (1.0,   16, 1, 1, False, 3, 'RE'),  # Block 1\n",
        "    (4.0,   24, 1, 2, False, 3, 'RE'),  # Block 2\n",
        "    (3.0,   24, 1, 1, False, 3, 'RE'),  # Block 3\n",
        "    (3.0,   40, 1, 2, True,  5, 'RE'),  # Block 4\n",
        "    (3.0,   40, 2, 1, True,  5, 'RE'),  # Block 5-6\n",
        "    (6.0,   80, 1, 2, False, 3, 'HS'),  # Block 7\n",
        "    (2.5,   80, 1, 1, False, 3, 'HS'),  # Block 8\n",
        "    (2.3,   80, 2, 1, False, 3, 'HS'),  # Block 9-10\n",
        "    (6.0,  112, 2, 1, True,  3, 'HS'),  # Block 11-12\n",
        "    (6.0,  160, 1, 2, True,  5, 'HS'),  # Block 13\n",
        "    (6.0,  160, 2, 1, True,  5, 'HS'),  # Block 14-15\n",
        "]\n",
        "\n",
        "mobilenetv3_configs= {\n",
        "    \"mobilenetv3_small\": mobilenetv3_small_config,\n",
        "    \"mobilenetv3_large\": mobilenetv3_large_config,\n",
        "}"
      ],
      "metadata": {
        "id": "SSCH3uCNVfXP"
      },
      "execution_count": 17,
      "outputs": []
    },
    {
      "cell_type": "markdown",
      "source": [
        "# Building the MobileNetV3 model\n",
        "\n",
        "This implementation uses a configuration (configs) that specifies a series of inverted residual blocks (MBConv blocks) with optional squeeze-and-excitation and varied kernel sizes. The architecture includes:\n",
        "\n",
        "- A stem convolution layer.\n",
        "- A stack of MBConv blocks defined by the provided configuration.\n",
        "- A final 1x1 convolution (projection) to produce the final feature dimension.\n",
        "- Global average pooling and an optional classification head."
      ],
      "metadata": {
        "id": "lw8OCiJRVm_X"
      }
    },
    {
      "cell_type": "code",
      "source": [
        "class MobileNetV3(nn.Module):\n",
        "    \"\"\"\n",
        "    Implements the MobileNetV3 architecture.\n",
        "    \"\"\"\n",
        "\n",
        "    def __init__(self, configs, in_channels, num_classes=None, stem_channels=16, width_mult=1.0,\n",
        "                 activation=None, dropout=0.1) -> None:\n",
        "        super(MobileNetV3, self).__init__()\n",
        "        # Activation function -- HSwish is the default in MobileNetV3\n",
        "        activation= HSwish(inplace=True) if activation is None else activation\n",
        "        # Calculate the stem_channels and out_channels\n",
        "        stem_channels= int(stem_channels * width_mult)\n",
        "\n",
        "        # Initial convolution layer\n",
        "        self.stem= ConvLayer(\n",
        "            in_channels, stem_channels, kernel_size=3, stride=2, padding=1, bias=False,\n",
        "            norm=True, activation=activation\n",
        "        )\n",
        "        # Build the (MBConv) Inverted Bottleneck Blocks\n",
        "        input_channels= stem_channels\n",
        "        features= []\n",
        "        for t, c, n, s, se, k, nl in configs:\n",
        "            output_channels= int(c * width_mult)\n",
        "            for i in range(n):\n",
        "                stride= s if i== 0 else 1\n",
        "                # Choose activation based on nl flag.\n",
        "                curr_activation= nn.ReLU(inplace=True) if nl == 'RE' else activation\n",
        "                features.append(\n",
        "                    MBConv(input_channels, output_channels, k, stride, t, se, curr_activation, dropout)\n",
        "                )\n",
        "                input_channels= output_channels  # update for next block\n",
        "\n",
        "        # Last 1x1 convolution (projection) layer\n",
        "        output_channels= int(t * c * width_mult)\n",
        "        features.append(\n",
        "            ConvLayer(\n",
        "                input_channels, output_channels, kernel_size=1, stride=1, padding=0,\n",
        "                bias=False, activation=activation\n",
        "            )\n",
        "        )\n",
        "        self.features= nn.Sequential(*features)\n",
        "\n",
        "        # For MobileNetV3-Large, the final feature dimension is fixed to 1280 for width_mult <= 1\n",
        "        last_channels= 1280 if len(self.features)> 13 else 1024\n",
        "        last_channels= int(last_channels * width_mult) if width_mult> 1.0 else last_channels\n",
        "\n",
        "        # Pooling and classification head to produce the class logits\n",
        "        self.average_pool= nn.AdaptiveAvgPool2d((1, 1))\n",
        "        self.fc_out= nn.Sequential(\n",
        "            ConvLayer(\n",
        "                output_channels, last_channels, kernel_size=1, stride=1, padding=0,\n",
        "                bias=True, norm=False, activation=activation\n",
        "            ),\n",
        "            nn.Dropout(p=dropout),\n",
        "            ConvLayer(\n",
        "                last_channels, num_classes, kernel_size=1, stride=1, padding=0,\n",
        "                bias=True, norm=False, activation=None\n",
        "            ),\n",
        "        ) if num_classes is not None else None\n",
        "\n",
        "        # initialize parameters with Xavier\n",
        "        for m in self.modules():\n",
        "            if isinstance(m, nn.Conv2d) or isinstance(m, nn.Linear):\n",
        "                nn.init.xavier_uniform_(m.weight)\n",
        "                if m.bias is not None: nn.init.zeros_(m.bias)\n",
        "            elif isinstance(m, nn.BatchNorm2d):\n",
        "                nn.init.constant_(m.weight, 1.0)\n",
        "                nn.init.constant_(m.bias, 0.0)\n",
        "\n",
        "\n",
        "    def forward(self, x):\n",
        "        x= self.stem(x)\n",
        "        x= self.features(x)\n",
        "        x= self.average_pool(x)\n",
        "        if self.fc_out is not None:\n",
        "            x= self.fc_out(x)\n",
        "        x= x.view(x.size(0), -1)\n",
        "\n",
        "        return x\n"
      ],
      "metadata": {
        "id": "FxCduAtnVfbW"
      },
      "execution_count": 18,
      "outputs": []
    },
    {
      "cell_type": "code",
      "source": [
        "import torchvision.models as models\n",
        "from torchvision.models import MobileNet_V3_Large_Weights, MobileNet_V3_Small_Weights\n",
        "\n",
        "tvis_model_v3_large= models.mobilenet_v3_large(weights=MobileNet_V3_Large_Weights.DEFAULT).to(device)\n",
        "count_parameters(tvis_model_v3_large)\n",
        "print(tvis_model_v3_large(img).shape)"
      ],
      "metadata": {
        "colab": {
          "base_uri": "https://localhost:8080/"
        },
        "id": "rJ4rog383ISX",
        "outputId": "842fbdb2-ae6e-4624-ce79-76975183ec6a"
      },
      "execution_count": 19,
      "outputs": [
        {
          "output_type": "stream",
          "name": "stderr",
          "text": [
            "Downloading: \"https://download.pytorch.org/models/mobilenet_v3_large-5c1a4163.pth\" to /root/.cache/torch/hub/checkpoints/mobilenet_v3_large-5c1a4163.pth\n",
            "100%|██████████| 21.1M/21.1M [00:00<00:00, 68.7MB/s]"
          ]
        },
        {
          "output_type": "stream",
          "name": "stdout",
          "text": [
            "Number of parameters: 5483032\n",
            "torch.Size([1, 1000])\n"
          ]
        },
        {
          "output_type": "stream",
          "name": "stderr",
          "text": [
            "\n"
          ]
        }
      ]
    },
    {
      "cell_type": "code",
      "source": [
        "model_v3= MobileNetV3(mobilenetv3_configs['mobilenetv3_large'], in_channels=3,\n",
        "                      num_classes=1000).to(device)\n",
        "count_parameters(model_v3)\n",
        "print(model_v3(img).shape)\n",
        "model_v3"
      ],
      "metadata": {
        "colab": {
          "base_uri": "https://localhost:8080/"
        },
        "id": "IerynySe3IY5",
        "outputId": "8b2c2acc-3798-4325-e799-24fdad64d55e"
      },
      "execution_count": 20,
      "outputs": [
        {
          "output_type": "stream",
          "name": "stdout",
          "text": [
            "Number of parameters: 5481198\n",
            "torch.Size([1, 1000])\n"
          ]
        },
        {
          "output_type": "execute_result",
          "data": {
            "text/plain": [
              "MobileNetV3(\n",
              "  (stem): ConvLayer(\n",
              "    (conv): Conv2d(3, 16, kernel_size=(3, 3), stride=(2, 2), padding=(1, 1), bias=False)\n",
              "    (norm): BatchNorm2d(16, eps=1e-05, momentum=0.1, affine=True, track_running_stats=True)\n",
              "    (activation): HSwish(inplace=True)\n",
              "  )\n",
              "  (features): Sequential(\n",
              "    (0): MBConv(\n",
              "      (bottleneck): Sequential(\n",
              "        (0): Identity()\n",
              "        (1): ConvLayer(\n",
              "          (conv): Conv2d(16, 16, kernel_size=(3, 3), stride=(1, 1), padding=(1, 1), groups=16, bias=False)\n",
              "          (norm): BatchNorm2d(16, eps=1e-05, momentum=0.1, affine=True, track_running_stats=True)\n",
              "          (activation): ReLU(inplace=True)\n",
              "        )\n",
              "        (2): Identity()\n",
              "        (3): ConvLayer(\n",
              "          (conv): Conv2d(16, 16, kernel_size=(1, 1), stride=(1, 1), bias=False)\n",
              "          (norm): BatchNorm2d(16, eps=1e-05, momentum=0.1, affine=True, track_running_stats=True)\n",
              "        )\n",
              "      )\n",
              "      (dropout): Dropout2d(p=0.1, inplace=False)\n",
              "    )\n",
              "    (1): MBConv(\n",
              "      (bottleneck): Sequential(\n",
              "        (0): ConvLayer(\n",
              "          (conv): Conv2d(16, 64, kernel_size=(1, 1), stride=(1, 1), bias=False)\n",
              "          (norm): BatchNorm2d(64, eps=1e-05, momentum=0.1, affine=True, track_running_stats=True)\n",
              "          (activation): ReLU(inplace=True)\n",
              "        )\n",
              "        (1): ConvLayer(\n",
              "          (conv): Conv2d(64, 64, kernel_size=(3, 3), stride=(2, 2), padding=(1, 1), groups=64, bias=False)\n",
              "          (norm): BatchNorm2d(64, eps=1e-05, momentum=0.1, affine=True, track_running_stats=True)\n",
              "          (activation): ReLU(inplace=True)\n",
              "        )\n",
              "        (2): Identity()\n",
              "        (3): ConvLayer(\n",
              "          (conv): Conv2d(64, 24, kernel_size=(1, 1), stride=(1, 1), bias=False)\n",
              "          (norm): BatchNorm2d(24, eps=1e-05, momentum=0.1, affine=True, track_running_stats=True)\n",
              "        )\n",
              "      )\n",
              "      (dropout): Dropout2d(p=0.1, inplace=False)\n",
              "    )\n",
              "    (2): MBConv(\n",
              "      (bottleneck): Sequential(\n",
              "        (0): ConvLayer(\n",
              "          (conv): Conv2d(24, 72, kernel_size=(1, 1), stride=(1, 1), bias=False)\n",
              "          (norm): BatchNorm2d(72, eps=1e-05, momentum=0.1, affine=True, track_running_stats=True)\n",
              "          (activation): ReLU(inplace=True)\n",
              "        )\n",
              "        (1): ConvLayer(\n",
              "          (conv): Conv2d(72, 72, kernel_size=(3, 3), stride=(1, 1), padding=(1, 1), groups=72, bias=False)\n",
              "          (norm): BatchNorm2d(72, eps=1e-05, momentum=0.1, affine=True, track_running_stats=True)\n",
              "          (activation): ReLU(inplace=True)\n",
              "        )\n",
              "        (2): Identity()\n",
              "        (3): ConvLayer(\n",
              "          (conv): Conv2d(72, 24, kernel_size=(1, 1), stride=(1, 1), bias=False)\n",
              "          (norm): BatchNorm2d(24, eps=1e-05, momentum=0.1, affine=True, track_running_stats=True)\n",
              "        )\n",
              "      )\n",
              "      (dropout): Dropout2d(p=0.1, inplace=False)\n",
              "    )\n",
              "    (3): MBConv(\n",
              "      (bottleneck): Sequential(\n",
              "        (0): ConvLayer(\n",
              "          (conv): Conv2d(24, 72, kernel_size=(1, 1), stride=(1, 1), bias=False)\n",
              "          (norm): BatchNorm2d(72, eps=1e-05, momentum=0.1, affine=True, track_running_stats=True)\n",
              "          (activation): ReLU(inplace=True)\n",
              "        )\n",
              "        (1): ConvLayer(\n",
              "          (conv): Conv2d(72, 72, kernel_size=(5, 5), stride=(2, 2), padding=(2, 2), groups=72, bias=False)\n",
              "          (norm): BatchNorm2d(72, eps=1e-05, momentum=0.1, affine=True, track_running_stats=True)\n",
              "          (activation): ReLU(inplace=True)\n",
              "        )\n",
              "        (2): SqueezeExcitation(\n",
              "          (average_pool): AdaptiveAvgPool2d(output_size=(1, 1))\n",
              "          (conv1): ConvLayer(\n",
              "            (conv): Conv2d(72, 18, kernel_size=(1, 1), stride=(1, 1))\n",
              "            (activation): ReLU(inplace=True)\n",
              "          )\n",
              "          (conv2): ConvLayer(\n",
              "            (conv): Conv2d(18, 72, kernel_size=(1, 1), stride=(1, 1))\n",
              "            (activation): HSigmoid(inplace=True)\n",
              "          )\n",
              "        )\n",
              "        (3): ConvLayer(\n",
              "          (conv): Conv2d(72, 40, kernel_size=(1, 1), stride=(1, 1), bias=False)\n",
              "          (norm): BatchNorm2d(40, eps=1e-05, momentum=0.1, affine=True, track_running_stats=True)\n",
              "        )\n",
              "      )\n",
              "      (dropout): Dropout2d(p=0.1, inplace=False)\n",
              "    )\n",
              "    (4): MBConv(\n",
              "      (bottleneck): Sequential(\n",
              "        (0): ConvLayer(\n",
              "          (conv): Conv2d(40, 120, kernel_size=(1, 1), stride=(1, 1), bias=False)\n",
              "          (norm): BatchNorm2d(120, eps=1e-05, momentum=0.1, affine=True, track_running_stats=True)\n",
              "          (activation): ReLU(inplace=True)\n",
              "        )\n",
              "        (1): ConvLayer(\n",
              "          (conv): Conv2d(120, 120, kernel_size=(5, 5), stride=(1, 1), padding=(2, 2), groups=120, bias=False)\n",
              "          (norm): BatchNorm2d(120, eps=1e-05, momentum=0.1, affine=True, track_running_stats=True)\n",
              "          (activation): ReLU(inplace=True)\n",
              "        )\n",
              "        (2): SqueezeExcitation(\n",
              "          (average_pool): AdaptiveAvgPool2d(output_size=(1, 1))\n",
              "          (conv1): ConvLayer(\n",
              "            (conv): Conv2d(120, 30, kernel_size=(1, 1), stride=(1, 1))\n",
              "            (activation): ReLU(inplace=True)\n",
              "          )\n",
              "          (conv2): ConvLayer(\n",
              "            (conv): Conv2d(30, 120, kernel_size=(1, 1), stride=(1, 1))\n",
              "            (activation): HSigmoid(inplace=True)\n",
              "          )\n",
              "        )\n",
              "        (3): ConvLayer(\n",
              "          (conv): Conv2d(120, 40, kernel_size=(1, 1), stride=(1, 1), bias=False)\n",
              "          (norm): BatchNorm2d(40, eps=1e-05, momentum=0.1, affine=True, track_running_stats=True)\n",
              "        )\n",
              "      )\n",
              "      (dropout): Dropout2d(p=0.1, inplace=False)\n",
              "    )\n",
              "    (5): MBConv(\n",
              "      (bottleneck): Sequential(\n",
              "        (0): ConvLayer(\n",
              "          (conv): Conv2d(40, 120, kernel_size=(1, 1), stride=(1, 1), bias=False)\n",
              "          (norm): BatchNorm2d(120, eps=1e-05, momentum=0.1, affine=True, track_running_stats=True)\n",
              "          (activation): ReLU(inplace=True)\n",
              "        )\n",
              "        (1): ConvLayer(\n",
              "          (conv): Conv2d(120, 120, kernel_size=(5, 5), stride=(1, 1), padding=(2, 2), groups=120, bias=False)\n",
              "          (norm): BatchNorm2d(120, eps=1e-05, momentum=0.1, affine=True, track_running_stats=True)\n",
              "          (activation): ReLU(inplace=True)\n",
              "        )\n",
              "        (2): SqueezeExcitation(\n",
              "          (average_pool): AdaptiveAvgPool2d(output_size=(1, 1))\n",
              "          (conv1): ConvLayer(\n",
              "            (conv): Conv2d(120, 30, kernel_size=(1, 1), stride=(1, 1))\n",
              "            (activation): ReLU(inplace=True)\n",
              "          )\n",
              "          (conv2): ConvLayer(\n",
              "            (conv): Conv2d(30, 120, kernel_size=(1, 1), stride=(1, 1))\n",
              "            (activation): HSigmoid(inplace=True)\n",
              "          )\n",
              "        )\n",
              "        (3): ConvLayer(\n",
              "          (conv): Conv2d(120, 40, kernel_size=(1, 1), stride=(1, 1), bias=False)\n",
              "          (norm): BatchNorm2d(40, eps=1e-05, momentum=0.1, affine=True, track_running_stats=True)\n",
              "        )\n",
              "      )\n",
              "      (dropout): Dropout2d(p=0.1, inplace=False)\n",
              "    )\n",
              "    (6): MBConv(\n",
              "      (bottleneck): Sequential(\n",
              "        (0): ConvLayer(\n",
              "          (conv): Conv2d(40, 240, kernel_size=(1, 1), stride=(1, 1), bias=False)\n",
              "          (norm): BatchNorm2d(240, eps=1e-05, momentum=0.1, affine=True, track_running_stats=True)\n",
              "          (activation): HSwish(inplace=True)\n",
              "        )\n",
              "        (1): ConvLayer(\n",
              "          (conv): Conv2d(240, 240, kernel_size=(3, 3), stride=(2, 2), padding=(1, 1), groups=240, bias=False)\n",
              "          (norm): BatchNorm2d(240, eps=1e-05, momentum=0.1, affine=True, track_running_stats=True)\n",
              "          (activation): HSwish(inplace=True)\n",
              "        )\n",
              "        (2): Identity()\n",
              "        (3): ConvLayer(\n",
              "          (conv): Conv2d(240, 80, kernel_size=(1, 1), stride=(1, 1), bias=False)\n",
              "          (norm): BatchNorm2d(80, eps=1e-05, momentum=0.1, affine=True, track_running_stats=True)\n",
              "        )\n",
              "      )\n",
              "      (dropout): Dropout2d(p=0.1, inplace=False)\n",
              "    )\n",
              "    (7): MBConv(\n",
              "      (bottleneck): Sequential(\n",
              "        (0): ConvLayer(\n",
              "          (conv): Conv2d(80, 200, kernel_size=(1, 1), stride=(1, 1), bias=False)\n",
              "          (norm): BatchNorm2d(200, eps=1e-05, momentum=0.1, affine=True, track_running_stats=True)\n",
              "          (activation): HSwish(inplace=True)\n",
              "        )\n",
              "        (1): ConvLayer(\n",
              "          (conv): Conv2d(200, 200, kernel_size=(3, 3), stride=(1, 1), padding=(1, 1), groups=200, bias=False)\n",
              "          (norm): BatchNorm2d(200, eps=1e-05, momentum=0.1, affine=True, track_running_stats=True)\n",
              "          (activation): HSwish(inplace=True)\n",
              "        )\n",
              "        (2): Identity()\n",
              "        (3): ConvLayer(\n",
              "          (conv): Conv2d(200, 80, kernel_size=(1, 1), stride=(1, 1), bias=False)\n",
              "          (norm): BatchNorm2d(80, eps=1e-05, momentum=0.1, affine=True, track_running_stats=True)\n",
              "        )\n",
              "      )\n",
              "      (dropout): Dropout2d(p=0.1, inplace=False)\n",
              "    )\n",
              "    (8): MBConv(\n",
              "      (bottleneck): Sequential(\n",
              "        (0): ConvLayer(\n",
              "          (conv): Conv2d(80, 184, kernel_size=(1, 1), stride=(1, 1), bias=False)\n",
              "          (norm): BatchNorm2d(184, eps=1e-05, momentum=0.1, affine=True, track_running_stats=True)\n",
              "          (activation): HSwish(inplace=True)\n",
              "        )\n",
              "        (1): ConvLayer(\n",
              "          (conv): Conv2d(184, 184, kernel_size=(3, 3), stride=(1, 1), padding=(1, 1), groups=184, bias=False)\n",
              "          (norm): BatchNorm2d(184, eps=1e-05, momentum=0.1, affine=True, track_running_stats=True)\n",
              "          (activation): HSwish(inplace=True)\n",
              "        )\n",
              "        (2): Identity()\n",
              "        (3): ConvLayer(\n",
              "          (conv): Conv2d(184, 80, kernel_size=(1, 1), stride=(1, 1), bias=False)\n",
              "          (norm): BatchNorm2d(80, eps=1e-05, momentum=0.1, affine=True, track_running_stats=True)\n",
              "        )\n",
              "      )\n",
              "      (dropout): Dropout2d(p=0.1, inplace=False)\n",
              "    )\n",
              "    (9): MBConv(\n",
              "      (bottleneck): Sequential(\n",
              "        (0): ConvLayer(\n",
              "          (conv): Conv2d(80, 184, kernel_size=(1, 1), stride=(1, 1), bias=False)\n",
              "          (norm): BatchNorm2d(184, eps=1e-05, momentum=0.1, affine=True, track_running_stats=True)\n",
              "          (activation): HSwish(inplace=True)\n",
              "        )\n",
              "        (1): ConvLayer(\n",
              "          (conv): Conv2d(184, 184, kernel_size=(3, 3), stride=(1, 1), padding=(1, 1), groups=184, bias=False)\n",
              "          (norm): BatchNorm2d(184, eps=1e-05, momentum=0.1, affine=True, track_running_stats=True)\n",
              "          (activation): HSwish(inplace=True)\n",
              "        )\n",
              "        (2): Identity()\n",
              "        (3): ConvLayer(\n",
              "          (conv): Conv2d(184, 80, kernel_size=(1, 1), stride=(1, 1), bias=False)\n",
              "          (norm): BatchNorm2d(80, eps=1e-05, momentum=0.1, affine=True, track_running_stats=True)\n",
              "        )\n",
              "      )\n",
              "      (dropout): Dropout2d(p=0.1, inplace=False)\n",
              "    )\n",
              "    (10): MBConv(\n",
              "      (bottleneck): Sequential(\n",
              "        (0): ConvLayer(\n",
              "          (conv): Conv2d(80, 480, kernel_size=(1, 1), stride=(1, 1), bias=False)\n",
              "          (norm): BatchNorm2d(480, eps=1e-05, momentum=0.1, affine=True, track_running_stats=True)\n",
              "          (activation): HSwish(inplace=True)\n",
              "        )\n",
              "        (1): ConvLayer(\n",
              "          (conv): Conv2d(480, 480, kernel_size=(3, 3), stride=(1, 1), padding=(1, 1), groups=480, bias=False)\n",
              "          (norm): BatchNorm2d(480, eps=1e-05, momentum=0.1, affine=True, track_running_stats=True)\n",
              "          (activation): HSwish(inplace=True)\n",
              "        )\n",
              "        (2): SqueezeExcitation(\n",
              "          (average_pool): AdaptiveAvgPool2d(output_size=(1, 1))\n",
              "          (conv1): ConvLayer(\n",
              "            (conv): Conv2d(480, 120, kernel_size=(1, 1), stride=(1, 1))\n",
              "            (activation): ReLU(inplace=True)\n",
              "          )\n",
              "          (conv2): ConvLayer(\n",
              "            (conv): Conv2d(120, 480, kernel_size=(1, 1), stride=(1, 1))\n",
              "            (activation): HSigmoid(inplace=True)\n",
              "          )\n",
              "        )\n",
              "        (3): ConvLayer(\n",
              "          (conv): Conv2d(480, 112, kernel_size=(1, 1), stride=(1, 1), bias=False)\n",
              "          (norm): BatchNorm2d(112, eps=1e-05, momentum=0.1, affine=True, track_running_stats=True)\n",
              "        )\n",
              "      )\n",
              "      (dropout): Dropout2d(p=0.1, inplace=False)\n",
              "    )\n",
              "    (11): MBConv(\n",
              "      (bottleneck): Sequential(\n",
              "        (0): ConvLayer(\n",
              "          (conv): Conv2d(112, 672, kernel_size=(1, 1), stride=(1, 1), bias=False)\n",
              "          (norm): BatchNorm2d(672, eps=1e-05, momentum=0.1, affine=True, track_running_stats=True)\n",
              "          (activation): HSwish(inplace=True)\n",
              "        )\n",
              "        (1): ConvLayer(\n",
              "          (conv): Conv2d(672, 672, kernel_size=(3, 3), stride=(1, 1), padding=(1, 1), groups=672, bias=False)\n",
              "          (norm): BatchNorm2d(672, eps=1e-05, momentum=0.1, affine=True, track_running_stats=True)\n",
              "          (activation): HSwish(inplace=True)\n",
              "        )\n",
              "        (2): SqueezeExcitation(\n",
              "          (average_pool): AdaptiveAvgPool2d(output_size=(1, 1))\n",
              "          (conv1): ConvLayer(\n",
              "            (conv): Conv2d(672, 168, kernel_size=(1, 1), stride=(1, 1))\n",
              "            (activation): ReLU(inplace=True)\n",
              "          )\n",
              "          (conv2): ConvLayer(\n",
              "            (conv): Conv2d(168, 672, kernel_size=(1, 1), stride=(1, 1))\n",
              "            (activation): HSigmoid(inplace=True)\n",
              "          )\n",
              "        )\n",
              "        (3): ConvLayer(\n",
              "          (conv): Conv2d(672, 112, kernel_size=(1, 1), stride=(1, 1), bias=False)\n",
              "          (norm): BatchNorm2d(112, eps=1e-05, momentum=0.1, affine=True, track_running_stats=True)\n",
              "        )\n",
              "      )\n",
              "      (dropout): Dropout2d(p=0.1, inplace=False)\n",
              "    )\n",
              "    (12): MBConv(\n",
              "      (bottleneck): Sequential(\n",
              "        (0): ConvLayer(\n",
              "          (conv): Conv2d(112, 672, kernel_size=(1, 1), stride=(1, 1), bias=False)\n",
              "          (norm): BatchNorm2d(672, eps=1e-05, momentum=0.1, affine=True, track_running_stats=True)\n",
              "          (activation): HSwish(inplace=True)\n",
              "        )\n",
              "        (1): ConvLayer(\n",
              "          (conv): Conv2d(672, 672, kernel_size=(5, 5), stride=(2, 2), padding=(2, 2), groups=672, bias=False)\n",
              "          (norm): BatchNorm2d(672, eps=1e-05, momentum=0.1, affine=True, track_running_stats=True)\n",
              "          (activation): HSwish(inplace=True)\n",
              "        )\n",
              "        (2): SqueezeExcitation(\n",
              "          (average_pool): AdaptiveAvgPool2d(output_size=(1, 1))\n",
              "          (conv1): ConvLayer(\n",
              "            (conv): Conv2d(672, 168, kernel_size=(1, 1), stride=(1, 1))\n",
              "            (activation): ReLU(inplace=True)\n",
              "          )\n",
              "          (conv2): ConvLayer(\n",
              "            (conv): Conv2d(168, 672, kernel_size=(1, 1), stride=(1, 1))\n",
              "            (activation): HSigmoid(inplace=True)\n",
              "          )\n",
              "        )\n",
              "        (3): ConvLayer(\n",
              "          (conv): Conv2d(672, 160, kernel_size=(1, 1), stride=(1, 1), bias=False)\n",
              "          (norm): BatchNorm2d(160, eps=1e-05, momentum=0.1, affine=True, track_running_stats=True)\n",
              "        )\n",
              "      )\n",
              "      (dropout): Dropout2d(p=0.1, inplace=False)\n",
              "    )\n",
              "    (13): MBConv(\n",
              "      (bottleneck): Sequential(\n",
              "        (0): ConvLayer(\n",
              "          (conv): Conv2d(160, 960, kernel_size=(1, 1), stride=(1, 1), bias=False)\n",
              "          (norm): BatchNorm2d(960, eps=1e-05, momentum=0.1, affine=True, track_running_stats=True)\n",
              "          (activation): HSwish(inplace=True)\n",
              "        )\n",
              "        (1): ConvLayer(\n",
              "          (conv): Conv2d(960, 960, kernel_size=(5, 5), stride=(1, 1), padding=(2, 2), groups=960, bias=False)\n",
              "          (norm): BatchNorm2d(960, eps=1e-05, momentum=0.1, affine=True, track_running_stats=True)\n",
              "          (activation): HSwish(inplace=True)\n",
              "        )\n",
              "        (2): SqueezeExcitation(\n",
              "          (average_pool): AdaptiveAvgPool2d(output_size=(1, 1))\n",
              "          (conv1): ConvLayer(\n",
              "            (conv): Conv2d(960, 240, kernel_size=(1, 1), stride=(1, 1))\n",
              "            (activation): ReLU(inplace=True)\n",
              "          )\n",
              "          (conv2): ConvLayer(\n",
              "            (conv): Conv2d(240, 960, kernel_size=(1, 1), stride=(1, 1))\n",
              "            (activation): HSigmoid(inplace=True)\n",
              "          )\n",
              "        )\n",
              "        (3): ConvLayer(\n",
              "          (conv): Conv2d(960, 160, kernel_size=(1, 1), stride=(1, 1), bias=False)\n",
              "          (norm): BatchNorm2d(160, eps=1e-05, momentum=0.1, affine=True, track_running_stats=True)\n",
              "        )\n",
              "      )\n",
              "      (dropout): Dropout2d(p=0.1, inplace=False)\n",
              "    )\n",
              "    (14): MBConv(\n",
              "      (bottleneck): Sequential(\n",
              "        (0): ConvLayer(\n",
              "          (conv): Conv2d(160, 960, kernel_size=(1, 1), stride=(1, 1), bias=False)\n",
              "          (norm): BatchNorm2d(960, eps=1e-05, momentum=0.1, affine=True, track_running_stats=True)\n",
              "          (activation): HSwish(inplace=True)\n",
              "        )\n",
              "        (1): ConvLayer(\n",
              "          (conv): Conv2d(960, 960, kernel_size=(5, 5), stride=(1, 1), padding=(2, 2), groups=960, bias=False)\n",
              "          (norm): BatchNorm2d(960, eps=1e-05, momentum=0.1, affine=True, track_running_stats=True)\n",
              "          (activation): HSwish(inplace=True)\n",
              "        )\n",
              "        (2): SqueezeExcitation(\n",
              "          (average_pool): AdaptiveAvgPool2d(output_size=(1, 1))\n",
              "          (conv1): ConvLayer(\n",
              "            (conv): Conv2d(960, 240, kernel_size=(1, 1), stride=(1, 1))\n",
              "            (activation): ReLU(inplace=True)\n",
              "          )\n",
              "          (conv2): ConvLayer(\n",
              "            (conv): Conv2d(240, 960, kernel_size=(1, 1), stride=(1, 1))\n",
              "            (activation): HSigmoid(inplace=True)\n",
              "          )\n",
              "        )\n",
              "        (3): ConvLayer(\n",
              "          (conv): Conv2d(960, 160, kernel_size=(1, 1), stride=(1, 1), bias=False)\n",
              "          (norm): BatchNorm2d(160, eps=1e-05, momentum=0.1, affine=True, track_running_stats=True)\n",
              "        )\n",
              "      )\n",
              "      (dropout): Dropout2d(p=0.1, inplace=False)\n",
              "    )\n",
              "    (15): ConvLayer(\n",
              "      (conv): Conv2d(160, 960, kernel_size=(1, 1), stride=(1, 1), bias=False)\n",
              "      (norm): BatchNorm2d(960, eps=1e-05, momentum=0.1, affine=True, track_running_stats=True)\n",
              "      (activation): HSwish(inplace=True)\n",
              "    )\n",
              "  )\n",
              "  (average_pool): AdaptiveAvgPool2d(output_size=(1, 1))\n",
              "  (fc_out): Sequential(\n",
              "    (0): ConvLayer(\n",
              "      (conv): Conv2d(960, 1280, kernel_size=(1, 1), stride=(1, 1))\n",
              "      (activation): HSwish(inplace=True)\n",
              "    )\n",
              "    (1): Dropout(p=0.1, inplace=False)\n",
              "    (2): ConvLayer(\n",
              "      (conv): Conv2d(1280, 1000, kernel_size=(1, 1), stride=(1, 1))\n",
              "    )\n",
              "  )\n",
              ")"
            ]
          },
          "metadata": {},
          "execution_count": 20
        }
      ]
    },
    {
      "cell_type": "code",
      "source": [
        "tvis_model_v3_small= models.mobilenet_v3_small(weights=MobileNet_V3_Small_Weights.DEFAULT).to(device)\n",
        "count_parameters(tvis_model_v3_small)\n",
        "print(tvis_model_v3_small(img).shape)"
      ],
      "metadata": {
        "colab": {
          "base_uri": "https://localhost:8080/"
        },
        "id": "X0M7a6XoiZNJ",
        "outputId": "252d6fd1-4eae-481a-ba7c-1ff30d825a71"
      },
      "execution_count": 21,
      "outputs": [
        {
          "output_type": "stream",
          "name": "stderr",
          "text": [
            "Downloading: \"https://download.pytorch.org/models/mobilenet_v3_small-047dcff4.pth\" to /root/.cache/torch/hub/checkpoints/mobilenet_v3_small-047dcff4.pth\n",
            "100%|██████████| 9.83M/9.83M [00:00<00:00, 195MB/s]"
          ]
        },
        {
          "output_type": "stream",
          "name": "stdout",
          "text": [
            "Number of parameters: 2542856\n",
            "torch.Size([1, 1000])\n"
          ]
        },
        {
          "output_type": "stream",
          "name": "stderr",
          "text": [
            "\n"
          ]
        }
      ]
    },
    {
      "cell_type": "code",
      "source": [
        "model_v3= MobileNetV3(mobilenetv3_configs['mobilenetv3_small'], in_channels=3,\n",
        "                      num_classes=1000).to(device)\n",
        "count_parameters(model_v3)\n",
        "print(model_v3(img).shape)"
      ],
      "metadata": {
        "colab": {
          "base_uri": "https://localhost:8080/"
        },
        "id": "DZM0ERp2w365",
        "outputId": "c7e06986-12f5-4500-d5c5-0578df911678"
      },
      "execution_count": 22,
      "outputs": [
        {
          "output_type": "stream",
          "name": "stdout",
          "text": [
            "Number of parameters: 2537370\n",
            "torch.Size([1, 1000])\n"
          ]
        }
      ]
    },
    {
      "cell_type": "markdown",
      "source": [
        "The parameter counts in torchvision's MobileNetV3 models slightly deviate from our implementation, primarily due to differences in how the Squeeze-and-Excitation (SE) modules are configured. In the original MobileNetV3 paper, a strict 1/4 reduction ratio is proposed for the SE modules. However, torchvision's implementation adjusts this ratio in certain blocks, particularly in early layers with low channel counts, to balance compactness with expressiveness.\n",
        "\n",
        "Interpretation of torchvision values (considering MobileNetV3-Small):\n",
        "\n",
        "- **Block 1:** The SE module reduces 16 channels to 8, a 0.5 ratio instead of the paper's commonly cited 0.25. This may be due to empirical tuning for the early layers that have very few channels.\n",
        "- **Blocks 4, 9, 10, 11:** These blocks exactly use a 1/4 reduction ratio (0.25), matching the paper's recommendation.\n",
        "- **Blocks 5, 6, 7, and 8:** These blocks have ratios in the range of approximately 0.27-0.28. The slight deviation from 0.25 is likely an empirical adjustment to ensure the squeezed representation remains sufficiently expressive—especially when the input channel count is higher.\n",
        "\n",
        "Thus, while the paper recommends a uniform 1/4 reduction ratio, practical implementations like torchvision modify this ratio, especially in layers with smaller channel dimensions, to optimize the trade-off between model compactness and representation capacity.\n",
        "\n",
        "The original paper reports 5.4 million parameters for MobileNetV3-Large 1.0 and 2.5 million parameters for MobileNetV3-Small 1.0. Our implementation achieves parameter counts that are consistent with these values."
      ],
      "metadata": {
        "id": "JPL87Hgcwjbk"
      }
    },
    {
      "cell_type": "code",
      "source": [
        "# https://github.com/PolinaDruzhinina/mobilenet/blob/master/models/mobilenetv3.py\n",
        "# https://github.com/cyrilminaeff/MobileNet"
      ],
      "metadata": {
        "id": "hWAzaxV6MNoF"
      },
      "execution_count": null,
      "outputs": []
    },
    {
      "cell_type": "markdown",
      "source": [
        "# Training MobileNet models from scratch"
      ],
      "metadata": {
        "id": "e6zAx5we3R50"
      }
    },
    {
      "cell_type": "code",
      "source": [
        "from torch.utils.data import DataLoader, random_split\n",
        "from torchvision import datasets, transforms"
      ],
      "metadata": {
        "id": "nZjzJJkZ2yKk"
      },
      "execution_count": 23,
      "outputs": []
    },
    {
      "cell_type": "code",
      "source": [
        "# data preparation -- define transformations for the dataset\n",
        "transform= transforms.Compose([\n",
        "    transforms.Resize((224, 224)),\n",
        "    transforms.ToTensor(),\n",
        "    transforms.RandomHorizontalFlip(),\n",
        "    transforms.Normalize(mean=[0.4914, 0.4822, 0.4465],\n",
        "                         std= [0.2023, 0.1994, 0.2010]), # CIFAR-10 stats\n",
        "])\n",
        "\n",
        "# load the CIFAR-10 dataset\n",
        "train_dataset= datasets.CIFAR10(root='./data', train=True, download=True, transform=transform)\n",
        "test_dataset = datasets.CIFAR10(root='./data', train=False,download=True, transform=transform)\n",
        "\n",
        "# create data loaders\n",
        "train_size= int(0.9 * len(train_dataset))\n",
        "val_size  = len(train_dataset) - train_size\n",
        "train_dataset, val_dataset= random_split(train_dataset, [train_size, val_size])\n",
        "\n",
        "batch_size= 128\n",
        "train_loader= DataLoader(train_dataset,batch_size=batch_size, shuffle=True)\n",
        "val_loader  = DataLoader(val_dataset,  batch_size=batch_size, shuffle=False)\n",
        "test_loader = DataLoader(test_dataset, batch_size=batch_size, shuffle=False)"
      ],
      "metadata": {
        "id": "k6LS49K52yOD",
        "colab": {
          "base_uri": "https://localhost:8080/"
        },
        "outputId": "19eb3b43-1d9e-4e83-fa99-7a1656a00fd6"
      },
      "execution_count": 24,
      "outputs": [
        {
          "output_type": "stream",
          "name": "stderr",
          "text": [
            "100%|██████████| 170M/170M [00:13<00:00, 12.7MB/s]\n"
          ]
        }
      ]
    },
    {
      "cell_type": "code",
      "source": [
        "len(train_loader), len(val_loader)"
      ],
      "metadata": {
        "id": "4AlmQ2X52yR_",
        "colab": {
          "base_uri": "https://localhost:8080/"
        },
        "outputId": "8123def6-506c-456d-979a-d011c7903acd"
      },
      "execution_count": 25,
      "outputs": [
        {
          "output_type": "execute_result",
          "data": {
            "text/plain": [
              "(352, 40)"
            ]
          },
          "metadata": {},
          "execution_count": 25
        }
      ]
    },
    {
      "cell_type": "markdown",
      "source": [
        "# Trainer Function\n",
        "\n",
        "TODO:\n",
        "\n",
        "- Data augmentation for training.\n",
        "- Early Stopping: based on validation loss to prevent overfitting.\n",
        "- Play with different activation functions.\n",
        "- Play with different learning rate values."
      ],
      "metadata": {
        "id": "b0HHbCbd3eji"
      }
    },
    {
      "cell_type": "code",
      "source": [
        "def trainer(model, train_loader, val_loader, optimizer, criterion, scheduler, epochs,\n",
        "            device, eval_interval=1, verbose=False):\n",
        "\n",
        "    tr_loss_hist= []\n",
        "    vl_loss_hist= []\n",
        "\n",
        "    # --- training loop ---\n",
        "    for epoch in range(epochs):\n",
        "        model.train()\n",
        "        batch_loss= []\n",
        "        start= time.time()\n",
        "\n",
        "        # --- training steps ---\n",
        "        # iterating over all batches\n",
        "        for step, (images, labels) in enumerate(train_loader):\n",
        "            # --- minibatch construction ---\n",
        "            images= images.to(device, non_blocking=True)\n",
        "            labels= labels.to(device, non_blocking=True)\n",
        "\n",
        "            # --- forward pass and get loss ---\n",
        "            logits= model(images)\n",
        "            loss= criterion(logits, labels)\n",
        "            batch_loss.append(loss.item())\n",
        "\n",
        "            # --- backward pass to calculate the gradients ---\n",
        "            optimizer.zero_grad()\n",
        "            loss.backward()\n",
        "\n",
        "            # --- update the parameters using the gradient ---\n",
        "            optimizer.step()\n",
        "\n",
        "        # --- evaluation and track stats ---\n",
        "        tr_loss_hist.append(np.mean(batch_loss))\n",
        "\n",
        "        if epoch% eval_interval== 0 or epoch== epochs-1:\n",
        "            model.eval()\n",
        "            val_loss= []\n",
        "            with torch.no_grad():\n",
        "                for images, labels in val_loader:\n",
        "                    images, labels= images.to(device), labels.to(device)\n",
        "                    logits= model(images)\n",
        "                    loss_v= criterion(logits, labels)\n",
        "                    val_loss.append(loss_v.item())\n",
        "\n",
        "            val_loss= np.mean(val_loss)\n",
        "            end= time.time()\n",
        "            dt= end - start\n",
        "\n",
        "            if verbose:\n",
        "                print(f\"Epoch: {epoch} | Train Loss: {tr_loss_hist[-1]:.4f} | \"\n",
        "                      f\"Val Loss: {val_loss:.4f} | dt/epoch: {dt*1000:.2f}ms\")\n",
        "\n",
        "            # for decreasing learning rate -- the ReduceLROnPlateau is designed to be used per epoch\n",
        "            scheduler.step(val_loss)\n",
        "\n",
        "        vl_loss_hist.append(val_loss)\n",
        "\n",
        "    return tr_loss_hist, vl_loss_hist\n"
      ],
      "metadata": {
        "id": "5p_EYbV-2yUh"
      },
      "execution_count": 26,
      "outputs": []
    },
    {
      "cell_type": "code",
      "source": [
        "def evaluate_model(model, test_loader, device, verbose=False):\n",
        "    model.eval()\n",
        "    correct= 0\n",
        "    total= 0\n",
        "\n",
        "    with torch.no_grad():\n",
        "        for images, labels in test_loader:\n",
        "            images, labels= images.to(device), labels.to(device)\n",
        "            logits= model(images)\n",
        "            y_pred= torch.argmax(logits, dim=1)\n",
        "            correct += (y_pred == labels).sum().item()\n",
        "            total += labels.size(0)\n",
        "\n",
        "    acc= correct / total\n",
        "    if verbose:\n",
        "        print(f\"Accuracy: {(acc * 100):.2f}%\")\n",
        "\n",
        "    return acc\n"
      ],
      "metadata": {
        "id": "WDTzXlLK2yYy"
      },
      "execution_count": 27,
      "outputs": []
    },
    {
      "cell_type": "code",
      "source": [
        "def plot_losses(train_loss, valid_loss):\n",
        "    # plot training and validation losses\n",
        "    plt.plot(train_loss, label='Train Loss')\n",
        "    plt.plot(valid_loss, label='Validation Loss')\n",
        "    plt.title('Losses')\n",
        "    plt.xlabel('Epochs')\n",
        "    plt.ylabel('Loss')\n",
        "    plt.legend()\n",
        "    plt.grid()"
      ],
      "metadata": {
        "id": "Oiy7ifOn2ycQ"
      },
      "execution_count": 28,
      "outputs": []
    },
    {
      "cell_type": "markdown",
      "source": [
        "# Training setup using TF32 and Fused AdamW"
      ],
      "metadata": {
        "id": "QNXIAtEO3vny"
      }
    },
    {
      "cell_type": "code",
      "source": [
        "use_fused= False\n",
        "\n",
        "if device== 'cuda': # TF32 computationally more efficient (slightly the same precision of FP32)\n",
        "    torch.set_float32_matmul_precision('high')\n",
        "    # create AdamW optimizer and use the fused version of it is available\n",
        "    fused_available= 'fused' in inspect.signature(torch.optim.AdamW).parameters\n",
        "    # fused is a lot faster when it is available and when running on cuda\n",
        "    use_fused= fused_available"
      ],
      "metadata": {
        "id": "TzRyZoFr2SV9"
      },
      "execution_count": 29,
      "outputs": []
    },
    {
      "cell_type": "code",
      "source": [
        "# --- MobileNetV1 ---\n",
        "in_channels= 3\n",
        "num_classes= 10\n",
        "\n",
        "model= MobileNetV1(in_channels, num_classes).to(device)\n",
        "count_parameters(model)\n",
        "\n",
        "\n",
        "# train_loader has size 352, so 20 epochs have 7,040 steps\n",
        "epochs= 20\n",
        "learning_rate= 5e-4\n",
        "\n",
        "optimizer= torch.optim.AdamW(\n",
        "    model.parameters(), lr=learning_rate, betas=(0.9, 0.999), weight_decay=1e-4,\n",
        "    fused=use_fused\n",
        ")\n",
        "print(f\"Using fused AdamW: {use_fused}\")\n",
        "criterion= nn.CrossEntropyLoss()\n",
        "\n",
        "# for decreasing learning rate -- the ReduceLROnPlateau is designed to be used per epoch\n",
        "scheduler= ReduceLROnPlateau(optimizer, mode='min', factor=0.1, patience=5, min_lr=1e-6)"
      ],
      "metadata": {
        "id": "B3HpZhQA2ygm",
        "colab": {
          "base_uri": "https://localhost:8080/"
        },
        "outputId": "c0337bde-f4c8-4e01-87d4-105c8a2cf0f1"
      },
      "execution_count": 30,
      "outputs": [
        {
          "output_type": "stream",
          "name": "stdout",
          "text": [
            "Number of parameters: 3217226\n",
            "Using fused AdamW: True\n"
          ]
        }
      ]
    },
    {
      "cell_type": "code",
      "source": [
        "tr_loss, vl_loss= trainer(model, train_loader, val_loader, optimizer, criterion, scheduler,\n",
        "                          epochs, device, verbose=True)"
      ],
      "metadata": {
        "id": "Oo0xGP7M2yj1",
        "colab": {
          "base_uri": "https://localhost:8080/"
        },
        "outputId": "63cbcd69-372d-45e2-99bb-4588e33f708c"
      },
      "execution_count": 31,
      "outputs": [
        {
          "output_type": "stream",
          "name": "stdout",
          "text": [
            "Epoch: 0 | Train Loss: 1.5755 | Val Loss: 1.3335 | dt/epoch: 74935.83ms\n",
            "Epoch: 1 | Train Loss: 1.1803 | Val Loss: 1.0879 | dt/epoch: 74006.30ms\n",
            "Epoch: 2 | Train Loss: 0.9805 | Val Loss: 0.9208 | dt/epoch: 74021.11ms\n",
            "Epoch: 3 | Train Loss: 0.8198 | Val Loss: 0.8274 | dt/epoch: 74038.48ms\n",
            "Epoch: 4 | Train Loss: 0.6961 | Val Loss: 0.7272 | dt/epoch: 74678.94ms\n",
            "Epoch: 5 | Train Loss: 0.5974 | Val Loss: 0.6747 | dt/epoch: 75092.05ms\n",
            "Epoch: 6 | Train Loss: 0.5292 | Val Loss: 0.5930 | dt/epoch: 74468.94ms\n",
            "Epoch: 7 | Train Loss: 0.4594 | Val Loss: 0.5332 | dt/epoch: 74584.36ms\n",
            "Epoch: 8 | Train Loss: 0.3987 | Val Loss: 0.5764 | dt/epoch: 74089.77ms\n",
            "Epoch: 9 | Train Loss: 0.3563 | Val Loss: 0.6334 | dt/epoch: 74727.95ms\n",
            "Epoch: 10 | Train Loss: 0.3035 | Val Loss: 0.6420 | dt/epoch: 73980.04ms\n",
            "Epoch: 11 | Train Loss: 0.2771 | Val Loss: 0.5002 | dt/epoch: 74373.46ms\n",
            "Epoch: 12 | Train Loss: 0.2426 | Val Loss: 0.5053 | dt/epoch: 74791.06ms\n",
            "Epoch: 13 | Train Loss: 0.2183 | Val Loss: 0.5214 | dt/epoch: 74326.16ms\n",
            "Epoch: 14 | Train Loss: 0.1949 | Val Loss: 0.5251 | dt/epoch: 74725.28ms\n",
            "Epoch: 15 | Train Loss: 0.1794 | Val Loss: 0.5117 | dt/epoch: 74454.82ms\n",
            "Epoch: 16 | Train Loss: 0.1594 | Val Loss: 0.5653 | dt/epoch: 74247.15ms\n",
            "Epoch: 17 | Train Loss: 0.1469 | Val Loss: 0.5134 | dt/epoch: 73741.87ms\n",
            "Epoch: 18 | Train Loss: 0.0755 | Val Loss: 0.4142 | dt/epoch: 74868.32ms\n",
            "Epoch: 19 | Train Loss: 0.0479 | Val Loss: 0.4105 | dt/epoch: 74367.69ms\n"
          ]
        }
      ]
    },
    {
      "cell_type": "code",
      "source": [
        "# plot\n",
        "plot_losses(tr_loss, vl_loss)"
      ],
      "metadata": {
        "id": "aK-y6s3L363n",
        "colab": {
          "base_uri": "https://localhost:8080/",
          "height": 472
        },
        "outputId": "0f7bceab-6dcc-40ad-c3c9-001129673a0b"
      },
      "execution_count": 32,
      "outputs": [
        {
          "output_type": "display_data",
          "data": {
            "text/plain": [
              "<Figure size 640x480 with 1 Axes>"
            ],
            "image/png": "[encoded data removed]"
          },
          "metadata": {}
        }
      ]
    },
    {
      "cell_type": "code",
      "source": [
        "mobilenet_acc= evaluate_model(model, test_loader, device, verbose=True)"
      ],
      "metadata": {
        "id": "GtYOGaT037Dp",
        "colab": {
          "base_uri": "https://localhost:8080/"
        },
        "outputId": "c38dd4d2-edca-444f-9fe8-a2b893f002ce"
      },
      "execution_count": 33,
      "outputs": [
        {
          "output_type": "stream",
          "name": "stdout",
          "text": [
            "Accuracy: 86.98%\n"
          ]
        }
      ]
    },
    {
      "cell_type": "code",
      "source": [],
      "metadata": {
        "id": "JgRzFJc7A9lZ"
      },
      "execution_count": null,
      "outputs": []
    },
    {
      "cell_type": "code",
      "source": [
        "# --- MobileNetV2 ---\n",
        "in_channels= 3\n",
        "num_classes= 10\n",
        "\n",
        "model= MobileNetV2(mobilenetv2_configs, in_channels, num_classes).to(device)\n",
        "count_parameters(model)\n",
        "\n",
        "\n",
        "# train_loader has size 352, so 20 epochs have 7,040 steps\n",
        "epochs= 20\n",
        "learning_rate= 5e-4\n",
        "\n",
        "optimizer= torch.optim.AdamW(\n",
        "    model.parameters(), lr=learning_rate, betas=(0.9, 0.999), weight_decay=1e-4,\n",
        "    fused=use_fused\n",
        ")\n",
        "print(f\"Using fused AdamW: {use_fused}\")\n",
        "criterion= nn.CrossEntropyLoss()\n",
        "\n",
        "# for decreasing learning rate -- the ReduceLROnPlateau is designed to be used per epoch\n",
        "scheduler= ReduceLROnPlateau(optimizer, mode='min', factor=0.1, patience=5, min_lr=1e-6)"
      ],
      "metadata": {
        "id": "6bEtKNSP1lYr",
        "colab": {
          "base_uri": "https://localhost:8080/"
        },
        "outputId": "b3095dd6-4746-4027-d567-49d16c7ed55a"
      },
      "execution_count": 34,
      "outputs": [
        {
          "output_type": "stream",
          "name": "stdout",
          "text": [
            "Number of parameters: 2236682\n",
            "Using fused AdamW: True\n"
          ]
        }
      ]
    },
    {
      "cell_type": "code",
      "source": [
        "tr_loss, vl_loss= trainer(model, train_loader, val_loader, optimizer, criterion, scheduler,\n",
        "                          epochs, device, verbose=True)"
      ],
      "metadata": {
        "id": "qiBSrPn_1lfx",
        "colab": {
          "base_uri": "https://localhost:8080/"
        },
        "outputId": "6346e2af-048a-437f-e499-5f6169cad378"
      },
      "execution_count": 35,
      "outputs": [
        {
          "output_type": "stream",
          "name": "stdout",
          "text": [
            "Epoch: 0 | Train Loss: 1.7766 | Val Loss: 1.5373 | dt/epoch: 80721.57ms\n",
            "Epoch: 1 | Train Loss: 1.3435 | Val Loss: 1.1490 | dt/epoch: 80201.55ms\n",
            "Epoch: 2 | Train Loss: 1.0740 | Val Loss: 0.9811 | dt/epoch: 80387.99ms\n",
            "Epoch: 3 | Train Loss: 0.9182 | Val Loss: 0.9197 | dt/epoch: 80647.81ms\n",
            "Epoch: 4 | Train Loss: 0.8096 | Val Loss: 0.7543 | dt/epoch: 80636.61ms\n",
            "Epoch: 5 | Train Loss: 0.7292 | Val Loss: 0.6554 | dt/epoch: 80637.77ms\n",
            "Epoch: 6 | Train Loss: 0.6591 | Val Loss: 0.6314 | dt/epoch: 80840.66ms\n",
            "Epoch: 7 | Train Loss: 0.5923 | Val Loss: 0.5778 | dt/epoch: 80380.38ms\n",
            "Epoch: 8 | Train Loss: 0.5580 | Val Loss: 0.5048 | dt/epoch: 80515.40ms\n",
            "Epoch: 9 | Train Loss: 0.5064 | Val Loss: 0.5048 | dt/epoch: 81047.31ms\n",
            "Epoch: 10 | Train Loss: 0.4777 | Val Loss: 0.5965 | dt/epoch: 81261.01ms\n",
            "Epoch: 11 | Train Loss: 0.4465 | Val Loss: 0.4600 | dt/epoch: 80613.74ms\n",
            "Epoch: 12 | Train Loss: 0.4158 | Val Loss: 0.4514 | dt/epoch: 80492.50ms\n",
            "Epoch: 13 | Train Loss: 0.3869 | Val Loss: 0.4542 | dt/epoch: 80735.71ms\n",
            "Epoch: 14 | Train Loss: 0.3741 | Val Loss: 0.4392 | dt/epoch: 80857.12ms\n",
            "Epoch: 15 | Train Loss: 0.3444 | Val Loss: 0.4503 | dt/epoch: 81112.81ms\n",
            "Epoch: 16 | Train Loss: 0.3312 | Val Loss: 0.4207 | dt/epoch: 81187.31ms\n",
            "Epoch: 17 | Train Loss: 0.3119 | Val Loss: 0.4525 | dt/epoch: 80896.09ms\n",
            "Epoch: 18 | Train Loss: 0.2918 | Val Loss: 0.4603 | dt/epoch: 81040.33ms\n",
            "Epoch: 19 | Train Loss: 0.2775 | Val Loss: 0.4392 | dt/epoch: 80565.66ms\n"
          ]
        }
      ]
    },
    {
      "cell_type": "code",
      "source": [
        "# plot\n",
        "plot_losses(tr_loss, vl_loss)"
      ],
      "metadata": {
        "id": "_cvC1khP1lmp",
        "colab": {
          "base_uri": "https://localhost:8080/",
          "height": 472
        },
        "outputId": "4b4a445b-21de-442b-e97e-acb4ceb214ce"
      },
      "execution_count": 36,
      "outputs": [
        {
          "output_type": "display_data",
          "data": {
            "text/plain": [
              "<Figure size 640x480 with 1 Axes>"
            ],
            "image/png": "[encoded data removed]"
          },
          "metadata": {}
        }
      ]
    },
    {
      "cell_type": "code",
      "source": [
        "mobilenet_acc= evaluate_model(model, test_loader, device, verbose=True)"
      ],
      "metadata": {
        "id": "1JNEWgtd1lrh",
        "colab": {
          "base_uri": "https://localhost:8080/"
        },
        "outputId": "96c2bb90-e57d-4d3c-a7db-5a344b415c22"
      },
      "execution_count": 37,
      "outputs": [
        {
          "output_type": "stream",
          "name": "stdout",
          "text": [
            "Accuracy: 85.24%\n"
          ]
        }
      ]
    },
    {
      "cell_type": "code",
      "source": [],
      "metadata": {
        "id": "mlp-QVtw1lwc"
      },
      "execution_count": null,
      "outputs": []
    },
    {
      "cell_type": "code",
      "source": [
        "# --- MobileNetV3 ---\n",
        "in_channels= 3\n",
        "num_classes= 10\n",
        "\n",
        "model= MobileNetV3(mobilenetv3_configs['mobilenetv3_large'], in_channels, num_classes).to(device)\n",
        "count_parameters(model)\n",
        "\n",
        "\n",
        "# train_loader has size 352, so 20 epochs have 7,040 steps\n",
        "epochs= 20\n",
        "learning_rate= 5e-4\n",
        "\n",
        "optimizer= torch.optim.AdamW(\n",
        "    model.parameters(), lr=learning_rate, betas=(0.9, 0.999), weight_decay=1e-4,\n",
        "    fused=use_fused\n",
        ")\n",
        "print(f\"Using fused AdamW: {use_fused}\")\n",
        "criterion= nn.CrossEntropyLoss()\n",
        "\n",
        "# for decreasing learning rate -- the ReduceLROnPlateau is designed to be used per epoch\n",
        "scheduler= ReduceLROnPlateau(optimizer, mode='min', factor=0.1, patience=5, min_lr=1e-6)"
      ],
      "metadata": {
        "id": "jEfaW2Jy1l1f",
        "colab": {
          "base_uri": "https://localhost:8080/"
        },
        "outputId": "c3bd9176-a148-47ee-b877-064cef07571d"
      },
      "execution_count": 38,
      "outputs": [
        {
          "output_type": "stream",
          "name": "stdout",
          "text": [
            "Number of parameters: 4213008\n",
            "Using fused AdamW: True\n"
          ]
        }
      ]
    },
    {
      "cell_type": "code",
      "source": [
        "tr_loss, vl_loss= trainer(model, train_loader, val_loader, optimizer, criterion, scheduler,\n",
        "                          epochs, device, verbose=True)"
      ],
      "metadata": {
        "id": "7JtZz5k-1l50",
        "colab": {
          "base_uri": "https://localhost:8080/"
        },
        "outputId": "43c9b9a1-561d-4abf-c026-14ea032c9e98"
      },
      "execution_count": 39,
      "outputs": [
        {
          "output_type": "stream",
          "name": "stdout",
          "text": [
            "Epoch: 0 | Train Loss: 1.6409 | Val Loss: 1.2707 | dt/epoch: 81375.88ms\n",
            "Epoch: 1 | Train Loss: 1.1143 | Val Loss: 0.8820 | dt/epoch: 81989.04ms\n",
            "Epoch: 2 | Train Loss: 0.8865 | Val Loss: 0.7841 | dt/epoch: 81782.00ms\n",
            "Epoch: 3 | Train Loss: 0.7330 | Val Loss: 0.6517 | dt/epoch: 81497.57ms\n",
            "Epoch: 4 | Train Loss: 0.6311 | Val Loss: 0.5571 | dt/epoch: 81487.25ms\n",
            "Epoch: 5 | Train Loss: 0.5543 | Val Loss: 0.5010 | dt/epoch: 81803.36ms\n",
            "Epoch: 6 | Train Loss: 0.4974 | Val Loss: 0.4997 | dt/epoch: 81604.61ms\n",
            "Epoch: 7 | Train Loss: 0.4436 | Val Loss: 0.4328 | dt/epoch: 81684.12ms\n",
            "Epoch: 8 | Train Loss: 0.4056 | Val Loss: 0.4166 | dt/epoch: 82044.22ms\n",
            "Epoch: 9 | Train Loss: 0.3722 | Val Loss: 0.4121 | dt/epoch: 81533.01ms\n",
            "Epoch: 10 | Train Loss: 0.3429 | Val Loss: 0.4169 | dt/epoch: 81312.35ms\n",
            "Epoch: 11 | Train Loss: 0.3146 | Val Loss: 0.3803 | dt/epoch: 81030.88ms\n",
            "Epoch: 12 | Train Loss: 0.2889 | Val Loss: 0.3718 | dt/epoch: 80964.57ms\n",
            "Epoch: 13 | Train Loss: 0.2649 | Val Loss: 0.3681 | dt/epoch: 81452.12ms\n",
            "Epoch: 14 | Train Loss: 0.2456 | Val Loss: 0.3559 | dt/epoch: 81498.88ms\n",
            "Epoch: 15 | Train Loss: 0.2224 | Val Loss: 0.3798 | dt/epoch: 81928.42ms\n",
            "Epoch: 16 | Train Loss: 0.2136 | Val Loss: 0.3777 | dt/epoch: 82158.44ms\n",
            "Epoch: 17 | Train Loss: 0.1953 | Val Loss: 0.3992 | dt/epoch: 80825.81ms\n",
            "Epoch: 18 | Train Loss: 0.1806 | Val Loss: 0.3708 | dt/epoch: 81354.24ms\n",
            "Epoch: 19 | Train Loss: 0.1680 | Val Loss: 0.3763 | dt/epoch: 81282.80ms\n"
          ]
        }
      ]
    },
    {
      "cell_type": "code",
      "source": [
        "# plot\n",
        "plot_losses(tr_loss, vl_loss)"
      ],
      "metadata": {
        "id": "-Wdtqs_T1l_d",
        "colab": {
          "base_uri": "https://localhost:8080/",
          "height": 472
        },
        "outputId": "0a200069-5349-4595-e8fb-f7ef19d8b9d1"
      },
      "execution_count": 40,
      "outputs": [
        {
          "output_type": "display_data",
          "data": {
            "text/plain": [
              "<Figure size 640x480 with 1 Axes>"
            ],
            "image/png": "[encoded data removed]"
          },
          "metadata": {}
        }
      ]
    },
    {
      "cell_type": "code",
      "source": [
        "mobilenet_acc= evaluate_model(model, test_loader, device, verbose=True)"
      ],
      "metadata": {
        "id": "31i9XtyB1mFe",
        "colab": {
          "base_uri": "https://localhost:8080/"
        },
        "outputId": "91d36e68-8dee-4b5d-b672-23827f5c669b"
      },
      "execution_count": 41,
      "outputs": [
        {
          "output_type": "stream",
          "name": "stdout",
          "text": [
            "Accuracy: 88.60%\n"
          ]
        }
      ]
    }
  ]
}