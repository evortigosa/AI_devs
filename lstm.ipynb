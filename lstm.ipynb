{
  "nbformat": 4,
  "nbformat_minor": 0,
  "metadata": {
    "colab": {
      "provenance": [],
      "toc_visible": true
    },
    "kernelspec": {
      "name": "python3",
      "display_name": "Python 3"
    },
    "language_info": {
      "name": "python"
    }
  },
  "cells": [
    {
      "cell_type": "code",
      "execution_count": null,
      "metadata": {
        "id": "i7UeKRnpObBC"
      },
      "outputs": [],
      "source": [
        "import math\n",
        "import numpy as np\n",
        "import pandas as pd\n",
        "import matplotlib.pyplot as plt\n",
        "from tqdm import tqdm"
      ]
    },
    {
      "cell_type": "markdown",
      "source": [
        "# Data Preprocessing"
      ],
      "metadata": {
        "id": "mH5RCdleidUK"
      }
    },
    {
      "cell_type": "code",
      "source": [
        "class TimeSeriesData:\n",
        "    \"\"\"\n",
        "    Dataset class for time series data.\n",
        "    Parameters:\n",
        "        ticker (str): stock ticker symbol\n",
        "        start_date (str): start date for data retrieval\n",
        "        end_date (str): end date for data retrieval\n",
        "        look_back (int): number of previous time steps to include in each sample\n",
        "        train_size (float): proportion of data to use for training\n",
        "    \"\"\"\n",
        "\n",
        "    def __init__(self, start_date, end_date, look_back=1, train_size=0.67) -> None:\n",
        "        self.start_date= start_date\n",
        "        self.end_date= end_date\n",
        "        self.look_back= look_back\n",
        "        self.train_size= train_size\n",
        "\n",
        "\n",
        "    def minmax_scaler(self, train, test, eps=1e-7):\n",
        "        \"\"\"\n",
        "        Min-max scaling of the data.\n",
        "        Parameters:\n",
        "            train (np.ndarray): training data\n",
        "            test (np.ndarray): testing data\n",
        "        \"\"\"\n",
        "\n",
        "        tr_min= np.min(train, 0)\n",
        "        tr_max= np.max(train, 0)\n",
        "\n",
        "        # normalizing the training data\n",
        "        scaled_train= (train - tr_min) / (tr_max - tr_min)\n",
        "        # normalizing the test data based on statistics from training data\n",
        "        scaled_test= (test - tr_min) / (tr_max - tr_min)\n",
        "\n",
        "        return scaled_train, scaled_test\n",
        "\n",
        "\n",
        "    def load_data(self, path):\n",
        "        \"\"\"\n",
        "        Load stock data.\n",
        "        Returns:\n",
        "            np.ndarray, training data\n",
        "            np.ndarray, testing data\n",
        "        \"\"\"\n",
        "\n",
        "        df= pd.read_csv(path)\n",
        "        df= df[(df['Date']>= self.start_date) & (df['Date'] <= self.end_date)]\n",
        "        df= df.set_index('Date')\n",
        "        df= df.sort_index()\n",
        "        df= df.loc[self.start_date:self.end_date]\n",
        "        df= df[['Close']].astype(float) # use closing price\n",
        "        df= df.values                   # convert DataFrame to np.array\n",
        "\n",
        "        train_size= int(len(df) * self.train_size)\n",
        "        train, test= self.minmax_scaler(df[0:train_size,:], df[train_size:len(df),:])\n",
        "\n",
        "        return train, test\n",
        "\n",
        "\n",
        "    def create_dataset(self, data):\n",
        "        \"\"\"\n",
        "        Create the dataset for time series prediction.\n",
        "        Parameters:\n",
        "            data (np.ndarray) input data\n",
        "        Returns:\n",
        "            np.ndarray, input data\n",
        "            np.ndarray, output data\n",
        "        \"\"\"\n",
        "\n",
        "        Xds, Yds= [], []\n",
        "        for i in range(len(data)-self.look_back):\n",
        "            feature= data[i : i+self.look_back]\n",
        "            target= data[i+1 : i+self.look_back+1]\n",
        "            Xds.append(feature)\n",
        "            Yds.append(target)\n",
        "\n",
        "        return np.array(Xds), np.array(Yds)\n",
        "\n",
        "\n",
        "    def split_train_test(self, path):\n",
        "        \"\"\"\n",
        "        Get the training and testing data.\n",
        "        Returns:\n",
        "            np.ndarray, training input\n",
        "            np.ndarray, training output\n",
        "            np.ndarray, testing input\n",
        "            np.ndarray, testing output\n",
        "        \"\"\"\n",
        "\n",
        "        train, test= self.load_data(path)\n",
        "        Xtr, Ytr= self.create_dataset(train)\n",
        "        Xte, Yte= self.create_dataset(test)\n",
        "\n",
        "        return Xtr, Ytr, Xte, Yte\n"
      ],
      "metadata": {
        "id": "42iao3fGKVA1"
      },
      "execution_count": null,
      "outputs": []
    },
    {
      "cell_type": "code",
      "source": [
        "from google.colab import drive\n",
        "drive.mount('/content/drive/')\n",
        "PATH= '/content/drive/My Drive/Colab Notebooks/data/Google_Stock_Train_2010_2022.csv'"
      ],
      "metadata": {
        "colab": {
          "base_uri": "https://localhost:8080/"
        },
        "id": "LhzivqaUxWzm",
        "outputId": "435613db-f634-484f-c1f5-7fe5f37f6f43"
      },
      "execution_count": null,
      "outputs": [
        {
          "output_type": "stream",
          "name": "stdout",
          "text": [
            "Mounted at /content/drive/\n"
          ]
        }
      ]
    },
    {
      "cell_type": "code",
      "source": [
        "# instantiate the dataset\n",
        "data= TimeSeriesData('2010-1-1', '2020-12-31', look_back=1)\n",
        "Xtr, Ytr, Xte, Yte= data.split_train_test(PATH)\n",
        "\n",
        "# reshape input to be [samples, time steps, features]\n",
        "Xtr= np.reshape(Xtr, (Xtr.shape[0], Xtr.shape[1], 1))\n",
        "Xte= np.reshape(Xte, (Xte.shape[0], Xte.shape[1], 1))"
      ],
      "metadata": {
        "id": "ITzfBhLl3-Il"
      },
      "execution_count": null,
      "outputs": []
    },
    {
      "cell_type": "markdown",
      "source": [
        "This reshaping step adjusts the data format to what the LSTM expects. LSTMs require input to be in the shape of [samples, time steps, features]. Here:\n",
        "\n",
        "- samples - the number of data points.\n",
        "- time steps - the number of time steps per sample (look_back).\n",
        "- features - the number of features per time step (in this case, 1, because we are probably looking at one dimension of data like closing price).\n",
        "\n",
        "With look_back=1, it is quite surely that the accuracy would not be good for too little clues to predict. But this is a good example to demonstrate the structure of the LSTM model."
      ],
      "metadata": {
        "id": "aXQZyzTnGXM7"
      }
    },
    {
      "cell_type": "markdown",
      "source": [
        "# Utility classes"
      ],
      "metadata": {
        "id": "PFqTaHYkYYP3"
      }
    },
    {
      "cell_type": "code",
      "source": [
        "class WeightInitializer:\n",
        "    \"\"\"\n",
        "    WeightInitializer is a class that handles the initialization of weights. This is crucial as\n",
        "    different initialization methods can significantly affect the convergence behavior of an NN.\n",
        "    \"\"\"\n",
        "\n",
        "    def __init__(self, method='random') -> None:\n",
        "        self.method= method\n",
        "\n",
        "\n",
        "    def initialize(self, shape):\n",
        "        if self.method== 'random':\n",
        "            return np.random.randn(*shape)\n",
        "        elif self.method== 'xavier':\n",
        "            return np.random.randn(*shape) / np.sqrt(shape[0])\n",
        "        elif self.method== 'he':\n",
        "            return np.random.randn(*shape) * np.sqrt(2 / shape[0])\n",
        "        elif self.method== 'uniform':\n",
        "            return np.random.uniform(-1, 1, shape)\n",
        "        else:\n",
        "            raise ValueError(f'Unknown initialization method: {self.method}')\n"
      ],
      "metadata": {
        "id": "ijmszYBKPMZs"
      },
      "execution_count": null,
      "outputs": []
    },
    {
      "cell_type": "code",
      "source": [
        "class PlotManager:\n",
        "    \"\"\"\n",
        "    Utility class for managing plots.\n",
        "    \"\"\"\n",
        "\n",
        "    def __init__(self) -> None:\n",
        "        self.fig, self.ax= plt.subplots(figsize=(6, 4))\n",
        "\n",
        "\n",
        "    def plot_losses(self, train_losses, val_losses):\n",
        "        self.ax.plot(train_losses, label='Training Loss')\n",
        "        self.ax.plot(val_losses, label='Validation Loss')\n",
        "        self.ax.set_title('Training and Validation Losses')\n",
        "        self.ax.set_xlabel('Epoch')\n",
        "        self.ax.set_ylabel('Loss')\n",
        "        self.ax.legend()\n",
        "\n",
        "\n",
        "    def show_plots(self):\n",
        "        plt.tight_layout()\n"
      ],
      "metadata": {
        "id": "olb7xmz_PMcl"
      },
      "execution_count": null,
      "outputs": []
    },
    {
      "cell_type": "code",
      "source": [
        "class EarlyStopping:\n",
        "    \"\"\"\n",
        "    Early stopping to stop the training when the loss does not improve.\n",
        "    Args:\n",
        "        patience (int): Number of epochs to wait before stopping the training.\n",
        "        verbose (bool): If true, prints a message for each epoch where the loss does not improve.\n",
        "        delta (float): Minimum change in the mentioned quantity to quantify as an improvement.\n",
        "    \"\"\"\n",
        "\n",
        "    def __init__(self, patience=7, delta=0, verbose=False) -> None:\n",
        "        self.patience= patience\n",
        "        self.delta= delta\n",
        "        self.verbose= verbose\n",
        "        self.counter= 0\n",
        "        self.best_score= None\n",
        "        self.early_stop= False\n",
        "\n",
        "\n",
        "    def __call__(self, val_loss):\n",
        "        \"\"\"\n",
        "        Determines if the model should stop training.\n",
        "        Args:\n",
        "            val_loss (float): The loss of the model on the validation set.\n",
        "        \"\"\"\n",
        "\n",
        "        score= -val_loss\n",
        "\n",
        "        if self.best_score is None:\n",
        "            self.best_score= score\n",
        "        elif score< self.best_score + self.delta:\n",
        "            self.counter += 1\n",
        "\n",
        "            if self.counter >= self.patience:\n",
        "                self.early_stop= True\n",
        "        else:\n",
        "            self.best_score= score\n",
        "            self.counter= 0\n"
      ],
      "metadata": {
        "id": "-CbratQIPMf2"
      },
      "execution_count": null,
      "outputs": []
    },
    {
      "cell_type": "markdown",
      "source": [
        "# The LSTM Class\n",
        "\n",
        "An LSTM cell contains four main components that work together to update and maintain the cell state: the forget gate $f_t$, input gate $i_t$, cell state $C_t$, and output gate $o_t$. Here's how each component is calculated at time step t:\n",
        "\n",
        "**Forget Gate $f_t$**, this gate decides which parts of the previous cell state $C_{(t-1)}$ are to be forgotten\n",
        "$$ f_t=\\sigma(W_f ⋅ [h_{t-1}, x_t] + b_f)$$\n",
        "Where:\n",
        "- $\\sigma$ is the sigmoid function, which outputs a value between 0 and 1. This value multiplies the previous cell state $C_(t-1)$, effectively deciding the extent to which each component of the cell state is remembered or forgotten. A value close to 0 means \"forget it almost completely,\" while a value close to 1 means \"retain it entirely.\"\n",
        "- $W_f$ is the weight matrix for the forget gate.\n",
        "- $h_{(t-1)}$ is the output from the previous time step.\n",
        "- $x_t$ is the current input.\n",
        "- $b_f$ is the bias term for the forget gate.\n",
        "\n",
        "**Input Gate $i_t$ and Candidate Cell State $C_t$**, the input gate determines which values will be updated in the cell state, while the candidate cell state $C_t$ represents a filtered version of the input data, prepared to be potentially added to the actual cell state.\n",
        "$$ i_t=\\sigma(W_i ⋅ [h_{t-1}, x_t] + b_i$$\n",
        "$$ \\tilde{C}_t = tanh(W_C \\cdot [h_{t-1}, x_t] + b_C $$\n",
        "\n",
        "Where:\n",
        "- $\\sigma$ again represents the sigmoid function, controlling the input gate.\n",
        "- tanh is the hyperbolic tangent function, which outputs values between -1 and 1. It helps regulate the network's non-linear characteristics.\n",
        "- $W_i$ and $W_C$ are the weight matrices for the input gate and the candidate cell state, respectively.\n",
        "- $b_i$ and $b_C$ are the biases for the input gate and the candidate cell state.\n",
        "\n",
        "**Cell State Update $C_t$**, the cell state is an element-wise addition of the old state multiplied by the forget gate and the candidate state multiplied by the input gate.\n",
        "$$C_t=f_t * C_{t-1} + i_t * \\tilde{C}_t$$\n",
        "\n",
        "The previous cell state $C_(t-1)$ multiplied by the forget gate output $f_t$ determines how much the old state can retain. The candidate cell state $C_t$ multiplied by the input gate output $i_t$ determines how much of the new state to add.\n",
        "\n",
        "**Output Gate $o_t$ and Output $h_t$**, finally, the output gate controls the parts of the cell state that are output to the next layer or used in the final prediction.\n",
        "$$ o_t=\\sigma(W_o \\cdot [h_{t-1}, x_t] + b_o) $$\n",
        "$$ h_t=o_t * tanh(C_t) $$\n",
        "\n",
        "Where:\n",
        "- $\\sigma$ is the sigmoid function used for the output gate.\n",
        "- tanh applied to $C_t$ scales the cell state values to be between -1 and 1.\n",
        "- $W_o$ is the weight matrix for the output gate, and $b_o$ is the bias."
      ],
      "metadata": {
        "id": "WmHBYBSAYkks"
      }
    },
    {
      "cell_type": "code",
      "source": [
        "class LSTM:\n",
        "    \"\"\"\n",
        "    Long Short-Term Memory (LSTM) network.\n",
        "    Parameters:\n",
        "        input_size (int): dimensionality of input space\n",
        "        hidden_size (int): number of LSTM units\n",
        "        output_size (int): dimensionality of output space\n",
        "        init_method (str): weight initialization method (default: 'xavier')\n",
        "    \"\"\"\n",
        "\n",
        "    def __init__(self, input_size, hidden_size, output_size, init_method='xavier') -> None:\n",
        "        self.input_size= input_size\n",
        "        self.hidden_size= hidden_size\n",
        "        self.output_size= output_size\n",
        "        self.init= WeightInitializer(method=init_method)\n",
        "\n",
        "        # initialize weights\n",
        "        self.wf= self.init.initialize((hidden_size, hidden_size + input_size))\n",
        "        self.wi= self.init.initialize((hidden_size, hidden_size + input_size))\n",
        "        self.wo= self.init.initialize((hidden_size, hidden_size + input_size))\n",
        "        self.wc= self.init.initialize((hidden_size, hidden_size + input_size))\n",
        "        \"\"\"\n",
        "        The weights are initialized for the gates (forget wf, input wi, output wo, and cell wc) and\n",
        "        for connecting the last hidden state to the output (why).\n",
        "        Xavier initialization is often chosen as it's a good default for maintaining the variance\n",
        "        of activations across layers.\n",
        "        \"\"\"\n",
        "\n",
        "        # initialize biases\n",
        "        self.bf= np.zeros((hidden_size, 1))\n",
        "        self.bi= np.zeros((hidden_size, 1))\n",
        "        self.bo= np.zeros((hidden_size, 1))\n",
        "        self.bc= np.zeros((hidden_size, 1))\n",
        "        \"\"\"\n",
        "        Biases for all gates and the output layer are initialized to zero. This is a common\n",
        "        practice, although sometimes small constants are added to avoid dead neurons at the start.\n",
        "        \"\"\"\n",
        "\n",
        "        # initialize output layer weights and biases\n",
        "        self.why= self.init.initialize((output_size, hidden_size))\n",
        "        self.by= np.zeros((output_size, 1))\n",
        "\n",
        "\n",
        "    @staticmethod\n",
        "    def sigmoid(x):\n",
        "        \"\"\"\n",
        "        Sigmoid activation function.\n",
        "        Parameters:\n",
        "            x (np.ndarray): input to the activation function\n",
        "        Returns:\n",
        "            np.ndarray: output of the activation function\n",
        "        \"\"\"\n",
        "\n",
        "        return 1.0 / (1.0 + np.exp(-x))\n",
        "\n",
        "\n",
        "    @staticmethod\n",
        "    def dsigmoid(x):\n",
        "        \"\"\"\n",
        "        Derivative of the sigmoid activation function.\n",
        "        Parameters:\n",
        "            x (np.ndarray): output of the sigmoid activation function\n",
        "        Returns:\n",
        "            np.ndarray: derivative of the sigmoid function\n",
        "        \"\"\"\n",
        "\n",
        "        return x * (1 - x)\n",
        "\n",
        "\n",
        "    @staticmethod\n",
        "    def dtanh(x):\n",
        "        \"\"\"\n",
        "        Derivative of the hyperbolic tangent activation function.\n",
        "        Parameters:\n",
        "            x (np.ndarray): output of the hyperbolic tangent activation function\n",
        "        Returns:\n",
        "            np.ndarray: derivative of the hyperbolic tangent function\n",
        "        \"\"\"\n",
        "\n",
        "        return 1 - x * x\n",
        "\n",
        "\n",
        "    def forward(self, x):\n",
        "        \"\"\"\n",
        "        Forward pass through the LSTM network.\n",
        "        Parameters:\n",
        "            x (np.ndarray): input to the network\n",
        "        Returns:\n",
        "            np.ndarray: output of the network\n",
        "            list: caches containing intermediate values for backpropagation\n",
        "        \"\"\"\n",
        "\n",
        "        caches= []\n",
        "        h_prev= np.zeros((self.hidden_size, 1))\n",
        "        c_prev= np.zeros((self.hidden_size, 1))\n",
        "        h= h_prev\n",
        "        c= c_prev\n",
        "\n",
        "        \"\"\"\n",
        "        The input x is processed timestep by timestep, where each timestep updates the gates'\n",
        "        activations, the cell state, and the hidden state.\n",
        "        \"\"\"\n",
        "        for t in range(x.shape[0]):\n",
        "            x_t= x[t].reshape(-1, 1)\n",
        "            combined= np.vstack((h_prev, x_t))\n",
        "\n",
        "            \"\"\"\n",
        "            At each time step, the input and the previous hidden state are stacked vertically to\n",
        "            form a single combined input for matrix operations. This is crucial for performing the\n",
        "            linear transformations efficiently in one go.\n",
        "            \"\"\"\n",
        "            f= self.sigmoid(np.dot(self.wf, combined) + self.bf)\n",
        "            i= self.sigmoid(np.dot(self.wi, combined) + self.bi)\n",
        "            o= self.sigmoid(np.dot(self.wo, combined) + self.bo)\n",
        "            c_= np.tanh(np.dot(self.wc, combined) + self.bc)\n",
        "            \"\"\"\n",
        "            Here, the forget gate (f) determines the amount of the previous cell state to retain.\n",
        "            The input gate (i) decides how much of the new candidate cell state (c_) to add.\n",
        "            Finally, the output gate (o) calculates what portion of the cell state to output as the\n",
        "            hidden state.\n",
        "            \"\"\"\n",
        "\n",
        "            \"\"\"\n",
        "            The cell state is updated as a weighted sum of the previous state and the new candidate\n",
        "            state. The hidden state is derived by passing the updated cell state through a tanh\n",
        "            function and then gating it with the output gate.\n",
        "            \"\"\"\n",
        "            c= f * c_prev + i * c_\n",
        "            h= o * np.tanh(c)\n",
        "\n",
        "            \"\"\"\n",
        "            We store relevant values needed for backpropagation in cache. This includes states,\n",
        "            gate activations, and inputs.\n",
        "            \"\"\"\n",
        "            cache= (h_prev, c_prev, f, i, o, c_, x_t, combined, c, h)\n",
        "            caches.append(cache)\n",
        "\n",
        "            h_prev, c_prev= h, c\n",
        "\n",
        "        \"\"\"\n",
        "        Finally, the output y is computed as a linear transformation of the last hidden state.\n",
        "        The method returns both the output and the cached values for use during backpropagation.\n",
        "        \"\"\"\n",
        "        y= np.dot(self.why, h) + self.by\n",
        "\n",
        "        return y, caches\n",
        "\n",
        "\n",
        "    def backward(self, dy, caches, clip_value=1.0):\n",
        "        \"\"\"\n",
        "        Backward pass through the LSTM network.\n",
        "        Parameters:\n",
        "            dy (np.ndarray): gradient of the loss with respect to the output\n",
        "            caches (list): caches from the forward pass\n",
        "            clip_value (float): value to clip gradients to (default: 1.0)\n",
        "        Returns:\n",
        "            tuple: gradients of the loss with respect to the parameters\n",
        "        \"\"\"\n",
        "        # zero_grad\n",
        "        dWf, dWi, dWo, dWc= [np.zeros_like(w) for w in (self.wf, self.wi, self.wo, self.wc)]\n",
        "        dbf, dbi, dbo, dbc= [np.zeros_like(b) for b in (self.bf, self.bi, self.bo, self.bc)]\n",
        "        dWhy= np.zeros_like(self.why)\n",
        "        dby= np.zeros_like(self.by)\n",
        "\n",
        "        # ensure dy is reshaped to match output size\n",
        "        dy= dy.reshape(self.output_size, -1)\n",
        "        # dh_next and dc_next store gradients are flowing back from later timesteps\n",
        "        dh_next= np.zeros((self.hidden_size, 1)) # shape must match hidden_size\n",
        "        dc_next= np.zeros_like(dh_next)\n",
        "\n",
        "        \"\"\"\n",
        "        The LSTM state and gate activations for each timestep are retrieved from cache. Processing\n",
        "        starts from the last timestep and moves backward (reversed(caches)), which is essential for\n",
        "        correctly applying the chain rule in recurrent neural networks.\n",
        "        \"\"\"\n",
        "        for cache in reversed(caches):\n",
        "            h_prev, c_prev, f, i, o, c_, x_t, combined, c, h= cache\n",
        "\n",
        "            # add gradient from next step to current output gradient\n",
        "            dh= np.dot(self.why.T, dy) + dh_next\n",
        "            dc= dc_next + (dh * o * self.dtanh(np.tanh(c)))\n",
        "            \"\"\"\n",
        "            Gradients for each gate (df, di, do) and the candidate cell state (dc_) are calculated\n",
        "            using the chain rule, involving derivatives of the sigmoid (dsigmoid) and tanh (dtanh)\n",
        "            functions, which were discussed in the gating mechanisms.\n",
        "            \"\"\"\n",
        "            df= dc * c_prev * self.dsigmoid(f)\n",
        "            di= dc * c_ * self.dsigmoid(i)\n",
        "            do= dh * self.dtanh(np.tanh(c))\n",
        "            dc_= dc * i * self.dtanh(c_)\n",
        "\n",
        "            dcombined_f= np.dot(self.wf.T, df)\n",
        "            dcombined_i= np.dot(self.wi.T, di)\n",
        "            dcombined_o= np.dot(self.wo.T, do)\n",
        "            dcombined_c= np.dot(self.wc.T, dc_)\n",
        "\n",
        "            dcombined= dcombined_f + dcombined_i + dcombined_o + dcombined_c\n",
        "            dh_next= dcombined[:self.hidden_size]\n",
        "            dc_next= f * dc\n",
        "\n",
        "            # The following lines accumulate the gradients over all timesteps for each weight and bias\n",
        "            dWf += np.dot(df, combined.T)\n",
        "            dWi += np.dot(di, combined.T)\n",
        "            dWo += np.dot(do, combined.T)\n",
        "            dWc += np.dot(dc_, combined.T)\n",
        "\n",
        "            dbf += df.sum(axis=1, keepdims=True)\n",
        "            dbi += di.sum(axis=1, keepdims=True)\n",
        "            dbo += do.sum(axis=1, keepdims=True)\n",
        "            dbc += dc_.sum(axis=1, keepdims=True)\n",
        "\n",
        "        dWhy += np.dot(dy, h.T)\n",
        "        dby += dy\n",
        "\n",
        "        gradients= (dWf, dWi, dWo, dWc, dbf, dbi, dbo, dbc, dWhy, dby)\n",
        "\n",
        "        # gradient clipping -- prevent exploding gradients\n",
        "        for i in range(len(gradients)):\n",
        "            np.clip(gradients[i], -clip_value, clip_value, out=gradients[i])\n",
        "\n",
        "        return gradients\n",
        "\n",
        "\n",
        "    def update_params(self, grads, learning_rate):\n",
        "        \"\"\"\n",
        "        Update the parameters of the network using the gradients.\n",
        "        Parameters:\n",
        "            grads (tuple): gradients of the loss with respect to the parameters\n",
        "            learning_rate (float): learning rate\n",
        "        \"\"\"\n",
        "\n",
        "        dWf, dWi, dWo, dWc, dbf, dbi, dbo, dbc, dWhy, dby= grads\n",
        "\n",
        "        self.wf -= learning_rate * dWf\n",
        "        self.wi -= learning_rate * dWi\n",
        "        self.wo -= learning_rate * dWo\n",
        "        self.wc -= learning_rate * dWc\n",
        "\n",
        "        self.bf -= learning_rate * dbf\n",
        "        self.bi -= learning_rate * dbi\n",
        "        self.bo -= learning_rate * dbo\n",
        "        self.bc -= learning_rate * dbc\n",
        "\n",
        "        self.why -= learning_rate * dWhy\n",
        "        self.by -= learning_rate * dby\n"
      ],
      "metadata": {
        "id": "PbPulcUXPMjF"
      },
      "execution_count": null,
      "outputs": []
    },
    {
      "cell_type": "markdown",
      "source": [
        "The gating mechanisms of LSTMs are designed to combat the vanishing gradient problem by controlling the flow of gradients during backpropagation. The gates use two primary functions to manage this flow: the sigmoid function and the hyperbolic tangent function (tanh). These functions are not just chosen arbitrarily; their mathematical properties are ideally suited to the tasks of gating and updating neural network cell states.\n",
        "\n",
        "The sigmoid function outputs values between 0 and 1. This characteristic is ideal for gating because a value close to 0 can block the component (acting like a gate is closed), and a value close to 1 can allow the component to pass through (acting like a gate is open). In the context of LSTMs, the sigmoid function is used in the forget gate to decide which parts of the previous cell state to keep or discard, and in the input and output gates to regulate the contribution of new input data and the outputting of cell state information respectively.\n",
        "\n",
        "The tanh function outputs values between -1 and 1. This range is beneficial for neural network activations because it centers the output, helping to maintain the mean of the activations throughout the network close to zero, which in turn aids in faster convergence during training. The tanh function is primarily used in two places within the LSTM cell. First, it helps to create a candidate cell state, which is a filtered version of the input data, potentially added to the cell state if the input gate allows it. Second, it transforms the final cell state output to be within the range of -1 to 1 before being modulated by the output gate."
      ],
      "metadata": {
        "id": "WKH_aalwDWWS"
      }
    },
    {
      "cell_type": "markdown",
      "source": [
        "# Training and Validation\n",
        "\n",
        "Each batch of data is fed through the model. The forward pass generates predictions and caches intermediate values for backpropagation. After calculating the loss, the gradient with respect to the prediction error (dy) is used to perform backpropagation. The resulting gradients are used to update the model parameters. Training progress is logged to help monitor the model's performance over time."
      ],
      "metadata": {
        "id": "MyWuZh-AiMNc"
      }
    },
    {
      "cell_type": "code",
      "source": [
        "class LSTMTrainer:\n",
        "    \"\"\"\n",
        "    Trainer for the LSTM network.\n",
        "    Parameters:\n",
        "        model (LSTM): the LSTM network to train\n",
        "        learning_rate (float): learning rate for the optimizer\n",
        "        patience (int): number of epochs to wait before early stopping\n",
        "        delta (float): minimum change in validation loss to qualify as an improvement\n",
        "        verbose (bool): whether to print training information\n",
        "    \"\"\"\n",
        "\n",
        "    def __init__(self, model, learning_rate=1e-3, patience=7, delta=0, verbose=True) -> None:\n",
        "        self.model= model\n",
        "        self.learning_rate= learning_rate\n",
        "        self.train_losses= []\n",
        "        self.eval_losses= []\n",
        "        self.early_stopping= EarlyStopping(patience, delta, verbose)\n",
        "\n",
        "\n",
        "    def compute_loss(self, y_pred, y_true):\n",
        "        \"\"\"\n",
        "        Compute MSE loss.\n",
        "        \"\"\"\n",
        "\n",
        "        return np.mean((y_pred - y_true)**2)\n",
        "\n",
        "\n",
        "    def validate(self, x_val, y_val):\n",
        "        \"\"\"\n",
        "        Validate the model on a separate set of data.\n",
        "        \"\"\"\n",
        "\n",
        "        val_losses= []\n",
        "        for x, y_true in zip(x_val, y_val):\n",
        "            y_pred, _= self.model.forward(x)\n",
        "            loss_val= self.compute_loss(y_pred, y_true.reshape(-1, 1))\n",
        "            val_losses.append(loss_val)\n",
        "\n",
        "        return np.mean(val_losses)\n",
        "\n",
        "\n",
        "    def train(self, x_train, y_train, x_val=None, y_val=None, epochs=10, batch_size=1,\n",
        "              clip_value=1.0, shuffle=True):\n",
        "        \"\"\"\n",
        "        Train the LSTM network.\n",
        "        Parameters:\n",
        "            x_train (np.ndarray): training data\n",
        "            y_train (np.ndarray): training labels\n",
        "            x_val (np.ndarray): validation data\n",
        "            y_val (np.ndarray): validation labels\n",
        "            epochs (int): number of training epochs\n",
        "            batch_size (int): size of mini-batches\n",
        "            clip_value (float): value to clip gradients to\n",
        "            shuffle (bool): whether to shuffle the training data in each epoch\n",
        "        \"\"\"\n",
        "        # training data indexes\n",
        "        ix= np.arange(0, x_train.shape[0])\n",
        "\n",
        "        # --- training loop ---\n",
        "        for epoch in range(epochs):\n",
        "\n",
        "            epoch_loss= []\n",
        "\n",
        "            # iterating over all batches\n",
        "            if shuffle:\n",
        "                ix= np.random.permutation(x_train.shape[0])[:x_train.shape[0]]\n",
        "\n",
        "            for i in range(0, len(x_train), batch_size):\n",
        "                batch_loss= []\n",
        "\n",
        "                # --- minibatch construction ---\n",
        "                Xmb= x_train[ix[i : i + batch_size]]\n",
        "                Ymb= y_train[ix[i : i + batch_size]]\n",
        "\n",
        "                for x, y_true in zip(Xmb, Ymb):\n",
        "                    # --- forward pass and get loss ---\n",
        "                    y_pred, caches= self.model.forward(x)\n",
        "                    loss_tr= self.compute_loss(y_pred, y_true.reshape(-1, 1))\n",
        "                    batch_loss.append(loss_tr)\n",
        "\n",
        "                    # --- backward pass to calculate the gradients ---\n",
        "                    dy= y_pred - y_true.reshape(-1, 1)\n",
        "                    grads= self.model.backward(dy, caches, clip_value=clip_value)\n",
        "\n",
        "                    # --- update the parameters using the gradient ---\n",
        "                    self.model.update_params(grads, self.learning_rate)\n",
        "\n",
        "                epoch_loss.append(np.mean(batch_loss))\n",
        "\n",
        "\n",
        "            # --- evaluation and track stats ---\n",
        "            self.train_losses.append(np.mean(epoch_loss))\n",
        "\n",
        "            if x_val is not None and y_val is not None:\n",
        "                val_loss= self.validate(x_val, y_val)\n",
        "                self.eval_losses.append(val_loss)\n",
        "                if epoch % 10== 0:\n",
        "                    print(f'Epoch {epoch+1}/{epochs} - Loss: {self.train_losses[-1]:.4}, Val Loss: {val_loss:.4}')\n",
        "\n",
        "                # --- early stopping checking ---\n",
        "                self.early_stopping(val_loss)\n",
        "                if self.early_stopping.early_stop:\n",
        "                    print('Early stopping...')\n",
        "                    break\n",
        "            elif epoch % 10== 0:\n",
        "                print(f'Epoch {epoch+1}/{epochs} - Loss: {self.train_losses[-1]:.4}')\n"
      ],
      "metadata": {
        "id": "Dvie_nHNPMlw"
      },
      "execution_count": null,
      "outputs": []
    },
    {
      "cell_type": "code",
      "source": [
        "look_back= 1     # Number of previous time steps to include in each sample\n",
        "hidden_size= 256 # Number of LSTM units\n",
        "output_size= 1   # Dimensionality of the output space\n",
        "\n",
        "lstm= LSTM(input_size=1, hidden_size=hidden_size, output_size=output_size)\n",
        "\n",
        "trainer= LSTMTrainer(lstm, learning_rate=1e-3, patience=50, delta=0.001, verbose=True)\n",
        "trainer.train(Xtr, Ytr, Xte, Yte, epochs=1000, batch_size=250)"
      ],
      "metadata": {
        "colab": {
          "base_uri": "https://localhost:8080/"
        },
        "id": "7kpopsFlKVEF",
        "outputId": "367dafbf-4ec3-4bb8-dc6d-7830d48faeb1"
      },
      "execution_count": null,
      "outputs": [
        {
          "output_type": "stream",
          "name": "stdout",
          "text": [
            "Epoch 1/1000 - Loss: 0.01344, Val Loss: 0.01367\n",
            "Epoch 11/1000 - Loss: 0.0001035, Val Loss: 0.0008996\n",
            "Epoch 21/1000 - Loss: 0.0001041, Val Loss: 0.0009014\n",
            "Epoch 31/1000 - Loss: 0.0001043, Val Loss: 0.0009012\n",
            "Epoch 41/1000 - Loss: 0.0001047, Val Loss: 0.0008975\n",
            "Epoch 51/1000 - Loss: 0.0001042, Val Loss: 0.0008974\n",
            "Early stopping...\n"
          ]
        }
      ]
    },
    {
      "cell_type": "code",
      "source": [
        "plot_manager= PlotManager()\n",
        "\n",
        "# Inside your training loop\n",
        "plot_manager.plot_losses(trainer.train_losses, trainer.eval_losses)\n",
        "\n",
        "# After your training loop\n",
        "plot_manager.show_plots()"
      ],
      "metadata": {
        "colab": {
          "base_uri": "https://localhost:8080/",
          "height": 407
        },
        "id": "D3KXnrz4KVGz",
        "outputId": "69a89115-2275-42a4-8b8d-be8dc30ae9de"
      },
      "execution_count": null,
      "outputs": [
        {
          "output_type": "display_data",
          "data": {
            "text/plain": [
              "<Figure size 600x400 with 1 Axes>"
            ],
            "image/png": "[encoded data removed]"
          },
          "metadata": {}
        }
      ]
    },
    {
      "cell_type": "code",
      "source": [
        "# https://towardsdatascience.com/the-math-behind-lstm-9069b835289d"
      ],
      "metadata": {
        "id": "qNvb_wpYPMrh"
      },
      "execution_count": null,
      "outputs": []
    },
    {
      "cell_type": "markdown",
      "source": [
        "# PyTorch version"
      ],
      "metadata": {
        "id": "vTa7wAzUPlXJ"
      }
    },
    {
      "cell_type": "code",
      "source": [
        "import torch\n",
        "import torch.nn as nn\n",
        "import torch.nn.functional as F\n",
        "from torch.autograd import Variable"
      ],
      "metadata": {
        "id": "rrhdWhiFKVJw"
      },
      "execution_count": null,
      "outputs": []
    },
    {
      "cell_type": "markdown",
      "source": [
        "With look_back=1, it is quite surely that the accuracy would not be good for too little clues to predict. But this is a good example to demonstrate the structure of the LSTM model."
      ],
      "metadata": {
        "id": "ppd4XSjuSK4E"
      }
    },
    {
      "cell_type": "code",
      "source": [
        "# instantiate the dataset\n",
        "data= TimeSeriesData('2010-1-1', '2020-12-31', look_back=1)\n",
        "Xtr, Ytr, Xte, Yte= data.split_train_test(PATH)\n",
        "\n",
        "# reshape input to be [samples, time steps, features]\n",
        "Xtr= np.reshape(Xtr, (Xtr.shape[0], Xtr.shape[1], 1))\n",
        "Xte= np.reshape(Xte, (Xte.shape[0], Xte.shape[1], 1))\n",
        "\n",
        "Xtr= torch.tensor(Xtr, requires_grad=True).type(torch.float32)\n",
        "Ytr= torch.tensor(Ytr.squeeze(axis=-1)).type(torch.float32)\n",
        "Xte= torch.tensor(Xte, requires_grad=True).type(torch.float32)\n",
        "Yte= torch.tensor(Yte.squeeze(axis=-1)).type(torch.float32)\n",
        "\n",
        "print(f'Shape of training: Xtr - {Xtr.shape}, Ytr - {Ytr.shape}')\n",
        "print(f'Shape of test data: Xte - {Xte.shape}, Yte - {Yte.shape}')"
      ],
      "metadata": {
        "colab": {
          "base_uri": "https://localhost:8080/"
        },
        "id": "ODeiIv3PPxOx",
        "outputId": "9dcd6829-1cd0-4eaf-fefc-c951e13ec136"
      },
      "execution_count": null,
      "outputs": [
        {
          "output_type": "stream",
          "name": "stdout",
          "text": [
            "Shape of training: Xtr - torch.Size([1728, 1, 1]), Ytr - torch.Size([1728, 1])\n",
            "Shape of test data: Xte - torch.Size([851, 1, 1]), Yte - torch.Size([851, 1])\n"
          ]
        }
      ]
    },
    {
      "cell_type": "code",
      "source": [
        "class Py_LSTM(nn.Module):\n",
        "\n",
        "    def __init__(self, input_size, hidden_size, output_size, num_lstm_layers=1) -> None:\n",
        "        super(Py_LSTM, self).__init__()\n",
        "        self.hidden_size= hidden_size\n",
        "        self.num_lstm_layers= num_lstm_layers\n",
        "\n",
        "        self.lstm= nn.LSTM(input_size, hidden_size, num_lstm_layers, batch_first=True)\n",
        "        self.activ1= nn.ReLU()\n",
        "        self.fc_in = nn.Linear(hidden_size, int(hidden_size / 2))\n",
        "        self.activ2= nn.ReLU()\n",
        "        self.fc_out= nn.Linear(int(hidden_size / 2), output_size)\n",
        "\n",
        "        for p in self.parameters():\n",
        "            if p.dim()> 1:\n",
        "                nn.init.xavier_normal_(p)\n",
        "\n",
        "\n",
        "    def forward(self, x):\n",
        "        h_0= torch.zeros((self.num_lstm_layers, x.shape[0], self.hidden_size), requires_grad=True)\n",
        "        c_0= torch.zeros((self.num_lstm_layers, x.shape[0], self.hidden_size), requires_grad=True)\n",
        "        # propagate input through LSTM\n",
        "        out, (h_n, c_n)= self.lstm(x, (h_0, c_0))\n",
        "        h_n= h_n.view(-1, self.hidden_size) # reshaping the data for Dense layer next\n",
        "        x= self.activ1(h_n)\n",
        "        x= self.fc_in(x)\n",
        "        x= self.activ2(x)\n",
        "        x= self.fc_out(x)\n",
        "\n",
        "        return x\n"
      ],
      "metadata": {
        "id": "PGNnpIBuPMob"
      },
      "execution_count": null,
      "outputs": []
    },
    {
      "cell_type": "code",
      "source": [
        "input_size= 1    # number of features\n",
        "hidden_size= 256 # number of LSTM units\n",
        "output_size= 1   # dimensionality of the output space (classes)\n",
        "num_layers= 1    # number of stacked lstm layers\n",
        "\n",
        "model= Py_LSTM(input_size, hidden_size, output_size, num_layers)\n",
        "\n",
        "total_params= sum(p.numel() for p in model.parameters() if p.requires_grad)\n",
        "print(f'Number of parameters: {total_params}')\n",
        "\n",
        "model"
      ],
      "metadata": {
        "colab": {
          "base_uri": "https://localhost:8080/"
        },
        "id": "lOoqFvsjPxLV",
        "outputId": "c914c2c4-a935-4b8a-bc9b-cb04bab04eee"
      },
      "execution_count": null,
      "outputs": [
        {
          "output_type": "stream",
          "name": "stdout",
          "text": [
            "Number of parameters: 298241\n"
          ]
        },
        {
          "output_type": "execute_result",
          "data": {
            "text/plain": [
              "Py_LSTM(\n",
              "  (lstm): LSTM(1, 256, batch_first=True)\n",
              "  (activ1): ReLU()\n",
              "  (fc_in): Linear(in_features=256, out_features=128, bias=True)\n",
              "  (activ2): ReLU()\n",
              "  (fc_out): Linear(in_features=128, out_features=1, bias=True)\n",
              ")"
            ]
          },
          "metadata": {},
          "execution_count": 71
        }
      ]
    },
    {
      "cell_type": "code",
      "source": [
        "def supervised_training(model, learning_rate=1e-3, epochs=500, eval_interval=5, batches:bool=True,\n",
        "                        batch_size=64, shuffle:bool=True, early_stop:bool=True, patience=5, cutoff=1e-9):\n",
        "\n",
        "    # defining key hyperparamaters explicitly (instead of hyperparamater search)\n",
        "    if batches:\n",
        "        epoch_size= math.floor(Xtr.shape[0]/ batch_size)\n",
        "    else:\n",
        "        batch_size= Xtr.shape[0]\n",
        "        epoch_size= 1\n",
        "\n",
        "    weight_decay=5e-4\n",
        "\n",
        "    # create a PyTorch optimizer\n",
        "    optimizer= torch.optim.Adam(model.parameters(), lr=learning_rate, weight_decay=weight_decay)\n",
        "\n",
        "    # loss function\n",
        "    loss_fn= nn.MSELoss()\n",
        "\n",
        "    # for early stoping\n",
        "    patience_count= 0\n",
        "    previous_loss= 1e10\n",
        "\n",
        "    # tracking statistics\n",
        "    train_hist= []\n",
        "    test_hist= []\n",
        "\n",
        "    # training data indexes\n",
        "    ix= torch.arange(0, Xtr.shape[0])\n",
        "\n",
        "    # --- training loop ---\n",
        "    for epoch in tqdm(range(epochs)):\n",
        "\n",
        "        batch_loss= []\n",
        "\n",
        "        # iterating over all batches\n",
        "        if shuffle:\n",
        "            ix= torch.randperm(Xtr.shape[0])[:Xtr.shape[0]]\n",
        "\n",
        "        for i in range(epoch_size):\n",
        "\n",
        "            # --- minibatch construction ---\n",
        "            Xmb= Xtr[ix[(i * batch_size) : ((i+1) * batch_size)]]\n",
        "            Ymb= Ytr[ix[(i * batch_size) : ((i+1) * batch_size)]]\n",
        "\n",
        "            # --- forward pass and get loss ---\n",
        "            model.train(True)\n",
        "            y_pred= model(Xmb)\n",
        "            loss_tr= loss_fn(y_pred, Ymb)\n",
        "            batch_loss.append(loss_tr.item())\n",
        "\n",
        "            # --- backward pass to calculate the gradients ---\n",
        "            optimizer.zero_grad()\n",
        "            loss_tr.backward()\n",
        "\n",
        "            # --- update the parameters using the gradient ---\n",
        "            optimizer.step()\n",
        "\n",
        "\n",
        "        # --- evaluation and track stats ---\n",
        "        train_hist.append(np.mean(batch_loss))\n",
        "\n",
        "        if epoch% eval_interval== 0:\n",
        "            model.train(False)\n",
        "            with torch.no_grad():\n",
        "                y_pred= model(Xte)\n",
        "                loss_te= loss_fn(y_pred, Yte)\n",
        "\n",
        "        test_hist.append(loss_te.item())\n",
        "\n",
        "\n",
        "        # --- early stopping -- calculating loss change ---\n",
        "        loss_change= np.abs(previous_loss - train_hist[-1])\n",
        "        # deciding to stop if loss is not decreasing fast enough\n",
        "        if (early_stop and loss_change< cutoff):\n",
        "            patience_count += 1\n",
        "\n",
        "            if patience_count> patience:\n",
        "                print('\\nEarly stopping at epoch {}'.format(epoch))\n",
        "                model.train(False)\n",
        "                break\n",
        "        else:\n",
        "            patience_count= 0\n",
        "        # setting current train loss as previous loss\n",
        "        previous_loss= train_hist[-1]\n",
        "\n",
        "\n",
        "    return train_hist, test_hist\n"
      ],
      "metadata": {
        "id": "4yEueQECPxRm"
      },
      "execution_count": null,
      "outputs": []
    },
    {
      "cell_type": "code",
      "source": [
        "input_size= 1    # number of features\n",
        "hidden_size= 256 # number of LSTM units\n",
        "output_size= 1   # dimensionality of the output space (classes)\n",
        "num_layers= 1    # number of stacked lstm layers\n",
        "\n",
        "model= Py_LSTM(input_size, hidden_size, output_size, num_layers)\n",
        "\n",
        "train_hist, test_hist= supervised_training(model, learning_rate=1e-3, epochs=500,\n",
        "                                           eval_interval=5, batch_size=250, cutoff=1e-6)"
      ],
      "metadata": {
        "colab": {
          "base_uri": "https://localhost:8080/"
        },
        "id": "YP7rq-0IPxU-",
        "outputId": "6955bc53-d44a-4258-be59-c5e2085e7f20"
      },
      "execution_count": null,
      "outputs": [
        {
          "output_type": "stream",
          "name": "stderr",
          "text": [
            "100%|██████████| 500/500 [11:33<00:00,  1.39s/it]\n"
          ]
        }
      ]
    },
    {
      "cell_type": "code",
      "source": [
        "plot_manager= PlotManager()\n",
        "# Inside your training loop\n",
        "plot_manager.plot_losses(train_hist, test_hist)\n",
        "# After your training loop\n",
        "plot_manager.show_plots()"
      ],
      "metadata": {
        "colab": {
          "base_uri": "https://localhost:8080/",
          "height": 407
        },
        "id": "9xRzf1UENDp9",
        "outputId": "3b6941d7-b9cf-4510-bc94-1a6d35023e40"
      },
      "execution_count": null,
      "outputs": [
        {
          "output_type": "display_data",
          "data": {
            "text/plain": [
              "<Figure size 600x400 with 1 Axes>"
            ],
            "image/png": "[encoded data removed]"
          },
          "metadata": {}
        }
      ]
    },
    {
      "cell_type": "markdown",
      "source": [
        "We can plot the predictions on the data set, to check out how the model is performing. But before performing predictions on the whole dataset, we'll need to bring the original dataset into the model suitable format, which can be done by using similar code as above.\n",
        "\n",
        "We can simply perform predictions on the whole dataset via a forward pass, and then to plot them, converting them to numpy, reversing transform them (remember that we scaled the data, and we'll need to reverse transform it) and then plot it."
      ],
      "metadata": {
        "id": "mtyu7-HBVMNE"
      }
    },
    {
      "cell_type": "code",
      "source": [
        "# https://machinelearningmastery.com/lstm-for-time-series-prediction-in-pytorch/\n",
        "# https://cnvrg.io/pytorch-lstm/"
      ],
      "metadata": {
        "id": "NEkQSDfXYgyD"
      },
      "execution_count": null,
      "outputs": []
    }
  ]
}