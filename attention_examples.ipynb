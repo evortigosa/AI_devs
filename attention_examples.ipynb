{
 "cells": [
  {
   "cell_type": "code",
   "execution_count": 1,
   "id": "ac9308e0",
   "metadata": {},
   "outputs": [],
   "source": [
    "import numpy as np\n",
    "import pandas as pd\n",
    "import matplotlib.pyplot as plt\n",
    "import torch\n",
    "import torch.nn as nn\n",
    "\n",
    "import sys"
   ]
  },
  {
   "cell_type": "code",
   "execution_count": 18,
   "id": "90a0dd8c",
   "metadata": {},
   "outputs": [
    {
     "data": {
      "text/plain": [
       "tensor([43.9654])"
      ]
     },
     "execution_count": 18,
     "metadata": {},
     "output_type": "execute_result"
    }
   ],
   "source": [
    "\"\"\"\n",
    "Implementing the alignment function\n",
    "The whole idea is that, given an embedding for the encoder and decoder, the aalignment function outputs \n",
    "a scalar raiting the alignment. So, the shapes of v, W, and U should be such that the output is a scalar\n",
    "\"\"\"\n",
    "\n",
    "import torch.nn.functional as F\n",
    "\n",
    "# def the size of the input and output vectors of the attention mechanism\n",
    "EMBED_DIM= 100\n",
    "\n",
    "# these need to be sized in such a way that matrix multiplication yields a scalar\n",
    "# otherwise, they're just general learnable parameters. Different alignment\n",
    "# functions might have different parameters. For instance, \"attention is all you\n",
    "# need\" uses a projection head that generates a query, key, and value, which are\n",
    "# used in a different self-alignment function. this can allign vectors of different lengths\n",
    "encoder_embedding_dim= EMBED_DIM*2\n",
    "decoder_embedding_dim= EMBED_DIM\n",
    "\n",
    "U_attention= torch.rand(EMBED_DIM, encoder_embedding_dim)\n",
    "W_attention= torch.rand(decoder_embedding_dim, EMBED_DIM)\n",
    "v_attention= torch.rand(1,EMBED_DIM)\n",
    "\n",
    "def alignment_func(s, h, W=W_attention, U=U_attention, v=v_attention):\n",
    "    \"\"\"\n",
    "    s: si-1, from the paper, the previous decoder state\n",
    "    h: hj, from the paper, an input embedding\n",
    "    W,U,v: trainable parameters\n",
    "    \n",
    "    calculates v*tanh(W*s + U*h), should return a scalar alpha\n",
    "    \"\"\"\n",
    "    \n",
    "    v1= torch.matmul(W, s)\n",
    "    v2= torch.matmul(U, h)\n",
    "    v3= torch.tanh(v1 + v2)\n",
    "    \n",
    "    return torch.matmul(v, v3)\n",
    "\n",
    "# testing the alignment function between one embedded word and another\n",
    "# dividing by value to get them in a good range for tanh\n",
    "s= torch.rand(decoder_embedding_dim)/50\n",
    "h= torch.rand(encoder_embedding_dim)/50\n",
    "alignment_func(s, h)"
   ]
  },
  {
   "cell_type": "code",
   "execution_count": 19,
   "id": "9bedf374",
   "metadata": {},
   "outputs": [],
   "source": [
    "# An example output of the alignment function. A scalar, which corresponds to a specific input-output pair"
   ]
  },
  {
   "cell_type": "code",
   "execution_count": null,
   "id": "aeffb36c",
   "metadata": {},
   "outputs": [],
   "source": []
  },
  {
   "cell_type": "code",
   "execution_count": 20,
   "id": "e12ceb80",
   "metadata": {},
   "outputs": [
    {
     "data": {
      "text/plain": [
       "tensor([0.0397, 0.0896, 0.0791, 0.1762, 0.0843, 0.0715, 0.0424, 0.1164, 0.0935,\n",
       "        0.2073])"
      ]
     },
     "execution_count": 20,
     "metadata": {},
     "output_type": "execute_result"
    }
   ],
   "source": [
    "\"\"\"\n",
    "defining attention, wich is a list of softmaxed alignment scores for all input\n",
    "embeddings (hj) given the previous decoder embedding (si-1). This is equivilent\n",
    "to a row of the attention matrix, hence the name of the function.\n",
    "\"\"\"\n",
    "\n",
    "def compute_attention_row(s, hs, W=W_attention, U=U_attention, v=v_attention):\n",
    "    \"\"\"\n",
    "    computes alignments for all h values given s\n",
    "\n",
    "    s is a vector of length embedding size\n",
    "    hs is a tensor of shape (sequence length, embedding size)\n",
    "    the output is a vector of sequence length\n",
    "    \"\"\"\n",
    "    \n",
    "    return F.softmax(torch.cat([alignment_func(s, h, W, U, v) for h in hs]), 0)\n",
    "\n",
    "# testing the computation of an allignment row between the previous decoder\n",
    "# embedding and all encoder embeddings\n",
    "compute_attention_row(torch.rand(decoder_embedding_dim)/50, torch.rand(10,encoder_embedding_dim)/50)"
   ]
  },
  {
   "cell_type": "code",
   "execution_count": null,
   "id": "cd5c4d8e",
   "metadata": {},
   "outputs": [],
   "source": [
    "# A single attention vector for a given output position."
   ]
  },
  {
   "cell_type": "code",
   "execution_count": null,
   "id": "ca4b0dbb",
   "metadata": {},
   "outputs": [],
   "source": []
  },
  {
   "cell_type": "code",
   "execution_count": 23,
   "id": "f8f25d14",
   "metadata": {},
   "outputs": [
    {
     "name": "stdout",
     "output_type": "stream",
     "text": [
      "==== Testing Attention ====\n"
     ]
    },
    {
     "data": {
      "text/plain": [
       "torch.Size([10])"
      ]
     },
     "execution_count": 23,
     "metadata": {},
     "output_type": "execute_result"
    }
   ],
   "source": [
    "\"\"\"\n",
    "Defining the attention module\n",
    "This is implemented in such a way where the computation of attention creates a traceable gradient, \n",
    "allowing the U, W, and v parameters to be updated through back propagation.\n",
    "\"\"\"\n",
    "\n",
    "# defining the input dimension from the encoder (h) and decoder (s)\n",
    "encoder_embedding_dim= 10\n",
    "decoder_embedding_dim= 20\n",
    "\n",
    "# defining an example sequence length\n",
    "sequence_length= 15\n",
    "\n",
    "class Attention(nn.Module):\n",
    "    \"\"\"\n",
    "    -computes an alignment for all encoder embeddings\n",
    "    -constructs a context vector using those embeddings\n",
    "    -outputs that context vector\n",
    "    \"\"\"\n",
    "    \n",
    "    def __init__(self, embed_dim=EMBED_DIM, encoder_embedding_dim=encoder_embedding_dim,\n",
    "                 decoder_embedding_dim=decoder_embedding_dim):\n",
    "        super(Attention, self).__init__()\n",
    "        \n",
    "        # learnable attention parameters \n",
    "        self.U= nn.Parameter(torch.rand(embed_dim, encoder_embedding_dim), requires_grad=True)\n",
    "        self.W= nn.Parameter(torch.rand(embed_dim, decoder_embedding_dim), requires_grad=True)\n",
    "        self.v= nn.Parameter(torch.rand(1, embed_dim), requires_grad=True)\n",
    "        self.encoder_embedding_dim= encoder_embedding_dim\n",
    "        \n",
    "        if torch.cuda.is_available():\n",
    "            self.cuda()\n",
    "            \n",
    "    def forward(self, s, hn):\n",
    "        \"\"\"\n",
    "        computes a batch of context vectors given a current the all encoder\n",
    "        embeddings and the current decoder embedding\n",
    "        \"\"\"\n",
    "        # defining a tensor consisting of a context vector for each batch\n",
    "        weights= compute_attention_row(s, hn, W=self.W, U=self.U, v=self.v)\n",
    "        \n",
    "        return torch.sum(hn * weights[:, None], axis=0)\n",
    "\n",
    "\n",
    "print('==== Testing Attention ====')\n",
    "# testing if the attention mechanism can support different sequence lengths and embedding dimensions\n",
    "test_attention= Attention()\n",
    "\n",
    "# defining previous decoder state\n",
    "s= torch.rand(decoder_embedding_dim)/50\n",
    "# defining input embeddings\n",
    "hn= torch.rand(sequence_length, encoder_embedding_dim)/50\n",
    "\n",
    "test_attention(s, hn).shape"
   ]
  },
  {
   "cell_type": "code",
   "execution_count": null,
   "id": "a370084e",
   "metadata": {},
   "outputs": [],
   "source": [
    "# Creates a context vector of length 10. This makes sense, as the input embeddings are of length 10, \n",
    "# and the output of this attention technique is a context vector which is the weighted sum of all the \n",
    "# input embeddings."
   ]
  },
  {
   "cell_type": "code",
   "execution_count": null,
   "id": "64f2d52b",
   "metadata": {},
   "outputs": [],
   "source": []
  },
  {
   "cell_type": "code",
   "execution_count": 52,
   "id": "dee1a8b0",
   "metadata": {},
   "outputs": [
    {
     "name": "stderr",
     "output_type": "stream",
     "text": [
      " 34%|███▍      | 271/800 [00:06<00:13, 39.85it/s]\n"
     ]
    },
    {
     "data": {
      "text/plain": [
       "[<matplotlib.lines.Line2D at 0x7fd199297a60>]"
      ]
     },
     "execution_count": 52,
     "metadata": {},
     "output_type": "execute_result"
    },
    {
     "data": {
      "image/png": "[encoded data removed]",
      "text/plain": [
       "<Figure size 432x288 with 1 Axes>"
      ]
     },
     "metadata": {
      "needs_background": "light"
     },
     "output_type": "display_data"
    }
   ],
   "source": [
    "\"\"\" \n",
    "Training Attention\n",
    "\n",
    "Essentially, this generates random X/Y pairs, and trains the model to predict\n",
    "each output given the previous correct output and all of the inputs.\n",
    "\n",
    "This is a proof of concept. In reality using minibatches, better initializations, and\n",
    "stochastically providing the true previous output occasionally would probably improve\n",
    "convergence and generalizability.\n",
    "\"\"\"\n",
    "import random\n",
    "from tqdm import tqdm\n",
    "\n",
    "min_len= 5\n",
    "max_len= 20\n",
    "\n",
    "test_attention= Attention(20,2,2)\n",
    "loss_fn= nn.MSELoss()\n",
    "optimizer= torch.optim.SGD(test_attention.parameters(), lr=1e-3, momentum=0.9)\n",
    "lr_phase= 0\n",
    "\n",
    "# training on some number of random sequences\n",
    "batch_losses= []\n",
    "\n",
    "for i in tqdm(range(800)):\n",
    "    \n",
    "    # generating x and y\n",
    "    x= []\n",
    "    y= []\n",
    "    for j in range(random.randint(min_len,max_len)):\n",
    "        x.append([j+1, j+2])\n",
    "        y.append([j+1, j+2])\n",
    "            \n",
    "    random.shuffle(x)\n",
    "    x= np.array([[0,1]] + x).astype(np.float32)\n",
    "    x= torch.from_numpy(x)\n",
    "    y= np.array([[0,1]] + y).astype(np.float32)\n",
    "    y= torch.from_numpy(y)\n",
    "    \n",
    "    # iterating over all training examples (given s predict s+1)\n",
    "    s_in= x[0]\n",
    "    sample_losses= []\n",
    "    for j in range(2, len(x)):\n",
    "        \n",
    "        y_this= y[j]\n",
    "        \n",
    "        optimizer.zero_grad()\n",
    "        s_out= test_attention(s_in, x)\n",
    "        \n",
    "        loss= loss_fn(s_out, y_this)\n",
    "        sample_losses.append(loss.detach())\n",
    "        \n",
    "        loss.backward(retain_graph=True)\n",
    "        optimizer.step()\n",
    "        \n",
    "        s_in= torch.clone(y_this).detach()\n",
    "        \n",
    "    batch_loss= np.mean(sample_losses)\n",
    "    batch_losses.append(batch_loss)\n",
    "    \n",
    "    # hacking together a simple learning rate scheduler\n",
    "    if (batch_loss< 0.05 and lr_phase== 0):\n",
    "        optimizer= torch.optim.SGD(test_attention.parameters(), lr=1e-4, momentum=0.9)\n",
    "        lr_phase += 1\n",
    "        \n",
    "    # stopping training when loss is good enough\n",
    "    if (batch_loss< 0.05):\n",
    "        break\n",
    "        \n",
    "plt.plot(batch_losses)"
   ]
  },
  {
   "cell_type": "code",
   "execution_count": null,
   "id": "6e7724cf",
   "metadata": {},
   "outputs": [],
   "source": []
  },
  {
   "cell_type": "code",
   "execution_count": null,
   "id": "d31ee27c",
   "metadata": {},
   "outputs": [],
   "source": [
    "# Using the following code, we can generate a randomly shuffled sequence and ask our attention model \n",
    "# to sort it."
   ]
  },
  {
   "cell_type": "code",
   "execution_count": 69,
   "id": "5285d75d",
   "metadata": {},
   "outputs": [
    {
     "name": "stdout",
     "output_type": "stream",
     "text": [
      "input: \n",
      "[[ 0.  1.]\n",
      " [ 2.  3.]\n",
      " [10. 11.]\n",
      " [ 7.  8.]\n",
      " [ 9. 10.]\n",
      " [ 6.  7.]\n",
      " [ 8.  9.]\n",
      " [ 1.  2.]\n",
      " [ 3.  4.]\n",
      " [ 5.  6.]\n",
      " [ 4.  5.]]\n",
      "output: \n",
      "[[ 1.  2.]\n",
      " [ 2.  3.]\n",
      " [ 3.  4.]\n",
      " [ 4.  5.]\n",
      " [ 5.  6.]\n",
      " [ 6.  7.]\n",
      " [ 7.  8.]\n",
      " [ 8.  9.]\n",
      " [ 9. 10.]\n",
      " [ 9. 10.]]\n"
     ]
    },
    {
     "data": {
      "image/png": "[encoded data removed]",
      "text/plain": [
       "<Figure size 432x288 with 1 Axes>"
      ]
     },
     "metadata": {
      "needs_background": "light"
     },
     "output_type": "display_data"
    }
   ],
   "source": [
    "\"\"\"\n",
    "Visualizing alignment\n",
    "\"\"\"\n",
    "\n",
    "# generating x\n",
    "x= []\n",
    "for j in range(1, random.randint(min_len, max_len)):\n",
    "    x.append([j, j+1])\n",
    "\n",
    "random.shuffle(x)\n",
    "\n",
    "x= np.array([[0,1]] + x).astype(np.float32)\n",
    "x= torch.from_numpy(x)\n",
    "\n",
    "# extracting learned parameters for generating alignment visual\n",
    "W= test_attention.W\n",
    "U= test_attention.U\n",
    "v= test_attention.v\n",
    "\n",
    "s= x[0]\n",
    "y_hat= []\n",
    "rows= []\n",
    "\n",
    "# predicting the next element in the sequence.\n",
    "# skipping over the trivia first, and not predicting one after the last.\n",
    "for _ in range(0, len(x)-1):\n",
    "    \n",
    "    # computing attention weights for this output, for visualization purposes\n",
    "    row= list(compute_attention_row(s, x, W=W, U=U, v=v).detach().numpy())\n",
    "    rows.append(row)\n",
    "    \n",
    "    # predicting what should be in this location.\n",
    "    with torch.no_grad():\n",
    "        s= torch.round(test_attention(s, x))\n",
    "        \n",
    "    y_hat.append(list(s))\n",
    "    \n",
    "# converting to numpy arrays\n",
    "y_hat= np.array(y_hat)\n",
    "x_p= np.array(x)\n",
    "\n",
    "# print inouts and predicted outputs\n",
    "print('input: ')\n",
    "print(x_p)\n",
    "print('output: ')\n",
    "print(y_hat)\n",
    "\n",
    "# generating attention matrix plot\n",
    "from matplotlib.ticker import MaxNLocator\n",
    "\n",
    "alignments= np.array(rows)\n",
    "plt.pcolormesh(alignments, edgecolors='k', linewidth=2)\n",
    "ax= plt.gca()\n",
    "ax.set_aspect('equal')\n",
    "ax.yaxis.set_major_locator(MaxNLocator(integer=True))\n",
    "ax.xaxis.set_major_locator(MaxNLocator(integer=True))\n",
    "plt.title('Algnment scores used in attention')\n",
    "plt.ylabel('output index (each row is attention for an output)')\n",
    "plt.xlabel('input index')\n",
    "plt.show()"
   ]
  },
  {
   "cell_type": "code",
   "execution_count": null,
   "id": "1d8d7c58",
   "metadata": {},
   "outputs": [],
   "source": []
  },
  {
   "cell_type": "code",
   "execution_count": null,
   "id": "157513df",
   "metadata": {},
   "outputs": [],
   "source": [
    "# https://towardsdatascience.com/attention-from-alignment-practically-explained-548ef6588aa4\n",
    "# https://towardsdatascience.com/multi-headed-self-attention-by-hand-d2ce1ae031db"
   ]
  }
 ],
 "metadata": {
  "kernelspec": {
   "display_name": "Python 3",
   "language": "python",
   "name": "python3"
  },
  "language_info": {
   "codemirror_mode": {
    "name": "ipython",
    "version": 3
   },
   "file_extension": ".py",
   "mimetype": "text/x-python",
   "name": "python",
   "nbconvert_exporter": "python",
   "pygments_lexer": "ipython3",
   "version": "3.8.8"
  }
 },
 "nbformat": 4,
 "nbformat_minor": 5
}
