{
 "cells": [
  {
   "cell_type": "markdown",
   "id": "5c86f01c",
   "metadata": {},
   "source": [
    "# Self-Supervised Learning Using Projection Heads"
   ]
  },
  {
   "cell_type": "code",
   "execution_count": 1,
   "id": "71213dab",
   "metadata": {},
   "outputs": [],
   "source": [
    "\"\"\"\n",
    "Self-Supervised Learning (SSL) aims to produce useful feature representations without access to \n",
    "any human-labeled data annotations. -- K Gupta Et al.\n",
    "\"\"\"\n",
    "\n",
    "import numpy as np\n",
    "import pandas as pd\n",
    "import matplotlib.pyplot as plt\n",
    "import torch\n",
    "import torch.nn as nn"
   ]
  },
  {
   "cell_type": "code",
   "execution_count": 2,
   "id": "759eff7f",
   "metadata": {},
   "outputs": [
    {
     "name": "stdout",
     "output_type": "stream",
     "text": [
      "Requirement already satisfied: nbimporter in /home/evortigosa/anaconda3/lib/python3.8/site-packages (0.3.4)\r\n"
     ]
    }
   ],
   "source": [
    "import sys\n",
    "\n",
    "!{sys.executable} -m pip install nbimporter\n",
    "\n",
    "import nbimporter\n",
    "import my_progressbar as pb"
   ]
  },
  {
   "cell_type": "code",
   "execution_count": 3,
   "id": "fee5c3cc",
   "metadata": {},
   "outputs": [
    {
     "name": "stdout",
     "output_type": "stream",
     "text": [
      "Length of the training set: 60000\n",
      "Length of the test set: 10000\n",
      "The number 5:\n"
     ]
    },
    {
     "data": {
      "image/png": "[encoded data removed]",
      "text/plain": [
       "<Figure size 432x288 with 1 Axes>"
      ]
     },
     "metadata": {
      "needs_background": "light"
     },
     "output_type": "display_data"
    },
    {
     "name": "stdout",
     "output_type": "stream",
     "text": [
      "The number 0:\n"
     ]
    },
    {
     "data": {
      "image/png": "[encoded data removed]",
      "text/plain": [
       "<Figure size 432x288 with 1 Axes>"
      ]
     },
     "metadata": {
      "needs_background": "light"
     },
     "output_type": "display_data"
    },
    {
     "name": "stdout",
     "output_type": "stream",
     "text": [
      "The number 4:\n"
     ]
    },
    {
     "data": {
      "image/png": "[encoded data removed]",
      "text/plain": [
       "<Figure size 432x288 with 1 Axes>"
      ]
     },
     "metadata": {
      "needs_background": "light"
     },
     "output_type": "display_data"
    }
   ],
   "source": [
    "# downloading and rendering sample MNIST data\n",
    "\n",
    "import torchvision\n",
    "import torchvision.datasets as datasets\n",
    "\n",
    "device= 'cuda' if torch.cuda.is_available() else 'cpu'\n",
    "\n",
    "# downloading MNIST\n",
    "mnist_trainset= datasets.MNIST(root='./data', train=True, download=True, transform=None)\n",
    "mnist_testset = datasets.MNIST(root='./data', train=False, download=True, transform=None)\n",
    "\n",
    "# printing lengths \n",
    "print('Length of the training set: {}'.format(len(mnist_trainset)))\n",
    "print('Length of the test set: {}'.format(len(mnist_testset)))\n",
    "\n",
    "# rendering some examples\n",
    "for i in range(3):\n",
    "    print('The number {}:'.format(mnist_trainset[i][1]))\n",
    "    plt.imshow(mnist_trainset[i][0], cmap= 'gray')\n",
    "    plt.show()"
   ]
  },
  {
   "cell_type": "code",
   "execution_count": 16,
   "id": "9b14ccf8",
   "metadata": {},
   "outputs": [
    {
     "name": "stdout",
     "output_type": "stream",
     "text": [
      "Processing labeld training x and y\n"
     ]
    },
    {
     "name": "stderr",
     "output_type": "stream",
     "text": [
      "100%|██████████| 200/200 [00:00<00:00, 2782.38it/s]\n",
      "100%|██████████| 200/200 [00:00<00:00, 21616.78it/s]\n"
     ]
    },
    {
     "name": "stdout",
     "output_type": "stream",
     "text": [
      "Processing unlabeled training data\n"
     ]
    },
    {
     "name": "stderr",
     "output_type": "stream",
     "text": [
      "100%|██████████| 59800/59800 [00:03<00:00, 16217.67it/s]\n"
     ]
    },
    {
     "name": "stdout",
     "output_type": "stream",
     "text": [
      "Processing labeled test x and y\n"
     ]
    },
    {
     "name": "stderr",
     "output_type": "stream",
     "text": [
      "100%|██████████| 10000/10000 [00:00<00:00, 16439.50it/s]\n",
      "100%|██████████| 10000/10000 [00:00<00:00, 27365.17it/s]\n"
     ]
    },
    {
     "name": "stdout",
     "output_type": "stream",
     "text": [
      "Reformatting shape...\n",
      "Done.\n"
     ]
    }
   ],
   "source": [
    "\"\"\"\n",
    "We will discard all but 200 of the training labels. That means we will have a set of 200 labeled images \n",
    "to train from, and 59,800 unlabeled images to train from. This modification reflects the types of \n",
    "applications in which self supervision is most useful: Datasets with a lot of data, but which are expensive \n",
    "to label.\n",
    "\"\"\"\n",
    "\n",
    "# creating unlabeled data, and handling necessary data preprocessing\n",
    "\n",
    "from tqdm import tqdm\n",
    "from sklearn.preprocessing import OneHotEncoder\n",
    "\n",
    "# data extraction\n",
    "# unlabeling some data, and one-hot encoding the labels which remain\n",
    "\n",
    "partition_index= 200\n",
    "\n",
    "def one_hot(y):\n",
    "    # for covering a np array of 0-9 into a one-hot encoding of vectors of length 10\n",
    "    b= np.zeros((y.size, y.max()+1))\n",
    "    b[np.arange(y.size), y]= 1\n",
    "    \n",
    "    return b\n",
    "\n",
    "print('Processing labeld training x and y')\n",
    "train_x= np.asarray([np.asarray(mnist_trainset[i][0]) for i in tqdm(range(partition_index))])\n",
    "train_y= one_hot(np.asarray([np.asarray(mnist_trainset[i][1]) for i in tqdm(range(partition_index))]))\n",
    "\n",
    "print('Processing unlabeled training data')\n",
    "train_unlabeled= np.asarray([np.asarray(mnist_trainset[i][0]) for i in tqdm(range(partition_index, \n",
    "                                                                                  len(mnist_trainset)))])\n",
    "\n",
    "print('Processing labeled test x and y')\n",
    "test_x= np.asarray([np.asarray(mnist_testset[i][0]) for i in tqdm(range(len(mnist_testset)))])\n",
    "test_y= one_hot(np.asarray([np.asarray(mnist_testset[i][1]) for i in tqdm(range(len(mnist_testset)))]))\n",
    "\n",
    "\n",
    "# data reformating\n",
    "# adding a channel dimension and covering to pytorch\n",
    "\n",
    "# adding a dimension to all X values to put them in the proper shape\n",
    "# (batch_size, channels, x, y)\n",
    "print('Reformatting shape...')\n",
    "train_x= np.expand_dims(train_x, 1)\n",
    "train_unlabeled= np.expand_dims(train_unlabeled, 1)\n",
    "test_x= np.expand_dims(test_x, 1)\n",
    "\n",
    "# converting data to pytorch type\n",
    "torch_train_x= torch.tensor(train_x.astype(np.float32), requires_grad=True).to(device)\n",
    "torch_train_y= torch.tensor(train_y).to(device)\n",
    "torch_train_unlabeled= torch.tensor(train_unlabeled.astype(np.float32), requires_grad=True).to(device)\n",
    "torch_test_x= torch.tensor(test_x.astype(np.float32), requires_grad=True).to(device)\n",
    "torch_test_y= torch.tensor(test_y).to(device)\n",
    "\n",
    "print('Done.')"
   ]
  },
  {
   "cell_type": "code",
   "execution_count": 17,
   "id": "cdd95a6b",
   "metadata": {},
   "outputs": [
    {
     "name": "stdout",
     "output_type": "stream",
     "text": [
      "torch.Size([1, 10])\n"
     ]
    },
    {
     "data": {
      "text/plain": [
       "Model(\n",
       "  (backbone): Backbone(\n",
       "    (conv1): Conv2d(1, 16, kernel_size=(3, 3), stride=(1, 1))\n",
       "    (conv2): Conv2d(16, 16, kernel_size=(3, 3), stride=(1, 1))\n",
       "    (conv3): Conv2d(16, 32, kernel_size=(3, 3), stride=(1, 1))\n",
       "  )\n",
       "  (head): Head(\n",
       "    (fc1): Linear(in_features=32, out_features=32, bias=True)\n",
       "    (fc2): Linear(in_features=32, out_features=16, bias=True)\n",
       "    (fc3): Linear(in_features=16, out_features=10, bias=True)\n",
       "  )\n",
       ")"
      ]
     },
     "execution_count": 17,
     "metadata": {},
     "output_type": "execute_result"
    }
   ],
   "source": [
    "\"\"\"\n",
    "Using PyTorch to create a modified, smaller version of AlexNet\n",
    "\n",
    "To speed up training, this problem uses a super simple conv net and minimal hyperparameter exploration. \n",
    "This model has two general parts: the convolutional backbone and the densely connected head.\n",
    "\"\"\"\n",
    "\n",
    "import torch.nn.functional as F\n",
    "\n",
    "# defining model backbone\n",
    "class Backbone(nn.Module):\n",
    "    \n",
    "    def __init__(self):\n",
    "        super(Backbone, self).__init__()\n",
    "        self.conv1= nn.Conv2d(1, 16, 3)\n",
    "        self.conv2= nn.Conv2d(16, 16, 3)\n",
    "        self.conv3= nn.Conv2d(16, 32, 3)\n",
    "        \n",
    "        if torch.cuda.is_available():\n",
    "            self.cuda()\n",
    "            \n",
    "    def forward(self, x):\n",
    "        x= F.relu(self.conv1(x))\n",
    "        x= F.max_pool2d(x, 2)\n",
    "        x= F.relu(self.conv2(x))\n",
    "        x= F.max_pool2d(x, 2)\n",
    "        x= F.relu(self.conv3(x))\n",
    "        x= F.max_pool2d(x, 2)\n",
    "        \n",
    "        x= torch.flatten(x, 1)\n",
    "        \n",
    "        return x\n",
    "\n",
    "    \n",
    "# defining model head\n",
    "class Head(nn.Module):\n",
    "    \n",
    "    def __init__(self, n_class=10):\n",
    "        super(Head, self).__init__()\n",
    "        self.fc1= nn.Linear(32, 32)\n",
    "        self.fc2= nn.Linear(32, 16)\n",
    "        self.fc3= nn.Linear(16, n_class)\n",
    "        \n",
    "        if torch.cuda.is_available():\n",
    "            self.cuda()\n",
    "            \n",
    "    def forward(self, x):\n",
    "        x= self.fc1(x)\n",
    "        x= F.relu(x)\n",
    "        x= self.fc2(x)\n",
    "        x= F.relu(x)\n",
    "        x= self.fc3(x)\n",
    "        x= F.softmax(x, 1)\n",
    "        \n",
    "        return x\n",
    "    \n",
    "    \n",
    "# defining the full model\n",
    "class Model(nn.Module):\n",
    "    \n",
    "    def __init__(self):\n",
    "        super(Model, self).__init__()\n",
    "        self.backbone= Backbone()\n",
    "        self.head= Head()\n",
    "        \n",
    "        if torch.cuda.is_available():\n",
    "            self.cuda()\n",
    "            \n",
    "    def forward(self, x):\n",
    "        x= self.backbone(x)\n",
    "        x= self.head(x)\n",
    "        \n",
    "        return x\n",
    "    \n",
    "\n",
    "model_baseline= Model()\n",
    "print(model_baseline(torch_train_x[:1]).shape)\n",
    "model_baseline"
   ]
  },
  {
   "cell_type": "code",
   "execution_count": 18,
   "id": "25becf2c",
   "metadata": {},
   "outputs": [
    {
     "name": "stdout",
     "output_type": "stream",
     "text": [
      "Number of parameters: 8874\n"
     ]
    }
   ],
   "source": [
    "total_params= sum(p.numel() for p in model_baseline.parameters())\n",
    "print(f\"Number of parameters: {total_params}\")"
   ]
  },
  {
   "cell_type": "code",
   "execution_count": 14,
   "id": "11a3a775",
   "metadata": {},
   "outputs": [
    {
     "name": "stdout",
     "output_type": "stream",
     "text": [
      "Progress: [█████████...............................] 23.9% - Est wait 121:31.6 min   \n",
      "Early stopping at epoch 2389\n"
     ]
    },
    {
     "data": {
      "image/png": "[encoded data removed]",
      "text/plain": [
       "<Figure size 432x288 with 1 Axes>"
      ]
     },
     "metadata": {
      "needs_background": "light"
     },
     "output_type": "display_data"
    },
    {
     "data": {
      "image/png": "[encoded data removed]",
      "text/plain": [
       "<Figure size 432x288 with 1 Axes>"
      ]
     },
     "metadata": {
      "needs_background": "light"
     },
     "output_type": "display_data"
    },
    {
     "name": "stdout",
     "output_type": "stream",
     "text": [
      "max accuracy: 0.5916\n"
     ]
    }
   ],
   "source": [
    "\"\"\"\n",
    "Training model using only supervised learning, and rendering the results.\n",
    "To get an idea of how much self supervision improves performance, we'll train \n",
    "our baseline model on only the 200 labeled samples.\n",
    "This supervised training function is reused in the future for fine tuning\n",
    "\"\"\"\n",
    "\n",
    "def supervised_train(model, early_stop:bool=False, cutoff=1e-9):\n",
    "    \n",
    "    # defining key hyperparamaters explicitly (instead of hyperparamater search)\n",
    "    batch_size= 64\n",
    "    lr= 0.001\n",
    "    momentum= 0.9\n",
    "    num_epochs= 10000\n",
    "    epoch_size= int(len(train_x)/batch_size)-1\n",
    "    \n",
    "    # defining a SGD optimizer\n",
    "    optimizer= torch.optim.SGD(model.parameters(), lr=lr, momentum=momentum)\n",
    "    \n",
    "    # defining the loss function\n",
    "    loss_fn= torch.nn.CrossEntropyLoss()\n",
    "    \n",
    "    train_hist= []\n",
    "    test_hist= []\n",
    "    test_accuracy= []\n",
    "    \n",
    "    # for early stopping\n",
    "    cutoff_ratio= cutoff\n",
    "    patience= 10\n",
    "    patience_count= 0\n",
    "    previous_loss= 1e10\n",
    "    \n",
    "    \n",
    "    #for epoch in tqdm(range(num_epochs)):\n",
    "    for epoch in pb.progressbar(range(num_epochs), \"Progress: \"):\n",
    "        \n",
    "        # iterating over all batches\n",
    "        for i in range(epoch_size):\n",
    "            \n",
    "            # put the model in training mode, so that things like dropout work\n",
    "            model.train(True)\n",
    "            \n",
    "            # zero gradients\n",
    "            optimizer.zero_grad()\n",
    "            \n",
    "            # extracting X and y values from batch\n",
    "            X= torch_train_x[(i * batch_size):((i+1) * batch_size)]\n",
    "            y= torch_train_y[(i * batch_size):((i+1) * batch_size)]\n",
    "            \n",
    "            # make predictions for this batch\n",
    "            y_pred= model(X)\n",
    "            \n",
    "            # compute gradients\n",
    "            loss= loss_fn(y_pred, y)\n",
    "            loss.backward()\n",
    "            \n",
    "            # adjust learning weights\n",
    "            optimizer.step()\n",
    "            \n",
    "        \n",
    "        with torch.no_grad():\n",
    "            \n",
    "            # disable things like dropout, if they exist\n",
    "            model.train(False)\n",
    "            \n",
    "            # calculating epoch training and test loss\n",
    "            train_loss= loss_fn(model(torch_train_x), torch_train_y).cpu().numpy()\n",
    "            y_pred_test= model(torch_test_x)\n",
    "            test_loss= loss_fn(y_pred_test, torch_test_y).cpu().numpy()\n",
    "            \n",
    "            train_hist.append(train_loss)\n",
    "            test_hist.append(test_loss)\n",
    "            \n",
    "            # computing test accuracy\n",
    "            matches= np.equal(np.argmax(y_pred_test.cpu().numpy(), axis=1), \n",
    "                              np.argmax(torch_test_y.cpu().numpy(), axis=1))\n",
    "            test_accuracy.append(matches.sum() / len(matches))\n",
    "        \n",
    "        \n",
    "        # for early stopping -- calculating loss change\n",
    "        loss_change= np.abs(previous_loss - train_loss)\n",
    "        \n",
    "        # deciding to stop if loss is not decreasing fast enough\n",
    "        if (early_stop and loss_change < cutoff_ratio):\n",
    "            patience_count += 1\n",
    "            \n",
    "            if (patience_count > patience):\n",
    "                print('\\nEarly stopping at epoch {}'.format(epoch))\n",
    "                break\n",
    "        else:\n",
    "            patience_count= 0\n",
    "\n",
    "        # setting current train loss as previous loss\n",
    "        previous_loss= train_loss\n",
    "        \n",
    "    \n",
    "    # ploting\n",
    "    plt.plot(train_hist, label='train loss')\n",
    "    plt.plot(test_hist, label='test loss')\n",
    "    plt.legend()\n",
    "    plt.show()\n",
    "    \n",
    "    plt.plot(test_accuracy, label='test accuracy')\n",
    "    plt.legend()\n",
    "    plt.show()\n",
    "    \n",
    "    maxacc= max(test_accuracy)\n",
    "    print('max accuracy: {}'.format(maxacc))\n",
    "    \n",
    "    return maxacc\n",
    "\n",
    "\n",
    "supervised_maxacc= supervised_train(model_baseline, early_stop=True, cutoff=1e-6)"
   ]
  },
  {
   "cell_type": "code",
   "execution_count": 15,
   "id": "0966a049",
   "metadata": {},
   "outputs": [
    {
     "name": "stdout",
     "output_type": "stream",
     "text": [
      "Progress: [████████████████████████████████████████] 100.0% - Elapsed time 171:07 min   \n",
      "\n"
     ]
    },
    {
     "data": {
      "image/png": "[encoded data removed]",
      "text/plain": [
       "<Figure size 432x288 with 1 Axes>"
      ]
     },
     "metadata": {
      "needs_background": "light"
     },
     "output_type": "display_data"
    },
    {
     "data": {
      "image/png": "[encoded data removed]",
      "text/plain": [
       "<Figure size 432x288 with 1 Axes>"
      ]
     },
     "metadata": {
      "needs_background": "light"
     },
     "output_type": "display_data"
    },
    {
     "name": "stdout",
     "output_type": "stream",
     "text": [
      "max accuracy: 0.4936\n"
     ]
    }
   ],
   "source": [
    "model_baseline_2= Model()\n",
    "\n",
    "supervised_maxacc= supervised_train(model_baseline_2)"
   ]
  },
  {
   "cell_type": "code",
   "execution_count": 7,
   "id": "66aee1c7",
   "metadata": {},
   "outputs": [
    {
     "data": {
      "image/png": "[encoded data removed]",
      "text/plain": [
       "<Figure size 432x288 with 4 Axes>"
      ]
     },
     "metadata": {
      "needs_background": "light"
     },
     "output_type": "display_data"
    }
   ],
   "source": [
    "import torchvision.transforms as T\n",
    "\n",
    "class Augment:\n",
    "    \"\"\"\n",
    "    A stochastic data augmentation module transforms any given data example randomly resulting in two \n",
    "    correlated views of the same example, denoted x'i and x'j, which we consider as a positive pair.\n",
    "    \"\"\"\n",
    "    \n",
    "    def __init__(self):\n",
    "        \n",
    "        blur= T.GaussianBlur((3, 3), (0.1, 2.0))\n",
    "        \n",
    "        self.train_transform= torch.nn.Sequential(\n",
    "            T.RandomAffine(degrees= (-50, 50), translate= (0.1, 0.1), scale=(0.5, 1.5), shear=0.2),\n",
    "            T.RandomPerspective(0.4, 0.5),\n",
    "            T.RandomPerspective(0.2, 0.5),\n",
    "            T.RandomPerspective(0.2, 0.5),\n",
    "            T.RandomApply([blur], p=0.25),\n",
    "            T.RandomApply([blur], p=0.25)\n",
    "        )\n",
    "        \n",
    "    def __call__(self, x):\n",
    "        \n",
    "        return self.train_transform(x), self.train_transform(x)\n",
    "    \n",
    "    \n",
    "# generating test augmentation\n",
    "a= Augment()\n",
    "aug= a(torch_train_unlabeled[0:100])\n",
    "\n",
    "i= 1\n",
    "f, axarr= plt.subplots(2, 2)\n",
    "\n",
    "# positive pair\n",
    "axarr[0, 0].imshow(aug[0].cpu().detach().numpy()[i,0])\n",
    "axarr[0, 1].imshow(aug[1].cpu().detach().numpy()[i,0])\n",
    "\n",
    "# another positive pair\n",
    "axarr[1, 0].imshow(aug[0].cpu().detach().numpy()[i+1,0])\n",
    "axarr[1, 1].imshow(aug[1].cpu().detach().numpy()[i+1,0])\n",
    "plt.show()"
   ]
  },
  {
   "cell_type": "code",
   "execution_count": 8,
   "id": "4e4c0cc8",
   "metadata": {},
   "outputs": [
    {
     "data": {
      "text/plain": [
       "tensor(5.9890, grad_fn=<DivBackward0>)"
      ]
     },
     "execution_count": 8,
     "metadata": {},
     "output_type": "execute_result"
    }
   ],
   "source": [
    "\"\"\"\n",
    "Contrastive loss is the loss function used to entice positive pairs to be positioned closely in an \n",
    "embedding space, and negative pairs to be positioned further apart.\n",
    "\"\"\"\n",
    "\n",
    "class ContrastiveLoss(nn.Module):\n",
    "    \n",
    "    # Vanilla Contrastive loss, also called InfoNceLoss as in SimCLR paper\n",
    "    def __init__(self, batch_size, temperature=0.5):\n",
    "        \"\"\"\n",
    "        Defining certain constants used between calculations. The mask is important\n",
    "        in understanding which are positive and negative examples. For more information see\n",
    "        https://theaisummer.com/simclr/\n",
    "        \"\"\"\n",
    "        super().__init__()\n",
    "        self.batch_size= batch_size\n",
    "        self.temperature= temperature\n",
    "        self.mask= (~torch.eye(batch_size * 2, batch_size * 2, dtype=bool)).float().to(device)\n",
    "        \n",
    "    \n",
    "    def calc_similarity_batch(self, a, b):\n",
    "        \"\"\"\n",
    "        Defines the cosin similarity between one example, and all other examples.\n",
    "        For more information see https://theaisummer.com/simclr/\n",
    "        \"\"\"\n",
    "        representations= torch.cat([a, b], dim=0)\n",
    "        \n",
    "        return F.cosine_similarity(representations.unsqueeze(1), representations.unsqueeze(0), dim=2)\n",
    "    \n",
    "    \n",
    "    def forward(self, proj_1, proj_2):\n",
    "        \"\"\"\n",
    "        The actual loss function, where proj_1 and proj_2 are embeddings from the projection head. \n",
    "        This function calculates the cosin similarity between all vectors, and rewards closeness \n",
    "        between examples which come from the same example, and farness for examples which do not. \n",
    "        For more information see https://theaisummer.com/simclr/\n",
    "        \"\"\"\n",
    "        batch_size= proj_1.shape[0]\n",
    "        z_i= F.normalize(proj_1, p=2, dim=1)\n",
    "        z_j= F.normalize(proj_2, p=2, dim=1)\n",
    "\n",
    "        similarity_matrix= self.calc_similarity_batch(z_i, z_j)\n",
    "\n",
    "        sim_ij= torch.diag(similarity_matrix, batch_size)\n",
    "        sim_ji= torch.diag(similarity_matrix, -batch_size)\n",
    "\n",
    "        positives= torch.cat([sim_ij, sim_ji], dim=0)\n",
    "\n",
    "        nominator= torch.exp(positives / self.temperature)\n",
    "\n",
    "        denominator= self.mask * torch.exp(similarity_matrix / self.temperature)\n",
    "\n",
    "        all_losses= -torch.log(nominator / torch.sum(denominator, dim=1))\n",
    "        loss= torch.sum(all_losses) / (2 * self.batch_size)\n",
    "        \n",
    "        return loss\n",
    "    \n",
    "    \n",
    "# testing\n",
    "loss= ContrastiveLoss(torch_train_x.shape[0]).forward\n",
    "fake_proj_0, fake_proj_1= a(torch_train_x)\n",
    "fake_proj_0= fake_proj_0[:,0,:,0]\n",
    "fake_proj_1= fake_proj_1[:,0,:,0]\n",
    "\n",
    "loss(fake_proj_0, fake_proj_1)"
   ]
  },
  {
   "cell_type": "code",
   "execution_count": 11,
   "id": "ec55d0a3",
   "metadata": {
    "scrolled": true
   },
   "outputs": [
    {
     "name": "stdout",
     "output_type": "stream",
     "text": [
      "Epoch 0/100\n",
      "Progress: [████████████████████████████████████████] 100.0% - Elapsed time 02:14 min   \n",
      "\n",
      "Percentage Loss Reduction: 0.9999999993083256\n",
      "Average Loss: 6.9167443226123675\n",
      "Average Loss change (if calculated): -0.012063659470656822\n",
      "Epoch 1/100\n",
      "Progress: [████████████████████████████████████████] 100.0% - Elapsed time 02:11 min   \n",
      "\n",
      "Percentage Loss Reduction: 0.01708598580038306\n",
      "Average Loss: 6.798564927331332\n",
      "Average Loss change (if calculated): -0.017126128591340165\n",
      "Epoch 2/100\n",
      "Progress: [████████████████████████████████████████] 100.0% - Elapsed time 02:11 min   \n",
      "\n",
      "Percentage Loss Reduction: 0.031787189831070574\n",
      "Average Loss: 6.582457653407393\n",
      "Average Loss change (if calculated): -0.023627564824860673\n",
      "Epoch 3/100\n",
      "Progress: [████████████████████████████████████████] 100.0% - Elapsed time 02:12 min   \n",
      "\n",
      "Percentage Loss Reduction: 0.019786598733340783\n",
      "Average Loss: 6.452213205140213\n",
      "Average Loss change (if calculated): -0.02406615635444378\n",
      "Epoch 4/100\n",
      "Progress: [████████████████████████████████████████] 100.0% - Elapsed time 02:12 min   \n",
      "\n",
      "Percentage Loss Reduction: 0.01655434583699706\n",
      "Average Loss: 6.3454010363282825\n",
      "Average Loss change (if calculated): -0.01964840395697232\n",
      "Epoch 5/100\n",
      "Progress: [████████████████████████████████████████] 100.0% - Elapsed time 02:11 min   \n",
      "\n",
      "Percentage Loss Reduction: 0.005984430179671399\n",
      "Average Loss: 6.307427426864361\n",
      "Average Loss change (if calculated): -0.017572094654214793\n",
      "Epoch 6/100\n",
      "Progress: [████████████████████████████████████████] 100.0% - Elapsed time 02:12 min   \n",
      "\n",
      "Percentage Loss Reduction: 0.0024273862945995346\n",
      "Average Loss: 6.2921168639742096\n",
      "Average Loss change (if calculated): -0.017302883082422716\n",
      "Epoch 7/100\n",
      "Progress: [████████████████████████████████████████] 100.0% - Elapsed time 02:04 min   \n",
      "\n",
      "Percentage Loss Reduction: 0.0130569645802231\n",
      "Average Loss: 6.209960916946674\n",
      "Average Loss change (if calculated): -0.014292996505211139\n",
      "Epoch 8/100\n",
      "Progress: [████████████████████████████████████████] 100.0% - Elapsed time 02:00 min   \n",
      "\n",
      "Percentage Loss Reduction: -0.0024069909702821245\n",
      "Patience counter: 1\n",
      "Average Loss: 6.224908236799569\n",
      "Average Loss change (if calculated): -0.014153644956391433\n",
      "Epoch 9/100\n",
      "Progress: [████████████████████████████████████████] 100.0% - Elapsed time 02:00 min   \n",
      "\n",
      "Percentage Loss Reduction: 0.0012995777166666762\n",
      "Average Loss: 6.21681848476673\n",
      "Average Loss change (if calculated): -0.016201898969452958\n",
      "Epoch 10/100\n",
      "Progress: [████████████████████████████████████████] 100.0% - Elapsed time 01:59 min   \n",
      "\n",
      "Percentage Loss Reduction: 0.008047571801943145\n",
      "Average Loss: 6.166788191630922\n",
      "Average Loss change (if calculated): -0.012190576257376835\n",
      "Epoch 11/100\n",
      "Progress: [████████████████████████████████████████] 100.0% - Elapsed time 01:59 min   \n",
      "\n",
      "Percentage Loss Reduction: -0.0011316122651674476\n",
      "Patience counter: 1\n",
      "Average Loss: 6.1737666047852615\n",
      "Average Loss change (if calculated): -0.01145134712087697\n",
      "Epoch 12/100\n",
      "Progress: [████████████████████████████████████████] 100.0% - Elapsed time 02:00 min   \n",
      "\n",
      "Percentage Loss Reduction: 0.005032157716111801\n",
      "Average Loss: 6.142699237527518\n",
      "Average Loss change (if calculated): -0.010365798555571458\n",
      "Epoch 13/100\n",
      "Progress: [████████████████████████████████████████] 100.0% - Elapsed time 01:59 min   \n",
      "\n",
      "Percentage Loss Reduction: -0.003783641993608995\n",
      "Patience counter: 1\n",
      "Average Loss: 6.165941012316737\n",
      "Average Loss change (if calculated): -0.011688972341603246\n",
      "Epoch 14/100\n",
      "Progress: [████████████████████████████████████████] 100.0% - Elapsed time 02:01 min   \n",
      "\n",
      "Percentage Loss Reduction: 0.004363227472117323\n",
      "Average Loss: 6.139037609100342\n",
      "Average Loss change (if calculated): -0.01026980630282698\n",
      "Epoch 15/100\n",
      "Progress: [████████████████████████████████████████] 100.0% - Elapsed time 02:01 min   \n",
      "\n",
      "Percentage Loss Reduction: 0.002365505571688187\n",
      "Average Loss: 6.124515681431212\n",
      "Average Loss change (if calculated): -0.009513468577943999\n",
      "Epoch 16/100\n",
      "Progress: [████████████████████████████████████████] 100.0% - Elapsed time 02:01 min   \n",
      "\n",
      "Percentage Loss Reduction: 0.0005232079070060878\n",
      "Patience counter: 1\n",
      "Average Loss: 6.121311286400104\n",
      "Average Loss change (if calculated): -0.01013712636355696\n",
      "Epoch 17/100\n",
      "Progress: [████████████████████████████████████████] 100.0% - Elapsed time 02:01 min   \n",
      "\n",
      "Percentage Loss Reduction: 0.0011944921010825765\n",
      "Average Loss: 6.1139994284202315\n",
      "Average Loss change (if calculated): -0.008932915227166537\n",
      "Epoch 18/100\n",
      "Progress: [████████████████████████████████████████] 100.0% - Elapsed time 02:02 min   \n",
      "\n",
      "Percentage Loss Reduction: -0.0010481645814150176\n",
      "Patience counter: 1\n",
      "Average Loss: 6.120407906071893\n",
      "Average Loss change (if calculated): -0.008450820528227708\n",
      "Epoch 19/100\n",
      "Progress: [████████████████████████████████████████] 100.0% - Elapsed time 02:01 min   \n",
      "\n",
      "Percentage Loss Reduction: 0.004189582044401891\n",
      "Average Loss: 6.094765955004199\n",
      "Average Loss change (if calculated): -0.007070714029772529\n",
      "Epoch 20/100\n",
      "Progress: [████████████████████████████████████████] 100.0% - Elapsed time 02:04 min   \n",
      "\n",
      "Percentage Loss Reduction: 0.005223552993015033\n",
      "Average Loss: 6.062929622058211\n",
      "Average Loss change (if calculated): -0.006379444023658489\n",
      "Epoch 21/100\n",
      "Progress: [████████████████████████████████████████] 100.0% - Elapsed time 02:02 min   \n",
      "\n",
      "Percentage Loss Reduction: 0.0024092309815720117\n",
      "Average Loss: 6.048322624173657\n",
      "Average Loss change (if calculated): -0.006312123660383554\n",
      "Epoch 22/100\n",
      "Progress: [████████████████████████████████████████] 100.0% - Elapsed time 02:03 min   \n",
      "\n",
      "Percentage Loss Reduction: -0.00720006648428751\n",
      "Patience counter: 1\n",
      "Average Loss: 6.091870949186128\n",
      "Average Loss change (if calculated): -0.006587007950092184\n",
      "Epoch 23/100\n",
      "Progress: [████████████████████████████████████████] 100.0% - Elapsed time 02:03 min   \n",
      "\n",
      "Percentage Loss Reduction: 0.0025403794293412515\n",
      "Average Loss: 6.076395285540614\n",
      "Average Loss change (if calculated): -0.007175293462029819\n",
      "Epoch 24/100\n",
      "Progress: [████████████████████████████████████████] 100.0% - Elapsed time 02:02 min   \n",
      "\n",
      "Percentage Loss Reduction: 0.0020547943282558973\n",
      "Average Loss: 6.063909542971644\n",
      "Average Loss change (if calculated): -0.006120944845265356\n",
      "Epoch 25/100\n",
      "Progress: [████████████████████████████████████████] 100.0% - Elapsed time 02:02 min   \n",
      "\n",
      "Percentage Loss Reduction: 0.0017174335929542495\n",
      "Average Loss: 6.053495181017909\n",
      "Average Loss change (if calculated): -0.005753315728286217\n",
      "Epoch 26/100\n",
      "Progress: [████████████████████████████████████████] 100.0% - Elapsed time 02:03 min   \n",
      "\n",
      "Percentage Loss Reduction: 0.0004638947212013811\n",
      "Patience counter: 1\n",
      "Average Loss: 6.050686996558617\n",
      "Average Loss change (if calculated): -0.0051683721871211615\n",
      "Epoch 27/100\n",
      "Progress: [████████████████████████████████████████] 100.0% - Elapsed time 02:02 min   \n",
      "\n",
      "Percentage Loss Reduction: 0.00180474668935719\n",
      "Average Loss: 6.039767039233241\n",
      "Average Loss change (if calculated): -0.0052403293806931065\n",
      "Epoch 28/100\n",
      "Progress: [████████████████████████████████████████] 100.0% - Elapsed time 02:04 min   \n",
      "\n",
      "Percentage Loss Reduction: -0.002069078302040984\n",
      "Patience counter: 1\n",
      "Average Loss: 6.052263790163501\n",
      "Average Loss change (if calculated): -0.004660532392304519\n",
      "Epoch 29/100\n",
      "Progress: [████████████████████████████████████████] 100.0% - Elapsed time 02:03 min   \n",
      "\n",
      "Percentage Loss Reduction: -0.002344287861137539\n",
      "Patience counter: 2\n",
      "Average Loss: 6.066452038699183\n",
      "Average Loss change (if calculated): -0.005064980737094222\n",
      "Epoch 30/100\n",
      "Progress: [████████████████████████████████████████] 100.0% - Elapsed time 02:02 min   \n",
      "\n",
      "Percentage Loss Reduction: 0.0016427571589250913\n",
      "Average Loss: 6.056486331183335\n",
      "Average Loss change (if calculated): -0.0050738762164938035\n",
      "Epoch 31/100\n",
      "Progress: [████████████████████████████████████████] 100.0% - Elapsed time 02:01 min   \n",
      "\n",
      "Percentage Loss Reduction: 0.003221403848279901\n",
      "Average Loss: 6.036975942809006\n",
      "Average Loss change (if calculated): -0.0043664266323221144\n",
      "Epoch 32/100\n",
      "Progress: [████████████████████████████████████████] 100.0% - Elapsed time 02:03 min   \n",
      "\n",
      "Percentage Loss Reduction: 0.0021861805551490012\n",
      "Average Loss: 6.023778023390935\n",
      "Average Loss change (if calculated): -0.0037468795118660763\n",
      "Epoch 33/100\n"
     ]
    },
    {
     "name": "stdout",
     "output_type": "stream",
     "text": [
      "Progress: [████████████████████████████████████████] 100.0% - Elapsed time 02:03 min   \n",
      "\n",
      "Percentage Loss Reduction: 0.00038010586858230433\n",
      "Patience counter: 1\n",
      "Average Loss: 6.021488350013207\n",
      "Average Loss change (if calculated): -0.0035582739731361127\n",
      "Epoch 34/100\n",
      "Progress: [████████████████████████████████████████] 100.0% - Elapsed time 02:03 min   \n",
      "\n",
      "Percentage Loss Reduction: -0.00011827802247962336\n",
      "Patience counter: 2\n",
      "Average Loss: 6.02220055974763\n",
      "Average Loss change (if calculated): -0.0036272632664647595\n",
      "Epoch 35/100\n",
      "Progress: [████████████████████████████████████████] 100.0% - Elapsed time 02:00 min   \n",
      "\n",
      "Percentage Loss Reduction: -0.0005356335039462802\n",
      "Patience counter: 3\n",
      "Average Loss: 6.025426252134915\n",
      "Average Loss change (if calculated): -0.003760317276264059\n",
      "Epoch 36/100\n",
      "Progress: [████████████████████████████████████████] 100.0% - Elapsed time 02:01 min   \n",
      "\n",
      "Percentage Loss Reduction: 0.0012971652435855806\n",
      "Average Loss: 6.017610278622858\n",
      "Average Loss change (if calculated): -0.003110692418854812\n",
      "Epoch 37/100\n",
      "Progress: [████████████████████████████████████████] 100.0% - Elapsed time 02:01 min   \n",
      "\n",
      "Percentage Loss Reduction: -0.0002327437476719105\n",
      "Patience counter: 1\n",
      "Average Loss: 6.019010839791133\n",
      "Average Loss change (if calculated): -0.0034695699297148607\n",
      "Epoch 38/100\n",
      "Progress: [████████████████████████████████████████] 100.0% - Elapsed time 02:04 min   \n",
      "\n",
      "Percentage Loss Reduction: 0.0002488330908716925\n",
      "Patience counter: 2\n",
      "Average Loss: 6.017513110719878\n",
      "Average Loss change (if calculated): -0.0030500231118037783\n",
      "Epoch 39/100\n",
      "Progress: [████████████████████████████████████████] 100.0% - Elapsed time 02:03 min   \n",
      "\n",
      "Percentage Loss Reduction: -0.0002544487649313841\n",
      "Patience counter: 3\n",
      "Average Loss: 6.019044259498859\n",
      "Average Loss change (if calculated): -0.0030634855401927025\n",
      "Epoch 40/100\n",
      "Progress: [████████████████████████████████████████] 100.0% - Elapsed time 02:02 min   \n",
      "\n",
      "Percentage Loss Reduction: -0.0012531522249276791\n",
      "Patience counter: 4\n",
      "Average Loss: 6.026587038204588\n",
      "Average Loss change (if calculated): -0.0029234310676311626\n",
      "Epoch 41/100\n",
      "Progress: [████████████████████████████████████████] 100.0% - Elapsed time 02:03 min   \n",
      "\n",
      "Percentage Loss Reduction: -0.002457713910405473\n",
      "Patience counter: 5\n",
      "Average Loss: 6.041398665000653\n",
      "Average Loss change (if calculated): -0.003050306747699606\n",
      "Epoch 42/100\n",
      "Progress: [████████████████████████████████████████] 100.0% - Elapsed time 02:02 min   \n",
      "\n",
      "Percentage Loss Reduction: 0.00038138685452225027\n",
      "Patience counter: 6\n",
      "Early stopping.\n"
     ]
    }
   ],
   "source": [
    "\"\"\"\n",
    "Self Supervised Training\n",
    "Training the model to understand image similarity and difference via self supervision and contrastive loss. \n",
    "Because this is an intermediary step, it's difficult to create clear and intuitive performance indicators.\n",
    "\"\"\"\n",
    "\n",
    "from torch.optim.lr_scheduler import ExponentialLR\n",
    "\n",
    "def self_supervised_train(model, early_stop:bool=False, cutoff=0.001):\n",
    "\n",
    "    # defining key hyperparameters explicitly (instead of hyperparamater search)\n",
    "    batch_size= 512\n",
    "    lr=1e-3\n",
    "    num_epochs= 100\n",
    "    epoch_size= round(torch_train_unlabeled.shape[0]/batch_size)-1\n",
    "\n",
    "    # defining key learning functions \n",
    "    optimizer= torch.optim.Adam(model.parameters(), lr=lr)\n",
    "    loss_fn= ContrastiveLoss(batch_size).forward\n",
    "    augment_fn= Augment()\n",
    "\n",
    "    # for exponentially decreasing learning rate\n",
    "    scheduler= ExponentialLR(optimizer, gamma=0.95)\n",
    "\n",
    "\n",
    "    # for book keeping\n",
    "    loss_hist= []\n",
    "    improvement_hist= []\n",
    "    schedule_hist= []\n",
    "\n",
    "    # for early stopping\n",
    "    cutoff_ratio= cutoff\n",
    "    patience= 5\n",
    "    patience_count= 0\n",
    "    avg_loss= 1e10\n",
    "    \n",
    "\n",
    "    # training loop\n",
    "    for i in range(num_epochs):\n",
    "\n",
    "        print('Epoch {}/{}'.format(i, num_epochs))\n",
    "\n",
    "        total_loss= 0\n",
    "        loss_change= 0\n",
    "\n",
    "        #for j in tqdm(range(epoch_size)):\n",
    "        for j in pb.progressbar(range(epoch_size), \"Progress: \"):\n",
    "\n",
    "            # getting random batch\n",
    "            X= torch_train_unlabeled[(j * batch_size):((j+1) * batch_size)]\n",
    "\n",
    "            # creating pairs of augmented batches\n",
    "            X_aug_i, X_aug_j= augment_fn(X)\n",
    "\n",
    "            # ensuring gradients are zero\n",
    "            optimizer.zero_grad()\n",
    "\n",
    "            # passing through the model\n",
    "            z_i= model(X_aug_i)\n",
    "            z_j= model(X_aug_j)\n",
    "\n",
    "            # calculating loss on the model embeddings, and computing gradients\n",
    "            loss= loss_fn(z_i, z_j)\n",
    "            loss.backward()\n",
    "\n",
    "            # adjust learning weights\n",
    "            optimizer.step()\n",
    "\n",
    "            \n",
    "            # checking if backpropagation resulted in a reduction of the loss\n",
    "            if True:\n",
    "                # passing through the model, now that parameters have been updated\n",
    "                z_i= model(X_aug_i)\n",
    "                z_j= model(X_aug_j)\n",
    "\n",
    "                # calculating new loss value\n",
    "                new_loss= loss_fn(z_i, z_j)\n",
    "\n",
    "                loss_change += (new_loss.cpu().detach().numpy() - loss.cpu().detach().numpy())\n",
    "\n",
    "            total_loss += loss.cpu().detach().numpy()\n",
    "\n",
    "            # step learning rate scheduler\n",
    "            schedule_hist.append(scheduler.get_last_lr())\n",
    "\n",
    "        scheduler.step()\n",
    "\n",
    "\n",
    "        # for early stopping -- calculating percentage loss reduction\n",
    "        new_avg_loss= total_loss/epoch_size\n",
    "        per_loss_reduction= (avg_loss - new_avg_loss)/avg_loss\n",
    "        print('Percentage Loss Reduction: {}'.format(per_loss_reduction))\n",
    "\n",
    "        # deciding to stop if loss is not decreasing fast enough\n",
    "        if (early_stop and per_loss_reduction < cutoff_ratio):\n",
    "            patience_count += 1\n",
    "            print('Patience counter: {}'.format(patience_count))\n",
    "\n",
    "            if (patience_count > patience):\n",
    "                print('Early stopping.')\n",
    "                break\n",
    "        else:\n",
    "            patience_count= 0\n",
    "\n",
    "        # setting new loss as previous loss \n",
    "        avg_loss= new_avg_loss\n",
    "\n",
    "\n",
    "        # book keeping\n",
    "        avg_improvement= loss_change/epoch_size\n",
    "        loss_hist.append(avg_loss)\n",
    "        improvement_hist.append(avg_improvement)\n",
    "\n",
    "        print('Average Loss: {}'.format(avg_loss))\n",
    "        print('Average Loss change (if calculated): {}'.format(avg_improvement))\n",
    "        \n",
    "    return schedule_hist, loss_hist, improvement_hist\n",
    "\n",
    "\n",
    "# defining a new model\n",
    "model= Model()\n",
    "model.train()\n",
    "\n",
    "schedule_hist,loss_hist,improvement_hist= self_supervised_train(model, early_stop=True)"
   ]
  },
  {
   "cell_type": "code",
   "execution_count": 12,
   "id": "b15608fc",
   "metadata": {},
   "outputs": [
    {
     "data": {
      "image/png": "[encoded data removed]",
      "text/plain": [
       "<Figure size 432x288 with 1 Axes>"
      ]
     },
     "metadata": {
      "needs_background": "light"
     },
     "output_type": "display_data"
    },
    {
     "data": {
      "image/png": "[encoded data removed]",
      "text/plain": [
       "<Figure size 432x288 with 1 Axes>"
      ]
     },
     "metadata": {
      "needs_background": "light"
     },
     "output_type": "display_data"
    }
   ],
   "source": [
    "# Self Supervised Training Progress\n",
    "\n",
    "plt.plot(schedule_hist, label='learning rate')\n",
    "plt.legend()\n",
    "plt.show()\n",
    "\n",
    "plt.plot(loss_hist, label='loss')\n",
    "plt.legend()\n",
    "plt.show()"
   ]
  },
  {
   "cell_type": "code",
   "execution_count": 13,
   "id": "dbc2fcf6",
   "metadata": {},
   "outputs": [
    {
     "name": "stdout",
     "output_type": "stream",
     "text": [
      "Training results with the original head\n",
      "Progress: [████████████████████████████████████████] 100.0% - Elapsed time 159:07 min   \n",
      "\n"
     ]
    },
    {
     "data": {
      "image/png": "[encoded data removed]",
      "text/plain": [
       "<Figure size 432x288 with 1 Axes>"
      ]
     },
     "metadata": {
      "needs_background": "light"
     },
     "output_type": "display_data"
    },
    {
     "data": {
      "image/png": "[encoded data removed]",
      "text/plain": [
       "<Figure size 432x288 with 1 Axes>"
      ]
     },
     "metadata": {
      "needs_background": "light"
     },
     "output_type": "display_data"
    },
    {
     "name": "stdout",
     "output_type": "stream",
     "text": [
      "max accuracy: 0.3969\n",
      "\n",
      "\n",
      "Training results with randomly initialized head\n",
      "Progress: [████████████████████████████████████████] 100.0% - Elapsed time 161:14 min   \n",
      "\n"
     ]
    },
    {
     "data": {
      "image/png": "[encoded data removed]",
      "text/plain": [
       "<Figure size 432x288 with 1 Axes>"
      ]
     },
     "metadata": {
      "needs_background": "light"
     },
     "output_type": "display_data"
    },
    {
     "data": {
      "image/png": "[encoded data removed]",
      "text/plain": [
       "<Figure size 432x288 with 1 Axes>"
      ]
     },
     "metadata": {
      "needs_background": "light"
     },
     "output_type": "display_data"
    },
    {
     "name": "stdout",
     "output_type": "stream",
     "text": [
      "max accuracy: 0.6792\n"
     ]
    }
   ],
   "source": [
    "# Fine Tuning Self Supervised Model with Supervised Learning\n",
    "\n",
    "import copy\n",
    "\n",
    "# creating duplicate models for finetuning\n",
    "model_same_head= copy.deepcopy(model)\n",
    "model_new_head = copy.deepcopy(model)\n",
    "\n",
    "# replacing the projection head with a randomly initialized head for one of the models\n",
    "model_new_head.head = Head()\n",
    "\n",
    "# training models\n",
    "print('Training results with the original head')\n",
    "same_head_maxacc= supervised_train(model_same_head, early_stop=True)\n",
    "\n",
    "print('\\n\\nTraining results with randomly initialized head')\n",
    "new_head_maxacc = supervised_train(model_new_head, early_stop=True)"
   ]
  },
  {
   "cell_type": "code",
   "execution_count": null,
   "id": "7ea8585c",
   "metadata": {},
   "outputs": [],
   "source": []
  },
  {
   "cell_type": "code",
   "execution_count": null,
   "id": "b79da3a5",
   "metadata": {},
   "outputs": [],
   "source": [
    "\"\"\"\n",
    "These results are purely demonstrative; there was no significant hyperparameter optimization which would \n",
    "be necessary in production. However, this notebook does support the theoretical utility of self supervision, \n",
    "and the importance of careful usage of the projection head.\n",
    "\"\"\"\n",
    "\n",
    "# https://towardsdatascience.com/self-supervised-learning-using-projection-heads-b77af3911d33"
   ]
  }
 ],
 "metadata": {
  "kernelspec": {
   "display_name": "Python 3",
   "language": "python",
   "name": "python3"
  },
  "language_info": {
   "codemirror_mode": {
    "name": "ipython",
    "version": 3
   },
   "file_extension": ".py",
   "mimetype": "text/x-python",
   "name": "python",
   "nbconvert_exporter": "python",
   "pygments_lexer": "ipython3",
   "version": "3.8.8"
  }
 },
 "nbformat": 4,
 "nbformat_minor": 5
}
